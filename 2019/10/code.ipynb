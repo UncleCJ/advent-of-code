{
 "cells": [
  {
   "attachments": {},
   "cell_type": "markdown",
   "metadata": {},
   "source": [
    "# Day 10: Monitoring Station\n",
    "\n",
    "[*Advent of Code 2019 day 10*](https://adventofcode.com/2019/day/10) and [*solution megathread*](https://redd.it/e8m1z3)\n",
    "\n",
    "[![nbviewer](https://raw.githubusercontent.com/jupyter/design/master/logos/Badges/nbviewer_badge.svg)](https://nbviewer.jupyter.org/github/UncleCJ/advent-of-code/blob/cj/2019/10/code.ipynb) [![Binder](https://mybinder.org/badge_logo.svg)](https://mybinder.org/v2/gh/UncleCJ/advent-of-code/cj?filepath=2019%2F10%2Fcode.ipynb)"
   ]
  },
  {
   "cell_type": "code",
   "execution_count": 1,
   "metadata": {},
   "outputs": [
    {
     "name": "stderr",
     "output_type": "stream",
     "text": [
      "Version 1.0.4\n"
     ]
    }
   ],
   "source": [
    "import sys\n",
    "sys.path.append('../../')\n",
    "\n",
    "\n",
    "%load_ext nb_mypy\n",
    "%nb_mypy On"
   ]
  },
  {
   "cell_type": "code",
   "execution_count": 2,
   "metadata": {},
   "outputs": [
    {
     "name": "stdout",
     "output_type": "stream",
     "text": [
      "Writing 'downloaded' (dict) to file 'downloaded'.\n"
     ]
    }
   ],
   "source": [
    "import common\n",
    "\n",
    "\n",
    "downloaded = common.refresh()\n",
    "%store downloaded >downloaded\n",
    "\n",
    "%load_ext pycodestyle_magic\n",
    "%pycodestyle_on"
   ]
  },
  {
   "cell_type": "markdown",
   "metadata": {},
   "source": [
    "## Part One"
   ]
  },
  {
   "cell_type": "code",
   "execution_count": 3,
   "metadata": {},
   "outputs": [
    {
     "data": {
      "text/html": [
       "<h2>--- Day 10: Monitoring Station ---</h2><p>You fly into the asteroid belt and reach the Ceres monitoring station.  The Elves here have an emergency: they're having trouble tracking all of the asteroids and can't be sure they're safe.</p>\n",
       "<p>The Elves would like to build a new monitoring station in a nearby area of space; they hand you a map of all of the asteroids in that region (your puzzle input).</p>\n",
       "<p>The map indicates whether each position is empty (<code>.</code>) or contains an asteroid (<code>#</code>).  The asteroids are much smaller than they appear on the map, and every asteroid is exactly in the center of its marked position.  The asteroids can be described with <code>X,Y</code> coordinates where <code>X</code> is the distance from the left edge and <code>Y</code> is the distance from the top edge (so the top-left corner is <code>0,0</code> and the position immediately to its right is <code>1,0</code>).</p>\n",
       "<p>Your job is to figure out which asteroid would be the best place to build a <em>new monitoring station</em>. A monitoring station can <em>detect</em> any asteroid to which it has <em>direct line of sight</em> - that is, there cannot be another asteroid <em>exactly</em> between them. This line of sight can be at any angle, not just lines aligned to the grid or <span title=\"The Elves on Ceres are clearly not concerned with honor.\">diagonally</span>. The <em>best</em> location is the asteroid that can <em>detect</em> the largest number of other asteroids.</p>\n",
       "<p>For example, consider the following map:</p>\n",
       "<pre><code>.#..#\n",
       ".....\n",
       "#####\n",
       "....#\n",
       "...<em>#</em>#\n",
       "</code></pre>\n",
       "<p>The best location for a new monitoring station on this map is the highlighted asteroid at <code>3,4</code> because it can detect <code>8</code> asteroids, more than any other location. (The only asteroid it cannot detect is the one at <code>1,0</code>; its view of this asteroid is blocked by the asteroid at <code>2,2</code>.) All other asteroids are worse locations; they can detect <code>7</code> or fewer other asteroids. Here is the number of other asteroids a monitoring station on each asteroid could detect:</p>\n",
       "<pre><code>.7..7\n",
       ".....\n",
       "67775\n",
       "....7\n",
       "...87\n",
       "</code></pre>\n",
       "<p>Here is an asteroid (<code>#</code>) and some examples of the ways its line of sight might be blocked. If there were another asteroid at the location of a capital letter, the locations marked with the corresponding lowercase letter would be blocked and could not be detected:</p>\n",
       "<pre><code>#.........\n",
       "...A......\n",
       "...B..a...\n",
       ".EDCG....a\n",
       "..F.c.b...\n",
       ".....c....\n",
       "..efd.c.gb\n",
       ".......c..\n",
       "....f...c.\n",
       "...e..d..c\n",
       "</code></pre>\n",
       "<p>Here are some larger examples:</p>\n",
       "<ul>\n",
       "<li><p>Best is <code>5,8</code> with <code>33</code> other asteroids detected:</p>\n",
       "<pre><code>......#.#.\n",
       "#..#.#....\n",
       "..#######.\n",
       ".#.#.###..\n",
       ".#..#.....\n",
       "..#....#.#\n",
       "#..#....#.\n",
       ".##.#..###\n",
       "##...<em>#</em>..#.\n",
       ".#....####\n",
       "</code></pre></li>\n",
       "<li><p>Best is <code>1,2</code> with <code>35</code> other asteroids detected:</p>\n",
       "<pre><code>#.#...#.#.\n",
       ".###....#.\n",
       ".<em>#</em>....#...\n",
       "##.#.#.#.#\n",
       "....#.#.#.\n",
       ".##..###.#\n",
       "..#...##..\n",
       "..##....##\n",
       "......#...\n",
       ".####.###.\n",
       "</code></pre></li>\n",
       "<li><p>Best is <code>6,3</code> with <code>41</code> other asteroids detected:</p>\n",
       "<pre><code>.#..#..###\n",
       "####.###.#\n",
       "....###.#.\n",
       "..###.<em>#</em>#.#\n",
       "##.##.#.#.\n",
       "....###..#\n",
       "..#.#..#.#\n",
       "#..#.#.###\n",
       ".##...##.#\n",
       ".....#.#..\n",
       "</code></pre></li>\n",
       "<li><p>Best is <code>11,13</code> with <code>210</code> other asteroids detected:</p>\n",
       "<pre><code>.#..##.###...#######\n",
       "##.############..##.\n",
       ".#.######.########.#\n",
       ".###.#######.####.#.\n",
       "#####.##.#.##.###.##\n",
       "..#####..#.#########\n",
       "####################\n",
       "#.####....###.#.#.##\n",
       "##.#################\n",
       "#####.##.###..####..\n",
       "..######..##.#######\n",
       "####.##.####...##..#\n",
       ".#####..#.######.###\n",
       "##...#.####<em>#</em>#####...\n",
       "#.##########.#######\n",
       ".####.#.###.###.#.##\n",
       "....##.##.###..#####\n",
       ".#.#.###########.###\n",
       "#.#.#.#####.####.###\n",
       "###.##.####.##.#..##\n",
       "</code></pre></li>\n",
       "</ul>\n",
       "<p>Find the best location for a new monitoring station.  <em>How many other asteroids can be detected from that location?</em></p>\n"
      ],
      "text/plain": [
       "<IPython.core.display.HTML object>"
      ]
     },
     "execution_count": 3,
     "metadata": {},
     "output_type": "execute_result"
    }
   ],
   "source": [
    "from IPython.display import HTML\n",
    "\n",
    "HTML(downloaded['part1'])"
   ]
  },
  {
   "cell_type": "markdown",
   "metadata": {},
   "source": [
    "## Comments\n",
    "\n",
    "..."
   ]
  },
  {
   "cell_type": "code",
   "execution_count": 4,
   "metadata": {},
   "outputs": [],
   "source": [
    "testdata = \"\"\".#..#\n",
    ".....\n",
    "#####\n",
    "....#\n",
    "...##\"\"\".splitlines()\n",
    "\n",
    "testdata2 = \"\"\"......#.#.\n",
    "#..#.#....\n",
    "..#######.\n",
    ".#.#.###..\n",
    ".#..#.....\n",
    "..#....#.#\n",
    "#..#....#.\n",
    ".##.#..###\n",
    "##...#..#.\n",
    ".#....####\"\"\".splitlines()\n",
    "\n",
    "testdata3 = \"\"\"#.#...#.#.\n",
    ".###....#.\n",
    ".#....#...\n",
    "##.#.#.#.#\n",
    "....#.#.#.\n",
    ".##..###.#\n",
    "..#...##..\n",
    "..##....##\n",
    "......#...\n",
    ".####.###.\"\"\".splitlines()\n",
    "\n",
    "testdata4 = \"\"\".#..#..###\n",
    "####.###.#\n",
    "....###.#.\n",
    "..###.##.#\n",
    "##.##.#.#.\n",
    "....###..#\n",
    "..#.#..#.#\n",
    "#..#.#.###\n",
    ".##...##.#\n",
    ".....#.#..\"\"\".splitlines()\n",
    "\n",
    "testdata5 = \"\"\".#..##.###...#######\n",
    "##.############..##.\n",
    ".#.######.########.#\n",
    ".###.#######.####.#.\n",
    "#####.##.#.##.###.##\n",
    "..#####..#.#########\n",
    "####################\n",
    "#.####....###.#.#.##\n",
    "##.#################\n",
    "#####.##.###..####..\n",
    "..######..##.#######\n",
    "####.##.####...##..#\n",
    ".#####..#.######.###\n",
    "##...#.##########...\n",
    "#.##########.#######\n",
    ".####.#.###.###.#.##\n",
    "....##.##.###..#####\n",
    ".#.#.###########.###\n",
    "#.#.#.#####.####.###\n",
    "###.##.####.##.#..##\"\"\".splitlines()\n",
    "\n",
    "inputdata = downloaded['input'].splitlines()\n",
    "# inputdata = open('input.txt', 'r').read().splitlines()"
   ]
  },
  {
   "cell_type": "code",
   "execution_count": 5,
   "metadata": {},
   "outputs": [
    {
     "name": "stdout",
     "output_type": "stream",
     "text": [
      "###..#.##.####.##..###.#.#..\n",
      "#..#..###..#.......####.....\n",
      "#.###.#.##..###.##..#.###.#.\n",
      "..#.##..##...#.#.###.##.####\n",
      ".#.##..####...####.###.##...\n",
      "##...###.#.##.##..###..#..#.\n",
      ".##..###...#....###.....##.#\n",
      "#..##...#..#.##..####.....#.\n",
      ".#..#.######.#..#..####....#\n",
      "#.##.##......#..#..####.##..\n",
      "##...#....#.#.##.#..#...##.#\n",
      "##.####.###...#.##........##\n",
      "......##.....#.###.##.#.#..#\n",
      ".###..#####.#..#...#...#.###\n",
      "..##.###..##.#.##.#.##......\n",
      "......##.#.#....#..##.#.####\n",
      "...##..#.#.#.....##.###...##\n",
      ".#.#..#.#....##..##.#..#.#..\n",
      "...#..###..##.####.#...#..##\n",
      "#.#......#.#..##..#...#.#..#\n",
      "..#.##.#......#.##...#..#.##\n",
      "#.##..#....#...#.##..#..#..#\n",
      "#..#.#.#.##..#..#.#.#...##..\n",
      ".#...#.........#..#....#.#.#\n",
      "..####.#..#..##.####.#.##.##\n",
      ".#.######......##..#.#.##.#.\n",
      ".#....####....###.#.#.#.####\n",
      "....####...##.#.#...#..#.##.\n"
     ]
    }
   ],
   "source": [
    "from IPython.display import display\n",
    "\n",
    "# display(f'{inputdata[:10]} ... {len(inputdata)=}')\n",
    "print('\\n'.join(inputdata))"
   ]
  },
  {
   "cell_type": "code",
   "execution_count": 6,
   "metadata": {},
   "outputs": [
    {
     "data": {
      "text/html": [
       "\n",
       "<p>To begin, <a href=\"10/input\" target=\"_blank\">get your puzzle input</a>.</p>\n",
       "<form method=\"post\" action=\"10/answer\"><input type=\"hidden\" name=\"level\" value=\"1\"/><p>Answer: <input type=\"text\" name=\"answer\" autocomplete=\"off\"/> <input type=\"submit\" value=\"[Submit]\"/></p></form>\n",
       "<p>You can also <span class=\"share\">[Share<span class=\"share-content\">on\n",
       "  <a href=\"https://twitter.com/intent/tweet?text=%22Monitoring+Station%22+%2D+Day+10+%2D+Advent+of+Code+2019&amp;url=https%3A%2F%2Fadventofcode%2Ecom%2F2019%2Fday%2F10&amp;related=ericwastl&amp;hashtags=AdventOfCode\" target=\"_blank\">Twitter</a>\n",
       "  <a href=\"javascript:void(0);\" onclick=\"var mastodon_instance=prompt('Mastodon Instance / Server Name?'); if(typeof mastodon_instance==='string' && mastodon_instance.length){this.href='https://'+mastodon_instance+'/share?text=%22Monitoring+Station%22+%2D+Day+10+%2D+Advent+of+Code+2019+%23AdventOfCode+https%3A%2F%2Fadventofcode%2Ecom%2F2019%2Fday%2F10'}else{return false;}\" target=\"_blank\">Mastodon</a\n",
       "></span>]</span> this puzzle.</p>\n"
      ],
      "text/plain": [
       "<IPython.core.display.HTML object>"
      ]
     },
     "execution_count": 6,
     "metadata": {},
     "output_type": "execute_result"
    }
   ],
   "source": [
    "HTML(downloaded['part1_footer'])"
   ]
  },
  {
   "cell_type": "markdown",
   "metadata": {},
   "source": [
    "## Part Two"
   ]
  },
  {
   "cell_type": "code",
   "execution_count": 11,
   "metadata": {},
   "outputs": [],
   "source": [
    "# HTML(downloaded['part2'])"
   ]
  },
  {
   "cell_type": "code",
   "execution_count": 12,
   "metadata": {},
   "outputs": [],
   "source": [
    "# HTML(downloaded['part2_footer'])"
   ]
  }
 ],
 "metadata": {
  "kernelspec": {
   "display_name": "venv",
   "language": "python",
   "name": "python3"
  },
  "language_info": {
   "codemirror_mode": {
    "name": "ipython",
    "version": 3
   },
   "file_extension": ".py",
   "mimetype": "text/x-python",
   "name": "python",
   "nbconvert_exporter": "python",
   "pygments_lexer": "ipython3",
   "version": "3.11.2"
  },
  "vscode": {
   "interpreter": {
    "hash": "953efd6badefc8bd539414deffff5d1ee9e359bc7a1650a157b4fbde293a1337"
   }
  }
 },
 "nbformat": 4,
 "nbformat_minor": 4
}

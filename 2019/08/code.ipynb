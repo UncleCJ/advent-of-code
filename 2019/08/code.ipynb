{
 "cells": [
  {
   "attachments": {},
   "cell_type": "markdown",
   "metadata": {},
   "source": [
    "# Day 8: Space Image Format\n",
    "\n",
    "[*Advent of Code 2019 day 8*](https://adventofcode.com/2019/day/8) and [*solution megathread*](http://redd.it/e7pkmt)\n",
    "\n",
    "[![nbviewer](https://raw.githubusercontent.com/jupyter/design/master/logos/Badges/nbviewer_badge.svg)](https://nbviewer.jupyter.org/github/UncleCJ/advent-of-code/blob/cj/2019/08/code.ipynb) [![Binder](https://mybinder.org/badge_logo.svg)](https://mybinder.org/v2/gh/UncleCJ/advent-of-code/cj?filepath=2019%2F08%2Fcode.ipynb)"
   ]
  },
  {
   "cell_type": "code",
   "execution_count": 1,
   "metadata": {},
   "outputs": [
    {
     "name": "stderr",
     "output_type": "stream",
     "text": [
      "Version 1.0.4\n"
     ]
    }
   ],
   "source": [
    "from IPython.display import HTML\n",
    "import sys\n",
    "sys.path.append('../../')\n",
    "\n",
    "\n",
    "%load_ext nb_mypy\n",
    "%nb_mypy On"
   ]
  },
  {
   "cell_type": "code",
   "execution_count": 2,
   "metadata": {},
   "outputs": [
    {
     "name": "stdout",
     "output_type": "stream",
     "text": [
      "Writing 'downloaded' (dict) to file 'downloaded'.\n"
     ]
    }
   ],
   "source": [
    "import common\n",
    "\n",
    "\n",
    "downloaded = common.refresh()\n",
    "%store downloaded >downloaded\n",
    "\n",
    "%load_ext pycodestyle_magic\n",
    "%pycodestyle_on"
   ]
  },
  {
   "cell_type": "markdown",
   "metadata": {},
   "source": [
    "## Part One"
   ]
  },
  {
   "cell_type": "code",
   "execution_count": 3,
   "metadata": {},
   "outputs": [
    {
     "data": {
      "text/html": [
       "<h2>--- Day 8: Space Image Format ---</h2><p><span title=\"I'm not sorry.\">The Elves' spirits are lifted when they realize you have an opportunity to reboot one of their Mars rovers, and so they are curious if you would spend a brief sojourn on Mars.</span> You land your ship near the rover.</p>\n",
       "<p>When you reach the rover, you discover that it's already in the process of rebooting! It's just waiting for someone to enter a <a href=\"https://en.wikipedia.org/wiki/BIOS\">BIOS</a> password. The Elf responsible for the rover takes a picture of the password (your puzzle input) and sends it to you via the Digital Sending Network.</p>\n",
       "<p>Unfortunately, images sent via the Digital Sending Network aren't encoded with any normal encoding; instead, they're encoded in a special Space Image Format.  None of the Elves seem to remember why this is the case. They send you the instructions to decode it.</p>\n",
       "<p>Images are sent as a series of digits that each represent the color of a single pixel.  The digits fill each row of the image left-to-right, then move downward to the next row, filling rows top-to-bottom until every pixel of the image is filled.</p>\n",
       "<p>Each image actually consists of a series of identically-sized <em>layers</em> that are filled in this way. So, the first digit corresponds to the top-left pixel of the first layer, the second digit corresponds to the pixel to the right of that on the same layer, and so on until the last digit, which corresponds to the bottom-right pixel of the last layer.</p>\n",
       "<p>For example, given an image <code>3</code> pixels wide and <code>2</code> pixels tall, the image data <code>123456789012</code> corresponds to the following image layers:</p>\n",
       "<pre><code>Layer 1: 123\n",
       "         456\n",
       "\n",
       "Layer 2: 789\n",
       "         012\n",
       "</code></pre>\n",
       "<p>The image you received is <em><code>25</code> pixels wide and <code>6</code> pixels tall</em>.</p>\n",
       "<p>To make sure the image wasn't corrupted during transmission, the Elves would like you to find the layer that contains the <em>fewest <code>0</code> digits</em>.  On that layer, what is <em>the number of <code>1</code> digits multiplied by the number of <code>2</code> digits?</em></p>\n"
      ],
      "text/plain": [
       "<IPython.core.display.HTML object>"
      ]
     },
     "execution_count": 3,
     "metadata": {},
     "output_type": "execute_result"
    }
   ],
   "source": [
    "from IPython.display import HTML\n",
    "\n",
    "HTML(downloaded['part1'])"
   ]
  },
  {
   "cell_type": "markdown",
   "metadata": {},
   "source": [
    "## Comments\n",
    "\n",
    "..."
   ]
  },
  {
   "cell_type": "code",
   "execution_count": 4,
   "metadata": {},
   "outputs": [],
   "source": [
    "testdata = ((3, 2), \"123456789012\")\n",
    "\n",
    "inputdata = downloaded['input']\n",
    "# inputdata = open('input.txt', 'r').read().splitlines()"
   ]
  },
  {
   "cell_type": "code",
   "execution_count": 5,
   "metadata": {},
   "outputs": [
    {
     "data": {
      "text/plain": [
       "'2222220220 ... len(inputdata)=15000'"
      ]
     },
     "metadata": {},
     "output_type": "display_data"
    }
   ],
   "source": [
    "from IPython.display import display\n",
    "\n",
    "display(f'{inputdata[:10]} ... {len(inputdata)=}')"
   ]
  },
  {
   "cell_type": "code",
   "execution_count": 6,
   "metadata": {},
   "outputs": [],
   "source": [
    "from typing import List\n",
    "\n",
    "\n",
    "def splitlayers(data: str, pixels: int) -> List[str]:\n",
    "    layers = len(data) // pixels\n",
    "    return [data[i * pixels:(i + 1) * pixels] for i in range(layers)]\n",
    "\n",
    "\n",
    "def layer_least_zeroes(data: str, width: int, height: int) -> str:\n",
    "    pixels = width * height\n",
    "    bestcount = 9999\n",
    "    bestlayer = \"\"\n",
    "    for thislayer in splitlayers(data, pixels):\n",
    "        zerocount = thislayer.count('0')\n",
    "        if zerocount < bestcount:\n",
    "            bestcount = zerocount\n",
    "            bestlayer = thislayer\n",
    "    return bestlayer\n",
    "\n",
    "\n",
    "def evaluate_layer(layer: str) -> int:\n",
    "    return layer.count('1') * layer.count('2')"
   ]
  },
  {
   "cell_type": "code",
   "execution_count": 7,
   "metadata": {},
   "outputs": [
    {
     "data": {
      "text/plain": [
       "2080"
      ]
     },
     "execution_count": 7,
     "metadata": {},
     "output_type": "execute_result"
    }
   ],
   "source": [
    "bestlayer = layer_least_zeroes(inputdata, 25, 6)\n",
    "evaluate_layer(bestlayer)"
   ]
  },
  {
   "cell_type": "code",
   "execution_count": 8,
   "metadata": {},
   "outputs": [
    {
     "data": {
      "text/html": [
       "\n",
       "<p>Your puzzle answer was <code>2080</code>.</p>"
      ],
      "text/plain": [
       "<IPython.core.display.HTML object>"
      ]
     },
     "execution_count": 8,
     "metadata": {},
     "output_type": "execute_result"
    }
   ],
   "source": [
    "HTML(downloaded['part1_footer'])"
   ]
  },
  {
   "cell_type": "markdown",
   "metadata": {},
   "source": [
    "## Part Two"
   ]
  },
  {
   "cell_type": "code",
   "execution_count": 9,
   "metadata": {},
   "outputs": [
    {
     "data": {
      "text/html": [
       "<h2 id=\"part2\">--- Part Two ---</h2><p>Now you're ready to decode the image. The image is rendered by stacking the layers and aligning the pixels with the same positions in each layer. The digits indicate the color of the corresponding pixel: <code>0</code> is black, <code>1</code> is white, and <code>2</code> is transparent.</p>\n",
       "<p>The layers are rendered with the first layer in front and the last layer in back. So, if a given position has a transparent pixel in the first and second layers, a black pixel in the third layer, and a white pixel in the fourth layer, the final image would have a <em>black</em> pixel at that position.</p>\n",
       "<p>For example, given an image <code>2</code> pixels wide and <code>2</code> pixels tall, the image data <code>0222112222120000</code> corresponds to the following image layers:</p>\n",
       "<pre><code>Layer 1: <em>0</em>2\n",
       "         22\n",
       "\n",
       "Layer 2: 1<em>1</em>\n",
       "         22\n",
       "\n",
       "Layer 3: 22\n",
       "         <em>1</em>2\n",
       "\n",
       "Layer 4: 00\n",
       "         0<em>0</em>\n",
       "</code></pre>\n",
       "<p>Then, the full image can be found by determining the top visible pixel in each position:</p>\n",
       "<ul>\n",
       "<li>The top-left pixel is <em>black</em> because the top layer is <code>0</code>.</li>\n",
       "<li>The top-right pixel is <em>white</em> because the top layer is <code>2</code> (transparent), but the second layer is <code>1</code>.</li>\n",
       "<li>The bottom-left pixel is <em>white</em> because the top two layers are <code>2</code>, but the third layer is <code>1</code>.</li>\n",
       "<li>The bottom-right pixel is <em>black</em> because the only visible pixel in that position is <code>0</code> (from layer 4).</li>\n",
       "</ul>\n",
       "<p>So, the final image looks like this:</p>\n",
       "<pre><code>01\n",
       "10\n",
       "</code></pre>\n",
       "<p><em>What message is produced after decoding your image?</em></p>\n"
      ],
      "text/plain": [
       "<IPython.core.display.HTML object>"
      ]
     },
     "execution_count": 9,
     "metadata": {},
     "output_type": "execute_result"
    }
   ],
   "source": [
    "HTML(downloaded['part2'])"
   ]
  },
  {
   "cell_type": "code",
   "execution_count": 10,
   "metadata": {},
   "outputs": [],
   "source": [
    "testdata2 = '0222112222120000'"
   ]
  },
  {
   "cell_type": "code",
   "execution_count": 11,
   "metadata": {},
   "outputs": [],
   "source": [
    "def render_pixel(pixel: str) -> str:\n",
    "    firstblack = pixel.find('0')\n",
    "    firstwhite = pixel.find('1')\n",
    "    if (firstwhite != -1 and firstwhite < firstblack) or firstblack == -1:\n",
    "        return '#'\n",
    "    return '.'\n",
    "\n",
    "\n",
    "def render_pixels(pixels: List[str], width: int, height: int) -> List[str]:\n",
    "    output = []\n",
    "    for row in range(height):\n",
    "        output.append(\n",
    "            ''.join(\n",
    "                render_pixel(pixel)\n",
    "                for pixel in pixels[row * width:(row + 1) * width]\n",
    "            ))\n",
    "    return output\n",
    "\n",
    "\n",
    "def mangle_layers(data: str, width: int, height: int) -> List[str]:\n",
    "    pixels = width * height\n",
    "    all_layers = splitlayers(data, pixels)\n",
    "    return [\n",
    "        ''.join(all_layers[i][j] for i in range(len(all_layers)))\n",
    "        for j in range(len(all_layers[0]))\n",
    "    ]\n",
    "\n",
    "\n",
    "def render_layers(data: str, width: int, height: int) -> List[str]:\n",
    "    pixels = mangle_layers(data, width, height)\n",
    "    return render_pixels(pixels, width, height)"
   ]
  },
  {
   "cell_type": "code",
   "execution_count": 12,
   "metadata": {},
   "outputs": [
    {
     "name": "stdout",
     "output_type": "stream",
     "text": [
      ".#\n",
      "#.\n"
     ]
    }
   ],
   "source": [
    "print('\\n'.join(render_layers(testdata2, 2, 2)))"
   ]
  },
  {
   "cell_type": "code",
   "execution_count": 13,
   "metadata": {},
   "outputs": [
    {
     "name": "stdout",
     "output_type": "stream",
     "text": [
      ".##..#..#.###...##..#...#\n",
      "#..#.#..#.#..#.#..#.#...#\n",
      "#..#.#..#.#..#.#.....#.#.\n",
      "####.#..#.###..#......#..\n",
      "#..#.#..#.#.#..#..#...#..\n",
      "#..#..##..#..#..##....#..\n"
     ]
    }
   ],
   "source": [
    "print('\\n'.join(render_layers(inputdata, 25, 6)))"
   ]
  },
  {
   "cell_type": "code",
   "execution_count": 14,
   "metadata": {},
   "outputs": [
    {
     "data": {
      "text/html": [
       "\n",
       "<p>Your puzzle answer was <code>AURCY</code>.</p><p class=\"day-success\">Both parts of this puzzle are complete! They provide two gold stars: **</p>\n",
       "<p>At this point, you should <a href=\"/2019\">return to your Advent calendar</a> and try another puzzle.</p>\n",
       "<p>If you still want to see it, you can <a href=\"8/input\" target=\"_blank\">get your puzzle input</a>.</p>\n",
       "<p>You can also <span class=\"share\">[Share<span class=\"share-content\">on\n",
       "  <a href=\"https://twitter.com/intent/tweet?text=I%27ve+completed+%22Space+Image+Format%22+%2D+Day+8+%2D+Advent+of+Code+2019&amp;url=https%3A%2F%2Fadventofcode%2Ecom%2F2019%2Fday%2F8&amp;related=ericwastl&amp;hashtags=AdventOfCode\" target=\"_blank\">Twitter</a>\n",
       "  <a href=\"javascript:void(0);\" onclick=\"var mastodon_instance=prompt('Mastodon Instance / Server Name?'); if(typeof mastodon_instance==='string' && mastodon_instance.length){this.href='https://'+mastodon_instance+'/share?text=I%27ve+completed+%22Space+Image+Format%22+%2D+Day+8+%2D+Advent+of+Code+2019+%23AdventOfCode+https%3A%2F%2Fadventofcode%2Ecom%2F2019%2Fday%2F8'}else{return false;}\" target=\"_blank\">Mastodon</a\n",
       "></span>]</span> this puzzle.</p>\n"
      ],
      "text/plain": [
       "<IPython.core.display.HTML object>"
      ]
     },
     "execution_count": 14,
     "metadata": {},
     "output_type": "execute_result"
    }
   ],
   "source": [
    "HTML(downloaded['part2_footer'])"
   ]
  }
 ],
 "metadata": {
  "kernelspec": {
   "display_name": "venv",
   "language": "python",
   "name": "python3"
  },
  "language_info": {
   "codemirror_mode": {
    "name": "ipython",
    "version": 3
   },
   "file_extension": ".py",
   "mimetype": "text/x-python",
   "name": "python",
   "nbconvert_exporter": "python",
   "pygments_lexer": "ipython3",
   "version": "3.11.2"
  },
  "vscode": {
   "interpreter": {
    "hash": "953efd6badefc8bd539414deffff5d1ee9e359bc7a1650a157b4fbde293a1337"
   }
  }
 },
 "nbformat": 4,
 "nbformat_minor": 4
}

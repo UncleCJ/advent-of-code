{
 "cells": [
  {
   "cell_type": "markdown",
   "metadata": {},
   "source": [
    "# Day 2: Red-Nosed Reports\n",
    "\n",
    "[*Advent of Code 2024 day 2*](https://adventofcode.com/2024/day/2) and [*solution megathread*](https://redd.it/1h4ncyr)\n",
    "\n",
    "[![nbviewer](https://raw.githubusercontent.com/jupyter/design/master/logos/Badges/nbviewer_badge.svg)](https://nbviewer.jupyter.org/github/UncleCJ/advent-of-code/blob/cj/2024/02/code.ipynb) [![Binder](https://mybinder.org/badge_logo.svg)](https://mybinder.org/v2/gh/UncleCJ/advent-of-code/cj?filepath=2024%2F02%2Fcode.ipynb)"
   ]
  },
  {
   "cell_type": "code",
   "execution_count": 1,
   "metadata": {},
   "outputs": [],
   "source": [
    "from IPython.display import HTML\n",
    "import sys\n",
    "sys.path.append('../../')\n",
    "\n",
    "\n",
    "# %load_ext nb_mypy\n",
    "# %nb_mypy On"
   ]
  },
  {
   "cell_type": "code",
   "execution_count": 2,
   "metadata": {},
   "outputs": [
    {
     "name": "stdout",
     "output_type": "stream",
     "text": [
      "Writing 'downloaded' (dict) to file 'downloaded'.\n"
     ]
    }
   ],
   "source": [
    "import common\n",
    "\n",
    "\n",
    "downloaded = common.refresh()\n",
    "%store downloaded >downloaded\n",
    "\n",
    "# %load_ext pycodestyle_magic\n",
    "# %pycodestyle_on"
   ]
  },
  {
   "cell_type": "code",
   "execution_count": 3,
   "metadata": {},
   "outputs": [
    {
     "data": {
      "text/html": [
       "<h2>--- Day 2: Red-Nosed Reports ---</h2><p>Fortunately, the first location The Historians want to search isn't a long walk from the Chief Historian's office.</p>\n",
       "<p>While the <a href=\"/2015/day/19\">Red-Nosed Reindeer nuclear fusion/fission plant</a> appears to contain no sign of the Chief Historian, the engineers there run up to you as soon as they see you. Apparently, they <em>still</em> talk about the time Rudolph was saved through molecular synthesis from a single electron.</p>\n",
       "<p>They're quick to add that - since you're already here - they'd really appreciate your help analyzing some unusual data from the Red-Nosed reactor. You turn to check if The Historians are waiting for you, but they seem to have already divided into groups that are currently searching every corner of the facility. You offer to help with the unusual data.</p>\n",
       "<p>The unusual data (your puzzle input) consists of many <em>reports</em>, one report per line. Each report is a list of numbers called <em>levels</em> that are separated by spaces. For example:</p>\n",
       "<pre><code>7 6 4 2 1\n",
       "1 2 7 8 9\n",
       "9 7 6 2 1\n",
       "1 3 2 4 5\n",
       "8 6 4 4 1\n",
       "1 3 6 7 9\n",
       "</code></pre>\n",
       "<p>This example data contains six reports each containing five levels.</p>\n",
       "<p>The engineers are trying to figure out which reports are <em>safe</em>. The Red-Nosed reactor safety systems can only tolerate levels that are either gradually increasing or gradually decreasing. So, a report only counts as safe if both of the following are true:</p>\n",
       "<ul>\n",
       "<li>The levels are either <em>all increasing</em> or <em>all decreasing</em>.</li>\n",
       "<li>Any two adjacent levels differ by <em>at least one</em> and <em>at most three</em>.</li>\n",
       "</ul>\n",
       "<p>In the example above, the reports can be found safe or unsafe by checking those rules:</p>\n",
       "<ul>\n",
       "<li><code>7 6 4 2 1</code>: <em>Safe</em> because the levels are all decreasing by 1 or 2.</li>\n",
       "<li><code>1 2 7 8 9</code>: <em>Unsafe</em> because <code>2 7</code> is an increase of 5.</li>\n",
       "<li><code>9 7 6 2 1</code>: <em>Unsafe</em> because <code>6 2</code> is a decrease of 4.</li>\n",
       "<li><code>1 3 2 4 5</code>: <em>Unsafe</em> because <code>1 3</code> is increasing but <code>3 2</code> is decreasing.</li>\n",
       "<li><code>8 6 4 4 1</code>: <em>Unsafe</em> because <code>4 4</code> is neither an increase or a decrease.</li>\n",
       "<li><code>1 3 6 7 9</code>: <em>Safe</em> because the levels are all increasing by 1, 2, or 3.</li>\n",
       "</ul>\n",
       "<p>So, in this example, <code><em>2</em></code> reports are <em>safe</em>.</p>\n",
       "<p>Analyze the unusual data from the engineers. <em>How many reports are safe?</em></p>\n"
      ],
      "text/plain": [
       "<IPython.core.display.HTML object>"
      ]
     },
     "execution_count": 3,
     "metadata": {},
     "output_type": "execute_result"
    }
   ],
   "source": [
    "from IPython.display import HTML\n",
    "\n",
    "HTML(downloaded['part1'])"
   ]
  },
  {
   "cell_type": "code",
   "execution_count": 4,
   "metadata": {},
   "outputs": [],
   "source": [
    "part1_example_input = '''...#......\n",
    ".......#..\n",
    "#.........\n",
    "..........\n",
    "......#...\n",
    ".#........\n",
    ".........#\n",
    "..........\n",
    ".......#..\n",
    "#...#.....'''"
   ]
  },
  {
   "cell_type": "code",
   "execution_count": 5,
   "metadata": {},
   "outputs": [
    {
     "data": {
      "text/plain": [
       "([(0, 3), (1, 7), (2, 0), (4, 6), (5, 1), (6, 9), (8, 7), (9, 0), (9, 4)],\n",
       " [0, 1, 2, 4, 5, 6, 8, 9],\n",
       " [0, 1, 3, 4, 6, 7, 9])"
      ]
     },
     "execution_count": 5,
     "metadata": {},
     "output_type": "execute_result"
    }
   ],
   "source": [
    "def parse_input(lines):\n",
    "    nonempty_rows = set()\n",
    "    nonempty_cols = set()\n",
    "    galaxies = []\n",
    "    for row, line in zip(range(len(lines)), lines):\n",
    "        for col in range(len(line)):\n",
    "            if line[col] == '#':\n",
    "                nonempty_rows.add(row)\n",
    "                nonempty_cols.add(col)\n",
    "                galaxies.append((row, col))\n",
    "    return galaxies, list(nonempty_rows), list(nonempty_cols)\n",
    "\n",
    "parse_input(part1_example_input.splitlines())"
   ]
  },
  {
   "cell_type": "code",
   "execution_count": 6,
   "metadata": {},
   "outputs": [
    {
     "data": {
      "text/plain": [
       "[(0, 3), (1, 7), (2, 0), (4, 6), (5, 1), (6, 9), (8, 7), (9, 0), (9, 4)]"
      ]
     },
     "execution_count": 6,
     "metadata": {},
     "output_type": "execute_result"
    }
   ],
   "source": [
    "def expand_universe(galaxies, nonempty_rows, nonempty_cols, expansion_factor=1):\n",
    "    def find_empty(nonempty_sorted):\n",
    "        previous = -1\n",
    "        found_empty = []\n",
    "        for i in nonempty_sorted:\n",
    "            if i - previous > 1:\n",
    "                found_empty += range(previous+1, i)\n",
    "            previous = i\n",
    "        return found_empty\n",
    "    \n",
    "    def expand_vector(nonempty_sorted, empty_sorted):\n",
    "        # Here I'm not entirely happy with iterating through the entire `empty_sorted`\n",
    "        # to see which are smaller, but as we only do it for rows and columns rather\n",
    "        # than each galaxy, it is fine\n",
    "        return [i + (expansion_factor-1)*sum(i > j for j in empty_sorted) for i in nonempty_sorted]\n",
    "    \n",
    "    def expand_galaxy(old_row, old_col, rowmapping, colmapping):\n",
    "        return rowmapping[old_row], colmapping[old_col]\n",
    "        \n",
    "    empty_rows = find_empty(nonempty_rows)\n",
    "    empty_cols = find_empty(nonempty_cols)\n",
    "    rowmapping = dict(zip(nonempty_rows, expand_vector(nonempty_rows, empty_rows)))\n",
    "    colmapping = dict(zip(nonempty_cols, expand_vector(nonempty_cols, empty_cols)))\n",
    "    return [expand_galaxy(*galaxy, rowmapping, colmapping) for galaxy in galaxies]\n",
    "\n",
    "expand_universe(*parse_input(part1_example_input.splitlines()))"
   ]
  },
  {
   "cell_type": "code",
   "execution_count": 7,
   "metadata": {},
   "outputs": [
    {
     "data": {
      "text/plain": [
       "292"
      ]
     },
     "execution_count": 7,
     "metadata": {},
     "output_type": "execute_result"
    }
   ],
   "source": [
    "def galaxies_distances(galaxy, galaxies):\n",
    "    # print(f\"{galaxy=}, {galaxies=}\")\n",
    "    if not galaxy:\n",
    "        return galaxies_distances(galaxies[0], galaxies[1:])\n",
    "    head = {f\"{galaxy} - {row, col}\": abs(row - galaxy[0]) + abs(col - galaxy[1]) for row, col in galaxies}\n",
    "    if galaxies:\n",
    "        head.update(galaxies_distances(galaxies[0], galaxies[1:]))\n",
    "    return head\n",
    "\n",
    "sum(galaxies_distances(None, expand_universe(*parse_input(part1_example_input.splitlines()))).values())\n",
    "# sum(galaxies_distances(None, expand_universe(*parse_input(downloaded['input'].splitlines()))).values())"
   ]
  },
  {
   "cell_type": "code",
   "execution_count": 4,
   "metadata": {
    "scrolled": true
   },
   "outputs": [],
   "source": [
    "# HTML(downloaded['part2'])"
   ]
  },
  {
   "cell_type": "code",
   "execution_count": 9,
   "metadata": {},
   "outputs": [
    {
     "name": "stdout",
     "output_type": "stream",
     "text": [
      "1030\n",
      "8410\n"
     ]
    }
   ],
   "source": [
    "print(sum(galaxies_distances(None, expand_universe(*parse_input(part1_example_input.splitlines()), expansion_factor=10)).values()))\n",
    "print(sum(galaxies_distances(None, expand_universe(*parse_input(part1_example_input.splitlines()), expansion_factor=100)).values()))\n",
    "# sum(galaxies_distances(None, expand_universe(*parse_input(downloaded['input'].splitlines()), expansion_factor=1000000)).values())"
   ]
  }
 ],
 "metadata": {
  "kernelspec": {
   "display_name": ".python3.12-venv",
   "language": "python",
   "name": "python3"
  },
  "language_info": {
   "codemirror_mode": {
    "name": "ipython",
    "version": 3
   },
   "file_extension": ".py",
   "mimetype": "text/x-python",
   "name": "python",
   "nbconvert_exporter": "python",
   "pygments_lexer": "ipython3",
   "version": "3.12.7"
  }
 },
 "nbformat": 4,
 "nbformat_minor": 2
}

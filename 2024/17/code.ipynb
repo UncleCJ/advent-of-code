{
 "cells": [
  {
   "cell_type": "markdown",
   "metadata": {},
   "source": [
    "# Day 17: Chronospatial Computer\n",
    "\n",
    "[*Advent of Code 2024 day 17*](https://adventofcode.com/2024/day/17) and [*solution megathread*](https://redd.it/1hg38ah)\n",
    "\n",
    "[![nbviewer](https://raw.githubusercontent.com/jupyter/design/master/logos/Badges/nbviewer_badge.svg)](https://nbviewer.jupyter.org/github/UncleCJ/advent-of-code/blob/cj/2024/17/code.ipynb) [![Binder](https://mybinder.org/badge_logo.svg)](https://mybinder.org/v2/gh/UncleCJ/advent-of-code/cj?filepath=2024%2F17%2Fcode.ipynb)"
   ]
  },
  {
   "cell_type": "code",
   "execution_count": 1,
   "metadata": {},
   "outputs": [],
   "source": [
    "from IPython.display import HTML\n",
    "import sys\n",
    "sys.path.append('../../')\n",
    "\n",
    "\n",
    "# %load_ext nb_mypy\n",
    "# %nb_mypy On"
   ]
  },
  {
   "cell_type": "code",
   "execution_count": 2,
   "metadata": {},
   "outputs": [
    {
     "name": "stdout",
     "output_type": "stream",
     "text": [
      "Writing 'downloaded' (dict) to file 'downloaded'.\n"
     ]
    }
   ],
   "source": [
    "import common\n",
    "\n",
    "\n",
    "downloaded = common.refresh()\n",
    "%store downloaded >downloaded\n",
    "\n",
    "# %load_ext pycodestyle_magic\n",
    "# %pycodestyle_on"
   ]
  },
  {
   "cell_type": "code",
   "execution_count": 3,
   "metadata": {},
   "outputs": [
    {
     "data": {
      "text/html": [
       "<h2>--- Day 17: Chronospatial Computer ---</h2><p>The Historians push the button on their strange device, but this time, you all just feel like you're <a href=\"/2018/day/6\">falling</a>.</p>\n",
       "<p>\"Situation critical\", the device announces in a familiar voice. \"Bootstrapping process failed. Initializing debugger....\"</p>\n",
       "<p>The small handheld device suddenly unfolds into an entire computer! The Historians look around nervously before one of them tosses it to you.</p>\n",
       "<p>This seems to be a 3-bit computer: its program is a list of 3-bit numbers (0 through 7), like <code>0,1,2,3</code>. The computer also has three <em>registers</em> named <code>A</code>, <code>B</code>, and <code>C</code>, but these registers aren't limited to 3 bits and can instead hold any integer.</p>\n",
       "<p>The computer knows <em>eight instructions</em>, each identified by a 3-bit number (called the instruction's <em>opcode</em>). Each instruction also reads the 3-bit number after it as an input; this is called its <em>operand</em>.</p>\n",
       "<p>A number called the <em>instruction pointer</em> identifies the position in the program from which the next opcode will be read; it starts at <code>0</code>, pointing at the first 3-bit number in the program. Except for jump instructions, the instruction pointer increases by <code>2</code> after each instruction is processed (to move past the instruction's opcode and its operand). If the computer tries to read an opcode past the end of the program, it instead <em>halts</em>.</p>\n",
       "<p>So, the program <code>0,1,2,3</code> would run the instruction whose opcode is <code>0</code> and pass it the operand <code>1</code>, then run the instruction having opcode <code>2</code> and pass it the operand <code>3</code>, then halt.</p>\n",
       "<p>There are two types of operands; each instruction specifies the type of its operand. The value of a <em>literal operand</em> is the operand itself. For example, the value of the literal operand <code>7</code> is the number <code>7</code>. The value of a <em>combo operand</em> can be found as follows:</p>\n",
       "<ul>\n",
       "<li>Combo operands <code>0</code> through <code>3</code> represent literal values <code>0</code> through <code>3</code>.</li>\n",
       "<li>Combo operand <code>4</code> represents the value of register <code>A</code>.</li>\n",
       "<li>Combo operand <code>5</code> represents the value of register <code>B</code>.</li>\n",
       "<li>Combo operand <code>6</code> represents the value of register <code>C</code>.</li>\n",
       "<li>Combo operand <code>7</code> is reserved and will not appear in valid programs.</li>\n",
       "</ul>\n",
       "<p>The eight instructions are as follows:</p>\n",
       "<p>The <code><em>adv</em></code> instruction (opcode <code><em>0</em></code>) performs <em>division</em>. The numerator is the value in the <code>A</code> register. The denominator is found by raising 2 to the power of the instruction's <em>combo</em> operand. (So, an operand of <code>2</code> would divide <code>A</code> by <code>4</code> (<code>2^2</code>); an operand of <code>5</code> would divide <code>A</code> by <code>2^B</code>.) The result of the division operation is <em>truncated</em> to an integer and then written to the <code>A</code> register.</p>\n",
       "<p>The <code><em>bxl</em></code> instruction (opcode <code><em>1</em></code>) calculates the <a href=\"https://en.wikipedia.org/wiki/Bitwise_operation#XOR\" target=\"_blank\">bitwise XOR</a> of register <code>B</code> and the instruction's <em>literal</em> operand, then stores the result in register <code>B</code>.</p>\n",
       "<p>The <code><em>bst</em></code> instruction (opcode <code><em>2</em></code>) calculates the value of its <em>combo</em> operand <a href=\"https://en.wikipedia.org/wiki/Modulo\" target=\"_blank\">modulo</a> 8 (thereby keeping only its lowest 3 bits), then writes that value to the <code>B</code> register.</p>\n",
       "<p>The <code><em>jnz</em></code> instruction (opcode <code><em>3</em></code>) does <em>nothing</em> if the <code>A</code> register is <code>0</code>. However, if the <code>A</code> register is <em>not zero</em>, it <span title=\"The instruction does this using a little trampoline.\"><em>jumps</em></span> by setting the instruction pointer to the value of its <em>literal</em> operand; if this instruction jumps, the instruction pointer is <em>not</em> increased by <code>2</code> after this instruction.</p>\n",
       "<p>The <code><em>bxc</em></code> instruction (opcode <code><em>4</em></code>) calculates the <em>bitwise XOR</em> of register <code>B</code> and register <code>C</code>, then stores the result in register <code>B</code>. (For legacy reasons, this instruction reads an operand but <em>ignores</em> it.)</p>\n",
       "<p>The <code><em>out</em></code> instruction (opcode <code><em>5</em></code>) calculates the value of its <em>combo</em> operand modulo 8, then <em>outputs</em> that value. (If a program outputs multiple values, they are separated by commas.)</p>\n",
       "<p>The <code><em>bdv</em></code> instruction (opcode <code><em>6</em></code>) works exactly like the <code>adv</code> instruction except that the result is stored in the <em><code>B</code> register</em>. (The numerator is still read from the <code>A</code> register.)</p>\n",
       "<p>The <code><em>cdv</em></code> instruction (opcode <code><em>7</em></code>) works exactly like the <code>adv</code> instruction except that the result is stored in the <em><code>C</code> register</em>. (The numerator is still read from the <code>A</code> register.)</p>\n",
       "<p>Here are some examples of instruction operation:</p>\n",
       "<ul>\n",
       "<li>If register <code>C</code> contains <code>9</code>, the program <code>2,6</code> would set register <code>B</code> to <code>1</code>.</li>\n",
       "<li>If register <code>A</code> contains <code>10</code>, the program <code>5,0,5,1,5,4</code> would output <code>0,1,2</code>.</li>\n",
       "<li>If register <code>A</code> contains <code>2024</code>, the program <code>0,1,5,4,3,0</code> would output <code>4,2,5,6,7,7,7,7,3,1,0</code> and leave <code>0</code> in register <code>A</code>.</li>\n",
       "<li>If register <code>B</code> contains <code>29</code>, the program <code>1,7</code> would set register <code>B</code> to <code>26</code>.</li>\n",
       "<li>If register <code>B</code> contains <code>2024</code> and register <code>C</code> contains <code>43690</code>, the program <code>4,0</code> would set register <code>B</code> to <code>44354</code>.</li>\n",
       "</ul>\n",
       "<p>The Historians' strange device has finished initializing its debugger and is displaying some <em>information about the program it is trying to run</em> (your puzzle input). For example:</p>\n",
       "<pre><code>Register A: 729\n",
       "Register B: 0\n",
       "Register C: 0\n",
       "\n",
       "Program: 0,1,5,4,3,0\n",
       "</code></pre>\n",
       "<p>Your first task is to <em>determine what the program is trying to output</em>. To do this, initialize the registers to the given values, then run the given program, collecting any output produced by <code>out</code> instructions. (Always join the values produced by <code>out</code> instructions with commas.) After the above program halts, its final output will be <code><em>4,6,3,5,6,3,5,2,1,0</em></code>.</p>\n",
       "<p>Using the information provided by the debugger, initialize the registers to the given values, then run the program. Once it halts, <em>what do you get if you use commas to join the values it output into a single string?</em></p>\n"
      ],
      "text/plain": [
       "<IPython.core.display.HTML object>"
      ]
     },
     "execution_count": 3,
     "metadata": {},
     "output_type": "execute_result"
    }
   ],
   "source": [
    "from IPython.display import HTML\n",
    "\n",
    "HTML(downloaded['part1'])"
   ]
  },
  {
   "cell_type": "code",
   "execution_count": 4,
   "metadata": {},
   "outputs": [],
   "source": [
    "part1_example_input = '''Register A: 729\n",
    "Register B: 0\n",
    "Register C: 0\n",
    "\n",
    "Program: 0,1,5,4,3,0'''"
   ]
  },
  {
   "cell_type": "code",
   "execution_count": 5,
   "metadata": {},
   "outputs": [],
   "source": [
    "def empty_csc():\n",
    "    return {\n",
    "        'A': 0, 'B': 0, 'C': 0,\n",
    "        'Program': (),\n",
    "        'IC': 0,\n",
    "        'Output': []\n",
    "    }"
   ]
  },
  {
   "cell_type": "code",
   "execution_count": 6,
   "metadata": {},
   "outputs": [],
   "source": [
    "def parse_input(lines):\n",
    "    csc = empty_csc()\n",
    "    for line in lines:\n",
    "        if line.startswith('Register '):\n",
    "            csc[line[len('Register ')]] = int(line[len('Register X: '):])\n",
    "        elif line.startswith('Program: '):\n",
    "            csc['Program'] = tuple(map(int, line[len('Program: '):].split(',')))\n",
    "    return csc\n",
    "\n",
    "# csc = parse_input(part1_example_input.splitlines())\n",
    "csc = parse_input(downloaded['input'].splitlines())"
   ]
  },
  {
   "cell_type": "code",
   "execution_count": 7,
   "metadata": {},
   "outputs": [
    {
     "name": "stdout",
     "output_type": "stream",
     "text": [
      "{'A': 66752888, 'B': 0, 'C': 0, 'Program': (2, 4, 1, 7, 7, 5, 1, 7, 0, 3, 4, 1, 5, 5, 3, 0), 'IC': 0, 'Output': []}\n"
     ]
    }
   ],
   "source": [
    "print(csc)"
   ]
  },
  {
   "cell_type": "code",
   "execution_count": 8,
   "metadata": {},
   "outputs": [],
   "source": [
    "# Combo operands 0 through 3 represent literal values 0 through 3.\n",
    "# Combo operand 4 represents the value of register A.\n",
    "# Combo operand 5 represents the value of register B.\n",
    "# Combo operand 6 represents the value of register C.\n",
    "# Combo operand 7 is reserved and will not appear in valid programs.\n",
    "def cop(operand, csc):\n",
    "    if operand <= 3:\n",
    "        return operand\n",
    "    elif operand == 4:\n",
    "        return csc['A']\n",
    "    elif operand == 5:\n",
    "        return csc['B']\n",
    "    elif operand == 6:\n",
    "        return csc['C']\n",
    "    else:\n",
    "        raise ValueError"
   ]
  },
  {
   "cell_type": "code",
   "execution_count": 9,
   "metadata": {},
   "outputs": [],
   "source": [
    "def instr(opcode, operand, csc):\n",
    "    # print(f'{opcode=}, {operand=}, {csc['A']=}, {csc['B']=}, {csc['C']=}')\n",
    "    did_jnz = False\n",
    "    match opcode:\n",
    "        case 0 | 6 | 7:\n",
    "            result = csc['A'] // 2**cop(operand, csc)\n",
    "            match opcode:\n",
    "                # The adv instruction (opcode 0) performs division. The numerator is the value in\n",
    "                # the A register. The denominator is found by raising 2 to the power of the \n",
    "                # instruction's combo operand. (So, an operand of 2 would divide A by 4 (2^2); an\n",
    "                # operand of 5 would divide A by 2^B.) The result of the division operation is \n",
    "                # truncated to an integer and then written to the A register.\n",
    "                case 0:\n",
    "                    csc['A'] = result\n",
    "                # The bdv instruction (opcode 6) works exactly like the adv instruction except \n",
    "                # that the result is stored in the B register. (The numerator is still read from\n",
    "                # the A register.)\n",
    "                case 6:\n",
    "                    csc['B'] = result\n",
    "                # The cdv instruction (opcode 7) works exactly like the adv instruction except\n",
    "                # that the result is stored in the C register. (The numerator is still read from\n",
    "                # the A register.)\n",
    "                case 7:\n",
    "                    csc['C'] = result\n",
    "        # The bxl instruction (opcode 1) calculates the bitwise XOR of register B and the\n",
    "        # instruction's literal operand, then stores the result in register B.\n",
    "        case 1:\n",
    "            csc['B'] = csc['B'] ^ operand\n",
    "        # The bst instruction (opcode 2) calculates the value of its combo operand modulo\n",
    "        # 8 (thereby keeping only its lowest 3 bits), then writes that value to the B \n",
    "        # register.\n",
    "        case 2:\n",
    "            csc['B'] = cop(operand, csc) % 8\n",
    "        # The jnz instruction (opcode 3) does nothing if the A register is 0. However, if\n",
    "        # the A register is not zero, it jumps by setting the instruction pointer to the\n",
    "        # value of its literal operand; if this instruction jumps, the instruction pointer\n",
    "        # is not increased by 2 after this instruction.\n",
    "        case 3:\n",
    "            if csc['A'] != 0:\n",
    "                csc['IC'] = operand\n",
    "                did_jnz = True\n",
    "        # The bxc instruction (opcode 4) calculates the bitwise XOR of register B and \n",
    "        # register C, then stores the result in register B. (For legacy reasons, this \n",
    "        # instruction reads an operand but ignores it.)\n",
    "        case 4:\n",
    "            csc['B'] = csc['B'] ^ csc['C']\n",
    "        # The out instruction (opcode 5) calculates the value of its combo operand modulo\n",
    "        # 8, then outputs that value. (If a program outputs multiple values, they are \n",
    "        # separated by commas.)\n",
    "        case 5:\n",
    "            csc['Output'].append(cop(operand, csc) % 8)\n",
    "\n",
    "    if not did_jnz:\n",
    "        csc['IC'] += 2\n",
    "    return csc"
   ]
  },
  {
   "cell_type": "code",
   "execution_count": 10,
   "metadata": {},
   "outputs": [
    {
     "name": "stdout",
     "output_type": "stream",
     "text": [
      "2,0,4,2,7,0,1,0,3\n"
     ]
    }
   ],
   "source": [
    "def run_step(csc):\n",
    "    assert(csc['IC'] < len(csc['Program']))\n",
    "    return instr(csc['Program'][csc['IC']], csc['Program'][csc['IC'] + 1], csc)\n",
    "\n",
    "def run_program(csc):\n",
    "    while csc['IC'] < len(csc['Program']):\n",
    "        csc = run_step(csc)\n",
    "    return tuple(csc['Output'])\n",
    "\n",
    "print(','.join(map(str, run_program(csc))))"
   ]
  },
  {
   "cell_type": "code",
   "execution_count": 11,
   "metadata": {},
   "outputs": [
    {
     "data": {
      "text/html": [
       "\n",
       "<p>Your puzzle answer was <code>2,0,4,2,7,0,1,0,3</code>.</p><p class=\"day-success\">The first half of this puzzle is complete! It provides one gold star: *</p>\n"
      ],
      "text/plain": [
       "<IPython.core.display.HTML object>"
      ]
     },
     "execution_count": 11,
     "metadata": {},
     "output_type": "execute_result"
    }
   ],
   "source": [
    "HTML(downloaded['part1_footer'])"
   ]
  },
  {
   "cell_type": "code",
   "execution_count": 12,
   "metadata": {
    "scrolled": true
   },
   "outputs": [
    {
     "data": {
      "text/html": [
       "<h2 id=\"part2\">--- Part Two ---</h2><p>Digging deeper in the device's manual, you discover the problem: this program is supposed to <em>output another copy of the program</em>! Unfortunately, the value in register <code>A</code> seems to have been corrupted. You'll need to find a new value to which you can initialize register <code>A</code> so that the program's output instructions produce an exact copy of the program itself.</p>\n",
       "<p>For example:</p>\n",
       "<pre><code>Register A: 2024\n",
       "Register B: 0\n",
       "Register C: 0\n",
       "\n",
       "Program: 0,3,5,4,3,0\n",
       "</code></pre>\n",
       "<p>This program outputs a copy of itself if register <code>A</code> is instead initialized to <code><em>117440</em></code>. (The original initial value of register <code>A</code>, <code>2024</code>, is ignored.)</p>\n",
       "<p><em>What is the lowest positive initial value for register <code>A</code> that causes the program to output a copy of itself?</em></p>\n"
      ],
      "text/plain": [
       "<IPython.core.display.HTML object>"
      ]
     },
     "execution_count": 12,
     "metadata": {},
     "output_type": "execute_result"
    }
   ],
   "source": [
    "HTML(downloaded['part2'])"
   ]
  },
  {
   "cell_type": "code",
   "execution_count": 13,
   "metadata": {},
   "outputs": [],
   "source": [
    "part2_example_input = '''Register A: 2024\n",
    "Register B: 0\n",
    "Register C: 0\n",
    "\n",
    "Program: 0,3,5,4,3,0'''"
   ]
  },
  {
   "cell_type": "code",
   "execution_count": 14,
   "metadata": {},
   "outputs": [],
   "source": [
    "csc = parse_input(part2_example_input.splitlines())"
   ]
  },
  {
   "cell_type": "code",
   "execution_count": 15,
   "metadata": {},
   "outputs": [
    {
     "name": "stdout",
     "output_type": "stream",
     "text": [
      "{'A': 2024, 'B': 0, 'C': 0, 'Program': (0, 3, 5, 4, 3, 0), 'IC': 0, 'Output': []}\n"
     ]
    }
   ],
   "source": [
    "print(csc)"
   ]
  },
  {
   "cell_type": "code",
   "execution_count": 16,
   "metadata": {},
   "outputs": [
    {
     "name": "stdout",
     "output_type": "stream",
     "text": [
      "output=(0, 3, 5, 4, 3, 0), csc['Program']=(0, 3, 5, 4, 3, 0)\n"
     ]
    }
   ],
   "source": [
    "csc['A'] = 117440\n",
    "output = run_program(csc)\n",
    "print(f'{output=}, {csc['Program']=}')"
   ]
  },
  {
   "cell_type": "code",
   "execution_count": 17,
   "metadata": {},
   "outputs": [],
   "source": [
    "def tuple_startswith(slf, value):\n",
    "    if len(value) > len(slf):\n",
    "        return False\n",
    "    else:\n",
    "        return slf[0:len(value)] == value"
   ]
  },
  {
   "cell_type": "code",
   "execution_count": 18,
   "metadata": {},
   "outputs": [],
   "source": [
    "def run_program2(csc):\n",
    "   while csc['IC'] < len(csc['Program']) and tuple_startswith(csc['Program'], tuple(csc['Output'])):\n",
    "      csc = run_step(csc)\n",
    "   return csc"
   ]
  },
  {
   "cell_type": "code",
   "execution_count": 19,
   "metadata": {},
   "outputs": [
    {
     "name": "stdout",
     "output_type": "stream",
     "text": [
      "True\n"
     ]
    }
   ],
   "source": [
    "csc = parse_input(part2_example_input.splitlines())\n",
    "csc['A'] = 117440\n",
    "csc = run_program2(csc)\n",
    "print(f'{tuple(csc['Output']) == csc['Program']}')"
   ]
  },
  {
   "cell_type": "code",
   "execution_count": 20,
   "metadata": {},
   "outputs": [],
   "source": [
    "from copy import deepcopy\n",
    "\n",
    "def search_iv(initial_csc):\n",
    "    iv = 0\n",
    "    csc = initial_csc.copy()\n",
    "    while tuple(csc['Output']) != csc['Program'] and iv < 2e6:\n",
    "        iv += 1\n",
    "        if iv % 100000 == 0:\n",
    "            print(iv)\n",
    "        csc = deepcopy(initial_csc)\n",
    "        csc['A'] = iv\n",
    "        csc = run_program2(csc)\n",
    "    print(f'{iv=}, {csc=}')"
   ]
  },
  {
   "cell_type": "code",
   "execution_count": 21,
   "metadata": {},
   "outputs": [
    {
     "name": "stdout",
     "output_type": "stream",
     "text": [
      "100000\n",
      "200000\n",
      "300000\n",
      "400000\n",
      "500000\n",
      "600000\n",
      "700000\n",
      "800000\n",
      "900000\n",
      "1000000\n",
      "1100000\n",
      "1200000\n",
      "1300000\n",
      "1400000\n",
      "1500000\n",
      "1600000\n",
      "1700000\n",
      "1800000\n",
      "1900000\n",
      "2000000\n",
      "iv=2000000, csc={'A': 250000, 'B': 15625, 'C': 15625, 'Program': (2, 4, 1, 7, 7, 5, 1, 7, 0, 3, 4, 1, 5, 5, 3, 0), 'IC': 14, 'Output': [1]}\n"
     ]
    }
   ],
   "source": [
    "#search_iv(parse_input(part2_example_input.splitlines()))\n",
    "search_iv(parse_input(downloaded['input'].splitlines()))"
   ]
  }
 ],
 "metadata": {
  "kernelspec": {
   "display_name": ".python3.12-venv",
   "language": "python",
   "name": "python3"
  },
  "language_info": {
   "codemirror_mode": {
    "name": "ipython",
    "version": 3
   },
   "file_extension": ".py",
   "mimetype": "text/x-python",
   "name": "python",
   "nbconvert_exporter": "python",
   "pygments_lexer": "ipython3",
   "version": "3.12.8"
  }
 },
 "nbformat": 4,
 "nbformat_minor": 2
}

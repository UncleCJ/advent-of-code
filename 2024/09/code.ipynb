{
 "cells": [
  {
   "cell_type": "markdown",
   "metadata": {},
   "source": [
    "# Day 9: Disk Fragmenter\n",
    "\n",
    "[*Advent of Code 2024 day 9*](https://adventofcode.com/2024/day/9) and [*solution megathread*](https://redd.it/1ha27bo)\n",
    "\n",
    "[![nbviewer](https://raw.githubusercontent.com/jupyter/design/master/logos/Badges/nbviewer_badge.svg)](https://nbviewer.jupyter.org/github/UncleCJ/advent-of-code/blob/cj/2024/09/code.ipynb) [![Binder](https://mybinder.org/badge_logo.svg)](https://mybinder.org/v2/gh/UncleCJ/advent-of-code/cj?filepath=2024%2F09%2Fcode.ipynb)"
   ]
  },
  {
   "cell_type": "code",
   "execution_count": 1,
   "metadata": {},
   "outputs": [],
   "source": [
    "from IPython.display import HTML\n",
    "import sys\n",
    "sys.path.append('../../')\n",
    "\n",
    "\n",
    "# %load_ext nb_mypy\n",
    "# %nb_mypy On"
   ]
  },
  {
   "cell_type": "code",
   "execution_count": 2,
   "metadata": {},
   "outputs": [
    {
     "name": "stdout",
     "output_type": "stream",
     "text": [
      "Writing 'downloaded' (dict) to file 'downloaded'.\n"
     ]
    }
   ],
   "source": [
    "import common\n",
    "\n",
    "\n",
    "downloaded = common.refresh()\n",
    "%store downloaded >downloaded\n",
    "\n",
    "# %load_ext pycodestyle_magic\n",
    "# %pycodestyle_on"
   ]
  },
  {
   "cell_type": "code",
   "execution_count": 3,
   "metadata": {},
   "outputs": [
    {
     "data": {
      "text/html": [
       "<h2>--- Day 9: Disk Fragmenter ---</h2><p>Another push of the button leaves you in the familiar hallways of some friendly <a href=\"/2021/day/23\">amphipods</a>! Good thing you each somehow got your own personal mini submarine. The Historians jet away in search of the Chief, mostly by driving directly into walls.</p>\n",
       "<p>While The Historians quickly figure out how to pilot these things, you notice an amphipod in the corner struggling with his computer. He's trying to make more contiguous free space by compacting all of the files, but his program isn't working; you offer to help.</p>\n",
       "<p>He shows you the <em>disk map</em> (your puzzle input) he's already generated. For example:</p>\n",
       "<pre><code>2333133121414131402</code></pre>\n",
       "<p>The disk map uses a dense format to represent the layout of <em>files</em> and <em>free space</em> on the disk. The digits alternate between indicating the length of a file and the length of free space.</p>\n",
       "<p>So, a disk map like <code>12345</code> would represent a one-block file, two blocks of free space, a three-block file, four blocks of free space, and then a five-block file. A disk map like <code>90909</code> would represent three nine-block files in a row (with no free space between them).</p>\n",
       "<p>Each file on disk also has an <em>ID number</em> based on the order of the files as they appear <em>before</em> they are rearranged, starting with ID <code>0</code>. So, the disk map <code>12345</code> has three files: a one-block file with ID <code>0</code>, a three-block file with ID <code>1</code>, and a five-block file with ID <code>2</code>. Using one character for each block where digits are the file ID and <code>.</code> is free space, the disk map <code>12345</code> represents these individual blocks:</p>\n",
       "<pre><code>0..111....22222</code></pre>\n",
       "<p>The first example above, <code>2333133121414131402</code>, represents these individual blocks:</p>\n",
       "<pre><code>00...111...2...333.44.5555.6666.777.888899</code></pre>\n",
       "<p>The amphipod would like to <em>move file blocks one at a time</em> from the end of the disk to the leftmost free space block (until there are no gaps remaining between file blocks). For the disk map <code>12345</code>, the process looks like this:</p>\n",
       "<pre><code>0..111....22222\n",
       "02.111....2222.\n",
       "022111....222..\n",
       "0221112...22...\n",
       "02211122..2....\n",
       "022111222......\n",
       "</code></pre>\n",
       "<p>The first example requires a few more steps:</p>\n",
       "<pre><code>00...111...2...333.44.5555.6666.777.888899\n",
       "009..111...2...333.44.5555.6666.777.88889.\n",
       "0099.111...2...333.44.5555.6666.777.8888..\n",
       "00998111...2...333.44.5555.6666.777.888...\n",
       "009981118..2...333.44.5555.6666.777.88....\n",
       "0099811188.2...333.44.5555.6666.777.8.....\n",
       "009981118882...333.44.5555.6666.777.......\n",
       "0099811188827..333.44.5555.6666.77........\n",
       "00998111888277.333.44.5555.6666.7.........\n",
       "009981118882777333.44.5555.6666...........\n",
       "009981118882777333644.5555.666............\n",
       "00998111888277733364465555.66.............\n",
       "0099811188827773336446555566..............\n",
       "</code></pre>\n",
       "<p>The final step of this file-compacting process is to update the <em>filesystem checksum</em>. To calculate the checksum, add up the result of multiplying each of these blocks' position with the file ID number it contains. The leftmost block is in position <code>0</code>. If a block contains free space, skip it instead.</p>\n",
       "<p>Continuing the first example, the first few blocks' position multiplied by its file ID number are <code>0 * 0 = 0</code>, <code>1 * 0 = 0</code>, <code>2 * 9 = 18</code>, <code>3 * 9 = 27</code>, <code>4 * 8 = 32</code>, and so on. In this example, the checksum is the sum of these, <code><em>1928</em></code>.</p>\n",
       "<p><span title=\"Bonus points if you make a cool animation of this process.\">Compact the amphipod's hard drive</span> using the process he requested. <em>What is the resulting filesystem checksum?</em> <span class=\"quiet\">(Be careful copy/pasting the input for this puzzle; it is a single, very long line.)</span></p>\n"
      ],
      "text/plain": [
       "<IPython.core.display.HTML object>"
      ]
     },
     "execution_count": 3,
     "metadata": {},
     "output_type": "execute_result"
    }
   ],
   "source": [
    "from IPython.display import HTML\n",
    "\n",
    "HTML(downloaded['part1'])"
   ]
  },
  {
   "cell_type": "code",
   "execution_count": 4,
   "metadata": {},
   "outputs": [],
   "source": [
    "part1_example_input = '''...#......\n",
    ".......#..\n",
    "#.........\n",
    "..........\n",
    "......#...\n",
    ".#........\n",
    ".........#\n",
    "..........\n",
    ".......#..\n",
    "#...#.....'''"
   ]
  },
  {
   "cell_type": "code",
   "execution_count": 5,
   "metadata": {},
   "outputs": [
    {
     "data": {
      "text/plain": [
       "([(0, 3), (1, 7), (2, 0), (4, 6), (5, 1), (6, 9), (8, 7), (9, 0), (9, 4)],\n",
       " [0, 1, 2, 4, 5, 6, 8, 9],\n",
       " [0, 1, 3, 4, 6, 7, 9])"
      ]
     },
     "execution_count": 5,
     "metadata": {},
     "output_type": "execute_result"
    }
   ],
   "source": [
    "def parse_input(lines):\n",
    "    nonempty_rows = set()\n",
    "    nonempty_cols = set()\n",
    "    galaxies = []\n",
    "    for row, line in zip(range(len(lines)), lines):\n",
    "        for col in range(len(line)):\n",
    "            if line[col] == '#':\n",
    "                nonempty_rows.add(row)\n",
    "                nonempty_cols.add(col)\n",
    "                galaxies.append((row, col))\n",
    "    return galaxies, list(nonempty_rows), list(nonempty_cols)\n",
    "\n",
    "parse_input(part1_example_input.splitlines())"
   ]
  },
  {
   "cell_type": "code",
   "execution_count": 6,
   "metadata": {},
   "outputs": [
    {
     "data": {
      "text/plain": [
       "[(0, 3), (1, 7), (2, 0), (4, 6), (5, 1), (6, 9), (8, 7), (9, 0), (9, 4)]"
      ]
     },
     "execution_count": 6,
     "metadata": {},
     "output_type": "execute_result"
    }
   ],
   "source": [
    "def expand_universe(galaxies, nonempty_rows, nonempty_cols, expansion_factor=1):\n",
    "    def find_empty(nonempty_sorted):\n",
    "        previous = -1\n",
    "        found_empty = []\n",
    "        for i in nonempty_sorted:\n",
    "            if i - previous > 1:\n",
    "                found_empty += range(previous+1, i)\n",
    "            previous = i\n",
    "        return found_empty\n",
    "    \n",
    "    def expand_vector(nonempty_sorted, empty_sorted):\n",
    "        # Here I'm not entirely happy with iterating through the entire `empty_sorted`\n",
    "        # to see which are smaller, but as we only do it for rows and columns rather\n",
    "        # than each galaxy, it is fine\n",
    "        return [i + (expansion_factor-1)*sum(i > j for j in empty_sorted) for i in nonempty_sorted]\n",
    "    \n",
    "    def expand_galaxy(old_row, old_col, rowmapping, colmapping):\n",
    "        return rowmapping[old_row], colmapping[old_col]\n",
    "        \n",
    "    empty_rows = find_empty(nonempty_rows)\n",
    "    empty_cols = find_empty(nonempty_cols)\n",
    "    rowmapping = dict(zip(nonempty_rows, expand_vector(nonempty_rows, empty_rows)))\n",
    "    colmapping = dict(zip(nonempty_cols, expand_vector(nonempty_cols, empty_cols)))\n",
    "    return [expand_galaxy(*galaxy, rowmapping, colmapping) for galaxy in galaxies]\n",
    "\n",
    "expand_universe(*parse_input(part1_example_input.splitlines()))"
   ]
  },
  {
   "cell_type": "code",
   "execution_count": 7,
   "metadata": {},
   "outputs": [
    {
     "data": {
      "text/plain": [
       "292"
      ]
     },
     "execution_count": 7,
     "metadata": {},
     "output_type": "execute_result"
    }
   ],
   "source": [
    "def galaxies_distances(galaxy, galaxies):\n",
    "    # print(f\"{galaxy=}, {galaxies=}\")\n",
    "    if not galaxy:\n",
    "        return galaxies_distances(galaxies[0], galaxies[1:])\n",
    "    head = {f\"{galaxy} - {row, col}\": abs(row - galaxy[0]) + abs(col - galaxy[1]) for row, col in galaxies}\n",
    "    if galaxies:\n",
    "        head.update(galaxies_distances(galaxies[0], galaxies[1:]))\n",
    "    return head\n",
    "\n",
    "sum(galaxies_distances(None, expand_universe(*parse_input(part1_example_input.splitlines()))).values())\n",
    "# sum(galaxies_distances(None, expand_universe(*parse_input(downloaded['input'].splitlines()))).values())"
   ]
  },
  {
   "cell_type": "code",
   "execution_count": 4,
   "metadata": {
    "scrolled": true
   },
   "outputs": [],
   "source": [
    "# HTML(downloaded['part2'])"
   ]
  },
  {
   "cell_type": "code",
   "execution_count": 9,
   "metadata": {},
   "outputs": [
    {
     "name": "stdout",
     "output_type": "stream",
     "text": [
      "1030\n",
      "8410\n"
     ]
    }
   ],
   "source": [
    "print(sum(galaxies_distances(None, expand_universe(*parse_input(part1_example_input.splitlines()), expansion_factor=10)).values()))\n",
    "print(sum(galaxies_distances(None, expand_universe(*parse_input(part1_example_input.splitlines()), expansion_factor=100)).values()))\n",
    "# sum(galaxies_distances(None, expand_universe(*parse_input(downloaded['input'].splitlines()), expansion_factor=1000000)).values())"
   ]
  }
 ],
 "metadata": {
  "kernelspec": {
   "display_name": ".python3.12-venv",
   "language": "python",
   "name": "python3"
  },
  "language_info": {
   "codemirror_mode": {
    "name": "ipython",
    "version": 3
   },
   "file_extension": ".py",
   "mimetype": "text/x-python",
   "name": "python",
   "nbconvert_exporter": "python",
   "pygments_lexer": "ipython3",
   "version": "3.12.7"
  }
 },
 "nbformat": 4,
 "nbformat_minor": 2
}

{
 "cells": [
  {
   "cell_type": "markdown",
   "metadata": {},
   "source": [
    "# Day 25: Code Chronicle\n",
    "\n",
    "[*Advent of Code 2024 day 25*](https://adventofcode.com/2024/day/25) and [*solution megathread*](https://redd.it/1hlu4ht)\n",
    "\n",
    "[![nbviewer](https://raw.githubusercontent.com/jupyter/design/master/logos/Badges/nbviewer_badge.svg)](https://nbviewer.jupyter.org/github/UncleCJ/advent-of-code/blob/cj/2024/25/code.ipynb) [![Binder](https://mybinder.org/badge_logo.svg)](https://mybinder.org/v2/gh/UncleCJ/advent-of-code/cj?filepath=2024%2F25%2Fcode.ipynb)"
   ]
  },
  {
   "cell_type": "code",
   "execution_count": 1,
   "metadata": {},
   "outputs": [],
   "source": [
    "from IPython.display import HTML\n",
    "import sys\n",
    "sys.path.append('../../')\n",
    "\n",
    "\n",
    "# %load_ext nb_mypy\n",
    "# %nb_mypy On"
   ]
  },
  {
   "cell_type": "code",
   "execution_count": 2,
   "metadata": {},
   "outputs": [
    {
     "name": "stdout",
     "output_type": "stream",
     "text": [
      "Writing 'downloaded' (dict) to file 'downloaded'.\n"
     ]
    }
   ],
   "source": [
    "import common\n",
    "\n",
    "\n",
    "downloaded = common.refresh()\n",
    "%store downloaded >downloaded\n",
    "\n",
    "# %load_ext pycodestyle_magic\n",
    "# %pycodestyle_on"
   ]
  },
  {
   "cell_type": "code",
   "execution_count": 3,
   "metadata": {},
   "outputs": [
    {
     "data": {
      "text/html": [
       "<h2>--- Day 25: Code Chronicle ---</h2><p>Out of ideas and time, The Historians agree that they should go back to check the <em>Chief Historian's office</em> one last time, just in case he went back there without you noticing.</p>\n",
       "<p>When you get there, you are surprised to discover that the door to his office is <em>locked</em>! You can hear someone inside, but knocking <span title=\"function knock() {&#10;  yield no_response;&#10;}\">yields</span> no response. The locks on this floor are all fancy, expensive, virtual versions of <a href=\"https://en.wikipedia.org/wiki/Pin_tumbler_lock\" target=\"_blank\">five-pin tumbler locks</a>, so you contact North Pole security to see if they can help open the door.</p>\n",
       "<p>Unfortunately, they've lost track of which locks are installed and which keys go with them, so the best they can do is send over <em>schematics of every lock and every key</em> for the floor you're on (your puzzle input).</p>\n",
       "<p>The schematics are in a cryptic file format, but they do contain manufacturer information, so you look up their support number.</p>\n",
       "<p>\"Our Virtual Five-Pin Tumbler product? That's our most expensive model! <em>Way</em> more secure than--\" You explain that you need to open a door and don't have a lot of time.</p>\n",
       "<p>\"Well, you can't know whether a key opens a lock without actually trying the key in the lock (due to quantum hidden variables), but you <em>can</em> rule out some of the key/lock combinations.\"</p>\n",
       "<p>\"The virtual system is complicated, but part of it really is a crude simulation of a five-pin tumbler lock, mostly for marketing reasons. If you look at the schematics, you can figure out whether a key could possibly fit in a lock.\"</p>\n",
       "<p>He transmits you some example schematics:</p>\n",
       "<pre><code>#####\n",
       ".####\n",
       ".####\n",
       ".####\n",
       ".#.#.\n",
       ".#...\n",
       ".....\n",
       "\n",
       "#####\n",
       "##.##\n",
       ".#.##\n",
       "...##\n",
       "...#.\n",
       "...#.\n",
       ".....\n",
       "\n",
       ".....\n",
       "#....\n",
       "#....\n",
       "#...#\n",
       "#.#.#\n",
       "#.###\n",
       "#####\n",
       "\n",
       ".....\n",
       ".....\n",
       "#.#..\n",
       "###..\n",
       "###.#\n",
       "###.#\n",
       "#####\n",
       "\n",
       ".....\n",
       ".....\n",
       ".....\n",
       "#....\n",
       "#.#..\n",
       "#.#.#\n",
       "#####\n",
       "</code></pre>\n",
       "<p>\"The locks are schematics that have the top row filled (<code>#</code>) and the bottom row empty (<code>.</code>); the keys have the top row empty and the bottom row filled. If you look closely, you'll see that each schematic is actually a set of columns of various heights, either extending downward from the top (for locks) or upward from the bottom (for keys).\"</p>\n",
       "<p>\"For locks, those are the pins themselves; you can convert the pins in schematics to a list of heights, one per column. For keys, the columns make up the shape of the key where it aligns with pins; those can also be converted to a list of heights.\"</p>\n",
       "<p>\"So, you could say the first lock has pin heights <code>0,5,3,4,3</code>:\"</p>\n",
       "<pre><code>#####\n",
       ".####\n",
       ".####\n",
       ".####\n",
       ".#.#.\n",
       ".#...\n",
       ".....\n",
       "</code></pre>\n",
       "<p>\"Or, that the first key has heights <code>5,0,2,1,3</code>:\"</p>\n",
       "<pre><code>.....\n",
       "#....\n",
       "#....\n",
       "#...#\n",
       "#.#.#\n",
       "#.###\n",
       "#####\n",
       "</code></pre>\n",
       "<p>\"These seem like they should fit together; in the first four columns, the pins and key don't overlap. However, this key <em>cannot</em> be for this lock: in the rightmost column, the lock's pin overlaps with the key, which you know because in that column the sum of the lock height and key height is more than the available space.\"</p>\n",
       "<p>\"So anyway, you can narrow down the keys you'd need to try by just testing each key with each lock, which means you would have to check... wait, you have <em>how</em> many locks? But the only installation <em>that</em> size is at the North--\" You disconnect the call.</p>\n",
       "<p>In this example, converting both locks to pin heights produces:</p>\n",
       "<pre><code>0,5,3,4,3\n",
       "1,2,0,5,3\n",
       "</code></pre>\n",
       "<p>Converting all three keys to heights produces:</p>\n",
       "<pre><code>5,0,2,1,3\n",
       "4,3,4,0,2\n",
       "3,0,2,0,1\n",
       "</code></pre>\n",
       "<p>Then, you can try every key with every lock:</p>\n",
       "<ul>\n",
       "<li>Lock <code>0,5,3,4,3</code> and key <code>5,0,2,1,3</code>: <em>overlap</em> in the last column.</li>\n",
       "<li>Lock <code>0,5,3,4,3</code> and key <code>4,3,4,0,2</code>: <em>overlap</em> in the second column.</li>\n",
       "<li>Lock <code>0,5,3,4,3</code> and key <code>3,0,2,0,1</code>: all columns <em>fit</em>!</li>\n",
       "<li>Lock <code>1,2,0,5,3</code> and key <code>5,0,2,1,3</code>: <em>overlap</em> in the first column.</li>\n",
       "<li>Lock <code>1,2,0,5,3</code> and key <code>4,3,4,0,2</code>: all columns <em>fit</em>!</li>\n",
       "<li>Lock <code>1,2,0,5,3</code> and key <code>3,0,2,0,1</code>: all columns <em>fit</em>!</li>\n",
       "</ul>\n",
       "<p>So, in this example, the number of unique lock/key pairs that fit together without overlapping in any column is <code><em>3</em></code>.</p>\n",
       "<p>Analyze your lock and key schematics. <em>How many unique lock/key pairs fit together without overlapping in any column?</em></p>\n"
      ],
      "text/plain": [
       "<IPython.core.display.HTML object>"
      ]
     },
     "execution_count": 3,
     "metadata": {},
     "output_type": "execute_result"
    }
   ],
   "source": [
    "from IPython.display import HTML\n",
    "\n",
    "HTML(downloaded['part1'])"
   ]
  },
  {
   "cell_type": "code",
   "execution_count": 4,
   "metadata": {},
   "outputs": [],
   "source": [
    "part1_example_input = '''#####\n",
    ".####\n",
    ".####\n",
    ".####\n",
    ".#.#.\n",
    ".#...\n",
    ".....\n",
    "\n",
    "#####\n",
    "##.##\n",
    ".#.##\n",
    "...##\n",
    "...#.\n",
    "...#.\n",
    ".....\n",
    "\n",
    ".....\n",
    "#....\n",
    "#....\n",
    "#...#\n",
    "#.#.#\n",
    "#.###\n",
    "#####\n",
    "\n",
    ".....\n",
    ".....\n",
    "#.#..\n",
    "###..\n",
    "###.#\n",
    "###.#\n",
    "#####\n",
    "\n",
    ".....\n",
    ".....\n",
    ".....\n",
    "#....\n",
    "#.#..\n",
    "#.#.#\n",
    "#####'''"
   ]
  },
  {
   "cell_type": "code",
   "execution_count": 8,
   "metadata": {},
   "outputs": [],
   "source": [
    "def parse_input(lines):\n",
    "    return [line.split('-') for line in lines]\n",
    "\n",
    "parsed_input = parse_input(part1_example_input.splitlines())"
   ]
  },
  {
   "cell_type": "code",
   "execution_count": 57,
   "metadata": {},
   "outputs": [
    {
     "data": {
      "text/plain": [
       "{'kh': {'qp', 'ta', 'tc', 'ub'},\n",
       " 'tc': {'co', 'kh', 'td', 'wh'},\n",
       " 'qp': {'kh', 'td', 'ub', 'wh'},\n",
       " 'de': {'cg', 'co', 'ka', 'ta'},\n",
       " 'cg': {'aq', 'de', 'tb', 'yn'},\n",
       " 'ka': {'co', 'de', 'ta', 'tb'},\n",
       " 'co': {'de', 'ka', 'ta', 'tc'},\n",
       " 'yn': {'aq', 'cg', 'td', 'wh'},\n",
       " 'aq': {'cg', 'vc', 'wq', 'yn'},\n",
       " 'ub': {'kh', 'qp', 'vc', 'wq'},\n",
       " 'tb': {'cg', 'ka', 'vc', 'wq'},\n",
       " 'vc': {'aq', 'tb', 'ub', 'wq'},\n",
       " 'wh': {'qp', 'tc', 'td', 'yn'},\n",
       " 'ta': {'co', 'de', 'ka', 'kh'},\n",
       " 'td': {'qp', 'tc', 'wh', 'yn'},\n",
       " 'wq': {'aq', 'tb', 'ub', 'vc'}}"
      ]
     },
     "execution_count": 57,
     "metadata": {},
     "output_type": "execute_result"
    }
   ],
   "source": [
    "from collections import defaultdict\n",
    "\n",
    "def build_connections(links):\n",
    "    results = defaultdict(set)\n",
    "    for a, b in links:\n",
    "        results[a].add(b)\n",
    "        results[b].add(a)\n",
    "    return dict(results)\n",
    "\n",
    "network = build_connections(parsed_input)\n",
    "network"
   ]
  },
  {
   "cell_type": "code",
   "execution_count": 41,
   "metadata": {},
   "outputs": [
    {
     "data": {
      "text/plain": [
       "12"
      ]
     },
     "execution_count": 41,
     "metadata": {},
     "output_type": "execute_result"
    }
   ],
   "source": [
    "from itertools import combinations\n",
    "\n",
    "def build_triplets(network):\n",
    "    triplets = set()\n",
    "    for a in network.keys():\n",
    "        for b, c in combinations(network[a], 2):\n",
    "            if b in network[c]:\n",
    "                triplets.add(frozenset({a, b, c}))\n",
    "    return triplets\n",
    "\n",
    "triplets = build_triplets(network)\n",
    "len(triplets)"
   ]
  },
  {
   "cell_type": "code",
   "execution_count": 42,
   "metadata": {},
   "outputs": [
    {
     "data": {
      "text/plain": [
       "7"
      ]
     },
     "execution_count": 42,
     "metadata": {},
     "output_type": "execute_result"
    }
   ],
   "source": [
    "def node_startswitht(triplet):\n",
    "    for n in triplet:\n",
    "        if n[0] == 't':\n",
    "            return True\n",
    "    else:\n",
    "        return False\n",
    "\n",
    "len({triplet for triplet in triplets if node_startswitht(triplet)})"
   ]
  },
  {
   "cell_type": "code",
   "execution_count": 39,
   "metadata": {},
   "outputs": [
    {
     "data": {
      "text/plain": [
       "1344"
      ]
     },
     "execution_count": 39,
     "metadata": {},
     "output_type": "execute_result"
    }
   ],
   "source": [
    "\n",
    "len({triplet for triplet\n",
    "    in build_triplets(\n",
    "        build_connections(\n",
    "            parse_input(downloaded['input'].splitlines())\n",
    "        )\n",
    "    ) if node_startswitht(triplet)\n",
    "    })"
   ]
  },
  {
   "cell_type": "code",
   "execution_count": 43,
   "metadata": {},
   "outputs": [
    {
     "data": {
      "text/html": [
       "\n",
       "<p>Your puzzle answer was <code>1344</code>.</p><p class=\"day-success\">The first half of this puzzle is complete! It provides one gold star: *</p>\n"
      ],
      "text/plain": [
       "<IPython.core.display.HTML object>"
      ]
     },
     "execution_count": 43,
     "metadata": {},
     "output_type": "execute_result"
    }
   ],
   "source": [
    "HTML(downloaded['part1_footer'])"
   ]
  },
  {
   "cell_type": "code",
   "execution_count": 44,
   "metadata": {
    "scrolled": true
   },
   "outputs": [
    {
     "data": {
      "text/html": [
       "<h2 id=\"part2\">--- Part Two ---</h2><p>There are still way too many results to go through them all. You'll have to find the LAN party another way and go there yourself.</p>\n",
       "<p>Since it doesn't seem like any employees are around, you figure they must all be at the LAN party. If that's true, the LAN party will be the <em>largest set of computers that are all connected to each other</em>. That is, for each computer at the LAN party, that computer will have a connection to every other computer at the LAN party.</p>\n",
       "<p>In the above example, the largest set of computers that are all connected to each other is made up of <code>co</code>, <code>de</code>, <code>ka</code>, and <code>ta</code>. Each computer in this set has a connection to every other computer in the set:</p>\n",
       "<pre><code>ka-co\n",
       "ta-co\n",
       "de-co\n",
       "ta-ka\n",
       "de-ta\n",
       "ka-de\n",
       "</code></pre>\n",
       "<p>The LAN party posters say that the <em>password</em> to get into the LAN party is the name of every computer at the LAN party, sorted alphabetically, then joined together with commas. (The people running the LAN party are clearly a bunch of <span title=\"You caught me. I'm a giant nerd.\">nerds</span>.) In this example, the password would be <code><em>co,de,ka,ta</em></code>.</p>\n",
       "<p><em>What is the password to get into the LAN party?</em></p>\n"
      ],
      "text/plain": [
       "<IPython.core.display.HTML object>"
      ]
     },
     "execution_count": 44,
     "metadata": {},
     "output_type": "execute_result"
    }
   ],
   "source": [
    "HTML(downloaded['part2'])"
   ]
  },
  {
   "cell_type": "code",
   "execution_count": 51,
   "metadata": {},
   "outputs": [],
   "source": [
    "def all_connected(c, network):\n",
    "    if len(c) <= 1:\n",
    "        return True\n",
    "    else:\n",
    "        return (\n",
    "            all(c[0] in network[cn] for cn in c[1:])\n",
    "            and all_connected(c[1:], network)\n",
    "        )"
   ]
  },
  {
   "cell_type": "code",
   "execution_count": 59,
   "metadata": {},
   "outputs": [
    {
     "name": "stdout",
     "output_type": "stream",
     "text": [
      "co,de,ka,ta\n"
     ]
    }
   ],
   "source": [
    "for c in combinations(network.keys(), 4):\n",
    "    c = list(sorted(c))\n",
    "    if all_connected(c, network):\n",
    "        print(','.join(c))"
   ]
  },
  {
   "cell_type": "code",
   "execution_count": 47,
   "metadata": {},
   "outputs": [
    {
     "data": {
      "text/plain": [
       "3380"
      ]
     },
     "execution_count": 47,
     "metadata": {},
     "output_type": "execute_result"
    }
   ],
   "source": [
    "len(downloaded['input'].splitlines())"
   ]
  },
  {
   "cell_type": "code",
   "execution_count": 60,
   "metadata": {},
   "outputs": [
    {
     "data": {
      "text/plain": [
       "520"
      ]
     },
     "execution_count": 60,
     "metadata": {},
     "output_type": "execute_result"
    }
   ],
   "source": [
    "network = build_connections(parse_input(downloaded['input'].splitlines()))\n",
    "len(network.keys())"
   ]
  },
  {
   "cell_type": "code",
   "execution_count": 67,
   "metadata": {},
   "outputs": [
    {
     "name": "stdout",
     "output_type": "stream",
     "text": [
      "[13, 13, 13, 13, 13, 13, 13, 13, 13, 13, 13, 13, 13, 13, 13, 13, 13, 13, 13, 13, 13, 13, 13, 13, 13, 13, 13, 13, 13, 13, 13, 13, 13, 13, 13, 13, 13, 13, 13, 13, 13, 13, 13, 13, 13, 13, 13, 13, 13, 13, 13, 13, 13, 13, 13, 13, 13, 13, 13, 13, 13, 13, 13, 13, 13, 13, 13, 13, 13, 13, 13, 13, 13, 13, 13, 13, 13, 13, 13, 13, 13, 13, 13, 13, 13, 13, 13, 13, 13, 13, 13, 13, 13, 13, 13, 13, 13, 13, 13, 13, 13, 13, 13, 13, 13, 13, 13, 13, 13, 13, 13, 13, 13, 13, 13, 13, 13, 13, 13, 13, 13, 13, 13, 13, 13, 13, 13, 13, 13, 13, 13, 13, 13, 13, 13, 13, 13, 13, 13, 13, 13, 13, 13, 13, 13, 13, 13, 13, 13, 13, 13, 13, 13, 13, 13, 13, 13, 13, 13, 13, 13, 13, 13, 13, 13, 13, 13, 13, 13, 13, 13, 13, 13, 13, 13, 13, 13, 13, 13, 13, 13, 13, 13, 13, 13, 13, 13, 13, 13, 13, 13, 13, 13, 13, 13, 13, 13, 13, 13, 13, 13, 13, 13, 13, 13, 13, 13, 13, 13, 13, 13, 13, 13, 13, 13, 13, 13, 13, 13, 13, 13, 13, 13, 13, 13, 13, 13, 13, 13, 13, 13, 13, 13, 13, 13, 13, 13, 13, 13, 13, 13, 13, 13, 13, 13, 13, 13, 13, 13, 13, 13, 13, 13, 13, 13, 13, 13, 13, 13, 13, 13, 13, 13, 13, 13, 13, 13, 13, 13, 13, 13, 13, 13, 13, 13, 13, 13, 13, 13, 13, 13, 13, 13, 13, 13, 13, 13, 13, 13, 13, 13, 13, 13, 13, 13, 13, 13, 13, 13, 13, 13, 13, 13, 13, 13, 13, 13, 13, 13, 13, 13, 13, 13, 13, 13, 13, 13, 13, 13, 13, 13, 13, 13, 13, 13, 13, 13, 13, 13, 13, 13, 13, 13, 13, 13, 13, 13, 13, 13, 13, 13, 13, 13, 13, 13, 13, 13, 13, 13, 13, 13, 13, 13, 13, 13, 13, 13, 13, 13, 13, 13, 13, 13, 13, 13, 13, 13, 13, 13, 13, 13, 13, 13, 13, 13, 13, 13, 13, 13, 13, 13, 13, 13, 13, 13, 13, 13, 13, 13, 13, 13, 13, 13, 13, 13, 13, 13, 13, 13, 13, 13, 13, 13, 13, 13, 13, 13, 13, 13, 13, 13, 13, 13, 13, 13, 13, 13, 13, 13, 13, 13, 13, 13, 13, 13, 13, 13, 13, 13, 13, 13, 13, 13, 13, 13, 13, 13, 13, 13, 13, 13, 13, 13, 13, 13, 13, 13, 13, 13, 13, 13, 13, 13, 13, 13, 13, 13, 13, 13, 13, 13, 13, 13, 13, 13, 13, 13, 13, 13, 13, 13, 13, 13, 13, 13, 13, 13, 13, 13, 13, 13, 13, 13, 13, 13, 13, 13, 13, 13, 13, 13, 13, 13, 13, 13, 13, 13, 13, 13, 13, 13, 13, 13, 13, 13, 13, 13, 13, 13, 13, 13, 13, 13, 13, 13, 13, 13, 13, 13, 13]\n"
     ]
    }
   ],
   "source": [
    "print([len(network[n]) for n in network.keys()])"
   ]
  }
 ],
 "metadata": {
  "kernelspec": {
   "display_name": ".python3.12-venv",
   "language": "python",
   "name": "python3"
  },
  "language_info": {
   "codemirror_mode": {
    "name": "ipython",
    "version": 3
   },
   "file_extension": ".py",
   "mimetype": "text/x-python",
   "name": "python",
   "nbconvert_exporter": "python",
   "pygments_lexer": "ipython3",
   "version": "3.12.8"
  }
 },
 "nbformat": 4,
 "nbformat_minor": 2
}

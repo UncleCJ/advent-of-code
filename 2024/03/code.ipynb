{
 "cells": [
  {
   "cell_type": "markdown",
   "metadata": {},
   "source": [
    "# Day 3: Mull It Over\n",
    "\n",
    "[*Advent of Code 2024 day 3*](https://adventofcode.com/2024/day/3) and [*solution megathread*](https://redd.it/1h5frsp)\n",
    "\n",
    "[![nbviewer](https://raw.githubusercontent.com/jupyter/design/master/logos/Badges/nbviewer_badge.svg)](https://nbviewer.jupyter.org/github/UncleCJ/advent-of-code/blob/cj/2024/03/code.ipynb) [![Binder](https://mybinder.org/badge_logo.svg)](https://mybinder.org/v2/gh/UncleCJ/advent-of-code/cj?filepath=2024%2F03%2Fcode.ipynb)"
   ]
  },
  {
   "cell_type": "code",
   "execution_count": 1,
   "metadata": {},
   "outputs": [],
   "source": [
    "from IPython.display import HTML\n",
    "import sys\n",
    "sys.path.append('../../')\n",
    "\n",
    "\n",
    "# %load_ext nb_mypy\n",
    "# %nb_mypy On"
   ]
  },
  {
   "cell_type": "code",
   "execution_count": 2,
   "metadata": {},
   "outputs": [
    {
     "name": "stdout",
     "output_type": "stream",
     "text": [
      "Writing 'downloaded' (dict) to file 'downloaded'.\n"
     ]
    }
   ],
   "source": [
    "import common\n",
    "\n",
    "\n",
    "downloaded = common.refresh()\n",
    "%store downloaded >downloaded\n",
    "\n",
    "# %load_ext pycodestyle_magic\n",
    "# %pycodestyle_on"
   ]
  },
  {
   "cell_type": "code",
   "execution_count": 3,
   "metadata": {},
   "outputs": [
    {
     "data": {
      "text/html": [
       "<h2>--- Day 3: Mull It Over ---</h2><p>\"Our computers are having issues, so I have no idea if we have any Chief Historians <span title=\"There's a spot reserved for Chief Historians between the green toboggans and the red toboggans. They've never actually had any Chief Historians in stock, but it's best to be prepared.\">in stock</span>! You're welcome to check the warehouse, though,\" says the mildly flustered shopkeeper at the <a href=\"/2020/day/2\">North Pole Toboggan Rental Shop</a>. The Historians head out to take a look.</p>\n",
       "<p>The shopkeeper turns to you. \"Any chance you can see why our computers are having issues again?\"</p>\n",
       "<p>The computer appears to be trying to run a program, but its memory (your puzzle input) is <em>corrupted</em>. All of the instructions have been jumbled up!</p>\n",
       "<p>It seems like the goal of the program is just to <em>multiply some numbers</em>. It does that with instructions like <code>mul(X,Y)</code>, where <code>X</code> and <code>Y</code> are each 1-3 digit numbers. For instance, <code>mul(44,46)</code> multiplies <code>44</code> by <code>46</code> to get a result of <code>2024</code>. Similarly, <code>mul(123,4)</code> would multiply <code>123</code> by <code>4</code>.</p>\n",
       "<p>However, because the program's memory has been corrupted, there are also many invalid characters that should be <em>ignored</em>, even if they look like part of a <code>mul</code> instruction. Sequences like <code>mul(4*</code>, <code>mul(6,9!</code>, <code>?(12,34)</code>, or <code>mul ( 2 , 4 )</code> do <em>nothing</em>.</p>\n",
       "<p>For example, consider the following section of corrupted memory:</p>\n",
       "<pre><code>x<em>mul(2,4)</em>%&mul[3,7]!@^do_not_<em>mul(5,5)</em>+mul(32,64]then(<em>mul(11,8)mul(8,5)</em>)</code></pre>\n",
       "<p>Only the four highlighted sections are real <code>mul</code> instructions. Adding up the result of each instruction produces <code><em>161</em></code> (<code>2*4 + 5*5 + 11*8 + 8*5</code>).</p>\n",
       "<p>Scan the corrupted memory for uncorrupted <code>mul</code> instructions. <em>What do you get if you add up all of the results of the multiplications?</em></p>\n"
      ],
      "text/plain": [
       "<IPython.core.display.HTML object>"
      ]
     },
     "execution_count": 3,
     "metadata": {},
     "output_type": "execute_result"
    }
   ],
   "source": [
    "from IPython.display import HTML\n",
    "\n",
    "HTML(downloaded['part1'])"
   ]
  },
  {
   "cell_type": "code",
   "execution_count": 4,
   "metadata": {},
   "outputs": [],
   "source": [
    "part1_example_input = '''...#......\n",
    ".......#..\n",
    "#.........\n",
    "..........\n",
    "......#...\n",
    ".#........\n",
    ".........#\n",
    "..........\n",
    ".......#..\n",
    "#...#.....'''"
   ]
  },
  {
   "cell_type": "code",
   "execution_count": 5,
   "metadata": {},
   "outputs": [
    {
     "data": {
      "text/plain": [
       "([(0, 3), (1, 7), (2, 0), (4, 6), (5, 1), (6, 9), (8, 7), (9, 0), (9, 4)],\n",
       " [0, 1, 2, 4, 5, 6, 8, 9],\n",
       " [0, 1, 3, 4, 6, 7, 9])"
      ]
     },
     "execution_count": 5,
     "metadata": {},
     "output_type": "execute_result"
    }
   ],
   "source": [
    "def parse_input(lines):\n",
    "    nonempty_rows = set()\n",
    "    nonempty_cols = set()\n",
    "    galaxies = []\n",
    "    for row, line in zip(range(len(lines)), lines):\n",
    "        for col in range(len(line)):\n",
    "            if line[col] == '#':\n",
    "                nonempty_rows.add(row)\n",
    "                nonempty_cols.add(col)\n",
    "                galaxies.append((row, col))\n",
    "    return galaxies, list(nonempty_rows), list(nonempty_cols)\n",
    "\n",
    "parse_input(part1_example_input.splitlines())"
   ]
  },
  {
   "cell_type": "code",
   "execution_count": 6,
   "metadata": {},
   "outputs": [
    {
     "data": {
      "text/plain": [
       "[(0, 3), (1, 7), (2, 0), (4, 6), (5, 1), (6, 9), (8, 7), (9, 0), (9, 4)]"
      ]
     },
     "execution_count": 6,
     "metadata": {},
     "output_type": "execute_result"
    }
   ],
   "source": [
    "def expand_universe(galaxies, nonempty_rows, nonempty_cols, expansion_factor=1):\n",
    "    def find_empty(nonempty_sorted):\n",
    "        previous = -1\n",
    "        found_empty = []\n",
    "        for i in nonempty_sorted:\n",
    "            if i - previous > 1:\n",
    "                found_empty += range(previous+1, i)\n",
    "            previous = i\n",
    "        return found_empty\n",
    "    \n",
    "    def expand_vector(nonempty_sorted, empty_sorted):\n",
    "        # Here I'm not entirely happy with iterating through the entire `empty_sorted`\n",
    "        # to see which are smaller, but as we only do it for rows and columns rather\n",
    "        # than each galaxy, it is fine\n",
    "        return [i + (expansion_factor-1)*sum(i > j for j in empty_sorted) for i in nonempty_sorted]\n",
    "    \n",
    "    def expand_galaxy(old_row, old_col, rowmapping, colmapping):\n",
    "        return rowmapping[old_row], colmapping[old_col]\n",
    "        \n",
    "    empty_rows = find_empty(nonempty_rows)\n",
    "    empty_cols = find_empty(nonempty_cols)\n",
    "    rowmapping = dict(zip(nonempty_rows, expand_vector(nonempty_rows, empty_rows)))\n",
    "    colmapping = dict(zip(nonempty_cols, expand_vector(nonempty_cols, empty_cols)))\n",
    "    return [expand_galaxy(*galaxy, rowmapping, colmapping) for galaxy in galaxies]\n",
    "\n",
    "expand_universe(*parse_input(part1_example_input.splitlines()))"
   ]
  },
  {
   "cell_type": "code",
   "execution_count": 7,
   "metadata": {},
   "outputs": [
    {
     "data": {
      "text/plain": [
       "292"
      ]
     },
     "execution_count": 7,
     "metadata": {},
     "output_type": "execute_result"
    }
   ],
   "source": [
    "def galaxies_distances(galaxy, galaxies):\n",
    "    # print(f\"{galaxy=}, {galaxies=}\")\n",
    "    if not galaxy:\n",
    "        return galaxies_distances(galaxies[0], galaxies[1:])\n",
    "    head = {f\"{galaxy} - {row, col}\": abs(row - galaxy[0]) + abs(col - galaxy[1]) for row, col in galaxies}\n",
    "    if galaxies:\n",
    "        head.update(galaxies_distances(galaxies[0], galaxies[1:]))\n",
    "    return head\n",
    "\n",
    "sum(galaxies_distances(None, expand_universe(*parse_input(part1_example_input.splitlines()))).values())\n",
    "# sum(galaxies_distances(None, expand_universe(*parse_input(downloaded['input'].splitlines()))).values())"
   ]
  },
  {
   "cell_type": "code",
   "execution_count": 4,
   "metadata": {
    "scrolled": true
   },
   "outputs": [],
   "source": [
    "# HTML(downloaded['part2'])"
   ]
  },
  {
   "cell_type": "code",
   "execution_count": 9,
   "metadata": {},
   "outputs": [
    {
     "name": "stdout",
     "output_type": "stream",
     "text": [
      "1030\n",
      "8410\n"
     ]
    }
   ],
   "source": [
    "print(sum(galaxies_distances(None, expand_universe(*parse_input(part1_example_input.splitlines()), expansion_factor=10)).values()))\n",
    "print(sum(galaxies_distances(None, expand_universe(*parse_input(part1_example_input.splitlines()), expansion_factor=100)).values()))\n",
    "# sum(galaxies_distances(None, expand_universe(*parse_input(downloaded['input'].splitlines()), expansion_factor=1000000)).values())"
   ]
  }
 ],
 "metadata": {
  "kernelspec": {
   "display_name": ".python3.12-venv",
   "language": "python",
   "name": "python3"
  },
  "language_info": {
   "codemirror_mode": {
    "name": "ipython",
    "version": 3
   },
   "file_extension": ".py",
   "mimetype": "text/x-python",
   "name": "python",
   "nbconvert_exporter": "python",
   "pygments_lexer": "ipython3",
   "version": "3.12.7"
  }
 },
 "nbformat": 4,
 "nbformat_minor": 2
}

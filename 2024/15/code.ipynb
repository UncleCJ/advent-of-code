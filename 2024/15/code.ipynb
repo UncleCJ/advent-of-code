{
 "cells": [
  {
   "cell_type": "markdown",
   "metadata": {},
   "source": [
    "# Day 15: Warehouse Woes\n",
    "\n",
    "[*Advent of Code 2024 day 15*](https://adventofcode.com/2024/day/15) and [*solution megathread*](https://redd.it/1hele8m)\n",
    "\n",
    "[![nbviewer](https://raw.githubusercontent.com/jupyter/design/master/logos/Badges/nbviewer_badge.svg)](https://nbviewer.jupyter.org/github/UncleCJ/advent-of-code/blob/cj/2024/15/code.ipynb) [![Binder](https://mybinder.org/badge_logo.svg)](https://mybinder.org/v2/gh/UncleCJ/advent-of-code/cj?filepath=2024%2F15%2Fcode.ipynb)"
   ]
  },
  {
   "cell_type": "code",
   "execution_count": 1,
   "metadata": {},
   "outputs": [],
   "source": [
    "from IPython.display import HTML\n",
    "import sys\n",
    "sys.path.append('../../')\n",
    "\n",
    "\n",
    "# %load_ext nb_mypy\n",
    "# %nb_mypy On"
   ]
  },
  {
   "cell_type": "code",
   "execution_count": 2,
   "metadata": {},
   "outputs": [
    {
     "name": "stdout",
     "output_type": "stream",
     "text": [
      "Writing 'downloaded' (dict) to file 'downloaded'.\n"
     ]
    }
   ],
   "source": [
    "import common\n",
    "\n",
    "\n",
    "downloaded = common.refresh()\n",
    "%store downloaded >downloaded\n",
    "\n",
    "# %load_ext pycodestyle_magic\n",
    "# %pycodestyle_on"
   ]
  },
  {
   "cell_type": "code",
   "execution_count": 3,
   "metadata": {},
   "outputs": [
    {
     "data": {
      "text/html": [
       "<h2>--- Day 15: Warehouse Woes ---</h2><p>You appear back inside your own mini submarine! Each Historian drives their mini submarine in a different direction; maybe the Chief has his own submarine down here somewhere as well?</p>\n",
       "<p>You look up to see a vast school of <a href=\"/2021/day/6\">lanternfish</a> swimming past you. On closer inspection, they seem quite anxious, so you drive your mini submarine over to see if you can help.</p>\n",
       "<p>Because lanternfish populations grow rapidly, they need a lot of food, and that food needs to be stored somewhere. That's why these lanternfish have built elaborate warehouse complexes operated by robots!</p>\n",
       "<p>These lanternfish seem so anxious because they have lost control of the robot that operates one of their most important warehouses! It is currently running <span title=\"Wesnoth players might solve their Warehouse Woes with a Warehouse Wose!\">amok</span>, pushing around boxes in the warehouse with no regard for lanternfish logistics <em>or</em> lanternfish inventory management strategies.</p>\n",
       "<p>Right now, none of the lanternfish are brave enough to swim up to an unpredictable robot so they could shut it off. However, if you could anticipate the robot's movements, maybe they could find a safe option.</p>\n",
       "<p>The lanternfish already have a map of the warehouse and a list of movements the robot will <em>attempt</em> to make (your puzzle input). The problem is that the movements will sometimes fail as boxes are shifted around, making the actual movements of the robot difficult to predict.</p>\n",
       "<p>For example:</p>\n",
       "<pre><code>##########\n",
       "#..O..O.O#\n",
       "#......O.#\n",
       "#.OO..O.O#\n",
       "#..O@..O.#\n",
       "#O#..O...#\n",
       "#O..O..O.#\n",
       "#.OO.O.OO#\n",
       "#....O...#\n",
       "##########\n",
       "\n",
       "&lt;vv&gt;^&lt;v^&gt;v&gt;^vv^v&gt;v&lt;&gt;v^v&lt;v&lt;^vv&lt;&lt;&lt;^&gt;&lt;&lt;&gt;&lt;&gt;&gt;v&lt;vvv&lt;&gt;^v^&gt;^&lt;&lt;&lt;&gt;&lt;&lt;v&lt;&lt;&lt;v^vv^v&gt;^\n",
       "vvv&lt;&lt;^&gt;^v^^&gt;&lt;&lt;&gt;&gt;&gt;&lt;&gt;^&lt;&lt;&gt;&lt;^vv^^&lt;&gt;vvv&lt;&gt;&gt;&lt;^^v&gt;^&gt;vv&lt;&gt;v&lt;&lt;&lt;&lt;v&lt;^v&gt;^&lt;^^&gt;&gt;&gt;^&lt;v&lt;v\n",
       "&gt;&lt;&gt;vv&gt;v^v^&lt;&gt;&gt;&lt;&gt;&gt;&gt;&gt;&lt;^^&gt;vv&gt;v&lt;^^^&gt;&gt;v^v^&lt;^^&gt;v^^&gt;v^&lt;^v&gt;v&lt;&gt;&gt;v^v^&lt;v&gt;v^^&lt;^^vv&lt;\n",
       "&lt;&lt;v&lt;^&gt;&gt;^^^^&gt;&gt;&gt;v^&lt;&gt;vvv^&gt;&lt;v&lt;&lt;&lt;&gt;^^^vv^&lt;vvv&gt;^&gt;v&lt;^^^^v&lt;&gt;^&gt;vvvv&gt;&lt;&gt;&gt;v^&lt;&lt;^^^^^\n",
       "^&gt;&lt;^&gt;&lt;&gt;&gt;&gt;&lt;&gt;^^&lt;&lt;^^v&gt;&gt;&gt;&lt;^&lt;v&gt;^&lt;vv&gt;&gt;v&gt;&gt;&gt;^v&gt;&lt;&gt;^v&gt;&lt;&lt;&lt;&lt;v&gt;&gt;v&lt;v&lt;v&gt;vvv&gt;^&lt;&gt;&lt;&lt;&gt;^&gt;&lt;\n",
       "^&gt;&gt;&lt;&gt;^v&lt;&gt;&lt;^vvv&lt;^^&lt;&gt;&lt;v&lt;&lt;&lt;&lt;&lt;&gt;&lt;^v&lt;&lt;&lt;&gt;&lt;&lt;&lt;^^&lt;v&lt;^^^&gt;&lt;^&gt;&gt;^&lt;v^&gt;&lt;&lt;&lt;^&gt;&gt;^v&lt;v^v&lt;v^\n",
       "&gt;^&gt;&gt;^v&gt;vv&gt;^&lt;&lt;^v&lt;&gt;&gt;&lt;&lt;&gt;&lt;&lt;v&lt;&lt;v&gt;&lt;&gt;v&lt;^vv&lt;&lt;&lt;&gt;^^v^&gt;^^&gt;&gt;&gt;&lt;&lt;^v&gt;&gt;v^v&gt;&lt;^^&gt;&gt;^&lt;&gt;vv^\n",
       "&lt;&gt;&lt;^^&gt;^^^&lt;&gt;&lt;vvvvv^v&lt;v&lt;&lt;&gt;^v&lt;v&gt;v&lt;&lt;^&gt;&lt;&lt;&gt;&lt;&lt;&gt;&lt;&lt;&lt;^^&lt;&lt;&lt;^&lt;&lt;&gt;&gt;&lt;&lt;&gt;&lt;^^^&gt;^^&lt;&gt;^&gt;v&lt;&gt;\n",
       "^^&gt;vv&lt;^v^v&lt;vv&gt;^&lt;&gt;&lt;v&lt;^v&gt;^^^&gt;&gt;&gt;^^vvv^&gt;vvv&lt;&gt;&gt;&gt;^&lt;^&gt;&gt;&gt;&gt;&gt;^&lt;&lt;^v&gt;^vvv&lt;&gt;^&lt;&gt;&lt;&lt;v&gt;\n",
       "v^^&gt;&gt;&gt;&lt;&lt;^^&lt;&gt;&gt;^v^&lt;v^vv&lt;&gt;v^&lt;&lt;&gt;^&lt;^v^v&gt;&lt;^&lt;&lt;&lt;&gt;&lt;&lt;^&lt;v&gt;&lt;v&lt;&gt;vv&gt;&gt;v&gt;&lt;v^&lt;vv&lt;&gt;v^&lt;&lt;^\n",
       "</code></pre>\n",
       "<p>As the robot (<code>@</code>) attempts to move, if there are any boxes (<code>O</code>) in the way, the robot will also attempt to push those boxes. However, if this action would cause the robot or a box to move into a wall (<code>#</code>), nothing moves instead, including the robot. The initial positions of these are shown on the map at the top of the document the lanternfish gave you.</p>\n",
       "<p>The rest of the document describes the <em>moves</em> (<code>^</code> for up, <code>v</code> for down, <code>&lt;</code> for left, <code>&gt;</code> for right) that the robot will attempt to make, in order. (The moves form a single giant sequence; they are broken into multiple lines just to make copy-pasting easier. Newlines within the move sequence should be ignored.)</p>\n",
       "<p>Here is a smaller example to get started:</p>\n",
       "<pre><code>########\n",
       "#..O.O.#\n",
       "##@.O..#\n",
       "#...O..#\n",
       "#.#.O..#\n",
       "#...O..#\n",
       "#......#\n",
       "########\n",
       "\n",
       "&lt;^^&gt;&gt;&gt;vv&lt;v&gt;&gt;v&lt;&lt;\n",
       "</code></pre>\n",
       "<p>Were the robot to attempt the given sequence of moves, it would push around the boxes as follows:</p>\n",
       "<pre><code>Initial state:\n",
       "########\n",
       "#..O.O.#\n",
       "##<em>@</em>.O..#\n",
       "#...O..#\n",
       "#.#.O..#\n",
       "#...O..#\n",
       "#......#\n",
       "########\n",
       "\n",
       "Move &lt;:\n",
       "########\n",
       "#..O.O.#\n",
       "##<em>@</em>.O..#\n",
       "#...O..#\n",
       "#.#.O..#\n",
       "#...O..#\n",
       "#......#\n",
       "########\n",
       "\n",
       "Move ^:\n",
       "########\n",
       "#.<em>@</em>O.O.#\n",
       "##..O..#\n",
       "#...O..#\n",
       "#.#.O..#\n",
       "#...O..#\n",
       "#......#\n",
       "########\n",
       "\n",
       "Move ^:\n",
       "########\n",
       "#.<em>@</em>O.O.#\n",
       "##..O..#\n",
       "#...O..#\n",
       "#.#.O..#\n",
       "#...O..#\n",
       "#......#\n",
       "########\n",
       "\n",
       "Move &gt;:\n",
       "########\n",
       "#..<em>@</em>OO.#\n",
       "##..O..#\n",
       "#...O..#\n",
       "#.#.O..#\n",
       "#...O..#\n",
       "#......#\n",
       "########\n",
       "\n",
       "Move &gt;:\n",
       "########\n",
       "#...<em>@</em>OO#\n",
       "##..O..#\n",
       "#...O..#\n",
       "#.#.O..#\n",
       "#...O..#\n",
       "#......#\n",
       "########\n",
       "\n",
       "Move &gt;:\n",
       "########\n",
       "#...<em>@</em>OO#\n",
       "##..O..#\n",
       "#...O..#\n",
       "#.#.O..#\n",
       "#...O..#\n",
       "#......#\n",
       "########\n",
       "\n",
       "Move v:\n",
       "########\n",
       "#....OO#\n",
       "##..<em>@</em>..#\n",
       "#...O..#\n",
       "#.#.O..#\n",
       "#...O..#\n",
       "#...O..#\n",
       "########\n",
       "\n",
       "Move v:\n",
       "########\n",
       "#....OO#\n",
       "##..<em>@</em>..#\n",
       "#...O..#\n",
       "#.#.O..#\n",
       "#...O..#\n",
       "#...O..#\n",
       "########\n",
       "\n",
       "Move &lt;:\n",
       "########\n",
       "#....OO#\n",
       "##.<em>@</em>...#\n",
       "#...O..#\n",
       "#.#.O..#\n",
       "#...O..#\n",
       "#...O..#\n",
       "########\n",
       "\n",
       "Move v:\n",
       "########\n",
       "#....OO#\n",
       "##.....#\n",
       "#..<em>@</em>O..#\n",
       "#.#.O..#\n",
       "#...O..#\n",
       "#...O..#\n",
       "########\n",
       "\n",
       "Move &gt;:\n",
       "########\n",
       "#....OO#\n",
       "##.....#\n",
       "#...<em>@</em>O.#\n",
       "#.#.O..#\n",
       "#...O..#\n",
       "#...O..#\n",
       "########\n",
       "\n",
       "Move &gt;:\n",
       "########\n",
       "#....OO#\n",
       "##.....#\n",
       "#....<em>@</em>O#\n",
       "#.#.O..#\n",
       "#...O..#\n",
       "#...O..#\n",
       "########\n",
       "\n",
       "Move v:\n",
       "########\n",
       "#....OO#\n",
       "##.....#\n",
       "#.....O#\n",
       "#.#.O<em>@</em>.#\n",
       "#...O..#\n",
       "#...O..#\n",
       "########\n",
       "\n",
       "Move &lt;:\n",
       "########\n",
       "#....OO#\n",
       "##.....#\n",
       "#.....O#\n",
       "#.#O<em>@</em>..#\n",
       "#...O..#\n",
       "#...O..#\n",
       "########\n",
       "\n",
       "Move &lt;:\n",
       "########\n",
       "#....OO#\n",
       "##.....#\n",
       "#.....O#\n",
       "#.#O<em>@</em>..#\n",
       "#...O..#\n",
       "#...O..#\n",
       "########\n",
       "</code></pre>\n",
       "<p>The larger example has many more moves; after the robot has finished those moves, the warehouse would look like this:</p>\n",
       "<pre><code>##########\n",
       "#.O.O.OOO#\n",
       "#........#\n",
       "#OO......#\n",
       "#OO<em>@</em>.....#\n",
       "#O#.....O#\n",
       "#O.....OO#\n",
       "#O.....OO#\n",
       "#OO....OO#\n",
       "##########\n",
       "</code></pre>\n",
       "<p>The lanternfish use their own custom Goods Positioning System (GPS for short) to track the locations of the boxes. The <em>GPS coordinate</em> of a box is equal to 100 times its distance from the top edge of the map plus its distance from the left edge of the map. (This process does not stop at wall tiles; measure all the way to the edges of the map.)</p>\n",
       "<p>So, the box shown below has a distance of <code>1</code> from the top edge of the map and <code>4</code> from the left edge of the map, resulting in a GPS coordinate of <code>100 * 1 + 4 = 104</code>.</p>\n",
       "<pre><code>#######\n",
       "#...O..\n",
       "#......\n",
       "</code></pre>\n",
       "<p>The lanternfish would like to know the <em>sum of all boxes' GPS coordinates</em> after the robot finishes moving. In the larger example, the sum of all boxes' GPS coordinates is <code><em>10092</em></code>. In the smaller example, the sum is <code><em>2028</em></code>.</p>\n",
       "<p>Predict the motion of the robot and boxes in the warehouse. After the robot is finished moving, <em>what is the sum of all boxes' GPS coordinates?</em></p>\n"
      ],
      "text/plain": [
       "<IPython.core.display.HTML object>"
      ]
     },
     "execution_count": 3,
     "metadata": {},
     "output_type": "execute_result"
    }
   ],
   "source": [
    "from IPython.display import HTML\n",
    "\n",
    "HTML(downloaded['part1'])"
   ]
  },
  {
   "cell_type": "code",
   "execution_count": 4,
   "metadata": {},
   "outputs": [],
   "source": [
    "part1_example_input = '''...#......\n",
    ".......#..\n",
    "#.........\n",
    "..........\n",
    "......#...\n",
    ".#........\n",
    ".........#\n",
    "..........\n",
    ".......#..\n",
    "#...#.....'''"
   ]
  },
  {
   "cell_type": "code",
   "execution_count": 5,
   "metadata": {},
   "outputs": [
    {
     "data": {
      "text/plain": [
       "([(0, 3), (1, 7), (2, 0), (4, 6), (5, 1), (6, 9), (8, 7), (9, 0), (9, 4)],\n",
       " [0, 1, 2, 4, 5, 6, 8, 9],\n",
       " [0, 1, 3, 4, 6, 7, 9])"
      ]
     },
     "execution_count": 5,
     "metadata": {},
     "output_type": "execute_result"
    }
   ],
   "source": [
    "def parse_input(lines):\n",
    "    nonempty_rows = set()\n",
    "    nonempty_cols = set()\n",
    "    galaxies = []\n",
    "    for row, line in zip(range(len(lines)), lines):\n",
    "        for col in range(len(line)):\n",
    "            if line[col] == '#':\n",
    "                nonempty_rows.add(row)\n",
    "                nonempty_cols.add(col)\n",
    "                galaxies.append((row, col))\n",
    "    return galaxies, list(nonempty_rows), list(nonempty_cols)\n",
    "\n",
    "parse_input(part1_example_input.splitlines())"
   ]
  },
  {
   "cell_type": "code",
   "execution_count": 6,
   "metadata": {},
   "outputs": [
    {
     "data": {
      "text/plain": [
       "[(0, 3), (1, 7), (2, 0), (4, 6), (5, 1), (6, 9), (8, 7), (9, 0), (9, 4)]"
      ]
     },
     "execution_count": 6,
     "metadata": {},
     "output_type": "execute_result"
    }
   ],
   "source": [
    "def expand_universe(galaxies, nonempty_rows, nonempty_cols, expansion_factor=1):\n",
    "    def find_empty(nonempty_sorted):\n",
    "        previous = -1\n",
    "        found_empty = []\n",
    "        for i in nonempty_sorted:\n",
    "            if i - previous > 1:\n",
    "                found_empty += range(previous+1, i)\n",
    "            previous = i\n",
    "        return found_empty\n",
    "    \n",
    "    def expand_vector(nonempty_sorted, empty_sorted):\n",
    "        # Here I'm not entirely happy with iterating through the entire `empty_sorted`\n",
    "        # to see which are smaller, but as we only do it for rows and columns rather\n",
    "        # than each galaxy, it is fine\n",
    "        return [i + (expansion_factor-1)*sum(i > j for j in empty_sorted) for i in nonempty_sorted]\n",
    "    \n",
    "    def expand_galaxy(old_row, old_col, rowmapping, colmapping):\n",
    "        return rowmapping[old_row], colmapping[old_col]\n",
    "        \n",
    "    empty_rows = find_empty(nonempty_rows)\n",
    "    empty_cols = find_empty(nonempty_cols)\n",
    "    rowmapping = dict(zip(nonempty_rows, expand_vector(nonempty_rows, empty_rows)))\n",
    "    colmapping = dict(zip(nonempty_cols, expand_vector(nonempty_cols, empty_cols)))\n",
    "    return [expand_galaxy(*galaxy, rowmapping, colmapping) for galaxy in galaxies]\n",
    "\n",
    "expand_universe(*parse_input(part1_example_input.splitlines()))"
   ]
  },
  {
   "cell_type": "code",
   "execution_count": 7,
   "metadata": {},
   "outputs": [
    {
     "data": {
      "text/plain": [
       "292"
      ]
     },
     "execution_count": 7,
     "metadata": {},
     "output_type": "execute_result"
    }
   ],
   "source": [
    "def galaxies_distances(galaxy, galaxies):\n",
    "    # print(f\"{galaxy=}, {galaxies=}\")\n",
    "    if not galaxy:\n",
    "        return galaxies_distances(galaxies[0], galaxies[1:])\n",
    "    head = {f\"{galaxy} - {row, col}\": abs(row - galaxy[0]) + abs(col - galaxy[1]) for row, col in galaxies}\n",
    "    if galaxies:\n",
    "        head.update(galaxies_distances(galaxies[0], galaxies[1:]))\n",
    "    return head\n",
    "\n",
    "sum(galaxies_distances(None, expand_universe(*parse_input(part1_example_input.splitlines()))).values())\n",
    "# sum(galaxies_distances(None, expand_universe(*parse_input(downloaded['input'].splitlines()))).values())"
   ]
  },
  {
   "cell_type": "code",
   "execution_count": 4,
   "metadata": {
    "scrolled": true
   },
   "outputs": [],
   "source": [
    "# HTML(downloaded['part2'])"
   ]
  },
  {
   "cell_type": "code",
   "execution_count": 9,
   "metadata": {},
   "outputs": [
    {
     "name": "stdout",
     "output_type": "stream",
     "text": [
      "1030\n",
      "8410\n"
     ]
    }
   ],
   "source": [
    "print(sum(galaxies_distances(None, expand_universe(*parse_input(part1_example_input.splitlines()), expansion_factor=10)).values()))\n",
    "print(sum(galaxies_distances(None, expand_universe(*parse_input(part1_example_input.splitlines()), expansion_factor=100)).values()))\n",
    "# sum(galaxies_distances(None, expand_universe(*parse_input(downloaded['input'].splitlines()), expansion_factor=1000000)).values())"
   ]
  }
 ],
 "metadata": {
  "kernelspec": {
   "display_name": ".python3.12-venv",
   "language": "python",
   "name": "python3"
  },
  "language_info": {
   "codemirror_mode": {
    "name": "ipython",
    "version": 3
   },
   "file_extension": ".py",
   "mimetype": "text/x-python",
   "name": "python",
   "nbconvert_exporter": "python",
   "pygments_lexer": "ipython3",
   "version": "3.12.7"
  }
 },
 "nbformat": 4,
 "nbformat_minor": 2
}

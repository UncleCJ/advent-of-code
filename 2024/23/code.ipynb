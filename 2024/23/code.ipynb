{
 "cells": [
  {
   "cell_type": "markdown",
   "metadata": {},
   "source": [
    "# Day 23: LAN Party\n",
    "\n",
    "[*Advent of Code 2024 day 23*](https://adventofcode.com/2024/day/23) and [*solution megathread*](https://redd.it/1hkgj5b)\n",
    "\n",
    "[![nbviewer](https://raw.githubusercontent.com/jupyter/design/master/logos/Badges/nbviewer_badge.svg)](https://nbviewer.jupyter.org/github/UncleCJ/advent-of-code/blob/cj/2024/23/code.ipynb) [![Binder](https://mybinder.org/badge_logo.svg)](https://mybinder.org/v2/gh/UncleCJ/advent-of-code/cj?filepath=2024%2F23%2Fcode.ipynb)"
   ]
  },
  {
   "cell_type": "code",
   "execution_count": 1,
   "metadata": {},
   "outputs": [],
   "source": [
    "from IPython.display import HTML\n",
    "import sys\n",
    "sys.path.append('../../')\n",
    "\n",
    "\n",
    "# %load_ext nb_mypy\n",
    "# %nb_mypy On"
   ]
  },
  {
   "cell_type": "code",
   "execution_count": 2,
   "metadata": {},
   "outputs": [
    {
     "name": "stdout",
     "output_type": "stream",
     "text": [
      "Writing 'downloaded' (dict) to file 'downloaded'.\n"
     ]
    }
   ],
   "source": [
    "import common\n",
    "\n",
    "\n",
    "downloaded = common.refresh()\n",
    "%store downloaded >downloaded\n",
    "\n",
    "# %load_ext pycodestyle_magic\n",
    "# %pycodestyle_on"
   ]
  },
  {
   "cell_type": "code",
   "execution_count": 3,
   "metadata": {},
   "outputs": [
    {
     "data": {
      "text/html": [
       "<h2>--- Day 23: LAN Party ---</h2><p>As The Historians wander around a secure area at Easter Bunny HQ, you come across posters for a <a href=\"https://en.wikipedia.org/wiki/LAN_party\" target=\"_blank\">LAN party</a> scheduled for today! Maybe you can find it; you connect to a nearby <a href=\"/2016/day/9\">datalink port</a> and download a map of the local network (your puzzle input).</p>\n",
       "<p>The network map provides a list of every <em>connection between two computers</em>. For example:</p>\n",
       "<pre><code>kh-tc\n",
       "qp-kh\n",
       "de-cg\n",
       "ka-co\n",
       "yn-aq\n",
       "qp-ub\n",
       "cg-tb\n",
       "vc-aq\n",
       "tb-ka\n",
       "wh-tc\n",
       "yn-cg\n",
       "kh-ub\n",
       "ta-co\n",
       "de-co\n",
       "tc-td\n",
       "tb-wq\n",
       "wh-td\n",
       "ta-ka\n",
       "td-qp\n",
       "aq-cg\n",
       "wq-ub\n",
       "ub-vc\n",
       "de-ta\n",
       "wq-aq\n",
       "wq-vc\n",
       "wh-yn\n",
       "ka-de\n",
       "kh-ta\n",
       "co-tc\n",
       "wh-qp\n",
       "tb-vc\n",
       "td-yn\n",
       "</code></pre>\n",
       "<p>Each line of text in the network map represents a single connection; the line <code>kh-tc</code> represents a connection between the computer named <code>kh</code> and the computer named <code>tc</code>. Connections aren't directional; <code>tc-kh</code> would mean exactly the same thing.</p>\n",
       "<p>LAN parties typically involve multiplayer games, so maybe you can locate it by finding groups of connected computers. Start by looking for <em>sets of three computers</em> where each computer in the set is connected to the other two computers.</p>\n",
       "<p>In this example, there are <code>12</code> such sets of three inter-connected computers:</p>\n",
       "<pre><code>aq,cg,yn\n",
       "aq,vc,wq\n",
       "co,de,ka\n",
       "co,de,ta\n",
       "co,ka,ta\n",
       "de,ka,ta\n",
       "kh,qp,ub\n",
       "qp,td,wh\n",
       "tb,vc,wq\n",
       "tc,td,wh\n",
       "td,wh,yn\n",
       "ub,vc,wq\n",
       "</code></pre>\n",
       "<p>If the Chief Historian is here, <em>and</em> he's at the LAN party, it would be best to know that right away. You're pretty sure his computer's name starts with <code>t</code>, so consider only sets of three computers where at least one computer's name starts with <code>t</code>. That narrows the list down to <code><em>7</em></code> sets of three inter-connected computers:</p>\n",
       "<pre><code>co,de,<em>ta</em>\n",
       "co,ka,<em>ta</em>\n",
       "de,ka,<em>ta</em>\n",
       "qp,<em>td</em>,wh\n",
       "<em>tb</em>,vc,wq\n",
       "<em>tc</em>,<em>td</em>,wh\n",
       "<em>td</em>,wh,yn\n",
       "</code></pre>\n",
       "<p>Find all the sets of three inter-connected computers. <em>How many contain at least one computer with a name that starts with <code>t</code>?</em></p>\n"
      ],
      "text/plain": [
       "<IPython.core.display.HTML object>"
      ]
     },
     "execution_count": 3,
     "metadata": {},
     "output_type": "execute_result"
    }
   ],
   "source": [
    "from IPython.display import HTML\n",
    "\n",
    "HTML(downloaded['part1'])"
   ]
  },
  {
   "cell_type": "code",
   "execution_count": 4,
   "metadata": {},
   "outputs": [],
   "source": [
    "part1_example_input = '''kh-tc\n",
    "qp-kh\n",
    "de-cg\n",
    "ka-co\n",
    "yn-aq\n",
    "qp-ub\n",
    "cg-tb\n",
    "vc-aq\n",
    "tb-ka\n",
    "wh-tc\n",
    "yn-cg\n",
    "kh-ub\n",
    "ta-co\n",
    "de-co\n",
    "tc-td\n",
    "tb-wq\n",
    "wh-td\n",
    "ta-ka\n",
    "td-qp\n",
    "aq-cg\n",
    "wq-ub\n",
    "ub-vc\n",
    "de-ta\n",
    "wq-aq\n",
    "wq-vc\n",
    "wh-yn\n",
    "ka-de\n",
    "kh-ta\n",
    "co-tc\n",
    "wh-qp\n",
    "tb-vc\n",
    "td-yn'''\n",
    "\n",
    "# print(downloaded['input'])"
   ]
  },
  {
   "cell_type": "code",
   "execution_count": 5,
   "metadata": {},
   "outputs": [
    {
     "data": {
      "text/html": [
       "\n",
       "<p>To begin, <a href=\"23/input\" target=\"_blank\">get your puzzle input</a>.</p>\n",
       "<form method=\"post\" action=\"23/answer\"><input type=\"hidden\" name=\"level\" value=\"1\"/><p>Answer: <input type=\"text\" name=\"answer\" autocomplete=\"off\"/> <input type=\"submit\" value=\"[Submit]\"/></p></form>\n",
       "<p>You can also <span class=\"share\">[Share<span class=\"share-content\">on\n",
       "  <a href=\"https://bsky.app/intent/compose?text=%22LAN+Party%22+%2D+Day+23+%2D+Advent+of+Code+2024+%23AdventOfCode+https%3A%2F%2Fadventofcode%2Ecom%2F2024%2Fday%2F23\" target=\"_blank\">Bluesky</a>\n",
       "  <a href=\"https://twitter.com/intent/tweet?text=%22LAN+Party%22+%2D+Day+23+%2D+Advent+of+Code+2024&amp;url=https%3A%2F%2Fadventofcode%2Ecom%2F2024%2Fday%2F23&amp;related=ericwastl&amp;hashtags=AdventOfCode\" target=\"_blank\">Twitter</a>\n",
       "  <a href=\"javascript:void(0);\" onclick=\"var ms; try{ms=localStorage.getItem('mastodon.server')}finally{} if(typeof ms!=='string')ms=''; ms=prompt('Mastodon Server?',ms); if(typeof ms==='string' && ms.length){this.href='https://'+ms+'/share?text=%22LAN+Party%22+%2D+Day+23+%2D+Advent+of+Code+2024+%23AdventOfCode+https%3A%2F%2Fadventofcode%2Ecom%2F2024%2Fday%2F23';try{localStorage.setItem('mastodon.server',ms);}finally{}}else{return false;}\" target=\"_blank\">Mastodon</a\n",
       "></span>]</span> this puzzle.</p>\n"
      ],
      "text/plain": [
       "<IPython.core.display.HTML object>"
      ]
     },
     "execution_count": 5,
     "metadata": {},
     "output_type": "execute_result"
    }
   ],
   "source": [
    "HTML(downloaded['part1_footer'])"
   ]
  },
  {
   "cell_type": "code",
   "execution_count": 10,
   "metadata": {
    "scrolled": true
   },
   "outputs": [],
   "source": [
    "# HTML(downloaded['part2'])"
   ]
  }
 ],
 "metadata": {
  "kernelspec": {
   "display_name": ".python3.12-venv",
   "language": "python",
   "name": "python3"
  },
  "language_info": {
   "codemirror_mode": {
    "name": "ipython",
    "version": 3
   },
   "file_extension": ".py",
   "mimetype": "text/x-python",
   "name": "python",
   "nbconvert_exporter": "python",
   "pygments_lexer": "ipython3",
   "version": "3.12.8"
  }
 },
 "nbformat": 4,
 "nbformat_minor": 2
}

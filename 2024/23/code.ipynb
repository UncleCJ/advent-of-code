{
 "cells": [
  {
   "cell_type": "markdown",
   "metadata": {},
   "source": [
    "# Day 23: LAN Party\n",
    "\n",
    "[*Advent of Code 2024 day 23*](https://adventofcode.com/2024/day/23) and [*solution megathread*](https://redd.it/1hkgj5b)\n",
    "\n",
    "[![nbviewer](https://raw.githubusercontent.com/jupyter/design/master/logos/Badges/nbviewer_badge.svg)](https://nbviewer.jupyter.org/github/UncleCJ/advent-of-code/blob/cj/2024/23/code.ipynb) [![Binder](https://mybinder.org/badge_logo.svg)](https://mybinder.org/v2/gh/UncleCJ/advent-of-code/cj?filepath=2024%2F23%2Fcode.ipynb)"
   ]
  },
  {
   "cell_type": "code",
   "execution_count": 1,
   "metadata": {},
   "outputs": [],
   "source": [
    "from IPython.display import HTML\n",
    "import sys\n",
    "sys.path.append('../../')\n",
    "\n",
    "\n",
    "# %load_ext nb_mypy\n",
    "# %nb_mypy On"
   ]
  },
  {
   "cell_type": "code",
   "execution_count": 40,
   "metadata": {},
   "outputs": [
    {
     "name": "stdout",
     "output_type": "stream",
     "text": [
      "Writing 'downloaded' (dict) to file 'downloaded'.\n"
     ]
    }
   ],
   "source": [
    "import common\n",
    "\n",
    "\n",
    "downloaded = common.refresh()\n",
    "%store downloaded >downloaded\n",
    "\n",
    "# %load_ext pycodestyle_magic\n",
    "# %pycodestyle_on"
   ]
  },
  {
   "cell_type": "code",
   "execution_count": 3,
   "metadata": {},
   "outputs": [
    {
     "data": {
      "text/html": [
       "<h2>--- Day 23: LAN Party ---</h2><p>As The Historians wander around a secure area at Easter Bunny HQ, you come across posters for a <a href=\"https://en.wikipedia.org/wiki/LAN_party\" target=\"_blank\">LAN party</a> scheduled for today! Maybe you can find it; you connect to a nearby <a href=\"/2016/day/9\">datalink port</a> and download a map of the local network (your puzzle input).</p>\n",
       "<p>The network map provides a list of every <em>connection between two computers</em>. For example:</p>\n",
       "<pre><code>kh-tc\n",
       "qp-kh\n",
       "de-cg\n",
       "ka-co\n",
       "yn-aq\n",
       "qp-ub\n",
       "cg-tb\n",
       "vc-aq\n",
       "tb-ka\n",
       "wh-tc\n",
       "yn-cg\n",
       "kh-ub\n",
       "ta-co\n",
       "de-co\n",
       "tc-td\n",
       "tb-wq\n",
       "wh-td\n",
       "ta-ka\n",
       "td-qp\n",
       "aq-cg\n",
       "wq-ub\n",
       "ub-vc\n",
       "de-ta\n",
       "wq-aq\n",
       "wq-vc\n",
       "wh-yn\n",
       "ka-de\n",
       "kh-ta\n",
       "co-tc\n",
       "wh-qp\n",
       "tb-vc\n",
       "td-yn\n",
       "</code></pre>\n",
       "<p>Each line of text in the network map represents a single connection; the line <code>kh-tc</code> represents a connection between the computer named <code>kh</code> and the computer named <code>tc</code>. Connections aren't directional; <code>tc-kh</code> would mean exactly the same thing.</p>\n",
       "<p>LAN parties typically involve multiplayer games, so maybe you can locate it by finding groups of connected computers. Start by looking for <em>sets of three computers</em> where each computer in the set is connected to the other two computers.</p>\n",
       "<p>In this example, there are <code>12</code> such sets of three inter-connected computers:</p>\n",
       "<pre><code>aq,cg,yn\n",
       "aq,vc,wq\n",
       "co,de,ka\n",
       "co,de,ta\n",
       "co,ka,ta\n",
       "de,ka,ta\n",
       "kh,qp,ub\n",
       "qp,td,wh\n",
       "tb,vc,wq\n",
       "tc,td,wh\n",
       "td,wh,yn\n",
       "ub,vc,wq\n",
       "</code></pre>\n",
       "<p>If the Chief Historian is here, <em>and</em> he's at the LAN party, it would be best to know that right away. You're pretty sure his computer's name starts with <code>t</code>, so consider only sets of three computers where at least one computer's name starts with <code>t</code>. That narrows the list down to <code><em>7</em></code> sets of three inter-connected computers:</p>\n",
       "<pre><code>co,de,<em>ta</em>\n",
       "co,ka,<em>ta</em>\n",
       "de,ka,<em>ta</em>\n",
       "qp,<em>td</em>,wh\n",
       "<em>tb</em>,vc,wq\n",
       "<em>tc</em>,<em>td</em>,wh\n",
       "<em>td</em>,wh,yn\n",
       "</code></pre>\n",
       "<p>Find all the sets of three inter-connected computers. <em>How many contain at least one computer with a name that starts with <code>t</code>?</em></p>\n"
      ],
      "text/plain": [
       "<IPython.core.display.HTML object>"
      ]
     },
     "execution_count": 3,
     "metadata": {},
     "output_type": "execute_result"
    }
   ],
   "source": [
    "from IPython.display import HTML\n",
    "\n",
    "HTML(downloaded['part1'])"
   ]
  },
  {
   "cell_type": "code",
   "execution_count": 4,
   "metadata": {},
   "outputs": [],
   "source": [
    "part1_example_input = '''kh-tc\n",
    "qp-kh\n",
    "de-cg\n",
    "ka-co\n",
    "yn-aq\n",
    "qp-ub\n",
    "cg-tb\n",
    "vc-aq\n",
    "tb-ka\n",
    "wh-tc\n",
    "yn-cg\n",
    "kh-ub\n",
    "ta-co\n",
    "de-co\n",
    "tc-td\n",
    "tb-wq\n",
    "wh-td\n",
    "ta-ka\n",
    "td-qp\n",
    "aq-cg\n",
    "wq-ub\n",
    "ub-vc\n",
    "de-ta\n",
    "wq-aq\n",
    "wq-vc\n",
    "wh-yn\n",
    "ka-de\n",
    "kh-ta\n",
    "co-tc\n",
    "wh-qp\n",
    "tb-vc\n",
    "td-yn'''\n",
    "\n",
    "# print(downloaded['input'])"
   ]
  },
  {
   "cell_type": "code",
   "execution_count": 8,
   "metadata": {},
   "outputs": [],
   "source": [
    "def parse_input(lines):\n",
    "    return [line.split('-') for line in lines]\n",
    "\n",
    "parsed_input = parse_input(part1_example_input.splitlines())"
   ]
  },
  {
   "cell_type": "code",
   "execution_count": 57,
   "metadata": {},
   "outputs": [
    {
     "data": {
      "text/plain": [
       "{'kh': {'qp', 'ta', 'tc', 'ub'},\n",
       " 'tc': {'co', 'kh', 'td', 'wh'},\n",
       " 'qp': {'kh', 'td', 'ub', 'wh'},\n",
       " 'de': {'cg', 'co', 'ka', 'ta'},\n",
       " 'cg': {'aq', 'de', 'tb', 'yn'},\n",
       " 'ka': {'co', 'de', 'ta', 'tb'},\n",
       " 'co': {'de', 'ka', 'ta', 'tc'},\n",
       " 'yn': {'aq', 'cg', 'td', 'wh'},\n",
       " 'aq': {'cg', 'vc', 'wq', 'yn'},\n",
       " 'ub': {'kh', 'qp', 'vc', 'wq'},\n",
       " 'tb': {'cg', 'ka', 'vc', 'wq'},\n",
       " 'vc': {'aq', 'tb', 'ub', 'wq'},\n",
       " 'wh': {'qp', 'tc', 'td', 'yn'},\n",
       " 'ta': {'co', 'de', 'ka', 'kh'},\n",
       " 'td': {'qp', 'tc', 'wh', 'yn'},\n",
       " 'wq': {'aq', 'tb', 'ub', 'vc'}}"
      ]
     },
     "execution_count": 57,
     "metadata": {},
     "output_type": "execute_result"
    }
   ],
   "source": [
    "from collections import defaultdict\n",
    "\n",
    "def build_connections(links):\n",
    "    results = defaultdict(set)\n",
    "    for a, b in links:\n",
    "        results[a].add(b)\n",
    "        results[b].add(a)\n",
    "    return dict(results)\n",
    "\n",
    "network = build_connections(parsed_input)\n",
    "network"
   ]
  },
  {
   "cell_type": "code",
   "execution_count": 41,
   "metadata": {},
   "outputs": [
    {
     "data": {
      "text/plain": [
       "12"
      ]
     },
     "execution_count": 41,
     "metadata": {},
     "output_type": "execute_result"
    }
   ],
   "source": [
    "from itertools import combinations\n",
    "\n",
    "def build_triplets(network):\n",
    "    triplets = set()\n",
    "    for a in network.keys():\n",
    "        for b, c in combinations(network[a], 2):\n",
    "            if b in network[c]:\n",
    "                triplets.add(frozenset({a, b, c}))\n",
    "    return triplets\n",
    "\n",
    "triplets = build_triplets(network)\n",
    "len(triplets)"
   ]
  },
  {
   "cell_type": "code",
   "execution_count": 42,
   "metadata": {},
   "outputs": [
    {
     "data": {
      "text/plain": [
       "7"
      ]
     },
     "execution_count": 42,
     "metadata": {},
     "output_type": "execute_result"
    }
   ],
   "source": [
    "def node_startswitht(triplet):\n",
    "    for n in triplet:\n",
    "        if n[0] == 't':\n",
    "            return True\n",
    "    else:\n",
    "        return False\n",
    "\n",
    "len({triplet for triplet in triplets if node_startswitht(triplet)})"
   ]
  },
  {
   "cell_type": "code",
   "execution_count": 39,
   "metadata": {},
   "outputs": [
    {
     "data": {
      "text/plain": [
       "1344"
      ]
     },
     "execution_count": 39,
     "metadata": {},
     "output_type": "execute_result"
    }
   ],
   "source": [
    "\n",
    "len({triplet for triplet\n",
    "    in build_triplets(\n",
    "        build_connections(\n",
    "            parse_input(downloaded['input'].splitlines())\n",
    "        )\n",
    "    ) if node_startswitht(triplet)\n",
    "    })"
   ]
  },
  {
   "cell_type": "code",
   "execution_count": 43,
   "metadata": {},
   "outputs": [
    {
     "data": {
      "text/html": [
       "\n",
       "<p>Your puzzle answer was <code>1344</code>.</p><p class=\"day-success\">The first half of this puzzle is complete! It provides one gold star: *</p>\n"
      ],
      "text/plain": [
       "<IPython.core.display.HTML object>"
      ]
     },
     "execution_count": 43,
     "metadata": {},
     "output_type": "execute_result"
    }
   ],
   "source": [
    "HTML(downloaded['part1_footer'])"
   ]
  },
  {
   "cell_type": "code",
   "execution_count": 44,
   "metadata": {
    "scrolled": true
   },
   "outputs": [
    {
     "data": {
      "text/html": [
       "<h2 id=\"part2\">--- Part Two ---</h2><p>There are still way too many results to go through them all. You'll have to find the LAN party another way and go there yourself.</p>\n",
       "<p>Since it doesn't seem like any employees are around, you figure they must all be at the LAN party. If that's true, the LAN party will be the <em>largest set of computers that are all connected to each other</em>. That is, for each computer at the LAN party, that computer will have a connection to every other computer at the LAN party.</p>\n",
       "<p>In the above example, the largest set of computers that are all connected to each other is made up of <code>co</code>, <code>de</code>, <code>ka</code>, and <code>ta</code>. Each computer in this set has a connection to every other computer in the set:</p>\n",
       "<pre><code>ka-co\n",
       "ta-co\n",
       "de-co\n",
       "ta-ka\n",
       "de-ta\n",
       "ka-de\n",
       "</code></pre>\n",
       "<p>The LAN party posters say that the <em>password</em> to get into the LAN party is the name of every computer at the LAN party, sorted alphabetically, then joined together with commas. (The people running the LAN party are clearly a bunch of <span title=\"You caught me. I'm a giant nerd.\">nerds</span>.) In this example, the password would be <code><em>co,de,ka,ta</em></code>.</p>\n",
       "<p><em>What is the password to get into the LAN party?</em></p>\n"
      ],
      "text/plain": [
       "<IPython.core.display.HTML object>"
      ]
     },
     "execution_count": 44,
     "metadata": {},
     "output_type": "execute_result"
    }
   ],
   "source": [
    "HTML(downloaded['part2'])"
   ]
  },
  {
   "cell_type": "code",
   "execution_count": 51,
   "metadata": {},
   "outputs": [],
   "source": [
    "def all_connected(c, network):\n",
    "    if len(c) <= 1:\n",
    "        return True\n",
    "    else:\n",
    "        return (\n",
    "            all(c[0] in network[cn] for cn in c[1:])\n",
    "            and all_connected(c[1:], network)\n",
    "        )"
   ]
  },
  {
   "cell_type": "code",
   "execution_count": 59,
   "metadata": {},
   "outputs": [
    {
     "name": "stdout",
     "output_type": "stream",
     "text": [
      "co,de,ka,ta\n"
     ]
    }
   ],
   "source": [
    "for c in combinations(network.keys(), 4):\n",
    "    c = list(sorted(c))\n",
    "    if all_connected(c, network):\n",
    "        print(','.join(c))"
   ]
  },
  {
   "cell_type": "code",
   "execution_count": 47,
   "metadata": {},
   "outputs": [
    {
     "data": {
      "text/plain": [
       "3380"
      ]
     },
     "execution_count": 47,
     "metadata": {},
     "output_type": "execute_result"
    }
   ],
   "source": [
    "len(downloaded['input'].splitlines())"
   ]
  },
  {
   "cell_type": "code",
   "execution_count": 60,
   "metadata": {},
   "outputs": [
    {
     "data": {
      "text/plain": [
       "520"
      ]
     },
     "execution_count": 60,
     "metadata": {},
     "output_type": "execute_result"
    }
   ],
   "source": [
    "network = build_connections(parse_input(downloaded['input'].splitlines()))\n",
    "len(network.keys())"
   ]
  },
  {
   "cell_type": "code",
   "execution_count": 67,
   "metadata": {},
   "outputs": [
    {
     "name": "stdout",
     "output_type": "stream",
     "text": [
      "[13, 13, 13, 13, 13, 13, 13, 13, 13, 13, 13, 13, 13, 13, 13, 13, 13, 13, 13, 13, 13, 13, 13, 13, 13, 13, 13, 13, 13, 13, 13, 13, 13, 13, 13, 13, 13, 13, 13, 13, 13, 13, 13, 13, 13, 13, 13, 13, 13, 13, 13, 13, 13, 13, 13, 13, 13, 13, 13, 13, 13, 13, 13, 13, 13, 13, 13, 13, 13, 13, 13, 13, 13, 13, 13, 13, 13, 13, 13, 13, 13, 13, 13, 13, 13, 13, 13, 13, 13, 13, 13, 13, 13, 13, 13, 13, 13, 13, 13, 13, 13, 13, 13, 13, 13, 13, 13, 13, 13, 13, 13, 13, 13, 13, 13, 13, 13, 13, 13, 13, 13, 13, 13, 13, 13, 13, 13, 13, 13, 13, 13, 13, 13, 13, 13, 13, 13, 13, 13, 13, 13, 13, 13, 13, 13, 13, 13, 13, 13, 13, 13, 13, 13, 13, 13, 13, 13, 13, 13, 13, 13, 13, 13, 13, 13, 13, 13, 13, 13, 13, 13, 13, 13, 13, 13, 13, 13, 13, 13, 13, 13, 13, 13, 13, 13, 13, 13, 13, 13, 13, 13, 13, 13, 13, 13, 13, 13, 13, 13, 13, 13, 13, 13, 13, 13, 13, 13, 13, 13, 13, 13, 13, 13, 13, 13, 13, 13, 13, 13, 13, 13, 13, 13, 13, 13, 13, 13, 13, 13, 13, 13, 13, 13, 13, 13, 13, 13, 13, 13, 13, 13, 13, 13, 13, 13, 13, 13, 13, 13, 13, 13, 13, 13, 13, 13, 13, 13, 13, 13, 13, 13, 13, 13, 13, 13, 13, 13, 13, 13, 13, 13, 13, 13, 13, 13, 13, 13, 13, 13, 13, 13, 13, 13, 13, 13, 13, 13, 13, 13, 13, 13, 13, 13, 13, 13, 13, 13, 13, 13, 13, 13, 13, 13, 13, 13, 13, 13, 13, 13, 13, 13, 13, 13, 13, 13, 13, 13, 13, 13, 13, 13, 13, 13, 13, 13, 13, 13, 13, 13, 13, 13, 13, 13, 13, 13, 13, 13, 13, 13, 13, 13, 13, 13, 13, 13, 13, 13, 13, 13, 13, 13, 13, 13, 13, 13, 13, 13, 13, 13, 13, 13, 13, 13, 13, 13, 13, 13, 13, 13, 13, 13, 13, 13, 13, 13, 13, 13, 13, 13, 13, 13, 13, 13, 13, 13, 13, 13, 13, 13, 13, 13, 13, 13, 13, 13, 13, 13, 13, 13, 13, 13, 13, 13, 13, 13, 13, 13, 13, 13, 13, 13, 13, 13, 13, 13, 13, 13, 13, 13, 13, 13, 13, 13, 13, 13, 13, 13, 13, 13, 13, 13, 13, 13, 13, 13, 13, 13, 13, 13, 13, 13, 13, 13, 13, 13, 13, 13, 13, 13, 13, 13, 13, 13, 13, 13, 13, 13, 13, 13, 13, 13, 13, 13, 13, 13, 13, 13, 13, 13, 13, 13, 13, 13, 13, 13, 13, 13, 13, 13, 13, 13, 13, 13, 13, 13, 13, 13, 13, 13, 13, 13, 13, 13, 13, 13, 13, 13, 13, 13, 13, 13, 13, 13, 13, 13, 13, 13, 13, 13, 13, 13, 13, 13, 13, 13, 13, 13, 13, 13, 13]\n"
     ]
    }
   ],
   "source": [
    "print([len(network[n]) for n in network.keys()])"
   ]
  }
 ],
 "metadata": {
  "kernelspec": {
   "display_name": ".python3.12-venv",
   "language": "python",
   "name": "python3"
  },
  "language_info": {
   "codemirror_mode": {
    "name": "ipython",
    "version": 3
   },
   "file_extension": ".py",
   "mimetype": "text/x-python",
   "name": "python",
   "nbconvert_exporter": "python",
   "pygments_lexer": "ipython3",
   "version": "3.12.8"
  }
 },
 "nbformat": 4,
 "nbformat_minor": 2
}

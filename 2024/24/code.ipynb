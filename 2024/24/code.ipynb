{
 "cells": [
  {
   "cell_type": "markdown",
   "metadata": {},
   "source": [
    "# Day 24: Crossed Wires\n",
    "\n",
    "[*Advent of Code 2024 day 24*](https://adventofcode.com/2024/day/24) and [*solution megathread*](https://redd.it/1hl698z)\n",
    "\n",
    "[![nbviewer](https://raw.githubusercontent.com/jupyter/design/master/logos/Badges/nbviewer_badge.svg)](https://nbviewer.jupyter.org/github/UncleCJ/advent-of-code/blob/cj/2024/24/code.ipynb) [![Binder](https://mybinder.org/badge_logo.svg)](https://mybinder.org/v2/gh/UncleCJ/advent-of-code/cj?filepath=2024%2F24%2Fcode.ipynb)"
   ]
  },
  {
   "cell_type": "code",
   "execution_count": 1,
   "metadata": {},
   "outputs": [],
   "source": [
    "from IPython.display import HTML\n",
    "import sys\n",
    "sys.path.append('../../')\n",
    "\n",
    "\n",
    "# %load_ext nb_mypy\n",
    "# %nb_mypy On"
   ]
  },
  {
   "cell_type": "code",
   "execution_count": 2,
   "metadata": {},
   "outputs": [
    {
     "name": "stdout",
     "output_type": "stream",
     "text": [
      "Writing 'downloaded' (dict) to file 'downloaded'.\n"
     ]
    }
   ],
   "source": [
    "import common\n",
    "\n",
    "\n",
    "downloaded = common.refresh()\n",
    "%store downloaded >downloaded\n",
    "\n",
    "# %load_ext pycodestyle_magic\n",
    "# %pycodestyle_on"
   ]
  },
  {
   "cell_type": "code",
   "execution_count": 3,
   "metadata": {},
   "outputs": [
    {
     "data": {
      "text/html": [
       "<h2>--- Day 24: Crossed Wires ---</h2><p>You and The Historians arrive at the edge of a <a href=\"/2022/day/23\">large grove</a> somewhere in the jungle. After the last incident, the Elves installed a small device that monitors the fruit. While The Historians search the grove, one of them asks if you can take a look at the monitoring device; apparently, it's been malfunctioning recently.</p>\n",
       "<p>The device seems to be trying to produce a number through some boolean logic gates. Each gate has two inputs and one output. The gates all operate on values that are either <em>true</em> (<code>1</code>) or <em>false</em> (<code>0</code>).</p>\n",
       "<ul>\n",
       "<li><code>AND</code> gates output <code>1</code> if <em>both</em> inputs are <code>1</code>; if either input is <code>0</code>, these gates output <code>0</code>.</li>\n",
       "<li><code>OR</code> gates output <code>1</code> if <em>one or both</em> inputs is <code>1</code>; if both inputs are <code>0</code>, these gates output <code>0</code>.</li>\n",
       "<li><code>XOR</code> gates output <code>1</code> if the inputs are <em>different</em>; if the inputs are the same, these gates output <code>0</code>.</li>\n",
       "</ul>\n",
       "<p>Gates wait until both inputs are received before producing output; wires can carry <code>0</code>, <code>1</code> or no value at all. There are no loops; once a gate has determined its output, the output will not change until the whole system is reset. Each wire is connected to at most one gate output, but can be connected to many gate inputs.</p>\n",
       "<p>Rather than risk getting shocked while tinkering with the live system, you write down all of the gate connections and initial wire values (your puzzle input) so you can consider them in relative safety. For example:</p>\n",
       "<pre><code>x00: 1\n",
       "x01: 1\n",
       "x02: 1\n",
       "y00: 0\n",
       "y01: 1\n",
       "y02: 0\n",
       "\n",
       "x00 AND y00 -&gt; z00\n",
       "x01 XOR y01 -&gt; z01\n",
       "x02 OR y02 -&gt; z02\n",
       "</code></pre>\n",
       "<p>Because gates wait for input, some wires need to start with a value (as inputs to the entire system). The first section specifies these values. For example, <code>x00: 1</code> means that the wire named <code>x00</code> starts with the value <code>1</code> (as if a gate is already outputting that value onto that wire).</p>\n",
       "<p>The second section lists all of the gates and the wires connected to them. For example, <code>x00 AND y00 -&gt; z00</code> describes an instance of an <code>AND</code> gate which has wires <code>x00</code> and <code>y00</code> connected to its inputs and which will write its output to wire <code>z00</code>.</p>\n",
       "<p>In this example, simulating these gates eventually causes <code>0</code> to appear on wire <code>z00</code>, <code>0</code> to appear on wire <code>z01</code>, and <code>1</code> to appear on wire <code>z02</code>.</p>\n",
       "<p>Ultimately, the system is trying to produce a <em>number</em> by combining the bits on all wires starting with <code>z</code>. <code>z00</code> is the least significant bit, then <code>z01</code>, then <code>z02</code>, and so on.</p>\n",
       "<p>In this example, the three output bits form the binary number <code>100</code> which is equal to the decimal number <code><em>4</em></code>.</p>\n",
       "<p>Here's a larger example:</p>\n",
       "<pre><code>x00: 1\n",
       "x01: 0\n",
       "x02: 1\n",
       "x03: 1\n",
       "x04: 0\n",
       "y00: 1\n",
       "y01: 1\n",
       "y02: 1\n",
       "y03: 1\n",
       "y04: 1\n",
       "\n",
       "ntg XOR fgs -> mjb\n",
       "y02 OR x01 -> tnw\n",
       "kwq OR kpj -> z05\n",
       "x00 OR x03 -> fst\n",
       "tgd XOR rvg -> z01\n",
       "vdt OR tnw -> bfw\n",
       "bfw AND frj -> z10\n",
       "ffh OR nrd -> bqk\n",
       "y00 AND y03 -> djm\n",
       "y03 OR y00 -> psh\n",
       "bqk OR frj -> z08\n",
       "tnw OR fst -> frj\n",
       "gnj AND tgd -> z11\n",
       "bfw XOR mjb -> z00\n",
       "x03 OR x00 -> vdt\n",
       "gnj AND wpb -> z02\n",
       "x04 AND y00 -> kjc\n",
       "djm OR pbm -> qhw\n",
       "nrd AND vdt -> hwm\n",
       "kjc AND fst -> rvg\n",
       "y04 OR y02 -> fgs\n",
       "y01 AND x02 -> pbm\n",
       "ntg OR kjc -> kwq\n",
       "psh XOR fgs -> tgd\n",
       "qhw XOR tgd -> z09\n",
       "pbm OR djm -> kpj\n",
       "x03 XOR y03 -> ffh\n",
       "x00 XOR y04 -> ntg\n",
       "bfw OR bqk -> z06\n",
       "nrd XOR fgs -> wpb\n",
       "frj XOR qhw -> z04\n",
       "bqk OR frj -> z07\n",
       "y03 OR x01 -> nrd\n",
       "hwm AND bqk -> z03\n",
       "tgd XOR rvg -> z12\n",
       "tnw OR pbm -> gnj\n",
       "</code></pre>\n",
       "<p>After waiting for values on all wires starting with <code>z</code>, the wires in this system have the following values:</p>\n",
       "<pre><code>bfw: 1\n",
       "bqk: 1\n",
       "djm: 1\n",
       "ffh: 0\n",
       "fgs: 1\n",
       "frj: 1\n",
       "fst: 1\n",
       "gnj: 1\n",
       "hwm: 1\n",
       "kjc: 0\n",
       "kpj: 1\n",
       "kwq: 0\n",
       "mjb: 1\n",
       "nrd: 1\n",
       "ntg: 0\n",
       "pbm: 1\n",
       "psh: 1\n",
       "qhw: 1\n",
       "rvg: 0\n",
       "tgd: 0\n",
       "tnw: 1\n",
       "vdt: 1\n",
       "wpb: 0\n",
       "z00: 0\n",
       "z01: 0\n",
       "z02: 0\n",
       "z03: 1\n",
       "z04: 0\n",
       "z05: 1\n",
       "z06: 1\n",
       "z07: 1\n",
       "z08: 1\n",
       "z09: 1\n",
       "z10: 1\n",
       "z11: 0\n",
       "z12: 0\n",
       "</code></pre>\n",
       "<p>Combining the bits from all wires starting with <code>z</code> produces the binary number <code>0011111101000</code>. Converting this number to decimal produces <code><em>2024</em></code>.</p>\n",
       "<p>Simulate the system of gates and wires. <em>What decimal number does it output on the wires starting with <code>z</code>?</em></p>\n"
      ],
      "text/plain": [
       "<IPython.core.display.HTML object>"
      ]
     },
     "execution_count": 3,
     "metadata": {},
     "output_type": "execute_result"
    }
   ],
   "source": [
    "from IPython.display import HTML\n",
    "\n",
    "HTML(downloaded['part1'])"
   ]
  },
  {
   "cell_type": "code",
   "execution_count": 4,
   "metadata": {},
   "outputs": [],
   "source": [
    "part1_example_input_small = '''x00: 1\n",
    "x01: 1\n",
    "x02: 1\n",
    "y00: 0\n",
    "y01: 1\n",
    "y02: 0\n",
    "\n",
    "x00 AND y00 -> z00\n",
    "x01 XOR y01 -> z01\n",
    "x02 OR y02 -> z02'''\n",
    "\n",
    "part1_example_input_large = '''x00: 1\n",
    "x01: 0\n",
    "x02: 1\n",
    "x03: 1\n",
    "x04: 0\n",
    "y00: 1\n",
    "y01: 1\n",
    "y02: 1\n",
    "y03: 1\n",
    "y04: 1\n",
    "\n",
    "ntg XOR fgs -> mjb\n",
    "y02 OR x01 -> tnw\n",
    "kwq OR kpj -> z05\n",
    "x00 OR x03 -> fst\n",
    "tgd XOR rvg -> z01\n",
    "vdt OR tnw -> bfw\n",
    "bfw AND frj -> z10\n",
    "ffh OR nrd -> bqk\n",
    "y00 AND y03 -> djm\n",
    "y03 OR y00 -> psh\n",
    "bqk OR frj -> z08\n",
    "tnw OR fst -> frj\n",
    "gnj AND tgd -> z11\n",
    "bfw XOR mjb -> z00\n",
    "x03 OR x00 -> vdt\n",
    "gnj AND wpb -> z02\n",
    "x04 AND y00 -> kjc\n",
    "djm OR pbm -> qhw\n",
    "nrd AND vdt -> hwm\n",
    "kjc AND fst -> rvg\n",
    "y04 OR y02 -> fgs\n",
    "y01 AND x02 -> pbm\n",
    "ntg OR kjc -> kwq\n",
    "psh XOR fgs -> tgd\n",
    "qhw XOR tgd -> z09\n",
    "pbm OR djm -> kpj\n",
    "x03 XOR y03 -> ffh\n",
    "x00 XOR y04 -> ntg\n",
    "bfw OR bqk -> z06\n",
    "nrd XOR fgs -> wpb\n",
    "frj XOR qhw -> z04\n",
    "bqk OR frj -> z07\n",
    "y03 OR x01 -> nrd\n",
    "hwm AND bqk -> z03\n",
    "tgd XOR rvg -> z12\n",
    "tnw OR pbm -> gnj'''\n",
    "\n",
    "# print(downloaded['input'])"
   ]
  },
  {
   "cell_type": "code",
   "execution_count": 8,
   "metadata": {},
   "outputs": [],
   "source": [
    "def parse_input(lines):\n",
    "    return [line.split('-') for line in lines]\n",
    "\n",
    "parsed_input = parse_input(part1_example_input.splitlines())"
   ]
  },
  {
   "cell_type": "code",
   "execution_count": 57,
   "metadata": {},
   "outputs": [
    {
     "data": {
      "text/plain": [
       "{'kh': {'qp', 'ta', 'tc', 'ub'},\n",
       " 'tc': {'co', 'kh', 'td', 'wh'},\n",
       " 'qp': {'kh', 'td', 'ub', 'wh'},\n",
       " 'de': {'cg', 'co', 'ka', 'ta'},\n",
       " 'cg': {'aq', 'de', 'tb', 'yn'},\n",
       " 'ka': {'co', 'de', 'ta', 'tb'},\n",
       " 'co': {'de', 'ka', 'ta', 'tc'},\n",
       " 'yn': {'aq', 'cg', 'td', 'wh'},\n",
       " 'aq': {'cg', 'vc', 'wq', 'yn'},\n",
       " 'ub': {'kh', 'qp', 'vc', 'wq'},\n",
       " 'tb': {'cg', 'ka', 'vc', 'wq'},\n",
       " 'vc': {'aq', 'tb', 'ub', 'wq'},\n",
       " 'wh': {'qp', 'tc', 'td', 'yn'},\n",
       " 'ta': {'co', 'de', 'ka', 'kh'},\n",
       " 'td': {'qp', 'tc', 'wh', 'yn'},\n",
       " 'wq': {'aq', 'tb', 'ub', 'vc'}}"
      ]
     },
     "execution_count": 57,
     "metadata": {},
     "output_type": "execute_result"
    }
   ],
   "source": [
    "from collections import defaultdict\n",
    "\n",
    "def build_connections(links):\n",
    "    results = defaultdict(set)\n",
    "    for a, b in links:\n",
    "        results[a].add(b)\n",
    "        results[b].add(a)\n",
    "    return dict(results)\n",
    "\n",
    "network = build_connections(parsed_input)\n",
    "network"
   ]
  },
  {
   "cell_type": "code",
   "execution_count": 41,
   "metadata": {},
   "outputs": [
    {
     "data": {
      "text/plain": [
       "12"
      ]
     },
     "execution_count": 41,
     "metadata": {},
     "output_type": "execute_result"
    }
   ],
   "source": [
    "from itertools import combinations\n",
    "\n",
    "def build_triplets(network):\n",
    "    triplets = set()\n",
    "    for a in network.keys():\n",
    "        for b, c in combinations(network[a], 2):\n",
    "            if b in network[c]:\n",
    "                triplets.add(frozenset({a, b, c}))\n",
    "    return triplets\n",
    "\n",
    "triplets = build_triplets(network)\n",
    "len(triplets)"
   ]
  },
  {
   "cell_type": "code",
   "execution_count": 42,
   "metadata": {},
   "outputs": [
    {
     "data": {
      "text/plain": [
       "7"
      ]
     },
     "execution_count": 42,
     "metadata": {},
     "output_type": "execute_result"
    }
   ],
   "source": [
    "def node_startswitht(triplet):\n",
    "    for n in triplet:\n",
    "        if n[0] == 't':\n",
    "            return True\n",
    "    else:\n",
    "        return False\n",
    "\n",
    "len({triplet for triplet in triplets if node_startswitht(triplet)})"
   ]
  },
  {
   "cell_type": "code",
   "execution_count": 39,
   "metadata": {},
   "outputs": [
    {
     "data": {
      "text/plain": [
       "1344"
      ]
     },
     "execution_count": 39,
     "metadata": {},
     "output_type": "execute_result"
    }
   ],
   "source": [
    "\n",
    "len({triplet for triplet\n",
    "    in build_triplets(\n",
    "        build_connections(\n",
    "            parse_input(downloaded['input'].splitlines())\n",
    "        )\n",
    "    ) if node_startswitht(triplet)\n",
    "    })"
   ]
  },
  {
   "cell_type": "code",
   "execution_count": 43,
   "metadata": {},
   "outputs": [
    {
     "data": {
      "text/html": [
       "\n",
       "<p>Your puzzle answer was <code>1344</code>.</p><p class=\"day-success\">The first half of this puzzle is complete! It provides one gold star: *</p>\n"
      ],
      "text/plain": [
       "<IPython.core.display.HTML object>"
      ]
     },
     "execution_count": 43,
     "metadata": {},
     "output_type": "execute_result"
    }
   ],
   "source": [
    "HTML(downloaded['part1_footer'])"
   ]
  },
  {
   "cell_type": "code",
   "execution_count": 44,
   "metadata": {
    "scrolled": true
   },
   "outputs": [
    {
     "data": {
      "text/html": [
       "<h2 id=\"part2\">--- Part Two ---</h2><p>There are still way too many results to go through them all. You'll have to find the LAN party another way and go there yourself.</p>\n",
       "<p>Since it doesn't seem like any employees are around, you figure they must all be at the LAN party. If that's true, the LAN party will be the <em>largest set of computers that are all connected to each other</em>. That is, for each computer at the LAN party, that computer will have a connection to every other computer at the LAN party.</p>\n",
       "<p>In the above example, the largest set of computers that are all connected to each other is made up of <code>co</code>, <code>de</code>, <code>ka</code>, and <code>ta</code>. Each computer in this set has a connection to every other computer in the set:</p>\n",
       "<pre><code>ka-co\n",
       "ta-co\n",
       "de-co\n",
       "ta-ka\n",
       "de-ta\n",
       "ka-de\n",
       "</code></pre>\n",
       "<p>The LAN party posters say that the <em>password</em> to get into the LAN party is the name of every computer at the LAN party, sorted alphabetically, then joined together with commas. (The people running the LAN party are clearly a bunch of <span title=\"You caught me. I'm a giant nerd.\">nerds</span>.) In this example, the password would be <code><em>co,de,ka,ta</em></code>.</p>\n",
       "<p><em>What is the password to get into the LAN party?</em></p>\n"
      ],
      "text/plain": [
       "<IPython.core.display.HTML object>"
      ]
     },
     "execution_count": 44,
     "metadata": {},
     "output_type": "execute_result"
    }
   ],
   "source": [
    "HTML(downloaded['part2'])"
   ]
  },
  {
   "cell_type": "code",
   "execution_count": 51,
   "metadata": {},
   "outputs": [],
   "source": [
    "def all_connected(c, network):\n",
    "    if len(c) <= 1:\n",
    "        return True\n",
    "    else:\n",
    "        return (\n",
    "            all(c[0] in network[cn] for cn in c[1:])\n",
    "            and all_connected(c[1:], network)\n",
    "        )"
   ]
  },
  {
   "cell_type": "code",
   "execution_count": 59,
   "metadata": {},
   "outputs": [
    {
     "name": "stdout",
     "output_type": "stream",
     "text": [
      "co,de,ka,ta\n"
     ]
    }
   ],
   "source": [
    "for c in combinations(network.keys(), 4):\n",
    "    c = list(sorted(c))\n",
    "    if all_connected(c, network):\n",
    "        print(','.join(c))"
   ]
  },
  {
   "cell_type": "code",
   "execution_count": 47,
   "metadata": {},
   "outputs": [
    {
     "data": {
      "text/plain": [
       "3380"
      ]
     },
     "execution_count": 47,
     "metadata": {},
     "output_type": "execute_result"
    }
   ],
   "source": [
    "len(downloaded['input'].splitlines())"
   ]
  },
  {
   "cell_type": "code",
   "execution_count": 60,
   "metadata": {},
   "outputs": [
    {
     "data": {
      "text/plain": [
       "520"
      ]
     },
     "execution_count": 60,
     "metadata": {},
     "output_type": "execute_result"
    }
   ],
   "source": [
    "network = build_connections(parse_input(downloaded['input'].splitlines()))\n",
    "len(network.keys())"
   ]
  },
  {
   "cell_type": "code",
   "execution_count": 67,
   "metadata": {},
   "outputs": [
    {
     "name": "stdout",
     "output_type": "stream",
     "text": [
      "[13, 13, 13, 13, 13, 13, 13, 13, 13, 13, 13, 13, 13, 13, 13, 13, 13, 13, 13, 13, 13, 13, 13, 13, 13, 13, 13, 13, 13, 13, 13, 13, 13, 13, 13, 13, 13, 13, 13, 13, 13, 13, 13, 13, 13, 13, 13, 13, 13, 13, 13, 13, 13, 13, 13, 13, 13, 13, 13, 13, 13, 13, 13, 13, 13, 13, 13, 13, 13, 13, 13, 13, 13, 13, 13, 13, 13, 13, 13, 13, 13, 13, 13, 13, 13, 13, 13, 13, 13, 13, 13, 13, 13, 13, 13, 13, 13, 13, 13, 13, 13, 13, 13, 13, 13, 13, 13, 13, 13, 13, 13, 13, 13, 13, 13, 13, 13, 13, 13, 13, 13, 13, 13, 13, 13, 13, 13, 13, 13, 13, 13, 13, 13, 13, 13, 13, 13, 13, 13, 13, 13, 13, 13, 13, 13, 13, 13, 13, 13, 13, 13, 13, 13, 13, 13, 13, 13, 13, 13, 13, 13, 13, 13, 13, 13, 13, 13, 13, 13, 13, 13, 13, 13, 13, 13, 13, 13, 13, 13, 13, 13, 13, 13, 13, 13, 13, 13, 13, 13, 13, 13, 13, 13, 13, 13, 13, 13, 13, 13, 13, 13, 13, 13, 13, 13, 13, 13, 13, 13, 13, 13, 13, 13, 13, 13, 13, 13, 13, 13, 13, 13, 13, 13, 13, 13, 13, 13, 13, 13, 13, 13, 13, 13, 13, 13, 13, 13, 13, 13, 13, 13, 13, 13, 13, 13, 13, 13, 13, 13, 13, 13, 13, 13, 13, 13, 13, 13, 13, 13, 13, 13, 13, 13, 13, 13, 13, 13, 13, 13, 13, 13, 13, 13, 13, 13, 13, 13, 13, 13, 13, 13, 13, 13, 13, 13, 13, 13, 13, 13, 13, 13, 13, 13, 13, 13, 13, 13, 13, 13, 13, 13, 13, 13, 13, 13, 13, 13, 13, 13, 13, 13, 13, 13, 13, 13, 13, 13, 13, 13, 13, 13, 13, 13, 13, 13, 13, 13, 13, 13, 13, 13, 13, 13, 13, 13, 13, 13, 13, 13, 13, 13, 13, 13, 13, 13, 13, 13, 13, 13, 13, 13, 13, 13, 13, 13, 13, 13, 13, 13, 13, 13, 13, 13, 13, 13, 13, 13, 13, 13, 13, 13, 13, 13, 13, 13, 13, 13, 13, 13, 13, 13, 13, 13, 13, 13, 13, 13, 13, 13, 13, 13, 13, 13, 13, 13, 13, 13, 13, 13, 13, 13, 13, 13, 13, 13, 13, 13, 13, 13, 13, 13, 13, 13, 13, 13, 13, 13, 13, 13, 13, 13, 13, 13, 13, 13, 13, 13, 13, 13, 13, 13, 13, 13, 13, 13, 13, 13, 13, 13, 13, 13, 13, 13, 13, 13, 13, 13, 13, 13, 13, 13, 13, 13, 13, 13, 13, 13, 13, 13, 13, 13, 13, 13, 13, 13, 13, 13, 13, 13, 13, 13, 13, 13, 13, 13, 13, 13, 13, 13, 13, 13, 13, 13, 13, 13, 13, 13, 13, 13, 13, 13, 13, 13, 13, 13, 13, 13, 13, 13, 13, 13, 13, 13, 13, 13, 13, 13, 13, 13, 13, 13, 13, 13, 13, 13, 13, 13, 13, 13, 13]\n"
     ]
    }
   ],
   "source": [
    "print([len(network[n]) for n in network.keys()])"
   ]
  }
 ],
 "metadata": {
  "kernelspec": {
   "display_name": ".python3.12-venv",
   "language": "python",
   "name": "python3"
  },
  "language_info": {
   "codemirror_mode": {
    "name": "ipython",
    "version": 3
   },
   "file_extension": ".py",
   "mimetype": "text/x-python",
   "name": "python",
   "nbconvert_exporter": "python",
   "pygments_lexer": "ipython3",
   "version": "3.12.8"
  }
 },
 "nbformat": 4,
 "nbformat_minor": 2
}

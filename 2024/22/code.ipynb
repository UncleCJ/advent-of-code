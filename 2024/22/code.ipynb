{
 "cells": [
  {
   "cell_type": "markdown",
   "metadata": {},
   "source": [
    "# Day 22: Monkey Market\n",
    "\n",
    "[*Advent of Code 2024 day 22*](https://adventofcode.com/2024/day/22) and [*solution megathread*](https://redd.it/1hjroap)\n",
    "\n",
    "[![nbviewer](https://raw.githubusercontent.com/jupyter/design/master/logos/Badges/nbviewer_badge.svg)](https://nbviewer.jupyter.org/github/UncleCJ/advent-of-code/blob/cj/2024/22/code.ipynb) [![Binder](https://mybinder.org/badge_logo.svg)](https://mybinder.org/v2/gh/UncleCJ/advent-of-code/cj?filepath=2024%2F22%2Fcode.ipynb)"
   ]
  },
  {
   "cell_type": "code",
   "execution_count": 1,
   "metadata": {},
   "outputs": [],
   "source": [
    "from IPython.display import HTML\n",
    "import sys\n",
    "sys.path.append('../../')\n",
    "\n",
    "\n",
    "# %load_ext nb_mypy\n",
    "# %nb_mypy On"
   ]
  },
  {
   "cell_type": "code",
   "execution_count": 2,
   "metadata": {},
   "outputs": [
    {
     "name": "stdout",
     "output_type": "stream",
     "text": [
      "Writing 'downloaded' (dict) to file 'downloaded'.\n"
     ]
    }
   ],
   "source": [
    "import common\n",
    "\n",
    "\n",
    "downloaded = common.refresh()\n",
    "%store downloaded >downloaded\n",
    "\n",
    "# %load_ext pycodestyle_magic\n",
    "# %pycodestyle_on"
   ]
  },
  {
   "cell_type": "code",
   "execution_count": 3,
   "metadata": {},
   "outputs": [
    {
     "data": {
      "text/html": [
       "<h2>--- Day 22: Monkey Market ---</h2><p>As you're all teleported deep into the jungle, a <a href=\"/2022/day/11\">monkey</a> steals The Historians' device! You'll need get it back while The Historians are looking for the Chief.</p>\n",
       "<p>The monkey that stole the device seems willing to trade it, but only in exchange for an absurd number of bananas. Your only option is to buy bananas on the Monkey Exchange Market.</p>\n",
       "<p>You aren't sure how the Monkey Exchange Market works, but one of The Historians senses trouble and comes over to help. Apparently, they've been studying these monkeys for a while and have deciphered their secrets.</p>\n",
       "<p>Today, the Market is full of monkeys buying <em>good hiding spots</em>. Fortunately, because of the time you recently spent in this jungle, you know lots of good hiding spots you can sell! If you sell enough hiding spots, you should be able to get enough bananas to buy the device back.</p>\n",
       "<p>On the Market, the buyers seem to use random prices, but their prices are actually only <a href=\"https://en.wikipedia.org/wiki/Pseudorandom_number_generator\" target=\"_blank\">pseudorandom</a>! If you know the secret of how they pick their prices, you can wait for the perfect time to sell.</p>\n",
       "<p>The part about secrets is literal, the Historian explains. Each buyer produces a pseudorandom sequence of secret numbers where each secret is derived from the previous.</p>\n",
       "<p>In particular, each buyer's <em>secret</em> number evolves into the next secret number in the sequence via the following process:</p>\n",
       "<ul>\n",
       "<li>Calculate the result of <em>multiplying the secret number by <code>64</code></em>. Then, <em>mix</em> this result into the secret number. Finally, <em>prune</em> the secret number.</li>\n",
       "<li>Calculate the result of <em>dividing the secret number by <code>32</code></em>. Round the result down to the nearest integer. Then, <em>mix</em> this result into the secret number. Finally, <em>prune</em> the secret number.</li>\n",
       "<li>Calculate the result of <em>multiplying the secret number by <code>2048</code></em>. Then, <em>mix</em> this result into the secret number. Finally, <em>prune</em> the secret number.</li>\n",
       "</ul>\n",
       "<p>Each step of the above process involves <em>mixing</em> and <em>pruning</em>:</p>\n",
       "<ul>\n",
       "<li>To <em>mix</em> a value into the secret number, calculate the <a href=\"https://en.wikipedia.org/wiki/Bitwise_operation#XOR\" target=\"_blank\">bitwise XOR</a> of the given value and the secret number. Then, the secret number becomes the result of that operation. (If the secret number is <code>42</code> and you were to <em>mix</em> <code>15</code> into the secret number, the secret number would become <code>37</code>.)</li>\n",
       "<li>To <em>prune</em> the secret number, calculate the value of the secret number <a href=\"https://en.wikipedia.org/wiki/Modulo\" target=\"_blank\">modulo</a> <code>16777216</code>. Then, the secret number becomes the result of that operation. (If the secret number is <code>100000000</code> and you were to <em>prune</em> the secret number, the secret number would become <code>16113920</code>.)</li>\n",
       "</ul>\n",
       "<p>After this process completes, the buyer is left with the next secret number in the sequence. The buyer can repeat this process as many times as necessary to produce more secret numbers.</p>\n",
       "<p>So, if a buyer had a secret number of <code>123</code>, that buyer's next ten secret numbers would be:</p>\n",
       "<pre><code>15887950\n",
       "16495136\n",
       "527345\n",
       "704524\n",
       "1553684\n",
       "12683156\n",
       "11100544\n",
       "12249484\n",
       "7753432\n",
       "5908254\n",
       "</code></pre>\n",
       "<p>Each buyer uses their own secret number when choosing their price, so it's important to be able to predict the sequence of secret numbers for each buyer. Fortunately, the Historian's research has uncovered the <em>initial secret number of each buyer</em> (your puzzle input). For example:</p>\n",
       "<pre><code>1\n",
       "10\n",
       "100\n",
       "2024\n",
       "</code></pre>\n",
       "<p>This list describes the <em>initial secret number</em> of four different secret-hiding-spot-buyers on the Monkey Exchange Market. If you can simulate secret numbers from each buyer, you'll be able to predict all of their future prices.</p>\n",
       "<p>In a single day, buyers each have time to generate <code>2000</code> <em>new</em> secret numbers. In this example, for each buyer, their initial secret number and the 2000th new secret number they would generate are:</p>\n",
       "<pre><code>1: 8685429\n",
       "10: 4700978\n",
       "100: 15273692\n",
       "2024: 8667524\n",
       "</code></pre>\n",
       "<p>Adding up the 2000th new secret number for each buyer produces <code><em>37327623</em></code>.</p>\n",
       "<p>For each buyer, simulate the creation of 2000 new secret numbers. <em>What is the sum of the 2000th secret number generated by each buyer?</em></p>\n"
      ],
      "text/plain": [
       "<IPython.core.display.HTML object>"
      ]
     },
     "execution_count": 3,
     "metadata": {},
     "output_type": "execute_result"
    }
   ],
   "source": [
    "from IPython.display import HTML\n",
    "\n",
    "HTML(downloaded['part1'])"
   ]
  },
  {
   "cell_type": "code",
   "execution_count": 5,
   "metadata": {},
   "outputs": [],
   "source": [
    "part1_example_input = '''1\n",
    "10\n",
    "100\n",
    "2024'''\n",
    "\n",
    "# print(downloaded['input'])"
   ]
  },
  {
   "cell_type": "code",
   "execution_count": 9,
   "metadata": {},
   "outputs": [
    {
     "data": {
      "text/html": [
       "\n",
       "<p>To begin, <a href=\"21/input\" target=\"_blank\">get your puzzle input</a>.</p>\n",
       "<form method=\"post\" action=\"21/answer\"><input type=\"hidden\" name=\"level\" value=\"1\"/><p>Answer: <input type=\"text\" name=\"answer\" autocomplete=\"off\"/> <input type=\"submit\" value=\"[Submit]\"/></p></form>\n",
       "<p>You can also <span class=\"share\">[Share<span class=\"share-content\">on\n",
       "  <a href=\"https://bsky.app/intent/compose?text=%22Keypad+Conundrum%22+%2D+Day+21+%2D+Advent+of+Code+2024+%23AdventOfCode+https%3A%2F%2Fadventofcode%2Ecom%2F2024%2Fday%2F21\" target=\"_blank\">Bluesky</a>\n",
       "  <a href=\"https://twitter.com/intent/tweet?text=%22Keypad+Conundrum%22+%2D+Day+21+%2D+Advent+of+Code+2024&amp;url=https%3A%2F%2Fadventofcode%2Ecom%2F2024%2Fday%2F21&amp;related=ericwastl&amp;hashtags=AdventOfCode\" target=\"_blank\">Twitter</a>\n",
       "  <a href=\"javascript:void(0);\" onclick=\"var ms; try{ms=localStorage.getItem('mastodon.server')}finally{} if(typeof ms!=='string')ms=''; ms=prompt('Mastodon Server?',ms); if(typeof ms==='string' && ms.length){this.href='https://'+ms+'/share?text=%22Keypad+Conundrum%22+%2D+Day+21+%2D+Advent+of+Code+2024+%23AdventOfCode+https%3A%2F%2Fadventofcode%2Ecom%2F2024%2Fday%2F21';try{localStorage.setItem('mastodon.server',ms);}finally{}}else{return false;}\" target=\"_blank\">Mastodon</a\n",
       "></span>]</span> this puzzle.</p>\n"
      ],
      "text/plain": [
       "<IPython.core.display.HTML object>"
      ]
     },
     "execution_count": 9,
     "metadata": {},
     "output_type": "execute_result"
    }
   ],
   "source": [
    "HTML(downloaded['part1_footer'])"
   ]
  },
  {
   "cell_type": "code",
   "execution_count": 10,
   "metadata": {
    "scrolled": true
   },
   "outputs": [],
   "source": [
    "# HTML(downloaded['part2'])"
   ]
  }
 ],
 "metadata": {
  "kernelspec": {
   "display_name": ".python3.12-venv",
   "language": "python",
   "name": "python3"
  },
  "language_info": {
   "codemirror_mode": {
    "name": "ipython",
    "version": 3
   },
   "file_extension": ".py",
   "mimetype": "text/x-python",
   "name": "python",
   "nbconvert_exporter": "python",
   "pygments_lexer": "ipython3",
   "version": "3.12.8"
  }
 },
 "nbformat": 4,
 "nbformat_minor": 2
}

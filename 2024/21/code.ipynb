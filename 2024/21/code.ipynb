{
 "cells": [
  {
   "cell_type": "markdown",
   "metadata": {},
   "source": [
    "# Day 21: Keypad Conundrum\n",
    "\n",
    "[*Advent of Code 2024 day 21*](https://adventofcode.com/2024/day/21) and [*solution megathread*](https://redd.it/1hj2odw)\n",
    "\n",
    "[![nbviewer](https://raw.githubusercontent.com/jupyter/design/master/logos/Badges/nbviewer_badge.svg)](https://nbviewer.jupyter.org/github/UncleCJ/advent-of-code/blob/cj/2024/21/code.ipynb) [![Binder](https://mybinder.org/badge_logo.svg)](https://mybinder.org/v2/gh/UncleCJ/advent-of-code/cj?filepath=2024%2F21%2Fcode.ipynb)"
   ]
  },
  {
   "cell_type": "code",
   "execution_count": 1,
   "metadata": {},
   "outputs": [],
   "source": [
    "from IPython.display import HTML\n",
    "import sys\n",
    "sys.path.append('../../')\n",
    "\n",
    "\n",
    "# %load_ext nb_mypy\n",
    "# %nb_mypy On"
   ]
  },
  {
   "cell_type": "code",
   "execution_count": 2,
   "metadata": {},
   "outputs": [
    {
     "name": "stdout",
     "output_type": "stream",
     "text": [
      "Writing 'downloaded' (dict) to file 'downloaded'.\n"
     ]
    }
   ],
   "source": [
    "import common\n",
    "\n",
    "\n",
    "downloaded = common.refresh()\n",
    "%store downloaded >downloaded\n",
    "\n",
    "# %load_ext pycodestyle_magic\n",
    "# %pycodestyle_on"
   ]
  },
  {
   "cell_type": "code",
   "execution_count": 3,
   "metadata": {},
   "outputs": [
    {
     "data": {
      "text/html": [
       "<h2>--- Day 21: Keypad Conundrum ---</h2><p>As you teleport onto Santa's <a href=\"/2019/day/25\">Reindeer-class starship</a>, The Historians begin to panic: someone from their search party is <em>missing</em>. A quick life-form scan by the ship's computer reveals that when the missing Historian teleported, he arrived in another part of the ship.</p>\n",
       "<p>The door to that area is locked, but the computer can't open it; it can only be opened by <em>physically typing</em> the door codes (your puzzle input) on the numeric keypad on the door.</p>\n",
       "<p>The numeric keypad has four rows of buttons: <code>789</code>, <code>456</code>, <code>123</code>, and finally an empty gap followed by <code>0A</code>. Visually, they are arranged like this:</p>\n",
       "<pre><code>+---+---+---+\n",
       "| 7 | 8 | 9 |\n",
       "+---+---+---+\n",
       "| 4 | 5 | 6 |\n",
       "+---+---+---+\n",
       "| 1 | 2 | 3 |\n",
       "+---+---+---+\n",
       "    | 0 | A |\n",
       "    +---+---+\n",
       "</code></pre>\n",
       "<p>Unfortunately, the area outside the door is currently <em>depressurized</em> and nobody can go near the door. A robot needs to be sent instead.</p>\n",
       "<p>The robot has no problem navigating the ship and finding the numeric keypad, but it's not designed for button pushing: it can't be told to push a specific button directly. Instead, it has a robotic arm that can be controlled remotely via a <em>directional keypad</em>.</p>\n",
       "<p>The directional keypad has two rows of buttons: a gap / <code>^</code> (up) / <code>A</code> (activate) on the first row and <code>&lt;</code> (left) / <code>v</code> (down) / <code>&gt;</code> (right) on the second row. Visually, they are arranged like this:</p>\n",
       "<pre><code>    +---+---+\n",
       "    | ^ | A |\n",
       "+---+---+---+\n",
       "| &lt; | v | &gt; |\n",
       "+---+---+---+\n",
       "</code></pre>\n",
       "<p>When the robot arrives at the numeric keypad, its robotic arm is pointed at the <code>A</code> button in the bottom right corner. After that, this directional keypad remote control must be used to maneuver the robotic arm: the up / down / left / right buttons cause it to move its arm one button in that direction, and the <code>A</code> button causes the robot to briefly move forward, pressing the button being aimed at by the robotic arm.</p>\n",
       "<p>For example, to make the robot type <code>029A</code> on the numeric keypad, one sequence of inputs on the directional keypad you could use is:</p>\n",
       "<ul>\n",
       "<li><code>&lt;</code> to move the arm from <code>A</code> (its initial position) to <code>0</code>.</li>\n",
       "<li><code>A</code> to push the <code>0</code> button.</li>\n",
       "<li><code>^A</code> to move the arm to the <code>2</code> button and push it.</li>\n",
       "<li><code>&gt;^^A</code> to move the arm to the <code>9</code> button and push it.</li>\n",
       "<li><code>vvvA</code> to move the arm to the <code>A</code> button and push it.</li>\n",
       "</ul>\n",
       "<p>In total, there are three shortest possible sequences of button presses on this directional keypad that would cause the robot to type <code>029A</code>: <code>&lt;A^A&gt;^^AvvvA</code>, <code>&lt;A^A^&gt;^AvvvA</code>, and <code>&lt;A^A^^&gt;AvvvA</code>.</p>\n",
       "<p>Unfortunately, the area containing this directional keypad remote control is currently experiencing <em>high levels of radiation</em> and nobody can go near it. A robot needs to be sent instead.</p>\n",
       "<p>When the robot arrives at the directional keypad, its robot arm is pointed at the <code>A</code> button in the upper right corner. After that, a <em>second, different</em> directional keypad remote control is used to control this robot (in the same way as the first robot, except that this one is typing on a directional keypad instead of a numeric keypad).</p>\n",
       "<p>There are multiple shortest possible sequences of directional keypad button presses that would cause this robot to tell the first robot to type <code>029A</code> on the door. One such sequence is <code>v&lt;&lt;A&gt;&gt;^A&lt;A&gt;AvA&lt;^AA&gt;A&lt;vAAA&gt;^A</code>.</p>\n",
       "<p>Unfortunately, the area containing this second directional keypad remote control is currently <em><code>-40</code> degrees</em>! Another robot will need to be sent to type on that directional keypad, too.</p>\n",
       "<p>There are many shortest possible sequences of directional keypad button presses that would cause this robot to tell the second robot to tell the first robot to eventually type <code>029A</code> on the door. One such sequence is <code>&lt;vA&lt;AA&gt;&gt;^AvAA&lt;^A&gt;A&lt;v&lt;A&gt;&gt;^AvA^A&lt;vA&gt;^A&lt;v&lt;A&gt;^A&gt;AAvA^A&lt;v&lt;A&gt;A&gt;^AAAvA&lt;^A&gt;A</code>.</p>\n",
       "<p>Unfortunately, the area containing this third directional keypad remote control is currently <em>full of Historians</em>, so no robots can find a clear path there. Instead, <em>you</em> will have to type this sequence yourself.</p>\n",
       "<p>Were you to choose this sequence of button presses, here are all of the buttons that would be pressed on your directional keypad, the two robots' directional keypads, and the numeric keypad:</p>\n",
       "<pre><code>&lt;vA&lt;AA&gt;&gt;^AvAA&lt;^A&gt;A&lt;v&lt;A&gt;&gt;^AvA^A&lt;vA&gt;^A&lt;v&lt;A&gt;^A&gt;AAvA^A&lt;v&lt;A&gt;A&gt;^AAAvA&lt;^A&gt;A\n",
       "v&lt;&lt;A&gt;&gt;^A&lt;A&gt;AvA&lt;^AA&gt;A&lt;vAAA&gt;^A\n",
       "&lt;A^A&gt;^^AvvvA\n",
       "029A\n",
       "</code></pre>\n",
       "<p>In summary, there are the following keypads:</p>\n",
       "<ul>\n",
       "<li>One directional keypad that <em>you</em> are using.</li>\n",
       "<li>Two directional keypads that <em>robots</em> are using.</li>\n",
       "<li>One numeric keypad (on a door) that a <em>robot</em> is using.</li>\n",
       "</ul>\n",
       "<p>It is important to remember that these robots are not designed for button pushing. In particular, if a robot arm is ever aimed at a <em>gap</em> where no button is present on the keypad, even for an instant, the robot will <em>panic</em> unrecoverably. So, don't do that. All robots will initially aim at the keypad's <code>A</code> key, wherever it is.</p>\n",
       "<p>To unlock the door, <em>five</em> codes will need to be typed on its numeric keypad. For example:</p>\n",
       "<pre><code>029A\n",
       "980A\n",
       "179A\n",
       "456A\n",
       "379A\n",
       "</code></pre>\n",
       "<p>For each of these, here is a shortest sequence of button presses you could type to cause the desired code to be typed on the numeric keypad:</p>\n",
       "<pre><code>029A: &lt;vA&lt;AA&gt;&gt;^AvAA&lt;^A&gt;A&lt;v&lt;A&gt;&gt;^AvA^A&lt;vA&gt;^A&lt;v&lt;A&gt;^A&gt;AAvA^A&lt;v&lt;A&gt;A&gt;^AAAvA&lt;^A&gt;A\n",
       "980A: &lt;v&lt;A&gt;&gt;^AAAvA^A&lt;vA&lt;AA&gt;&gt;^AvAA&lt;^A&gt;A&lt;v&lt;A&gt;A&gt;^AAAvA&lt;^A&gt;A&lt;vA&gt;^A&lt;A&gt;A\n",
       "179A: &lt;v&lt;A&gt;&gt;^A&lt;vA&lt;A&gt;&gt;^AAvAA&lt;^A&gt;A&lt;v&lt;A&gt;&gt;^AAvA^A&lt;vA&gt;^AA&lt;A&gt;A&lt;v&lt;A&gt;A&gt;^AAAvA&lt;^A&gt;A\n",
       "456A: &lt;v&lt;A&gt;&gt;^AA&lt;vA&lt;A&gt;&gt;^AAvAA&lt;^A&gt;A&lt;vA&gt;^A&lt;A&gt;A&lt;vA&gt;^A&lt;A&gt;A&lt;v&lt;A&gt;A&gt;^AAvA&lt;^A&gt;A\n",
       "379A: &lt;v&lt;A&gt;&gt;^AvA^A&lt;vA&lt;AA&gt;&gt;^AAvA&lt;^A&gt;AAvA^A&lt;vA&gt;^AA&lt;A&gt;A&lt;v&lt;A&gt;A&gt;^AAAvA&lt;^A&gt;A\n",
       "</code></pre>\n",
       "<p>The Historians are getting nervous; the ship computer doesn't remember whether the missing Historian is trapped in the area containing a <em>giant electromagnet</em> or <em>molten lava</em>. You'll need to make sure that for each of the five codes, you find the <em>shortest sequence</em> of button presses necessary.</p>\n",
       "<p>The <em>complexity</em> of a single code (like <code>029A</code>) is equal to the result of multiplying these two values:</p>\n",
       "<ul>\n",
       "<li>The <em>length of the shortest sequence</em> of button presses you need to type on your directional keypad in order to cause the code to be typed on the numeric keypad; for <code>029A</code>, this would be <code>68</code>.</li>\n",
       "<li>The <em>numeric part of the code</em> (ignoring leading zeroes); for <code>029A</code>, this would be <code>29</code>.</li>\n",
       "</ul>\n",
       "<p>In the above example, complexity of the five codes can be found by calculating <code>68 * 29</code>, <code>60 * 980</code>, <code>68 * 179</code>, <code>64 * 456</code>, and <code>64 * 379</code>. Adding these together produces <code><em>126384</em></code>.</p>\n",
       "<p>Find the fewest number of button presses you'll need to perform in order to cause the robot in front of the door to type each code. <em>What is the sum of the complexities of the five codes on your list?</em></p>\n"
      ],
      "text/plain": [
       "<IPython.core.display.HTML object>"
      ]
     },
     "execution_count": 3,
     "metadata": {},
     "output_type": "execute_result"
    }
   ],
   "source": [
    "from IPython.display import HTML\n",
    "\n",
    "HTML(downloaded['part1'])"
   ]
  },
  {
   "cell_type": "code",
   "execution_count": 4,
   "metadata": {},
   "outputs": [
    {
     "name": "stdout",
     "output_type": "stream",
     "text": [
      "480A\n",
      "143A\n",
      "983A\n",
      "382A\n",
      "974A\n"
     ]
    }
   ],
   "source": [
    "part1_example_input = '''029A\n",
    "980A\n",
    "179A\n",
    "456A\n",
    "379A'''\n",
    "\n",
    "print(downloaded['input'])"
   ]
  },
  {
   "cell_type": "code",
   "execution_count": 5,
   "metadata": {},
   "outputs": [],
   "source": [
    "# +---+---+---+\n",
    "# | 7 | 8 | 9 |\n",
    "# +---+---+---+\n",
    "# | 4 | 5 | 6 |\n",
    "# +---+---+---+\n",
    "# | 1 | 2 | 3 |\n",
    "# +---+---+---+\n",
    "#     | 0 | A |\n",
    "#     +---+---+\n",
    "\n",
    "numeric_paths = {\n",
    "    'A0': '<',\n",
    "    'A1': '^<<',\n",
    "    'A2': '^<',\n",
    "    'A3': '^',\n",
    "    'A4': '^^<<',\n",
    "    'A5': '^^<',\n",
    "    'A6': '^^',\n",
    "    'A7': '^^^<<',\n",
    "    'A8': '^^^<',\n",
    "    'A9': '^^^',\n",
    "    '01': '^<',\n",
    "    '02': '^',\n",
    "    '03': '^>',\n",
    "    '04': '^^<',\n",
    "    '05': '^^',\n",
    "    '06': '^^>',\n",
    "    '07': '^^^<',\n",
    "    '08': '^^^',\n",
    "    '09': '^^^>',\n",
    "    '12': '>',\n",
    "    '13': '>>',\n",
    "    '14': '^',\n",
    "    '15': '^>',\n",
    "    '16': '^>>',\n",
    "    '17': '^^',\n",
    "    '18': '^^>',\n",
    "    '19': '^^>>',\n",
    "    '23': '>',\n",
    "    '24': '^<',\n",
    "    '25': '^',\n",
    "    '26': '^>',\n",
    "    '27': '^^<',\n",
    "    '28': '^^',\n",
    "    '29': '^^>'\n",
    "}"
   ]
  },
  {
   "cell_type": "code",
   "execution_count": 6,
   "metadata": {},
   "outputs": [],
   "source": [
    "#     +---+---+\n",
    "#     | ^ | A |\n",
    "# +---+---+---+\n",
    "# | < | v | > |\n",
    "# +---+---+---+\n",
    "\n",
    "direction_paths = {\n",
    "    'A^': '<',\n",
    "    'A<': 'v<<',\n",
    "    'Av': 'v<',\n",
    "    'A>': 'v',\n",
    "    '^<': 'v<',\n",
    "    '^v': 'v',\n",
    "    '^>': 'v>',\n",
    "    '<v': '>',\n",
    "    '<>': '>>',\n",
    "    'v>': '>'\n",
    "}"
   ]
  },
  {
   "cell_type": "code",
   "execution_count": 7,
   "metadata": {},
   "outputs": [
    {
     "data": {
      "text/plain": [
       "'^'"
      ]
     },
     "execution_count": 7,
     "metadata": {},
     "output_type": "execute_result"
    }
   ],
   "source": [
    "from typing import Dict\n",
    "\n",
    "def find_path(src: str, dst: str, paths: Dict[str, str]) -> str:\n",
    "    def reverse_path(path: str) -> str:\n",
    "        results = []\n",
    "        for d in path[::-1]:\n",
    "            match d:\n",
    "                case '>':\n",
    "                    results.append('<')\n",
    "                case '<':\n",
    "                    results.append('>')\n",
    "                case '^':\n",
    "                    results.append('v')\n",
    "                case 'v':\n",
    "                    results.append('^')\n",
    "                case _:\n",
    "                    results.append(d)\n",
    "        return ''.join(results)\n",
    "    if src + dst in paths.keys():\n",
    "        return paths[src+dst]\n",
    "    elif dst+src in paths.keys():\n",
    "        return reverse_path(paths[dst+src])\n",
    "    elif src == dst:\n",
    "        return ''\n",
    "    else:\n",
    "        raise ValueError\n",
    "    \n",
    "find_path('>', 'A', direction_paths)"
   ]
  },
  {
   "cell_type": "code",
   "execution_count": 8,
   "metadata": {},
   "outputs": [
    {
     "name": "stdout",
     "output_type": "stream",
     "text": [
      "s=('A', '<')\n",
      "s=('<', 'A')\n",
      "s=('A', '^')\n",
      "s=('^', 'A')\n",
      "s=('A', '^')\n",
      "s=('^', '^')\n",
      "s=('^', '>')\n",
      "s=('>', 'A')\n",
      "s=('A', 'v')\n",
      "s=('v', 'v')\n",
      "s=('v', 'v')\n",
      "s=('v', 'A')\n"
     ]
    },
    {
     "data": {
      "text/plain": [
       "'v<<>>^<><v>^v<>^'"
      ]
     },
     "execution_count": 8,
     "metadata": {},
     "output_type": "execute_result"
    }
   ],
   "source": [
    "from typing import List, Tuple, Iterable\n",
    "\n",
    "def find_paths(src: str, dst: str, keypads: List[Dict[str, str]]) -> str:\n",
    "    def actuation_seq(sequence: str) -> Iterable[Tuple[str, str]]:\n",
    "        return zip('A' + sequence, sequence + 'A')\n",
    "    sequence = find_path(src, dst, keypads[-1])\n",
    "    if len(keypads) > 1:\n",
    "        sequence_p = []\n",
    "        for s in actuation_seq(sequence):\n",
    "            print(f'{s=}')\n",
    "            sequence_p.extend(find_paths(s[0], s[1], keypads[:-1]))\n",
    "        sequence = ''.join(sequence_p)\n",
    "    return sequence\n",
    "    \n",
    "def find_code(code, keypads):\n",
    "    prev_key = 'A'\n",
    "    sequence = []\n",
    "    for d in code:\n",
    "        sequence.extend(find_paths(prev_key, d, keypads))\n",
    "        prev_key = d\n",
    "    return ''.join(sequence)\n",
    "\n",
    "find_code('029A', [direction_paths, numeric_paths])\n",
    "\n",
    "# <vA<AA>>^AvAA<^A>A<v<A>>^AvA^A<vA>^A<v<A>^A>AAvA^A<v<A>A>^AAAvA<^A>A\n",
    "# v<<A>>^A<A>AvA<^AA>A<vAAA>^A\n",
    "# <A^A>^^AvvvA\n",
    "# 029A"
   ]
  },
  {
   "cell_type": "code",
   "execution_count": 9,
   "metadata": {},
   "outputs": [
    {
     "data": {
      "text/html": [
       "\n",
       "<p>To begin, <a href=\"21/input\" target=\"_blank\">get your puzzle input</a>.</p>\n",
       "<form method=\"post\" action=\"21/answer\"><input type=\"hidden\" name=\"level\" value=\"1\"/><p>Answer: <input type=\"text\" name=\"answer\" autocomplete=\"off\"/> <input type=\"submit\" value=\"[Submit]\"/></p></form>\n",
       "<p>You can also <span class=\"share\">[Share<span class=\"share-content\">on\n",
       "  <a href=\"https://bsky.app/intent/compose?text=%22Keypad+Conundrum%22+%2D+Day+21+%2D+Advent+of+Code+2024+%23AdventOfCode+https%3A%2F%2Fadventofcode%2Ecom%2F2024%2Fday%2F21\" target=\"_blank\">Bluesky</a>\n",
       "  <a href=\"https://twitter.com/intent/tweet?text=%22Keypad+Conundrum%22+%2D+Day+21+%2D+Advent+of+Code+2024&amp;url=https%3A%2F%2Fadventofcode%2Ecom%2F2024%2Fday%2F21&amp;related=ericwastl&amp;hashtags=AdventOfCode\" target=\"_blank\">Twitter</a>\n",
       "  <a href=\"javascript:void(0);\" onclick=\"var ms; try{ms=localStorage.getItem('mastodon.server')}finally{} if(typeof ms!=='string')ms=''; ms=prompt('Mastodon Server?',ms); if(typeof ms==='string' && ms.length){this.href='https://'+ms+'/share?text=%22Keypad+Conundrum%22+%2D+Day+21+%2D+Advent+of+Code+2024+%23AdventOfCode+https%3A%2F%2Fadventofcode%2Ecom%2F2024%2Fday%2F21';try{localStorage.setItem('mastodon.server',ms);}finally{}}else{return false;}\" target=\"_blank\">Mastodon</a\n",
       "></span>]</span> this puzzle.</p>\n"
      ],
      "text/plain": [
       "<IPython.core.display.HTML object>"
      ]
     },
     "execution_count": 9,
     "metadata": {},
     "output_type": "execute_result"
    }
   ],
   "source": [
    "HTML(downloaded['part1_footer'])"
   ]
  },
  {
   "cell_type": "code",
   "execution_count": 10,
   "metadata": {
    "scrolled": true
   },
   "outputs": [],
   "source": [
    "# HTML(downloaded['part2'])"
   ]
  },
  {
   "cell_type": "code",
   "execution_count": null,
   "metadata": {},
   "outputs": [],
   "source": []
  }
 ],
 "metadata": {
  "kernelspec": {
   "display_name": ".python3.12-venv",
   "language": "python",
   "name": "python3"
  },
  "language_info": {
   "codemirror_mode": {
    "name": "ipython",
    "version": 3
   },
   "file_extension": ".py",
   "mimetype": "text/x-python",
   "name": "python",
   "nbconvert_exporter": "python",
   "pygments_lexer": "ipython3",
   "version": "3.12.8"
  }
 },
 "nbformat": 4,
 "nbformat_minor": 2
}

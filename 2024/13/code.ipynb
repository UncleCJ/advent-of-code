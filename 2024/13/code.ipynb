{
 "cells": [
  {
   "cell_type": "markdown",
   "metadata": {},
   "source": [
    "# Day 13: Claw Contraption\n",
    "\n",
    "[*Advent of Code 2024 day 13*](https://adventofcode.com/2024/day/13) and [*solution megathread*](https://redd.it/1hd4wda)\n",
    "\n",
    "[![nbviewer](https://raw.githubusercontent.com/jupyter/design/master/logos/Badges/nbviewer_badge.svg)](https://nbviewer.jupyter.org/github/UncleCJ/advent-of-code/blob/cj/2024/13/code.ipynb) [![Binder](https://mybinder.org/badge_logo.svg)](https://mybinder.org/v2/gh/UncleCJ/advent-of-code/cj?filepath=2024%2F13%2Fcode.ipynb)"
   ]
  },
  {
   "cell_type": "code",
   "execution_count": 1,
   "metadata": {},
   "outputs": [],
   "source": [
    "from IPython.display import HTML\n",
    "import sys\n",
    "sys.path.append('../../')\n",
    "\n",
    "\n",
    "# %load_ext nb_mypy\n",
    "# %nb_mypy On"
   ]
  },
  {
   "cell_type": "code",
   "execution_count": 2,
   "metadata": {},
   "outputs": [
    {
     "name": "stdout",
     "output_type": "stream",
     "text": [
      "Writing 'downloaded' (dict) to file 'downloaded'.\n"
     ]
    }
   ],
   "source": [
    "import common\n",
    "\n",
    "\n",
    "downloaded = common.refresh()\n",
    "%store downloaded >downloaded\n",
    "\n",
    "# %load_ext pycodestyle_magic\n",
    "# %pycodestyle_on"
   ]
  },
  {
   "cell_type": "code",
   "execution_count": 3,
   "metadata": {},
   "outputs": [
    {
     "data": {
      "text/html": [
       "<h2>--- Day 13: Claw Contraption ---</h2><p>Next up: the <a href=\"/2020/day/24\">lobby</a> of a resort on a tropical island. The Historians take a moment to admire the hexagonal floor tiles before spreading out.</p>\n",
       "<p>Fortunately, it looks like the resort has a new <a href=\"https://en.wikipedia.org/wiki/Amusement_arcade\">arcade</a>! Maybe you can win some prizes from the <a href=\"https://en.wikipedia.org/wiki/Claw_machine\" target=\"_blank\">claw machines</a>?</p>\n",
       "<p>The claw machines here are a little unusual. Instead of a joystick or directional buttons to control the claw, these machines have two buttons labeled <code>A</code> and <code>B</code>. Worse, you can't just put in a token and play; it costs <em>3 tokens</em> to push the <code>A</code> button and <em>1 token</em> to push the <code>B</code> button.</p>\n",
       "<p>With a little experimentation, you figure out that each machine's buttons are configured to move the claw a specific amount to the <em>right</em> (along the <code>X</code> axis) and a specific amount <em>forward</em> (along the <code>Y</code> axis) each time that button is pressed.</p>\n",
       "<p>Each machine contains one <em>prize</em>; to win the prize, the claw must be positioned <em>exactly</em> above the prize on both the <code>X</code> and <code>Y</code> axes.</p>\n",
       "<p>You wonder: what is the smallest number of tokens you would have to spend to win as many prizes as possible? You assemble a list of every machine's button behavior and prize location (your puzzle input). For example:</p>\n",
       "<pre><code>Button A: X+94, Y+34\n",
       "Button B: X+22, Y+67\n",
       "Prize: X=8400, Y=5400\n",
       "\n",
       "Button A: X+26, Y+66\n",
       "Button B: X+67, Y+21\n",
       "Prize: X=12748, Y=12176\n",
       "\n",
       "Button A: X+17, Y+86\n",
       "Button B: X+84, Y+37\n",
       "Prize: X=7870, Y=6450\n",
       "\n",
       "Button A: X+69, Y+23\n",
       "Button B: X+27, Y+71\n",
       "Prize: X=18641, Y=10279\n",
       "</code></pre>\n",
       "<p>This list describes the button configuration and prize location of four different claw machines.</p>\n",
       "<p>For now, consider just the first claw machine in the list:</p>\n",
       "<ul>\n",
       "<li>Pushing the machine's <code>A</code> button would move the claw <code>94</code> units along the <code>X</code> axis and <code>34</code> units along the <code>Y</code> axis.</li>\n",
       "<li>Pushing the <code>B</code> button would move the claw <code>22</code> units along the <code>X</code> axis and <code>67</code> units along the <code>Y</code> axis.</li>\n",
       "<li>The prize is located at <code>X=8400</code>, <code>Y=5400</code>; this means that from the claw's initial position, it would need to move exactly <code>8400</code> units along the <code>X</code> axis and exactly <code>5400</code> units along the <code>Y</code> axis to be perfectly aligned with the prize in this machine.</li>\n",
       "</ul>\n",
       "<p>The cheapest way to win the prize is by pushing the <code>A</code> button <code>80</code> times and the <code>B</code> button <code>40</code> times. This would line up the claw along the <code>X</code> axis (because <code>80*94 + 40*22 = 8400</code>) and along the <code>Y</code> axis (because <code>80*34 + 40*67 = 5400</code>). Doing this would cost <code>80*3</code> tokens for the <span title=\"Half A presses are not allowed.\"><code>A</code> presses</span> and <code>40*1</code> for the <code>B</code> presses, a total of <code><em>280</em></code> tokens.</p>\n",
       "<p>For the second and fourth claw machines, there is no combination of A and B presses that will ever win a prize.</p>\n",
       "<p>For the third claw machine, the cheapest way to win the prize is by pushing the <code>A</code> button <code>38</code> times and the <code>B</code> button <code>86</code> times. Doing this would cost a total of <code><em>200</em></code> tokens.</p>\n",
       "<p>So, the most prizes you could possibly win is two; the minimum tokens you would have to spend to win all (two) prizes is <code><em>480</em></code>.</p>\n",
       "<p>You estimate that each button would need to be pressed <em>no more than <code>100</code> times</em> to win a prize. How else would someone be expected to play?</p>\n",
       "<p>Figure out how to win as many prizes as possible. <em>What is the fewest tokens you would have to spend to win all possible prizes?</em></p>\n"
      ],
      "text/plain": [
       "<IPython.core.display.HTML object>"
      ]
     },
     "execution_count": 3,
     "metadata": {},
     "output_type": "execute_result"
    }
   ],
   "source": [
    "from IPython.display import HTML\n",
    "\n",
    "HTML(downloaded['part1'])"
   ]
  },
  {
   "cell_type": "code",
   "execution_count": 4,
   "metadata": {},
   "outputs": [],
   "source": [
    "part1_example_input = '''...#......\n",
    ".......#..\n",
    "#.........\n",
    "..........\n",
    "......#...\n",
    ".#........\n",
    ".........#\n",
    "..........\n",
    ".......#..\n",
    "#...#.....'''"
   ]
  },
  {
   "cell_type": "code",
   "execution_count": 5,
   "metadata": {},
   "outputs": [
    {
     "data": {
      "text/plain": [
       "([(0, 3), (1, 7), (2, 0), (4, 6), (5, 1), (6, 9), (8, 7), (9, 0), (9, 4)],\n",
       " [0, 1, 2, 4, 5, 6, 8, 9],\n",
       " [0, 1, 3, 4, 6, 7, 9])"
      ]
     },
     "execution_count": 5,
     "metadata": {},
     "output_type": "execute_result"
    }
   ],
   "source": [
    "def parse_input(lines):\n",
    "    nonempty_rows = set()\n",
    "    nonempty_cols = set()\n",
    "    galaxies = []\n",
    "    for row, line in zip(range(len(lines)), lines):\n",
    "        for col in range(len(line)):\n",
    "            if line[col] == '#':\n",
    "                nonempty_rows.add(row)\n",
    "                nonempty_cols.add(col)\n",
    "                galaxies.append((row, col))\n",
    "    return galaxies, list(nonempty_rows), list(nonempty_cols)\n",
    "\n",
    "parse_input(part1_example_input.splitlines())"
   ]
  },
  {
   "cell_type": "code",
   "execution_count": 6,
   "metadata": {},
   "outputs": [
    {
     "data": {
      "text/plain": [
       "[(0, 3), (1, 7), (2, 0), (4, 6), (5, 1), (6, 9), (8, 7), (9, 0), (9, 4)]"
      ]
     },
     "execution_count": 6,
     "metadata": {},
     "output_type": "execute_result"
    }
   ],
   "source": [
    "def expand_universe(galaxies, nonempty_rows, nonempty_cols, expansion_factor=1):\n",
    "    def find_empty(nonempty_sorted):\n",
    "        previous = -1\n",
    "        found_empty = []\n",
    "        for i in nonempty_sorted:\n",
    "            if i - previous > 1:\n",
    "                found_empty += range(previous+1, i)\n",
    "            previous = i\n",
    "        return found_empty\n",
    "    \n",
    "    def expand_vector(nonempty_sorted, empty_sorted):\n",
    "        # Here I'm not entirely happy with iterating through the entire `empty_sorted`\n",
    "        # to see which are smaller, but as we only do it for rows and columns rather\n",
    "        # than each galaxy, it is fine\n",
    "        return [i + (expansion_factor-1)*sum(i > j for j in empty_sorted) for i in nonempty_sorted]\n",
    "    \n",
    "    def expand_galaxy(old_row, old_col, rowmapping, colmapping):\n",
    "        return rowmapping[old_row], colmapping[old_col]\n",
    "        \n",
    "    empty_rows = find_empty(nonempty_rows)\n",
    "    empty_cols = find_empty(nonempty_cols)\n",
    "    rowmapping = dict(zip(nonempty_rows, expand_vector(nonempty_rows, empty_rows)))\n",
    "    colmapping = dict(zip(nonempty_cols, expand_vector(nonempty_cols, empty_cols)))\n",
    "    return [expand_galaxy(*galaxy, rowmapping, colmapping) for galaxy in galaxies]\n",
    "\n",
    "expand_universe(*parse_input(part1_example_input.splitlines()))"
   ]
  },
  {
   "cell_type": "code",
   "execution_count": 7,
   "metadata": {},
   "outputs": [
    {
     "data": {
      "text/plain": [
       "292"
      ]
     },
     "execution_count": 7,
     "metadata": {},
     "output_type": "execute_result"
    }
   ],
   "source": [
    "def galaxies_distances(galaxy, galaxies):\n",
    "    # print(f\"{galaxy=}, {galaxies=}\")\n",
    "    if not galaxy:\n",
    "        return galaxies_distances(galaxies[0], galaxies[1:])\n",
    "    head = {f\"{galaxy} - {row, col}\": abs(row - galaxy[0]) + abs(col - galaxy[1]) for row, col in galaxies}\n",
    "    if galaxies:\n",
    "        head.update(galaxies_distances(galaxies[0], galaxies[1:]))\n",
    "    return head\n",
    "\n",
    "sum(galaxies_distances(None, expand_universe(*parse_input(part1_example_input.splitlines()))).values())\n",
    "# sum(galaxies_distances(None, expand_universe(*parse_input(downloaded['input'].splitlines()))).values())"
   ]
  },
  {
   "cell_type": "code",
   "execution_count": 4,
   "metadata": {
    "scrolled": true
   },
   "outputs": [],
   "source": [
    "# HTML(downloaded['part2'])"
   ]
  },
  {
   "cell_type": "code",
   "execution_count": 9,
   "metadata": {},
   "outputs": [
    {
     "name": "stdout",
     "output_type": "stream",
     "text": [
      "1030\n",
      "8410\n"
     ]
    }
   ],
   "source": [
    "print(sum(galaxies_distances(None, expand_universe(*parse_input(part1_example_input.splitlines()), expansion_factor=10)).values()))\n",
    "print(sum(galaxies_distances(None, expand_universe(*parse_input(part1_example_input.splitlines()), expansion_factor=100)).values()))\n",
    "# sum(galaxies_distances(None, expand_universe(*parse_input(downloaded['input'].splitlines()), expansion_factor=1000000)).values())"
   ]
  }
 ],
 "metadata": {
  "kernelspec": {
   "display_name": ".python3.12-venv",
   "language": "python",
   "name": "python3"
  },
  "language_info": {
   "codemirror_mode": {
    "name": "ipython",
    "version": 3
   },
   "file_extension": ".py",
   "mimetype": "text/x-python",
   "name": "python",
   "nbconvert_exporter": "python",
   "pygments_lexer": "ipython3",
   "version": "3.12.7"
  }
 },
 "nbformat": 4,
 "nbformat_minor": 2
}

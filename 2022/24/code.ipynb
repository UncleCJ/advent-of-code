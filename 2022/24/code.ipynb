{
 "cells": [
  {
   "attachments": {},
   "cell_type": "markdown",
   "metadata": {},
   "source": [
    "# Day 24: Blizzard Basin\n",
    "\n",
    "[*Advent of Code 2022 day 24*](https://adventofcode.com/2022/day/24) and [*solution megathread*]()\n",
    "\n",
    "[![nbviewer](https://raw.githubusercontent.com/jupyter/design/master/logos/Badges/nbviewer_badge.svg)](https://nbviewer.jupyter.org/github/UncleCJ/advent-of-code/blob/cj/2022/24/code.ipynb) [![Binder](https://mybinder.org/badge_logo.svg)](https://mybinder.org/v2/gh/UncleCJ/advent-of-code/cj?filepath=2022%2F24%2Fcode.ipynb)"
   ]
  },
  {
   "cell_type": "code",
   "execution_count": 1,
   "metadata": {},
   "outputs": [
    {
     "name": "stderr",
     "output_type": "stream",
     "text": [
      "Version 1.0.4\n"
     ]
    }
   ],
   "source": [
    "from IPython.display import HTML\n",
    "import sys\n",
    "sys.path.append('../../')\n",
    "\n",
    "\n",
    "%load_ext nb_mypy\n",
    "%nb_mypy On"
   ]
  },
  {
   "cell_type": "code",
   "execution_count": 2,
   "metadata": {},
   "outputs": [
    {
     "name": "stdout",
     "output_type": "stream",
     "text": [
      "Writing 'downloaded' (dict) to file 'downloaded'.\n"
     ]
    }
   ],
   "source": [
    "import common\n",
    "\n",
    "\n",
    "downloaded = common.refresh()\n",
    "%store downloaded >downloaded\n",
    "\n",
    "%load_ext pycodestyle_magic\n",
    "%pycodestyle_on"
   ]
  },
  {
   "cell_type": "markdown",
   "metadata": {},
   "source": [
    "## Part One"
   ]
  },
  {
   "cell_type": "code",
   "execution_count": 3,
   "metadata": {},
   "outputs": [
    {
     "data": {
      "text/html": [
       "<h2>--- Day 24: Blizzard Basin ---</h2><p>With everything replanted for next year (and with elephants and monkeys to tend the grove), you and the Elves leave for the extraction point.</p>\n",
       "<p>Partway up the mountain that shields the grove is a flat, open area that serves as the extraction point. It's a bit of a climb, but nothing the expedition can't handle.</p>\n",
       "<p>At least, that would normally be true; now that the mountain is covered in snow, things have become more difficult than the Elves are used to.</p>\n",
       "<p>As the expedition reaches a valley that must be traversed to reach the extraction site, you find that strong, turbulent winds are pushing small <em>blizzards</em> of snow and sharp ice around the valley. It's a good thing everyone packed warm clothes! To make it across safely, you'll need to find a way to avoid them.</p>\n",
       "<p>Fortunately, it's easy to see all of this from the entrance to the valley, so you make a map of the valley and the blizzards (your puzzle input). For example:</p>\n",
       "<pre><code>#.#####\n",
       "#.....#\n",
       "#&gt;....#\n",
       "#.....#\n",
       "#...v.#\n",
       "#.....#\n",
       "#####.#\n",
       "</code></pre>\n",
       "<p>The walls of the valley are drawn as <code>#</code>; everything else is ground. Clear ground - where there is currently no blizzard - is drawn as <code>.</code>. Otherwise, blizzards are drawn with an arrow indicating their direction of motion: up (<code>^</code>), down (<code>v</code>), left (<code>&lt;</code>), or right (<code>&gt;</code>).</p>\n",
       "<p>The above map includes two blizzards, one moving right (<code>&gt;</code>) and one moving down (<code>v</code>). In one minute, each blizzard moves one position in the direction it is pointing:</p>\n",
       "<pre><code>#.#####\n",
       "#.....#\n",
       "#.&gt;...#\n",
       "#.....#\n",
       "#.....#\n",
       "#...v.#\n",
       "#####.#\n",
       "</code></pre>\n",
       "<p>Due to <span title=\"I think, anyway. Do I look like a theoretical blizzacist?\">conservation of blizzard energy</span>, as a blizzard reaches the wall of the valley, a new blizzard forms on the opposite side of the valley moving in the same direction. After another minute, the bottom downward-moving blizzard has been replaced with a new downward-moving blizzard at the top of the valley instead:</p>\n",
       "<pre><code>#.#####\n",
       "#...v.#\n",
       "#..&gt;..#\n",
       "#.....#\n",
       "#.....#\n",
       "#.....#\n",
       "#####.#\n",
       "</code></pre>\n",
       "<p>Because blizzards are made of tiny snowflakes, they pass right through each other. After another minute, both blizzards temporarily occupy the same position, marked <code>2</code>:</p>\n",
       "<pre><code>#.#####\n",
       "#.....#\n",
       "#...2.#\n",
       "#.....#\n",
       "#.....#\n",
       "#.....#\n",
       "#####.#\n",
       "</code></pre>\n",
       "<p>After another minute, the situation resolves itself, giving each blizzard back its personal space:</p>\n",
       "<pre><code>#.#####\n",
       "#.....#\n",
       "#....&gt;#\n",
       "#...v.#\n",
       "#.....#\n",
       "#.....#\n",
       "#####.#\n",
       "</code></pre>\n",
       "<p>Finally, after yet another minute, the rightward-facing blizzard on the right is replaced with a new one on the left facing the same direction:</p>\n",
       "<pre><code>#.#####\n",
       "#.....#\n",
       "#&gt;....#\n",
       "#.....#\n",
       "#...v.#\n",
       "#.....#\n",
       "#####.#\n",
       "</code></pre>\n",
       "<p>This process repeats at least as long as you are observing it, but probably forever.</p>\n",
       "<p>Here is a more complex example:</p>\n",
       "<pre><code>#.######\n",
       "#&gt;&gt;.&lt;^&lt;#\n",
       "#.&lt;..&lt;&lt;#\n",
       "#&gt;v.&gt;&lt;&gt;#\n",
       "#&lt;^v^^&gt;#\n",
       "######.#\n",
       "</code></pre>\n",
       "<p>Your expedition begins in the only non-wall position in the top row and needs to reach the only non-wall position in the bottom row. On each minute, you can <em>move</em> up, down, left, or right, or you can <em>wait</em> in place. You and the blizzards act <em>simultaneously</em>, and you cannot share a position with a blizzard.</p>\n",
       "<p>In the above example, the fastest way to reach your goal requires <code><em>18</em></code> steps. Drawing the position of the expedition as <code>E</code>, one way to achieve this is:</p>\n",
       "<pre><code>Initial state:\n",
       "#<em>E</em>######\n",
       "#&gt;&gt;.&lt;^&lt;#\n",
       "#.&lt;..&lt;&lt;#\n",
       "#&gt;v.&gt;&lt;&gt;#\n",
       "#&lt;^v^^&gt;#\n",
       "######.#\n",
       "\n",
       "Minute 1, move down:\n",
       "#.######\n",
       "#<em>E</em>&gt;3.&lt;.#\n",
       "#&lt;..&lt;&lt;.#\n",
       "#&gt;2.22.#\n",
       "#&gt;v..^&lt;#\n",
       "######.#\n",
       "\n",
       "Minute 2, move down:\n",
       "#.######\n",
       "#.2&gt;2..#\n",
       "#<em>E</em>^22^&lt;#\n",
       "#.&gt;2.^&gt;#\n",
       "#.&gt;..&lt;.#\n",
       "######.#\n",
       "\n",
       "Minute 3, wait:\n",
       "#.######\n",
       "#&lt;^&lt;22.#\n",
       "#<em>E</em>2&lt;.2.#\n",
       "#&gt;&lt;2&gt;..#\n",
       "#..&gt;&lt;..#\n",
       "######.#\n",
       "\n",
       "Minute 4, move up:\n",
       "#.######\n",
       "#<em>E</em>&lt;..22#\n",
       "#&lt;&lt;.&lt;..#\n",
       "#&lt;2.&gt;&gt;.#\n",
       "#.^22^.#\n",
       "######.#\n",
       "\n",
       "Minute 5, move right:\n",
       "#.######\n",
       "#2<em>E</em>v.&lt;&gt;#\n",
       "#&lt;.&lt;..&lt;#\n",
       "#.^&gt;^22#\n",
       "#.2..2.#\n",
       "######.#\n",
       "\n",
       "Minute 6, move right:\n",
       "#.######\n",
       "#&gt;2<em>E</em>&lt;.&lt;#\n",
       "#.2v^2&lt;#\n",
       "#&gt;..&gt;2&gt;#\n",
       "#&lt;....&gt;#\n",
       "######.#\n",
       "\n",
       "Minute 7, move down:\n",
       "#.######\n",
       "#.22^2.#\n",
       "#&lt;v<em>E</em>&lt;2.#\n",
       "#&gt;&gt;v&lt;&gt;.#\n",
       "#&gt;....&lt;#\n",
       "######.#\n",
       "\n",
       "Minute 8, move left:\n",
       "#.######\n",
       "#.&lt;&gt;2^.#\n",
       "#.<em>E</em>&lt;&lt;.&lt;#\n",
       "#.22..&gt;#\n",
       "#.2v^2.#\n",
       "######.#\n",
       "\n",
       "Minute 9, move up:\n",
       "#.######\n",
       "#&lt;<em>E</em>2&gt;&gt;.#\n",
       "#.&lt;&lt;.&lt;.#\n",
       "#&gt;2&gt;2^.#\n",
       "#.v&gt;&lt;^.#\n",
       "######.#\n",
       "\n",
       "Minute 10, move right:\n",
       "#.######\n",
       "#.2<em>E</em>.&gt;2#\n",
       "#&lt;2v2^.#\n",
       "#&lt;&gt;.&gt;2.#\n",
       "#..&lt;&gt;..#\n",
       "######.#\n",
       "\n",
       "Minute 11, wait:\n",
       "#.######\n",
       "#2^<em>E</em>^2&gt;#\n",
       "#&lt;v&lt;.^&lt;#\n",
       "#..2.&gt;2#\n",
       "#.&lt;..&gt;.#\n",
       "######.#\n",
       "\n",
       "Minute 12, move down:\n",
       "#.######\n",
       "#&gt;&gt;.&lt;^&lt;#\n",
       "#.&lt;<em>E</em>.&lt;&lt;#\n",
       "#&gt;v.&gt;&lt;&gt;#\n",
       "#&lt;^v^^&gt;#\n",
       "######.#\n",
       "\n",
       "Minute 13, move down:\n",
       "#.######\n",
       "#.&gt;3.&lt;.#\n",
       "#&lt;..&lt;&lt;.#\n",
       "#&gt;2<em>E</em>22.#\n",
       "#&gt;v..^&lt;#\n",
       "######.#\n",
       "\n",
       "Minute 14, move right:\n",
       "#.######\n",
       "#.2&gt;2..#\n",
       "#.^22^&lt;#\n",
       "#.&gt;2<em>E</em>^&gt;#\n",
       "#.&gt;..&lt;.#\n",
       "######.#\n",
       "\n",
       "Minute 15, move right:\n",
       "#.######\n",
       "#&lt;^&lt;22.#\n",
       "#.2&lt;.2.#\n",
       "#&gt;&lt;2&gt;<em>E</em>.#\n",
       "#..&gt;&lt;..#\n",
       "######.#\n",
       "\n",
       "Minute 16, move right:\n",
       "#.######\n",
       "#.&lt;..22#\n",
       "#&lt;&lt;.&lt;..#\n",
       "#&lt;2.&gt;&gt;<em>E</em>#\n",
       "#.^22^.#\n",
       "######.#\n",
       "\n",
       "Minute 17, move down:\n",
       "#.######\n",
       "#2.v.&lt;&gt;#\n",
       "#&lt;.&lt;..&lt;#\n",
       "#.^&gt;^22#\n",
       "#.2..2<em>E</em>#\n",
       "######.#\n",
       "\n",
       "Minute 18, move down:\n",
       "#.######\n",
       "#&gt;2.&lt;.&lt;#\n",
       "#.2v^2&lt;#\n",
       "#&gt;..&gt;2&gt;#\n",
       "#&lt;....&gt;#\n",
       "######<em>E</em>#\n",
       "</code></pre>\n",
       "<p><em>What is the fewest number of minutes required to avoid the blizzards and reach the goal?</em></p>\n"
      ],
      "text/plain": [
       "<IPython.core.display.HTML object>"
      ]
     },
     "execution_count": 3,
     "metadata": {},
     "output_type": "execute_result"
    }
   ],
   "source": [
    "from IPython.display import HTML\n",
    "\n",
    "HTML(downloaded['part1'])"
   ]
  },
  {
   "cell_type": "markdown",
   "metadata": {},
   "source": [
    "## Comments\n",
    "\n",
    "..."
   ]
  },
  {
   "cell_type": "code",
   "execution_count": 4,
   "metadata": {},
   "outputs": [],
   "source": [
    "testdata = \"\"\"#.#####\n",
    "#.....#\n",
    "#>....#\n",
    "#.....#\n",
    "#...v.#\n",
    "#.....#\n",
    "#####.#\"\"\".splitlines()\n",
    "\n",
    "testdata2 = \"\"\"#E######\n",
    "#>>.<^<#\n",
    "#.<..<<#\n",
    "#>v.><>#\n",
    "#<^v^^>#\n",
    "######.#\"\"\".splitlines()\n",
    "\n",
    "inputdata = downloaded['input'].splitlines()\n",
    "# inputdata = open('input.txt', 'r').read().splitlines()"
   ]
  },
  {
   "cell_type": "code",
   "execution_count": 5,
   "metadata": {},
   "outputs": [
    {
     "data": {
      "text/plain": [
       "\"['#.####################################################################################################', '#>^v^v>><.>>><>^v<>^v>v<>^<<>>v>>.>><v>^<>^.<>v.>v^>vvvv<<<<>>^v^^^>><><.^^^.<<<>><^v^vv^v<.v.v>>.vv<#', '#>^><>^v^<>.<v><.<.v<v>vv<^<vvvv.^^...<<<^^vv<<v<>>>>v^<>>^^^><.>>>>v<<>^.>.^^<v<.><<.<><.>>>^^^>>.<>#', '#<.vvv^^v>^<<^^^>.^<..v.v<<^>vv<>>>v^>vv<><v<<vv<v^>v<^^^^v>.<.vv><v>v<v<^v^>>^<^^<>^>v^<^.^^v><>.><>#', '#>..<^^<>>v>><>vv^<v.^v.>^<.v^<v><<^<><v^v<.vv^>>vvv.vvv<>v>><<.>^><v^<<<v<<>><v><^v.v.<>^>v><v<^<<.>#', '#>^^<v>v><^<^>^<vvv^.>^^><^>><^^.vv>v<>v<>^>^v><v>>.>>^<v><^v^v^>v^<.<v^^^<>vvv^^<.<v<>>>.^>><<.vvv.>#', '#><v>v^>^<>v^>>^^<>.><^v<^vvv>vv<.><>v>v<..<^>>v^v<<<<v>v^.<<<^^^^.^v^<<>^vvv>^><.^v<^<>vv><<^<>^<^<<#', '#.^vvv<vv>^^v<>v<<v^^>.<<<v><<vv<v>>^<vv<v>><<^>^vv<<>^<<>^v.>>.<>>^<^<v<^^^<.vv^vv><^><v^^v>v^v>^vv.#', '#<v.>^<^><^..>^.>>v>>vv<^<.<vv<<v^v<.vvv>>.^v^^<^v<^<.^vv>v>^><v<v^>^v>>>>^^^v>^^>>>v<v^vv<.^><vv<>^<#', '#><>v^>^v<.<.>.<^.<>>^^>v^<v^<v>vvv<<^>vv<^^>^<^>v<.^.v<<.v.v^v>v><>..^^<.v^^<.<<<<<><>v><v<^^v<^<vv<#'] ... len(inputdata)=37\""
      ]
     },
     "metadata": {},
     "output_type": "display_data"
    }
   ],
   "source": [
    "from IPython.display import display\n",
    "\n",
    "display(f'{inputdata[:10]} ... {len(inputdata)=}')"
   ]
  },
  {
   "cell_type": "code",
   "execution_count": 6,
   "metadata": {},
   "outputs": [],
   "source": [
    "from typing import List, Tuple\n",
    "\n",
    "\n",
    "def parse_blizzards(data: List[str]) -> Tuple[List[List[bool]], ...]:\n",
    "    def parse_row(data_row: str, blizzard: str) -> List[bool]:\n",
    "        return [c == blizzard for c in data_row[1:-1]]\n",
    "\n",
    "    def parse_blizzard(data: List[str], blizzard: str) -> List[List[bool]]:\n",
    "        return [parse_row(data_row, blizzard) for data_row in data[1:-1]]\n",
    "\n",
    "    return tuple(parse_blizzard(data, blizzard)\n",
    "                 for blizzard in ['^', '>', 'v', '<'])"
   ]
  },
  {
   "cell_type": "code",
   "execution_count": 13,
   "metadata": {},
   "outputs": [
    {
     "data": {
      "text/plain": [
       "([[False, False, False, False, False],\n",
       "  [False, False, False, False, False],\n",
       "  [False, False, False, False, False],\n",
       "  [False, False, False, False, False],\n",
       "  [False, False, False, False, False]],\n",
       " [[False, False, False, False, False],\n",
       "  [True, False, False, False, False],\n",
       "  [False, False, False, False, False],\n",
       "  [False, False, False, False, False],\n",
       "  [False, False, False, False, False]],\n",
       " [[False, False, False, False, False],\n",
       "  [False, False, False, False, False],\n",
       "  [False, False, False, False, False],\n",
       "  [False, False, False, True, False],\n",
       "  [False, False, False, False, False]],\n",
       " [[False, False, False, False, False],\n",
       "  [False, False, False, False, False],\n",
       "  [False, False, False, False, False],\n",
       "  [False, False, False, False, False],\n",
       "  [False, False, False, False, False]])"
      ]
     },
     "execution_count": 13,
     "metadata": {},
     "output_type": "execute_result"
    }
   ],
   "source": [
    "parse_blizzards(testdata)"
   ]
  },
  {
   "cell_type": "code",
   "execution_count": 8,
   "metadata": {},
   "outputs": [],
   "source": [
    "def increment_blizzards(blizzards: Tuple[List[List[bool]], ...]) \\\n",
    "        -> Tuple[List[List[bool]], ...]:\n",
    "    def increment_blizzard(this_blizzard: List[List[bool]], blizzard: str) \\\n",
    "            -> List[List[bool]]:\n",
    "        match blizzard:\n",
    "            case '^':\n",
    "                return this_blizzard[1:] + [this_blizzard[0]]\n",
    "            case '>':\n",
    "                return [[blizzard_row[-1]] + blizzard_row[:-1]\n",
    "                        for blizzard_row in this_blizzard]\n",
    "            case 'v':\n",
    "                return [this_blizzard[-1]] + this_blizzard[:-1]\n",
    "            case '<':\n",
    "                return [blizzard_row[1:] + [blizzard_row[0]]\n",
    "                        for blizzard_row in this_blizzard]\n",
    "            case default:\n",
    "                raise ValueError(f'Unrecognized blizzard: {blizzard}')\n",
    "\n",
    "    return tuple(increment_blizzard(this_blizzard, blizzard)\n",
    "                 for this_blizzard, blizzard\n",
    "                 in zip(blizzards, ['^', '>', 'v', '<']))"
   ]
  },
  {
   "cell_type": "code",
   "execution_count": 9,
   "metadata": {},
   "outputs": [
    {
     "data": {
      "text/plain": [
       "([[False, False, False, False, False],\n",
       "  [False, False, False, False, False],\n",
       "  [False, False, False, False, False],\n",
       "  [False, False, False, False, False],\n",
       "  [False, False, False, False, False]],\n",
       " [[False, False, False, False, False],\n",
       "  [False, True, False, False, False],\n",
       "  [False, False, False, False, False],\n",
       "  [False, False, False, False, False],\n",
       "  [False, False, False, False, False]],\n",
       " [[False, False, False, False, False],\n",
       "  [False, False, False, False, False],\n",
       "  [False, False, False, False, False],\n",
       "  [False, False, False, False, False],\n",
       "  [False, False, False, True, False]],\n",
       " [[False, False, False, False, False],\n",
       "  [False, False, False, False, False],\n",
       "  [False, False, False, False, False],\n",
       "  [False, False, False, False, False],\n",
       "  [False, False, False, False, False]])"
      ]
     },
     "execution_count": 9,
     "metadata": {},
     "output_type": "execute_result"
    }
   ],
   "source": [
    "increment_blizzards(parse_blizzards(testdata))"
   ]
  },
  {
   "cell_type": "code",
   "execution_count": 10,
   "metadata": {},
   "outputs": [
    {
     "data": {
      "text/html": [
       "\n",
       "<p>To begin, <a href=\"24/input\" target=\"_blank\">get your puzzle input</a>.</p>\n",
       "<form method=\"post\" action=\"24/answer\"><input type=\"hidden\" name=\"level\" value=\"1\"/><p>Answer: <input type=\"text\" name=\"answer\" autocomplete=\"off\"/> <input type=\"submit\" value=\"[Submit]\"/></p></form>\n",
       "<p>You can also <span class=\"share\">[Share<span class=\"share-content\">on\n",
       "  <a href=\"https://twitter.com/intent/tweet?text=%22Blizzard+Basin%22+%2D+Day+24+%2D+Advent+of+Code+2022&amp;url=https%3A%2F%2Fadventofcode%2Ecom%2F2022%2Fday%2F24&amp;related=ericwastl&amp;hashtags=AdventOfCode\" target=\"_blank\">Twitter</a>\n",
       "  <a href=\"javascript:void(0);\" onclick=\"var mastodon_instance=prompt('Mastodon Instance / Server Name?'); if(typeof mastodon_instance==='string' && mastodon_instance.length){this.href='https://'+mastodon_instance+'/share?text=%22Blizzard+Basin%22+%2D+Day+24+%2D+Advent+of+Code+2022+%23AdventOfCode+https%3A%2F%2Fadventofcode%2Ecom%2F2022%2Fday%2F24'}else{return false;}\" target=\"_blank\">Mastodon</a\n",
       "></span>]</span> this puzzle.</p>\n"
      ],
      "text/plain": [
       "<IPython.core.display.HTML object>"
      ]
     },
     "execution_count": 10,
     "metadata": {},
     "output_type": "execute_result"
    }
   ],
   "source": [
    "HTML(downloaded['part1_footer'])"
   ]
  },
  {
   "cell_type": "markdown",
   "metadata": {},
   "source": [
    "## Part Two"
   ]
  },
  {
   "cell_type": "code",
   "execution_count": 11,
   "metadata": {},
   "outputs": [],
   "source": [
    "# HTML(downloaded['part2'])"
   ]
  },
  {
   "cell_type": "code",
   "execution_count": 12,
   "metadata": {},
   "outputs": [],
   "source": [
    "# HTML(downloaded['part2_footer'])"
   ]
  }
 ],
 "metadata": {
  "kernelspec": {
   "display_name": "venv",
   "language": "python",
   "name": "python3"
  },
  "language_info": {
   "codemirror_mode": {
    "name": "ipython",
    "version": 3
   },
   "file_extension": ".py",
   "mimetype": "text/x-python",
   "name": "python",
   "nbconvert_exporter": "python",
   "pygments_lexer": "ipython3",
   "version": "3.10.8"
  },
  "vscode": {
   "interpreter": {
    "hash": "0ed941109aa7b59ae8090937c5fc8b7997ff097afc1639855c248a0f41ce1bd1"
   }
  }
 },
 "nbformat": 4,
 "nbformat_minor": 4
}

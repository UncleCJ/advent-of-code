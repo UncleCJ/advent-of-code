{
 "cells": [
  {
   "attachments": {},
   "cell_type": "markdown",
   "metadata": {},
   "source": [
    "# Day 23: Unstable Diffusion\n",
    "\n",
    "[*Advent of Code 2022 day 23*](https://adventofcode.com/2022/day/23) and [*solution megathread*](https://redd.it/zt6xz5)\n",
    "\n",
    "[![nbviewer](https://raw.githubusercontent.com/jupyter/design/master/logos/Badges/nbviewer_badge.svg)](https://nbviewer.jupyter.org/github/UncleCJ/advent-of-code/blob/cj/2022/23/code.ipynb) [![Binder](https://mybinder.org/badge_logo.svg)](https://mybinder.org/v2/gh/UncleCJ/advent-of-code/cj?filepath=2022%2F23%2Fcode.ipynb)"
   ]
  },
  {
   "cell_type": "code",
   "execution_count": 1,
   "metadata": {},
   "outputs": [
    {
     "name": "stderr",
     "output_type": "stream",
     "text": [
      "Version 1.0.4\n"
     ]
    }
   ],
   "source": [
    "import sys\n",
    "sys.path.append('../../')\n",
    "\n",
    "\n",
    "%load_ext nb_mypy\n",
    "%nb_mypy On"
   ]
  },
  {
   "cell_type": "code",
   "execution_count": 2,
   "metadata": {},
   "outputs": [
    {
     "name": "stdout",
     "output_type": "stream",
     "text": [
      "Writing 'downloaded' (dict) to file 'downloaded'.\n"
     ]
    }
   ],
   "source": [
    "import common\n",
    "\n",
    "\n",
    "downloaded = common.refresh()\n",
    "%store downloaded >downloaded\n",
    "\n",
    "%load_ext pycodestyle_magic\n",
    "%pycodestyle_on"
   ]
  },
  {
   "cell_type": "markdown",
   "metadata": {},
   "source": [
    "## Part One"
   ]
  },
  {
   "cell_type": "code",
   "execution_count": 3,
   "metadata": {},
   "outputs": [
    {
     "data": {
      "text/html": [
       "<h2>--- Day 23: Unstable Diffusion ---</h2><p>You enter a large crater of gray dirt where the grove is supposed to be. All around you, plants you imagine were expected to be full of fruit are instead withered and broken. A large group of Elves has formed in the middle of the grove.</p>\n",
       "<p>\"...but this volcano has been dormant for months. Without ash, the fruit can't grow!\"</p>\n",
       "<p>You look up to see a massive, snow-capped mountain towering above you.</p>\n",
       "<p>\"It's not like there are other active volcanoes here; we've looked everywhere.\"</p>\n",
       "<p>\"But our scanners show active magma flows; clearly it's going <em>somewhere</em>.\"</p>\n",
       "<p>They finally notice you at the edge of the grove, your pack almost overflowing from the random <em class=\"star\">star</em> fruit you've been collecting. Behind you, elephants and monkeys explore the grove, looking concerned. Then, the Elves recognize the ash cloud slowly spreading above your recent detour.</p>\n",
       "<p>\"Why do you--\" \"How is--\" \"Did you just--\"</p>\n",
       "<p>Before any of them can form a complete question, another Elf speaks up: \"Okay, new plan. We have almost enough fruit already, and ash from the plume should spread here eventually. If we quickly plant new seedlings now, we can still make it to the extraction point. Spread out!\"</p>\n",
       "<p>The Elves each reach into their pack and pull out a tiny plant. The plants rely on important nutrients from the ash, so they can't be planted too close together.</p>\n",
       "<p>There isn't enough time to let the Elves figure out where to plant the seedlings themselves; you quickly scan the grove (your puzzle input) and note their positions.</p>\n",
       "<p>For example:</p>\n",
       "<pre><code>....#..\n",
       "..###.#\n",
       "#...#.#\n",
       ".#...##\n",
       "#.###..\n",
       "##.#.##\n",
       ".#..#..\n",
       "</code></pre>\n",
       "<p>The scan shows Elves <code>#</code> and empty ground <code>.</code>; outside your scan, more empty ground extends a long way in every direction. The scan is oriented so that <em>north is up</em>; orthogonal directions are written N (north), S (south), W (west), and E (east), while diagonal directions are written NE, NW, SE, SW.</p>\n",
       "<p>The Elves follow a time-consuming process to figure out where they should each go; you can speed up this process considerably. The process consists of some number of <em>rounds</em> during which Elves alternate between considering where to move and actually moving.</p>\n",
       "<p>During the <em>first half</em> of each round, each Elf considers the eight positions adjacent to themself. If no other Elves are in one of those eight positions, the Elf <em>does not do anything</em> during this round. Otherwise, the Elf looks in each of four directions in the following order and <em>proposes</em> moving one step in the <em>first valid direction</em>:</p>\n",
       "<ul>\n",
       "<li>If there is no Elf in the N, NE, or NW adjacent positions, the Elf proposes moving <em>north</em> one step.</li>\n",
       "<li>If there is no Elf in the S, SE, or SW adjacent positions, the Elf proposes moving <em>south</em> one step.</li>\n",
       "<li>If there is no Elf in the W, NW, or SW adjacent positions, the Elf proposes moving <em>west</em> one step.</li>\n",
       "<li>If there is no Elf in the E, NE, or SE adjacent positions, the Elf proposes moving <em>east</em> one step.</li>\n",
       "</ul>\n",
       "<p>After each Elf has had a chance to propose a move, the <em>second half</em> of the round can begin. Simultaneously, each Elf moves to their proposed destination tile if they were the <em>only</em> Elf to propose moving to that position. If two or more Elves propose moving to the same position, <em>none</em> of those Elves move.</p>\n",
       "<p>Finally, at the end of the round, the <em>first direction</em> the Elves considered is moved to the end of the list of directions. For example, during the second round, the Elves would try proposing a move to the south first, then west, then east, then north. On the third round, the Elves would first consider west, then east, then north, then south.</p>\n",
       "<p>As a smaller example, consider just these five Elves:</p>\n",
       "<pre><code>.....\n",
       "..##.\n",
       "..#..\n",
       ".....\n",
       "..##.\n",
       ".....\n",
       "</code></pre>\n",
       "<p>The northernmost two Elves and southernmost two Elves all propose moving north, while the middle Elf cannot move north and proposes moving south. The middle Elf proposes the same destination as the southwest Elf, so neither of them move, but the other three do:</p>\n",
       "<pre><code>..##.\n",
       ".....\n",
       "..#..\n",
       "...#.\n",
       "..#..\n",
       ".....\n",
       "</code></pre>\n",
       "<p>Next, the northernmost two Elves and the southernmost Elf all propose moving south. Of the remaining middle two Elves, the west one cannot move south and proposes moving west, while the east one cannot move south <em>or</em> west and proposes moving east. All five Elves succeed in moving to their proposed positions:</p>\n",
       "<pre><code>.....\n",
       "..##.\n",
       ".#...\n",
       "....#\n",
       ".....\n",
       "..#..\n",
       "</code></pre>\n",
       "<p>Finally, the southernmost two Elves choose not to move at all. Of the remaining three Elves, the west one proposes moving west, the east one proposes moving east, and the middle one proposes moving north; all three succeed in moving:</p>\n",
       "<pre><code>..#..\n",
       "....#\n",
       "#....\n",
       "....#\n",
       ".....\n",
       "..#..\n",
       "</code></pre>\n",
       "<p>At this point, no Elves need to move, and so the process ends.</p>\n",
       "<p>The larger example above proceeds as follows:</p>\n",
       "<pre><code>== Initial State ==\n",
       "..............\n",
       "..............\n",
       ".......#......\n",
       ".....###.#....\n",
       "...#...#.#....\n",
       "....#...##....\n",
       "...#.###......\n",
       "...##.#.##....\n",
       "....#..#......\n",
       "..............\n",
       "..............\n",
       "..............\n",
       "\n",
       "== End of Round 1 ==\n",
       "..............\n",
       ".......#......\n",
       ".....#...#....\n",
       "...#..#.#.....\n",
       ".......#..#...\n",
       "....#.#.##....\n",
       "..#..#.#......\n",
       "..#.#.#.##....\n",
       "..............\n",
       "....#..#......\n",
       "..............\n",
       "..............\n",
       "\n",
       "== End of Round 2 ==\n",
       "..............\n",
       ".......#......\n",
       "....#.....#...\n",
       "...#..#.#.....\n",
       ".......#...#..\n",
       "...#..#.#.....\n",
       ".#...#.#.#....\n",
       "..............\n",
       "..#.#.#.##....\n",
       "....#..#......\n",
       "..............\n",
       "..............\n",
       "\n",
       "== End of Round 3 ==\n",
       "..............\n",
       ".......#......\n",
       ".....#....#...\n",
       "..#..#...#....\n",
       ".......#...#..\n",
       "...#..#.#.....\n",
       ".#..#.....#...\n",
       ".......##.....\n",
       "..##.#....#...\n",
       "...#..........\n",
       ".......#......\n",
       "..............\n",
       "\n",
       "== End of Round 4 ==\n",
       "..............\n",
       ".......#......\n",
       "......#....#..\n",
       "..#...##......\n",
       "...#.....#.#..\n",
       ".........#....\n",
       ".#...###..#...\n",
       "..#......#....\n",
       "....##....#...\n",
       "....#.........\n",
       ".......#......\n",
       "..............\n",
       "\n",
       "== End of Round 5 ==\n",
       ".......#......\n",
       "..............\n",
       "..#..#.....#..\n",
       ".........#....\n",
       "......##...#..\n",
       ".#.#.####.....\n",
       "...........#..\n",
       "....##..#.....\n",
       "..#...........\n",
       "..........#...\n",
       "....#..#......\n",
       "..............\n",
       "</code></pre>\n",
       "<p>After a few more rounds...</p>\n",
       "<pre><code>== End of Round 10 ==\n",
       ".......#......\n",
       "...........#..\n",
       "..#.#..#......\n",
       "......#.......\n",
       "...#.....#..#.\n",
       ".#......##....\n",
       ".....##.......\n",
       "..#........#..\n",
       "....#.#..#....\n",
       "..............\n",
       "....#..#..#...\n",
       "..............\n",
       "</code></pre>\n",
       "<p>To make sure they're on the right track, the Elves like to check after round 10 that they're making good progress toward covering enough ground. To do this, count the number of empty ground tiles contained by the smallest rectangle that contains every Elf. (The edges of the rectangle should be aligned to the N/S/E/W directions; the Elves do not have the patience to calculate <span title=\"Arbitrary Rectangles is my Piet Mondrian cover band.\">arbitrary rectangles</span>.) In the above example, that rectangle is:</p>\n",
       "<pre><code>......#.....\n",
       "..........#.\n",
       ".#.#..#.....\n",
       ".....#......\n",
       "..#.....#..#\n",
       "#......##...\n",
       "....##......\n",
       ".#........#.\n",
       "...#.#..#...\n",
       "............\n",
       "...#..#..#..\n",
       "</code></pre>\n",
       "<p>In this region, the number of empty ground tiles is <code><em>110</em></code>.</p>\n",
       "<p>Simulate the Elves' process and find the smallest rectangle that contains the Elves after 10 rounds. <em>How many empty ground tiles does that rectangle contain?</em></p>\n"
      ],
      "text/plain": [
       "<IPython.core.display.HTML object>"
      ]
     },
     "execution_count": 3,
     "metadata": {},
     "output_type": "execute_result"
    }
   ],
   "source": [
    "from IPython.display import HTML\n",
    "\n",
    "HTML(downloaded['part1'])"
   ]
  },
  {
   "cell_type": "markdown",
   "metadata": {},
   "source": [
    "## Comments\n",
    "\n",
    "..."
   ]
  },
  {
   "cell_type": "code",
   "execution_count": 4,
   "metadata": {},
   "outputs": [],
   "source": [
    "testdata = \"\"\"....#..\n",
    "..###.#\n",
    "#...#.#\n",
    ".#...##\n",
    "#.###..\n",
    "##.#.##\n",
    ".#..#..\"\"\".splitlines()\n",
    "\n",
    "testdata2 = \"\"\".....\n",
    "..##.\n",
    "..#..\n",
    ".....\n",
    "..##.\n",
    ".....\"\"\".splitlines()\n",
    "\n",
    "inputdata = downloaded['input'].splitlines()\n",
    "# inputdata = open('input.txt', 'r').read().splitlines()"
   ]
  },
  {
   "cell_type": "code",
   "execution_count": 5,
   "metadata": {},
   "outputs": [
    {
     "data": {
      "text/plain": [
       "\"['.##.#.#......###..######...##.##.#..#.#.#.#######.###.#####...#...#..#', '#...######.#.#.#.##....#..##.###.#..##.#..#.....##.....#....###.##.##.', '.##.#.##..#.....#...###..#...##.##...........#.#..###.###...####.##..#', '##.#.##.#.####......#####..#.....#..#....###..#..####.##.#.###....####', '.....#...#.######...###..#....##.#.####.###.#..###...#.#.#..###.##...#', '#.#...#.##.....#..#######..##.###.###.####.#.##..##........#.#####..#.', '.#..###..#.....#..##.....#..#.##....#....##..###..#####.#....##.#.#..#', '#..##.##.#.##.#..#.#.#.#..#.#.#..#.#...######.###.#..##.##...##.#.##.#', '.##....#....#..#..#.###.......##.#..###..#....#.####....##.#.##...###.', '.....#.###.#....##.....#...###...##.#.#.#.....###.#..#..##..#..##.#.##'] ... len(inputdata)=70\""
      ]
     },
     "metadata": {},
     "output_type": "display_data"
    }
   ],
   "source": [
    "from IPython.display import display\n",
    "\n",
    "display(f'{inputdata[:10]} ... {len(inputdata)=}')"
   ]
  },
  {
   "cell_type": "code",
   "execution_count": 6,
   "metadata": {},
   "outputs": [],
   "source": [
    "from typing import Tuple, List, Set, Iterable, Callable\n",
    "\n",
    "Coord = Tuple[int, ...]\n",
    "\n",
    "\n",
    "def parse_data(data: List[str]):\n",
    "    elves: Set[Coord] = set()\n",
    "    for row, line in enumerate(data):\n",
    "        for column, character in enumerate(line):\n",
    "            if character == '#':\n",
    "                elves.add((row, column))\n",
    "    return elves\n",
    "\n",
    "\n",
    "def window(elves: Set[Coord]) -> Tuple[Coord, Coord]:\n",
    "    def pick(criteria: Callable[[Iterable[int]], int]) -> Coord:\n",
    "        return tuple(criteria(elf[i] for elf in elves) for i in (0, 1))\n",
    "    return pick(min), pick(max)\n",
    "\n",
    "\n",
    "def elves_str(elves: Set[Coord]) -> List[str]:\n",
    "    def render(tile: Coord) -> str:\n",
    "        if tile in elves:\n",
    "            return '#'\n",
    "        else:\n",
    "            return '.'\n",
    "    output: List[str] = list()\n",
    "    mins, maxs = window(elves)\n",
    "    for row in range(mins[0] - 1, maxs[0] + 2):\n",
    "        output.append(''.join(render((row, col))\n",
    "                              for col in range(mins[1] - 1, maxs[1] + 1)))\n",
    "    return output\n",
    "\n",
    "\n",
    "def count_spaces(elves: Set[Coord]) -> int:\n",
    "    mins, maxs = window(elves)\n",
    "    return (maxs[0] - mins[0] + 1)*(maxs[1] - mins[1] + 1) - len(elves)"
   ]
  },
  {
   "cell_type": "code",
   "execution_count": 7,
   "metadata": {},
   "outputs": [],
   "source": [
    "from typing import Dict\n",
    "\n",
    "HEADINGS: Dict[str, Coord] = {\n",
    "    'NW': (-1, -1), 'N': (-1, 0), 'NE': (-1, 1),\n",
    "    'W': (0, -1), 'E': (0, 1),\n",
    "    'SW': (1, -1), 'S': (1, 0), 'SE': (1, 1)}\n",
    "\n",
    "PREFERENCES: List[Tuple[Tuple[str, ...], Coord]] = [\n",
    "    (('N', 'NE', 'NW'), HEADINGS['N']),\n",
    "    (('S', 'SE', 'SW'), HEADINGS['S']),\n",
    "    (('W', 'NW', 'SW'), HEADINGS['W']),\n",
    "    (('E', 'NE', 'SE'), HEADINGS['E'])]"
   ]
  },
  {
   "cell_type": "code",
   "execution_count": 8,
   "metadata": {},
   "outputs": [],
   "source": [
    "def add_tuples(a: Coord, b: Coord) -> Coord:\n",
    "    assert len(a) == len(b)\n",
    "    return tuple(ai + bi for ai, bi in zip(a, b))\n",
    "\n",
    "\n",
    "def neighbours(elf: Coord, elves: Set[Coord]) -> Dict[str, Coord]:\n",
    "    output: Dict[str, Coord] = dict()\n",
    "    for heading, offset in HEADINGS.items():\n",
    "        neighbour = add_tuples(elf, offset)\n",
    "        if neighbour in elves:\n",
    "            output[heading] = neighbour\n",
    "    return output"
   ]
  },
  {
   "cell_type": "code",
   "execution_count": 9,
   "metadata": {},
   "outputs": [],
   "source": [
    "from typing import Optional\n",
    "\n",
    "\n",
    "def propose_move(\n",
    "        elf: Coord,\n",
    "        elves: Set[Coord],\n",
    "        preferences: List[Tuple[Tuple[str, ...], Coord]]) -> Optional[Coord]:\n",
    "    ns = neighbours(elf, elves)\n",
    "    if not ns:\n",
    "        return None\n",
    "    for headings, move in preferences:\n",
    "        if not any(heading in ns.keys() for heading in headings):\n",
    "            return add_tuples(elf, move)\n",
    "    return None"
   ]
  },
  {
   "cell_type": "code",
   "execution_count": 10,
   "metadata": {},
   "outputs": [],
   "source": [
    "from collections import Counter\n",
    "\n",
    "\n",
    "def agree_moves(elves: Set[Coord],\n",
    "                proposed_moves: Dict[Coord, Coord]) -> Dict[Coord, Coord]:\n",
    "    counter = Counter(proposed_moves.values())\n",
    "    output: Dict[Coord, Coord] = dict()\n",
    "    for elf, proposed_move in proposed_moves.items():\n",
    "        if counter[proposed_move] == 1:\n",
    "            output[elf] = proposed_move\n",
    "    return output"
   ]
  },
  {
   "cell_type": "code",
   "execution_count": 11,
   "metadata": {},
   "outputs": [],
   "source": [
    "def do_moves(elves: Set[Coord], moves: Dict[Coord, Coord]) -> Set[Coord]:\n",
    "    output = elves.copy()\n",
    "    for move_from, move_to in moves.items():\n",
    "        output.remove(move_from)\n",
    "        output.add(move_to)\n",
    "    return output"
   ]
  },
  {
   "cell_type": "code",
   "execution_count": 12,
   "metadata": {},
   "outputs": [],
   "source": [
    "def do_round(elves: Set[Coord], round: int) -> Tuple[Set[Coord], bool]:\n",
    "    proposed_moves: Dict[Coord, Coord] = dict()\n",
    "    rotation = (round - 1) % 4\n",
    "    preferences = PREFERENCES[rotation:] + PREFERENCES[:rotation]\n",
    "    for elf in elves:\n",
    "        if proposed_move := propose_move(elf, elves, preferences):\n",
    "            proposed_moves[elf] = proposed_move\n",
    "    moves: Dict[Coord, Coord] = agree_moves(elves, proposed_moves)\n",
    "    if len(moves.keys()) == 0:\n",
    "        return elves, False\n",
    "    else:\n",
    "        return do_moves(elves, moves), True"
   ]
  },
  {
   "cell_type": "code",
   "execution_count": 13,
   "metadata": {},
   "outputs": [
    {
     "data": {
      "text/plain": [
       "['..........',\n",
       " '......#...',\n",
       " '....#...#.',\n",
       " '..#..#.#..',\n",
       " '......#..#',\n",
       " '...#.#.##.',\n",
       " '.#..#.#...',\n",
       " '.#.#.#.##.',\n",
       " '..........',\n",
       " '...#..#...',\n",
       " '..........']"
      ]
     },
     "metadata": {},
     "output_type": "display_data"
    },
    {
     "data": {
      "text/plain": [
       "['............',\n",
       " '.......#....',\n",
       " '....#.....#.',\n",
       " '...#..#.#...',\n",
       " '.......#...#',\n",
       " '...#..#.#...',\n",
       " '.#...#.#.#..',\n",
       " '............',\n",
       " '..#.#.#.##..',\n",
       " '....#..#....',\n",
       " '............']"
      ]
     },
     "metadata": {},
     "output_type": "display_data"
    },
    {
     "data": {
      "text/plain": [
       "['............',\n",
       " '.......#....',\n",
       " '.....#....#.',\n",
       " '..#..#...#..',\n",
       " '.......#...#',\n",
       " '...#..#.#...',\n",
       " '.#..#.....#.',\n",
       " '.......##...',\n",
       " '..##.#....#.',\n",
       " '...#........',\n",
       " '.......#....',\n",
       " '............']"
      ]
     },
     "metadata": {},
     "output_type": "display_data"
    },
    {
     "data": {
      "text/plain": [
       "['............',\n",
       " '.......#....',\n",
       " '......#....#',\n",
       " '..#...##....',\n",
       " '...#.....#.#',\n",
       " '.........#..',\n",
       " '.#...###..#.',\n",
       " '..#......#..',\n",
       " '....##....#.',\n",
       " '....#.......',\n",
       " '.......#....',\n",
       " '............']"
      ]
     },
     "metadata": {},
     "output_type": "display_data"
    },
    {
     "data": {
      "text/plain": [
       "['............',\n",
       " '.......#....',\n",
       " '............',\n",
       " '..#..#.....#',\n",
       " '.........#..',\n",
       " '......##...#',\n",
       " '.#.#.####...',\n",
       " '...........#',\n",
       " '....##..#...',\n",
       " '..#.........',\n",
       " '..........#.',\n",
       " '....#..#....',\n",
       " '............']"
      ]
     },
     "metadata": {},
     "output_type": "display_data"
    },
    {
     "data": {
      "text/plain": [
       "['............',\n",
       " '.......#....',\n",
       " '............',\n",
       " '..#..#.....#',\n",
       " '......##.#..',\n",
       " '...........#',\n",
       " '.#.#........',\n",
       " '.....####..#',\n",
       " '........#...',\n",
       " '..#.##......',\n",
       " '..........#.',\n",
       " '....#..#....',\n",
       " '............']"
      ]
     },
     "metadata": {},
     "output_type": "display_data"
    },
    {
     "data": {
      "text/plain": [
       "['............',\n",
       " '.......#....',\n",
       " '............',\n",
       " '..#.#......#',\n",
       " '........##..',\n",
       " '......#....#',\n",
       " '.#.#..##....',\n",
       " '....#....#.#',\n",
       " '.........#..',\n",
       " '..##..#.....',\n",
       " '..........#.',\n",
       " '....#..#....',\n",
       " '............']"
      ]
     },
     "metadata": {},
     "output_type": "display_data"
    },
    {
     "data": {
      "text/plain": [
       "['............',\n",
       " '.......#....',\n",
       " '............',\n",
       " '..#.#...#..#',\n",
       " '......#...#.',\n",
       " '...#.......#',\n",
       " '.#......#...',\n",
       " '.....##...##',\n",
       " '..#.......#.',\n",
       " '....#.#.....',\n",
       " '..........#.',\n",
       " '....#..#....',\n",
       " '............']"
      ]
     },
     "metadata": {},
     "output_type": "display_data"
    },
    {
     "data": {
      "text/plain": [
       "['............',\n",
       " '.......#....',\n",
       " '...........#',\n",
       " '..#.#...#...',\n",
       " '......#..#..',\n",
       " '...#.......#',\n",
       " '.#...##.#.#.',\n",
       " '...........#',\n",
       " '..#.........',\n",
       " '....#.#...#.',\n",
       " '..........#.',\n",
       " '....#..#....',\n",
       " '............']"
      ]
     },
     "metadata": {},
     "output_type": "display_data"
    },
    {
     "data": {
      "text/plain": [
       "['.............',\n",
       " '.......#.....',\n",
       " '...........#.',\n",
       " '..#.#..#.....',\n",
       " '......#......',\n",
       " '...#.....#..#',\n",
       " '.#......##...',\n",
       " '.....##......',\n",
       " '..#........#.',\n",
       " '....#.#..#...',\n",
       " '.............',\n",
       " '....#..#..#..',\n",
       " '.............']"
      ]
     },
     "metadata": {},
     "output_type": "display_data"
    }
   ],
   "source": [
    "elves = parse_data(testdata)\n",
    "for round in range(1, 11):\n",
    "    elves, _ = do_round(elves, round)\n",
    "    display(elves_str(elves))\n",
    "assert count_spaces(elves) == 110"
   ]
  },
  {
   "cell_type": "code",
   "execution_count": 14,
   "metadata": {},
   "outputs": [
    {
     "data": {
      "text/plain": [
       "3684"
      ]
     },
     "execution_count": 14,
     "metadata": {},
     "output_type": "execute_result"
    }
   ],
   "source": [
    "elves = parse_data(inputdata)\n",
    "for round in range(1, 11):\n",
    "    elves, _ = do_round(elves, round)\n",
    "count_spaces(elves)"
   ]
  },
  {
   "cell_type": "code",
   "execution_count": 15,
   "metadata": {},
   "outputs": [
    {
     "data": {
      "text/html": [
       "\n",
       "<p>Your puzzle answer was <code>3684</code>.</p>"
      ],
      "text/plain": [
       "<IPython.core.display.HTML object>"
      ]
     },
     "execution_count": 15,
     "metadata": {},
     "output_type": "execute_result"
    }
   ],
   "source": [
    "HTML(downloaded['part1_footer'])"
   ]
  },
  {
   "cell_type": "markdown",
   "metadata": {},
   "source": [
    "## Part Two"
   ]
  },
  {
   "cell_type": "code",
   "execution_count": 16,
   "metadata": {},
   "outputs": [
    {
     "data": {
      "text/html": [
       "<h2 id=\"part2\">--- Part Two ---</h2><p>It seems you're on the right track. Finish simulating the process and figure out where the Elves need to go. How many rounds did you save them?</p>\n",
       "<p>In the example above, the <em>first round where no Elf moved</em> was round <code><em>20</em></code>:</p>\n",
       "<pre><code>.......#......\n",
       "....#......#..\n",
       "..#.....#.....\n",
       "......#.......\n",
       "...#....#.#..#\n",
       "#.............\n",
       "....#.....#...\n",
       "..#.....#.....\n",
       "....#.#....#..\n",
       ".........#....\n",
       "....#......#..\n",
       ".......#......\n",
       "</code></pre>\n",
       "<p>Figure out where the Elves need to go. <em>What is the number of the first round where no Elf moves?</em></p>\n"
      ],
      "text/plain": [
       "<IPython.core.display.HTML object>"
      ]
     },
     "execution_count": 16,
     "metadata": {},
     "output_type": "execute_result"
    }
   ],
   "source": [
    "HTML(downloaded['part2'])"
   ]
  },
  {
   "cell_type": "code",
   "execution_count": 17,
   "metadata": {},
   "outputs": [],
   "source": [
    "from itertools import count\n",
    "\n",
    "elves = parse_data(testdata)\n",
    "for round in count(start=1):\n",
    "    elves, moving = do_round(elves, round)\n",
    "    if not moving:\n",
    "        break\n",
    "assert round == 20"
   ]
  },
  {
   "cell_type": "code",
   "execution_count": 18,
   "metadata": {},
   "outputs": [
    {
     "data": {
      "text/plain": [
       "862"
      ]
     },
     "metadata": {},
     "output_type": "display_data"
    }
   ],
   "source": [
    "elves = parse_data(inputdata)\n",
    "for round in count(start=1):\n",
    "    elves, moving = do_round(elves, round)\n",
    "    if not moving:\n",
    "        break\n",
    "display(round)"
   ]
  },
  {
   "cell_type": "code",
   "execution_count": 19,
   "metadata": {},
   "outputs": [
    {
     "data": {
      "text/html": [
       "\n",
       "<p>Your puzzle answer was <code>862</code>.</p><p class=\"day-success\">Both parts of this puzzle are complete! They provide two gold stars: **</p>\n",
       "<p>At this point, you should <a href=\"/2022\">return to your Advent calendar</a> and try another puzzle.</p>\n",
       "<p>If you still want to see it, you can <a href=\"23/input\" target=\"_blank\">get your puzzle input</a>.</p>\n",
       "<p>You can also <span class=\"share\">[Share<span class=\"share-content\">on\n",
       "  <a href=\"https://twitter.com/intent/tweet?text=I%27ve+completed+%22Unstable+Diffusion%22+%2D+Day+23+%2D+Advent+of+Code+2022&amp;url=https%3A%2F%2Fadventofcode%2Ecom%2F2022%2Fday%2F23&amp;related=ericwastl&amp;hashtags=AdventOfCode\" target=\"_blank\">Twitter</a>\n",
       "  <a href=\"javascript:void(0);\" onclick=\"var mastodon_instance=prompt('Mastodon Instance / Server Name?'); if(typeof mastodon_instance==='string' && mastodon_instance.length){this.href='https://'+mastodon_instance+'/share?text=I%27ve+completed+%22Unstable+Diffusion%22+%2D+Day+23+%2D+Advent+of+Code+2022+%23AdventOfCode+https%3A%2F%2Fadventofcode%2Ecom%2F2022%2Fday%2F23'}else{return false;}\" target=\"_blank\">Mastodon</a\n",
       "></span>]</span> this puzzle.</p>\n"
      ],
      "text/plain": [
       "<IPython.core.display.HTML object>"
      ]
     },
     "execution_count": 19,
     "metadata": {},
     "output_type": "execute_result"
    }
   ],
   "source": [
    "HTML(downloaded['part2_footer'])"
   ]
  }
 ],
 "metadata": {
  "kernelspec": {
   "display_name": "Python 3.10.8 ('venv': venv)",
   "language": "python",
   "name": "python3"
  },
  "language_info": {
   "codemirror_mode": {
    "name": "ipython",
    "version": 3
   },
   "file_extension": ".py",
   "mimetype": "text/x-python",
   "name": "python",
   "nbconvert_exporter": "python",
   "pygments_lexer": "ipython3",
   "version": "3.11.2"
  },
  "vscode": {
   "interpreter": {
    "hash": "953efd6badefc8bd539414deffff5d1ee9e359bc7a1650a157b4fbde293a1337"
   }
  }
 },
 "nbformat": 4,
 "nbformat_minor": 4
}

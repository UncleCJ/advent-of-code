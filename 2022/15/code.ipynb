{
 "cells": [
  {
   "attachments": {},
   "cell_type": "markdown",
   "metadata": {},
   "source": [
    "# Day 15: Beacon Exclusion Zone\n",
    "\n",
    "[*Advent of Code 2022 day 15*](https://adventofcode.com/2022/day/15) and [*solution megathread*](https://redd.it/zmcn64)\n",
    "\n",
    "[![nbviewer](https://raw.githubusercontent.com/jupyter/design/master/logos/Badges/nbviewer_badge.svg)](https://nbviewer.jupyter.org/github/UncleCJ/advent-of-code/blob/cj/2022/15/code.ipynb) [![Binder](https://mybinder.org/badge_logo.svg)](https://mybinder.org/v2/gh/UncleCJ/advent-of-code/cj?filepath=2022%2F15%2Fcode.ipynb)"
   ]
  },
  {
   "cell_type": "code",
   "execution_count": 1,
   "metadata": {},
   "outputs": [
    {
     "name": "stderr",
     "output_type": "stream",
     "text": [
      "Version 1.0.4\n"
     ]
    }
   ],
   "source": [
    "from IPython.display import HTML\n",
    "import sys\n",
    "sys.path.append('../../')\n",
    "\n",
    "\n",
    "%load_ext nb_mypy\n",
    "%nb_mypy On"
   ]
  },
  {
   "cell_type": "code",
   "execution_count": 2,
   "metadata": {},
   "outputs": [
    {
     "name": "stdout",
     "output_type": "stream",
     "text": [
      "Writing 'downloaded' (dict) to file 'downloaded'.\n"
     ]
    }
   ],
   "source": [
    "import common\n",
    "\n",
    "\n",
    "downloaded = common.refresh()\n",
    "%store downloaded >downloaded\n",
    "\n",
    "%load_ext pycodestyle_magic\n",
    "%pycodestyle_on"
   ]
  },
  {
   "cell_type": "markdown",
   "metadata": {},
   "source": [
    "## Part One"
   ]
  },
  {
   "cell_type": "code",
   "execution_count": 3,
   "metadata": {},
   "outputs": [
    {
     "data": {
      "text/html": [
       "<h2>--- Day 15: Beacon Exclusion Zone ---</h2><p>You feel the ground rumble again as the distress signal leads you to a large network of subterranean tunnels. You don't have time to search them all, but you don't need to: your pack contains a set of deployable <em>sensors</em> that you imagine were originally built to locate lost Elves.</p>\n",
       "<p>The sensors aren't very powerful, but that's okay; your handheld device indicates that you're close enough to the source of the distress signal to use them. You pull the emergency sensor system out of your pack, hit the big button on top, and the sensors zoom off down the tunnels.</p>\n",
       "<p>Once a sensor finds a spot it thinks will give it a good reading, it attaches itself to a hard surface and begins monitoring for the nearest signal source <em>beacon</em>. Sensors and beacons always exist at integer coordinates. Each sensor knows its own position and can <em>determine the position of a beacon precisely</em>; however, sensors can only lock on to the one beacon <em>closest to the sensor</em> as measured by the <a href=\"https://en.wikipedia.org/wiki/Taxicab_geometry\" target=\"_blank\">Manhattan distance</a>. (There is never a tie where two beacons are the same distance to a sensor.)</p>\n",
       "<p>It doesn't take long for the sensors to report back their positions and closest beacons (your puzzle input). For example:</p>\n",
       "<pre><code>Sensor at x=2, y=18: closest beacon is at x=-2, y=15\n",
       "Sensor at x=9, y=16: closest beacon is at x=10, y=16\n",
       "Sensor at x=13, y=2: closest beacon is at x=15, y=3\n",
       "Sensor at x=12, y=14: closest beacon is at x=10, y=16\n",
       "Sensor at x=10, y=20: closest beacon is at x=10, y=16\n",
       "Sensor at x=14, y=17: closest beacon is at x=10, y=16\n",
       "Sensor at x=8, y=7: closest beacon is at x=2, y=10\n",
       "Sensor at x=2, y=0: closest beacon is at x=2, y=10\n",
       "Sensor at x=0, y=11: closest beacon is at x=2, y=10\n",
       "Sensor at x=20, y=14: closest beacon is at x=25, y=17\n",
       "Sensor at x=17, y=20: closest beacon is at x=21, y=22\n",
       "Sensor at x=16, y=7: closest beacon is at x=15, y=3\n",
       "Sensor at x=14, y=3: closest beacon is at x=15, y=3\n",
       "Sensor at x=20, y=1: closest beacon is at x=15, y=3\n",
       "</code></pre>\n",
       "<p>So, consider the sensor at <code>2,18</code>; the closest beacon to it is at <code>-2,15</code>. For the sensor at <code>9,16</code>, the closest beacon to it is at <code>10,16</code>.</p>\n",
       "<p>Drawing sensors as <code>S</code> and beacons as <code>B</code>, the above arrangement of sensors and beacons looks like this:</p>\n",
       "<pre><code>               1    1    2    2\n",
       "     0    5    0    5    0    5\n",
       " 0 ....S.......................\n",
       " 1 ......................S.....\n",
       " 2 ...............S............\n",
       " 3 ................SB..........\n",
       " 4 ............................\n",
       " 5 ............................\n",
       " 6 ............................\n",
       " 7 ..........S.......S.........\n",
       " 8 ............................\n",
       " 9 ............................\n",
       "10 ....B.......................\n",
       "11 ..S.........................\n",
       "12 ............................\n",
       "13 ............................\n",
       "14 ..............S.......S.....\n",
       "15 B...........................\n",
       "16 ...........SB...............\n",
       "17 ................S..........B\n",
       "18 ....S.......................\n",
       "19 ............................\n",
       "20 ............S......S........\n",
       "21 ............................\n",
       "22 .......................B....\n",
       "</code></pre>\n",
       "<p>This isn't necessarily a comprehensive map of all beacons in the area, though. Because each sensor only identifies its closest beacon, if a sensor detects a beacon, you know there are no other beacons that close or closer to that sensor. There could still be beacons that just happen to not be the closest beacon to any sensor. Consider the sensor at <code>8,7</code>:</p>\n",
       "<pre><code>               1    1    2    2\n",
       "     0    5    0    5    0    5\n",
       "-2 ..........#.................\n",
       "-1 .........###................\n",
       " 0 ....S...#####...............\n",
       " 1 .......#######........S.....\n",
       " 2 ......#########S............\n",
       " 3 .....###########SB..........\n",
       " 4 ....#############...........\n",
       " 5 ...###############..........\n",
       " 6 ..#################.........\n",
       " 7 .#########<em>S</em>#######S#........\n",
       " 8 ..#################.........\n",
       " 9 ...###############..........\n",
       "10 ....<em>B</em>############...........\n",
       "11 ..S..###########............\n",
       "12 ......#########.............\n",
       "13 .......#######..............\n",
       "14 ........#####.S.......S.....\n",
       "15 B........###................\n",
       "16 ..........#SB...............\n",
       "17 ................S..........B\n",
       "18 ....S.......................\n",
       "19 ............................\n",
       "20 ............S......S........\n",
       "21 ............................\n",
       "22 .......................B....\n",
       "</code></pre>\n",
       "<p>This sensor's closest beacon is at <code>2,10</code>, and so you know there are no beacons that close or closer (in any positions marked <code>#</code>).</p>\n",
       "<p>None of the detected beacons seem to be producing the distress signal, so you'll need to <span title=\"&quot;When you have eliminated all which is impossible, then whatever remains, however improbable, must be where the missing beacon is.&quot; - Sherlock Holmes\">work out</span> where the distress beacon is by working out where it <em>isn't</em>. For now, keep things simple by counting the positions where a beacon cannot possibly be along just a single row.</p>\n",
       "<p>So, suppose you have an arrangement of beacons and sensors like in the example above and, just in the row where <code>y=10</code>, you'd like to count the number of positions a beacon cannot possibly exist. The coverage from all sensors near that row looks like this:</p>\n",
       "<pre><code>                 1    1    2    2\n",
       "       0    5    0    5    0    5\n",
       " 9 ...#########################...\n",
       "<em>10 ..####B######################..</em>\n",
       "11 .###S#############.###########.\n",
       "</code></pre>\n",
       "<p>In this example, in the row where <code>y=10</code>, there are <code><em>26</em></code> positions where a beacon cannot be present.</p>\n",
       "<p>Consult the report from the sensors you just deployed. <em>In the row where <code>y=2000000</code>, how many positions cannot contain a beacon?</em></p>\n"
      ],
      "text/plain": [
       "<IPython.core.display.HTML object>"
      ]
     },
     "execution_count": 3,
     "metadata": {},
     "output_type": "execute_result"
    }
   ],
   "source": [
    "from IPython.display import HTML\n",
    "\n",
    "HTML(downloaded['part1'])"
   ]
  },
  {
   "cell_type": "markdown",
   "metadata": {},
   "source": [
    "## Comments\n",
    "\n",
    "..."
   ]
  },
  {
   "cell_type": "code",
   "execution_count": 4,
   "metadata": {},
   "outputs": [],
   "source": [
    "testdata = \"\"\"Sensor at x=2, y=18: closest beacon is at x=-2, y=15\n",
    "Sensor at x=9, y=16: closest beacon is at x=10, y=16\n",
    "Sensor at x=13, y=2: closest beacon is at x=15, y=3\n",
    "Sensor at x=12, y=14: closest beacon is at x=10, y=16\n",
    "Sensor at x=10, y=20: closest beacon is at x=10, y=16\n",
    "Sensor at x=14, y=17: closest beacon is at x=10, y=16\n",
    "Sensor at x=8, y=7: closest beacon is at x=2, y=10\n",
    "Sensor at x=2, y=0: closest beacon is at x=2, y=10\n",
    "Sensor at x=0, y=11: closest beacon is at x=2, y=10\n",
    "Sensor at x=20, y=14: closest beacon is at x=25, y=17\n",
    "Sensor at x=17, y=20: closest beacon is at x=21, y=22\n",
    "Sensor at x=16, y=7: closest beacon is at x=15, y=3\n",
    "Sensor at x=14, y=3: closest beacon is at x=15, y=3\n",
    "Sensor at x=20, y=1: closest beacon is at x=15, y=3\"\"\".splitlines()\n",
    "\n",
    "inputdata = downloaded['input'].splitlines()\n",
    "# inputdata = open('input.txt', 'r').read().splitlines()"
   ]
  },
  {
   "cell_type": "code",
   "execution_count": 5,
   "metadata": {},
   "outputs": [
    {
     "data": {
      "text/plain": [
       "\"['Sensor at x=3890859, y=2762958: closest beacon is at x=4037927, y=2985317', 'Sensor at x=671793, y=1531646: closest beacon is at x=351996, y=1184837', 'Sensor at x=3699203, y=3052069: closest beacon is at x=4037927, y=2985317', 'Sensor at x=3969720, y=629205: closest beacon is at x=4285415, y=81270', 'Sensor at x=41343, y=57178: closest beacon is at x=351996, y=1184837', 'Sensor at x=2135702, y=1658955: closest beacon is at x=1295288, y=2000000', 'Sensor at x=24022, y=1500343: closest beacon is at x=351996, y=1184837', 'Sensor at x=3040604, y=3457552: closest beacon is at x=2994959, y=4070511', 'Sensor at x=357905, y=3997215: closest beacon is at x=-101509, y=3502675', 'Sensor at x=117943, y=3670308: closest beacon is at x=-101509, y=3502675'] ... len(inputdata)=26\""
      ]
     },
     "metadata": {},
     "output_type": "display_data"
    }
   ],
   "source": [
    "from IPython.display import display\n",
    "\n",
    "\n",
    "display(f'{inputdata[:10]} ... {len(inputdata)=}')"
   ]
  },
  {
   "cell_type": "code",
   "execution_count": 6,
   "metadata": {},
   "outputs": [],
   "source": [
    "from typing import Iterable, Dict, Tuple\n",
    "import re\n",
    "\n",
    "Coord = Tuple[int, int]\n",
    "\n",
    "\n",
    "def parse_lines(data: Iterable[str]) -> Dict[Coord, Coord]:\n",
    "    output: Dict[Coord, Coord] = dict()\n",
    "    for line in data:\n",
    "        line_matches = re.match(\n",
    "            r'Sensor at x=(\\d+), y=(\\d+): ' +\n",
    "            r'closest beacon is at x=(-?\\d+), y=(-?\\d+)',\n",
    "            line)\n",
    "        assert isinstance(line_matches, re.Match), f'Invalid line: {line}'\n",
    "        x1, y1, x2, y2 = line_matches.groups()\n",
    "        output[(int(x1), int(y1))] = (int(x2), int(y2))\n",
    "    return output"
   ]
  },
  {
   "cell_type": "code",
   "execution_count": 7,
   "metadata": {},
   "outputs": [],
   "source": [
    "from typing import List\n",
    "\n",
    "\n",
    "def check_eliminated(\n",
    "        sensors_beacons: Dict[Coord, Coord],\n",
    "        y: int = 10) -> List[int]:\n",
    "    def m_distance(c1: Coord, c2: Coord) -> int:\n",
    "        return abs(c1[0] - c2[0]) + abs(c1[1] - c2[1])\n",
    "\n",
    "    def within_distance(pos: Coord, sensor: Coord, radius: int) -> bool:\n",
    "        return m_distance(pos, sensor) <= radius\n",
    "\n",
    "    def y_intersections(\n",
    "            sensor: Coord,\n",
    "            radius: int,\n",
    "            y: int = 10) -> Tuple[Coord, Coord] | None:\n",
    "        x_axis = radius - abs(y - sensor[1])\n",
    "        if x_axis <= 0:\n",
    "            return None\n",
    "        return (sensor[0] - x_axis, y), (sensor[0] + x_axis, y)\n",
    "\n",
    "    sensors = set(sensors_beacons.keys())\n",
    "    beacons = set(sensors_beacons.values())\n",
    "\n",
    "    sensors_radii = {\n",
    "        c1: m_distance(c1, c2)\n",
    "        for c1, c2 in sensors_beacons.items()}\n",
    "\n",
    "    intersections = {\n",
    "        sensor: intersections\n",
    "        for sensor, radius in sensors_radii.items()\n",
    "        if (intersections := y_intersections(sensor, radius, 10))}\n",
    "\n",
    "    x_min = min(i_p[0][0] for i_p in intersections.values())\n",
    "    x_max = max(i_p[1][0] for i_p in intersections.values())\n",
    "\n",
    "    output: List[int] = list()\n",
    "    for x in range(x_min, x_max + 1):\n",
    "        pos = (x, y)\n",
    "        if (pos not in sensors and\n",
    "            pos not in beacons and\n",
    "            any(within_distance(pos, *sensor_radius)\n",
    "                for sensor_radius in sensors_radii.items())):\n",
    "            output.append(x)\n",
    "    return output"
   ]
  },
  {
   "cell_type": "code",
   "execution_count": 8,
   "metadata": {},
   "outputs": [],
   "source": [
    "sensors_beacons = parse_lines(testdata)\n",
    "assert len(check_eliminated(sensors_beacons, 10)) == 26"
   ]
  },
  {
   "cell_type": "code",
   "execution_count": 9,
   "metadata": {},
   "outputs": [
    {
     "data": {
      "text/plain": [
       "4502208"
      ]
     },
     "execution_count": 9,
     "metadata": {},
     "output_type": "execute_result"
    }
   ],
   "source": [
    "sensors_beacons = parse_lines(inputdata)\n",
    "len(check_eliminated(sensors_beacons, 2000000))"
   ]
  },
  {
   "cell_type": "code",
   "execution_count": 10,
   "metadata": {},
   "outputs": [
    {
     "data": {
      "text/html": [
       "\n",
       "<p>Your puzzle answer was <code>4502208</code>.</p><p class=\"day-success\">The first half of this puzzle is complete! It provides one gold star: *</p>\n"
      ],
      "text/plain": [
       "<IPython.core.display.HTML object>"
      ]
     },
     "execution_count": 10,
     "metadata": {},
     "output_type": "execute_result"
    }
   ],
   "source": [
    "HTML(downloaded['part1_footer'])"
   ]
  },
  {
   "cell_type": "markdown",
   "metadata": {},
   "source": [
    "## Part Two"
   ]
  },
  {
   "cell_type": "code",
   "execution_count": 13,
   "metadata": {},
   "outputs": [
    {
     "data": {
      "text/html": [
       "<h2 id=\"part2\">--- Part Two ---</h2><p>Your handheld device indicates that the distress signal is coming from a beacon nearby. The distress beacon is not detected by any sensor, but the distress beacon must have <code>x</code> and <code>y</code> coordinates each no lower than <code>0</code> and no larger than <code>4000000</code>.</p>\n",
       "<p>To isolate the distress beacon's signal, you need to determine its <em>tuning frequency</em>, which can be found by multiplying its <code>x</code> coordinate by <code>4000000</code> and then adding its <code>y</code> coordinate.</p>\n",
       "<p>In the example above, the search space is smaller: instead, the <code>x</code> and <code>y</code> coordinates can each be at most <code>20</code>. With this reduced search area, there is only a single position that could have a beacon: <code>x=14, y=11</code>. The tuning frequency for this distress beacon is <code><em>56000011</em></code>.</p>\n",
       "<p>Find the only possible position for the distress beacon. <em>What is its tuning frequency?</em></p>\n"
      ],
      "text/plain": [
       "<IPython.core.display.HTML object>"
      ]
     },
     "execution_count": 13,
     "metadata": {},
     "output_type": "execute_result"
    }
   ],
   "source": [
    "HTML(downloaded['part2'])"
   ]
  },
  {
   "cell_type": "code",
   "execution_count": 14,
   "metadata": {},
   "outputs": [
    {
     "data": {
      "text/html": [
       "\n",
       "<form method=\"post\" action=\"15/answer\"><input type=\"hidden\" name=\"level\" value=\"2\"/><p>Answer: <input type=\"text\" name=\"answer\" autocomplete=\"off\"/> <input type=\"submit\" value=\"[Submit]\"/></p></form>\n",
       "<p>Although it hasn't changed, you can still <a href=\"15/input\" target=\"_blank\">get your puzzle input</a>.</p>\n",
       "<p>You can also <span class=\"share\">[Share<span class=\"share-content\">on\n",
       "  <a href=\"https://twitter.com/intent/tweet?text=I%27ve+completed+Part+One+of+%22Beacon+Exclusion+Zone%22+%2D+Day+15+%2D+Advent+of+Code+2022&amp;url=https%3A%2F%2Fadventofcode%2Ecom%2F2022%2Fday%2F15&amp;related=ericwastl&amp;hashtags=AdventOfCode\" target=\"_blank\">Twitter</a>\n",
       "  <a href=\"javascript:void(0);\" onclick=\"var mastodon_instance=prompt('Mastodon Instance / Server Name?'); if(typeof mastodon_instance==='string' && mastodon_instance.length){this.href='https://'+mastodon_instance+'/share?text=I%27ve+completed+Part+One+of+%22Beacon+Exclusion+Zone%22+%2D+Day+15+%2D+Advent+of+Code+2022+%23AdventOfCode+https%3A%2F%2Fadventofcode%2Ecom%2F2022%2Fday%2F15'}else{return false;}\" target=\"_blank\">Mastodon</a\n",
       "></span>]</span> this puzzle.</p>\n"
      ],
      "text/plain": [
       "<IPython.core.display.HTML object>"
      ]
     },
     "execution_count": 14,
     "metadata": {},
     "output_type": "execute_result"
    }
   ],
   "source": [
    "HTML(downloaded['part2_footer'])"
   ]
  }
 ],
 "metadata": {
  "kernelspec": {
   "display_name": "Python 3",
   "language": "python",
   "name": "python3"
  },
  "language_info": {
   "codemirror_mode": {
    "name": "ipython",
    "version": 3
   },
   "file_extension": ".py",
   "mimetype": "text/x-python",
   "name": "python",
   "nbconvert_exporter": "python",
   "pygments_lexer": "ipython3",
   "version": "3.10.6"
  },
  "vscode": {
   "interpreter": {
    "hash": "e7370f93d1d0cde622a1f8e1c04877d8463912d04d973331ad4851f04de6915a"
   }
  }
 },
 "nbformat": 4,
 "nbformat_minor": 4
}

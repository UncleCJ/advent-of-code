{
 "cells": [
  {
   "attachments": {},
   "cell_type": "markdown",
   "metadata": {},
   "source": [
    "# Day 16: Proboscidea Volcanium\n",
    "\n",
    "[*Advent of Code 2022 day 16*](https://adventofcode.com/2022/day/16) and [*solution megathread*](https://redd.it/zn6k1l)\n",
    "\n",
    "[![nbviewer](https://raw.githubusercontent.com/jupyter/design/master/logos/Badges/nbviewer_badge.svg)](https://nbviewer.jupyter.org/github/UncleCJ/advent-of-code/blob/cj/2022/16/code.ipynb) [![Binder](https://mybinder.org/badge_logo.svg)](https://mybinder.org/v2/gh/UncleCJ/advent-of-code/cj?filepath=2022%2F16%2Fcode.ipynb)"
   ]
  },
  {
   "cell_type": "code",
   "execution_count": 1,
   "metadata": {},
   "outputs": [
    {
     "name": "stderr",
     "output_type": "stream",
     "text": [
      "Version 1.0.4\n"
     ]
    }
   ],
   "source": [
    "from IPython.display import HTML\n",
    "import sys\n",
    "sys.path.append('../../')\n",
    "\n",
    "\n",
    "%load_ext nb_mypy\n",
    "%nb_mypy On"
   ]
  },
  {
   "cell_type": "code",
   "execution_count": 2,
   "metadata": {},
   "outputs": [
    {
     "name": "stdout",
     "output_type": "stream",
     "text": [
      "Writing 'downloaded' (dict) to file 'downloaded'.\n"
     ]
    }
   ],
   "source": [
    "import common\n",
    "\n",
    "\n",
    "downloaded = common.refresh()\n",
    "%store downloaded >downloaded\n",
    "\n",
    "%load_ext pycodestyle_magic\n",
    "%pycodestyle_on"
   ]
  },
  {
   "cell_type": "markdown",
   "metadata": {},
   "source": [
    "## Part One"
   ]
  },
  {
   "cell_type": "code",
   "execution_count": 3,
   "metadata": {},
   "outputs": [
    {
     "data": {
      "text/html": [
       "<h2>--- Day 16: Proboscidea Volcanium ---</h2><p>The sensors have led you to the origin of the distress signal: yet another handheld device, just like the one the Elves gave you. However, you don't see any Elves around; instead, the device is surrounded by elephants! They must have gotten lost in these tunnels, and one of the elephants apparently figured out how to turn on the distress signal.</p>\n",
       "<p>The ground rumbles again, much stronger this time. What kind of cave is this, exactly? You scan the cave with your handheld device; it reports mostly igneous rock, some ash, pockets of pressurized gas, magma... this isn't just a cave, it's a volcano!</p>\n",
       "<p>You need to get the elephants out of here, quickly. Your device estimates that you have <em>30 minutes</em> before the volcano erupts, so you don't have time to go back out the way you came in.</p>\n",
       "<p>You scan the cave for other options and discover a network of pipes and pressure-release <em>valves</em>. You aren't sure how such a system got into a volcano, but you don't have time to complain; your device produces a report (your puzzle input) of each valve's <em>flow rate</em> if it were opened (in pressure per minute) and the tunnels you could use to move between the valves.</p>\n",
       "<p>There's even a valve in the room you and the elephants are currently standing in labeled <code>AA</code>. You estimate it will take you one minute to open a single valve and one minute to follow any tunnel from one valve to another. What is the most pressure you could release?</p>\n",
       "<p>For example, suppose you had the following scan output:</p>\n",
       "<pre><code>Valve AA has flow rate=0; tunnels lead to valves DD, II, BB\n",
       "Valve BB has flow rate=13; tunnels lead to valves CC, AA\n",
       "Valve CC has flow rate=2; tunnels lead to valves DD, BB\n",
       "Valve DD has flow rate=20; tunnels lead to valves CC, AA, EE\n",
       "Valve EE has flow rate=3; tunnels lead to valves FF, DD\n",
       "Valve FF has flow rate=0; tunnels lead to valves EE, GG\n",
       "Valve GG has flow rate=0; tunnels lead to valves FF, HH\n",
       "Valve HH has flow rate=22; tunnel leads to valve GG\n",
       "Valve II has flow rate=0; tunnels lead to valves AA, JJ\n",
       "Valve JJ has flow rate=21; tunnel leads to valve II\n",
       "</code></pre>\n",
       "<p>All of the valves begin <em>closed</em>. You start at valve <code>AA</code>, but it must be damaged or <span title=\"Wait, sir! The valve, sir! it appears to be... jammed!\">jammed</span> or something: its flow rate is <code>0</code>, so there's no point in opening it. However, you could spend one minute moving to valve <code>BB</code> and another minute opening it; doing so would release pressure during the remaining <em>28 minutes</em> at a flow rate of <code>13</code>, a total eventual pressure release of <code>28 * 13 = <em>364</em></code>. Then, you could spend your third minute moving to valve <code>CC</code> and your fourth minute opening it, providing an additional <em>26 minutes</em> of eventual pressure release at a flow rate of <code>2</code>, or <code><em>52</em></code> total pressure released by valve <code>CC</code>.</p>\n",
       "<p>Making your way through the tunnels like this, you could probably open many or all of the valves by the time 30 minutes have elapsed. However, you need to release as much pressure as possible, so you'll need to be methodical. Instead, consider this approach:</p>\n",
       "<pre><code>== Minute 1 ==\n",
       "No valves are open.\n",
       "You move to valve DD.\n",
       "\n",
       "== Minute 2 ==\n",
       "No valves are open.\n",
       "You open valve DD.\n",
       "\n",
       "== Minute 3 ==\n",
       "Valve DD is open, releasing <em>20</em> pressure.\n",
       "You move to valve CC.\n",
       "\n",
       "== Minute 4 ==\n",
       "Valve DD is open, releasing <em>20</em> pressure.\n",
       "You move to valve BB.\n",
       "\n",
       "== Minute 5 ==\n",
       "Valve DD is open, releasing <em>20</em> pressure.\n",
       "You open valve BB.\n",
       "\n",
       "== Minute 6 ==\n",
       "Valves BB and DD are open, releasing <em>33</em> pressure.\n",
       "You move to valve AA.\n",
       "\n",
       "== Minute 7 ==\n",
       "Valves BB and DD are open, releasing <em>33</em> pressure.\n",
       "You move to valve II.\n",
       "\n",
       "== Minute 8 ==\n",
       "Valves BB and DD are open, releasing <em>33</em> pressure.\n",
       "You move to valve JJ.\n",
       "\n",
       "== Minute 9 ==\n",
       "Valves BB and DD are open, releasing <em>33</em> pressure.\n",
       "You open valve JJ.\n",
       "\n",
       "== Minute 10 ==\n",
       "Valves BB, DD, and JJ are open, releasing <em>54</em> pressure.\n",
       "You move to valve II.\n",
       "\n",
       "== Minute 11 ==\n",
       "Valves BB, DD, and JJ are open, releasing <em>54</em> pressure.\n",
       "You move to valve AA.\n",
       "\n",
       "== Minute 12 ==\n",
       "Valves BB, DD, and JJ are open, releasing <em>54</em> pressure.\n",
       "You move to valve DD.\n",
       "\n",
       "== Minute 13 ==\n",
       "Valves BB, DD, and JJ are open, releasing <em>54</em> pressure.\n",
       "You move to valve EE.\n",
       "\n",
       "== Minute 14 ==\n",
       "Valves BB, DD, and JJ are open, releasing <em>54</em> pressure.\n",
       "You move to valve FF.\n",
       "\n",
       "== Minute 15 ==\n",
       "Valves BB, DD, and JJ are open, releasing <em>54</em> pressure.\n",
       "You move to valve GG.\n",
       "\n",
       "== Minute 16 ==\n",
       "Valves BB, DD, and JJ are open, releasing <em>54</em> pressure.\n",
       "You move to valve HH.\n",
       "\n",
       "== Minute 17 ==\n",
       "Valves BB, DD, and JJ are open, releasing <em>54</em> pressure.\n",
       "You open valve HH.\n",
       "\n",
       "== Minute 18 ==\n",
       "Valves BB, DD, HH, and JJ are open, releasing <em>76</em> pressure.\n",
       "You move to valve GG.\n",
       "\n",
       "== Minute 19 ==\n",
       "Valves BB, DD, HH, and JJ are open, releasing <em>76</em> pressure.\n",
       "You move to valve FF.\n",
       "\n",
       "== Minute 20 ==\n",
       "Valves BB, DD, HH, and JJ are open, releasing <em>76</em> pressure.\n",
       "You move to valve EE.\n",
       "\n",
       "== Minute 21 ==\n",
       "Valves BB, DD, HH, and JJ are open, releasing <em>76</em> pressure.\n",
       "You open valve EE.\n",
       "\n",
       "== Minute 22 ==\n",
       "Valves BB, DD, EE, HH, and JJ are open, releasing <em>79</em> pressure.\n",
       "You move to valve DD.\n",
       "\n",
       "== Minute 23 ==\n",
       "Valves BB, DD, EE, HH, and JJ are open, releasing <em>79</em> pressure.\n",
       "You move to valve CC.\n",
       "\n",
       "== Minute 24 ==\n",
       "Valves BB, DD, EE, HH, and JJ are open, releasing <em>79</em> pressure.\n",
       "You open valve CC.\n",
       "\n",
       "== Minute 25 ==\n",
       "Valves BB, CC, DD, EE, HH, and JJ are open, releasing <em>81</em> pressure.\n",
       "\n",
       "== Minute 26 ==\n",
       "Valves BB, CC, DD, EE, HH, and JJ are open, releasing <em>81</em> pressure.\n",
       "\n",
       "== Minute 27 ==\n",
       "Valves BB, CC, DD, EE, HH, and JJ are open, releasing <em>81</em> pressure.\n",
       "\n",
       "== Minute 28 ==\n",
       "Valves BB, CC, DD, EE, HH, and JJ are open, releasing <em>81</em> pressure.\n",
       "\n",
       "== Minute 29 ==\n",
       "Valves BB, CC, DD, EE, HH, and JJ are open, releasing <em>81</em> pressure.\n",
       "\n",
       "== Minute 30 ==\n",
       "Valves BB, CC, DD, EE, HH, and JJ are open, releasing <em>81</em> pressure.\n",
       "</code></pre>\n",
       "<p>This approach lets you release the most pressure possible in 30 minutes with this valve layout, <code><em>1651</em></code>.</p>\n",
       "<p>Work out the steps to release the most pressure in 30 minutes. <em>What is the most pressure you can release?</em></p>\n"
      ],
      "text/plain": [
       "<IPython.core.display.HTML object>"
      ]
     },
     "execution_count": 3,
     "metadata": {},
     "output_type": "execute_result"
    }
   ],
   "source": [
    "from IPython.display import HTML\n",
    "\n",
    "HTML(downloaded['part1'])"
   ]
  },
  {
   "cell_type": "markdown",
   "metadata": {},
   "source": [
    "## Comments\n",
    "\n",
    "..."
   ]
  },
  {
   "cell_type": "code",
   "execution_count": 4,
   "metadata": {},
   "outputs": [],
   "source": [
    "testdata = \"\"\"Valve AA has flow rate=0; tunnels lead to valves DD, II, BB\n",
    "Valve BB has flow rate=13; tunnels lead to valves CC, AA\n",
    "Valve CC has flow rate=2; tunnels lead to valves DD, BB\n",
    "Valve DD has flow rate=20; tunnels lead to valves CC, AA, EE\n",
    "Valve EE has flow rate=3; tunnels lead to valves FF, DD\n",
    "Valve FF has flow rate=0; tunnels lead to valves EE, GG\n",
    "Valve GG has flow rate=0; tunnels lead to valves FF, HH\n",
    "Valve HH has flow rate=22; tunnel leads to valve GG\n",
    "Valve II has flow rate=0; tunnels lead to valves AA, JJ\n",
    "Valve JJ has flow rate=21; tunnel leads to valve II\"\"\".splitlines()\n",
    "\n",
    "inputdata = downloaded['input'].splitlines()\n",
    "# inputdata = open('input.txt', 'r').read().splitlines()"
   ]
  },
  {
   "cell_type": "code",
   "execution_count": 5,
   "metadata": {},
   "outputs": [
    {
     "data": {
      "text/plain": [
       "\"['Valve QZ has flow rate=0; tunnels lead to valves IR, FA', 'Valve FV has flow rate=0; tunnels lead to valves AA, GZ', 'Valve GZ has flow rate=0; tunnels lead to valves FV, PO', 'Valve QL has flow rate=0; tunnels lead to valves MR, AA', 'Valve AA has flow rate=0; tunnels lead to valves QL, GQ, EV, FV', 'Valve SQ has flow rate=23; tunnel leads to valve ZG', 'Valve PK has flow rate=8; tunnels lead to valves MN, GN, WF, TY, CX', 'Valve GQ has flow rate=0; tunnels lead to valves AA, MT', 'Valve TI has flow rate=22; tunnels lead to valves GM, CS', 'Valve JU has flow rate=17; tunnels lead to valves TT, RR, UJ, JY'] ... len(inputdata)=58\""
      ]
     },
     "metadata": {},
     "output_type": "display_data"
    }
   ],
   "source": [
    "from IPython.display import display\n",
    "\n",
    "\n",
    "display(f'{inputdata[:10]} ... {len(inputdata)=}')"
   ]
  },
  {
   "cell_type": "code",
   "execution_count": 16,
   "metadata": {},
   "outputs": [
    {
     "name": "stderr",
     "output_type": "stream",
     "text": [
      "12:80: E501 line too long (96 > 79 characters)\n"
     ]
    }
   ],
   "source": [
    "from typing import Iterable, List, Tuple\n",
    "import re\n",
    "\n",
    "Valve = Tuple[str, int, Tuple[str, ...]]\n",
    "\n",
    "\n",
    "def parse_lines(data: Iterable[str]) -> List[Valve]:\n",
    "    output: List[Valve] = list()\n",
    "    for line in data:\n",
    "        line_matches = re.match(\n",
    "            r'Valve (\\w+) has flow rate=(\\d+); tunnels lead to valve(.*)',\n",
    "            # r'Valve (\\w+) has flow rate=(\\d+); tunnels lead to valve(?:s)? ((?:(?:, )?\\w+)+)',\n",
    "            line)\n",
    "        assert isinstance(line_matches, re.Match), f'Invalid line: {line}'\n",
    "        valve, rate, neighbours = line_matches.groups()\n",
    "        output.append((valve, int(rate), tuple(neighbours.split(', '))))\n",
    "    return output"
   ]
  },
  {
   "cell_type": "code",
   "execution_count": 17,
   "metadata": {},
   "outputs": [
    {
     "ename": "AssertionError",
     "evalue": "Invalid line: Valve HH has flow rate=22; tunnel leads to valve GG",
     "output_type": "error",
     "traceback": [
      "\u001b[0;31m---------------------------------------------------------------------------\u001b[0m",
      "\u001b[0;31mAssertionError\u001b[0m                            Traceback (most recent call last)",
      "Cell \u001b[0;32mIn [17], line 1\u001b[0m\n\u001b[0;32m----> 1\u001b[0m parse_lines(testdata)\n",
      "Cell \u001b[0;32mIn [16], line 14\u001b[0m, in \u001b[0;36mparse_lines\u001b[0;34m(data)\u001b[0m\n\u001b[1;32m      9\u001b[0m \u001b[39mfor\u001b[39;00m line \u001b[39min\u001b[39;00m data:\n\u001b[1;32m     10\u001b[0m     line_matches \u001b[39m=\u001b[39m re\u001b[39m.\u001b[39mmatch(\n\u001b[1;32m     11\u001b[0m         \u001b[39mr\u001b[39m\u001b[39m'\u001b[39m\u001b[39mValve (\u001b[39m\u001b[39m\\\u001b[39m\u001b[39mw+) has flow rate=(\u001b[39m\u001b[39m\\\u001b[39m\u001b[39md+); tunnels lead to valve(.*)\u001b[39m\u001b[39m'\u001b[39m,\n\u001b[1;32m     12\u001b[0m         \u001b[39m# r'Valve (\\w+) has flow rate=(\\d+); tunnels lead to valve(?:s)? ((?:(?:, )?\\w+)+)',\u001b[39;00m\n\u001b[1;32m     13\u001b[0m         line)\n\u001b[0;32m---> 14\u001b[0m     \u001b[39massert\u001b[39;00m \u001b[39misinstance\u001b[39m(line_matches, re\u001b[39m.\u001b[39mMatch), \u001b[39mf\u001b[39m\u001b[39m'\u001b[39m\u001b[39mInvalid line: \u001b[39m\u001b[39m{\u001b[39;00mline\u001b[39m}\u001b[39;00m\u001b[39m'\u001b[39m\n\u001b[1;32m     15\u001b[0m     valve, rate, neighbours \u001b[39m=\u001b[39m line_matches\u001b[39m.\u001b[39mgroups()\n\u001b[1;32m     16\u001b[0m     output\u001b[39m.\u001b[39mappend((valve, \u001b[39mint\u001b[39m(rate), \u001b[39mtuple\u001b[39m(neighbours\u001b[39m.\u001b[39msplit(\u001b[39m'\u001b[39m\u001b[39m, \u001b[39m\u001b[39m'\u001b[39m))))\n",
      "\u001b[0;31mAssertionError\u001b[0m: Invalid line: Valve HH has flow rate=22; tunnel leads to valve GG"
     ]
    }
   ],
   "source": [
    "parse_lines(testdata)"
   ]
  },
  {
   "cell_type": "code",
   "execution_count": 20,
   "metadata": {},
   "outputs": [],
   "source": [
    "def m_distance(c1: Coord, c2: Coord) -> int:\n",
    "    return abs(c1[0] - c2[0]) + abs(c1[1] - c2[1])"
   ]
  },
  {
   "cell_type": "code",
   "execution_count": 29,
   "metadata": {},
   "outputs": [],
   "source": [
    "sensors_beacons = parse_lines(testdata)\n",
    "sensors_radii = {(c1, m_distance(c1, c2)) for c1, c2 in sensors_beacons}\n",
    "sensors = {c1 for c1, _ in sensors_beacons}\n",
    "beacons = {c2 for _, c2 in sensors_beacons}"
   ]
  },
  {
   "cell_type": "code",
   "execution_count": 30,
   "metadata": {},
   "outputs": [
    {
     "data": {
      "text/plain": [
       "{(0, 11),\n",
       " (2, 0),\n",
       " (2, 18),\n",
       " (8, 7),\n",
       " (9, 16),\n",
       " (10, 20),\n",
       " (12, 14),\n",
       " (13, 2),\n",
       " (14, 3),\n",
       " (14, 17),\n",
       " (16, 7),\n",
       " (17, 20),\n",
       " (20, 1),\n",
       " (20, 14)}"
      ]
     },
     "execution_count": 30,
     "metadata": {},
     "output_type": "execute_result"
    }
   ],
   "source": [
    "sensors"
   ]
  },
  {
   "cell_type": "code",
   "execution_count": null,
   "metadata": {},
   "outputs": [],
   "source": [
    "def low_x_at_y(y: int, sensor: Coord, radius: int) -> Coord:\n",
    "    return sensor[0] - abs(sensor[1])"
   ]
  },
  {
   "cell_type": "code",
   "execution_count": 23,
   "metadata": {},
   "outputs": [
    {
     "data": {
      "text/plain": [
       "1"
      ]
     },
     "execution_count": 23,
     "metadata": {},
     "output_type": "execute_result"
    }
   ],
   "source": [
    "m_distance(*sensors_beacons[1])"
   ]
  },
  {
   "cell_type": "code",
   "execution_count": 13,
   "metadata": {},
   "outputs": [
    {
     "data": {
      "text/html": [
       "\n",
       "<p>To begin, <a href=\"14/input\" target=\"_blank\">get your puzzle input</a>.</p>\n",
       "<form method=\"post\" action=\"14/answer\"><input type=\"hidden\" name=\"level\" value=\"1\"/><p>Answer: <input type=\"text\" name=\"answer\" autocomplete=\"off\"/> <input type=\"submit\" value=\"[Submit]\"/></p></form>\n",
       "<p>You can also <span class=\"share\">[Share<span class=\"share-content\">on\n",
       "  <a href=\"https://twitter.com/intent/tweet?text=%22Regolith+Reservoir%22+%2D+Day+14+%2D+Advent+of+Code+2022&amp;url=https%3A%2F%2Fadventofcode%2Ecom%2F2022%2Fday%2F14&amp;related=ericwastl&amp;hashtags=AdventOfCode\" target=\"_blank\">Twitter</a>\n",
       "  <a href=\"javascript:void(0);\" onclick=\"var mastodon_instance=prompt('Mastodon Instance / Server Name?'); if(typeof mastodon_instance==='string' && mastodon_instance.length){this.href='https://'+mastodon_instance+'/share?text=%22Regolith+Reservoir%22+%2D+Day+14+%2D+Advent+of+Code+2022+%23AdventOfCode+https%3A%2F%2Fadventofcode%2Ecom%2F2022%2Fday%2F14'}else{return false;}\" target=\"_blank\">Mastodon</a\n",
       "></span>]</span> this puzzle.</p>\n"
      ],
      "text/plain": [
       "<IPython.core.display.HTML object>"
      ]
     },
     "execution_count": 13,
     "metadata": {},
     "output_type": "execute_result"
    }
   ],
   "source": [
    "HTML(downloaded['part1_footer'])"
   ]
  },
  {
   "cell_type": "markdown",
   "metadata": {},
   "source": [
    "## Part Two"
   ]
  },
  {
   "cell_type": "code",
   "execution_count": 14,
   "metadata": {},
   "outputs": [],
   "source": [
    "# HTML(downloaded['part2'])"
   ]
  },
  {
   "cell_type": "code",
   "execution_count": 15,
   "metadata": {},
   "outputs": [],
   "source": [
    "# HTML(downloaded['part2_footer'])"
   ]
  }
 ],
 "metadata": {
  "kernelspec": {
   "display_name": "Python 3",
   "language": "python",
   "name": "python3"
  },
  "language_info": {
   "codemirror_mode": {
    "name": "ipython",
    "version": 3
   },
   "file_extension": ".py",
   "mimetype": "text/x-python",
   "name": "python",
   "nbconvert_exporter": "python",
   "pygments_lexer": "ipython3",
   "version": "3.10.6 (main, Nov 14 2022, 16:10:14) [GCC 11.3.0]"
  },
  "vscode": {
   "interpreter": {
    "hash": "e7370f93d1d0cde622a1f8e1c04877d8463912d04d973331ad4851f04de6915a"
   }
  }
 },
 "nbformat": 4,
 "nbformat_minor": 4
}

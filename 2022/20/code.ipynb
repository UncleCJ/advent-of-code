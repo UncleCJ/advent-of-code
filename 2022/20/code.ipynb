{
 "cells": [
  {
   "attachments": {},
   "cell_type": "markdown",
   "metadata": {},
   "source": [
    "# Day 20: Grove Positioning System\n",
    "\n",
    "[*Advent of Code 2022 day 20*](https://adventofcode.com/2022/day/20) and [*solution megathread*](https://redd.it/zqezkn)\n",
    "\n",
    "[![nbviewer](https://raw.githubusercontent.com/jupyter/design/master/logos/Badges/nbviewer_badge.svg)](https://nbviewer.jupyter.org/github/UncleCJ/advent-of-code/blob/cj/2022/20/code.ipynb) [![Binder](https://mybinder.org/badge_logo.svg)](https://mybinder.org/v2/gh/UncleCJ/advent-of-code/cj?filepath=2022%2F20%2Fcode.ipynb)"
   ]
  },
  {
   "cell_type": "code",
   "execution_count": 1,
   "metadata": {},
   "outputs": [
    {
     "name": "stderr",
     "output_type": "stream",
     "text": [
      "Version 1.0.4\n"
     ]
    }
   ],
   "source": [
    "from IPython.display import HTML\n",
    "import sys\n",
    "sys.path.append('../../')\n",
    "\n",
    "\n",
    "%load_ext nb_mypy\n",
    "%nb_mypy On"
   ]
  },
  {
   "cell_type": "code",
   "execution_count": 2,
   "metadata": {},
   "outputs": [
    {
     "name": "stdout",
     "output_type": "stream",
     "text": [
      "Writing 'downloaded' (dict) to file 'downloaded'.\n"
     ]
    }
   ],
   "source": [
    "import common\n",
    "\n",
    "\n",
    "downloaded = common.refresh()\n",
    "%store downloaded >downloaded\n",
    "\n",
    "%load_ext pycodestyle_magic\n",
    "%pycodestyle_on"
   ]
  },
  {
   "cell_type": "markdown",
   "metadata": {},
   "source": [
    "## Part One"
   ]
  },
  {
   "cell_type": "code",
   "execution_count": 3,
   "metadata": {},
   "outputs": [
    {
     "data": {
      "text/html": [
       "<h2>--- Day 20: Grove Positioning System ---</h2><p>It's finally time to meet back up with the Elves. When you try to contact them, however, you get no reply. Perhaps you're out of range?</p>\n",
       "<p>You know they're headed to the grove where the <em class=\"star\">star</em> fruit grows, so if you can figure out where that is, you should be able to meet back up with them.</p>\n",
       "<p>Fortunately, your handheld device has a file (your puzzle input) that contains the grove's coordinates! Unfortunately, the file is <em>encrypted</em> - just in case the device were to fall into the wrong hands.</p>\n",
       "<p>Maybe you can <span title=\"You once again make a mental note to remind the Elves later not to invent their own cryptographic functions.\">decrypt</span> it?</p>\n",
       "<p>When you were still back at the camp, you overheard some Elves talking about coordinate file encryption. The main operation involved in decrypting the file is called <em>mixing</em>.</p>\n",
       "<p>The encrypted file is a list of numbers. To <em>mix</em> the file, move each number forward or backward in the file a number of positions equal to the value of the number being moved. The list is <em>circular</em>, so moving a number off one end of the list wraps back around to the other end as if the ends were connected.</p>\n",
       "<p>For example, to move the <code>1</code> in a sequence like <code>4, 5, 6, <em>1</em>, 7, 8, 9</code>, the <code>1</code> moves one position forward: <code>4, 5, 6, 7, <em>1</em>, 8, 9</code>. To move the <code>-2</code> in a sequence like <code>4, <em>-2</em>, 5, 6, 7, 8, 9</code>, the <code>-2</code> moves two positions backward, wrapping around: <code>4, 5, 6, 7, 8, <em>-2</em>, 9</code>.</p>\n",
       "<p>The numbers should be moved <em>in the order they originally appear</em> in the encrypted file. Numbers moving around during the mixing process do not change the order in which the numbers are moved.</p>\n",
       "<p>Consider this encrypted file:</p>\n",
       "<pre><code>1\n",
       "2\n",
       "-3\n",
       "3\n",
       "-2\n",
       "0\n",
       "4\n",
       "</code></pre>\n",
       "<p>Mixing this file proceeds as follows:</p>\n",
       "<pre><code>Initial arrangement:\n",
       "1, 2, -3, 3, -2, 0, 4\n",
       "\n",
       "1 moves between 2 and -3:\n",
       "2, 1, -3, 3, -2, 0, 4\n",
       "\n",
       "2 moves between -3 and 3:\n",
       "1, -3, 2, 3, -2, 0, 4\n",
       "\n",
       "-3 moves between -2 and 0:\n",
       "1, 2, 3, -2, -3, 0, 4\n",
       "\n",
       "3 moves between 0 and 4:\n",
       "1, 2, -2, -3, 0, 3, 4\n",
       "\n",
       "-2 moves between 4 and 1:\n",
       "1, 2, -3, 0, 3, 4, -2\n",
       "\n",
       "0 does not move:\n",
       "1, 2, -3, 0, 3, 4, -2\n",
       "\n",
       "4 moves between -3 and 0:\n",
       "1, 2, -3, 4, 0, 3, -2\n",
       "</code></pre>\n",
       "<p>Then, the grove coordinates can be found by looking at the 1000th, 2000th, and 3000th numbers after the value <code>0</code>, wrapping around the list as necessary. In the above example, the 1000th number after <code>0</code> is <code><em>4</em></code>, the 2000th is <code><em>-3</em></code>, and the 3000th is <code><em>2</em></code>; adding these together produces <code><em>3</em></code>.</p>\n",
       "<p>Mix your encrypted file exactly once. <em>What is the sum of the three numbers that form the grove coordinates?</em></p>\n"
      ],
      "text/plain": [
       "<IPython.core.display.HTML object>"
      ]
     },
     "execution_count": 3,
     "metadata": {},
     "output_type": "execute_result"
    }
   ],
   "source": [
    "from IPython.display import HTML\n",
    "\n",
    "HTML(downloaded['part1'])"
   ]
  },
  {
   "cell_type": "markdown",
   "metadata": {},
   "source": [
    "## Comments\n",
    "\n",
    "..."
   ]
  },
  {
   "cell_type": "code",
   "execution_count": 4,
   "metadata": {},
   "outputs": [],
   "source": [
    "testdata = \"\"\"1\n",
    "2\n",
    "-3\n",
    "3\n",
    "-2\n",
    "0\n",
    "4\"\"\".splitlines()\n",
    "\n",
    "inputdata = downloaded['input'].splitlines()\n",
    "# inputdata = open('input.txt', 'r').read().splitlines()"
   ]
  },
  {
   "cell_type": "code",
   "execution_count": 5,
   "metadata": {},
   "outputs": [
    {
     "data": {
      "text/plain": [
       "\"['-1382', '7577', '-629', '-169', '5825', '-1331', '-5150', '7385', '2795', '4873'] ... len(inputdata)=5000\""
      ]
     },
     "metadata": {},
     "output_type": "display_data"
    }
   ],
   "source": [
    "from IPython.display import display\n",
    "\n",
    "display(f'{inputdata[:10]} ... {len(inputdata)=}')"
   ]
  },
  {
   "cell_type": "code",
   "execution_count": 6,
   "metadata": {},
   "outputs": [],
   "source": [
    "def list_from_first(mytlist):\n",
    "    return list(t[0] for t in mytlist)"
   ]
  },
  {
   "cell_type": "code",
   "execution_count": 7,
   "metadata": {},
   "outputs": [],
   "source": [
    "from collections.abc import Sized\n",
    "from typing import Iterable, List, Tuple\n",
    "\n",
    "\n",
    "def mix_data(data: List[int]) -> List[int]:\n",
    "    size = len(data)\n",
    "    wip: List[Tuple[int, bool]] = [(e, True) for e in data]\n",
    "\n",
    "    def mix_element(i: int) -> int:\n",
    "        # temp = list_from_first(wip)\n",
    "        # display(f'will mix {temp[i]} in {temp}')\n",
    "        element = wip.pop(i)[0]\n",
    "        destination = (i + element) % (size - 1)\n",
    "        if destination == 0:\n",
    "            destination = size - 1\n",
    "        wip.insert(destination, (element, False))\n",
    "        return destination\n",
    "\n",
    "    progress = 0\n",
    "    while progress < size:\n",
    "        if wip[progress][1]:\n",
    "            destination = mix_element(progress)\n",
    "            if destination > progress:\n",
    "                progress -= 1\n",
    "        progress += 1\n",
    "    return [t[0] for t in wip]"
   ]
  },
  {
   "cell_type": "code",
   "execution_count": 8,
   "metadata": {},
   "outputs": [],
   "source": [
    "def grove_coordinates(data: List[int],\n",
    "                      coordinates: List[int] = [1000, 2000, 3000]) \\\n",
    "                          -> List[int]:\n",
    "    output: List[int] = list()\n",
    "    origo = data.index(0)\n",
    "    for coord in coordinates:\n",
    "        output.append(data[(origo + coord) % len(data)])\n",
    "    return output"
   ]
  },
  {
   "cell_type": "code",
   "execution_count": 9,
   "metadata": {},
   "outputs": [],
   "source": [
    "assert sum(grove_coordinates(mix_data(list(int(e) for e in testdata)))) == 3"
   ]
  },
  {
   "cell_type": "code",
   "execution_count": 10,
   "metadata": {},
   "outputs": [
    {
     "data": {
      "text/plain": [
       "5498"
      ]
     },
     "execution_count": 10,
     "metadata": {},
     "output_type": "execute_result"
    }
   ],
   "source": [
    "sum(grove_coordinates(mix_data(list(int(e) for e in inputdata))))"
   ]
  },
  {
   "cell_type": "code",
   "execution_count": 11,
   "metadata": {},
   "outputs": [
    {
     "data": {
      "text/html": [
       "\n",
       "<p>Your puzzle answer was <code>5498</code>.</p><p class=\"day-success\">The first half of this puzzle is complete! It provides one gold star: *</p>\n"
      ],
      "text/plain": [
       "<IPython.core.display.HTML object>"
      ]
     },
     "execution_count": 11,
     "metadata": {},
     "output_type": "execute_result"
    }
   ],
   "source": [
    "HTML(downloaded['part1_footer'])"
   ]
  },
  {
   "cell_type": "markdown",
   "metadata": {},
   "source": [
    "## Part Two"
   ]
  },
  {
   "cell_type": "code",
   "execution_count": 12,
   "metadata": {},
   "outputs": [
    {
     "data": {
      "text/html": [
       "<h2 id=\"part2\">--- Part Two ---</h2><p>The grove coordinate values seem nonsensical. While you ponder the mysteries of Elf encryption, you suddenly remember the rest of the decryption routine you overheard back at camp.</p>\n",
       "<p>First, you need to apply the <em>decryption key</em>, <code>811589153</code>. Multiply each number by the decryption key before you begin; this will produce the actual list of numbers to mix.</p>\n",
       "<p>Second, you need to mix the list of numbers <em>ten times</em>. The order in which the numbers are mixed does not change during mixing; the numbers are still moved in the order they appeared in the original, pre-mixed list. (So, if -3 appears fourth in the original list of numbers to mix, -3 will be the fourth number to move during each round of mixing.)</p>\n",
       "<p>Using the same example as above:</p>\n",
       "<pre><code>Initial arrangement:\n",
       "811589153, 1623178306, -2434767459, 2434767459, -1623178306, 0, 3246356612\n",
       "\n",
       "After 1 round of mixing:\n",
       "0, -2434767459, 3246356612, -1623178306, 2434767459, 1623178306, 811589153\n",
       "\n",
       "After 2 rounds of mixing:\n",
       "0, 2434767459, 1623178306, 3246356612, -2434767459, -1623178306, 811589153\n",
       "\n",
       "After 3 rounds of mixing:\n",
       "0, 811589153, 2434767459, 3246356612, 1623178306, -1623178306, -2434767459\n",
       "\n",
       "After 4 rounds of mixing:\n",
       "0, 1623178306, -2434767459, 811589153, 2434767459, 3246356612, -1623178306\n",
       "\n",
       "After 5 rounds of mixing:\n",
       "0, 811589153, -1623178306, 1623178306, -2434767459, 3246356612, 2434767459\n",
       "\n",
       "After 6 rounds of mixing:\n",
       "0, 811589153, -1623178306, 3246356612, -2434767459, 1623178306, 2434767459\n",
       "\n",
       "After 7 rounds of mixing:\n",
       "0, -2434767459, 2434767459, 1623178306, -1623178306, 811589153, 3246356612\n",
       "\n",
       "After 8 rounds of mixing:\n",
       "0, 1623178306, 3246356612, 811589153, -2434767459, 2434767459, -1623178306\n",
       "\n",
       "After 9 rounds of mixing:\n",
       "0, 811589153, 1623178306, -2434767459, 3246356612, 2434767459, -1623178306\n",
       "\n",
       "After 10 rounds of mixing:\n",
       "0, -2434767459, 1623178306, 3246356612, -1623178306, 2434767459, 811589153\n",
       "</code></pre>\n",
       "<p>The grove coordinates can still be found in the same way. Here, the 1000th number after <code>0</code> is <code><em>811589153</em></code>, the 2000th is <code><em>2434767459</em></code>, and the 3000th is <code><em>-1623178306</em></code>; adding these together produces <code><em>1623178306</em></code>.</p>\n",
       "<p>Apply the decryption key and mix your encrypted file ten times. <em>What is the sum of the three numbers that form the grove coordinates?</em></p>\n"
      ],
      "text/plain": [
       "<IPython.core.display.HTML object>"
      ]
     },
     "execution_count": 12,
     "metadata": {},
     "output_type": "execute_result"
    }
   ],
   "source": [
    "HTML(downloaded['part2'])"
   ]
  },
  {
   "cell_type": "code",
   "execution_count": 13,
   "metadata": {},
   "outputs": [
    {
     "data": {
      "text/html": [
       "\n",
       "<form method=\"post\" action=\"20/answer\"><input type=\"hidden\" name=\"level\" value=\"2\"/><p>Answer: <input type=\"text\" name=\"answer\" autocomplete=\"off\"/> <input type=\"submit\" value=\"[Submit]\"/></p></form>\n",
       "<p>Although it hasn't changed, you can still <a href=\"20/input\" target=\"_blank\">get your puzzle input</a>.</p>\n",
       "<p>You can also <span class=\"share\">[Share<span class=\"share-content\">on\n",
       "  <a href=\"https://twitter.com/intent/tweet?text=I%27ve+completed+Part+One+of+%22Grove+Positioning+System%22+%2D+Day+20+%2D+Advent+of+Code+2022&amp;url=https%3A%2F%2Fadventofcode%2Ecom%2F2022%2Fday%2F20&amp;related=ericwastl&amp;hashtags=AdventOfCode\" target=\"_blank\">Twitter</a>\n",
       "  <a href=\"javascript:void(0);\" onclick=\"var mastodon_instance=prompt('Mastodon Instance / Server Name?'); if(typeof mastodon_instance==='string' && mastodon_instance.length){this.href='https://'+mastodon_instance+'/share?text=I%27ve+completed+Part+One+of+%22Grove+Positioning+System%22+%2D+Day+20+%2D+Advent+of+Code+2022+%23AdventOfCode+https%3A%2F%2Fadventofcode%2Ecom%2F2022%2Fday%2F20'}else{return false;}\" target=\"_blank\">Mastodon</a\n",
       "></span>]</span> this puzzle.</p>\n"
      ],
      "text/plain": [
       "<IPython.core.display.HTML object>"
      ]
     },
     "execution_count": 13,
     "metadata": {},
     "output_type": "execute_result"
    }
   ],
   "source": [
    "HTML(downloaded['part2_footer'])"
   ]
  }
 ],
 "metadata": {
  "kernelspec": {
   "display_name": "Python 3",
   "language": "python",
   "name": "python3"
  },
  "language_info": {
   "codemirror_mode": {
    "name": "ipython",
    "version": 3
   },
   "file_extension": ".py",
   "mimetype": "text/x-python",
   "name": "python",
   "nbconvert_exporter": "python",
   "pygments_lexer": "ipython3",
   "version": "3.10.6"
  },
  "vscode": {
   "interpreter": {
    "hash": "e7370f93d1d0cde622a1f8e1c04877d8463912d04d973331ad4851f04de6915a"
   }
  }
 },
 "nbformat": 4,
 "nbformat_minor": 4
}

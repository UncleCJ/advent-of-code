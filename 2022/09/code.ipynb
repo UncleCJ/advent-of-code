{
 "cells": [
  {
   "cell_type": "markdown",
   "metadata": {},
   "source": [
    "# Day 9: Rope Bridge\n",
    "\n",
    "[*Advent of Code 2022 day 9*](https://adventofcode.com/2022/day/9) and [*solution megathread*](https://www.reddit.com/...)\n",
    "\n",
    "[![nbviewer](https://raw.githubusercontent.com/jupyter/design/master/logos/Badges/nbviewer_badge.svg)](https://nbviewer.jupyter.org/github/UncleCJ/advent-of-code/blob/cj/2022/09/code.ipynb) [![Binder](https://mybinder.org/badge_logo.svg)](https://mybinder.org/v2/gh/UncleCJ/advent-of-code/cj?filepath=2022%2F09%2Fcode.ipynb)"
   ]
  },
  {
   "cell_type": "code",
   "execution_count": 1,
   "metadata": {},
   "outputs": [
    {
     "name": "stderr",
     "output_type": "stream",
     "text": [
      "Version 1.0.4\n"
     ]
    }
   ],
   "source": [
    "from IPython.display import HTML\n",
    "import sys\n",
    "sys.path.append('../../')\n",
    "\n",
    "\n",
    "%load_ext nb_mypy\n",
    "%nb_mypy On"
   ]
  },
  {
   "cell_type": "code",
   "execution_count": 2,
   "metadata": {},
   "outputs": [
    {
     "name": "stdout",
     "output_type": "stream",
     "text": [
      "Writing 'downloaded' (dict) to file 'downloaded'.\n"
     ]
    }
   ],
   "source": [
    "import common\n",
    "\n",
    "\n",
    "downloaded = common.refresh()\n",
    "%store downloaded >downloaded\n",
    "\n",
    "%load_ext pycodestyle_magic\n",
    "%pycodestyle_on"
   ]
  },
  {
   "cell_type": "markdown",
   "metadata": {},
   "source": [
    "## Part One"
   ]
  },
  {
   "cell_type": "code",
   "execution_count": 3,
   "metadata": {},
   "outputs": [
    {
     "data": {
      "text/html": [
       "<h2>--- Day 9: Rope Bridge ---</h2><p>This rope bridge creaks as you walk along it. You aren't sure how old it is, or whether it can even support your weight.</p>\n",
       "<p>It seems to support the Elves just fine, though. The bridge spans a gorge which was carved out by the massive river far below you.</p>\n",
       "<p>You step carefully; as you do, the ropes stretch and twist. You decide to distract yourself by modeling rope physics; maybe you can even figure out where <em>not</em> to step.</p>\n",
       "<p>Consider a rope with a knot at each end; these knots mark the <em>head</em> and the <em>tail</em> of the rope. If the head moves far enough away from the tail, the tail is pulled toward the head.</p>\n",
       "<p>Due to nebulous reasoning involving <a href=\"https://en.wikipedia.org/wiki/Planck_units#Planck_length\" target=\"_blank\">Planck lengths</a>, you should be able to model the positions of the knots on a two-dimensional grid. Then, by following a hypothetical <em>series of motions</em> (your puzzle input) for the head, you can determine how the tail will move.</p>\n",
       "<p><span title=\"I'm an engineer, not a physicist!\">Due to the aforementioned Planck lengths</span>, the rope must be quite short; in fact, the head (<code>H</code>) and tail (<code>T</code>) must <em>always be touching</em> (diagonally adjacent and even overlapping both count as touching):</p>\n",
       "<pre><code>....\n",
       ".TH.\n",
       "....\n",
       "\n",
       "....\n",
       ".H..\n",
       "..T.\n",
       "....\n",
       "\n",
       "...\n",
       ".H. (H covers T)\n",
       "...\n",
       "</code></pre>\n",
       "<p>If the head is ever two steps directly up, down, left, or right from the tail, the tail must also move one step in that direction so it remains close enough:</p>\n",
       "<pre><code>.....    .....    .....\n",
       ".TH.. -&gt; .T.H. -&gt; ..TH.\n",
       ".....    .....    .....\n",
       "\n",
       "...    ...    ...\n",
       ".T.    .T.    ...\n",
       ".H. -&gt; ... -&gt; .T.\n",
       "...    .H.    .H.\n",
       "...    ...    ...\n",
       "</code></pre>\n",
       "<p>Otherwise, if the head and tail aren't touching and aren't in the same row or column, the tail always moves one step diagonally to keep up:</p>\n",
       "<pre><code>.....    .....    .....\n",
       ".....    ..H..    ..H..\n",
       "..H.. -&gt; ..... -&gt; ..T..\n",
       ".T...    .T...    .....\n",
       ".....    .....    .....\n",
       "\n",
       ".....    .....    .....\n",
       ".....    .....    .....\n",
       "..H.. -&gt; ...H. -&gt; ..TH.\n",
       ".T...    .T...    .....\n",
       ".....    .....    .....\n",
       "</code></pre>\n",
       "<p>You just need to work out where the tail goes as the head follows a series of motions. Assume the head and the tail both start at the same position, overlapping.</p>\n",
       "<p>For example:</p>\n",
       "<pre><code>R 4\n",
       "U 4\n",
       "L 3\n",
       "D 1\n",
       "R 4\n",
       "D 1\n",
       "L 5\n",
       "R 2\n",
       "</code></pre>\n",
       "<p>This series of motions moves the head <em>right</em> four steps, then <em>up</em> four steps, then <em>left</em> three steps, then <em>down</em> one step, and so on. After each step, you'll need to update the position of the tail if the step means the head is no longer adjacent to the tail. Visually, these motions occur as follows (<code>s</code> marks the starting position as a reference point):</p>\n",
       "<pre><code>== Initial State ==\n",
       "\n",
       "......\n",
       "......\n",
       "......\n",
       "......\n",
       "H.....  (H covers T, s)\n",
       "\n",
       "== R 4 ==\n",
       "\n",
       "......\n",
       "......\n",
       "......\n",
       "......\n",
       "TH....  (T covers s)\n",
       "\n",
       "......\n",
       "......\n",
       "......\n",
       "......\n",
       "sTH...\n",
       "\n",
       "......\n",
       "......\n",
       "......\n",
       "......\n",
       "s.TH..\n",
       "\n",
       "......\n",
       "......\n",
       "......\n",
       "......\n",
       "s..TH.\n",
       "\n",
       "== U 4 ==\n",
       "\n",
       "......\n",
       "......\n",
       "......\n",
       "....H.\n",
       "s..T..\n",
       "\n",
       "......\n",
       "......\n",
       "....H.\n",
       "....T.\n",
       "s.....\n",
       "\n",
       "......\n",
       "....H.\n",
       "....T.\n",
       "......\n",
       "s.....\n",
       "\n",
       "....H.\n",
       "....T.\n",
       "......\n",
       "......\n",
       "s.....\n",
       "\n",
       "== L 3 ==\n",
       "\n",
       "...H..\n",
       "....T.\n",
       "......\n",
       "......\n",
       "s.....\n",
       "\n",
       "..HT..\n",
       "......\n",
       "......\n",
       "......\n",
       "s.....\n",
       "\n",
       ".HT...\n",
       "......\n",
       "......\n",
       "......\n",
       "s.....\n",
       "\n",
       "== D 1 ==\n",
       "\n",
       "..T...\n",
       ".H....\n",
       "......\n",
       "......\n",
       "s.....\n",
       "\n",
       "== R 4 ==\n",
       "\n",
       "..T...\n",
       "..H...\n",
       "......\n",
       "......\n",
       "s.....\n",
       "\n",
       "..T...\n",
       "...H..\n",
       "......\n",
       "......\n",
       "s.....\n",
       "\n",
       "......\n",
       "...TH.\n",
       "......\n",
       "......\n",
       "s.....\n",
       "\n",
       "......\n",
       "....TH\n",
       "......\n",
       "......\n",
       "s.....\n",
       "\n",
       "== D 1 ==\n",
       "\n",
       "......\n",
       "....T.\n",
       ".....H\n",
       "......\n",
       "s.....\n",
       "\n",
       "== L 5 ==\n",
       "\n",
       "......\n",
       "....T.\n",
       "....H.\n",
       "......\n",
       "s.....\n",
       "\n",
       "......\n",
       "....T.\n",
       "...H..\n",
       "......\n",
       "s.....\n",
       "\n",
       "......\n",
       "......\n",
       "..HT..\n",
       "......\n",
       "s.....\n",
       "\n",
       "......\n",
       "......\n",
       ".HT...\n",
       "......\n",
       "s.....\n",
       "\n",
       "......\n",
       "......\n",
       "HT....\n",
       "......\n",
       "s.....\n",
       "\n",
       "== R 2 ==\n",
       "\n",
       "......\n",
       "......\n",
       ".H....  (H covers T)\n",
       "......\n",
       "s.....\n",
       "\n",
       "......\n",
       "......\n",
       ".TH...\n",
       "......\n",
       "s.....\n",
       "</code></pre>\n",
       "<p>After simulating the rope, you can count up all of the positions the <em>tail visited at least once</em>. In this diagram, <code>s</code> again marks the starting position (which the tail also visited) and <code>#</code> marks other positions the tail visited:</p>\n",
       "<pre><code>..##..\n",
       "...##.\n",
       ".####.\n",
       "....#.\n",
       "s###..\n",
       "</code></pre>\n",
       "<p>So, there are <code><em>13</em></code> positions the tail visited at least once.</p>\n",
       "<p>Simulate your complete hypothetical series of motions. <em>How many positions does the tail of the rope visit at least once?</em></p>\n"
      ],
      "text/plain": [
       "<IPython.core.display.HTML object>"
      ]
     },
     "execution_count": 3,
     "metadata": {},
     "output_type": "execute_result"
    }
   ],
   "source": [
    "from IPython.display import HTML\n",
    "\n",
    "HTML(downloaded['part1'])"
   ]
  },
  {
   "cell_type": "markdown",
   "metadata": {},
   "source": [
    "## Comments\n",
    "\n",
    "..."
   ]
  },
  {
   "cell_type": "code",
   "execution_count": 4,
   "metadata": {},
   "outputs": [],
   "source": [
    "from IPython.display import display\n",
    "\n",
    "testdata = \"\"\"R 4\n",
    "U 4\n",
    "L 3\n",
    "D 1\n",
    "R 4\n",
    "D 1\n",
    "L 5\n",
    "R 2\"\"\".splitlines()\n",
    "\n",
    "inputdata = downloaded['input'].splitlines()"
   ]
  },
  {
   "cell_type": "code",
   "execution_count": 5,
   "metadata": {},
   "outputs": [
    {
     "data": {
      "text/plain": [
       "\"['L 2', 'D 2', 'L 2', 'R 2', 'L 1', 'U 2', 'D 1', 'U 2', 'L 2', 'D 2'] ... len(inputdata)=2000\""
      ]
     },
     "metadata": {},
     "output_type": "display_data"
    }
   ],
   "source": [
    "display(f'{inputdata[:10]} ... {len(inputdata)=}')"
   ]
  },
  {
   "cell_type": "code",
   "execution_count": 14,
   "metadata": {},
   "outputs": [],
   "source": [
    "from typing import Tuple\n",
    "\n",
    "\n",
    "def move_head(rope_head: Tuple[int, int], move: str) -> Tuple[int, int]:\n",
    "    match move[0]:\n",
    "        case 'R': return (rope_head[0], rope_head[1] + 1)\n",
    "        case 'L': return (rope_head[0], rope_head[1] - 1)\n",
    "        case 'D': return (rope_head[0] + 1, rope_head[1])\n",
    "        case 'U': return (rope_head[0] - 1, rope_head[1])\n",
    "    raise ValueError()\n",
    "\n",
    "\n",
    "def catch_up(rope_head: Tuple[int, int], rope_tail: Tuple[int, int]) \\\n",
    "        -> Tuple[int, int]:\n",
    "    def sign(a: int) -> int:\n",
    "        return (a > 0) - (a < 0)\n",
    "    difference = (rope_head[0] - rope_tail[0],\n",
    "                  rope_head[1] - rope_tail[1])\n",
    "    new_tail_row, new_tail_col = rope_tail[0], rope_tail[1]\n",
    "    if abs(difference[0]) > 1:\n",
    "        new_tail_row += sign(difference[0])\n",
    "    if abs(difference[1]) > 1:\n",
    "        new_tail_col += sign(difference[1])\n",
    "    return (new_tail_row, new_tail_col)"
   ]
  },
  {
   "cell_type": "code",
   "execution_count": 13,
   "metadata": {},
   "outputs": [
    {
     "data": {
      "text/plain": [
       "(0, 2)"
      ]
     },
     "execution_count": 13,
     "metadata": {},
     "output_type": "execute_result"
    }
   ],
   "source": [
    "catch_up((-5, 5), (1, 1))"
   ]
  },
  {
   "cell_type": "code",
   "execution_count": 4,
   "metadata": {},
   "outputs": [
    {
     "data": {
      "text/html": [
       "\n",
       "<p>To begin, <a href=\"8/input\" target=\"_blank\">get your puzzle input</a>.</p>\n",
       "<form method=\"post\" action=\"8/answer\"><input type=\"hidden\" name=\"level\" value=\"1\"/><p>Answer: <input type=\"text\" name=\"answer\" autocomplete=\"off\"/> <input type=\"submit\" value=\"[Submit]\"/></p></form>\n",
       "<p>You can also <span class=\"share\">[Share<span class=\"share-content\">on\n",
       "  <a href=\"https://twitter.com/intent/tweet?text=%22Treetop+Tree+House%22+%2D+Day+8+%2D+Advent+of+Code+2022&amp;url=https%3A%2F%2Fadventofcode%2Ecom%2F2022%2Fday%2F8&amp;related=ericwastl&amp;hashtags=AdventOfCode\" target=\"_blank\">Twitter</a>\n",
       "  <a href=\"javascript:void(0);\" onclick=\"var mastodon_instance=prompt('Mastodon Instance / Server Name?'); if(typeof mastodon_instance==='string' && mastodon_instance.length){this.href='https://'+mastodon_instance+'/share?text=%22Treetop+Tree+House%22+%2D+Day+8+%2D+Advent+of+Code+2022+%23AdventOfCode+https%3A%2F%2Fadventofcode%2Ecom%2F2022%2Fday%2F8'}else{return false;}\" target=\"_blank\">Mastodon</a\n",
       "></span>]</span> this puzzle.</p>\n"
      ],
      "text/plain": [
       "<IPython.core.display.HTML object>"
      ]
     },
     "execution_count": 4,
     "metadata": {},
     "output_type": "execute_result"
    }
   ],
   "source": [
    "HTML(downloaded['part1_footer'])"
   ]
  },
  {
   "cell_type": "markdown",
   "metadata": {},
   "source": [
    "## Part Two"
   ]
  },
  {
   "cell_type": "code",
   "execution_count": 5,
   "metadata": {},
   "outputs": [],
   "source": [
    "# HTML(downloaded['part2'])"
   ]
  },
  {
   "cell_type": "code",
   "execution_count": 10,
   "metadata": {},
   "outputs": [],
   "source": [
    "for data, _, result in testdata:\n",
    "    assert find_init_end(data, 14) == result, f'{data=}, {result=}'"
   ]
  },
  {
   "cell_type": "code",
   "execution_count": 11,
   "metadata": {},
   "outputs": [
    {
     "data": {
      "text/plain": [
       "3837"
      ]
     },
     "execution_count": 11,
     "metadata": {},
     "output_type": "execute_result"
    }
   ],
   "source": [
    "find_init_end(inputdata, 14)"
   ]
  },
  {
   "cell_type": "code",
   "execution_count": 6,
   "metadata": {},
   "outputs": [],
   "source": [
    "# HTML(downloaded['part2_footer'])"
   ]
  }
 ],
 "metadata": {
  "kernelspec": {
   "display_name": "Python 3.10.6 64-bit",
   "language": "python",
   "name": "python3"
  },
  "language_info": {
   "codemirror_mode": {
    "name": "ipython",
    "version": 3
   },
   "file_extension": ".py",
   "mimetype": "text/x-python",
   "name": "python",
   "nbconvert_exporter": "python",
   "pygments_lexer": "ipython3",
   "version": "3.10.6"
  },
  "vscode": {
   "interpreter": {
    "hash": "e7370f93d1d0cde622a1f8e1c04877d8463912d04d973331ad4851f04de6915a"
   }
  }
 },
 "nbformat": 4,
 "nbformat_minor": 4
}

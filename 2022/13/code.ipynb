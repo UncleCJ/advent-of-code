{
 "cells": [
  {
   "attachments": {},
   "cell_type": "markdown",
   "metadata": {},
   "source": [
    "# Day 13: Distress Signal\n",
    "\n",
    "[*Advent of Code 2022 day 13*](https://adventofcode.com/2022/day/13) and [*solution megathread*](https://redd.it/zkmyh4)\n",
    "\n",
    "[![nbviewer](https://raw.githubusercontent.com/jupyter/design/master/logos/Badges/nbviewer_badge.svg)](https://nbviewer.jupyter.org/github/UncleCJ/advent-of-code/blob/cj/2022/13/code.ipynb) [![Binder](https://mybinder.org/badge_logo.svg)](https://mybinder.org/v2/gh/UncleCJ/advent-of-code/cj?filepath=2022%2F13%2Fcode.ipynb)"
   ]
  },
  {
   "cell_type": "code",
   "execution_count": 1,
   "metadata": {},
   "outputs": [
    {
     "name": "stderr",
     "output_type": "stream",
     "text": [
      "Version 1.0.4\n"
     ]
    }
   ],
   "source": [
    "from IPython.display import HTML\n",
    "import sys\n",
    "sys.path.append('../../')\n",
    "\n",
    "\n",
    "%load_ext nb_mypy\n",
    "%nb_mypy On"
   ]
  },
  {
   "cell_type": "code",
   "execution_count": 2,
   "metadata": {},
   "outputs": [
    {
     "name": "stdout",
     "output_type": "stream",
     "text": [
      "Writing 'downloaded' (dict) to file 'downloaded'.\n"
     ]
    }
   ],
   "source": [
    "import common\n",
    "\n",
    "\n",
    "downloaded = common.refresh()\n",
    "%store downloaded >downloaded\n",
    "\n",
    "%load_ext pycodestyle_magic\n",
    "%pycodestyle_on"
   ]
  },
  {
   "cell_type": "markdown",
   "metadata": {},
   "source": [
    "## Part One"
   ]
  },
  {
   "cell_type": "code",
   "execution_count": 3,
   "metadata": {},
   "outputs": [
    {
     "data": {
      "text/html": [
       "<h2>--- Day 13: Distress Signal ---</h2><p>You climb the hill and again try contacting the Elves. However, you instead receive a signal you weren't expecting: a <em>distress signal</em>.</p>\n",
       "<p>Your handheld device must still not be working properly; the packets from the distress signal got decoded <em>out of order</em>. You'll need to re-order the list of received packets (your puzzle input) to decode the message.</p>\n",
       "<p>Your list consists of pairs of packets; pairs are separated by a blank line. You need to identify <em>how many pairs of packets are in the right order</em>.</p>\n",
       "<p>For example:</p>\n",
       "<pre><code>[1,1,3,1,1]\n",
       "[1,1,5,1,1]\n",
       "\n",
       "[[1],[2,3,4]]\n",
       "[[1],4]\n",
       "\n",
       "[9]\n",
       "[[8,7,6]]\n",
       "\n",
       "[[4,4],4,4]\n",
       "[[4,4],4,4,4]\n",
       "\n",
       "[7,7,7,7]\n",
       "[7,7,7]\n",
       "\n",
       "[]\n",
       "[3]\n",
       "\n",
       "[[[]]]\n",
       "[[]]\n",
       "\n",
       "[1,[2,[3,[4,[5,6,7]]]],8,9]\n",
       "[1,[2,[3,[4,[5,6,0]]]],8,9]\n",
       "</code></pre>\n",
       "<p><span title=\"The snailfish called. They want their distress signal back.\">Packet data consists of lists and integers.</span> Each list starts with <code>[</code>, ends with <code>]</code>, and contains zero or more comma-separated values (either integers or other lists). Each packet is always a list and appears on its own line.</p>\n",
       "<p>When comparing two values, the first value is called <em>left</em> and the second value is called <em>right</em>. Then:</p>\n",
       "<ul>\n",
       "<li>If <em>both values are integers</em>, the <em>lower integer</em> should come first. If the left integer is lower than the right integer, the inputs are in the right order. If the left integer is higher than the right integer, the inputs are not in the right order. Otherwise, the inputs are the same integer; continue checking the next part of the input.</li>\n",
       "<li>If <em>both values are lists</em>, compare the first value of each list, then the second value, and so on. If the left list runs out of items first, the inputs are in the right order. If the right list runs out of items first, the inputs are not in the right order. If the lists are the same length and no comparison makes a decision about the order, continue checking the next part of the input.</li>\n",
       "<li>If <em>exactly one value is an integer</em>, convert the integer to a list which contains that integer as its only value, then retry the comparison. For example, if comparing <code>[0,0,0]</code> and <code>2</code>, convert the right value to <code>[2]</code> (a list containing <code>2</code>); the result is then found by instead comparing <code>[0,0,0]</code> and <code>[2]</code>.</li>\n",
       "</ul>\n",
       "<p>Using these rules, you can determine which of the pairs in the example are in the right order:</p>\n",
       "<pre><code>== Pair 1 ==\n",
       "- Compare [1,1,3,1,1] vs [1,1,5,1,1]\n",
       "  - Compare 1 vs 1\n",
       "  - Compare 1 vs 1\n",
       "  - Compare 3 vs 5\n",
       "    - Left side is smaller, so inputs are <em>in the right order</em>\n",
       "\n",
       "== Pair 2 ==\n",
       "- Compare [[1],[2,3,4]] vs [[1],4]\n",
       "  - Compare [1] vs [1]\n",
       "    - Compare 1 vs 1\n",
       "  - Compare [2,3,4] vs 4\n",
       "    - Mixed types; convert right to [4] and retry comparison\n",
       "    - Compare [2,3,4] vs [4]\n",
       "      - Compare 2 vs 4\n",
       "        - Left side is smaller, so inputs are <em>in the right order</em>\n",
       "\n",
       "== Pair 3 ==\n",
       "- Compare [9] vs [[8,7,6]]\n",
       "  - Compare 9 vs [8,7,6]\n",
       "    - Mixed types; convert left to [9] and retry comparison\n",
       "    - Compare [9] vs [8,7,6]\n",
       "      - Compare 9 vs 8\n",
       "        - Right side is smaller, so inputs are <em>not</em> in the right order\n",
       "\n",
       "== Pair 4 ==\n",
       "- Compare [[4,4],4,4] vs [[4,4],4,4,4]\n",
       "  - Compare [4,4] vs [4,4]\n",
       "    - Compare 4 vs 4\n",
       "    - Compare 4 vs 4\n",
       "  - Compare 4 vs 4\n",
       "  - Compare 4 vs 4\n",
       "  - Left side ran out of items, so inputs are <em>in the right order</em>\n",
       "\n",
       "== Pair 5 ==\n",
       "- Compare [7,7,7,7] vs [7,7,7]\n",
       "  - Compare 7 vs 7\n",
       "  - Compare 7 vs 7\n",
       "  - Compare 7 vs 7\n",
       "  - Right side ran out of items, so inputs are <em>not</em> in the right order\n",
       "\n",
       "== Pair 6 ==\n",
       "- Compare [] vs [3]\n",
       "  - Left side ran out of items, so inputs are <em>in the right order</em>\n",
       "\n",
       "== Pair 7 ==\n",
       "- Compare [[[]]] vs [[]]\n",
       "  - Compare [[]] vs []\n",
       "    - Right side ran out of items, so inputs are <em>not</em> in the right order\n",
       "\n",
       "== Pair 8 ==\n",
       "- Compare [1,[2,[3,[4,[5,6,7]]]],8,9] vs [1,[2,[3,[4,[5,6,0]]]],8,9]\n",
       "  - Compare 1 vs 1\n",
       "  - Compare [2,[3,[4,[5,6,7]]]] vs [2,[3,[4,[5,6,0]]]]\n",
       "    - Compare 2 vs 2\n",
       "    - Compare [3,[4,[5,6,7]]] vs [3,[4,[5,6,0]]]\n",
       "      - Compare 3 vs 3\n",
       "      - Compare [4,[5,6,7]] vs [4,[5,6,0]]\n",
       "        - Compare 4 vs 4\n",
       "        - Compare [5,6,7] vs [5,6,0]\n",
       "          - Compare 5 vs 5\n",
       "          - Compare 6 vs 6\n",
       "          - Compare 7 vs 0\n",
       "            - Right side is smaller, so inputs are <em>not</em> in the right order\n",
       "</code></pre>\n",
       "<p>What are the indices of the pairs that are already <em>in the right order</em>? (The first pair has index 1, the second pair has index 2, and so on.) In the above example, the pairs in the right order are 1, 2, 4, and 6; the sum of these indices is <code><em>13</em></code>.</p>\n",
       "<p>Determine which pairs of packets are already in the right order. <em>What is the sum of the indices of those pairs?</em></p>\n"
      ],
      "text/plain": [
       "<IPython.core.display.HTML object>"
      ]
     },
     "execution_count": 3,
     "metadata": {},
     "output_type": "execute_result"
    }
   ],
   "source": [
    "from IPython.display import HTML\n",
    "\n",
    "HTML(downloaded['part1'])"
   ]
  },
  {
   "cell_type": "markdown",
   "metadata": {},
   "source": [
    "## Comments\n",
    "\n",
    "..."
   ]
  },
  {
   "cell_type": "code",
   "execution_count": 4,
   "metadata": {},
   "outputs": [],
   "source": [
    "testdata = \"\"\"[1,1,3,1,1]\n",
    "[1,1,5,1,1]\n",
    "\n",
    "[[1],[2,3,4]]\n",
    "[[1],4]\n",
    "\n",
    "[9]\n",
    "[[8,7,6]]\n",
    "\n",
    "[[4,4],4,4]\n",
    "[[4,4],4,4,4]\n",
    "\n",
    "[7,7,7,7]\n",
    "[7,7,7]\n",
    "\n",
    "[]\n",
    "[3]\n",
    "\n",
    "[[[]]]\n",
    "[[]]\n",
    "\n",
    "[1,[2,[3,[4,[5,6,7]]]],8,9]\n",
    "[1,[2,[3,[4,[5,6,0]]]],8,9]\"\"\".splitlines()\n",
    "\n",
    "inputdata = downloaded['input'].splitlines()\n",
    "# inputdata = open('input.txt', 'r').read().splitlines()"
   ]
  },
  {
   "cell_type": "code",
   "execution_count": 5,
   "metadata": {},
   "outputs": [
    {
     "data": {
      "text/plain": [
       "\"['[[[[8,6,7],9,7,10],[[2,2,4],0,[4,9,10],[4,8,1,1],9],5],[8,8,[5,7],1,3],[],[6,[1,[0,1],[6,10,9]]],[]]', '[[[6,7,0,[0,3,9],8],[9,[],[10,0,5,6,8],[1,8,1],[]],[],[[0,6],5,[5,8,9],1]],[0,[10],[],8,[[5],6,10,10,2]],[[1,6,[6,0,4],[9,8],[5,5]]],[3,1,5,6]]', '', '[[4,[[]]],[],[[1]],[]]', '[[5,[[7,3,2,4]],3,[]],[[[4,5,3],6,10,[5,3,3],5],[[],10,1],3,[9,[8,9,2]]],[1],[3,[[5,3,9,5],[8,6,2,7]],[],2,2]]', '', '[[[2,0,[8],7,[5]]],[],[[[],0,0,[]],[[1,2,10,5],[10],[6],1,1]],[0,[],[],9],[]]', '[[[6,6,[5,5,2],[2],[7,2,10,8]]],[[9,10,[10,0,2,4]],[[4,10,9],[1],4]]]', '', '[[[[],1],5,1],[[0],2,[[]]]]'] ... len(inputdata)=449\""
      ]
     },
     "metadata": {},
     "output_type": "display_data"
    }
   ],
   "source": [
    "from IPython.display import display\n",
    "\n",
    "\n",
    "display(f'{inputdata[:10]} ... {len(inputdata)=}')"
   ]
  },
  {
   "cell_type": "code",
   "execution_count": 6,
   "metadata": {},
   "outputs": [],
   "source": [
    "from typing import List, Union, Tuple\n",
    "\n",
    "IntOrIntList = Union[int, List['IntOrIntList']]\n",
    "IntListPair = Tuple[IntOrIntList, IntOrIntList]"
   ]
  },
  {
   "cell_type": "code",
   "execution_count": 7,
   "metadata": {},
   "outputs": [],
   "source": [
    "def parse_data(data: List[str]) -> List[IntListPair]:\n",
    "    assert (len(data) + 1) % 3 == 0\n",
    "    return [(eval(left), eval(right))\n",
    "            for left, right in zip(data[:-1:3], data[1::3])]"
   ]
  },
  {
   "cell_type": "code",
   "execution_count": 8,
   "metadata": {},
   "outputs": [],
   "source": [
    "def compare(left: IntOrIntList, right: IntOrIntList) -> int:\n",
    "    if isinstance(left, int) and isinstance(right, int):\n",
    "        if left == right:\n",
    "            return 0\n",
    "        elif left < right:\n",
    "            return -1\n",
    "        else:\n",
    "            return 1\n",
    "    elif isinstance(left, int):\n",
    "        left = [left]\n",
    "    elif isinstance(right, int):\n",
    "        right = [right]\n",
    "    assert isinstance(left, list)\n",
    "    assert isinstance(right, list)\n",
    "    for left_item, right_item in zip(left, right):\n",
    "        if (result := compare(left_item, right_item)) != 0:\n",
    "            return result\n",
    "    if len(left) == len(right):\n",
    "        return 0\n",
    "    elif len(left) < len(right):\n",
    "        return -1\n",
    "    else:\n",
    "        return 1"
   ]
  },
  {
   "cell_type": "code",
   "execution_count": 9,
   "metadata": {},
   "outputs": [],
   "source": [
    "def enumerate_sorted_pairs(pairs: List[IntListPair]) \\\n",
    "        -> List[int]:\n",
    "    return [i\n",
    "            for i, pair in enumerate(pairs, start=1)\n",
    "            if compare(pair[0], pair[1]) != 1]"
   ]
  },
  {
   "cell_type": "code",
   "execution_count": 10,
   "metadata": {},
   "outputs": [],
   "source": [
    "assert sum(enumerate_sorted_pairs(parse_data(testdata))) == 13"
   ]
  },
  {
   "cell_type": "code",
   "execution_count": 11,
   "metadata": {},
   "outputs": [
    {
     "data": {
      "text/plain": [
       "6478"
      ]
     },
     "execution_count": 11,
     "metadata": {},
     "output_type": "execute_result"
    }
   ],
   "source": [
    "sum(enumerate_sorted_pairs(parse_data(inputdata)))"
   ]
  },
  {
   "cell_type": "code",
   "execution_count": 12,
   "metadata": {},
   "outputs": [
    {
     "data": {
      "text/html": [
       "\n",
       "<p>Your puzzle answer was <code>6478</code>.</p>"
      ],
      "text/plain": [
       "<IPython.core.display.HTML object>"
      ]
     },
     "execution_count": 12,
     "metadata": {},
     "output_type": "execute_result"
    }
   ],
   "source": [
    "HTML(downloaded['part1_footer'])"
   ]
  },
  {
   "cell_type": "markdown",
   "metadata": {},
   "source": [
    "## Part Two"
   ]
  },
  {
   "cell_type": "code",
   "execution_count": 13,
   "metadata": {},
   "outputs": [
    {
     "data": {
      "text/html": [
       "<h2 id=\"part2\">--- Part Two ---</h2><p>Now, you just need to put <em>all</em> of the packets in the right order. Disregard the blank lines in your list of received packets.</p>\n",
       "<p>The distress signal protocol also requires that you include two additional <em>divider packets</em>:</p>\n",
       "<pre><code>[[2]]\n",
       "[[6]]\n",
       "</code></pre>\n",
       "<p>Using the same rules as before, organize all packets - the ones in your list of received packets as well as the two divider packets - into the correct order.</p>\n",
       "<p>For the example above, the result of putting the packets in the correct order is:</p>\n",
       "<pre><code>[]\n",
       "[[]]\n",
       "[[[]]]\n",
       "[1,1,3,1,1]\n",
       "[1,1,5,1,1]\n",
       "[[1],[2,3,4]]\n",
       "[1,[2,[3,[4,[5,6,0]]]],8,9]\n",
       "[1,[2,[3,[4,[5,6,7]]]],8,9]\n",
       "[[1],4]\n",
       "<em>[[2]]</em>\n",
       "[3]\n",
       "[[4,4],4,4]\n",
       "[[4,4],4,4,4]\n",
       "<em>[[6]]</em>\n",
       "[7,7,7]\n",
       "[7,7,7,7]\n",
       "[[8,7,6]]\n",
       "[9]\n",
       "</code></pre>\n",
       "<p>Afterward, locate the divider packets. To find the <em>decoder key</em> for this distress signal, you need to determine the indices of the two divider packets and multiply them together. (The first packet is at index 1, the second packet is at index 2, and so on.) In this example, the divider packets are <em>10th</em> and <em>14th</em>, and so the decoder key is <code><em>140</em></code>.</p>\n",
       "<p>Organize all of the packets into the correct order. <em>What is the decoder key for the distress signal?</em></p>\n"
      ],
      "text/plain": [
       "<IPython.core.display.HTML object>"
      ]
     },
     "execution_count": 13,
     "metadata": {},
     "output_type": "execute_result"
    }
   ],
   "source": [
    "HTML(downloaded['part2'])"
   ]
  },
  {
   "cell_type": "code",
   "execution_count": 14,
   "metadata": {},
   "outputs": [],
   "source": [
    "from typing import Iterable, TypeVar\n",
    "\n",
    "T = TypeVar('T')\n",
    "\n",
    "\n",
    "def flatten(deep: Iterable[Iterable[T]]) -> List[T]:\n",
    "    return [item for deeper in deep for item in deeper]"
   ]
  },
  {
   "cell_type": "code",
   "execution_count": 15,
   "metadata": {},
   "outputs": [],
   "source": [
    "dividers = flatten(parse_data(['[[2]]', '[[6]]']))"
   ]
  },
  {
   "cell_type": "code",
   "execution_count": 16,
   "metadata": {},
   "outputs": [],
   "source": [
    "U = TypeVar('U')\n",
    "\n",
    "\n",
    "def find_dividers(dividers: List[U], data: Iterable[U]) -> List[int]:\n",
    "    return [i\n",
    "            for i, item in enumerate(data, start=1)\n",
    "            if item in dividers]"
   ]
  },
  {
   "cell_type": "code",
   "execution_count": 17,
   "metadata": {},
   "outputs": [],
   "source": [
    "from functools import cmp_to_key, reduce\n",
    "import operator\n",
    "\n",
    "assert reduce(\n",
    "    operator.mul,\n",
    "    find_dividers(\n",
    "        dividers,\n",
    "        sorted(\n",
    "            flatten(parse_data(testdata)) + dividers,\n",
    "            key=cmp_to_key(compare)))) == 140"
   ]
  },
  {
   "cell_type": "code",
   "execution_count": 18,
   "metadata": {},
   "outputs": [
    {
     "data": {
      "text/plain": [
       "21922"
      ]
     },
     "execution_count": 18,
     "metadata": {},
     "output_type": "execute_result"
    }
   ],
   "source": [
    "reduce(\n",
    "    operator.mul,\n",
    "    find_dividers(\n",
    "        dividers,\n",
    "        sorted(\n",
    "            flatten(parse_data(inputdata)) + dividers,\n",
    "            key=cmp_to_key(compare))))"
   ]
  },
  {
   "cell_type": "code",
   "execution_count": 19,
   "metadata": {},
   "outputs": [
    {
     "data": {
      "text/html": [
       "\n",
       "<p>Your puzzle answer was <code>21922</code>.</p><p class=\"day-success\">Both parts of this puzzle are complete! They provide two gold stars: **</p>\n",
       "<p>At this point, you should <a href=\"/2022\">return to your Advent calendar</a> and try another puzzle.</p>\n",
       "<p>If you still want to see it, you can <a href=\"13/input\" target=\"_blank\">get your puzzle input</a>.</p>\n",
       "<p>You can also <span class=\"share\">[Share<span class=\"share-content\">on\n",
       "  <a href=\"https://twitter.com/intent/tweet?text=I%27ve+completed+%22Distress+Signal%22+%2D+Day+13+%2D+Advent+of+Code+2022&amp;url=https%3A%2F%2Fadventofcode%2Ecom%2F2022%2Fday%2F13&amp;related=ericwastl&amp;hashtags=AdventOfCode\" target=\"_blank\">Twitter</a>\n",
       "  <a href=\"javascript:void(0);\" onclick=\"var mastodon_instance=prompt('Mastodon Instance / Server Name?'); if(typeof mastodon_instance==='string' && mastodon_instance.length){this.href='https://'+mastodon_instance+'/share?text=I%27ve+completed+%22Distress+Signal%22+%2D+Day+13+%2D+Advent+of+Code+2022+%23AdventOfCode+https%3A%2F%2Fadventofcode%2Ecom%2F2022%2Fday%2F13'}else{return false;}\" target=\"_blank\">Mastodon</a\n",
       "></span>]</span> this puzzle.</p>\n"
      ],
      "text/plain": [
       "<IPython.core.display.HTML object>"
      ]
     },
     "execution_count": 19,
     "metadata": {},
     "output_type": "execute_result"
    }
   ],
   "source": [
    "HTML(downloaded['part2_footer'])"
   ]
  }
 ],
 "metadata": {
  "kernelspec": {
   "display_name": "Python 3",
   "language": "python",
   "name": "python3"
  },
  "language_info": {
   "codemirror_mode": {
    "name": "ipython",
    "version": 3
   },
   "file_extension": ".py",
   "mimetype": "text/x-python",
   "name": "python",
   "nbconvert_exporter": "python",
   "pygments_lexer": "ipython3",
   "version": "3.10.6 (main, Nov 14 2022, 16:10:14) [GCC 11.3.0]"
  },
  "vscode": {
   "interpreter": {
    "hash": "e7370f93d1d0cde622a1f8e1c04877d8463912d04d973331ad4851f04de6915a"
   }
  }
 },
 "nbformat": 4,
 "nbformat_minor": 4
}

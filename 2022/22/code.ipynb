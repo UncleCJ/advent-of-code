{
 "cells": [
  {
   "attachments": {},
   "cell_type": "markdown",
   "metadata": {},
   "source": [
    "# Day 22: Monkey Map\n",
    "\n",
    "[*Advent of Code 2022 day 22*](https://adventofcode.com/2022/day/22) and [*solution megathread*](https://redd.it/zsct8w)\n",
    "\n",
    "[![nbviewer](https://raw.githubusercontent.com/jupyter/design/master/logos/Badges/nbviewer_badge.svg)](https://nbviewer.jupyter.org/github/UncleCJ/advent-of-code/blob/cj/2022/22/code.ipynb) [![Binder](https://mybinder.org/badge_logo.svg)](https://mybinder.org/v2/gh/UncleCJ/advent-of-code/cj?filepath=2022%2F22%2Fcode.ipynb)"
   ]
  },
  {
   "cell_type": "code",
   "execution_count": 1,
   "metadata": {},
   "outputs": [
    {
     "name": "stderr",
     "output_type": "stream",
     "text": [
      "Version 1.0.4\n"
     ]
    }
   ],
   "source": [
    "import sys\n",
    "sys.path.append('../../')\n",
    "\n",
    "\n",
    "%load_ext nb_mypy\n",
    "%nb_mypy On"
   ]
  },
  {
   "cell_type": "code",
   "execution_count": 2,
   "metadata": {},
   "outputs": [
    {
     "name": "stdout",
     "output_type": "stream",
     "text": [
      "Writing 'downloaded' (dict) to file 'downloaded'.\n"
     ]
    }
   ],
   "source": [
    "import common\n",
    "\n",
    "\n",
    "downloaded = common.refresh()\n",
    "%store downloaded >downloaded\n",
    "\n",
    "%load_ext pycodestyle_magic\n",
    "%pycodestyle_on"
   ]
  },
  {
   "cell_type": "markdown",
   "metadata": {},
   "source": [
    "## Part One"
   ]
  },
  {
   "cell_type": "code",
   "execution_count": 3,
   "metadata": {},
   "outputs": [
    {
     "data": {
      "text/html": [
       "<h2>--- Day 22: Monkey Map ---</h2><p>The monkeys take you on a surprisingly easy trail through the jungle. They're even going in roughly the right direction according to your handheld device's Grove Positioning System.</p>\n",
       "<p>As you walk, the monkeys explain that the grove is protected by a <em>force field</em>. To pass through the force field, you have to enter a password; doing so involves tracing a specific <em>path</em> on a strangely-shaped board.</p>\n",
       "<p>At least, you're pretty sure that's what you have to do; the elephants aren't exactly fluent in monkey.</p>\n",
       "<p>The monkeys give you notes that they took when they last saw the password entered (your puzzle input).</p>\n",
       "<p>For example:</p>\n",
       "<pre><code>        ...#\n",
       "        .#..\n",
       "        #...\n",
       "        ....\n",
       "...#.......#\n",
       "........#...\n",
       "..#....#....\n",
       "..........#.\n",
       "        ...#....\n",
       "        .....#..\n",
       "        .#......\n",
       "        ......#.\n",
       "\n",
       "10R5L5R10L4R5L5\n",
       "</code></pre>\n",
       "<p>The first half of the monkeys' notes is a <em>map of the board</em>. It is comprised of a set of <em>open tiles</em> (on which you can move, drawn <code>.</code>) and <em>solid walls</em> (tiles which you cannot enter, drawn <code>#</code>).</p>\n",
       "<p>The second half is a description of <em>the path you must follow</em>. It consists of alternating numbers and letters:</p>\n",
       "<ul>\n",
       "<li>A <em>number</em> indicates the <em>number of tiles to move</em> in the direction you are facing. If you run into a wall, you stop moving forward and continue with the next instruction.</li>\n",
       "<li>A <em>letter</em> indicates whether to turn 90 degrees <em>clockwise</em> (<code>R</code>) or <em><span title=\"Or &quot;anticlockwise&quot;, if you're anti-counterclockwise.\">counterclockwise</span></em> (<code>L</code>). Turning happens in-place; it does not change your current tile.</li>\n",
       "</ul>\n",
       "<p>So, a path like <code>10R5</code> means \"go forward 10 tiles, then turn clockwise 90 degrees, then go forward 5 tiles\".</p>\n",
       "<p>You begin the path in the leftmost open tile of the top row of tiles. Initially, you are facing <em>to the right</em> (from the perspective of how the map is drawn).</p>\n",
       "<p>If a movement instruction would take you off of the map, you <em>wrap around</em> to the other side of the board. In other words, if your next tile is off of the board, you should instead look in the direction opposite of your current facing as far as you can until you find the opposite edge of the board, then reappear there.</p>\n",
       "<p>For example, if you are at <code>A</code> and facing to the right, the tile in front of you is marked <code>B</code>; if you are at <code>C</code> and facing down, the tile in front of you is marked <code>D</code>:</p>\n",
       "<pre><code>        ...#\n",
       "        .#..\n",
       "        #...\n",
       "        ....\n",
       "...#.<em>D</em>.....#\n",
       "........#...\n",
       "<em>B</em>.#....#...<em>A</em>\n",
       ".....<em>C</em>....#.\n",
       "        ...#....\n",
       "        .....#..\n",
       "        .#......\n",
       "        ......#.\n",
       "</code></pre>\n",
       "<p>It is possible for the next tile (after wrapping around) to be a <em>wall</em>; this still counts as there being a wall in front of you, and so movement stops before you actually wrap to the other side of the board.</p>\n",
       "<p>By drawing the <em>last facing you had</em> with an arrow on each tile you visit, the full path taken by the above example looks like this:</p>\n",
       "<pre><code>        &gt;&gt;v#    \n",
       "        .#v.    \n",
       "        #.v.    \n",
       "        ..v.    \n",
       "...#...v..v#    \n",
       "&gt;&gt;&gt;v...<em>&gt;</em>#.&gt;&gt;    \n",
       "..#v...#....    \n",
       "...&gt;&gt;&gt;&gt;v..#.    \n",
       "        ...#....\n",
       "        .....#..\n",
       "        .#......\n",
       "        ......#.\n",
       "</code></pre>\n",
       "<p>To finish providing the password to this strange input device, you need to determine numbers for your final <em>row</em>, <em>column</em>, and <em>facing</em> as your final position appears from the perspective of the original map. Rows start from <code>1</code> at the top and count downward; columns start from <code>1</code> at the left and count rightward. (In the above example, row 1, column 1 refers to the empty space with no tile on it in the top-left corner.) Facing is <code>0</code> for right (<code>&gt;</code>), <code>1</code> for down (<code>v</code>), <code>2</code> for left (<code>&lt;</code>), and <code>3</code> for up (<code>^</code>). The <em>final password</em> is the sum of 1000 times the row, 4 times the column, and the facing.</p>\n",
       "<p>In the above example, the final row is <code>6</code>, the final column is <code>8</code>, and the final facing is <code>0</code>. So, the final password is 1000 * 6 + 4 * 8 + 0: <code><em>6032</em></code>.</p>\n",
       "<p>Follow the path given in the monkeys' notes. <em>What is the final password?</em></p>\n"
      ],
      "text/plain": [
       "<IPython.core.display.HTML object>"
      ]
     },
     "execution_count": 3,
     "metadata": {},
     "output_type": "execute_result"
    }
   ],
   "source": [
    "from IPython.display import HTML\n",
    "\n",
    "HTML(downloaded['part1'])"
   ]
  },
  {
   "cell_type": "markdown",
   "metadata": {},
   "source": [
    "## Comments\n",
    "\n",
    "..."
   ]
  },
  {
   "cell_type": "code",
   "execution_count": 4,
   "metadata": {},
   "outputs": [],
   "source": [
    "testdata = \"\"\"        ...#\n",
    "        .#..\n",
    "        #...\n",
    "        ....\n",
    "...#.......#\n",
    "........#...\n",
    "..#....#....\n",
    "..........#.\n",
    "        ...#....\n",
    "        .....#..\n",
    "        .#......\n",
    "        ......#.\n",
    "\n",
    "10R5L5R10L4R5L5\"\"\".splitlines()\n",
    "\n",
    "inputdata = downloaded['input'].splitlines()\n",
    "# inputdata = open('input.txt', 'r').read().splitlines()"
   ]
  },
  {
   "cell_type": "code",
   "execution_count": 5,
   "metadata": {},
   "outputs": [
    {
     "data": {
      "text/plain": [
       "\"['                                                  ........................................#............##.......##......#...........#..........#......', '                                                  ...................#..#.......#..................#......#...................#.....#.......#.....#...', '                                                  #......#................#......................#.......#...............#.......##.#.................', '                                                  .#......#.................#........#..#.................#.....#............##.......................', '                                                  ............#.........#.#......#..............................#..........#......#.........#....#..#.', '                                                  ....#.........#....#..#.............#..........#....#.................#............#................', '                                                  #...#........#....#..#.....#..........................................#......#........#.............', '                                                  ....................#...#.##........#.#.....###........##.......#..#....................#...........', '                                                  #.........................................................#..............#.....#..............#...#.', '                                                  .........##.#...#.................#..............#..........................##.....#................'] ... len(inputdata)=202\""
      ]
     },
     "metadata": {},
     "output_type": "display_data"
    }
   ],
   "source": [
    "from IPython.display import display\n",
    "\n",
    "display(f'{inputdata[:10]} ... {len(inputdata)=}')"
   ]
  },
  {
   "cell_type": "code",
   "execution_count": 6,
   "metadata": {},
   "outputs": [],
   "source": [
    "from typing import List, Tuple, Set\n",
    "import re\n",
    "\n",
    "Instruction = int | str\n",
    "Coord = Tuple[int, int]\n",
    "\n",
    "\n",
    "def parse_data(data: List[str]):\n",
    "    def parse_map(data: List[str]):\n",
    "        walls: Set[Coord] = set()\n",
    "        opentiles: Set[Coord] = set()\n",
    "        for row, line in enumerate(data):\n",
    "            for column, character in enumerate(line):\n",
    "                if character == '.':\n",
    "                    opentiles.add((row, column))\n",
    "                elif character == '#':\n",
    "                    walls.add((row, column))\n",
    "        return walls, opentiles\n",
    "\n",
    "    def parse_instruction(data: str) -> List[Instruction]:\n",
    "        output: List[Instruction] = list()\n",
    "        for match in re.findall(r'(\\d+|[LR])', testdata[-1]):\n",
    "            if match not in 'LR':\n",
    "                output.append(int(match))\n",
    "            else:\n",
    "                output.append(match)\n",
    "        return output\n",
    "\n",
    "    return *parse_map(data[:-2]), parse_instruction(data[-1])"
   ]
  },
  {
   "cell_type": "code",
   "execution_count": 7,
   "metadata": {},
   "outputs": [],
   "source": [
    "walls, opentiles, instructions = parse_data(testdata)"
   ]
  },
  {
   "cell_type": "code",
   "execution_count": 8,
   "metadata": {},
   "outputs": [
    {
     "data": {
      "text/html": [
       "\n",
       "<p>To begin, <a href=\"22/input\" target=\"_blank\">get your puzzle input</a>.</p>\n",
       "<form method=\"post\" action=\"22/answer\"><input type=\"hidden\" name=\"level\" value=\"1\"/><p>Answer: <input type=\"text\" name=\"answer\" autocomplete=\"off\"/> <input type=\"submit\" value=\"[Submit]\"/></p></form>\n",
       "<p>You can also <span class=\"share\">[Share<span class=\"share-content\">on\n",
       "  <a href=\"https://twitter.com/intent/tweet?text=%22Monkey+Map%22+%2D+Day+22+%2D+Advent+of+Code+2022&amp;url=https%3A%2F%2Fadventofcode%2Ecom%2F2022%2Fday%2F22&amp;related=ericwastl&amp;hashtags=AdventOfCode\" target=\"_blank\">Twitter</a>\n",
       "  <a href=\"javascript:void(0);\" onclick=\"var mastodon_instance=prompt('Mastodon Instance / Server Name?'); if(typeof mastodon_instance==='string' && mastodon_instance.length){this.href='https://'+mastodon_instance+'/share?text=%22Monkey+Map%22+%2D+Day+22+%2D+Advent+of+Code+2022+%23AdventOfCode+https%3A%2F%2Fadventofcode%2Ecom%2F2022%2Fday%2F22'}else{return false;}\" target=\"_blank\">Mastodon</a\n",
       "></span>]</span> this puzzle.</p>\n"
      ],
      "text/plain": [
       "<IPython.core.display.HTML object>"
      ]
     },
     "execution_count": 8,
     "metadata": {},
     "output_type": "execute_result"
    }
   ],
   "source": [
    "HTML(downloaded['part1_footer'])"
   ]
  },
  {
   "cell_type": "markdown",
   "metadata": {},
   "source": [
    "## Part Two"
   ]
  },
  {
   "cell_type": "code",
   "execution_count": 9,
   "metadata": {},
   "outputs": [],
   "source": [
    "# HTML(downloaded['part2'])"
   ]
  },
  {
   "cell_type": "code",
   "execution_count": 10,
   "metadata": {},
   "outputs": [],
   "source": [
    "# HTML(downloaded['part2_footer'])"
   ]
  }
 ],
 "metadata": {
  "kernelspec": {
   "display_name": "Python 3.10.8 ('venv': venv)",
   "language": "python",
   "name": "python3"
  },
  "language_info": {
   "codemirror_mode": {
    "name": "ipython",
    "version": 3
   },
   "file_extension": ".py",
   "mimetype": "text/x-python",
   "name": "python",
   "nbconvert_exporter": "python",
   "pygments_lexer": "ipython3",
   "version": "3.11.2"
  },
  "vscode": {
   "interpreter": {
    "hash": "953efd6badefc8bd539414deffff5d1ee9e359bc7a1650a157b4fbde293a1337"
   }
  }
 },
 "nbformat": 4,
 "nbformat_minor": 4
}

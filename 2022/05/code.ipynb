{
 "cells": [
  {
   "cell_type": "markdown",
   "metadata": {},
   "source": [
    "# Day 5: Supply Stacks\n",
    "\n",
    "[*Advent of Code 2022 day 5*](https://adventofcode.com/2022/day/5) and [*solution megathread*](https://www.reddit.com/...)\n",
    "\n",
    "[![nbviewer](https://raw.githubusercontent.com/jupyter/design/master/logos/Badges/nbviewer_badge.svg)](https://nbviewer.jupyter.org/github/UncleCJ/advent-of-code/blob/cj/2022/05/code.ipynb) [![Binder](https://mybinder.org/badge_logo.svg)](https://mybinder.org/v2/gh/UncleCJ/advent-of-code/cj?filepath=2022%2F05%2Fcode.ipynb)"
   ]
  },
  {
   "cell_type": "code",
   "execution_count": 1,
   "metadata": {},
   "outputs": [
    {
     "name": "stderr",
     "output_type": "stream",
     "text": [
      "Version 1.0.4\n"
     ]
    }
   ],
   "source": [
    "from IPython.display import HTML\n",
    "import sys\n",
    "sys.path.append('../../')\n",
    "\n",
    "\n",
    "%load_ext nb_mypy\n",
    "%nb_mypy On"
   ]
  },
  {
   "cell_type": "code",
   "execution_count": 2,
   "metadata": {},
   "outputs": [
    {
     "name": "stdout",
     "output_type": "stream",
     "text": [
      "Writing 'downloaded' (dict) to file 'downloaded'.\n"
     ]
    }
   ],
   "source": [
    "import common\n",
    "\n",
    "\n",
    "downloaded = common.refresh()\n",
    "%store downloaded >downloaded\n",
    "\n",
    "%load_ext pycodestyle_magic\n",
    "%pycodestyle_on"
   ]
  },
  {
   "cell_type": "markdown",
   "metadata": {},
   "source": [
    "## Part One"
   ]
  },
  {
   "cell_type": "code",
   "execution_count": 3,
   "metadata": {},
   "outputs": [
    {
     "data": {
      "text/html": [
       "<h2>--- Day 5: Supply Stacks ---</h2><p>The expedition can depart as soon as the final supplies have been unloaded from the ships. Supplies are stored in stacks of marked <em>crates</em>, but because the needed supplies are buried under many other crates, the crates need to be rearranged.</p>\n",
       "<p>The ship has a <em>giant cargo crane</em> capable of moving crates between stacks. To ensure none of the crates get crushed or fall over, the crane operator will rearrange them in a series of carefully-planned steps. After the crates are rearranged, the desired crates will be at the top of each stack.</p>\n",
       "<p>The Elves don't want to interrupt the crane operator during this delicate procedure, but they forgot to ask her <em>which</em> crate will end up where, and they want to be ready to unload them as soon as possible so they can embark.</p>\n",
       "<p>They do, however, have a drawing of the starting stacks of crates <em>and</em> the rearrangement procedure (your puzzle input). For example:</p>\n",
       "<pre><code>    [D]    \n",
       "[N] [C]    \n",
       "[Z] [M] [P]\n",
       " 1   2   3 \n",
       "\n",
       "move 1 from 2 to 1\n",
       "move 3 from 1 to 3\n",
       "move 2 from 2 to 1\n",
       "move 1 from 1 to 2\n",
       "</code></pre>\n",
       "<p>In this example, there are three stacks of crates. Stack 1 contains two crates: crate <code>Z</code> is on the bottom, and crate <code>N</code> is on top. Stack 2 contains three crates; from bottom to top, they are crates <code>M</code>, <code>C</code>, and <code>D</code>. Finally, stack 3 contains a single crate, <code>P</code>.</p>\n",
       "<p>Then, the rearrangement procedure is given. In each step of the procedure, a quantity of crates is moved from one stack to a different stack. In the first step of the above rearrangement procedure, one crate is moved from stack 2 to stack 1, resulting in this configuration:</p>\n",
       "<pre><code>[D]        \n",
       "[N] [C]    \n",
       "[Z] [M] [P]\n",
       " 1   2   3 \n",
       "</code></pre>\n",
       "<p>In the second step, three crates are moved from stack 1 to stack 3. Crates are moved <em>one at a time</em>, so the first crate to be moved (<code>D</code>) ends up below the second and third crates:</p>\n",
       "<pre><code>        [Z]\n",
       "        [N]\n",
       "    [C] [D]\n",
       "    [M] [P]\n",
       " 1   2   3\n",
       "</code></pre>\n",
       "<p>Then, both crates are moved from stack 2 to stack 1. Again, because crates are moved <em>one at a time</em>, crate <code>C</code> ends up below crate <code>M</code>:</p>\n",
       "<pre><code>        [Z]\n",
       "        [N]\n",
       "[M]     [D]\n",
       "[C]     [P]\n",
       " 1   2   3\n",
       "</code></pre>\n",
       "<p>Finally, one crate is moved from stack 1 to stack 2:</p>\n",
       "<pre><code>        [<em>Z</em>]\n",
       "        [N]\n",
       "        [D]\n",
       "[<em>C</em>] [<em>M</em>] [P]\n",
       " 1   2   3\n",
       "</code></pre>\n",
       "<p>The Elves just need to know <em>which crate will end up on top of each stack</em>; in this example, the top crates are <code>C</code> in stack 1, <code>M</code> in stack 2, and <code>Z</code> in stack 3, so you should combine these together and give the Elves the message <code><em>CMZ</em></code>.</p>\n",
       "<p><em>After the rearrangement procedure completes, what crate ends up on top of each stack?</em></p>\n"
      ],
      "text/plain": [
       "<IPython.core.display.HTML object>"
      ]
     },
     "execution_count": 3,
     "metadata": {},
     "output_type": "execute_result"
    }
   ],
   "source": [
    "from IPython.display import HTML\n",
    "\n",
    "HTML(downloaded['part1'])"
   ]
  },
  {
   "cell_type": "markdown",
   "metadata": {},
   "source": [
    "## Comments\n",
    "\n",
    "..."
   ]
  },
  {
   "cell_type": "code",
   "execution_count": 4,
   "metadata": {},
   "outputs": [],
   "source": [
    "from IPython.display import display\n",
    "\n",
    "%pycodestyle_off\n",
    "testdata = \"\"\"    [D]    \n",
    "[N] [C]    \n",
    "[Z] [M] [P]\n",
    " 1   2   3 \n",
    "\n",
    "move 1 from 2 to 1\n",
    "move 3 from 1 to 3\n",
    "move 2 from 2 to 1\n",
    "move 1 from 1 to 2\"\"\".splitlines()\n",
    "%pycodestyle_on\n",
    "\n",
    "inputdata = downloaded['input'].splitlines()"
   ]
  },
  {
   "cell_type": "code",
   "execution_count": 5,
   "metadata": {},
   "outputs": [
    {
     "data": {
      "text/plain": [
       "'35 8'"
      ]
     },
     "metadata": {},
     "output_type": "display_data"
    },
    {
     "data": {
      "text/plain": [
       "'M'"
      ]
     },
     "metadata": {},
     "output_type": "display_data"
    },
    {
     "data": {
      "text/plain": [
       "['            [L] [M]         [M]    ',\n",
       " '        [D] [R] [Z]         [C] [L]',\n",
       " '        [C] [S] [T] [G]     [V] [M]',\n",
       " '[R]     [L] [Q] [B] [B]     [D] [F]',\n",
       " '[H] [B] [G] [D] [Q] [Z]     [T] [J]',\n",
       " '[M] [J] [H] [M] [P] [S] [V] [L] [N]',\n",
       " '[P] [C] [N] [T] [S] [F] [R] [G] [Q]',\n",
       " '[Z] [P] [S] [F] [F] [T] [N] [P] [W]',\n",
       " ' 1   2   3   4   5   6   7   8   9 ',\n",
       " '',\n",
       " 'move 7 from 3 to 9',\n",
       " 'move 5 from 8 to 9',\n",
       " 'move 3 from 9 to 5',\n",
       " 'move 6 from 9 to 2',\n",
       " 'move 9 from 9 to 3']"
      ]
     },
     "metadata": {},
     "output_type": "display_data"
    }
   ],
   "source": [
    "display(f'{len(inputdata[0])} {(len(inputdata[0])-3)//4}')\n",
    "display(inputdata[0][1+4*4])\n",
    "display(inputdata[:15])"
   ]
  },
  {
   "cell_type": "code",
   "execution_count": 6,
   "metadata": {},
   "outputs": [],
   "source": [
    "from typing import List, Tuple\n",
    "\n",
    "\n",
    "def parse_data(data: List[str]) -> Tuple[\n",
    "        List[List[str]],\n",
    "        List[Tuple[int, int, int]]]:\n",
    "    count = (len(data[0]) - 3)//4 + 1\n",
    "    stacks: List[List[str]] = [list() for _ in range(count)]\n",
    "    moves: List[Tuple[int, int, int]] = list()\n",
    "    data_iter = iter(data)\n",
    "    for line in data_iter:\n",
    "        if line[1] == '1':\n",
    "            break\n",
    "        for s in range(count):\n",
    "            if line[1+4*s] == ' ':\n",
    "                continue\n",
    "            stacks[s].append(line[1+4*s])\n",
    "    for s in range(count):\n",
    "        stacks[s].reverse()\n",
    "    _ = next(data_iter)\n",
    "    for line in data_iter:\n",
    "        _, m_count, _, m_from, _, m_to = line.split(' ', 5)\n",
    "        moves.append((int(m_count), int(m_from), int(m_to)))\n",
    "    return stacks, moves"
   ]
  },
  {
   "cell_type": "code",
   "execution_count": 7,
   "metadata": {},
   "outputs": [],
   "source": [
    "def do_move_single(stacks: List[List[str]],\n",
    "                   m_count: int,\n",
    "                   m_from: int,\n",
    "                   m_to: int) -> \\\n",
    "        None:\n",
    "    for _ in range(m_count):\n",
    "        stacks[m_to - 1].append(\n",
    "            stacks[m_from - 1].pop()\n",
    "        )\n",
    "\n",
    "\n",
    "def do_stack_move(stacks: List[List[str]],\n",
    "                  m_count: int,\n",
    "                  m_from: int,\n",
    "                  m_to: int) -> \\\n",
    "        None:\n",
    "    for i in range(m_count, 0, -1):\n",
    "        stacks[m_to - 1].append(\n",
    "            stacks[m_from - 1].pop(-i)\n",
    "        )\n",
    "\n",
    "\n",
    "def do_moves(stacks: List[List[str]],\n",
    "             moves: List[Tuple[int, int, int]],\n",
    "             part2: bool = False) -> \\\n",
    "        None:\n",
    "    for m in moves:\n",
    "        if not part2:\n",
    "            do_move_single(stacks, *m)\n",
    "        else:\n",
    "            do_stack_move(stacks, *m)"
   ]
  },
  {
   "cell_type": "code",
   "execution_count": 8,
   "metadata": {},
   "outputs": [
    {
     "data": {
      "text/plain": [
       "'CMZ'"
      ]
     },
     "execution_count": 8,
     "metadata": {},
     "output_type": "execute_result"
    }
   ],
   "source": [
    "stacks, moves = parse_data(testdata)\n",
    "do_moves(stacks, moves, False)\n",
    "''.join(s[-1] for s in stacks if s)"
   ]
  },
  {
   "cell_type": "code",
   "execution_count": 9,
   "metadata": {},
   "outputs": [
    {
     "data": {
      "text/plain": [
       "'VQZNJMWTR'"
      ]
     },
     "execution_count": 9,
     "metadata": {},
     "output_type": "execute_result"
    }
   ],
   "source": [
    "stacks, moves = parse_data(inputdata)\n",
    "do_moves(stacks, moves, False)\n",
    "''.join(s[-1] for s in stacks if s)"
   ]
  },
  {
   "cell_type": "code",
   "execution_count": 10,
   "metadata": {},
   "outputs": [
    {
     "data": {
      "text/html": [
       "\n",
       "<p>Your puzzle answer was <code>VQZNJMWTR</code>.</p>"
      ],
      "text/plain": [
       "<IPython.core.display.HTML object>"
      ]
     },
     "execution_count": 10,
     "metadata": {},
     "output_type": "execute_result"
    }
   ],
   "source": [
    "HTML(downloaded['part1_footer'])"
   ]
  },
  {
   "cell_type": "markdown",
   "metadata": {},
   "source": [
    "## Part Two"
   ]
  },
  {
   "cell_type": "code",
   "execution_count": 11,
   "metadata": {},
   "outputs": [
    {
     "data": {
      "text/html": [
       "<h2 id=\"part2\">--- Part Two ---</h2><p>As you watch the crane operator expertly rearrange the crates, you notice the process isn't following your prediction.</p>\n",
       "<p>Some mud was covering the writing on the side of the crane, and you quickly wipe it away. The crane isn't a CrateMover 9000 - it's a <em><span title=\"It's way better than the old CrateMover 1006.\">CrateMover 9001</span></em>.</p>\n",
       "<p>The CrateMover 9001 is notable for many new and exciting features: air conditioning, leather seats, an extra cup holder, and <em>the ability to pick up and move multiple crates at once</em>.</p>\n",
       "<p>Again considering the example above, the crates begin in the same configuration:</p>\n",
       "<pre><code>    [D]    \n",
       "[N] [C]    \n",
       "[Z] [M] [P]\n",
       " 1   2   3 \n",
       "</code></pre>\n",
       "<p>Moving a single crate from stack 2 to stack 1 behaves the same as before:</p>\n",
       "<pre><code>[D]        \n",
       "[N] [C]    \n",
       "[Z] [M] [P]\n",
       " 1   2   3 \n",
       "</code></pre>\n",
       "<p>However, the action of moving three crates from stack 1 to stack 3 means that those three moved crates <em>stay in the same order</em>, resulting in this new configuration:</p>\n",
       "<pre><code>        [D]\n",
       "        [N]\n",
       "    [C] [Z]\n",
       "    [M] [P]\n",
       " 1   2   3\n",
       "</code></pre>\n",
       "<p>Next, as both crates are moved from stack 2 to stack 1, they <em>retain their order</em> as well:</p>\n",
       "<pre><code>        [D]\n",
       "        [N]\n",
       "[C]     [Z]\n",
       "[M]     [P]\n",
       " 1   2   3\n",
       "</code></pre>\n",
       "<p>Finally, a single crate is still moved from stack 1 to stack 2, but now it's crate <code>C</code> that gets moved:</p>\n",
       "<pre><code>        [<em>D</em>]\n",
       "        [N]\n",
       "        [Z]\n",
       "[<em>M</em>] [<em>C</em>] [P]\n",
       " 1   2   3\n",
       "</code></pre>\n",
       "<p>In this example, the CrateMover 9001 has put the crates in a totally different order: <code><em>MCD</em></code>.</p>\n",
       "<p>Before the rearrangement process finishes, update your simulation so that the Elves know where they should stand to be ready to unload the final supplies. <em>After the rearrangement procedure completes, what crate ends up on top of each stack?</em></p>\n"
      ],
      "text/plain": [
       "<IPython.core.display.HTML object>"
      ]
     },
     "execution_count": 11,
     "metadata": {},
     "output_type": "execute_result"
    }
   ],
   "source": [
    "HTML(downloaded['part2'])"
   ]
  },
  {
   "cell_type": "code",
   "execution_count": 12,
   "metadata": {},
   "outputs": [
    {
     "data": {
      "text/plain": [
       "'MCD'"
      ]
     },
     "execution_count": 12,
     "metadata": {},
     "output_type": "execute_result"
    }
   ],
   "source": [
    "stacks, moves = parse_data(testdata)\n",
    "do_moves(stacks, moves, True)\n",
    "''.join(s[-1] for s in stacks if s)"
   ]
  },
  {
   "cell_type": "code",
   "execution_count": 13,
   "metadata": {},
   "outputs": [
    {
     "data": {
      "text/plain": [
       "'NLCDCLVMQ'"
      ]
     },
     "execution_count": 13,
     "metadata": {},
     "output_type": "execute_result"
    }
   ],
   "source": [
    "stacks, moves = parse_data(inputdata)\n",
    "do_moves(stacks, moves, True)\n",
    "''.join(s[-1] for s in stacks if s)"
   ]
  },
  {
   "cell_type": "code",
   "execution_count": 14,
   "metadata": {},
   "outputs": [
    {
     "data": {
      "text/html": [
       "\n",
       "<p>Your puzzle answer was <code>NLCDCLVMQ</code>.</p><p class=\"day-success\">Both parts of this puzzle are complete! They provide two gold stars: **</p>\n",
       "<p>At this point, you should <a href=\"/2022\">return to your Advent calendar</a> and try another puzzle.</p>\n",
       "<p>If you still want to see it, you can <a href=\"5/input\" target=\"_blank\">get your puzzle input</a>.</p>\n",
       "<p>You can also <span class=\"share\">[Share<span class=\"share-content\">on\n",
       "  <a href=\"https://twitter.com/intent/tweet?text=I%27ve+completed+%22Supply+Stacks%22+%2D+Day+5+%2D+Advent+of+Code+2022&amp;url=https%3A%2F%2Fadventofcode%2Ecom%2F2022%2Fday%2F5&amp;related=ericwastl&amp;hashtags=AdventOfCode\" target=\"_blank\">Twitter</a>\n",
       "  <a href=\"javascript:void(0);\" onclick=\"var mastodon_instance=prompt('Mastodon Instance / Server Name?'); if(typeof mastodon_instance==='string' && mastodon_instance.length){this.href='https://'+mastodon_instance+'/share?text=I%27ve+completed+%22Supply+Stacks%22+%2D+Day+5+%2D+Advent+of+Code+2022+%23AdventOfCode+https%3A%2F%2Fadventofcode%2Ecom%2F2022%2Fday%2F5'}else{return false;}\" target=\"_blank\">Mastodon</a\n",
       "></span>]</span> this puzzle.</p>\n"
      ],
      "text/plain": [
       "<IPython.core.display.HTML object>"
      ]
     },
     "execution_count": 14,
     "metadata": {},
     "output_type": "execute_result"
    }
   ],
   "source": [
    "HTML(downloaded['part2_footer'])"
   ]
  }
 ],
 "metadata": {
  "kernelspec": {
   "display_name": "Python 3.10.6 ('venv': venv)",
   "language": "python",
   "name": "python3"
  },
  "language_info": {
   "codemirror_mode": {
    "name": "ipython",
    "version": 3
   },
   "file_extension": ".py",
   "mimetype": "text/x-python",
   "name": "python",
   "nbconvert_exporter": "python",
   "pygments_lexer": "ipython3",
   "version": "3.10.6"
  },
  "vscode": {
   "interpreter": {
    "hash": "1bc2c3908c007cf9ce21a098f93b8bf6135208cc693d7eb2db76831745e909df"
   }
  }
 },
 "nbformat": 4,
 "nbformat_minor": 4
}

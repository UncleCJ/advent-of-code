{
 "cells": [
  {
   "attachments": {},
   "cell_type": "markdown",
   "metadata": {},
   "source": [
    "# Day 11: Monkey in the Middle\n",
    "\n",
    "[*Advent of Code 2022 day 11*](https://adventofcode.com/2022/day/11) and [*solution megathread*](https://redd.it/...)\n",
    "\n",
    "[![nbviewer](https://raw.githubusercontent.com/jupyter/design/master/logos/Badges/nbviewer_badge.svg)](https://nbviewer.jupyter.org/github/UncleCJ/advent-of-code/blob/cj/2022/11/code.ipynb) [![Binder](https://mybinder.org/badge_logo.svg)](https://mybinder.org/v2/gh/UncleCJ/advent-of-code/cj?filepath=2022%2F11%2Fcode.ipynb)"
   ]
  },
  {
   "cell_type": "code",
   "execution_count": 1,
   "metadata": {},
   "outputs": [
    {
     "name": "stderr",
     "output_type": "stream",
     "text": [
      "Version 1.0.4\n"
     ]
    }
   ],
   "source": [
    "from IPython.display import HTML\n",
    "import sys\n",
    "sys.path.append('../../')\n",
    "\n",
    "\n",
    "%load_ext nb_mypy\n",
    "%nb_mypy On"
   ]
  },
  {
   "cell_type": "code",
   "execution_count": 2,
   "metadata": {},
   "outputs": [
    {
     "name": "stdout",
     "output_type": "stream",
     "text": [
      "Writing 'downloaded' (dict) to file 'downloaded'.\n"
     ]
    }
   ],
   "source": [
    "import common\n",
    "\n",
    "\n",
    "downloaded = common.refresh()\n",
    "%store downloaded >downloaded\n",
    "\n",
    "%load_ext pycodestyle_magic\n",
    "%pycodestyle_on"
   ]
  },
  {
   "cell_type": "markdown",
   "metadata": {},
   "source": [
    "## Part One"
   ]
  },
  {
   "cell_type": "code",
   "execution_count": 3,
   "metadata": {},
   "outputs": [
    {
     "data": {
      "text/html": [
       "<h2>--- Day 11: Monkey in the Middle ---</h2><p>As you finally start making your way upriver, you realize your pack is much lighter than you remember. Just then, one of the items from your pack goes flying overhead. Monkeys are playing <a href=\"https://en.wikipedia.org/wiki/Keep_away\" target=\"_blank\">Keep Away</a> with your missing things!</p>\n",
       "<p>To get your stuff back, you need to be able to predict where the monkeys will throw your items. After some careful observation, you realize the monkeys operate based on <em>how worried you are about each item</em>.</p>\n",
       "<p>You take some notes (your puzzle input) on the items each monkey currently has, how worried you are about those items, and how the monkey makes decisions based on your worry level. For example:</p>\n",
       "<pre><code>Monkey 0:\n",
       "  Starting items: 79, 98\n",
       "  Operation: new = old * 19\n",
       "  Test: divisible by 23\n",
       "    If true: throw to monkey 2\n",
       "    If false: throw to monkey 3\n",
       "\n",
       "Monkey 1:\n",
       "  Starting items: 54, 65, 75, 74\n",
       "  Operation: new = old + 6\n",
       "  Test: divisible by 19\n",
       "    If true: throw to monkey 2\n",
       "    If false: throw to monkey 0\n",
       "\n",
       "Monkey 2:\n",
       "  Starting items: 79, 60, 97\n",
       "  Operation: new = old * old\n",
       "  Test: divisible by 13\n",
       "    If true: throw to monkey 1\n",
       "    If false: throw to monkey 3\n",
       "\n",
       "Monkey 3:\n",
       "  Starting items: 74\n",
       "  Operation: new = old + 3\n",
       "  Test: divisible by 17\n",
       "    If true: throw to monkey 0\n",
       "    If false: throw to monkey 1\n",
       "</code></pre>\n",
       "<p>Each monkey has several attributes:</p>\n",
       "<ul>\n",
       "<li><code>Starting items</code> lists your <em>worry level</em> for each item the monkey is currently holding in the order they will be inspected.</li>\n",
       "<li><code>Operation</code> shows how your worry level changes as that monkey inspects an item. (An operation like <code>new = old * 5</code> means that your worry level after the monkey inspected the item is five times whatever your worry level was before inspection.)</li>\n",
       "<li><code>Test</code> shows how the monkey uses your worry level to decide where to throw an item next.\n",
       "  <ul>\n",
       "  <li><code>If true</code> shows what happens with an item if the <code>Test</code> was true.</li>\n",
       "  <li><code>If false</code> shows what happens with an item if the <code>Test</code> was false.</li>\n",
       "  </ul>\n",
       "</li>\n",
       "</ul>\n",
       "<p>After each monkey inspects an item but before it tests your worry level, your relief that the monkey's inspection didn't damage the item causes your worry level to be <em>divided by three</em> and rounded down to the nearest integer.</p>\n",
       "<p>The monkeys take turns inspecting and throwing items. On a single monkey's <em>turn</em>, it inspects and throws all of the items it is holding one at a time and in the order listed. Monkey <code>0</code> goes first, then monkey <code>1</code>, and so on until each monkey has had one turn. The process of each monkey taking a single turn is called a <em>round</em>.</p>\n",
       "<p>When a monkey throws an item to another monkey, the item goes on the <em>end</em> of the recipient monkey's list. A monkey that starts a round with no items could end up inspecting and throwing many items by the time its turn comes around. If a monkey is holding no items at the start of its turn, its turn ends.</p>\n",
       "<p>In the above example, the first round proceeds as follows:</p>\n",
       "<pre><code>Monkey 0:\n",
       "  Monkey inspects an item with a worry level of 79.\n",
       "    Worry level is multiplied by 19 to 1501.\n",
       "    Monkey gets bored with item. Worry level is divided by 3 to 500.\n",
       "    Current worry level is not divisible by 23.\n",
       "    Item with worry level 500 is thrown to monkey 3.\n",
       "  Monkey inspects an item with a worry level of 98.\n",
       "    Worry level is multiplied by 19 to 1862.\n",
       "    Monkey gets bored with item. Worry level is divided by 3 to 620.\n",
       "    Current worry level is not divisible by 23.\n",
       "    Item with worry level 620 is thrown to monkey 3.\n",
       "Monkey 1:\n",
       "  Monkey inspects an item with a worry level of 54.\n",
       "    Worry level increases by 6 to 60.\n",
       "    Monkey gets bored with item. Worry level is divided by 3 to 20.\n",
       "    Current worry level is not divisible by 19.\n",
       "    Item with worry level 20 is thrown to monkey 0.\n",
       "  Monkey inspects an item with a worry level of 65.\n",
       "    Worry level increases by 6 to 71.\n",
       "    Monkey gets bored with item. Worry level is divided by 3 to 23.\n",
       "    Current worry level is not divisible by 19.\n",
       "    Item with worry level 23 is thrown to monkey 0.\n",
       "  Monkey inspects an item with a worry level of 75.\n",
       "    Worry level increases by 6 to 81.\n",
       "    Monkey gets bored with item. Worry level is divided by 3 to 27.\n",
       "    Current worry level is not divisible by 19.\n",
       "    Item with worry level 27 is thrown to monkey 0.\n",
       "  Monkey inspects an item with a worry level of 74.\n",
       "    Worry level increases by 6 to 80.\n",
       "    Monkey gets bored with item. Worry level is divided by 3 to 26.\n",
       "    Current worry level is not divisible by 19.\n",
       "    Item with worry level 26 is thrown to monkey 0.\n",
       "Monkey 2:\n",
       "  Monkey inspects an item with a worry level of 79.\n",
       "    Worry level is multiplied by itself to 6241.\n",
       "    Monkey gets bored with item. Worry level is divided by 3 to 2080.\n",
       "    Current worry level is divisible by 13.\n",
       "    Item with worry level 2080 is thrown to monkey 1.\n",
       "  Monkey inspects an item with a worry level of 60.\n",
       "    Worry level is multiplied by itself to 3600.\n",
       "    Monkey gets bored with item. Worry level is divided by 3 to 1200.\n",
       "    Current worry level is not divisible by 13.\n",
       "    Item with worry level 1200 is thrown to monkey 3.\n",
       "  Monkey inspects an item with a worry level of 97.\n",
       "    Worry level is multiplied by itself to 9409.\n",
       "    Monkey gets bored with item. Worry level is divided by 3 to 3136.\n",
       "    Current worry level is not divisible by 13.\n",
       "    Item with worry level 3136 is thrown to monkey 3.\n",
       "Monkey 3:\n",
       "  Monkey inspects an item with a worry level of 74.\n",
       "    Worry level increases by 3 to 77.\n",
       "    Monkey gets bored with item. Worry level is divided by 3 to 25.\n",
       "    Current worry level is not divisible by 17.\n",
       "    Item with worry level 25 is thrown to monkey 1.\n",
       "  Monkey inspects an item with a worry level of 500.\n",
       "    Worry level increases by 3 to 503.\n",
       "    Monkey gets bored with item. Worry level is divided by 3 to 167.\n",
       "    Current worry level is not divisible by 17.\n",
       "    Item with worry level 167 is thrown to monkey 1.\n",
       "  Monkey inspects an item with a worry level of 620.\n",
       "    Worry level increases by 3 to 623.\n",
       "    Monkey gets bored with item. Worry level is divided by 3 to 207.\n",
       "    Current worry level is not divisible by 17.\n",
       "    Item with worry level 207 is thrown to monkey 1.\n",
       "  Monkey inspects an item with a worry level of 1200.\n",
       "    Worry level increases by 3 to 1203.\n",
       "    Monkey gets bored with item. Worry level is divided by 3 to 401.\n",
       "    Current worry level is not divisible by 17.\n",
       "    Item with worry level 401 is thrown to monkey 1.\n",
       "  Monkey inspects an item with a worry level of 3136.\n",
       "    Worry level increases by 3 to 3139.\n",
       "    Monkey gets bored with item. Worry level is divided by 3 to 1046.\n",
       "    Current worry level is not divisible by 17.\n",
       "    Item with worry level 1046 is thrown to monkey 1.\n",
       "</code></pre>\n",
       "<p>After round 1, the monkeys are holding items with these worry levels:</p>\n",
       "<pre><code>Monkey 0: 20, 23, 27, 26\n",
       "Monkey 1: 2080, 25, 167, 207, 401, 1046\n",
       "Monkey 2: \n",
       "Monkey 3: \n",
       "</code></pre>\n",
       "<p>Monkeys 2 and 3 aren't holding any items at the end of the round; they both inspected items during the round and threw them all before the round ended.</p>\n",
       "<p>This process continues for a few more rounds:</p>\n",
       "<pre><code>After round 2, the monkeys are holding items with these worry levels:\n",
       "Monkey 0: 695, 10, 71, 135, 350\n",
       "Monkey 1: 43, 49, 58, 55, 362\n",
       "Monkey 2: \n",
       "Monkey 3: \n",
       "\n",
       "After round 3, the monkeys are holding items with these worry levels:\n",
       "Monkey 0: 16, 18, 21, 20, 122\n",
       "Monkey 1: 1468, 22, 150, 286, 739\n",
       "Monkey 2: \n",
       "Monkey 3: \n",
       "\n",
       "After round 4, the monkeys are holding items with these worry levels:\n",
       "Monkey 0: 491, 9, 52, 97, 248, 34\n",
       "Monkey 1: 39, 45, 43, 258\n",
       "Monkey 2: \n",
       "Monkey 3: \n",
       "\n",
       "After round 5, the monkeys are holding items with these worry levels:\n",
       "Monkey 0: 15, 17, 16, 88, 1037\n",
       "Monkey 1: 20, 110, 205, 524, 72\n",
       "Monkey 2: \n",
       "Monkey 3: \n",
       "\n",
       "After round 6, the monkeys are holding items with these worry levels:\n",
       "Monkey 0: 8, 70, 176, 26, 34\n",
       "Monkey 1: 481, 32, 36, 186, 2190\n",
       "Monkey 2: \n",
       "Monkey 3: \n",
       "\n",
       "After round 7, the monkeys are holding items with these worry levels:\n",
       "Monkey 0: 162, 12, 14, 64, 732, 17\n",
       "Monkey 1: 148, 372, 55, 72\n",
       "Monkey 2: \n",
       "Monkey 3: \n",
       "\n",
       "After round 8, the monkeys are holding items with these worry levels:\n",
       "Monkey 0: 51, 126, 20, 26, 136\n",
       "Monkey 1: 343, 26, 30, 1546, 36\n",
       "Monkey 2: \n",
       "Monkey 3: \n",
       "\n",
       "After round 9, the monkeys are holding items with these worry levels:\n",
       "Monkey 0: 116, 10, 12, 517, 14\n",
       "Monkey 1: 108, 267, 43, 55, 288\n",
       "Monkey 2: \n",
       "Monkey 3: \n",
       "\n",
       "After round 10, the monkeys are holding items with these worry levels:\n",
       "Monkey 0: 91, 16, 20, 98\n",
       "Monkey 1: 481, 245, 22, 26, 1092, 30\n",
       "Monkey 2: \n",
       "Monkey 3: \n",
       "\n",
       "...\n",
       "\n",
       "After round 15, the monkeys are holding items with these worry levels:\n",
       "Monkey 0: 83, 44, 8, 184, 9, 20, 26, 102\n",
       "Monkey 1: 110, 36\n",
       "Monkey 2: \n",
       "Monkey 3: \n",
       "\n",
       "...\n",
       "\n",
       "After round 20, the monkeys are holding items with these worry levels:\n",
       "Monkey 0: 10, 12, 14, 26, 34\n",
       "Monkey 1: 245, 93, 53, 199, 115\n",
       "Monkey 2: \n",
       "Monkey 3: \n",
       "</code></pre>\n",
       "<p>Chasing all of the monkeys at once is impossible; you're going to have to focus on the <em>two most active</em> monkeys if you want any hope of getting your stuff back. Count the <em>total number of times each monkey inspects items</em> over 20 rounds:</p>\n",
       "<pre><code><em>Monkey 0 inspected items 101 times.</em>\n",
       "Monkey 1 inspected items 95 times.\n",
       "Monkey 2 inspected items 7 times.\n",
       "<em>Monkey 3 inspected items 105 times.</em>\n",
       "</code></pre>\n",
       "<p>In this example, the two most active monkeys inspected items 101 and 105 times. The level of <em>monkey business</em> in this situation can be found by multiplying these together: <code><em>10605</em></code>.</p>\n",
       "<p>Figure out which monkeys to chase by counting how many items they inspect over 20 rounds. <em>What is the level of monkey business after 20 rounds of stuff-slinging simian shenanigans?</em></p>\n"
      ],
      "text/plain": [
       "<IPython.core.display.HTML object>"
      ]
     },
     "execution_count": 3,
     "metadata": {},
     "output_type": "execute_result"
    }
   ],
   "source": [
    "from IPython.display import HTML\n",
    "\n",
    "HTML(downloaded['part1'])"
   ]
  },
  {
   "cell_type": "markdown",
   "metadata": {},
   "source": [
    "## Comments\n",
    "\n",
    "..."
   ]
  },
  {
   "cell_type": "code",
   "execution_count": 4,
   "metadata": {},
   "outputs": [],
   "source": [
    "testdata = \"\"\"Monkey 0:\n",
    "  Starting items: 79, 98\n",
    "  Operation: new = old * 19\n",
    "  Test: divisible by 23\n",
    "    If true: throw to monkey 2\n",
    "    If false: throw to monkey 3\n",
    "\n",
    "Monkey 1:\n",
    "  Starting items: 54, 65, 75, 74\n",
    "  Operation: new = old + 6\n",
    "  Test: divisible by 19\n",
    "    If true: throw to monkey 2\n",
    "    If false: throw to monkey 0\n",
    "\n",
    "Monkey 2:\n",
    "  Starting items: 79, 60, 97\n",
    "  Operation: new = old * old\n",
    "  Test: divisible by 13\n",
    "    If true: throw to monkey 1\n",
    "    If false: throw to monkey 3\n",
    "\n",
    "Monkey 3:\n",
    "  Starting items: 74\n",
    "  Operation: new = old + 3\n",
    "  Test: divisible by 17\n",
    "    If true: throw to monkey 0\n",
    "    If false: throw to monkey 1\"\"\".splitlines()\n",
    "\n",
    "inputdata = downloaded['input'].splitlines()"
   ]
  },
  {
   "cell_type": "code",
   "execution_count": 5,
   "metadata": {},
   "outputs": [
    {
     "data": {
      "text/plain": [
       "\"['Monkey 0:', '  Starting items: 50, 70, 54, 83, 52, 78', '  Operation: new = old * 3', '  Test: divisible by 11', '    If true: throw to monkey 2', '    If false: throw to monkey 7', '', 'Monkey 1:', '  Starting items: 71, 52, 58, 60, 71', '  Operation: new = old * old'] ... len(inputdata)=55\""
      ]
     },
     "metadata": {},
     "output_type": "display_data"
    }
   ],
   "source": [
    "from IPython.display import display\n",
    "\n",
    "\n",
    "display(f'{inputdata[:10]} ... {len(inputdata)=}')"
   ]
  },
  {
   "cell_type": "code",
   "execution_count": 6,
   "metadata": {},
   "outputs": [],
   "source": [
    "from __future__ import annotations\n",
    "import operator\n",
    "\n",
    "\n",
    "class Operation:\n",
    "    def __init__(self: Operation,\n",
    "                 line: str):\n",
    "        right_side = line.split(' = ', 1)[1]\n",
    "        tokens = right_side.split()\n",
    "        assert len(tokens) == 3\n",
    "        if tokens[1] == '*':\n",
    "            self.operator = operator.mul\n",
    "        else:  # tokens[1] == '+'\n",
    "            self.operator = operator.add\n",
    "\n",
    "        if tokens[2] == 'old':\n",
    "            self.second_term = 0\n",
    "        else:\n",
    "            self.second_term = int(tokens[2])\n",
    "\n",
    "    def __str__(self: Operation) -> str:\n",
    "        if self.operator == operator.mul:\n",
    "            if self.second_term == 0:\n",
    "                return 'multiplied by itself'\n",
    "            else:\n",
    "                return f'multiplied by {self.second_term}'\n",
    "        else:\n",
    "            return f'increased by {self.second_term}'\n",
    "\n",
    "    def __repr__(self: Operation) -> str:\n",
    "        return f'\"{self}\"'\n",
    "\n",
    "    def evaluate(self: Operation,\n",
    "                 worry: int,\n",
    "                 modulo: int = 0,\n",
    "                 debug: bool = False) \\\n",
    "            -> int:\n",
    "        if self.second_term == 0:\n",
    "            output = self.operator(worry, worry)\n",
    "        else:\n",
    "            output = self.operator(worry, self.second_term)\n",
    "\n",
    "        if debug:\n",
    "            display(f'    Worry level is {self} to {output}.')\n",
    "\n",
    "        # The principle here is that since Criteria.evaluate\n",
    "        # only looks at whether the item is divisible by\n",
    "        # divisor / modulo_base, and both and addition and\n",
    "        # multiplication (but not the integer division of part\n",
    "        # one) are invariant over that criteria, we may exploit\n",
    "        # it to keep the magnitude down. Except it isn't working\n",
    "        # for some reason...\n",
    "        if modulo != 0:\n",
    "            output %= modulo\n",
    "        return output"
   ]
  },
  {
   "cell_type": "code",
   "execution_count": 7,
   "metadata": {},
   "outputs": [],
   "source": [
    "class Criteria:\n",
    "    def __init__(self: Criteria,\n",
    "                 divisor: int,\n",
    "                 if_true: int,\n",
    "                 if_false: int):\n",
    "        self.divisor = divisor\n",
    "        self.if_true = if_true\n",
    "        self.if_false = if_false\n",
    "\n",
    "    def __str__(self: Criteria) -> str:\n",
    "        return f'divisible by {self.divisor}'\n",
    "\n",
    "    def __repr__(self: Criteria) -> str:\n",
    "        return f'  Test: {self}\\n' + \\\n",
    "            f'    If true: throw to monkey {self.if_true}\\n' + \\\n",
    "            f'    If false: throw to monkey {self.if_false}'\n",
    "\n",
    "    def evaluate(self: Criteria,\n",
    "                 worry: int,\n",
    "                 debug: bool = False) \\\n",
    "            -> int:\n",
    "        result = worry % self.divisor == 0\n",
    "        if debug:\n",
    "            display('    Current worry level is' +\n",
    "                    f'{\" not\" if not result else \"\"} ' +\n",
    "                    f'divisible by {self.divisor}.')\n",
    "        if result:\n",
    "            return self.if_true\n",
    "        else:\n",
    "            return self.if_false"
   ]
  },
  {
   "cell_type": "code",
   "execution_count": 8,
   "metadata": {},
   "outputs": [],
   "source": [
    "from typing import List, Iterable\n",
    "\n",
    "\n",
    "class Monkey:\n",
    "    def __init__(self,\n",
    "                 index: int,\n",
    "                 items: List[int],\n",
    "                 operation: Operation,\n",
    "                 criteria: Criteria):\n",
    "        self.index = index\n",
    "        self.items = items\n",
    "        self.operation = operation\n",
    "        self.criteria = criteria\n",
    "        self.inspections = 0\n",
    "\n",
    "    def __str__(self) -> str:\n",
    "        return f'Monkey {self.index}: ' + \\\n",
    "            f'{\", \".join(str(item) for item in self.items)}'\n",
    "\n",
    "    def __repr__(self) -> str:\n",
    "        return str(self) + f' ({self.operation}, {self.criteria})'\n",
    "\n",
    "    def count_inspections(self):\n",
    "        self.inspections += len(self.items)\n",
    "\n",
    "    @classmethod\n",
    "    def from_lines(cls, lines: Iterable[str]) -> Monkey:\n",
    "        def take_after_colon(line: str) -> str:\n",
    "            return line.split(': ', 1)[1]\n",
    "\n",
    "        def take_last_int(line: str) -> int:\n",
    "            return int(line.split()[-1])\n",
    "\n",
    "        for line in lines:\n",
    "            if line.find('Monkey') != -1:\n",
    "                index = int(line.split(' ')[-1][:-1])\n",
    "            elif line.find('Starting items:') != -1:\n",
    "                items = [int(item)\n",
    "                         for item\n",
    "                         in take_after_colon(line).split(', ')]\n",
    "            elif line.find('Operation:') != -1:\n",
    "                operation = Operation(take_after_colon(line))\n",
    "            elif line.find('Test:') != -1:\n",
    "                divisor = take_last_int(line)\n",
    "            elif line.find('If true:') != -1:\n",
    "                if_true = take_last_int(line)\n",
    "            elif line.find('If false:') != -1:\n",
    "                if_false = take_last_int(line)\n",
    "        criteria = Criteria(divisor,\n",
    "                            if_true,\n",
    "                            if_false)\n",
    "        return cls(index, items, operation, criteria)\n",
    "\n",
    "    @classmethod\n",
    "    def from_dataset(cls, lines: Iterable[str]) -> List[Monkey]:\n",
    "        monkeys: List[Monkey] = list()\n",
    "        current_lines: List[str] = list()\n",
    "        for line in lines:\n",
    "            if line != '':\n",
    "                current_lines.append(line)\n",
    "            else:\n",
    "                monkeys.append(cls.from_lines(current_lines))\n",
    "                current_lines = list()\n",
    "        monkeys.append(cls.from_lines(current_lines))\n",
    "        return monkeys"
   ]
  },
  {
   "cell_type": "code",
   "execution_count": 9,
   "metadata": {},
   "outputs": [
    {
     "name": "stderr",
     "output_type": "stream",
     "text": [
      "<cell>5: error: Name \"Tuple\" is not defined  [name-defined]\n",
      "<cell>5: note: Did you forget to import it from \"typing\"? (Suggestion: \"from typing import Tuple\")\n"
     ]
    }
   ],
   "source": [
    "def inspect_item(m: Monkey,\n",
    "                 worry: int,\n",
    "                 modulo: int = 0,\n",
    "                 debug: bool = False) \\\n",
    "                     -> Tuple[int, int]:\n",
    "    if debug:\n",
    "        display(f'  Monkey inspects an item with a worry level of {worry}.')\n",
    "    worry = m.operation.evaluate(\n",
    "        worry=worry,\n",
    "        modulo=modulo,\n",
    "        debug=debug)\n",
    "    if modulo == 0:\n",
    "        worry //= 3\n",
    "        if debug:\n",
    "            display('    Monkey gets bored with item. Worry level is ' +\n",
    "                    f'divided by 3 to {worry}.')\n",
    "    recipient = m.criteria.evaluate(worry, debug)\n",
    "    return recipient, worry"
   ]
  },
  {
   "cell_type": "code",
   "execution_count": 10,
   "metadata": {},
   "outputs": [],
   "source": [
    "def monkey_turn(m: Monkey,\n",
    "                monkeys: List[Monkey],\n",
    "                modulo: int = 0,\n",
    "                debug: bool = False):\n",
    "    if debug:\n",
    "        display(f'Monkey {m.index}:')\n",
    "    m.count_inspections()\n",
    "    for worry in m.items:\n",
    "        recipient, new_worry = inspect_item(\n",
    "            m=m,\n",
    "            worry=worry,\n",
    "            modulo=modulo,\n",
    "            debug=debug)\n",
    "        if debug:\n",
    "            display(f'    Item with worry level {new_worry} is thrown ' +\n",
    "                    f'to monkey {recipient}.')\n",
    "        monkeys[recipient].items.append(new_worry)\n",
    "    m.items.clear()"
   ]
  },
  {
   "cell_type": "code",
   "execution_count": 11,
   "metadata": {},
   "outputs": [
    {
     "name": "stderr",
     "output_type": "stream",
     "text": [
      "<cell>7: error: Name \"reduce\" is not defined  [name-defined]\n"
     ]
    }
   ],
   "source": [
    "def monkeys_round(monkeys: List[Monkey],\n",
    "                  reassured: bool = True,\n",
    "                  debug: bool = False):\n",
    "    if reassured:\n",
    "        modulo = 0\n",
    "    else:\n",
    "        modulo = reduce(operator.mul,\n",
    "                        [monkey.criteria.divisor\n",
    "                         for monkey in monkeys])\n",
    "    for monkey in monkeys:\n",
    "        monkey_turn(m=monkey,\n",
    "                    monkeys=monkeys,\n",
    "                    modulo=modulo,\n",
    "                    debug=debug)"
   ]
  },
  {
   "cell_type": "code",
   "execution_count": 12,
   "metadata": {},
   "outputs": [
    {
     "data": {
      "text/plain": [
       "'Monkey 0:'"
      ]
     },
     "metadata": {},
     "output_type": "display_data"
    },
    {
     "data": {
      "text/plain": [
       "'  Monkey inspects an item with a worry level of 79.'"
      ]
     },
     "metadata": {},
     "output_type": "display_data"
    },
    {
     "data": {
      "text/plain": [
       "'    Worry level is multiplied by 19 to 1501.'"
      ]
     },
     "metadata": {},
     "output_type": "display_data"
    },
    {
     "data": {
      "text/plain": [
       "'    Monkey gets bored with item. Worry level is divided by 3 to 500.'"
      ]
     },
     "metadata": {},
     "output_type": "display_data"
    },
    {
     "data": {
      "text/plain": [
       "'    Current worry level is not divisible by 23.'"
      ]
     },
     "metadata": {},
     "output_type": "display_data"
    },
    {
     "data": {
      "text/plain": [
       "'    Item with worry level 500 is thrown to monkey 3.'"
      ]
     },
     "metadata": {},
     "output_type": "display_data"
    },
    {
     "data": {
      "text/plain": [
       "'  Monkey inspects an item with a worry level of 98.'"
      ]
     },
     "metadata": {},
     "output_type": "display_data"
    },
    {
     "data": {
      "text/plain": [
       "'    Worry level is multiplied by 19 to 1862.'"
      ]
     },
     "metadata": {},
     "output_type": "display_data"
    },
    {
     "data": {
      "text/plain": [
       "'    Monkey gets bored with item. Worry level is divided by 3 to 620.'"
      ]
     },
     "metadata": {},
     "output_type": "display_data"
    },
    {
     "data": {
      "text/plain": [
       "'    Current worry level is not divisible by 23.'"
      ]
     },
     "metadata": {},
     "output_type": "display_data"
    },
    {
     "data": {
      "text/plain": [
       "'    Item with worry level 620 is thrown to monkey 3.'"
      ]
     },
     "metadata": {},
     "output_type": "display_data"
    },
    {
     "data": {
      "text/plain": [
       "'Monkey 1:'"
      ]
     },
     "metadata": {},
     "output_type": "display_data"
    },
    {
     "data": {
      "text/plain": [
       "'  Monkey inspects an item with a worry level of 54.'"
      ]
     },
     "metadata": {},
     "output_type": "display_data"
    },
    {
     "data": {
      "text/plain": [
       "'    Worry level is increased by 6 to 60.'"
      ]
     },
     "metadata": {},
     "output_type": "display_data"
    },
    {
     "data": {
      "text/plain": [
       "'    Monkey gets bored with item. Worry level is divided by 3 to 20.'"
      ]
     },
     "metadata": {},
     "output_type": "display_data"
    },
    {
     "data": {
      "text/plain": [
       "'    Current worry level is not divisible by 19.'"
      ]
     },
     "metadata": {},
     "output_type": "display_data"
    },
    {
     "data": {
      "text/plain": [
       "'    Item with worry level 20 is thrown to monkey 0.'"
      ]
     },
     "metadata": {},
     "output_type": "display_data"
    },
    {
     "data": {
      "text/plain": [
       "'  Monkey inspects an item with a worry level of 65.'"
      ]
     },
     "metadata": {},
     "output_type": "display_data"
    },
    {
     "data": {
      "text/plain": [
       "'    Worry level is increased by 6 to 71.'"
      ]
     },
     "metadata": {},
     "output_type": "display_data"
    },
    {
     "data": {
      "text/plain": [
       "'    Monkey gets bored with item. Worry level is divided by 3 to 23.'"
      ]
     },
     "metadata": {},
     "output_type": "display_data"
    },
    {
     "data": {
      "text/plain": [
       "'    Current worry level is not divisible by 19.'"
      ]
     },
     "metadata": {},
     "output_type": "display_data"
    },
    {
     "data": {
      "text/plain": [
       "'    Item with worry level 23 is thrown to monkey 0.'"
      ]
     },
     "metadata": {},
     "output_type": "display_data"
    },
    {
     "data": {
      "text/plain": [
       "'  Monkey inspects an item with a worry level of 75.'"
      ]
     },
     "metadata": {},
     "output_type": "display_data"
    },
    {
     "data": {
      "text/plain": [
       "'    Worry level is increased by 6 to 81.'"
      ]
     },
     "metadata": {},
     "output_type": "display_data"
    },
    {
     "data": {
      "text/plain": [
       "'    Monkey gets bored with item. Worry level is divided by 3 to 27.'"
      ]
     },
     "metadata": {},
     "output_type": "display_data"
    },
    {
     "data": {
      "text/plain": [
       "'    Current worry level is not divisible by 19.'"
      ]
     },
     "metadata": {},
     "output_type": "display_data"
    },
    {
     "data": {
      "text/plain": [
       "'    Item with worry level 27 is thrown to monkey 0.'"
      ]
     },
     "metadata": {},
     "output_type": "display_data"
    },
    {
     "data": {
      "text/plain": [
       "'  Monkey inspects an item with a worry level of 74.'"
      ]
     },
     "metadata": {},
     "output_type": "display_data"
    },
    {
     "data": {
      "text/plain": [
       "'    Worry level is increased by 6 to 80.'"
      ]
     },
     "metadata": {},
     "output_type": "display_data"
    },
    {
     "data": {
      "text/plain": [
       "'    Monkey gets bored with item. Worry level is divided by 3 to 26.'"
      ]
     },
     "metadata": {},
     "output_type": "display_data"
    },
    {
     "data": {
      "text/plain": [
       "'    Current worry level is not divisible by 19.'"
      ]
     },
     "metadata": {},
     "output_type": "display_data"
    },
    {
     "data": {
      "text/plain": [
       "'    Item with worry level 26 is thrown to monkey 0.'"
      ]
     },
     "metadata": {},
     "output_type": "display_data"
    },
    {
     "data": {
      "text/plain": [
       "'Monkey 2:'"
      ]
     },
     "metadata": {},
     "output_type": "display_data"
    },
    {
     "data": {
      "text/plain": [
       "'  Monkey inspects an item with a worry level of 79.'"
      ]
     },
     "metadata": {},
     "output_type": "display_data"
    },
    {
     "data": {
      "text/plain": [
       "'    Worry level is multiplied by itself to 6241.'"
      ]
     },
     "metadata": {},
     "output_type": "display_data"
    },
    {
     "data": {
      "text/plain": [
       "'    Monkey gets bored with item. Worry level is divided by 3 to 2080.'"
      ]
     },
     "metadata": {},
     "output_type": "display_data"
    },
    {
     "data": {
      "text/plain": [
       "'    Current worry level is divisible by 13.'"
      ]
     },
     "metadata": {},
     "output_type": "display_data"
    },
    {
     "data": {
      "text/plain": [
       "'    Item with worry level 2080 is thrown to monkey 1.'"
      ]
     },
     "metadata": {},
     "output_type": "display_data"
    },
    {
     "data": {
      "text/plain": [
       "'  Monkey inspects an item with a worry level of 60.'"
      ]
     },
     "metadata": {},
     "output_type": "display_data"
    },
    {
     "data": {
      "text/plain": [
       "'    Worry level is multiplied by itself to 3600.'"
      ]
     },
     "metadata": {},
     "output_type": "display_data"
    },
    {
     "data": {
      "text/plain": [
       "'    Monkey gets bored with item. Worry level is divided by 3 to 1200.'"
      ]
     },
     "metadata": {},
     "output_type": "display_data"
    },
    {
     "data": {
      "text/plain": [
       "'    Current worry level is not divisible by 13.'"
      ]
     },
     "metadata": {},
     "output_type": "display_data"
    },
    {
     "data": {
      "text/plain": [
       "'    Item with worry level 1200 is thrown to monkey 3.'"
      ]
     },
     "metadata": {},
     "output_type": "display_data"
    },
    {
     "data": {
      "text/plain": [
       "'  Monkey inspects an item with a worry level of 97.'"
      ]
     },
     "metadata": {},
     "output_type": "display_data"
    },
    {
     "data": {
      "text/plain": [
       "'    Worry level is multiplied by itself to 9409.'"
      ]
     },
     "metadata": {},
     "output_type": "display_data"
    },
    {
     "data": {
      "text/plain": [
       "'    Monkey gets bored with item. Worry level is divided by 3 to 3136.'"
      ]
     },
     "metadata": {},
     "output_type": "display_data"
    },
    {
     "data": {
      "text/plain": [
       "'    Current worry level is not divisible by 13.'"
      ]
     },
     "metadata": {},
     "output_type": "display_data"
    },
    {
     "data": {
      "text/plain": [
       "'    Item with worry level 3136 is thrown to monkey 3.'"
      ]
     },
     "metadata": {},
     "output_type": "display_data"
    },
    {
     "data": {
      "text/plain": [
       "'Monkey 3:'"
      ]
     },
     "metadata": {},
     "output_type": "display_data"
    },
    {
     "data": {
      "text/plain": [
       "'  Monkey inspects an item with a worry level of 74.'"
      ]
     },
     "metadata": {},
     "output_type": "display_data"
    },
    {
     "data": {
      "text/plain": [
       "'    Worry level is increased by 3 to 77.'"
      ]
     },
     "metadata": {},
     "output_type": "display_data"
    },
    {
     "data": {
      "text/plain": [
       "'    Monkey gets bored with item. Worry level is divided by 3 to 25.'"
      ]
     },
     "metadata": {},
     "output_type": "display_data"
    },
    {
     "data": {
      "text/plain": [
       "'    Current worry level is not divisible by 17.'"
      ]
     },
     "metadata": {},
     "output_type": "display_data"
    },
    {
     "data": {
      "text/plain": [
       "'    Item with worry level 25 is thrown to monkey 1.'"
      ]
     },
     "metadata": {},
     "output_type": "display_data"
    },
    {
     "data": {
      "text/plain": [
       "'  Monkey inspects an item with a worry level of 500.'"
      ]
     },
     "metadata": {},
     "output_type": "display_data"
    },
    {
     "data": {
      "text/plain": [
       "'    Worry level is increased by 3 to 503.'"
      ]
     },
     "metadata": {},
     "output_type": "display_data"
    },
    {
     "data": {
      "text/plain": [
       "'    Monkey gets bored with item. Worry level is divided by 3 to 167.'"
      ]
     },
     "metadata": {},
     "output_type": "display_data"
    },
    {
     "data": {
      "text/plain": [
       "'    Current worry level is not divisible by 17.'"
      ]
     },
     "metadata": {},
     "output_type": "display_data"
    },
    {
     "data": {
      "text/plain": [
       "'    Item with worry level 167 is thrown to monkey 1.'"
      ]
     },
     "metadata": {},
     "output_type": "display_data"
    },
    {
     "data": {
      "text/plain": [
       "'  Monkey inspects an item with a worry level of 620.'"
      ]
     },
     "metadata": {},
     "output_type": "display_data"
    },
    {
     "data": {
      "text/plain": [
       "'    Worry level is increased by 3 to 623.'"
      ]
     },
     "metadata": {},
     "output_type": "display_data"
    },
    {
     "data": {
      "text/plain": [
       "'    Monkey gets bored with item. Worry level is divided by 3 to 207.'"
      ]
     },
     "metadata": {},
     "output_type": "display_data"
    },
    {
     "data": {
      "text/plain": [
       "'    Current worry level is not divisible by 17.'"
      ]
     },
     "metadata": {},
     "output_type": "display_data"
    },
    {
     "data": {
      "text/plain": [
       "'    Item with worry level 207 is thrown to monkey 1.'"
      ]
     },
     "metadata": {},
     "output_type": "display_data"
    },
    {
     "data": {
      "text/plain": [
       "'  Monkey inspects an item with a worry level of 1200.'"
      ]
     },
     "metadata": {},
     "output_type": "display_data"
    },
    {
     "data": {
      "text/plain": [
       "'    Worry level is increased by 3 to 1203.'"
      ]
     },
     "metadata": {},
     "output_type": "display_data"
    },
    {
     "data": {
      "text/plain": [
       "'    Monkey gets bored with item. Worry level is divided by 3 to 401.'"
      ]
     },
     "metadata": {},
     "output_type": "display_data"
    },
    {
     "data": {
      "text/plain": [
       "'    Current worry level is not divisible by 17.'"
      ]
     },
     "metadata": {},
     "output_type": "display_data"
    },
    {
     "data": {
      "text/plain": [
       "'    Item with worry level 401 is thrown to monkey 1.'"
      ]
     },
     "metadata": {},
     "output_type": "display_data"
    },
    {
     "data": {
      "text/plain": [
       "'  Monkey inspects an item with a worry level of 3136.'"
      ]
     },
     "metadata": {},
     "output_type": "display_data"
    },
    {
     "data": {
      "text/plain": [
       "'    Worry level is increased by 3 to 3139.'"
      ]
     },
     "metadata": {},
     "output_type": "display_data"
    },
    {
     "data": {
      "text/plain": [
       "'    Monkey gets bored with item. Worry level is divided by 3 to 1046.'"
      ]
     },
     "metadata": {},
     "output_type": "display_data"
    },
    {
     "data": {
      "text/plain": [
       "'    Current worry level is not divisible by 17.'"
      ]
     },
     "metadata": {},
     "output_type": "display_data"
    },
    {
     "data": {
      "text/plain": [
       "'    Item with worry level 1046 is thrown to monkey 1.'"
      ]
     },
     "metadata": {},
     "output_type": "display_data"
    },
    {
     "data": {
      "text/plain": [
       "'After round 2, the monkeys are holding items with these worry levels:'"
      ]
     },
     "metadata": {},
     "output_type": "display_data"
    },
    {
     "data": {
      "text/plain": [
       "'Monkey 0: 695, 10, 71, 135, 350'"
      ]
     },
     "metadata": {},
     "output_type": "display_data"
    },
    {
     "data": {
      "text/plain": [
       "'Monkey 1: 43, 49, 58, 55, 362'"
      ]
     },
     "metadata": {},
     "output_type": "display_data"
    },
    {
     "data": {
      "text/plain": [
       "'Monkey 2: '"
      ]
     },
     "metadata": {},
     "output_type": "display_data"
    },
    {
     "data": {
      "text/plain": [
       "'Monkey 3: '"
      ]
     },
     "metadata": {},
     "output_type": "display_data"
    },
    {
     "data": {
      "text/plain": [
       "'After round 3, the monkeys are holding items with these worry levels:'"
      ]
     },
     "metadata": {},
     "output_type": "display_data"
    },
    {
     "data": {
      "text/plain": [
       "'Monkey 0: 16, 18, 21, 20, 122'"
      ]
     },
     "metadata": {},
     "output_type": "display_data"
    },
    {
     "data": {
      "text/plain": [
       "'Monkey 1: 1468, 22, 150, 286, 739'"
      ]
     },
     "metadata": {},
     "output_type": "display_data"
    },
    {
     "data": {
      "text/plain": [
       "'Monkey 2: '"
      ]
     },
     "metadata": {},
     "output_type": "display_data"
    },
    {
     "data": {
      "text/plain": [
       "'Monkey 3: '"
      ]
     },
     "metadata": {},
     "output_type": "display_data"
    },
    {
     "data": {
      "text/plain": [
       "'After round 4, the monkeys are holding items with these worry levels:'"
      ]
     },
     "metadata": {},
     "output_type": "display_data"
    },
    {
     "data": {
      "text/plain": [
       "'Monkey 0: 491, 9, 52, 97, 248, 34'"
      ]
     },
     "metadata": {},
     "output_type": "display_data"
    },
    {
     "data": {
      "text/plain": [
       "'Monkey 1: 39, 45, 43, 258'"
      ]
     },
     "metadata": {},
     "output_type": "display_data"
    },
    {
     "data": {
      "text/plain": [
       "'Monkey 2: '"
      ]
     },
     "metadata": {},
     "output_type": "display_data"
    },
    {
     "data": {
      "text/plain": [
       "'Monkey 3: '"
      ]
     },
     "metadata": {},
     "output_type": "display_data"
    },
    {
     "data": {
      "text/plain": [
       "'After round 5, the monkeys are holding items with these worry levels:'"
      ]
     },
     "metadata": {},
     "output_type": "display_data"
    },
    {
     "data": {
      "text/plain": [
       "'Monkey 0: 15, 17, 16, 88, 1037'"
      ]
     },
     "metadata": {},
     "output_type": "display_data"
    },
    {
     "data": {
      "text/plain": [
       "'Monkey 1: 20, 110, 205, 524, 72'"
      ]
     },
     "metadata": {},
     "output_type": "display_data"
    },
    {
     "data": {
      "text/plain": [
       "'Monkey 2: '"
      ]
     },
     "metadata": {},
     "output_type": "display_data"
    },
    {
     "data": {
      "text/plain": [
       "'Monkey 3: '"
      ]
     },
     "metadata": {},
     "output_type": "display_data"
    },
    {
     "data": {
      "text/plain": [
       "'After round 6, the monkeys are holding items with these worry levels:'"
      ]
     },
     "metadata": {},
     "output_type": "display_data"
    },
    {
     "data": {
      "text/plain": [
       "'Monkey 0: 8, 70, 176, 26, 34'"
      ]
     },
     "metadata": {},
     "output_type": "display_data"
    },
    {
     "data": {
      "text/plain": [
       "'Monkey 1: 481, 32, 36, 186, 2190'"
      ]
     },
     "metadata": {},
     "output_type": "display_data"
    },
    {
     "data": {
      "text/plain": [
       "'Monkey 2: '"
      ]
     },
     "metadata": {},
     "output_type": "display_data"
    },
    {
     "data": {
      "text/plain": [
       "'Monkey 3: '"
      ]
     },
     "metadata": {},
     "output_type": "display_data"
    },
    {
     "data": {
      "text/plain": [
       "'After round 7, the monkeys are holding items with these worry levels:'"
      ]
     },
     "metadata": {},
     "output_type": "display_data"
    },
    {
     "data": {
      "text/plain": [
       "'Monkey 0: 162, 12, 14, 64, 732, 17'"
      ]
     },
     "metadata": {},
     "output_type": "display_data"
    },
    {
     "data": {
      "text/plain": [
       "'Monkey 1: 148, 372, 55, 72'"
      ]
     },
     "metadata": {},
     "output_type": "display_data"
    },
    {
     "data": {
      "text/plain": [
       "'Monkey 2: '"
      ]
     },
     "metadata": {},
     "output_type": "display_data"
    },
    {
     "data": {
      "text/plain": [
       "'Monkey 3: '"
      ]
     },
     "metadata": {},
     "output_type": "display_data"
    },
    {
     "data": {
      "text/plain": [
       "'After round 8, the monkeys are holding items with these worry levels:'"
      ]
     },
     "metadata": {},
     "output_type": "display_data"
    },
    {
     "data": {
      "text/plain": [
       "'Monkey 0: 51, 126, 20, 26, 136'"
      ]
     },
     "metadata": {},
     "output_type": "display_data"
    },
    {
     "data": {
      "text/plain": [
       "'Monkey 1: 343, 26, 30, 1546, 36'"
      ]
     },
     "metadata": {},
     "output_type": "display_data"
    },
    {
     "data": {
      "text/plain": [
       "'Monkey 2: '"
      ]
     },
     "metadata": {},
     "output_type": "display_data"
    },
    {
     "data": {
      "text/plain": [
       "'Monkey 3: '"
      ]
     },
     "metadata": {},
     "output_type": "display_data"
    },
    {
     "data": {
      "text/plain": [
       "'After round 9, the monkeys are holding items with these worry levels:'"
      ]
     },
     "metadata": {},
     "output_type": "display_data"
    },
    {
     "data": {
      "text/plain": [
       "'Monkey 0: 116, 10, 12, 517, 14'"
      ]
     },
     "metadata": {},
     "output_type": "display_data"
    },
    {
     "data": {
      "text/plain": [
       "'Monkey 1: 108, 267, 43, 55, 288'"
      ]
     },
     "metadata": {},
     "output_type": "display_data"
    },
    {
     "data": {
      "text/plain": [
       "'Monkey 2: '"
      ]
     },
     "metadata": {},
     "output_type": "display_data"
    },
    {
     "data": {
      "text/plain": [
       "'Monkey 3: '"
      ]
     },
     "metadata": {},
     "output_type": "display_data"
    },
    {
     "data": {
      "text/plain": [
       "'After round 10, the monkeys are holding items with these worry levels:'"
      ]
     },
     "metadata": {},
     "output_type": "display_data"
    },
    {
     "data": {
      "text/plain": [
       "'Monkey 0: 91, 16, 20, 98'"
      ]
     },
     "metadata": {},
     "output_type": "display_data"
    },
    {
     "data": {
      "text/plain": [
       "'Monkey 1: 481, 245, 22, 26, 1092, 30'"
      ]
     },
     "metadata": {},
     "output_type": "display_data"
    },
    {
     "data": {
      "text/plain": [
       "'Monkey 2: '"
      ]
     },
     "metadata": {},
     "output_type": "display_data"
    },
    {
     "data": {
      "text/plain": [
       "'Monkey 3: '"
      ]
     },
     "metadata": {},
     "output_type": "display_data"
    },
    {
     "data": {
      "text/plain": [
       "'After round 15, the monkeys are holding items with these worry levels:'"
      ]
     },
     "metadata": {},
     "output_type": "display_data"
    },
    {
     "data": {
      "text/plain": [
       "'Monkey 0: 83, 44, 8, 184, 9, 20, 26, 102'"
      ]
     },
     "metadata": {},
     "output_type": "display_data"
    },
    {
     "data": {
      "text/plain": [
       "'Monkey 1: 110, 36'"
      ]
     },
     "metadata": {},
     "output_type": "display_data"
    },
    {
     "data": {
      "text/plain": [
       "'Monkey 2: '"
      ]
     },
     "metadata": {},
     "output_type": "display_data"
    },
    {
     "data": {
      "text/plain": [
       "'Monkey 3: '"
      ]
     },
     "metadata": {},
     "output_type": "display_data"
    },
    {
     "data": {
      "text/plain": [
       "'After round 20, the monkeys are holding items with these worry levels:'"
      ]
     },
     "metadata": {},
     "output_type": "display_data"
    },
    {
     "data": {
      "text/plain": [
       "'Monkey 0: 10, 12, 14, 26, 34'"
      ]
     },
     "metadata": {},
     "output_type": "display_data"
    },
    {
     "data": {
      "text/plain": [
       "'Monkey 1: 245, 93, 53, 199, 115'"
      ]
     },
     "metadata": {},
     "output_type": "display_data"
    },
    {
     "data": {
      "text/plain": [
       "'Monkey 2: '"
      ]
     },
     "metadata": {},
     "output_type": "display_data"
    },
    {
     "data": {
      "text/plain": [
       "'Monkey 3: '"
      ]
     },
     "metadata": {},
     "output_type": "display_data"
    }
   ],
   "source": [
    "from functools import reduce\n",
    "\n",
    "\n",
    "monkeys = Monkey.from_dataset(testdata)\n",
    "for round in range(1, 21):\n",
    "    if round == 1:\n",
    "        debug = True\n",
    "    else:\n",
    "        debug = False\n",
    "    monkeys_round(monkeys=monkeys,\n",
    "                  debug=debug)\n",
    "    if round in [*range(2, 11), 15, 20]:\n",
    "        display(f'After round {round}, the monkeys are holding items with ' +\n",
    "                'these worry levels:')\n",
    "        for monkey in monkeys:\n",
    "            display(f'{monkey}')\n",
    "assert reduce(operator.mul,\n",
    "              sorted(monkey.inspections\n",
    "                     for monkey in monkeys)[-2:]) == 10605"
   ]
  },
  {
   "cell_type": "code",
   "execution_count": 13,
   "metadata": {},
   "outputs": [
    {
     "data": {
      "text/plain": [
       "102399"
      ]
     },
     "execution_count": 13,
     "metadata": {},
     "output_type": "execute_result"
    }
   ],
   "source": [
    "monkeys = Monkey.from_dataset(inputdata)\n",
    "for round in range(1, 21):\n",
    "    monkeys_round(monkeys)\n",
    "reduce(operator.mul,\n",
    "       sorted(monkey.inspections for monkey in monkeys)[-2:])"
   ]
  },
  {
   "cell_type": "code",
   "execution_count": 14,
   "metadata": {},
   "outputs": [
    {
     "data": {
      "text/html": [
       "\n",
       "<p>Your puzzle answer was <code>102399</code>.</p>"
      ],
      "text/plain": [
       "<IPython.core.display.HTML object>"
      ]
     },
     "execution_count": 14,
     "metadata": {},
     "output_type": "execute_result"
    }
   ],
   "source": [
    "HTML(downloaded['part1_footer'])"
   ]
  },
  {
   "cell_type": "markdown",
   "metadata": {},
   "source": [
    "## Part Two"
   ]
  },
  {
   "cell_type": "code",
   "execution_count": 15,
   "metadata": {},
   "outputs": [
    {
     "data": {
      "text/html": [
       "<h2 id=\"part2\">--- Part Two ---</h2><p>You're worried you might not ever get your items back. So worried, in fact, that your relief that a monkey's inspection didn't damage an item <em>no longer causes your worry level to be divided by three</em>.</p>\n",
       "<p>Unfortunately, that relief was all that was keeping your worry levels from reaching <em>ridiculous levels</em>. You'll need to <em>find another way to keep your worry levels manageable</em>.</p>\n",
       "<p>At this rate, you might be putting up with these monkeys for a <em>very long time</em> - possibly <em><code>10000</code> rounds</em>!</p>\n",
       "<p>With these new rules, you can still figure out the <span title=\"Monkey business monkey business monkey business, monkey numbers... is this working?\">monkey business</span> after 10000 rounds. Using the same example above:</p>\n",
       "<pre><code>== After round 1 ==\n",
       "Monkey 0 inspected items 2 times.\n",
       "Monkey 1 inspected items 4 times.\n",
       "Monkey 2 inspected items 3 times.\n",
       "Monkey 3 inspected items 6 times.\n",
       "\n",
       "== After round 20 ==\n",
       "Monkey 0 inspected items 99 times.\n",
       "Monkey 1 inspected items 97 times.\n",
       "Monkey 2 inspected items 8 times.\n",
       "Monkey 3 inspected items 103 times.\n",
       "\n",
       "== After round 1000 ==\n",
       "Monkey 0 inspected items 5204 times.\n",
       "Monkey 1 inspected items 4792 times.\n",
       "Monkey 2 inspected items 199 times.\n",
       "Monkey 3 inspected items 5192 times.\n",
       "\n",
       "== After round 2000 ==\n",
       "Monkey 0 inspected items 10419 times.\n",
       "Monkey 1 inspected items 9577 times.\n",
       "Monkey 2 inspected items 392 times.\n",
       "Monkey 3 inspected items 10391 times.\n",
       "\n",
       "== After round 3000 ==\n",
       "Monkey 0 inspected items 15638 times.\n",
       "Monkey 1 inspected items 14358 times.\n",
       "Monkey 2 inspected items 587 times.\n",
       "Monkey 3 inspected items 15593 times.\n",
       "\n",
       "== After round 4000 ==\n",
       "Monkey 0 inspected items 20858 times.\n",
       "Monkey 1 inspected items 19138 times.\n",
       "Monkey 2 inspected items 780 times.\n",
       "Monkey 3 inspected items 20797 times.\n",
       "\n",
       "== After round 5000 ==\n",
       "Monkey 0 inspected items 26075 times.\n",
       "Monkey 1 inspected items 23921 times.\n",
       "Monkey 2 inspected items 974 times.\n",
       "Monkey 3 inspected items 26000 times.\n",
       "\n",
       "== After round 6000 ==\n",
       "Monkey 0 inspected items 31294 times.\n",
       "Monkey 1 inspected items 28702 times.\n",
       "Monkey 2 inspected items 1165 times.\n",
       "Monkey 3 inspected items 31204 times.\n",
       "\n",
       "== After round 7000 ==\n",
       "Monkey 0 inspected items 36508 times.\n",
       "Monkey 1 inspected items 33488 times.\n",
       "Monkey 2 inspected items 1360 times.\n",
       "Monkey 3 inspected items 36400 times.\n",
       "\n",
       "== After round 8000 ==\n",
       "Monkey 0 inspected items 41728 times.\n",
       "Monkey 1 inspected items 38268 times.\n",
       "Monkey 2 inspected items 1553 times.\n",
       "Monkey 3 inspected items 41606 times.\n",
       "\n",
       "== After round 9000 ==\n",
       "Monkey 0 inspected items 46945 times.\n",
       "Monkey 1 inspected items 43051 times.\n",
       "Monkey 2 inspected items 1746 times.\n",
       "Monkey 3 inspected items 46807 times.\n",
       "\n",
       "== After round 10000 ==\n",
       "<em>Monkey 0 inspected items 52166 times.</em>\n",
       "Monkey 1 inspected items 47830 times.\n",
       "Monkey 2 inspected items 1938 times.\n",
       "<em>Monkey 3 inspected items 52013 times.</em>\n",
       "</code></pre>\n",
       "<p>After 10000 rounds, the two most active monkeys inspected items 52166 and 52013 times. Multiplying these together, the level of <em>monkey business</em> in this situation is now <code><em>2713310158</em></code>.</p>\n",
       "<p>Worry levels are no longer divided by three after each item is inspected; you'll need to find another way to keep your worry levels manageable. Starting again from the initial state in your puzzle input, <em>what is the level of monkey business after 10000 rounds?</em></p>\n"
      ],
      "text/plain": [
       "<IPython.core.display.HTML object>"
      ]
     },
     "execution_count": 15,
     "metadata": {},
     "output_type": "execute_result"
    }
   ],
   "source": [
    "HTML(downloaded['part2'])"
   ]
  },
  {
   "cell_type": "code",
   "execution_count": 16,
   "metadata": {},
   "outputs": [
    {
     "data": {
      "text/plain": [
       "'== After round 1 =='"
      ]
     },
     "metadata": {},
     "output_type": "display_data"
    },
    {
     "data": {
      "text/plain": [
       "'Monkey 0 inspected items 2 times.'"
      ]
     },
     "metadata": {},
     "output_type": "display_data"
    },
    {
     "data": {
      "text/plain": [
       "'Monkey 1 inspected items 4 times.'"
      ]
     },
     "metadata": {},
     "output_type": "display_data"
    },
    {
     "data": {
      "text/plain": [
       "'Monkey 2 inspected items 3 times.'"
      ]
     },
     "metadata": {},
     "output_type": "display_data"
    },
    {
     "data": {
      "text/plain": [
       "'Monkey 3 inspected items 6 times.'"
      ]
     },
     "metadata": {},
     "output_type": "display_data"
    },
    {
     "data": {
      "text/plain": [
       "'== After round 20 =='"
      ]
     },
     "metadata": {},
     "output_type": "display_data"
    },
    {
     "data": {
      "text/plain": [
       "'Monkey 0 inspected items 99 times.'"
      ]
     },
     "metadata": {},
     "output_type": "display_data"
    },
    {
     "data": {
      "text/plain": [
       "'Monkey 1 inspected items 97 times.'"
      ]
     },
     "metadata": {},
     "output_type": "display_data"
    },
    {
     "data": {
      "text/plain": [
       "'Monkey 2 inspected items 8 times.'"
      ]
     },
     "metadata": {},
     "output_type": "display_data"
    },
    {
     "data": {
      "text/plain": [
       "'Monkey 3 inspected items 103 times.'"
      ]
     },
     "metadata": {},
     "output_type": "display_data"
    },
    {
     "data": {
      "text/plain": [
       "'== After round 1000 =='"
      ]
     },
     "metadata": {},
     "output_type": "display_data"
    },
    {
     "data": {
      "text/plain": [
       "'Monkey 0 inspected items 5204 times.'"
      ]
     },
     "metadata": {},
     "output_type": "display_data"
    },
    {
     "data": {
      "text/plain": [
       "'Monkey 1 inspected items 4792 times.'"
      ]
     },
     "metadata": {},
     "output_type": "display_data"
    },
    {
     "data": {
      "text/plain": [
       "'Monkey 2 inspected items 199 times.'"
      ]
     },
     "metadata": {},
     "output_type": "display_data"
    },
    {
     "data": {
      "text/plain": [
       "'Monkey 3 inspected items 5192 times.'"
      ]
     },
     "metadata": {},
     "output_type": "display_data"
    },
    {
     "data": {
      "text/plain": [
       "'== After round 2000 =='"
      ]
     },
     "metadata": {},
     "output_type": "display_data"
    },
    {
     "data": {
      "text/plain": [
       "'Monkey 0 inspected items 10419 times.'"
      ]
     },
     "metadata": {},
     "output_type": "display_data"
    },
    {
     "data": {
      "text/plain": [
       "'Monkey 1 inspected items 9577 times.'"
      ]
     },
     "metadata": {},
     "output_type": "display_data"
    },
    {
     "data": {
      "text/plain": [
       "'Monkey 2 inspected items 392 times.'"
      ]
     },
     "metadata": {},
     "output_type": "display_data"
    },
    {
     "data": {
      "text/plain": [
       "'Monkey 3 inspected items 10391 times.'"
      ]
     },
     "metadata": {},
     "output_type": "display_data"
    },
    {
     "data": {
      "text/plain": [
       "'== After round 10000 =='"
      ]
     },
     "metadata": {},
     "output_type": "display_data"
    },
    {
     "data": {
      "text/plain": [
       "'Monkey 0 inspected items 52166 times.'"
      ]
     },
     "metadata": {},
     "output_type": "display_data"
    },
    {
     "data": {
      "text/plain": [
       "'Monkey 1 inspected items 47830 times.'"
      ]
     },
     "metadata": {},
     "output_type": "display_data"
    },
    {
     "data": {
      "text/plain": [
       "'Monkey 2 inspected items 1938 times.'"
      ]
     },
     "metadata": {},
     "output_type": "display_data"
    },
    {
     "data": {
      "text/plain": [
       "'Monkey 3 inspected items 52013 times.'"
      ]
     },
     "metadata": {},
     "output_type": "display_data"
    }
   ],
   "source": [
    "monkeys = Monkey.from_dataset(testdata)\n",
    "for round in range(1, 10001):\n",
    "    monkeys_round(monkeys=monkeys,\n",
    "                  reassured=False)\n",
    "    if round in [1, 20, 1000, 2000, 10000]:\n",
    "        display(f'== After round {round} ==')\n",
    "        for monkey in monkeys:\n",
    "            display(f'Monkey {monkey.index} inspected items ' +\n",
    "                    f'{monkey.inspections} times.')\n",
    "assert reduce(operator.mul,\n",
    "              sorted(monkey.inspections\n",
    "                     for monkey in monkeys)[-2:]) == 2713310158"
   ]
  },
  {
   "cell_type": "code",
   "execution_count": 17,
   "metadata": {},
   "outputs": [
    {
     "data": {
      "text/plain": [
       "'== After round 1 =='"
      ]
     },
     "metadata": {},
     "output_type": "display_data"
    },
    {
     "data": {
      "text/plain": [
       "'Monkey 0 inspected items 6 times.'"
      ]
     },
     "metadata": {},
     "output_type": "display_data"
    },
    {
     "data": {
      "text/plain": [
       "'Monkey 1 inspected items 5 times.'"
      ]
     },
     "metadata": {},
     "output_type": "display_data"
    },
    {
     "data": {
      "text/plain": [
       "'Monkey 2 inspected items 12 times.'"
      ]
     },
     "metadata": {},
     "output_type": "display_data"
    },
    {
     "data": {
      "text/plain": [
       "'Monkey 3 inspected items 2 times.'"
      ]
     },
     "metadata": {},
     "output_type": "display_data"
    },
    {
     "data": {
      "text/plain": [
       "'Monkey 4 inspected items 5 times.'"
      ]
     },
     "metadata": {},
     "output_type": "display_data"
    },
    {
     "data": {
      "text/plain": [
       "'Monkey 5 inspected items 10 times.'"
      ]
     },
     "metadata": {},
     "output_type": "display_data"
    },
    {
     "data": {
      "text/plain": [
       "'Monkey 6 inspected items 6 times.'"
      ]
     },
     "metadata": {},
     "output_type": "display_data"
    },
    {
     "data": {
      "text/plain": [
       "'Monkey 7 inspected items 17 times.'"
      ]
     },
     "metadata": {},
     "output_type": "display_data"
    },
    {
     "data": {
      "text/plain": [
       "'== After round 20 =='"
      ]
     },
     "metadata": {},
     "output_type": "display_data"
    },
    {
     "data": {
      "text/plain": [
       "'Monkey 0 inspected items 241 times.'"
      ]
     },
     "metadata": {},
     "output_type": "display_data"
    },
    {
     "data": {
      "text/plain": [
       "'Monkey 1 inspected items 79 times.'"
      ]
     },
     "metadata": {},
     "output_type": "display_data"
    },
    {
     "data": {
      "text/plain": [
       "'Monkey 2 inspected items 94 times.'"
      ]
     },
     "metadata": {},
     "output_type": "display_data"
    },
    {
     "data": {
      "text/plain": [
       "'Monkey 3 inspected items 286 times.'"
      ]
     },
     "metadata": {},
     "output_type": "display_data"
    },
    {
     "data": {
      "text/plain": [
       "'Monkey 4 inspected items 236 times.'"
      ]
     },
     "metadata": {},
     "output_type": "display_data"
    },
    {
     "data": {
      "text/plain": [
       "'Monkey 5 inspected items 181 times.'"
      ]
     },
     "metadata": {},
     "output_type": "display_data"
    },
    {
     "data": {
      "text/plain": [
       "'Monkey 6 inspected items 70 times.'"
      ]
     },
     "metadata": {},
     "output_type": "display_data"
    },
    {
     "data": {
      "text/plain": [
       "'Monkey 7 inspected items 223 times.'"
      ]
     },
     "metadata": {},
     "output_type": "display_data"
    },
    {
     "data": {
      "text/plain": [
       "'== After round 1000 =='"
      ]
     },
     "metadata": {},
     "output_type": "display_data"
    },
    {
     "data": {
      "text/plain": [
       "'Monkey 0 inspected items 14601 times.'"
      ]
     },
     "metadata": {},
     "output_type": "display_data"
    },
    {
     "data": {
      "text/plain": [
       "'Monkey 1 inspected items 2591 times.'"
      ]
     },
     "metadata": {},
     "output_type": "display_data"
    },
    {
     "data": {
      "text/plain": [
       "'Monkey 2 inspected items 6952 times.'"
      ]
     },
     "metadata": {},
     "output_type": "display_data"
    },
    {
     "data": {
      "text/plain": [
       "'Monkey 3 inspected items 16343 times.'"
      ]
     },
     "metadata": {},
     "output_type": "display_data"
    },
    {
     "data": {
      "text/plain": [
       "'Monkey 4 inspected items 14769 times.'"
      ]
     },
     "metadata": {},
     "output_type": "display_data"
    },
    {
     "data": {
      "text/plain": [
       "'Monkey 5 inspected items 9386 times.'"
      ]
     },
     "metadata": {},
     "output_type": "display_data"
    },
    {
     "data": {
      "text/plain": [
       "'Monkey 6 inspected items 1650 times.'"
      ]
     },
     "metadata": {},
     "output_type": "display_data"
    },
    {
     "data": {
      "text/plain": [
       "'Monkey 7 inspected items 9470 times.'"
      ]
     },
     "metadata": {},
     "output_type": "display_data"
    },
    {
     "data": {
      "text/plain": [
       "'== After round 2000 =='"
      ]
     },
     "metadata": {},
     "output_type": "display_data"
    },
    {
     "data": {
      "text/plain": [
       "'Monkey 0 inspected items 29040 times.'"
      ]
     },
     "metadata": {},
     "output_type": "display_data"
    },
    {
     "data": {
      "text/plain": [
       "'Monkey 1 inspected items 5277 times.'"
      ]
     },
     "metadata": {},
     "output_type": "display_data"
    },
    {
     "data": {
      "text/plain": [
       "'Monkey 2 inspected items 13985 times.'"
      ]
     },
     "metadata": {},
     "output_type": "display_data"
    },
    {
     "data": {
      "text/plain": [
       "'Monkey 3 inspected items 32594 times.'"
      ]
     },
     "metadata": {},
     "output_type": "display_data"
    },
    {
     "data": {
      "text/plain": [
       "'Monkey 4 inspected items 29271 times.'"
      ]
     },
     "metadata": {},
     "output_type": "display_data"
    },
    {
     "data": {
      "text/plain": [
       "'Monkey 5 inspected items 19043 times.'"
      ]
     },
     "metadata": {},
     "output_type": "display_data"
    },
    {
     "data": {
      "text/plain": [
       "'Monkey 6 inspected items 3399 times.'"
      ]
     },
     "metadata": {},
     "output_type": "display_data"
    },
    {
     "data": {
      "text/plain": [
       "'Monkey 7 inspected items 18690 times.'"
      ]
     },
     "metadata": {},
     "output_type": "display_data"
    },
    {
     "data": {
      "text/plain": [
       "'== After round 10000 =='"
      ]
     },
     "metadata": {},
     "output_type": "display_data"
    },
    {
     "data": {
      "text/plain": [
       "'Monkey 0 inspected items 144628 times.'"
      ]
     },
     "metadata": {},
     "output_type": "display_data"
    },
    {
     "data": {
      "text/plain": [
       "'Monkey 1 inspected items 26706 times.'"
      ]
     },
     "metadata": {},
     "output_type": "display_data"
    },
    {
     "data": {
      "text/plain": [
       "'Monkey 2 inspected items 70283 times.'"
      ]
     },
     "metadata": {},
     "output_type": "display_data"
    },
    {
     "data": {
      "text/plain": [
       "'Monkey 3 inspected items 162641 times.'"
      ]
     },
     "metadata": {},
     "output_type": "display_data"
    },
    {
     "data": {
      "text/plain": [
       "'Monkey 4 inspected items 145361 times.'"
      ]
     },
     "metadata": {},
     "output_type": "display_data"
    },
    {
     "data": {
      "text/plain": [
       "'Monkey 5 inspected items 96277 times.'"
      ]
     },
     "metadata": {},
     "output_type": "display_data"
    },
    {
     "data": {
      "text/plain": [
       "'Monkey 6 inspected items 17356 times.'"
      ]
     },
     "metadata": {},
     "output_type": "display_data"
    },
    {
     "data": {
      "text/plain": [
       "'Monkey 7 inspected items 92434 times.'"
      ]
     },
     "metadata": {},
     "output_type": "display_data"
    },
    {
     "data": {
      "text/plain": [
       "23641658401"
      ]
     },
     "execution_count": 17,
     "metadata": {},
     "output_type": "execute_result"
    }
   ],
   "source": [
    "monkeys = Monkey.from_dataset(inputdata)\n",
    "for round in range(1, 10001):\n",
    "    monkeys_round(monkeys=monkeys,\n",
    "                  reassured=False)\n",
    "    if round in [1, 20, 1000, 2000, 10000]:\n",
    "        display(f'== After round {round} ==')\n",
    "        for monkey in monkeys:\n",
    "            display(f'Monkey {monkey.index} inspected items ' +\n",
    "                    f'{monkey.inspections} times.')\n",
    "reduce(operator.mul,\n",
    "       sorted(monkey.inspections\n",
    "              for monkey in monkeys)[-2:])"
   ]
  },
  {
   "cell_type": "code",
   "execution_count": 18,
   "metadata": {},
   "outputs": [
    {
     "data": {
      "text/html": [
       "\n",
       "<p>Your puzzle answer was <code>23641658401</code>.</p><p class=\"day-success\">Both parts of this puzzle are complete! They provide two gold stars: **</p>\n",
       "<p>At this point, you should <a href=\"/2022\">return to your Advent calendar</a> and try another puzzle.</p>\n",
       "<p>If you still want to see it, you can <a href=\"11/input\" target=\"_blank\">get your puzzle input</a>.</p>\n",
       "<p>You can also <span class=\"share\">[Share<span class=\"share-content\">on\n",
       "  <a href=\"https://twitter.com/intent/tweet?text=I%27ve+completed+%22Monkey+in+the+Middle%22+%2D+Day+11+%2D+Advent+of+Code+2022&amp;url=https%3A%2F%2Fadventofcode%2Ecom%2F2022%2Fday%2F11&amp;related=ericwastl&amp;hashtags=AdventOfCode\" target=\"_blank\">Twitter</a>\n",
       "  <a href=\"javascript:void(0);\" onclick=\"var mastodon_instance=prompt('Mastodon Instance / Server Name?'); if(typeof mastodon_instance==='string' && mastodon_instance.length){this.href='https://'+mastodon_instance+'/share?text=I%27ve+completed+%22Monkey+in+the+Middle%22+%2D+Day+11+%2D+Advent+of+Code+2022+%23AdventOfCode+https%3A%2F%2Fadventofcode%2Ecom%2F2022%2Fday%2F11'}else{return false;}\" target=\"_blank\">Mastodon</a\n",
       "></span>]</span> this puzzle.</p>\n"
      ],
      "text/plain": [
       "<IPython.core.display.HTML object>"
      ]
     },
     "execution_count": 18,
     "metadata": {},
     "output_type": "execute_result"
    }
   ],
   "source": [
    "HTML(downloaded['part2_footer'])"
   ]
  }
 ],
 "metadata": {
  "kernelspec": {
   "display_name": "Python 3.10.6 64-bit",
   "language": "python",
   "name": "python3"
  },
  "language_info": {
   "codemirror_mode": {
    "name": "ipython",
    "version": 3
   },
   "file_extension": ".py",
   "mimetype": "text/x-python",
   "name": "python",
   "nbconvert_exporter": "python",
   "pygments_lexer": "ipython3",
   "version": "3.10.6"
  },
  "vscode": {
   "interpreter": {
    "hash": "e7370f93d1d0cde622a1f8e1c04877d8463912d04d973331ad4851f04de6915a"
   }
  }
 },
 "nbformat": 4,
 "nbformat_minor": 4
}

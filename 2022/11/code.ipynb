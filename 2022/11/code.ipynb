{
 "cells": [
  {
   "attachments": {},
   "cell_type": "markdown",
   "metadata": {},
   "source": [
    "# Day 11: Monkey in the Middle\n",
    "\n",
    "[*Advent of Code 2022 day 11*](https://adventofcode.com/2022/day/11) and [*solution megathread*](https://redd.it/...)\n",
    "\n",
    "[![nbviewer](https://raw.githubusercontent.com/jupyter/design/master/logos/Badges/nbviewer_badge.svg)](https://nbviewer.jupyter.org/github/UncleCJ/advent-of-code/blob/cj/2022/11/code.ipynb) [![Binder](https://mybinder.org/badge_logo.svg)](https://mybinder.org/v2/gh/UncleCJ/advent-of-code/cj?filepath=2022%2F11%2Fcode.ipynb)"
   ]
  },
  {
   "cell_type": "code",
   "execution_count": 1,
   "metadata": {},
   "outputs": [
    {
     "name": "stderr",
     "output_type": "stream",
     "text": [
      "Version 1.0.4\n"
     ]
    }
   ],
   "source": [
    "from IPython.display import HTML\n",
    "import sys\n",
    "sys.path.append('../../')\n",
    "\n",
    "\n",
    "%load_ext nb_mypy\n",
    "%nb_mypy On"
   ]
  },
  {
   "cell_type": "code",
   "execution_count": 2,
   "metadata": {},
   "outputs": [
    {
     "name": "stdout",
     "output_type": "stream",
     "text": [
      "Writing 'downloaded' (dict) to file 'downloaded'.\n"
     ]
    }
   ],
   "source": [
    "import common\n",
    "\n",
    "\n",
    "downloaded = common.refresh()\n",
    "%store downloaded >downloaded\n",
    "\n",
    "%load_ext pycodestyle_magic\n",
    "%pycodestyle_on"
   ]
  },
  {
   "cell_type": "markdown",
   "metadata": {},
   "source": [
    "## Part One"
   ]
  },
  {
   "cell_type": "code",
   "execution_count": 3,
   "metadata": {},
   "outputs": [
    {
     "data": {
      "text/html": [
       "<h2>--- Day 11: Monkey in the Middle ---</h2><p>As you finally start making your way upriver, you realize your pack is much lighter than you remember. Just then, one of the items from your pack goes flying overhead. Monkeys are playing <a href=\"https://en.wikipedia.org/wiki/Keep_away\" target=\"_blank\">Keep Away</a> with your missing things!</p>\n",
       "<p>To get your stuff back, you need to be able to predict where the monkeys will throw your items. After some careful observation, you realize the monkeys operate based on <em>how worried you are about each item</em>.</p>\n",
       "<p>You take some notes (your puzzle input) on the items each monkey currently has, how worried you are about those items, and how the monkey makes decisions based on your worry level. For example:</p>\n",
       "<pre><code>Monkey 0:\n",
       "  Starting items: 79, 98\n",
       "  Operation: new = old * 19\n",
       "  Test: divisible by 23\n",
       "    If true: throw to monkey 2\n",
       "    If false: throw to monkey 3\n",
       "\n",
       "Monkey 1:\n",
       "  Starting items: 54, 65, 75, 74\n",
       "  Operation: new = old + 6\n",
       "  Test: divisible by 19\n",
       "    If true: throw to monkey 2\n",
       "    If false: throw to monkey 0\n",
       "\n",
       "Monkey 2:\n",
       "  Starting items: 79, 60, 97\n",
       "  Operation: new = old * old\n",
       "  Test: divisible by 13\n",
       "    If true: throw to monkey 1\n",
       "    If false: throw to monkey 3\n",
       "\n",
       "Monkey 3:\n",
       "  Starting items: 74\n",
       "  Operation: new = old + 3\n",
       "  Test: divisible by 17\n",
       "    If true: throw to monkey 0\n",
       "    If false: throw to monkey 1\n",
       "</code></pre>\n",
       "<p>Each monkey has several attributes:</p>\n",
       "<ul>\n",
       "<li><code>Starting items</code> lists your <em>worry level</em> for each item the monkey is currently holding in the order they will be inspected.</li>\n",
       "<li><code>Operation</code> shows how your worry level changes as that monkey inspects an item. (An operation like <code>new = old * 5</code> means that your worry level after the monkey inspected the item is five times whatever your worry level was before inspection.)</li>\n",
       "<li><code>Test</code> shows how the monkey uses your worry level to decide where to throw an item next.\n",
       "  <ul>\n",
       "  <li><code>If true</code> shows what happens with an item if the <code>Test</code> was true.</li>\n",
       "  <li><code>If false</code> shows what happens with an item if the <code>Test</code> was false.</li>\n",
       "  </ul>\n",
       "</li>\n",
       "</ul>\n",
       "<p>After each monkey inspects an item but before it tests your worry level, your relief that the monkey's inspection didn't damage the item causes your worry level to be <em>divided by three</em> and rounded down to the nearest integer.</p>\n",
       "<p>The monkeys take turns inspecting and throwing items. On a single monkey's <em>turn</em>, it inspects and throws all of the items it is holding one at a time and in the order listed. Monkey <code>0</code> goes first, then monkey <code>1</code>, and so on until each monkey has had one turn. The process of each monkey taking a single turn is called a <em>round</em>.</p>\n",
       "<p>When a monkey throws an item to another monkey, the item goes on the <em>end</em> of the recipient monkey's list. A monkey that starts a round with no items could end up inspecting and throwing many items by the time its turn comes around. If a monkey is holding no items at the start of its turn, its turn ends.</p>\n",
       "<p>In the above example, the first round proceeds as follows:</p>\n",
       "<pre><code>Monkey 0:\n",
       "  Monkey inspects an item with a worry level of 79.\n",
       "    Worry level is multiplied by 19 to 1501.\n",
       "    Monkey gets bored with item. Worry level is divided by 3 to 500.\n",
       "    Current worry level is not divisible by 23.\n",
       "    Item with worry level 500 is thrown to monkey 3.\n",
       "  Monkey inspects an item with a worry level of 98.\n",
       "    Worry level is multiplied by 19 to 1862.\n",
       "    Monkey gets bored with item. Worry level is divided by 3 to 620.\n",
       "    Current worry level is not divisible by 23.\n",
       "    Item with worry level 620 is thrown to monkey 3.\n",
       "Monkey 1:\n",
       "  Monkey inspects an item with a worry level of 54.\n",
       "    Worry level increases by 6 to 60.\n",
       "    Monkey gets bored with item. Worry level is divided by 3 to 20.\n",
       "    Current worry level is not divisible by 19.\n",
       "    Item with worry level 20 is thrown to monkey 0.\n",
       "  Monkey inspects an item with a worry level of 65.\n",
       "    Worry level increases by 6 to 71.\n",
       "    Monkey gets bored with item. Worry level is divided by 3 to 23.\n",
       "    Current worry level is not divisible by 19.\n",
       "    Item with worry level 23 is thrown to monkey 0.\n",
       "  Monkey inspects an item with a worry level of 75.\n",
       "    Worry level increases by 6 to 81.\n",
       "    Monkey gets bored with item. Worry level is divided by 3 to 27.\n",
       "    Current worry level is not divisible by 19.\n",
       "    Item with worry level 27 is thrown to monkey 0.\n",
       "  Monkey inspects an item with a worry level of 74.\n",
       "    Worry level increases by 6 to 80.\n",
       "    Monkey gets bored with item. Worry level is divided by 3 to 26.\n",
       "    Current worry level is not divisible by 19.\n",
       "    Item with worry level 26 is thrown to monkey 0.\n",
       "Monkey 2:\n",
       "  Monkey inspects an item with a worry level of 79.\n",
       "    Worry level is multiplied by itself to 6241.\n",
       "    Monkey gets bored with item. Worry level is divided by 3 to 2080.\n",
       "    Current worry level is divisible by 13.\n",
       "    Item with worry level 2080 is thrown to monkey 1.\n",
       "  Monkey inspects an item with a worry level of 60.\n",
       "    Worry level is multiplied by itself to 3600.\n",
       "    Monkey gets bored with item. Worry level is divided by 3 to 1200.\n",
       "    Current worry level is not divisible by 13.\n",
       "    Item with worry level 1200 is thrown to monkey 3.\n",
       "  Monkey inspects an item with a worry level of 97.\n",
       "    Worry level is multiplied by itself to 9409.\n",
       "    Monkey gets bored with item. Worry level is divided by 3 to 3136.\n",
       "    Current worry level is not divisible by 13.\n",
       "    Item with worry level 3136 is thrown to monkey 3.\n",
       "Monkey 3:\n",
       "  Monkey inspects an item with a worry level of 74.\n",
       "    Worry level increases by 3 to 77.\n",
       "    Monkey gets bored with item. Worry level is divided by 3 to 25.\n",
       "    Current worry level is not divisible by 17.\n",
       "    Item with worry level 25 is thrown to monkey 1.\n",
       "  Monkey inspects an item with a worry level of 500.\n",
       "    Worry level increases by 3 to 503.\n",
       "    Monkey gets bored with item. Worry level is divided by 3 to 167.\n",
       "    Current worry level is not divisible by 17.\n",
       "    Item with worry level 167 is thrown to monkey 1.\n",
       "  Monkey inspects an item with a worry level of 620.\n",
       "    Worry level increases by 3 to 623.\n",
       "    Monkey gets bored with item. Worry level is divided by 3 to 207.\n",
       "    Current worry level is not divisible by 17.\n",
       "    Item with worry level 207 is thrown to monkey 1.\n",
       "  Monkey inspects an item with a worry level of 1200.\n",
       "    Worry level increases by 3 to 1203.\n",
       "    Monkey gets bored with item. Worry level is divided by 3 to 401.\n",
       "    Current worry level is not divisible by 17.\n",
       "    Item with worry level 401 is thrown to monkey 1.\n",
       "  Monkey inspects an item with a worry level of 3136.\n",
       "    Worry level increases by 3 to 3139.\n",
       "    Monkey gets bored with item. Worry level is divided by 3 to 1046.\n",
       "    Current worry level is not divisible by 17.\n",
       "    Item with worry level 1046 is thrown to monkey 1.\n",
       "</code></pre>\n",
       "<p>After round 1, the monkeys are holding items with these worry levels:</p>\n",
       "<pre><code>Monkey 0: 20, 23, 27, 26\n",
       "Monkey 1: 2080, 25, 167, 207, 401, 1046\n",
       "Monkey 2: \n",
       "Monkey 3: \n",
       "</code></pre>\n",
       "<p>Monkeys 2 and 3 aren't holding any items at the end of the round; they both inspected items during the round and threw them all before the round ended.</p>\n",
       "<p>This process continues for a few more rounds:</p>\n",
       "<pre><code>After round 2, the monkeys are holding items with these worry levels:\n",
       "Monkey 0: 695, 10, 71, 135, 350\n",
       "Monkey 1: 43, 49, 58, 55, 362\n",
       "Monkey 2: \n",
       "Monkey 3: \n",
       "\n",
       "After round 3, the monkeys are holding items with these worry levels:\n",
       "Monkey 0: 16, 18, 21, 20, 122\n",
       "Monkey 1: 1468, 22, 150, 286, 739\n",
       "Monkey 2: \n",
       "Monkey 3: \n",
       "\n",
       "After round 4, the monkeys are holding items with these worry levels:\n",
       "Monkey 0: 491, 9, 52, 97, 248, 34\n",
       "Monkey 1: 39, 45, 43, 258\n",
       "Monkey 2: \n",
       "Monkey 3: \n",
       "\n",
       "After round 5, the monkeys are holding items with these worry levels:\n",
       "Monkey 0: 15, 17, 16, 88, 1037\n",
       "Monkey 1: 20, 110, 205, 524, 72\n",
       "Monkey 2: \n",
       "Monkey 3: \n",
       "\n",
       "After round 6, the monkeys are holding items with these worry levels:\n",
       "Monkey 0: 8, 70, 176, 26, 34\n",
       "Monkey 1: 481, 32, 36, 186, 2190\n",
       "Monkey 2: \n",
       "Monkey 3: \n",
       "\n",
       "After round 7, the monkeys are holding items with these worry levels:\n",
       "Monkey 0: 162, 12, 14, 64, 732, 17\n",
       "Monkey 1: 148, 372, 55, 72\n",
       "Monkey 2: \n",
       "Monkey 3: \n",
       "\n",
       "After round 8, the monkeys are holding items with these worry levels:\n",
       "Monkey 0: 51, 126, 20, 26, 136\n",
       "Monkey 1: 343, 26, 30, 1546, 36\n",
       "Monkey 2: \n",
       "Monkey 3: \n",
       "\n",
       "After round 9, the monkeys are holding items with these worry levels:\n",
       "Monkey 0: 116, 10, 12, 517, 14\n",
       "Monkey 1: 108, 267, 43, 55, 288\n",
       "Monkey 2: \n",
       "Monkey 3: \n",
       "\n",
       "After round 10, the monkeys are holding items with these worry levels:\n",
       "Monkey 0: 91, 16, 20, 98\n",
       "Monkey 1: 481, 245, 22, 26, 1092, 30\n",
       "Monkey 2: \n",
       "Monkey 3: \n",
       "\n",
       "...\n",
       "\n",
       "After round 15, the monkeys are holding items with these worry levels:\n",
       "Monkey 0: 83, 44, 8, 184, 9, 20, 26, 102\n",
       "Monkey 1: 110, 36\n",
       "Monkey 2: \n",
       "Monkey 3: \n",
       "\n",
       "...\n",
       "\n",
       "After round 20, the monkeys are holding items with these worry levels:\n",
       "Monkey 0: 10, 12, 14, 26, 34\n",
       "Monkey 1: 245, 93, 53, 199, 115\n",
       "Monkey 2: \n",
       "Monkey 3: \n",
       "</code></pre>\n",
       "<p>Chasing all of the monkeys at once is impossible; you're going to have to focus on the <em>two most active</em> monkeys if you want any hope of getting your stuff back. Count the <em>total number of times each monkey inspects items</em> over 20 rounds:</p>\n",
       "<pre><code><em>Monkey 0 inspected items 101 times.</em>\n",
       "Monkey 1 inspected items 95 times.\n",
       "Monkey 2 inspected items 7 times.\n",
       "<em>Monkey 3 inspected items 105 times.</em>\n",
       "</code></pre>\n",
       "<p>In this example, the two most active monkeys inspected items 101 and 105 times. The level of <em>monkey business</em> in this situation can be found by multiplying these together: <code><em>10605</em></code>.</p>\n",
       "<p>Figure out which monkeys to chase by counting how many items they inspect over 20 rounds. <em>What is the level of monkey business after 20 rounds of stuff-slinging simian shenanigans?</em></p>\n"
      ],
      "text/plain": [
       "<IPython.core.display.HTML object>"
      ]
     },
     "execution_count": 3,
     "metadata": {},
     "output_type": "execute_result"
    }
   ],
   "source": [
    "from IPython.display import HTML\n",
    "\n",
    "HTML(downloaded['part1'])"
   ]
  },
  {
   "cell_type": "markdown",
   "metadata": {},
   "source": [
    "## Comments\n",
    "\n",
    "..."
   ]
  },
  {
   "cell_type": "code",
   "execution_count": 4,
   "metadata": {},
   "outputs": [],
   "source": [
    "from IPython.display import display\n",
    "\n",
    "testdata0 = \"\"\"noop\n",
    "addx 3\n",
    "addx -5\"\"\".splitlines()\n",
    "\n",
    "testdata = \"\"\"Monkey 0:\n",
    "  Starting items: 79, 98\n",
    "  Operation: new = old * 19\n",
    "  Test: divisible by 23\n",
    "    If true: throw to monkey 2\n",
    "    If false: throw to monkey 3\n",
    "\n",
    "Monkey 1:\n",
    "  Starting items: 54, 65, 75, 74\n",
    "  Operation: new = old + 6\n",
    "  Test: divisible by 19\n",
    "    If true: throw to monkey 2\n",
    "    If false: throw to monkey 0\n",
    "\n",
    "Monkey 2:\n",
    "  Starting items: 79, 60, 97\n",
    "  Operation: new = old * old\n",
    "  Test: divisible by 13\n",
    "    If true: throw to monkey 1\n",
    "    If false: throw to monkey 3\n",
    "\n",
    "Monkey 3:\n",
    "  Starting items: 74\n",
    "  Operation: new = old + 3\n",
    "  Test: divisible by 17\n",
    "    If true: throw to monkey 0\n",
    "    If false: throw to monkey 1\"\"\".splitlines()\n",
    "\n",
    "inputdata = downloaded['input'].splitlines()"
   ]
  },
  {
   "cell_type": "code",
   "execution_count": 5,
   "metadata": {},
   "outputs": [
    {
     "data": {
      "text/plain": [
       "\"['Monkey 0:', '  Starting items: 50, 70, 54, 83, 52, 78', '  Operation: new = old * 3', '  Test: divisible by 11', '    If true: throw to monkey 2', '    If false: throw to monkey 7', '', 'Monkey 1:', '  Starting items: 71, 52, 58, 60, 71', '  Operation: new = old * old'] ... len(inputdata)=55\""
      ]
     },
     "metadata": {},
     "output_type": "display_data"
    }
   ],
   "source": [
    "display(f'{inputdata[:10]} ... {len(inputdata)=}')"
   ]
  },
  {
   "cell_type": "code",
   "execution_count": 6,
   "metadata": {},
   "outputs": [],
   "source": [
    "def take_last_int(line: str) -> int:\n",
    "    return int(line.split(' ')[-1])"
   ]
  },
  {
   "cell_type": "code",
   "execution_count": 8,
   "metadata": {},
   "outputs": [],
   "source": [
    "from typing import Callable\n",
    "\n",
    "\n",
    "def build_operation(line: str) -> Callable[[int], int]:\n",
    "    operation_str = line[line.find('new = ') +\n",
    "                         len('new = '):]\n",
    "    return lambda old: eval(operation_str)"
   ]
  },
  {
   "cell_type": "code",
   "execution_count": 9,
   "metadata": {},
   "outputs": [
    {
     "data": {
      "text/plain": [
       "'old * 19'"
      ]
     },
     "execution_count": 9,
     "metadata": {},
     "output_type": "execute_result"
    }
   ],
   "source": [
    "line = 'Operation: new = old * 19'\n",
    "line[line.find('new = ') + len('new = '):]"
   ]
  },
  {
   "cell_type": "code",
   "execution_count": 10,
   "metadata": {},
   "outputs": [
    {
     "data": {
      "text/plain": [
       "190"
      ]
     },
     "execution_count": 10,
     "metadata": {},
     "output_type": "execute_result"
    }
   ],
   "source": [
    "build_operation(line)(10)"
   ]
  },
  {
   "cell_type": "code",
   "execution_count": 11,
   "metadata": {},
   "outputs": [],
   "source": [
    "def build_divisable_test(divisor: int,\n",
    "                         if_true: int,\n",
    "                         if_false: int) \\\n",
    "                             -> Callable[[int], int]:\n",
    "    return lambda sample: \\\n",
    "        if_true if sample % divisor == 0 \\\n",
    "        else if_false"
   ]
  },
  {
   "cell_type": "code",
   "execution_count": 40,
   "metadata": {},
   "outputs": [],
   "source": [
    "from typing import List, Tuple, Iterable\n",
    "from __future__ import annotations\n",
    "\n",
    "\n",
    "class Monkey:\n",
    "    def __init__(self,\n",
    "                 index: int,\n",
    "                 items: List[int],\n",
    "                 operation: Callable[[int], int],\n",
    "                 criteria: Callable[[int], int]):\n",
    "        self.index = index\n",
    "        self.items = items\n",
    "        self.operation = operation\n",
    "        self.criteria = criteria\n",
    "\n",
    "    def __str__(self) -> str:\n",
    "        return f'Monkey {self.index}: ' + \\\n",
    "            f'{\", \".join(str(item) for item in self.items)}'\n",
    "\n",
    "    def __repr__(self) -> str:\n",
    "        return str(self) + f' ({self.operation}, {self.criteria})'\n",
    "\n",
    "    @classmethod\n",
    "    def from_lines(cls, lines: Iterable[str]) -> Monkey:\n",
    "        for line in lines:\n",
    "            if line.find('Monkey') != -1:\n",
    "                index = int(line.split(' ')[-1][:-1])\n",
    "            elif line.find('Starting items:') != -1:\n",
    "                items_str = line[line.find('items: ') + len('items: '):]\n",
    "                items = [int(item) for item in items_str.split(', ')]\n",
    "            elif line.find('Operation:') != -1:\n",
    "                operation = build_operation(line)\n",
    "            elif line.find('Test:') != -1:\n",
    "                divisor = take_last_int(line)\n",
    "            elif line.find('If true:') != -1:\n",
    "                if_true = take_last_int(line)\n",
    "            elif line.find('If false:') != -1:\n",
    "                if_false = take_last_int(line)\n",
    "        criteria = build_divisable_test(divisor,\n",
    "                                        if_true,\n",
    "                                        if_false)\n",
    "        return cls(index, items, operation, criteria)\n",
    "\n",
    "    @classmethod\n",
    "    def from_dataset(cls, lines: Iterable[str]) -> List[Monkey]:\n",
    "        monkeys: List[Monkey] = list()\n",
    "        current_lines: List[str] = list()\n",
    "        for line in lines:\n",
    "            if line != '':\n",
    "                current_lines.append(line)\n",
    "            else:\n",
    "                monkeys.append(cls.from_lines(current_lines))\n",
    "                current_lines = list()\n",
    "        monkeys.append(cls.from_lines(current_lines))\n",
    "        return monkeys"
   ]
  },
  {
   "cell_type": "code",
   "execution_count": 14,
   "metadata": {},
   "outputs": [],
   "source": [
    "monkey0 = Monkey([79, 98],\n",
    "                 lambda worry: worry * 19,\n",
    "                 build_divisable_test(23, 2, 3))"
   ]
  },
  {
   "cell_type": "code",
   "execution_count": 34,
   "metadata": {},
   "outputs": [],
   "source": [
    "monkey0_str = \"\"\"Monkey 0:\n",
    "  Starting items: 79, 98\n",
    "  Operation: new = old * 19\n",
    "  Test: divisible by 23\n",
    "    If true: throw to monkey 2\n",
    "    If false: throw to monkey 3\"\"\".splitlines()\n",
    "\n",
    "monkey0_fromstr = Monkey.from_lines(monkey0_str)"
   ]
  },
  {
   "cell_type": "code",
   "execution_count": 41,
   "metadata": {},
   "outputs": [],
   "source": [
    "monkeys = Monkey.from_dataset(testdata)"
   ]
  },
  {
   "cell_type": "code",
   "execution_count": 42,
   "metadata": {},
   "outputs": [
    {
     "data": {
      "text/plain": [
       "[Monkey 0: 79, 98 (<function build_operation.<locals>.<lambda> at 0x7f6608ddc0d0>, <function build_divisable_test.<locals>.<lambda> at 0x7f6608ddd6c0>),\n",
       " Monkey 1: 54, 65, 75, 74 (<function build_operation.<locals>.<lambda> at 0x7f6608ddf910>, <function build_divisable_test.<locals>.<lambda> at 0x7f6608ddd1b0>),\n",
       " Monkey 2: 79, 60, 97 (<function build_operation.<locals>.<lambda> at 0x7f6608ddc280>, <function build_divisable_test.<locals>.<lambda> at 0x7f6608ddcc10>),\n",
       " Monkey 3: 74 (<function build_operation.<locals>.<lambda> at 0x7f6608ddcf70>, <function build_divisable_test.<locals>.<lambda> at 0x7f6608ddfac0>)]"
      ]
     },
     "metadata": {},
     "output_type": "display_data"
    }
   ],
   "source": [
    "display(monkeys)"
   ]
  },
  {
   "cell_type": "code",
   "execution_count": 44,
   "metadata": {},
   "outputs": [],
   "source": [
    "def inspect_item(m: Monkey, worry: int) -> Tuple[int, int]:\n",
    "    worry = m.operation(worry)\n",
    "    worry //= 3\n",
    "    recipient = m.criteria(worry)\n",
    "    return recipient, worry"
   ]
  },
  {
   "cell_type": "code",
   "execution_count": 45,
   "metadata": {},
   "outputs": [
    {
     "data": {
      "text/plain": [
       "(3, 500)"
      ]
     },
     "execution_count": 45,
     "metadata": {},
     "output_type": "execute_result"
    }
   ],
   "source": [
    "inspect_item(monkeys[0], 79)"
   ]
  },
  {
   "cell_type": "code",
   "execution_count": null,
   "metadata": {},
   "outputs": [],
   "source": [
    "def monkey_turn(m: Monkey, monkeys: List[Monkey]):\n",
    "    for worry in items:\n",
    "        recipient, worry = inspect_item(worry)\n",
    "        monkeys[recipient].append(worry)\n",
    "    items.clear()"
   ]
  },
  {
   "cell_type": "code",
   "execution_count": null,
   "metadata": {},
   "outputs": [
    {
     "data": {
      "text/html": [
       "\n",
       "<p>To begin, <a href=\"11/input\" target=\"_blank\">get your puzzle input</a>.</p>\n",
       "<form method=\"post\" action=\"11/answer\"><input type=\"hidden\" name=\"level\" value=\"1\"/><p>Answer: <input type=\"text\" name=\"answer\" autocomplete=\"off\"/> <input type=\"submit\" value=\"[Submit]\"/></p></form>\n",
       "<p>You can also <span class=\"share\">[Share<span class=\"share-content\">on\n",
       "  <a href=\"https://twitter.com/intent/tweet?text=%22Monkey+in+the+Middle%22+%2D+Day+11+%2D+Advent+of+Code+2022&amp;url=https%3A%2F%2Fadventofcode%2Ecom%2F2022%2Fday%2F11&amp;related=ericwastl&amp;hashtags=AdventOfCode\" target=\"_blank\">Twitter</a>\n",
       "  <a href=\"javascript:void(0);\" onclick=\"var mastodon_instance=prompt('Mastodon Instance / Server Name?'); if(typeof mastodon_instance==='string' && mastodon_instance.length){this.href='https://'+mastodon_instance+'/share?text=%22Monkey+in+the+Middle%22+%2D+Day+11+%2D+Advent+of+Code+2022+%23AdventOfCode+https%3A%2F%2Fadventofcode%2Ecom%2F2022%2Fday%2F11'}else{return false;}\" target=\"_blank\">Mastodon</a\n",
       "></span>]</span> this puzzle.</p>\n"
      ],
      "text/plain": [
       "<IPython.core.display.HTML object>"
      ]
     },
     "execution_count": 6,
     "metadata": {},
     "output_type": "execute_result"
    }
   ],
   "source": [
    "HTML(downloaded['part1_footer'])"
   ]
  },
  {
   "cell_type": "markdown",
   "metadata": {},
   "source": [
    "## Part Two"
   ]
  },
  {
   "cell_type": "code",
   "execution_count": null,
   "metadata": {},
   "outputs": [],
   "source": [
    "# HTML(downloaded['part2'])"
   ]
  },
  {
   "cell_type": "code",
   "execution_count": null,
   "metadata": {},
   "outputs": [],
   "source": [
    "# HTML(downloaded['part2_footer'])"
   ]
  }
 ],
 "metadata": {
  "kernelspec": {
   "display_name": "Python 3.10.6 64-bit",
   "language": "python",
   "name": "python3"
  },
  "language_info": {
   "codemirror_mode": {
    "name": "ipython",
    "version": 3
   },
   "file_extension": ".py",
   "mimetype": "text/x-python",
   "name": "python",
   "nbconvert_exporter": "python",
   "pygments_lexer": "ipython3",
   "version": "3.10.6"
  },
  "vscode": {
   "interpreter": {
    "hash": "e7370f93d1d0cde622a1f8e1c04877d8463912d04d973331ad4851f04de6915a"
   }
  }
 },
 "nbformat": 4,
 "nbformat_minor": 4
}

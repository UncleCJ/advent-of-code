{
 "cells": [
  {
   "attachments": {},
   "cell_type": "markdown",
   "metadata": {},
   "source": [
    "# Day 7: No Space Left On Device\n",
    "\n",
    "[*Advent of Code 2022 day 7*](https://adventofcode.com/2022/day/7) and [*solution megathread*](https://www.reddit.com/zesk40)\n",
    "\n",
    "[![nbviewer](https://raw.githubusercontent.com/jupyter/design/master/logos/Badges/nbviewer_badge.svg)](https://nbviewer.jupyter.org/github/UncleCJ/advent-of-code/blob/cj/2022/07/code.ipynb) [![Binder](https://mybinder.org/badge_logo.svg)](https://mybinder.org/v2/gh/UncleCJ/advent-of-code/cj?filepath=2022%2F07%2Fcode.ipynb)"
   ]
  },
  {
   "cell_type": "code",
   "execution_count": 1,
   "metadata": {},
   "outputs": [
    {
     "name": "stderr",
     "output_type": "stream",
     "text": [
      "Version 1.0.4\n"
     ]
    }
   ],
   "source": [
    "from IPython.display import HTML\n",
    "import sys\n",
    "sys.path.append('../../')\n",
    "\n",
    "\n",
    "%load_ext nb_mypy\n",
    "%nb_mypy On"
   ]
  },
  {
   "cell_type": "code",
   "execution_count": 2,
   "metadata": {},
   "outputs": [
    {
     "name": "stdout",
     "output_type": "stream",
     "text": [
      "Writing 'downloaded' (dict) to file 'downloaded'.\n"
     ]
    }
   ],
   "source": [
    "import common\n",
    "\n",
    "\n",
    "downloaded = common.refresh()\n",
    "%store downloaded >downloaded\n",
    "\n",
    "%load_ext pycodestyle_magic\n",
    "%pycodestyle_on"
   ]
  },
  {
   "cell_type": "markdown",
   "metadata": {},
   "source": [
    "## Part One"
   ]
  },
  {
   "cell_type": "code",
   "execution_count": 3,
   "metadata": {},
   "outputs": [
    {
     "data": {
      "text/html": [
       "<h2>--- Day 7: No Space Left On Device ---</h2><p>You can hear birds chirping and raindrops hitting leaves as the expedition proceeds. Occasionally, you can even hear much louder sounds in the distance; how big do the animals get out here, anyway?</p>\n",
       "<p>The device the Elves gave you has problems with more than just its communication system. You try to run a system update:</p>\n",
       "<pre><code>$ system-update --please --pretty-please-with-sugar-on-top\n",
       "<span title=\"E099 PROGRAMMER IS OVERLY POLITE\">Error</span>: No space left on device\n",
       "</code></pre>\n",
       "<p>Perhaps you can delete some files to make space for the update?</p>\n",
       "<p>You browse around the filesystem to assess the situation and save the resulting terminal output (your puzzle input). For example:</p>\n",
       "<pre><code>$ cd /\n",
       "$ ls\n",
       "dir a\n",
       "14848514 b.txt\n",
       "8504156 c.dat\n",
       "dir d\n",
       "$ cd a\n",
       "$ ls\n",
       "dir e\n",
       "29116 f\n",
       "2557 g\n",
       "62596 h.lst\n",
       "$ cd e\n",
       "$ ls\n",
       "584 i\n",
       "$ cd ..\n",
       "$ cd ..\n",
       "$ cd d\n",
       "$ ls\n",
       "4060174 j\n",
       "8033020 d.log\n",
       "5626152 d.ext\n",
       "7214296 k\n",
       "</code></pre>\n",
       "<p>The filesystem consists of a tree of files (plain data) and directories (which can contain other directories or files). The outermost directory is called <code>/</code>. You can navigate around the filesystem, moving into or out of directories and listing the contents of the directory you're currently in.</p>\n",
       "<p>Within the terminal output, lines that begin with <code>$</code> are <em>commands you executed</em>, very much like some modern computers:</p>\n",
       "<ul>\n",
       "<li><code>cd</code> means <em>change directory</em>. This changes which directory is the current directory, but the specific result depends on the argument:\n",
       "  <ul>\n",
       "  <li><code>cd x</code> moves <em>in</em> one level: it looks in the current directory for the directory named <code>x</code> and makes it the current directory.</li>\n",
       "  <li><code>cd ..</code> moves <em>out</em> one level: it finds the directory that contains the current directory, then makes that directory the current directory.</li>\n",
       "  <li><code>cd /</code> switches the current directory to the outermost directory, <code>/</code>.</li>\n",
       "  </ul>\n",
       "</li>\n",
       "<li><code>ls</code> means <em>list</em>. It prints out all of the files and directories immediately contained by the current directory:\n",
       "  <ul>\n",
       "  <li><code>123 abc</code> means that the current directory contains a file named <code>abc</code> with size <code>123</code>.</li>\n",
       "  <li><code>dir xyz</code> means that the current directory contains a directory named <code>xyz</code>.</li>\n",
       "  </ul>\n",
       "</li>\n",
       "</ul>\n",
       "<p>Given the commands and output in the example above, you can determine that the filesystem looks visually like this:</p>\n",
       "<pre><code>- / (dir)\n",
       "  - a (dir)\n",
       "    - e (dir)\n",
       "      - i (file, size=584)\n",
       "    - f (file, size=29116)\n",
       "    - g (file, size=2557)\n",
       "    - h.lst (file, size=62596)\n",
       "  - b.txt (file, size=14848514)\n",
       "  - c.dat (file, size=8504156)\n",
       "  - d (dir)\n",
       "    - j (file, size=4060174)\n",
       "    - d.log (file, size=8033020)\n",
       "    - d.ext (file, size=5626152)\n",
       "    - k (file, size=7214296)\n",
       "</code></pre>\n",
       "<p>Here, there are four directories: <code>/</code> (the outermost directory), <code>a</code> and <code>d</code> (which are in <code>/</code>), and <code>e</code> (which is in <code>a</code>). These directories also contain files of various sizes.</p>\n",
       "<p>Since the disk is full, your first step should probably be to find directories that are good candidates for deletion. To do this, you need to determine the <em>total size</em> of each directory. The total size of a directory is the sum of the sizes of the files it contains, directly or indirectly. (Directories themselves do not count as having any intrinsic size.)</p>\n",
       "<p>The total sizes of the directories above can be found as follows:</p>\n",
       "<ul>\n",
       "<li>The total size of directory <code>e</code> is <em>584</em> because it contains a single file <code>i</code> of size 584 and no other directories.</li>\n",
       "<li>The directory <code>a</code> has total size <em>94853</em> because it contains files <code>f</code> (size 29116), <code>g</code> (size 2557), and <code>h.lst</code> (size 62596), plus file <code>i</code> indirectly (<code>a</code> contains <code>e</code> which contains <code>i</code>).</li>\n",
       "<li>Directory <code>d</code> has total size <em>24933642</em>.</li>\n",
       "<li>As the outermost directory, <code>/</code> contains every file. Its total size is <em>48381165</em>, the sum of the size of every file.</li>\n",
       "</ul>\n",
       "<p>To begin, find all of the directories with a total size of <em>at most 100000</em>, then calculate the sum of their total sizes. In the example above, these directories are <code>a</code> and <code>e</code>; the sum of their total sizes is <code><em>95437</em></code> (94853 + 584). (As in this example, this process can count files more than once!)</p>\n",
       "<p>Find all of the directories with a total size of at most 100000. <em>What is the sum of the total sizes of those directories?</em></p>\n"
      ],
      "text/plain": [
       "<IPython.core.display.HTML object>"
      ]
     },
     "execution_count": 3,
     "metadata": {},
     "output_type": "execute_result"
    }
   ],
   "source": [
    "from IPython.display import HTML\n",
    "\n",
    "HTML(downloaded['part1'])"
   ]
  },
  {
   "cell_type": "markdown",
   "metadata": {},
   "source": [
    "## Comments\n",
    "\n",
    "..."
   ]
  },
  {
   "cell_type": "code",
   "execution_count": 4,
   "metadata": {},
   "outputs": [],
   "source": [
    "from IPython.display import display\n",
    "\n",
    "testdata = \"\"\"$ cd /\n",
    "$ ls\n",
    "dir a\n",
    "14848514 b.txt\n",
    "8504156 c.dat\n",
    "dir d\n",
    "$ cd a\n",
    "$ ls\n",
    "dir e\n",
    "29116 f\n",
    "2557 g\n",
    "62596 h.lst\n",
    "$ cd e\n",
    "$ ls\n",
    "584 i\n",
    "$ cd ..\n",
    "$ cd ..\n",
    "$ cd d\n",
    "$ ls\n",
    "4060174 j\n",
    "8033020 d.log\n",
    "5626152 d.ext\n",
    "7214296 k\"\"\".splitlines()\n",
    "\n",
    "inputdata = downloaded['input'].splitlines()"
   ]
  },
  {
   "cell_type": "code",
   "execution_count": 59,
   "metadata": {},
   "outputs": [],
   "source": [
    "from typing import Dict\n",
    "\n",
    "\n",
    "class Node(object):\n",
    "    def __init__(self, name: str, size: int = 0):\n",
    "        self.name = name\n",
    "        self.size = size\n",
    "\n",
    "    def __repr__(self):\n",
    "        return f'{self.size} {self.name}'\n",
    "\n",
    "\n",
    "class DirNode(Node):\n",
    "    def __init__(self, name: str):\n",
    "        self.contents: Dict[str, Node] = dict()\n",
    "        super().__init__(name)\n",
    "\n",
    "    def __repr__(self):\n",
    "        return '\\n'.join(\n",
    "            [f'{self.size} {self.name}:'] +\n",
    "            [subnode.__repr__()\n",
    "             for subnode in self.contents.values()\n",
    "             if subnode.name != '..'])"
   ]
  },
  {
   "cell_type": "code",
   "execution_count": 48,
   "metadata": {},
   "outputs": [],
   "source": [
    "root = DirNode('')\n",
    "root.contents['foobar'] = Node('foobar', 30)\n",
    "root.contents['barbar'] = DirNode('barbar')"
   ]
  },
  {
   "cell_type": "code",
   "execution_count": 51,
   "metadata": {},
   "outputs": [],
   "source": [
    "barbar = root.contents['barbar']\n",
    "if isinstance(barbar, DirNode):\n",
    "    barbar.contents['carcar'] = Node('carcar', 10)"
   ]
  },
  {
   "cell_type": "code",
   "execution_count": 52,
   "metadata": {},
   "outputs": [
    {
     "data": {
      "text/plain": [
       "0 :\n",
       "30 foobar\n",
       "0 barbar:\n",
       "10 carcar"
      ]
     },
     "metadata": {},
     "output_type": "display_data"
    }
   ],
   "source": [
    "display(root)"
   ]
  },
  {
   "cell_type": "code",
   "execution_count": 82,
   "metadata": {},
   "outputs": [],
   "source": [
    "from types import NoneType\n",
    "\n",
    "\n",
    "def change_directory(pwd: Union[DirNode, NoneType], argument: str) \\\n",
    "        -> DirNode:\n",
    "    if argument == '/':\n",
    "        return DirNode('')\n",
    "    elif argument == '..':\n",
    "        assert isinstance(pwd, DirNode)\n",
    "        display(pwd)\n",
    "        parent = pwd.contents['..']\n",
    "        assert isinstance(parent, DirNode)\n",
    "        # TODO: Sum up the size of pwd\n",
    "        return parent\n",
    "    else:  # argument == 'somedir'\n",
    "        assert isinstance(pwd, DirNode)\n",
    "        newdir = pwd.contents[argument]\n",
    "        assert isinstance(newdir, DirNode)\n",
    "        newdir.contents['..'] = pwd\n",
    "        return newdir"
   ]
  },
  {
   "cell_type": "code",
   "execution_count": 62,
   "metadata": {},
   "outputs": [],
   "source": [
    "def parse_ls(ls_output: List[str]) -> Dict[str, Node]:\n",
    "    output: Dict[str, Node] = dict()\n",
    "    for line in ls_output:\n",
    "        stat, name = line.split(' ')\n",
    "        if stat == 'dir':\n",
    "            output[name] = DirNode(name)\n",
    "        else:\n",
    "            output[name] = Node(name, int(stat))\n",
    "    return output"
   ]
  },
  {
   "cell_type": "code",
   "execution_count": 79,
   "metadata": {},
   "outputs": [],
   "source": [
    "def parse_trace(data: List[str]) -> DirNode:\n",
    "    is_ls = False\n",
    "    ls_output: List[str] = list()\n",
    "    file_tree: Union[DirNode, NoneType] = None\n",
    "    pwd: Union[DirNode, NoneType] = None\n",
    "    for line in data:\n",
    "        display(f'{line=}')\n",
    "        if is_ls and line[0] == '$':\n",
    "            is_ls = False\n",
    "            assert isinstance(pwd, DirNode)\n",
    "            pwd.contents = parse_ls(ls_output)\n",
    "\n",
    "        if is_ls:\n",
    "            ls_output.append(line)\n",
    "        else:\n",
    "            command, *argument = line[2:].split(' ', 1)\n",
    "            if command == 'ls':\n",
    "                is_ls = True\n",
    "                ls_output = list()\n",
    "            else:  # command == cd\n",
    "                pwd = change_directory(pwd, argument[0])\n",
    "                if not file_tree:\n",
    "                    file_tree = pwd\n",
    "    assert isinstance(file_tree, DirNode)\n",
    "    return file_tree"
   ]
  },
  {
   "cell_type": "code",
   "execution_count": 83,
   "metadata": {},
   "outputs": [
    {
     "data": {
      "text/plain": [
       "\"line='$ cd /'\""
      ]
     },
     "metadata": {},
     "output_type": "display_data"
    },
    {
     "data": {
      "text/plain": [
       "\"line='$ ls'\""
      ]
     },
     "metadata": {},
     "output_type": "display_data"
    },
    {
     "data": {
      "text/plain": [
       "\"line='dir a'\""
      ]
     },
     "metadata": {},
     "output_type": "display_data"
    },
    {
     "data": {
      "text/plain": [
       "\"line='14848514 b.txt'\""
      ]
     },
     "metadata": {},
     "output_type": "display_data"
    },
    {
     "data": {
      "text/plain": [
       "\"line='8504156 c.dat'\""
      ]
     },
     "metadata": {},
     "output_type": "display_data"
    },
    {
     "data": {
      "text/plain": [
       "\"line='dir d'\""
      ]
     },
     "metadata": {},
     "output_type": "display_data"
    },
    {
     "data": {
      "text/plain": [
       "\"line='$ cd a'\""
      ]
     },
     "metadata": {},
     "output_type": "display_data"
    },
    {
     "data": {
      "text/plain": [
       "\"line='$ ls'\""
      ]
     },
     "metadata": {},
     "output_type": "display_data"
    },
    {
     "data": {
      "text/plain": [
       "\"line='dir e'\""
      ]
     },
     "metadata": {},
     "output_type": "display_data"
    },
    {
     "data": {
      "text/plain": [
       "\"line='29116 f'\""
      ]
     },
     "metadata": {},
     "output_type": "display_data"
    },
    {
     "data": {
      "text/plain": [
       "\"line='2557 g'\""
      ]
     },
     "metadata": {},
     "output_type": "display_data"
    },
    {
     "data": {
      "text/plain": [
       "\"line='62596 h.lst'\""
      ]
     },
     "metadata": {},
     "output_type": "display_data"
    },
    {
     "data": {
      "text/plain": [
       "\"line='$ cd e'\""
      ]
     },
     "metadata": {},
     "output_type": "display_data"
    },
    {
     "data": {
      "text/plain": [
       "\"line='$ ls'\""
      ]
     },
     "metadata": {},
     "output_type": "display_data"
    },
    {
     "data": {
      "text/plain": [
       "\"line='584 i'\""
      ]
     },
     "metadata": {},
     "output_type": "display_data"
    },
    {
     "data": {
      "text/plain": [
       "\"line='$ cd ..'\""
      ]
     },
     "metadata": {},
     "output_type": "display_data"
    },
    {
     "data": {
      "text/plain": [
       "0 e:\n",
       "584 i"
      ]
     },
     "metadata": {},
     "output_type": "display_data"
    },
    {
     "ename": "KeyError",
     "evalue": "'..'",
     "output_type": "error",
     "traceback": [
      "\u001b[0;31m---------------------------------------------------------------------------\u001b[0m",
      "\u001b[0;31mKeyError\u001b[0m                                  Traceback (most recent call last)",
      "Cell \u001b[0;32mIn [83], line 1\u001b[0m\n\u001b[0;32m----> 1\u001b[0m parse_trace(testdata)\n",
      "Cell \u001b[0;32mIn [79], line 21\u001b[0m, in \u001b[0;36mparse_trace\u001b[0;34m(data)\u001b[0m\n\u001b[1;32m     19\u001b[0m     ls_output \u001b[39m=\u001b[39m \u001b[39mlist\u001b[39m()\n\u001b[1;32m     20\u001b[0m \u001b[39melse\u001b[39;00m:  \u001b[39m# command == cd\u001b[39;00m\n\u001b[0;32m---> 21\u001b[0m     pwd \u001b[39m=\u001b[39m change_directory(pwd, argument[\u001b[39m0\u001b[39;49m])\n\u001b[1;32m     22\u001b[0m     \u001b[39mif\u001b[39;00m \u001b[39mnot\u001b[39;00m file_tree:\n\u001b[1;32m     23\u001b[0m         file_tree \u001b[39m=\u001b[39m pwd\n",
      "Cell \u001b[0;32mIn [82], line 11\u001b[0m, in \u001b[0;36mchange_directory\u001b[0;34m(pwd, argument)\u001b[0m\n\u001b[1;32m      9\u001b[0m \u001b[39massert\u001b[39;00m \u001b[39misinstance\u001b[39m(pwd, DirNode)\n\u001b[1;32m     10\u001b[0m display(pwd)\n\u001b[0;32m---> 11\u001b[0m parent \u001b[39m=\u001b[39m pwd\u001b[39m.\u001b[39;49mcontents[\u001b[39m'\u001b[39;49m\u001b[39m..\u001b[39;49m\u001b[39m'\u001b[39;49m]\n\u001b[1;32m     12\u001b[0m \u001b[39massert\u001b[39;00m \u001b[39misinstance\u001b[39m(parent, DirNode)\n\u001b[1;32m     13\u001b[0m \u001b[39m# TODO: Sum up the size of pwd\u001b[39;00m\n",
      "\u001b[0;31mKeyError\u001b[0m: '..'"
     ]
    }
   ],
   "source": [
    "parse_trace(testdata)"
   ]
  },
  {
   "cell_type": "code",
   "execution_count": 8,
   "metadata": {},
   "outputs": [
    {
     "data": {
      "text/html": [
       "\n",
       "<p>To begin, <a href=\"7/input\" target=\"_blank\">get your puzzle input</a>.</p>\n",
       "<form method=\"post\" action=\"7/answer\"><input type=\"hidden\" name=\"level\" value=\"1\"/><p>Answer: <input type=\"text\" name=\"answer\" autocomplete=\"off\"/> <input type=\"submit\" value=\"[Submit]\"/></p></form>\n",
       "<p>You can also <span class=\"share\">[Share<span class=\"share-content\">on\n",
       "  <a href=\"https://twitter.com/intent/tweet?text=%22No+Space+Left+On+Device%22+%2D+Day+7+%2D+Advent+of+Code+2022&amp;url=https%3A%2F%2Fadventofcode%2Ecom%2F2022%2Fday%2F7&amp;related=ericwastl&amp;hashtags=AdventOfCode\" target=\"_blank\">Twitter</a>\n",
       "  <a href=\"javascript:void(0);\" onclick=\"var mastodon_instance=prompt('Mastodon Instance / Server Name?'); if(typeof mastodon_instance==='string' && mastodon_instance.length){this.href='https://'+mastodon_instance+'/share?text=%22No+Space+Left+On+Device%22+%2D+Day+7+%2D+Advent+of+Code+2022+%23AdventOfCode+https%3A%2F%2Fadventofcode%2Ecom%2F2022%2Fday%2F7'}else{return false;}\" target=\"_blank\">Mastodon</a\n",
       "></span>]</span> this puzzle.</p>\n"
      ],
      "text/plain": [
       "<IPython.core.display.HTML object>"
      ]
     },
     "execution_count": 8,
     "metadata": {},
     "output_type": "execute_result"
    }
   ],
   "source": [
    "HTML(downloaded['part1_footer'])"
   ]
  },
  {
   "cell_type": "markdown",
   "metadata": {},
   "source": [
    "## Part Two"
   ]
  },
  {
   "cell_type": "code",
   "execution_count": 9,
   "metadata": {},
   "outputs": [],
   "source": [
    "# HTML(downloaded['part2'])"
   ]
  },
  {
   "cell_type": "code",
   "execution_count": 10,
   "metadata": {},
   "outputs": [],
   "source": [
    "# HTML(downloaded['part2_footer'])"
   ]
  }
 ],
 "metadata": {
  "kernelspec": {
   "display_name": "Python 3.10.6 64-bit",
   "language": "python",
   "name": "python3"
  },
  "language_info": {
   "codemirror_mode": {
    "name": "ipython",
    "version": 3
   },
   "file_extension": ".py",
   "mimetype": "text/x-python",
   "name": "python",
   "nbconvert_exporter": "python",
   "pygments_lexer": "ipython3",
   "version": "3.10.6"
  },
  "vscode": {
   "interpreter": {
    "hash": "e7370f93d1d0cde622a1f8e1c04877d8463912d04d973331ad4851f04de6915a"
   }
  }
 },
 "nbformat": 4,
 "nbformat_minor": 4
}

{
 "cells": [
  {
   "attachments": {},
   "cell_type": "markdown",
   "metadata": {},
   "source": [
    "# Day 14: Regolith Reservoir\n",
    "\n",
    "[*Advent of Code 2022 day 14*](https://adventofcode.com/2022/day/14) and [*solution megathread*](https://redd.it/...)\n",
    "\n",
    "[![nbviewer](https://raw.githubusercontent.com/jupyter/design/master/logos/Badges/nbviewer_badge.svg)](https://nbviewer.jupyter.org/github/UncleCJ/advent-of-code/blob/cj/2022/14/code.ipynb) [![Binder](https://mybinder.org/badge_logo.svg)](https://mybinder.org/v2/gh/UncleCJ/advent-of-code/cj?filepath=2022%2F14%2Fcode.ipynb)"
   ]
  },
  {
   "cell_type": "code",
   "execution_count": 1,
   "metadata": {},
   "outputs": [
    {
     "name": "stderr",
     "output_type": "stream",
     "text": [
      "Version 1.0.4\n"
     ]
    }
   ],
   "source": [
    "from IPython.display import HTML\n",
    "import sys\n",
    "sys.path.append('../../')\n",
    "\n",
    "\n",
    "%load_ext nb_mypy\n",
    "%nb_mypy On"
   ]
  },
  {
   "cell_type": "code",
   "execution_count": 2,
   "metadata": {},
   "outputs": [
    {
     "name": "stdout",
     "output_type": "stream",
     "text": [
      "Writing 'downloaded' (dict) to file 'downloaded'.\n"
     ]
    }
   ],
   "source": [
    "import common\n",
    "\n",
    "\n",
    "downloaded = common.refresh()\n",
    "%store downloaded >downloaded\n",
    "\n",
    "%load_ext pycodestyle_magic\n",
    "%pycodestyle_on"
   ]
  },
  {
   "cell_type": "markdown",
   "metadata": {},
   "source": [
    "## Part One"
   ]
  },
  {
   "cell_type": "code",
   "execution_count": 3,
   "metadata": {},
   "outputs": [
    {
     "data": {
      "text/html": [
       "<h2>--- Day 14: Regolith Reservoir ---</h2><p>The distress signal leads you to a giant waterfall! Actually, hang on - the signal seems like it's coming from the waterfall itself, and that doesn't make any sense. However, you do notice a little path that leads <em>behind</em> the waterfall.</p>\n",
       "<p>Correction: the distress signal leads you behind a giant waterfall! There seems to be a large cave system here, and the signal definitely leads further inside.</p>\n",
       "<p>As you begin to make your way deeper underground, you feel the ground rumble for a moment. Sand begins pouring into the cave! If you don't quickly figure out where the sand is going, you could quickly become trapped!</p>\n",
       "<p>Fortunately, your <a href=\"/2018/day/17\">familiarity</a> with analyzing the path of falling material will come in handy here. You scan a two-dimensional vertical slice of the cave above you (your puzzle input) and discover that it is mostly <em>air</em> with structures made of <em>rock</em>.</p>\n",
       "<p>Your scan traces the path of each solid rock structure and reports the <code>x,y</code> coordinates that form the shape of the path, where <code>x</code> represents distance to the right and <code>y</code> represents distance down. Each path appears as a single line of text in your scan. After the first point of each path, each point indicates the end of a straight horizontal or vertical line to be drawn from the previous point. For example:</p>\n",
       "<pre><code>498,4 -&gt; 498,6 -&gt; 496,6\n",
       "503,4 -&gt; 502,4 -&gt; 502,9 -&gt; 494,9\n",
       "</code></pre>\n",
       "<p>This scan means that there are two paths of rock; the first path consists of two straight lines, and the second path consists of three straight lines. (Specifically, the first path consists of a line of rock from <code>498,4</code> through <code>498,6</code> and another line of rock from <code>498,6</code> through <code>496,6</code>.)</p>\n",
       "<p>The sand is pouring into the cave from point <code>500,0</code>.</p>\n",
       "<p>Drawing rock as <code>#</code>, air as <code>.</code>, and the source of the sand as <code>+</code>, this becomes:</p>\n",
       "<pre><code>\n",
       "  4     5  5\n",
       "  9     0  0\n",
       "  4     0  3\n",
       "0 ......+...\n",
       "1 ..........\n",
       "2 ..........\n",
       "3 ..........\n",
       "4 ....#...##\n",
       "5 ....#...#.\n",
       "6 ..###...#.\n",
       "7 ........#.\n",
       "8 ........#.\n",
       "9 #########.\n",
       "</code></pre>\n",
       "<p>Sand is produced <em>one unit at a time</em>, and the next unit of sand is not produced until the previous unit of sand <em>comes to rest</em>. A unit of sand is large enough to fill one tile of air in your scan.</p>\n",
       "<p>A unit of sand always falls <em>down one step</em> if possible. If the tile immediately below is blocked (by rock or sand), the unit of sand attempts to instead move diagonally <em>one step down and to the left</em>. If that tile is blocked, the unit of sand attempts to instead move diagonally <em>one step down and to the right</em>. Sand keeps moving as long as it is able to do so, at each step trying to move down, then down-left, then down-right. If all three possible destinations are blocked, the unit of sand <em>comes to rest</em> and no longer moves, at which point the next unit of sand is created back at the source.</p>\n",
       "<p>So, drawing sand that has come to rest as <code>o</code>, the first unit of sand simply falls straight down and then stops:</p>\n",
       "<pre><code>......+...\n",
       "..........\n",
       "..........\n",
       "..........\n",
       "....#...##\n",
       "....#...#.\n",
       "..###...#.\n",
       "........#.\n",
       "......<em>o</em>.#.\n",
       "#########.\n",
       "</code></pre>\n",
       "<p>The second unit of sand then falls straight down, lands on the first one, and then comes to rest to its left:</p>\n",
       "<pre><code>......+...\n",
       "..........\n",
       "..........\n",
       "..........\n",
       "....#...##\n",
       "....#...#.\n",
       "..###...#.\n",
       "........#.\n",
       ".....oo.#.\n",
       "#########.\n",
       "</code></pre>\n",
       "<p>After a total of five units of sand have come to rest, they form this pattern:</p>\n",
       "<pre><code>......+...\n",
       "..........\n",
       "..........\n",
       "..........\n",
       "....#...##\n",
       "....#...#.\n",
       "..###...#.\n",
       "......o.#.\n",
       "....oooo#.\n",
       "#########.\n",
       "</code></pre>\n",
       "<p>After a total of 22 units of sand:</p>\n",
       "<pre><code>......+...\n",
       "..........\n",
       "......o...\n",
       ".....ooo..\n",
       "....#ooo##\n",
       "....#ooo#.\n",
       "..###ooo#.\n",
       "....oooo#.\n",
       "...ooooo#.\n",
       "#########.\n",
       "</code></pre>\n",
       "<p>Finally, only two more units of sand can possibly come to rest:</p>\n",
       "<pre><code>......+...\n",
       "..........\n",
       "......o...\n",
       ".....ooo..\n",
       "....#ooo##\n",
       "...<em>o</em>#ooo#.\n",
       "..###ooo#.\n",
       "....oooo#.\n",
       ".<em>o</em>.ooooo#.\n",
       "#########.\n",
       "</code></pre>\n",
       "<p>Once all <code><em>24</em></code> units of sand shown above have come to rest, all further sand flows out the bottom, falling into the endless void. Just for fun, the path any new sand takes before falling forever is shown here with <code>~</code>:</p>\n",
       "<pre><code>.......+...\n",
       ".......~...\n",
       "......~o...\n",
       ".....~ooo..\n",
       "....~#ooo##\n",
       "...~o#ooo#.\n",
       "..~###ooo#.\n",
       "..~..oooo#.\n",
       ".~o.ooooo#.\n",
       "~#########.\n",
       "~..........\n",
       "~..........\n",
       "~..........\n",
       "</code></pre>\n",
       "<p>Using your scan, simulate the falling sand. <em>How many units of sand come to rest before sand starts flowing into the abyss below?</em></p>\n"
      ],
      "text/plain": [
       "<IPython.core.display.HTML object>"
      ]
     },
     "execution_count": 3,
     "metadata": {},
     "output_type": "execute_result"
    }
   ],
   "source": [
    "from IPython.display import HTML\n",
    "\n",
    "HTML(downloaded['part1'])"
   ]
  },
  {
   "cell_type": "markdown",
   "metadata": {},
   "source": [
    "## Comments\n",
    "\n",
    "..."
   ]
  },
  {
   "cell_type": "code",
   "execution_count": 4,
   "metadata": {},
   "outputs": [],
   "source": [
    "testdata = \"\"\"498,4 -> 498,6 -> 496,6\n",
    "503,4 -> 502,4 -> 502,9 -> 494,9\"\"\".splitlines()\n",
    "\n",
    "inputdata = downloaded['input'].splitlines()\n",
    "# inputdata = open('input.txt', 'r').read().splitlines()"
   ]
  },
  {
   "cell_type": "code",
   "execution_count": 5,
   "metadata": {},
   "outputs": [
    {
     "data": {
      "text/plain": [
       "\"['529,71 -> 529,72 -> 539,72 -> 539,71', '484,168 -> 489,168', '493,23 -> 493,13 -> 493,23 -> 495,23 -> 495,19 -> 495,23 -> 497,23 -> 497,15 -> 497,23 -> 499,23 -> 499,14 -> 499,23 -> 501,23 -> 501,14 -> 501,23 -> 503,23 -> 503,21 -> 503,23 -> 505,23 -> 505,18 -> 505,23', '502,165 -> 507,165', '481,165 -> 486,165', '527,96 -> 527,98 -> 525,98 -> 525,106 -> 536,106 -> 536,98 -> 530,98 -> 530,96', '528,68 -> 528,59 -> 528,68 -> 530,68 -> 530,63 -> 530,68 -> 532,68 -> 532,64 -> 532,68 -> 534,68 -> 534,66 -> 534,68 -> 536,68 -> 536,60 -> 536,68', '493,23 -> 493,13 -> 493,23 -> 495,23 -> 495,19 -> 495,23 -> 497,23 -> 497,15 -> 497,23 -> 499,23 -> 499,14 -> 499,23 -> 501,23 -> 501,14 -> 501,23 -> 503,23 -> 503,21 -> 503,23 -> 505,23 -> 505,18 -> 505,23', '500,176 -> 505,176', '513,124 -> 513,126 -> 510,126 -> 510,134 -> 524,134 -> 524,126 -> 518,126 -> 518,124'] ... len(inputdata)=155\""
      ]
     },
     "metadata": {},
     "output_type": "display_data"
    }
   ],
   "source": [
    "from IPython.display import display\n",
    "\n",
    "\n",
    "display(f'{inputdata[:10]} ... {len(inputdata)=}')"
   ]
  },
  {
   "cell_type": "code",
   "execution_count": 6,
   "metadata": {},
   "outputs": [],
   "source": [
    "from typing import Iterable, List, Tuple\n",
    "\n",
    "Coord = Tuple[int, int]\n",
    "Line = Tuple[Coord, ...]\n",
    "\n",
    "\n",
    "def parse_lines(data: Iterable[str]) -> List[Line]:\n",
    "    output: List[Line] = list()\n",
    "    for line in data:\n",
    "        line_coords: List[Coord] = list()\n",
    "        for coord in line.split(' -> '):\n",
    "            x, y = coord.split(',', 1)\n",
    "            line_coords.append((int(x), int(y)))\n",
    "        output.append(tuple(line_coords))\n",
    "    return output"
   ]
  },
  {
   "cell_type": "code",
   "execution_count": 7,
   "metadata": {},
   "outputs": [],
   "source": [
    "from typing import Set, Iterable\n",
    "\n",
    "\n",
    "def generate_lines(lines: Iterable[Line]) -> Set[Coord]:\n",
    "    def generate_pixels(dim_start: int, dim_end) -> Iterable[int]:\n",
    "        step = 1\n",
    "        if dim_start >= dim_end:\n",
    "            step = -step\n",
    "        return range(dim_start, dim_end + step, step)\n",
    "\n",
    "    def generate_segment(c_start: Coord, c_end: Coord) -> Iterable[Coord]:\n",
    "        if c_start[0] == c_end[0]:\n",
    "            return ((c_start[0], c1)\n",
    "                    for c1 in generate_pixels(c_start[1], c_end[1]))\n",
    "        elif c_start[1] == c_end[1]:\n",
    "            return ((c0, c_start[1])\n",
    "                    for c0 in generate_pixels(c_start[0], c_end[0]))\n",
    "        else:\n",
    "            raise ValueError\n",
    "\n",
    "    def generate_line(coords: Line) -> Iterable[Coord]:\n",
    "        return (pixel\n",
    "                for c_start, c_end in zip(coords[:-1], coords[1:])\n",
    "                for pixel in generate_segment(c_start, c_end))\n",
    "\n",
    "    return {pixel\n",
    "            for line in lines\n",
    "            for pixel in generate_line(line)}"
   ]
  },
  {
   "cell_type": "code",
   "execution_count": 8,
   "metadata": {},
   "outputs": [],
   "source": [
    "def scene_str(stone: Set[Coord], occupied: Set[Coord] = set()) -> List[str]:\n",
    "    def window(coords: Set[Coord]) -> Tuple[Coord, Coord]:\n",
    "        min_x = min(c[0] for c in coords)\n",
    "        max_x = max(c[0] for c in coords)\n",
    "        min_y = min(c[1] for c in coords)\n",
    "        max_y = max(c[1] for c in coords)\n",
    "        return ((min_x - 1, min_y - 1), (max_x + 1, max_y + 1))\n",
    "\n",
    "    def pixel_chr(pixel: Coord) -> str:\n",
    "        if pixel in stone:\n",
    "            return '#'\n",
    "        elif pixel in occupied:\n",
    "            return 'o'\n",
    "        else:\n",
    "            return '.'\n",
    "\n",
    "    # replace with occupied.union(stone)?\n",
    "    w = window(stone.union(occupied))\n",
    "    return [\n",
    "        ''.join(pixel_chr((x, y)) for x in range(w[0][0], w[1][0] + 1))\n",
    "        for y in range(w[0][1], w[1][1] + 1)]"
   ]
  },
  {
   "cell_type": "code",
   "execution_count": 9,
   "metadata": {},
   "outputs": [],
   "source": [
    "from typing import Optional\n",
    "\n",
    "\n",
    "def drop_grain(\n",
    "        stone: Set[Coord],\n",
    "        occupied: Set[Coord] = set(),\n",
    "        pos: Coord = (500, 0),\n",
    "        abyss: int = -1,\n",
    "        floor_not_abyss: bool = False) -> Optional[Coord]:\n",
    "    if abyss == -1:\n",
    "        abyss = max(c[1] + 2 for c in stone)\n",
    "    # Let's see, if either of the next positions are free,\n",
    "    # in that order of preference, the grain will fall\n",
    "    # there, and only if not, it will come to rest where it\n",
    "    # is\n",
    "    if floor_not_abyss and pos[1] + 1 >= abyss:\n",
    "        return pos\n",
    "    if pos[1] >= abyss or pos in occupied:\n",
    "        return None\n",
    "    next_positions = [\n",
    "        (pos[0], pos[1] + 1),\n",
    "        (pos[0] - 1, pos[1] + 1),\n",
    "        (pos[0] + 1, pos[1] + 1)]\n",
    "    for next_pos in next_positions:\n",
    "        if next_pos not in occupied:\n",
    "            return drop_grain(stone,\n",
    "                              occupied,\n",
    "                              next_pos,\n",
    "                              abyss,\n",
    "                              floor_not_abyss)\n",
    "    return pos"
   ]
  },
  {
   "cell_type": "code",
   "execution_count": 10,
   "metadata": {},
   "outputs": [
    {
     "data": {
      "text/plain": [
       "24"
      ]
     },
     "metadata": {},
     "output_type": "display_data"
    },
    {
     "data": {
      "text/plain": [
       "['............',\n",
       " '.......o....',\n",
       " '......ooo...',\n",
       " '.....#ooo##.',\n",
       " '....o#ooo#..',\n",
       " '...###ooo#..',\n",
       " '.....oooo#..',\n",
       " '..o.ooooo#..',\n",
       " '.#########..',\n",
       " '............']"
      ]
     },
     "metadata": {},
     "output_type": "display_data"
    }
   ],
   "source": [
    "stone = generate_lines(parse_lines(testdata))\n",
    "occupied = stone.copy()\n",
    "while True:\n",
    "    if position := drop_grain(stone, occupied):\n",
    "        occupied.add(position)\n",
    "    else:\n",
    "        break\n",
    "display(len(occupied) - len(stone))\n",
    "display(scene_str(stone, occupied))"
   ]
  },
  {
   "cell_type": "code",
   "execution_count": 11,
   "metadata": {},
   "outputs": [
    {
     "data": {
      "text/plain": [
       "755"
      ]
     },
     "metadata": {},
     "output_type": "display_data"
    }
   ],
   "source": [
    "stone = generate_lines(parse_lines(inputdata))\n",
    "occupied = stone.copy()\n",
    "while True:\n",
    "    if position := drop_grain(stone, occupied):\n",
    "        occupied.add(position)\n",
    "    else:\n",
    "        break\n",
    "display(len(occupied) - len(stone))"
   ]
  },
  {
   "cell_type": "code",
   "execution_count": 12,
   "metadata": {},
   "outputs": [
    {
     "data": {
      "text/html": [
       "\n",
       "<p>Your puzzle answer was <code>755</code>.</p>"
      ],
      "text/plain": [
       "<IPython.core.display.HTML object>"
      ]
     },
     "execution_count": 12,
     "metadata": {},
     "output_type": "execute_result"
    }
   ],
   "source": [
    "HTML(downloaded['part1_footer'])"
   ]
  },
  {
   "cell_type": "markdown",
   "metadata": {},
   "source": [
    "## Part Two"
   ]
  },
  {
   "cell_type": "code",
   "execution_count": 13,
   "metadata": {},
   "outputs": [
    {
     "data": {
      "text/html": [
       "<h2 id=\"part2\">--- Part Two ---</h2><p>You realize you misread the scan. There isn't an <span title=\"Endless Void is my C cover band.\">endless void</span> at the bottom of the scan - there's floor, and you're standing on it!</p>\n",
       "<p>You don't have time to scan the floor, so assume the floor is an infinite horizontal line with a <code>y</code> coordinate equal to <em>two plus the highest <code>y</code> coordinate</em> of any point in your scan.</p>\n",
       "<p>In the example above, the highest <code>y</code> coordinate of any point is <code>9</code>, and so the floor is at <code>y=11</code>. (This is as if your scan contained one extra rock path like <code>-infinity,11 -&gt; infinity,11</code>.) With the added floor, the example above now looks like this:</p>\n",
       "<pre><code>        ...........+........\n",
       "        ....................\n",
       "        ....................\n",
       "        ....................\n",
       "        .........#...##.....\n",
       "        .........#...#......\n",
       "        .......###...#......\n",
       "        .............#......\n",
       "        .............#......\n",
       "        .....#########......\n",
       "        ....................\n",
       "&lt;-- etc #################### etc --&gt;\n",
       "</code></pre>\n",
       "<p>To find somewhere safe to stand, you'll need to simulate falling sand until a unit of sand comes to rest at <code>500,0</code>, blocking the source entirely and stopping the flow of sand into the cave. In the example above, the situation finally looks like this after <code><em>93</em></code> units of sand come to rest:</p>\n",
       "<pre><code>............o............\n",
       "...........ooo...........\n",
       "..........ooooo..........\n",
       ".........ooooooo.........\n",
       "........oo#ooo##o........\n",
       ".......ooo#ooo#ooo.......\n",
       "......oo###ooo#oooo......\n",
       ".....oooo.oooo#ooooo.....\n",
       "....oooooooooo#oooooo....\n",
       "...ooo#########ooooooo...\n",
       "..ooooo.......ooooooooo..\n",
       "#########################\n",
       "</code></pre>\n",
       "<p>Using your scan, simulate the falling sand until the source of the sand becomes blocked. <em>How many units of sand come to rest?</em></p>\n"
      ],
      "text/plain": [
       "<IPython.core.display.HTML object>"
      ]
     },
     "execution_count": 13,
     "metadata": {},
     "output_type": "execute_result"
    }
   ],
   "source": [
    "HTML(downloaded['part2'])"
   ]
  },
  {
   "cell_type": "code",
   "execution_count": 14,
   "metadata": {},
   "outputs": [
    {
     "data": {
      "text/plain": [
       "93"
      ]
     },
     "metadata": {},
     "output_type": "display_data"
    },
    {
     "data": {
      "text/plain": [
       "['.......................',\n",
       " '...........o...........',\n",
       " '..........ooo..........',\n",
       " '.........ooooo.........',\n",
       " '........ooooooo........',\n",
       " '.......oo#ooo##o.......',\n",
       " '......ooo#ooo#ooo......',\n",
       " '.....oo###ooo#oooo.....',\n",
       " '....oooo.oooo#ooooo....',\n",
       " '...oooooooooo#oooooo...',\n",
       " '..ooo#########ooooooo..',\n",
       " '.ooooo.......ooooooooo.',\n",
       " '.......................']"
      ]
     },
     "metadata": {},
     "output_type": "display_data"
    }
   ],
   "source": [
    "stone = generate_lines(parse_lines(testdata))\n",
    "occupied = stone.copy()\n",
    "while True:\n",
    "    if position := drop_grain(stone, occupied, floor_not_abyss=True):\n",
    "        occupied.add(position)\n",
    "    else:\n",
    "        break\n",
    "display(len(occupied) - len(stone))\n",
    "display(scene_str(stone, occupied))"
   ]
  },
  {
   "cell_type": "code",
   "execution_count": 15,
   "metadata": {},
   "outputs": [
    {
     "data": {
      "text/plain": [
       "29805"
      ]
     },
     "metadata": {},
     "output_type": "display_data"
    }
   ],
   "source": [
    "stone = generate_lines(parse_lines(inputdata))\n",
    "occupied = stone.copy()\n",
    "while True:\n",
    "    if position := drop_grain(stone, occupied, floor_not_abyss=True):\n",
    "        occupied.add(position)\n",
    "    else:\n",
    "        break\n",
    "display(len(occupied) - len(stone))"
   ]
  },
  {
   "cell_type": "code",
   "execution_count": 16,
   "metadata": {},
   "outputs": [
    {
     "data": {
      "text/html": [
       "\n",
       "<p>Your puzzle answer was <code>29805</code>.</p><p class=\"day-success\">Both parts of this puzzle are complete! They provide two gold stars: **</p>\n",
       "<p>At this point, you should <a href=\"/2022\">return to your Advent calendar</a> and try another puzzle.</p>\n",
       "<p>If you still want to see it, you can <a href=\"14/input\" target=\"_blank\">get your puzzle input</a>.</p>\n",
       "<p>You can also <span class=\"share\">[Share<span class=\"share-content\">on\n",
       "  <a href=\"https://twitter.com/intent/tweet?text=I%27ve+completed+%22Regolith+Reservoir%22+%2D+Day+14+%2D+Advent+of+Code+2022&amp;url=https%3A%2F%2Fadventofcode%2Ecom%2F2022%2Fday%2F14&amp;related=ericwastl&amp;hashtags=AdventOfCode\" target=\"_blank\">Twitter</a>\n",
       "  <a href=\"javascript:void(0);\" onclick=\"var mastodon_instance=prompt('Mastodon Instance / Server Name?'); if(typeof mastodon_instance==='string' && mastodon_instance.length){this.href='https://'+mastodon_instance+'/share?text=I%27ve+completed+%22Regolith+Reservoir%22+%2D+Day+14+%2D+Advent+of+Code+2022+%23AdventOfCode+https%3A%2F%2Fadventofcode%2Ecom%2F2022%2Fday%2F14'}else{return false;}\" target=\"_blank\">Mastodon</a\n",
       "></span>]</span> this puzzle.</p>\n"
      ],
      "text/plain": [
       "<IPython.core.display.HTML object>"
      ]
     },
     "execution_count": 16,
     "metadata": {},
     "output_type": "execute_result"
    }
   ],
   "source": [
    "HTML(downloaded['part2_footer'])"
   ]
  }
 ],
 "metadata": {
  "kernelspec": {
   "display_name": "Python 3.10.8 ('venv': venv)",
   "language": "python",
   "name": "python3"
  },
  "language_info": {
   "codemirror_mode": {
    "name": "ipython",
    "version": 3
   },
   "file_extension": ".py",
   "mimetype": "text/x-python",
   "name": "python",
   "nbconvert_exporter": "python",
   "pygments_lexer": "ipython3",
   "version": "3.10.8"
  },
  "vscode": {
   "interpreter": {
    "hash": "953efd6badefc8bd539414deffff5d1ee9e359bc7a1650a157b4fbde293a1337"
   }
  }
 },
 "nbformat": 4,
 "nbformat_minor": 4
}

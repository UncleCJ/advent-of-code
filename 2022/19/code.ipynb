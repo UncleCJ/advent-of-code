{
 "cells": [
  {
   "attachments": {},
   "cell_type": "markdown",
   "metadata": {},
   "source": [
    "# Day 19: Not Enough Minerals\n",
    "\n",
    "[*Advent of Code 2022 day 19*](https://adventofcode.com/2022/day/19) and [*solution megathread*](https://redd.it/zpihwi)\n",
    "\n",
    "[![nbviewer](https://raw.githubusercontent.com/jupyter/design/master/logos/Badges/nbviewer_badge.svg)](https://nbviewer.jupyter.org/github/UncleCJ/advent-of-code/blob/cj/2022/19/code.ipynb) [![Binder](https://mybinder.org/badge_logo.svg)](https://mybinder.org/v2/gh/UncleCJ/advent-of-code/cj?filepath=2022%2F19%2Fcode.ipynb)"
   ]
  },
  {
   "cell_type": "code",
   "execution_count": 1,
   "metadata": {},
   "outputs": [
    {
     "name": "stderr",
     "output_type": "stream",
     "text": [
      "Version 1.0.4\n"
     ]
    }
   ],
   "source": [
    "from IPython.display import HTML\n",
    "import sys\n",
    "sys.path.append('../../')\n",
    "\n",
    "\n",
    "%load_ext nb_mypy\n",
    "%nb_mypy On"
   ]
  },
  {
   "cell_type": "code",
   "execution_count": 2,
   "metadata": {},
   "outputs": [
    {
     "name": "stdout",
     "output_type": "stream",
     "text": [
      "Writing 'downloaded' (dict) to file 'downloaded'.\n"
     ]
    }
   ],
   "source": [
    "import common\n",
    "\n",
    "\n",
    "downloaded = common.refresh()\n",
    "%store downloaded >downloaded\n",
    "\n",
    "%load_ext pycodestyle_magic\n",
    "%pycodestyle_on"
   ]
  },
  {
   "cell_type": "markdown",
   "metadata": {},
   "source": [
    "## Part One"
   ]
  },
  {
   "cell_type": "code",
   "execution_count": 3,
   "metadata": {},
   "outputs": [
    {
     "data": {
      "text/html": [
       "<h2>--- Day 19: Not Enough Minerals ---</h2><p>Your scans show that the lava did indeed form obsidian!</p>\n",
       "<p>The wind has changed direction enough to stop sending lava droplets toward you, so you and the elephants exit the cave. As you do, you notice a collection of <a href=\"https://en.wikipedia.org/wiki/Geode\" target=\"_blank\">geodes</a> around the pond. Perhaps you could use the obsidian to create some <em>geode-cracking robots</em> and break them open?</p>\n",
       "<p>To collect the obsidian from the bottom of the pond, you'll need waterproof <em>obsidian-collecting robots</em>. Fortunately, there is an abundant amount of clay nearby that you can use to make them waterproof.</p>\n",
       "<p>In order to harvest the clay, you'll need special-purpose <em>clay-collecting robots</em>. To make any type of robot, you'll need <em>ore</em>, which is also plentiful but in the opposite direction from the clay.</p>\n",
       "<p>Collecting ore requires <em>ore-collecting robots</em> with big drills. Fortunately, <em>you have exactly one ore-collecting robot</em> in your pack that you can use to <span title=\"If You Give A Mouse An Ore-Collecting Robot\">kickstart</span> the whole operation.</p>\n",
       "<p>Each robot can collect 1 of its resource type per minute. It also takes one minute for the robot factory (also conveniently from your pack) to construct any type of robot, although it consumes the necessary resources available when construction begins.</p>\n",
       "<p>The robot factory has many <em>blueprints</em> (your puzzle input) you can choose from, but once you've configured it with a blueprint, you can't change it. You'll need to work out which blueprint is best.</p>\n",
       "<p>For example:</p>\n",
       "<pre><code>Blueprint 1:\n",
       "  Each ore robot costs 4 ore.\n",
       "  Each clay robot costs 2 ore.\n",
       "  Each obsidian robot costs 3 ore and 14 clay.\n",
       "  Each geode robot costs 2 ore and 7 obsidian.\n",
       "\n",
       "Blueprint 2:\n",
       "  Each ore robot costs 2 ore.\n",
       "  Each clay robot costs 3 ore.\n",
       "  Each obsidian robot costs 3 ore and 8 clay.\n",
       "  Each geode robot costs 3 ore and 12 obsidian.\n",
       "</code></pre>\n",
       "<p>(Blueprints have been line-wrapped here for legibility. The robot factory's actual assortment of blueprints are provided one blueprint per line.)</p>\n",
       "<p>The elephants are starting to look hungry, so you shouldn't take too long; you need to figure out which blueprint would maximize the number of opened geodes after <em>24 minutes</em> by figuring out which robots to build and when to build them.</p>\n",
       "<p>Using blueprint 1 in the example above, the largest number of geodes you could open in 24 minutes is <code><em>9</em></code>. One way to achieve that is:</p>\n",
       "<pre><code>== Minute 1 ==\n",
       "1 ore-collecting robot collects 1 ore; you now have 1 ore.\n",
       "\n",
       "== Minute 2 ==\n",
       "1 ore-collecting robot collects 1 ore; you now have 2 ore.\n",
       "\n",
       "== Minute 3 ==\n",
       "Spend 2 ore to start building a clay-collecting robot.\n",
       "1 ore-collecting robot collects 1 ore; you now have 1 ore.\n",
       "The new clay-collecting robot is ready; you now have 1 of them.\n",
       "\n",
       "== Minute 4 ==\n",
       "1 ore-collecting robot collects 1 ore; you now have 2 ore.\n",
       "1 clay-collecting robot collects 1 clay; you now have 1 clay.\n",
       "\n",
       "== Minute 5 ==\n",
       "Spend 2 ore to start building a clay-collecting robot.\n",
       "1 ore-collecting robot collects 1 ore; you now have 1 ore.\n",
       "1 clay-collecting robot collects 1 clay; you now have 2 clay.\n",
       "The new clay-collecting robot is ready; you now have 2 of them.\n",
       "\n",
       "== Minute 6 ==\n",
       "1 ore-collecting robot collects 1 ore; you now have 2 ore.\n",
       "2 clay-collecting robots collect 2 clay; you now have 4 clay.\n",
       "\n",
       "== Minute 7 ==\n",
       "Spend 2 ore to start building a clay-collecting robot.\n",
       "1 ore-collecting robot collects 1 ore; you now have 1 ore.\n",
       "2 clay-collecting robots collect 2 clay; you now have 6 clay.\n",
       "The new clay-collecting robot is ready; you now have 3 of them.\n",
       "\n",
       "== Minute 8 ==\n",
       "1 ore-collecting robot collects 1 ore; you now have 2 ore.\n",
       "3 clay-collecting robots collect 3 clay; you now have 9 clay.\n",
       "\n",
       "== Minute 9 ==\n",
       "1 ore-collecting robot collects 1 ore; you now have 3 ore.\n",
       "3 clay-collecting robots collect 3 clay; you now have 12 clay.\n",
       "\n",
       "== Minute 10 ==\n",
       "1 ore-collecting robot collects 1 ore; you now have 4 ore.\n",
       "3 clay-collecting robots collect 3 clay; you now have 15 clay.\n",
       "\n",
       "== Minute 11 ==\n",
       "Spend 3 ore and 14 clay to start building an obsidian-collecting robot.\n",
       "1 ore-collecting robot collects 1 ore; you now have 2 ore.\n",
       "3 clay-collecting robots collect 3 clay; you now have 4 clay.\n",
       "The new obsidian-collecting robot is ready; you now have 1 of them.\n",
       "\n",
       "== Minute 12 ==\n",
       "Spend 2 ore to start building a clay-collecting robot.\n",
       "1 ore-collecting robot collects 1 ore; you now have 1 ore.\n",
       "3 clay-collecting robots collect 3 clay; you now have 7 clay.\n",
       "1 obsidian-collecting robot collects 1 obsidian; you now have 1 obsidian.\n",
       "The new clay-collecting robot is ready; you now have 4 of them.\n",
       "\n",
       "== Minute 13 ==\n",
       "1 ore-collecting robot collects 1 ore; you now have 2 ore.\n",
       "4 clay-collecting robots collect 4 clay; you now have 11 clay.\n",
       "1 obsidian-collecting robot collects 1 obsidian; you now have 2 obsidian.\n",
       "\n",
       "== Minute 14 ==\n",
       "1 ore-collecting robot collects 1 ore; you now have 3 ore.\n",
       "4 clay-collecting robots collect 4 clay; you now have 15 clay.\n",
       "1 obsidian-collecting robot collects 1 obsidian; you now have 3 obsidian.\n",
       "\n",
       "== Minute 15 ==\n",
       "Spend 3 ore and 14 clay to start building an obsidian-collecting robot.\n",
       "1 ore-collecting robot collects 1 ore; you now have 1 ore.\n",
       "4 clay-collecting robots collect 4 clay; you now have 5 clay.\n",
       "1 obsidian-collecting robot collects 1 obsidian; you now have 4 obsidian.\n",
       "The new obsidian-collecting robot is ready; you now have 2 of them.\n",
       "\n",
       "== Minute 16 ==\n",
       "1 ore-collecting robot collects 1 ore; you now have 2 ore.\n",
       "4 clay-collecting robots collect 4 clay; you now have 9 clay.\n",
       "2 obsidian-collecting robots collect 2 obsidian; you now have 6 obsidian.\n",
       "\n",
       "== Minute 17 ==\n",
       "1 ore-collecting robot collects 1 ore; you now have 3 ore.\n",
       "4 clay-collecting robots collect 4 clay; you now have 13 clay.\n",
       "2 obsidian-collecting robots collect 2 obsidian; you now have 8 obsidian.\n",
       "\n",
       "== Minute 18 ==\n",
       "Spend 2 ore and 7 obsidian to start building a geode-cracking robot.\n",
       "1 ore-collecting robot collects 1 ore; you now have 2 ore.\n",
       "4 clay-collecting robots collect 4 clay; you now have 17 clay.\n",
       "2 obsidian-collecting robots collect 2 obsidian; you now have 3 obsidian.\n",
       "The new geode-cracking robot is ready; you now have 1 of them.\n",
       "\n",
       "== Minute 19 ==\n",
       "1 ore-collecting robot collects 1 ore; you now have 3 ore.\n",
       "4 clay-collecting robots collect 4 clay; you now have 21 clay.\n",
       "2 obsidian-collecting robots collect 2 obsidian; you now have 5 obsidian.\n",
       "1 geode-cracking robot cracks 1 geode; you now have 1 open geode.\n",
       "\n",
       "== Minute 20 ==\n",
       "1 ore-collecting robot collects 1 ore; you now have 4 ore.\n",
       "4 clay-collecting robots collect 4 clay; you now have 25 clay.\n",
       "2 obsidian-collecting robots collect 2 obsidian; you now have 7 obsidian.\n",
       "1 geode-cracking robot cracks 1 geode; you now have 2 open geodes.\n",
       "\n",
       "== Minute 21 ==\n",
       "Spend 2 ore and 7 obsidian to start building a geode-cracking robot.\n",
       "1 ore-collecting robot collects 1 ore; you now have 3 ore.\n",
       "4 clay-collecting robots collect 4 clay; you now have 29 clay.\n",
       "2 obsidian-collecting robots collect 2 obsidian; you now have 2 obsidian.\n",
       "1 geode-cracking robot cracks 1 geode; you now have 3 open geodes.\n",
       "The new geode-cracking robot is ready; you now have 2 of them.\n",
       "\n",
       "== Minute 22 ==\n",
       "1 ore-collecting robot collects 1 ore; you now have 4 ore.\n",
       "4 clay-collecting robots collect 4 clay; you now have 33 clay.\n",
       "2 obsidian-collecting robots collect 2 obsidian; you now have 4 obsidian.\n",
       "2 geode-cracking robots crack 2 geodes; you now have 5 open geodes.\n",
       "\n",
       "== Minute 23 ==\n",
       "1 ore-collecting robot collects 1 ore; you now have 5 ore.\n",
       "4 clay-collecting robots collect 4 clay; you now have 37 clay.\n",
       "2 obsidian-collecting robots collect 2 obsidian; you now have 6 obsidian.\n",
       "2 geode-cracking robots crack 2 geodes; you now have 7 open geodes.\n",
       "\n",
       "== Minute 24 ==\n",
       "1 ore-collecting robot collects 1 ore; you now have 6 ore.\n",
       "4 clay-collecting robots collect 4 clay; you now have 41 clay.\n",
       "2 obsidian-collecting robots collect 2 obsidian; you now have 8 obsidian.\n",
       "2 geode-cracking robots crack 2 geodes; you now have 9 open geodes.\n",
       "</code></pre>\n",
       "<p>However, by using blueprint 2 in the example above, you could do even better: the largest number of geodes you could open in 24 minutes is <code><em>12</em></code>.</p>\n",
       "<p>Determine the <em>quality level</em> of each blueprint by <em>multiplying that blueprint's ID number</em> with the largest number of geodes that can be opened in 24 minutes using that blueprint. In this example, the first blueprint has ID 1 and can open 9 geodes, so its quality level is <code><em>9</em></code>. The second blueprint has ID 2 and can open 12 geodes, so its quality level is <code><em>24</em></code>. Finally, if you <em>add up the quality levels</em> of all of the blueprints in the list, you get <code><em>33</em></code>.</p>\n",
       "<p>Determine the quality level of each blueprint using the largest number of geodes it could produce in 24 minutes. <em>What do you get if you add up the quality level of all of the blueprints in your list?</em></p>\n"
      ],
      "text/plain": [
       "<IPython.core.display.HTML object>"
      ]
     },
     "execution_count": 3,
     "metadata": {},
     "output_type": "execute_result"
    }
   ],
   "source": [
    "from IPython.display import HTML\n",
    "\n",
    "HTML(downloaded['part1'])"
   ]
  },
  {
   "cell_type": "markdown",
   "metadata": {},
   "source": [
    "## Comments\n",
    "\n",
    "..."
   ]
  },
  {
   "cell_type": "code",
   "execution_count": 4,
   "metadata": {},
   "outputs": [],
   "source": [
    "testdata = \"\"\"Blueprint 1:\n",
    "  Each ore robot costs 4 ore.\n",
    "  Each clay robot costs 2 ore.\n",
    "  Each obsidian robot costs 3 ore and 14 clay.\n",
    "  Each geode robot costs 2 ore and 7 obsidian.\n",
    "\n",
    "Blueprint 2:\n",
    "  Each ore robot costs 2 ore.\n",
    "  Each clay robot costs 3 ore.\n",
    "  Each obsidian robot costs 3 ore and 8 clay.\n",
    "  Each geode robot costs 3 ore and 12 obsidian.\"\"\".splitlines()\n",
    "\n",
    "inputdata = downloaded['input'].splitlines()\n",
    "# inputdata = open('input.txt', 'r').read().splitlines()"
   ]
  },
  {
   "cell_type": "code",
   "execution_count": 5,
   "metadata": {},
   "outputs": [
    {
     "data": {
      "text/plain": [
       "\"['Blueprint 1: Each ore robot costs 3 ore. Each clay robot costs 3 ore. Each obsidian robot costs 3 ore and 15 clay. Each geode robot costs 2 ore and 8 obsidian.', 'Blueprint 2: Each ore robot costs 2 ore. Each clay robot costs 3 ore. Each obsidian robot costs 3 ore and 17 clay. Each geode robot costs 3 ore and 10 obsidian.', 'Blueprint 3: Each ore robot costs 2 ore. Each clay robot costs 2 ore. Each obsidian robot costs 2 ore and 20 clay. Each geode robot costs 2 ore and 14 obsidian.', 'Blueprint 4: Each ore robot costs 4 ore. Each clay robot costs 4 ore. Each obsidian robot costs 3 ore and 14 clay. Each geode robot costs 4 ore and 15 obsidian.', 'Blueprint 5: Each ore robot costs 2 ore. Each clay robot costs 3 ore. Each obsidian robot costs 3 ore and 13 clay. Each geode robot costs 3 ore and 15 obsidian.', 'Blueprint 6: Each ore robot costs 2 ore. Each clay robot costs 2 ore. Each obsidian robot costs 2 ore and 15 clay. Each geode robot costs 2 ore and 7 obsidian.', 'Blueprint 7: Each ore robot costs 3 ore. Each clay robot costs 3 ore. Each obsidian robot costs 3 ore and 9 clay. Each geode robot costs 3 ore and 7 obsidian.', 'Blueprint 8: Each ore robot costs 4 ore. Each clay robot costs 2 ore. Each obsidian robot costs 2 ore and 16 clay. Each geode robot costs 2 ore and 8 obsidian.', 'Blueprint 9: Each ore robot costs 2 ore. Each clay robot costs 4 ore. Each obsidian robot costs 4 ore and 20 clay. Each geode robot costs 4 ore and 18 obsidian.', 'Blueprint 10: Each ore robot costs 3 ore. Each clay robot costs 3 ore. Each obsidian robot costs 2 ore and 11 clay. Each geode robot costs 2 ore and 19 obsidian.'] ... len(inputdata)=30\""
      ]
     },
     "metadata": {},
     "output_type": "display_data"
    }
   ],
   "source": [
    "from IPython.display import display\n",
    "\n",
    "display(f'{inputdata[:10]} ... {len(inputdata)=}')"
   ]
  },
  {
   "cell_type": "code",
   "execution_count": 6,
   "metadata": {},
   "outputs": [
    {
     "data": {
      "text/html": [
       "\n",
       "<p>To begin, <a href=\"19/input\" target=\"_blank\">get your puzzle input</a>.</p>\n",
       "<form method=\"post\" action=\"19/answer\"><input type=\"hidden\" name=\"level\" value=\"1\"/><p>Answer: <input type=\"text\" name=\"answer\" autocomplete=\"off\"/> <input type=\"submit\" value=\"[Submit]\"/></p></form>\n",
       "<p>You can also <span class=\"share\">[Share<span class=\"share-content\">on\n",
       "  <a href=\"https://twitter.com/intent/tweet?text=%22Not+Enough+Minerals%22+%2D+Day+19+%2D+Advent+of+Code+2022&amp;url=https%3A%2F%2Fadventofcode%2Ecom%2F2022%2Fday%2F19&amp;related=ericwastl&amp;hashtags=AdventOfCode\" target=\"_blank\">Twitter</a>\n",
       "  <a href=\"javascript:void(0);\" onclick=\"var mastodon_instance=prompt('Mastodon Instance / Server Name?'); if(typeof mastodon_instance==='string' && mastodon_instance.length){this.href='https://'+mastodon_instance+'/share?text=%22Not+Enough+Minerals%22+%2D+Day+19+%2D+Advent+of+Code+2022+%23AdventOfCode+https%3A%2F%2Fadventofcode%2Ecom%2F2022%2Fday%2F19'}else{return false;}\" target=\"_blank\">Mastodon</a\n",
       "></span>]</span> this puzzle.</p>\n"
      ],
      "text/plain": [
       "<IPython.core.display.HTML object>"
      ]
     },
     "execution_count": 6,
     "metadata": {},
     "output_type": "execute_result"
    }
   ],
   "source": [
    "HTML(downloaded['part1_footer'])"
   ]
  },
  {
   "cell_type": "markdown",
   "metadata": {},
   "source": [
    "## Part Two"
   ]
  },
  {
   "cell_type": "code",
   "execution_count": 7,
   "metadata": {},
   "outputs": [],
   "source": [
    "# HTML(downloaded['part2'])"
   ]
  },
  {
   "cell_type": "code",
   "execution_count": 8,
   "metadata": {},
   "outputs": [],
   "source": [
    "# HTML(downloaded['part2_footer'])"
   ]
  }
 ],
 "metadata": {
  "kernelspec": {
   "display_name": "Python 3",
   "language": "python",
   "name": "python3"
  },
  "language_info": {
   "codemirror_mode": {
    "name": "ipython",
    "version": 3
   },
   "file_extension": ".py",
   "mimetype": "text/x-python",
   "name": "python",
   "nbconvert_exporter": "python",
   "pygments_lexer": "ipython3",
   "version": "3.10.6"
  },
  "vscode": {
   "interpreter": {
    "hash": "e7370f93d1d0cde622a1f8e1c04877d8463912d04d973331ad4851f04de6915a"
   }
  }
 },
 "nbformat": 4,
 "nbformat_minor": 4
}

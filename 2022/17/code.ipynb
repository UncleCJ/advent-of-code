{
 "cells": [
  {
   "attachments": {},
   "cell_type": "markdown",
   "metadata": {},
   "source": [
    "# Day 17: Pyroclastic Flow\n",
    "\n",
    "[*Advent of Code 2022 day 17*](https://adventofcode.com/2022/day/17) and [*solution megathread*](https://redd.it/znykq2)\n",
    "\n",
    "[![nbviewer](https://raw.githubusercontent.com/jupyter/design/master/logos/Badges/nbviewer_badge.svg)](https://nbviewer.jupyter.org/github/UncleCJ/advent-of-code/blob/cj/2022/17/code.ipynb) [![Binder](https://mybinder.org/badge_logo.svg)](https://mybinder.org/v2/gh/UncleCJ/advent-of-code/cj?filepath=2022%2F17%2Fcode.ipynb)"
   ]
  },
  {
   "cell_type": "code",
   "execution_count": 1,
   "metadata": {},
   "outputs": [
    {
     "name": "stderr",
     "output_type": "stream",
     "text": [
      "Version 1.0.4\n"
     ]
    }
   ],
   "source": [
    "from IPython.display import HTML\n",
    "import sys\n",
    "sys.path.append('../../')\n",
    "\n",
    "\n",
    "%load_ext nb_mypy\n",
    "%nb_mypy On"
   ]
  },
  {
   "cell_type": "code",
   "execution_count": 2,
   "metadata": {},
   "outputs": [
    {
     "name": "stdout",
     "output_type": "stream",
     "text": [
      "Writing 'downloaded' (dict) to file 'downloaded'.\n"
     ]
    }
   ],
   "source": [
    "import common\n",
    "\n",
    "\n",
    "downloaded = common.refresh()\n",
    "%store downloaded >downloaded\n",
    "\n",
    "%load_ext pycodestyle_magic\n",
    "%pycodestyle_on"
   ]
  },
  {
   "cell_type": "markdown",
   "metadata": {},
   "source": [
    "## Part One"
   ]
  },
  {
   "cell_type": "code",
   "execution_count": 3,
   "metadata": {},
   "outputs": [
    {
     "data": {
      "text/html": [
       "<h2>--- Day 17: Pyroclastic Flow ---</h2><p>Your handheld device has located an alternative exit from the cave for you and the elephants.  The ground is rumbling almost continuously now, but the strange valves bought you some time. It's definitely getting warmer in here, though.</p>\n",
       "<p>The tunnels eventually open into a very tall, narrow chamber. Large, oddly-shaped rocks are falling into the chamber from above, presumably due to all the rumbling. If you can't work out where the rocks will fall next, you might be <span title=\"I am the man who arranges the blocks / that descend upon me from up above!\">crushed</span>!</p>\n",
       "<p>The five types of rocks have the following peculiar shapes, where <code>#</code> is rock and <code>.</code> is empty space:</p>\n",
       "<pre><code>####\n",
       "\n",
       ".#.\n",
       "###\n",
       ".#.\n",
       "\n",
       "..#\n",
       "..#\n",
       "###\n",
       "\n",
       "#\n",
       "#\n",
       "#\n",
       "#\n",
       "\n",
       "##\n",
       "##\n",
       "</code></pre>\n",
       "<p>The rocks fall in the order shown above: first the <code>-</code> shape, then the <code>+</code> shape, and so on. Once the end of the list is reached, the same order repeats: the <code>-</code> shape falls first, sixth, 11th, 16th, etc.</p>\n",
       "<p>The rocks don't spin, but they do get pushed around by jets of hot gas coming out of the walls themselves. A quick scan reveals the effect the jets of hot gas will have on the rocks as they fall (your puzzle input).</p>\n",
       "<p>For example, suppose this was the jet pattern in your cave:</p>\n",
       "<pre><code>&gt;&gt;&gt;&lt;&lt;&gt;&lt;&gt;&gt;&lt;&lt;&lt;&gt;&gt;&lt;&gt;&gt;&gt;&lt;&lt;&lt;&gt;&gt;&gt;&lt;&lt;&lt;&gt;&lt;&lt;&lt;&gt;&gt;&lt;&gt;&gt;&lt;&lt;&gt;&gt;\n",
       "</code></pre>\n",
       "<p>In jet patterns, <code>&lt;</code> means a push to the left, while <code>&gt;</code> means a push to the right. The pattern above means that the jets will push a falling rock right, then right, then right, then left, then left, then right, and so on. If the end of the list is reached, it repeats.</p>\n",
       "<p>The tall, vertical chamber is exactly <em>seven units wide</em>. Each rock appears so that its left edge is two units away from the left wall and its bottom edge is three units above the highest rock in the room (or the floor, if there isn't one).</p>\n",
       "<p>After a rock appears, it alternates between <em>being pushed by a jet of hot gas</em> one unit (in the direction indicated by the next symbol in the jet pattern) and then <em>falling one unit down</em>. If any movement would cause any part of the rock to move into the walls, floor, or a stopped rock, the movement instead does not occur. If a <em>downward</em> movement would have caused a falling rock to move into the floor or an already-fallen rock, the falling rock stops where it is (having landed on something) and a new rock immediately begins falling.</p>\n",
       "<p>Drawing falling rocks with <code>@</code> and stopped rocks with <code>#</code>, the jet pattern in the example above manifests as follows:</p>\n",
       "<pre><code>The first rock begins falling:\n",
       "|..@@@@.|\n",
       "|.......|\n",
       "|.......|\n",
       "|.......|\n",
       "+-------+\n",
       "\n",
       "Jet of gas pushes rock right:\n",
       "|...@@@@|\n",
       "|.......|\n",
       "|.......|\n",
       "|.......|\n",
       "+-------+\n",
       "\n",
       "Rock falls 1 unit:\n",
       "|...@@@@|\n",
       "|.......|\n",
       "|.......|\n",
       "+-------+\n",
       "\n",
       "Jet of gas pushes rock right, but nothing happens:\n",
       "|...@@@@|\n",
       "|.......|\n",
       "|.......|\n",
       "+-------+\n",
       "\n",
       "Rock falls 1 unit:\n",
       "|...@@@@|\n",
       "|.......|\n",
       "+-------+\n",
       "\n",
       "Jet of gas pushes rock right, but nothing happens:\n",
       "|...@@@@|\n",
       "|.......|\n",
       "+-------+\n",
       "\n",
       "Rock falls 1 unit:\n",
       "|...@@@@|\n",
       "+-------+\n",
       "\n",
       "Jet of gas pushes rock left:\n",
       "|..@@@@.|\n",
       "+-------+\n",
       "\n",
       "Rock falls 1 unit, causing it to come to rest:\n",
       "|..####.|\n",
       "+-------+\n",
       "\n",
       "A new rock begins falling:\n",
       "|...@...|\n",
       "|..@@@..|\n",
       "|...@...|\n",
       "|.......|\n",
       "|.......|\n",
       "|.......|\n",
       "|..####.|\n",
       "+-------+\n",
       "\n",
       "Jet of gas pushes rock left:\n",
       "|..@....|\n",
       "|.@@@...|\n",
       "|..@....|\n",
       "|.......|\n",
       "|.......|\n",
       "|.......|\n",
       "|..####.|\n",
       "+-------+\n",
       "\n",
       "Rock falls 1 unit:\n",
       "|..@....|\n",
       "|.@@@...|\n",
       "|..@....|\n",
       "|.......|\n",
       "|.......|\n",
       "|..####.|\n",
       "+-------+\n",
       "\n",
       "Jet of gas pushes rock right:\n",
       "|...@...|\n",
       "|..@@@..|\n",
       "|...@...|\n",
       "|.......|\n",
       "|.......|\n",
       "|..####.|\n",
       "+-------+\n",
       "\n",
       "Rock falls 1 unit:\n",
       "|...@...|\n",
       "|..@@@..|\n",
       "|...@...|\n",
       "|.......|\n",
       "|..####.|\n",
       "+-------+\n",
       "\n",
       "Jet of gas pushes rock left:\n",
       "|..@....|\n",
       "|.@@@...|\n",
       "|..@....|\n",
       "|.......|\n",
       "|..####.|\n",
       "+-------+\n",
       "\n",
       "Rock falls 1 unit:\n",
       "|..@....|\n",
       "|.@@@...|\n",
       "|..@....|\n",
       "|..####.|\n",
       "+-------+\n",
       "\n",
       "Jet of gas pushes rock right:\n",
       "|...@...|\n",
       "|..@@@..|\n",
       "|...@...|\n",
       "|..####.|\n",
       "+-------+\n",
       "\n",
       "Rock falls 1 unit, causing it to come to rest:\n",
       "|...#...|\n",
       "|..###..|\n",
       "|...#...|\n",
       "|..####.|\n",
       "+-------+\n",
       "\n",
       "A new rock begins falling:\n",
       "|....@..|\n",
       "|....@..|\n",
       "|..@@@..|\n",
       "|.......|\n",
       "|.......|\n",
       "|.......|\n",
       "|...#...|\n",
       "|..###..|\n",
       "|...#...|\n",
       "|..####.|\n",
       "+-------+\n",
       "</code></pre>\n",
       "<p>The moment each of the next few rocks begins falling, you would see this:</p>\n",
       "<pre><code>|..@....|\n",
       "|..@....|\n",
       "|..@....|\n",
       "|..@....|\n",
       "|.......|\n",
       "|.......|\n",
       "|.......|\n",
       "|..#....|\n",
       "|..#....|\n",
       "|####...|\n",
       "|..###..|\n",
       "|...#...|\n",
       "|..####.|\n",
       "+-------+\n",
       "\n",
       "|..@@...|\n",
       "|..@@...|\n",
       "|.......|\n",
       "|.......|\n",
       "|.......|\n",
       "|....#..|\n",
       "|..#.#..|\n",
       "|..#.#..|\n",
       "|#####..|\n",
       "|..###..|\n",
       "|...#...|\n",
       "|..####.|\n",
       "+-------+\n",
       "\n",
       "|..@@@@.|\n",
       "|.......|\n",
       "|.......|\n",
       "|.......|\n",
       "|....##.|\n",
       "|....##.|\n",
       "|....#..|\n",
       "|..#.#..|\n",
       "|..#.#..|\n",
       "|#####..|\n",
       "|..###..|\n",
       "|...#...|\n",
       "|..####.|\n",
       "+-------+\n",
       "\n",
       "|...@...|\n",
       "|..@@@..|\n",
       "|...@...|\n",
       "|.......|\n",
       "|.......|\n",
       "|.......|\n",
       "|.####..|\n",
       "|....##.|\n",
       "|....##.|\n",
       "|....#..|\n",
       "|..#.#..|\n",
       "|..#.#..|\n",
       "|#####..|\n",
       "|..###..|\n",
       "|...#...|\n",
       "|..####.|\n",
       "+-------+\n",
       "\n",
       "|....@..|\n",
       "|....@..|\n",
       "|..@@@..|\n",
       "|.......|\n",
       "|.......|\n",
       "|.......|\n",
       "|..#....|\n",
       "|.###...|\n",
       "|..#....|\n",
       "|.####..|\n",
       "|....##.|\n",
       "|....##.|\n",
       "|....#..|\n",
       "|..#.#..|\n",
       "|..#.#..|\n",
       "|#####..|\n",
       "|..###..|\n",
       "|...#...|\n",
       "|..####.|\n",
       "+-------+\n",
       "\n",
       "|..@....|\n",
       "|..@....|\n",
       "|..@....|\n",
       "|..@....|\n",
       "|.......|\n",
       "|.......|\n",
       "|.......|\n",
       "|.....#.|\n",
       "|.....#.|\n",
       "|..####.|\n",
       "|.###...|\n",
       "|..#....|\n",
       "|.####..|\n",
       "|....##.|\n",
       "|....##.|\n",
       "|....#..|\n",
       "|..#.#..|\n",
       "|..#.#..|\n",
       "|#####..|\n",
       "|..###..|\n",
       "|...#...|\n",
       "|..####.|\n",
       "+-------+\n",
       "\n",
       "|..@@...|\n",
       "|..@@...|\n",
       "|.......|\n",
       "|.......|\n",
       "|.......|\n",
       "|....#..|\n",
       "|....#..|\n",
       "|....##.|\n",
       "|....##.|\n",
       "|..####.|\n",
       "|.###...|\n",
       "|..#....|\n",
       "|.####..|\n",
       "|....##.|\n",
       "|....##.|\n",
       "|....#..|\n",
       "|..#.#..|\n",
       "|..#.#..|\n",
       "|#####..|\n",
       "|..###..|\n",
       "|...#...|\n",
       "|..####.|\n",
       "+-------+\n",
       "\n",
       "|..@@@@.|\n",
       "|.......|\n",
       "|.......|\n",
       "|.......|\n",
       "|....#..|\n",
       "|....#..|\n",
       "|....##.|\n",
       "|##..##.|\n",
       "|######.|\n",
       "|.###...|\n",
       "|..#....|\n",
       "|.####..|\n",
       "|....##.|\n",
       "|....##.|\n",
       "|....#..|\n",
       "|..#.#..|\n",
       "|..#.#..|\n",
       "|#####..|\n",
       "|..###..|\n",
       "|...#...|\n",
       "|..####.|\n",
       "+-------+\n",
       "</code></pre>\n",
       "<p>To prove to the elephants your simulation is accurate, they want to know how tall the tower will get after 2022 rocks have stopped (but before the 2023rd rock begins falling). In this example, the tower of rocks will be <code><em>3068</em></code> units tall.</p>\n",
       "<p><em>How many units tall will the tower of rocks be after 2022 rocks have stopped falling?</em></p>\n"
      ],
      "text/plain": [
       "<IPython.core.display.HTML object>"
      ]
     },
     "execution_count": 3,
     "metadata": {},
     "output_type": "execute_result"
    }
   ],
   "source": [
    "from IPython.display import HTML\n",
    "\n",
    "HTML(downloaded['part1'])"
   ]
  },
  {
   "cell_type": "markdown",
   "metadata": {},
   "source": [
    "## Comments\n",
    "\n",
    "..."
   ]
  },
  {
   "cell_type": "code",
   "execution_count": 4,
   "metadata": {},
   "outputs": [],
   "source": [
    "testdata = \"\"\">>><<><>><<<>><>>><<<>>><<<><<<>><>><<>>\"\"\"\n",
    "\n",
    "inputdata = downloaded['input']\n",
    "# inputdata = open('input.txt', 'r').read().splitlines()"
   ]
  },
  {
   "cell_type": "code",
   "execution_count": 5,
   "metadata": {},
   "outputs": [
    {
     "data": {
      "text/plain": [
       "'len(testdata)=40'"
      ]
     },
     "metadata": {},
     "output_type": "display_data"
    },
    {
     "data": {
      "text/plain": [
       "'><<><>><<< ... len(inputdata)=10091'"
      ]
     },
     "metadata": {},
     "output_type": "display_data"
    }
   ],
   "source": [
    "from IPython.display import display\n",
    "\n",
    "display(f'{len(testdata)=}')\n",
    "\n",
    "display(f'{inputdata[:10]} ... {len(inputdata)=}')"
   ]
  },
  {
   "cell_type": "code",
   "execution_count": 11,
   "metadata": {},
   "outputs": [],
   "source": [
    "from typing import Tuple\n",
    "\n",
    "Shape = Tuple[int, ...]\n",
    "\n",
    "\n",
    "def tetrominos() -> Tuple[Shape, ...]:\n",
    "    def str_to_int(row: str) -> int:\n",
    "        return eval('0b00' + row + '0'*(5 - len(row)))\n",
    "\n",
    "    basic_shapes = (('1111'),\n",
    "                    ('010',\n",
    "                     '111',\n",
    "                     '010'),\n",
    "                    ('001',\n",
    "                     '001',\n",
    "                     '111'),\n",
    "                    ('1',\n",
    "                     '1',\n",
    "                     '1',\n",
    "                     '1'),\n",
    "                    ('11',\n",
    "                     '11'))\n",
    "\n",
    "    return tuple(tuple(str_to_int(row) for row in shape[::-1])\n",
    "                 for shape in basic_shapes)"
   ]
  },
  {
   "cell_type": "code",
   "execution_count": 12,
   "metadata": {},
   "outputs": [
    {
     "data": {
      "text/plain": [
       "[['0010000', '0010000', '0010000', '0010000'],\n",
       " ['0001000', '0011100', '0001000'],\n",
       " ['0011100', '0000100', '0000100'],\n",
       " ['0010000', '0010000', '0010000', '0010000'],\n",
       " ['0011000', '0011000']]"
      ]
     },
     "execution_count": 12,
     "metadata": {},
     "output_type": "execute_result"
    }
   ],
   "source": [
    "[[f'{row:07b}' for row in shape] for shape in tetrominos()]"
   ]
  },
  {
   "cell_type": "code",
   "execution_count": 8,
   "metadata": {},
   "outputs": [],
   "source": [
    "from typing import TypeVar, Collection, Iterable\n",
    "from itertools import cycle\n",
    "# from collections.abc import Iterable, Sized\n",
    "\n",
    "G = TypeVar('G')\n",
    "\n",
    "\n",
    "def generator(data: Collection[G]) -> Iterable[Tuple[int, G]]:\n",
    "    return cycle(enumerate(data, start=1))"
   ]
  },
  {
   "cell_type": "code",
   "execution_count": 9,
   "metadata": {},
   "outputs": [
    {
     "data": {
      "text/plain": [
       "(1, '>')"
      ]
     },
     "metadata": {},
     "output_type": "display_data"
    },
    {
     "data": {
      "text/plain": [
       "(2, '>')"
      ]
     },
     "metadata": {},
     "output_type": "display_data"
    },
    {
     "data": {
      "text/plain": [
       "(3, '>')"
      ]
     },
     "metadata": {},
     "output_type": "display_data"
    },
    {
     "data": {
      "text/plain": [
       "(4, '<')"
      ]
     },
     "metadata": {},
     "output_type": "display_data"
    },
    {
     "data": {
      "text/plain": [
       "(5, '<')"
      ]
     },
     "metadata": {},
     "output_type": "display_data"
    }
   ],
   "source": [
    "jets = iter(generator(testdata))\n",
    "for _ in range(5):\n",
    "    display(next(jets))"
   ]
  },
  {
   "cell_type": "code",
   "execution_count": 27,
   "metadata": {},
   "outputs": [],
   "source": [
    "from typing import List, Iterator\n",
    "\n",
    "\n",
    "def drop_shape(occupied: List[int],\n",
    "               shape: Shape,\n",
    "               jets: Iterator[Tuple[int, str]]) \\\n",
    "            -> Tuple[int, Shape, int]:\n",
    "    def is_clear(test_row: int, test_shape: Shape) -> bool:\n",
    "        for row_in_shape in range(len(test_shape)):\n",
    "            if test_row + row_in_shape >= len(occupied):\n",
    "                return True\n",
    "            if occupied[test_row + row_in_shape] & test_shape[row_in_shape]:\n",
    "                return False\n",
    "        return True\n",
    "\n",
    "    def apply_jet() -> Shape:\n",
    "        if jet == '>' and not any(\n",
    "                shape_line & 0b0000001 for shape_line in shape):\n",
    "            test_shape = tuple(shape_line >> 1 for shape_line in shape)\n",
    "        elif jet == '<' and not any(\n",
    "                shape_line & 0b1000000 for shape_line in shape):\n",
    "            test_shape = tuple(shape_line << 1 for shape_line in shape)\n",
    "        if is_clear(row, test_shape):\n",
    "            return test_shape\n",
    "        return shape\n",
    "\n",
    "    row = len(occupied) + 3\n",
    "    while row > 0:\n",
    "        i_jet, jet = next(jets)\n",
    "        shape = apply_jet()\n",
    "        if not is_clear(row - 1, shape):\n",
    "            break\n",
    "        row -= 1\n",
    "    return row, shape, i_jet"
   ]
  },
  {
   "cell_type": "code",
   "execution_count": null,
   "metadata": {},
   "outputs": [],
   "source": [
    "def place_shape(occupied: List[int], shape: Shape):\n",
    "    def generate_tile(x: int, y: int, current_tile: str = '.') -> str:\n",
    "        if current_tile != '.':\n",
    "            return current_tile\n",
    "        elif (x, y) in rendered_shape:\n",
    "            return '#'\n",
    "        else:\n",
    "            return '.'\n",
    "    if occupied:\n",
    "        width = len(occupied[0])\n",
    "    else:\n",
    "        width = 7\n",
    "    bottom = min(c[1] for c in rendered_shape)\n",
    "    top = max(c[1] for c in rendered_shape)\n",
    "    for y in range(bottom, top + 1):\n",
    "        if y == len(occupied):\n",
    "            occupied.append(''.join(generate_tile(x, y)\n",
    "                                    for x in range(width)))\n",
    "        else:\n",
    "            occupied[y] = ''.join(generate_tile(x, y, occupied[y][x])\n",
    "                                  for x in range(width))"
   ]
  },
  {
   "cell_type": "code",
   "execution_count": null,
   "metadata": {},
   "outputs": [
    {
     "ename": "KeyboardInterrupt",
     "evalue": "",
     "output_type": "error",
     "traceback": [
      "\u001b[0;31m---------------------------------------------------------------------------\u001b[0m",
      "\u001b[0;31mKeyboardInterrupt\u001b[0m                         Traceback (most recent call last)",
      "Cell \u001b[0;32mIn [72], line 8\u001b[0m\n\u001b[1;32m      5\u001b[0m occupied: List[\u001b[39mstr\u001b[39m] \u001b[39m=\u001b[39m \u001b[39mlist\u001b[39m()\n\u001b[1;32m      6\u001b[0m \u001b[39mfor\u001b[39;00m i \u001b[39min\u001b[39;00m count(start\u001b[39m=\u001b[39m\u001b[39m1\u001b[39m):\n\u001b[1;32m      7\u001b[0m \u001b[39m# for i in range(1, 2022 + 1):\u001b[39;00m\n\u001b[0;32m----> 8\u001b[0m     i_jet, next_shape \u001b[39m=\u001b[39m drop_shape(occupied, \u001b[39mnext\u001b[39;49m(shapes), jets)\n\u001b[1;32m      9\u001b[0m     place_shape(occupied, next_shape)\n\u001b[1;32m     10\u001b[0m     \u001b[39mif\u001b[39;00m i \u001b[39m%\u001b[39m \u001b[39m5\u001b[39m \u001b[39m==\u001b[39m \u001b[39m0\u001b[39m \u001b[39mand\u001b[39;00m i_jet \u001b[39m==\u001b[39m \u001b[39mlen\u001b[39m(testdata) \u001b[39m-\u001b[39m \u001b[39m1\u001b[39m:\n",
      "Cell \u001b[0;32mIn [63], line 40\u001b[0m, in \u001b[0;36mdrop_shape\u001b[0;34m(occupied, shape, jets, anchor, width)\u001b[0m\n\u001b[1;32m     38\u001b[0m     \u001b[39mreturn\u001b[39;00m i_jet, render_shape(anchor_j)\n\u001b[1;32m     39\u001b[0m \u001b[39melse\u001b[39;00m:\n\u001b[0;32m---> 40\u001b[0m     \u001b[39mreturn\u001b[39;00m drop_shape(occupied, shape, jets, anchor_g, width)\n",
      "Cell \u001b[0;32mIn [63], line 40\u001b[0m, in \u001b[0;36mdrop_shape\u001b[0;34m(occupied, shape, jets, anchor, width)\u001b[0m\n\u001b[1;32m     38\u001b[0m     \u001b[39mreturn\u001b[39;00m i_jet, render_shape(anchor_j)\n\u001b[1;32m     39\u001b[0m \u001b[39melse\u001b[39;00m:\n\u001b[0;32m---> 40\u001b[0m     \u001b[39mreturn\u001b[39;00m drop_shape(occupied, shape, jets, anchor_g, width)\n",
      "    \u001b[0;31m[... skipping similar frames: drop_shape at line 40 (1 times)]\u001b[0m\n",
      "Cell \u001b[0;32mIn [63], line 40\u001b[0m, in \u001b[0;36mdrop_shape\u001b[0;34m(occupied, shape, jets, anchor, width)\u001b[0m\n\u001b[1;32m     38\u001b[0m     \u001b[39mreturn\u001b[39;00m i_jet, render_shape(anchor_j)\n\u001b[1;32m     39\u001b[0m \u001b[39melse\u001b[39;00m:\n\u001b[0;32m---> 40\u001b[0m     \u001b[39mreturn\u001b[39;00m drop_shape(occupied, shape, jets, anchor_g, width)\n",
      "Cell \u001b[0;32mIn [63], line 33\u001b[0m, in \u001b[0;36mdrop_shape\u001b[0;34m(occupied, shape, jets, anchor, width)\u001b[0m\n\u001b[1;32m     31\u001b[0m \u001b[39melse\u001b[39;00m:\n\u001b[1;32m     32\u001b[0m     anchor_j \u001b[39m=\u001b[39m (anchor[\u001b[39m0\u001b[39m] \u001b[39m-\u001b[39m \u001b[39m1\u001b[39m, anchor[\u001b[39m1\u001b[39m])\n\u001b[0;32m---> 33\u001b[0m \u001b[39mif\u001b[39;00m \u001b[39mnot\u001b[39;00m is_clear(anchor_j):\n\u001b[1;32m     34\u001b[0m     anchor_j \u001b[39m=\u001b[39m anchor\n\u001b[1;32m     36\u001b[0m anchor_g \u001b[39m=\u001b[39m (anchor_j[\u001b[39m0\u001b[39m], anchor_j[\u001b[39m1\u001b[39m] \u001b[39m-\u001b[39m \u001b[39m1\u001b[39m)\n",
      "Cell \u001b[0;32mIn [63], line 13\u001b[0m, in \u001b[0;36mdrop_shape.<locals>.is_clear\u001b[0;34m(test_anchor)\u001b[0m\n\u001b[1;32m      9\u001b[0m \u001b[39mdef\u001b[39;00m \u001b[39mrender_shape\u001b[39m(anchor: Coord) \u001b[39m-\u001b[39m\u001b[39m>\u001b[39m Set[Coord]:\n\u001b[1;32m     10\u001b[0m     \u001b[39mreturn\u001b[39;00m {(c[\u001b[39m0\u001b[39m] \u001b[39m+\u001b[39m anchor[\u001b[39m0\u001b[39m], c[\u001b[39m1\u001b[39m] \u001b[39m+\u001b[39m anchor[\u001b[39m1\u001b[39m])\n\u001b[1;32m     11\u001b[0m             \u001b[39mfor\u001b[39;00m c \u001b[39min\u001b[39;00m shape}\n\u001b[0;32m---> 13\u001b[0m \u001b[39mdef\u001b[39;00m \u001b[39mis_clear\u001b[39m(test_anchor: Coord) \u001b[39m-\u001b[39m\u001b[39m>\u001b[39m \u001b[39mbool\u001b[39m:\n\u001b[1;32m     14\u001b[0m     \u001b[39mif\u001b[39;00m test_anchor[\u001b[39m0\u001b[39m] \u001b[39m<\u001b[39m \u001b[39m0\u001b[39m:\n\u001b[1;32m     15\u001b[0m         \u001b[39mreturn\u001b[39;00m \u001b[39mFalse\u001b[39;00m\n",
      "\u001b[0;31mKeyboardInterrupt\u001b[0m: "
     ]
    },
    {
     "name": "stderr",
     "output_type": "stream",
     "text": [
      "7:1: E115 expected an indented block (comment)\n"
     ]
    }
   ],
   "source": [
    "\n",
    "jets = iter(generate_jets(testdata))\n",
    "shapes = iter(generate_tetrominos())\n",
    "occupied: List[str] = list()\n",
    "for i in count(start=1):\n",
    "# for i in range(1, 2022 + 1):\n",
    "    i_jet, next_shape = drop_shape(occupied, next(shapes), jets)\n",
    "    place_shape(occupied, next_shape)\n",
    "    if i % 5 == 0 and i_jet == len(testdata) - 1:\n",
    "        display(f'{i}: {len(occupied)}')\n",
    "        break\n",
    "len(occupied)"
   ]
  },
  {
   "cell_type": "code",
   "execution_count": null,
   "metadata": {},
   "outputs": [
    {
     "data": {
      "text/plain": [
       "703533"
      ]
     },
     "execution_count": 71,
     "metadata": {},
     "output_type": "execute_result"
    }
   ],
   "source": [
    "len(occupied)"
   ]
  },
  {
   "cell_type": "code",
   "execution_count": null,
   "metadata": {},
   "outputs": [
    {
     "data": {
      "text/plain": [
       "3173"
      ]
     },
     "execution_count": 54,
     "metadata": {},
     "output_type": "execute_result"
    }
   ],
   "source": [
    "jets = iter(generate_jets(inputdata))\n",
    "shapes = iter(generate_tetrominos())\n",
    "occupied: List[str] = list()\n",
    "for i in range(2022):\n",
    "    place_shape(occupied, drop_shape(occupied, next(shapes), jets))\n",
    "len(occupied)"
   ]
  },
  {
   "cell_type": "code",
   "execution_count": null,
   "metadata": {},
   "outputs": [
    {
     "data": {
      "text/plain": [
       "['....#..',\n",
       " '....#..',\n",
       " '....##.',\n",
       " '##..##.',\n",
       " '######.',\n",
       " '.###...',\n",
       " '..#....',\n",
       " '.####..',\n",
       " '....##.',\n",
       " '....##.',\n",
       " '....#..',\n",
       " '..#.#..',\n",
       " '..#.#..',\n",
       " '#####..',\n",
       " '..###..',\n",
       " '...#...',\n",
       " '...####']"
      ]
     },
     "execution_count": 42,
     "metadata": {},
     "output_type": "execute_result"
    }
   ],
   "source": []
  },
  {
   "cell_type": "code",
   "execution_count": null,
   "metadata": {},
   "outputs": [],
   "source": [
    "\n",
    "Line = Tuple[Coord, ...]\n",
    "\n",
    "\n",
    "def parse_lines(data: Iterable[str]) -> List[Line]:\n",
    "    output: List[Line] = list()\n",
    "    for line in data:\n",
    "        line_coords: List[Coord] = list()\n",
    "        for coord in line.split(' -> '):\n",
    "            x, y = coord.split(',', 1)\n",
    "            line_coords.append((int(x), int(y)))\n",
    "        output.append(tuple(line_coords))\n",
    "    return output"
   ]
  },
  {
   "cell_type": "code",
   "execution_count": null,
   "metadata": {},
   "outputs": [],
   "source": [
    "from typing import Set, Iterable\n",
    "\n",
    "\n",
    "def generate_lines(lines: Iterable[Line]) -> Set[Coord]:\n",
    "    def generate_pixels(dim_start: int, dim_end) -> Iterable[int]:\n",
    "        step = 1\n",
    "        if dim_start >= dim_end:\n",
    "            step = -step\n",
    "        return range(dim_start, dim_end + step, step)\n",
    "\n",
    "    def generate_segment(c_start: Coord, c_end: Coord) -> Iterable[Coord]:\n",
    "        if c_start[0] == c_end[0]:\n",
    "            return ((c_start[0], c1)\n",
    "                    for c1 in generate_pixels(c_start[1], c_end[1]))\n",
    "        elif c_start[1] == c_end[1]:\n",
    "            return ((c0, c_start[1])\n",
    "                    for c0 in generate_pixels(c_start[0], c_end[0]))\n",
    "        else:\n",
    "            raise ValueError\n",
    "\n",
    "    def generate_line(coords: Line) -> Iterable[Coord]:\n",
    "        return (pixel\n",
    "                for c_start, c_end in zip(coords[:-1], coords[1:])\n",
    "                for pixel in generate_segment(c_start, c_end))\n",
    "\n",
    "    return {pixel\n",
    "            for line in lines\n",
    "            for pixel in generate_line(line)}"
   ]
  },
  {
   "cell_type": "code",
   "execution_count": null,
   "metadata": {},
   "outputs": [],
   "source": [
    "def scene_str(stone: Set[Coord], occupied: Set[Coord] = set()) -> List[str]:\n",
    "    def window(coords: Set[Coord]) -> Tuple[Coord, Coord]:\n",
    "        min_x = min(c[0] for c in coords)\n",
    "        max_x = max(c[0] for c in coords)\n",
    "        min_y = min(c[1] for c in coords)\n",
    "        max_y = max(c[1] for c in coords)\n",
    "        return ((min_x - 1, min_y - 1), (max_x + 1, max_y + 1))\n",
    "\n",
    "    def pixel_chr(pixel: Coord) -> str:\n",
    "        if pixel in stone:\n",
    "            return '#'\n",
    "        elif pixel in occupied:\n",
    "            return 'o'\n",
    "        else:\n",
    "            return '.'\n",
    "\n",
    "    # replace with occupied.union(stone)?\n",
    "    w = window(stone.union(occupied))\n",
    "    return [\n",
    "        ''.join(pixel_chr((x, y)) for x in range(w[0][0], w[1][0] + 1))\n",
    "        for y in range(w[0][1], w[1][1] + 1)]"
   ]
  },
  {
   "cell_type": "code",
   "execution_count": null,
   "metadata": {},
   "outputs": [],
   "source": [
    "from typing import Optional\n",
    "\n",
    "\n",
    "def drop_grain(\n",
    "        stone: Set[Coord],\n",
    "        occupied: Set[Coord] = set(),\n",
    "        pos: Coord = (500, 0),\n",
    "        abyss: int = -1,\n",
    "        floor_not_abyss: bool = False) -> Optional[Coord]:\n",
    "    if abyss == -1:\n",
    "        abyss = max(c[1] + 2 for c in stone)\n",
    "    # Let's see, if either of the next positions are free,\n",
    "    # in that order of preference, the grain will fall\n",
    "    # there, and only if not, it will come to rest where it\n",
    "    # is\n",
    "    if floor_not_abyss and pos[1] + 1 >= abyss:\n",
    "        return pos\n",
    "    if pos[1] >= abyss or pos in occupied:\n",
    "        return None\n",
    "    next_positions = [\n",
    "        (pos[0], pos[1] + 1),\n",
    "        (pos[0] - 1, pos[1] + 1),\n",
    "        (pos[0] + 1, pos[1] + 1)]\n",
    "    for next_pos in next_positions:\n",
    "        if next_pos not in occupied:\n",
    "            return drop_grain(stone,\n",
    "                              occupied,\n",
    "                              next_pos,\n",
    "                              abyss,\n",
    "                              floor_not_abyss)\n",
    "    return pos"
   ]
  },
  {
   "cell_type": "code",
   "execution_count": null,
   "metadata": {},
   "outputs": [
    {
     "data": {
      "text/plain": [
       "24"
      ]
     },
     "metadata": {},
     "output_type": "display_data"
    },
    {
     "data": {
      "text/plain": [
       "['............',\n",
       " '.......o....',\n",
       " '......ooo...',\n",
       " '.....#ooo##.',\n",
       " '....o#ooo#..',\n",
       " '...###ooo#..',\n",
       " '.....oooo#..',\n",
       " '..o.ooooo#..',\n",
       " '.#########..',\n",
       " '............']"
      ]
     },
     "metadata": {},
     "output_type": "display_data"
    }
   ],
   "source": [
    "stone = generate_lines(parse_lines(testdata))\n",
    "occupied = stone.copy()\n",
    "while True:\n",
    "    if position := drop_grain(stone, occupied):\n",
    "        occupied.add(position)\n",
    "    else:\n",
    "        break\n",
    "display(len(occupied) - len(stone))\n",
    "display(scene_str(stone, occupied))"
   ]
  },
  {
   "cell_type": "code",
   "execution_count": null,
   "metadata": {},
   "outputs": [
    {
     "data": {
      "text/plain": [
       "755"
      ]
     },
     "metadata": {},
     "output_type": "display_data"
    }
   ],
   "source": [
    "stone = generate_lines(parse_lines(inputdata))\n",
    "occupied = stone.copy()\n",
    "while True:\n",
    "    if position := drop_grain(stone, occupied):\n",
    "        occupied.add(position)\n",
    "    else:\n",
    "        break\n",
    "display(len(occupied) - len(stone))"
   ]
  },
  {
   "cell_type": "code",
   "execution_count": null,
   "metadata": {},
   "outputs": [
    {
     "data": {
      "text/html": [
       "\n",
       "<p>Your puzzle answer was <code>755</code>.</p>"
      ],
      "text/plain": [
       "<IPython.core.display.HTML object>"
      ]
     },
     "execution_count": 12,
     "metadata": {},
     "output_type": "execute_result"
    }
   ],
   "source": [
    "HTML(downloaded['part1_footer'])"
   ]
  },
  {
   "cell_type": "markdown",
   "metadata": {},
   "source": [
    "## Part Two"
   ]
  },
  {
   "cell_type": "code",
   "execution_count": null,
   "metadata": {},
   "outputs": [
    {
     "data": {
      "text/html": [
       "<h2 id=\"part2\">--- Part Two ---</h2><p>You realize you misread the scan. There isn't an <span title=\"Endless Void is my C cover band.\">endless void</span> at the bottom of the scan - there's floor, and you're standing on it!</p>\n",
       "<p>You don't have time to scan the floor, so assume the floor is an infinite horizontal line with a <code>y</code> coordinate equal to <em>two plus the highest <code>y</code> coordinate</em> of any point in your scan.</p>\n",
       "<p>In the example above, the highest <code>y</code> coordinate of any point is <code>9</code>, and so the floor is at <code>y=11</code>. (This is as if your scan contained one extra rock path like <code>-infinity,11 -&gt; infinity,11</code>.) With the added floor, the example above now looks like this:</p>\n",
       "<pre><code>        ...........+........\n",
       "        ....................\n",
       "        ....................\n",
       "        ....................\n",
       "        .........#...##.....\n",
       "        .........#...#......\n",
       "        .......###...#......\n",
       "        .............#......\n",
       "        .............#......\n",
       "        .....#########......\n",
       "        ....................\n",
       "&lt;-- etc #################### etc --&gt;\n",
       "</code></pre>\n",
       "<p>To find somewhere safe to stand, you'll need to simulate falling sand until a unit of sand comes to rest at <code>500,0</code>, blocking the source entirely and stopping the flow of sand into the cave. In the example above, the situation finally looks like this after <code><em>93</em></code> units of sand come to rest:</p>\n",
       "<pre><code>............o............\n",
       "...........ooo...........\n",
       "..........ooooo..........\n",
       ".........ooooooo.........\n",
       "........oo#ooo##o........\n",
       ".......ooo#ooo#ooo.......\n",
       "......oo###ooo#oooo......\n",
       ".....oooo.oooo#ooooo.....\n",
       "....oooooooooo#oooooo....\n",
       "...ooo#########ooooooo...\n",
       "..ooooo.......ooooooooo..\n",
       "#########################\n",
       "</code></pre>\n",
       "<p>Using your scan, simulate the falling sand until the source of the sand becomes blocked. <em>How many units of sand come to rest?</em></p>\n"
      ],
      "text/plain": [
       "<IPython.core.display.HTML object>"
      ]
     },
     "execution_count": 13,
     "metadata": {},
     "output_type": "execute_result"
    }
   ],
   "source": [
    "HTML(downloaded['part2'])"
   ]
  },
  {
   "cell_type": "code",
   "execution_count": null,
   "metadata": {},
   "outputs": [
    {
     "data": {
      "text/plain": [
       "93"
      ]
     },
     "metadata": {},
     "output_type": "display_data"
    },
    {
     "data": {
      "text/plain": [
       "['.......................',\n",
       " '...........o...........',\n",
       " '..........ooo..........',\n",
       " '.........ooooo.........',\n",
       " '........ooooooo........',\n",
       " '.......oo#ooo##o.......',\n",
       " '......ooo#ooo#ooo......',\n",
       " '.....oo###ooo#oooo.....',\n",
       " '....oooo.oooo#ooooo....',\n",
       " '...oooooooooo#oooooo...',\n",
       " '..ooo#########ooooooo..',\n",
       " '.ooooo.......ooooooooo.',\n",
       " '.......................']"
      ]
     },
     "metadata": {},
     "output_type": "display_data"
    }
   ],
   "source": [
    "stone = generate_lines(parse_lines(testdata))\n",
    "occupied = stone.copy()\n",
    "while True:\n",
    "    if position := drop_grain(stone, occupied, floor_not_abyss=True):\n",
    "        occupied.add(position)\n",
    "    else:\n",
    "        break\n",
    "display(len(occupied) - len(stone))\n",
    "display(scene_str(stone, occupied))"
   ]
  },
  {
   "cell_type": "code",
   "execution_count": null,
   "metadata": {},
   "outputs": [
    {
     "data": {
      "text/plain": [
       "29805"
      ]
     },
     "metadata": {},
     "output_type": "display_data"
    }
   ],
   "source": [
    "stone = generate_lines(parse_lines(inputdata))\n",
    "occupied = stone.copy()\n",
    "while True:\n",
    "    if position := drop_grain(stone, occupied, floor_not_abyss=True):\n",
    "        occupied.add(position)\n",
    "    else:\n",
    "        break\n",
    "display(len(occupied) - len(stone))"
   ]
  },
  {
   "cell_type": "code",
   "execution_count": null,
   "metadata": {},
   "outputs": [
    {
     "data": {
      "text/html": [
       "\n",
       "<p>Your puzzle answer was <code>29805</code>.</p><p class=\"day-success\">Both parts of this puzzle are complete! They provide two gold stars: **</p>\n",
       "<p>At this point, you should <a href=\"/2022\">return to your Advent calendar</a> and try another puzzle.</p>\n",
       "<p>If you still want to see it, you can <a href=\"14/input\" target=\"_blank\">get your puzzle input</a>.</p>\n",
       "<p>You can also <span class=\"share\">[Share<span class=\"share-content\">on\n",
       "  <a href=\"https://twitter.com/intent/tweet?text=I%27ve+completed+%22Regolith+Reservoir%22+%2D+Day+14+%2D+Advent+of+Code+2022&amp;url=https%3A%2F%2Fadventofcode%2Ecom%2F2022%2Fday%2F14&amp;related=ericwastl&amp;hashtags=AdventOfCode\" target=\"_blank\">Twitter</a>\n",
       "  <a href=\"javascript:void(0);\" onclick=\"var mastodon_instance=prompt('Mastodon Instance / Server Name?'); if(typeof mastodon_instance==='string' && mastodon_instance.length){this.href='https://'+mastodon_instance+'/share?text=I%27ve+completed+%22Regolith+Reservoir%22+%2D+Day+14+%2D+Advent+of+Code+2022+%23AdventOfCode+https%3A%2F%2Fadventofcode%2Ecom%2F2022%2Fday%2F14'}else{return false;}\" target=\"_blank\">Mastodon</a\n",
       "></span>]</span> this puzzle.</p>\n"
      ],
      "text/plain": [
       "<IPython.core.display.HTML object>"
      ]
     },
     "execution_count": 16,
     "metadata": {},
     "output_type": "execute_result"
    }
   ],
   "source": [
    "HTML(downloaded['part2_footer'])"
   ]
  }
 ],
 "metadata": {
  "kernelspec": {
   "display_name": "Python 3",
   "language": "python",
   "name": "python3"
  },
  "language_info": {
   "codemirror_mode": {
    "name": "ipython",
    "version": 3
   },
   "file_extension": ".py",
   "mimetype": "text/x-python",
   "name": "python",
   "nbconvert_exporter": "python",
   "pygments_lexer": "ipython3",
   "version": "3.10.6"
  },
  "vscode": {
   "interpreter": {
    "hash": "e7370f93d1d0cde622a1f8e1c04877d8463912d04d973331ad4851f04de6915a"
   }
  }
 },
 "nbformat": 4,
 "nbformat_minor": 4
}

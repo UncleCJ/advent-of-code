{
 "cells": [
  {
   "attachments": {},
   "cell_type": "markdown",
   "metadata": {},
   "source": [
    "# Day 8: Treetop Tree House\n",
    "\n",
    "[*Advent of Code 2022 day 8*](https://adventofcode.com/2022/day/8) and [*solution megathread*](https://redd.it/zfpnka)\n",
    "\n",
    "[![nbviewer](https://raw.githubusercontent.com/jupyter/design/master/logos/Badges/nbviewer_badge.svg)](https://nbviewer.jupyter.org/github/UncleCJ/advent-of-code/blob/cj/2022/08/code.ipynb) [![Binder](https://mybinder.org/badge_logo.svg)](https://mybinder.org/v2/gh/UncleCJ/advent-of-code/cj?filepath=2022%2F08%2Fcode.ipynb)"
   ]
  },
  {
   "cell_type": "code",
   "execution_count": 1,
   "metadata": {},
   "outputs": [
    {
     "name": "stderr",
     "output_type": "stream",
     "text": [
      "Version 1.0.4\n"
     ]
    }
   ],
   "source": [
    "from IPython.display import HTML\n",
    "import sys\n",
    "sys.path.append('../../')\n",
    "\n",
    "\n",
    "%load_ext nb_mypy\n",
    "%nb_mypy On"
   ]
  },
  {
   "cell_type": "code",
   "execution_count": 2,
   "metadata": {},
   "outputs": [
    {
     "name": "stdout",
     "output_type": "stream",
     "text": [
      "Writing 'downloaded' (dict) to file 'downloaded'.\n"
     ]
    }
   ],
   "source": [
    "import common\n",
    "\n",
    "\n",
    "downloaded = common.refresh()\n",
    "%store downloaded >downloaded\n",
    "\n",
    "%load_ext pycodestyle_magic\n",
    "%pycodestyle_on"
   ]
  },
  {
   "cell_type": "markdown",
   "metadata": {},
   "source": [
    "## Part One"
   ]
  },
  {
   "cell_type": "code",
   "execution_count": 3,
   "metadata": {},
   "outputs": [
    {
     "data": {
      "text/html": [
       "<h2>--- Day 8: Treetop Tree House ---</h2><p>The expedition comes across a peculiar patch of tall trees all planted carefully in a grid. The Elves explain that a previous expedition planted these trees as a reforestation effort. Now, they're curious if this would be a good location for a <a href=\"https://en.wikipedia.org/wiki/Tree_house\" target=\"_blank\">tree house</a>.</p>\n",
       "<p>First, determine whether there is enough tree cover here to keep a tree house <em>hidden</em>. To do this, you need to count the number of trees that are <em>visible from outside the grid</em> when looking directly along a row or column.</p>\n",
       "<p>The Elves have already launched a <a href=\"https://en.wikipedia.org/wiki/Quadcopter\" target=\"_blank\">quadcopter</a> to generate a map with the height of each tree (<span title=\"The Elves have already launched a quadcopter (your puzzle input).\">your puzzle input</span>). For example:</p>\n",
       "<pre><code>30373\n",
       "25512\n",
       "65332\n",
       "33549\n",
       "35390\n",
       "</code></pre>\n",
       "<p>Each tree is represented as a single digit whose value is its height, where <code>0</code> is the shortest and <code>9</code> is the tallest.</p>\n",
       "<p>A tree is <em>visible</em> if all of the other trees between it and an edge of the grid are <em>shorter</em> than it. Only consider trees in the same row or column; that is, only look up, down, left, or right from any given tree.</p>\n",
       "<p>All of the trees around the edge of the grid are <em>visible</em> - since they are already on the edge, there are no trees to block the view. In this example, that only leaves the <em>interior nine trees</em> to consider:</p>\n",
       "<ul>\n",
       "<li>The top-left <code>5</code> is <em>visible</em> from the left and top. (It isn't visible from the right or bottom since other trees of height <code>5</code> are in the way.)</li>\n",
       "<li>The top-middle <code>5</code> is <em>visible</em> from the top and right.</li>\n",
       "<li>The top-right <code>1</code> is not visible from any direction; for it to be visible, there would need to only be trees of height <em>0</em> between it and an edge.</li>\n",
       "<li>The left-middle <code>5</code> is <em>visible</em>, but only from the right.</li>\n",
       "<li>The center <code>3</code> is not visible from any direction; for it to be visible, there would need to be only trees of at most height <code>2</code> between it and an edge.</li>\n",
       "<li>The right-middle <code>3</code> is <em>visible</em> from the right.</li>\n",
       "<li>In the bottom row, the middle <code>5</code> is <em>visible</em>, but the <code>3</code> and <code>4</code> are not.</li>\n",
       "</ul>\n",
       "<p>With 16 trees visible on the edge and another 5 visible in the interior, a total of <code><em>21</em></code> trees are visible in this arrangement.</p>\n",
       "<p>Consider your map; <em>how many trees are visible from outside the grid?</em></p>\n"
      ],
      "text/plain": [
       "<IPython.core.display.HTML object>"
      ]
     },
     "execution_count": 3,
     "metadata": {},
     "output_type": "execute_result"
    }
   ],
   "source": [
    "from IPython.display import HTML\n",
    "\n",
    "HTML(downloaded['part1'])"
   ]
  },
  {
   "cell_type": "markdown",
   "metadata": {},
   "source": [
    "## Comments\n",
    "\n",
    "..."
   ]
  },
  {
   "cell_type": "code",
   "execution_count": 4,
   "metadata": {},
   "outputs": [],
   "source": [
    "from IPython.display import display\n",
    "\n",
    "testdata = \"\"\"30373\n",
    "25512\n",
    "65332\n",
    "33549\n",
    "35390\"\"\".splitlines()\n",
    "\n",
    "inputdata = downloaded['input'].splitlines()"
   ]
  },
  {
   "cell_type": "code",
   "execution_count": 5,
   "metadata": {},
   "outputs": [
    {
     "data": {
      "text/plain": [
       "\"['020110220332333020110144320304042020444223003535441353331002333431100300241023221210123003331021020', '002120010112022233203323334422340102033151553341235324543343233301202102130210343113312320222102020'] ... len(inputdata)=99\""
      ]
     },
     "metadata": {},
     "output_type": "display_data"
    }
   ],
   "source": [
    "display(f'{inputdata[:2]} ... {len(inputdata)=}')"
   ]
  },
  {
   "cell_type": "code",
   "execution_count": 6,
   "metadata": {},
   "outputs": [],
   "source": [
    "from typing import List\n",
    "from enum import Enum, auto\n",
    "\n",
    "\n",
    "class Direction(Enum):\n",
    "    LEFT = auto()\n",
    "    RIGHT = auto()\n",
    "    TOP = auto()\n",
    "    BOTTOM = auto()\n",
    "\n",
    "\n",
    "def cumlargest_direction(\n",
    "        data: List[str],\n",
    "        direction: Direction) -> List[List[str]]:\n",
    "    def cumlargest(xs: str) -> List[str]:\n",
    "        output = ['0']\n",
    "        largest = xs[0]\n",
    "        for x in xs[:-1]:\n",
    "            if x > largest:\n",
    "                output.append(x)\n",
    "                largest = x\n",
    "            else:\n",
    "                output.append(largest)\n",
    "        return output\n",
    "\n",
    "    match direction:\n",
    "        case Direction.LEFT:\n",
    "            vectors = [cumlargest(row) for row in data]\n",
    "            return vectors\n",
    "        case Direction.RIGHT:\n",
    "            vectors = [\n",
    "                cumlargest(row[::-1])\n",
    "                for row in data\n",
    "            ]\n",
    "            return [vector[::-1] for vector in vectors]\n",
    "        case Direction.TOP:\n",
    "            vectors = [\n",
    "                cumlargest(''.join(row[i] for row in data))\n",
    "                for i in range(len(data[0]))\n",
    "            ]\n",
    "            return [\n",
    "                [vector[i] for vector in vectors]\n",
    "                for i in range(len(vectors[0]))\n",
    "            ]\n",
    "        case Direction.BOTTOM:\n",
    "            vectors = [\n",
    "                cumlargest(''.join(row[i] for row in data[::-1]))\n",
    "                for i in range(len(data[0]))\n",
    "            ]\n",
    "            return [\n",
    "                [vector[-(i + 1)] for vector in vectors]\n",
    "                for i in range(len(vectors[0]))\n",
    "            ]\n",
    "        case default:\n",
    "            raise ValueError(f'Invalid direction: {direction}')"
   ]
  },
  {
   "cell_type": "code",
   "execution_count": 7,
   "metadata": {},
   "outputs": [
    {
     "name": "stdout",
     "output_type": "stream",
     "text": [
      "Direction.LEFT: \n",
      "['0', '3', '3', '3', '7']\n",
      "['0', '2', '5', '5', '5']\n",
      "['0', '6', '6', '6', '6']\n",
      "['0', '3', '3', '5', '5']\n",
      "['0', '3', '5', '5', '9']\n",
      "Direction.RIGHT: \n",
      "['7', '7', '7', '3', '0']\n",
      "['5', '5', '2', '2', '0']\n",
      "['5', '3', '3', '2', '0']\n",
      "['9', '9', '9', '9', '0']\n",
      "['9', '9', '9', '0', '0']\n",
      "Direction.TOP: \n",
      "['0', '0', '0', '0', '0']\n",
      "['3', '0', '3', '7', '3']\n",
      "['3', '5', '5', '7', '3']\n",
      "['6', '5', '5', '7', '3']\n",
      "['6', '5', '5', '7', '9']\n",
      "Direction.BOTTOM: \n",
      "['6', '5', '5', '9', '9']\n",
      "['6', '5', '5', '9', '9']\n",
      "['3', '5', '5', '9', '9']\n",
      "['3', '5', '3', '9', '0']\n",
      "['0', '0', '0', '0', '0']\n"
     ]
    }
   ],
   "source": [
    "for direction in Direction:\n",
    "    print(f'{str(direction)}: ')\n",
    "    print('\\n'.join(\n",
    "        str(vector)\n",
    "        for vector in cumlargest_direction(testdata, direction)))"
   ]
  },
  {
   "cell_type": "code",
   "execution_count": 8,
   "metadata": {},
   "outputs": [],
   "source": [
    "def countvisible(data: List[str]) -> int:\n",
    "    size = len(data)\n",
    "    cumlargest_all = {\n",
    "        direction: cumlargest_direction(data, direction)\n",
    "        for direction in Direction\n",
    "    }\n",
    "    count = 2 * size + 2 * (size - 2)\n",
    "    for i in range(1, size - 1):\n",
    "        for j in range(1, size - 1):\n",
    "            this = data[i][j]\n",
    "            if any(\n",
    "                (this > cumlargest[i][j])\n",
    "                for cumlargest in cumlargest_all.values()\n",
    "            ):\n",
    "                count += 1\n",
    "    return count"
   ]
  },
  {
   "cell_type": "code",
   "execution_count": 9,
   "metadata": {},
   "outputs": [
    {
     "data": {
      "text/plain": [
       "21"
      ]
     },
     "execution_count": 9,
     "metadata": {},
     "output_type": "execute_result"
    }
   ],
   "source": [
    "countvisible(testdata)"
   ]
  },
  {
   "cell_type": "code",
   "execution_count": 10,
   "metadata": {},
   "outputs": [
    {
     "data": {
      "text/plain": [
       "1805"
      ]
     },
     "execution_count": 10,
     "metadata": {},
     "output_type": "execute_result"
    }
   ],
   "source": [
    "countvisible(inputdata)"
   ]
  },
  {
   "cell_type": "code",
   "execution_count": 11,
   "metadata": {},
   "outputs": [
    {
     "data": {
      "text/html": [
       "\n",
       "<p>Your puzzle answer was <code>1805</code>.</p>"
      ],
      "text/plain": [
       "<IPython.core.display.HTML object>"
      ]
     },
     "execution_count": 11,
     "metadata": {},
     "output_type": "execute_result"
    }
   ],
   "source": [
    "HTML(downloaded['part1_footer'])"
   ]
  },
  {
   "cell_type": "markdown",
   "metadata": {},
   "source": [
    "## Part Two"
   ]
  },
  {
   "cell_type": "code",
   "execution_count": 12,
   "metadata": {},
   "outputs": [
    {
     "data": {
      "text/html": [
       "<h2 id=\"part2\">--- Part Two ---</h2><p>Content with the amount of tree cover available, the Elves just need to know the best spot to build their tree house: they would like to be able to see a lot of <em>trees</em>.</p>\n",
       "<p>To measure the viewing distance from a given tree, look up, down, left, and right from that tree; stop if you reach an edge or at the first tree that is the same height or taller than the tree under consideration. (If a tree is right on the edge, at least one of its viewing distances will be zero.)</p>\n",
       "<p>The Elves don't care about distant trees taller than those found by the rules above; the proposed tree house has large <a href=\"https://en.wikipedia.org/wiki/Eaves\" target=\"_blank\">eaves</a> to keep it dry, so they wouldn't be able to see higher than the tree house anyway.</p>\n",
       "<p>In the example above, consider the middle <code>5</code> in the second row:</p>\n",
       "<pre><code>30373\n",
       "25<em>5</em>12\n",
       "65332\n",
       "33549\n",
       "35390\n",
       "</code></pre>\n",
       "<ul>\n",
       "<li>Looking up, its view is not blocked; it can see <code><em>1</em></code> tree (of height <code>3</code>).</li>\n",
       "<li>Looking left, its view is blocked immediately; it can see only <code><em>1</em></code> tree (of height <code>5</code>, right next to it).</li>\n",
       "<li>Looking right, its view is not blocked; it can see <code><em>2</em></code> trees.</li>\n",
       "<li>Looking down, its view is blocked eventually; it can see <code><em>2</em></code> trees (one of height <code>3</code>, then the tree of height <code>5</code> that blocks its view).</li>\n",
       "</ul>\n",
       "<p>A tree's <em>scenic score</em> is found by <em>multiplying together</em> its viewing distance in each of the four directions. For this tree, this is <code><em>4</em></code> (found by multiplying <code>1 * 1 * 2 * 2</code>).</p>\n",
       "<p>However, you can do even better: consider the tree of height <code>5</code> in the middle of the fourth row:</p>\n",
       "<pre><code>30373\n",
       "25512\n",
       "65332\n",
       "33<em>5</em>49\n",
       "35390\n",
       "</code></pre>\n",
       "<ul>\n",
       "<li>Looking up, its view is blocked at <code><em>2</em></code> trees (by another tree with a height of <code>5</code>).</li>\n",
       "<li>Looking left, its view is not blocked; it can see <code><em>2</em></code> trees.</li>\n",
       "<li>Looking down, its view is also not blocked; it can see <code><em>1</em></code> tree.</li>\n",
       "<li>Looking right, its view is blocked at <code><em>2</em></code> trees (by a massive tree of height <code>9</code>).</li>\n",
       "</ul>\n",
       "<p>This tree's scenic score is <code><em>8</em></code> (<code>2 * 2 * 1 * 2</code>); this is the ideal spot for the tree house.</p>\n",
       "<p>Consider each tree on your map. <em>What is the highest scenic score possible for any tree?</em></p>\n"
      ],
      "text/plain": [
       "<IPython.core.display.HTML object>"
      ]
     },
     "execution_count": 12,
     "metadata": {},
     "output_type": "execute_result"
    }
   ],
   "source": [
    "HTML(downloaded['part2'])"
   ]
  },
  {
   "cell_type": "code",
   "execution_count": 13,
   "metadata": {},
   "outputs": [],
   "source": [
    "from typing import Tuple\n",
    "\n",
    "\n",
    "def score_directions(treeline: str, pos: int) -> Tuple[int, int]:\n",
    "    this = treeline[pos]\n",
    "    forward = 0\n",
    "    for i in range(pos + 1, len(treeline)):\n",
    "        forward += 1\n",
    "        if treeline[i] >= this:\n",
    "            break\n",
    "    reverse = 0\n",
    "    for i in range(pos - 1, -1, -1):\n",
    "        reverse += 1\n",
    "        if treeline[i] >= this:\n",
    "            break\n",
    "    return forward, reverse\n",
    "\n",
    "\n",
    "def score(trees: List[str], row: int, column: int) -> int:\n",
    "    left, right = score_directions(trees[row], column)\n",
    "    top, bottom = score_directions(\n",
    "        ''.join(treerow[column] for treerow in trees),\n",
    "        row\n",
    "    )\n",
    "    return left * right * top * bottom\n",
    "\n",
    "\n",
    "def best_score(trees: List[str]) -> int:\n",
    "    best = 0\n",
    "    for row in range(len(trees)):\n",
    "        for column in range(len(trees[0])):\n",
    "            this = score(trees, row, column)\n",
    "            if this > best:\n",
    "                print(f'({row}, {column}) is better than {best} at {this}')\n",
    "                best = this\n",
    "    return best"
   ]
  },
  {
   "cell_type": "code",
   "execution_count": 14,
   "metadata": {},
   "outputs": [
    {
     "name": "stdout",
     "output_type": "stream",
     "text": [
      "(2, 1)\n",
      "(2, 1)\n",
      "(2, 2)\n",
      "(1, 2)\n"
     ]
    }
   ],
   "source": [
    "print(score_directions('35353', 1))\n",
    "print(score_directions('25512', 2))\n",
    "print(score_directions('33549', 2))\n",
    "print(score_directions('35353', 3))"
   ]
  },
  {
   "cell_type": "code",
   "execution_count": 15,
   "metadata": {},
   "outputs": [
    {
     "data": {
      "text/plain": [
       "8"
      ]
     },
     "execution_count": 15,
     "metadata": {},
     "output_type": "execute_result"
    }
   ],
   "source": [
    "score(testdata, 3, 2)"
   ]
  },
  {
   "cell_type": "code",
   "execution_count": 16,
   "metadata": {},
   "outputs": [
    {
     "name": "stdout",
     "output_type": "stream",
     "text": [
      "(1, 1) is better than 0 at 1\n",
      "(1, 2) is better than 1 at 4\n",
      "(2, 1) is better than 4 at 6\n",
      "(3, 2) is better than 6 at 8\n"
     ]
    },
    {
     "data": {
      "text/plain": [
       "8"
      ]
     },
     "execution_count": 16,
     "metadata": {},
     "output_type": "execute_result"
    }
   ],
   "source": [
    "best_score(testdata)"
   ]
  },
  {
   "cell_type": "code",
   "execution_count": 17,
   "metadata": {},
   "outputs": [
    {
     "name": "stdout",
     "output_type": "stream",
     "text": [
      "(1, 1) is better than 0 at 1\n",
      "(1, 2) is better than 1 at 16\n",
      "(1, 4) is better than 16 at 84\n",
      "(1, 31) is better than 84 at 144\n",
      "(1, 40) is better than 144 at 560\n",
      "(1, 79) is better than 560 at 2394\n",
      "(5, 84) is better than 2394 at 3920\n",
      "(6, 15) is better than 3920 at 7920\n",
      "(8, 78) is better than 7920 at 12480\n",
      "(14, 49) is better than 12480 at 13720\n",
      "(15, 46) is better than 13720 at 322920\n",
      "(44, 31) is better than 322920 at 368280\n",
      "(77, 42) is better than 368280 at 444528\n"
     ]
    },
    {
     "data": {
      "text/plain": [
       "444528"
      ]
     },
     "execution_count": 17,
     "metadata": {},
     "output_type": "execute_result"
    }
   ],
   "source": [
    "best_score(inputdata)"
   ]
  },
  {
   "cell_type": "code",
   "execution_count": 18,
   "metadata": {},
   "outputs": [
    {
     "data": {
      "text/html": [
       "\n",
       "<p>Your puzzle answer was <code>444528</code>.</p><p class=\"day-success\">Both parts of this puzzle are complete! They provide two gold stars: **</p>\n",
       "<p>At this point, you should <a href=\"/2022\">return to your Advent calendar</a> and try another puzzle.</p>\n",
       "<p>If you still want to see it, you can <a href=\"8/input\" target=\"_blank\">get your puzzle input</a>.</p>\n",
       "<p>You can also <span class=\"share\">[Share<span class=\"share-content\">on\n",
       "  <a href=\"https://twitter.com/intent/tweet?text=I%27ve+completed+%22Treetop+Tree+House%22+%2D+Day+8+%2D+Advent+of+Code+2022&amp;url=https%3A%2F%2Fadventofcode%2Ecom%2F2022%2Fday%2F8&amp;related=ericwastl&amp;hashtags=AdventOfCode\" target=\"_blank\">Twitter</a>\n",
       "  <a href=\"javascript:void(0);\" onclick=\"var mastodon_instance=prompt('Mastodon Instance / Server Name?'); if(typeof mastodon_instance==='string' && mastodon_instance.length){this.href='https://'+mastodon_instance+'/share?text=I%27ve+completed+%22Treetop+Tree+House%22+%2D+Day+8+%2D+Advent+of+Code+2022+%23AdventOfCode+https%3A%2F%2Fadventofcode%2Ecom%2F2022%2Fday%2F8'}else{return false;}\" target=\"_blank\">Mastodon</a\n",
       "></span>]</span> this puzzle.</p>\n"
      ],
      "text/plain": [
       "<IPython.core.display.HTML object>"
      ]
     },
     "execution_count": 18,
     "metadata": {},
     "output_type": "execute_result"
    }
   ],
   "source": [
    "HTML(downloaded['part2_footer'])"
   ]
  }
 ],
 "metadata": {
  "kernelspec": {
   "display_name": "Python 3.10.8 ('venv': venv)",
   "language": "python",
   "name": "python3"
  },
  "language_info": {
   "codemirror_mode": {
    "name": "ipython",
    "version": 3
   },
   "file_extension": ".py",
   "mimetype": "text/x-python",
   "name": "python",
   "nbconvert_exporter": "python",
   "pygments_lexer": "ipython3",
   "version": "3.11.2"
  },
  "vscode": {
   "interpreter": {
    "hash": "953efd6badefc8bd539414deffff5d1ee9e359bc7a1650a157b4fbde293a1337"
   }
  }
 },
 "nbformat": 4,
 "nbformat_minor": 4
}

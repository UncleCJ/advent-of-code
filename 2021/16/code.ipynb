{
 "cells": [
  {
   "attachments": {},
   "cell_type": "markdown",
   "metadata": {},
   "source": [
    "# Day 16: Packet Decoder\n",
    "\n",
    "[*Advent of Code 2021 day 16*](https://adventofcode.com/2021/day/16) and [*solution megathread*](https://redd.it/rhj2hm)\n",
    "\n",
    "[![nbviewer](https://raw.githubusercontent.com/jupyter/design/master/logos/Badges/nbviewer_badge.svg)](https://nbviewer.jupyter.org/github/UncleCJ/advent-of-code/blob/cj/2021/16/code.ipynb) [![Binder](https://mybinder.org/badge_logo.svg)](https://mybinder.org/v2/gh/UncleCJ/advent-of-code/cj?filepath=2021%2F16%2Fcode.ipynb)"
   ]
  },
  {
   "cell_type": "code",
   "execution_count": 1,
   "metadata": {},
   "outputs": [
    {
     "name": "stdout",
     "output_type": "stream",
     "text": [
      "Writing 'downloaded' (dict) to file 'downloaded'.\n"
     ]
    }
   ],
   "source": [
    "from IPython.display import HTML\n",
    "import sys\n",
    "\n",
    "sys.path.append('../../')\n",
    "import common\n",
    "\n",
    "downloaded = common.refresh()\n",
    "%store downloaded >downloaded"
   ]
  },
  {
   "cell_type": "markdown",
   "metadata": {},
   "source": [
    "## Part One"
   ]
  },
  {
   "cell_type": "code",
   "execution_count": 2,
   "metadata": {},
   "outputs": [
    {
     "data": {
      "text/html": [
       "<h2>--- Day 16: Packet Decoder ---</h2><p>As you leave the cave and reach open waters, you receive a transmission from the Elves back on the ship.</p>\n",
       "<p>The transmission was sent using the Buoyancy Interchange Transmission System (<span title=\"Just be glad it wasn't sent using the BuoyancY Transmission Encoding System.\">BITS</span>), a method of packing numeric expressions into a binary sequence. Your submarine's computer has saved the transmission in <a href=\"https://en.wikipedia.org/wiki/Hexadecimal\" target=\"_blank\">hexadecimal</a> (your puzzle input).</p>\n",
       "<p>The first step of decoding the message is to convert the hexadecimal representation into binary. Each character of hexadecimal corresponds to four bits of binary data:</p>\n",
       "<pre><code>0 = 0000\n",
       "1 = 0001\n",
       "2 = 0010\n",
       "3 = 0011\n",
       "4 = 0100\n",
       "5 = 0101\n",
       "6 = 0110\n",
       "7 = 0111\n",
       "8 = 1000\n",
       "9 = 1001\n",
       "A = 1010\n",
       "B = 1011\n",
       "C = 1100\n",
       "D = 1101\n",
       "E = 1110\n",
       "F = 1111\n",
       "</code></pre>\n",
       "<p>The BITS transmission contains a single <em>packet</em> at its outermost layer which itself contains many other packets. The hexadecimal representation of this packet might encode a few extra <code>0</code> bits at the end; these are not part of the transmission and should be ignored.</p>\n",
       "<p>Every packet begins with a standard header: the first three bits encode the packet <em>version</em>, and the next three bits encode the packet <em>type ID</em>. These two values are numbers; all numbers encoded in any packet are represented as binary with the most significant bit first. For example, a version encoded as the binary sequence <code>100</code> represents the number <code>4</code>.</p>\n",
       "<p>Packets with type ID <code>4</code> represent a <em>literal value</em>. Literal value packets encode a single binary number. To do this, the binary number is padded with leading zeroes until its length is a multiple of four bits, and then it is broken into groups of four bits. Each group is prefixed by a <code>1</code> bit except the last group, which is prefixed by a <code>0</code> bit. These groups of five bits immediately follow the packet header. For example, the hexadecimal string <code>D2FE28</code> becomes:</p>\n",
       "<pre><code>110100101111111000101000\n",
       "VVVTTTAAAAABBBBBCCCCC\n",
       "</code></pre>\n",
       "<p>Below each bit is a label indicating its purpose:</p>\n",
       "<ul>\n",
       "<li>The three bits labeled <code>V</code> (<code>110</code>) are the packet version, <code>6</code>.</li>\n",
       "<li>The three bits labeled <code>T</code> (<code>100</code>) are the packet type ID, <code>4</code>, which means the packet is a literal value.</li>\n",
       "<li>The five bits labeled <code>A</code> (<code>10111</code>) start with a <code>1</code> (not the last group, keep reading) and contain the first four bits of the number, <code>0111</code>.</li>\n",
       "<li>The five bits labeled <code>B</code> (<code>11110</code>) start with a <code>1</code> (not the last group, keep reading) and contain four more bits of the number, <code>1110</code>.</li>\n",
       "<li>The five bits labeled <code>C</code> (<code>00101</code>) start with a <code>0</code> (last group, end of packet) and contain the last four bits of the number, <code>0101</code>.</li>\n",
       "<li>The three unlabeled <code>0</code> bits at the end are extra due to the hexadecimal representation and should be ignored.</li>\n",
       "</ul>\n",
       "<p>So, this packet represents a literal value with binary representation <code>011111100101</code>, which is <code>2021</code> in decimal.</p>\n",
       "<p>Every other type of packet (any packet with a type ID other than <code>4</code>) represent an <em>operator</em> that performs some calculation on one or more sub-packets contained within. Right now, the specific operations aren't important; focus on parsing the hierarchy of sub-packets.</p>\n",
       "<p>An operator packet contains one or more packets. To indicate which subsequent binary data represents its sub-packets, an operator packet can use one of two modes indicated by the bit immediately after the packet header; this is called the <em>length type ID</em>:</p>\n",
       "<ul>\n",
       "<li>If the length type ID is <code>0</code>, then the next <em>15</em> bits are a number that represents the <em>total length in bits</em> of the sub-packets contained by this packet.</li>\n",
       "<li>If the length type ID is <code>1</code>, then the next <em>11</em> bits are a number that represents the <em>number of sub-packets immediately contained</em> by this packet.</li>\n",
       "</ul>\n",
       "<p>Finally, after the length type ID bit and the 15-bit or 11-bit field, the sub-packets appear.</p>\n",
       "<p>For example, here is an operator packet (hexadecimal string <code>38006F45291200</code>) with length type ID <code>0</code> that contains two sub-packets:</p>\n",
       "<pre><code>00111000000000000110111101000101001010010001001000000000\n",
       "VVVTTTILLLLLLLLLLLLLLLAAAAAAAAAAABBBBBBBBBBBBBBBB\n",
       "</code></pre>\n",
       "<ul>\n",
       "<li>The three bits labeled <code>V</code> (<code>001</code>) are the packet version, <code>1</code>.</li>\n",
       "<li>The three bits labeled <code>T</code> (<code>110</code>) are the packet type ID, <code>6</code>, which means the packet is an operator.</li>\n",
       "<li>The bit labeled <code>I</code> (<code>0</code>) is the length type ID, which indicates that the length is a 15-bit number representing the number of bits in the sub-packets.</li>\n",
       "<li>The 15 bits labeled <code>L</code> (<code>000000000011011</code>) contain the length of the sub-packets in bits, <code>27</code>.</li>\n",
       "<li>The 11 bits labeled <code>A</code> contain the first sub-packet, a literal value representing the number <code>10</code>.</li>\n",
       "<li>The 16 bits labeled <code>B</code> contain the second sub-packet, a literal value representing the number <code>20</code>.</li>\n",
       "</ul>\n",
       "<p>After reading 11 and 16 bits of sub-packet data, the total length indicated in <code>L</code> (27) is reached, and so parsing of this packet stops.</p>\n",
       "<p>As another example, here is an operator packet (hexadecimal string <code>EE00D40C823060</code>) with length type ID <code>1</code> that contains three sub-packets:</p>\n",
       "<pre><code>11101110000000001101010000001100100000100011000001100000\n",
       "VVVTTTILLLLLLLLLLLAAAAAAAAAAABBBBBBBBBBBCCCCCCCCCCC\n",
       "</code></pre>\n",
       "<ul>\n",
       "<li>The three bits labeled <code>V</code> (<code>111</code>) are the packet version, <code>7</code>.</li>\n",
       "<li>The three bits labeled <code>T</code> (<code>011</code>) are the packet type ID, <code>3</code>, which means the packet is an operator.</li>\n",
       "<li>The bit labeled <code>I</code> (<code>1</code>) is the length type ID, which indicates that the length is a 11-bit number representing the number of sub-packets.</li>\n",
       "<li>The 11 bits labeled <code>L</code> (<code>00000000011</code>) contain the number of sub-packets, <code>3</code>.</li>\n",
       "<li>The 11 bits labeled <code>A</code> contain the first sub-packet, a literal value representing the number <code>1</code>.</li>\n",
       "<li>The 11 bits labeled <code>B</code> contain the second sub-packet, a literal value representing the number <code>2</code>.</li>\n",
       "<li>The 11 bits labeled <code>C</code> contain the third sub-packet, a literal value representing the number <code>3</code>.</li>\n",
       "</ul>\n",
       "<p>After reading 3 complete sub-packets, the number of sub-packets indicated in <code>L</code> (3) is reached, and so parsing of this packet stops.</p>\n",
       "<p>For now, parse the hierarchy of the packets throughout the transmission and <em>add up all of the version numbers</em>.</p>\n",
       "<p>Here are a few more examples of hexadecimal-encoded transmissions:</p>\n",
       "<ul>\n",
       "<li><code>8A004A801A8002F478</code> represents an operator packet (version 4) which contains an operator packet (version 1) which contains an operator packet (version 5) which contains a literal value (version 6); this packet has a version sum of <code><em>16</em></code>.</li>\n",
       "<li><code>620080001611562C8802118E34</code> represents an operator packet (version 3) which contains two sub-packets; each sub-packet is an operator packet that contains two literal values. This packet has a version sum of <code><em>12</em></code>.</li>\n",
       "<li><code>C0015000016115A2E0802F182340</code> has the same structure as the previous example, but the outermost packet uses a different length type ID. This packet has a version sum of <code><em>23</em></code>.</li>\n",
       "<li><code>A0016C880162017C3686B18A3D4780</code> is an operator packet that contains an operator packet that contains an operator packet that contains five literal values; it has a version sum of <code><em>31</em></code>.</li>\n",
       "</ul>\n",
       "<p>Decode the structure of your hexadecimal-encoded BITS transmission; <em>what do you get if you add up the version numbers in all packets?</em></p>\n"
      ],
      "text/plain": [
       "<IPython.core.display.HTML object>"
      ]
     },
     "execution_count": 2,
     "metadata": {},
     "output_type": "execute_result"
    }
   ],
   "source": [
    "HTML(downloaded['part1'])"
   ]
  },
  {
   "cell_type": "markdown",
   "metadata": {},
   "source": [
    "## Boilerplate\n",
    "\n",
    "Let's try using [pycodestyle_magic](https://github.com/mattijn/pycodestyle_magic) with pycodestyle (flake8 stopped working for me in VS Code Jupyter). Now how does type checking work?"
   ]
  },
  {
   "cell_type": "code",
   "execution_count": 3,
   "metadata": {},
   "outputs": [],
   "source": [
    "%load_ext pycodestyle_magic"
   ]
  },
  {
   "cell_type": "code",
   "execution_count": 4,
   "metadata": {},
   "outputs": [],
   "source": [
    "%pycodestyle_on"
   ]
  },
  {
   "cell_type": "markdown",
   "metadata": {},
   "source": [
    "## Comments\n",
    "\n",
    "..."
   ]
  },
  {
   "cell_type": "code",
   "execution_count": 5,
   "metadata": {},
   "outputs": [],
   "source": [
    "testdata = []\n",
    "testdata.append((\"\"\"1163751742\n",
    "1381373672\n",
    "2136511328\n",
    "3694931569\n",
    "7463417111\n",
    "1319128137\n",
    "1359912421\n",
    "3125421639\n",
    "1293138521\n",
    "2311944581\"\"\".splitlines()))\n",
    "\n",
    "inputdata = downloaded['input'].splitlines()"
   ]
  },
  {
   "cell_type": "code",
   "execution_count": 6,
   "metadata": {},
   "outputs": [
    {
     "name": "stdout",
     "output_type": "stream",
     "text": [
      "['005473C9244483004B001F79A9CE75FF9065446725685F1223600542661B7A9F4D001428C01D8C30C61210021F0663043A20042616C75868800BAC9CB59F4BC3A40232680220008542D89B114401886F1EA2DCF16CFE3BE6281060104B00C9994B83C13200AD3C0169B85FA7D3BE0A91356004824A32E6C94803A1D005E6701B2B49D76A1257EC7310C2015E7C0151006E0843F8D000086C4284910A47518CF7DD04380553C2F2D4BFEE67350DE2C9331FEFAFAD24CB282004F328C73F4E8B49C34AF094802B2B004E76762F9D9D8BA500653EEA4016CD802126B72D8F004C5F9975200C924B5065C00686467E58919F960C017F00466BB3B6B4B135D9DB5A5A93C2210050B32A9400A9497D524BEA660084EEA8EF600849E21EFB7C9F07E5C34C014C009067794BCC527794BCC424F12A67DCBC905C01B97BF8DE5ED9F7C865A4051F50024F9B9EAFA93ECE1A49A2C2E20128E4CA30037100042612C6F8B600084C1C8850BC400B8DAA01547197D6370BC8422C4A72051291E2A0803B0E2094D4BB5FDBEF6A0094F3CCC9A0002FD38E1350E7500C01A1006E3CC24884200C46389312C401F8551C63D4CC9D08035293FD6FCAFF1468B0056780A45D0C01498FBED0039925B82CCDCA7F4E20021A692CC012B00440010B8691761E0002190E21244C98EE0B0C0139297660B401A80002150E20A43C1006A0E44582A400C04A81CD994B9A1004BB1625D0648CE440E49DC402D8612BB6C9F5E97A5AC193F589A100505800ABCF5205138BD2EB527EA130008611167331AEA9B8BDCC4752B78165B39DAA1004C906740139EB0148D3CEC80662B801E60041015EE6006801364E007B801C003F1A801880350100BEC002A3000920E0079801CA00500046A800C0A001A73DFE9830059D29B5E8A51865777DCA1A2820040E4C7A49F88028B9F92DF80292E592B6B840']\n"
     ]
    }
   ],
   "source": [
    "print(inputdata)"
   ]
  },
  {
   "cell_type": "code",
   "execution_count": 9,
   "metadata": {},
   "outputs": [
    {
     "data": {
      "text/plain": [
       "'10101000111001111001001001001000100010010000011000000000100101100000000000111110111100110101001110011100111010111111111100100000110010101000100011001110010010101101000010111110001001000100011011000000000010101000010011001100001101101111010100111110100110100000000000101000010100011000000000111011000110000110000110001100001001000010000000000100001111100000110011000110000010000111010001000000000010000100110000101101100011101011000011010001000000000001011101011001001110010110101100111110100101111000011101001000000001000110010011010000000001000100000000000001000010101000010110110001001101100010001010001000000000110001000011011110001111010100010110111001111000101101100111111100011101111100110001010000001000001100000000100000100101100000000110010011001100101001011100000111100000100110010000000001010110100111100000000010110100110111000010111111010011111010011101111100000101010010001001101010110000000000100100000100100101000110010111001101100100101001000000000111010000111010000000001011110011001110000000110110010101101001001110101110110101000010010010101111110110001110011000100001100001000000001010111100111110000000001010100010000000001101110000010000100001111111000110100000000000000001000011011000100001010000100100100010000101001000111010100011000110011110111110111010000010000111000000001010101001111000010111100101101010010111111111011100110011100110101000011011110001011001001001100110001111111101111101011111010110100100100110010110010100000100000000001001111001100101000110001110011111101001110100010110100100111000011010010101111000010010100100000000010101100101011000000000100111001110110011101100010111110011101100111011000101110100101000000000110010100111110111010100100000000010110110011011000000000100001001001101011011100101101100011110000000001001100010111111001100101110101001000000000110010010010010010110101000001100101110000000000011010000110010001100111111001011000100100011001111110010110000011000000000101111111000000000100011001101011101100111011011010110100101100010011010111011001110110110101101001011010100100111100001000100001000000000101000010110011001010101001010000000000101010010100100101111101010100100100101111101010011001100000000010000100111011101010100011101111011000000000100001001001111000100001111011111011011111001001111100000111111001011100001101001100000000010100110000000000100100000110011101111001010010111100110001010010011101111001010010111100110001000010010011110001001010100110011111011100101111001001000001011100000000011011100101111011111110001101111001011110110110011111011111001000011001011010010000000101000111110101000000000010010011111001101110011110101011111010100100111110110011100001101001001001101000101100001011100010000000010010100011100100110010100011000000000011011100010000000000000100001001100001001011000110111110001011011000000000000010000100110000011100100010000101000010111100010000000000101110001101101010100000000101010100011100011001011111010110001101110000101111001000010000100010110001001010011100100000010100010010100100011110001010100000100000000011101100001110001000001001010011010100101110110101111111011011111011110110101000000000100101001111001111001100110010011010000000000000001011111101001110001110000100110101000011100111010100000000110000000001101000010000000001101110001111001100001001001000100001000010000000001100010001100011100010010011000100101100010000000001111110000101010100011100011000111101010011001100100111010000100000000011010100101001001111111101011011111100101011111111000101000110100010110000000001010110011110000000101001000101110100001100000000010100100110001111101111101101000000000011100110010010010110111000001011001100110111001010011111110100111000100000000000100001101001101001001011001100000000010010101100000000010001000000000000010000101110000110100100010111011000011110000000000000001000011001000011100010000100100100010011001001100011101110000010110000110000000001001110010010100101110110011000001011010000000001101010000000000000000010000101010000111000100000101001000011110000010000000001101010000011100100010001011000001010100100000000001100000001001010100000011100110110011001010010111001101000010000000001001011101100010110001001011101000001100100100011001110010001000000111001001001110111000100000000101101100001100001001010111011011011001001111101011110100101111010010110101100000110010011111101011000100110100001000000000101000001011000000000001010101111001111010100100000010100010011100010111101001011101011010100100111111010100001001100000000000010000110000100010001011001110011001100011010111010101001101110001011110111001100010001110101001010110111100000010110010110110011100111011010101000010000000001001100100100000110011101000000000100111001111010110000000101001000110100111100111011001000000001100110001010111000000000011110011000000000010000010000000101011110111001100000000001101000000000010011011001001110000000000111101110000000000111000000000000111111000110101000000000011000100000000011010100000001000000001011111011000000000000101010001100000000000010010010000011100000000001111001100000000001110010100000000001010000000000000100011010101000000000001100000010100000000000011010011100111101111111101001100000110000000001011001110100101001101101011110100010100101000110000110010101110111011111011100101000011010001010000010000000000100000011100100110001111010010010011111100010000000001010001011100111111001001011011111100000000010100100101110010110010010101101101011100001000000'"
      ]
     },
     "execution_count": 9,
     "metadata": {},
     "output_type": "execute_result"
    }
   ],
   "source": [
    "bin(int(inputdata[0], 16))[2:].zfill(4)\n",
    "# 110100101111111000101000"
   ]
  },
  {
   "cell_type": "code",
   "execution_count": 14,
   "metadata": {},
   "outputs": [],
   "source": [
    "from collections.abc import Iterable\n",
    "\n",
    "\n",
    "Coord = tuple[int, int]\n",
    "\n",
    "\n",
    "def orthogonal(coord: Coord, size: int) -> list[Coord]:\n",
    "    result = []\n",
    "    if coord[0] > 0:\n",
    "        result.append((coord[0] - 1, coord[1]))\n",
    "    if coord[1] > 0:\n",
    "        result.append((coord[0], coord[1] - 1))\n",
    "    if coord[0] < size - 1:\n",
    "        result.append((coord[0] + 1, coord[1]))\n",
    "    if coord[1] < size - 1:\n",
    "        result.append((coord[0], coord[1] + 1))\n",
    "    return result\n",
    "\n",
    "\n",
    "def steps_from(coord: Coord,\n",
    "               data: list[list[int]],\n",
    "               cumulative: dict[Coord, int] = {},\n",
    "               best_paths: dict[Coord, list[Coord]] = {},\n",
    "               debug: bool = False) -> set[Coord]:\n",
    "    size = len(data)\n",
    "    if coord == (0, 0):\n",
    "        cumulative[coord] = data[coord[1]][coord[0]]\n",
    "        best_paths[coord] = [coord]\n",
    "    for step in orthogonal(coord, size):\n",
    "        if debug:\n",
    "            print(f'From {coord} go to {step}')\n",
    "        new_cum = cumulative[coord[1]][coord[0]] + data[step[1]][step[0]]\n",
    "\n",
    "\n",
    "\n",
    "    return 0\n",
    "\n",
    "\n",
    "def my_part1_solution(data: str,\n",
    "                      debug: bool = False) -> int:\n",
    "    return 0"
   ]
  },
  {
   "cell_type": "code",
   "execution_count": 11,
   "metadata": {},
   "outputs": [
    {
     "name": "stdout",
     "output_type": "stream",
     "text": [
      "100\n",
      "100\n"
     ]
    }
   ],
   "source": [
    "print(len(inputdata))\n",
    "print(len(inputdata[0]))"
   ]
  },
  {
   "cell_type": "code",
   "execution_count": 8,
   "metadata": {},
   "outputs": [
    {
     "ename": "ValueError",
     "evalue": "not enough values to unpack (expected 2, got 1)",
     "output_type": "error",
     "traceback": [
      "\u001b[1;31m---------------------------------------------------------------------------\u001b[0m",
      "\u001b[1;31mValueError\u001b[0m                                Traceback (most recent call last)",
      "\u001b[1;32m~\\AppData\\Local\\Temp/ipykernel_32248/3925494876.py\u001b[0m in \u001b[0;36m<module>\u001b[1;34m\u001b[0m\n\u001b[1;32m----> 1\u001b[1;33m \u001b[0mmy_part1_solution\u001b[0m\u001b[1;33m(\u001b[0m\u001b[0mtestdata\u001b[0m\u001b[1;33m[\u001b[0m\u001b[1;36m0\u001b[0m\u001b[1;33m]\u001b[0m\u001b[1;33m,\u001b[0m \u001b[0mdebug\u001b[0m\u001b[1;33m=\u001b[0m\u001b[1;32mTrue\u001b[0m\u001b[1;33m)\u001b[0m\u001b[1;33m\u001b[0m\u001b[1;33m\u001b[0m\u001b[0m\n\u001b[0m\u001b[0;32m      2\u001b[0m        \u001b[1;31m# assert(my_part1_solution(testdata[0][0], debug=True)\u001b[0m\u001b[1;33m\u001b[0m\u001b[1;33m\u001b[0m\u001b[0m\n\u001b[0;32m      3\u001b[0m        \u001b[1;31m# == testdata[0][1])\u001b[0m\u001b[1;33m\u001b[0m\u001b[1;33m\u001b[0m\u001b[0m\n",
      "\u001b[1;32m~\\AppData\\Local\\Temp/ipykernel_32248/1007261037.py\u001b[0m in \u001b[0;36mmy_part1_solution\u001b[1;34m(data, debug)\u001b[0m\n\u001b[0;32m     53\u001b[0m def my_part1_solution(data: str,\n\u001b[0;32m     54\u001b[0m                       debug: bool = False) -> int:\n\u001b[1;32m---> 55\u001b[1;33m     \u001b[0mtemplate\u001b[0m\u001b[1;33m,\u001b[0m \u001b[0mpoly\u001b[0m \u001b[1;33m=\u001b[0m \u001b[0mparse_data\u001b[0m\u001b[1;33m(\u001b[0m\u001b[0mdata\u001b[0m\u001b[1;33m)\u001b[0m\u001b[1;33m\u001b[0m\u001b[1;33m\u001b[0m\u001b[0m\n\u001b[0m\u001b[0;32m     56\u001b[0m     \u001b[0mbgs\u001b[0m \u001b[1;33m=\u001b[0m \u001b[0mbigrams\u001b[0m\u001b[1;33m(\u001b[0m\u001b[0mtemplate\u001b[0m\u001b[1;33m)\u001b[0m\u001b[1;33m\u001b[0m\u001b[1;33m\u001b[0m\u001b[0m\n\u001b[0;32m     57\u001b[0m     \u001b[0mlast_bg\u001b[0m \u001b[1;33m=\u001b[0m \u001b[0mtemplate\u001b[0m\u001b[1;33m[\u001b[0m\u001b[1;33m-\u001b[0m\u001b[1;36m2\u001b[0m\u001b[1;33m:\u001b[0m\u001b[1;33m]\u001b[0m\u001b[1;33m\u001b[0m\u001b[1;33m\u001b[0m\u001b[0m\n",
      "\u001b[1;32m~\\AppData\\Local\\Temp/ipykernel_32248/1007261037.py\u001b[0m in \u001b[0;36mparse_data\u001b[1;34m(data)\u001b[0m\n\u001b[0;32m      6\u001b[0m     \u001b[0mresult_dict\u001b[0m \u001b[1;33m=\u001b[0m \u001b[0mdict\u001b[0m\u001b[1;33m(\u001b[0m\u001b[1;33m)\u001b[0m\u001b[1;33m\u001b[0m\u001b[1;33m\u001b[0m\u001b[0m\n\u001b[0;32m      7\u001b[0m     \u001b[1;32mfor\u001b[0m \u001b[0mline\u001b[0m \u001b[1;32min\u001b[0m \u001b[0mdata\u001b[0m\u001b[1;33m[\u001b[0m\u001b[1;36m2\u001b[0m\u001b[1;33m:\u001b[0m\u001b[1;33m]\u001b[0m\u001b[1;33m:\u001b[0m\u001b[1;33m\u001b[0m\u001b[1;33m\u001b[0m\u001b[0m\n\u001b[1;32m----> 8\u001b[1;33m         \u001b[0mk\u001b[0m\u001b[1;33m,\u001b[0m \u001b[0mv\u001b[0m \u001b[1;33m=\u001b[0m \u001b[0mline\u001b[0m\u001b[1;33m.\u001b[0m\u001b[0msplit\u001b[0m\u001b[1;33m(\u001b[0m\u001b[1;34m' -> '\u001b[0m\u001b[1;33m,\u001b[0m \u001b[1;36m2\u001b[0m\u001b[1;33m)\u001b[0m\u001b[1;33m\u001b[0m\u001b[1;33m\u001b[0m\u001b[0m\n\u001b[0m\u001b[0;32m      9\u001b[0m         \u001b[0mresult_dict\u001b[0m\u001b[1;33m[\u001b[0m\u001b[0mk\u001b[0m\u001b[1;33m]\u001b[0m \u001b[1;33m=\u001b[0m \u001b[0mv\u001b[0m\u001b[1;33m\u001b[0m\u001b[1;33m\u001b[0m\u001b[0m\n\u001b[0;32m     10\u001b[0m     \u001b[1;32mreturn\u001b[0m \u001b[0mdata\u001b[0m\u001b[1;33m[\u001b[0m\u001b[1;36m0\u001b[0m\u001b[1;33m]\u001b[0m\u001b[1;33m,\u001b[0m \u001b[0mresult_dict\u001b[0m\u001b[1;33m\u001b[0m\u001b[1;33m\u001b[0m\u001b[0m\n",
      "\u001b[1;31mValueError\u001b[0m: not enough values to unpack (expected 2, got 1)"
     ]
    },
    {
     "name": "stderr",
     "output_type": "stream",
     "text": [
      "2:8: E114 indentation is not a multiple of 4 (comment)\n",
      "2:8: E116 unexpected indentation (comment)\n",
      "3:8: E114 indentation is not a multiple of 4 (comment)\n",
      "3:8: E116 unexpected indentation (comment)\n"
     ]
    }
   ],
   "source": [
    "my_part1_solution(testdata[0], debug=True)\n",
    "       # assert(my_part1_solution(testdata[0][0], debug=True)\n",
    "       # == testdata[0][1])"
   ]
  },
  {
   "cell_type": "code",
   "execution_count": null,
   "metadata": {},
   "outputs": [
    {
     "data": {
      "text/plain": [
       "4517"
      ]
     },
     "execution_count": 9,
     "metadata": {},
     "output_type": "execute_result"
    }
   ],
   "source": [
    "my_part1_solution(inputdata)"
   ]
  },
  {
   "cell_type": "code",
   "execution_count": null,
   "metadata": {},
   "outputs": [
    {
     "data": {
      "text/html": [
       "\n",
       "<p>Your puzzle answer was <code>4517</code>.</p>"
      ],
      "text/plain": [
       "<IPython.core.display.HTML object>"
      ]
     },
     "execution_count": 10,
     "metadata": {},
     "output_type": "execute_result"
    }
   ],
   "source": [
    "HTML(downloaded['part1_footer'])"
   ]
  },
  {
   "cell_type": "markdown",
   "metadata": {},
   "source": [
    "## Part Two"
   ]
  },
  {
   "cell_type": "code",
   "execution_count": null,
   "metadata": {},
   "outputs": [
    {
     "data": {
      "text/html": [
       "<h2 id=\"part2\">--- Part Two ---</h2><p>The resulting polymer isn't nearly strong enough to reinforce the submarine. You'll need to run more steps of the pair insertion process; a total of <em>40 steps</em> should do it.</p>\n",
       "<p>In the above example, the most common element is <code>B</code> (occurring <code>2192039569602</code> times) and the least common element is <code>H</code> (occurring <code>3849876073</code> times); subtracting these produces <code><em>2188189693529</em></code>.</p>\n",
       "<p>Apply <em>40</em> steps of pair insertion to the polymer template and find the most and least common elements in the result. <em>What do you get if you take the quantity of the most common element and subtract the quantity of the least common element?</em></p>\n"
      ],
      "text/plain": [
       "<IPython.core.display.HTML object>"
      ]
     },
     "execution_count": 11,
     "metadata": {},
     "output_type": "execute_result"
    }
   ],
   "source": [
    "HTML(downloaded['part2'])"
   ]
  },
  {
   "cell_type": "code",
   "execution_count": null,
   "metadata": {
    "tags": []
   },
   "outputs": [],
   "source": [
    "def my_part2_solution(data: str,\n",
    "                      debug: bool = False) -> int:\n",
    "    template, poly = parse_data(data)\n",
    "    bgs = bigrams(template)\n",
    "    last_bg = template[-2:]\n",
    "    for i in range(1, 40 + 1):\n",
    "        bgs, last_bg = apply_poly(bgs, poly, last_bg)\n",
    "        if debug:\n",
    "            print(f'After cycle {i}: {bgs}')\n",
    "    elements = count_chars(bgs, last_bg)\n",
    "    if debug:\n",
    "        print(f'Resulting elements: {elements}')\n",
    "    return max(elements.values()) - min(elements.values())"
   ]
  },
  {
   "cell_type": "code",
   "execution_count": null,
   "metadata": {},
   "outputs": [
    {
     "data": {
      "text/plain": [
       "2188189693529"
      ]
     },
     "execution_count": 13,
     "metadata": {},
     "output_type": "execute_result"
    }
   ],
   "source": [
    "my_part2_solution(testdata[0])"
   ]
  },
  {
   "cell_type": "code",
   "execution_count": null,
   "metadata": {},
   "outputs": [
    {
     "data": {
      "text/plain": [
       "4704817645083"
      ]
     },
     "execution_count": 14,
     "metadata": {},
     "output_type": "execute_result"
    }
   ],
   "source": [
    "my_part2_solution(inputdata)"
   ]
  },
  {
   "cell_type": "code",
   "execution_count": null,
   "metadata": {},
   "outputs": [
    {
     "data": {
      "text/html": [
       "\n",
       "<p>Your puzzle answer was <code>4704817645083</code>.</p><p class=\"day-success\">Both parts of this puzzle are complete! They provide two gold stars: **</p>\n",
       "<p>At this point, you should <a href=\"/2021\">return to your Advent calendar</a> and try another puzzle.</p>\n",
       "<p>If you still want to see it, you can <a href=\"14/input\" target=\"_blank\">get your puzzle input</a>.</p>\n",
       "<p>You can also <span class=\"share\">[Share<span class=\"share-content\">on\n",
       "  <a href=\"https://twitter.com/intent/tweet?text=I%27ve+completed+%22Extended+Polymerization%22+%2D+Day+14+%2D+Advent+of+Code+2021&amp;url=https%3A%2F%2Fadventofcode%2Ecom%2F2021%2Fday%2F14&amp;related=ericwastl&amp;hashtags=AdventOfCode\" target=\"_blank\">Twitter</a>\n",
       "  <a href=\"javascript:void(0);\" onclick=\"var mastodon_instance=prompt('Mastodon Instance / Server Name?'); if(typeof mastodon_instance==='string' && mastodon_instance.length){this.href='https://'+mastodon_instance+'/share?text=I%27ve+completed+%22Extended+Polymerization%22+%2D+Day+14+%2D+Advent+of+Code+2021+%23AdventOfCode+https%3A%2F%2Fadventofcode%2Ecom%2F2021%2Fday%2F14'}else{return false;}\" target=\"_blank\">Mastodon</a\n",
       "></span>]</span> this puzzle.</p>\n"
      ],
      "text/plain": [
       "<IPython.core.display.HTML object>"
      ]
     },
     "execution_count": 15,
     "metadata": {},
     "output_type": "execute_result"
    }
   ],
   "source": [
    "HTML(downloaded['part2_footer'])"
   ]
  }
 ],
 "metadata": {
  "kernelspec": {
   "display_name": "Python 3",
   "language": "python",
   "name": "python3"
  },
  "language_info": {
   "codemirror_mode": {
    "name": "ipython",
    "version": 3
   },
   "file_extension": ".py",
   "mimetype": "text/x-python",
   "name": "python",
   "nbconvert_exporter": "python",
   "pygments_lexer": "ipython3",
   "version": "3.10.6 (main, Nov 14 2022, 16:10:14) [GCC 11.3.0]"
  },
  "vscode": {
   "interpreter": {
    "hash": "e7370f93d1d0cde622a1f8e1c04877d8463912d04d973331ad4851f04de6915a"
   }
  }
 },
 "nbformat": 4,
 "nbformat_minor": 4
}

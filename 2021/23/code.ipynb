{
 "cells": [
  {
   "cell_type": "markdown",
   "metadata": {},
   "source": [
    "# Day 23: Amphipod\n",
    "\n",
    "[*Advent of Code 2021 day 23*](https://adventofcode.com/2021/day/23) and [*solution megathread*](https://www.reddit.com/rmnozs)\n",
    "\n",
    "[![nbviewer](https://raw.githubusercontent.com/jupyter/design/master/logos/Badges/nbviewer_badge.svg)](https://nbviewer.jupyter.org/github/UncleCJ/advent-of-code/blob/cj/2021/23/code.ipynb) [![Binder](https://mybinder.org/badge_logo.svg)](https://mybinder.org/v2/gh/UncleCJ/advent-of-code/cj?filepath=2021%2F23%2Fcode.ipynb)"
   ]
  },
  {
   "cell_type": "code",
   "execution_count": 1,
   "metadata": {},
   "outputs": [
    {
     "name": "stdout",
     "output_type": "stream",
     "text": [
      "Writing 'downloaded' (dict) to file 'downloaded'.\n"
     ]
    }
   ],
   "source": [
    "from IPython.display import HTML\n",
    "import sys\n",
    "\n",
    "sys.path.append('../../')\n",
    "import common\n",
    "\n",
    "downloaded = common.refresh()\n",
    "%store downloaded >downloaded"
   ]
  },
  {
   "cell_type": "markdown",
   "metadata": {},
   "source": [
    "## Part One"
   ]
  },
  {
   "cell_type": "code",
   "execution_count": 2,
   "metadata": {},
   "outputs": [
    {
     "data": {
      "text/html": [
       "<h2>--- Day 23: Amphipod ---</h2><p>A group of <a href=\"https://en.wikipedia.org/wiki/Amphipoda\" target=\"_blank\">amphipods</a> notice your fancy submarine and flag you down. \"With such an impressive shell,\" one amphipod <span title=\"What? You didn't know amphipods can talk?\">says</span>, \"surely you can help us with a question that has stumped our best scientists.\"</p>\n",
       "<p>They go on to explain that a group of timid, stubborn amphipods live in a nearby burrow. Four types of amphipods live there: <em>Amber</em> (<code>A</code>), <em>Bronze</em> (<code>B</code>), <em>Copper</em> (<code>C</code>), and <em>Desert</em> (<code>D</code>). They live in a burrow that consists of a <em>hallway</em> and four <em>side rooms</em>. The side rooms are initially full of amphipods, and the hallway is initially empty.</p>\n",
       "<p>They give you a <em>diagram of the situation</em> (your puzzle input), including locations of each amphipod (<code>A</code>, <code>B</code>, <code>C</code>, or <code>D</code>, each of which is occupying an otherwise open space), walls (<code>#</code>), and open space (<code>.</code>).</p>\n",
       "<p>For example:</p>\n",
       "<pre><code>#############\n",
       "#...........#\n",
       "###B#C#B#D###\n",
       "  #A#D#C#A#\n",
       "  #########\n",
       "</code></pre>\n",
       "<p>The amphipods would like a method to organize every amphipod into side rooms so that each side room contains one type of amphipod and the types are sorted <code>A</code>-<code>D</code> going left to right, like this:</p>\n",
       "<pre><code>#############\n",
       "#...........#\n",
       "###A#B#C#D###\n",
       "  #A#B#C#D#\n",
       "  #########\n",
       "</code></pre>\n",
       "<p>Amphipods can move up, down, left, or right so long as they are moving into an unoccupied open space. Each type of amphipod requires a different amount of <em>energy</em> to move one step: Amber amphipods require <code>1</code> energy per step, Bronze amphipods require <code>10</code> energy, Copper amphipods require <code>100</code>, and Desert ones require <code>1000</code>. The amphipods would like you to find a way to organize the amphipods that requires the <em>least total energy</em>.</p>\n",
       "<p>However, because they are timid and stubborn, the amphipods have some extra rules:</p>\n",
       "<ul>\n",
       "<li>Amphipods will never <em>stop on the space immediately outside any room</em>. They can move into that space so long as they immediately continue moving. (Specifically, this refers to the four open spaces in the hallway that are directly above an amphipod starting position.)</li>\n",
       "<li>Amphipods will never <em>move from the hallway into a room</em> unless that room is their destination room <em>and</em> that room contains no amphipods which do not also have that room as their own destination. If an amphipod's starting room is not its destination room, it can stay in that room until it leaves the room. (For example, an Amber amphipod will not move from the hallway into the right three rooms, and will only move into the leftmost room if that room is empty or if it only contains other Amber amphipods.)</li>\n",
       "<li>Once an amphipod stops moving in the hallway, <em>it will stay in that spot until it can move into a room</em>. (That is, once any amphipod starts moving, any other amphipods currently in the hallway are locked in place and will not move again until they can move fully into a room.)</li>\n",
       "</ul>\n",
       "<p>In the above example, the amphipods can be organized using a minimum of <code><em>12521</em></code> energy. One way to do this is shown below.</p>\n",
       "<p>Starting configuration:</p>\n",
       "<pre><code>#############\n",
       "#...........#\n",
       "###B#C#B#D###\n",
       "  #A#D#C#A#\n",
       "  #########\n",
       "</code></pre>\n",
       "<p>One Bronze amphipod moves into the hallway, taking 4 steps and using <code>40</code> energy:</p>\n",
       "<pre><code>#############\n",
       "#...B.......#\n",
       "###B#C#.#D###\n",
       "  #A#D#C#A#\n",
       "  #########\n",
       "</code></pre>\n",
       "<p>The only Copper amphipod not in its side room moves there, taking 4 steps and using <code>400</code> energy:</p>\n",
       "<pre><code>#############\n",
       "#...B.......#\n",
       "###B#.#C#D###\n",
       "  #A#D#C#A#\n",
       "  #########\n",
       "</code></pre>\n",
       "<p>A Desert amphipod moves out of the way, taking 3 steps and using <code>3000</code> energy, and then the Bronze amphipod takes its place, taking 3 steps and using <code>30</code> energy:</p>\n",
       "<pre><code>#############\n",
       "#.....D.....#\n",
       "###B#.#C#D###\n",
       "  #A#B#C#A#\n",
       "  #########\n",
       "</code></pre>\n",
       "<p>The leftmost Bronze amphipod moves to its room using <code>40</code> energy:</p>\n",
       "<pre><code>#############\n",
       "#.....D.....#\n",
       "###.#B#C#D###\n",
       "  #A#B#C#A#\n",
       "  #########\n",
       "</code></pre>\n",
       "<p>Both amphipods in the rightmost room move into the hallway, using <code>2003</code> energy in total:</p>\n",
       "<pre><code>#############\n",
       "#.....D.D.A.#\n",
       "###.#B#C#.###\n",
       "  #A#B#C#.#\n",
       "  #########\n",
       "</code></pre>\n",
       "<p>Both Desert amphipods move into the rightmost room using <code>7000</code> energy:</p>\n",
       "<pre><code>#############\n",
       "#.........A.#\n",
       "###.#B#C#D###\n",
       "  #A#B#C#D#\n",
       "  #########\n",
       "</code></pre>\n",
       "<p>Finally, the last Amber amphipod moves into its room, using <code>8</code> energy:</p>\n",
       "<pre><code>#############\n",
       "#...........#\n",
       "###A#B#C#D###\n",
       "  #A#B#C#D#\n",
       "  #########\n",
       "</code></pre>\n",
       "<p><em>What is the least energy required to organize the amphipods?</em></p>\n"
      ],
      "text/plain": [
       "<IPython.core.display.HTML object>"
      ]
     },
     "execution_count": 2,
     "metadata": {},
     "output_type": "execute_result"
    }
   ],
   "source": [
    "HTML(downloaded['part1'])"
   ]
  },
  {
   "cell_type": "markdown",
   "metadata": {},
   "source": [
    "## Boilerplate\n",
    "\n",
    "Let's try using [pycodestyle_magic](https://github.com/mattijn/pycodestyle_magic) with pycodestyle (flake8 stopped working for me in VS Code Jupyter). Now how does type checking work?"
   ]
  },
  {
   "cell_type": "code",
   "execution_count": 3,
   "metadata": {},
   "outputs": [],
   "source": [
    "%load_ext pycodestyle_magic"
   ]
  },
  {
   "cell_type": "code",
   "execution_count": 4,
   "metadata": {},
   "outputs": [],
   "source": [
    "%pycodestyle_on"
   ]
  },
  {
   "cell_type": "markdown",
   "metadata": {},
   "source": [
    "## Comments\n",
    "\n",
    "I did some very basic analysis of this problem at first, but then just wasn't going to attempt it, having no ideas. Peeking at the [solution megathread](https://www.reddit.com/rmnozs), I got some ideas to keep the state in a string, cache progress and anyway it's due time to actually learn to implement [Dijkstra's algorithm](https://en.wikipedia.org/wiki/Dijkstra%27s_algorithm). Also I realized (from others like [Thomas Loock](https://twitter.com/Brotherluii/status/1473264788234985473)) that I need to learn some fundamental Python convenience datastructures like [priority queue](https://www.educative.io/edpresso/what-is-the-python-priority-queue). Let's see how far it can take me?"
   ]
  },
  {
   "cell_type": "code",
   "execution_count": 11,
   "metadata": {},
   "outputs": [],
   "source": [
    "testdata = []\n",
    "testdata.append((\"\"\"#############\n",
    "#...........#\n",
    "###B#C#B#D###\n",
    "  #A#D#C#A#\n",
    "  #########\"\"\".splitlines(), 12521))\n",
    "\n",
    "inputdata = downloaded['input'].splitlines()"
   ]
  },
  {
   "cell_type": "code",
   "execution_count": 13,
   "metadata": {},
   "outputs": [
    {
     "data": {
      "text/plain": [
       "['#############',\n",
       " '#...........#',\n",
       " '###C#B#D#D###',\n",
       " '  #B#C#A#A#',\n",
       " '  #########']"
      ]
     },
     "execution_count": 13,
     "metadata": {},
     "output_type": "execute_result"
    }
   ],
   "source": [
    "inputdata"
   ]
  },
  {
   "cell_type": "markdown",
   "metadata": {},
   "source": [
    "Ok, let's try manually enumerating which amphipods we need to move where, overall:\n",
    "\n",
    "* A from bottom C (blocked by D)\n",
    "* A from bottom D (blocked by D)\n",
    "* B from bottom A (blocked by C)\n",
    "* B from top B (but need to unblock C)\n",
    "* C from top A\n",
    "* C from bottom B (blocked by B)\n",
    "* D from top C\n",
    "* D from top D (but need to unblock A)\n",
    "\n",
    "There are two spaces on each side of the corridor, one outside of each four rooms, and three between the four rooms... A require 1 energy per step, B 10, C 100, and D 1000."
   ]
  },
  {
   "cell_type": "code",
   "execution_count": 35,
   "metadata": {},
   "outputs": [],
   "source": [
    "def parse_data(data: list[str]) -> str:\n",
    "    assert(len(data) == 5)\n",
    "    return (data[1][1:12]\n",
    "            + data[2][3]\n",
    "            + data[2][5]\n",
    "            + data[2][7]\n",
    "            + data[2][9]\n",
    "            + data[3][3]\n",
    "            + data[3][5]\n",
    "            + data[3][7]\n",
    "            + data[3][9])\n",
    "\n",
    "\n",
    "def show(state: str) -> str:\n",
    "    return '\\n'.join(['#############',\n",
    "                      f'#{state[0:11]}#',\n",
    "                      f'  #{state[11]}#{state[12]}#{state[13]}#{state[14]}#',\n",
    "                      f'  #{state[15]}#{state[16]}#{state[17]}#{state[18]}#',\n",
    "                      '  #########'])\n",
    "\n",
    "\n",
    "# def legal_moves(pos: int, state: str) -> list[int]:\n",
    "\n",
    "\n",
    "def cost_per_move(pos: int, state: str) -> int:\n",
    "    match state[pos]:\n",
    "        case 'A':\n",
    "            return 1\n",
    "        case 'B':\n",
    "            return 10\n",
    "        case 'C':\n",
    "            return 100\n",
    "        case 'D':\n",
    "            return 1000\n",
    "        case _:\n",
    "            raise ValueError(f'Not a valid amphipod: {state[pos]}')\n",
    "\n",
    "\n",
    "def corridor_pos(room: int) -> int:\n",
    "    match room:\n",
    "        case (11|15):\n",
    "            return 2\n",
    "        case (12|16):\n",
    "            return 4\n",
    "        case (13|17):\n",
    "            return 6\n",
    "        case (14|18):\n",
    "            return 8\n",
    "        case _:\n",
    "            raise ValueError(f'Not a room position: {room}')\n",
    "\n",
    "\n",
    "def room_inner(room: int) -> bool:\n",
    "    if 11 <= room <= 14:\n",
    "        return 1\n",
    "    elif 15 <= room <= 18:\n",
    "        return 2\n",
    "    else:\n",
    "        raise ValueError(f'Not a room position: {room}')\n",
    "\n",
    "\n",
    "def move_cost(pos: int, dest: int, state: str) -> int:\n",
    "    '...........CBDBCA'\n",
    "    # In the corridor, consider moving into a (correct) room\n",
    "    if pos <= 10:\n",
    "        corridor_moves = abs(corridor_pos(dest) - pos)\n",
    "        room_moves = room_inner(dest)\n",
    "    # In a room, moving into the corridor\n",
    "    else:\n",
    "        room_moves = room_inner(pos)\n",
    "        corridor_moves = abs(corridor_pos(pos) - dest)\n",
    "    return (room_moves + corridor_moves)\n",
    "    \n",
    "\n",
    "\n",
    "# Ripped from kupuguy\n",
    "# https://www.reddit.com/r/adventofcode/comments/rmnozs/comment/hpo181b/?utm_source=share&utm_medium=web2x&context=3\n",
    "# * move from lower in room to top provided we're not in target\n",
    "#   position and top is empty\n",
    "# * move from top to lower in room if lower is target position\n",
    "#   and empty\n",
    "# * move from top space in room to any stoppable space in hallway\n",
    "#   provided the room isn't solved and there is nothing blocking\n",
    "#   the move\n",
    "# * move from hallway to top space in target room if it's empty\n",
    "#   and the lower room is either empty or has correct amphipod\n",
    "#   and there are no intervening blockers.\n",
    "# def next_moves(state: str) -> tuple[str, int]:"
   ]
  },
  {
   "cell_type": "code",
   "execution_count": 32,
   "metadata": {},
   "outputs": [
    {
     "name": "stdout",
     "output_type": "stream",
     "text": [
      "#############\n",
      "#...........#\n",
      "###C#B#D#D###\n",
      "  #B#C#A#A#\n",
      "  #########\n",
      "...........CBDDBCAA\n",
      "#############\n",
      "#...........#\n",
      "  #C#B#D#D#\n",
      "  #B#C#A#A#\n",
      "  #########\n"
     ]
    }
   ],
   "source": [
    "print('\\n'.join(inputdata))\n",
    "print(parse_data(inputdata))\n",
    "print(show(parse_data(inputdata)))"
   ]
  },
  {
   "cell_type": "code",
   "execution_count": 14,
   "metadata": {},
   "outputs": [
    {
     "name": "stderr",
     "output_type": "stream",
     "text": [
      "10:1: W391 blank line at end of file\n"
     ]
    }
   ],
   "source": [
    "from queue import PriorityQueue\n",
    "\n",
    "q = PriorityQueue()\n",
    "\n",
    "q.put(4)\n",
    "q.put(2)\n",
    "q.put(5)\n",
    "q.put(1)\n",
    "q.put(3)\n"
   ]
  },
  {
   "cell_type": "code",
   "execution_count": 7,
   "metadata": {},
   "outputs": [],
   "source": [
    "def my_part1_solution(data: list[str],\n",
    "                      debug: bool = False) -> int:\n",
    "    return 0"
   ]
  },
  {
   "cell_type": "code",
   "execution_count": 8,
   "metadata": {},
   "outputs": [],
   "source": [
    "# my_part1_solution(testdata[0][0], debug=True)"
   ]
  },
  {
   "cell_type": "code",
   "execution_count": 9,
   "metadata": {},
   "outputs": [],
   "source": [
    "# my_part1_solution(inputdata)"
   ]
  },
  {
   "cell_type": "code",
   "execution_count": 9,
   "metadata": {},
   "outputs": [],
   "source": [
    "# my_part1_solution(inputdata)"
   ]
  },
  {
   "cell_type": "code",
   "execution_count": 10,
   "metadata": {},
   "outputs": [
    {
     "data": {
      "text/html": [
       "\n",
       "<p>To begin, <a href=\"23/input\" target=\"_blank\">get your puzzle input</a>.</p>\n",
       "<form method=\"post\" action=\"23/answer\"><input type=\"hidden\" name=\"level\" value=\"1\"/><p>Answer: <input type=\"text\" name=\"answer\" autocomplete=\"off\"/> <input type=\"submit\" value=\"[Submit]\"/></p></form>\n",
       "<p>You can also <span class=\"share\">[Share<span class=\"share-content\">on\n",
       "  <a href=\"https://twitter.com/intent/tweet?text=%22Amphipod%22+%2D+Day+23+%2D+Advent+of+Code+2021&amp;url=https%3A%2F%2Fadventofcode%2Ecom%2F2021%2Fday%2F23&amp;related=ericwastl&amp;hashtags=AdventOfCode\" target=\"_blank\">Twitter</a>\n",
       "  <a href=\"javascript:void(0);\" onclick=\"var mastodon_instance=prompt('Mastodon Instance / Server Name?'); if(typeof mastodon_instance==='string' && mastodon_instance.length){this.href='https://'+mastodon_instance+'/share?text=%22Amphipod%22+%2D+Day+23+%2D+Advent+of+Code+2021+%23AdventOfCode+https%3A%2F%2Fadventofcode%2Ecom%2F2021%2Fday%2F23'}else{return false;}\" target=\"_blank\">Mastodon</a\n",
       "></span>]</span> this puzzle.</p>\n"
      ],
      "text/plain": [
       "<IPython.core.display.HTML object>"
      ]
     },
     "execution_count": 10,
     "metadata": {},
     "output_type": "execute_result"
    }
   ],
   "source": [
    "HTML(downloaded['part1_footer'])"
   ]
  },
  {
   "cell_type": "markdown",
   "metadata": {},
   "source": [
    "## Part Two"
   ]
  },
  {
   "cell_type": "code",
   "execution_count": 11,
   "metadata": {},
   "outputs": [],
   "source": [
    "# HTML(downloaded['part2'])"
   ]
  },
  {
   "cell_type": "code",
   "execution_count": 12,
   "metadata": {
    "tags": []
   },
   "outputs": [],
   "source": [
    "def my_part2_solution(data: str,\n",
    "                      debug: bool = False) -> int:\n",
    "    return 0"
   ]
  },
  {
   "cell_type": "code",
   "execution_count": 13,
   "metadata": {},
   "outputs": [],
   "source": [
    "# my_part2_solution(testdata[0])"
   ]
  },
  {
   "cell_type": "code",
   "execution_count": 14,
   "metadata": {},
   "outputs": [],
   "source": [
    "# my_part2_solution(inputdata)"
   ]
  },
  {
   "cell_type": "code",
   "execution_count": 15,
   "metadata": {},
   "outputs": [],
   "source": [
    "# HTML(downloaded['part2_footer'])"
   ]
  }
 ],
 "metadata": {
  "interpreter": {
   "hash": "aee8b7b246df8f9039afb4144a1f6fd8d2ca17a180786b69acc140d282b71a49"
  },
  "kernelspec": {
   "display_name": "Python 3.9.7 64-bit",
   "name": "python3"
  },
  "language_info": {
   "codemirror_mode": {
    "name": "ipython",
    "version": 3
   },
   "file_extension": ".py",
   "mimetype": "text/x-python",
   "name": "python",
   "nbconvert_exporter": "python",
   "pygments_lexer": "ipython3",
   "version": "3.10.0"
  }
 },
 "nbformat": 4,
 "nbformat_minor": 4
}

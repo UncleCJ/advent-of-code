{
 "cells": [
  {
   "cell_type": "markdown",
   "metadata": {},
   "source": [
    "# Day 12: Passage Pathing\n",
    "\n",
    "[*Advent of Code 2021 day 12*](https://adventofcode.com/2021/day/12) and [*solution megathread*]()\n",
    "\n",
    "[![nbviewer](https://raw.githubusercontent.com/jupyter/design/master/logos/Badges/nbviewer_badge.svg)](https://nbviewer.jupyter.org/github/UncleCJ/advent-of-code/blob/cj/2021/12/code.ipynb) [![Binder](https://mybinder.org/badge_logo.svg)](https://mybinder.org/v2/gh/UncleCJ/advent-of-code/cj?filepath=2021%2F12%2Fcode.ipynb)"
   ]
  },
  {
   "cell_type": "code",
   "execution_count": 3,
   "metadata": {},
   "outputs": [
    {
     "name": "stdout",
     "output_type": "stream",
     "text": [
      "Writing 'downloaded' (dict) to file 'downloaded'.\n"
     ]
    }
   ],
   "source": [
    "from IPython.display import HTML\n",
    "import sys\n",
    "\n",
    "sys.path.append('../../')\n",
    "import common\n",
    "\n",
    "downloaded = common.refresh()\n",
    "%store downloaded >downloaded"
   ]
  },
  {
   "cell_type": "markdown",
   "metadata": {},
   "source": [
    "## Part One"
   ]
  },
  {
   "cell_type": "code",
   "execution_count": 4,
   "metadata": {},
   "outputs": [
    {
     "data": {
      "text/html": [
       "<h2>--- Day 12: Passage Pathing ---</h2><p>With your <span title=\"Sublime.\">submarine's subterranean subsystems subsisting suboptimally</span>, the only way you're getting out of this cave anytime soon is by finding a path yourself. Not just <em>a</em> path - the only way to know if you've found the <em>best</em> path is to find <em>all</em> of them.</p>\n",
       "<p>Fortunately, the sensors are still mostly working, and so you build a rough map of the remaining caves (your puzzle input). For example:</p>\n",
       "<pre><code>start-A\n",
       "start-b\n",
       "A-c\n",
       "A-b\n",
       "b-d\n",
       "A-end\n",
       "b-end\n",
       "</code></pre>\n",
       "<p>This is a list of how all of the caves are connected. You start in the cave named <code>start</code>, and your destination is the cave named <code>end</code>. An entry like <code>b-d</code> means that cave <code>b</code> is connected to cave <code>d</code> - that is, you can move between them.</p>\n",
       "<p>So, the above cave system looks roughly like this:</p>\n",
       "<pre><code>    start\n",
       "    /   \\\n",
       "c--A-----b--d\n",
       "    \\   /\n",
       "     end\n",
       "</code></pre>\n",
       "<p>Your goal is to find the number of distinct <em>paths</em> that start at <code>start</code>, end at <code>end</code>, and don't visit small caves more than once. There are two types of caves: <em>big</em> caves (written in uppercase, like <code>A</code>) and <em>small</em> caves (written in lowercase, like <code>b</code>). It would be a waste of time to visit any small cave more than once, but big caves are large enough that it might be worth visiting them multiple times. So, all paths you find should <em>visit small caves at most once</em>, and can <em>visit big caves any number of times</em>.</p>\n",
       "<p>Given these rules, there are <code><em>10</em></code> paths through this example cave system:</p>\n",
       "<pre><code>start,A,b,A,c,A,end\n",
       "start,A,b,A,end\n",
       "start,A,b,end\n",
       "start,A,c,A,b,A,end\n",
       "start,A,c,A,b,end\n",
       "start,A,c,A,end\n",
       "start,A,end\n",
       "start,b,A,c,A,end\n",
       "start,b,A,end\n",
       "start,b,end\n",
       "</code></pre>\n",
       "<p>(Each line in the above list corresponds to a single path; the caves visited by that path are listed in the order they are visited and separated by commas.)</p>\n",
       "<p>Note that in this cave system, cave <code>d</code> is never visited by any path: to do so, cave <code>b</code> would need to be visited twice (once on the way to cave <code>d</code> and a second time when returning from cave <code>d</code>), and since cave <code>b</code> is small, this is not allowed.</p>\n",
       "<p>Here is a slightly larger example:</p>\n",
       "<pre><code>dc-end\n",
       "HN-start\n",
       "start-kj\n",
       "dc-start\n",
       "dc-HN\n",
       "LN-dc\n",
       "HN-end\n",
       "kj-sa\n",
       "kj-HN\n",
       "kj-dc\n",
       "</code></pre>\n",
       "<p>The <code>19</code> paths through it are as follows:</p>\n",
       "<pre><code>start,HN,dc,HN,end\n",
       "start,HN,dc,HN,kj,HN,end\n",
       "start,HN,dc,end\n",
       "start,HN,dc,kj,HN,end\n",
       "start,HN,end\n",
       "start,HN,kj,HN,dc,HN,end\n",
       "start,HN,kj,HN,dc,end\n",
       "start,HN,kj,HN,end\n",
       "start,HN,kj,dc,HN,end\n",
       "start,HN,kj,dc,end\n",
       "start,dc,HN,end\n",
       "start,dc,HN,kj,HN,end\n",
       "start,dc,end\n",
       "start,dc,kj,HN,end\n",
       "start,kj,HN,dc,HN,end\n",
       "start,kj,HN,dc,end\n",
       "start,kj,HN,end\n",
       "start,kj,dc,HN,end\n",
       "start,kj,dc,end\n",
       "</code></pre>\n",
       "<p>Finally, this even larger example has <code>226</code> paths through it:</p>\n",
       "<pre><code>fs-end\n",
       "he-DX\n",
       "fs-he\n",
       "start-DX\n",
       "pj-DX\n",
       "end-zg\n",
       "zg-sl\n",
       "zg-pj\n",
       "pj-he\n",
       "RW-he\n",
       "fs-DX\n",
       "pj-RW\n",
       "zg-RW\n",
       "start-pj\n",
       "he-WI\n",
       "zg-he\n",
       "pj-fs\n",
       "start-RW\n",
       "</code></pre>\n",
       "<p><em>How many paths through this cave system are there that visit small caves at most once?</em></p>\n"
      ],
      "text/plain": [
       "<IPython.core.display.HTML object>"
      ]
     },
     "execution_count": 4,
     "metadata": {},
     "output_type": "execute_result"
    }
   ],
   "source": [
    "HTML(downloaded['part1'])"
   ]
  },
  {
   "cell_type": "markdown",
   "metadata": {},
   "source": [
    "## Boilerplate\n",
    "\n",
    "Let's try using [pycodestyle_magic](https://github.com/mattijn/pycodestyle_magic) with pycodestyle (flake8 stopped working for me in VS Code Jupyter). Now how does type checking work?"
   ]
  },
  {
   "cell_type": "code",
   "execution_count": 5,
   "metadata": {},
   "outputs": [],
   "source": [
    "%load_ext pycodestyle_magic"
   ]
  },
  {
   "cell_type": "code",
   "execution_count": 4,
   "metadata": {},
   "outputs": [],
   "source": [
    "%pycodestyle_on"
   ]
  },
  {
   "cell_type": "markdown",
   "metadata": {},
   "source": [
    "## Comments\n",
    "\n",
    "I really ought to be switching to numpy methods, perhaps I can go back and clean these problems up once I've done so."
   ]
  },
  {
   "cell_type": "code",
   "execution_count": 7,
   "metadata": {},
   "outputs": [],
   "source": [
    "testdata = []\n",
    "testdata.append((\"\"\"start-A\n",
    "start-b\n",
    "A-c\n",
    "A-b\n",
    "b-d\n",
    "A-end\n",
    "b-end\"\"\".splitlines(), 10))\n",
    "\n",
    "testdata.append((\"\"\"dc-end\n",
    "HN-start\n",
    "start-kj\n",
    "dc-start\n",
    "dc-HN\n",
    "LN-dc\n",
    "HN-end\n",
    "kj-sa\n",
    "kj-HN\n",
    "kj-dc\"\"\".splitlines(), 19))\n",
    "\n",
    "testdata.append((\"\"\"fs-end\n",
    "he-DX\n",
    "fs-he\n",
    "start-DX\n",
    "pj-DX\n",
    "end-zg\n",
    "zg-sl\n",
    "zg-pj\n",
    "pj-he\n",
    "RW-he\n",
    "fs-DX\n",
    "pj-RW\n",
    "zg-RW\n",
    "start-pj\n",
    "he-WI\n",
    "zg-he\n",
    "pj-fs\n",
    "start-RW\"\"\".splitlines(), 226))\n",
    "\n",
    "inputdata = downloaded['input'].splitlines()"
   ]
  },
  {
   "cell_type": "code",
   "execution_count": 4,
   "metadata": {},
   "outputs": [
    {
     "name": "stdout",
     "output_type": "stream",
     "text": [
      "['EO-jc', 'end-tm']\n"
     ]
    }
   ],
   "source": [
    "print(inputdata[:2])"
   ]
  },
  {
   "cell_type": "code",
   "execution_count": 22,
   "metadata": {},
   "outputs": [],
   "source": [
    "from collections.abc import Iterable\n",
    "\n",
    "\n",
    "def parse_data(data: list[str]) -> tuple[set, dict[str, set]]:\n",
    "    result_nodes, result_edges = set(), dict()\n",
    "    for line in data:\n",
    "        source, target = line.split('-', 2)\n",
    "        if source in result_edges:\n",
    "            result_edges[source].add(target)\n",
    "        else:\n",
    "            result_edges[source] = {target}\n",
    "        result_nodes.add(source)\n",
    "        result_nodes.add(target)\n",
    "    return result_nodes, result_edges\n",
    "\n",
    "\n",
    "def dfs(nodes_remaining: set[str],\n",
    "        edges: dict[str, set[str]],\n",
    "        preceding: list[str] = [],\n",
    "        debug: bool = False) -> list[list[str]]:\n",
    "    if debug:\n",
    "        print(f'dfs({nodes_remaining=}, {edges=}, {preceding=})')\n",
    "    if not preceding:\n",
    "        preceding = ['start']\n",
    "    elif preceding[-1] == 'end':\n",
    "        if debug:\n",
    "            print(f'Returning: {preceding=}')\n",
    "        return [preceding]\n",
    "    current = preceding[-1]\n",
    "    if current not in edges:\n",
    "        return []\n",
    "    continuations = []\n",
    "    for target in edges[current]:\n",
    "        if target.islower():\n",
    "            nodes_remaining = set(nodes_remaining)\n",
    "            nodes_remaining.discard(target)\n",
    "        continuations += dfs(nodes_remaining, edges, preceding + [target], debug=debug)\n",
    "    if debug:\n",
    "        print(f'Returning: {continuations=}')\n",
    "    return continuations\n",
    "\n",
    "\n",
    "def my_part1_solution(data: str,\n",
    "                      debug: bool = False) -> int:\n",
    "    nodes, edges = parse_data(data)\n",
    "    paths = dfs(nodes, edges, debug=debug)\n",
    "    if debug:\n",
    "        print(paths)\n",
    "    return len(paths)"
   ]
  },
  {
   "cell_type": "code",
   "execution_count": 9,
   "metadata": {},
   "outputs": [
    {
     "data": {
      "text/plain": [
       "({'HN', 'LN', 'dc', 'end', 'kj', 'sa', 'start'},\n",
       " {'dc': {'HN', 'end', 'start'},\n",
       "  'HN': {'end', 'start'},\n",
       "  'start': {'kj'},\n",
       "  'LN': {'dc'},\n",
       "  'kj': {'HN', 'dc', 'sa'}})"
      ]
     },
     "execution_count": 9,
     "metadata": {},
     "output_type": "execute_result"
    }
   ],
   "source": [
    "parse_data(testdata[1][0])"
   ]
  },
  {
   "cell_type": "code",
   "execution_count": 23,
   "metadata": {},
   "outputs": [
    {
     "name": "stdout",
     "output_type": "stream",
     "text": [
      "dfs(nodes_remaining={'c', 'end', 'A', 'b', 'd', 'start'}, edges={'start': {'A', 'b'}, 'A': {'end', 'c', 'b'}, 'b': {'end', 'd'}}, preceding=[])\n",
      "dfs(nodes_remaining={'c', 'end', 'A', 'b', 'd', 'start'}, edges={'start': {'A', 'b'}, 'A': {'end', 'c', 'b'}, 'b': {'end', 'd'}}, preceding=['start', 'A'])\n",
      "dfs(nodes_remaining={'b', 'c', 'A', 'd', 'start'}, edges={'start': {'A', 'b'}, 'A': {'end', 'c', 'b'}, 'b': {'end', 'd'}}, preceding=['start', 'A', 'end'])\n",
      "Returning: preceding=['start', 'A', 'end']\n",
      "dfs(nodes_remaining={'b', 'A', 'd', 'start'}, edges={'start': {'A', 'b'}, 'A': {'end', 'c', 'b'}, 'b': {'end', 'd'}}, preceding=['start', 'A', 'c'])\n",
      "dfs(nodes_remaining={'start', 'd', 'A'}, edges={'start': {'A', 'b'}, 'A': {'end', 'c', 'b'}, 'b': {'end', 'd'}}, preceding=['start', 'A', 'b'])\n",
      "dfs(nodes_remaining={'A', 'd', 'start'}, edges={'start': {'A', 'b'}, 'A': {'end', 'c', 'b'}, 'b': {'end', 'd'}}, preceding=['start', 'A', 'b', 'end'])\n",
      "Returning: preceding=['start', 'A', 'b', 'end']\n",
      "dfs(nodes_remaining={'A', 'start'}, edges={'start': {'A', 'b'}, 'A': {'end', 'c', 'b'}, 'b': {'end', 'd'}}, preceding=['start', 'A', 'b', 'd'])\n",
      "Returning: continuations=[['start', 'A', 'b', 'end']]\n",
      "Returning: continuations=[['start', 'A', 'end'], ['start', 'A', 'b', 'end']]\n",
      "dfs(nodes_remaining={'end', 'c', 'A', 'd', 'start'}, edges={'start': {'A', 'b'}, 'A': {'end', 'c', 'b'}, 'b': {'end', 'd'}}, preceding=['start', 'b'])\n",
      "dfs(nodes_remaining={'c', 'A', 'd', 'start'}, edges={'start': {'A', 'b'}, 'A': {'end', 'c', 'b'}, 'b': {'end', 'd'}}, preceding=['start', 'b', 'end'])\n",
      "Returning: preceding=['start', 'b', 'end']\n",
      "dfs(nodes_remaining={'A', 'start', 'c'}, edges={'start': {'A', 'b'}, 'A': {'end', 'c', 'b'}, 'b': {'end', 'd'}}, preceding=['start', 'b', 'd'])\n",
      "Returning: continuations=[['start', 'b', 'end']]\n",
      "Returning: continuations=[['start', 'A', 'end'], ['start', 'A', 'b', 'end'], ['start', 'b', 'end']]\n",
      "[['start', 'A', 'end'], ['start', 'A', 'b', 'end'], ['start', 'b', 'end']]\n"
     ]
    },
    {
     "ename": "AssertionError",
     "evalue": "",
     "output_type": "error",
     "traceback": [
      "\u001b[0;31m---------------------------------------------------------------------------\u001b[0m",
      "\u001b[0;31mAssertionError\u001b[0m                            Traceback (most recent call last)",
      "\u001b[0;32m/tmp/ipykernel_59462/1259468788.py\u001b[0m in \u001b[0;36m<module>\u001b[0;34m\u001b[0m\n\u001b[0;32m----> 1\u001b[0;31m \u001b[0;32massert\u001b[0m\u001b[0;34m(\u001b[0m\u001b[0mmy_part1_solution\u001b[0m\u001b[0;34m(\u001b[0m\u001b[0mtestdata\u001b[0m\u001b[0;34m[\u001b[0m\u001b[0;36m0\u001b[0m\u001b[0;34m]\u001b[0m\u001b[0;34m[\u001b[0m\u001b[0;36m0\u001b[0m\u001b[0;34m]\u001b[0m\u001b[0;34m,\u001b[0m \u001b[0mdebug\u001b[0m\u001b[0;34m=\u001b[0m\u001b[0;32mTrue\u001b[0m\u001b[0;34m)\u001b[0m \u001b[0;34m==\u001b[0m \u001b[0mtestdata\u001b[0m\u001b[0;34m[\u001b[0m\u001b[0;36m0\u001b[0m\u001b[0;34m]\u001b[0m\u001b[0;34m[\u001b[0m\u001b[0;36m1\u001b[0m\u001b[0;34m]\u001b[0m\u001b[0;34m)\u001b[0m\u001b[0;34m\u001b[0m\u001b[0;34m\u001b[0m\u001b[0m\n\u001b[0m\u001b[1;32m      2\u001b[0m \u001b[0;31m# my_part1_solution(testdata, debug=True)\u001b[0m\u001b[0;34m\u001b[0m\u001b[0;34m\u001b[0m\u001b[0m\n",
      "\u001b[0;31mAssertionError\u001b[0m: "
     ]
    }
   ],
   "source": [
    "assert(my_part1_solution(testdata[0][0], debug=True) == testdata[0][1])\n",
    "# my_part1_solution(testdata, debug=True)"
   ]
  },
  {
   "cell_type": "code",
   "execution_count": 15,
   "metadata": {},
   "outputs": [],
   "source": [
    "# my_part1_solution(inputdata)"
   ]
  },
  {
   "cell_type": "code",
   "execution_count": 10,
   "metadata": {},
   "outputs": [
    {
     "data": {
      "text/html": [
       "\n",
       "<p>Your puzzle answer was <code>449</code>.</p><p class=\"day-success\">The first half of this puzzle is complete! It provides one gold star: *</p>\n"
      ],
      "text/plain": [
       "<IPython.core.display.HTML object>"
      ]
     },
     "execution_count": 10,
     "metadata": {},
     "output_type": "execute_result"
    }
   ],
   "source": [
    "HTML(downloaded['part1_footer'])"
   ]
  },
  {
   "cell_type": "markdown",
   "metadata": {},
   "source": [
    "## Part Two"
   ]
  },
  {
   "cell_type": "code",
   "execution_count": 10,
   "metadata": {},
   "outputs": [],
   "source": [
    "# HTML(downloaded['part2'])"
   ]
  },
  {
   "cell_type": "code",
   "execution_count": 11,
   "metadata": {
    "tags": []
   },
   "outputs": [],
   "source": [
    "def my_part2_solution(data: str,\n",
    "                      debug: bool = False) -> int:\n",
    "    return 0"
   ]
  },
  {
   "cell_type": "code",
   "execution_count": 12,
   "metadata": {},
   "outputs": [],
   "source": [
    "# my_part2_solution(testdata)"
   ]
  },
  {
   "cell_type": "code",
   "execution_count": null,
   "metadata": {},
   "outputs": [],
   "source": [
    "# assert(my_part2_solution(testdata) == 168)"
   ]
  },
  {
   "cell_type": "code",
   "execution_count": null,
   "metadata": {},
   "outputs": [
    {
     "data": {
      "text/plain": [
       "96678050"
      ]
     },
     "execution_count": 14,
     "metadata": {},
     "output_type": "execute_result"
    }
   ],
   "source": [
    "# my_part2_solution(inputdata)"
   ]
  },
  {
   "cell_type": "code",
   "execution_count": null,
   "metadata": {},
   "outputs": [
    {
     "data": {
      "text/html": [
       "\n",
       "<p>Your puzzle answer was <code>96678050</code>.</p><p class=\"day-success\">Both parts of this puzzle are complete! They provide two gold stars: **</p>\n",
       "<p>At this point, you should <a href=\"/2021\">return to your Advent calendar</a> and try another puzzle.</p>\n",
       "<p>If you still want to see it, you can <a href=\"7/input\" target=\"_blank\">get your puzzle input</a>.</p>\n",
       "<p>You can also <span class=\"share\">[Share<span class=\"share-content\">on\n",
       "  <a href=\"https://twitter.com/intent/tweet?text=I%27ve+completed+%22The+Treachery+of+Whales%22+%2D+Day+7+%2D+Advent+of+Code+2021&amp;url=https%3A%2F%2Fadventofcode%2Ecom%2F2021%2Fday%2F7&amp;related=ericwastl&amp;hashtags=AdventOfCode\" target=\"_blank\">Twitter</a>\n",
       "  <a href=\"javascript:void(0);\" onclick=\"var mastodon_instance=prompt('Mastodon Instance / Server Name?'); if(typeof mastodon_instance==='string' && mastodon_instance.length){this.href='https://'+mastodon_instance+'/share?text=I%27ve+completed+%22The+Treachery+of+Whales%22+%2D+Day+7+%2D+Advent+of+Code+2021+%23AdventOfCode+https%3A%2F%2Fadventofcode%2Ecom%2F2021%2Fday%2F7'}else{return false;}\" target=\"_blank\">Mastodon</a\n",
       "></span>]</span> this puzzle.</p>\n"
      ],
      "text/plain": [
       "<IPython.core.display.HTML object>"
      ]
     },
     "execution_count": 15,
     "metadata": {},
     "output_type": "execute_result"
    }
   ],
   "source": [
    "# HTML(downloaded['part2_footer'])"
   ]
  }
 ],
 "metadata": {
  "interpreter": {
   "hash": "aee8b7b246df8f9039afb4144a1f6fd8d2ca17a180786b69acc140d282b71a49"
  },
  "kernelspec": {
   "display_name": "Python 3.9.7 64-bit",
   "name": "python3"
  },
  "language_info": {
   "codemirror_mode": {
    "name": "ipython",
    "version": 3
   },
   "file_extension": ".py",
   "mimetype": "text/x-python",
   "name": "python",
   "nbconvert_exporter": "python",
   "pygments_lexer": "ipython3",
   "version": "3.9.7"
  }
 },
 "nbformat": 4,
 "nbformat_minor": 4
}

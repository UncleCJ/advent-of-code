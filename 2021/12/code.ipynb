{
 "cells": [
  {
   "cell_type": "markdown",
   "metadata": {},
   "source": [
    "# Day 12: Passage Pathing\n",
    "\n",
    "[*Advent of Code 2021 day 12*](https://adventofcode.com/2021/day/12) and [*solution megathread*]()\n",
    "\n",
    "[![nbviewer](https://raw.githubusercontent.com/jupyter/design/master/logos/Badges/nbviewer_badge.svg)](https://nbviewer.jupyter.org/github/UncleCJ/advent-of-code/blob/cj/2021/12/code.ipynb) [![Binder](https://mybinder.org/badge_logo.svg)](https://mybinder.org/v2/gh/UncleCJ/advent-of-code/cj?filepath=2021%2F12%2Fcode.ipynb)"
   ]
  },
  {
   "cell_type": "code",
   "execution_count": 17,
   "metadata": {},
   "outputs": [
    {
     "name": "stderr",
     "output_type": "stream",
     "text": [
      "5:1: E402 module level import not at top of file\n",
      "8:20: E225 missing whitespace around operator\n"
     ]
    },
    {
     "name": "stdout",
     "output_type": "stream",
     "text": [
      "Writing 'downloaded' (dict) to file 'downloaded'.\n"
     ]
    }
   ],
   "source": [
    "from IPython.display import HTML\n",
    "import sys\n",
    "\n",
    "sys.path.append('../../')\n",
    "import common\n",
    "\n",
    "downloaded = common.refresh()\n",
    "%store downloaded >downloaded"
   ]
  },
  {
   "cell_type": "markdown",
   "metadata": {},
   "source": [
    "## Part One"
   ]
  },
  {
   "cell_type": "code",
   "execution_count": 2,
   "metadata": {},
   "outputs": [
    {
     "data": {
      "text/html": [
       "<h2>--- Day 12: Passage Pathing ---</h2><p>With your <span title=\"Sublime.\">submarine's subterranean subsystems subsisting suboptimally</span>, the only way you're getting out of this cave anytime soon is by finding a path yourself. Not just <em>a</em> path - the only way to know if you've found the <em>best</em> path is to find <em>all</em> of them.</p>\n",
       "<p>Fortunately, the sensors are still mostly working, and so you build a rough map of the remaining caves (your puzzle input). For example:</p>\n",
       "<pre><code>start-A\n",
       "start-b\n",
       "A-c\n",
       "A-b\n",
       "b-d\n",
       "A-end\n",
       "b-end\n",
       "</code></pre>\n",
       "<p>This is a list of how all of the caves are connected. You start in the cave named <code>start</code>, and your destination is the cave named <code>end</code>. An entry like <code>b-d</code> means that cave <code>b</code> is connected to cave <code>d</code> - that is, you can move between them.</p>\n",
       "<p>So, the above cave system looks roughly like this:</p>\n",
       "<pre><code>    start\n",
       "    /   \\\n",
       "c--A-----b--d\n",
       "    \\   /\n",
       "     end\n",
       "</code></pre>\n",
       "<p>Your goal is to find the number of distinct <em>paths</em> that start at <code>start</code>, end at <code>end</code>, and don't visit small caves more than once. There are two types of caves: <em>big</em> caves (written in uppercase, like <code>A</code>) and <em>small</em> caves (written in lowercase, like <code>b</code>). It would be a waste of time to visit any small cave more than once, but big caves are large enough that it might be worth visiting them multiple times. So, all paths you find should <em>visit small caves at most once</em>, and can <em>visit big caves any number of times</em>.</p>\n",
       "<p>Given these rules, there are <code><em>10</em></code> paths through this example cave system:</p>\n",
       "<pre><code>start,A,b,A,c,A,end\n",
       "start,A,b,A,end\n",
       "start,A,b,end\n",
       "start,A,c,A,b,A,end\n",
       "start,A,c,A,b,end\n",
       "start,A,c,A,end\n",
       "start,A,end\n",
       "start,b,A,c,A,end\n",
       "start,b,A,end\n",
       "start,b,end\n",
       "</code></pre>\n",
       "<p>(Each line in the above list corresponds to a single path; the caves visited by that path are listed in the order they are visited and separated by commas.)</p>\n",
       "<p>Note that in this cave system, cave <code>d</code> is never visited by any path: to do so, cave <code>b</code> would need to be visited twice (once on the way to cave <code>d</code> and a second time when returning from cave <code>d</code>), and since cave <code>b</code> is small, this is not allowed.</p>\n",
       "<p>Here is a slightly larger example:</p>\n",
       "<pre><code>dc-end\n",
       "HN-start\n",
       "start-kj\n",
       "dc-start\n",
       "dc-HN\n",
       "LN-dc\n",
       "HN-end\n",
       "kj-sa\n",
       "kj-HN\n",
       "kj-dc\n",
       "</code></pre>\n",
       "<p>The <code>19</code> paths through it are as follows:</p>\n",
       "<pre><code>start,HN,dc,HN,end\n",
       "start,HN,dc,HN,kj,HN,end\n",
       "start,HN,dc,end\n",
       "start,HN,dc,kj,HN,end\n",
       "start,HN,end\n",
       "start,HN,kj,HN,dc,HN,end\n",
       "start,HN,kj,HN,dc,end\n",
       "start,HN,kj,HN,end\n",
       "start,HN,kj,dc,HN,end\n",
       "start,HN,kj,dc,end\n",
       "start,dc,HN,end\n",
       "start,dc,HN,kj,HN,end\n",
       "start,dc,end\n",
       "start,dc,kj,HN,end\n",
       "start,kj,HN,dc,HN,end\n",
       "start,kj,HN,dc,end\n",
       "start,kj,HN,end\n",
       "start,kj,dc,HN,end\n",
       "start,kj,dc,end\n",
       "</code></pre>\n",
       "<p>Finally, this even larger example has <code>226</code> paths through it:</p>\n",
       "<pre><code>fs-end\n",
       "he-DX\n",
       "fs-he\n",
       "start-DX\n",
       "pj-DX\n",
       "end-zg\n",
       "zg-sl\n",
       "zg-pj\n",
       "pj-he\n",
       "RW-he\n",
       "fs-DX\n",
       "pj-RW\n",
       "zg-RW\n",
       "start-pj\n",
       "he-WI\n",
       "zg-he\n",
       "pj-fs\n",
       "start-RW\n",
       "</code></pre>\n",
       "<p><em>How many paths through this cave system are there that visit small caves at most once?</em></p>\n"
      ],
      "text/plain": [
       "<IPython.core.display.HTML object>"
      ]
     },
     "execution_count": 2,
     "metadata": {},
     "output_type": "execute_result"
    }
   ],
   "source": [
    "HTML(downloaded['part1'])"
   ]
  },
  {
   "cell_type": "markdown",
   "metadata": {},
   "source": [
    "## Boilerplate\n",
    "\n",
    "Let's try using [pycodestyle_magic](https://github.com/mattijn/pycodestyle_magic) with pycodestyle (flake8 stopped working for me in VS Code Jupyter). Now how does type checking work?"
   ]
  },
  {
   "cell_type": "code",
   "execution_count": 3,
   "metadata": {},
   "outputs": [],
   "source": [
    "%load_ext pycodestyle_magic"
   ]
  },
  {
   "cell_type": "code",
   "execution_count": 4,
   "metadata": {},
   "outputs": [],
   "source": [
    "%pycodestyle_on"
   ]
  },
  {
   "cell_type": "markdown",
   "metadata": {},
   "source": [
    "## Comments\n",
    "\n",
    "Ironically, the sibling project of this advent-of-code repository is an [igraph project](https://igraph.org/python), but I'm certainly not fluent enough in it that it would make sense to use, at least for something this comparatively small."
   ]
  },
  {
   "cell_type": "code",
   "execution_count": 18,
   "metadata": {},
   "outputs": [],
   "source": [
    "testdata = []\n",
    "testdata.append((\"\"\"start-A\n",
    "start-b\n",
    "A-c\n",
    "A-b\n",
    "b-d\n",
    "A-end\n",
    "b-end\"\"\".splitlines(), 10, 36))\n",
    "\n",
    "testdata.append((\"\"\"dc-end\n",
    "HN-start\n",
    "start-kj\n",
    "dc-start\n",
    "dc-HN\n",
    "LN-dc\n",
    "HN-end\n",
    "kj-sa\n",
    "kj-HN\n",
    "kj-dc\"\"\".splitlines(), 19, 103))\n",
    "\n",
    "testdata.append((\"\"\"fs-end\n",
    "he-DX\n",
    "fs-he\n",
    "start-DX\n",
    "pj-DX\n",
    "end-zg\n",
    "zg-sl\n",
    "zg-pj\n",
    "pj-he\n",
    "RW-he\n",
    "fs-DX\n",
    "pj-RW\n",
    "zg-RW\n",
    "start-pj\n",
    "he-WI\n",
    "zg-he\n",
    "pj-fs\n",
    "start-RW\"\"\".splitlines(), 226, 3509))\n",
    "\n",
    "inputdata = downloaded['input'].splitlines()"
   ]
  },
  {
   "cell_type": "code",
   "execution_count": 6,
   "metadata": {},
   "outputs": [
    {
     "name": "stdout",
     "output_type": "stream",
     "text": [
      "['EO-jc', 'end-tm']\n"
     ]
    }
   ],
   "source": [
    "print(inputdata[:2])"
   ]
  },
  {
   "cell_type": "code",
   "execution_count": 7,
   "metadata": {},
   "outputs": [],
   "source": [
    "from collections.abc import Iterable\n",
    "\n",
    "\n",
    "def add_undirected_edge(edges: set[tuple[str, str]],\n",
    "                        source: str,\n",
    "                        target: str):\n",
    "    for directed_edge in [(source, target),\n",
    "                          (target, source)]:\n",
    "        if directed_edge[0] in edges:\n",
    "            edges[directed_edge[0]].add(directed_edge[1])\n",
    "        else:\n",
    "            edges[directed_edge[0]] = {directed_edge[1]}\n",
    "\n",
    "\n",
    "def parse_data(data: list[str]) -> tuple[set, dict[str, set]]:\n",
    "    result_nodes, result_edges = set(), dict()\n",
    "    for line in data:\n",
    "        source, target = line.split('-', 2)\n",
    "        result_nodes.add(source)\n",
    "        result_nodes.add(target)\n",
    "        add_undirected_edge(result_edges, source, target)\n",
    "    return result_nodes, result_edges\n",
    "\n",
    "\n",
    "def dfs(nodes_remaining: set[str],\n",
    "        edges: dict[str, set[str]],\n",
    "        preceding: list[str] = [],\n",
    "        small_cave_exception: bool = False,\n",
    "        debug: bool = False) -> set[str]:\n",
    "    if debug:\n",
    "        print(f'\\ndfs({nodes_remaining=},\\n{edges=},\\n{preceding=})')\n",
    "    if not preceding:\n",
    "        preceding = ['start']\n",
    "        nodes_remaining.discard('start')\n",
    "    elif preceding[-1] == 'end':\n",
    "        if debug:\n",
    "            print(f'Returning: {preceding=}')\n",
    "        return {','.join(preceding)}\n",
    "    if len(preceding) > 30:\n",
    "        raise ValueError('Cannot find dfs!')\n",
    "    current = preceding[-1]\n",
    "    if current not in edges:\n",
    "        return {}\n",
    "    continuations = set()\n",
    "    for target in edges[current]:\n",
    "        if target in nodes_remaining:\n",
    "            if not target.islower():\n",
    "                next_nodes = nodes_remaining\n",
    "            else:\n",
    "                next_nodes = nodes_remaining.copy()\n",
    "                next_nodes.discard(target)\n",
    "            next_small_cave_exception = small_cave_exception\n",
    "        elif small_cave_exception and target != 'start':\n",
    "            next_small_cave_exception = False\n",
    "            next_nodes = nodes_remaining\n",
    "        else:\n",
    "            continue\n",
    "        continuations = continuations.union(\n",
    "            dfs(next_nodes,\n",
    "                edges,\n",
    "                preceding + [target],\n",
    "                small_cave_exception=next_small_cave_exception,\n",
    "                debug=debug))\n",
    "    if debug:\n",
    "        print(f'Returning: {continuations=}')\n",
    "    return continuations\n",
    "\n",
    "\n",
    "def my_part1_solution(data: str,\n",
    "                      debug: bool = False) -> int:\n",
    "    nodes, edges = parse_data(data)\n",
    "    paths = dfs(nodes, edges, debug=debug)\n",
    "    # if debug:\n",
    "    #     print(paths)\n",
    "    return len(paths)"
   ]
  },
  {
   "cell_type": "code",
   "execution_count": 21,
   "metadata": {},
   "outputs": [
    {
     "name": "stdout",
     "output_type": "stream",
     "text": [
      "\n",
      "dfs(nodes_remaining={'A', 'd', 'c', 'end', 'b', 'start'},\n",
      "edges={'start': {'A', 'b'}, 'A': {'end', 'start', 'b', 'c'}, 'b': {'end', 'A', 'start', 'd'}, 'c': {'A'}, 'd': {'b'}, 'end': {'A', 'b'}},\n",
      "preceding=[])\n",
      "\n",
      "dfs(nodes_remaining={'A', 'd', 'c', 'end', 'b'},\n",
      "edges={'start': {'A', 'b'}, 'A': {'end', 'start', 'b', 'c'}, 'b': {'end', 'A', 'start', 'd'}, 'c': {'A'}, 'd': {'b'}, 'end': {'A', 'b'}},\n",
      "preceding=['start', 'A'])\n",
      "\n",
      "dfs(nodes_remaining={'A', 'd', 'c', 'b'},\n",
      "edges={'start': {'A', 'b'}, 'A': {'end', 'start', 'b', 'c'}, 'b': {'end', 'A', 'start', 'd'}, 'c': {'A'}, 'd': {'b'}, 'end': {'A', 'b'}},\n",
      "preceding=['start', 'A', 'end'])\n",
      "Returning: preceding=['start', 'A', 'end']\n",
      "\n",
      "dfs(nodes_remaining={'A', 'd', 'c', 'end'},\n",
      "edges={'start': {'A', 'b'}, 'A': {'end', 'start', 'b', 'c'}, 'b': {'end', 'A', 'start', 'd'}, 'c': {'A'}, 'd': {'b'}, 'end': {'A', 'b'}},\n",
      "preceding=['start', 'A', 'b'])\n",
      "\n",
      "dfs(nodes_remaining={'A', 'c', 'd'},\n",
      "edges={'start': {'A', 'b'}, 'A': {'end', 'start', 'b', 'c'}, 'b': {'end', 'A', 'start', 'd'}, 'c': {'A'}, 'd': {'b'}, 'end': {'A', 'b'}},\n",
      "preceding=['start', 'A', 'b', 'end'])\n",
      "Returning: preceding=['start', 'A', 'b', 'end']\n",
      "\n",
      "dfs(nodes_remaining={'A', 'd', 'c', 'end'},\n",
      "edges={'start': {'A', 'b'}, 'A': {'end', 'start', 'b', 'c'}, 'b': {'end', 'A', 'start', 'd'}, 'c': {'A'}, 'd': {'b'}, 'end': {'A', 'b'}},\n",
      "preceding=['start', 'A', 'b', 'A'])\n",
      "\n",
      "dfs(nodes_remaining={'A', 'c', 'd'},\n",
      "edges={'start': {'A', 'b'}, 'A': {'end', 'start', 'b', 'c'}, 'b': {'end', 'A', 'start', 'd'}, 'c': {'A'}, 'd': {'b'}, 'end': {'A', 'b'}},\n",
      "preceding=['start', 'A', 'b', 'A', 'end'])\n",
      "Returning: preceding=['start', 'A', 'b', 'A', 'end']\n",
      "\n",
      "dfs(nodes_remaining={'end', 'A', 'd'},\n",
      "edges={'start': {'A', 'b'}, 'A': {'end', 'start', 'b', 'c'}, 'b': {'end', 'A', 'start', 'd'}, 'c': {'A'}, 'd': {'b'}, 'end': {'A', 'b'}},\n",
      "preceding=['start', 'A', 'b', 'A', 'c'])\n",
      "\n",
      "dfs(nodes_remaining={'end', 'A', 'd'},\n",
      "edges={'start': {'A', 'b'}, 'A': {'end', 'start', 'b', 'c'}, 'b': {'end', 'A', 'start', 'd'}, 'c': {'A'}, 'd': {'b'}, 'end': {'A', 'b'}},\n",
      "preceding=['start', 'A', 'b', 'A', 'c', 'A'])\n",
      "\n",
      "dfs(nodes_remaining={'A', 'd'},\n",
      "edges={'start': {'A', 'b'}, 'A': {'end', 'start', 'b', 'c'}, 'b': {'end', 'A', 'start', 'd'}, 'c': {'A'}, 'd': {'b'}, 'end': {'A', 'b'}},\n",
      "preceding=['start', 'A', 'b', 'A', 'c', 'A', 'end'])\n",
      "Returning: preceding=['start', 'A', 'b', 'A', 'c', 'A', 'end']\n",
      "Returning: continuations={'start,A,b,A,c,A,end'}\n",
      "Returning: continuations={'start,A,b,A,c,A,end'}\n",
      "Returning: continuations={'start,A,b,A,end', 'start,A,b,A,c,A,end'}\n",
      "\n",
      "dfs(nodes_remaining={'end', 'A', 'c'},\n",
      "edges={'start': {'A', 'b'}, 'A': {'end', 'start', 'b', 'c'}, 'b': {'end', 'A', 'start', 'd'}, 'c': {'A'}, 'd': {'b'}, 'end': {'A', 'b'}},\n",
      "preceding=['start', 'A', 'b', 'd'])\n",
      "Returning: continuations=set()\n",
      "Returning: continuations={'start,A,b,A,c,A,end', 'start,A,b,A,end', 'start,A,b,end'}\n",
      "\n",
      "dfs(nodes_remaining={'A', 'd', 'end', 'b'},\n",
      "edges={'start': {'A', 'b'}, 'A': {'end', 'start', 'b', 'c'}, 'b': {'end', 'A', 'start', 'd'}, 'c': {'A'}, 'd': {'b'}, 'end': {'A', 'b'}},\n",
      "preceding=['start', 'A', 'c'])\n",
      "\n",
      "dfs(nodes_remaining={'A', 'd', 'end', 'b'},\n",
      "edges={'start': {'A', 'b'}, 'A': {'end', 'start', 'b', 'c'}, 'b': {'end', 'A', 'start', 'd'}, 'c': {'A'}, 'd': {'b'}, 'end': {'A', 'b'}},\n",
      "preceding=['start', 'A', 'c', 'A'])\n",
      "\n",
      "dfs(nodes_remaining={'A', 'b', 'd'},\n",
      "edges={'start': {'A', 'b'}, 'A': {'end', 'start', 'b', 'c'}, 'b': {'end', 'A', 'start', 'd'}, 'c': {'A'}, 'd': {'b'}, 'end': {'A', 'b'}},\n",
      "preceding=['start', 'A', 'c', 'A', 'end'])\n",
      "Returning: preceding=['start', 'A', 'c', 'A', 'end']\n",
      "\n",
      "dfs(nodes_remaining={'end', 'A', 'd'},\n",
      "edges={'start': {'A', 'b'}, 'A': {'end', 'start', 'b', 'c'}, 'b': {'end', 'A', 'start', 'd'}, 'c': {'A'}, 'd': {'b'}, 'end': {'A', 'b'}},\n",
      "preceding=['start', 'A', 'c', 'A', 'b'])\n",
      "\n",
      "dfs(nodes_remaining={'A', 'd'},\n",
      "edges={'start': {'A', 'b'}, 'A': {'end', 'start', 'b', 'c'}, 'b': {'end', 'A', 'start', 'd'}, 'c': {'A'}, 'd': {'b'}, 'end': {'A', 'b'}},\n",
      "preceding=['start', 'A', 'c', 'A', 'b', 'end'])\n",
      "Returning: preceding=['start', 'A', 'c', 'A', 'b', 'end']\n",
      "\n",
      "dfs(nodes_remaining={'end', 'A', 'd'},\n",
      "edges={'start': {'A', 'b'}, 'A': {'end', 'start', 'b', 'c'}, 'b': {'end', 'A', 'start', 'd'}, 'c': {'A'}, 'd': {'b'}, 'end': {'A', 'b'}},\n",
      "preceding=['start', 'A', 'c', 'A', 'b', 'A'])\n",
      "\n",
      "dfs(nodes_remaining={'A', 'd'},\n",
      "edges={'start': {'A', 'b'}, 'A': {'end', 'start', 'b', 'c'}, 'b': {'end', 'A', 'start', 'd'}, 'c': {'A'}, 'd': {'b'}, 'end': {'A', 'b'}},\n",
      "preceding=['start', 'A', 'c', 'A', 'b', 'A', 'end'])\n",
      "Returning: preceding=['start', 'A', 'c', 'A', 'b', 'A', 'end']\n",
      "Returning: continuations={'start,A,c,A,b,A,end'}\n",
      "\n",
      "dfs(nodes_remaining={'end', 'A'},\n",
      "edges={'start': {'A', 'b'}, 'A': {'end', 'start', 'b', 'c'}, 'b': {'end', 'A', 'start', 'd'}, 'c': {'A'}, 'd': {'b'}, 'end': {'A', 'b'}},\n",
      "preceding=['start', 'A', 'c', 'A', 'b', 'd'])\n",
      "Returning: continuations=set()\n",
      "Returning: continuations={'start,A,c,A,b,end', 'start,A,c,A,b,A,end'}\n",
      "Returning: continuations={'start,A,c,A,b,end', 'start,A,c,A,b,A,end', 'start,A,c,A,end'}\n",
      "Returning: continuations={'start,A,c,A,b,end', 'start,A,c,A,b,A,end', 'start,A,c,A,end'}\n",
      "Returning: continuations={'start,A,c,A,b,end', 'start,A,c,A,b,A,end', 'start,A,b,A,end', 'start,A,end', 'start,A,b,A,c,A,end', 'start,A,c,A,end', 'start,A,b,end'}\n",
      "\n",
      "dfs(nodes_remaining={'A', 'd', 'c', 'end'},\n",
      "edges={'start': {'A', 'b'}, 'A': {'end', 'start', 'b', 'c'}, 'b': {'end', 'A', 'start', 'd'}, 'c': {'A'}, 'd': {'b'}, 'end': {'A', 'b'}},\n",
      "preceding=['start', 'b'])\n",
      "\n",
      "dfs(nodes_remaining={'A', 'c', 'd'},\n",
      "edges={'start': {'A', 'b'}, 'A': {'end', 'start', 'b', 'c'}, 'b': {'end', 'A', 'start', 'd'}, 'c': {'A'}, 'd': {'b'}, 'end': {'A', 'b'}},\n",
      "preceding=['start', 'b', 'end'])\n",
      "Returning: preceding=['start', 'b', 'end']\n",
      "\n",
      "dfs(nodes_remaining={'A', 'd', 'c', 'end'},\n",
      "edges={'start': {'A', 'b'}, 'A': {'end', 'start', 'b', 'c'}, 'b': {'end', 'A', 'start', 'd'}, 'c': {'A'}, 'd': {'b'}, 'end': {'A', 'b'}},\n",
      "preceding=['start', 'b', 'A'])\n",
      "\n",
      "dfs(nodes_remaining={'A', 'c', 'd'},\n",
      "edges={'start': {'A', 'b'}, 'A': {'end', 'start', 'b', 'c'}, 'b': {'end', 'A', 'start', 'd'}, 'c': {'A'}, 'd': {'b'}, 'end': {'A', 'b'}},\n",
      "preceding=['start', 'b', 'A', 'end'])\n",
      "Returning: preceding=['start', 'b', 'A', 'end']\n",
      "\n",
      "dfs(nodes_remaining={'end', 'A', 'd'},\n",
      "edges={'start': {'A', 'b'}, 'A': {'end', 'start', 'b', 'c'}, 'b': {'end', 'A', 'start', 'd'}, 'c': {'A'}, 'd': {'b'}, 'end': {'A', 'b'}},\n",
      "preceding=['start', 'b', 'A', 'c'])\n",
      "\n",
      "dfs(nodes_remaining={'end', 'A', 'd'},\n",
      "edges={'start': {'A', 'b'}, 'A': {'end', 'start', 'b', 'c'}, 'b': {'end', 'A', 'start', 'd'}, 'c': {'A'}, 'd': {'b'}, 'end': {'A', 'b'}},\n",
      "preceding=['start', 'b', 'A', 'c', 'A'])\n",
      "\n",
      "dfs(nodes_remaining={'A', 'd'},\n",
      "edges={'start': {'A', 'b'}, 'A': {'end', 'start', 'b', 'c'}, 'b': {'end', 'A', 'start', 'd'}, 'c': {'A'}, 'd': {'b'}, 'end': {'A', 'b'}},\n",
      "preceding=['start', 'b', 'A', 'c', 'A', 'end'])\n",
      "Returning: preceding=['start', 'b', 'A', 'c', 'A', 'end']\n",
      "Returning: continuations={'start,b,A,c,A,end'}\n",
      "Returning: continuations={'start,b,A,c,A,end'}\n",
      "Returning: continuations={'start,b,A,c,A,end', 'start,b,A,end'}\n",
      "\n",
      "dfs(nodes_remaining={'end', 'A', 'c'},\n",
      "edges={'start': {'A', 'b'}, 'A': {'end', 'start', 'b', 'c'}, 'b': {'end', 'A', 'start', 'd'}, 'c': {'A'}, 'd': {'b'}, 'end': {'A', 'b'}},\n",
      "preceding=['start', 'b', 'd'])\n",
      "Returning: continuations=set()\n",
      "Returning: continuations={'start,b,A,c,A,end', 'start,b,end', 'start,b,A,end'}\n",
      "Returning: continuations={'start,A,c,A,b,A,end', 'start,b,A,c,A,end', 'start,A,c,A,end', 'start,b,A,end', 'start,A,b,end', 'start,A,c,A,b,end', 'start,A,b,A,end', 'start,b,end', 'start,A,end', 'start,A,b,A,c,A,end'}\n"
     ]
    },
    {
     "data": {
      "text/plain": [
       "10"
      ]
     },
     "execution_count": 21,
     "metadata": {},
     "output_type": "execute_result"
    }
   ],
   "source": [
    "my_part1_solution(testdata[0][0], debug=True)"
   ]
  },
  {
   "cell_type": "code",
   "execution_count": 20,
   "metadata": {},
   "outputs": [],
   "source": [
    "for data, assertion, _ in testdata:\n",
    "    assert(my_part1_solution(data) == assertion)"
   ]
  },
  {
   "cell_type": "code",
   "execution_count": 9,
   "metadata": {},
   "outputs": [
    {
     "data": {
      "text/plain": [
       "5228"
      ]
     },
     "execution_count": 9,
     "metadata": {},
     "output_type": "execute_result"
    }
   ],
   "source": [
    "my_part1_solution(inputdata)"
   ]
  },
  {
   "cell_type": "code",
   "execution_count": 10,
   "metadata": {},
   "outputs": [
    {
     "data": {
      "text/html": [
       "\n",
       "<p>Your puzzle answer was <code>5228</code>.</p>"
      ],
      "text/plain": [
       "<IPython.core.display.HTML object>"
      ]
     },
     "execution_count": 10,
     "metadata": {},
     "output_type": "execute_result"
    }
   ],
   "source": [
    "HTML(downloaded['part1_footer'])"
   ]
  },
  {
   "cell_type": "markdown",
   "metadata": {},
   "source": [
    "## Part Two"
   ]
  },
  {
   "cell_type": "code",
   "execution_count": 11,
   "metadata": {},
   "outputs": [
    {
     "data": {
      "text/html": [
       "<h2 id=\"part2\">--- Part Two ---</h2><p>After reviewing the available paths, you realize you might have time to visit a single small cave <em>twice</em>. Specifically, big caves can be visited any number of times, a single small cave can be visited at most twice, and the remaining small caves can be visited at most once. However, the caves named <code>start</code> and <code>end</code> can only be visited <em>exactly once each</em>: once you leave the <code>start</code> cave, you may not return to it, and once you reach the <code>end</code> cave, the path must end immediately.</p>\n",
       "<p>Now, the <code>36</code> possible paths through the first example above are:</p>\n",
       "<pre><code>start,A,b,A,b,A,c,A,end\n",
       "start,A,b,A,b,A,end\n",
       "start,A,b,A,b,end\n",
       "start,A,b,A,c,A,b,A,end\n",
       "start,A,b,A,c,A,b,end\n",
       "start,A,b,A,c,A,c,A,end\n",
       "start,A,b,A,c,A,end\n",
       "start,A,b,A,end\n",
       "start,A,b,d,b,A,c,A,end\n",
       "start,A,b,d,b,A,end\n",
       "start,A,b,d,b,end\n",
       "start,A,b,end\n",
       "start,A,c,A,b,A,b,A,end\n",
       "start,A,c,A,b,A,b,end\n",
       "start,A,c,A,b,A,c,A,end\n",
       "start,A,c,A,b,A,end\n",
       "start,A,c,A,b,d,b,A,end\n",
       "start,A,c,A,b,d,b,end\n",
       "start,A,c,A,b,end\n",
       "start,A,c,A,c,A,b,A,end\n",
       "start,A,c,A,c,A,b,end\n",
       "start,A,c,A,c,A,end\n",
       "start,A,c,A,end\n",
       "start,A,end\n",
       "start,b,A,b,A,c,A,end\n",
       "start,b,A,b,A,end\n",
       "start,b,A,b,end\n",
       "start,b,A,c,A,b,A,end\n",
       "start,b,A,c,A,b,end\n",
       "start,b,A,c,A,c,A,end\n",
       "start,b,A,c,A,end\n",
       "start,b,A,end\n",
       "start,b,d,b,A,c,A,end\n",
       "start,b,d,b,A,end\n",
       "start,b,d,b,end\n",
       "start,b,end\n",
       "</code></pre>\n",
       "<p>The slightly larger example above now has <code>103</code> paths through it, and the even larger example now has <code>3509</code> paths through it.</p>\n",
       "<p>Given these new rules, <em>how many paths through this cave system are there?</em></p>\n"
      ],
      "text/plain": [
       "<IPython.core.display.HTML object>"
      ]
     },
     "execution_count": 11,
     "metadata": {},
     "output_type": "execute_result"
    }
   ],
   "source": [
    "HTML(downloaded['part2'])"
   ]
  },
  {
   "cell_type": "code",
   "execution_count": 12,
   "metadata": {
    "tags": []
   },
   "outputs": [],
   "source": [
    "def my_part2_solution(data: str,\n",
    "                      debug: bool = False) -> int:\n",
    "    nodes, edges = parse_data(data)\n",
    "    paths = dfs(nodes,\n",
    "                edges,\n",
    "                small_cave_exception=True)\n",
    "    if debug:\n",
    "        for i, path in enumerate(paths):\n",
    "            print(f'path {i}: {path}')\n",
    "    return len(paths)"
   ]
  },
  {
   "cell_type": "code",
   "execution_count": 13,
   "metadata": {},
   "outputs": [
    {
     "name": "stdout",
     "output_type": "stream",
     "text": [
      "path 0: start,A,b,d,b,A,c,A,end\n",
      "path 1: start,b,d,b,A,end\n",
      "path 2: start,A,b,d,b,end\n",
      "path 3: start,A,b,d,b,A,end\n",
      "path 4: start,A,c,A,b,A,c,A,end\n",
      "path 5: start,b,A,end\n",
      "path 6: start,b,A,c,A,b,end\n",
      "path 7: start,A,c,A,b,end\n",
      "path 8: start,b,A,c,A,c,A,end\n",
      "path 9: start,A,c,A,c,A,b,end\n",
      "path 10: start,A,end\n",
      "path 11: start,A,b,end\n",
      "path 12: start,A,b,A,c,A,end\n",
      "path 13: start,A,c,A,c,A,b,A,end\n",
      "path 14: start,b,d,b,end\n",
      "path 15: start,A,c,A,b,A,end\n",
      "path 16: start,A,c,A,b,A,b,A,end\n",
      "path 17: start,A,c,A,b,d,b,end\n",
      "path 18: start,b,A,c,A,b,A,end\n",
      "path 19: start,b,d,b,A,c,A,end\n",
      "path 20: start,A,b,A,c,A,c,A,end\n",
      "path 21: start,b,A,c,A,end\n",
      "path 22: start,A,c,A,end\n",
      "path 23: start,A,b,A,c,A,b,end\n",
      "path 24: start,A,b,A,b,end\n",
      "path 25: start,A,c,A,b,A,b,end\n",
      "path 26: start,A,b,A,end\n",
      "path 27: start,A,b,A,c,A,b,A,end\n",
      "path 28: start,A,c,A,c,A,end\n",
      "path 29: start,b,end\n",
      "path 30: start,b,A,b,A,end\n",
      "path 31: start,b,A,b,end\n",
      "path 32: start,b,A,b,A,c,A,end\n",
      "path 33: start,A,b,A,b,A,c,A,end\n",
      "path 34: start,A,b,A,b,A,end\n",
      "path 35: start,A,c,A,b,d,b,A,end\n"
     ]
    },
    {
     "data": {
      "text/plain": [
       "36"
      ]
     },
     "execution_count": 13,
     "metadata": {},
     "output_type": "execute_result"
    }
   ],
   "source": [
    "my_part2_solution(testdata[0][0], debug=True)"
   ]
  },
  {
   "cell_type": "code",
   "execution_count": 19,
   "metadata": {},
   "outputs": [],
   "source": [
    "for data, _, assertion in testdata:\n",
    "    assert(my_part2_solution(data) == assertion)"
   ]
  },
  {
   "cell_type": "code",
   "execution_count": 15,
   "metadata": {},
   "outputs": [
    {
     "data": {
      "text/plain": [
       "131228"
      ]
     },
     "execution_count": 15,
     "metadata": {},
     "output_type": "execute_result"
    }
   ],
   "source": [
    "my_part2_solution(inputdata)"
   ]
  },
  {
   "cell_type": "code",
   "execution_count": 16,
   "metadata": {},
   "outputs": [
    {
     "data": {
      "text/html": [
       "\n",
       "<p>Your puzzle answer was <code>131228</code>.</p><p class=\"day-success\">Both parts of this puzzle are complete! They provide two gold stars: **</p>\n",
       "<p>At this point, you should <a href=\"/2021\">return to your Advent calendar</a> and try another puzzle.</p>\n",
       "<p>If you still want to see it, you can <a href=\"12/input\" target=\"_blank\">get your puzzle input</a>.</p>\n",
       "<p>You can also <span class=\"share\">[Share<span class=\"share-content\">on\n",
       "  <a href=\"https://twitter.com/intent/tweet?text=I%27ve+completed+%22Passage+Pathing%22+%2D+Day+12+%2D+Advent+of+Code+2021&amp;url=https%3A%2F%2Fadventofcode%2Ecom%2F2021%2Fday%2F12&amp;related=ericwastl&amp;hashtags=AdventOfCode\" target=\"_blank\">Twitter</a>\n",
       "  <a href=\"javascript:void(0);\" onclick=\"var mastodon_instance=prompt('Mastodon Instance / Server Name?'); if(typeof mastodon_instance==='string' && mastodon_instance.length){this.href='https://'+mastodon_instance+'/share?text=I%27ve+completed+%22Passage+Pathing%22+%2D+Day+12+%2D+Advent+of+Code+2021+%23AdventOfCode+https%3A%2F%2Fadventofcode%2Ecom%2F2021%2Fday%2F12'}else{return false;}\" target=\"_blank\">Mastodon</a\n",
       "></span>]</span> this puzzle.</p>\n"
      ],
      "text/plain": [
       "<IPython.core.display.HTML object>"
      ]
     },
     "execution_count": 16,
     "metadata": {},
     "output_type": "execute_result"
    }
   ],
   "source": [
    "HTML(downloaded['part2_footer'])"
   ]
  }
 ],
 "metadata": {
  "interpreter": {
   "hash": "aee8b7b246df8f9039afb4144a1f6fd8d2ca17a180786b69acc140d282b71a49"
  },
  "kernelspec": {
   "display_name": "Python 3.9.7 64-bit",
   "name": "python3"
  },
  "language_info": {
   "codemirror_mode": {
    "name": "ipython",
    "version": 3
   },
   "file_extension": ".py",
   "mimetype": "text/x-python",
   "name": "python",
   "nbconvert_exporter": "python",
   "pygments_lexer": "ipython3",
   "version": "3.9.7"
  }
 },
 "nbformat": 4,
 "nbformat_minor": 4
}

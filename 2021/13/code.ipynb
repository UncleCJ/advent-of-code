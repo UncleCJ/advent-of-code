{
 "cells": [
  {
   "cell_type": "markdown",
   "metadata": {},
   "source": [
    "# Day 13: Transparent Origami\n",
    "\n",
    "[*Advent of Code 2021 day 13*](https://adventofcode.com/2021/day/13) and [*solution megathread*](https://www.reddit.com/rf7onx)\n",
    "\n",
    "[![nbviewer](https://raw.githubusercontent.com/jupyter/design/master/logos/Badges/nbviewer_badge.svg)](https://nbviewer.jupyter.org/github/UncleCJ/advent-of-code/blob/cj/2021/13/code.ipynb) [![Binder](https://mybinder.org/badge_logo.svg)](https://mybinder.org/v2/gh/UncleCJ/advent-of-code/cj?filepath=2021%2F13%2Fcode.ipynb)"
   ]
  },
  {
   "cell_type": "code",
   "execution_count": 1,
   "metadata": {},
   "outputs": [
    {
     "name": "stdout",
     "output_type": "stream",
     "text": [
      "Writing 'downloaded' (dict) to file 'downloaded'.\n"
     ]
    }
   ],
   "source": [
    "from IPython.display import HTML\n",
    "import sys\n",
    "\n",
    "sys.path.append('../../')\n",
    "import common\n",
    "\n",
    "downloaded = common.refresh()\n",
    "%store downloaded >downloaded"
   ]
  },
  {
   "cell_type": "markdown",
   "metadata": {},
   "source": [
    "## Part One"
   ]
  },
  {
   "cell_type": "code",
   "execution_count": 2,
   "metadata": {},
   "outputs": [
    {
     "data": {
      "text/html": [
       "<h2>--- Day 13: Transparent Origami ---</h2><p>You reach another volcanically active part of the cave. It would be nice if you could do some kind of thermal imaging so you could tell ahead of time which caves are too hot to safely enter.</p>\n",
       "<p>Fortunately, the submarine seems to be equipped with a thermal camera! When you activate it, you are greeted with:</p>\n",
       "<pre><code>Congratulations on your purchase! To activate this infrared thermal imaging\n",
       "camera system, please enter the code found on page 1 of the manual.\n",
       "</code></pre>\n",
       "<p>Apparently, the Elves have never used this feature. To your surprise, you manage to find the manual; as you go to open it, page 1 falls out. It's a large sheet of <a href=\"https://en.wikipedia.org/wiki/Transparency_(projection)\" target=\"_blank\">transparent paper</a>! The transparent paper is marked with random dots and includes instructions on how to fold it up (your puzzle input). For example:</p>\n",
       "<pre><code>6,10\n",
       "0,14\n",
       "9,10\n",
       "0,3\n",
       "10,4\n",
       "4,11\n",
       "6,0\n",
       "6,12\n",
       "4,1\n",
       "0,13\n",
       "10,12\n",
       "3,4\n",
       "3,0\n",
       "8,4\n",
       "1,10\n",
       "2,14\n",
       "8,10\n",
       "9,0\n",
       "\n",
       "fold along y=7\n",
       "fold along x=5\n",
       "</code></pre>\n",
       "<p>The first section is a list of dots on the transparent paper. <code>0,0</code> represents the top-left coordinate.  The first value, <code>x</code>, increases to the right.  The second value, <code>y</code>, increases downward.  So, the coordinate <code>3,0</code> is to the right of <code>0,0</code>, and the coordinate <code>0,7</code> is below <code>0,0</code>. The coordinates in this example form the following pattern, where <code>#</code> is a dot on the paper and <code>.</code> is an empty, unmarked position:</p>\n",
       "<pre><code>...#..#..#.\n",
       "....#......\n",
       "...........\n",
       "#..........\n",
       "...#....#.#\n",
       "...........\n",
       "...........\n",
       "...........\n",
       "...........\n",
       "...........\n",
       ".#....#.##.\n",
       "....#......\n",
       "......#...#\n",
       "#..........\n",
       "#.#........\n",
       "</code></pre>\n",
       "<p>Then, there is a list of <em>fold instructions</em>. Each instruction indicates a line on the transparent paper and wants you to fold the paper <em>up</em> (for horizontal <code>y=...</code> lines) or <em>left</em> (for vertical <code>x=...</code> lines). In this example, the first fold instruction is <code>fold along y=7</code>, which designates the line formed by all of the positions where <code>y</code> is <code>7</code> (marked here with <code>-</code>):</p>\n",
       "<pre><code>...#..#..#.\n",
       "....#......\n",
       "...........\n",
       "#..........\n",
       "...#....#.#\n",
       "...........\n",
       "...........\n",
       "-----------\n",
       "...........\n",
       "...........\n",
       ".#....#.##.\n",
       "....#......\n",
       "......#...#\n",
       "#..........\n",
       "#.#........\n",
       "</code></pre>\n",
       "<p>Because this is a horizontal line, fold the bottom half <em>up</em>. Some of the dots might end up overlapping after the fold is complete, but dots will never appear exactly on a fold line. The result of doing this fold looks like this:</p>\n",
       "<pre><code>#.##..#..#.\n",
       "#...#......\n",
       "......#...#\n",
       "#...#......\n",
       ".#.#..#.###\n",
       "...........\n",
       "...........\n",
       "</code></pre>\n",
       "<p>Now, only <code>17</code> dots are visible.</p>\n",
       "<p>Notice, for example, the two dots in the bottom left corner before the transparent paper is folded; after the fold is complete, those dots appear in the top left corner (at <code>0,0</code> and <code>0,1</code>). Because the paper is transparent, the dot just below them in the result (at <code>0,3</code>) remains visible, as it can be seen through the transparent paper.</p>\n",
       "<p>Also notice that some dots can end up <em>overlapping</em>; in this case, the dots merge together and become a single dot.</p>\n",
       "<p>The second fold instruction is <code>fold along x=5</code>, which indicates this line:</p>\n",
       "<pre><code>#.##.|#..#.\n",
       "#...#|.....\n",
       ".....|#...#\n",
       "#...#|.....\n",
       ".#.#.|#.###\n",
       ".....|.....\n",
       ".....|.....\n",
       "</code></pre>\n",
       "<p>Because this is a vertical line, fold <em>left</em>:</p>\n",
       "<pre><code>#####\n",
       "#...#\n",
       "#...#\n",
       "#...#\n",
       "#####\n",
       ".....\n",
       ".....\n",
       "</code></pre>\n",
       "<p>The instructions made a square!</p>\n",
       "<p>The transparent paper is pretty big, so for now, focus on just completing the first fold. After the first fold in the example above, <code><em>17</em></code> dots are visible - dots that end up overlapping after the fold is completed count as a single dot.</p>\n",
       "<p><em>How many dots are visible after completing just the first fold instruction on your transparent paper?</em></p>\n"
      ],
      "text/plain": [
       "<IPython.core.display.HTML object>"
      ]
     },
     "execution_count": 2,
     "metadata": {},
     "output_type": "execute_result"
    }
   ],
   "source": [
    "HTML(downloaded['part1'])"
   ]
  },
  {
   "cell_type": "markdown",
   "metadata": {},
   "source": [
    "## Boilerplate\n",
    "\n",
    "Let's try using [pycodestyle_magic](https://github.com/mattijn/pycodestyle_magic) with pycodestyle (flake8 stopped working for me in VS Code Jupyter). Now how does type checking work?"
   ]
  },
  {
   "cell_type": "code",
   "execution_count": 3,
   "metadata": {},
   "outputs": [],
   "source": [
    "%load_ext pycodestyle_magic"
   ]
  },
  {
   "cell_type": "code",
   "execution_count": 4,
   "metadata": {},
   "outputs": [],
   "source": [
    "%pycodestyle_on"
   ]
  },
  {
   "cell_type": "markdown",
   "metadata": {},
   "source": [
    "## Comments\n",
    "\n",
    "I really ought to be switching to numpy methods, perhaps I can go back and clean these problems up once I've done so."
   ]
  },
  {
   "cell_type": "code",
   "execution_count": 5,
   "metadata": {},
   "outputs": [
    {
     "name": "stderr",
     "output_type": "stream",
     "text": [
      "22:32: W291 trailing whitespace\n",
      "23:1: E128 continuation line under-indented for visual indent\n",
      "23:4: W291 trailing whitespace\n",
      "24:1: E128 continuation line under-indented for visual indent\n"
     ]
    }
   ],
   "source": [
    "testdata = []\n",
    "testdata.append((\"\"\"6,10\n",
    "0,14\n",
    "9,10\n",
    "0,3\n",
    "10,4\n",
    "4,11\n",
    "6,0\n",
    "6,12\n",
    "4,1\n",
    "0,13\n",
    "10,12\n",
    "3,4\n",
    "3,0\n",
    "8,4\n",
    "1,10\n",
    "2,14\n",
    "8,10\n",
    "9,0\n",
    "\n",
    "fold along y=7\n",
    "fold along x=5\"\"\".splitlines(), \n",
    "17, \n",
    "\"\"\"#####\n",
    "#...#\n",
    "#...#\n",
    "#...#\n",
    "#####\"\"\"))\n",
    "\n",
    "inputdata = downloaded['input'].splitlines()"
   ]
  },
  {
   "cell_type": "code",
   "execution_count": 6,
   "metadata": {},
   "outputs": [],
   "source": [
    "from collections.abc import Iterable\n",
    "\n",
    "\n",
    "def parse_data(data: list[str]) -> \\\n",
    "        tuple[set[tuple[int, int]], list[tuple[str, int]]]:\n",
    "    result_points, result_folds = set(), list()\n",
    "    for line in data:\n",
    "        if ',' in line:\n",
    "            result_points.add(tuple(map(int, line.split(',', 2))))\n",
    "        elif '=' in line:\n",
    "            fold, axis = line.split('=', 2)\n",
    "            result_folds.append((fold, int(axis)))\n",
    "    return result_points, result_folds\n",
    "\n",
    "\n",
    "def fold_along_dim(points: set, dim: int, axis: int) -> set[tuple[int, int]]:\n",
    "    resultset = set(points)\n",
    "    for p in points:\n",
    "        if p[dim] > axis:\n",
    "            resultset.discard(p)\n",
    "            p_dim = axis - (p[dim] - axis)\n",
    "            if dim == 0:\n",
    "                p = (p_dim, p[1])\n",
    "            else:\n",
    "                p = (p[0], p_dim)\n",
    "            resultset.add(p)\n",
    "    return resultset\n",
    "\n",
    "\n",
    "def fold_along_x(points: set, axis: int) -> set[tuple[int, int]]:\n",
    "    return fold_along_dim(points, 0, axis)\n",
    "\n",
    "\n",
    "def fold_along_y(points: set, axis: int) -> set[tuple[int, int]]:\n",
    "    return fold_along_dim(points, 1, axis)\n",
    "\n",
    "\n",
    "def my_part1_solution(data: str,\n",
    "                      debug: bool = False) -> int:\n",
    "    points, folds = parse_data(data)\n",
    "    if folds[0][0] == 'fold along x':\n",
    "        points = fold_along_x(points, folds[0][1])\n",
    "    elif folds[0][0] == 'fold along y':\n",
    "        points = fold_along_y(points, folds[0][1])\n",
    "    return len(points)"
   ]
  },
  {
   "cell_type": "code",
   "execution_count": 16,
   "metadata": {},
   "outputs": [],
   "source": [
    "assert(my_part1_solution(testdata[0][0], debug=True)\n",
    "       == testdata[0][1])"
   ]
  },
  {
   "cell_type": "code",
   "execution_count": 8,
   "metadata": {},
   "outputs": [
    {
     "data": {
      "text/plain": [
       "607"
      ]
     },
     "execution_count": 8,
     "metadata": {},
     "output_type": "execute_result"
    }
   ],
   "source": [
    "my_part1_solution(inputdata)"
   ]
  },
  {
   "cell_type": "code",
   "execution_count": 9,
   "metadata": {},
   "outputs": [
    {
     "data": {
      "text/html": [
       "\n",
       "<p>Your puzzle answer was <code>607</code>.</p>"
      ],
      "text/plain": [
       "<IPython.core.display.HTML object>"
      ]
     },
     "execution_count": 9,
     "metadata": {},
     "output_type": "execute_result"
    }
   ],
   "source": [
    "HTML(downloaded['part1_footer'])"
   ]
  },
  {
   "cell_type": "markdown",
   "metadata": {},
   "source": [
    "## Part Two"
   ]
  },
  {
   "cell_type": "code",
   "execution_count": 10,
   "metadata": {},
   "outputs": [
    {
     "data": {
      "text/html": [
       "<h2 id=\"part2\">--- Part Two ---</h2><p><span title=\"How can you fold it that many times? You tell me, I'm not the one folding it.\">Finish folding</span> the transparent paper according to the instructions. The manual says the code is always <em>eight capital letters</em>.</p>\n",
       "<p><em>What code do you use to activate the infrared thermal imaging camera system?</em></p>\n"
      ],
      "text/plain": [
       "<IPython.core.display.HTML object>"
      ]
     },
     "execution_count": 10,
     "metadata": {},
     "output_type": "execute_result"
    }
   ],
   "source": [
    "HTML(downloaded['part2'])"
   ]
  },
  {
   "cell_type": "code",
   "execution_count": 11,
   "metadata": {
    "tags": []
   },
   "outputs": [],
   "source": [
    "def do_folds(points, folds) -> set[tuple[int, int]]:\n",
    "    for fold in folds:\n",
    "        if fold[0] == 'fold along x':\n",
    "            points = fold_along_x(points, fold[1])\n",
    "        elif fold[0] == 'fold along y':\n",
    "            points = fold_along_y(points, fold[1])\n",
    "    return points\n",
    "\n",
    "\n",
    "def display_points(points) -> str:\n",
    "    x_max = max(x for x, _ in points) + 1\n",
    "    y_max = max(y for _, y in points) + 1\n",
    "    zero_row = ['.'] * x_max\n",
    "    point_matrix = [zero_row[:] for _ in range(y_max)]\n",
    "    for x, y in points:\n",
    "        point_matrix[y][x] = '#'\n",
    "    return '\\n'.join(''.join(row) for row in point_matrix)\n",
    "\n",
    "\n",
    "def my_part2_solution(data: str,\n",
    "                      debug: bool = False) -> str:\n",
    "    points, folds = parse_data(data)\n",
    "    points = do_folds(points, folds)\n",
    "    return display_points(points)"
   ]
  },
  {
   "cell_type": "code",
   "execution_count": 12,
   "metadata": {},
   "outputs": [],
   "source": [
    "assert(my_part2_solution(testdata[0][0]) == testdata[0][2])"
   ]
  },
  {
   "cell_type": "code",
   "execution_count": 13,
   "metadata": {},
   "outputs": [
    {
     "name": "stdout",
     "output_type": "stream",
     "text": [
      ".##..###..####.#....###..####.####.#...\n",
      "#..#.#..#....#.#....#..#.#.......#.#...\n",
      "#....#..#...#..#....#..#.###....#..#...\n",
      "#....###...#...#....###..#.....#...#...\n",
      "#..#.#....#....#....#....#....#....#...\n",
      ".##..#....####.####.#....#....####.####\n"
     ]
    }
   ],
   "source": [
    "print(my_part2_solution(inputdata))"
   ]
  },
  {
   "cell_type": "code",
   "execution_count": 14,
   "metadata": {},
   "outputs": [
    {
     "data": {
      "text/html": [
       "\n",
       "<p>Your puzzle answer was <code>CPZLPFZL</code>.</p><p class=\"day-success\">Both parts of this puzzle are complete! They provide two gold stars: **</p>\n",
       "<p>At this point, you should <a href=\"/2021\">return to your Advent calendar</a> and try another puzzle.</p>\n",
       "<p>If you still want to see it, you can <a href=\"13/input\" target=\"_blank\">get your puzzle input</a>.</p>\n",
       "<p>You can also <span class=\"share\">[Share<span class=\"share-content\">on\n",
       "  <a href=\"https://twitter.com/intent/tweet?text=I%27ve+completed+%22Transparent+Origami%22+%2D+Day+13+%2D+Advent+of+Code+2021&amp;url=https%3A%2F%2Fadventofcode%2Ecom%2F2021%2Fday%2F13&amp;related=ericwastl&amp;hashtags=AdventOfCode\" target=\"_blank\">Twitter</a>\n",
       "  <a href=\"javascript:void(0);\" onclick=\"var mastodon_instance=prompt('Mastodon Instance / Server Name?'); if(typeof mastodon_instance==='string' && mastodon_instance.length){this.href='https://'+mastodon_instance+'/share?text=I%27ve+completed+%22Transparent+Origami%22+%2D+Day+13+%2D+Advent+of+Code+2021+%23AdventOfCode+https%3A%2F%2Fadventofcode%2Ecom%2F2021%2Fday%2F13'}else{return false;}\" target=\"_blank\">Mastodon</a\n",
       "></span>]</span> this puzzle.</p>\n"
      ],
      "text/plain": [
       "<IPython.core.display.HTML object>"
      ]
     },
     "execution_count": 14,
     "metadata": {},
     "output_type": "execute_result"
    }
   ],
   "source": [
    "HTML(downloaded['part2_footer'])"
   ]
  }
 ],
 "metadata": {
  "interpreter": {
   "hash": "aee8b7b246df8f9039afb4144a1f6fd8d2ca17a180786b69acc140d282b71a49"
  },
  "kernelspec": {
   "display_name": "Python 3.9.7 64-bit",
   "name": "python3"
  },
  "language_info": {
   "codemirror_mode": {
    "name": "ipython",
    "version": 3
   },
   "file_extension": ".py",
   "mimetype": "text/x-python",
   "name": "python",
   "nbconvert_exporter": "python",
   "pygments_lexer": "ipython3",
   "version": "3.10.0"
  }
 },
 "nbformat": 4,
 "nbformat_minor": 4
}

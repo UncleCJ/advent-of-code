{
 "cells": [
  {
   "cell_type": "markdown",
   "metadata": {},
   "source": [
    "# Day 8: Seven Segment Search\n",
    "\n",
    "[*Advent of Code 2021 day 8*](https://adventofcode.com/2021/day/8) and [*solution megathread*](https://www.reddit.com/rbj87a)\n",
    "\n",
    "[![nbviewer](https://raw.githubusercontent.com/jupyter/design/master/logos/Badges/nbviewer_badge.svg)](https://nbviewer.jupyter.org/github/UncleCJ/advent-of-code/blob/cj/2021/08/code.ipynb) [![Binder](https://mybinder.org/badge_logo.svg)](https://mybinder.org/v2/gh/UncleCJ/advent-of-code/cj?filepath=2021%2F08%2Fcode.ipynb)"
   ]
  },
  {
   "cell_type": "code",
   "execution_count": 1,
   "metadata": {},
   "outputs": [
    {
     "name": "stderr",
     "output_type": "stream",
     "text": [
      "Version 1.0.4\n"
     ]
    }
   ],
   "source": [
    "from IPython.display import HTML\n",
    "import sys\n",
    "sys.path.append('../../')\n",
    "\n",
    "\n",
    "%load_ext nb_mypy\n",
    "%nb_mypy On"
   ]
  },
  {
   "cell_type": "code",
   "execution_count": 2,
   "metadata": {},
   "outputs": [
    {
     "name": "stdout",
     "output_type": "stream",
     "text": [
      "Writing 'downloaded' (dict) to file 'downloaded'.\n"
     ]
    }
   ],
   "source": [
    "import common\n",
    "\n",
    "\n",
    "downloaded = common.refresh()\n",
    "%store downloaded >downloaded\n",
    "\n",
    "%load_ext pycodestyle_magic\n",
    "%pycodestyle_on"
   ]
  },
  {
   "cell_type": "markdown",
   "metadata": {},
   "source": [
    "## Part One"
   ]
  },
  {
   "cell_type": "code",
   "execution_count": 3,
   "metadata": {},
   "outputs": [
    {
     "data": {
      "text/html": [
       "<h2>--- Day 8: Seven Segment Search ---</h2><p>You barely reach the safety of the cave when the whale smashes into the cave mouth, collapsing it. Sensors indicate another exit to this cave at a much greater depth, so you have no choice but to press on.</p>\n",
       "<p>As your submarine slowly makes its way through the cave system, you notice that the four-digit <a href=\"https://en.wikipedia.org/wiki/Seven-segment_display\" target=\"_blank\">seven-segment displays</a> in your submarine are malfunctioning; <span title=\"Yes, just the four-digit seven-segment ones. Whole batch must have been faulty.\">they must have been damaged</span> during the escape. You'll be in a lot of trouble without them, so you'd better figure out what's wrong.</p>\n",
       "<p>Each digit of a seven-segment display is rendered by turning on or off any of seven segments named <code>a</code> through <code>g</code>:</p>\n",
       "<pre><code>  0:      1:      2:      3:      4:\n",
       " <em>aaaa</em>    ....    <em>aaaa    aaaa</em>    ....\n",
       "<em>b    c</em>  .    <em>c</em>  .    <em>c</em>  .    <em>c  b    c</em>\n",
       "<em>b    c</em>  .    <em>c</em>  .    <em>c</em>  .    <em>c  b    c</em>\n",
       " ....    ....    <em>dddd    dddd    dddd</em>\n",
       "<em>e    f</em>  .    <em>f  e</em>    .  .    <em>f</em>  .    <em>f</em>\n",
       "<em>e    f</em>  .    <em>f  e</em>    .  .    <em>f</em>  .    <em>f</em>\n",
       " <em>gggg</em>    ....    <em>gggg    gggg</em>    ....\n",
       "\n",
       "  5:      6:      7:      8:      9:\n",
       " <em>aaaa    aaaa    aaaa    aaaa    aaaa</em>\n",
       "<em>b</em>    .  <em>b</em>    .  .    <em>c  b    c  b    c</em>\n",
       "<em>b</em>    .  <em>b</em>    .  .    <em>c  b    c  b    c</em>\n",
       " <em>dddd    dddd</em>    ....    <em>dddd    dddd</em>\n",
       ".    <em>f  e    f</em>  .    <em>f  e    f</em>  .    <em>f</em>\n",
       ".    <em>f  e    f</em>  .    <em>f  e    f</em>  .    <em>f</em>\n",
       " <em>gggg    gggg</em>    ....    <em>gggg    gggg</em>\n",
       "</code></pre>\n",
       "<p>So, to render a <code>1</code>, only segments <code>c</code> and <code>f</code> would be turned on; the rest would be off. To render a <code>7</code>, only segments <code>a</code>, <code>c</code>, and <code>f</code> would be turned on.</p>\n",
       "<p>The problem is that the signals which control the segments have been mixed up on each display. The submarine is still trying to display numbers by producing output on signal wires <code>a</code> through <code>g</code>, but those wires are connected to segments <em>randomly</em>. Worse, the wire/segment connections are mixed up separately for each four-digit display! (All of the digits <em>within</em> a display use the same connections, though.)</p>\n",
       "<p>So, you might know that only signal wires <code>b</code> and <code>g</code> are turned on, but that doesn't mean <em>segments</em> <code>b</code> and <code>g</code> are turned on: the only digit that uses two segments is <code>1</code>, so it must mean segments <code>c</code> and <code>f</code> are meant to be on. With just that information, you still can't tell which wire (<code>b</code>/<code>g</code>) goes to which segment (<code>c</code>/<code>f</code>). For that, you'll need to collect more information.</p>\n",
       "<p>For each display, you watch the changing signals for a while, make a note of <em>all ten unique signal patterns</em> you see, and then write down a single <em>four digit output value</em> (your puzzle input). Using the signal patterns, you should be able to work out which pattern corresponds to which digit.</p>\n",
       "<p>For example, here is what you might see in a single entry in your notes:</p>\n",
       "<pre><code>acedgfb cdfbe gcdfa fbcad dab cefabd cdfgeb eafb cagedb ab |\n",
       "cdfeb fcadb cdfeb cdbaf</code></pre>\n",
       "<p>(The entry is wrapped here to two lines so it fits; in your notes, it will all be on a single line.)</p>\n",
       "<p>Each entry consists of ten <em>unique signal patterns</em>, a <code>|</code> delimiter, and finally the <em>four digit output value</em>. Within an entry, the same wire/segment connections are used (but you don't know what the connections actually are). The unique signal patterns correspond to the ten different ways the submarine tries to render a digit using the current wire/segment connections. Because <code>7</code> is the only digit that uses three segments, <code>dab</code> in the above example means that to render a <code>7</code>, signal lines <code>d</code>, <code>a</code>, and <code>b</code> are on. Because <code>4</code> is the only digit that uses four segments, <code>eafb</code> means that to render a <code>4</code>, signal lines <code>e</code>, <code>a</code>, <code>f</code>, and <code>b</code> are on.</p>\n",
       "<p>Using this information, you should be able to work out which combination of signal wires corresponds to each of the ten digits. Then, you can decode the four digit output value. Unfortunately, in the above example, all of the digits in the output value (<code>cdfeb fcadb cdfeb cdbaf</code>) use five segments and are more difficult to deduce.</p>\n",
       "<p>For now, <em>focus on the easy digits</em>. Consider this larger example:</p>\n",
       "<pre><code>be cfbegad cbdgef fgaecd cgeb fdcge agebfd fecdb fabcd edb |\n",
       "<em>fdgacbe</em> cefdb cefbgd <em>gcbe</em>\n",
       "edbfga begcd cbg gc gcadebf fbgde acbgfd abcde gfcbed gfec |\n",
       "fcgedb <em>cgb</em> <em>dgebacf</em> <em>gc</em>\n",
       "fgaebd cg bdaec gdafb agbcfd gdcbef bgcad gfac gcb cdgabef |\n",
       "<em>cg</em> <em>cg</em> fdcagb <em>cbg</em>\n",
       "fbegcd cbd adcefb dageb afcb bc aefdc ecdab fgdeca fcdbega |\n",
       "efabcd cedba gadfec <em>cb</em>\n",
       "aecbfdg fbg gf bafeg dbefa fcge gcbea fcaegb dgceab fcbdga |\n",
       "<em>gecf</em> <em>egdcabf</em> <em>bgf</em> bfgea\n",
       "fgeab ca afcebg bdacfeg cfaedg gcfdb baec bfadeg bafgc acf |\n",
       "<em>gebdcfa</em> <em>ecba</em> <em>ca</em> <em>fadegcb</em>\n",
       "dbcfg fgd bdegcaf fgec aegbdf ecdfab fbedc dacgb gdcebf gf |\n",
       "<em>cefg</em> dcbef <em>fcge</em> <em>gbcadfe</em>\n",
       "bdfegc cbegaf gecbf dfcage bdacg ed bedf ced adcbefg gebcd |\n",
       "<em>ed</em> bcgafe cdgba cbgef\n",
       "egadfb cdbfeg cegd fecab cgb gbdefca cg fgcdab egfdb bfceg |\n",
       "<em>gbdfcae</em> <em>bgc</em> <em>cg</em> <em>cgb</em>\n",
       "gcafb gcf dcaebfg ecagb gf abcdeg gaef cafbge fdbac fegbdc |\n",
       "<em>fgae</em> cfgab <em>fg</em> bagce\n",
       "</code></pre>\n",
       "<p>Because the digits <code>1</code>, <code>4</code>, <code>7</code>, and <code>8</code> each use a unique number of segments, you should be able to tell which combinations of signals correspond to those digits. Counting <em>only digits in the output values</em> (the part after <code>|</code> on each line), in the above example, there are <code><em>26</em></code> instances of digits that use a unique number of segments (highlighted above).</p>\n",
       "<p><em>In the output values, how many times do digits <code>1</code>, <code>4</code>, <code>7</code>, or <code>8</code> appear?</em></p>\n"
      ],
      "text/plain": [
       "<IPython.core.display.HTML object>"
      ]
     },
     "execution_count": 3,
     "metadata": {},
     "output_type": "execute_result"
    }
   ],
   "source": [
    "from IPython.display import HTML\n",
    "\n",
    "HTML(downloaded['part1'])"
   ]
  },
  {
   "cell_type": "markdown",
   "metadata": {},
   "source": [
    "## Comments\n",
    "\n",
    "What is this... compute an average?\n",
    "\n",
    "...\n",
    "\n",
    "Hmm... nope. It's too early to realize even why that didn't work in Part One, and this solution is so brute force it feels criminal, but it worked!"
   ]
  },
  {
   "cell_type": "code",
   "execution_count": 4,
   "metadata": {},
   "outputs": [],
   "source": [
    "from IPython.display import display\n",
    "\n",
    "%pycodestyle_off\n",
    "testdata = \"\"\"be cfbegad cbdgef fgaecd cgeb fdcge agebfd fecdb fabcd edb | fdgacbe cefdb cefbgd gcbe\n",
    "edbfga begcd cbg gc gcadebf fbgde acbgfd abcde gfcbed gfec | fcgedb cgb dgebacf gc\n",
    "fgaebd cg bdaec gdafb agbcfd gdcbef bgcad gfac gcb cdgabef | cg cg fdcagb cbg\n",
    "fbegcd cbd adcefb dageb afcb bc aefdc ecdab fgdeca fcdbega | efabcd cedba gadfec cb\n",
    "aecbfdg fbg gf bafeg dbefa fcge gcbea fcaegb dgceab fcbdga | gecf egdcabf bgf bfgea\n",
    "fgeab ca afcebg bdacfeg cfaedg gcfdb baec bfadeg bafgc acf | gebdcfa ecba ca fadegcb\n",
    "dbcfg fgd bdegcaf fgec aegbdf ecdfab fbedc dacgb gdcebf gf | cefg dcbef fcge gbcadfe\n",
    "bdfegc cbegaf gecbf dfcage bdacg ed bedf ced adcbefg gebcd | ed bcgafe cdgba cbgef\n",
    "egadfb cdbfeg cegd fecab cgb gbdefca cg fgcdab egfdb bfceg | gbdfcae bgc cg cgb\n",
    "gcafb gcf dcaebfg ecagb gf abcdeg gaef cafbge fdbac fegbdc | fgae cfgab fg bagce\"\"\".splitlines()\n",
    "%pycodestyle_on\n",
    "\n",
    "inputdata = downloaded['input'].splitlines()"
   ]
  },
  {
   "cell_type": "code",
   "execution_count": 5,
   "metadata": {},
   "outputs": [
    {
     "data": {
      "text/plain": [
       "'fcdeba edcbag decab adcefg acdfb gdcfb acf fabe fa eacfgbd | aefb cfa acf cdabf'"
      ]
     },
     "metadata": {},
     "output_type": "display_data"
    },
    {
     "data": {
      "text/plain": [
       "'adbec fabeg fgda gafedb fadeb cdebgf cfaebdg fd bdf cgfbae | ebdfga fbd bdagcef dfb'"
      ]
     },
     "metadata": {},
     "output_type": "display_data"
    },
    {
     "data": {
      "text/plain": [
       "'... (200 lines)'"
      ]
     },
     "metadata": {},
     "output_type": "display_data"
    }
   ],
   "source": [
    "display(f'{inputdata[0]}')\n",
    "display(f'{inputdata[1]}')\n",
    "display(f'... ({len(inputdata)} lines)')"
   ]
  },
  {
   "cell_type": "code",
   "execution_count": 6,
   "metadata": {},
   "outputs": [],
   "source": [
    "from typing import List, Tuple, Iterable\n",
    "\n",
    "WiresStr = str\n",
    "\n",
    "\n",
    "def parse_data(data: List[str]) -> \\\n",
    "        List[Tuple[List[WiresStr], List[WiresStr]]]:\n",
    "    result = []\n",
    "    for line in data:\n",
    "        testpatterns, outputpatterns = line.split(' | ')\n",
    "        result.append((testpatterns.split(),\n",
    "                       outputpatterns.split()))\n",
    "    return result\n",
    "\n",
    "\n",
    "def my_part1_solution(data: List[str]) -> int:\n",
    "    count = 0\n",
    "    for _, outputpatterns in parse_data(data):\n",
    "        count += sum(len(outputpattern) in (2, 3, 4, 7)\n",
    "                     for outputpattern in outputpatterns)\n",
    "    return count"
   ]
  },
  {
   "cell_type": "code",
   "execution_count": 7,
   "metadata": {},
   "outputs": [],
   "source": [
    "assert my_part1_solution(testdata) == 26"
   ]
  },
  {
   "cell_type": "code",
   "execution_count": 8,
   "metadata": {},
   "outputs": [
    {
     "data": {
      "text/plain": [
       "449"
      ]
     },
     "execution_count": 8,
     "metadata": {},
     "output_type": "execute_result"
    }
   ],
   "source": [
    "my_part1_solution(inputdata)"
   ]
  },
  {
   "cell_type": "code",
   "execution_count": 9,
   "metadata": {},
   "outputs": [
    {
     "data": {
      "text/html": [
       "\n",
       "<p>Your puzzle answer was <code>449</code>.</p><p class=\"day-success\">The first half of this puzzle is complete! It provides one gold star: *</p>\n"
      ],
      "text/plain": [
       "<IPython.core.display.HTML object>"
      ]
     },
     "execution_count": 9,
     "metadata": {},
     "output_type": "execute_result"
    }
   ],
   "source": [
    "HTML(downloaded['part1_footer'])"
   ]
  },
  {
   "cell_type": "markdown",
   "metadata": {},
   "source": [
    "## Part Two"
   ]
  },
  {
   "cell_type": "code",
   "execution_count": 10,
   "metadata": {},
   "outputs": [
    {
     "data": {
      "text/html": [
       "<h2 id=\"part2\">--- Part Two ---</h2><p>Through a little deduction, you should now be able to determine the remaining digits. Consider again the first example above:</p>\n",
       "<pre><code>acedgfb cdfbe gcdfa fbcad dab cefabd cdfgeb eafb cagedb ab |\n",
       "cdfeb fcadb cdfeb cdbaf</code></pre>\n",
       "<p>After some careful analysis, the mapping between signal wires and segments only make sense in the following configuration:</p>\n",
       "<pre><code> dddd\n",
       "e    a\n",
       "e    a\n",
       " ffff\n",
       "g    b\n",
       "g    b\n",
       " cccc\n",
       "</code></pre>\n",
       "<p>So, the unique signal patterns would correspond to the following digits:</p>\n",
       "<ul>\n",
       "<li><code>acedgfb</code>: <code>8</code></li>\n",
       "<li><code>cdfbe</code>: <code>5</code></li>\n",
       "<li><code>gcdfa</code>: <code>2</code></li>\n",
       "<li><code>fbcad</code>: <code>3</code></li>\n",
       "<li><code>dab</code>: <code>7</code></li>\n",
       "<li><code>cefabd</code>: <code>9</code></li>\n",
       "<li><code>cdfgeb</code>: <code>6</code></li>\n",
       "<li><code>eafb</code>: <code>4</code></li>\n",
       "<li><code>cagedb</code>: <code>0</code></li>\n",
       "<li><code>ab</code>: <code>1</code></li>\n",
       "</ul>\n",
       "<p>Then, the four digits of the output value can be decoded:</p>\n",
       "<ul>\n",
       "<li><code>cdfeb</code>: <code><em>5</em></code></li>\n",
       "<li><code>fcadb</code>: <code><em>3</em></code></li>\n",
       "<li><code>cdfeb</code>: <code><em>5</em></code></li>\n",
       "<li><code>cdbaf</code>: <code><em>3</em></code></li>\n",
       "</ul>\n",
       "<p>Therefore, the output value for this entry is <code><em>5353</em></code>.</p>\n",
       "<p>Following this same process for each entry in the second, larger example above, the output value of each entry can be determined:</p>\n",
       "<ul>\n",
       "<li><code>fdgacbe cefdb cefbgd gcbe</code>: <code>8394</code></li>\n",
       "<li><code>fcgedb cgb dgebacf gc</code>: <code>9781</code></li>\n",
       "<li><code>cg cg fdcagb cbg</code>: <code>1197</code></li>\n",
       "<li><code>efabcd cedba gadfec cb</code>: <code>9361</code></li>\n",
       "<li><code>gecf egdcabf bgf bfgea</code>: <code>4873</code></li>\n",
       "<li><code>gebdcfa ecba ca fadegcb</code>: <code>8418</code></li>\n",
       "<li><code>cefg dcbef fcge gbcadfe</code>: <code>4548</code></li>\n",
       "<li><code>ed bcgafe cdgba cbgef</code>: <code>1625</code></li>\n",
       "<li><code>gbdfcae bgc cg cgb</code>: <code>8717</code></li>\n",
       "<li><code>fgae cfgab fg bagce</code>: <code>4315</code></li>\n",
       "</ul>\n",
       "<p>Adding all of the output values in this larger example produces <code><em>61229</em></code>.</p>\n",
       "<p>For each entry, determine all of the wire/segment connections and decode the four-digit output values. <em>What do you get if you add up all of the output values?</em></p>\n"
      ],
      "text/plain": [
       "<IPython.core.display.HTML object>"
      ]
     },
     "execution_count": 10,
     "metadata": {},
     "output_type": "execute_result"
    }
   ],
   "source": [
    "HTML(downloaded['part2'])"
   ]
  },
  {
   "cell_type": "markdown",
   "metadata": {},
   "source": [
    "Number of segments (not specified which) used in the digits:\n",
    "```\n",
    "2 = len(1)\n",
    "3 = len(7)\n",
    "4 = len(4)\n",
    "5 = len(2), len(3), len(5)\n",
    "6 = len(0), len(6), len(9)\n",
    "7 = len(8)\n",
    "```\n",
    "\n",
    "The digits can be mapped into this table:\n",
    "```\n",
    "      a   b   c   d   e   f   g   sum\n",
    "0     1   1   1   0   1   1   1   6\n",
    "1     0   0   1   0   0   1   0   2\n",
    "2     1   0   1   1   1   0   1   5\n",
    "3     1   0   1   1   0   1   1   5\n",
    "4     0   1   1   1   0   1   0   4\n",
    "5     1   1   0   1   0   1   1   5\n",
    "6     1   1   0   1   1   1   1   6\n",
    "7     1   0   1   0   0   1   0   3\n",
    "8     1   1   1   1   1   1   1   7\n",
    "9     1   1   1   1   0   1   1   6\n",
    "--\n",
    "sum   8   6   8   7   4   9   7\n",
    "```"
   ]
  },
  {
   "cell_type": "code",
   "execution_count": 11,
   "metadata": {},
   "outputs": [
    {
     "ename": "NameError",
     "evalue": "name 'Digit' is not defined",
     "output_type": "error",
     "traceback": [
      "\u001b[0;31m---------------------------------------------------------------------------\u001b[0m",
      "\u001b[0;31mNameError\u001b[0m                                 Traceback (most recent call last)",
      "Cell \u001b[0;32mIn [11], line 4\u001b[0m\n\u001b[1;32m      1\u001b[0m \u001b[39mfrom\u001b[39;00m \u001b[39menum\u001b[39;00m \u001b[39mimport\u001b[39;00m Enum\n\u001b[0;32m----> 4\u001b[0m \u001b[39mclass\u001b[39;00m \u001b[39mDigit\u001b[39;00m(Enum):\n\u001b[1;32m      5\u001b[0m     ZERO \u001b[39m=\u001b[39m (\u001b[39mTrue\u001b[39;00m, \u001b[39mTrue\u001b[39;00m, \u001b[39mTrue\u001b[39;00m, \u001b[39mFalse\u001b[39;00m, \u001b[39mTrue\u001b[39;00m, \u001b[39mTrue\u001b[39;00m, \u001b[39mTrue\u001b[39;00m)\n\u001b[1;32m      6\u001b[0m     ONE \u001b[39m=\u001b[39m (\u001b[39mFalse\u001b[39;00m, \u001b[39mFalse\u001b[39;00m, \u001b[39mTrue\u001b[39;00m, \u001b[39mFalse\u001b[39;00m, \u001b[39mFalse\u001b[39;00m, \u001b[39mTrue\u001b[39;00m, \u001b[39mFalse\u001b[39;00m)\n",
      "Cell \u001b[0;32mIn [11], line 33\u001b[0m, in \u001b[0;36mDigit\u001b[0;34m()\u001b[0m\n\u001b[1;32m     28\u001b[0m \u001b[39m@staticmethod\u001b[39m\n\u001b[1;32m     29\u001b[0m \u001b[39mdef\u001b[39;00m \u001b[39msegments_by_digits\u001b[39m() \u001b[39m-\u001b[39m\u001b[39m>\u001b[39m Tuple[\u001b[39mint\u001b[39m, \u001b[39m.\u001b[39m\u001b[39m.\u001b[39m\u001b[39m.\u001b[39m]:\n\u001b[1;32m     30\u001b[0m     \u001b[39mreturn\u001b[39;00m \u001b[39mtuple\u001b[39m(\u001b[39msum\u001b[39m(d\u001b[39m.\u001b[39mvalue) \u001b[39mfor\u001b[39;00m d \u001b[39min\u001b[39;00m Digit)\n\u001b[1;32m     32\u001b[0m \u001b[39m@staticmethod\u001b[39m\n\u001b[0;32m---> 33\u001b[0m \u001b[39mdef\u001b[39;00m \u001b[39mfrom_indices\u001b[39m(arg_is: List[\u001b[39mint\u001b[39m]) \u001b[39m-\u001b[39m\u001b[39m>\u001b[39m Digit:\n\u001b[1;32m     34\u001b[0m     \u001b[39mreturn\u001b[39;00m Digit(\u001b[39mtuple\u001b[39m(i \u001b[39min\u001b[39;00m arg_is \u001b[39mfor\u001b[39;00m i \u001b[39min\u001b[39;00m \u001b[39mrange\u001b[39m(\u001b[39m7\u001b[39m)))\n\u001b[1;32m     36\u001b[0m \u001b[39m@staticmethod\u001b[39m\n\u001b[1;32m     37\u001b[0m \u001b[39mdef\u001b[39;00m \u001b[39mfrom_string\u001b[39m(arg_str: \u001b[39mstr\u001b[39m) \u001b[39m-\u001b[39m\u001b[39m>\u001b[39m Digit:\n",
      "\u001b[0;31mNameError\u001b[0m: name 'Digit' is not defined"
     ]
    }
   ],
   "source": [
    "from enum import Enum\n",
    "\n",
    "\n",
    "class Digit(Enum):\n",
    "    ZERO = (True, True, True, False, True, True, True)\n",
    "    ONE = (False, False, True, False, False, True, False)\n",
    "    TWO = (True, False, True, True, True, False, True)\n",
    "    THREE = (True, False, True, True, False, True, True)\n",
    "    FOUR = (False, True, True, True, False, True, False)\n",
    "    FIVE = (True, True, False, True, False, True, True)\n",
    "    SIX = (True, True, False, True, True, True, True)\n",
    "    SEVEN = (True, False, True, False, False, True, False)\n",
    "    EIGHT = (True, True, True, True, True, True, True)\n",
    "    NINE = (True, True, True, True, False, True, True)\n",
    "\n",
    "    def intvalue(self) -> int:\n",
    "        for i, d in enumerate(Digit):\n",
    "            if d == self:\n",
    "                return i\n",
    "        raise ValueError(f'unrecognized digit: {self}')\n",
    "\n",
    "    @staticmethod\n",
    "    def digits_by_segments() -> Tuple[int, ...]:\n",
    "        digits = tuple(Digit)\n",
    "        return tuple(sum(d.value[i] for d in digits)\n",
    "                     for i in range(len(digits[0].value)))\n",
    "\n",
    "    @staticmethod\n",
    "    def segments_by_digits() -> Tuple[int, ...]:\n",
    "        return tuple(sum(d.value) for d in Digit)\n",
    "\n",
    "    @staticmethod\n",
    "    def from_indices(arg_is: List[int]) -> Digit:\n",
    "        return Digit(tuple(i in arg_is for i in range(7)))\n",
    "\n",
    "    @staticmethod\n",
    "    def from_string(arg_str: str) -> Digit:\n",
    "        return Digit.from_indices([ord(s) - ord('a') for s in arg_str])\n",
    "\n",
    "    @staticmethod\n",
    "    def from_int(arg_i: int) -> Tuple[Digit, ...]:\n",
    "        output = list()\n",
    "        digits = tuple(Digit)\n",
    "        if arg_i < 0:\n",
    "            raise ValueError(\"only positive integers handled\")\n",
    "        if arg_i == 0:\n",
    "            return (digits[0], )\n",
    "        while arg_i > 0:\n",
    "            d = arg_i % 10\n",
    "            arg_i //= 10\n",
    "            output.append(digits[d])\n",
    "        return tuple(output[::-1])"
   ]
  },
  {
   "cell_type": "code",
   "execution_count": null,
   "metadata": {},
   "outputs": [
    {
     "data": {
      "text/plain": [
       "(8, 6, 8, 7, 4, 9, 7)"
      ]
     },
     "execution_count": 79,
     "metadata": {},
     "output_type": "execute_result"
    }
   ],
   "source": [
    "Digit.digits_by_segments()"
   ]
  },
  {
   "cell_type": "code",
   "execution_count": null,
   "metadata": {},
   "outputs": [
    {
     "data": {
      "text/plain": [
       "(6, 2, 5, 5, 4, 5, 6, 3, 7, 6)"
      ]
     },
     "execution_count": 80,
     "metadata": {},
     "output_type": "execute_result"
    }
   ],
   "source": [
    "Digit.segments_by_digits()"
   ]
  },
  {
   "cell_type": "code",
   "execution_count": null,
   "metadata": {},
   "outputs": [],
   "source": [
    "class Wires:\n",
    "    def __init__(self: Wires, arg_str: str) -> None:\n",
    "        self.wires = arg_str\n",
    "\n",
    "    def __str__(self: Wires) -> str:\n",
    "        return self.wires\n",
    "\n",
    "    def segment_sum(self: Wires) -> int:\n",
    "        return len(self.wires)\n",
    "\n",
    "    @staticmethod\n",
    "    def sum_over_segments(scrambled_wires: Iterable[Wires]) -> \\\n",
    "            Tuple[Tuple[str, int], ...]:\n",
    "        output: List[Tuple[str, int]] = []\n",
    "        for si in range(7):\n",
    "            s = chr(ord('a') + si)\n",
    "            output.append((s,\n",
    "                           sum(s in w.wires\n",
    "                               for w in scrambled_wires)))\n",
    "        return tuple(output)"
   ]
  },
  {
   "cell_type": "code",
   "execution_count": null,
   "metadata": {},
   "outputs": [
    {
     "data": {
      "text/plain": [
       "'tuple(ws.segment_sum() for ws in scrambled_wires)=(5, 3, 7, 5, 2, 6, 4, 6, 5, 6)'"
      ]
     },
     "metadata": {},
     "output_type": "display_data"
    },
    {
     "data": {
      "text/plain": [
       "\"Wires.sum_over_segments(scrambled_wires)=(('a', 7), ('b', 7), ('c', 8), ('d', 4), ('e', 6), ('f', 8), ('g', 9))\""
      ]
     },
     "metadata": {},
     "output_type": "display_data"
    }
   ],
   "source": [
    "scrambled_wires = tuple(\n",
    "    Wires(wires)\n",
    "    for wires in\n",
    "    'gcafb gcf dcaebfg ecagb gf abcdeg gaef cafbge fdbac fegbdc'.split())\n",
    "display(f'{tuple(ws.segment_sum() for ws in scrambled_wires)=}')\n",
    "display(f'{Wires.sum_over_segments(scrambled_wires)=}')"
   ]
  },
  {
   "cell_type": "code",
   "execution_count": null,
   "metadata": {},
   "outputs": [
    {
     "ename": "NameError",
     "evalue": "name 'TestPattern' is not defined",
     "output_type": "error",
     "traceback": [
      "\u001b[0;31m---------------------------------------------------------------------------\u001b[0m",
      "\u001b[0;31mNameError\u001b[0m                                 Traceback (most recent call last)",
      "Cell \u001b[0;32mIn [101], line 1\u001b[0m\n\u001b[0;32m----> 1\u001b[0m \u001b[39mclass\u001b[39;00m \u001b[39mTestPattern\u001b[39;00m:\n\u001b[1;32m      2\u001b[0m     \u001b[39mdef\u001b[39;00m \u001b[39m__init__\u001b[39m(\u001b[39mself\u001b[39m: TestPattern,\n\u001b[1;32m      3\u001b[0m                  scrambled_wires: Tuple[Wires, \u001b[39m.\u001b[39m\u001b[39m.\u001b[39m\u001b[39m.\u001b[39m]) \u001b[39m-\u001b[39m\u001b[39m>\u001b[39m \\\n\u001b[1;32m      4\u001b[0m                      \u001b[39mNone\u001b[39;00m:\n\u001b[1;32m      5\u001b[0m         \u001b[39mself\u001b[39m\u001b[39m.\u001b[39mscrambled_wires \u001b[39m=\u001b[39m scrambled_wires\n",
      "Cell \u001b[0;32mIn [101], line 2\u001b[0m, in \u001b[0;36mTestPattern\u001b[0;34m()\u001b[0m\n\u001b[1;32m      1\u001b[0m \u001b[39mclass\u001b[39;00m \u001b[39mTestPattern\u001b[39;00m:\n\u001b[0;32m----> 2\u001b[0m     \u001b[39mdef\u001b[39;00m \u001b[39m__init__\u001b[39m(\u001b[39mself\u001b[39m: TestPattern,\n\u001b[1;32m      3\u001b[0m                  scrambled_wires: Tuple[Wires, \u001b[39m.\u001b[39m\u001b[39m.\u001b[39m\u001b[39m.\u001b[39m]) \u001b[39m-\u001b[39m\u001b[39m>\u001b[39m \\\n\u001b[1;32m      4\u001b[0m                      \u001b[39mNone\u001b[39;00m:\n\u001b[1;32m      5\u001b[0m         \u001b[39mself\u001b[39m\u001b[39m.\u001b[39mscrambled_wires \u001b[39m=\u001b[39m scrambled_wires\n",
      "\u001b[0;31mNameError\u001b[0m: name 'TestPattern' is not defined"
     ]
    }
   ],
   "source": [
    "class TestPattern:\n",
    "    def __init__(self: TestPattern,\n",
    "                 scrambled_wires: Tuple[Wires, ...]) -> \\\n",
    "                     None:\n",
    "        self.scrambled_wires = scrambled_wires"
   ]
  },
  {
   "cell_type": "code",
   "execution_count": null,
   "metadata": {},
   "outputs": [],
   "source": [
    "def my_part2_solution(data: List[str],\n",
    "                      debug: bool = False) -> int:\n",
    "    numbers_s = numbers_segments()\n",
    "    numbers_sum = elems_add(numbers_s.values())\n",
    "    for testpatterns, outputpatterns in parse_data(data):\n",
    "        print(f'{testpatterns=} {outputpatterns=}')\n",
    "    return 0"
   ]
  },
  {
   "cell_type": "code",
   "execution_count": null,
   "metadata": {},
   "outputs": [
    {
     "name": "stdout",
     "output_type": "stream",
     "text": [
      "testpatterns=['be', 'cfbegad', 'cbdgef', 'fgaecd', 'cgeb', 'fdcge', 'agebfd', 'fecdb', 'fabcd', 'edb'] outputpatterns=['fdgacbe', 'cefdb', 'cefbgd', 'gcbe']\n",
      "testpatterns=['edbfga', 'begcd', 'cbg', 'gc', 'gcadebf', 'fbgde', 'acbgfd', 'abcde', 'gfcbed', 'gfec'] outputpatterns=['fcgedb', 'cgb', 'dgebacf', 'gc']\n",
      "testpatterns=['fgaebd', 'cg', 'bdaec', 'gdafb', 'agbcfd', 'gdcbef', 'bgcad', 'gfac', 'gcb', 'cdgabef'] outputpatterns=['cg', 'cg', 'fdcagb', 'cbg']\n",
      "testpatterns=['fbegcd', 'cbd', 'adcefb', 'dageb', 'afcb', 'bc', 'aefdc', 'ecdab', 'fgdeca', 'fcdbega'] outputpatterns=['efabcd', 'cedba', 'gadfec', 'cb']\n",
      "testpatterns=['aecbfdg', 'fbg', 'gf', 'bafeg', 'dbefa', 'fcge', 'gcbea', 'fcaegb', 'dgceab', 'fcbdga'] outputpatterns=['gecf', 'egdcabf', 'bgf', 'bfgea']\n",
      "testpatterns=['fgeab', 'ca', 'afcebg', 'bdacfeg', 'cfaedg', 'gcfdb', 'baec', 'bfadeg', 'bafgc', 'acf'] outputpatterns=['gebdcfa', 'ecba', 'ca', 'fadegcb']\n",
      "testpatterns=['dbcfg', 'fgd', 'bdegcaf', 'fgec', 'aegbdf', 'ecdfab', 'fbedc', 'dacgb', 'gdcebf', 'gf'] outputpatterns=['cefg', 'dcbef', 'fcge', 'gbcadfe']\n",
      "testpatterns=['bdfegc', 'cbegaf', 'gecbf', 'dfcage', 'bdacg', 'ed', 'bedf', 'ced', 'adcbefg', 'gebcd'] outputpatterns=['ed', 'bcgafe', 'cdgba', 'cbgef']\n",
      "testpatterns=['egadfb', 'cdbfeg', 'cegd', 'fecab', 'cgb', 'gbdefca', 'cg', 'fgcdab', 'egfdb', 'bfceg'] outputpatterns=['gbdfcae', 'bgc', 'cg', 'cgb']\n",
      "testpatterns=['gcafb', 'gcf', 'dcaebfg', 'ecagb', 'gf', 'abcdeg', 'gaef', 'cafbge', 'fdbac', 'fegbdc'] outputpatterns=['fgae', 'cfgab', 'fg', 'bagce']\n"
     ]
    },
    {
     "data": {
      "text/plain": [
       "0"
      ]
     },
     "execution_count": 13,
     "metadata": {},
     "output_type": "execute_result"
    }
   ],
   "source": [
    "my_part2_solution(testdata)"
   ]
  },
  {
   "cell_type": "code",
   "execution_count": null,
   "metadata": {},
   "outputs": [],
   "source": [
    "# assert(my_part2_solution(testdata) == 168)"
   ]
  },
  {
   "cell_type": "code",
   "execution_count": null,
   "metadata": {},
   "outputs": [],
   "source": [
    "# my_part2_solution(inputdata)"
   ]
  },
  {
   "cell_type": "code",
   "execution_count": null,
   "metadata": {},
   "outputs": [
    {
     "data": {
      "text/html": [
       "\n",
       "<form method=\"post\" action=\"8/answer\"><input type=\"hidden\" name=\"level\" value=\"2\"/><p>Answer: <input type=\"text\" name=\"answer\" autocomplete=\"off\"/> <input type=\"submit\" value=\"[Submit]\"/></p></form>\n",
       "<p>Although it hasn't changed, you can still <a href=\"8/input\" target=\"_blank\">get your puzzle input</a>.</p>\n",
       "<p>You can also <span class=\"share\">[Share<span class=\"share-content\">on\n",
       "  <a href=\"https://twitter.com/intent/tweet?text=I%27ve+completed+Part+One+of+%22Seven+Segment+Search%22+%2D+Day+8+%2D+Advent+of+Code+2021&amp;url=https%3A%2F%2Fadventofcode%2Ecom%2F2021%2Fday%2F8&amp;related=ericwastl&amp;hashtags=AdventOfCode\" target=\"_blank\">Twitter</a>\n",
       "  <a href=\"javascript:void(0);\" onclick=\"var mastodon_instance=prompt('Mastodon Instance / Server Name?'); if(typeof mastodon_instance==='string' && mastodon_instance.length){this.href='https://'+mastodon_instance+'/share?text=I%27ve+completed+Part+One+of+%22Seven+Segment+Search%22+%2D+Day+8+%2D+Advent+of+Code+2021+%23AdventOfCode+https%3A%2F%2Fadventofcode%2Ecom%2F2021%2Fday%2F8'}else{return false;}\" target=\"_blank\">Mastodon</a\n",
       "></span>]</span> this puzzle.</p>\n"
      ],
      "text/plain": [
       "<IPython.core.display.HTML object>"
      ]
     },
     "execution_count": 16,
     "metadata": {},
     "output_type": "execute_result"
    }
   ],
   "source": [
    "HTML(downloaded['part2_footer'])"
   ]
  }
 ],
 "metadata": {
  "kernelspec": {
   "display_name": "Python 3.10.6 ('venv': venv)",
   "language": "python",
   "name": "python3"
  },
  "language_info": {
   "codemirror_mode": {
    "name": "ipython",
    "version": 3
   },
   "file_extension": ".py",
   "mimetype": "text/x-python",
   "name": "python",
   "nbconvert_exporter": "python",
   "pygments_lexer": "ipython3",
   "version": "3.10.6"
  },
  "vscode": {
   "interpreter": {
    "hash": "1bc2c3908c007cf9ce21a098f93b8bf6135208cc693d7eb2db76831745e909df"
   }
  }
 },
 "nbformat": 4,
 "nbformat_minor": 4
}

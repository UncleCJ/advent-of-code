{
 "cells": [
  {
   "cell_type": "markdown",
   "metadata": {},
   "source": [
    "# Day 2: Dive!\n",
    "\n",
    "[*Advent of Code 2021 day 2*](https://adventofcode.com/2021/day/2) and [*solution megathread*](https://www.reddit.com/r6zd93)\n",
    "\n",
    "[![nbviewer](https://raw.githubusercontent.com/jupyter/design/master/logos/Badges/nbviewer_badge.svg)](https://nbviewer.jupyter.org/github/UncleCJ/advent-of-code/blob/cj/2021/02/code.ipynb) [![Binder](https://mybinder.org/badge_logo.svg)](https://mybinder.org/v2/gh/UncleCJ/advent-of-code/cj?filepath=2021%2F02%2Fcode.ipynb)"
   ]
  },
  {
   "cell_type": "code",
   "execution_count": 1,
   "metadata": {},
   "outputs": [
    {
     "name": "stdout",
     "output_type": "stream",
     "text": [
      "Writing 'downloaded' (dict) to file 'downloaded'.\n"
     ]
    }
   ],
   "source": [
    "from IPython.display import HTML\n",
    "import sys\n",
    "\n",
    "sys.path.append('../../')\n",
    "import common\n",
    "\n",
    "downloaded = common.refresh()\n",
    "%store downloaded >downloaded"
   ]
  },
  {
   "cell_type": "markdown",
   "metadata": {},
   "source": [
    "## Part One"
   ]
  },
  {
   "cell_type": "code",
   "execution_count": 2,
   "metadata": {},
   "outputs": [
    {
     "data": {
      "text/html": [
       "<h2>--- Day 2: Dive! ---</h2><p>Now, you need to figure out how to <span title=\"Tank, I need a pilot program for a B212 helicopter.\">pilot this thing</span>.</p>\n",
       "<p>It seems like the submarine can take a series of commands like <code>forward 1</code>, <code>down 2</code>, or <code>up 3</code>:</p>\n",
       "<ul>\n",
       "<li><code>forward X</code> increases the horizontal position by <code>X</code> units.</li>\n",
       "<li><code>down X</code> <em>increases</em> the depth by <code>X</code> units.</li>\n",
       "<li><code>up X</code> <em>decreases</em> the depth by <code>X</code> units.</li>\n",
       "</ul>\n",
       "<p>Note that since you're on a submarine, <code>down</code> and <code>up</code> affect your <em>depth</em>, and so they have the opposite result of what you might expect.</p>\n",
       "<p>The submarine seems to already have a planned course (your puzzle input). You should probably figure out where it's going. For example:</p>\n",
       "<pre><code>forward 5\n",
       "down 5\n",
       "forward 8\n",
       "up 3\n",
       "down 8\n",
       "forward 2\n",
       "</code></pre>\n",
       "<p>Your horizontal position and depth both start at <code>0</code>. The steps above would then modify them as follows:</p>\n",
       "<ul>\n",
       "<li><code>forward 5</code> adds <code>5</code> to your horizontal position, a total of <code>5</code>.</li>\n",
       "<li><code>down 5</code> adds <code>5</code> to your depth, resulting in a value of <code>5</code>.</li>\n",
       "<li><code>forward 8</code> adds <code>8</code> to your horizontal position, a total of <code>13</code>.</li>\n",
       "<li><code>up 3</code> decreases your depth by <code>3</code>, resulting in a value of <code>2</code>.</li>\n",
       "<li><code>down 8</code> adds <code>8</code> to your depth, resulting in a value of <code>10</code>.</li>\n",
       "<li><code>forward 2</code> adds <code>2</code> to your horizontal position, a total of <code>15</code>.</li>\n",
       "</ul>\n",
       "<p>After following these instructions, you would have a horizontal position of <code>15</code> and a depth of <code>10</code>. (Multiplying these together produces <code><em>150</em></code>.)</p>\n",
       "<p>Calculate the horizontal position and depth you would have after following the planned course. <em>What do you get if you multiply your final horizontal position by your final depth?</em></p>\n"
      ],
      "text/plain": [
       "<IPython.core.display.HTML object>"
      ]
     },
     "execution_count": 2,
     "metadata": {},
     "output_type": "execute_result"
    }
   ],
   "source": [
    "HTML(downloaded['part1'])"
   ]
  },
  {
   "cell_type": "markdown",
   "metadata": {},
   "source": [
    "## Boilerplate\n",
    "\n",
    "Let's try using [pycodestyle_magic](https://github.com/mattijn/pycodestyle_magic) with pycodestyle (flake8 stopped working for me in VS Code Jupyter). Now how does type checking work?"
   ]
  },
  {
   "cell_type": "code",
   "execution_count": 3,
   "metadata": {},
   "outputs": [],
   "source": [
    "%load_ext pycodestyle_magic"
   ]
  },
  {
   "cell_type": "code",
   "execution_count": 4,
   "metadata": {},
   "outputs": [],
   "source": [
    "%pycodestyle_on"
   ]
  },
  {
   "cell_type": "code",
   "execution_count": 5,
   "metadata": {},
   "outputs": [],
   "source": [
    "testdata = \"\"\"forward 5\n",
    "down 5\n",
    "forward 8\n",
    "up 3\n",
    "down 8\n",
    "forward 2\"\"\".splitlines()\n",
    "\n",
    "inputdata = downloaded['input'].splitlines()"
   ]
  },
  {
   "cell_type": "code",
   "execution_count": 6,
   "metadata": {},
   "outputs": [],
   "source": [
    "# def parse_plan(plan: Iterable[String]) -> Iterable[Tuple[String, int]]:\n",
    "def parse_plan(plan):\n",
    "    for plan_step in plan:\n",
    "        direction, distance_str = plan_step.split(maxsplit=2)\n",
    "        yield(direction, int(distance_str))\n",
    "\n",
    "\n",
    "def perform_plan(hor_pos: int, depth: int, plan):\n",
    "    for plan_step in plan:\n",
    "        if plan_step[0] == 'down':\n",
    "            depth += plan_step[1]\n",
    "        elif plan_step[0] == 'up':\n",
    "            depth -= plan_step[1]\n",
    "            if depth < 0:\n",
    "                depth = 0\n",
    "        elif plan_step[0] == 'forward':\n",
    "            hor_pos += plan_step[1]\n",
    "    return hor_pos, depth\n",
    "\n",
    "\n",
    "def my_part1_solution(data):\n",
    "    hor_pos, depth = perform_plan(0, 0, parse_plan(data))\n",
    "    return hor_pos * depth"
   ]
  },
  {
   "cell_type": "code",
   "execution_count": 7,
   "metadata": {},
   "outputs": [],
   "source": [
    "assert(my_part1_solution(testdata) == 150)"
   ]
  },
  {
   "cell_type": "code",
   "execution_count": 8,
   "metadata": {
    "tags": []
   },
   "outputs": [
    {
     "data": {
      "text/plain": [
       "2019945"
      ]
     },
     "execution_count": 8,
     "metadata": {},
     "output_type": "execute_result"
    }
   ],
   "source": [
    "my_part1_solution(inputdata)"
   ]
  },
  {
   "cell_type": "code",
   "execution_count": 9,
   "metadata": {},
   "outputs": [
    {
     "data": {
      "text/html": [
       "\n",
       "<p>Your puzzle answer was <code>2019945</code>.</p>"
      ],
      "text/plain": [
       "<IPython.core.display.HTML object>"
      ]
     },
     "execution_count": 9,
     "metadata": {},
     "output_type": "execute_result"
    }
   ],
   "source": [
    "HTML(downloaded['part1_footer'])"
   ]
  },
  {
   "cell_type": "markdown",
   "metadata": {},
   "source": [
    "## Part Two"
   ]
  },
  {
   "cell_type": "code",
   "execution_count": 10,
   "metadata": {},
   "outputs": [
    {
     "data": {
      "text/html": [
       "<h2 id=\"part2\">--- Part Two ---</h2><p>Based on your calculations, the planned course doesn't seem to make any sense. You find the submarine manual and discover that the process is actually slightly more complicated.</p>\n",
       "<p>In addition to horizontal position and depth, you'll also need to track a third value, <em>aim</em>, which also starts at <code>0</code>. The commands also mean something entirely different than you first thought:</p>\n",
       "<ul>\n",
       "<li><code>down X</code> <em>increases</em> your aim by <code>X</code> units.</li>\n",
       "<li><code>up X</code> <em>decreases</em> your aim by <code>X</code> units.</li>\n",
       "<li><code>forward X</code> does two things:<ul>\n",
       "  <li>It increases your horizontal position by <code>X</code> units.</li>\n",
       "  <li>It increases your depth by your aim <em>multiplied by</em> <code>X</code>.</li>\n",
       "</ul></li>\n",
       "</ul>\n",
       "<p>Again note that since you're on a submarine, <code>down</code> and <code>up</code> do the opposite of what you might expect: \"down\" means aiming in the positive direction.</p>\n",
       "<p>Now, the above example does something different:</p>\n",
       "<ul>\n",
       "<li><code>forward 5</code> adds <code>5</code> to your horizontal position, a total of <code>5</code>. Because your aim is <code>0</code>, your depth does not change.</li>\n",
       "<li><code>down 5</code> adds <code>5</code> to your aim, resulting in a value of <code>5</code>.</li>\n",
       "<li><code>forward 8</code> adds <code>8</code> to your horizontal position, a total of <code>13</code>. Because your aim is <code>5</code>, your depth increases by <code>8*5=40</code>.</li>\n",
       "<li><code>up 3</code> decreases your aim by <code>3</code>, resulting in a value of <code>2</code>.</li>\n",
       "<li><code>down 8</code> adds <code>8</code> to your aim, resulting in a value of <code>10</code>.</li>\n",
       "<li><code>forward 2</code> adds <code>2</code> to your horizontal position, a total of <code>15</code>.  Because your aim is <code>10</code>, your depth increases by <code>2*10=20</code> to a total of <code>60</code>.</li>\n",
       "</ul>\n",
       "<p>After following these new instructions, you would have a horizontal position of <code>15</code> and a depth of <code>60</code>. (Multiplying these produces <code><em>900</em></code>.)</p>\n",
       "<p>Using this new interpretation of the commands, calculate the horizontal position and depth you would have after following the planned course. <em>What do you get if you multiply your final horizontal position by your final depth?</em></p>\n"
      ],
      "text/plain": [
       "<IPython.core.display.HTML object>"
      ]
     },
     "execution_count": 10,
     "metadata": {},
     "output_type": "execute_result"
    }
   ],
   "source": [
    "HTML(downloaded['part2'])"
   ]
  },
  {
   "cell_type": "code",
   "execution_count": 11,
   "metadata": {
    "tags": []
   },
   "outputs": [],
   "source": [
    "def perform_plan2(hor_pos: int, depth: int, aim: int, plan):\n",
    "    for plan_step in plan:\n",
    "        if plan_step[0] == 'down':\n",
    "            aim += plan_step[1]\n",
    "        elif plan_step[0] == 'up':\n",
    "            aim -= plan_step[1]\n",
    "        elif plan_step[0] == 'forward':\n",
    "            hor_pos += plan_step[1]\n",
    "            depth += plan_step[1] * aim\n",
    "            if depth < 0:\n",
    "                depth = 0\n",
    "    return hor_pos, depth\n",
    "\n",
    "\n",
    "def my_part2_solution(data):\n",
    "    hor_pos, depth = perform_plan2(0, 0, 0, parse_plan(data))\n",
    "    return hor_pos * depth"
   ]
  },
  {
   "cell_type": "code",
   "execution_count": 12,
   "metadata": {},
   "outputs": [],
   "source": [
    "assert(my_part2_solution(testdata) == 900)"
   ]
  },
  {
   "cell_type": "code",
   "execution_count": 13,
   "metadata": {},
   "outputs": [
    {
     "data": {
      "text/plain": [
       "1599311480"
      ]
     },
     "execution_count": 13,
     "metadata": {},
     "output_type": "execute_result"
    }
   ],
   "source": [
    "my_part2_solution(inputdata)"
   ]
  },
  {
   "cell_type": "code",
   "execution_count": 14,
   "metadata": {},
   "outputs": [
    {
     "data": {
      "text/html": [
       "\n",
       "<p>Your puzzle answer was <code>1599311480</code>.</p><p class=\"day-success\">Both parts of this puzzle are complete! They provide two gold stars: **</p>\n",
       "<p>At this point, you should <a href=\"/2021\">return to your Advent calendar</a> and try another puzzle.</p>\n",
       "<p>If you still want to see it, you can <a href=\"2/input\" target=\"_blank\">get your puzzle input</a>.</p>\n",
       "<p>You can also <span class=\"share\">[Share<span class=\"share-content\">on\n",
       "  <a href=\"https://twitter.com/intent/tweet?text=I%27ve+completed+%22Dive%21%22+%2D+Day+2+%2D+Advent+of+Code+2021&amp;url=https%3A%2F%2Fadventofcode%2Ecom%2F2021%2Fday%2F2&amp;related=ericwastl&amp;hashtags=AdventOfCode\" target=\"_blank\">Twitter</a>\n",
       "  <a href=\"javascript:void(0);\" onclick=\"var mastodon_instance=prompt('Mastodon Instance / Server Name?'); if(typeof mastodon_instance==='string' && mastodon_instance.length){this.href='https://'+mastodon_instance+'/share?text=I%27ve+completed+%22Dive%21%22+%2D+Day+2+%2D+Advent+of+Code+2021+%23AdventOfCode+https%3A%2F%2Fadventofcode%2Ecom%2F2021%2Fday%2F2'}else{return false;}\" target=\"_blank\">Mastodon</a\n",
       "></span>]</span> this puzzle.</p>\n"
      ],
      "text/plain": [
       "<IPython.core.display.HTML object>"
      ]
     },
     "execution_count": 14,
     "metadata": {},
     "output_type": "execute_result"
    }
   ],
   "source": [
    "HTML(downloaded['part2_footer'])"
   ]
  }
 ],
 "metadata": {
  "interpreter": {
   "hash": "aee8b7b246df8f9039afb4144a1f6fd8d2ca17a180786b69acc140d282b71a49"
  },
  "kernelspec": {
   "display_name": "Python 3.9.7 64-bit",
   "name": "python3"
  },
  "language_info": {
   "codemirror_mode": {
    "name": "ipython",
    "version": 3
   },
   "file_extension": ".py",
   "mimetype": "text/x-python",
   "name": "python",
   "nbconvert_exporter": "python",
   "pygments_lexer": "ipython3",
   "version": "3.10.0"
  }
 },
 "nbformat": 4,
 "nbformat_minor": 4
}

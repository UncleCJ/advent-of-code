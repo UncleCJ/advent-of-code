{
 "cells": [
  {
   "attachments": {},
   "cell_type": "markdown",
   "metadata": {},
   "source": [
    "# Day 5: Hydrothermal Venture\n",
    "\n",
    "[*Advent of Code 2021 day 5*](https://adventofcode.com/2021/day/5) and [*solution megathread*](https://redd.it/r9824c)\n",
    "\n",
    "[![nbviewer](https://raw.githubusercontent.com/jupyter/design/master/logos/Badges/nbviewer_badge.svg)](https://nbviewer.jupyter.org/github/UncleCJ/advent-of-code/blob/cj/2021/05/code.ipynb) [![Binder](https://mybinder.org/badge_logo.svg)](https://mybinder.org/v2/gh/UncleCJ/advent-of-code/cj?filepath=2021%2F05%2Fcode.ipynb)"
   ]
  },
  {
   "cell_type": "code",
   "execution_count": 1,
   "metadata": {},
   "outputs": [
    {
     "name": "stdout",
     "output_type": "stream",
     "text": [
      "Writing 'downloaded' (dict) to file 'downloaded'.\n"
     ]
    }
   ],
   "source": [
    "from IPython.display import HTML\n",
    "import sys\n",
    "\n",
    "sys.path.append('../../')\n",
    "import common\n",
    "\n",
    "downloaded = common.refresh()\n",
    "%store downloaded >downloaded"
   ]
  },
  {
   "cell_type": "markdown",
   "metadata": {},
   "source": [
    "## Part One"
   ]
  },
  {
   "cell_type": "code",
   "execution_count": 2,
   "metadata": {},
   "outputs": [
    {
     "data": {
      "text/html": [
       "<h2>--- Day 5: Hydrothermal Venture ---</h2><p>You come across a field of <a href=\"https://en.wikipedia.org/wiki/Hydrothermal_vent\" target=\"_blank\">hydrothermal vents</a> on the ocean floor! These vents constantly produce large, opaque clouds, so it would be best to avoid them if possible.</p>\n",
       "<p>They tend to form in <em>lines</em>; the submarine helpfully produces a list of nearby <span title=\"Maybe they're Bresenham vents.\">lines of vents</span> (your puzzle input) for you to review. For example:</p>\n",
       "<pre><code>0,9 -&gt; 5,9\n",
       "8,0 -&gt; 0,8\n",
       "9,4 -&gt; 3,4\n",
       "2,2 -&gt; 2,1\n",
       "7,0 -&gt; 7,4\n",
       "6,4 -&gt; 2,0\n",
       "0,9 -&gt; 2,9\n",
       "3,4 -&gt; 1,4\n",
       "0,0 -&gt; 8,8\n",
       "5,5 -&gt; 8,2\n",
       "</code></pre>\n",
       "<p>Each line of vents is given as a line segment in the format <code>x1,y1 -&gt; x2,y2</code> where <code>x1</code>,<code>y1</code> are the coordinates of one end the line segment and <code>x2</code>,<code>y2</code> are the coordinates of the other end. These line segments include the points at both ends. In other words:</p>\n",
       "<ul>\n",
       "<li>An entry like <code>1,1 -&gt; 1,3</code> covers points <code>1,1</code>, <code>1,2</code>, and <code>1,3</code>.</li>\n",
       "<li>An entry like <code>9,7 -&gt; 7,7</code> covers points <code>9,7</code>, <code>8,7</code>, and <code>7,7</code>.</li>\n",
       "</ul>\n",
       "<p>For now, <em>only consider horizontal and vertical lines</em>: lines where either <code>x1 = x2</code> or <code>y1 = y2</code>.</p>\n",
       "<p>So, the horizontal and vertical lines from the above list would produce the following diagram:</p>\n",
       "<pre><code>.......1..\n",
       "..1....1..\n",
       "..1....1..\n",
       ".......1..\n",
       ".112111211\n",
       "..........\n",
       "..........\n",
       "..........\n",
       "..........\n",
       "222111....\n",
       "</code></pre>\n",
       "<p>In this diagram, the top left corner is <code>0,0</code> and the bottom right corner is <code>9,9</code>. Each position is shown as <em>the number of lines which cover that point</em> or <code>.</code> if no line covers that point. The top-left pair of <code>1</code>s, for example, comes from <code>2,2 -&gt; 2,1</code>; the very bottom row is formed by the overlapping lines <code>0,9 -&gt; 5,9</code> and <code>0,9 -&gt; 2,9</code>.</p>\n",
       "<p>To avoid the most dangerous areas, you need to determine <em>the number of points where at least two lines overlap</em>. In the above example, this is anywhere in the diagram with a <code>2</code> or larger - a total of <code><em>5</em></code> points.</p>\n",
       "<p>Consider only horizontal and vertical lines. <em>At how many points do at least two lines overlap?</em></p>\n"
      ],
      "text/plain": [
       "<IPython.core.display.HTML object>"
      ]
     },
     "execution_count": 2,
     "metadata": {},
     "output_type": "execute_result"
    }
   ],
   "source": [
    "HTML(downloaded['part1'])"
   ]
  },
  {
   "cell_type": "markdown",
   "metadata": {},
   "source": [
    "## Boilerplate\n",
    "\n",
    "Let's try using [pycodestyle_magic](https://github.com/mattijn/pycodestyle_magic) with pycodestyle (flake8 stopped working for me in VS Code Jupyter). Now how does type checking work?"
   ]
  },
  {
   "cell_type": "code",
   "execution_count": 3,
   "metadata": {},
   "outputs": [],
   "source": [
    "%load_ext pycodestyle_magic"
   ]
  },
  {
   "cell_type": "code",
   "execution_count": 4,
   "metadata": {},
   "outputs": [],
   "source": [
    "%pycodestyle_on"
   ]
  },
  {
   "cell_type": "markdown",
   "metadata": {},
   "source": [
    "## Comments\n",
    "\n",
    "Today was feeling a bit grinding - I felt as if this could have been written using a few lines of numpy Python, but at least as I could factor out functions like `dim_to_coords` and not do everything once per x and y or per from-coordinate and to-coordinate, it felt slightly less verbose. Predictably, I've rarely encountered as many off-by-one or accidentally-swapped xs and ys as in this problem. Fortunately, Part Two became really simple, as I already was practically able to handle also diagonal lines. Small blessings... onward."
   ]
  },
  {
   "cell_type": "code",
   "execution_count": 5,
   "metadata": {},
   "outputs": [],
   "source": [
    "testdata = \"\"\"0,9 -> 5,9\n",
    "8,0 -> 0,8\n",
    "9,4 -> 3,4\n",
    "2,2 -> 2,1\n",
    "7,0 -> 7,4\n",
    "6,4 -> 2,0\n",
    "0,9 -> 2,9\n",
    "3,4 -> 1,4\n",
    "0,0 -> 8,8\n",
    "5,5 -> 8,2\"\"\".splitlines()\n",
    "\n",
    "inputdata = downloaded['input'].splitlines()"
   ]
  },
  {
   "cell_type": "code",
   "execution_count": 6,
   "metadata": {},
   "outputs": [],
   "source": [
    "Coord = tuple[int, int]\n",
    "VentLine = tuple[Coord, Coord]\n",
    "VentMap = list[list[int]]\n",
    "\n",
    "\n",
    "def parse_data(data: list[str]) -> list[VentLine]:\n",
    "    result = []\n",
    "    for line in data:\n",
    "        cf, ct = line.split(' -> ')\n",
    "        x1, y1 = tuple(map(int, cf.split(',')))\n",
    "        x2, y2 = tuple(map(int, ct.split(',')))\n",
    "        result.append(((x1, y1), (x2, y2)))\n",
    "    return result\n",
    "\n",
    "\n",
    "def ventmap_to_string(ventmap: VentMap) -> str:\n",
    "    rows = []\n",
    "    for row in ventmap:\n",
    "        rows.append(''.join(str(c) if c != 0 else '.' for c in row))\n",
    "    return '\\n'.join(rows)\n",
    "\n",
    "\n",
    "def filter_orthogonal(ventlines: list[VentLine]) -> list[VentLine]:\n",
    "    # What is the right way to unpack tuples for use in a filter?\n",
    "    def orth_filter(cp):\n",
    "        cf, ct = cp\n",
    "        return cf[0] == ct[0] or cf[1] == ct[1]\n",
    "    return filter(orth_filter, ventlines)\n",
    "\n",
    "\n",
    "def dim_to_coords(df: int, dt: int, length: int) -> list[int]:\n",
    "    if df == dt:\n",
    "        return [df] * length\n",
    "\n",
    "    assert(abs(df - dt) + 1 == length)\n",
    "    if dt < df:\n",
    "        return list(range(df, dt - 1, -1))\n",
    "    else:\n",
    "        return list(range(df, dt + 1, 1))\n",
    "\n",
    "\n",
    "def line_to_coords(line: VentLine) -> list[Coord]:\n",
    "    cf, ct = line\n",
    "    length = max(abs(cf[0] - ct[0]),\n",
    "                 abs(cf[1] - ct[1])) + 1\n",
    "    xs = dim_to_coords(cf[0], ct[0], length)\n",
    "    ys = dim_to_coords(cf[1], ct[1], length)\n",
    "    return list(zip(xs, ys))\n",
    "\n",
    "\n",
    "def lines_to_coords(lines: list[VentLine]) -> list[Coord]:\n",
    "    result = []\n",
    "    for line in lines:\n",
    "        result += line_to_coords(line)\n",
    "    return result\n",
    "\n",
    "\n",
    "def allocate_map(coords: list[Coord]) -> VentMap:\n",
    "    size = max(max(coords, key=lambda c: c[0])[0],\n",
    "               max(coords, key=lambda c: c[1])[1]) + 1\n",
    "    zero_row = [0] * size\n",
    "    return [zero_row[:] for _ in range(size)]\n",
    "\n",
    "\n",
    "def note_coords(ventmap: VentMap, coords: list[Coord]):\n",
    "    for cx, cy in coords:\n",
    "        ventmap[cy][cx] += 1\n",
    "\n",
    "\n",
    "def count_overlaps(ventmap: VentMap) -> int:\n",
    "    return sum(sum(c > 1 for c in row)\n",
    "               for row in ventmap)\n",
    "\n",
    "\n",
    "def my_part1_solution(data: list[str],\n",
    "                      debug: bool = False) -> int:\n",
    "    ventlines = parse_data(data)\n",
    "    lines_orth = filter_orthogonal(ventlines)\n",
    "    coords_orth = lines_to_coords(lines_orth)\n",
    "    ventmap = allocate_map(coords_orth)\n",
    "    note_coords(ventmap, coords_orth)\n",
    "    if debug:\n",
    "        print(ventmap_to_string(ventmap))\n",
    "    return count_overlaps(ventmap)"
   ]
  },
  {
   "cell_type": "code",
   "execution_count": 7,
   "metadata": {},
   "outputs": [
    {
     "name": "stdout",
     "output_type": "stream",
     "text": [
      ".......1..\n",
      "..1....1..\n",
      "..1....1..\n",
      ".......1..\n",
      ".112111211\n",
      "..........\n",
      "..........\n",
      "..........\n",
      "..........\n",
      "222111....\n"
     ]
    }
   ],
   "source": [
    "assert(my_part1_solution(testdata, debug=True) == 5)"
   ]
  },
  {
   "cell_type": "code",
   "execution_count": 8,
   "metadata": {},
   "outputs": [
    {
     "data": {
      "text/plain": [
       "4826"
      ]
     },
     "execution_count": 8,
     "metadata": {},
     "output_type": "execute_result"
    }
   ],
   "source": [
    "my_part1_solution(inputdata)"
   ]
  },
  {
   "cell_type": "code",
   "execution_count": 9,
   "metadata": {},
   "outputs": [
    {
     "data": {
      "text/html": [
       "\n",
       "<p>Your puzzle answer was <code>4826</code>.</p>"
      ],
      "text/plain": [
       "<IPython.core.display.HTML object>"
      ]
     },
     "execution_count": 9,
     "metadata": {},
     "output_type": "execute_result"
    }
   ],
   "source": [
    "HTML(downloaded['part1_footer'])"
   ]
  },
  {
   "cell_type": "markdown",
   "metadata": {},
   "source": [
    "## Part Two"
   ]
  },
  {
   "cell_type": "code",
   "execution_count": 10,
   "metadata": {},
   "outputs": [
    {
     "data": {
      "text/html": [
       "<h2 id=\"part2\">--- Part Two ---</h2><p>Unfortunately, considering only horizontal and vertical lines doesn't give you the full picture; you need to also consider <em>diagonal lines</em>.</p>\n",
       "<p>Because of the limits of the hydrothermal vent mapping system, the lines in your list will only ever be horizontal, vertical, or a diagonal line at exactly 45 degrees. In other words:</p>\n",
       "<ul>\n",
       "<li>An entry like <code>1,1 -&gt; 3,3</code> covers points <code>1,1</code>, <code>2,2</code>, and <code>3,3</code>.</li>\n",
       "<li>An entry like <code>9,7 -&gt; 7,9</code> covers points <code>9,7</code>, <code>8,8</code>, and <code>7,9</code>.</li>\n",
       "</ul>\n",
       "<p>Considering all lines from the above example would now produce the following diagram:</p>\n",
       "<pre><code>1.1....11.\n",
       ".111...2..\n",
       "..2.1.111.\n",
       "...1.2.2..\n",
       ".112313211\n",
       "...1.2....\n",
       "..1...1...\n",
       ".1.....1..\n",
       "1.......1.\n",
       "222111....\n",
       "</code></pre>\n",
       "<p>You still need to determine <em>the number of points where at least two lines overlap</em>. In the above example, this is still anywhere in the diagram with a <code>2</code> or larger - now a total of <code><em>12</em></code> points.</p>\n",
       "<p>Consider all of the lines. <em>At how many points do at least two lines overlap?</em></p>\n"
      ],
      "text/plain": [
       "<IPython.core.display.HTML object>"
      ]
     },
     "execution_count": 10,
     "metadata": {},
     "output_type": "execute_result"
    }
   ],
   "source": [
    "HTML(downloaded['part2'])"
   ]
  },
  {
   "cell_type": "code",
   "execution_count": 11,
   "metadata": {
    "tags": []
   },
   "outputs": [],
   "source": [
    "\n",
    "def my_part2_solution(data: list[str],\n",
    "                      debug: bool = False) -> int:\n",
    "    ventlines = parse_data(data)\n",
    "    coords = lines_to_coords(ventlines)\n",
    "    ventmap = allocate_map(coords)\n",
    "    note_coords(ventmap, coords)\n",
    "    if debug:\n",
    "        print(ventmap_to_string(ventmap))\n",
    "    return count_overlaps(ventmap)"
   ]
  },
  {
   "cell_type": "code",
   "execution_count": 12,
   "metadata": {},
   "outputs": [
    {
     "name": "stdout",
     "output_type": "stream",
     "text": [
      "1.1....11.\n",
      ".111...2..\n",
      "..2.1.111.\n",
      "...1.2.2..\n",
      ".112313211\n",
      "...1.2....\n",
      "..1...1...\n",
      ".1.....1..\n",
      "1.......1.\n",
      "222111....\n"
     ]
    }
   ],
   "source": [
    "assert(my_part2_solution(testdata, debug=True) == 12)"
   ]
  },
  {
   "cell_type": "code",
   "execution_count": 13,
   "metadata": {},
   "outputs": [
    {
     "data": {
      "text/plain": [
       "16793"
      ]
     },
     "execution_count": 13,
     "metadata": {},
     "output_type": "execute_result"
    }
   ],
   "source": [
    "my_part2_solution(inputdata)"
   ]
  },
  {
   "cell_type": "code",
   "execution_count": 14,
   "metadata": {},
   "outputs": [
    {
     "data": {
      "text/html": [
       "\n",
       "<p>Your puzzle answer was <code>16793</code>.</p><p class=\"day-success\">Both parts of this puzzle are complete! They provide two gold stars: **</p>\n",
       "<p>At this point, you should <a href=\"/2021\">return to your Advent calendar</a> and try another puzzle.</p>\n",
       "<p>If you still want to see it, you can <a href=\"5/input\" target=\"_blank\">get your puzzle input</a>.</p>\n",
       "<p>You can also <span class=\"share\">[Share<span class=\"share-content\">on\n",
       "  <a href=\"https://twitter.com/intent/tweet?text=I%27ve+completed+%22Hydrothermal+Venture%22+%2D+Day+5+%2D+Advent+of+Code+2021&amp;url=https%3A%2F%2Fadventofcode%2Ecom%2F2021%2Fday%2F5&amp;related=ericwastl&amp;hashtags=AdventOfCode\" target=\"_blank\">Twitter</a>\n",
       "  <a href=\"javascript:void(0);\" onclick=\"var mastodon_instance=prompt('Mastodon Instance / Server Name?'); if(typeof mastodon_instance==='string' && mastodon_instance.length){this.href='https://'+mastodon_instance+'/share?text=I%27ve+completed+%22Hydrothermal+Venture%22+%2D+Day+5+%2D+Advent+of+Code+2021+%23AdventOfCode+https%3A%2F%2Fadventofcode%2Ecom%2F2021%2Fday%2F5'}else{return false;}\" target=\"_blank\">Mastodon</a\n",
       "></span>]</span> this puzzle.</p>\n"
      ],
      "text/plain": [
       "<IPython.core.display.HTML object>"
      ]
     },
     "execution_count": 14,
     "metadata": {},
     "output_type": "execute_result"
    }
   ],
   "source": [
    "HTML(downloaded['part2_footer'])"
   ]
  }
 ],
 "metadata": {
  "kernelspec": {
   "display_name": "Python 3",
   "language": "python",
   "name": "python3"
  },
  "language_info": {
   "codemirror_mode": {
    "name": "ipython",
    "version": 3
   },
   "file_extension": ".py",
   "mimetype": "text/x-python",
   "name": "python",
   "nbconvert_exporter": "python",
   "pygments_lexer": "ipython3",
   "version": "3.10.6 (main, Nov 14 2022, 16:10:14) [GCC 11.3.0]"
  },
  "vscode": {
   "interpreter": {
    "hash": "e7370f93d1d0cde622a1f8e1c04877d8463912d04d973331ad4851f04de6915a"
   }
  }
 },
 "nbformat": 4,
 "nbformat_minor": 4
}

{
 "cells": [
  {
   "attachments": {},
   "cell_type": "markdown",
   "metadata": {},
   "source": [
    "# Day 14: Extended Polymerization\n",
    "\n",
    "[*Advent of Code 2021 day 14*](https://adventofcode.com/2021/day/14) and [*solution megathread*](https://redd.it/rfzq6f)\n",
    "\n",
    "[![nbviewer](https://raw.githubusercontent.com/jupyter/design/master/logos/Badges/nbviewer_badge.svg)](https://nbviewer.jupyter.org/github/UncleCJ/advent-of-code/blob/cj/2021/14/code.ipynb) [![Binder](https://mybinder.org/badge_logo.svg)](https://mybinder.org/v2/gh/UncleCJ/advent-of-code/cj?filepath=2021%2F14%2Fcode.ipynb)"
   ]
  },
  {
   "cell_type": "code",
   "execution_count": 1,
   "metadata": {},
   "outputs": [
    {
     "name": "stdout",
     "output_type": "stream",
     "text": [
      "Writing 'downloaded' (dict) to file 'downloaded'.\n"
     ]
    }
   ],
   "source": [
    "from IPython.display import HTML\n",
    "import sys\n",
    "\n",
    "sys.path.append('../../')\n",
    "import common\n",
    "\n",
    "downloaded = common.refresh()\n",
    "%store downloaded >downloaded"
   ]
  },
  {
   "cell_type": "markdown",
   "metadata": {},
   "source": [
    "## Part One"
   ]
  },
  {
   "cell_type": "code",
   "execution_count": 2,
   "metadata": {},
   "outputs": [
    {
     "data": {
      "text/html": [
       "<h2>--- Day 14: Extended Polymerization ---</h2><p>The incredible pressures at this depth are starting to put a strain on your submarine. The submarine has <a href=\"https://en.wikipedia.org/wiki/Polymerization\" target=\"_blank\">polymerization</a> equipment that would produce suitable materials to reinforce the submarine, and the nearby volcanically-active caves should even have the necessary input elements in sufficient quantities.</p>\n",
       "<p>The submarine manual contains <span title=\"HO&#xa;&#xa;HO -&gt; OH\">instructions</span> for finding the optimal polymer formula; specifically, it offers a <em>polymer template</em> and a list of <em>pair insertion</em> rules (your puzzle input). You just need to work out what polymer would result after repeating the pair insertion process a few times.</p>\n",
       "<p>For example:</p>\n",
       "<pre><code>NNCB\n",
       "\n",
       "CH -&gt; B\n",
       "HH -&gt; N\n",
       "CB -&gt; H\n",
       "NH -&gt; C\n",
       "HB -&gt; C\n",
       "HC -&gt; B\n",
       "HN -&gt; C\n",
       "NN -&gt; C\n",
       "BH -&gt; H\n",
       "NC -&gt; B\n",
       "NB -&gt; B\n",
       "BN -&gt; B\n",
       "BB -&gt; N\n",
       "BC -&gt; B\n",
       "CC -&gt; N\n",
       "CN -&gt; C\n",
       "</code></pre>\n",
       "<p>The first line is the <em>polymer template</em> - this is the starting point of the process.</p>\n",
       "<p>The following section defines the <em>pair insertion</em> rules. A rule like <code>AB -&gt; C</code> means that when elements <code>A</code> and <code>B</code> are immediately adjacent, element <code>C</code> should be inserted between them. These insertions all happen simultaneously.</p>\n",
       "<p>So, starting with the polymer template <code>NNCB</code>, the first step simultaneously considers all three pairs:</p>\n",
       "<ul>\n",
       "<li>The first pair (<code>NN</code>) matches the rule <code>NN -&gt; C</code>, so element <code><em>C</em></code> is inserted between the first <code>N</code> and the second <code>N</code>.</li>\n",
       "<li>The second pair (<code>NC</code>) matches the rule <code>NC -&gt; B</code>, so element <code><em>B</em></code> is inserted between the <code>N</code> and the <code>C</code>.</li>\n",
       "<li>The third pair (<code>CB</code>) matches the rule <code>CB -&gt; H</code>, so element <code><em>H</em></code> is inserted between the <code>C</code> and the <code>B</code>.</li>\n",
       "</ul>\n",
       "<p>Note that these pairs overlap: the second element of one pair is the first element of the next pair. Also, because all pairs are considered simultaneously, inserted elements are not considered to be part of a pair until the next step.</p>\n",
       "<p>After the first step of this process, the polymer becomes <code>N<em>C</em>N<em>B</em>C<em>H</em>B</code>.</p>\n",
       "<p>Here are the results of a few steps using the above rules:</p>\n",
       "<pre><code>Template:     NNCB\n",
       "After step 1: NCNBCHB\n",
       "After step 2: NBCCNBBBCBHCB\n",
       "After step 3: NBBBCNCCNBBNBNBBCHBHHBCHB\n",
       "After step 4: NBBNBNBBCCNBCNCCNBBNBBNBBBNBBNBBCBHCBHHNHCBBCBHCB\n",
       "</code></pre>\n",
       "<p>This polymer grows quickly. After step 5, it has length 97; After step 10, it has length 3073. After step 10, <code>B</code> occurs 1749 times, <code>C</code> occurs 298 times, <code>H</code> occurs 161 times, and <code>N</code> occurs 865 times; taking the quantity of the most common element (<code>B</code>, 1749) and subtracting the quantity of the least common element (<code>H</code>, 161) produces <code>1749 - 161 = <em>1588</em></code>.</p>\n",
       "<p>Apply 10 steps of pair insertion to the polymer template and find the most and least common elements in the result. <em>What do you get if you take the quantity of the most common element and subtract the quantity of the least common element?</em></p>\n"
      ],
      "text/plain": [
       "<IPython.core.display.HTML object>"
      ]
     },
     "execution_count": 2,
     "metadata": {},
     "output_type": "execute_result"
    }
   ],
   "source": [
    "HTML(downloaded['part1'])"
   ]
  },
  {
   "cell_type": "markdown",
   "metadata": {},
   "source": [
    "## Boilerplate\n",
    "\n",
    "Let's try using [pycodestyle_magic](https://github.com/mattijn/pycodestyle_magic) with pycodestyle (flake8 stopped working for me in VS Code Jupyter). Now how does type checking work?"
   ]
  },
  {
   "cell_type": "code",
   "execution_count": 3,
   "metadata": {},
   "outputs": [],
   "source": [
    "%load_ext pycodestyle_magic"
   ]
  },
  {
   "cell_type": "code",
   "execution_count": 4,
   "metadata": {},
   "outputs": [],
   "source": [
    "%pycodestyle_on"
   ]
  },
  {
   "cell_type": "markdown",
   "metadata": {},
   "source": [
    "## Comments\n",
    "\n",
    "This time I won't ignore the complexity hint - and I see little reason a bigram approach wouldn't work. Let's go."
   ]
  },
  {
   "cell_type": "code",
   "execution_count": 5,
   "metadata": {},
   "outputs": [],
   "source": [
    "testdata = []\n",
    "testdata.append((\"\"\"NNCB\n",
    "\n",
    "CH -> B\n",
    "HH -> N\n",
    "CB -> H\n",
    "NH -> C\n",
    "HB -> C\n",
    "HC -> B\n",
    "HN -> C\n",
    "NN -> C\n",
    "BH -> H\n",
    "NC -> B\n",
    "NB -> B\n",
    "BN -> B\n",
    "BB -> N\n",
    "BC -> B\n",
    "CC -> N\n",
    "CN -> C\"\"\".splitlines()))\n",
    "\n",
    "inputdata = downloaded['input'].splitlines()"
   ]
  },
  {
   "cell_type": "code",
   "execution_count": 6,
   "metadata": {},
   "outputs": [
    {
     "data": {
      "text/plain": [
       "['NNCB',\n",
       " '',\n",
       " 'CH -> B',\n",
       " 'HH -> N',\n",
       " 'CB -> H',\n",
       " 'NH -> C',\n",
       " 'HB -> C',\n",
       " 'HC -> B',\n",
       " 'HN -> C',\n",
       " 'NN -> C',\n",
       " 'BH -> H',\n",
       " 'NC -> B',\n",
       " 'NB -> B',\n",
       " 'BN -> B',\n",
       " 'BB -> N',\n",
       " 'BC -> B',\n",
       " 'CC -> N',\n",
       " 'CN -> C']"
      ]
     },
     "execution_count": 6,
     "metadata": {},
     "output_type": "execute_result"
    }
   ],
   "source": [
    "testdata[0]"
   ]
  },
  {
   "cell_type": "code",
   "execution_count": 7,
   "metadata": {},
   "outputs": [],
   "source": [
    "from collections.abc import Iterable\n",
    "\n",
    "\n",
    "def parse_data(data: list[str]) -> \\\n",
    "        tuple[str, dict[str, str]]:\n",
    "    result_dict = dict()\n",
    "    for line in data[2:]:\n",
    "        k, v = line.split(' -> ', 2)\n",
    "        result_dict[k] = v\n",
    "    return data[0], result_dict\n",
    "\n",
    "\n",
    "def defaultdict(d: dict, k: str, v: int = 0):\n",
    "    if not v:\n",
    "        v = 1\n",
    "    if k not in d:\n",
    "        d[k] = v\n",
    "    else:\n",
    "        d[k] += v\n",
    "\n",
    "\n",
    "def bigrams(template: str) -> dict[str, int]:\n",
    "    assert(len(template) > 3)\n",
    "    result = dict()\n",
    "    for c1, c2 in zip(template[:-1], template[1:]):\n",
    "        bg = c1 + c2\n",
    "        defaultdict(result, bg)\n",
    "    return result\n",
    "\n",
    "\n",
    "def apply_poly(bgs: dict[str, int],\n",
    "               poly: dict[str, str],\n",
    "               last_bg: str) -> tuple[dict[str, int], str]:\n",
    "    result = dict()\n",
    "    for bg, c in bgs.items():\n",
    "        if bg not in poly:\n",
    "            defaultdict(result, bg, c)\n",
    "        else:\n",
    "            if bg == last_bg:\n",
    "                last_bg = poly[bg] + bg[1]\n",
    "            p1, p2 = bg[0] + poly[bg], poly[bg] + bg[1]\n",
    "            defaultdict(result, p1, c)\n",
    "            defaultdict(result, p2, c)\n",
    "    return result, last_bg\n",
    "\n",
    "\n",
    "def count_chars(bgs: dict[str, int], last_bg: str) -> dict[str, int]:\n",
    "    result = dict()\n",
    "    for k, v in bgs.items():\n",
    "        defaultdict(result, k[0], v)\n",
    "    defaultdict(result, last_bg[1])\n",
    "    return result\n",
    "\n",
    "\n",
    "def my_part1_solution(data: str,\n",
    "                      debug: bool = False) -> int:\n",
    "    template, poly = parse_data(data)\n",
    "    bgs = bigrams(template)\n",
    "    last_bg = template[-2:]\n",
    "    for i in range(1, 10 + 1):\n",
    "        bgs, last_bg = apply_poly(bgs, poly, last_bg)\n",
    "        if debug:\n",
    "            print(f'After cycle {i}: {bgs}')\n",
    "    elements = count_chars(bgs, last_bg)\n",
    "    if debug:\n",
    "        print(f'Resulting elements: {elements}')\n",
    "    return max(elements.values()) - min(elements.values())"
   ]
  },
  {
   "cell_type": "code",
   "execution_count": 8,
   "metadata": {},
   "outputs": [
    {
     "name": "stdout",
     "output_type": "stream",
     "text": [
      "After cycle 1: {'NC': 1, 'CN': 1, 'NB': 1, 'BC': 1, 'CH': 1, 'HB': 1}\n",
      "After cycle 2: {'NB': 2, 'BC': 2, 'CC': 1, 'CN': 1, 'BB': 2, 'CB': 2, 'BH': 1, 'HC': 1}\n",
      "After cycle 3: {'NB': 4, 'BB': 4, 'BC': 3, 'CN': 2, 'NC': 1, 'CC': 1, 'BN': 2, 'CH': 2, 'HB': 3, 'BH': 1, 'HH': 1}\n",
      "After cycle 4: {'NB': 9, 'BB': 9, 'BN': 6, 'BC': 4, 'CC': 2, 'CN': 3, 'NC': 1, 'CB': 5, 'BH': 3, 'HC': 3, 'HH': 1, 'HN': 1, 'NH': 1}\n",
      "After cycle 5: {'NB': 19, 'BB': 19, 'BN': 15, 'BC': 8, 'CN': 6, 'NC': 3, 'CC': 3, 'CH': 6, 'HB': 8, 'BH': 3, 'HH': 3, 'HN': 1, 'NH': 1, 'HC': 1}\n",
      "After cycle 6: {'NB': 41, 'BB': 42, 'BN': 34, 'BC': 12, 'CC': 6, 'CN': 10, 'NC': 4, 'CB': 14, 'BH': 9, 'HC': 9, 'HH': 3, 'HN': 3, 'NH': 3, 'CH': 1, 'HB': 1}\n",
      "After cycle 7: {'NB': 87, 'BB': 87, 'BN': 76, 'BC': 25, 'CN': 19, 'NC': 9, 'CC': 10, 'CH': 17, 'HB': 23, 'BH': 10, 'HH': 9, 'HN': 3, 'NH': 3, 'HC': 4, 'CB': 2}\n",
      "After cycle 8: {'NB': 183, 'BB': 188, 'BN': 163, 'BC': 38, 'CC': 19, 'CN': 32, 'NC': 13, 'CB': 40, 'BH': 27, 'HC': 26, 'HH': 10, 'HN': 9, 'NH': 9, 'CH': 5, 'HB': 6}\n",
      "After cycle 9: {'NB': 384, 'BB': 384, 'BN': 351, 'BC': 77, 'CN': 60, 'NC': 28, 'CC': 32, 'CH': 49, 'HB': 66, 'BH': 32, 'HH': 27, 'HN': 10, 'NH': 10, 'HC': 15, 'CB': 11}\n",
      "After cycle 10: {'NB': 796, 'BB': 812, 'BN': 735, 'BC': 120, 'CC': 60, 'CN': 102, 'NC': 42, 'CB': 115, 'BH': 81, 'HC': 76, 'HH': 32, 'HN': 27, 'NH': 27, 'CH': 21, 'HB': 26}\n",
      "Resulting elements: {'N': 865, 'B': 1749, 'C': 298, 'H': 161}\n"
     ]
    },
    {
     "data": {
      "text/plain": [
       "1588"
      ]
     },
     "execution_count": 8,
     "metadata": {},
     "output_type": "execute_result"
    }
   ],
   "source": [
    "my_part1_solution(testdata[0], debug=True)\n",
    "# assert(my_part1_solution(testdata[0][0], debug=True)\n",
    "#     == testdata[0][1])"
   ]
  },
  {
   "cell_type": "code",
   "execution_count": 9,
   "metadata": {},
   "outputs": [
    {
     "data": {
      "text/plain": [
       "4517"
      ]
     },
     "execution_count": 9,
     "metadata": {},
     "output_type": "execute_result"
    }
   ],
   "source": [
    "my_part1_solution(inputdata)"
   ]
  },
  {
   "cell_type": "code",
   "execution_count": 10,
   "metadata": {},
   "outputs": [
    {
     "data": {
      "text/html": [
       "\n",
       "<p>Your puzzle answer was <code>4517</code>.</p>"
      ],
      "text/plain": [
       "<IPython.core.display.HTML object>"
      ]
     },
     "execution_count": 10,
     "metadata": {},
     "output_type": "execute_result"
    }
   ],
   "source": [
    "HTML(downloaded['part1_footer'])"
   ]
  },
  {
   "cell_type": "markdown",
   "metadata": {},
   "source": [
    "## Part Two"
   ]
  },
  {
   "cell_type": "code",
   "execution_count": 11,
   "metadata": {},
   "outputs": [
    {
     "data": {
      "text/html": [
       "<h2 id=\"part2\">--- Part Two ---</h2><p>The resulting polymer isn't nearly strong enough to reinforce the submarine. You'll need to run more steps of the pair insertion process; a total of <em>40 steps</em> should do it.</p>\n",
       "<p>In the above example, the most common element is <code>B</code> (occurring <code>2192039569602</code> times) and the least common element is <code>H</code> (occurring <code>3849876073</code> times); subtracting these produces <code><em>2188189693529</em></code>.</p>\n",
       "<p>Apply <em>40</em> steps of pair insertion to the polymer template and find the most and least common elements in the result. <em>What do you get if you take the quantity of the most common element and subtract the quantity of the least common element?</em></p>\n"
      ],
      "text/plain": [
       "<IPython.core.display.HTML object>"
      ]
     },
     "execution_count": 11,
     "metadata": {},
     "output_type": "execute_result"
    }
   ],
   "source": [
    "HTML(downloaded['part2'])"
   ]
  },
  {
   "cell_type": "code",
   "execution_count": 12,
   "metadata": {
    "tags": []
   },
   "outputs": [],
   "source": [
    "def my_part2_solution(data: str,\n",
    "                      debug: bool = False) -> int:\n",
    "    template, poly = parse_data(data)\n",
    "    bgs = bigrams(template)\n",
    "    last_bg = template[-2:]\n",
    "    for i in range(1, 40 + 1):\n",
    "        bgs, last_bg = apply_poly(bgs, poly, last_bg)\n",
    "        if debug:\n",
    "            print(f'After cycle {i}: {bgs}')\n",
    "    elements = count_chars(bgs, last_bg)\n",
    "    if debug:\n",
    "        print(f'Resulting elements: {elements}')\n",
    "    return max(elements.values()) - min(elements.values())"
   ]
  },
  {
   "cell_type": "code",
   "execution_count": 13,
   "metadata": {},
   "outputs": [
    {
     "data": {
      "text/plain": [
       "2188189693529"
      ]
     },
     "execution_count": 13,
     "metadata": {},
     "output_type": "execute_result"
    }
   ],
   "source": [
    "my_part2_solution(testdata[0])"
   ]
  },
  {
   "cell_type": "code",
   "execution_count": 14,
   "metadata": {},
   "outputs": [
    {
     "data": {
      "text/plain": [
       "4704817645083"
      ]
     },
     "execution_count": 14,
     "metadata": {},
     "output_type": "execute_result"
    }
   ],
   "source": [
    "my_part2_solution(inputdata)"
   ]
  },
  {
   "cell_type": "code",
   "execution_count": 15,
   "metadata": {},
   "outputs": [
    {
     "data": {
      "text/html": [
       "\n",
       "<p>Your puzzle answer was <code>4704817645083</code>.</p><p class=\"day-success\">Both parts of this puzzle are complete! They provide two gold stars: **</p>\n",
       "<p>At this point, you should <a href=\"/2021\">return to your Advent calendar</a> and try another puzzle.</p>\n",
       "<p>If you still want to see it, you can <a href=\"14/input\" target=\"_blank\">get your puzzle input</a>.</p>\n",
       "<p>You can also <span class=\"share\">[Share<span class=\"share-content\">on\n",
       "  <a href=\"https://twitter.com/intent/tweet?text=I%27ve+completed+%22Extended+Polymerization%22+%2D+Day+14+%2D+Advent+of+Code+2021&amp;url=https%3A%2F%2Fadventofcode%2Ecom%2F2021%2Fday%2F14&amp;related=ericwastl&amp;hashtags=AdventOfCode\" target=\"_blank\">Twitter</a>\n",
       "  <a href=\"javascript:void(0);\" onclick=\"var mastodon_instance=prompt('Mastodon Instance / Server Name?'); if(typeof mastodon_instance==='string' && mastodon_instance.length){this.href='https://'+mastodon_instance+'/share?text=I%27ve+completed+%22Extended+Polymerization%22+%2D+Day+14+%2D+Advent+of+Code+2021+%23AdventOfCode+https%3A%2F%2Fadventofcode%2Ecom%2F2021%2Fday%2F14'}else{return false;}\" target=\"_blank\">Mastodon</a\n",
       "></span>]</span> this puzzle.</p>\n"
      ],
      "text/plain": [
       "<IPython.core.display.HTML object>"
      ]
     },
     "execution_count": 15,
     "metadata": {},
     "output_type": "execute_result"
    }
   ],
   "source": [
    "HTML(downloaded['part2_footer'])"
   ]
  }
 ],
 "metadata": {
  "kernelspec": {
   "display_name": "Python 3",
   "language": "python",
   "name": "python3"
  },
  "language_info": {
   "codemirror_mode": {
    "name": "ipython",
    "version": 3
   },
   "file_extension": ".py",
   "mimetype": "text/x-python",
   "name": "python",
   "nbconvert_exporter": "python",
   "pygments_lexer": "ipython3",
   "version": "3.10.6 (main, Nov 14 2022, 16:10:14) [GCC 11.3.0]"
  },
  "vscode": {
   "interpreter": {
    "hash": "e7370f93d1d0cde622a1f8e1c04877d8463912d04d973331ad4851f04de6915a"
   }
  }
 },
 "nbformat": 4,
 "nbformat_minor": 4
}

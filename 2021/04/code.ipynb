{
 "cells": [
  {
   "cell_type": "markdown",
   "metadata": {},
   "source": [
    "# Day 4: Sonar Sweep\n",
    "\n",
    "[*Advent of Code 2021 day 4*](https://adventofcode.com/2021/day/4) and [*solution megathread*](https://www.reddit.com/r8i1lq)\n",
    "\n",
    "[![nbviewer](https://raw.githubusercontent.com/jupyter/design/master/logos/Badges/nbviewer_badge.svg)](https://nbviewer.jupyter.org/github/UncleCJ/advent-of-code/blob/cj/2021/04/code.ipynb) [![Binder](https://mybinder.org/badge_logo.svg)](https://mybinder.org/v2/gh/UncleCJ/advent-of-code/cj?filepath=2021%2F04%2Fcode.ipynb)"
   ]
  },
  {
   "cell_type": "code",
   "execution_count": 1,
   "metadata": {},
   "outputs": [
    {
     "name": "stdout",
     "output_type": "stream",
     "text": [
      "Writing 'downloaded' (dict) to file 'downloaded'.\n"
     ]
    }
   ],
   "source": [
    "from IPython.display import HTML\n",
    "import sys\n",
    "\n",
    "sys.path.append('../../')\n",
    "import common\n",
    "\n",
    "downloaded = common.refresh()\n",
    "%store downloaded >downloaded"
   ]
  },
  {
   "cell_type": "markdown",
   "metadata": {},
   "source": [
    "## Part One"
   ]
  },
  {
   "cell_type": "code",
   "execution_count": 2,
   "metadata": {},
   "outputs": [
    {
     "data": {
      "text/html": [
       "<h2>--- Day 4: Giant Squid ---</h2><p>You're already almost 1.5km (almost a mile) below the surface of the ocean, already so deep that you can't see any sunlight. What you <em>can</em> see, however, is a giant squid that has attached itself to the outside of your submarine.</p>\n",
       "<p>Maybe it wants to play <a href=\"https://en.wikipedia.org/wiki/Bingo_(American_version)\" target=\"_blank\">bingo</a>?</p>\n",
       "<p>Bingo is played on a set of boards each consisting of a 5x5 grid of numbers. Numbers are chosen at random, and the chosen number is <em>marked</em> on all boards on which it appears. (Numbers may not appear on all boards.) If all numbers in any row or any column of a board are marked, that board <em>wins</em>. (Diagonals don't count.)</p>\n",
       "<p>The submarine has a <em>bingo subsystem</em> to help passengers (currently, you and the giant squid) pass the time. It automatically generates a random order in which to draw numbers and a random set of boards (your puzzle input). For example:</p>\n",
       "<pre><code>7,4,9,5,11,17,23,2,0,14,21,24,10,16,13,6,15,25,12,22,18,20,8,19,3,26,1\n",
       "\n",
       "22 13 17 11  0\n",
       " 8  2 23  4 24\n",
       "21  9 14 16  7\n",
       " 6 10  3 18  5\n",
       " 1 12 20 15 19\n",
       "\n",
       " 3 15  0  2 22\n",
       " 9 18 13 17  5\n",
       "19  8  7 25 23\n",
       "20 11 10 24  4\n",
       "14 21 16 12  6\n",
       "\n",
       "14 21 17 24  4\n",
       "10 16 15  9 19\n",
       "18  8 23 26 20\n",
       "22 11 13  6  5\n",
       " 2  0 12  3  7\n",
       "</code></pre>\n",
       "<p>After the first five numbers are drawn (<code>7</code>, <code>4</code>, <code>9</code>, <code>5</code>, and <code>11</code>), there are no winners, but the boards are marked as follows (shown here adjacent to each other to save space):</p>\n",
       "<pre><code>22 13 17 <em>11</em>  0         3 15  0  2 22        14 21 17 24  <em>4</em>\n",
       " 8  2 23  <em>4</em> 24         <em>9</em> 18 13 17  <em>5</em>        10 16 15  <em>9</em> 19\n",
       "21  <em>9</em> 14 16  <em>7</em>        19  8  <em>7</em> 25 23        18  8 23 26 20\n",
       " 6 10  3 18  <em>5</em>        20 <em>11</em> 10 24  <em>4</em>        22 <em>11</em> 13  6  <em>5</em>\n",
       " 1 12 20 15 19        14 21 16 12  6         2  0 12  3  <em>7</em>\n",
       "</code></pre>\n",
       "<p>After the next six numbers are drawn (<code>17</code>, <code>23</code>, <code>2</code>, <code>0</code>, <code>14</code>, and <code>21</code>), there are still no winners:</p>\n",
       "<pre><code>22 13 <em>17</em> <em>11</em>  <em>0</em>         3 15  <em>0</em>  <em>2</em> 22        <em>14</em> <em>21</em> <em>17</em> 24  <em>4</em>\n",
       " 8  <em>2</em> <em>23</em>  <em>4</em> 24         <em>9</em> 18 13 <em>17</em>  <em>5</em>        10 16 15  <em>9</em> 19\n",
       "<em>21</em>  <em>9</em> <em>14</em> 16  <em>7</em>        19  8  <em>7</em> 25 <em>23</em>        18  8 <em>23</em> 26 20\n",
       " 6 10  3 18  <em>5</em>        20 <em>11</em> 10 24  <em>4</em>        22 <em>11</em> 13  6  <em>5</em>\n",
       " 1 12 20 15 19        <em>14</em> <em>21</em> 16 12  6         <em>2</em>  <em>0</em> 12  3  <em>7</em>\n",
       "</code></pre>\n",
       "<p>Finally, <code>24</code> is drawn:</p>\n",
       "<pre><code>22 13 <em>17</em> <em>11</em>  <em>0</em>         3 15  <em>0</em>  <em>2</em> 22        <em>14</em> <em>21</em> <em>17</em> <em>24</em>  <em>4</em>\n",
       " 8  <em>2</em> <em>23</em>  <em>4</em> <em>24</em>         <em>9</em> 18 13 <em>17</em>  <em>5</em>        10 16 15  <em>9</em> 19\n",
       "<em>21</em>  <em>9</em> <em>14</em> 16  <em>7</em>        19  8  <em>7</em> 25 <em>23</em>        18  8 <em>23</em> 26 20\n",
       " 6 10  3 18  <em>5</em>        20 <em>11</em> 10 <em>24</em>  <em>4</em>        22 <em>11</em> 13  6  <em>5</em>\n",
       " 1 12 20 15 19        <em>14</em> <em>21</em> 16 12  6         <em>2</em>  <em>0</em> 12  3  <em>7</em>\n",
       "</code></pre>\n",
       "<p>At this point, the third board <em>wins</em> because it has at least one complete row or column of marked numbers (in this case, the entire top row is marked: <code><em>14 21 17 24  4</em></code>).</p>\n",
       "<p>The <em>score</em> of the winning board can now be calculated. Start by finding the <em>sum of all unmarked numbers</em> on that board; in this case, the sum is <code>188</code>. Then, multiply that sum by <em>the number that was just called</em> when the board won, <code>24</code>, to get the final score, <code>188 * 24 = <em>4512</em></code>.</p>\n",
       "<p>To guarantee victory against the giant squid, figure out which board will win first. <em>What will your final score be if you choose that board?</em></p>\n"
      ],
      "text/plain": [
       "<IPython.core.display.HTML object>"
      ]
     },
     "execution_count": 2,
     "metadata": {},
     "output_type": "execute_result"
    }
   ],
   "source": [
    "HTML(downloaded['part1'])"
   ]
  },
  {
   "cell_type": "markdown",
   "metadata": {},
   "source": [
    "## Boilerplate\n",
    "\n",
    "Let's try using [pycodestyle_magic](https://github.com/mattijn/pycodestyle_magic) with pycodestyle (flake8 stopped working for me in VS Code Jupyter). Now how does type checking work?"
   ]
  },
  {
   "cell_type": "code",
   "execution_count": 3,
   "metadata": {},
   "outputs": [],
   "source": [
    "%load_ext pycodestyle_magic"
   ]
  },
  {
   "cell_type": "code",
   "execution_count": 4,
   "metadata": {},
   "outputs": [],
   "source": [
    "%pycodestyle_on"
   ]
  },
  {
   "cell_type": "markdown",
   "metadata": {},
   "source": [
    "## Comments\n",
    "\n",
    "It's the day after the corporate \"julbord\", I haven't solved day 3 part two just yet - but at least Python is all functional on the work laptop from the hotel lobby. Guess we'll play some bingo now, how hard can it be?\n",
    "\n",
    "For Part One, I'm calculating how many numbers must be drawn for each line (row or column) in each board to reach bingo - I bet that independence may bite me in Part Two, but going ahead for now regardless.\n",
    "\n",
    "...\n",
    "\n",
    "Wohoo! Part Two meant a tiny bit of refactoring and altering a `min` to a `max` - sometimes you're in luck!\n",
    "\n",
    "Also, minutes after writing this solution I came across [Kjell Post](https://www.facebook.com/groups/242675022610339/permalink/1776252389252587) choosing a quite different path, [including numpy](https://github.com/kjepo/adventofcode/blob/main/2021/4/4a.py), which I found pretty interesting."
   ]
  },
  {
   "cell_type": "code",
   "execution_count": 5,
   "metadata": {},
   "outputs": [
    {
     "name": "stderr",
     "output_type": "stream",
     "text": [
      "1:80: E501 line too long (84 > 79 characters)\n"
     ]
    }
   ],
   "source": [
    "testdata = \"\"\"7,4,9,5,11,17,23,2,0,14,21,24,10,16,13,6,15,25,12,22,18,20,8,19,3,26,1\n",
    "\n",
    "22 13 17 11  0\n",
    " 8  2 23  4 24\n",
    "21  9 14 16  7\n",
    " 6 10  3 18  5\n",
    " 1 12 20 15 19\n",
    "\n",
    " 3 15  0  2 22\n",
    " 9 18 13 17  5\n",
    "19  8  7 25 23\n",
    "20 11 10 24  4\n",
    "14 21 16 12  6\n",
    "\n",
    "14 21 17 24  4\n",
    "10 16 15  9 19\n",
    "18  8 23 26 20\n",
    "22 11 13  6  5\n",
    " 2  0 12  3  7\"\"\".splitlines()\n",
    "\n",
    "inputdata = downloaded['input'].splitlines()"
   ]
  },
  {
   "cell_type": "code",
   "execution_count": 6,
   "metadata": {},
   "outputs": [],
   "source": [
    "from collections.abc import Iterable\n",
    "from math import log10, ceil\n",
    "\n",
    "BingoData = list[str]\n",
    "Numbers = list[int]\n",
    "NumbersIdx = int\n",
    "Line = Numbers\n",
    "Board = list[Line]\n",
    "BoardList = list[Board]\n",
    "Score = int\n",
    "\n",
    "\n",
    "def parse_bingo_data(data: BingoData) -> tuple[Numbers, BoardList]:\n",
    "    numbers = list(map(int, data[0].split(',')))\n",
    "    boards, board_current = [], []\n",
    "    for line in data[2:]:\n",
    "        if line != '':\n",
    "            board_current.append(list(\n",
    "                map(int, line.split())))\n",
    "        else:\n",
    "            boards.append(board_current)\n",
    "            board_current = []\n",
    "    boards.append(board_current)\n",
    "    return numbers, boards\n",
    "\n",
    "\n",
    "def board_to_string(board: BoardList) -> str:\n",
    "    pad = '{{:{}d}}'.format(\n",
    "        ceil(log10(\n",
    "            max(i for row in board for i in row) + 1)))\n",
    "    return '\\n'.join(\n",
    "        ' '.join(\n",
    "            map(pad.format, row))\n",
    "        for row in board)\n",
    "\n",
    "\n",
    "def transpose(board: Board) -> Board:\n",
    "    return [[row[i] for row in board]\n",
    "            for i in range(len(board[0]))]\n",
    "\n",
    "\n",
    "def drawn_until_bingo_line(line: Line,\n",
    "                           drawn: Numbers) -> NumbersIdx:\n",
    "    try:\n",
    "        return max(drawn.index(digit)\n",
    "                   for digit in line)\n",
    "    except ValueError:\n",
    "        return -1\n",
    "\n",
    "\n",
    "def drawn_until_bingo_board(board: BoardList,\n",
    "                            drawn: Numbers) -> NumbersIdx:\n",
    "    drawn_until_bingo = min(\n",
    "        filter(lambda x: x != -1,\n",
    "               [drawn_until_bingo_line(line, drawn)\n",
    "                for line in board + transpose(board)]))\n",
    "    if not drawn_until_bingo:\n",
    "        return -1\n",
    "    else:\n",
    "        return drawn_until_bingo\n",
    "\n",
    "\n",
    "def evaluate_boards(boards: BoardList,\n",
    "                    drawn: Numbers) -> list[tuple[Board, NumbersIdx]]:\n",
    "    return [(board,\n",
    "             drawn_until_bingo_board(board, drawn))\n",
    "            for board in boards]\n",
    "\n",
    "\n",
    "def winning_board(boards: BoardList,\n",
    "                  drawn: Numbers):\n",
    "    return min(evaluate_boards(boards,\n",
    "                               drawn),\n",
    "               key=lambda x: x[1])\n",
    "\n",
    "\n",
    "def score_board(board: BoardList,\n",
    "                drawn: Numbers,\n",
    "                drawn_i: NumbersIdx) -> Score:\n",
    "    final_number = drawn[drawn_i]\n",
    "    drawn_win = drawn[:drawn_i + 1]\n",
    "    board_numbers = set(i\n",
    "                        for row in board\n",
    "                        for i in row).difference(\n",
    "                            drawn_win)\n",
    "    return sum(board_numbers) * final_number\n",
    "\n",
    "\n",
    "def my_part1_solution(data: BingoData) -> Score:\n",
    "    drawn, boards = parse_bingo_data(data)\n",
    "    board, drawn_i = winning_board(boards, drawn)\n",
    "    return score_board(board,\n",
    "                       drawn,\n",
    "                       drawn_i)"
   ]
  },
  {
   "cell_type": "code",
   "execution_count": 7,
   "metadata": {},
   "outputs": [],
   "source": [
    "assert(my_part1_solution(testdata) == 4512)"
   ]
  },
  {
   "cell_type": "code",
   "execution_count": 8,
   "metadata": {},
   "outputs": [
    {
     "data": {
      "text/plain": [
       "49860"
      ]
     },
     "execution_count": 8,
     "metadata": {},
     "output_type": "execute_result"
    }
   ],
   "source": [
    "my_part1_solution(inputdata)"
   ]
  },
  {
   "cell_type": "code",
   "execution_count": 9,
   "metadata": {},
   "outputs": [
    {
     "data": {
      "text/html": [
       "\n",
       "<p>Your puzzle answer was <code>49860</code>.</p>"
      ],
      "text/plain": [
       "<IPython.core.display.HTML object>"
      ]
     },
     "execution_count": 9,
     "metadata": {},
     "output_type": "execute_result"
    }
   ],
   "source": [
    "HTML(downloaded['part1_footer'])"
   ]
  },
  {
   "cell_type": "markdown",
   "metadata": {},
   "source": [
    "## Part Two"
   ]
  },
  {
   "cell_type": "code",
   "execution_count": 10,
   "metadata": {},
   "outputs": [
    {
     "data": {
      "text/html": [
       "<h2 id=\"part2\">--- Part Two ---</h2><p>On the other hand, it might be wise to try a different strategy: <span title=\"That's 'cuz a submarine don't pull things' antennas out of their sockets when they lose. Giant squid are known to do that.\">let the giant squid win</span>.</p>\n",
       "<p>You aren't sure how many bingo boards a giant squid could play at once, so rather than waste time counting its arms, the safe thing to do is to <em>figure out which board will win last</em> and choose that one. That way, no matter which boards it picks, it will win for sure.</p>\n",
       "<p>In the above example, the second board is the last to win, which happens after <code>13</code> is eventually called and its middle column is completely marked. If you were to keep playing until this point, the second board would have a sum of unmarked numbers equal to <code>148</code> for a final score of <code>148 * 13 = <em>1924</em></code>.</p>\n",
       "<p>Figure out which board will win last. <em>Once it wins, what would its final score be?</em></p>\n"
      ],
      "text/plain": [
       "<IPython.core.display.HTML object>"
      ]
     },
     "execution_count": 10,
     "metadata": {},
     "output_type": "execute_result"
    }
   ],
   "source": [
    "HTML(downloaded['part2'])"
   ]
  },
  {
   "cell_type": "code",
   "execution_count": 11,
   "metadata": {
    "tags": []
   },
   "outputs": [],
   "source": [
    "def losing_board(boards: BoardList,\n",
    "                 drawn: Numbers):\n",
    "    return max(evaluate_boards(boards,\n",
    "                               drawn),\n",
    "               key=lambda x: x[1])\n",
    "\n",
    "\n",
    "def my_part2_solution(data: BingoData) -> Score:\n",
    "    drawn, boards = parse_bingo_data(data)\n",
    "    board, drawn_i = losing_board(boards, drawn)\n",
    "    return score_board(board,\n",
    "                       drawn,\n",
    "                       drawn_i)"
   ]
  },
  {
   "cell_type": "code",
   "execution_count": 12,
   "metadata": {},
   "outputs": [],
   "source": [
    "assert(my_part2_solution(testdata) == 1924)"
   ]
  },
  {
   "cell_type": "code",
   "execution_count": 13,
   "metadata": {},
   "outputs": [
    {
     "data": {
      "text/plain": [
       "24628"
      ]
     },
     "execution_count": 13,
     "metadata": {},
     "output_type": "execute_result"
    }
   ],
   "source": [
    "my_part2_solution(inputdata)"
   ]
  },
  {
   "cell_type": "code",
   "execution_count": 14,
   "metadata": {},
   "outputs": [
    {
     "data": {
      "text/html": [
       "\n",
       "<p>Your puzzle answer was <code>24628</code>.</p><p class=\"day-success\">Both parts of this puzzle are complete! They provide two gold stars: **</p>\n",
       "<p>At this point, you should <a href=\"/2021\">return to your Advent calendar</a> and try another puzzle.</p>\n",
       "<p>If you still want to see it, you can <a href=\"4/input\" target=\"_blank\">get your puzzle input</a>.</p>\n",
       "<p>You can also <span class=\"share\">[Share<span class=\"share-content\">on\n",
       "  <a href=\"https://twitter.com/intent/tweet?text=I%27ve+completed+%22Giant+Squid%22+%2D+Day+4+%2D+Advent+of+Code+2021&amp;url=https%3A%2F%2Fadventofcode%2Ecom%2F2021%2Fday%2F4&amp;related=ericwastl&amp;hashtags=AdventOfCode\" target=\"_blank\">Twitter</a>\n",
       "  <a href=\"javascript:void(0);\" onclick=\"var mastodon_instance=prompt('Mastodon Instance / Server Name?'); if(typeof mastodon_instance==='string' && mastodon_instance.length){this.href='https://'+mastodon_instance+'/share?text=I%27ve+completed+%22Giant+Squid%22+%2D+Day+4+%2D+Advent+of+Code+2021+%23AdventOfCode+https%3A%2F%2Fadventofcode%2Ecom%2F2021%2Fday%2F4'}else{return false;}\" target=\"_blank\">Mastodon</a\n",
       "></span>]</span> this puzzle.</p>\n"
      ],
      "text/plain": [
       "<IPython.core.display.HTML object>"
      ]
     },
     "execution_count": 14,
     "metadata": {},
     "output_type": "execute_result"
    }
   ],
   "source": [
    "HTML(downloaded['part2_footer'])"
   ]
  }
 ],
 "metadata": {
  "interpreter": {
   "hash": "aee8b7b246df8f9039afb4144a1f6fd8d2ca17a180786b69acc140d282b71a49"
  },
  "kernelspec": {
   "display_name": "Python 3.9.7 64-bit",
   "name": "python3"
  },
  "language_info": {
   "codemirror_mode": {
    "name": "ipython",
    "version": 3
   },
   "file_extension": ".py",
   "mimetype": "text/x-python",
   "name": "python",
   "nbconvert_exporter": "python",
   "pygments_lexer": "ipython3",
   "version": "3.10.0"
  }
 },
 "nbformat": 4,
 "nbformat_minor": 4
}

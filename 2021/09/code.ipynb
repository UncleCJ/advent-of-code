{
 "cells": [
  {
   "cell_type": "markdown",
   "metadata": {},
   "source": [
    "# Day 9: Smoke Basin\n",
    "\n",
    "[*Advent of Code 2021 day 9*](https://adventofcode.com/2021/day/9) and [*solution megathread*](https://www.reddit.com/rca6vp)\n",
    "\n",
    "[![nbviewer](https://raw.githubusercontent.com/jupyter/design/master/logos/Badges/nbviewer_badge.svg)](https://nbviewer.jupyter.org/github/UncleCJ/advent-of-code/blob/cj/2021/09/code.ipynb) [![Binder](https://mybinder.org/badge_logo.svg)](https://mybinder.org/v2/gh/UncleCJ/advent-of-code/cj?filepath=2021%2F09%2Fcode.ipynb)"
   ]
  },
  {
   "cell_type": "code",
   "execution_count": 1,
   "metadata": {},
   "outputs": [
    {
     "name": "stdout",
     "output_type": "stream",
     "text": [
      "Writing 'downloaded' (dict) to file 'downloaded'.\n"
     ]
    }
   ],
   "source": [
    "from IPython.display import HTML\n",
    "import sys\n",
    "\n",
    "sys.path.append('../../')\n",
    "import common\n",
    "\n",
    "downloaded = common.refresh()\n",
    "%store downloaded >downloaded"
   ]
  },
  {
   "cell_type": "markdown",
   "metadata": {},
   "source": [
    "## Part One"
   ]
  },
  {
   "cell_type": "code",
   "execution_count": 2,
   "metadata": {},
   "outputs": [
    {
     "data": {
      "text/html": [
       "<h2>--- Day 9: Smoke Basin ---</h2><p>These caves seem to be <a href=\"https://en.wikipedia.org/wiki/Lava_tube\" target=\"_blank\">lava tubes</a>. Parts are even still volcanically active; small hydrothermal vents release smoke into the caves that slowly <span title=\"This was originally going to be a puzzle about watersheds, but we're already under water.\">settles like rain</span>.</p>\n",
       "<p>If you can model how the smoke flows through the caves, you might be able to avoid it and be that much safer. The submarine generates a heightmap of the floor of the nearby caves for you (your puzzle input).</p>\n",
       "<p>Smoke flows to the lowest point of the area it's in. For example, consider the following heightmap:</p>\n",
       "<pre><code>2<em>1</em>9994321<em>0</em>\n",
       "3987894921\n",
       "98<em>5</em>6789892\n",
       "8767896789\n",
       "989996<em>5</em>678\n",
       "</code></pre>\n",
       "<p>Each number corresponds to the height of a particular location, where <code>9</code> is the highest and <code>0</code> is the lowest a location can be.</p>\n",
       "<p>Your first goal is to find the <em>low points</em> - the locations that are lower than any of its adjacent locations. Most locations have four adjacent locations (up, down, left, and right); locations on the edge or corner of the map have three or two adjacent locations, respectively. (Diagonal locations do not count as adjacent.)</p>\n",
       "<p>In the above example, there are <em>four</em> low points, all highlighted: two are in the first row (a <code>1</code> and a <code>0</code>), one is in the third row (a <code>5</code>), and one is in the bottom row (also a <code>5</code>). All other locations on the heightmap have some lower adjacent location, and so are not low points.</p>\n",
       "<p>The <em>risk level</em> of a low point is <em>1 plus its height</em>. In the above example, the risk levels of the low points are <code>2</code>, <code>1</code>, <code>6</code>, and <code>6</code>. The sum of the risk levels of all low points in the heightmap is therefore <code><em>15</em></code>.</p>\n",
       "<p>Find all of the low points on your heightmap. <em>What is the sum of the risk levels of all low points on your heightmap?</em></p>\n"
      ],
      "text/plain": [
       "<IPython.core.display.HTML object>"
      ]
     },
     "execution_count": 2,
     "metadata": {},
     "output_type": "execute_result"
    }
   ],
   "source": [
    "HTML(downloaded['part1'])"
   ]
  },
  {
   "cell_type": "markdown",
   "metadata": {},
   "source": [
    "## Boilerplate\n",
    "\n",
    "Let's try using [pycodestyle_magic](https://github.com/mattijn/pycodestyle_magic) with pycodestyle (flake8 stopped working for me in VS Code Jupyter). Now how does type checking work?"
   ]
  },
  {
   "cell_type": "code",
   "execution_count": 3,
   "metadata": {},
   "outputs": [],
   "source": [
    "%load_ext pycodestyle_magic"
   ]
  },
  {
   "cell_type": "code",
   "execution_count": 4,
   "metadata": {},
   "outputs": [],
   "source": [
    "%pycodestyle_on"
   ]
  },
  {
   "cell_type": "markdown",
   "metadata": {},
   "source": [
    "## Comments\n",
    "\n",
    "..."
   ]
  },
  {
   "cell_type": "code",
   "execution_count": 5,
   "metadata": {},
   "outputs": [],
   "source": [
    "testdata = \"\"\"2199943210\n",
    "3987894921\n",
    "9856789892\n",
    "8767896789\n",
    "9899965678\"\"\".splitlines()\n",
    "\n",
    "inputdata = downloaded['input'].splitlines()"
   ]
  },
  {
   "cell_type": "code",
   "execution_count": 6,
   "metadata": {},
   "outputs": [
    {
     "name": "stdout",
     "output_type": "stream",
     "text": [
      "['0197653456789987679545987978921245689901497654212455689767899878999979653246892123569876467899212346', '9989542349899986578959976557890134599892398943201234678956789467989867932135789012398764345678923456']\n"
     ]
    }
   ],
   "source": [
    "print(inputdata[:2])"
   ]
  },
  {
   "cell_type": "code",
   "execution_count": 7,
   "metadata": {},
   "outputs": [],
   "source": [
    "from collections.abc import Iterable\n",
    "\n",
    "\n",
    "def parse_data(data: list[str]) -> list[list[int]]:\n",
    "    return [[int(c) for c in row] for row in data]\n",
    "\n",
    "\n",
    "def adjacent(heightmap: list[list[int]], x, y) -> list[int]:\n",
    "    adjacent_coords = []\n",
    "    if not x == 0:\n",
    "        adjacent_coords.append((x - 1, y))\n",
    "    if not x == len(heightmap[0]) - 1:\n",
    "        adjacent_coords.append((x + 1, y))\n",
    "    if not y == 0:\n",
    "        adjacent_coords.append((x, y - 1))\n",
    "    if not y == len(heightmap) - 1:\n",
    "        adjacent_coords.append((x, y + 1))\n",
    "    return [heightmap[y_n][x_n] for x_n, y_n in adjacent_coords]\n",
    "\n",
    "\n",
    "def low_point(heightmap: list[list[int]], x, y) -> bool:\n",
    "    return all(heightmap[y][x] < ad for ad in adjacent(heightmap, x, y))\n",
    "\n",
    "\n",
    "def low_points(heightmap: list[list[int]],\n",
    "               debug: bool = False) -> list[tuple[int, int, int]]:\n",
    "    result = []\n",
    "    for y in range(len(heightmap)):\n",
    "        for x in range(len(heightmap[0])):\n",
    "            if low_point(heightmap, x, y):\n",
    "                if debug:\n",
    "                    print(f'{x}, {y}: {heightmap[y][x]} is a low point!')\n",
    "                result.append((x, y, heightmap[y][x]))\n",
    "            else:\n",
    "                if debug:\n",
    "                    print(f'{x}, {y}: {heightmap[y][x]} is not low point!')\n",
    "    return result\n",
    "\n",
    "\n",
    "def my_part1_solution(data: str,\n",
    "                      debug: bool = False) -> int:\n",
    "    heightmap = parse_data(data)\n",
    "    return sum(val + 1 for _, _, val in low_points(heightmap, debug))"
   ]
  },
  {
   "cell_type": "code",
   "execution_count": 8,
   "metadata": {},
   "outputs": [
    {
     "data": {
      "text/plain": [
       "[(1, 0, 1), (9, 0, 0), (2, 2, 5), (6, 4, 5)]"
      ]
     },
     "execution_count": 8,
     "metadata": {},
     "output_type": "execute_result"
    }
   ],
   "source": [
    "heightmap = parse_data(testdata)\n",
    "low_points(heightmap, debug=False)"
   ]
  },
  {
   "cell_type": "code",
   "execution_count": 9,
   "metadata": {},
   "outputs": [
    {
     "data": {
      "text/plain": [
       "True"
      ]
     },
     "execution_count": 9,
     "metadata": {},
     "output_type": "execute_result"
    }
   ],
   "source": [
    "low_point(heightmap, 9, 0)"
   ]
  },
  {
   "cell_type": "code",
   "execution_count": 10,
   "metadata": {},
   "outputs": [],
   "source": [
    "assert(my_part1_solution(testdata, debug=False) == 15)\n",
    "# my_part1_solution(testdata, debug=True)"
   ]
  },
  {
   "cell_type": "code",
   "execution_count": 11,
   "metadata": {},
   "outputs": [
    {
     "data": {
      "text/plain": [
       "585"
      ]
     },
     "execution_count": 11,
     "metadata": {},
     "output_type": "execute_result"
    }
   ],
   "source": [
    "my_part1_solution(inputdata)"
   ]
  },
  {
   "cell_type": "code",
   "execution_count": 12,
   "metadata": {},
   "outputs": [
    {
     "data": {
      "text/html": [
       "\n",
       "<p>Your puzzle answer was <code>585</code>.</p><p class=\"day-success\">The first half of this puzzle is complete! It provides one gold star: *</p>\n"
      ],
      "text/plain": [
       "<IPython.core.display.HTML object>"
      ]
     },
     "execution_count": 12,
     "metadata": {},
     "output_type": "execute_result"
    }
   ],
   "source": [
    "HTML(downloaded['part1_footer'])"
   ]
  },
  {
   "cell_type": "markdown",
   "metadata": {},
   "source": [
    "## Part Two"
   ]
  },
  {
   "cell_type": "code",
   "execution_count": 13,
   "metadata": {},
   "outputs": [
    {
     "data": {
      "text/html": [
       "<h2 id=\"part2\">--- Part Two ---</h2><p>Next, you need to find the largest basins so you know what areas are most important to avoid.</p>\n",
       "<p>A <em>basin</em> is all locations that eventually flow downward to a single low point. Therefore, every low point has a basin, although some basins are very small. Locations of height <code>9</code> do not count as being in any basin, and all other locations will always be part of exactly one basin.</p>\n",
       "<p>The <em>size</em> of a basin is the number of locations within the basin, including the low point. The example above has four basins.</p>\n",
       "<p>The top-left basin, size <code>3</code>:</p>\n",
       "<pre><code><em>21</em>99943210\n",
       "<em>3</em>987894921\n",
       "9856789892\n",
       "8767896789\n",
       "9899965678\n",
       "</code></pre>\n",
       "<p>The top-right basin, size <code>9</code>:</p>\n",
       "<pre><code>21999<em>43210</em>\n",
       "398789<em>4</em>9<em>21</em>\n",
       "985678989<em>2</em>\n",
       "8767896789\n",
       "9899965678\n",
       "</code></pre>\n",
       "<p>The middle basin, size <code>14</code>:</p>\n",
       "<pre><code>2199943210\n",
       "39<em>878</em>94921\n",
       "9<em>85678</em>9892\n",
       "<em>87678</em>96789\n",
       "9<em>8</em>99965678\n",
       "</code></pre>\n",
       "<p>The bottom-right basin, size <code>9</code>:</p>\n",
       "<pre><code>2199943210\n",
       "3987894921\n",
       "9856789<em>8</em>92\n",
       "876789<em>678</em>9\n",
       "98999<em>65678</em>\n",
       "</code></pre>\n",
       "<p>Find the three largest basins and multiply their sizes together. In the above example, this is <code>9 * 14 * 9 = <em>1134</em></code>.</p>\n",
       "<p><em>What do you get if you multiply together the sizes of the three largest basins?</em></p>\n"
      ],
      "text/plain": [
       "<IPython.core.display.HTML object>"
      ]
     },
     "execution_count": 13,
     "metadata": {},
     "output_type": "execute_result"
    }
   ],
   "source": [
    "HTML(downloaded['part2'])"
   ]
  },
  {
   "cell_type": "code",
   "execution_count": 15,
   "metadata": {},
   "outputs": [
    {
     "name": "stderr",
     "output_type": "stream",
     "text": [
      "1:11: E231 missing whitespace after ';'\n",
      "1:11: E702 multiple statements on one line (semicolon)\n"
     ]
    },
    {
     "name": "stdout",
     "output_type": "stream",
     "text": [
      "3.9.15 (main, Oct 11 2022, 22:27:25) \n",
      "[Clang 14.0.0 (clang-1400.0.29.102)]\n"
     ]
    }
   ],
   "source": [
    "import sys;print(sys.version)"
   ]
  },
  {
   "cell_type": "code",
   "execution_count": 14,
   "metadata": {
    "tags": []
   },
   "outputs": [
    {
     "ename": "SyntaxError",
     "evalue": "invalid syntax (3925735858.py, line 44)",
     "output_type": "error",
     "traceback": [
      "\u001b[0;36m  File \u001b[0;32m\"/var/folders/b5/hh272zms2dbbgggqp2lqbzrr0000gp/T/ipykernel_39706/3925735858.py\"\u001b[0;36m, line \u001b[0;32m44\u001b[0m\n\u001b[0;31m    match i:\u001b[0m\n\u001b[0m          ^\u001b[0m\n\u001b[0;31mSyntaxError\u001b[0m\u001b[0;31m:\u001b[0m invalid syntax\n"
     ]
    },
    {
     "name": "stdout",
     "output_type": "stream",
     "text": [
      "Error before execution: invalid syntax (3925735858.py, line 44)\n"
     ]
    }
   ],
   "source": [
    "from functools import reduce\n",
    "\n",
    "#   0:      1:      2:      3:      4:\n",
    "#  aaaa    ....    aaaa    aaaa    ....\n",
    "# b    c  .    c  .    c  .    c  b    c\n",
    "# b    c  .    c  .    c  .    c  b    c\n",
    "#  ....    ....    dddd    dddd    dddd\n",
    "# e    f  .    f  e    .  .    f  .    f\n",
    "# e    f  .    f  e    .  .    f  .    f\n",
    "#  gggg    ....    gggg    gggg    ....\n",
    "\n",
    "#   5:      6:      7:      8:      9:\n",
    "#  aaaa    aaaa    aaaa    aaaa    aaaa\n",
    "# b    .  b    .  .    c  b    c  b    c\n",
    "# b    .  b    .  .    c  b    c  b    c\n",
    "#  dddd    dddd    ....    dddd    dddd\n",
    "# .    f  e    f  .    f  e    f  .    f\n",
    "# .    f  e    f  .    f  e    f  .    f\n",
    "#  gggg    gggg    ....    gggg    gggg\n",
    "\n",
    "# 2 = len(1)\n",
    "# 3 = len(7)\n",
    "# 4 = len(4)\n",
    "# 5 = len(2), len(3), len(5)\n",
    "# 6 = len(0), len(6), len(9)\n",
    "# 7 = len(8)\n",
    "\n",
    "#       a   b   c   d   e   f   g   abs\n",
    "# 0     1   1   1   0   1   1   1\n",
    "# 1     0   0   1   0   0   1   0   2\n",
    "# 2     1   0   1   1   1   0   1\n",
    "# 3     1   0   1   1   0   1   1\n",
    "# 4     0   1   1   1   0   1   0   4\n",
    "# 5     1   1   0   1   0   1   1\n",
    "# 6     1   1   0   1   1   1   1\n",
    "# 7     1   0   1   0   0   1   0   3\n",
    "# 8     1   1   1   1   1   1   1   7\n",
    "# 9     1   1   1   1   0   1   1\n",
    "# --\n",
    "#       8   6   8   7   4   9   7\n",
    "\n",
    "\n",
    "def number_segments(i: int) -> list[int]:\n",
    "    match i:\n",
    "        case 0:\n",
    "            return [1, 1, 1, 0, 1, 1, 1]\n",
    "        case 1:\n",
    "            return [0, 0, 1, 0, 0, 1, 0]\n",
    "        case 2:\n",
    "            return [1, 0, 1, 1, 1, 0, 1]\n",
    "        case 3:\n",
    "            return [1, 0, 1, 1, 0, 1, 1]\n",
    "        case 4:\n",
    "            return [0, 1, 1, 1, 0, 1, 0]\n",
    "        case 5:\n",
    "            return [1, 1, 0, 1, 0, 1, 1]\n",
    "        case 6:\n",
    "            return [1, 1, 0, 1, 1, 1, 1]\n",
    "        case 7:\n",
    "            return [1, 0, 1, 0, 0, 1, 0]\n",
    "        case 8:\n",
    "            return [1, 1, 1, 1, 1, 1, 1]\n",
    "        case 9:\n",
    "            return [1, 1, 1, 1, 0, 1, 1]\n",
    "        case _:\n",
    "            raise ValueError(f'Not an integer between 0-9: {i}')\n",
    "\n",
    "\n",
    "def numbers_segments() -> dict[int, list[int]]:\n",
    "    return {i: number_segments(i) for i in range(10)}\n",
    "\n",
    "\n",
    "def elem_add(a: list, b: list) -> list:\n",
    "    assert(len(a) == len(b))\n",
    "    return [a_i + b_i for a_i, b_i in zip(a, b)]\n",
    "\n",
    "\n",
    "def elem_subtract(a: list, b: list) -> list:\n",
    "    assert(len(a) == len(b))\n",
    "    return [a_i - b_i for a_i, b_i in zip(a, b)]\n",
    "\n",
    "\n",
    "def elems_add(ls: Iterable[list]) -> list:\n",
    "    return reduce(elem_add, ls)\n",
    "\n",
    "\n",
    "# def pattern_list(pattern: str) -> list[int]:\n",
    "#     return [1 if for i, s in enumerate('abcdefg'):\n",
    "\n",
    "\n",
    "def sort_wires(testpatterns) -> dict[str, str]:\n",
    "    tests_sum = elems_add()\n",
    "\n",
    "\n",
    "def my_part2_solution(data: str,\n",
    "                      debug: bool = False) -> int:\n",
    "    numbers_s = numbers_segments()\n",
    "    numbers_sum = elems_add(numbers_s.values())\n",
    "\n",
    "    for testpatterns, outputpatterns in parse_data(data):\n",
    "        print(f'{testpatterns=} {outputpatterns=}')\n",
    "\n",
    "    return 0"
   ]
  },
  {
   "cell_type": "code",
   "execution_count": null,
   "metadata": {},
   "outputs": [],
   "source": [
    "my_part2_solution(testdata)"
   ]
  },
  {
   "cell_type": "code",
   "execution_count": null,
   "metadata": {},
   "outputs": [],
   "source": [
    "# assert(my_part2_solution(testdata) == 168)"
   ]
  },
  {
   "cell_type": "code",
   "execution_count": null,
   "metadata": {},
   "outputs": [],
   "source": [
    "# my_part2_solution(inputdata)"
   ]
  },
  {
   "cell_type": "code",
   "execution_count": null,
   "metadata": {},
   "outputs": [],
   "source": [
    "HTML(downloaded['part2_footer'])"
   ]
  }
 ],
 "metadata": {
  "interpreter": {
   "hash": "aee8b7b246df8f9039afb4144a1f6fd8d2ca17a180786b69acc140d282b71a49"
  },
  "kernelspec": {
   "display_name": "Python 3 (ipykernel)",
   "language": "python",
   "name": "python3"
  },
  "language_info": {
   "codemirror_mode": {
    "name": "ipython",
    "version": 3
   },
   "file_extension": ".py",
   "mimetype": "text/x-python",
   "name": "python",
   "nbconvert_exporter": "python",
   "pygments_lexer": "ipython3",
   "version": "3.9.15"
  }
 },
 "nbformat": 4,
 "nbformat_minor": 4
}

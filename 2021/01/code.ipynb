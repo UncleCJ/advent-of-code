{
 "cells": [
  {
   "cell_type": "markdown",
   "metadata": {},
   "source": [
    "# Day 1: Sonar Sweep\n",
    "\n",
    "[*Advent of Code 2021 day 1*](https://adventofcode.com/2021/day/1) and [*solution megathread*](https://www.reddit.com/r66vow)\n",
    "\n",
    "[![nbviewer](https://raw.githubusercontent.com/jupyter/design/master/logos/Badges/nbviewer_badge.svg)](https://nbviewer.jupyter.org/github/UncleCJ/advent-of-code/blob/cj/2021/01/code.ipynb) [![Binder](https://mybinder.org/badge_logo.svg)](https://mybinder.org/v2/gh/UncleCJ/advent-of-code/cj?filepath=2021%2F01%2Fcode.ipynb)"
   ]
  },
  {
   "cell_type": "code",
   "execution_count": 1,
   "metadata": {},
   "outputs": [
    {
     "name": "stdout",
     "output_type": "stream",
     "text": [
      "Writing 'downloaded' (dict) to file 'downloaded'.\n"
     ]
    }
   ],
   "source": [
    "from IPython.display import HTML\n",
    "import sys\n",
    "\n",
    "sys.path.append('../../')\n",
    "import common\n",
    "\n",
    "downloaded = common.refresh()\n",
    "%store downloaded >downloaded"
   ]
  },
  {
   "cell_type": "markdown",
   "metadata": {},
   "source": [
    "## Part One"
   ]
  },
  {
   "cell_type": "code",
   "execution_count": 2,
   "metadata": {},
   "outputs": [
    {
     "data": {
      "text/html": [
       "<h2>--- Day 1: Sonar Sweep ---</h2><p>You're minding your own business on a ship at sea when the overboard alarm goes off! You rush to see if you can help. Apparently, one of the Elves tripped and accidentally sent the sleigh keys flying into the ocean!</p>\n",
       "<p>Before you know it, you're inside a submarine the Elves keep ready for situations like this. It's covered in Christmas lights (because of course it is), and it even has an experimental antenna that should be able to track the keys if you can boost its signal strength high enough; there's a little meter that indicates the antenna's signal strength by displaying 0-50 <em class=\"star\">stars</em>.</p>\n",
       "<p>Your instincts tell you that in order to save Christmas, you'll need to get all <em class=\"star\">fifty stars</em> by December 25th.</p>\n",
       "<p>Collect stars by solving puzzles.  Two puzzles will be made available on each day in the Advent calendar; the second puzzle is unlocked when you complete the first.  Each puzzle grants <em class=\"star\">one star</em>. Good luck!</p>\n",
       "<p>As the submarine drops below the surface of the ocean, it automatically performs a sonar sweep of the nearby sea floor. On a small screen, the sonar sweep report (your puzzle input) appears: each line is a measurement of the sea floor depth as the sweep looks further and further away from the submarine.</p>\n",
       "<p>For example, suppose you had the following report:</p>\n",
       "<pre><code>199\n",
       "200\n",
       "208\n",
       "210\n",
       "200\n",
       "207\n",
       "240\n",
       "269\n",
       "260\n",
       "263\n",
       "</code></pre>\n",
       "<p>This report indicates that, scanning outward from the submarine, the sonar sweep found depths of <code>199</code>, <code>200</code>, <code>208</code>, <code>210</code>, and so on.</p>\n",
       "<p>The first order of business is to figure out how quickly the depth increases, just so you know what you're dealing with - you never know if the keys will get <span title=\"Does this premise seem fishy to you?\">carried into deeper water</span> by an ocean current or a fish or something.</p>\n",
       "<p>To do this, count <em>the number of times a depth measurement increases</em> from the previous measurement. (There is no measurement before the first measurement.) In the example above, the changes are as follows:</p>\n",
       "<pre><code>199 (N/A - no previous measurement)\n",
       "200 (<em>increased</em>)\n",
       "208 (<em>increased</em>)\n",
       "210 (<em>increased</em>)\n",
       "200 (decreased)\n",
       "207 (<em>increased</em>)\n",
       "240 (<em>increased</em>)\n",
       "269 (<em>increased</em>)\n",
       "260 (decreased)\n",
       "263 (<em>increased</em>)\n",
       "</code></pre>\n",
       "<p>In this example, there are <em><code>7</code></em> measurements that are larger than the previous measurement.</p>\n",
       "<p><em>How many measurements are larger than the previous measurement?</em></p>\n"
      ],
      "text/plain": [
       "<IPython.core.display.HTML object>"
      ]
     },
     "execution_count": 2,
     "metadata": {},
     "output_type": "execute_result"
    }
   ],
   "source": [
    "HTML(downloaded['part1'])"
   ]
  },
  {
   "cell_type": "markdown",
   "metadata": {},
   "source": [
    "## Boilerplate\n",
    "\n",
    "Let's try using [pycodestyle_magic](https://github.com/mattijn/pycodestyle_magic) with pycodestyle (flake8 stopped working for me in VS Code Jupyter). Now how does type checking work?"
   ]
  },
  {
   "cell_type": "code",
   "execution_count": 3,
   "metadata": {},
   "outputs": [],
   "source": [
    "%load_ext pycodestyle_magic"
   ]
  },
  {
   "cell_type": "code",
   "execution_count": 4,
   "metadata": {},
   "outputs": [],
   "source": [
    "%pycodestyle_on"
   ]
  },
  {
   "cell_type": "markdown",
   "metadata": {},
   "source": [
    "## Comments\n",
    "\n",
    "We're on again! Honestly, this Wednesday morning I was scheduled to receive a new colleague in the office, Python wasn't entirely properly installed on my work laptop and I was running out of battery. A good thing the first problem was simple enough to solve in a couple of minutes in Microsoft Excel:\n",
    "\n",
    "![2021-01-sonar-sweep-excel](2021-01-sonar-sweep-excel.png \"2021-01-sonar-sweep-excel\")\n",
    "\n",
    "As for this Jupyter solution, I feel like learning both [generators](https://www.youtube.com/watch?v=bD05uGo_sVI) and [typing](https://www.youtube.com/watch?v=QORvB-_mbZ0) ([docs](https://docs.python.org/3/library/typing.html)), though it was a challenge to get right off the cuff, and obviously an \"iterable\" solution contradicts the brevity of a numpy/matlab style vector filter style I would be used to.\n",
    "\n",
    "Another thing I'd like to get right is a generic style of data parsing, solution formulation and validation - this is ok, but I'll consider it for the more complex problems I expect further on - a class won't easily be extensible for second problem parts, and sometimes there are various sets of test data as well as solutions to assert towards... This time I was tripped up like some n00b about parsing the data as integers (off-by-one in part one, discovered it as part two ended up concatenating the strings I had assumed were integers)."
   ]
  },
  {
   "cell_type": "code",
   "execution_count": 5,
   "metadata": {},
   "outputs": [],
   "source": [
    "testdata = \"\"\"199\n",
    "200\n",
    "208\n",
    "210\n",
    "200\n",
    "207\n",
    "240\n",
    "269\n",
    "260\n",
    "263\"\"\".splitlines()\n",
    "\n",
    "inputdata = downloaded['input'].splitlines()"
   ]
  },
  {
   "cell_type": "code",
   "execution_count": 6,
   "metadata": {},
   "outputs": [],
   "source": [
    "from collections.abc import Iterable\n",
    "\n",
    "\n",
    "# Looking at Part Two, I think it is kind of funny how here\n",
    "# I have to yield, then update the \"window\", whereas in `sliding_window`,\n",
    "# I can update, then yield\n",
    "def increasing(values: Iterable[int],\n",
    "               debug: bool = False) -> Iterable[bool]:\n",
    "    for i, v in enumerate(values):\n",
    "        if i == 0:\n",
    "            prev = v\n",
    "            continue\n",
    "        if debug:\n",
    "            print(f'{prev=}, {v=}')\n",
    "        yield v > prev\n",
    "        prev = v\n",
    "\n",
    "\n",
    "def my_part1_solution(data: Iterable[str],\n",
    "                      debug: bool = False) -> int:\n",
    "    return sum(\n",
    "        increasing(\n",
    "            (int(v) for v in data),\n",
    "            debug=debug))"
   ]
  },
  {
   "cell_type": "code",
   "execution_count": 7,
   "metadata": {},
   "outputs": [
    {
     "name": "stdout",
     "output_type": "stream",
     "text": [
      "prev=199, v=200\n",
      "prev=200, v=208\n",
      "prev=208, v=210\n",
      "prev=210, v=200\n",
      "prev=200, v=207\n",
      "prev=207, v=240\n",
      "prev=240, v=269\n",
      "prev=269, v=260\n",
      "prev=260, v=263\n"
     ]
    }
   ],
   "source": [
    "assert(my_part1_solution(testdata, debug=True) == 7)"
   ]
  },
  {
   "cell_type": "code",
   "execution_count": 8,
   "metadata": {},
   "outputs": [
    {
     "data": {
      "text/plain": [
       "1342"
      ]
     },
     "execution_count": 8,
     "metadata": {},
     "output_type": "execute_result"
    }
   ],
   "source": [
    "my_part1_solution(inputdata)"
   ]
  },
  {
   "cell_type": "code",
   "execution_count": 9,
   "metadata": {},
   "outputs": [
    {
     "data": {
      "text/html": [
       "\n",
       "<p>Your puzzle answer was <code>1342</code>.</p>"
      ],
      "text/plain": [
       "<IPython.core.display.HTML object>"
      ]
     },
     "execution_count": 9,
     "metadata": {},
     "output_type": "execute_result"
    }
   ],
   "source": [
    "HTML(downloaded['part1_footer'])"
   ]
  },
  {
   "cell_type": "markdown",
   "metadata": {},
   "source": [
    "## Part Two"
   ]
  },
  {
   "cell_type": "code",
   "execution_count": 10,
   "metadata": {},
   "outputs": [
    {
     "data": {
      "text/html": [
       "<h2 id=\"part2\">--- Part Two ---</h2><p>Considering every single measurement isn't as useful as you expected: there's just too much noise in the data.</p>\n",
       "<p>Instead, consider sums of a <em>three-measurement sliding window</em>.  Again considering the above example:</p>\n",
       "<pre><code>199  A      \n",
       "200  A B    \n",
       "208  A B C  \n",
       "210    B C D\n",
       "200  E   C D\n",
       "207  E F   D\n",
       "240  E F G  \n",
       "269    F G H\n",
       "260      G H\n",
       "263        H\n",
       "</code></pre>\n",
       "<p>Start by comparing the first and second three-measurement windows. The measurements in the first window are marked <code>A</code> (<code>199</code>, <code>200</code>, <code>208</code>); their sum is <code>199 + 200 + 208 = 607</code>. The second window is marked <code>B</code> (<code>200</code>, <code>208</code>, <code>210</code>); its sum is <code>618</code>. The sum of measurements in the second window is larger than the sum of the first, so this first comparison <em>increased</em>.</p>\n",
       "<p>Your goal now is to count <em>the number of times the sum of measurements in this sliding window increases</em> from the previous sum. So, compare <code>A</code> with <code>B</code>, then compare <code>B</code> with <code>C</code>, then <code>C</code> with <code>D</code>, and so on. Stop when there aren't enough measurements left to create a new three-measurement sum.</p>\n",
       "<p>In the above example, the sum of each three-measurement window is as follows:</p>\n",
       "<pre><code>A: 607 (N/A - no previous sum)\n",
       "B: 618 (<em>increased</em>)\n",
       "C: 618 (no change)\n",
       "D: 617 (decreased)\n",
       "E: 647 (<em>increased</em>)\n",
       "F: 716 (<em>increased</em>)\n",
       "G: 769 (<em>increased</em>)\n",
       "H: 792 (<em>increased</em>)\n",
       "</code></pre>\n",
       "<p>In this example, there are <em><code>5</code></em> sums that are larger than the previous sum.</p>\n",
       "<p>Consider sums of a three-measurement sliding window. <em>How many sums are larger than the previous sum?</em></p>\n"
      ],
      "text/plain": [
       "<IPython.core.display.HTML object>"
      ]
     },
     "execution_count": 10,
     "metadata": {},
     "output_type": "execute_result"
    }
   ],
   "source": [
    "HTML(downloaded['part2'])"
   ]
  },
  {
   "cell_type": "code",
   "execution_count": 11,
   "metadata": {
    "tags": []
   },
   "outputs": [],
   "source": [
    "def sliding_window(values: Iterable[int],\n",
    "                   window_length: int = 3,\n",
    "                   debug: bool = False) -> Iterable[int]:\n",
    "    window = window_length * [None]\n",
    "    for i, v in enumerate(values):\n",
    "        window = window[1:] + [v]\n",
    "        if debug:\n",
    "            print(f'{window=}')\n",
    "        if i < window_length - 1:\n",
    "            continue\n",
    "        yield sum(window)\n",
    "\n",
    "\n",
    "def my_part2_solution(data: Iterable[str],\n",
    "                      debug: bool = False) -> int:\n",
    "    return sum(\n",
    "        increasing(\n",
    "            sliding_window(\n",
    "                (int(v) for v in data),\n",
    "                debug=debug)))"
   ]
  },
  {
   "cell_type": "code",
   "execution_count": 12,
   "metadata": {},
   "outputs": [
    {
     "name": "stdout",
     "output_type": "stream",
     "text": [
      "window=[None, None, 199]\n",
      "window=[None, 199, 200]\n",
      "window=[199, 200, 208]\n",
      "window=[200, 208, 210]\n",
      "window=[208, 210, 200]\n",
      "window=[210, 200, 207]\n",
      "window=[200, 207, 240]\n",
      "window=[207, 240, 269]\n",
      "window=[240, 269, 260]\n",
      "window=[269, 260, 263]\n"
     ]
    }
   ],
   "source": [
    "assert(my_part2_solution(testdata, debug=True) == 5)"
   ]
  },
  {
   "cell_type": "code",
   "execution_count": 13,
   "metadata": {},
   "outputs": [
    {
     "data": {
      "text/plain": [
       "1378"
      ]
     },
     "execution_count": 13,
     "metadata": {},
     "output_type": "execute_result"
    }
   ],
   "source": [
    "my_part2_solution(inputdata)"
   ]
  },
  {
   "cell_type": "code",
   "execution_count": 14,
   "metadata": {},
   "outputs": [
    {
     "data": {
      "text/html": [
       "\n",
       "<p>Your puzzle answer was <code>1378</code>.</p><p class=\"day-success\">Both parts of this puzzle are complete! They provide two gold stars: **</p>\n",
       "<p>At this point, you should <a href=\"/2021\">return to your Advent calendar</a> and try another puzzle.</p>\n",
       "<p>If you still want to see it, you can <a href=\"1/input\" target=\"_blank\">get your puzzle input</a>.</p>\n",
       "<p>You can also <span class=\"share\">[Share<span class=\"share-content\">on\n",
       "  <a href=\"https://twitter.com/intent/tweet?text=I%27ve+completed+%22Sonar+Sweep%22+%2D+Day+1+%2D+Advent+of+Code+2021&amp;url=https%3A%2F%2Fadventofcode%2Ecom%2F2021%2Fday%2F1&amp;related=ericwastl&amp;hashtags=AdventOfCode\" target=\"_blank\">Twitter</a>\n",
       "  <a href=\"javascript:void(0);\" onclick=\"var mastodon_instance=prompt('Mastodon Instance / Server Name?'); if(typeof mastodon_instance==='string' && mastodon_instance.length){this.href='https://'+mastodon_instance+'/share?text=I%27ve+completed+%22Sonar+Sweep%22+%2D+Day+1+%2D+Advent+of+Code+2021+%23AdventOfCode+https%3A%2F%2Fadventofcode%2Ecom%2F2021%2Fday%2F1'}else{return false;}\" target=\"_blank\">Mastodon</a\n",
       "></span>]</span> this puzzle.</p>\n"
      ],
      "text/plain": [
       "<IPython.core.display.HTML object>"
      ]
     },
     "execution_count": 14,
     "metadata": {},
     "output_type": "execute_result"
    }
   ],
   "source": [
    "HTML(downloaded['part2_footer'])"
   ]
  }
 ],
 "metadata": {
  "interpreter": {
   "hash": "aee8b7b246df8f9039afb4144a1f6fd8d2ca17a180786b69acc140d282b71a49"
  },
  "kernelspec": {
   "display_name": "Python 3.9.7 64-bit",
   "name": "python3"
  },
  "language_info": {
   "codemirror_mode": {
    "name": "ipython",
    "version": 3
   },
   "file_extension": ".py",
   "mimetype": "text/x-python",
   "name": "python",
   "nbconvert_exporter": "python",
   "pygments_lexer": "ipython3",
   "version": "3.10.0"
  }
 },
 "nbformat": 4,
 "nbformat_minor": 4
}

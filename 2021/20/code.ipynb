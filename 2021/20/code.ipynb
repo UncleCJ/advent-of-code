{
 "cells": [
  {
   "attachments": {},
   "cell_type": "markdown",
   "metadata": {},
   "source": [
    "# Day 20: Trench Map\n",
    "\n",
    "[*Advent of Code 2021 day 20*](https://adventofcode.com/2021/day/20) and [*solution megathread*](https://redd.it/rkf5ek)\n",
    "\n",
    "[![nbviewer](https://raw.githubusercontent.com/jupyter/design/master/logos/Badges/nbviewer_badge.svg)](https://nbviewer.jupyter.org/github/UncleCJ/advent-of-code/blob/cj/2021/20/code.ipynb) [![Binder](https://mybinder.org/badge_logo.svg)](https://mybinder.org/v2/gh/UncleCJ/advent-of-code/cj?filepath=2021%2F20%2Fcode.ipynb)"
   ]
  },
  {
   "cell_type": "code",
   "execution_count": 1,
   "metadata": {},
   "outputs": [
    {
     "name": "stdout",
     "output_type": "stream",
     "text": [
      "Writing 'downloaded' (dict) to file 'downloaded'.\n"
     ]
    }
   ],
   "source": [
    "from IPython.display import HTML\n",
    "import sys\n",
    "\n",
    "sys.path.append('../../')\n",
    "import common\n",
    "\n",
    "downloaded = common.refresh()\n",
    "%store downloaded >downloaded"
   ]
  },
  {
   "cell_type": "markdown",
   "metadata": {},
   "source": [
    "## Part One"
   ]
  },
  {
   "cell_type": "code",
   "execution_count": 2,
   "metadata": {},
   "outputs": [
    {
     "data": {
      "text/html": [
       "<h2>--- Day 20: Trench Map ---</h2><p>With the scanners fully deployed, you turn their attention to mapping the floor of the ocean trench.</p>\n",
       "<p>When you get back the image from the scanners, it seems to just be random noise. Perhaps you can combine an image enhancement algorithm and the input image (your puzzle input) to clean it up a little.</p>\n",
       "<p>For example:</p>\n",
       "<pre><code>..#.#..#####.#.#.#.###.##.....###.##.#..###.####..#####..#....#..#..##..##\n",
       "#..######.###...####..#..#####..##..#.#####...##.#.#..#.##..#.#......#.###\n",
       ".######.###.####...#.##.##..#..#..#####.....#.#....###..#.##......#.....#.\n",
       ".#..#..##..#...##.######.####.####.#.#...#.......#..#.#.#...####.##.#.....\n",
       ".#..#...##.#.##..#...##.#.##..###.#......#.#.......#.#.#.####.###.##...#..\n",
       "...####.#..#..#.##.#....##..#.####....##...##..#...#......#.#.......#.....\n",
       "..##..####..#...#.#.#...##..#.#..###..#####........#..####......#..#\n",
       "\n",
       "#..#.\n",
       "#....\n",
       "##..#\n",
       "..#..\n",
       "..###\n",
       "</code></pre>\n",
       "<p>The first section is the <em>image enhancement algorithm</em>. It is normally given on a single line, but it has been wrapped to multiple lines in this example for legibility. The second section is the <em>input image</em>, a two-dimensional grid of <em>light pixels</em> (<code>#</code>) and <em>dark pixels</em> (<code>.</code>).</p>\n",
       "<p>The image enhancement algorithm describes how to enhance an image by <em>simultaneously</em> converting all pixels in the input image into an output image. Each pixel of the output image is determined by looking at a 3x3 square of pixels centered on the corresponding input image pixel. So, to determine the value of the pixel at (5,10) in the output image, nine pixels from the input image need to be considered: (4,9), (4,10), (4,11), (5,9), (5,10), (5,11), (6,9), (6,10), and (6,11). These nine input pixels are combined into a single binary number that is used as an index in the <em>image enhancement algorithm</em> string.</p>\n",
       "<p>For example, to determine the output pixel that corresponds to the very middle pixel of the input image, the nine pixels marked by <code>[...]</code> would need to be considered:</p>\n",
       "<pre><code># . . # .\n",
       "#[. . .].\n",
       "#[# . .]#\n",
       ".[. # .].\n",
       ". . # # #\n",
       "</code></pre>\n",
       "<p>Starting from the top-left and reading across each row, these pixels are <code>...</code>, then <code>#..</code>, then <code>.#.</code>; combining these forms <code>...#...#.</code>. By turning dark pixels (<code>.</code>) into <code>0</code> and light pixels (<code>#</code>) into <code>1</code>, the binary number <code>000100010</code> can be formed, which is <code>34</code> in decimal.</p>\n",
       "<p>The image enhancement algorithm string is exactly 512 characters long, enough to match every possible 9-bit binary number. The first few characters of the string (numbered starting from zero) are as follows:</p>\n",
       "<pre><code>0         10        20        30  <em>34</em>    40        50        60        70\n",
       "|         |         |         |   <em>|</em>     |         |         |         |\n",
       "..#.#..#####.#.#.#.###.##.....###.<em>#</em>#.#..###.####..#####..#....#..#..##..##\n",
       "</code></pre>\n",
       "<p>In the middle of this first group of characters, the character at index 34 can be found: <code>#</code>. So, the output pixel in the center of the output image should be <code>#</code>, a <em>light pixel</em>.</p>\n",
       "<p>This process can then be repeated to calculate every pixel of the output image.</p>\n",
       "<p>Through advances in imaging technology, the images being operated on here are <em>infinite</em> in size. <em>Every</em> pixel of the infinite output image needs to be calculated exactly based on the relevant pixels of the input image. The small input image you have is only a small region of the actual infinite input image; the rest of the input image consists of dark pixels (<code>.</code>). For the purposes of the example, to save on space, only a portion of the infinite-sized input and output images will be shown.</p>\n",
       "<p>The starting input image, therefore, looks something like this, with more dark pixels (<code>.</code>) extending forever in every direction not shown here:</p>\n",
       "<pre><code>...............\n",
       "...............\n",
       "...............\n",
       "...............\n",
       "...............\n",
       ".....#..#......\n",
       ".....#.........\n",
       ".....##..#.....\n",
       ".......#.......\n",
       ".......###.....\n",
       "...............\n",
       "...............\n",
       "...............\n",
       "...............\n",
       "...............\n",
       "</code></pre>\n",
       "<p>By applying the image enhancement algorithm to every pixel simultaneously, the following output image can be obtained:</p>\n",
       "<pre><code>...............\n",
       "...............\n",
       "...............\n",
       "...............\n",
       ".....##.##.....\n",
       "....#..#.#.....\n",
       "....##.#..#....\n",
       "....####..#....\n",
       ".....#..##.....\n",
       "......##..#....\n",
       ".......#.#.....\n",
       "...............\n",
       "...............\n",
       "...............\n",
       "...............\n",
       "</code></pre>\n",
       "<p>Through further advances in imaging technology, the above output image can also be used as an input image! This allows it to be enhanced <em>a second time</em>:</p>\n",
       "<pre><code>...............\n",
       "...............\n",
       "...............\n",
       "..........#....\n",
       "....#..#.#.....\n",
       "...#.#...###...\n",
       "...#...##.#....\n",
       "...#.....#.#...\n",
       "....#.#####....\n",
       ".....#.#####...\n",
       "......##.##....\n",
       ".......###.....\n",
       "...............\n",
       "...............\n",
       "...............\n",
       "</code></pre>\n",
       "<p>Truly incredible - now the small details are really starting to come through. After enhancing the original input image twice, <code><em>35</em></code> pixels are lit.</p>\n",
       "<p>Start with the original input image and apply the image enhancement algorithm twice, being careful to account for the infinite size of the images. <em>How many pixels are lit in the resulting image?</em></p>\n"
      ],
      "text/plain": [
       "<IPython.core.display.HTML object>"
      ]
     },
     "execution_count": 2,
     "metadata": {},
     "output_type": "execute_result"
    }
   ],
   "source": [
    "HTML(downloaded['part1'])"
   ]
  },
  {
   "cell_type": "markdown",
   "metadata": {},
   "source": [
    "## Boilerplate\n",
    "\n",
    "Let's try using [pycodestyle_magic](https://github.com/mattijn/pycodestyle_magic) with pycodestyle (flake8 stopped working for me in VS Code Jupyter). Now how does type checking work?"
   ]
  },
  {
   "cell_type": "code",
   "execution_count": 5,
   "metadata": {},
   "outputs": [],
   "source": [
    "%load_ext pycodestyle_magic"
   ]
  },
  {
   "cell_type": "code",
   "execution_count": 6,
   "metadata": {},
   "outputs": [],
   "source": [
    "%pycodestyle_on"
   ]
  },
  {
   "cell_type": "markdown",
   "metadata": {},
   "source": [
    "## Comments\n",
    "\n",
    "It's a jigsaw assembly again, but in three dimensions, oh dear..."
   ]
  },
  {
   "cell_type": "code",
   "execution_count": 17,
   "metadata": {},
   "outputs": [],
   "source": [
    "testdata = []\n",
    "testdata.append((\"\"\"..#.#..#####.#.#.#.###.##.....###.##.#..###.####..#####..#....#..#..##..###..######.###...####..#..#####..##..#.#####...##.#.#..#.##..#.#......#.###.######.###.####...#.##.##..#..#..#####.....#.#....###..#.##......#.....#..#..#..##..#...##.######.####.####.#.#...#.......#..#.#.#...####.##.#......#..#...##.#.##..#...##.#.##..###.#......#.#.......#.#.#.####.###.##...#.....####.#..#..#.##.#....##..#.####....##...##..#...#......#.#.......#.......##..####..#...#.#.#...##..#.#..###..#####........#..####......#..#\n",
    "\n",
    "#..#.\n",
    "#....\n",
    "##..#\n",
    "..#..\n",
    "..###\"\"\".splitlines(), 35))\n",
    "\n",
    "inputdata = downloaded['input']"
   ]
  },
  {
   "cell_type": "code",
   "execution_count": 23,
   "metadata": {},
   "outputs": [
    {
     "name": "stdout",
     "output_type": "stream",
     "text": [
      "..#.#..#####.#.#.#.###.##.....###.##.#..###.####..#####..#....#..#..##..###..######.###...####..#..#####..##..#.#####...##.#.#..#.##..#.#......#.###.######.###.####...#.##.##..#..#..#####.....#.#....###..#.##......#.....#..#..#..##..#...##.######.####.####.#.#...#.......#..#.#.#...####.##.#......#..#...##.#.##..#...##.#.##..###.#......#.#.......#.#.#.####.###.##...#.....####.#..#..#.##.#....##..#.####....##...##..#...#......#.#.......#.......##..####..#...#.#.#...##..#.#..###..#####........#..####......#..#\n"
     ]
    }
   ],
   "source": [
    "print(testdata[0][0][0])"
   ]
  },
  {
   "cell_type": "code",
   "execution_count": 43,
   "metadata": {},
   "outputs": [
    {
     "name": "stderr",
     "output_type": "stream",
     "text": [
      "28:80: E501 line too long (96 > 79 characters)\n",
      "40:1: E303 too many blank lines (3)\n"
     ]
    }
   ],
   "source": [
    "from collections.abc import Iterable\n",
    "\n",
    "\n",
    "def int_to_binstring(i: int, width: int = 9) -> str:\n",
    "    result = ['.'] * width\n",
    "    for n in range(1, width + 1):\n",
    "        if i % 2:\n",
    "            result[-n] = '#'\n",
    "        i = i >> 1\n",
    "        if i == 0:\n",
    "            break\n",
    "    return ''.join(result)\n",
    "\n",
    "\n",
    "def parse_enhancement(data: str) -> dict[str, str]:\n",
    "    result = dict()\n",
    "    for i, c in enumerate(data):\n",
    "        result[int_to_binstring(i)] = c\n",
    "    return result\n",
    "\n",
    "\n",
    "def get_kernel(image: list[str], column: int, row: int) -> list[str]:\n",
    "    size = len(image)\n",
    "    result = []\n",
    "    for j in range(-1, 2):\n",
    "        result_row = ['.'] * 3\n",
    "        for i in range(-1, 2):\n",
    "            if ((row + j < 0) or (column + i < 0) or (row + j >= size) or (column + i >= size)):\n",
    "                result_row[i + 1] = '.'\n",
    "            else:\n",
    "                result_row[i + 1] = image[row + j][column + i]\n",
    "        result.append(''.join(result_row))\n",
    "    return result\n",
    "\n",
    "\n",
    "# def parse_data(data: list[str]):\n",
    "\n",
    "\n",
    "\n",
    "def my_part1_solution(data: str,\n",
    "                      debug: bool = False) -> int:\n",
    "    return 0"
   ]
  },
  {
   "cell_type": "code",
   "execution_count": 28,
   "metadata": {},
   "outputs": [
    {
     "name": "stdout",
     "output_type": "stream",
     "text": [
      "['#..#.', '#....', '##..#', '..#..', '..###']\n"
     ]
    }
   ],
   "source": [
    "testimage = testdata[0][0][2:]\n",
    "print(testimage)"
   ]
  },
  {
   "cell_type": "code",
   "execution_count": 44,
   "metadata": {},
   "outputs": [
    {
     "data": {
      "text/plain": [
       "['...', '##.', '...']"
      ]
     },
     "execution_count": 44,
     "metadata": {},
     "output_type": "execute_result"
    }
   ],
   "source": [
    "get_kernel(testimage, 4, 4)"
   ]
  },
  {
   "cell_type": "code",
   "execution_count": null,
   "metadata": {},
   "outputs": [],
   "source": [
    "my_part1_solution(testdata[0], debug=True)"
   ]
  },
  {
   "cell_type": "code",
   "execution_count": null,
   "metadata": {},
   "outputs": [],
   "source": [
    "# my_part1_solution(inputdata)"
   ]
  },
  {
   "cell_type": "code",
   "execution_count": null,
   "metadata": {},
   "outputs": [],
   "source": [
    "HTML(downloaded['part1_footer'])"
   ]
  },
  {
   "cell_type": "markdown",
   "metadata": {},
   "source": [
    "## Part Two"
   ]
  },
  {
   "cell_type": "code",
   "execution_count": null,
   "metadata": {},
   "outputs": [],
   "source": [
    "# HTML(downloaded['part2'])"
   ]
  },
  {
   "cell_type": "code",
   "execution_count": null,
   "metadata": {
    "tags": []
   },
   "outputs": [],
   "source": [
    "def my_part2_solution(data: str,\n",
    "                      debug: bool = False) -> int:\n",
    "    return 0"
   ]
  },
  {
   "cell_type": "code",
   "execution_count": null,
   "metadata": {},
   "outputs": [],
   "source": [
    "# my_part2_solution(testdata[0])"
   ]
  },
  {
   "cell_type": "code",
   "execution_count": null,
   "metadata": {},
   "outputs": [],
   "source": [
    "# my_part2_solution(inputdata)"
   ]
  },
  {
   "cell_type": "code",
   "execution_count": null,
   "metadata": {},
   "outputs": [],
   "source": [
    "# HTML(downloaded['part2_footer'])"
   ]
  }
 ],
 "metadata": {
  "kernelspec": {
   "display_name": "Python 3",
   "language": "python",
   "name": "python3"
  },
  "language_info": {
   "codemirror_mode": {
    "name": "ipython",
    "version": 3
   },
   "file_extension": ".py",
   "mimetype": "text/x-python",
   "name": "python",
   "nbconvert_exporter": "python",
   "pygments_lexer": "ipython3",
   "version": "3.10.6 (main, Nov 14 2022, 16:10:14) [GCC 11.3.0]"
  },
  "vscode": {
   "interpreter": {
    "hash": "e7370f93d1d0cde622a1f8e1c04877d8463912d04d973331ad4851f04de6915a"
   }
  }
 },
 "nbformat": 4,
 "nbformat_minor": 4
}

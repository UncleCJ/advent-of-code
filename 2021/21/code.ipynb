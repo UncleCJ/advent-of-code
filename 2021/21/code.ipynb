{
 "cells": [
  {
   "cell_type": "markdown",
   "metadata": {},
   "source": [
    "# Day 21: Dirac Dice\n",
    "\n",
    "[*Advent of Code 2021 day 21*](https://adventofcode.com/2021/day/21) and [*solution megathread*]()\n",
    "\n",
    "[![nbviewer](https://raw.githubusercontent.com/jupyter/design/master/logos/Badges/nbviewer_badge.svg)](https://nbviewer.jupyter.org/github/UncleCJ/advent-of-code/blob/cj/2021/21/code.ipynb) [![Binder](https://mybinder.org/badge_logo.svg)](https://mybinder.org/v2/gh/UncleCJ/advent-of-code/cj?filepath=2021%2F21%2Fcode.ipynb)"
   ]
  },
  {
   "cell_type": "code",
   "execution_count": 1,
   "metadata": {},
   "outputs": [
    {
     "name": "stdout",
     "output_type": "stream",
     "text": [
      "Writing 'downloaded' (dict) to file 'downloaded'.\n"
     ]
    }
   ],
   "source": [
    "from IPython.display import HTML\n",
    "import sys\n",
    "\n",
    "sys.path.append('../../')\n",
    "import common\n",
    "\n",
    "downloaded = common.refresh()\n",
    "%store downloaded >downloaded"
   ]
  },
  {
   "cell_type": "markdown",
   "metadata": {},
   "source": [
    "## Part One"
   ]
  },
  {
   "cell_type": "code",
   "execution_count": 2,
   "metadata": {},
   "outputs": [
    {
     "data": {
      "text/html": [
       "<h2>--- Day 21: Dirac Dice ---</h2><p>There's not much to do as you slowly descend to the bottom of the ocean. The submarine computer <span title=\"A STRANGE GAME.\">challenges you to a nice game</span> of <em>Dirac Dice</em>.</p>\n",
       "<p>This game consists of a single <a href=\"https://en.wikipedia.org/wiki/Dice\" target=\"_blank\">die</a>, two <a href=\"https://en.wikipedia.org/wiki/Glossary_of_board_games#piece\" target=\"_blank\">pawns</a>, and a game board with a circular track containing ten spaces marked <code>1</code> through <code>10</code> clockwise. Each player's <em>starting space</em> is chosen randomly (your puzzle input). Player 1 goes first.</p>\n",
       "<p>Players take turns moving. On each player's turn, the player rolls the die <em>three times</em> and adds up the results. Then, the player moves their pawn that many times <em>forward</em> around the track (that is, moving clockwise on spaces in order of increasing value, wrapping back around to <code>1</code> after <code>10</code>). So, if a player is on space <code>7</code> and they roll <code>2</code>, <code>2</code>, and <code>1</code>, they would move forward 5 times, to spaces <code>8</code>, <code>9</code>, <code>10</code>, <code>1</code>, and finally stopping on <code>2</code>.</p>\n",
       "<p>After each player moves, they increase their <em>score</em> by the value of the space their pawn stopped on. Players' scores start at <code>0</code>. So, if the first player starts on space <code>7</code> and rolls a total of <code>5</code>, they would stop on space <code>2</code> and add <code>2</code> to their score (for a total score of <code>2</code>). The game immediately ends as a win for any player whose score reaches <em>at least <code>1000</code></em>.</p>\n",
       "<p>Since the first game is a practice game, the submarine opens a compartment labeled <em>deterministic dice</em> and a 100-sided die falls out. This die always rolls <code>1</code> first, then <code>2</code>, then <code>3</code>, and so on up to <code>100</code>, after which it starts over at <code>1</code> again. Play using this die.</p>\n",
       "<p>For example, given these starting positions:</p>\n",
       "<pre><code>Player 1 starting position: 4\n",
       "Player 2 starting position: 8\n",
       "</code></pre>\n",
       "<p>This is how the game would go:</p>\n",
       "<ul>\n",
       "<li>Player 1 rolls <code>1</code>+<code>2</code>+<code>3</code> and moves to space <code>10</code> for a total score of <code>10</code>.</li>\n",
       "<li>Player 2 rolls <code>4</code>+<code>5</code>+<code>6</code> and moves to space <code>3</code> for a total score of <code>3</code>.</li>\n",
       "<li>Player 1 rolls <code>7</code>+<code>8</code>+<code>9</code> and moves to space <code>4</code> for a total score of <code>14</code>.</li>\n",
       "<li>Player 2 rolls <code>10</code>+<code>11</code>+<code>12</code> and moves to space <code>6</code> for a total score of <code>9</code>.</li>\n",
       "<li>Player 1 rolls <code>13</code>+<code>14</code>+<code>15</code> and moves to space <code>6</code> for a total score of <code>20</code>.</li>\n",
       "<li>Player 2 rolls <code>16</code>+<code>17</code>+<code>18</code> and moves to space <code>7</code> for a total score of <code>16</code>.</li>\n",
       "<li>Player 1 rolls <code>19</code>+<code>20</code>+<code>21</code> and moves to space <code>6</code> for a total score of <code>26</code>.</li>\n",
       "<li>Player 2 rolls <code>22</code>+<code>23</code>+<code>24</code> and moves to space <code>6</code> for a total score of <code>22</code>.</li>\n",
       "</ul>\n",
       "<p>...after many turns...</p>\n",
       "<ul>\n",
       "<li>Player 2 rolls <code>82</code>+<code>83</code>+<code>84</code> and moves to space <code>6</code> for a total score of <code>742</code>.</li>\n",
       "<li>Player 1 rolls <code>85</code>+<code>86</code>+<code>87</code> and moves to space <code>4</code> for a total score of <code>990</code>.</li>\n",
       "<li>Player 2 rolls <code>88</code>+<code>89</code>+<code>90</code> and moves to space <code>3</code> for a total score of <code>745</code>.</li>\n",
       "<li>Player 1 rolls <code>91</code>+<code>92</code>+<code>93</code> and moves to space <code>10</code> for a final score, <code>1000</code>.</li>\n",
       "</ul>\n",
       "<p>Since player 1 has at least <code>1000</code> points, player 1 wins and the game ends. At this point, the losing player had <code>745</code> points and the die had been rolled a total of <code>993</code> times; <code>745 * 993 = <em>739785</em></code>.</p>\n",
       "<p>Play a practice game using the deterministic 100-sided die. The moment either player wins, <em>what do you get if you multiply the score of the losing player by the number of times the die was rolled during the game?</em></p>\n"
      ],
      "text/plain": [
       "<IPython.core.display.HTML object>"
      ]
     },
     "execution_count": 2,
     "metadata": {},
     "output_type": "execute_result"
    }
   ],
   "source": [
    "HTML(downloaded['part1'])"
   ]
  },
  {
   "cell_type": "markdown",
   "metadata": {},
   "source": [
    "## Boilerplate\n",
    "\n",
    "Let's try using [pycodestyle_magic](https://github.com/mattijn/pycodestyle_magic) with pycodestyle (flake8 stopped working for me in VS Code Jupyter). Now how does type checking work?"
   ]
  },
  {
   "cell_type": "code",
   "execution_count": 3,
   "metadata": {},
   "outputs": [],
   "source": [
    "%load_ext pycodestyle_magic"
   ]
  },
  {
   "cell_type": "code",
   "execution_count": 4,
   "metadata": {},
   "outputs": [],
   "source": [
    "%pycodestyle_on"
   ]
  },
  {
   "cell_type": "markdown",
   "metadata": {},
   "source": [
    "## Comments\n",
    "\n",
    "It's a jigsaw assembly again, but in three dimensions, oh dear..."
   ]
  },
  {
   "cell_type": "code",
   "execution_count": 5,
   "metadata": {},
   "outputs": [],
   "source": [
    "testdata = []\n",
    "testdata.append((\"\"\"Player 1 starting position: 4\n",
    "Player 2 starting position: 8\"\"\".splitlines(), 739785))\n",
    "\n",
    "inputdata = downloaded['input'].splitlines()"
   ]
  },
  {
   "cell_type": "code",
   "execution_count": 6,
   "metadata": {},
   "outputs": [
    {
     "name": "stderr",
     "output_type": "stream",
     "text": [
      "18:80: E501 line too long (95 > 79 characters)\n",
      "25:80: E501 line too long (102 > 79 characters)\n",
      "29:80: E501 line too long (80 > 79 characters)\n",
      "38:80: E501 line too long (121 > 79 characters)\n",
      "45:80: E501 line too long (121 > 79 characters)\n"
     ]
    }
   ],
   "source": [
    "def det_dice():\n",
    "    while True:\n",
    "        for i in range(1, 100 + 1):\n",
    "            yield i\n",
    "\n",
    "\n",
    "def three_rolls(d):\n",
    "    return next(d), next(d), next(d)\n",
    "\n",
    "\n",
    "def parse_data(data: list[str]) -> tuple[int, int]:\n",
    "    offset = len('Player 1 starting position: ')\n",
    "    p1 = int(data[0][offset:])\n",
    "    p2 = int(data[1][offset:])\n",
    "    return p1, p2\n",
    "\n",
    "\n",
    "def play_round(pos: int, dice, track_length: int = 10, cumscore: int = 0, debug: bool = False):\n",
    "    r1, r2, r3 = three_rolls(dice)\n",
    "    steps = sum((r1, r2, r3))\n",
    "    pos = (pos + steps) % track_length\n",
    "    if pos == 0:\n",
    "        pos = track_length\n",
    "    if debug:\n",
    "        print(f'Player rolls {r1}+{r2}+{r3} and moves to {pos} for a total score of {cumscore + pos}')\n",
    "    return pos\n",
    "\n",
    "\n",
    "def play_game1(p1_pos: int, p2_pos: int, goal: int = 1000, debug: bool = False):\n",
    "    dice = det_dice()\n",
    "    p1_score = p2_score = roll_count = 0\n",
    "    while True:\n",
    "        p1_pos = play_round(p1_pos, dice, cumscore=p1_score, debug=debug)\n",
    "        p1_score += p1_pos\n",
    "        roll_count += 3\n",
    "        if p1_score >= goal:\n",
    "            if debug:\n",
    "                print(f'Player 1 won at {p1_score}, player 2 had {p2_score} and the dice were rolled {roll_count} times')\n",
    "            return p2_score * roll_count\n",
    "        p2_pos = play_round(p2_pos, dice, cumscore=p2_score, debug=debug)\n",
    "        p2_score += p2_pos\n",
    "        roll_count += 3\n",
    "        if p2_score >= goal:\n",
    "            if debug:\n",
    "                print(f'Player 2 won at {p2_score}, player 1 had {p1_score} and the dice were rolled {roll_count} times')\n",
    "            return p1_score * roll_count\n",
    "\n",
    "\n",
    "def my_part1_solution(data: list[str],\n",
    "                      debug: bool = False) -> int:\n",
    "    p1_pos, p2_pos = parse_data(data)\n",
    "    return play_game1(p1_pos, p2_pos, debug=debug)"
   ]
  },
  {
   "cell_type": "code",
   "execution_count": 7,
   "metadata": {},
   "outputs": [
    {
     "name": "stdout",
     "output_type": "stream",
     "text": [
      "Player rolls 1+2+3 and moves to 10 for a total score of 10\n",
      "Player rolls 4+5+6 and moves to 3 for a total score of 3\n",
      "Player rolls 7+8+9 and moves to 4 for a total score of 14\n",
      "Player rolls 10+11+12 and moves to 6 for a total score of 9\n",
      "Player rolls 13+14+15 and moves to 6 for a total score of 20\n",
      "Player rolls 16+17+18 and moves to 7 for a total score of 16\n",
      "Player rolls 19+20+21 and moves to 6 for a total score of 26\n",
      "Player rolls 22+23+24 and moves to 6 for a total score of 22\n",
      "Player rolls 25+26+27 and moves to 4 for a total score of 30\n",
      "Player rolls 28+29+30 and moves to 3 for a total score of 25\n",
      "Player rolls 31+32+33 and moves to 10 for a total score of 40\n",
      "Player rolls 34+35+36 and moves to 8 for a total score of 33\n",
      "Player rolls 37+38+39 and moves to 4 for a total score of 44\n",
      "Player rolls 40+41+42 and moves to 1 for a total score of 34\n",
      "Player rolls 43+44+45 and moves to 6 for a total score of 50\n",
      "Player rolls 46+47+48 and moves to 2 for a total score of 36\n",
      "Player rolls 49+50+51 and moves to 6 for a total score of 56\n",
      "Player rolls 52+53+54 and moves to 1 for a total score of 37\n",
      "Player rolls 55+56+57 and moves to 4 for a total score of 60\n",
      "Player rolls 58+59+60 and moves to 8 for a total score of 45\n",
      "Player rolls 61+62+63 and moves to 10 for a total score of 70\n",
      "Player rolls 64+65+66 and moves to 3 for a total score of 48\n",
      "Player rolls 67+68+69 and moves to 4 for a total score of 74\n",
      "Player rolls 70+71+72 and moves to 6 for a total score of 54\n",
      "Player rolls 73+74+75 and moves to 6 for a total score of 80\n",
      "Player rolls 76+77+78 and moves to 7 for a total score of 61\n",
      "Player rolls 79+80+81 and moves to 6 for a total score of 86\n",
      "Player rolls 82+83+84 and moves to 6 for a total score of 67\n",
      "Player rolls 85+86+87 and moves to 4 for a total score of 90\n",
      "Player rolls 88+89+90 and moves to 3 for a total score of 70\n",
      "Player rolls 91+92+93 and moves to 10 for a total score of 100\n",
      "Player rolls 94+95+96 and moves to 8 for a total score of 78\n",
      "Player rolls 97+98+99 and moves to 4 for a total score of 104\n",
      "Player rolls 100+1+2 and moves to 1 for a total score of 79\n",
      "Player rolls 3+4+5 and moves to 6 for a total score of 110\n",
      "Player rolls 6+7+8 and moves to 2 for a total score of 81\n",
      "Player rolls 9+10+11 and moves to 6 for a total score of 116\n",
      "Player rolls 12+13+14 and moves to 1 for a total score of 82\n",
      "Player rolls 15+16+17 and moves to 4 for a total score of 120\n",
      "Player rolls 18+19+20 and moves to 8 for a total score of 90\n",
      "Player rolls 21+22+23 and moves to 10 for a total score of 130\n",
      "Player rolls 24+25+26 and moves to 3 for a total score of 93\n",
      "Player rolls 27+28+29 and moves to 4 for a total score of 134\n",
      "Player rolls 30+31+32 and moves to 6 for a total score of 99\n",
      "Player rolls 33+34+35 and moves to 6 for a total score of 140\n",
      "Player rolls 36+37+38 and moves to 7 for a total score of 106\n",
      "Player rolls 39+40+41 and moves to 6 for a total score of 146\n",
      "Player rolls 42+43+44 and moves to 6 for a total score of 112\n",
      "Player rolls 45+46+47 and moves to 4 for a total score of 150\n",
      "Player rolls 48+49+50 and moves to 3 for a total score of 115\n",
      "Player rolls 51+52+53 and moves to 10 for a total score of 160\n",
      "Player rolls 54+55+56 and moves to 8 for a total score of 123\n",
      "Player rolls 57+58+59 and moves to 4 for a total score of 164\n",
      "Player rolls 60+61+62 and moves to 1 for a total score of 124\n",
      "Player rolls 63+64+65 and moves to 6 for a total score of 170\n",
      "Player rolls 66+67+68 and moves to 2 for a total score of 126\n",
      "Player rolls 69+70+71 and moves to 6 for a total score of 176\n",
      "Player rolls 72+73+74 and moves to 1 for a total score of 127\n",
      "Player rolls 75+76+77 and moves to 4 for a total score of 180\n",
      "Player rolls 78+79+80 and moves to 8 for a total score of 135\n",
      "Player rolls 81+82+83 and moves to 10 for a total score of 190\n",
      "Player rolls 84+85+86 and moves to 3 for a total score of 138\n",
      "Player rolls 87+88+89 and moves to 4 for a total score of 194\n",
      "Player rolls 90+91+92 and moves to 6 for a total score of 144\n",
      "Player rolls 93+94+95 and moves to 6 for a total score of 200\n",
      "Player rolls 96+97+98 and moves to 7 for a total score of 151\n",
      "Player rolls 99+100+1 and moves to 6 for a total score of 206\n",
      "Player rolls 2+3+4 and moves to 6 for a total score of 157\n",
      "Player rolls 5+6+7 and moves to 4 for a total score of 210\n",
      "Player rolls 8+9+10 and moves to 3 for a total score of 160\n",
      "Player rolls 11+12+13 and moves to 10 for a total score of 220\n",
      "Player rolls 14+15+16 and moves to 8 for a total score of 168\n",
      "Player rolls 17+18+19 and moves to 4 for a total score of 224\n",
      "Player rolls 20+21+22 and moves to 1 for a total score of 169\n",
      "Player rolls 23+24+25 and moves to 6 for a total score of 230\n",
      "Player rolls 26+27+28 and moves to 2 for a total score of 171\n",
      "Player rolls 29+30+31 and moves to 6 for a total score of 236\n",
      "Player rolls 32+33+34 and moves to 1 for a total score of 172\n",
      "Player rolls 35+36+37 and moves to 4 for a total score of 240\n",
      "Player rolls 38+39+40 and moves to 8 for a total score of 180\n",
      "Player rolls 41+42+43 and moves to 10 for a total score of 250\n",
      "Player rolls 44+45+46 and moves to 3 for a total score of 183\n",
      "Player rolls 47+48+49 and moves to 4 for a total score of 254\n",
      "Player rolls 50+51+52 and moves to 6 for a total score of 189\n",
      "Player rolls 53+54+55 and moves to 6 for a total score of 260\n",
      "Player rolls 56+57+58 and moves to 7 for a total score of 196\n",
      "Player rolls 59+60+61 and moves to 6 for a total score of 266\n",
      "Player rolls 62+63+64 and moves to 6 for a total score of 202\n",
      "Player rolls 65+66+67 and moves to 4 for a total score of 270\n",
      "Player rolls 68+69+70 and moves to 3 for a total score of 205\n",
      "Player rolls 71+72+73 and moves to 10 for a total score of 280\n",
      "Player rolls 74+75+76 and moves to 8 for a total score of 213\n",
      "Player rolls 77+78+79 and moves to 4 for a total score of 284\n",
      "Player rolls 80+81+82 and moves to 1 for a total score of 214\n",
      "Player rolls 83+84+85 and moves to 6 for a total score of 290\n",
      "Player rolls 86+87+88 and moves to 2 for a total score of 216\n",
      "Player rolls 89+90+91 and moves to 6 for a total score of 296\n",
      "Player rolls 92+93+94 and moves to 1 for a total score of 217\n",
      "Player rolls 95+96+97 and moves to 4 for a total score of 300\n",
      "Player rolls 98+99+100 and moves to 8 for a total score of 225\n",
      "Player rolls 1+2+3 and moves to 10 for a total score of 310\n",
      "Player rolls 4+5+6 and moves to 3 for a total score of 228\n",
      "Player rolls 7+8+9 and moves to 4 for a total score of 314\n",
      "Player rolls 10+11+12 and moves to 6 for a total score of 234\n",
      "Player rolls 13+14+15 and moves to 6 for a total score of 320\n",
      "Player rolls 16+17+18 and moves to 7 for a total score of 241\n",
      "Player rolls 19+20+21 and moves to 6 for a total score of 326\n",
      "Player rolls 22+23+24 and moves to 6 for a total score of 247\n",
      "Player rolls 25+26+27 and moves to 4 for a total score of 330\n",
      "Player rolls 28+29+30 and moves to 3 for a total score of 250\n",
      "Player rolls 31+32+33 and moves to 10 for a total score of 340\n",
      "Player rolls 34+35+36 and moves to 8 for a total score of 258\n",
      "Player rolls 37+38+39 and moves to 4 for a total score of 344\n",
      "Player rolls 40+41+42 and moves to 1 for a total score of 259\n",
      "Player rolls 43+44+45 and moves to 6 for a total score of 350\n",
      "Player rolls 46+47+48 and moves to 2 for a total score of 261\n",
      "Player rolls 49+50+51 and moves to 6 for a total score of 356\n",
      "Player rolls 52+53+54 and moves to 1 for a total score of 262\n",
      "Player rolls 55+56+57 and moves to 4 for a total score of 360\n",
      "Player rolls 58+59+60 and moves to 8 for a total score of 270\n",
      "Player rolls 61+62+63 and moves to 10 for a total score of 370\n",
      "Player rolls 64+65+66 and moves to 3 for a total score of 273\n",
      "Player rolls 67+68+69 and moves to 4 for a total score of 374\n",
      "Player rolls 70+71+72 and moves to 6 for a total score of 279\n",
      "Player rolls 73+74+75 and moves to 6 for a total score of 380\n",
      "Player rolls 76+77+78 and moves to 7 for a total score of 286\n",
      "Player rolls 79+80+81 and moves to 6 for a total score of 386\n",
      "Player rolls 82+83+84 and moves to 6 for a total score of 292\n",
      "Player rolls 85+86+87 and moves to 4 for a total score of 390\n",
      "Player rolls 88+89+90 and moves to 3 for a total score of 295\n",
      "Player rolls 91+92+93 and moves to 10 for a total score of 400\n",
      "Player rolls 94+95+96 and moves to 8 for a total score of 303\n",
      "Player rolls 97+98+99 and moves to 4 for a total score of 404\n",
      "Player rolls 100+1+2 and moves to 1 for a total score of 304\n",
      "Player rolls 3+4+5 and moves to 6 for a total score of 410\n",
      "Player rolls 6+7+8 and moves to 2 for a total score of 306\n",
      "Player rolls 9+10+11 and moves to 6 for a total score of 416\n",
      "Player rolls 12+13+14 and moves to 1 for a total score of 307\n",
      "Player rolls 15+16+17 and moves to 4 for a total score of 420\n",
      "Player rolls 18+19+20 and moves to 8 for a total score of 315\n",
      "Player rolls 21+22+23 and moves to 10 for a total score of 430\n",
      "Player rolls 24+25+26 and moves to 3 for a total score of 318\n",
      "Player rolls 27+28+29 and moves to 4 for a total score of 434\n",
      "Player rolls 30+31+32 and moves to 6 for a total score of 324\n",
      "Player rolls 33+34+35 and moves to 6 for a total score of 440\n",
      "Player rolls 36+37+38 and moves to 7 for a total score of 331\n",
      "Player rolls 39+40+41 and moves to 6 for a total score of 446\n",
      "Player rolls 42+43+44 and moves to 6 for a total score of 337\n",
      "Player rolls 45+46+47 and moves to 4 for a total score of 450\n",
      "Player rolls 48+49+50 and moves to 3 for a total score of 340\n",
      "Player rolls 51+52+53 and moves to 10 for a total score of 460\n",
      "Player rolls 54+55+56 and moves to 8 for a total score of 348\n",
      "Player rolls 57+58+59 and moves to 4 for a total score of 464\n",
      "Player rolls 60+61+62 and moves to 1 for a total score of 349\n",
      "Player rolls 63+64+65 and moves to 6 for a total score of 470\n",
      "Player rolls 66+67+68 and moves to 2 for a total score of 351\n",
      "Player rolls 69+70+71 and moves to 6 for a total score of 476\n",
      "Player rolls 72+73+74 and moves to 1 for a total score of 352\n",
      "Player rolls 75+76+77 and moves to 4 for a total score of 480\n",
      "Player rolls 78+79+80 and moves to 8 for a total score of 360\n",
      "Player rolls 81+82+83 and moves to 10 for a total score of 490\n",
      "Player rolls 84+85+86 and moves to 3 for a total score of 363\n",
      "Player rolls 87+88+89 and moves to 4 for a total score of 494\n",
      "Player rolls 90+91+92 and moves to 6 for a total score of 369\n",
      "Player rolls 93+94+95 and moves to 6 for a total score of 500\n",
      "Player rolls 96+97+98 and moves to 7 for a total score of 376\n",
      "Player rolls 99+100+1 and moves to 6 for a total score of 506\n",
      "Player rolls 2+3+4 and moves to 6 for a total score of 382\n",
      "Player rolls 5+6+7 and moves to 4 for a total score of 510\n",
      "Player rolls 8+9+10 and moves to 3 for a total score of 385\n",
      "Player rolls 11+12+13 and moves to 10 for a total score of 520\n",
      "Player rolls 14+15+16 and moves to 8 for a total score of 393\n",
      "Player rolls 17+18+19 and moves to 4 for a total score of 524\n",
      "Player rolls 20+21+22 and moves to 1 for a total score of 394\n",
      "Player rolls 23+24+25 and moves to 6 for a total score of 530\n",
      "Player rolls 26+27+28 and moves to 2 for a total score of 396\n",
      "Player rolls 29+30+31 and moves to 6 for a total score of 536\n",
      "Player rolls 32+33+34 and moves to 1 for a total score of 397\n",
      "Player rolls 35+36+37 and moves to 4 for a total score of 540\n",
      "Player rolls 38+39+40 and moves to 8 for a total score of 405\n",
      "Player rolls 41+42+43 and moves to 10 for a total score of 550\n",
      "Player rolls 44+45+46 and moves to 3 for a total score of 408\n",
      "Player rolls 47+48+49 and moves to 4 for a total score of 554\n",
      "Player rolls 50+51+52 and moves to 6 for a total score of 414\n",
      "Player rolls 53+54+55 and moves to 6 for a total score of 560\n",
      "Player rolls 56+57+58 and moves to 7 for a total score of 421\n",
      "Player rolls 59+60+61 and moves to 6 for a total score of 566\n",
      "Player rolls 62+63+64 and moves to 6 for a total score of 427\n",
      "Player rolls 65+66+67 and moves to 4 for a total score of 570\n",
      "Player rolls 68+69+70 and moves to 3 for a total score of 430\n",
      "Player rolls 71+72+73 and moves to 10 for a total score of 580\n",
      "Player rolls 74+75+76 and moves to 8 for a total score of 438\n",
      "Player rolls 77+78+79 and moves to 4 for a total score of 584\n",
      "Player rolls 80+81+82 and moves to 1 for a total score of 439\n",
      "Player rolls 83+84+85 and moves to 6 for a total score of 590\n",
      "Player rolls 86+87+88 and moves to 2 for a total score of 441\n",
      "Player rolls 89+90+91 and moves to 6 for a total score of 596\n",
      "Player rolls 92+93+94 and moves to 1 for a total score of 442\n",
      "Player rolls 95+96+97 and moves to 4 for a total score of 600\n",
      "Player rolls 98+99+100 and moves to 8 for a total score of 450\n",
      "Player rolls 1+2+3 and moves to 10 for a total score of 610\n",
      "Player rolls 4+5+6 and moves to 3 for a total score of 453\n",
      "Player rolls 7+8+9 and moves to 4 for a total score of 614\n",
      "Player rolls 10+11+12 and moves to 6 for a total score of 459\n",
      "Player rolls 13+14+15 and moves to 6 for a total score of 620\n",
      "Player rolls 16+17+18 and moves to 7 for a total score of 466\n",
      "Player rolls 19+20+21 and moves to 6 for a total score of 626\n",
      "Player rolls 22+23+24 and moves to 6 for a total score of 472\n",
      "Player rolls 25+26+27 and moves to 4 for a total score of 630\n",
      "Player rolls 28+29+30 and moves to 3 for a total score of 475\n",
      "Player rolls 31+32+33 and moves to 10 for a total score of 640\n",
      "Player rolls 34+35+36 and moves to 8 for a total score of 483\n",
      "Player rolls 37+38+39 and moves to 4 for a total score of 644\n",
      "Player rolls 40+41+42 and moves to 1 for a total score of 484\n",
      "Player rolls 43+44+45 and moves to 6 for a total score of 650\n",
      "Player rolls 46+47+48 and moves to 2 for a total score of 486\n",
      "Player rolls 49+50+51 and moves to 6 for a total score of 656\n",
      "Player rolls 52+53+54 and moves to 1 for a total score of 487\n",
      "Player rolls 55+56+57 and moves to 4 for a total score of 660\n",
      "Player rolls 58+59+60 and moves to 8 for a total score of 495\n",
      "Player rolls 61+62+63 and moves to 10 for a total score of 670\n",
      "Player rolls 64+65+66 and moves to 3 for a total score of 498\n",
      "Player rolls 67+68+69 and moves to 4 for a total score of 674\n",
      "Player rolls 70+71+72 and moves to 6 for a total score of 504\n",
      "Player rolls 73+74+75 and moves to 6 for a total score of 680\n",
      "Player rolls 76+77+78 and moves to 7 for a total score of 511\n",
      "Player rolls 79+80+81 and moves to 6 for a total score of 686\n",
      "Player rolls 82+83+84 and moves to 6 for a total score of 517\n",
      "Player rolls 85+86+87 and moves to 4 for a total score of 690\n",
      "Player rolls 88+89+90 and moves to 3 for a total score of 520\n",
      "Player rolls 91+92+93 and moves to 10 for a total score of 700\n",
      "Player rolls 94+95+96 and moves to 8 for a total score of 528\n",
      "Player rolls 97+98+99 and moves to 4 for a total score of 704\n",
      "Player rolls 100+1+2 and moves to 1 for a total score of 529\n",
      "Player rolls 3+4+5 and moves to 6 for a total score of 710\n",
      "Player rolls 6+7+8 and moves to 2 for a total score of 531\n",
      "Player rolls 9+10+11 and moves to 6 for a total score of 716\n",
      "Player rolls 12+13+14 and moves to 1 for a total score of 532\n",
      "Player rolls 15+16+17 and moves to 4 for a total score of 720\n",
      "Player rolls 18+19+20 and moves to 8 for a total score of 540\n",
      "Player rolls 21+22+23 and moves to 10 for a total score of 730\n",
      "Player rolls 24+25+26 and moves to 3 for a total score of 543\n",
      "Player rolls 27+28+29 and moves to 4 for a total score of 734\n",
      "Player rolls 30+31+32 and moves to 6 for a total score of 549\n",
      "Player rolls 33+34+35 and moves to 6 for a total score of 740\n",
      "Player rolls 36+37+38 and moves to 7 for a total score of 556\n",
      "Player rolls 39+40+41 and moves to 6 for a total score of 746\n",
      "Player rolls 42+43+44 and moves to 6 for a total score of 562\n",
      "Player rolls 45+46+47 and moves to 4 for a total score of 750\n",
      "Player rolls 48+49+50 and moves to 3 for a total score of 565\n",
      "Player rolls 51+52+53 and moves to 10 for a total score of 760\n",
      "Player rolls 54+55+56 and moves to 8 for a total score of 573\n",
      "Player rolls 57+58+59 and moves to 4 for a total score of 764\n",
      "Player rolls 60+61+62 and moves to 1 for a total score of 574\n",
      "Player rolls 63+64+65 and moves to 6 for a total score of 770\n",
      "Player rolls 66+67+68 and moves to 2 for a total score of 576\n",
      "Player rolls 69+70+71 and moves to 6 for a total score of 776\n",
      "Player rolls 72+73+74 and moves to 1 for a total score of 577\n",
      "Player rolls 75+76+77 and moves to 4 for a total score of 780\n",
      "Player rolls 78+79+80 and moves to 8 for a total score of 585\n",
      "Player rolls 81+82+83 and moves to 10 for a total score of 790\n",
      "Player rolls 84+85+86 and moves to 3 for a total score of 588\n",
      "Player rolls 87+88+89 and moves to 4 for a total score of 794\n",
      "Player rolls 90+91+92 and moves to 6 for a total score of 594\n",
      "Player rolls 93+94+95 and moves to 6 for a total score of 800\n",
      "Player rolls 96+97+98 and moves to 7 for a total score of 601\n",
      "Player rolls 99+100+1 and moves to 6 for a total score of 806\n",
      "Player rolls 2+3+4 and moves to 6 for a total score of 607\n",
      "Player rolls 5+6+7 and moves to 4 for a total score of 810\n",
      "Player rolls 8+9+10 and moves to 3 for a total score of 610\n",
      "Player rolls 11+12+13 and moves to 10 for a total score of 820\n",
      "Player rolls 14+15+16 and moves to 8 for a total score of 618\n",
      "Player rolls 17+18+19 and moves to 4 for a total score of 824\n",
      "Player rolls 20+21+22 and moves to 1 for a total score of 619\n",
      "Player rolls 23+24+25 and moves to 6 for a total score of 830\n",
      "Player rolls 26+27+28 and moves to 2 for a total score of 621\n",
      "Player rolls 29+30+31 and moves to 6 for a total score of 836\n",
      "Player rolls 32+33+34 and moves to 1 for a total score of 622\n",
      "Player rolls 35+36+37 and moves to 4 for a total score of 840\n",
      "Player rolls 38+39+40 and moves to 8 for a total score of 630\n",
      "Player rolls 41+42+43 and moves to 10 for a total score of 850\n",
      "Player rolls 44+45+46 and moves to 3 for a total score of 633\n",
      "Player rolls 47+48+49 and moves to 4 for a total score of 854\n",
      "Player rolls 50+51+52 and moves to 6 for a total score of 639\n",
      "Player rolls 53+54+55 and moves to 6 for a total score of 860\n",
      "Player rolls 56+57+58 and moves to 7 for a total score of 646\n",
      "Player rolls 59+60+61 and moves to 6 for a total score of 866\n",
      "Player rolls 62+63+64 and moves to 6 for a total score of 652\n",
      "Player rolls 65+66+67 and moves to 4 for a total score of 870\n",
      "Player rolls 68+69+70 and moves to 3 for a total score of 655\n",
      "Player rolls 71+72+73 and moves to 10 for a total score of 880\n",
      "Player rolls 74+75+76 and moves to 8 for a total score of 663\n",
      "Player rolls 77+78+79 and moves to 4 for a total score of 884\n",
      "Player rolls 80+81+82 and moves to 1 for a total score of 664\n",
      "Player rolls 83+84+85 and moves to 6 for a total score of 890\n",
      "Player rolls 86+87+88 and moves to 2 for a total score of 666\n",
      "Player rolls 89+90+91 and moves to 6 for a total score of 896\n",
      "Player rolls 92+93+94 and moves to 1 for a total score of 667\n",
      "Player rolls 95+96+97 and moves to 4 for a total score of 900\n",
      "Player rolls 98+99+100 and moves to 8 for a total score of 675\n",
      "Player rolls 1+2+3 and moves to 10 for a total score of 910\n",
      "Player rolls 4+5+6 and moves to 3 for a total score of 678\n",
      "Player rolls 7+8+9 and moves to 4 for a total score of 914\n",
      "Player rolls 10+11+12 and moves to 6 for a total score of 684\n",
      "Player rolls 13+14+15 and moves to 6 for a total score of 920\n",
      "Player rolls 16+17+18 and moves to 7 for a total score of 691\n",
      "Player rolls 19+20+21 and moves to 6 for a total score of 926\n",
      "Player rolls 22+23+24 and moves to 6 for a total score of 697\n",
      "Player rolls 25+26+27 and moves to 4 for a total score of 930\n",
      "Player rolls 28+29+30 and moves to 3 for a total score of 700\n",
      "Player rolls 31+32+33 and moves to 10 for a total score of 940\n",
      "Player rolls 34+35+36 and moves to 8 for a total score of 708\n",
      "Player rolls 37+38+39 and moves to 4 for a total score of 944\n",
      "Player rolls 40+41+42 and moves to 1 for a total score of 709\n",
      "Player rolls 43+44+45 and moves to 6 for a total score of 950\n",
      "Player rolls 46+47+48 and moves to 2 for a total score of 711\n",
      "Player rolls 49+50+51 and moves to 6 for a total score of 956\n",
      "Player rolls 52+53+54 and moves to 1 for a total score of 712\n",
      "Player rolls 55+56+57 and moves to 4 for a total score of 960\n",
      "Player rolls 58+59+60 and moves to 8 for a total score of 720\n",
      "Player rolls 61+62+63 and moves to 10 for a total score of 970\n",
      "Player rolls 64+65+66 and moves to 3 for a total score of 723\n",
      "Player rolls 67+68+69 and moves to 4 for a total score of 974\n",
      "Player rolls 70+71+72 and moves to 6 for a total score of 729\n",
      "Player rolls 73+74+75 and moves to 6 for a total score of 980\n",
      "Player rolls 76+77+78 and moves to 7 for a total score of 736\n",
      "Player rolls 79+80+81 and moves to 6 for a total score of 986\n",
      "Player rolls 82+83+84 and moves to 6 for a total score of 742\n",
      "Player rolls 85+86+87 and moves to 4 for a total score of 990\n",
      "Player rolls 88+89+90 and moves to 3 for a total score of 745\n",
      "Player rolls 91+92+93 and moves to 10 for a total score of 1000\n",
      "Player 1 won at 1000, player 2 had 745 and the dice were rolled 993 times\n"
     ]
    },
    {
     "data": {
      "text/plain": [
       "739785"
      ]
     },
     "execution_count": 7,
     "metadata": {},
     "output_type": "execute_result"
    }
   ],
   "source": [
    "my_part1_solution(testdata[0][0], debug=True)"
   ]
  },
  {
   "cell_type": "code",
   "execution_count": 8,
   "metadata": {},
   "outputs": [
    {
     "data": {
      "text/plain": [
       "503478"
      ]
     },
     "execution_count": 8,
     "metadata": {},
     "output_type": "execute_result"
    }
   ],
   "source": [
    "my_part1_solution(inputdata)"
   ]
  },
  {
   "cell_type": "code",
   "execution_count": 9,
   "metadata": {},
   "outputs": [],
   "source": [
    "# my_part1_solution(inputdata)"
   ]
  },
  {
   "cell_type": "code",
   "execution_count": 10,
   "metadata": {},
   "outputs": [
    {
     "data": {
      "text/html": [
       "\n",
       "<p>Your puzzle answer was <code>503478</code>.</p><p class=\"day-success\">The first half of this puzzle is complete! It provides one gold star: *</p>\n"
      ],
      "text/plain": [
       "<IPython.core.display.HTML object>"
      ]
     },
     "execution_count": 10,
     "metadata": {},
     "output_type": "execute_result"
    }
   ],
   "source": [
    "HTML(downloaded['part1_footer'])"
   ]
  },
  {
   "cell_type": "markdown",
   "metadata": {},
   "source": [
    "## Part Two"
   ]
  },
  {
   "cell_type": "code",
   "execution_count": 11,
   "metadata": {},
   "outputs": [],
   "source": [
    "# HTML(downloaded['part2'])"
   ]
  },
  {
   "cell_type": "code",
   "execution_count": 12,
   "metadata": {
    "tags": []
   },
   "outputs": [],
   "source": [
    "def my_part2_solution(data: str,\n",
    "                      debug: bool = False) -> int:\n",
    "    return 0"
   ]
  },
  {
   "cell_type": "code",
   "execution_count": 13,
   "metadata": {},
   "outputs": [],
   "source": [
    "# my_part2_solution(testdata[0])"
   ]
  },
  {
   "cell_type": "code",
   "execution_count": 14,
   "metadata": {},
   "outputs": [],
   "source": [
    "# my_part2_solution(inputdata)"
   ]
  },
  {
   "cell_type": "code",
   "execution_count": 15,
   "metadata": {},
   "outputs": [],
   "source": [
    "# HTML(downloaded['part2_footer'])"
   ]
  }
 ],
 "metadata": {
  "interpreter": {
   "hash": "aee8b7b246df8f9039afb4144a1f6fd8d2ca17a180786b69acc140d282b71a49"
  },
  "kernelspec": {
   "display_name": "Python 3.9.7 64-bit",
   "name": "python3"
  },
  "language_info": {
   "codemirror_mode": {
    "name": "ipython",
    "version": 3
   },
   "file_extension": ".py",
   "mimetype": "text/x-python",
   "name": "python",
   "nbconvert_exporter": "python",
   "pygments_lexer": "ipython3",
   "version": "3.10.0"
  }
 },
 "nbformat": 4,
 "nbformat_minor": 4
}

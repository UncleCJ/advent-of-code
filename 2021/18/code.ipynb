{
 "cells": [
  {
   "cell_type": "markdown",
   "metadata": {},
   "source": [
    "# Day 18: Snailfish\n",
    "\n",
    "[*Advent of Code 2021 day 18*](https://adventofcode.com/2021/day/18) and [*solution megathread*](https://www.reddit.com/rizw2c)\n",
    "\n",
    "[![nbviewer](https://raw.githubusercontent.com/jupyter/design/master/logos/Badges/nbviewer_badge.svg)](https://nbviewer.jupyter.org/github/UncleCJ/advent-of-code/blob/cj/2021/18/code.ipynb) [![Binder](https://mybinder.org/badge_logo.svg)](https://mybinder.org/v2/gh/UncleCJ/advent-of-code/cj?filepath=2021%2F18%2Fcode.ipynb)"
   ]
  },
  {
   "cell_type": "code",
   "execution_count": 3,
   "metadata": {},
   "outputs": [
    {
     "name": "stdout",
     "output_type": "stream",
     "text": [
      "Writing 'downloaded' (dict) to file 'downloaded'.\n"
     ]
    }
   ],
   "source": [
    "from IPython.display import HTML\n",
    "import sys\n",
    "\n",
    "sys.path.append('../../')\n",
    "import common\n",
    "\n",
    "downloaded = common.refresh()\n",
    "%store downloaded >downloaded"
   ]
  },
  {
   "cell_type": "markdown",
   "metadata": {},
   "source": [
    "## Part One"
   ]
  },
  {
   "cell_type": "code",
   "execution_count": 2,
   "metadata": {},
   "outputs": [
    {
     "data": {
      "text/html": [
       "<h2>--- Day 18: Snailfish ---</h2><p>You descend into the ocean trench and encounter some <a href=\"https://en.wikipedia.org/wiki/Snailfish\" target=\"_blank\">snailfish</a>. They say they saw the sleigh keys! They'll even tell you which direction the keys went if you help one of the smaller snailfish with his <em><span title=\"Snailfish math is snailfish math!\">math</span> homework</em>.</p>\n",
       "<p>Snailfish numbers aren't like regular numbers. Instead, every snailfish number is a <em>pair</em> - an ordered list of two elements. Each element of the pair can be either a regular number or another pair.</p>\n",
       "<p>Pairs are written as <code>[x,y]</code>, where <code>x</code> and <code>y</code> are the elements within the pair. Here are some example snailfish numbers, one snailfish number per line:</p>\n",
       "<pre><code>[1,2]\n",
       "[[1,2],3]\n",
       "[9,[8,7]]\n",
       "[[1,9],[8,5]]\n",
       "[[[[1,2],[3,4]],[[5,6],[7,8]]],9]\n",
       "[[[9,[3,8]],[[0,9],6]],[[[3,7],[4,9]],3]]\n",
       "[[[[1,3],[5,3]],[[1,3],[8,7]]],[[[4,9],[6,9]],[[8,2],[7,3]]]]\n",
       "</code></pre>\n",
       "<p>This snailfish homework is about <em>addition</em>. To add two snailfish numbers, form a pair from the left and right parameters of the addition operator. For example, <code>[1,2]</code> + <code>[[3,4],5]</code> becomes <code>[[1,2],[[3,4],5]]</code>.</p>\n",
       "<p>There's only one problem: <em>snailfish numbers must always be reduced</em>, and the process of adding two snailfish numbers can result in snailfish numbers that need to be reduced.</p>\n",
       "<p>To <em>reduce a snailfish number</em>, you must repeatedly do the first action in this list that applies to the snailfish number:</p>\n",
       "<ul>\n",
       "<li>If any pair is <em>nested inside four pairs</em>, the leftmost such pair <em>explodes</em>.</li>\n",
       "<li>If any regular number is <em>10 or greater</em>, the leftmost such regular number <em>splits</em>.</li>\n",
       "</ul>\n",
       "<p>Once no action in the above list applies, the snailfish number is reduced.</p>\n",
       "<p>During reduction, at most one action applies, after which the process returns to the top of the list of actions. For example, if <em>split</em> produces a pair that meets the <em>explode</em> criteria, that pair <em>explodes</em> before other <em>splits</em> occur.</p>\n",
       "<p>To <em>explode</em> a pair, the pair's left value is added to the first regular number to the left of the exploding pair (if any), and the pair's right value is added to the first regular number to the right of the exploding pair (if any). Exploding pairs will always consist of two regular numbers. Then, the entire exploding pair is replaced with the regular number <code>0</code>.</p>\n",
       "<p>Here are some examples of a single explode action:</p>\n",
       "<ul>\n",
       "<li><code>[[[[<em>[9,8]</em>,1],2],3],4]</code> becomes <code>[[[[<em>0</em>,<em>9</em>],2],3],4]</code> (the <code>9</code> has no regular number to its left, so it is not added to any regular number).</li>\n",
       "<li><code>[7,[6,[5,[4,<em>[3,2]</em>]]]]</code> becomes <code>[7,[6,[5,[<em>7</em>,<em>0</em>]]]]</code> (the <code>2</code> has no regular number to its right, and so it is not added to any regular number).</li>\n",
       "<li><code>[[6,[5,[4,<em>[3,2]</em>]]],1]</code> becomes <code>[[6,[5,[<em>7</em>,<em>0</em>]]],<em>3</em>]</code>.</li>\n",
       "<li><code>[[3,[2,[1,<em>[7,3]</em>]]],[6,[5,[4,[3,2]]]]]</code> becomes <code>[[3,[2,[<em>8</em>,<em>0</em>]]],[<em>9</em>,[5,[4,[3,2]]]]]</code> (the pair <code>[3,2]</code> is unaffected because the pair <code>[7,3]</code> is further to the left; <code>[3,2]</code> would explode on the next action).</li>\n",
       "<li><code>[[3,[2,[8,0]]],[9,[5,[4,<em>[3,2]</em>]]]]</code> becomes <code>[[3,[2,[8,0]]],[9,[5,[<em>7</em>,<em>0</em>]]]]</code>.</li>\n",
       "</ul>\n",
       "<p>To <em>split</em> a regular number, replace it with a pair; the left element of the pair should be the regular number divided by two and rounded <em>down</em>, while the right element of the pair should be the regular number divided by two and rounded <em>up</em>. For example, <code>10</code> becomes <code>[5,5]</code>, <code>11</code> becomes <code>[5,6]</code>, <code>12</code> becomes <code>[6,6]</code>, and so on.</p>\n",
       "<p>Here is the process of finding the reduced result of <code>[[[[4,3],4],4],[7,[[8,4],9]]]</code> + <code>[1,1]</code>:</p>\n",
       "<pre><code>after addition: [[[[<em>[4,3]</em>,4],4],[7,[[8,4],9]]],[1,1]]\n",
       "after explode:  [[[[0,7],4],[7,[<em>[8,4]</em>,9]]],[1,1]]\n",
       "after explode:  [[[[0,7],4],[<em>15</em>,[0,13]]],[1,1]]\n",
       "after split:    [[[[0,7],4],[[7,8],[0,<em>13</em>]]],[1,1]]\n",
       "after split:    [[[[0,7],4],[[7,8],[0,<em>[6,7]</em>]]],[1,1]]\n",
       "after explode:  [[[[0,7],4],[[7,8],[6,0]]],[8,1]]\n",
       "</code></pre>\n",
       "<p>Once no reduce actions apply, the snailfish number that remains is the actual result of the addition operation: <code>[[[[0,7],4],[[7,8],[6,0]]],[8,1]]</code>.</p>\n",
       "<p>The homework assignment involves adding up a <em>list of snailfish numbers</em> (your puzzle input). The snailfish numbers are each listed on a separate line. Add the first snailfish number and the second, then add that result and the third, then add that result and the fourth, and so on until all numbers in the list have been used once.</p>\n",
       "<p>For example, the final sum of this list is <code>[[[[1,1],[2,2]],[3,3]],[4,4]]</code>:</p>\n",
       "<pre><code>[1,1]\n",
       "[2,2]\n",
       "[3,3]\n",
       "[4,4]\n",
       "</code></pre>\n",
       "<p>The final sum of this list is <code>[[[[3,0],[5,3]],[4,4]],[5,5]]</code>:</p>\n",
       "<pre><code>[1,1]\n",
       "[2,2]\n",
       "[3,3]\n",
       "[4,4]\n",
       "[5,5]\n",
       "</code></pre>\n",
       "<p>The final sum of this list is <code>[[[[5,0],[7,4]],[5,5]],[6,6]]</code>:</p>\n",
       "<pre><code>[1,1]\n",
       "[2,2]\n",
       "[3,3]\n",
       "[4,4]\n",
       "[5,5]\n",
       "[6,6]\n",
       "</code></pre>\n",
       "<p>Here's a slightly larger example:</p>\n",
       "<pre><code>[[[0,[4,5]],[0,0]],[[[4,5],[2,6]],[9,5]]]\n",
       "[7,[[[3,7],[4,3]],[[6,3],[8,8]]]]\n",
       "[[2,[[0,8],[3,4]]],[[[6,7],1],[7,[1,6]]]]\n",
       "[[[[2,4],7],[6,[0,5]]],[[[6,8],[2,8]],[[2,1],[4,5]]]]\n",
       "[7,[5,[[3,8],[1,4]]]]\n",
       "[[2,[2,2]],[8,[8,1]]]\n",
       "[2,9]\n",
       "[1,[[[9,3],9],[[9,0],[0,7]]]]\n",
       "[[[5,[7,4]],7],1]\n",
       "[[[[4,2],2],6],[8,7]]\n",
       "</code></pre>\n",
       "<p>The final sum <code>[[[[8,7],[7,7]],[[8,6],[7,7]]],[[[0,7],[6,6]],[8,7]]]</code> is found after adding up the above snailfish numbers:</p>\n",
       "<pre><code>  [[[0,[4,5]],[0,0]],[[[4,5],[2,6]],[9,5]]]\n",
       "+ [7,[[[3,7],[4,3]],[[6,3],[8,8]]]]\n",
       "= [[[[4,0],[5,4]],[[7,7],[6,0]]],[[8,[7,7]],[[7,9],[5,0]]]]\n",
       "\n",
       "  [[[[4,0],[5,4]],[[7,7],[6,0]]],[[8,[7,7]],[[7,9],[5,0]]]]\n",
       "+ [[2,[[0,8],[3,4]]],[[[6,7],1],[7,[1,6]]]]\n",
       "= [[[[6,7],[6,7]],[[7,7],[0,7]]],[[[8,7],[7,7]],[[8,8],[8,0]]]]\n",
       "\n",
       "  [[[[6,7],[6,7]],[[7,7],[0,7]]],[[[8,7],[7,7]],[[8,8],[8,0]]]]\n",
       "+ [[[[2,4],7],[6,[0,5]]],[[[6,8],[2,8]],[[2,1],[4,5]]]]\n",
       "= [[[[7,0],[7,7]],[[7,7],[7,8]]],[[[7,7],[8,8]],[[7,7],[8,7]]]]\n",
       "\n",
       "  [[[[7,0],[7,7]],[[7,7],[7,8]]],[[[7,7],[8,8]],[[7,7],[8,7]]]]\n",
       "+ [7,[5,[[3,8],[1,4]]]]\n",
       "= [[[[7,7],[7,8]],[[9,5],[8,7]]],[[[6,8],[0,8]],[[9,9],[9,0]]]]\n",
       "\n",
       "  [[[[7,7],[7,8]],[[9,5],[8,7]]],[[[6,8],[0,8]],[[9,9],[9,0]]]]\n",
       "+ [[2,[2,2]],[8,[8,1]]]\n",
       "= [[[[6,6],[6,6]],[[6,0],[6,7]]],[[[7,7],[8,9]],[8,[8,1]]]]\n",
       "\n",
       "  [[[[6,6],[6,6]],[[6,0],[6,7]]],[[[7,7],[8,9]],[8,[8,1]]]]\n",
       "+ [2,9]\n",
       "= [[[[6,6],[7,7]],[[0,7],[7,7]]],[[[5,5],[5,6]],9]]\n",
       "\n",
       "  [[[[6,6],[7,7]],[[0,7],[7,7]]],[[[5,5],[5,6]],9]]\n",
       "+ [1,[[[9,3],9],[[9,0],[0,7]]]]\n",
       "= [[[[7,8],[6,7]],[[6,8],[0,8]]],[[[7,7],[5,0]],[[5,5],[5,6]]]]\n",
       "\n",
       "  [[[[7,8],[6,7]],[[6,8],[0,8]]],[[[7,7],[5,0]],[[5,5],[5,6]]]]\n",
       "+ [[[5,[7,4]],7],1]\n",
       "= [[[[7,7],[7,7]],[[8,7],[8,7]]],[[[7,0],[7,7]],9]]\n",
       "\n",
       "  [[[[7,7],[7,7]],[[8,7],[8,7]]],[[[7,0],[7,7]],9]]\n",
       "+ [[[[4,2],2],6],[8,7]]\n",
       "= [[[[8,7],[7,7]],[[8,6],[7,7]]],[[[0,7],[6,6]],[8,7]]]\n",
       "</code></pre>\n",
       "<p>To check whether it's the right answer, the snailfish teacher only checks the <em>magnitude</em> of the final sum. The magnitude of a pair is 3 times the magnitude of its left element plus 2 times the magnitude of its right element. The magnitude of a regular number is just that number.</p>\n",
       "<p>For example, the magnitude of <code>[9,1]</code> is <code>3*9 + 2*1 = <em>29</em></code>; the magnitude of <code>[1,9]</code> is <code>3*1 + 2*9 = <em>21</em></code>. Magnitude calculations are recursive: the magnitude of <code>[[9,1],[1,9]]</code> is <code>3*29 + 2*21 = <em>129</em></code>.</p>\n",
       "<p>Here are a few more magnitude examples:</p>\n",
       "<ul>\n",
       "<li><code>[[1,2],[[3,4],5]]</code> becomes <code><em>143</em></code>.</li>\n",
       "<li><code>[[[[0,7],4],[[7,8],[6,0]]],[8,1]]</code> becomes <code><em>1384</em></code>.</li>\n",
       "<li><code>[[[[1,1],[2,2]],[3,3]],[4,4]]</code> becomes <code><em>445</em></code>.</li>\n",
       "<li><code>[[[[3,0],[5,3]],[4,4]],[5,5]]</code> becomes <code><em>791</em></code>.</li>\n",
       "<li><code>[[[[5,0],[7,4]],[5,5]],[6,6]]</code> becomes <code><em>1137</em></code>.</li>\n",
       "<li><code>[[[[8,7],[7,7]],[[8,6],[7,7]]],[[[0,7],[6,6]],[8,7]]]</code> becomes <code><em>3488</em></code>.</li>\n",
       "</ul>\n",
       "<p>So, given this example homework assignment:</p>\n",
       "<pre><code>[[[0,[5,8]],[[1,7],[9,6]]],[[4,[1,2]],[[1,4],2]]]\n",
       "[[[5,[2,8]],4],[5,[[9,9],0]]]\n",
       "[6,[[[6,2],[5,6]],[[7,6],[4,7]]]]\n",
       "[[[6,[0,7]],[0,9]],[4,[9,[9,0]]]]\n",
       "[[[7,[6,4]],[3,[1,3]]],[[[5,5],1],9]]\n",
       "[[6,[[7,3],[3,2]]],[[[3,8],[5,7]],4]]\n",
       "[[[[5,4],[7,7]],8],[[8,3],8]]\n",
       "[[9,3],[[9,9],[6,[4,9]]]]\n",
       "[[2,[[7,7],7]],[[5,8],[[9,3],[0,2]]]]\n",
       "[[[[5,2],5],[8,[3,7]]],[[5,[7,5]],[4,4]]]\n",
       "</code></pre>\n",
       "<p>The final sum is:</p>\n",
       "<pre><code>[[[[6,6],[7,6]],[[7,7],[7,0]]],[[[7,7],[7,7]],[[7,8],[9,9]]]]</code></pre>\n",
       "<p>The magnitude of this final sum is <code><em>4140</em></code>.</p>\n",
       "<p>Add up all of the snailfish numbers from the homework assignment in the order they appear. <em>What is the magnitude of the final sum?</em></p>\n"
      ],
      "text/plain": [
       "<IPython.core.display.HTML object>"
      ]
     },
     "execution_count": 2,
     "metadata": {},
     "output_type": "execute_result"
    }
   ],
   "source": [
    "HTML(downloaded['part1'])"
   ]
  },
  {
   "cell_type": "markdown",
   "metadata": {},
   "source": [
    "## Boilerplate\n",
    "\n",
    "Let's try using [pycodestyle_magic](https://github.com/mattijn/pycodestyle_magic) with pycodestyle (flake8 stopped working for me in VS Code Jupyter). Now how does type checking work?"
   ]
  },
  {
   "cell_type": "code",
   "execution_count": 4,
   "metadata": {},
   "outputs": [],
   "source": [
    "%load_ext pycodestyle_magic"
   ]
  },
  {
   "cell_type": "code",
   "execution_count": 5,
   "metadata": {},
   "outputs": [],
   "source": [
    "%pycodestyle_on"
   ]
  },
  {
   "cell_type": "markdown",
   "metadata": {},
   "source": [
    "## Comments\n",
    "\n",
    "Recursive tuple parsing, how hard could it be...?"
   ]
  },
  {
   "cell_type": "code",
   "execution_count": 19,
   "metadata": {},
   "outputs": [],
   "source": [
    "testdata = []\n",
    "testdata.append((\"\"\"[[[0,[5,8]],[[1,7],[9,6]]],[[4,[1,2]],[[1,4],2]]]\n",
    "[[[5,[2,8]],4],[5,[[9,9],0]]]\n",
    "[6,[[[6,2],[5,6]],[[7,6],[4,7]]]]\n",
    "[[[6,[0,7]],[0,9]],[4,[9,[9,0]]]]\n",
    "[[[7,[6,4]],[3,[1,3]]],[[[5,5],1],9]]\n",
    "[[6,[[7,3],[3,2]]],[[[3,8],[5,7]],4]]\n",
    "[[[[5,4],[7,7]],8],[[8,3],8]]\n",
    "[[9,3],[[9,9],[6,[4,9]]]]\n",
    "[[2,[[7,7],7]],[[5,8],[[9,3],[0,2]]]]\n",
    "[[[[5,2],5],[8,[3,7]]],[[5,[7,5]],[4,4]]]\"\"\".splitlines(), 4140))\n",
    "\n",
    "# inputdata = downloaded['input']"
   ]
  },
  {
   "cell_type": "code",
   "execution_count": 23,
   "metadata": {},
   "outputs": [],
   "source": [
    "from typing import Union\n",
    "\n",
    "# SnailNumber = tuple[Union[int, SnailNumber], Union[int, SnailNumber]]\n",
    "\n",
    "\n",
    "def parse_line(data: str, debug: bool = False):\n",
    "    assert(data[0] == '[')\n",
    "    if data[1] == '[':\n",
    "        left, left_len = parse_line(data[1:], debug=debug)\n",
    "        separator = 1 + left_len\n",
    "        if debug:\n",
    "            print(f'Parsed left: {data=}, {left=}, {separator=}')\n",
    "        assert(data[separator] == ',')\n",
    "    else:\n",
    "        separator = data.find(',')\n",
    "        left = int(data[1:separator])\n",
    "        if debug:\n",
    "            print(f'Got left: {data=}, {left=}, {separator=}')\n",
    "\n",
    "    if data[separator + 1] == '[':\n",
    "        right, right_len = parse_line(data[separator + 1:], debug=debug)\n",
    "        closing = separator + right_len + 1\n",
    "        if debug:\n",
    "            print(f'Parsed right: {data=}, {right=}, {closing=}')\n",
    "        assert(data[closing] == ']')\n",
    "    else:\n",
    "        closing = data.find(']', separator)\n",
    "        right = int(data[separator + 1:closing])\n",
    "        if debug:\n",
    "            print(f'Got right: {data=}, {right=}, {closing=}')\n",
    "    if debug:\n",
    "        print(f'Returning: ({left=}, {right=}), {closing=}')\n",
    "    return (left, right), closing + 1\n",
    "\n",
    "\n",
    "def parse_data(data: list[str], debug: bool = False):\n",
    "    result = []\n",
    "    for line in data: \n",
    "        parsed_line, _ = parse_line(line, debug=debug)\n",
    "        result.append(parsed_line)\n",
    "    return result\n",
    "\n",
    "\n",
    "def my_part1_solution(data: str,\n",
    "                      debug: bool = False) -> int:\n",
    "    return 0"
   ]
  },
  {
   "cell_type": "code",
   "execution_count": 22,
   "metadata": {},
   "outputs": [
    {
     "data": {
      "text/plain": [
       "[(((0, (5, 8)), ((1, 7), (9, 6))), ((4, (1, 2)), ((1, 4), 2))),\n",
       " (((5, (2, 8)), 4), (5, ((9, 9), 0))),\n",
       " (6, (((6, 2), (5, 6)), ((7, 6), (4, 7)))),\n",
       " (((6, (0, 7)), (0, 9)), (4, (9, (9, 0)))),\n",
       " (((7, (6, 4)), (3, (1, 3))), (((5, 5), 1), 9)),\n",
       " ((6, ((7, 3), (3, 2))), (((3, 8), (5, 7)), 4)),\n",
       " ((((5, 4), (7, 7)), 8), ((8, 3), 8)),\n",
       " ((9, 3), ((9, 9), (6, (4, 9)))),\n",
       " ((2, ((7, 7), 7)), ((5, 8), ((9, 3), (0, 2)))),\n",
       " ((((5, 2), 5), (8, (3, 7))), ((5, (7, 5)), (4, 4)))]"
      ]
     },
     "execution_count": 22,
     "metadata": {},
     "output_type": "execute_result"
    }
   ],
   "source": [
    "parse_data(testdata[0][0])"
   ]
  },
  {
   "cell_type": "code",
   "execution_count": null,
   "metadata": {},
   "outputs": [],
   "source": [
    "my_part1_solution(testdata[0], debug=True)"
   ]
  },
  {
   "cell_type": "code",
   "execution_count": null,
   "metadata": {},
   "outputs": [],
   "source": [
    "# my_part1_solution(inputdata)"
   ]
  },
  {
   "cell_type": "code",
   "execution_count": null,
   "metadata": {},
   "outputs": [],
   "source": [
    "HTML(downloaded['part1_footer'])"
   ]
  },
  {
   "cell_type": "markdown",
   "metadata": {},
   "source": [
    "## Part Two"
   ]
  },
  {
   "cell_type": "code",
   "execution_count": null,
   "metadata": {},
   "outputs": [],
   "source": [
    "# HTML(downloaded['part2'])"
   ]
  },
  {
   "cell_type": "code",
   "execution_count": null,
   "metadata": {
    "tags": []
   },
   "outputs": [],
   "source": [
    "def my_part2_solution(data: str,\n",
    "                      debug: bool = False) -> int:\n",
    "    return 0"
   ]
  },
  {
   "cell_type": "code",
   "execution_count": null,
   "metadata": {},
   "outputs": [],
   "source": [
    "# my_part2_solution(testdata[0])"
   ]
  },
  {
   "cell_type": "code",
   "execution_count": null,
   "metadata": {},
   "outputs": [],
   "source": [
    "# my_part2_solution(inputdata)"
   ]
  },
  {
   "cell_type": "code",
   "execution_count": null,
   "metadata": {},
   "outputs": [],
   "source": [
    "# HTML(downloaded['part2_footer'])"
   ]
  }
 ],
 "metadata": {
  "interpreter": {
   "hash": "aee8b7b246df8f9039afb4144a1f6fd8d2ca17a180786b69acc140d282b71a49"
  },
  "kernelspec": {
   "display_name": "Python 3.9.7 64-bit",
   "name": "python3"
  },
  "language_info": {
   "codemirror_mode": {
    "name": "ipython",
    "version": 3
   },
   "file_extension": ".py",
   "mimetype": "text/x-python",
   "name": "python",
   "nbconvert_exporter": "python",
   "pygments_lexer": "ipython3",
   "version": "3.10.0"
  }
 },
 "nbformat": 4,
 "nbformat_minor": 4
}

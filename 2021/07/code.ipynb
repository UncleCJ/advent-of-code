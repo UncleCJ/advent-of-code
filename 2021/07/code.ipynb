{
 "cells": [
  {
   "cell_type": "markdown",
   "metadata": {},
   "source": [
    "# Day 7: The Treachery of Whales\n",
    "\n",
    "[*Advent of Code 2021 day 7*](https://adventofcode.com/2021/day/7) and [*solution megathread*](https://www.reddit.com/rar7ty)\n",
    "\n",
    "[![nbviewer](https://raw.githubusercontent.com/jupyter/design/master/logos/Badges/nbviewer_badge.svg)](https://nbviewer.jupyter.org/github/UncleCJ/advent-of-code/blob/cj/2021/07/code.ipynb) [![Binder](https://mybinder.org/badge_logo.svg)](https://mybinder.org/v2/gh/UncleCJ/advent-of-code/cj?filepath=2021%2F07%2Fcode.ipynb)"
   ]
  },
  {
   "cell_type": "code",
   "execution_count": 1,
   "metadata": {},
   "outputs": [
    {
     "name": "stdout",
     "output_type": "stream",
     "text": [
      "Writing 'downloaded' (dict) to file 'downloaded'.\n"
     ]
    }
   ],
   "source": [
    "from IPython.display import HTML\n",
    "import sys\n",
    "\n",
    "sys.path.append('../../')\n",
    "import common\n",
    "\n",
    "downloaded = common.refresh()\n",
    "%store downloaded >downloaded"
   ]
  },
  {
   "cell_type": "markdown",
   "metadata": {},
   "source": [
    "## Part One"
   ]
  },
  {
   "cell_type": "code",
   "execution_count": 2,
   "metadata": {},
   "outputs": [
    {
     "data": {
      "text/html": [
       "<h2>--- Day 7: The Treachery of Whales ---</h2><p>A giant <a href=\"https://en.wikipedia.org/wiki/Sperm_whale\" target=\"_blank\">whale</a> has decided your submarine is its next meal, and it's much faster than you are. There's nowhere to run!</p>\n",
       "<p>Suddenly, a swarm of crabs (each in its own tiny submarine - it's too deep for them otherwise) zooms in to rescue you! They seem to be preparing to blast a hole in the ocean floor; sensors indicate a <em>massive underground cave system</em> just beyond where they're aiming!</p>\n",
       "<p>The crab submarines all need to be aligned before they'll have enough power to blast a large enough hole for your submarine to get through. However, it doesn't look like they'll be aligned before the whale catches you! Maybe you can help?</p>\n",
       "<p>There's one major catch - crab submarines can only move horizontally.</p>\n",
       "<p>You quickly make a list of <em>the horizontal position of each crab</em> (your puzzle input). Crab submarines have limited fuel, so you need to find a way to make all of their horizontal positions match while requiring them to spend as little fuel as possible.</p>\n",
       "<p>For example, consider the following horizontal positions:</p>\n",
       "<pre><code>16,1,2,0,4,2,7,1,2,14</code></pre>\n",
       "<p>This means there's a crab with horizontal position <code>16</code>, a crab with horizontal position <code>1</code>, and so on.</p>\n",
       "<p>Each change of 1 step in horizontal position of a single crab costs 1 fuel. You could choose any horizontal position to align them all on, but the one that costs the least fuel is horizontal position <code>2</code>:</p>\n",
       "<ul>\n",
       "<li>Move from <code>16</code> to <code>2</code>: <code>14</code> fuel</li>\n",
       "<li>Move from <code>1</code> to <code>2</code>: <code>1</code> fuel</li>\n",
       "<li>Move from <code>2</code> to <code>2</code>: <code>0</code> fuel</li>\n",
       "<li>Move from <code>0</code> to <code>2</code>: <code>2</code> fuel</li>\n",
       "<li>Move from <code>4</code> to <code>2</code>: <code>2</code> fuel</li>\n",
       "<li>Move from <code>2</code> to <code>2</code>: <code>0</code> fuel</li>\n",
       "<li>Move from <code>7</code> to <code>2</code>: <code>5</code> fuel</li>\n",
       "<li>Move from <code>1</code> to <code>2</code>: <code>1</code> fuel</li>\n",
       "<li>Move from <code>2</code> to <code>2</code>: <code>0</code> fuel</li>\n",
       "<li>Move from <code>14</code> to <code>2</code>: <code>12</code> fuel</li>\n",
       "</ul>\n",
       "<p>This costs a total of <code><em>37</em></code> fuel. This is the cheapest possible outcome; more expensive outcomes include aligning at position <code>1</code> (<code>41</code> fuel), position <code>3</code> (<code>39</code> fuel), or position <code>10</code> (<code>71</code> fuel).</p>\n",
       "<p>Determine the horizontal position that the crabs can align to using the least fuel possible. <em>How much fuel must they spend to align to that position?</em></p>\n"
      ],
      "text/plain": [
       "<IPython.core.display.HTML object>"
      ]
     },
     "execution_count": 2,
     "metadata": {},
     "output_type": "execute_result"
    }
   ],
   "source": [
    "HTML(downloaded['part1'])"
   ]
  },
  {
   "cell_type": "markdown",
   "metadata": {},
   "source": [
    "## Boilerplate\n",
    "\n",
    "Let's try using [pycodestyle_magic](https://github.com/mattijn/pycodestyle_magic) with pycodestyle (flake8 stopped working for me in VS Code Jupyter). Now how does type checking work?"
   ]
  },
  {
   "cell_type": "code",
   "execution_count": 3,
   "metadata": {},
   "outputs": [],
   "source": [
    "%load_ext pycodestyle_magic"
   ]
  },
  {
   "cell_type": "code",
   "execution_count": 4,
   "metadata": {},
   "outputs": [],
   "source": [
    "%pycodestyle_on"
   ]
  },
  {
   "cell_type": "markdown",
   "metadata": {},
   "source": [
    "## Comments\n",
    "\n",
    "What is this... compute an average?\n",
    "\n",
    "...\n",
    "\n",
    "Hmm... nope. It's too early to realize even why that didn't work in Part One, and this solution is so brute force it feels criminal, but it worked!"
   ]
  },
  {
   "cell_type": "code",
   "execution_count": 5,
   "metadata": {},
   "outputs": [],
   "source": [
    "testdata = \"16,1,2,0,4,2,7,1,2,14\"\n",
    "\n",
    "inputdata = downloaded['input']"
   ]
  },
  {
   "cell_type": "code",
   "execution_count": 7,
   "metadata": {},
   "outputs": [],
   "source": [
    "from collections.abc import Iterable\n",
    "\n",
    "\n",
    "def error_function(crabs: list[int], target: int) -> int:\n",
    "    return sum(abs(crab - target) for crab in crabs)\n",
    "\n",
    "\n",
    "def generate_errors(crabs: list[int]) -> Iterable[dict[int, int]]:\n",
    "    return {target: error_function(crabs, target)\n",
    "            for target in range(min(crabs), max(crabs))}\n",
    "\n",
    "\n",
    "def my_part1_solution(data: str,\n",
    "                      debug: bool = False) -> int:\n",
    "    crabs = list(map(int, data.split(',')))\n",
    "    target = min(generate_errors(crabs).items(), key=lambda x: x[1])[0]\n",
    "    return error_function(crabs, target)"
   ]
  },
  {
   "cell_type": "code",
   "execution_count": 8,
   "metadata": {},
   "outputs": [],
   "source": [
    "assert(my_part1_solution(testdata, debug=True) == 37)"
   ]
  },
  {
   "cell_type": "code",
   "execution_count": 9,
   "metadata": {},
   "outputs": [
    {
     "data": {
      "text/plain": [
       "337833"
      ]
     },
     "execution_count": 9,
     "metadata": {},
     "output_type": "execute_result"
    }
   ],
   "source": [
    "my_part1_solution(inputdata)"
   ]
  },
  {
   "cell_type": "code",
   "execution_count": 10,
   "metadata": {},
   "outputs": [
    {
     "data": {
      "text/html": [
       "\n",
       "<p>Your puzzle answer was <code>337833</code>.</p>"
      ],
      "text/plain": [
       "<IPython.core.display.HTML object>"
      ]
     },
     "execution_count": 10,
     "metadata": {},
     "output_type": "execute_result"
    }
   ],
   "source": [
    "HTML(downloaded['part1_footer'])"
   ]
  },
  {
   "cell_type": "markdown",
   "metadata": {},
   "source": [
    "## Part Two"
   ]
  },
  {
   "cell_type": "code",
   "execution_count": 11,
   "metadata": {},
   "outputs": [
    {
     "data": {
      "text/html": [
       "<h2 id=\"part2\">--- Part Two ---</h2><p>The crabs don't seem interested in your proposed solution. Perhaps you misunderstand crab engineering?</p>\n",
       "<p>As it turns out, crab submarine engines <span title=\"This appears to be due to the modial interaction of magneto-reluctance and capacitive duractance.\">don't burn fuel at a constant rate</span>. Instead, each change of 1 step in horizontal position costs 1 more unit of fuel than the last: the first step costs <code>1</code>, the second step costs <code>2</code>, the third step costs <code>3</code>, and so on.</p>\n",
       "<p>As each crab moves, moving further becomes more expensive. This changes the best horizontal position to align them all on; in the example above, this becomes <code>5</code>:</p>\n",
       "<ul>\n",
       "<li>Move from <code>16</code> to <code>5</code>: <code>66</code> fuel</li>\n",
       "<li>Move from <code>1</code> to <code>5</code>: <code>10</code> fuel</li>\n",
       "<li>Move from <code>2</code> to <code>5</code>: <code>6</code> fuel</li>\n",
       "<li>Move from <code>0</code> to <code>5</code>: <code>15</code> fuel</li>\n",
       "<li>Move from <code>4</code> to <code>5</code>: <code>1</code> fuel</li>\n",
       "<li>Move from <code>2</code> to <code>5</code>: <code>6</code> fuel</li>\n",
       "<li>Move from <code>7</code> to <code>5</code>: <code>3</code> fuel</li>\n",
       "<li>Move from <code>1</code> to <code>5</code>: <code>10</code> fuel</li>\n",
       "<li>Move from <code>2</code> to <code>5</code>: <code>6</code> fuel</li>\n",
       "<li>Move from <code>14</code> to <code>5</code>: <code>45</code> fuel</li>\n",
       "</ul>\n",
       "<p>This costs a total of <code><em>168</em></code> fuel. This is the new cheapest possible outcome; the old alignment position (<code>2</code>) now costs <code>206</code> fuel instead.</p>\n",
       "<p>Determine the horizontal position that the crabs can align to using the least fuel possible so they can make you an escape route! <em>How much fuel must they spend to align to that position?</em></p>\n"
      ],
      "text/plain": [
       "<IPython.core.display.HTML object>"
      ]
     },
     "execution_count": 11,
     "metadata": {},
     "output_type": "execute_result"
    }
   ],
   "source": [
    "HTML(downloaded['part2'])"
   ]
  },
  {
   "cell_type": "code",
   "execution_count": 12,
   "metadata": {
    "tags": []
   },
   "outputs": [],
   "source": [
    "def error_function2(crabs: list[int], target: int) -> int:\n",
    "    distances = [abs(crab - target) for crab in crabs]\n",
    "    return sum((distance * (distance + 1))/2 for distance in distances)\n",
    "\n",
    "\n",
    "def generate_errors2(crabs: list[int]) -> Iterable[dict[int, int]]:\n",
    "    return {target: error_function2(crabs, target)\n",
    "            for target in range(min(crabs), max(crabs))}\n",
    "\n",
    "\n",
    "def my_part2_solution(data: str,\n",
    "                      debug: bool = False) -> int:\n",
    "    crabs = list(map(int, data.split(',')))\n",
    "    target = min(generate_errors2(crabs).items(), key=lambda x: x[1])[0]\n",
    "    return round(error_function2(crabs, target))"
   ]
  },
  {
   "cell_type": "code",
   "execution_count": 13,
   "metadata": {},
   "outputs": [],
   "source": [
    "assert(my_part2_solution(testdata) == 168)"
   ]
  },
  {
   "cell_type": "code",
   "execution_count": 14,
   "metadata": {},
   "outputs": [
    {
     "data": {
      "text/plain": [
       "96678050"
      ]
     },
     "execution_count": 14,
     "metadata": {},
     "output_type": "execute_result"
    }
   ],
   "source": [
    "my_part2_solution(inputdata)"
   ]
  },
  {
   "cell_type": "code",
   "execution_count": 15,
   "metadata": {},
   "outputs": [
    {
     "data": {
      "text/html": [
       "\n",
       "<p>Your puzzle answer was <code>96678050</code>.</p><p class=\"day-success\">Both parts of this puzzle are complete! They provide two gold stars: **</p>\n",
       "<p>At this point, you should <a href=\"/2021\">return to your Advent calendar</a> and try another puzzle.</p>\n",
       "<p>If you still want to see it, you can <a href=\"7/input\" target=\"_blank\">get your puzzle input</a>.</p>\n",
       "<p>You can also <span class=\"share\">[Share<span class=\"share-content\">on\n",
       "  <a href=\"https://twitter.com/intent/tweet?text=I%27ve+completed+%22The+Treachery+of+Whales%22+%2D+Day+7+%2D+Advent+of+Code+2021&amp;url=https%3A%2F%2Fadventofcode%2Ecom%2F2021%2Fday%2F7&amp;related=ericwastl&amp;hashtags=AdventOfCode\" target=\"_blank\">Twitter</a>\n",
       "  <a href=\"javascript:void(0);\" onclick=\"var mastodon_instance=prompt('Mastodon Instance / Server Name?'); if(typeof mastodon_instance==='string' && mastodon_instance.length){this.href='https://'+mastodon_instance+'/share?text=I%27ve+completed+%22The+Treachery+of+Whales%22+%2D+Day+7+%2D+Advent+of+Code+2021+%23AdventOfCode+https%3A%2F%2Fadventofcode%2Ecom%2F2021%2Fday%2F7'}else{return false;}\" target=\"_blank\">Mastodon</a\n",
       "></span>]</span> this puzzle.</p>\n"
      ],
      "text/plain": [
       "<IPython.core.display.HTML object>"
      ]
     },
     "execution_count": 15,
     "metadata": {},
     "output_type": "execute_result"
    }
   ],
   "source": [
    "HTML(downloaded['part2_footer'])"
   ]
  }
 ],
 "metadata": {
  "kernelspec": {
   "display_name": "Python 3",
   "language": "python",
   "name": "python3"
  },
  "language_info": {
   "codemirror_mode": {
    "name": "ipython",
    "version": 3
   },
   "file_extension": ".py",
   "mimetype": "text/x-python",
   "name": "python",
   "nbconvert_exporter": "python",
   "pygments_lexer": "ipython3",
   "version": "3.10.6 (main, Nov 14 2022, 16:10:14) [GCC 11.3.0]"
  },
  "vscode": {
   "interpreter": {
    "hash": "e7370f93d1d0cde622a1f8e1c04877d8463912d04d973331ad4851f04de6915a"
   }
  }
 },
 "nbformat": 4,
 "nbformat_minor": 4
}

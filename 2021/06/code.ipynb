{
 "cells": [
  {
   "attachments": {},
   "cell_type": "markdown",
   "metadata": {},
   "source": [
    "# Day 6: Lanternfish\n",
    "\n",
    "[*Advent of Code 2021 day 6*](https://adventofcode.com/2021/day/6) and [*solution megathread*](https://redd.it/r9z49j)\n",
    "\n",
    "[![nbviewer](https://raw.githubusercontent.com/jupyter/design/master/logos/Badges/nbviewer_badge.svg)](https://nbviewer.jupyter.org/github/UncleCJ/advent-of-code/blob/cj/2021/06/code.ipynb) [![Binder](https://mybinder.org/badge_logo.svg)](https://mybinder.org/v2/gh/UncleCJ/advent-of-code/cj?filepath=2021%2F06%2Fcode.ipynb)"
   ]
  },
  {
   "cell_type": "code",
   "execution_count": 1,
   "metadata": {},
   "outputs": [
    {
     "name": "stdout",
     "output_type": "stream",
     "text": [
      "Writing 'downloaded' (dict) to file 'downloaded'.\n"
     ]
    }
   ],
   "source": [
    "from IPython.display import HTML\n",
    "import sys\n",
    "\n",
    "sys.path.append('../../')\n",
    "import common\n",
    "\n",
    "downloaded = common.refresh()\n",
    "%store downloaded >downloaded"
   ]
  },
  {
   "cell_type": "markdown",
   "metadata": {},
   "source": [
    "## Part One"
   ]
  },
  {
   "cell_type": "code",
   "execution_count": 2,
   "metadata": {},
   "outputs": [
    {
     "data": {
      "text/html": [
       "<h2>--- Day 6: Lanternfish ---</h2><p>The sea floor is getting steeper. Maybe the sleigh keys got carried this way?</p>\n",
       "<p>A massive school of glowing <a href=\"https://en.wikipedia.org/wiki/Lanternfish\" target=\"_blank\">lanternfish</a> swims past. They must spawn quickly to reach such large numbers - maybe <em>exponentially</em> quickly? You should model their growth rate to be sure.</p>\n",
       "<p>Although you know nothing about this specific species of lanternfish, you make some guesses about their attributes. Surely, <span title=\"I heard you like lanternfish.\">each lanternfish creates a new lanternfish</span> once every <em>7</em> days.</p>\n",
       "<p>However, this process isn't necessarily synchronized between every lanternfish - one lanternfish might have 2 days left until it creates another lanternfish, while another might have 4. So, you can model each fish as a single number that represents <em>the number of days until it creates a new lanternfish</em>.</p>\n",
       "<p>Furthermore, you reason, a <em>new</em> lanternfish would surely need slightly longer before it's capable of producing more lanternfish: two more days for its first cycle.</p>\n",
       "<p>So, suppose you have a lanternfish with an internal timer value of <code>3</code>:</p>\n",
       "<ul>\n",
       "<li>After one day, its internal timer would become <code>2</code>.</li>\n",
       "<li>After another day, its internal timer would become <code>1</code>.</li>\n",
       "<li>After another day, its internal timer would become <code>0</code>.</li>\n",
       "<li>After another day, its internal timer would reset to <code>6</code>, and it would create a <em>new</em> lanternfish with an internal timer of <code>8</code>.</li>\n",
       "<li>After another day, the first lanternfish would have an internal timer of <code>5</code>, and the second lanternfish would have an internal timer of <code>7</code>.</li>\n",
       "</ul>\n",
       "<p>A lanternfish that creates a new fish resets its timer to <code>6</code>, <em>not <code>7</code></em> (because <code>0</code> is included as a valid timer value). The new lanternfish starts with an internal timer of <code>8</code> and does not start counting down until the next day.</p>\n",
       "<p>Realizing what you're trying to do, the submarine automatically produces a list of the ages of several hundred nearby lanternfish (your puzzle input). For example, suppose you were given the following list:</p>\n",
       "<pre><code>3,4,3,1,2</code></pre>\n",
       "<p>This list means that the first fish has an internal timer of <code>3</code>, the second fish has an internal timer of <code>4</code>, and so on until the fifth fish, which has an internal timer of <code>2</code>. Simulating these fish over several days would proceed as follows:</p>\n",
       "<pre><code>Initial state: 3,4,3,1,2\n",
       "After  1 day:  2,3,2,0,1\n",
       "After  2 days: 1,2,1,6,0,8\n",
       "After  3 days: 0,1,0,5,6,7,8\n",
       "After  4 days: 6,0,6,4,5,6,7,8,8\n",
       "After  5 days: 5,6,5,3,4,5,6,7,7,8\n",
       "After  6 days: 4,5,4,2,3,4,5,6,6,7\n",
       "After  7 days: 3,4,3,1,2,3,4,5,5,6\n",
       "After  8 days: 2,3,2,0,1,2,3,4,4,5\n",
       "After  9 days: 1,2,1,6,0,1,2,3,3,4,8\n",
       "After 10 days: 0,1,0,5,6,0,1,2,2,3,7,8\n",
       "After 11 days: 6,0,6,4,5,6,0,1,1,2,6,7,8,8,8\n",
       "After 12 days: 5,6,5,3,4,5,6,0,0,1,5,6,7,7,7,8,8\n",
       "After 13 days: 4,5,4,2,3,4,5,6,6,0,4,5,6,6,6,7,7,8,8\n",
       "After 14 days: 3,4,3,1,2,3,4,5,5,6,3,4,5,5,5,6,6,7,7,8\n",
       "After 15 days: 2,3,2,0,1,2,3,4,4,5,2,3,4,4,4,5,5,6,6,7\n",
       "After 16 days: 1,2,1,6,0,1,2,3,3,4,1,2,3,3,3,4,4,5,5,6,8\n",
       "After 17 days: 0,1,0,5,6,0,1,2,2,3,0,1,2,2,2,3,3,4,4,5,7,8\n",
       "After 18 days: 6,0,6,4,5,6,0,1,1,2,6,0,1,1,1,2,2,3,3,4,6,7,8,8,8,8\n",
       "</code></pre>\n",
       "<p>Each day, a <code>0</code> becomes a <code>6</code> and adds a new <code>8</code> to the end of the list, while each other number decreases by 1 if it was present at the start of the day.</p>\n",
       "<p>In this example, after 18 days, there are a total of <code>26</code> fish. After 80 days, there would be a total of <code><em>5934</em></code>.</p>\n",
       "<p>Find a way to simulate lanternfish. <em>How many lanternfish would there be after 80 days?</em></p>\n"
      ],
      "text/plain": [
       "<IPython.core.display.HTML object>"
      ]
     },
     "execution_count": 2,
     "metadata": {},
     "output_type": "execute_result"
    }
   ],
   "source": [
    "HTML(downloaded['part1'])"
   ]
  },
  {
   "cell_type": "markdown",
   "metadata": {},
   "source": [
    "## Boilerplate\n",
    "\n",
    "Let's try using [pycodestyle_magic](https://github.com/mattijn/pycodestyle_magic) with pycodestyle (flake8 stopped working for me in VS Code Jupyter). Now how does type checking work?"
   ]
  },
  {
   "cell_type": "code",
   "execution_count": 3,
   "metadata": {},
   "outputs": [],
   "source": [
    "%load_ext pycodestyle_magic"
   ]
  },
  {
   "cell_type": "code",
   "execution_count": 4,
   "metadata": {},
   "outputs": [],
   "source": [
    "%pycodestyle_on"
   ]
  },
  {
   "cell_type": "markdown",
   "metadata": {},
   "source": [
    "## Comments\n",
    "\n",
    "Monday, Monday, Monday...\n",
    "\n",
    "...\n",
    "\n",
    "Ah, delightful, hilarious! The problem which in Part One worked fine, just an accidental wall of printouts, not too bad... in Part Two grinds a powerful laptop into gear. Keyword *exponential* - I'll let it run while I do my morning.\n",
    "\n",
    "...\n",
    "\n",
    "Turns out exponential really meant exponential, and while `testdata` was an origin population of 5, `inputdata` started off at 300. There never was a chance - so count the fish instead, which ought to be *O(age\\*days))*. There, done."
   ]
  },
  {
   "cell_type": "code",
   "execution_count": 5,
   "metadata": {},
   "outputs": [],
   "source": [
    "testdata = \"3,4,3,1,2\"\n",
    "\n",
    "inputdata = downloaded['input']"
   ]
  },
  {
   "cell_type": "code",
   "execution_count": 6,
   "metadata": {},
   "outputs": [],
   "source": [
    "from collections.abc import Iterable\n",
    "\n",
    "\n",
    "def timestep(curr: Iterable[int]) -> list[int]:\n",
    "    nx = []\n",
    "    for f in curr:\n",
    "        if f == 0:\n",
    "            nx.append(6)\n",
    "            nx.append(8)\n",
    "        else:\n",
    "            nx.append(f - 1)\n",
    "    return nx\n",
    "\n",
    "\n",
    "def run_days(fish: Iterable[int], days: int, debug=False):\n",
    "    for day in range(1, days + 1):\n",
    "        fish = timestep(fish)\n",
    "        if debug:\n",
    "            print(f'After day {day}: {len(fish):.3e}')\n",
    "    return fish\n",
    "\n",
    "\n",
    "def my_part1_solution(data: str,\n",
    "                      debug: bool = False) -> int:\n",
    "    fish = list(map(int, data.split(',')))\n",
    "    if debug:\n",
    "        print(f'Initial state: {fish}')\n",
    "    fish = run_days(fish, 80, debug=debug)\n",
    "    return len(fish)"
   ]
  },
  {
   "cell_type": "code",
   "execution_count": 7,
   "metadata": {},
   "outputs": [
    {
     "name": "stdout",
     "output_type": "stream",
     "text": [
      "Initial state: [3, 4, 3, 1, 2]\n",
      "After day 1: 5.000e+00\n",
      "After day 2: 6.000e+00\n",
      "After day 3: 7.000e+00\n",
      "After day 4: 9.000e+00\n",
      "After day 5: 1.000e+01\n",
      "After day 6: 1.000e+01\n",
      "After day 7: 1.000e+01\n",
      "After day 8: 1.000e+01\n",
      "After day 9: 1.100e+01\n",
      "After day 10: 1.200e+01\n",
      "After day 11: 1.500e+01\n",
      "After day 12: 1.700e+01\n",
      "After day 13: 1.900e+01\n",
      "After day 14: 2.000e+01\n",
      "After day 15: 2.000e+01\n",
      "After day 16: 2.100e+01\n",
      "After day 17: 2.200e+01\n",
      "After day 18: 2.600e+01\n",
      "After day 19: 2.900e+01\n",
      "After day 20: 3.400e+01\n",
      "After day 21: 3.700e+01\n",
      "After day 22: 3.900e+01\n",
      "After day 23: 4.100e+01\n",
      "After day 24: 4.200e+01\n",
      "After day 25: 4.700e+01\n",
      "After day 26: 5.100e+01\n",
      "After day 27: 6.000e+01\n",
      "After day 28: 6.600e+01\n",
      "After day 29: 7.300e+01\n",
      "After day 30: 7.800e+01\n",
      "After day 31: 8.100e+01\n",
      "After day 32: 8.800e+01\n",
      "After day 33: 9.300e+01\n",
      "After day 34: 1.070e+02\n",
      "After day 35: 1.170e+02\n",
      "After day 36: 1.330e+02\n",
      "After day 37: 1.440e+02\n",
      "After day 38: 1.540e+02\n",
      "After day 39: 1.660e+02\n",
      "After day 40: 1.740e+02\n",
      "After day 41: 1.950e+02\n",
      "After day 42: 2.100e+02\n",
      "After day 43: 2.400e+02\n",
      "After day 44: 2.610e+02\n",
      "After day 45: 2.870e+02\n",
      "After day 46: 3.100e+02\n",
      "After day 47: 3.280e+02\n",
      "After day 48: 3.610e+02\n",
      "After day 49: 3.840e+02\n",
      "After day 50: 4.350e+02\n",
      "After day 51: 4.710e+02\n",
      "After day 52: 5.270e+02\n",
      "After day 53: 5.710e+02\n",
      "After day 54: 6.150e+02\n",
      "After day 55: 6.710e+02\n",
      "After day 56: 7.120e+02\n",
      "After day 57: 7.960e+02\n",
      "After day 58: 8.550e+02\n",
      "After day 59: 9.620e+02\n",
      "After day 60: 1.042e+03\n",
      "After day 61: 1.142e+03\n",
      "After day 62: 1.242e+03\n",
      "After day 63: 1.327e+03\n",
      "After day 64: 1.467e+03\n",
      "After day 65: 1.567e+03\n",
      "After day 66: 1.758e+03\n",
      "After day 67: 1.897e+03\n",
      "After day 68: 2.104e+03\n",
      "After day 69: 2.284e+03\n",
      "After day 70: 2.469e+03\n",
      "After day 71: 2.709e+03\n",
      "After day 72: 2.894e+03\n",
      "After day 73: 3.225e+03\n",
      "After day 74: 3.464e+03\n",
      "After day 75: 3.862e+03\n",
      "After day 76: 4.181e+03\n",
      "After day 77: 4.573e+03\n",
      "After day 78: 4.993e+03\n",
      "After day 79: 5.363e+03\n",
      "After day 80: 5.934e+03\n"
     ]
    }
   ],
   "source": [
    "assert(my_part1_solution(testdata, debug=True) == 5934)"
   ]
  },
  {
   "cell_type": "code",
   "execution_count": 8,
   "metadata": {},
   "outputs": [
    {
     "data": {
      "text/plain": [
       "'3.651e+05'"
      ]
     },
     "execution_count": 8,
     "metadata": {},
     "output_type": "execute_result"
    }
   ],
   "source": [
    "f'{my_part1_solution(inputdata):.3e}'"
   ]
  },
  {
   "cell_type": "code",
   "execution_count": 9,
   "metadata": {},
   "outputs": [
    {
     "data": {
      "text/html": [
       "\n",
       "<p>Your puzzle answer was <code>365131</code>.</p>"
      ],
      "text/plain": [
       "<IPython.core.display.HTML object>"
      ]
     },
     "execution_count": 9,
     "metadata": {},
     "output_type": "execute_result"
    }
   ],
   "source": [
    "HTML(downloaded['part1_footer'])"
   ]
  },
  {
   "cell_type": "markdown",
   "metadata": {},
   "source": [
    "## Part Two"
   ]
  },
  {
   "cell_type": "code",
   "execution_count": 10,
   "metadata": {},
   "outputs": [
    {
     "data": {
      "text/html": [
       "<h2 id=\"part2\">--- Part Two ---</h2><p>Suppose the lanternfish live forever and have unlimited food and space. Would they take over the entire ocean?</p>\n",
       "<p>After 256 days in the example above, there would be a total of <code><em>26984457539</em></code> lanternfish!</p>\n",
       "<p><em>How many lanternfish would there be after 256 days?</em></p>\n"
      ],
      "text/plain": [
       "<IPython.core.display.HTML object>"
      ]
     },
     "execution_count": 10,
     "metadata": {},
     "output_type": "execute_result"
    }
   ],
   "source": [
    "HTML(downloaded['part2'])"
   ]
  },
  {
   "cell_type": "code",
   "execution_count": 11,
   "metadata": {
    "tags": []
   },
   "outputs": [],
   "source": [
    "from collections import Counter\n",
    "\n",
    "\n",
    "def timestep2(curr: dict[int, int]) -> dict:\n",
    "    nx = dict()\n",
    "    for age, count in curr.items():\n",
    "        if age == 0:\n",
    "            nx[8] = count\n",
    "            if 6 in nx:\n",
    "                nx[6] += count\n",
    "            else:\n",
    "                nx[6] = count\n",
    "        else:\n",
    "            if (age - 1) in nx:\n",
    "                nx[age - 1] += count\n",
    "            else:\n",
    "                nx[age - 1] = count\n",
    "    return nx\n",
    "\n",
    "\n",
    "def run_days2(fish: dict[int, int], days: int, debug=False):\n",
    "    for day in range(1, days + 1):\n",
    "        fish = timestep2(fish)\n",
    "        if debug:\n",
    "            print(f'After day {day}: {sum(fish.values()):.3e}')\n",
    "    return fish\n",
    "\n",
    "\n",
    "def my_part2_solution(data: str,\n",
    "                      debug: bool = False) -> int:\n",
    "    fish = Counter(map(int, data.split(',')))\n",
    "    if debug:\n",
    "        print(f'Initial state: {fish}')\n",
    "    fish = run_days2(fish, 256, debug=debug)\n",
    "    return sum(fish.values())"
   ]
  },
  {
   "cell_type": "code",
   "execution_count": 12,
   "metadata": {},
   "outputs": [
    {
     "name": "stdout",
     "output_type": "stream",
     "text": [
      "Initial state: Counter({3: 2, 4: 1, 1: 1, 2: 1})\n",
      "After day 1: 5.000e+00\n",
      "After day 2: 6.000e+00\n",
      "After day 3: 7.000e+00\n",
      "After day 4: 9.000e+00\n",
      "After day 5: 1.000e+01\n",
      "After day 6: 1.000e+01\n",
      "After day 7: 1.000e+01\n",
      "After day 8: 1.000e+01\n",
      "After day 9: 1.100e+01\n",
      "After day 10: 1.200e+01\n",
      "After day 11: 1.500e+01\n",
      "After day 12: 1.700e+01\n",
      "After day 13: 1.900e+01\n",
      "After day 14: 2.000e+01\n",
      "After day 15: 2.000e+01\n",
      "After day 16: 2.100e+01\n",
      "After day 17: 2.200e+01\n",
      "After day 18: 2.600e+01\n",
      "After day 19: 2.900e+01\n",
      "After day 20: 3.400e+01\n",
      "After day 21: 3.700e+01\n",
      "After day 22: 3.900e+01\n",
      "After day 23: 4.100e+01\n",
      "After day 24: 4.200e+01\n",
      "After day 25: 4.700e+01\n",
      "After day 26: 5.100e+01\n",
      "After day 27: 6.000e+01\n",
      "After day 28: 6.600e+01\n",
      "After day 29: 7.300e+01\n",
      "After day 30: 7.800e+01\n",
      "After day 31: 8.100e+01\n",
      "After day 32: 8.800e+01\n",
      "After day 33: 9.300e+01\n",
      "After day 34: 1.070e+02\n",
      "After day 35: 1.170e+02\n",
      "After day 36: 1.330e+02\n",
      "After day 37: 1.440e+02\n",
      "After day 38: 1.540e+02\n",
      "After day 39: 1.660e+02\n",
      "After day 40: 1.740e+02\n",
      "After day 41: 1.950e+02\n",
      "After day 42: 2.100e+02\n",
      "After day 43: 2.400e+02\n",
      "After day 44: 2.610e+02\n",
      "After day 45: 2.870e+02\n",
      "After day 46: 3.100e+02\n",
      "After day 47: 3.280e+02\n",
      "After day 48: 3.610e+02\n",
      "After day 49: 3.840e+02\n",
      "After day 50: 4.350e+02\n",
      "After day 51: 4.710e+02\n",
      "After day 52: 5.270e+02\n",
      "After day 53: 5.710e+02\n",
      "After day 54: 6.150e+02\n",
      "After day 55: 6.710e+02\n",
      "After day 56: 7.120e+02\n",
      "After day 57: 7.960e+02\n",
      "After day 58: 8.550e+02\n",
      "After day 59: 9.620e+02\n",
      "After day 60: 1.042e+03\n",
      "After day 61: 1.142e+03\n",
      "After day 62: 1.242e+03\n",
      "After day 63: 1.327e+03\n",
      "After day 64: 1.467e+03\n",
      "After day 65: 1.567e+03\n",
      "After day 66: 1.758e+03\n",
      "After day 67: 1.897e+03\n",
      "After day 68: 2.104e+03\n",
      "After day 69: 2.284e+03\n",
      "After day 70: 2.469e+03\n",
      "After day 71: 2.709e+03\n",
      "After day 72: 2.894e+03\n",
      "After day 73: 3.225e+03\n",
      "After day 74: 3.464e+03\n",
      "After day 75: 3.862e+03\n",
      "After day 76: 4.181e+03\n",
      "After day 77: 4.573e+03\n",
      "After day 78: 4.993e+03\n",
      "After day 79: 5.363e+03\n",
      "After day 80: 5.934e+03\n",
      "After day 81: 6.358e+03\n",
      "After day 82: 7.087e+03\n",
      "After day 83: 7.645e+03\n",
      "After day 84: 8.435e+03\n",
      "After day 85: 9.174e+03\n",
      "After day 86: 9.936e+03\n",
      "After day 87: 1.093e+04\n",
      "After day 88: 1.172e+04\n",
      "After day 89: 1.302e+04\n",
      "After day 90: 1.400e+04\n",
      "After day 91: 1.552e+04\n",
      "After day 92: 1.682e+04\n",
      "After day 93: 1.837e+04\n",
      "After day 94: 2.010e+04\n",
      "After day 95: 2.166e+04\n",
      "After day 96: 2.395e+04\n",
      "After day 97: 2.572e+04\n",
      "After day 98: 2.854e+04\n",
      "After day 99: 3.082e+04\n",
      "After day 100: 3.389e+04\n",
      "After day 101: 3.692e+04\n",
      "After day 102: 4.003e+04\n",
      "After day 103: 4.405e+04\n",
      "After day 104: 4.738e+04\n",
      "After day 105: 5.249e+04\n",
      "After day 106: 5.655e+04\n",
      "After day 107: 6.244e+04\n",
      "After day 108: 6.774e+04\n",
      "After day 109: 7.392e+04\n",
      "After day 110: 8.097e+04\n",
      "After day 111: 8.741e+04\n",
      "After day 112: 9.654e+04\n",
      "After day 113: 1.039e+05\n",
      "After day 114: 1.149e+05\n",
      "After day 115: 1.243e+05\n",
      "After day 116: 1.364e+05\n",
      "After day 117: 1.487e+05\n",
      "After day 118: 1.613e+05\n",
      "After day 119: 1.775e+05\n",
      "After day 120: 1.913e+05\n",
      "After day 121: 2.115e+05\n",
      "After day 122: 2.282e+05\n",
      "After day 123: 2.513e+05\n",
      "After day 124: 2.730e+05\n",
      "After day 125: 2.977e+05\n",
      "After day 126: 3.262e+05\n",
      "After day 127: 3.527e+05\n",
      "After day 128: 3.890e+05\n",
      "After day 129: 4.196e+05\n",
      "After day 130: 4.628e+05\n",
      "After day 131: 5.012e+05\n",
      "After day 132: 5.490e+05\n",
      "After day 133: 5.992e+05\n",
      "After day 134: 6.504e+05\n",
      "After day 135: 7.152e+05\n",
      "After day 136: 7.722e+05\n",
      "After day 137: 8.517e+05\n",
      "After day 138: 9.208e+05\n",
      "After day 139: 1.012e+06\n",
      "After day 140: 1.100e+06\n",
      "After day 141: 1.199e+06\n",
      "After day 142: 1.314e+06\n",
      "After day 143: 1.423e+06\n",
      "After day 144: 1.567e+06\n",
      "After day 145: 1.693e+06\n",
      "After day 146: 1.863e+06\n",
      "After day 147: 2.021e+06\n",
      "After day 148: 2.211e+06\n",
      "After day 149: 2.415e+06\n",
      "After day 150: 2.622e+06\n",
      "After day 151: 2.881e+06\n",
      "After day 152: 3.116e+06\n",
      "After day 153: 3.430e+06\n",
      "After day 154: 3.714e+06\n",
      "After day 155: 4.074e+06\n",
      "After day 156: 4.436e+06\n",
      "After day 157: 4.833e+06\n",
      "After day 158: 5.296e+06\n",
      "After day 159: 5.737e+06\n",
      "After day 160: 6.312e+06\n",
      "After day 161: 6.830e+06\n",
      "After day 162: 7.505e+06\n",
      "After day 163: 8.150e+06\n",
      "After day 164: 8.907e+06\n",
      "After day 165: 9.732e+06\n",
      "After day 166: 1.057e+07\n",
      "After day 167: 1.161e+07\n",
      "After day 168: 1.257e+07\n",
      "After day 169: 1.382e+07\n",
      "After day 170: 1.498e+07\n",
      "After day 171: 1.641e+07\n",
      "After day 172: 1.788e+07\n",
      "After day 173: 1.948e+07\n",
      "After day 174: 2.134e+07\n",
      "After day 175: 2.314e+07\n",
      "After day 176: 2.542e+07\n",
      "After day 177: 2.755e+07\n",
      "After day 178: 3.023e+07\n",
      "After day 179: 3.286e+07\n",
      "After day 180: 3.589e+07\n",
      "After day 181: 3.922e+07\n",
      "After day 182: 4.262e+07\n",
      "After day 183: 4.676e+07\n",
      "After day 184: 5.068e+07\n",
      "After day 185: 5.565e+07\n",
      "After day 186: 6.041e+07\n",
      "After day 187: 6.612e+07\n",
      "After day 188: 7.209e+07\n",
      "After day 189: 7.851e+07\n",
      "After day 190: 8.599e+07\n",
      "After day 191: 9.330e+07\n",
      "After day 192: 1.024e+08\n",
      "After day 193: 1.111e+08\n",
      "After day 194: 1.218e+08\n",
      "After day 195: 1.325e+08\n",
      "After day 196: 1.446e+08\n",
      "After day 197: 1.581e+08\n",
      "After day 198: 1.718e+08\n",
      "After day 199: 1.884e+08\n",
      "After day 200: 2.044e+08\n",
      "After day 201: 2.242e+08\n",
      "After day 202: 2.436e+08\n",
      "After day 203: 2.664e+08\n",
      "After day 204: 2.906e+08\n",
      "After day 205: 3.164e+08\n",
      "After day 206: 3.465e+08\n",
      "After day 207: 3.762e+08\n",
      "After day 208: 4.126e+08\n",
      "After day 209: 4.480e+08\n",
      "After day 210: 4.906e+08\n",
      "After day 211: 5.342e+08\n",
      "After day 212: 5.828e+08\n",
      "After day 213: 6.370e+08\n",
      "After day 214: 6.926e+08\n",
      "After day 215: 7.591e+08\n",
      "After day 216: 8.242e+08\n",
      "After day 217: 9.032e+08\n",
      "After day 218: 9.821e+08\n",
      "After day 219: 1.073e+09\n",
      "After day 220: 1.171e+09\n",
      "After day 221: 1.275e+09\n",
      "After day 222: 1.396e+09\n",
      "After day 223: 1.517e+09\n",
      "After day 224: 1.662e+09\n",
      "After day 225: 1.806e+09\n",
      "After day 226: 1.977e+09\n",
      "After day 227: 2.153e+09\n",
      "After day 228: 2.349e+09\n",
      "After day 229: 2.567e+09\n",
      "After day 230: 2.792e+09\n",
      "After day 231: 3.058e+09\n",
      "After day 232: 3.323e+09\n",
      "After day 233: 3.639e+09\n",
      "After day 234: 3.960e+09\n",
      "After day 235: 4.325e+09\n",
      "After day 236: 4.721e+09\n",
      "After day 237: 5.141e+09\n",
      "After day 238: 5.626e+09\n",
      "After day 239: 6.115e+09\n",
      "After day 240: 6.697e+09\n",
      "After day 241: 7.283e+09\n",
      "After day 242: 7.964e+09\n",
      "After day 243: 8.680e+09\n",
      "After day 244: 9.467e+09\n",
      "After day 245: 1.035e+10\n",
      "After day 246: 1.126e+10\n",
      "After day 247: 1.232e+10\n",
      "After day 248: 1.340e+10\n",
      "After day 249: 1.466e+10\n",
      "After day 250: 1.596e+10\n",
      "After day 251: 1.743e+10\n",
      "After day 252: 1.903e+10\n",
      "After day 253: 2.072e+10\n",
      "After day 254: 2.267e+10\n",
      "After day 255: 2.465e+10\n",
      "After day 256: 2.698e+10\n"
     ]
    }
   ],
   "source": [
    "assert(my_part2_solution(testdata, debug=True) == 26984457539)"
   ]
  },
  {
   "cell_type": "code",
   "execution_count": 13,
   "metadata": {},
   "outputs": [
    {
     "data": {
      "text/plain": [
       "'1.650e+12'"
      ]
     },
     "execution_count": 13,
     "metadata": {},
     "output_type": "execute_result"
    }
   ],
   "source": [
    "f'{my_part2_solution(inputdata):.3e}'"
   ]
  },
  {
   "cell_type": "code",
   "execution_count": 14,
   "metadata": {},
   "outputs": [
    {
     "data": {
      "text/html": [
       "\n",
       "<p>Your puzzle answer was <code>1650309278600</code>.</p><p class=\"day-success\">Both parts of this puzzle are complete! They provide two gold stars: **</p>\n",
       "<p>At this point, you should <a href=\"/2021\">return to your Advent calendar</a> and try another puzzle.</p>\n",
       "<p>If you still want to see it, you can <a href=\"6/input\" target=\"_blank\">get your puzzle input</a>.</p>\n",
       "<p>You can also <span class=\"share\">[Share<span class=\"share-content\">on\n",
       "  <a href=\"https://twitter.com/intent/tweet?text=I%27ve+completed+%22Lanternfish%22+%2D+Day+6+%2D+Advent+of+Code+2021&amp;url=https%3A%2F%2Fadventofcode%2Ecom%2F2021%2Fday%2F6&amp;related=ericwastl&amp;hashtags=AdventOfCode\" target=\"_blank\">Twitter</a>\n",
       "  <a href=\"javascript:void(0);\" onclick=\"var mastodon_instance=prompt('Mastodon Instance / Server Name?'); if(typeof mastodon_instance==='string' && mastodon_instance.length){this.href='https://'+mastodon_instance+'/share?text=I%27ve+completed+%22Lanternfish%22+%2D+Day+6+%2D+Advent+of+Code+2021+%23AdventOfCode+https%3A%2F%2Fadventofcode%2Ecom%2F2021%2Fday%2F6'}else{return false;}\" target=\"_blank\">Mastodon</a\n",
       "></span>]</span> this puzzle.</p>\n"
      ],
      "text/plain": [
       "<IPython.core.display.HTML object>"
      ]
     },
     "execution_count": 14,
     "metadata": {},
     "output_type": "execute_result"
    }
   ],
   "source": [
    "HTML(downloaded['part2_footer'])"
   ]
  }
 ],
 "metadata": {
  "kernelspec": {
   "display_name": "Python 3",
   "language": "python",
   "name": "python3"
  },
  "language_info": {
   "codemirror_mode": {
    "name": "ipython",
    "version": 3
   },
   "file_extension": ".py",
   "mimetype": "text/x-python",
   "name": "python",
   "nbconvert_exporter": "python",
   "pygments_lexer": "ipython3",
   "version": "3.10.6 (main, Nov 14 2022, 16:10:14) [GCC 11.3.0]"
  },
  "vscode": {
   "interpreter": {
    "hash": "e7370f93d1d0cde622a1f8e1c04877d8463912d04d973331ad4851f04de6915a"
   }
  }
 },
 "nbformat": 4,
 "nbformat_minor": 4
}

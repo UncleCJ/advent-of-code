{
 "cells": [
  {
   "attachments": {},
   "cell_type": "markdown",
   "metadata": {},
   "source": [
    "# Day 17: Trick Shot\n",
    "\n",
    "[*Advent of Code 2021 day 17*](https://adventofcode.com/2021/day/17) and [*solution megathread*](https://redd.it/ri9kdq)\n",
    "\n",
    "[![nbviewer](https://raw.githubusercontent.com/jupyter/design/master/logos/Badges/nbviewer_badge.svg)](https://nbviewer.jupyter.org/github/UncleCJ/advent-of-code/blob/cj/2021/17/code.ipynb) [![Binder](https://mybinder.org/badge_logo.svg)](https://mybinder.org/v2/gh/UncleCJ/advent-of-code/cj?filepath=2021%2F17%2Fcode.ipynb)"
   ]
  },
  {
   "cell_type": "code",
   "execution_count": 1,
   "metadata": {},
   "outputs": [
    {
     "name": "stdout",
     "output_type": "stream",
     "text": [
      "Writing 'downloaded' (dict) to file 'downloaded'.\n"
     ]
    }
   ],
   "source": [
    "from IPython.display import HTML\n",
    "import sys\n",
    "\n",
    "sys.path.append('../../')\n",
    "import common\n",
    "\n",
    "downloaded = common.refresh()\n",
    "%store downloaded >downloaded"
   ]
  },
  {
   "cell_type": "markdown",
   "metadata": {},
   "source": [
    "## Part One"
   ]
  },
  {
   "cell_type": "code",
   "execution_count": 2,
   "metadata": {},
   "outputs": [
    {
     "data": {
      "text/html": [
       "<h2>--- Day 17: Trick Shot ---</h2><p>You finally decode the Elves' message. <code><span title=\"Maybe you need to turn the message 90 degrees counterclockwise?\">HI</span></code>, the message says. You continue searching for the sleigh keys.</p>\n",
       "<p>Ahead of you is what appears to be a large <a href=\"https://en.wikipedia.org/wiki/Oceanic_trench\" target=\"_blank\">ocean trench</a>. Could the keys have fallen into it? You'd better send a probe to investigate.</p>\n",
       "<p>The probe launcher on your submarine can fire the probe with any <a href=\"https://en.wikipedia.org/wiki/Integer\" target=\"_blank\">integer</a> velocity in the <code>x</code> (forward) and <code>y</code> (upward, or downward if negative) directions. For example, an initial <code>x,y</code> velocity like <code>0,10</code> would fire the probe straight up, while an initial velocity like <code>10,-1</code> would fire the probe forward at a slight downward angle.</p>\n",
       "<p>The probe's <code>x,y</code> position starts at <code>0,0</code>. Then, it will follow some trajectory by moving in <em>steps</em>. On each step, these changes occur in the following order:</p>\n",
       "<ul>\n",
       "<li>The probe's <code>x</code> position increases by its <code>x</code> velocity.</li>\n",
       "<li>The probe's <code>y</code> position increases by its <code>y</code> velocity.</li>\n",
       "<li>Due to drag, the probe's <code>x</code> velocity changes by <code>1</code> toward the value <code>0</code>; that is, it decreases by <code>1</code> if it is greater than <code>0</code>, increases by <code>1</code> if it is less than <code>0</code>, or does not change if it is already <code>0</code>.</li>\n",
       "<li>Due to gravity, the probe's <code>y</code> velocity decreases by <code>1</code>.</li>\n",
       "</ul>\n",
       "<p>For the probe to successfully make it into the trench, the probe must be on some trajectory that causes it to be within a <em>target area</em> after any step. The submarine computer has already calculated this target area (your puzzle input). For example:</p>\n",
       "<pre><code>target area: x=20..30, y=-10..-5</code></pre>\n",
       "<p>This target area means that you need to find initial <code>x,y</code> velocity values such that after any step, the probe's <code>x</code> position is at least <code>20</code> and at most <code>30</code>, <em>and</em> the probe's <code>y</code> position is at least <code>-10</code> and at most <code>-5</code>.</p>\n",
       "<p>Given this target area, one initial velocity that causes the probe to be within the target area after any step is <code>7,2</code>:</p>\n",
       "<pre><code>.............#....#............\n",
       ".......#..............#........\n",
       "...............................\n",
       "S........................#.....\n",
       "...............................\n",
       "...............................\n",
       "...........................#...\n",
       "...............................\n",
       "....................TTTTTTTTTTT\n",
       "....................TTTTTTTTTTT\n",
       "....................TTTTTTTT#TT\n",
       "....................TTTTTTTTTTT\n",
       "....................TTTTTTTTTTT\n",
       "....................TTTTTTTTTTT\n",
       "</code></pre>\n",
       "<p>In this diagram, <code>S</code> is the probe's initial position, <code>0,0</code>. The <code>x</code> coordinate increases to the right, and the <code>y</code> coordinate increases upward. In the bottom right, positions that are within the target area are shown as <code>T</code>. After each step (until the target area is reached), the position of the probe is marked with <code>#</code>. (The bottom-right <code>#</code> is both a position the probe reaches and a position in the target area.)</p>\n",
       "<p>Another initial velocity that causes the probe to be within the target area after any step is <code>6,3</code>:</p>\n",
       "<pre><code>...............#..#............\n",
       "...........#........#..........\n",
       "...............................\n",
       "......#..............#.........\n",
       "...............................\n",
       "...............................\n",
       "S....................#.........\n",
       "...............................\n",
       "...............................\n",
       "...............................\n",
       ".....................#.........\n",
       "....................TTTTTTTTTTT\n",
       "....................TTTTTTTTTTT\n",
       "....................TTTTTTTTTTT\n",
       "....................TTTTTTTTTTT\n",
       "....................T#TTTTTTTTT\n",
       "....................TTTTTTTTTTT\n",
       "</code></pre>\n",
       "<p>Another one is <code>9,0</code>:</p>\n",
       "<pre><code>S........#.....................\n",
       ".................#.............\n",
       "...............................\n",
       "........................#......\n",
       "...............................\n",
       "....................TTTTTTTTTTT\n",
       "....................TTTTTTTTTT#\n",
       "....................TTTTTTTTTTT\n",
       "....................TTTTTTTTTTT\n",
       "....................TTTTTTTTTTT\n",
       "....................TTTTTTTTTTT\n",
       "</code></pre>\n",
       "<p>One initial velocity that <em>doesn't</em> cause the probe to be within the target area after any step is <code>17,-4</code>:</p>\n",
       "<pre><code>S..............................................................\n",
       "...............................................................\n",
       "...............................................................\n",
       "...............................................................\n",
       ".................#.............................................\n",
       "....................TTTTTTTTTTT................................\n",
       "....................TTTTTTTTTTT................................\n",
       "....................TTTTTTTTTTT................................\n",
       "....................TTTTTTTTTTT................................\n",
       "....................TTTTTTTTTTT..#.............................\n",
       "....................TTTTTTTTTTT................................\n",
       "...............................................................\n",
       "...............................................................\n",
       "...............................................................\n",
       "...............................................................\n",
       "................................................#..............\n",
       "...............................................................\n",
       "...............................................................\n",
       "...............................................................\n",
       "...............................................................\n",
       "...............................................................\n",
       "...............................................................\n",
       "..............................................................#\n",
       "</code></pre>\n",
       "<p>The probe appears to pass through the target area, but is never within it after any step. Instead, it continues down and to the right - only the first few steps are shown.</p>\n",
       "<p>If you're going to fire a highly scientific probe out of a super cool probe launcher, you might as well do it with <em>style</em>. How high can you make the probe go while still reaching the target area?</p>\n",
       "<p>In the above example, using an initial velocity of <code>6,9</code> is the best you can do, causing the probe to reach a maximum <code>y</code> position of <code><em>45</em></code>. (Any higher initial <code>y</code> velocity causes the probe to overshoot the target area entirely.)</p>\n",
       "<p>Find the initial velocity that causes the probe to reach the highest <code>y</code> position and still eventually be within the target area after any step. <em>What is the highest <code>y</code> position it reaches on this trajectory?</em></p>\n"
      ],
      "text/plain": [
       "<IPython.core.display.HTML object>"
      ]
     },
     "execution_count": 2,
     "metadata": {},
     "output_type": "execute_result"
    }
   ],
   "source": [
    "HTML(downloaded['part1'])"
   ]
  },
  {
   "cell_type": "markdown",
   "metadata": {},
   "source": [
    "## Boilerplate\n",
    "\n",
    "Let's try using [pycodestyle_magic](https://github.com/mattijn/pycodestyle_magic) with pycodestyle (flake8 stopped working for me in VS Code Jupyter). Now how does type checking work?"
   ]
  },
  {
   "cell_type": "code",
   "execution_count": 3,
   "metadata": {},
   "outputs": [],
   "source": [
    "%load_ext pycodestyle_magic"
   ]
  },
  {
   "cell_type": "code",
   "execution_count": 4,
   "metadata": {},
   "outputs": [],
   "source": [
    "%pycodestyle_on"
   ]
  },
  {
   "cell_type": "markdown",
   "metadata": {},
   "source": [
    "## Comments\n",
    "\n",
    "..."
   ]
  },
  {
   "cell_type": "code",
   "execution_count": 9,
   "metadata": {},
   "outputs": [],
   "source": [
    "testdata = []\n",
    "testdata.append(('target area: x=20..30, y=-10..-5', 45))\n",
    "\n",
    "inputdata = downloaded['input']"
   ]
  },
  {
   "cell_type": "code",
   "execution_count": 7,
   "metadata": {},
   "outputs": [
    {
     "name": "stdout",
     "output_type": "stream",
     "text": [
      "['target area: x=128..160, y=-142..-88']\n"
     ]
    }
   ],
   "source": [
    "print(inputdata)"
   ]
  },
  {
   "cell_type": "code",
   "execution_count": 15,
   "metadata": {},
   "outputs": [
    {
     "name": "stderr",
     "output_type": "stream",
     "text": [
      "34:80: E501 line too long (85 > 79 characters)\n"
     ]
    }
   ],
   "source": [
    "from collections.abc import Iterable\n",
    "\n",
    "\n",
    "def parse_data(data: str) -> tuple[int, int, int, int]:\n",
    "    left, right = data.split(', ', 2)\n",
    "    _, left = left.split('x=', 2)\n",
    "    _, right = right.split('y=', 2)\n",
    "    xrange = tuple(int(x) for x in left.split('..', 2))\n",
    "    yrange = tuple(int(y) for y in right.split('..', 2))\n",
    "    return xrange[0], xrange[1], yrange[0], yrange[1]\n",
    "\n",
    "\n",
    "def dxgen(dx: int) -> int:\n",
    "    if dx > 0:\n",
    "        return dx - 1\n",
    "    else:\n",
    "        return 0\n",
    "\n",
    "\n",
    "def dygen(dy: int) -> int:\n",
    "    return dy - 1\n",
    "\n",
    "\n",
    "def trajectory(dx: int, dy: int):\n",
    "    x, y = 0, 0\n",
    "    while True:\n",
    "        x, y = x + dx, y + dy\n",
    "        if dx > 0:\n",
    "            dx -= 1\n",
    "        dy -= 1\n",
    "        yield x, y, dx, dy\n",
    "\n",
    "\n",
    "def bounded_trajectory(dx: int, dy: int, xmin: int, xmax: int, ymin: int, ymax: int):\n",
    "    for x, y, dx, dy in trajectory(dx, dy):\n",
    "        if (y < ymin\n",
    "                or (x < xmin and dx == 0)):\n",
    "            break\n",
    "        yield x, y\n",
    "\n",
    "\n",
    "def my_part1_solution(data: str,\n",
    "                      debug: bool = False) -> int:\n",
    "    return 0"
   ]
  },
  {
   "cell_type": "code",
   "execution_count": 18,
   "metadata": {},
   "outputs": [
    {
     "data": {
      "text/plain": [
       "[(6, 3),\n",
       " (11, 5),\n",
       " (15, 6),\n",
       " (18, 6),\n",
       " (20, 5),\n",
       " (21, 3),\n",
       " (21, 0),\n",
       " (21, -4),\n",
       " (21, -9)]"
      ]
     },
     "execution_count": 18,
     "metadata": {},
     "output_type": "execute_result"
    }
   ],
   "source": [
    "xmin, xmax, ymin, ymax = parse_data(testdata[0][0])\n",
    "list(bounded_trajectory(6, 3, xmin, xmax, ymin, ymax))"
   ]
  },
  {
   "cell_type": "code",
   "execution_count": 8,
   "metadata": {},
   "outputs": [
    {
     "ename": "ValueError",
     "evalue": "not enough values to unpack (expected 2, got 1)",
     "output_type": "error",
     "traceback": [
      "\u001b[1;31m---------------------------------------------------------------------------\u001b[0m",
      "\u001b[1;31mValueError\u001b[0m                                Traceback (most recent call last)",
      "\u001b[1;32m~\\AppData\\Local\\Temp/ipykernel_32248/3925494876.py\u001b[0m in \u001b[0;36m<module>\u001b[1;34m\u001b[0m\n\u001b[1;32m----> 1\u001b[1;33m \u001b[0mmy_part1_solution\u001b[0m\u001b[1;33m(\u001b[0m\u001b[0mtestdata\u001b[0m\u001b[1;33m[\u001b[0m\u001b[1;36m0\u001b[0m\u001b[1;33m]\u001b[0m\u001b[1;33m,\u001b[0m \u001b[0mdebug\u001b[0m\u001b[1;33m=\u001b[0m\u001b[1;32mTrue\u001b[0m\u001b[1;33m)\u001b[0m\u001b[1;33m\u001b[0m\u001b[1;33m\u001b[0m\u001b[0m\n\u001b[0m\u001b[0;32m      2\u001b[0m        \u001b[1;31m# assert(my_part1_solution(testdata[0][0], debug=True)\u001b[0m\u001b[1;33m\u001b[0m\u001b[1;33m\u001b[0m\u001b[0m\n\u001b[0;32m      3\u001b[0m        \u001b[1;31m# == testdata[0][1])\u001b[0m\u001b[1;33m\u001b[0m\u001b[1;33m\u001b[0m\u001b[0m\n",
      "\u001b[1;32m~\\AppData\\Local\\Temp/ipykernel_32248/1007261037.py\u001b[0m in \u001b[0;36mmy_part1_solution\u001b[1;34m(data, debug)\u001b[0m\n\u001b[0;32m     53\u001b[0m def my_part1_solution(data: str,\n\u001b[0;32m     54\u001b[0m                       debug: bool = False) -> int:\n\u001b[1;32m---> 55\u001b[1;33m     \u001b[0mtemplate\u001b[0m\u001b[1;33m,\u001b[0m \u001b[0mpoly\u001b[0m \u001b[1;33m=\u001b[0m \u001b[0mparse_data\u001b[0m\u001b[1;33m(\u001b[0m\u001b[0mdata\u001b[0m\u001b[1;33m)\u001b[0m\u001b[1;33m\u001b[0m\u001b[1;33m\u001b[0m\u001b[0m\n\u001b[0m\u001b[0;32m     56\u001b[0m     \u001b[0mbgs\u001b[0m \u001b[1;33m=\u001b[0m \u001b[0mbigrams\u001b[0m\u001b[1;33m(\u001b[0m\u001b[0mtemplate\u001b[0m\u001b[1;33m)\u001b[0m\u001b[1;33m\u001b[0m\u001b[1;33m\u001b[0m\u001b[0m\n\u001b[0;32m     57\u001b[0m     \u001b[0mlast_bg\u001b[0m \u001b[1;33m=\u001b[0m \u001b[0mtemplate\u001b[0m\u001b[1;33m[\u001b[0m\u001b[1;33m-\u001b[0m\u001b[1;36m2\u001b[0m\u001b[1;33m:\u001b[0m\u001b[1;33m]\u001b[0m\u001b[1;33m\u001b[0m\u001b[1;33m\u001b[0m\u001b[0m\n",
      "\u001b[1;32m~\\AppData\\Local\\Temp/ipykernel_32248/1007261037.py\u001b[0m in \u001b[0;36mparse_data\u001b[1;34m(data)\u001b[0m\n\u001b[0;32m      6\u001b[0m     \u001b[0mresult_dict\u001b[0m \u001b[1;33m=\u001b[0m \u001b[0mdict\u001b[0m\u001b[1;33m(\u001b[0m\u001b[1;33m)\u001b[0m\u001b[1;33m\u001b[0m\u001b[1;33m\u001b[0m\u001b[0m\n\u001b[0;32m      7\u001b[0m     \u001b[1;32mfor\u001b[0m \u001b[0mline\u001b[0m \u001b[1;32min\u001b[0m \u001b[0mdata\u001b[0m\u001b[1;33m[\u001b[0m\u001b[1;36m2\u001b[0m\u001b[1;33m:\u001b[0m\u001b[1;33m]\u001b[0m\u001b[1;33m:\u001b[0m\u001b[1;33m\u001b[0m\u001b[1;33m\u001b[0m\u001b[0m\n\u001b[1;32m----> 8\u001b[1;33m         \u001b[0mk\u001b[0m\u001b[1;33m,\u001b[0m \u001b[0mv\u001b[0m \u001b[1;33m=\u001b[0m \u001b[0mline\u001b[0m\u001b[1;33m.\u001b[0m\u001b[0msplit\u001b[0m\u001b[1;33m(\u001b[0m\u001b[1;34m' -> '\u001b[0m\u001b[1;33m,\u001b[0m \u001b[1;36m2\u001b[0m\u001b[1;33m)\u001b[0m\u001b[1;33m\u001b[0m\u001b[1;33m\u001b[0m\u001b[0m\n\u001b[0m\u001b[0;32m      9\u001b[0m         \u001b[0mresult_dict\u001b[0m\u001b[1;33m[\u001b[0m\u001b[0mk\u001b[0m\u001b[1;33m]\u001b[0m \u001b[1;33m=\u001b[0m \u001b[0mv\u001b[0m\u001b[1;33m\u001b[0m\u001b[1;33m\u001b[0m\u001b[0m\n\u001b[0;32m     10\u001b[0m     \u001b[1;32mreturn\u001b[0m \u001b[0mdata\u001b[0m\u001b[1;33m[\u001b[0m\u001b[1;36m0\u001b[0m\u001b[1;33m]\u001b[0m\u001b[1;33m,\u001b[0m \u001b[0mresult_dict\u001b[0m\u001b[1;33m\u001b[0m\u001b[1;33m\u001b[0m\u001b[0m\n",
      "\u001b[1;31mValueError\u001b[0m: not enough values to unpack (expected 2, got 1)"
     ]
    },
    {
     "name": "stderr",
     "output_type": "stream",
     "text": [
      "2:8: E114 indentation is not a multiple of 4 (comment)\n",
      "2:8: E116 unexpected indentation (comment)\n",
      "3:8: E114 indentation is not a multiple of 4 (comment)\n",
      "3:8: E116 unexpected indentation (comment)\n"
     ]
    }
   ],
   "source": [
    "my_part1_solution(testdata[0], debug=True)\n",
    "       # assert(my_part1_solution(testdata[0][0], debug=True)\n",
    "       # == testdata[0][1])"
   ]
  },
  {
   "cell_type": "code",
   "execution_count": null,
   "metadata": {},
   "outputs": [
    {
     "data": {
      "text/plain": [
       "4517"
      ]
     },
     "execution_count": 9,
     "metadata": {},
     "output_type": "execute_result"
    }
   ],
   "source": [
    "my_part1_solution(inputdata)"
   ]
  },
  {
   "cell_type": "code",
   "execution_count": null,
   "metadata": {},
   "outputs": [
    {
     "data": {
      "text/html": [
       "\n",
       "<p>Your puzzle answer was <code>4517</code>.</p>"
      ],
      "text/plain": [
       "<IPython.core.display.HTML object>"
      ]
     },
     "execution_count": 10,
     "metadata": {},
     "output_type": "execute_result"
    }
   ],
   "source": [
    "HTML(downloaded['part1_footer'])"
   ]
  },
  {
   "cell_type": "markdown",
   "metadata": {},
   "source": [
    "## Part Two"
   ]
  },
  {
   "cell_type": "code",
   "execution_count": null,
   "metadata": {},
   "outputs": [
    {
     "data": {
      "text/html": [
       "<h2 id=\"part2\">--- Part Two ---</h2><p>The resulting polymer isn't nearly strong enough to reinforce the submarine. You'll need to run more steps of the pair insertion process; a total of <em>40 steps</em> should do it.</p>\n",
       "<p>In the above example, the most common element is <code>B</code> (occurring <code>2192039569602</code> times) and the least common element is <code>H</code> (occurring <code>3849876073</code> times); subtracting these produces <code><em>2188189693529</em></code>.</p>\n",
       "<p>Apply <em>40</em> steps of pair insertion to the polymer template and find the most and least common elements in the result. <em>What do you get if you take the quantity of the most common element and subtract the quantity of the least common element?</em></p>\n"
      ],
      "text/plain": [
       "<IPython.core.display.HTML object>"
      ]
     },
     "execution_count": 11,
     "metadata": {},
     "output_type": "execute_result"
    }
   ],
   "source": [
    "HTML(downloaded['part2'])"
   ]
  },
  {
   "cell_type": "code",
   "execution_count": null,
   "metadata": {
    "tags": []
   },
   "outputs": [],
   "source": [
    "def my_part2_solution(data: str,\n",
    "                      debug: bool = False) -> int:\n",
    "    template, poly = parse_data(data)\n",
    "    bgs = bigrams(template)\n",
    "    last_bg = template[-2:]\n",
    "    for i in range(1, 40 + 1):\n",
    "        bgs, last_bg = apply_poly(bgs, poly, last_bg)\n",
    "        if debug:\n",
    "            print(f'After cycle {i}: {bgs}')\n",
    "    elements = count_chars(bgs, last_bg)\n",
    "    if debug:\n",
    "        print(f'Resulting elements: {elements}')\n",
    "    return max(elements.values()) - min(elements.values())"
   ]
  },
  {
   "cell_type": "code",
   "execution_count": null,
   "metadata": {},
   "outputs": [
    {
     "data": {
      "text/plain": [
       "2188189693529"
      ]
     },
     "execution_count": 13,
     "metadata": {},
     "output_type": "execute_result"
    }
   ],
   "source": [
    "my_part2_solution(testdata[0])"
   ]
  },
  {
   "cell_type": "code",
   "execution_count": null,
   "metadata": {},
   "outputs": [
    {
     "data": {
      "text/plain": [
       "4704817645083"
      ]
     },
     "execution_count": 14,
     "metadata": {},
     "output_type": "execute_result"
    }
   ],
   "source": [
    "my_part2_solution(inputdata)"
   ]
  },
  {
   "cell_type": "code",
   "execution_count": null,
   "metadata": {},
   "outputs": [
    {
     "data": {
      "text/html": [
       "\n",
       "<p>Your puzzle answer was <code>4704817645083</code>.</p><p class=\"day-success\">Both parts of this puzzle are complete! They provide two gold stars: **</p>\n",
       "<p>At this point, you should <a href=\"/2021\">return to your Advent calendar</a> and try another puzzle.</p>\n",
       "<p>If you still want to see it, you can <a href=\"14/input\" target=\"_blank\">get your puzzle input</a>.</p>\n",
       "<p>You can also <span class=\"share\">[Share<span class=\"share-content\">on\n",
       "  <a href=\"https://twitter.com/intent/tweet?text=I%27ve+completed+%22Extended+Polymerization%22+%2D+Day+14+%2D+Advent+of+Code+2021&amp;url=https%3A%2F%2Fadventofcode%2Ecom%2F2021%2Fday%2F14&amp;related=ericwastl&amp;hashtags=AdventOfCode\" target=\"_blank\">Twitter</a>\n",
       "  <a href=\"javascript:void(0);\" onclick=\"var mastodon_instance=prompt('Mastodon Instance / Server Name?'); if(typeof mastodon_instance==='string' && mastodon_instance.length){this.href='https://'+mastodon_instance+'/share?text=I%27ve+completed+%22Extended+Polymerization%22+%2D+Day+14+%2D+Advent+of+Code+2021+%23AdventOfCode+https%3A%2F%2Fadventofcode%2Ecom%2F2021%2Fday%2F14'}else{return false;}\" target=\"_blank\">Mastodon</a\n",
       "></span>]</span> this puzzle.</p>\n"
      ],
      "text/plain": [
       "<IPython.core.display.HTML object>"
      ]
     },
     "execution_count": 15,
     "metadata": {},
     "output_type": "execute_result"
    }
   ],
   "source": [
    "HTML(downloaded['part2_footer'])"
   ]
  }
 ],
 "metadata": {
  "kernelspec": {
   "display_name": "Python 3",
   "language": "python",
   "name": "python3"
  },
  "language_info": {
   "codemirror_mode": {
    "name": "ipython",
    "version": 3
   },
   "file_extension": ".py",
   "mimetype": "text/x-python",
   "name": "python",
   "nbconvert_exporter": "python",
   "pygments_lexer": "ipython3",
   "version": "3.10.6 (main, Nov 14 2022, 16:10:14) [GCC 11.3.0]"
  },
  "vscode": {
   "interpreter": {
    "hash": "e7370f93d1d0cde622a1f8e1c04877d8463912d04d973331ad4851f04de6915a"
   }
  }
 },
 "nbformat": 4,
 "nbformat_minor": 4
}

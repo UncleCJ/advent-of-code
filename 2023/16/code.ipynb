{
 "cells": [
  {
   "cell_type": "markdown",
   "metadata": {},
   "source": [
    "# Day 16: The Floor Will Be Lava\n",
    "\n",
    "[*Advent of Code 2023 day 16*](https://adventofcode.com/2023/day/16) and [*solution megathread*](https://redd.it/...)\n",
    "\n",
    "[![nbviewer](https://raw.githubusercontent.com/jupyter/design/master/logos/Badges/nbviewer_badge.svg)](https://nbviewer.jupyter.org/github/UncleCJ/advent-of-code/blob/cj/2023/16/code.ipynb) [![Binder](https://mybinder.org/badge_logo.svg)](https://mybinder.org/v2/gh/UncleCJ/advent-of-code/cj?filepath=2023%2F16%2Fcode.ipynb)"
   ]
  },
  {
   "cell_type": "code",
   "execution_count": 1,
   "metadata": {},
   "outputs": [],
   "source": [
    "from IPython.display import HTML\n",
    "import sys\n",
    "sys.path.append('../../')\n",
    "\n",
    "\n",
    "# %load_ext nb_mypy\n",
    "# %nb_mypy On"
   ]
  },
  {
   "cell_type": "code",
   "execution_count": 2,
   "metadata": {},
   "outputs": [
    {
     "name": "stdout",
     "output_type": "stream",
     "text": [
      "Writing 'downloaded' (dict) to file 'downloaded'.\n"
     ]
    }
   ],
   "source": [
    "import common\n",
    "\n",
    "\n",
    "downloaded = common.refresh()\n",
    "%store downloaded >downloaded\n",
    "\n",
    "# %load_ext pycodestyle_magic\n",
    "# %pycodestyle_on"
   ]
  },
  {
   "cell_type": "code",
   "execution_count": 3,
   "metadata": {},
   "outputs": [
    {
     "data": {
      "text/html": [
       "<h2>--- Day 16: The Floor Will Be Lava ---</h2><p>With the beam of light completely focused <em>somewhere</em>, the reindeer leads you deeper still into the Lava Production Facility. At some point, you realize that the steel facility walls have been replaced with cave, and the doorways are just cave, and the floor is cave, and you're pretty sure this is actually just a giant cave.</p>\n",
       "<p>Finally, as you approach what must be the heart of the mountain, you see a bright light in a cavern up ahead. There, you discover that the <span title=\"Not anymore, there's a blanket!\">beam</span> of light you so carefully focused is emerging from the cavern wall closest to the facility and pouring all of its energy into a contraption on the opposite side.</p>\n",
       "<p>Upon closer inspection, the contraption appears to be a flat, two-dimensional square grid containing <em>empty space</em> (<code>.</code>), <em>mirrors</em> (<code>/</code> and <code>\\</code>), and <em>splitters</em> (<code>|</code> and <code>-</code>).</p>\n",
       "<p>The contraption is aligned so that most of the beam bounces around the grid, but each tile on the grid converts some of the beam's light into <em>heat</em> to melt the rock in the cavern.</p>\n",
       "<p>You note the layout of the contraption (your puzzle input). For example:</p>\n",
       "<pre><code>.|...\\....\n",
       "|.-.\\.....\n",
       ".....|-...\n",
       "........|.\n",
       "..........\n",
       ".........\\\n",
       "..../.\\\\..\n",
       ".-.-/..|..\n",
       ".|....-|.\\\n",
       "..//.|....\n",
       "</code></pre>\n",
       "<p>The beam enters in the top-left corner from the left and heading to the <em>right</em>. Then, its behavior depends on what it encounters as it moves:</p>\n",
       "<ul>\n",
       "<li>If the beam encounters <em>empty space</em> (<code>.</code>), it continues in the same direction.</li>\n",
       "<li>If the beam encounters a <em>mirror</em> (<code>/</code> or <code>\\</code>), the beam is <em>reflected</em> 90 degrees depending on the angle of the mirror. For instance, a rightward-moving beam that encounters a <code>/</code> mirror would continue <em>upward</em> in the mirror's column, while a rightward-moving beam that encounters a <code>\\</code> mirror would continue <em>downward</em> from the mirror's column.</li>\n",
       "<li>If the beam encounters the <em>pointy end of a splitter</em> (<code>|</code> or <code>-</code>), the beam passes through the splitter as if the splitter were <em>empty space</em>. For instance, a rightward-moving beam that encounters a <code>-</code> splitter would continue in the same direction.</li>\n",
       "<li>If the beam encounters the <em>flat side of a splitter</em> (<code>|</code> or <code>-</code>), the beam is <em>split into two beams</em> going in each of the two directions the splitter's pointy ends are pointing. For instance, a rightward-moving beam that encounters a <code>|</code> splitter would split into two beams: one that continues <em>upward</em> from the splitter's column and one that continues <em>downward</em> from the splitter's column.</li>\n",
       "</ul>\n",
       "<p>Beams do not interact with other beams; a tile can have many beams passing through it at the same time. A tile is <em>energized</em> if that tile has at least one beam pass through it, reflect in it, or split in it.</p>\n",
       "<p>In the above example, here is how the beam of light bounces around the contraption:</p>\n",
       "<pre><code>&gt;|&lt;&lt;&lt;\\....\n",
       "|v-.\\^....\n",
       ".v...|-&gt;&gt;&gt;\n",
       ".v...v^.|.\n",
       ".v...v^...\n",
       ".v...v^..\\\n",
       ".v../2\\\\..\n",
       "&lt;-&gt;-/vv|..\n",
       ".|&lt;&lt;&lt;2-|.\\\n",
       ".v//.|.v..\n",
       "</code></pre>\n",
       "<p>Beams are only shown on empty tiles; arrows indicate the direction of the beams. If a tile contains beams moving in multiple directions, the number of distinct directions is shown instead. Here is the same diagram but instead only showing whether a tile is <em>energized</em> (<code>#</code>) or not (<code>.</code>):</p>\n",
       "<pre><code>######....\n",
       ".#...#....\n",
       ".#...#####\n",
       ".#...##...\n",
       ".#...##...\n",
       ".#...##...\n",
       ".#..####..\n",
       "########..\n",
       ".#######..\n",
       ".#...#.#..\n",
       "</code></pre>\n",
       "<p>Ultimately, in this example, <code><em>46</em></code> tiles become <em>energized</em>.</p>\n",
       "<p>The light isn't energizing enough tiles to produce lava; to debug the contraption, you need to start by analyzing the current situation. With the beam starting in the top-left heading right, <em>how many tiles end up being energized?</em></p>\n"
      ],
      "text/plain": [
       "<IPython.core.display.HTML object>"
      ]
     },
     "execution_count": 3,
     "metadata": {},
     "output_type": "execute_result"
    }
   ],
   "source": [
    "from IPython.display import HTML\n",
    "\n",
    "HTML(downloaded['part1'])"
   ]
  },
  {
   "cell_type": "code",
   "execution_count": 4,
   "metadata": {},
   "outputs": [],
   "source": [
    "part1_example_input = '''.|...\\\\....\n",
    "|.-.\\\\.....\n",
    ".....|-...\n",
    "........|.\n",
    "..........\n",
    ".........\\\\\n",
    "..../.\\\\\\\\..\n",
    ".-.-/..|..\n",
    ".|....-|.\\\\\n",
    "..//.|....'''"
   ]
  },
  {
   "cell_type": "code",
   "execution_count": 5,
   "metadata": {},
   "outputs": [
    {
     "name": "stdout",
     "output_type": "stream",
     "text": [
      "(0, 1)\n"
     ]
    }
   ],
   "source": [
    "from enum import Enum\n",
    "\n",
    "class Cardinal(Enum):\n",
    "    EAST = (0, 1)\n",
    "    NORTH = (-1, 0)\n",
    "    WEST = (0, -1)\n",
    "    SOUTH = (1, 0)\n",
    "\n",
    "print(Cardinal.EAST.value)"
   ]
  },
  {
   "cell_type": "code",
   "execution_count": 6,
   "metadata": {},
   "outputs": [],
   "source": [
    "def process_beam(location, heading):\n",
    "    def progress_beam(location, heading):\n",
    "        new_location = (\n",
    "            location[0] + heading.value[0],\n",
    "            location[1] + heading.value[1]\n",
    "            )\n",
    "        if all(0 <= l < len(MIRRORS) for l in new_location):\n",
    "            return new_location\n",
    "        else:\n",
    "            return None\n",
    "\n",
    "\n",
    "    match MIRRORS[location[0]][location[1]]:\n",
    "        case '/':\n",
    "            match heading:\n",
    "                case Cardinal.EAST:\n",
    "                    heading = Cardinal.NORTH\n",
    "                case Cardinal.NORTH:\n",
    "                    heading = Cardinal.EAST\n",
    "                case Cardinal.WEST:\n",
    "                    heading = Cardinal.SOUTH\n",
    "                case Cardinal.SOUTH:\n",
    "                    heading = Cardinal.WEST\n",
    "                case _:\n",
    "                    pass\n",
    "            if (new_location := progress_beam(location, heading)):\n",
    "                return [(new_location, heading)]\n",
    "        case '\\\\':\n",
    "            match heading:\n",
    "                case Cardinal.EAST:\n",
    "                    heading = Cardinal.SOUTH\n",
    "                case Cardinal.NORTH:\n",
    "                    heading = Cardinal.WEST\n",
    "                case Cardinal.WEST:\n",
    "                    heading = Cardinal.NORTH\n",
    "                case Cardinal.SOUTH:\n",
    "                    heading = Cardinal.EAST\n",
    "                case _:\n",
    "                    pass\n",
    "            if (new_location := progress_beam(location, heading)):\n",
    "                return [(new_location, heading)]\n",
    "        case '-':\n",
    "            match heading:\n",
    "                case Cardinal.NORTH | Cardinal.SOUTH:\n",
    "                    results = []\n",
    "                    heading = Cardinal.WEST\n",
    "                    if (new_location := progress_beam(location, heading)):\n",
    "                        results.append((new_location, heading))\n",
    "                    heading = Cardinal.EAST\n",
    "                    if (new_location := progress_beam(location, heading)):\n",
    "                        results.append((new_location, heading))\n",
    "                    return results\n",
    "                case _:\n",
    "                    pass\n",
    "        case '|':\n",
    "            match heading:\n",
    "                case Cardinal.EAST | Cardinal.WEST:\n",
    "                    results = []\n",
    "                    heading = Cardinal.SOUTH\n",
    "                    if (new_location := progress_beam(location, heading)):\n",
    "                        results.append((new_location, heading))\n",
    "                    heading = Cardinal.NORTH\n",
    "                    if (new_location := progress_beam(location, heading)):\n",
    "                        results.append((new_location, heading))\n",
    "                    return results\n",
    "                case _:\n",
    "                    pass\n",
    "        case _:\n",
    "            pass\n",
    "\n",
    "    if (new_location := progress_beam(location, heading)):\n",
    "        return [(new_location, heading)]"
   ]
  },
  {
   "cell_type": "code",
   "execution_count": 7,
   "metadata": {},
   "outputs": [
    {
     "name": "stdout",
     "output_type": "stream",
     "text": [
      "location=(0, 0), heading=<Cardinal.EAST: (0, 1)>, traveling_light=[]\n",
      "location=(0, 1), heading=<Cardinal.EAST: (0, 1)>, traveling_light=[]\n",
      "location=(1, 1), heading=<Cardinal.SOUTH: (1, 0)>, traveling_light=[]\n",
      "location=(2, 1), heading=<Cardinal.SOUTH: (1, 0)>, traveling_light=[]\n",
      "location=(3, 1), heading=<Cardinal.SOUTH: (1, 0)>, traveling_light=[]\n",
      "location=(4, 1), heading=<Cardinal.SOUTH: (1, 0)>, traveling_light=[]\n",
      "location=(5, 1), heading=<Cardinal.SOUTH: (1, 0)>, traveling_light=[]\n",
      "location=(6, 1), heading=<Cardinal.SOUTH: (1, 0)>, traveling_light=[]\n",
      "location=(7, 1), heading=<Cardinal.SOUTH: (1, 0)>, traveling_light=[]\n",
      "location=(7, 2), heading=<Cardinal.EAST: (0, 1)>, traveling_light=[((7, 0), <Cardinal.WEST: (0, -1)>)]\n",
      "location=(7, 3), heading=<Cardinal.EAST: (0, 1)>, traveling_light=[((7, 0), <Cardinal.WEST: (0, -1)>)]\n",
      "location=(7, 4), heading=<Cardinal.EAST: (0, 1)>, traveling_light=[((7, 0), <Cardinal.WEST: (0, -1)>)]\n",
      "location=(6, 4), heading=<Cardinal.NORTH: (-1, 0)>, traveling_light=[((7, 0), <Cardinal.WEST: (0, -1)>)]\n",
      "location=(6, 5), heading=<Cardinal.EAST: (0, 1)>, traveling_light=[((7, 0), <Cardinal.WEST: (0, -1)>)]\n",
      "location=(6, 6), heading=<Cardinal.EAST: (0, 1)>, traveling_light=[((7, 0), <Cardinal.WEST: (0, -1)>)]\n",
      "location=(7, 6), heading=<Cardinal.SOUTH: (1, 0)>, traveling_light=[((7, 0), <Cardinal.WEST: (0, -1)>)]\n",
      "location=(8, 6), heading=<Cardinal.SOUTH: (1, 0)>, traveling_light=[((7, 0), <Cardinal.WEST: (0, -1)>)]\n",
      "location=(8, 7), heading=<Cardinal.EAST: (0, 1)>, traveling_light=[((7, 0), <Cardinal.WEST: (0, -1)>), ((8, 5), <Cardinal.WEST: (0, -1)>)]\n",
      "location=(7, 7), heading=<Cardinal.NORTH: (-1, 0)>, traveling_light=[((7, 0), <Cardinal.WEST: (0, -1)>), ((8, 5), <Cardinal.WEST: (0, -1)>), ((9, 7), <Cardinal.SOUTH: (1, 0)>)]\n",
      "location=(6, 7), heading=<Cardinal.NORTH: (-1, 0)>, traveling_light=[((7, 0), <Cardinal.WEST: (0, -1)>), ((8, 5), <Cardinal.WEST: (0, -1)>), ((9, 7), <Cardinal.SOUTH: (1, 0)>)]\n",
      "location=(6, 6), heading=<Cardinal.WEST: (0, -1)>, traveling_light=[((7, 0), <Cardinal.WEST: (0, -1)>), ((8, 5), <Cardinal.WEST: (0, -1)>), ((9, 7), <Cardinal.SOUTH: (1, 0)>)]\n",
      "location=(5, 6), heading=<Cardinal.NORTH: (-1, 0)>, traveling_light=[((7, 0), <Cardinal.WEST: (0, -1)>), ((8, 5), <Cardinal.WEST: (0, -1)>), ((9, 7), <Cardinal.SOUTH: (1, 0)>)]\n",
      "location=(4, 6), heading=<Cardinal.NORTH: (-1, 0)>, traveling_light=[((7, 0), <Cardinal.WEST: (0, -1)>), ((8, 5), <Cardinal.WEST: (0, -1)>), ((9, 7), <Cardinal.SOUTH: (1, 0)>)]\n",
      "location=(3, 6), heading=<Cardinal.NORTH: (-1, 0)>, traveling_light=[((7, 0), <Cardinal.WEST: (0, -1)>), ((8, 5), <Cardinal.WEST: (0, -1)>), ((9, 7), <Cardinal.SOUTH: (1, 0)>)]\n",
      "location=(2, 6), heading=<Cardinal.NORTH: (-1, 0)>, traveling_light=[((7, 0), <Cardinal.WEST: (0, -1)>), ((8, 5), <Cardinal.WEST: (0, -1)>), ((9, 7), <Cardinal.SOUTH: (1, 0)>)]\n",
      "location=(2, 7), heading=<Cardinal.EAST: (0, 1)>, traveling_light=[((7, 0), <Cardinal.WEST: (0, -1)>), ((8, 5), <Cardinal.WEST: (0, -1)>), ((9, 7), <Cardinal.SOUTH: (1, 0)>), ((2, 5), <Cardinal.WEST: (0, -1)>)]\n",
      "location=(2, 8), heading=<Cardinal.EAST: (0, 1)>, traveling_light=[((7, 0), <Cardinal.WEST: (0, -1)>), ((8, 5), <Cardinal.WEST: (0, -1)>), ((9, 7), <Cardinal.SOUTH: (1, 0)>), ((2, 5), <Cardinal.WEST: (0, -1)>)]\n",
      "location=(2, 9), heading=<Cardinal.EAST: (0, 1)>, traveling_light=[((7, 0), <Cardinal.WEST: (0, -1)>), ((8, 5), <Cardinal.WEST: (0, -1)>), ((9, 7), <Cardinal.SOUTH: (1, 0)>), ((2, 5), <Cardinal.WEST: (0, -1)>)]\n",
      "location=(2, 5), heading=<Cardinal.WEST: (0, -1)>, traveling_light=[((7, 0), <Cardinal.WEST: (0, -1)>), ((8, 5), <Cardinal.WEST: (0, -1)>), ((9, 7), <Cardinal.SOUTH: (1, 0)>)]\n",
      "location=(1, 5), heading=<Cardinal.NORTH: (-1, 0)>, traveling_light=[((7, 0), <Cardinal.WEST: (0, -1)>), ((8, 5), <Cardinal.WEST: (0, -1)>), ((9, 7), <Cardinal.SOUTH: (1, 0)>), ((3, 5), <Cardinal.SOUTH: (1, 0)>)]\n",
      "location=(0, 5), heading=<Cardinal.NORTH: (-1, 0)>, traveling_light=[((7, 0), <Cardinal.WEST: (0, -1)>), ((8, 5), <Cardinal.WEST: (0, -1)>), ((9, 7), <Cardinal.SOUTH: (1, 0)>), ((3, 5), <Cardinal.SOUTH: (1, 0)>)]\n",
      "location=(0, 4), heading=<Cardinal.WEST: (0, -1)>, traveling_light=[((7, 0), <Cardinal.WEST: (0, -1)>), ((8, 5), <Cardinal.WEST: (0, -1)>), ((9, 7), <Cardinal.SOUTH: (1, 0)>), ((3, 5), <Cardinal.SOUTH: (1, 0)>)]\n",
      "location=(0, 3), heading=<Cardinal.WEST: (0, -1)>, traveling_light=[((7, 0), <Cardinal.WEST: (0, -1)>), ((8, 5), <Cardinal.WEST: (0, -1)>), ((9, 7), <Cardinal.SOUTH: (1, 0)>), ((3, 5), <Cardinal.SOUTH: (1, 0)>)]\n",
      "location=(0, 2), heading=<Cardinal.WEST: (0, -1)>, traveling_light=[((7, 0), <Cardinal.WEST: (0, -1)>), ((8, 5), <Cardinal.WEST: (0, -1)>), ((9, 7), <Cardinal.SOUTH: (1, 0)>), ((3, 5), <Cardinal.SOUTH: (1, 0)>)]\n",
      "location=(0, 1), heading=<Cardinal.WEST: (0, -1)>, traveling_light=[((7, 0), <Cardinal.WEST: (0, -1)>), ((8, 5), <Cardinal.WEST: (0, -1)>), ((9, 7), <Cardinal.SOUTH: (1, 0)>), ((3, 5), <Cardinal.SOUTH: (1, 0)>)]\n",
      "location=(3, 5), heading=<Cardinal.SOUTH: (1, 0)>, traveling_light=[((7, 0), <Cardinal.WEST: (0, -1)>), ((8, 5), <Cardinal.WEST: (0, -1)>), ((9, 7), <Cardinal.SOUTH: (1, 0)>)]\n",
      "location=(4, 5), heading=<Cardinal.SOUTH: (1, 0)>, traveling_light=[((7, 0), <Cardinal.WEST: (0, -1)>), ((8, 5), <Cardinal.WEST: (0, -1)>), ((9, 7), <Cardinal.SOUTH: (1, 0)>)]\n",
      "location=(5, 5), heading=<Cardinal.SOUTH: (1, 0)>, traveling_light=[((7, 0), <Cardinal.WEST: (0, -1)>), ((8, 5), <Cardinal.WEST: (0, -1)>), ((9, 7), <Cardinal.SOUTH: (1, 0)>)]\n",
      "location=(6, 5), heading=<Cardinal.SOUTH: (1, 0)>, traveling_light=[((7, 0), <Cardinal.WEST: (0, -1)>), ((8, 5), <Cardinal.WEST: (0, -1)>), ((9, 7), <Cardinal.SOUTH: (1, 0)>)]\n",
      "location=(7, 5), heading=<Cardinal.SOUTH: (1, 0)>, traveling_light=[((7, 0), <Cardinal.WEST: (0, -1)>), ((8, 5), <Cardinal.WEST: (0, -1)>), ((9, 7), <Cardinal.SOUTH: (1, 0)>)]\n",
      "location=(8, 5), heading=<Cardinal.SOUTH: (1, 0)>, traveling_light=[((7, 0), <Cardinal.WEST: (0, -1)>), ((8, 5), <Cardinal.WEST: (0, -1)>), ((9, 7), <Cardinal.SOUTH: (1, 0)>)]\n",
      "location=(9, 5), heading=<Cardinal.SOUTH: (1, 0)>, traveling_light=[((7, 0), <Cardinal.WEST: (0, -1)>), ((8, 5), <Cardinal.WEST: (0, -1)>), ((9, 7), <Cardinal.SOUTH: (1, 0)>)]\n",
      "location=(9, 7), heading=<Cardinal.SOUTH: (1, 0)>, traveling_light=[((7, 0), <Cardinal.WEST: (0, -1)>), ((8, 5), <Cardinal.WEST: (0, -1)>)]\n",
      "location=(8, 5), heading=<Cardinal.WEST: (0, -1)>, traveling_light=[((7, 0), <Cardinal.WEST: (0, -1)>)]\n",
      "location=(8, 4), heading=<Cardinal.WEST: (0, -1)>, traveling_light=[((7, 0), <Cardinal.WEST: (0, -1)>)]\n",
      "location=(8, 3), heading=<Cardinal.WEST: (0, -1)>, traveling_light=[((7, 0), <Cardinal.WEST: (0, -1)>)]\n",
      "location=(8, 2), heading=<Cardinal.WEST: (0, -1)>, traveling_light=[((7, 0), <Cardinal.WEST: (0, -1)>)]\n",
      "location=(8, 1), heading=<Cardinal.WEST: (0, -1)>, traveling_light=[((7, 0), <Cardinal.WEST: (0, -1)>)]\n",
      "location=(7, 1), heading=<Cardinal.NORTH: (-1, 0)>, traveling_light=[((7, 0), <Cardinal.WEST: (0, -1)>), ((9, 1), <Cardinal.SOUTH: (1, 0)>)]\n",
      "location=(9, 1), heading=<Cardinal.SOUTH: (1, 0)>, traveling_light=[((7, 0), <Cardinal.WEST: (0, -1)>)]\n",
      "location=(7, 0), heading=<Cardinal.WEST: (0, -1)>, traveling_light=[]\n"
     ]
    }
   ],
   "source": [
    "MIRRORS = part1_example_input.splitlines()\n",
    "# MIRRORS = downloaded['input'].splitlines()\n",
    "\n",
    "traveling_light = [((0, 0), Cardinal.EAST)]\n",
    "energized = {(0, 0): [Cardinal.EAST]}\n",
    "\n",
    "while traveling_light:\n",
    "    location, heading = traveling_light.pop()\n",
    "    print(f\"{location=}, {heading=}, {traveling_light=}\")\n",
    "    if (new_beams := process_beam(location, heading)):\n",
    "        for new_location, new_heading in new_beams:\n",
    "            if (new_location not in energized.keys() or\n",
    "                    new_heading not in energized[new_location]):\n",
    "                if new_location not in energized.keys():\n",
    "                    energized[new_location] = [new_heading]\n",
    "                else:\n",
    "                    energized[new_location].append(new_heading)\n",
    "                traveling_light.append((new_location, new_heading))"
   ]
  },
  {
   "cell_type": "code",
   "execution_count": 8,
   "metadata": {},
   "outputs": [
    {
     "name": "stdout",
     "output_type": "stream",
     "text": [
      ">|<<<\\....\n",
      "|v-.\\^....\n",
      ".v...|->>>\n",
      ".v...v^.|.\n",
      ".v...v^...\n",
      ".v...v^..\\\n",
      ".v../2\\\\..\n",
      "<->-/vv|..\n",
      ".|<<<2-|.\\\n",
      ".v//.|.v..\n",
      "46\n"
     ]
    }
   ],
   "source": [
    "from itertools import count\n",
    "\n",
    "\n",
    "def superimpose_beams(energized):\n",
    "    def arrow(card):\n",
    "        if len(card) == 1:\n",
    "            match card[0]:\n",
    "                case Cardinal.EAST:\n",
    "                    return '>'\n",
    "                case Cardinal.NORTH:\n",
    "                    return '^'\n",
    "                case Cardinal.WEST:\n",
    "                    return '<'\n",
    "                case Cardinal.SOUTH:\n",
    "                    return 'v'\n",
    "                case _:\n",
    "                    return None\n",
    "        else:\n",
    "            return str(len(card))\n",
    "    \n",
    "    \n",
    "    results = []\n",
    "    for row, line in zip(count(), MIRRORS):\n",
    "        super_line = []\n",
    "        for col, l in zip(count(), line):\n",
    "            if l != '.':\n",
    "                super_line.append(l)\n",
    "            else:\n",
    "                if (row, col) in energized.keys():\n",
    "                    super_line.append(arrow(energized[(row, col)]))\n",
    "                else:\n",
    "                    super_line.append('.')\n",
    "        results.append(''.join(super_line))\n",
    "    return '\\n'.join(results)\n",
    "\n",
    "print(superimpose_beams(energized))\n",
    "print(len(energized))\n",
    "# >|<<<\\....\n",
    "# |v-.\\^....\n",
    "# .v...|->>>\n",
    "# .v...v^.|.\n",
    "# .v...v^...\n",
    "# .v...v^..\\\n",
    "# .v../2\\\\..\n",
    "# <->-/vv|..\n",
    "# .|<<<2-|.\\\n",
    "# .v//.|.v.."
   ]
  },
  {
   "cell_type": "code",
   "execution_count": 9,
   "metadata": {
    "scrolled": true
   },
   "outputs": [
    {
     "data": {
      "text/html": [
       "<h2 id=\"part2\">--- Part Two ---</h2><p>As you try to work out what might be wrong, the reindeer tugs on your shirt and leads you to a nearby control panel. There, a collection of buttons lets you align the contraption so that the beam enters from <em>any edge tile</em> and heading away from that edge. (You can choose either of two directions for the beam if it starts on a corner; for instance, if the beam starts in the bottom-right corner, it can start heading either left or upward.)</p>\n",
       "<p>So, the beam could start on any tile in the top row (heading downward), any tile in the bottom row (heading upward), any tile in the leftmost column (heading right), or any tile in the rightmost column (heading left). To produce lava, you need to find the configuration that <em>energizes as many tiles as possible</em>.</p>\n",
       "<p>In the above example, this can be achieved by starting the beam in the fourth tile from the left in the top row:</p>\n",
       "<pre><code>.|&lt;2&lt;\\....\n",
       "|v-v\\^....\n",
       ".v.v.|-&gt;&gt;&gt;\n",
       ".v.v.v^.|.\n",
       ".v.v.v^...\n",
       ".v.v.v^..\\\n",
       ".v.v/2\\\\..\n",
       "&lt;-2-/vv|..\n",
       ".|&lt;&lt;&lt;2-|.\\\n",
       ".v//.|.v..\n",
       "</code></pre>\n",
       "<p>Using this configuration, <code><em>51</em></code> tiles are energized:</p>\n",
       "<pre><code>.#####....\n",
       ".#.#.#....\n",
       ".#.#.#####\n",
       ".#.#.##...\n",
       ".#.#.##...\n",
       ".#.#.##...\n",
       ".#.#####..\n",
       "########..\n",
       ".#######..\n",
       ".#...#.#..\n",
       "</code></pre>\n",
       "<p>Find the initial beam configuration that energizes the largest number of tiles; <em>how many tiles are energized in that configuration?</em></p>\n"
      ],
      "text/plain": [
       "<IPython.core.display.HTML object>"
      ]
     },
     "execution_count": 9,
     "metadata": {},
     "output_type": "execute_result"
    }
   ],
   "source": [
    "HTML(downloaded['part2'])"
   ]
  }
 ],
 "metadata": {
  "kernelspec": {
   "display_name": "Python 3 (ipykernel)",
   "language": "python",
   "name": "python3"
  },
  "language_info": {
   "codemirror_mode": {
    "name": "ipython",
    "version": 3
   },
   "file_extension": ".py",
   "mimetype": "text/x-python",
   "name": "python",
   "nbconvert_exporter": "python",
   "pygments_lexer": "ipython3",
   "version": "3.12.0"
  },
  "vscode": {
   "interpreter": {
    "hash": "e7370f93d1d0cde622a1f8e1c04877d8463912d04d973331ad4851f04de6915a"
   }
  }
 },
 "nbformat": 4,
 "nbformat_minor": 2
}

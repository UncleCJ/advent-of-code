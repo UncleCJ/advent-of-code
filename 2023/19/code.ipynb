{
 "cells": [
  {
   "cell_type": "markdown",
   "metadata": {},
   "source": [
    "# Day 19: Aplenty\n",
    "\n",
    "[*Advent of Code 2023 day 19*](https://adventofcode.com/2023/day/19) and [*solution megathread*](https://redd.it/18ltr8m)\n",
    "\n",
    "[![nbviewer](https://raw.githubusercontent.com/jupyter/design/master/logos/Badges/nbviewer_badge.svg)](https://nbviewer.jupyter.org/github/UncleCJ/advent-of-code/blob/cj/2023/19/code.ipynb) [![Binder](https://mybinder.org/badge_logo.svg)](https://mybinder.org/v2/gh/UncleCJ/advent-of-code/cj?filepath=2023%2F19%2Fcode.ipynb)"
   ]
  },
  {
   "cell_type": "code",
   "execution_count": 1,
   "metadata": {},
   "outputs": [],
   "source": [
    "from IPython.display import HTML\n",
    "import sys\n",
    "sys.path.append('../../')\n",
    "\n",
    "\n",
    "# %load_ext nb_mypy\n",
    "# %nb_mypy On"
   ]
  },
  {
   "cell_type": "code",
   "execution_count": 2,
   "metadata": {},
   "outputs": [
    {
     "name": "stdout",
     "output_type": "stream",
     "text": [
      "Writing 'downloaded' (dict) to file 'downloaded'.\n"
     ]
    }
   ],
   "source": [
    "import common\n",
    "\n",
    "\n",
    "downloaded = common.refresh()\n",
    "%store downloaded >downloaded\n",
    "\n",
    "# %load_ext pycodestyle_magic\n",
    "# %pycodestyle_on"
   ]
  },
  {
   "cell_type": "code",
   "execution_count": 3,
   "metadata": {},
   "outputs": [
    {
     "data": {
      "text/html": [
       "<h2>--- Day 19: Aplenty ---</h2><p>The Elves of Gear Island are thankful for your help and send you on your way. They even have a hang glider that someone <a href=\"9\">stole</a> from Desert Island; since you're already going that direction, it would help them a lot if you would use it to get down there and return it to them.</p>\n",
       "<p>As you reach the bottom of the <em>relentless avalanche of machine parts</em>, you discover that they're already forming a formidable heap. Don't worry, though - a group of Elves is already here organizing the parts, and they have a <span title=\"This part sparks joy. This part sparks joy. This part ALSO sparks joy... I think we need a different system.\"><em>system</em></span>.</p>\n",
       "<p>To start, each part is rated in each of four categories:</p>\n",
       "<ul>\n",
       "<li><code>x</code>: E<em>x</em>tremely cool looking</li>\n",
       "<li><code>m</code>: <em>M</em>usical (it makes a noise when you hit it)</li>\n",
       "<li><code>a</code>: <em>A</em>erodynamic</li>\n",
       "<li><code>s</code>: <em>S</em>hiny</li>\n",
       "</ul>\n",
       "<p>Then, each part is sent through a series of <em>workflows</em> that will ultimately <em>accept</em> or <em>reject</em> the part. Each workflow has a name and contains a list of <em>rules</em>; each rule specifies a condition and where to send the part if the condition is true. The first rule that matches the part being considered is applied immediately, and the part moves on to the destination described by the rule. (The last rule in each workflow has no condition and always applies if reached.)</p>\n",
       "<p>Consider the workflow <code>ex{x&gt;10:one,m&lt;20:two,a&gt;30:R,A}</code>. This workflow is named <code>ex</code> and contains four rules. If workflow <code>ex</code> were considering a specific part, it would perform the following steps in order:</p>\n",
       "<ul>\n",
       "<li>Rule \"<code>x&gt;10:one</code>\": If the part's <code>x</code> is more than <code>10</code>, send the part to the workflow named <code>one</code>.</li>\n",
       "<li>Rule \"<code>m&lt;20:two</code>\": Otherwise, if the part's <code>m</code> is less than <code>20</code>, send the part to the workflow named <code>two</code>.</li>\n",
       "<li>Rule \"<code>a&gt;30:R</code>\": Otherwise, if the part's <code>a</code> is more than <code>30</code>, the part is immediately <em>rejected</em> (<code>R</code>).</li>\n",
       "<li>Rule \"<code>A</code>\": Otherwise, because no other rules matched the part, the part is immediately <em>accepted</em> (<code>A</code>).</li>\n",
       "</ul>\n",
       "<p>If a part is sent to another workflow, it immediately switches to the start of that workflow instead and never returns. If a part is <em>accepted</em> (sent to <code>A</code>) or <em>rejected</em> (sent to <code>R</code>), the part immediately stops any further processing.</p>\n",
       "<p>The system works, but it's not keeping up with the torrent of weird metal shapes. The Elves ask if you can help sort a few parts and give you the list of workflows and some part ratings (your puzzle input). For example:</p>\n",
       "<pre><code>px{a<2006:qkq,m>2090:A,rfg}\n",
       "pv{a>1716:R,A}\n",
       "lnx{m>1548:A,A}\n",
       "rfg{s<537:gd,x>2440:R,A}\n",
       "qs{s>3448:A,lnx}\n",
       "qkq{x<1416:A,crn}\n",
       "crn{x>2662:A,R}\n",
       "in{s<1351:px,qqz}\n",
       "qqz{s>2770:qs,m<1801:hdj,R}\n",
       "gd{a>3333:R,R}\n",
       "hdj{m>838:A,pv}\n",
       "\n",
       "{x=787,m=2655,a=1222,s=2876}\n",
       "{x=1679,m=44,a=2067,s=496}\n",
       "{x=2036,m=264,a=79,s=2244}\n",
       "{x=2461,m=1339,a=466,s=291}\n",
       "{x=2127,m=1623,a=2188,s=1013}\n",
       "</code></pre>\n",
       "<p>The workflows are listed first, followed by a blank line, then the ratings of the parts the Elves would like you to sort. All parts begin in the workflow named <code>in</code>. In this example, the five listed parts go through the following workflows:</p>\n",
       "<ul>\n",
       "<li><code>{x=787,m=2655,a=1222,s=2876}</code>: <code>in</code> -&gt; <code>qqz</code> -&gt; <code>qs</code> -&gt; <code>lnx</code> -&gt; <code><em>A</em></code></li>\n",
       "<li><code>{x=1679,m=44,a=2067,s=496}</code>: <code>in</code> -&gt; <code>px</code> -&gt; <code>rfg</code> -&gt; <code>gd</code> -&gt; <code><em>R</em></code></li>\n",
       "<li><code>{x=2036,m=264,a=79,s=2244}</code>: <code>in</code> -&gt; <code>qqz</code> -&gt; <code>hdj</code> -&gt; <code>pv</code> -&gt; <code><em>A</em></code></li>\n",
       "<li><code>{x=2461,m=1339,a=466,s=291}</code>: <code>in</code> -&gt; <code>px</code> -&gt; <code>qkq</code> -&gt; <code>crn</code> -&gt; <code><em>R</em></code></li>\n",
       "<li><code>{x=2127,m=1623,a=2188,s=1013}</code>: <code>in</code> -&gt; <code>px</code> -&gt; <code>rfg</code> -&gt; <code><em>A</em></code></li>\n",
       "</ul>\n",
       "<p>Ultimately, three parts are <em>accepted</em>. Adding up the <code>x</code>, <code>m</code>, <code>a</code>, and <code>s</code> rating for each of the accepted parts gives <code>7540</code> for the part with <code>x=787</code>, <code>4623</code> for the part with <code>x=2036</code>, and <code>6951</code> for the part with <code>x=2127</code>. Adding all of the ratings for <em>all</em> of the accepted parts gives the sum total of <code><em>19114</em></code>.</p>\n",
       "<p>Sort through all of the parts you've been given; <em>what do you get if you add together all of the rating numbers for all of the parts that ultimately get accepted?</em></p>\n"
      ],
      "text/plain": [
       "<IPython.core.display.HTML object>"
      ]
     },
     "execution_count": 3,
     "metadata": {},
     "output_type": "execute_result"
    }
   ],
   "source": [
    "from IPython.display import HTML\n",
    "\n",
    "HTML(downloaded['part1'])"
   ]
  },
  {
   "cell_type": "code",
   "execution_count": 4,
   "metadata": {},
   "outputs": [],
   "source": [
    "part1_example_input = '''px{a<2006:qkq,m>2090:A,rfg}\n",
    "pv{a>1716:R,A}\n",
    "lnx{m>1548:A,A}\n",
    "rfg{s<537:gd,x>2440:R,A}\n",
    "qs{s>3448:A,lnx}\n",
    "qkq{x<1416:A,crn}\n",
    "crn{x>2662:A,R}\n",
    "in{s<1351:px,qqz}\n",
    "qqz{s>2770:qs,m<1801:hdj,R}\n",
    "gd{a>3333:R,R}\n",
    "hdj{m>838:A,pv}\n",
    "\n",
    "{x=787,m=2655,a=1222,s=2876}\n",
    "{x=1679,m=44,a=2067,s=496}\n",
    "{x=2036,m=264,a=79,s=2244}\n",
    "{x=2461,m=1339,a=466,s=291}\n",
    "{x=2127,m=1623,a=2188,s=1013}'''"
   ]
  },
  {
   "cell_type": "code",
   "execution_count": 5,
   "metadata": {},
   "outputs": [],
   "source": [
    "from typing import Tuple, Callable, NamedTuple\n",
    "from operator import gt, lt\n",
    "\n",
    "\n",
    "class RuleExpression(NamedTuple):\n",
    "    field: str\n",
    "    op: Callable\n",
    "    threshold: int\n",
    "    value_if_true: str\n",
    "\n",
    "    @staticmethod\n",
    "    def new_from_strings(field: str, op: str, threshold: str, value_if_true: str):\n",
    "        match op:\n",
    "            case '>':\n",
    "                op_func = gt\n",
    "            case '<':\n",
    "                op_func = lt\n",
    "            case _:\n",
    "                raise ValueError(f\"Expected less than (<) or greater than (>): {op=}\")\n",
    "        threshold_int = int(threshold)\n",
    "        return RuleExpression(\n",
    "            field=field,\n",
    "            op=op_func,\n",
    "            threshold=threshold_int,\n",
    "            value_if_true=value_if_true)\n",
    "\n",
    "class Rule(NamedTuple):\n",
    "    name: str\n",
    "    expressions: Tuple[RuleExpression, ...]\n",
    "    default: str\n",
    "\n",
    "class Part(NamedTuple):\n",
    "    x: int\n",
    "    m: int\n",
    "    a: int\n",
    "    s: int"
   ]
  },
  {
   "cell_type": "code",
   "execution_count": 8,
   "metadata": {},
   "outputs": [
    {
     "name": "stdout",
     "output_type": "stream",
     "text": [
      "('px', Rule(name='px', expressions=(RuleExpression(field='a', op=<built-in function lt>, threshold=2006, value_if_true='qkq'), RuleExpression(field='m', op=<built-in function gt>, threshold=2090, value_if_true='A')), default='rfg'))\n",
      "('pv', Rule(name='pv', expressions=(RuleExpression(field='a', op=<built-in function gt>, threshold=1716, value_if_true='R'),), default='A'))\n",
      "('lnx', Rule(name='lnx', expressions=(RuleExpression(field='m', op=<built-in function gt>, threshold=1548, value_if_true='A'),), default='A'))\n",
      "('rfg', Rule(name='rfg', expressions=(RuleExpression(field='s', op=<built-in function lt>, threshold=537, value_if_true='gd'), RuleExpression(field='x', op=<built-in function gt>, threshold=2440, value_if_true='R')), default='A'))\n",
      "('qs', Rule(name='qs', expressions=(RuleExpression(field='s', op=<built-in function gt>, threshold=3448, value_if_true='A'),), default='lnx'))\n",
      "('qkq', Rule(name='qkq', expressions=(RuleExpression(field='x', op=<built-in function lt>, threshold=1416, value_if_true='A'),), default='crn'))\n",
      "('crn', Rule(name='crn', expressions=(RuleExpression(field='x', op=<built-in function gt>, threshold=2662, value_if_true='A'),), default='R'))\n",
      "('in', Rule(name='in', expressions=(RuleExpression(field='s', op=<built-in function lt>, threshold=1351, value_if_true='px'),), default='qqz'))\n",
      "('qqz', Rule(name='qqz', expressions=(RuleExpression(field='s', op=<built-in function gt>, threshold=2770, value_if_true='qs'), RuleExpression(field='m', op=<built-in function lt>, threshold=1801, value_if_true='hdj')), default='R'))\n",
      "('gd', Rule(name='gd', expressions=(RuleExpression(field='a', op=<built-in function gt>, threshold=3333, value_if_true='R'),), default='R'))\n",
      "('hdj', Rule(name='hdj', expressions=(RuleExpression(field='m', op=<built-in function gt>, threshold=838, value_if_true='A'),), default='pv'))\n",
      "Part(x=787, m=2655, a=1222, s=2876)\n",
      "Part(x=1679, m=44, a=2067, s=496)\n",
      "Part(x=2036, m=264, a=79, s=2244)\n",
      "Part(x=2461, m=1339, a=466, s=291)\n",
      "Part(x=2127, m=1623, a=2188, s=1013)\n"
     ]
    }
   ],
   "source": [
    "from typing import Dict, List, Iterable\n",
    "import re\n",
    "\n",
    "\n",
    "def parse_input(input: str) -> Tuple[Dict[str, Rule], List[Part]]:\n",
    "    def iter_ruleexpressions(expressions_str: str) -> Iterable[RuleExpression]:\n",
    "        return map(\n",
    "            lambda re_match: RuleExpression.new_from_strings(**re_match.groupdict()),\n",
    "            re.finditer(\n",
    "                r'(?P<field>[xmas])(?P<op>[><])(?P<threshold>\\d+):(?P<value_if_true>[a-z]+|[RA]),',\n",
    "                expressions_str\n",
    "                )\n",
    "            )\n",
    "    def parse_rule(rule: str) -> Rule:\n",
    "        name, expressions_str, default = re.findall(r'^([a-z]+){(.+?,)([a-z]+|[RA])}$', rule)[0]\n",
    "        ruleexpressions = tuple(iter_ruleexpressions(expressions_str))\n",
    "        return Rule(name=name, expressions=ruleexpressions, default=default)\n",
    "    def parse_part(part: str) -> Part:\n",
    "        # Dropping opening and closing brace, fields are in \"xmas\" order, so we\n",
    "        # can split by comma and drop \"[xmas]=\" of each field\n",
    "        return Part(*(int(p[2:]) for p in part[1:-1].split(',')))\n",
    "    \n",
    "    \n",
    "    rules_str, parts_str = map(str.splitlines, input.split('\\n\\n'))\n",
    "    rules = dict({rule.name: rule for rule in map(parse_rule, rules_str)})\n",
    "    parts = list(map(parse_part, parts_str))\n",
    "    return rules, parts\n",
    "\n",
    "rules, parts = parse_input(part1_example_input)\n",
    "print('\\n'.join(map(str, rules.items())))\n",
    "print('\\n'.join(map(str, parts)))\n",
    "# rules, parts = parse_input(downloaded['input'])"
   ]
  },
  {
   "cell_type": "code",
   "execution_count": 9,
   "metadata": {},
   "outputs": [
    {
     "name": "stdout",
     "output_type": "stream",
     "text": [
      "Part(x=787, m=2655, a=1222, s=2876)\n",
      "Rule(name='in', expressions=(RuleExpression(field='s', op=<built-in function lt>, threshold=1351, value_if_true='px'),), default='qqz')\n",
      "Rule(name='qqz', expressions=(RuleExpression(field='s', op=<built-in function gt>, threshold=2770, value_if_true='qs'), RuleExpression(field='m', op=<built-in function lt>, threshold=1801, value_if_true='hdj')), default='R')\n",
      "Rule(name='qs', expressions=(RuleExpression(field='s', op=<built-in function gt>, threshold=3448, value_if_true='A'),), default='lnx')\n",
      "Rule(name='lnx', expressions=(RuleExpression(field='m', op=<built-in function gt>, threshold=1548, value_if_true='A'),), default='A')\n",
      "Part(x=1679, m=44, a=2067, s=496)\n",
      "Rule(name='in', expressions=(RuleExpression(field='s', op=<built-in function lt>, threshold=1351, value_if_true='px'),), default='qqz')\n",
      "Rule(name='px', expressions=(RuleExpression(field='a', op=<built-in function lt>, threshold=2006, value_if_true='qkq'), RuleExpression(field='m', op=<built-in function gt>, threshold=2090, value_if_true='A')), default='rfg')\n",
      "Rule(name='rfg', expressions=(RuleExpression(field='s', op=<built-in function lt>, threshold=537, value_if_true='gd'), RuleExpression(field='x', op=<built-in function gt>, threshold=2440, value_if_true='R')), default='A')\n",
      "Rule(name='gd', expressions=(RuleExpression(field='a', op=<built-in function gt>, threshold=3333, value_if_true='R'),), default='R')\n",
      "Part(x=2036, m=264, a=79, s=2244)\n",
      "Rule(name='in', expressions=(RuleExpression(field='s', op=<built-in function lt>, threshold=1351, value_if_true='px'),), default='qqz')\n",
      "Rule(name='qqz', expressions=(RuleExpression(field='s', op=<built-in function gt>, threshold=2770, value_if_true='qs'), RuleExpression(field='m', op=<built-in function lt>, threshold=1801, value_if_true='hdj')), default='R')\n",
      "Rule(name='hdj', expressions=(RuleExpression(field='m', op=<built-in function gt>, threshold=838, value_if_true='A'),), default='pv')\n",
      "Rule(name='pv', expressions=(RuleExpression(field='a', op=<built-in function gt>, threshold=1716, value_if_true='R'),), default='A')\n",
      "Part(x=2461, m=1339, a=466, s=291)\n",
      "Rule(name='in', expressions=(RuleExpression(field='s', op=<built-in function lt>, threshold=1351, value_if_true='px'),), default='qqz')\n",
      "Rule(name='px', expressions=(RuleExpression(field='a', op=<built-in function lt>, threshold=2006, value_if_true='qkq'), RuleExpression(field='m', op=<built-in function gt>, threshold=2090, value_if_true='A')), default='rfg')\n",
      "Rule(name='qkq', expressions=(RuleExpression(field='x', op=<built-in function lt>, threshold=1416, value_if_true='A'),), default='crn')\n",
      "Rule(name='crn', expressions=(RuleExpression(field='x', op=<built-in function gt>, threshold=2662, value_if_true='A'),), default='R')\n",
      "Part(x=2127, m=1623, a=2188, s=1013)\n",
      "Rule(name='in', expressions=(RuleExpression(field='s', op=<built-in function lt>, threshold=1351, value_if_true='px'),), default='qqz')\n",
      "Rule(name='px', expressions=(RuleExpression(field='a', op=<built-in function lt>, threshold=2006, value_if_true='qkq'), RuleExpression(field='m', op=<built-in function gt>, threshold=2090, value_if_true='A')), default='rfg')\n",
      "Rule(name='rfg', expressions=(RuleExpression(field='s', op=<built-in function lt>, threshold=537, value_if_true='gd'), RuleExpression(field='x', op=<built-in function gt>, threshold=2440, value_if_true='R')), default='A')\n"
     ]
    },
    {
     "data": {
      "text/plain": [
       "19114"
      ]
     },
     "execution_count": 9,
     "metadata": {},
     "output_type": "execute_result"
    }
   ],
   "source": [
    "accepted = []\n",
    "for part in parts:\n",
    "    print(part)\n",
    "    next_rule = 'in'\n",
    "    while next_rule not in 'RA':\n",
    "        rule = rules[next_rule]\n",
    "        print(rule)\n",
    "        for expression in rule.expressions:\n",
    "            # First class functions for the win! op (and threshold) are parsed\n",
    "            # from strings in the static method\n",
    "            if expression.op(\n",
    "                    part.__getattribute__(expression.field),\n",
    "                    expression.threshold):\n",
    "                next_rule = expression.value_if_true \n",
    "                break\n",
    "        # Using for... else here feels like just snobbery, could as well have \n",
    "        # placed the default before the for loop\n",
    "        else:\n",
    "            next_rule = rule.default\n",
    "    if next_rule == 'A':\n",
    "        accepted.append(part)\n",
    "\n",
    "# See how elegant it is to sum NamedTuple (but namedtuple.__getattribute__(attribute)\n",
    "# is less elegant than dictionary[attribute])\n",
    "sum(sum(part) for part in accepted)"
   ]
  },
  {
   "cell_type": "code",
   "execution_count": 10,
   "metadata": {
    "scrolled": true
   },
   "outputs": [
    {
     "data": {
      "text/html": [
       "<h2 id=\"part2\">--- Part Two ---</h2><p>Even with your help, the sorting process <em>still</em> isn't fast enough.</p>\n",
       "<p>One of the Elves comes up with a new plan: rather than sort parts individually through all of these workflows, maybe you can figure out in advance which combinations of ratings will be accepted or rejected.</p>\n",
       "<p>Each of the four ratings (<code>x</code>, <code>m</code>, <code>a</code>, <code>s</code>) can have an integer value ranging from a minimum of <code>1</code> to a maximum of <code>4000</code>. Of <em>all possible distinct combinations</em> of ratings, your job is to figure out which ones will be <em>accepted</em>.</p>\n",
       "<p>In the above example, there are <code><em>167409079868000</em></code> distinct combinations of ratings that will be accepted.</p>\n",
       "<p>Consider only your list of workflows; the list of part ratings that the Elves wanted you to sort is no longer relevant. <em>How many distinct combinations of ratings will be accepted by the Elves' workflows?</em></p>\n"
      ],
      "text/plain": [
       "<IPython.core.display.HTML object>"
      ]
     },
     "execution_count": 10,
     "metadata": {},
     "output_type": "execute_result"
    }
   ],
   "source": [
    "HTML(downloaded['part2'])"
   ]
  }
 ],
 "metadata": {
  "kernelspec": {
   "display_name": "Python 3 (ipykernel)",
   "language": "python",
   "name": "python3"
  },
  "language_info": {
   "codemirror_mode": {
    "name": "ipython",
    "version": 3
   },
   "file_extension": ".py",
   "mimetype": "text/x-python",
   "name": "python",
   "nbconvert_exporter": "python",
   "pygments_lexer": "ipython3",
   "version": "3.12.0"
  },
  "vscode": {
   "interpreter": {
    "hash": "e7370f93d1d0cde622a1f8e1c04877d8463912d04d973331ad4851f04de6915a"
   }
  }
 },
 "nbformat": 4,
 "nbformat_minor": 2
}

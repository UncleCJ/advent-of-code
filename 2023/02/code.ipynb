{
 "cells": [
  {
   "cell_type": "markdown",
   "metadata": {},
   "source": [
    "# Day 2: Cube Conundrum\n",
    "\n",
    "[*Advent of Code 2023 day 2*](https://adventofcode.com/2023/day/2) and [*solution megathread*](https://redd.it/188w447)\n",
    "\n",
    "[![nbviewer](https://raw.githubusercontent.com/jupyter/design/master/logos/Badges/nbviewer_badge.svg)](https://nbviewer.jupyter.org/github/UncleCJ/advent-of-code/blob/cj/2023/02/code.ipynb) [![Binder](https://mybinder.org/badge_logo.svg)](https://mybinder.org/v2/gh/UncleCJ/advent-of-code/cj?filepath=2023%2F02%2Fcode.ipynb)"
   ]
  },
  {
   "cell_type": "code",
   "execution_count": 1,
   "metadata": {},
   "outputs": [],
   "source": [
    "from IPython.display import HTML\n",
    "import sys\n",
    "sys.path.append('../../')\n",
    "\n",
    "\n",
    "# %load_ext nb_mypy\n",
    "# %nb_mypy On"
   ]
  },
  {
   "cell_type": "code",
   "execution_count": 2,
   "metadata": {},
   "outputs": [
    {
     "name": "stdout",
     "output_type": "stream",
     "text": [
      "Writing 'downloaded' (dict) to file 'downloaded'.\n"
     ]
    }
   ],
   "source": [
    "import common\n",
    "\n",
    "\n",
    "downloaded = common.refresh()\n",
    "%store downloaded >downloaded\n",
    "\n",
    "# %load_ext pycodestyle_magic\n",
    "# %pycodestyle_on"
   ]
  },
  {
   "cell_type": "code",
   "execution_count": 3,
   "metadata": {},
   "outputs": [
    {
     "data": {
      "text/html": [
       "<h2>--- Day 2: Cube Conundrum ---</h2><p>You're launched high into the atmosphere! The apex of your trajectory just barely reaches the surface of a large island floating in the sky. You gently land in a fluffy pile of leaves. It's quite cold, but you don't see much snow. An Elf runs over to greet you.</p>\n",
       "<p>The Elf explains that you've arrived at <em>Snow Island</em> and apologizes for the lack of snow. He'll be happy to explain the situation, but it's a bit of a walk, so you have some time. They don't get many visitors up here; <span title=\"No, the Elf's name is not 'WOPR'. It's Joshua.\">would you like to play a game</span> in the meantime?</p>\n",
       "<p>As you walk, the Elf shows you a small bag and some cubes which are either red, green, or blue. Each time you play this game, he will hide a secret number of cubes of each color in the bag, and your goal is to figure out information about the number of cubes.</p>\n",
       "<p>To get information, once a bag has been loaded with cubes, the Elf will reach into the bag, grab a handful of random cubes, show them to you, and then put them back in the bag. He'll do this a few times per game.</p>\n",
       "<p>You play several games and record the information from each game (your puzzle input). Each game is listed with its ID number (like the <code>11</code> in <code>Game 11: ...</code>) followed by a semicolon-separated list of subsets of cubes that were revealed from the bag (like <code>3 red, 5 green, 4 blue</code>).</p>\n",
       "<p>For example, the record of a few games might look like this:</p>\n",
       "<pre><code>Game 1: 3 blue, 4 red; 1 red, 2 green, 6 blue; 2 green\n",
       "Game 2: 1 blue, 2 green; 3 green, 4 blue, 1 red; 1 green, 1 blue\n",
       "Game 3: 8 green, 6 blue, 20 red; 5 blue, 4 red, 13 green; 5 green, 1 red\n",
       "Game 4: 1 green, 3 red, 6 blue; 3 green, 6 red; 3 green, 15 blue, 14 red\n",
       "Game 5: 6 red, 1 blue, 3 green; 2 blue, 1 red, 2 green\n",
       "</code></pre>\n",
       "<p>In game 1, three sets of cubes are revealed from the bag (and then put back again). The first set is 3 blue cubes and 4 red cubes; the second set is 1 red cube, 2 green cubes, and 6 blue cubes; the third set is only 2 green cubes.</p>\n",
       "<p>The Elf would first like to know which games would have been possible if the bag contained <em>only 12 red cubes, 13 green cubes, and 14 blue cubes</em>?</p>\n",
       "<p>In the example above, games 1, 2, and 5 would have been <em>possible</em> if the bag had been loaded with that configuration. However, game 3 would have been <em>impossible</em> because at one point the Elf showed you 20 red cubes at once; similarly, game 4 would also have been <em>impossible</em> because the Elf showed you 15 blue cubes at once. If you add up the IDs of the games that would have been possible, you get <code><em>8</em></code>.</p>\n",
       "<p>Determine which games would have been possible if the bag had been loaded with only 12 red cubes, 13 green cubes, and 14 blue cubes. <em>What is the sum of the IDs of those games?</em></p>\n"
      ],
      "text/plain": [
       "<IPython.core.display.HTML object>"
      ]
     },
     "execution_count": 3,
     "metadata": {},
     "output_type": "execute_result"
    }
   ],
   "source": [
    "from IPython.display import HTML\n",
    "\n",
    "HTML(downloaded['part1'])"
   ]
  },
  {
   "cell_type": "code",
   "execution_count": 4,
   "metadata": {},
   "outputs": [],
   "source": [
    "example_input = '''Game 1: 3 blue, 4 red; 1 red, 2 green, 6 blue; 2 green\n",
    "Game 2: 1 blue, 2 green; 3 green, 4 blue, 1 red; 1 green, 1 blue\n",
    "Game 3: 8 green, 6 blue, 20 red; 5 blue, 4 red, 13 green; 5 green, 1 red\n",
    "Game 4: 1 green, 3 red, 6 blue; 3 green, 6 red; 3 green, 15 blue, 14 red\n",
    "Game 5: 6 red, 1 blue, 3 green; 2 blue, 1 red, 2 green'''"
   ]
  },
  {
   "cell_type": "code",
   "execution_count": 5,
   "metadata": {},
   "outputs": [
    {
     "data": {
      "text/plain": [
       "[{'ID': 1,\n",
       "  'rounds': [{'blue': 3, 'red': 4},\n",
       "   {'red': 1, 'green': 2, 'blue': 6},\n",
       "   {'green': 2}]},\n",
       " {'ID': 2,\n",
       "  'rounds': [{'blue': 1, 'green': 2},\n",
       "   {'green': 3, 'blue': 4, 'red': 1},\n",
       "   {'green': 1, 'blue': 1}]},\n",
       " {'ID': 3,\n",
       "  'rounds': [{'green': 8, 'blue': 6, 'red': 20},\n",
       "   {'blue': 5, 'red': 4, 'green': 13},\n",
       "   {'green': 5, 'red': 1}]},\n",
       " {'ID': 4,\n",
       "  'rounds': [{'green': 1, 'red': 3, 'blue': 6},\n",
       "   {'green': 3, 'red': 6},\n",
       "   {'green': 3, 'blue': 15, 'red': 14}]},\n",
       " {'ID': 5,\n",
       "  'rounds': [{'red': 6, 'blue': 1, 'green': 3},\n",
       "   {'blue': 2, 'red': 1, 'green': 2}]}]"
      ]
     },
     "execution_count": 5,
     "metadata": {},
     "output_type": "execute_result"
    }
   ],
   "source": [
    "from typing import List\n",
    "\n",
    "\n",
    "def parse_game(line: str):\n",
    "    header, content = line.split(': ')\n",
    "    ID = int(header.split()[-1])\n",
    "    rounds = []\n",
    "    for roundstr in content.split('; '):\n",
    "        round = {}\n",
    "        for statement in roundstr.split(', '):\n",
    "            countstr, color = statement.split()\n",
    "            round[color] = int(countstr)\n",
    "        rounds.append(round)\n",
    "    return {'ID': ID, 'rounds': rounds}\n",
    "\n",
    "def parse_games(lines: List[str]):\n",
    "    return [parse_game(line) for line in lines]\n",
    "\n",
    "# parse_game(example_input.splitlines()[0])\n",
    "parse_games(example_input.splitlines())\n",
    "#parse_games(downloaded['input'].splitlines())"
   ]
  },
  {
   "cell_type": "code",
   "execution_count": 6,
   "metadata": {},
   "outputs": [
    {
     "name": "stdout",
     "output_type": "stream",
     "text": [
      "['Game 1: 4 green, 2 blue; 1 red, 1 blue, 4 green; 3 green, 4 blue, 1 red; 7 green, 2 blue, 4 red; 3 red, 7 green; 3 red, 3 green', 'Game 2: 1 blue, 11 red, 1 green; 3 blue, 2 red, 4 green; 11 red, 2 green, 2 blue; 13 green, 5 red, 1 blue; 4 green, 8 red, 3 blue', 'Game 3: 9 red, 2 blue; 4 blue, 2 green, 1 red; 7 red, 4 blue, 3 green; 3 blue, 6 red; 9 blue, 4 red; 3 red', 'Game 4: 5 blue, 11 green, 3 red; 6 green, 3 blue, 7 red; 17 blue, 9 green; 1 red, 5 blue, 3 green; 6 red, 7 blue, 4 green', 'Game 5: 3 green, 7 blue, 7 red; 6 green, 3 red, 4 blue; 7 blue, 4 red']\n"
     ]
    }
   ],
   "source": [
    "print(downloaded['input'].splitlines()[:5])"
   ]
  },
  {
   "cell_type": "code",
   "execution_count": 7,
   "metadata": {},
   "outputs": [
    {
     "name": "stdout",
     "output_type": "stream",
     "text": [
      "ans1=8\n"
     ]
    }
   ],
   "source": [
    "ans1 = 0\n",
    "criteria = {'red': 12, 'green': 13, 'blue': 14}\n",
    "for game in parse_games(example_input.splitlines()):\n",
    "#for game in parse_games(downloaded['input'].splitlines()):\n",
    "    game_ok = True\n",
    "    for round in game['rounds']:\n",
    "        for color, count in round.items():\n",
    "            if color not in criteria.keys() or count > criteria[color]:\n",
    "                game_ok = False\n",
    "                break\n",
    "        if not game_ok:\n",
    "            break\n",
    "    if game_ok:\n",
    "        ans1 += game['ID']\n",
    "print(f'{ans1=}')"
   ]
  },
  {
   "cell_type": "code",
   "execution_count": 8,
   "metadata": {
    "scrolled": true
   },
   "outputs": [
    {
     "data": {
      "text/html": [
       "<h2 id=\"part2\">--- Part Two ---</h2><p>The Elf says they've stopped producing snow because they aren't getting any <em>water</em>! He isn't sure why the water stopped; however, he can show you how to get to the water source to check it out for yourself. It's just up ahead!</p>\n",
       "<p>As you continue your walk, the Elf poses a second question: in each game you played, what is the <em>fewest number of cubes of each color</em> that could have been in the bag to make the game possible?</p>\n",
       "<p>Again consider the example games from earlier:</p>\n",
       "<pre><code>Game 1: 3 blue, 4 red; 1 red, 2 green, 6 blue; 2 green\n",
       "Game 2: 1 blue, 2 green; 3 green, 4 blue, 1 red; 1 green, 1 blue\n",
       "Game 3: 8 green, 6 blue, 20 red; 5 blue, 4 red, 13 green; 5 green, 1 red\n",
       "Game 4: 1 green, 3 red, 6 blue; 3 green, 6 red; 3 green, 15 blue, 14 red\n",
       "Game 5: 6 red, 1 blue, 3 green; 2 blue, 1 red, 2 green\n",
       "</code></pre>\n",
       "<ul>\n",
       "<li>In game 1, the game could have been played with as few as 4 red, 2 green, and 6 blue cubes. If any color had even one fewer cube, the game would have been impossible.</li>\n",
       "<li>Game 2 could have been played with a minimum of 1 red, 3 green, and 4 blue cubes.<li>\n",
       "<li>Game 3 must have been played with at least 20 red, 13 green, and 6 blue cubes.</li>\n",
       "<li>Game 4 required at least 14 red, 3 green, and 15 blue cubes.</li>\n",
       "<li>Game 5 needed no fewer than 6 red, 3 green, and 2 blue cubes in the bag.</li>\n",
       "</ul>\n",
       "<p>The <em>power</em> of a set of cubes is equal to the numbers of red, green, and blue cubes multiplied together. The power of the minimum set of cubes in game 1 is <code>48</code>. In games 2-5 it was <code>12</code>, <code>1560</code>, <code>630</code>, and <code>36</code>, respectively. Adding up these five powers produces the sum <code><em>2286</em></code>.</p>\n",
       "<p>For each game, find the minimum set of cubes that must have been present. <em>What is the sum of the power of these sets?</em></p>\n"
      ],
      "text/plain": [
       "<IPython.core.display.HTML object>"
      ]
     },
     "execution_count": 8,
     "metadata": {},
     "output_type": "execute_result"
    }
   ],
   "source": [
    "HTML(downloaded['part2'])"
   ]
  },
  {
   "cell_type": "code",
   "execution_count": 9,
   "metadata": {},
   "outputs": [
    {
     "data": {
      "text/plain": [
       "24"
      ]
     },
     "execution_count": 9,
     "metadata": {},
     "output_type": "execute_result"
    }
   ],
   "source": [
    "from itertools import accumulate\n",
    "from operator import mul\n",
    "\n",
    "# Note that this doesn't follow the instruction regarding the colors\n",
    "# red, green and blue, but with the given input, that doesn't matter\n",
    "def dict_power(d: dict[str, int]) -> int:\n",
    "    return list(accumulate(d.values(), mul))[-1]\n",
    "\n",
    "dict_power({'green': 3, 'blue': 2, 'red': 4})"
   ]
  },
  {
   "cell_type": "code",
   "execution_count": 10,
   "metadata": {},
   "outputs": [
    {
     "name": "stdout",
     "output_type": "stream",
     "text": [
      "ans2=2286\n"
     ]
    }
   ],
   "source": [
    "ans2 = 0\n",
    "for game in parse_games(example_input.splitlines()):\n",
    "#for game in parse_games(downloaded['input'].splitlines()):\n",
    "    requires = {}\n",
    "    for round in game['rounds']:\n",
    "        for color, count in round.items():\n",
    "            if color not in requires.keys() or count > requires[color]:\n",
    "                requires[color] = count\n",
    "    ans2 += dict_power(requires)\n",
    "print(f'{ans2=}')"
   ]
  }
 ],
 "metadata": {
  "kernelspec": {
   "display_name": "Python 3 (ipykernel)",
   "language": "python",
   "name": "python3"
  },
  "language_info": {
   "codemirror_mode": {
    "name": "ipython",
    "version": 3
   },
   "file_extension": ".py",
   "mimetype": "text/x-python",
   "name": "python",
   "nbconvert_exporter": "python",
   "pygments_lexer": "ipython3",
   "version": "3.9.13"
  },
  "vscode": {
   "interpreter": {
    "hash": "e7370f93d1d0cde622a1f8e1c04877d8463912d04d973331ad4851f04de6915a"
   }
  }
 },
 "nbformat": 4,
 "nbformat_minor": 2
}

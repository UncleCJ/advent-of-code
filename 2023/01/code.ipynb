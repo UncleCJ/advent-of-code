{
 "cells": [
  {
   "cell_type": "markdown",
   "metadata": {},
   "source": [
    "# Day 1: Trebuchet?!\n",
    "\n",
    "[*Advent of Code 2023 day 1*](https://adventofcode.com/2023/day/1) and [*solution megathread*](https://redd.it/1883ibu)\n",
    "\n",
    "[![nbviewer](https://raw.githubusercontent.com/jupyter/design/master/logos/Badges/nbviewer_badge.svg)](https://nbviewer.jupyter.org/github/UncleCJ/advent-of-code/blob/cj/2023/01/code.ipynb) [![Binder](https://mybinder.org/badge_logo.svg)](https://mybinder.org/v2/gh/UncleCJ/advent-of-code/cj?filepath=2023%2F01%2Fcode.ipynb)"
   ]
  },
  {
   "cell_type": "code",
   "execution_count": 1,
   "metadata": {},
   "outputs": [],
   "source": [
    "from IPython.display import HTML\n",
    "import sys\n",
    "sys.path.append('../../')\n",
    "\n",
    "\n",
    "# %load_ext nb_mypy\n",
    "# %nb_mypy On"
   ]
  },
  {
   "cell_type": "code",
   "execution_count": 2,
   "metadata": {},
   "outputs": [
    {
     "name": "stdout",
     "output_type": "stream",
     "text": [
      "Writing 'downloaded' (dict) to file 'downloaded'.\n"
     ]
    }
   ],
   "source": [
    "import common\n",
    "\n",
    "\n",
    "downloaded = common.refresh()\n",
    "%store downloaded >downloaded\n",
    "\n",
    "# %load_ext pycodestyle_magic\n",
    "# %pycodestyle_on"
   ]
  },
  {
   "cell_type": "code",
   "execution_count": 3,
   "metadata": {},
   "outputs": [
    {
     "data": {
      "text/html": [
       "<h2>--- Day 1: Trebuchet?! ---</h2><p>Something is wrong with global snow production, and you've been selected to take a look. The Elves have even given you a map; on it, they've used stars to mark the top fifty locations that are likely to be having problems.</p>\n",
       "<p>You've been doing this long enough to know that to restore snow operations, you need to check all <em class=\"star\">fifty stars</em> by December 25th.</p>\n",
       "<p>Collect stars by solving puzzles.  Two puzzles will be made available on each day in the Advent calendar; the second puzzle is unlocked when you complete the first.  Each puzzle grants <em class=\"star\">one star</em>. Good luck!</p>\n",
       "<p>You try to ask why they can't just use a <a href=\"/2015/day/1\">weather machine</a> (\"not powerful enough\") and where they're even sending you (\"the sky\") and why your map looks mostly blank (\"you sure ask a lot of questions\") <span title=\"My hope is that this abomination of a run-on sentence somehow conveys the chaos of being hastily loaded into a trebuchet.\">and</span> hang on did you just say the sky (\"of course, where do you think snow comes from\") when you realize that the Elves are already loading you into a <a href=\"https://en.wikipedia.org/wiki/Trebuchet\" target=\"_blank\">trebuchet</a> (\"please hold still, we need to strap you in\").</p>\n",
       "<p>As they're making the final adjustments, they discover that their calibration document (your puzzle input) has been <em>amended</em> by a very young Elf who was apparently just excited to show off her art skills. Consequently, the Elves are having trouble reading the values on the document.</p>\n",
       "<p>The newly-improved calibration document consists of lines of text; each line originally contained a specific <em>calibration value</em> that the Elves now need to recover. On each line, the calibration value can be found by combining the <em>first digit</em> and the <em>last digit</em> (in that order) to form a single <em>two-digit number</em>.</p>\n",
       "<p>For example:</p>\n",
       "<pre><code>1abc2\n",
       "pqr3stu8vwx\n",
       "a1b2c3d4e5f\n",
       "treb7uchet\n",
       "</code></pre>\n",
       "<p>In this example, the calibration values of these four lines are <code>12</code>, <code>38</code>, <code>15</code>, and <code>77</code>. Adding these together produces <code><em>142</em></code>.</p>\n",
       "<p>Consider your entire calibration document. <em>What is the sum of all of the calibration values?</em></p>\n"
      ],
      "text/plain": [
       "<IPython.core.display.HTML object>"
      ]
     },
     "execution_count": 3,
     "metadata": {},
     "output_type": "execute_result"
    }
   ],
   "source": [
    "from IPython.display import HTML\n",
    "\n",
    "HTML(downloaded['part1'])"
   ]
  },
  {
   "cell_type": "code",
   "execution_count": 4,
   "metadata": {},
   "outputs": [
    {
     "name": "stdout",
     "output_type": "stream",
     "text": [
      "['9dlvndqbddghpxc', 'rtkrbtthree8sixfoureight6', 'fdxrqmfxdkstpmcj7lmphgsmqqnmjrtwo3tcbc', 'onetjcsmgk57nvmkvcvkdtqtsksgpchsfsjzkkmb', 'six8threepvlxttc85two'] len(downloaded[\"input\"].splitlines())=1000\n"
     ]
    }
   ],
   "source": [
    "print(downloaded['input'].splitlines()[:5], f'{len(downloaded[\"input\"].splitlines())=}')"
   ]
  },
  {
   "cell_type": "code",
   "execution_count": 5,
   "metadata": {},
   "outputs": [],
   "source": [
    "part1_example_input = '''1abc2\n",
    "pqr3stu8vwx\n",
    "a1b2c3d4e5f\n",
    "treb7uchet'''"
   ]
  },
  {
   "cell_type": "code",
   "execution_count": 6,
   "metadata": {},
   "outputs": [
    {
     "name": "stdout",
     "output_type": "stream",
     "text": [
      "line='1abc2', firstdigit='1', lastdigit='2', ans1=12\n",
      "line='pqr3stu8vwx', firstdigit='3', lastdigit='8', ans1=50\n",
      "line='a1b2c3d4e5f', firstdigit='1', lastdigit='5', ans1=65\n",
      "line='treb7uchet', firstdigit='7', lastdigit='7', ans1=142\n"
     ]
    }
   ],
   "source": [
    "ans1 = 0\n",
    "for line in part1_example_input.splitlines():\n",
    "#for line in downloaded['input'].splitlines():\n",
    "    for i in range(len(line)):\n",
    "        if line[i].isdigit():\n",
    "            firstdigit = line[i]\n",
    "            break\n",
    "    for i in range(len(line)):\n",
    "        if line[-(i + 1)].isdigit():\n",
    "            lastdigit = line[-(i + 1)]\n",
    "            break\n",
    "    ans1 += int(firstdigit + lastdigit)\n",
    "    print(f'{line=}, {firstdigit=}, {lastdigit=}, {ans1=}')"
   ]
  },
  {
   "cell_type": "code",
   "execution_count": 7,
   "metadata": {},
   "outputs": [
    {
     "data": {
      "text/html": [
       "<h2 id=\"part2\">--- Part Two ---</h2><p>Your calculation isn't quite right. It looks like some of the digits are actually <em>spelled out with letters</em>: <code>one</code>, <code>two</code>, <code>three</code>, <code>four</code>, <code>five</code>, <code>six</code>, <code>seven</code>, <code>eight</code>, and <code>nine</code> <em>also</em> count as valid \"digits\".</p>\n",
       "<p>Equipped with this new information, you now need to find the real first and last digit on each line. For example:</p>\n",
       "<pre><code>two1nine\n",
       "eightwothree\n",
       "abcone2threexyz\n",
       "xtwone3four\n",
       "4nineeightseven2\n",
       "zoneight234\n",
       "7pqrstsixteen\n",
       "</code></pre>\n",
       "<p>In this example, the calibration values are <code>29</code>, <code>83</code>, <code>13</code>, <code>24</code>, <code>42</code>, <code>14</code>, and <code>76</code>. Adding these together produces <code><em>281</em></code>.</p>\n",
       "<p><em>What is the sum of all of the calibration values?</em></p>\n"
      ],
      "text/plain": [
       "<IPython.core.display.HTML object>"
      ]
     },
     "execution_count": 7,
     "metadata": {},
     "output_type": "execute_result"
    }
   ],
   "source": [
    "HTML(downloaded['part2'])"
   ]
  },
  {
   "cell_type": "code",
   "execution_count": 8,
   "metadata": {},
   "outputs": [],
   "source": [
    "valid_digits = {\n",
    "    \"one\": 1,\n",
    "    \"two\": 2,\n",
    "    \"three\": 3,\n",
    "    \"four\": 4,\n",
    "    \"five\": 5,\n",
    "    \"six\": 6,\n",
    "    \"seven\": 7,\n",
    "    \"eight\": 8,\n",
    "    \"nine\": 9,\n",
    "    \"1\": 1,\n",
    "    \"2\": 2,\n",
    "    \"3\": 3,\n",
    "    \"4\": 4,\n",
    "    \"5\": 5,\n",
    "    \"6\": 6,\n",
    "    \"7\": 7,\n",
    "    \"8\": 8,\n",
    "    \"9\": 9\n",
    "}"
   ]
  },
  {
   "cell_type": "code",
   "execution_count": 9,
   "metadata": {},
   "outputs": [],
   "source": [
    "part2_example_input = '''two1nine\n",
    "eightwothree\n",
    "abcone2threexyz\n",
    "xtwone3four\n",
    "4nineeightseven2\n",
    "zoneight234\n",
    "7pqrstsixteen'''"
   ]
  },
  {
   "cell_type": "code",
   "execution_count": 10,
   "metadata": {},
   "outputs": [],
   "source": [
    "def my_find_all(line, pattern, start=0):\n",
    "    pos = line.find(pattern, start)\n",
    "    if start == len(line)-1 or pos == -1:\n",
    "        return []\n",
    "    else:\n",
    "        return [pos] + my_find_all(line, pattern, start+1)"
   ]
  },
  {
   "cell_type": "code",
   "execution_count": 11,
   "metadata": {
    "scrolled": false
   },
   "outputs": [
    {
     "name": "stdout",
     "output_type": "stream",
     "text": [
      "line='two1nine', two(0), nine(4), ans2=29\n",
      "line='eightwothree', eight(0), three(7), ans2=112\n",
      "line='abcone2threexyz', one(3), three(7), ans2=125\n",
      "line='xtwone3four', two(1), four(7), ans2=149\n",
      "line='4nineeightseven2', 4(0), 2(15), ans2=191\n",
      "line='zoneight234', one(1), 4(10), ans2=205\n",
      "line='7pqrstsixteen', 7(0), six(6), ans2=281\n",
      "ans2=281\n"
     ]
    }
   ],
   "source": [
    "ans2=0\n",
    "for line in part2_example_input.splitlines():\n",
    "#for line in ['mfkdbdfournktdmgqnt4vqkzbzonekdqhbcmfgfiveone']:\n",
    "#for line in downloaded['input'].splitlines():\n",
    "    firstpos = len(line)+1\n",
    "    lastpos = -1\n",
    "    for digit in valid_digits.keys():\n",
    "        # pos = line.find(digit)\n",
    "        poss = my_find_all(line, digit)\n",
    "        if not poss:\n",
    "            continue\n",
    "        if poss[0] < firstpos:\n",
    "            firstpos = poss[0]\n",
    "            firstdigit = digit\n",
    "        if poss[-1] > lastpos:\n",
    "            lastpos = poss[-1]\n",
    "            lastdigit = digit\n",
    "    ans2 += int(str(valid_digits[firstdigit]) + str(valid_digits[lastdigit]))\n",
    "    print(f'{line=}, {firstdigit}({firstpos}), {lastdigit}({lastpos}), {ans2=}')\n",
    "print(f'{ans2=}')"
   ]
  }
 ],
 "metadata": {
  "kernelspec": {
   "display_name": "Python 3 (ipykernel)",
   "language": "python",
   "name": "python3"
  },
  "language_info": {
   "codemirror_mode": {
    "name": "ipython",
    "version": 3
   },
   "file_extension": ".py",
   "mimetype": "text/x-python",
   "name": "python",
   "nbconvert_exporter": "python",
   "pygments_lexer": "ipython3",
   "version": "3.9.13"
  },
  "vscode": {
   "interpreter": {
    "hash": "e7370f93d1d0cde622a1f8e1c04877d8463912d04d973331ad4851f04de6915a"
   }
  }
 },
 "nbformat": 4,
 "nbformat_minor": 2
}

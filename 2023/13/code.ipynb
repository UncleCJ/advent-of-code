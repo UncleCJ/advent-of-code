{
 "cells": [
  {
   "cell_type": "markdown",
   "metadata": {},
   "source": [
    "# Day 13: Point of Incidence\n",
    "\n",
    "[*Advent of Code 2023 day 13*](https://adventofcode.com/2023/day/13) and [*solution megathread*](https://redd.it/18h940b)\n",
    "\n",
    "[![nbviewer](https://raw.githubusercontent.com/jupyter/design/master/logos/Badges/nbviewer_badge.svg)](https://nbviewer.jupyter.org/github/UncleCJ/advent-of-code/blob/cj/2023/13/code.ipynb) [![Binder](https://mybinder.org/badge_logo.svg)](https://mybinder.org/v2/gh/UncleCJ/advent-of-code/cj?filepath=2023%2F13%2Fcode.ipynb)"
   ]
  },
  {
   "cell_type": "code",
   "execution_count": 4,
   "metadata": {},
   "outputs": [],
   "source": [
    "from IPython.display import HTML\n",
    "import sys\n",
    "sys.path.append('../../')\n",
    "\n",
    "\n",
    "# %load_ext nb_mypy\n",
    "# %nb_mypy On"
   ]
  },
  {
   "cell_type": "code",
   "execution_count": 5,
   "metadata": {},
   "outputs": [
    {
     "name": "stdout",
     "output_type": "stream",
     "text": [
      "Writing 'downloaded' (dict) to file 'downloaded'.\n"
     ]
    }
   ],
   "source": [
    "import common\n",
    "\n",
    "\n",
    "downloaded = common.refresh()\n",
    "%store downloaded >downloaded\n",
    "\n",
    "# %load_ext pycodestyle_magic\n",
    "# %pycodestyle_on"
   ]
  },
  {
   "cell_type": "code",
   "execution_count": 3,
   "metadata": {},
   "outputs": [
    {
     "data": {
      "text/html": [
       "<h2>--- Day 13: Point of Incidence ---</h2><p>With your help, the hot springs team locates an appropriate spring which launches you neatly and precisely up to the edge of <em>Lava Island</em>.</p>\n",
       "<p>There's just one problem: you don't see any <em>lava</em>.</p>\n",
       "<p>You <em>do</em> see a lot of ash and igneous rock; there are even what look like gray mountains scattered around. After a while, you make your way to a nearby cluster of mountains only to discover that the valley between them is completely full of large <em>mirrors</em>.  Most of the mirrors seem to be aligned in a consistent way; perhaps you should head in that direction?</p>\n",
       "<p>As you move through the valley of mirrors, you find that several of them have fallen from the large metal frames keeping them in place. The mirrors are extremely flat and shiny, and many of the fallen mirrors have lodged into the ash at strange angles. Because the terrain is all one color, it's hard to tell where it's safe to walk or where you're about to run into a mirror.</p>\n",
       "<p>You note down the patterns of ash (<code>.</code>) and rocks (<code>#</code>) that you see as you walk (your puzzle input); perhaps by carefully analyzing these patterns, you can figure out where the mirrors are!</p>\n",
       "<p>For example:</p>\n",
       "<pre><code>#.##..##.\n",
       "..#.##.#.\n",
       "##......#\n",
       "##......#\n",
       "..#.##.#.\n",
       "..##..##.\n",
       "#.#.##.#.\n",
       "\n",
       "#...##..#\n",
       "#....#..#\n",
       "..##..###\n",
       "#####.##.\n",
       "#####.##.\n",
       "..##..###\n",
       "#....#..#\n",
       "</code></pre>\n",
       "<p>To find the reflection in each pattern, you need to find a perfect reflection across either a horizontal line between two rows or across a vertical line between two columns.</p>\n",
       "<p>In the first pattern, the reflection is across a vertical line between two columns; arrows on each of the two columns point at the line between the columns:</p>\n",
       "<pre><code>123456789\n",
       "    &gt;&lt;   \n",
       "#.##..##.\n",
       "..#.##.#.\n",
       "##......#\n",
       "##......#\n",
       "..#.##.#.\n",
       "..##..##.\n",
       "#.#.##.#.\n",
       "    &gt;&lt;   \n",
       "123456789\n",
       "</code></pre>\n",
       "<p>In this pattern, the line of reflection is the vertical line between columns 5 and 6. Because the vertical line is not perfectly in the middle of the pattern, part of the pattern (column 1) has nowhere to reflect onto and can be ignored; every other column has a reflected column within the pattern and must match exactly: column 2 matches column 9, column 3 matches 8, 4 matches 7, and 5 matches 6.</p>\n",
       "<p>The second pattern reflects across a horizontal line instead:</p>\n",
       "<pre><code>1 #...##..# 1\n",
       "2 #....#..# 2\n",
       "3 ..##..### 3\n",
       "4v#####.##.v4\n",
       "5^#####.##.^5\n",
       "6 ..##..### 6\n",
       "7 #....#..# 7\n",
       "</code></pre>\n",
       "<p>This pattern reflects across the horizontal line between rows 4 and 5. Row 1 would reflect with a hypothetical row 8, but since that's not in the pattern, row 1 doesn't need to match anything. The remaining rows match: row 2 matches row 7, row 3 matches row 6, and row 4 matches row 5.</p>\n",
       "<p>To <em>summarize</em> your pattern notes, add up <em>the number of columns</em> to the left of each vertical line of reflection; to that, also add <em>100 multiplied by the number of rows</em> above each horizontal line of reflection. In the above example, the first pattern's vertical line has <code>5</code> columns to its left and the second pattern's horizontal line has <code>4</code> rows above it, a total of <code><em>405</em></code>.</p>\n",
       "<p>Find the line of reflection in each of the patterns in your notes. <em>What number do you get after summarizing all of your notes?</em></p>\n"
      ],
      "text/plain": [
       "<IPython.core.display.HTML object>"
      ]
     },
     "execution_count": 3,
     "metadata": {},
     "output_type": "execute_result"
    }
   ],
   "source": [
    "from IPython.display import HTML\n",
    "\n",
    "HTML(downloaded['part1'])"
   ]
  },
  {
   "cell_type": "code",
   "execution_count": 6,
   "metadata": {},
   "outputs": [],
   "source": [
    "part1_example_input = '''#.##..##.\n",
    "..#.##.#.\n",
    "##......#\n",
    "##......#\n",
    "..#.##.#.\n",
    "..##..##.\n",
    "#.#.##.#.\n",
    "\n",
    "#...##..#\n",
    "#....#..#\n",
    "..##..###\n",
    "#####.##.\n",
    "#####.##.\n",
    "..##..###\n",
    "#....#..#'''"
   ]
  },
  {
   "cell_type": "code",
   "execution_count": 25,
   "metadata": {},
   "outputs": [
    {
     "name": "stdout",
     "output_type": "stream",
     "text": [
      "#.##..##.\n",
      "..#.##.#.\n",
      "##......#\n",
      "##......#\n",
      "..#.##.#.\n",
      "..##..##.\n",
      "#.#.##.#.\n",
      "\n",
      "#...##..#\n",
      "#....#..#\n",
      "..##..###\n",
      "#####.##.\n",
      "#####.##.\n",
      "..##..###\n",
      "#....#..#\n",
      "\n"
     ]
    }
   ],
   "source": [
    "def parse_input(input):\n",
    "    return [\n",
    "        [list(line) for line in pattern.splitlines()]\n",
    "        for pattern in input.split('\\n\\n')]\n",
    "\n",
    "patterns = parse_input(part1_example_input)\n",
    "for pattern in patterns:\n",
    "    print('\\n'.join(''.join(line) for line in pattern))\n",
    "    print()"
   ]
  },
  {
   "cell_type": "code",
   "execution_count": 21,
   "metadata": {},
   "outputs": [
    {
     "name": "stdout",
     "output_type": "stream",
     "text": [
      "0\n"
     ]
    }
   ],
   "source": [
    "def find_hor_mirror(pattern):\n",
    "    p_rev = list(reversed(pattern))\n",
    "    # Starting from row 1, check for matches in the mirror\n",
    "    # diffs = sum(sum(l != l_m for l, l_m in line, line_mirrored) for line, line_mirrored in zip(pattern[0], p_mirrored[-2]))\n",
    "    diffs = sum(\n",
    "        sum(\n",
    "            (l != l_m)\n",
    "            for l, l_m in zip(line, line_rev))\n",
    "        for line, line_rev in zip(pattern[0:2], p_rev[-2:-3]))\n",
    "    print(diffs)\n",
    "\n",
    "find_hor_mirror(patterns[0])"
   ]
  },
  {
   "cell_type": "code",
   "execution_count": null,
   "metadata": {},
   "outputs": [],
   "source": []
  },
  {
   "cell_type": "code",
   "execution_count": null,
   "metadata": {},
   "outputs": [],
   "source": [
    "# To summarize your pattern notes, add up the number of columns to the\n",
    "# left of each vertical line of reflection; to that, also add 100 multiplied\n",
    "# by the number of rows above each horizontal line of reflection. In the\n",
    "# above example, the first pattern's vertical line has 5 columns to its\n",
    "# left and the second pattern's horizontal line has 4 rows above it, \n",
    "# a total of 405."
   ]
  },
  {
   "cell_type": "code",
   "execution_count": 5,
   "metadata": {},
   "outputs": [
    {
     "name": "stdout",
     "output_type": "stream",
     "text": [
      "OOOO.#.O..\n",
      "OO..#....#\n",
      "OO..O##..O\n",
      "O..#.OO...\n",
      "........#.\n",
      "..#....#.#\n",
      "..O..#.O.O\n",
      "..O.......\n",
      "#....###..\n",
      "#....#....\n"
     ]
    },
    {
     "data": {
      "text/plain": [
       "136"
      ]
     },
     "execution_count": 5,
     "metadata": {},
     "output_type": "execute_result"
    }
   ],
   "source": [
    "from itertools import count\n",
    "\n",
    "\n",
    "def percolate_rocks_north(platform):\n",
    "    def percolate_hole(row, col):\n",
    "        for r, l in zip(\n",
    "                count(start=row+1),\n",
    "                [my_platform[r][col] for r in range(row+1, len(my_platform))]\n",
    "                ):\n",
    "            if l == '#':\n",
    "                break\n",
    "            if l == 'O':\n",
    "                my_platform[row][col] = 'O'\n",
    "                my_platform[r][col] = '.'\n",
    "                break\n",
    "                \n",
    "        \n",
    "    my_platform = [list(line) for line in platform.splitlines()]  # Tricky, assuming iterating over one row can modify later rows\n",
    "    for row, line in zip(count(), my_platform):\n",
    "        for col, l in zip(count(), line):\n",
    "            if l == '.':\n",
    "                percolate_hole(row, col)\n",
    "    return '\\n'.join(''.join(line) for line in my_platform)\n",
    "\n",
    "\n",
    "print(percolate_rocks_north(part1_example_input))\n",
    "\n",
    "def weigh_platform(platform):\n",
    "    lines = platform.splitlines()\n",
    "    return sum(\n",
    "        sum(\n",
    "            w*(l == 'O')\n",
    "            for l in line)\n",
    "        for w, line in \n",
    "        zip(count(start=len(lines), step=-1), lines)\n",
    "        )\n",
    "\n",
    "weigh_platform(percolate_rocks_north(part1_example_input))\n",
    "# weigh_platform(percolate_rocks_north(downloaded['input']))"
   ]
  },
  {
   "cell_type": "code",
   "execution_count": 6,
   "metadata": {
    "scrolled": true
   },
   "outputs": [
    {
     "data": {
      "text/html": [
       "<h2 id=\"part2\">--- Part Two ---</h2><p>The parabolic reflector dish deforms, but not in a way that focuses the beam. To do that, you'll need to move the rocks to the edges of the platform. Fortunately, a button on the side of the control panel labeled \"<em>spin cycle</em>\" attempts to do just that!</p>\n",
       "<p>Each <em>cycle</em> tilts the platform four times so that the rounded rocks roll <em>north</em>, then <em>west</em>, then <em>south</em>, then <em>east</em>. After each tilt, the rounded rocks roll as far as they can before the platform tilts in the next direction. After one cycle, the platform will have finished rolling the rounded rocks in those four directions in that order.</p>\n",
       "<p>Here's what happens in the example above after each of the first few cycles:</p>\n",
       "<pre><code>After 1 cycle:\n",
       ".....#....\n",
       "....#...O#\n",
       "...OO##...\n",
       ".OO#......\n",
       ".....OOO#.\n",
       ".O#...O#.#\n",
       "....O#....\n",
       "......OOOO\n",
       "#...O###..\n",
       "#..OO#....\n",
       "\n",
       "After 2 cycles:\n",
       ".....#....\n",
       "....#...O#\n",
       ".....##...\n",
       "..O#......\n",
       ".....OOO#.\n",
       ".O#...O#.#\n",
       "....O#...O\n",
       ".......OOO\n",
       "#..OO###..\n",
       "#.OOO#...O\n",
       "\n",
       "After 3 cycles:\n",
       ".....#....\n",
       "....#...O#\n",
       ".....##...\n",
       "..O#......\n",
       ".....OOO#.\n",
       ".O#...O#.#\n",
       "....O#...O\n",
       ".......OOO\n",
       "#...O###.O\n",
       "#.OOO#...O\n",
       "</code></pre>\n",
       "<p>This process should work if you leave it running long enough, but you're still worried about the north support beams. To make sure they'll survive for a while, you need to calculate the <em>total load</em> on the north support beams after <code>1000000000</code> cycles.</p>\n",
       "<p>In the above example, after <code>1000000000</code> cycles, the total load on the north support beams is <code><em>64</em></code>.</p>\n",
       "<p>Run the spin cycle for <code>1000000000</code> cycles. Afterward, <em>what is the total load on the north support beams?</em></p>\n"
      ],
      "text/plain": [
       "<IPython.core.display.HTML object>"
      ]
     },
     "execution_count": 6,
     "metadata": {},
     "output_type": "execute_result"
    }
   ],
   "source": [
    "HTML(downloaded['part2'])"
   ]
  }
 ],
 "metadata": {
  "kernelspec": {
   "display_name": "Python 3 (ipykernel)",
   "language": "python",
   "name": "python3"
  },
  "language_info": {
   "codemirror_mode": {
    "name": "ipython",
    "version": 3
   },
   "file_extension": ".py",
   "mimetype": "text/x-python",
   "name": "python",
   "nbconvert_exporter": "python",
   "pygments_lexer": "ipython3",
   "version": "3.11.6"
  },
  "vscode": {
   "interpreter": {
    "hash": "e7370f93d1d0cde622a1f8e1c04877d8463912d04d973331ad4851f04de6915a"
   }
  }
 },
 "nbformat": 4,
 "nbformat_minor": 2
}

{
 "cells": [
  {
   "cell_type": "markdown",
   "metadata": {},
   "source": [
    "# Day 3: Gear Ratios\n",
    "\n",
    "[*Advent of Code 2023 day 3*](https://adventofcode.com/2023/day/3) and [*solution megathread*](https://redd.it/189m3qw)\n",
    "\n",
    "[![nbviewer](https://raw.githubusercontent.com/jupyter/design/master/logos/Badges/nbviewer_badge.svg)](https://nbviewer.jupyter.org/github/UncleCJ/advent-of-code/blob/cj/2023/03/code.ipynb) [![Binder](https://mybinder.org/badge_logo.svg)](https://mybinder.org/v2/gh/UncleCJ/advent-of-code/cj?filepath=2023%2F03%2Fcode.ipynb)"
   ]
  },
  {
   "cell_type": "code",
   "execution_count": 1,
   "metadata": {},
   "outputs": [],
   "source": [
    "from IPython.display import HTML\n",
    "import sys\n",
    "sys.path.append('../../')\n",
    "\n",
    "\n",
    "# %load_ext nb_mypy\n",
    "# %nb_mypy On"
   ]
  },
  {
   "cell_type": "code",
   "execution_count": 2,
   "metadata": {},
   "outputs": [
    {
     "name": "stdout",
     "output_type": "stream",
     "text": [
      "Writing 'downloaded' (dict) to file 'downloaded'.\n"
     ]
    }
   ],
   "source": [
    "import common\n",
    "\n",
    "\n",
    "downloaded = common.refresh()\n",
    "%store downloaded >downloaded\n",
    "\n",
    "# %load_ext pycodestyle_magic\n",
    "# %pycodestyle_on"
   ]
  },
  {
   "cell_type": "code",
   "execution_count": 3,
   "metadata": {},
   "outputs": [
    {
     "data": {
      "text/html": [
       "<h2>--- Day 3: Gear Ratios ---</h2><p>You and the Elf eventually reach a <a href=\"https://en.wikipedia.org/wiki/Gondola_lift\" target=\"_blank\">gondola lift</a> station; he says the gondola lift will take you up to the <em>water source</em>, but this is as far as he can bring you. You go inside.</p>\n",
       "<p>It doesn't take long to find the gondolas, but there seems to be a problem: they're not moving.</p>\n",
       "<p>\"Aaah!\"</p>\n",
       "<p>You turn around to see a slightly-greasy Elf with a wrench and a look of surprise. \"Sorry, I wasn't expecting anyone! The gondola lift isn't working right now; it'll still be a while before I can fix it.\" You offer to help.</p>\n",
       "<p>The engineer explains that an engine part seems to be missing from the engine, but nobody can figure out which one. If you can <em>add up all the part numbers</em> in the engine schematic, it should be easy to work out which part is missing.</p>\n",
       "<p>The engine schematic (your puzzle input) consists of a visual representation of the engine. There are lots of numbers and symbols you don't really understand, but apparently <em>any number adjacent to a symbol</em>, even diagonally, is a \"part number\" and should be included in your sum. (Periods (<code>.</code>) do not count as a symbol.)</p>\n",
       "<p>Here is an example engine schematic:</p>\n",
       "<pre><code>467..114..\n",
       "...*......\n",
       "..35..633.\n",
       "......#...\n",
       "617*......\n",
       ".....+.58.\n",
       "..592.....\n",
       "......755.\n",
       "...$.*....\n",
       ".664.598..\n",
       "</code></pre>\n",
       "<p>In this schematic, two numbers are <em>not</em> part numbers because they are not adjacent to a symbol: <code>114</code> (top right) and <code>58</code> (middle right). Every other number is adjacent to a symbol and so <em>is</em> a part number; their sum is <code><em>4361</em></code>.</p>\n",
       "<p>Of course, the actual engine schematic is much larger. <em>What is the sum of all of the part numbers in the engine schematic?</em></p>\n"
      ],
      "text/plain": [
       "<IPython.core.display.HTML object>"
      ]
     },
     "execution_count": 3,
     "metadata": {},
     "output_type": "execute_result"
    }
   ],
   "source": [
    "from IPython.display import HTML\n",
    "\n",
    "HTML(downloaded['part1'])"
   ]
  },
  {
   "cell_type": "code",
   "execution_count": 4,
   "metadata": {},
   "outputs": [],
   "source": [
    "example_input = '''467..114..\n",
    "...*......\n",
    "..35..633.\n",
    "......#...\n",
    "617*......\n",
    ".....+.58.\n",
    "..592.....\n",
    "......755.\n",
    "...$.*....\n",
    ".664.598..'''\n"
   ]
  },
  {
   "cell_type": "code",
   "execution_count": 5,
   "metadata": {},
   "outputs": [
    {
     "name": "stdout",
     "output_type": "stream",
     "text": [
      "10x10\n"
     ]
    }
   ],
   "source": [
    "schematic = example_input.splitlines()\n",
    "# schematic = downloaded['input'].splitlines()\n",
    "print(f'{len(schematic)}x{len(schematic[0])}')\n",
    "size = len(schematic)\n",
    "assert(size == len(schematic[0]))"
   ]
  },
  {
   "cell_type": "code",
   "execution_count": 6,
   "metadata": {},
   "outputs": [
    {
     "name": "stdout",
     "output_type": "stream",
     "text": [
      "[(1, 2), (1, 3), (1, 4), (2, 2), (2, 4), (3, 2), (3, 3), (3, 4)]\n",
      "[(0, 1), (0, 3), (1, 1), (1, 2), (1, 3)]\n",
      "[(1, 0), (1, 1), (2, 1), (3, 0), (3, 1)]\n"
     ]
    }
   ],
   "source": [
    "def n_coords(row, column, size):\n",
    "    return [(r, c) for r, c in [\n",
    "            (row - 1, column - 1), (row - 1, column), (row - 1, column + 1),\n",
    "            (row, column - 1), (row, column + 1),\n",
    "            (row + 1, column - 1), (row + 1, column), (row + 1, column + 1)]\n",
    "        if 0 <= r < size and 0 <= c < size]\n",
    "\n",
    "print(n_coords(2,3,5))\n",
    "print(n_coords(0,2,5))\n",
    "print(n_coords(2,0,5))"
   ]
  },
  {
   "cell_type": "code",
   "execution_count": 7,
   "metadata": {},
   "outputs": [
    {
     "name": "stdout",
     "output_type": "stream",
     "text": [
      "['6', '.', '.']\n",
      "['.', '.', '.', '.', '.', '2', '.', '.']\n"
     ]
    }
   ],
   "source": [
    "def neighbours(schematic, row, column):\n",
    "    size = len(schematic)\n",
    "    assert(size == len(schematic[0]))\n",
    "    return [schematic[r][c] for r, c in n_coords(row, column, size)]\n",
    "\n",
    "print(neighbours(schematic, 0, 0))\n",
    "print(neighbours(schematic, 5, 5))"
   ]
  },
  {
   "cell_type": "code",
   "execution_count": 8,
   "metadata": {},
   "outputs": [
    {
     "name": "stdout",
     "output_type": "stream",
     "text": [
      "True\n",
      "False\n"
     ]
    }
   ],
   "source": [
    "def neighbour_is_part(schematic, row, column):\n",
    "    size = len(schematic)\n",
    "    return any(n != '.' and not n.isdigit() for n in neighbours(schematic, row, column))\n",
    "\n",
    "print(neighbour_is_part(schematic, 0, 2))\n",
    "print(neighbour_is_part(schematic, 0, 1))"
   ]
  },
  {
   "cell_type": "code",
   "execution_count": 9,
   "metadata": {},
   "outputs": [
    {
     "name": "stdout",
     "output_type": "stream",
     "text": [
      "schematic[row]='467..114..'\n",
      "schematic[row]='...*......'\n",
      "schematic[row]='..35..633.'\n",
      "schematic[row]='......#...'\n",
      "schematic[row]='617*......'\n",
      "schematic[row]='.....+.58.'\n",
      "schematic[row]='..592.....'\n",
      "schematic[row]='......755.'\n",
      "schematic[row]='...$.*....'\n",
      "schematic[row]='.664.598..'\n",
      "ans1=4361\n"
     ]
    }
   ],
   "source": [
    "ans1 = 0\n",
    "digits = []\n",
    "is_part_number = False\n",
    "for row in range(size):\n",
    "    print(f'{schematic[row]=}')\n",
    "    for column in range(size):\n",
    "        current = schematic[row][column]\n",
    "        if current.isdigit():\n",
    "            digits.append(current)\n",
    "            if not is_part_number:\n",
    "                is_part_number = neighbour_is_part(schematic, row, column)\n",
    "        \n",
    "        if current == '.' or not current.isdigit() or column == size - 1:\n",
    "            if digits:\n",
    "                if is_part_number:\n",
    "                    ans1 += int(''.join(digits))\n",
    "                digits = []\n",
    "                is_part_number = False\n",
    "            continue\n",
    "print(f'{ans1=}')"
   ]
  },
  {
   "cell_type": "code",
   "execution_count": 11,
   "metadata": {
    "scrolled": true
   },
   "outputs": [
    {
     "data": {
      "text/html": [
       "<h2 id=\"part2\">--- Part Two ---</h2><p>The engineer finds the missing part and installs it in the engine! As the engine springs to life, you jump in the closest gondola, finally ready to ascend to the water source.</p>\n",
       "<p>You don't seem to be going very fast, though. Maybe something is still wrong? Fortunately, the gondola has a phone labeled \"help\", so you pick it up and the engineer answers.</p>\n",
       "<p>Before you can explain the situation, she suggests that you look out the window. There stands the engineer, holding a phone in one hand and waving with the other. You're going so slowly that you haven't even left the station. You exit the gondola.</p>\n",
       "<p>The missing part wasn't the only issue - one of the gears in the engine is wrong. A <em>gear</em> is any <code>*</code> symbol that is adjacent to <em>exactly two part numbers</em>. Its <em>gear ratio</em> is the result of <span title=\"They're magic gears.\">multiplying</span> those two numbers together.</p>\n",
       "<p>This time, you need to find the gear ratio of every gear and add them all up so that the engineer can figure out which gear needs to be replaced.</p>\n",
       "<p>Consider the same engine schematic again:</p>\n",
       "<pre><code>467..114..\n",
       "...*......\n",
       "..35..633.\n",
       "......#...\n",
       "617*......\n",
       ".....+.58.\n",
       "..592.....\n",
       "......755.\n",
       "...$.*....\n",
       ".664.598..\n",
       "</code></pre>\n",
       "<p>In this schematic, there are <em>two</em> gears. The first is in the top left; it has part numbers <code>467</code> and <code>35</code>, so its gear ratio is <code>16345</code>. The second gear is in the lower right; its gear ratio is <code>451490</code>. (The <code>*</code> adjacent to <code>617</code> is <em>not</em> a gear because it is only adjacent to one part number.) Adding up all of the gear ratios produces <code><em>467835</em></code>.</p>\n",
       "<p><em>What is the sum of all of the gear ratios in your engine schematic?</em></p>\n"
      ],
      "text/plain": [
       "<IPython.core.display.HTML object>"
      ]
     },
     "execution_count": 11,
     "metadata": {},
     "output_type": "execute_result"
    }
   ],
   "source": [
    "HTML(downloaded['part2'])"
   ]
  }
 ],
 "metadata": {
  "kernelspec": {
   "display_name": "Python 3 (ipykernel)",
   "language": "python",
   "name": "python3"
  },
  "language_info": {
   "codemirror_mode": {
    "name": "ipython",
    "version": 3
   },
   "file_extension": ".py",
   "mimetype": "text/x-python",
   "name": "python",
   "nbconvert_exporter": "python",
   "pygments_lexer": "ipython3",
   "version": "3.12.0"
  },
  "vscode": {
   "interpreter": {
    "hash": "e7370f93d1d0cde622a1f8e1c04877d8463912d04d973331ad4851f04de6915a"
   }
  }
 },
 "nbformat": 4,
 "nbformat_minor": 2
}

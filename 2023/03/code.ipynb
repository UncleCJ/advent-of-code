{
 "cells": [
  {
   "cell_type": "markdown",
   "metadata": {},
   "source": [
    "# Day 3: Gear Ratios\n",
    "\n",
    "[*Advent of Code 2023 day 3*](https://adventofcode.com/2023/day/3) and [*solution megathread*](https://redd.it/189m3qw)\n",
    "\n",
    "[![nbviewer](https://raw.githubusercontent.com/jupyter/design/master/logos/Badges/nbviewer_badge.svg)](https://nbviewer.jupyter.org/github/UncleCJ/advent-of-code/blob/cj/2023/03/code.ipynb) [![Binder](https://mybinder.org/badge_logo.svg)](https://mybinder.org/v2/gh/UncleCJ/advent-of-code/cj?filepath=2023%2F03%2Fcode.ipynb)"
   ]
  },
  {
   "cell_type": "code",
   "execution_count": 1,
   "metadata": {},
   "outputs": [],
   "source": [
    "from IPython.display import HTML\n",
    "import sys\n",
    "sys.path.append('../../')\n",
    "\n",
    "\n",
    "# %load_ext nb_mypy\n",
    "# %nb_mypy On"
   ]
  },
  {
   "cell_type": "code",
   "execution_count": 2,
   "metadata": {},
   "outputs": [
    {
     "name": "stdout",
     "output_type": "stream",
     "text": [
      "Writing 'downloaded' (dict) to file 'downloaded'.\n"
     ]
    }
   ],
   "source": [
    "import common\n",
    "\n",
    "\n",
    "downloaded = common.refresh()\n",
    "%store downloaded >downloaded\n",
    "\n",
    "# %load_ext pycodestyle_magic\n",
    "# %pycodestyle_on"
   ]
  },
  {
   "cell_type": "code",
   "execution_count": 3,
   "metadata": {},
   "outputs": [
    {
     "data": {
      "text/html": [
       "<h2>--- Day 3: Gear Ratios ---</h2><p>You and the Elf eventually reach a <a href=\"https://en.wikipedia.org/wiki/Gondola_lift\" target=\"_blank\">gondola lift</a> station; he says the gondola lift will take you up to the <em>water source</em>, but this is as far as he can bring you. You go inside.</p>\n",
       "<p>It doesn't take long to find the gondolas, but there seems to be a problem: they're not moving.</p>\n",
       "<p>\"Aaah!\"</p>\n",
       "<p>You turn around to see a slightly-greasy Elf with a wrench and a look of surprise. \"Sorry, I wasn't expecting anyone! The gondola lift isn't working right now; it'll still be a while before I can fix it.\" You offer to help.</p>\n",
       "<p>The engineer explains that an engine part seems to be missing from the engine, but nobody can figure out which one. If you can <em>add up all the part numbers</em> in the engine schematic, it should be easy to work out which part is missing.</p>\n",
       "<p>The engine schematic (your puzzle input) consists of a visual representation of the engine. There are lots of numbers and symbols you don't really understand, but apparently <em>any number adjacent to a symbol</em>, even diagonally, is a \"part number\" and should be included in your sum. (Periods (<code>.</code>) do not count as a symbol.)</p>\n",
       "<p>Here is an example engine schematic:</p>\n",
       "<pre><code>467..114..\n",
       "...*......\n",
       "..35..633.\n",
       "......#...\n",
       "617*......\n",
       ".....+.58.\n",
       "..592.....\n",
       "......755.\n",
       "...$.*....\n",
       ".664.598..\n",
       "</code></pre>\n",
       "<p>In this schematic, two numbers are <em>not</em> part numbers because they are not adjacent to a symbol: <code>114</code> (top right) and <code>58</code> (middle right). Every other number is adjacent to a symbol and so <em>is</em> a part number; their sum is <code><em>4361</em></code>.</p>\n",
       "<p>Of course, the actual engine schematic is much larger. <em>What is the sum of all of the part numbers in the engine schematic?</em></p>\n"
      ],
      "text/plain": [
       "<IPython.core.display.HTML object>"
      ]
     },
     "execution_count": 3,
     "metadata": {},
     "output_type": "execute_result"
    }
   ],
   "source": [
    "from IPython.display import HTML\n",
    "\n",
    "HTML(downloaded['part1'])"
   ]
  },
  {
   "cell_type": "code",
   "execution_count": 4,
   "metadata": {},
   "outputs": [],
   "source": [
    "example_input = '''467..114..\n",
    "...*......\n",
    "..35..633.\n",
    "......#...\n",
    "617*......\n",
    ".....+.58.\n",
    "..592.....\n",
    "......755.\n",
    "...$.*....\n",
    ".664.598..'''"
   ]
  },
  {
   "cell_type": "code",
   "execution_count": 5,
   "metadata": {},
   "outputs": [],
   "source": [
    "schematic = example_input.splitlines()\n",
    "# schematic = downloaded['input'].splitlines()"
   ]
  },
  {
   "cell_type": "code",
   "execution_count": 6,
   "metadata": {},
   "outputs": [],
   "source": [
    "from typing import List, Iterator, Tuple\n",
    "\n",
    "def neighbor_coords(schematic: List[str], row: int, column: int) -> Iterator[Tuple[int, int]]:\n",
    "    size = len(schematic)\n",
    "    assert(size == len(schematic[0]))\n",
    "    return (\n",
    "        (r, c)\n",
    "        for r, c\n",
    "        in [\n",
    "            (row - 1, column - 1), (row - 1, column), (row - 1, column + 1),\n",
    "            (row, column - 1), (row, column + 1),\n",
    "            (row + 1, column - 1), (row + 1, column), (row + 1, column + 1)\n",
    "            ]\n",
    "        if 0 <= r < size and 0 <= c < size)"
   ]
  },
  {
   "cell_type": "code",
   "execution_count": 7,
   "metadata": {},
   "outputs": [
    {
     "name": "stdout",
     "output_type": "stream",
     "text": [
      "['6', '.', '.']\n",
      "['.', '.', '.', '.', '.', '2', '.', '.']\n"
     ]
    }
   ],
   "source": [
    "def neighbors(schematic: List[str], row: int, column: int) -> Iterator[str]:\n",
    "    return (\n",
    "        schematic[r][c]\n",
    "        for r, c\n",
    "        in neighbor_coords(schematic, row, column)\n",
    "        )\n",
    "\n",
    "print(list(neighbors(schematic, 0, 0)))\n",
    "print(list(neighbors(schematic, 5, 5)))"
   ]
  },
  {
   "cell_type": "code",
   "execution_count": 8,
   "metadata": {},
   "outputs": [
    {
     "data": {
      "text/plain": [
       "[(1, 3), (3, 6), (4, 3), (5, 5), (8, 3), (8, 5)]"
      ]
     },
     "execution_count": 8,
     "metadata": {},
     "output_type": "execute_result"
    }
   ],
   "source": [
    "def find_parts(schematic: List[str]) -> Iterator[Tuple[int, int]]:\n",
    "    for row, line in enumerate(schematic):\n",
    "        for column, current in enumerate(line):\n",
    "            if (\n",
    "                    not current.isdigit()\n",
    "                    and current != '.'\n",
    "                    ):\n",
    "                yield (row, column)\n",
    "\n",
    "list(find_parts(schematic))"
   ]
  },
  {
   "cell_type": "code",
   "execution_count": 9,
   "metadata": {},
   "outputs": [
    {
     "name": "stdout",
     "output_type": "stream",
     "text": [
      "(0, 0, 467)\n",
      "(0, 5, 114)\n"
     ]
    }
   ],
   "source": [
    "def find_number(schematic: List[str], row: int, column: int) -> Tuple[int, int, int]:\n",
    "    size = len(schematic)\n",
    "    assert(size == len(schematic[0]))\n",
    "    start_col = column\n",
    "    stop_col = column\n",
    "    while start_col > 0 and schematic[row][start_col - 1].isdigit():\n",
    "        start_col -= 1\n",
    "    while stop_col + 1 < size and schematic[row][stop_col + 1].isdigit():\n",
    "        stop_col += 1\n",
    "    return row, start_col, int(schematic[row][start_col:stop_col+1])\n",
    "\n",
    "print(find_number(schematic, 0, 0))\n",
    "print(find_number(schematic, 0, 7))"
   ]
  },
  {
   "cell_type": "code",
   "execution_count": 10,
   "metadata": {},
   "outputs": [
    {
     "data": {
      "text/plain": [
       "[(0, 0, 467), (2, 2, 35)]"
      ]
     },
     "execution_count": 10,
     "metadata": {},
     "output_type": "execute_result"
    }
   ],
   "source": [
    "def find_part_numbers(schematic: List[str], row: int, column: int) -> Iterator[Tuple[int, int, int]]:\n",
    "    return set(\n",
    "        find_number(schematic, r, c)\n",
    "        for r, c\n",
    "        in neighbor_coords(schematic, row, column)\n",
    "        if schematic[r][c].isdigit()\n",
    "        )\n",
    "\n",
    "list(find_part_numbers(schematic, 1, 3))"
   ]
  },
  {
   "cell_type": "code",
   "execution_count": 11,
   "metadata": {},
   "outputs": [
    {
     "data": {
      "text/plain": [
       "4361"
      ]
     },
     "execution_count": 11,
     "metadata": {},
     "output_type": "execute_result"
    }
   ],
   "source": [
    "from functools import partial\n",
    "from itertools import starmap, chain\n",
    "\n",
    "def find_parts_numbers(schematic: List[str]) -> Iterator[int]:\n",
    "    return (number\n",
    "            for _, _, number\n",
    "            # Form a set of all numbers with coordinates to only get unique ones\n",
    "            in set(\n",
    "                chain(\n",
    "                    # starmap unpacks row and column from the find_parts iterator,\n",
    "                    # feeding them to the partial find_part_numbers\n",
    "                    *starmap(\n",
    "                        partial(find_part_numbers, schematic),\n",
    "                        find_parts(schematic)\n",
    "                        )\n",
    "                    )\n",
    "                )\n",
    "            )\n",
    "\n",
    "sum(find_parts_numbers(schematic))"
   ]
  },
  {
   "cell_type": "code",
   "execution_count": 12,
   "metadata": {
    "scrolled": true
   },
   "outputs": [
    {
     "data": {
      "text/html": [
       "<h2 id=\"part2\">--- Part Two ---</h2><p>The engineer finds the missing part and installs it in the engine! As the engine springs to life, you jump in the closest gondola, finally ready to ascend to the water source.</p>\n",
       "<p>You don't seem to be going very fast, though. Maybe something is still wrong? Fortunately, the gondola has a phone labeled \"help\", so you pick it up and the engineer answers.</p>\n",
       "<p>Before you can explain the situation, she suggests that you look out the window. There stands the engineer, holding a phone in one hand and waving with the other. You're going so slowly that you haven't even left the station. You exit the gondola.</p>\n",
       "<p>The missing part wasn't the only issue - one of the gears in the engine is wrong. A <em>gear</em> is any <code>*</code> symbol that is adjacent to <em>exactly two part numbers</em>. Its <em>gear ratio</em> is the result of <span title=\"They're magic gears.\">multiplying</span> those two numbers together.</p>\n",
       "<p>This time, you need to find the gear ratio of every gear and add them all up so that the engineer can figure out which gear needs to be replaced.</p>\n",
       "<p>Consider the same engine schematic again:</p>\n",
       "<pre><code>467..114..\n",
       "...*......\n",
       "..35..633.\n",
       "......#...\n",
       "617*......\n",
       ".....+.58.\n",
       "..592.....\n",
       "......755.\n",
       "...$.*....\n",
       ".664.598..\n",
       "</code></pre>\n",
       "<p>In this schematic, there are <em>two</em> gears. The first is in the top left; it has part numbers <code>467</code> and <code>35</code>, so its gear ratio is <code>16345</code>. The second gear is in the lower right; its gear ratio is <code>451490</code>. (The <code>*</code> adjacent to <code>617</code> is <em>not</em> a gear because it is only adjacent to one part number.) Adding up all of the gear ratios produces <code><em>467835</em></code>.</p>\n",
       "<p><em>What is the sum of all of the gear ratios in your engine schematic?</em></p>\n"
      ],
      "text/plain": [
       "<IPython.core.display.HTML object>"
      ]
     },
     "execution_count": 12,
     "metadata": {},
     "output_type": "execute_result"
    }
   ],
   "source": [
    "HTML(downloaded['part2'])"
   ]
  },
  {
   "cell_type": "code",
   "execution_count": 13,
   "metadata": {},
   "outputs": [
    {
     "data": {
      "text/plain": [
       "467835"
      ]
     },
     "execution_count": 13,
     "metadata": {},
     "output_type": "execute_result"
    }
   ],
   "source": [
    "def find_gears_ratios(schematic: List[str]) -> Iterator[int]:\n",
    "    for row, column in find_parts(schematic):\n",
    "        if schematic[row][column] != '*':\n",
    "            continue\n",
    "        part_numbers = tuple(find_part_numbers(schematic, row, column))\n",
    "        if len(part_numbers) != 2:\n",
    "            continue\n",
    "        yield part_numbers[0][2] * part_numbers[1][2]\n",
    "\n",
    "sum(find_gears_ratios(schematic))"
   ]
  }
 ],
 "metadata": {
  "kernelspec": {
   "display_name": "Python 3 (ipykernel)",
   "language": "python",
   "name": "python3"
  },
  "language_info": {
   "codemirror_mode": {
    "name": "ipython",
    "version": 3
   },
   "file_extension": ".py",
   "mimetype": "text/x-python",
   "name": "python",
   "nbconvert_exporter": "python",
   "pygments_lexer": "ipython3",
   "version": "3.12.1"
  },
  "vscode": {
   "interpreter": {
    "hash": "e7370f93d1d0cde622a1f8e1c04877d8463912d04d973331ad4851f04de6915a"
   }
  }
 },
 "nbformat": 4,
 "nbformat_minor": 2
}

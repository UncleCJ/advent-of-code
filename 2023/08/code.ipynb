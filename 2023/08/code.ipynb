{
 "cells": [
  {
   "cell_type": "markdown",
   "metadata": {},
   "source": [
    "# Day 8: Haunted Wasteland\n",
    "\n",
    "[*Advent of Code 2023 day 8*](https://adventofcode.com/2023/day/8) and [*solution megathread*](https://redd.it/18df7px)\n",
    "\n",
    "[![nbviewer](https://raw.githubusercontent.com/jupyter/design/master/logos/Badges/nbviewer_badge.svg)](https://nbviewer.jupyter.org/github/UncleCJ/advent-of-code/blob/cj/2023/08/code.ipynb) [![Binder](https://mybinder.org/badge_logo.svg)](https://mybinder.org/v2/gh/UncleCJ/advent-of-code/cj?filepath=2023%2F08%2Fcode.ipynb)"
   ]
  },
  {
   "cell_type": "code",
   "execution_count": 1,
   "metadata": {},
   "outputs": [],
   "source": [
    "from IPython.display import HTML\n",
    "import sys\n",
    "sys.path.append('../../')\n",
    "\n",
    "\n",
    "# %load_ext nb_mypy\n",
    "# %nb_mypy On"
   ]
  },
  {
   "cell_type": "code",
   "execution_count": 2,
   "metadata": {},
   "outputs": [
    {
     "name": "stdout",
     "output_type": "stream",
     "text": [
      "Writing 'downloaded' (dict) to file 'downloaded'.\n"
     ]
    }
   ],
   "source": [
    "import common\n",
    "\n",
    "\n",
    "downloaded = common.refresh()\n",
    "%store downloaded >downloaded\n",
    "\n",
    "# %load_ext pycodestyle_magic\n",
    "# %pycodestyle_on"
   ]
  },
  {
   "cell_type": "code",
   "execution_count": 3,
   "metadata": {},
   "outputs": [
    {
     "data": {
      "text/html": [
       "<h2>--- Day 8: Haunted Wasteland ---</h2><p>You're still riding a camel across Desert Island when you spot a sandstorm quickly approaching. When you turn to warn the Elf, she disappears before your eyes! To be fair, she had just finished warning you about <em>ghosts</em> a few minutes ago.</p>\n",
       "<p>One of the camel's pouches is labeled \"maps\" - sure enough, it's full of documents (your puzzle input) about how to navigate the desert. At least, you're pretty sure that's what they are; one of the documents contains a list of left/right instructions, and the rest of the documents seem to describe some kind of <em>network</em> of labeled nodes.</p>\n",
       "<p>It seems like you're meant to use the <em>left/right</em> instructions to <em>navigate the network</em>. Perhaps if you have the camel follow the same instructions, you can escape the haunted wasteland!</p>\n",
       "<p>After examining the maps for a bit, two nodes stick out: <code>AAA</code> and <code>ZZZ</code>. You feel like <code>AAA</code> is where you are now, and you have to follow the left/right instructions until you reach <code>ZZZ</code>.</p>\n",
       "<p>This format defines each <em>node</em> of the network individually. For example:</p>\n",
       "<pre><code>RL\n",
       "\n",
       "AAA = (BBB, CCC)\n",
       "BBB = (DDD, EEE)\n",
       "CCC = (ZZZ, GGG)\n",
       "DDD = (DDD, DDD)\n",
       "EEE = (EEE, EEE)\n",
       "GGG = (GGG, GGG)\n",
       "ZZZ = (ZZZ, ZZZ)\n",
       "</code></pre>\n",
       "<p>Starting with <code>AAA</code>, you need to <em>look up the next element</em> based on the next left/right instruction in your input. In this example, start with <code>AAA</code> and go <em>right</em> (<code>R</code>) by choosing the right element of <code>AAA</code>, <code><em>CCC</em></code>. Then, <code>L</code> means to choose the <em>left</em> element of <code>CCC</code>, <code><em>ZZZ</em></code>. By following the left/right instructions, you reach <code>ZZZ</code> in <code><em>2</em></code> steps.</p>\n",
       "<p>Of course, you might not find <code>ZZZ</code> right away. If you run out of left/right instructions, repeat the whole sequence of instructions as necessary: <code>RL</code> really means <code>RLRLRLRLRLRLRLRL...</code> and so on. For example, here is a situation that takes <code><em>6</em></code> steps to reach <code>ZZZ</code>:</p>\n",
       "<pre><code>LLR\n",
       "\n",
       "AAA = (BBB, BBB)\n",
       "BBB = (AAA, ZZZ)\n",
       "ZZZ = (ZZZ, ZZZ)\n",
       "</code></pre>\n",
       "<p>Starting at <code>AAA</code>, follow the left/right instructions. <em>How many steps are required to reach <code>ZZZ</code>?</em></p>\n"
      ],
      "text/plain": [
       "<IPython.core.display.HTML object>"
      ]
     },
     "execution_count": 3,
     "metadata": {},
     "output_type": "execute_result"
    }
   ],
   "source": [
    "from IPython.display import HTML\n",
    "\n",
    "HTML(downloaded['part1'])"
   ]
  },
  {
   "cell_type": "code",
   "execution_count": 4,
   "metadata": {},
   "outputs": [],
   "source": [
    "part1_example_input1 = '''RL\n",
    "\n",
    "AAA = (BBB, CCC)\n",
    "BBB = (DDD, EEE)\n",
    "CCC = (ZZZ, GGG)\n",
    "DDD = (DDD, DDD)\n",
    "EEE = (EEE, EEE)\n",
    "GGG = (GGG, GGG)\n",
    "ZZZ = (ZZZ, ZZZ)'''\n",
    "\n",
    "part1_example_input2 = '''LLR\n",
    "\n",
    "AAA = (BBB, BBB)\n",
    "BBB = (AAA, ZZZ)\n",
    "ZZZ = (ZZZ, ZZZ)'''"
   ]
  },
  {
   "cell_type": "code",
   "execution_count": 5,
   "metadata": {},
   "outputs": [
    {
     "name": "stdout",
     "output_type": "stream",
     "text": [
      "{'AAA': ['BBB', 'BBB'], 'BBB': ['AAA', 'ZZZ'], 'ZZZ': ['ZZZ', 'ZZZ']}\n"
     ]
    }
   ],
   "source": [
    "def parse_input(lines):\n",
    "    instructions = lines[0]\n",
    "    edges = {}\n",
    "    for line in lines[2:]:\n",
    "        source, dests = line.split(' = ')\n",
    "        edges[source] = dests[1:-1].split(', ')\n",
    "    return instructions, edges\n",
    "\n",
    "instructions, edges = parse_input(part1_example_input2.splitlines())\n",
    "# instructions, edges = parse_input(downloaded['input'].splitlines())\n",
    "print(edges)"
   ]
  },
  {
   "cell_type": "code",
   "execution_count": 6,
   "metadata": {},
   "outputs": [
    {
     "name": "stdout",
     "output_type": "stream",
     "text": [
      "AAA, L, ['BBB', 'BBB']\n",
      "BBB, L, ['AAA', 'ZZZ']\n",
      "AAA, R, ['BBB', 'BBB']\n",
      "BBB, L, ['AAA', 'ZZZ']\n",
      "AAA, L, ['BBB', 'BBB']\n",
      "BBB, R, ['AAA', 'ZZZ']\n",
      "6\n"
     ]
    }
   ],
   "source": [
    "from itertools import cycle, count\n",
    "\n",
    "node = 'AAA'\n",
    "for step, instruction in zip(count(start=1), cycle(instructions)):\n",
    "    print(f\"{node}, {instruction}, {edges[node]}\")\n",
    "    node = edges[node][instruction == 'R']\n",
    "    if node == 'ZZZ':\n",
    "        break\n",
    "print(step)\n",
    "    "
   ]
  },
  {
   "cell_type": "code",
   "execution_count": 7,
   "metadata": {
    "scrolled": true
   },
   "outputs": [
    {
     "data": {
      "text/html": [
       "<h2 id=\"part2\">--- Part Two ---</h2><p>The <span title=\"Duhduhduhduhduh! Dah, duhduhduhduhduh!\">sandstorm</span> is upon you and you aren't any closer to escaping the wasteland. You had the camel follow the instructions, but you've barely left your starting position. It's going to take <em>significantly more steps</em> to escape!</p>\n",
       "<p>What if the map isn't for people - what if the map is for <em>ghosts</em>? Are ghosts even bound by the laws of spacetime? Only one way to find out.</p>\n",
       "<p>After examining the maps a bit longer, your attention is drawn to a curious fact: the number of nodes with names ending in <code>A</code> is equal to the number ending in <code>Z</code>! If you were a ghost, you'd probably just <em>start at every node that ends with <code>A</code></em> and follow all of the paths at the same time until they all simultaneously end up at nodes that end with <code>Z</code>.</p>\n",
       "<p>For example:</p>\n",
       "<pre><code>LR\n",
       "\n",
       "11A = (11B, XXX)\n",
       "11B = (XXX, 11Z)\n",
       "11Z = (11B, XXX)\n",
       "22A = (22B, XXX)\n",
       "22B = (22C, 22C)\n",
       "22C = (22Z, 22Z)\n",
       "22Z = (22B, 22B)\n",
       "XXX = (XXX, XXX)\n",
       "</code></pre>\n",
       "<p>Here, there are two starting nodes, <code>11A</code> and <code>22A</code> (because they both end with <code>A</code>). As you follow each left/right instruction, use that instruction to <em>simultaneously</em> navigate away from both nodes you're currently on. Repeat this process until <em>all</em> of the nodes you're currently on end with <code>Z</code>. (If only some of the nodes you're on end with <code>Z</code>, they act like any other node and you continue as normal.) In this example, you would proceed as follows:</p>\n",
       "<ul>\n",
       "<li>Step 0: You are at <code>11A</code> and <code>22A</code>.</li>\n",
       "<li>Step 1: You choose all of the <em>left</em> paths, leading you to <code>11B</code> and <code>22B</code>.</li>\n",
       "<li>Step 2: You choose all of the <em>right</em> paths, leading you to <code><em>11Z</em></code> and <code>22C</code>.</li>\n",
       "<li>Step 3: You choose all of the <em>left</em> paths, leading you to <code>11B</code> and <code><em>22Z</em></code>.</li>\n",
       "<li>Step 4: You choose all of the <em>right</em> paths, leading you to <code><em>11Z</em></code> and <code>22B</code>.</li>\n",
       "<li>Step 5: You choose all of the <em>left</em> paths, leading you to <code>11B</code> and <code>22C</code>.</li>\n",
       "<li>Step 6: You choose all of the <em>right</em> paths, leading you to <code><em>11Z</em></code> and <code><em>22Z</em></code>.</li>\n",
       "</ul>\n",
       "<p>So, in this example, you end up entirely on nodes that end in <code>Z</code> after <code><em>6</em></code> steps.</p>\n",
       "<p>Simultaneously start on every node that ends with <code>A</code>. <em>How many steps does it take before you're only on nodes that end with <code>Z</code>?</em></p>\n"
      ],
      "text/plain": [
       "<IPython.core.display.HTML object>"
      ]
     },
     "execution_count": 7,
     "metadata": {},
     "output_type": "execute_result"
    }
   ],
   "source": [
    "HTML(downloaded['part2'])"
   ]
  },
  {
   "cell_type": "code",
   "execution_count": 8,
   "metadata": {},
   "outputs": [],
   "source": [
    "part2_example_input = '''LR\n",
    "\n",
    "11A = (11B, XXX)\n",
    "11B = (XXX, 11Z)\n",
    "11Z = (11B, XXX)\n",
    "22A = (22B, XXX)\n",
    "22B = (22C, 22C)\n",
    "22C = (22Z, 22Z)\n",
    "22Z = (22B, 22B)\n",
    "XXX = (XXX, XXX)'''"
   ]
  },
  {
   "cell_type": "code",
   "execution_count": 9,
   "metadata": {},
   "outputs": [],
   "source": [
    "# instructions, edges = parse_input(part2_example_input.splitlines())\n",
    "instructions, edges = parse_input(downloaded['input'].splitlines())"
   ]
  },
  {
   "cell_type": "code",
   "execution_count": 10,
   "metadata": {},
   "outputs": [],
   "source": [
    "nodes = [node for node in edges.keys() if node[2] == 'A']"
   ]
  },
  {
   "cell_type": "code",
   "execution_count": 11,
   "metadata": {},
   "outputs": [
    {
     "ename": "KeyboardInterrupt",
     "evalue": "",
     "output_type": "error",
     "traceback": [
      "\u001b[0;31m---------------------------------------------------------------------------\u001b[0m",
      "\u001b[0;31mKeyboardInterrupt\u001b[0m                         Traceback (most recent call last)",
      "\u001b[1;32m/Users/carljohansv/Documents/advent-of-code/2023/08/code.ipynb Cell 12\u001b[0m line \u001b[0;36m3\n\u001b[1;32m      <a href='vscode-notebook-cell:/Users/carljohansv/Documents/advent-of-code/2023/08/code.ipynb#X25sZmlsZQ%3D%3D?line=0'>1</a>\u001b[0m \u001b[39mfor\u001b[39;00m step, instruction \u001b[39min\u001b[39;00m \u001b[39mzip\u001b[39m(count(start\u001b[39m=\u001b[39m\u001b[39m1\u001b[39m), cycle(instructions)):\n\u001b[1;32m      <a href='vscode-notebook-cell:/Users/carljohansv/Documents/advent-of-code/2023/08/code.ipynb#X25sZmlsZQ%3D%3D?line=1'>2</a>\u001b[0m     \u001b[39m# print(f\"{nodes}, {instruction}, {[edges[node] for node in nodes]}\")\u001b[39;00m\n\u001b[0;32m----> <a href='vscode-notebook-cell:/Users/carljohansv/Documents/advent-of-code/2023/08/code.ipynb#X25sZmlsZQ%3D%3D?line=2'>3</a>\u001b[0m     nodes \u001b[39m=\u001b[39m [edges[node][instruction \u001b[39m==\u001b[39;49m \u001b[39m'\u001b[39;49m\u001b[39mR\u001b[39;49m\u001b[39m'\u001b[39;49m] \u001b[39mfor\u001b[39;49;00m node \u001b[39min\u001b[39;49;00m nodes]\n\u001b[1;32m      <a href='vscode-notebook-cell:/Users/carljohansv/Documents/advent-of-code/2023/08/code.ipynb#X25sZmlsZQ%3D%3D?line=3'>4</a>\u001b[0m     \u001b[39mif\u001b[39;00m \u001b[39mall\u001b[39m(node[\u001b[39m2\u001b[39m] \u001b[39m==\u001b[39m \u001b[39m'\u001b[39m\u001b[39mZ\u001b[39m\u001b[39m'\u001b[39m \u001b[39mfor\u001b[39;00m node \u001b[39min\u001b[39;00m nodes):\n\u001b[1;32m      <a href='vscode-notebook-cell:/Users/carljohansv/Documents/advent-of-code/2023/08/code.ipynb#X25sZmlsZQ%3D%3D?line=4'>5</a>\u001b[0m         \u001b[39mbreak\u001b[39;00m\n",
      "\u001b[1;32m/Users/carljohansv/Documents/advent-of-code/2023/08/code.ipynb Cell 12\u001b[0m line \u001b[0;36m3\n\u001b[1;32m      <a href='vscode-notebook-cell:/Users/carljohansv/Documents/advent-of-code/2023/08/code.ipynb#X25sZmlsZQ%3D%3D?line=0'>1</a>\u001b[0m \u001b[39mfor\u001b[39;00m step, instruction \u001b[39min\u001b[39;00m \u001b[39mzip\u001b[39m(count(start\u001b[39m=\u001b[39m\u001b[39m1\u001b[39m), cycle(instructions)):\n\u001b[1;32m      <a href='vscode-notebook-cell:/Users/carljohansv/Documents/advent-of-code/2023/08/code.ipynb#X25sZmlsZQ%3D%3D?line=1'>2</a>\u001b[0m     \u001b[39m# print(f\"{nodes}, {instruction}, {[edges[node] for node in nodes]}\")\u001b[39;00m\n\u001b[0;32m----> <a href='vscode-notebook-cell:/Users/carljohansv/Documents/advent-of-code/2023/08/code.ipynb#X25sZmlsZQ%3D%3D?line=2'>3</a>\u001b[0m     nodes \u001b[39m=\u001b[39m [edges[node][instruction \u001b[39m==\u001b[39m \u001b[39m'\u001b[39m\u001b[39mR\u001b[39m\u001b[39m'\u001b[39m] \u001b[39mfor\u001b[39;00m node \u001b[39min\u001b[39;00m nodes]\n\u001b[1;32m      <a href='vscode-notebook-cell:/Users/carljohansv/Documents/advent-of-code/2023/08/code.ipynb#X25sZmlsZQ%3D%3D?line=3'>4</a>\u001b[0m     \u001b[39mif\u001b[39;00m \u001b[39mall\u001b[39m(node[\u001b[39m2\u001b[39m] \u001b[39m==\u001b[39m \u001b[39m'\u001b[39m\u001b[39mZ\u001b[39m\u001b[39m'\u001b[39m \u001b[39mfor\u001b[39;00m node \u001b[39min\u001b[39;00m nodes):\n\u001b[1;32m      <a href='vscode-notebook-cell:/Users/carljohansv/Documents/advent-of-code/2023/08/code.ipynb#X25sZmlsZQ%3D%3D?line=4'>5</a>\u001b[0m         \u001b[39mbreak\u001b[39;00m\n",
      "\u001b[0;31mKeyboardInterrupt\u001b[0m: "
     ]
    }
   ],
   "source": [
    "for step, instruction in zip(count(start=1), cycle(instructions)):\n",
    "    # print(f\"{nodes}, {instruction}, {[edges[node] for node in nodes]}\")\n",
    "    nodes = [edges[node][instruction == 'R'] for node in nodes]\n",
    "    if all(node[2] == 'Z' for node in nodes):\n",
    "        break\n",
    "print(step)"
   ]
  },
  {
   "cell_type": "code",
   "execution_count": 12,
   "metadata": {},
   "outputs": [
    {
     "name": "stdout",
     "output_type": "stream",
     "text": [
      "9411752\n"
     ]
    }
   ],
   "source": [
    "print(step)"
   ]
  }
 ],
 "metadata": {
  "kernelspec": {
   "display_name": "Python 3 (ipykernel)",
   "language": "python",
   "name": "python3"
  },
  "language_info": {
   "codemirror_mode": {
    "name": "ipython",
    "version": 3
   },
   "file_extension": ".py",
   "mimetype": "text/x-python",
   "name": "python",
   "nbconvert_exporter": "python",
   "pygments_lexer": "ipython3",
   "version": "3.11.6"
  },
  "vscode": {
   "interpreter": {
    "hash": "e7370f93d1d0cde622a1f8e1c04877d8463912d04d973331ad4851f04de6915a"
   }
  }
 },
 "nbformat": 4,
 "nbformat_minor": 2
}

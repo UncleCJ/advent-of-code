{
 "cells": [
  {
   "cell_type": "markdown",
   "metadata": {},
   "source": [
    "# Day 14: Parabolic Reflector Dish\n",
    "\n",
    "[*Advent of Code 2023 day 14*](https://adventofcode.com/2023/day/14) and [*solution megathread*](https://redd.it/18i0xtn)\n",
    "\n",
    "[![nbviewer](https://raw.githubusercontent.com/jupyter/design/master/logos/Badges/nbviewer_badge.svg)](https://nbviewer.jupyter.org/github/UncleCJ/advent-of-code/blob/cj/2023/14/code.ipynb) [![Binder](https://mybinder.org/badge_logo.svg)](https://mybinder.org/v2/gh/UncleCJ/advent-of-code/cj?filepath=2023%2F14%2Fcode.ipynb)"
   ]
  },
  {
   "cell_type": "code",
   "execution_count": 1,
   "metadata": {},
   "outputs": [],
   "source": [
    "from IPython.display import HTML\n",
    "import sys\n",
    "sys.path.append('../../')\n",
    "\n",
    "\n",
    "# %load_ext nb_mypy\n",
    "# %nb_mypy On"
   ]
  },
  {
   "cell_type": "code",
   "execution_count": 2,
   "metadata": {},
   "outputs": [
    {
     "name": "stdout",
     "output_type": "stream",
     "text": [
      "Writing 'downloaded' (dict) to file 'downloaded'.\n"
     ]
    }
   ],
   "source": [
    "import common\n",
    "\n",
    "\n",
    "downloaded = common.refresh()\n",
    "%store downloaded >downloaded\n",
    "\n",
    "# %load_ext pycodestyle_magic\n",
    "# %pycodestyle_on"
   ]
  },
  {
   "cell_type": "code",
   "execution_count": 3,
   "metadata": {},
   "outputs": [
    {
     "data": {
      "text/html": [
       "<h2>--- Day 14: Parabolic Reflector Dish ---</h2><p>You reach the place where all of the mirrors were pointing: a massive <a href=\"https://en.wikipedia.org/wiki/Parabolic_reflector\" target=\"_blank\">parabolic reflector dish</a> <span title=\"Why, where do you attach YOUR massive parabolic reflector dishes?\">attached</span> to the side of another large mountain.</p>\n",
       "<p>The dish is made up of many small mirrors, but while the mirrors themselves are roughly in the shape of a parabolic reflector dish, each individual mirror seems to be pointing in slightly the wrong direction. If the dish is meant to focus light, all it's doing right now is sending it in a vague direction.</p>\n",
       "<p>This system must be what provides the energy for the lava! If you focus the reflector dish, maybe you can go where it's pointing and use the light to fix the lava production.</p>\n",
       "<p>Upon closer inspection, the individual mirrors each appear to be connected via an elaborate system of ropes and pulleys to a large metal platform below the dish. The platform is covered in large rocks of various shapes. Depending on their position, the weight of the rocks deforms the platform, and the shape of the platform controls which ropes move and ultimately the focus of the dish.</p>\n",
       "<p>In short: if you move the rocks, you can focus the dish. The platform even has a control panel on the side that lets you <em>tilt</em> it in one of four directions! The rounded rocks (<code>O</code>) will roll when the platform is tilted, while the cube-shaped rocks (<code>#</code>) will stay in place. You note the positions of all of the empty spaces (<code>.</code>) and rocks (your puzzle input). For example:</p>\n",
       "<pre><code>O....#....\n",
       "O.OO#....#\n",
       ".....##...\n",
       "OO.#O....O\n",
       ".O.....O#.\n",
       "O.#..O.#.#\n",
       "..O..#O..O\n",
       ".......O..\n",
       "#....###..\n",
       "#OO..#....\n",
       "</code></pre>\n",
       "<p>Start by tilting the lever so all of the rocks will slide <em>north</em> as far as they will go:</p>\n",
       "<pre><code>OOOO.#.O..\n",
       "OO..#....#\n",
       "OO..O##..O\n",
       "O..#.OO...\n",
       "........#.\n",
       "..#....#.#\n",
       "..O..#.O.O\n",
       "..O.......\n",
       "#....###..\n",
       "#....#....\n",
       "</code></pre>\n",
       "<p>You notice that the support beams along the north side of the platform are <em>damaged</em>; to ensure the platform doesn't collapse, you should calculate the <em>total load</em> on the north support beams.</p>\n",
       "<p>The amount of load caused by a single rounded rock (<code>O</code>) is equal to the number of rows from the rock to the south edge of the platform, including the row the rock is on. (Cube-shaped rocks (<code>#</code>) don't contribute to load.) So, the amount of load caused by each rock in each row is as follows:</p>\n",
       "<pre><code>OOOO.#.O.. 10\n",
       "OO..#....#  9\n",
       "OO..O##..O  8\n",
       "O..#.OO...  7\n",
       "........#.  6\n",
       "..#....#.#  5\n",
       "..O..#.O.O  4\n",
       "..O.......  3\n",
       "#....###..  2\n",
       "#....#....  1\n",
       "</code></pre>\n",
       "<p>The total load is the sum of the load caused by all of the <em>rounded rocks</em>. In this example, the total load is <code><em>136</em></code>.</p>\n",
       "<p>Tilt the platform so that the rounded rocks all roll north. Afterward, <em>what is the total load on the north support beams?</em></p>\n"
      ],
      "text/plain": [
       "<IPython.core.display.HTML object>"
      ]
     },
     "execution_count": 3,
     "metadata": {},
     "output_type": "execute_result"
    }
   ],
   "source": [
    "from IPython.display import HTML\n",
    "\n",
    "HTML(downloaded['part1'])"
   ]
  },
  {
   "cell_type": "code",
   "execution_count": 4,
   "metadata": {},
   "outputs": [],
   "source": [
    "part1_example_input = '''O....#....\n",
    "O.OO#....#\n",
    ".....##...\n",
    "OO.#O....O\n",
    ".O.....O#.\n",
    "O.#..O.#.#\n",
    "..O..#O..O\n",
    ".......O..\n",
    "#....###..\n",
    "#OO..#....'''"
   ]
  },
  {
   "cell_type": "code",
   "execution_count": 5,
   "metadata": {},
   "outputs": [
    {
     "name": "stdout",
     "output_type": "stream",
     "text": [
      "OOOO.#.O..\n",
      "OO..#....#\n",
      "OO..O##..O\n",
      "O..#.OO...\n",
      "........#.\n",
      "..#....#.#\n",
      "..O..#.O.O\n",
      "..O.......\n",
      "#....###..\n",
      "#....#....\n"
     ]
    }
   ],
   "source": [
    "def percolate_rocks_north(platform):\n",
    "    def percolate_hole(row, col):\n",
    "        # Obviously, if I can replace zip(range(...), iterable) with\n",
    "        # enumerate(iterable), it would be nice to select columns here too, but\n",
    "        # I suspect that is better left for numpy/pandas\n",
    "        for r, l in enumerate(\n",
    "                (my_platform[r][col] for r in range(row+1, len(my_platform))),\n",
    "                start=row+1\n",
    "                ):\n",
    "            if l == '#':\n",
    "                break\n",
    "            if l == 'O':\n",
    "                my_platform[row][col] = 'O'\n",
    "                my_platform[r][col] = '.'\n",
    "                break\n",
    "                \n",
    "        \n",
    "    # Tricky, assuming iterating over one row can modify later rows\n",
    "    my_platform = [list(line) for line in platform.splitlines()]\n",
    "    for row, line in enumerate(my_platform):\n",
    "        for col, l in enumerate(line):\n",
    "            if l == '.':\n",
    "                percolate_hole(row, col)\n",
    "    return '\\n'.join(''.join(line) for line in my_platform)\n",
    "\n",
    "print(percolate_rocks_north(part1_example_input))"
   ]
  },
  {
   "cell_type": "code",
   "execution_count": 6,
   "metadata": {},
   "outputs": [
    {
     "data": {
      "text/plain": [
       "136"
      ]
     },
     "execution_count": 6,
     "metadata": {},
     "output_type": "execute_result"
    }
   ],
   "source": [
    "def weigh_platform(platform):\n",
    "    lines = platform.splitlines()\n",
    "    return sum(\n",
    "        sum(w*(l == 'O') for l in line)\n",
    "        for w, line in enumerate(reversed(lines), start=1) \n",
    "        )\n",
    "\n",
    "weigh_platform(percolate_rocks_north(part1_example_input))\n",
    "# weigh_platform(percolate_rocks_north(downloaded['input']))"
   ]
  },
  {
   "cell_type": "code",
   "execution_count": 7,
   "metadata": {
    "scrolled": true
   },
   "outputs": [
    {
     "data": {
      "text/html": [
       "<h2 id=\"part2\">--- Part Two ---</h2><p>The parabolic reflector dish deforms, but not in a way that focuses the beam. To do that, you'll need to move the rocks to the edges of the platform. Fortunately, a button on the side of the control panel labeled \"<em>spin cycle</em>\" attempts to do just that!</p>\n",
       "<p>Each <em>cycle</em> tilts the platform four times so that the rounded rocks roll <em>north</em>, then <em>west</em>, then <em>south</em>, then <em>east</em>. After each tilt, the rounded rocks roll as far as they can before the platform tilts in the next direction. After one cycle, the platform will have finished rolling the rounded rocks in those four directions in that order.</p>\n",
       "<p>Here's what happens in the example above after each of the first few cycles:</p>\n",
       "<pre><code>After 1 cycle:\n",
       ".....#....\n",
       "....#...O#\n",
       "...OO##...\n",
       ".OO#......\n",
       ".....OOO#.\n",
       ".O#...O#.#\n",
       "....O#....\n",
       "......OOOO\n",
       "#...O###..\n",
       "#..OO#....\n",
       "\n",
       "After 2 cycles:\n",
       ".....#....\n",
       "....#...O#\n",
       ".....##...\n",
       "..O#......\n",
       ".....OOO#.\n",
       ".O#...O#.#\n",
       "....O#...O\n",
       ".......OOO\n",
       "#..OO###..\n",
       "#.OOO#...O\n",
       "\n",
       "After 3 cycles:\n",
       ".....#....\n",
       "....#...O#\n",
       ".....##...\n",
       "..O#......\n",
       ".....OOO#.\n",
       ".O#...O#.#\n",
       "....O#...O\n",
       ".......OOO\n",
       "#...O###.O\n",
       "#.OOO#...O\n",
       "</code></pre>\n",
       "<p>This process should work if you leave it running long enough, but you're still worried about the north support beams. To make sure they'll survive for a while, you need to calculate the <em>total load</em> on the north support beams after <code>1000000000</code> cycles.</p>\n",
       "<p>In the above example, after <code>1000000000</code> cycles, the total load on the north support beams is <code><em>64</em></code>.</p>\n",
       "<p>Run the spin cycle for <code>1000000000</code> cycles. Afterward, <em>what is the total load on the north support beams?</em></p>\n"
      ],
      "text/plain": [
       "<IPython.core.display.HTML object>"
      ]
     },
     "execution_count": 7,
     "metadata": {},
     "output_type": "execute_result"
    }
   ],
   "source": [
    "HTML(downloaded['part2'])"
   ]
  }
 ],
 "metadata": {
  "kernelspec": {
   "display_name": "Python 3 (ipykernel)",
   "language": "python",
   "name": "python3"
  },
  "language_info": {
   "codemirror_mode": {
    "name": "ipython",
    "version": 3
   },
   "file_extension": ".py",
   "mimetype": "text/x-python",
   "name": "python",
   "nbconvert_exporter": "python",
   "pygments_lexer": "ipython3",
   "version": "3.12.0"
  },
  "vscode": {
   "interpreter": {
    "hash": "e7370f93d1d0cde622a1f8e1c04877d8463912d04d973331ad4851f04de6915a"
   }
  }
 },
 "nbformat": 4,
 "nbformat_minor": 2
}

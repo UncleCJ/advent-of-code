{
 "cells": [
  {
   "cell_type": "markdown",
   "metadata": {},
   "source": [
    "# Day 22: Sand Slabs\n",
    "\n",
    "[*Advent of Code 2023 day 22*](https://adventofcode.com/2023/day/22) and [*solution megathread*](https://redd.it/18o7014)\n",
    "\n",
    "[![nbviewer](https://raw.githubusercontent.com/jupyter/design/master/logos/Badges/nbviewer_badge.svg)](https://nbviewer.jupyter.org/github/UncleCJ/advent-of-code/blob/cj/2023/22/code.ipynb) [![Binder](https://mybinder.org/badge_logo.svg)](https://mybinder.org/v2/gh/UncleCJ/advent-of-code/cj?filepath=2023%2F22%2Fcode.ipynb)"
   ]
  },
  {
   "cell_type": "code",
   "execution_count": 2,
   "metadata": {},
   "outputs": [],
   "source": [
    "from IPython.display import HTML\n",
    "import sys\n",
    "sys.path.append('../../')\n",
    "\n",
    "\n",
    "# %load_ext nb_mypy\n",
    "# %nb_mypy On"
   ]
  },
  {
   "cell_type": "code",
   "execution_count": 3,
   "metadata": {},
   "outputs": [
    {
     "name": "stdout",
     "output_type": "stream",
     "text": [
      "Writing 'downloaded' (dict) to file 'downloaded'.\n"
     ]
    }
   ],
   "source": [
    "import common\n",
    "\n",
    "\n",
    "downloaded = common.refresh()\n",
    "%store downloaded >downloaded\n",
    "\n",
    "# %load_ext pycodestyle_magic\n",
    "# %pycodestyle_on"
   ]
  },
  {
   "cell_type": "code",
   "execution_count": 4,
   "metadata": {},
   "outputs": [
    {
     "data": {
      "text/html": [
       "<h2>--- Day 22: Sand Slabs ---</h2><p>Enough sand has fallen; it can finally filter water for Snow Island.</p>\n",
       "<p>Well, <em>almost</em>.</p>\n",
       "<p>The sand has been falling as large compacted <em>bricks</em> of sand, piling up to form an impressive stack here near the edge of Island Island. In order to make use of the sand to filter water, some of the bricks will need to be broken apart - nay, <em><span title=\"Disintegrate - X,R&#10;Sorcery&#10;Destroy X target bricks of sand. They cannot be regenerated. Create 32768 0/1 colorless Sand artifact creature tokens for each brick of sand destroyed in this way.\">disintegrated</span></em> - back into freely flowing sand.</p>\n",
       "<p>The stack is tall enough that you'll have to be careful about choosing which bricks to disintegrate; if you disintegrate the wrong brick, large portions of the stack could topple, which sounds pretty dangerous.</p>\n",
       "<p>The Elves responsible for water filtering operations took a <em>snapshot of the bricks while they were still falling</em> (your puzzle input) which should let you work out which bricks are safe to disintegrate. For example:</p>\n",
       "<pre><code>1,0,1~1,2,1\n",
       "0,0,2~2,0,2\n",
       "0,2,3~2,2,3\n",
       "0,0,4~0,2,4\n",
       "2,0,5~2,2,5\n",
       "0,1,6~2,1,6\n",
       "1,1,8~1,1,9\n",
       "</code></pre>\n",
       "<p>Each line of text in the snapshot represents the position of a single brick at the time the snapshot was taken. The position is given as two <code>x,y,z</code> coordinates - one for each end of the brick - separated by a tilde (<code>~</code>). Each brick is made up of a single straight line of cubes, and the Elves were even careful to choose a time for the snapshot that had all of the free-falling bricks at <em>integer positions above the ground</em>, so the whole snapshot is aligned to a three-dimensional cube grid.</p>\n",
       "<p>A line like <code>2,2,2~2,2,2</code> means that both ends of the brick are at the same coordinate - in other words, that the brick is a single cube.</p>\n",
       "<p>Lines like <code>0,0,10~1,0,10</code> or <code>0,0,10~0,1,10</code> both represent bricks that are <em>two cubes</em> in volume, both oriented horizontally. The first brick extends in the <code>x</code> direction, while the second brick extends in the <code>y</code> direction.</p>\n",
       "<p>A line like <code>0,0,1~0,0,10</code> represents a <em>ten-cube brick</em> which is oriented <em>vertically</em>. One end of the brick is the cube located at <code>0,0,1</code>, while the other end of the brick is located directly above it at <code>0,0,10</code>.</p>\n",
       "<p>The ground is at <code>z=0</code> and is perfectly flat; the lowest <code>z</code> value a brick can have is therefore <code>1</code>. So, <code>5,5,1~5,6,1</code> and <code>0,2,1~0,2,5</code> are both resting on the ground, but <code>3,3,2~3,3,3</code> was above the ground at the time of the snapshot.</p>\n",
       "<p>Because the snapshot was taken while the bricks were still falling, some bricks will <em>still be in the air</em>; you'll need to start by figuring out where they will end up. Bricks are magically stabilized, so they <em>never rotate</em>, even in weird situations like where a long horizontal brick is only supported on one end. Two bricks cannot occupy the same position, so a falling brick will come to rest upon the first other brick it encounters.</p>\n",
       "<p>Here is the same example again, this time with each brick given a letter so it can be marked in diagrams:</p>\n",
       "<pre><code>1,0,1~1,2,1   &lt;- A\n",
       "0,0,2~2,0,2   &lt;- B\n",
       "0,2,3~2,2,3   &lt;- C\n",
       "0,0,4~0,2,4   &lt;- D\n",
       "2,0,5~2,2,5   &lt;- E\n",
       "0,1,6~2,1,6   &lt;- F\n",
       "1,1,8~1,1,9   &lt;- G\n",
       "</code></pre>\n",
       "<p>At the time of the snapshot, from the side so the <code>x</code> axis goes left to right, these bricks are arranged like this:</p>\n",
       "<pre><code> x\n",
       "012\n",
       ".G. 9\n",
       ".G. 8\n",
       "... 7\n",
       "FFF 6\n",
       "..E 5 z\n",
       "D.. 4\n",
       "CCC 3\n",
       "BBB 2\n",
       ".A. 1\n",
       "--- 0\n",
       "</code></pre>\n",
       "<p>Rotating the perspective 90 degrees so the <code>y</code> axis now goes left to right, the same bricks are arranged like this:</p>\n",
       "<pre><code> y\n",
       "012\n",
       ".G. 9\n",
       ".G. 8\n",
       "... 7\n",
       ".F. 6\n",
       "EEE 5 z\n",
       "DDD 4\n",
       "..C 3\n",
       "B.. 2\n",
       "AAA 1\n",
       "--- 0\n",
       "</code></pre>\n",
       "<p>Once all of the bricks fall downward as far as they can go, the stack looks like this, where <code>?</code> means bricks are hidden behind other bricks at that location:</p>\n",
       "<pre><code> x\n",
       "012\n",
       ".G. 6\n",
       ".G. 5\n",
       "FFF 4\n",
       "D.E 3 z\n",
       "??? 2\n",
       ".A. 1\n",
       "--- 0\n",
       "</code></pre>\n",
       "<p>Again from the side:</p>\n",
       "<pre><code> y\n",
       "012\n",
       ".G. 6\n",
       ".G. 5\n",
       ".F. 4\n",
       "??? 3 z\n",
       "B.C 2\n",
       "AAA 1\n",
       "--- 0\n",
       "</code></pre>\n",
       "<p>Now that all of the bricks have settled, it becomes easier to tell which bricks are supporting which other bricks:</p>\n",
       "<ul>\n",
       "<li>Brick <code>A</code> is the only brick supporting bricks <code>B</code> and <code>C</code>.</li>\n",
       "<li>Brick <code>B</code> is one of two bricks supporting brick <code>D</code> and brick <code>E</code>.</li>\n",
       "<li>Brick <code>C</code> is the other brick supporting brick <code>D</code> and brick <code>E</code>.</li>\n",
       "<li>Brick <code>D</code> supports brick <code>F</code>.</li>\n",
       "<li>Brick <code>E</code> also supports brick <code>F</code>.</li>\n",
       "<li>Brick <code>F</code> supports brick <code>G</code>.</li>\n",
       "<li>Brick <code>G</code> isn't supporting any bricks.</li>\n",
       "</ul>\n",
       "<p>Your first task is to figure out <em>which bricks are safe to disintegrate</em>. A brick can be safely disintegrated if, after removing it, <em>no other bricks</em> would fall further directly downward. Don't actually disintegrate any bricks - just determine what would happen if, for each brick, only that brick were disintegrated. Bricks can be disintegrated even if they're completely surrounded by other bricks; you can squeeze between bricks if you need to.</p>\n",
       "<p>In this example, the bricks can be disintegrated as follows:</p>\n",
       "<ul>\n",
       "<li>Brick <code>A</code> cannot be disintegrated safely; if it were disintegrated, bricks <code>B</code> and <code>C</code> would both fall.</li>\n",
       "<li>Brick <code>B</code> <em>can</em> be disintegrated; the bricks above it (<code>D</code> and <code>E</code>) would still be supported by brick <code>C</code>.</li>\n",
       "<li>Brick <code>C</code> <em>can</em> be disintegrated; the bricks above it (<code>D</code> and <code>E</code>) would still be supported by brick <code>B</code>.</li>\n",
       "<li>Brick <code>D</code> <em>can</em> be disintegrated; the brick above it (<code>F</code>) would still be supported by brick <code>E</code>.</li>\n",
       "<li>Brick <code>E</code> <em>can</em> be disintegrated; the brick above it (<code>F</code>) would still be supported by brick <code>D</code>.</li>\n",
       "<li>Brick <code>F</code> cannot be disintegrated; the brick above it (<code>G</code>) would fall.</li>\n",
       "<li>Brick <code>G</code> <em>can</em> be disintegrated; it does not support any other bricks.</li>\n",
       "</ul>\n",
       "<p>So, in this example, <code><em>5</em></code> bricks can be safely disintegrated.</p>\n",
       "<p>Figure how the blocks will settle based on the snapshot. Once they've settled, consider disintegrating a single brick; <em>how many bricks could be safely chosen as the one to get disintegrated?</em></p>\n"
      ],
      "text/plain": [
       "<IPython.core.display.HTML object>"
      ]
     },
     "execution_count": 4,
     "metadata": {},
     "output_type": "execute_result"
    }
   ],
   "source": [
    "from IPython.display import HTML\n",
    "\n",
    "HTML(downloaded['part1'])"
   ]
  },
  {
   "cell_type": "code",
   "execution_count": 5,
   "metadata": {},
   "outputs": [],
   "source": [
    "part1_example_input = '''1,0,1~1,2,1\n",
    "0,0,2~2,0,2\n",
    "0,2,3~2,2,3\n",
    "0,0,4~0,2,4\n",
    "2,0,5~2,2,5\n",
    "0,1,6~2,1,6\n",
    "1,1,8~1,1,9'''"
   ]
  },
  {
   "cell_type": "code",
   "execution_count": 34,
   "metadata": {},
   "outputs": [],
   "source": [
    "from enum import Enum\n",
    "from typing import NamedTuple\n",
    "from dataclasses import dataclass\n",
    "\n",
    "\n",
    "class Dimension(Enum):\n",
    "    x = 0\n",
    "    y = 1\n",
    "    z = 2\n",
    "\n",
    "class Coord(NamedTuple):\n",
    "    x: int\n",
    "    y: int\n",
    "    z: int\n",
    "\n",
    "@dataclass\n",
    "class Brick:\n",
    "    # Assume the origin is the lowest of each pair of coordinates by dimension,\n",
    "    # extending in the positive direction\n",
    "    origin: Coord\n",
    "    dim: Dimension\n",
    "    length: int\n",
    "\n",
    "    # def to_coords(self) -> Iterator[Coord]:\n",
    "        # not_dimensions = tuple(dim for dim in Dimension if dim != self.dim)\n",
    "        # for i in range(length):\n",
    "            # yield Coord(self.origin.__get_attribute__(self.dim) + i)\n",
    "            # ...\n",
    "\n",
    "    @staticmethod\n",
    "    def from_str(line: str) -> Brick:\n",
    "        c1_str, c2_str = line.split('~')\n",
    "        c1, c2 = (\n",
    "            Coord(*map(int, c_str.split(',')))\n",
    "            for c_str in [c1_str, c2_str]\n",
    "            )\n",
    "        return Brick.from_endpoints(c1, c2)\n",
    "\n",
    "    @staticmethod\n",
    "    def from_endpoints(c1: Coord, c2: Coord) -> Brick:\n",
    "        for dim in Dimension:\n",
    "            assert c1[dim.value] <= c2[dim.value]\n",
    "            if c1[dim.value] < c2[dim.value]:\n",
    "                return Brick(c1, dim, c2[dim.value] - c1[dim.value] + 1)\n",
    "        else:\n",
    "            return Brick(c1, Dimension.x, 1)\n"
   ]
  },
  {
   "cell_type": "code",
   "execution_count": 35,
   "metadata": {},
   "outputs": [],
   "source": [
    "foo = Coord(1, 2, 3)"
   ]
  },
  {
   "cell_type": "code",
   "execution_count": 41,
   "metadata": {},
   "outputs": [
    {
     "data": {
      "text/plain": [
       "1"
      ]
     },
     "execution_count": 41,
     "metadata": {},
     "output_type": "execute_result"
    }
   ],
   "source": [
    "foo.__getattribute__('x')\n",
    "# dir(foo)\n"
   ]
  },
  {
   "cell_type": "code",
   "execution_count": 44,
   "metadata": {},
   "outputs": [
    {
     "name": "stdout",
     "output_type": "stream",
     "text": [
      "0\n",
      "1\n",
      "1\n",
      "2\n",
      "2\n",
      "3\n"
     ]
    }
   ],
   "source": [
    "for i in Dimension:\n",
    "    print(i.value)\n",
    "    print(foo[i.value])"
   ]
  },
  {
   "cell_type": "code",
   "execution_count": 28,
   "metadata": {},
   "outputs": [
    {
     "name": "stdout",
     "output_type": "stream",
     "text": [
      "1,0,1~1,2,1 Brick(origin=Coord(x=1, y=0, z=1), dim=<Dimension.y: 1>, length=3)\n",
      "0,0,2~2,0,2 Brick(origin=Coord(x=0, y=0, z=2), dim=<Dimension.x: 0>, length=3)\n",
      "0,2,3~2,2,3 Brick(origin=Coord(x=0, y=2, z=3), dim=<Dimension.x: 0>, length=3)\n",
      "0,0,4~0,2,4 Brick(origin=Coord(x=0, y=0, z=4), dim=<Dimension.y: 1>, length=3)\n",
      "2,0,5~2,2,5 Brick(origin=Coord(x=2, y=0, z=5), dim=<Dimension.y: 1>, length=3)\n",
      "0,1,6~2,1,6 Brick(origin=Coord(x=0, y=1, z=6), dim=<Dimension.x: 0>, length=3)\n",
      "1,1,8~1,1,9 Brick(origin=Coord(x=1, y=1, z=8), dim=<Dimension.z: 2>, length=2)\n"
     ]
    }
   ],
   "source": [
    "for line in part1_example_input.splitlines():\n",
    "# for line in downloaded['input'].splitlines():\n",
    "    print(line, Brick.from_str(line))"
   ]
  },
  {
   "cell_type": "code",
   "execution_count": 8,
   "metadata": {
    "scrolled": true
   },
   "outputs": [],
   "source": [
    "# HTML(downloaded['part2'])"
   ]
  }
 ],
 "metadata": {
  "kernelspec": {
   "display_name": "Python 3 (ipykernel)",
   "language": "python",
   "name": "python3"
  },
  "language_info": {
   "codemirror_mode": {
    "name": "ipython",
    "version": 3
   },
   "file_extension": ".py",
   "mimetype": "text/x-python",
   "name": "python",
   "nbconvert_exporter": "python",
   "pygments_lexer": "ipython3",
   "version": "3.12.0"
  },
  "vscode": {
   "interpreter": {
    "hash": "e7370f93d1d0cde622a1f8e1c04877d8463912d04d973331ad4851f04de6915a"
   }
  }
 },
 "nbformat": 4,
 "nbformat_minor": 2
}

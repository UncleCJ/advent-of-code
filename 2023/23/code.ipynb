{
 "cells": [
  {
   "cell_type": "markdown",
   "metadata": {},
   "source": [
    "# Day 23: A Long Walk\n",
    "\n",
    "[*Advent of Code 2023 day 23*](https://adventofcode.com/2023/day/23) and [*solution megathread*](https://redd.it/)\n",
    "\n",
    "[![nbviewer](https://raw.githubusercontent.com/jupyter/design/master/logos/Badges/nbviewer_badge.svg)](https://nbviewer.jupyter.org/github/UncleCJ/advent-of-code/blob/cj/2023/23/code.ipynb) [![Binder](https://mybinder.org/badge_logo.svg)](https://mybinder.org/v2/gh/UncleCJ/advent-of-code/cj?filepath=2023%2F23%2Fcode.ipynb)"
   ]
  },
  {
   "cell_type": "code",
   "execution_count": 1,
   "metadata": {},
   "outputs": [],
   "source": [
    "from IPython.display import HTML\n",
    "import sys\n",
    "sys.path.append('../../')\n",
    "\n",
    "\n",
    "# %load_ext nb_mypy\n",
    "# %nb_mypy On"
   ]
  },
  {
   "cell_type": "code",
   "execution_count": 2,
   "metadata": {},
   "outputs": [
    {
     "name": "stdout",
     "output_type": "stream",
     "text": [
      "Writing 'downloaded' (dict) to file 'downloaded'.\n"
     ]
    }
   ],
   "source": [
    "import common\n",
    "\n",
    "\n",
    "downloaded = common.refresh()\n",
    "%store downloaded >downloaded\n",
    "\n",
    "# %load_ext pycodestyle_magic\n",
    "# %pycodestyle_on"
   ]
  },
  {
   "cell_type": "code",
   "execution_count": 3,
   "metadata": {},
   "outputs": [
    {
     "data": {
      "text/html": [
       "<h2>--- Day 23: A Long Walk ---</h2><p>The Elves resume water filtering operations! Clean water starts flowing over the edge of Island Island.</p>\n",
       "<p>They offer to help <em>you</em> go over the edge of Island Island, too! Just <span title=\"It'll be fiiiiiiiine.\">hold on tight</span> to one end of this impossibly long rope and they'll lower you down a safe distance from the massive waterfall you just created.</p>\n",
       "<p>As you finally reach Snow Island, you see that the water isn't really reaching the ground: it's being <em>absorbed by the air</em> itself. It looks like you'll finally have a little downtime while the moisture builds up to snow-producing levels. Snow Island is pretty scenic, even without any snow; why not take a walk?</p>\n",
       "<p>There's a map of nearby hiking trails (your puzzle input) that indicates <em>paths</em> (<code>.</code>), <em>forest</em> (<code>#</code>), and steep <em>slopes</em> (<code>^</code>, <code>&gt;</code>, <code>v</code>, and <code>&lt;</code>).</p>\n",
       "<p>For example:</p>\n",
       "<pre><code>#.#####################\n",
       "#.......#########...###\n",
       "#######.#########.#.###\n",
       "###.....#.>.>.###.#.###\n",
       "###v#####.#v#.###.#.###\n",
       "###.>...#.#.#.....#...#\n",
       "###v###.#.#.#########.#\n",
       "###...#.#.#.......#...#\n",
       "#####.#.#.#######.#.###\n",
       "#.....#.#.#.......#...#\n",
       "#.#####.#.#.#########v#\n",
       "#.#...#...#...###...>.#\n",
       "#.#.#v#######v###.###v#\n",
       "#...#.>.#...>.>.#.###.#\n",
       "#####v#.#.###v#.#.###.#\n",
       "#.....#...#...#.#.#...#\n",
       "#.#########.###.#.#.###\n",
       "#...###...#...#...#.###\n",
       "###.###.#.###v#####v###\n",
       "#...#...#.#.>.>.#.>.###\n",
       "#.###.###.#.###.#.#v###\n",
       "#.....###...###...#...#\n",
       "#####################.#\n",
       "</code></pre>\n",
       "<p>You're currently on the single path tile in the top row; your goal is to reach the single path tile in the bottom row. Because of all the mist from the waterfall, the slopes are probably quite <em>icy</em>; if you step onto a slope tile, your next step must be <em>downhill</em> (in the direction the arrow is pointing). To make sure you have the most scenic hike possible, <em>never step onto the same tile twice</em>. What is the longest hike you can take?</p>\n",
       "<p>In the example above, the longest hike you can take is marked with <code>O</code>, and your starting position is marked <code>S</code>:</p>\n",
       "<pre><code>#S#####################\n",
       "#OOOOOOO#########...###\n",
       "#######O#########.#.###\n",
       "###OOOOO#OOO>.###.#.###\n",
       "###O#####O#O#.###.#.###\n",
       "###OOOOO#O#O#.....#...#\n",
       "###v###O#O#O#########.#\n",
       "###...#O#O#OOOOOOO#...#\n",
       "#####.#O#O#######O#.###\n",
       "#.....#O#O#OOOOOOO#...#\n",
       "#.#####O#O#O#########v#\n",
       "#.#...#OOO#OOO###OOOOO#\n",
       "#.#.#v#######O###O###O#\n",
       "#...#.>.#...>OOO#O###O#\n",
       "#####v#.#.###v#O#O###O#\n",
       "#.....#...#...#O#O#OOO#\n",
       "#.#########.###O#O#O###\n",
       "#...###...#...#OOO#O###\n",
       "###.###.#.###v#####O###\n",
       "#...#...#.#.>.>.#.>O###\n",
       "#.###.###.#.###.#.#O###\n",
       "#.....###...###...#OOO#\n",
       "#####################O#\n",
       "</code></pre>\n",
       "<p>This hike contains <code><em>94</em></code> steps. (The other possible hikes you could have taken were <code>90</code>, <code>86</code>, <code>82</code>, <code>82</code>, and <code>74</code> steps long.)</p>\n",
       "<p>Find the longest hike you can take through the hiking trails listed on your map. <em>How many steps long is the longest hike?</em></p>\n"
      ],
      "text/plain": [
       "<IPython.core.display.HTML object>"
      ]
     },
     "execution_count": 3,
     "metadata": {},
     "output_type": "execute_result"
    }
   ],
   "source": [
    "from IPython.display import HTML\n",
    "\n",
    "HTML(downloaded['part1'])"
   ]
  },
  {
   "cell_type": "code",
   "execution_count": 17,
   "metadata": {},
   "outputs": [],
   "source": [
    "part1_example_input = '''#.#####################\n",
    "#.......#########...###\n",
    "#######.#########.#.###\n",
    "###.....#.>.>.###.#.###\n",
    "###v#####.#v#.###.#.###\n",
    "###.>...#.#.#.....#...#\n",
    "###v###.#.#.#########.#\n",
    "###...#.#.#.......#...#\n",
    "#####.#.#.#######.#.###\n",
    "#.....#.#.#.......#...#\n",
    "#.#####.#.#.#########v#\n",
    "#.#...#...#...###...>.#\n",
    "#.#.#v#######v###.###v#\n",
    "#...#.>.#...>.>.#.###.#\n",
    "#####v#.#.###v#.#.###.#\n",
    "#.....#...#...#.#.#...#\n",
    "#.#########.###.#.#.###\n",
    "#...###...#...#...#.###\n",
    "###.###.#.###v#####v###\n",
    "#...#...#.#.>.>.#.>.###\n",
    "#.###.###.#.###.#.#v###\n",
    "#.....###...###...#...#\n",
    "#####################.#'''"
   ]
  },
  {
   "cell_type": "code",
   "execution_count": 18,
   "metadata": {},
   "outputs": [],
   "source": [
    "from dataclasses import dataclass\n",
    "from typing import Tuple, List\n",
    "\n",
    "type Coord = Tuple[int, int]\n",
    "\n",
    "@dataclass\n",
    "class Tile:\n",
    "    coord: Coord\n",
    "    type: str\n",
    "    exits: List"
   ]
  },
  {
   "cell_type": "code",
   "execution_count": 28,
   "metadata": {},
   "outputs": [],
   "source": [
    "from typing import Iterator, Dict, Tuple\n",
    "\n",
    "\n",
    "def parse_input(input: Iterator[str]) -> Dict[Coord, Tile]:\n",
    "    def gen_exits(coord: Coord, tile_type: str) \\\n",
    "            -> Iterator[Tuple[Coord, str]]:\n",
    "        row, col = coord\n",
    "        match tile.type:\n",
    "            case '.':\n",
    "                for row_d, col_d, prohibited in [\n",
    "                        (-1, 0, 'v'),\n",
    "                        (0, -1, '>'),\n",
    "                        (0, 1, '<'),\n",
    "                        (1, 0, '^')]:\n",
    "                    yield (row+row_d, col+col_d), prohibited\n",
    "            case '>':\n",
    "                yield (row+0, col+1), '<'\n",
    "            case 'v':\n",
    "                yield (row+1, col+0), '^'\n",
    "            case '<':\n",
    "                yield (row+0, col-1), '>'\n",
    "            case '^':\n",
    "                yield (row-1, col+0), 'v'\n",
    "            case _:\n",
    "                pass\n",
    "\n",
    "    tiles = dict()\n",
    "    for row, line in enumerate(input):\n",
    "        tiles.update({\n",
    "            (row, col): Tile((row, col), t, list()) \n",
    "            for col, t in enumerate(line)\n",
    "            if t != '#'})\n",
    "    \n",
    "    for coord, tile in tiles.items():\n",
    "        for coord_n, prohibited in gen_exits(coord, tile.type):\n",
    "            if coord_n in tiles \\\n",
    "                    and (tile_n := tiles[coord_n]).type != prohibited:\n",
    "                tile.exits.append(tile_n)\n",
    "    return tiles\n",
    "\n",
    "# for tile in parse_input(part1_example_input.splitlines()).values():\n",
    "    # print(tile)\n",
    "tiles = parse_input(part1_example_input.splitlines())"
   ]
  },
  {
   "cell_type": "code",
   "execution_count": 29,
   "metadata": {},
   "outputs": [],
   "source": [
    "def longest_path(\n",
    "        tile: Tile,\n",
    "        path: List[Tuple[Coord, Tile]],\n",
    "        tiles: Dict[Coord, Tile],\n",
    "        goal: Tile) -> List[Tuple[Coord, Tile]]:\n",
    "    if tile == goal:\n",
    "        return []\n",
    "    \n",
    "    pass\n",
    "    \n",
    "def find_longest_path(tiles: Dict[Coord, Tile]) -> List[Tuple[Coord, Tile]]:\n",
    "    def find_start_goal(tiles: Dict[Coord, Tile]) -> Tuple[Tile, Tile]:\n",
    "        tile_start = tiles[(0, 1)]\n",
    "        row_goal = max(coord[0] for coord in tiles.keys())\n",
    "        col_goal = max(coord[1] for coord in tiles.keys())\n",
    "        tile_goal = tiles[(row_goal, col_goal)]\n",
    "        return tile_start, tile_goal\n",
    "    tile_start, tile_goal = find_start_goal(tiles)\n",
    "    return longest_path(tile_start, list(), tiles, tile_goal)\n",
    "        \n",
    "        "
   ]
  },
  {
   "cell_type": "code",
   "execution_count": 8,
   "metadata": {
    "scrolled": true
   },
   "outputs": [],
   "source": [
    "# HTML(downloaded['part2'])"
   ]
  }
 ],
 "metadata": {
  "kernelspec": {
   "display_name": "Python 3 (ipykernel)",
   "language": "python",
   "name": "python3"
  },
  "language_info": {
   "codemirror_mode": {
    "name": "ipython",
    "version": 3
   },
   "file_extension": ".py",
   "mimetype": "text/x-python",
   "name": "python",
   "nbconvert_exporter": "python",
   "pygments_lexer": "ipython3",
   "version": "3.12.0"
  },
  "vscode": {
   "interpreter": {
    "hash": "e7370f93d1d0cde622a1f8e1c04877d8463912d04d973331ad4851f04de6915a"
   }
  }
 },
 "nbformat": 4,
 "nbformat_minor": 2
}

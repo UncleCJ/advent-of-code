{
 "cells": [
  {
   "cell_type": "markdown",
   "metadata": {},
   "source": [
    "# Day 5: If You Give A Seed A Fertilizer\n",
    "\n",
    "[*Advent of Code 2023 day 5*](https://adventofcode.com/2023/day/5) and [*solution megathread*](https://redd.it/18b4b0r)\n",
    "\n",
    "[![nbviewer](https://raw.githubusercontent.com/jupyter/design/master/logos/Badges/nbviewer_badge.svg)](https://nbviewer.jupyter.org/github/UncleCJ/advent-of-code/blob/cj/2023/05/code.ipynb) [![Binder](https://mybinder.org/badge_logo.svg)](https://mybinder.org/v2/gh/UncleCJ/advent-of-code/cj?filepath=2023%2F05%2Fcode.ipynb)"
   ]
  },
  {
   "cell_type": "code",
   "execution_count": 1,
   "metadata": {},
   "outputs": [],
   "source": [
    "from IPython.display import HTML\n",
    "import sys\n",
    "sys.path.append('../../')\n",
    "\n",
    "\n",
    "# %load_ext nb_mypy\n",
    "# %nb_mypy On"
   ]
  },
  {
   "cell_type": "code",
   "execution_count": 2,
   "metadata": {},
   "outputs": [
    {
     "name": "stdout",
     "output_type": "stream",
     "text": [
      "Writing 'downloaded' (dict) to file 'downloaded'.\n"
     ]
    }
   ],
   "source": [
    "import common\n",
    "\n",
    "\n",
    "downloaded = common.refresh()\n",
    "%store downloaded >downloaded\n",
    "\n",
    "# %load_ext pycodestyle_magic\n",
    "# %pycodestyle_on"
   ]
  },
  {
   "cell_type": "code",
   "execution_count": 3,
   "metadata": {},
   "outputs": [
    {
     "data": {
      "text/html": [
       "<h2>--- Day 5: If You Give A Seed A Fertilizer ---</h2><p>You take the boat and find the gardener right where you were told he would be: managing a giant \"garden\" that looks more to you like a farm.</p>\n",
       "<p>\"A water source? Island Island <em>is</em> the water source!\" You point out that Snow Island isn't receiving any water.</p>\n",
       "<p>\"Oh, we had to stop the water because we <em>ran out of sand</em> to <a href=\"https://en.wikipedia.org/wiki/Sand_filter\" target=\"_blank\">filter</a> it with! Can't make snow with dirty water. Don't worry, I'm sure we'll get more sand soon; we only turned off the water a few days... weeks... oh no.\" His face sinks into a look of horrified realization.</p>\n",
       "<p>\"I've been so busy making sure everyone here has food that I completely forgot to check why we stopped getting more sand! There's a ferry leaving soon that is headed over in that direction - it's much faster than your boat. Could you please go check it out?\"</p>\n",
       "<p>You barely have time to agree to this request when he brings up another. \"While you wait for the ferry, maybe you can help us with our <em>food production problem</em>. The latest Island Island <a href=\"https://en.wikipedia.org/wiki/Almanac\" target=\"_blank\">Almanac</a> just arrived and we're having trouble making sense of it.\"</p>\n",
       "<p>The almanac (your puzzle input) lists all of the seeds that need to be planted. It also lists what type of soil to use with each kind of seed, what type of fertilizer to use with each kind of soil, what type of water to use with each kind of fertilizer, and so on. Every type of seed, soil, fertilizer and so on is identified with a number, but numbers are reused by each category - that is, soil <code>123</code> and fertilizer <code>123</code> aren't necessarily related to each other.</p>\n",
       "<p>For example:</p>\n",
       "<pre><code>seeds: 79 14 55 13\n",
       "\n",
       "seed-to-soil map:\n",
       "50 98 2\n",
       "52 50 48\n",
       "\n",
       "soil-to-fertilizer map:\n",
       "0 15 37\n",
       "37 52 2\n",
       "39 0 15\n",
       "\n",
       "fertilizer-to-water map:\n",
       "49 53 8\n",
       "0 11 42\n",
       "42 0 7\n",
       "57 7 4\n",
       "\n",
       "water-to-light map:\n",
       "88 18 7\n",
       "18 25 70\n",
       "\n",
       "light-to-temperature map:\n",
       "45 77 23\n",
       "81 45 19\n",
       "68 64 13\n",
       "\n",
       "temperature-to-humidity map:\n",
       "0 69 1\n",
       "1 0 69\n",
       "\n",
       "humidity-to-location map:\n",
       "60 56 37\n",
       "56 93 4\n",
       "</code></pre>\n",
       "<p>The almanac starts by listing which seeds need to be planted: seeds <code>79</code>, <code>14</code>, <code>55</code>, and <code>13</code>.</p>\n",
       "<p>The rest of the almanac contains a list of <em>maps</em> which describe how to convert numbers from a <em>source category</em> into numbers in a <em>destination category</em>. That is, the section that starts with <code>seed-to-soil map:</code> describes how to convert a <em>seed number</em> (the source) to a <em>soil number</em> (the destination). This lets the gardener and his team know which soil to use with which seeds, which water to use with which fertilizer, and so on.</p>\n",
       "<p>Rather than list every source number and its corresponding destination number one by one, the maps describe entire <em>ranges</em> of numbers that can be converted. Each line within a map contains <span title=\"Don't blame me for the weird order. Blame LXC container.conf UID mappings.\">three numbers</span>: the <em>destination range start</em>, the <em>source range start</em>, and the <em>range length</em>.</p>\n",
       "<p>Consider again the example <code>seed-to-soil map</code>:</p>\n",
       "<pre><code>50 98 2\n",
       "52 50 48\n",
       "</code></pre>\n",
       "<p>The first line has a <em>destination range start</em> of <code>50</code>, a <em>source range start</em> of <code>98</code>, and a <em>range length</em> of <code>2</code>. This line means that the source range starts at <code>98</code> and contains two values: <code>98</code> and <code>99</code>. The destination range is the same length, but it starts at <code>50</code>, so its two values are <code>50</code> and <code>51</code>. With this information, you know that seed number <code>98</code> corresponds to soil number <code>50</code> and that seed number <code>99</code> corresponds to soil number <code>51</code>.</p>\n",
       "<p>The second line means that the source range starts at <code>50</code> and contains <code>48</code> values: <code>50</code>, <code>51</code>, ..., <code>96</code>, <code>97</code>. This corresponds to a destination range starting at <code>52</code> and also containing <code>48</code> values: <code>52</code>, <code>53</code>, ..., <code>98</code>, <code>99</code>. So, seed number <code>53</code> corresponds to soil number <code>55</code>.</p>\n",
       "<p>Any source numbers that <em>aren't mapped</em> correspond to the <em>same</em> destination number. So, seed number <code>10</code> corresponds to soil number <code>10</code>.</p>\n",
       "<p>So, the entire list of seed numbers and their corresponding soil numbers looks like this:</p>\n",
       "<pre><code>seed  soil\n",
       "0     0\n",
       "1     1\n",
       "...   ...\n",
       "48    48\n",
       "49    49\n",
       "50    52\n",
       "51    53\n",
       "...   ...\n",
       "96    98\n",
       "97    99\n",
       "98    50\n",
       "99    51\n",
       "</code></pre>\n",
       "<p>With this map, you can look up the soil number required for each initial seed number:</p>\n",
       "<ul>\n",
       "<li>Seed number <code>79</code> corresponds to soil number <code>81</code>.</li>\n",
       "<li>Seed number <code>14</code> corresponds to soil number <code>14</code>.</li>\n",
       "<li>Seed number <code>55</code> corresponds to soil number <code>57</code>.</li>\n",
       "<li>Seed number <code>13</code> corresponds to soil number <code>13</code>.</li>\n",
       "</ul>\n",
       "<p>The gardener and his team want to get started as soon as possible, so they'd like to know the closest location that needs a seed. Using these maps, find <em>the lowest location number that corresponds to any of the initial seeds</em>. To do this, you'll need to convert each seed number through other categories until you can find its corresponding <em>location number</em>. In this example, the corresponding types are:</p>\n",
       "<ul>\n",
       "<li>Seed <code>79</code>, soil <code>81</code>, fertilizer <code>81</code>, water <code>81</code>, light <code>74</code>, temperature <code>78</code>, humidity <code>78</code>, <em>location <code>82</code></em>.</li>\n",
       "<li>Seed <code>14</code>, soil <code>14</code>, fertilizer <code>53</code>, water <code>49</code>, light <code>42</code>, temperature <code>42</code>, humidity <code>43</code>, <em>location <code>43</code></em>.</li>\n",
       "<li>Seed <code>55</code>, soil <code>57</code>, fertilizer <code>57</code>, water <code>53</code>, light <code>46</code>, temperature <code>82</code>, humidity <code>82</code>, <em>location <code>86</code></em>.</li>\n",
       "<li>Seed <code>13</code>, soil <code>13</code>, fertilizer <code>52</code>, water <code>41</code>, light <code>34</code>, temperature <code>34</code>, humidity <code>35</code>, <em>location <code>35</code></em>.</li>\n",
       "</ul>\n",
       "<p>So, the lowest location number in this example is <code><em>35</em></code>.</p>\n",
       "<p><em>What is the lowest location number that corresponds to any of the initial seed numbers?</em></p>\n"
      ],
      "text/plain": [
       "<IPython.core.display.HTML object>"
      ]
     },
     "execution_count": 3,
     "metadata": {},
     "output_type": "execute_result"
    }
   ],
   "source": [
    "from IPython.display import HTML\n",
    "\n",
    "HTML(downloaded['part1'])"
   ]
  },
  {
   "cell_type": "code",
   "execution_count": 4,
   "metadata": {},
   "outputs": [],
   "source": [
    "example_input = '''seeds: 79 14 55 13\n",
    "\n",
    "seed-to-soil map:\n",
    "50 98 2\n",
    "52 50 48\n",
    "\n",
    "soil-to-fertilizer map:\n",
    "0 15 37\n",
    "37 52 2\n",
    "39 0 15\n",
    "\n",
    "fertilizer-to-water map:\n",
    "49 53 8\n",
    "0 11 42\n",
    "42 0 7\n",
    "57 7 4\n",
    "\n",
    "water-to-light map:\n",
    "88 18 7\n",
    "18 25 70\n",
    "\n",
    "light-to-temperature map:\n",
    "45 77 23\n",
    "81 45 19\n",
    "68 64 13\n",
    "\n",
    "temperature-to-humidity map:\n",
    "0 69 1\n",
    "1 0 69\n",
    "\n",
    "humidity-to-location map:\n",
    "60 56 37\n",
    "56 93 4'''"
   ]
  },
  {
   "cell_type": "code",
   "execution_count": 5,
   "metadata": {},
   "outputs": [],
   "source": [
    "from typing import NamedTuple\n",
    "\n",
    "class MapRange(NamedTuple):\n",
    "    y_start: int\n",
    "    x_start: int\n",
    "    count: int\n",
    "\n",
    "    def x_end(self) -> int:\n",
    "        return self.x_start + self.count - 1"
   ]
  },
  {
   "cell_type": "code",
   "execution_count": 6,
   "metadata": {},
   "outputs": [
    {
     "data": {
      "text/plain": [
       "('water',\n",
       " 'light',\n",
       " (MapRange(y_start=88, x_start=18, count=7),\n",
       "  MapRange(y_start=18, x_start=25, count=70)))"
      ]
     },
     "execution_count": 6,
     "metadata": {},
     "output_type": "execute_result"
    }
   ],
   "source": [
    "from typing import List, Tuple\n",
    "import re\n",
    "from operator import attrgetter\n",
    "\n",
    "def parse_almanac_map(lines: List[str]) -> Tuple[\n",
    "        str,\n",
    "        str,\n",
    "        Tuple[MapRange, ...]\n",
    "        ]:\n",
    "    if m := re.match(\n",
    "            r'^(?P<x_cat>[a-z]+)-to-(?P<y_cat>[a-z]+) map:$',\n",
    "            lines[0]\n",
    "            ):\n",
    "        gd = m.groupdict()\n",
    "        x_cat, y_cat = gd['x_cat'], gd['y_cat'] \n",
    "    ranges = tuple(sorted((\n",
    "        MapRange(*map(int, line.split()))\n",
    "        for line\n",
    "        in lines[1:]\n",
    "        ),\n",
    "        key=attrgetter('x_start')))\n",
    "    return x_cat, y_cat, ranges\n",
    "\n",
    "parse_almanac_map('''water-to-light map:\n",
    "88 18 7\n",
    "18 25 70'''.splitlines())"
   ]
  },
  {
   "cell_type": "code",
   "execution_count": 7,
   "metadata": {},
   "outputs": [
    {
     "name": "stdout",
     "output_type": "stream",
     "text": [
      "seeds=(79, 14, 55, 13),\n",
      " categories=('water', 'light', 'humidity', 'temperature', 'location', 'fertilizer', 'seed', 'soil'),\n",
      " maps=((MapRange(y_start=52, x_start=50, count=48), MapRange(y_start=50, x_start=98, count=2)), (MapRange(y_start=39, x_start=0, count=15), MapRange(y_start=0, x_start=15, count=37), MapRange(y_start=37, x_start=52, count=2)), (MapRange(y_start=42, x_start=0, count=7), MapRange(y_start=57, x_start=7, count=4), MapRange(y_start=0, x_start=11, count=42), MapRange(y_start=49, x_start=53, count=8)), (MapRange(y_start=88, x_start=18, count=7), MapRange(y_start=18, x_start=25, count=70)), (MapRange(y_start=81, x_start=45, count=19), MapRange(y_start=68, x_start=64, count=13), MapRange(y_start=45, x_start=77, count=23)), (MapRange(y_start=1, x_start=0, count=69), MapRange(y_start=0, x_start=69, count=1)), (MapRange(y_start=60, x_start=56, count=37), MapRange(y_start=56, x_start=93, count=4)))\n"
     ]
    }
   ],
   "source": [
    "from typing import Iterable\n",
    "from itertools import chain\n",
    "\n",
    "def parse_input(lines: List[str]) -> Tuple[\n",
    "        Tuple[int, ...],\n",
    "        Tuple[str, ...],\n",
    "        Tuple[Tuple[MapRange, ...], ...]\n",
    "        ]:\n",
    "    def split_blank_lines(lines: List[str]) -> Iterable[Iterable[str]]:\n",
    "        blanklines = [\n",
    "            row\n",
    "            for row, line\n",
    "            in enumerate(lines)\n",
    "            if line == ''\n",
    "            ]\n",
    "        for start_row, stop_row in zip(\n",
    "                map(\n",
    "                    lambda r: r + 1,\n",
    "                    [-1] + blanklines\n",
    "                    ),\n",
    "                blanklines + [len(lines)]):\n",
    "            yield lines[start_row:stop_row]\n",
    "\n",
    "    seeds = tuple(map(int, re.findall(r'\\d+', lines[0])))\n",
    "    almanac_maps = {\n",
    "        (source_cat, dest_cat): ranges\n",
    "        for source_cat, dest_cat, ranges\n",
    "        in map(\n",
    "            parse_almanac_map,\n",
    "            split_blank_lines(lines[2:])\n",
    "            )\n",
    "    }\n",
    "    categories = tuple(set(chain(*almanac_maps.keys())))\n",
    "    return seeds, categories, tuple(almanac_maps.values())\n",
    "\n",
    "seeds, categories, maps = parse_input(example_input.splitlines())\n",
    "print(f'{seeds=},\\n {categories=},\\n {maps=}')"
   ]
  },
  {
   "cell_type": "code",
   "execution_count": 8,
   "metadata": {},
   "outputs": [
    {
     "data": {
      "text/plain": [
       "81"
      ]
     },
     "execution_count": 8,
     "metadata": {},
     "output_type": "execute_result"
    }
   ],
   "source": [
    "def apply_almanac_map(x: int, almanac_map: Tuple[MapRange, ...]) -> int:\n",
    "    for map_range in almanac_map:\n",
    "        if map_range.x_start <= x <= map_range.x_end():\n",
    "            return map_range.y_start + (x - map_range.x_start)\n",
    "    else:\n",
    "        return x\n",
    "\n",
    "apply_almanac_map(79, maps[0])"
   ]
  },
  {
   "cell_type": "code",
   "execution_count": 9,
   "metadata": {},
   "outputs": [
    {
     "data": {
      "text/plain": [
       "{'water': 79,\n",
       " 'light': 81,\n",
       " 'humidity': 81,\n",
       " 'temperature': 81,\n",
       " 'location': 74,\n",
       " 'fertilizer': 78,\n",
       " 'seed': 78,\n",
       " 'soil': 82}"
      ]
     },
     "execution_count": 9,
     "metadata": {},
     "output_type": "execute_result"
    }
   ],
   "source": [
    "from typing import Dict\n",
    "from itertools import accumulate\n",
    "\n",
    "def apply_almanac_maps(\n",
    "        categories: Tuple[str, ...],\n",
    "        maps: Tuple[MapRange, ...],\n",
    "        x: int\n",
    "        ) -> Dict[str, int]:\n",
    "    return {\n",
    "        category: y\n",
    "        for category, y\n",
    "        in zip(\n",
    "            categories,\n",
    "            accumulate(maps, func=apply_almanac_map, initial=x)\n",
    "            )\n",
    "        }\n",
    "\n",
    "apply_almanac_maps(categories, maps, 79)"
   ]
  },
  {
   "cell_type": "code",
   "execution_count": 10,
   "metadata": {},
   "outputs": [
    {
     "name": "stdout",
     "output_type": "stream",
     "text": [
      "[\n",
      "\t(MapRange(y_start=52, x_start=50, count=48), MapRange(y_start=50, x_start=98, count=2)),\n",
      "\t(MapRange(y_start=39, x_start=0, count=15), MapRange(y_start=0, x_start=15, count=37), MapRange(y_start=37, x_start=52, count=2)),\n",
      "\t(MapRange(y_start=42, x_start=0, count=7), MapRange(y_start=57, x_start=7, count=4), MapRange(y_start=0, x_start=11, count=42), MapRange(y_start=49, x_start=53, count=8)),\n",
      "\t(MapRange(y_start=88, x_start=18, count=7), MapRange(y_start=18, x_start=25, count=70)),\n",
      "\t(MapRange(y_start=81, x_start=45, count=19), MapRange(y_start=68, x_start=64, count=13), MapRange(y_start=45, x_start=77, count=23)),\n",
      "\t(MapRange(y_start=1, x_start=0, count=69), MapRange(y_start=0, x_start=69, count=1)),\n",
      "\t(MapRange(y_start=60, x_start=56, count=37), MapRange(y_start=56, x_start=93, count=4))\n",
      "]\n"
     ]
    }
   ],
   "source": [
    "def str_list(ls: List) -> str:\n",
    "    return '[\\n\\t' + ',\\n\\t'.join(str(l) for l in ls) + '\\n]'\n",
    "\n",
    "print(str_list(maps))"
   ]
  },
  {
   "cell_type": "code",
   "execution_count": 11,
   "metadata": {},
   "outputs": [
    {
     "name": "stdout",
     "output_type": "stream",
     "text": [
      "[\n",
      "\t{'water': 79, 'light': 81, 'humidity': 81, 'temperature': 81, 'location': 74, 'fertilizer': 78, 'seed': 78, 'soil': 82},\n",
      "\t{'water': 14, 'light': 14, 'humidity': 53, 'temperature': 49, 'location': 42, 'fertilizer': 42, 'seed': 43, 'soil': 43},\n",
      "\t{'water': 55, 'light': 57, 'humidity': 57, 'temperature': 53, 'location': 46, 'fertilizer': 82, 'seed': 82, 'soil': 86},\n",
      "\t{'water': 13, 'light': 13, 'humidity': 52, 'temperature': 41, 'location': 34, 'fertilizer': 34, 'seed': 35, 'soil': 35}\n",
      "]\n",
      "34\n"
     ]
    }
   ],
   "source": [
    "from functools import partial\n",
    "\n",
    "seeds, categories, maps = parse_input(example_input.splitlines())\n",
    "# seeds, categories, maps = parse_input(downloaded['input'].splitlines())\n",
    "results = list(map(\n",
    "    partial(apply_almanac_maps, categories, maps), \n",
    "    seeds\n",
    "    ))\n",
    "print(str_list(results))\n",
    "print(min(r['location'] for r in results))"
   ]
  },
  {
   "cell_type": "code",
   "execution_count": 12,
   "metadata": {
    "scrolled": true
   },
   "outputs": [
    {
     "data": {
      "text/html": [
       "<h2 id=\"part2\">--- Part Two ---</h2><p>Everyone will starve if you only plant such a small number of seeds. Re-reading the almanac, it looks like the <code>seeds:</code> line actually describes <em>ranges of seed numbers</em>.</p>\n",
       "<p>The values on the initial <code>seeds:</code> line come in pairs. Within each pair, the first value is the <em>start</em> of the range and the second value is the <em>length</em> of the range. So, in the first line of the example above:</p>\n",
       "<pre><code>seeds: 79 14 55 13</code></pre>\n",
       "<p>This line describes two ranges of seed numbers to be planted in the garden. The first range starts with seed number <code>79</code> and contains <code>14</code> values: <code>79</code>, <code>80</code>, ..., <code>91</code>, <code>92</code>. The second range starts with seed number <code>55</code> and contains <code>13</code> values: <code>55</code>, <code>56</code>, ..., <code>66</code>, <code>67</code>.</p>\n",
       "<p>Now, rather than considering four seed numbers, you need to consider a total of <em>27</em> seed numbers.</p>\n",
       "<p>In the above example, the lowest location number can be obtained from seed number <code>82</code>, which corresponds to soil <code>84</code>, fertilizer <code>84</code>, water <code>84</code>, light <code>77</code>, temperature <code>45</code>, humidity <code>46</code>, and <em>location <code>46</code></em>. So, the lowest location number is <code><em>46</em></code>.</p>\n",
       "<p>Consider all of the initial seed numbers listed in the ranges on the first line of the almanac. <em>What is the lowest location number that corresponds to any of the initial seed numbers?</em></p>\n"
      ],
      "text/plain": [
       "<IPython.core.display.HTML object>"
      ]
     },
     "execution_count": 12,
     "metadata": {},
     "output_type": "execute_result"
    }
   ],
   "source": [
    "HTML(downloaded['part2'])"
   ]
  },
  {
   "cell_type": "code",
   "execution_count": 13,
   "metadata": {},
   "outputs": [
    {
     "name": "stdout",
     "output_type": "stream",
     "text": [
      "(79, 14, 55, 13)\n"
     ]
    }
   ],
   "source": [
    "print(seeds)"
   ]
  },
  {
   "cell_type": "code",
   "execution_count": 14,
   "metadata": {},
   "outputs": [
    {
     "name": "stdout",
     "output_type": "stream",
     "text": [
      "[\n",
      "\t(79, 14),\n",
      "\t(55, 13)\n",
      "]\n"
     ]
    }
   ],
   "source": [
    "seedranges = [(seeds[2*i], seeds[2*i+1]) for i in range(len(seeds)//2)]\n",
    "print(str_list(seedranges))"
   ]
  },
  {
   "cell_type": "code",
   "execution_count": 15,
   "metadata": {},
   "outputs": [
    {
     "data": {
      "text/plain": [
       "MapRange(y_start=50, x_start=75, count=10)"
      ]
     },
     "execution_count": 15,
     "metadata": {},
     "output_type": "execute_result"
    }
   ],
   "source": [
    "from typing import Optional\n",
    "\n",
    "\n",
    "def apply_maprange_to_range(current_range: MapRange, x_start: int, x_count: int) -> MapRange:\n",
    "    x_end = x_start + x_count - 1\n",
    "    if x_start < current_range.x_start:\n",
    "        if x_end <= current_range.x_end():\n",
    "            return MapRange(\n",
    "                current_range.y_start,\n",
    "                current_range.x_start,\n",
    "                x_end - current_range.x_start + 1\n",
    "                )\n",
    "        else:  # x_end >= current_range.x_end()\n",
    "            return current_range\n",
    "    else:  # x_start >= current_range.x_start\n",
    "        if x_end <= current_range.x_end():\n",
    "            return MapRange(\n",
    "                (x_start - current_range.x_start) + current_range.y_start,\n",
    "                x_start,\n",
    "                x_count\n",
    "                )\n",
    "        else:  # x_end >= current_range.x_end()\n",
    "            return MapRange(\n",
    "                (x_start - current_range.x_start) + current_range.y_start,\n",
    "                x_start,\n",
    "                current_range.count - (x_start - current_range.x_start)\n",
    "                )\n",
    "   \n",
    "\t# Tuple(MapRange(y_start=50, x_start=98, count=2), MapRange(y_start=52, x_start=50, count=48))\n",
    "\n",
    "apply_maprange_to_range(\n",
    "    MapRange(50, 75, 10),\n",
    "    70,\n",
    "    18)"
   ]
  },
  {
   "cell_type": "code",
   "execution_count": 16,
   "metadata": {},
   "outputs": [
    {
     "name": "stdout",
     "output_type": "stream",
     "text": [
      "(MapRange(y_start=42, x_start=0, count=7), MapRange(y_start=57, x_start=7, count=4), MapRange(y_start=0, x_start=11, count=42), MapRange(y_start=49, x_start=53, count=8))\n",
      "[(79, 14), (55, 13)]\n"
     ]
    },
    {
     "data": {
      "text/plain": [
       "[MapRange(y_start=51, x_start=55, count=6),\n",
       " MapRange(y_start=61, x_start=61, count=7)]"
      ]
     },
     "execution_count": 16,
     "metadata": {},
     "output_type": "execute_result"
    }
   ],
   "source": [
    "from typing import Iterator\n",
    "\n",
    "def apply_map_to_range(\n",
    "        almanac_map: Tuple[MapRange, ...],\n",
    "        x_start: int,\n",
    "        x_count: int) -> Iterator[MapRange]:\n",
    "    # print(f\"{almanac_map=}, {x_start=}, {x_count=}\")\n",
    "    x_end = x_start + x_count - 1\n",
    "    acc_start = x_start\n",
    "    # Assume the maps are sorted but may or may not overlap with x_end\n",
    "    for map_range in almanac_map:\n",
    "        # print(f\"{map_range=}, {acc_start=}, {x_end=}\")\n",
    "        if x_start <= map_range.x_end() and x_end >= map_range.x_start:\n",
    "            if acc_start < map_range.x_start:\n",
    "                yield MapRange(acc_start, acc_start, map_range.x_start - acc_start)\n",
    "            yield apply_maprange_to_range(map_range, x_start, x_count)\n",
    "            if map_range.x_end() >= x_end:\n",
    "                break\n",
    "            if x_end > map_range.x_end():\n",
    "                acc_start = map_range.x_end() + 1\n",
    "    else:\n",
    "        yield MapRange(acc_start, acc_start, x_end - acc_start + 1)\n",
    "\n",
    "print(maps[2])\n",
    "print(seedranges)\n",
    "list(apply_map_to_range(maps[2], *seedranges[1]))"
   ]
  },
  {
   "cell_type": "code",
   "execution_count": 17,
   "metadata": {},
   "outputs": [
    {
     "data": {
      "text/plain": [
       "(MapRange(y_start=51, x_start=55, count=6),\n",
       " MapRange(y_start=61, x_start=61, count=7),\n",
       " MapRange(y_start=79, x_start=79, count=14))"
      ]
     },
     "execution_count": 17,
     "metadata": {},
     "output_type": "execute_result"
    }
   ],
   "source": [
    "def apply_map_to_map(\n",
    "        almanac_map: Tuple[MapRange, ...],\n",
    "        x_map: Tuple[MapRange, ...]) -> Tuple[MapRange, ...]:\n",
    "    return tuple(\n",
    "        sorted(\n",
    "            chain(*(\n",
    "                apply_map_to_range(almanac_map, y_start, count)\n",
    "                for y_start, _, count\n",
    "                in x_map\n",
    "                )),\n",
    "            key=attrgetter('x_start')\n",
    "            )\n",
    "        )\n",
    "\n",
    "apply_map_to_map(maps[2], tuple([MapRange(seedranges[0][0], seedranges[0][0], seedranges[0][1]), MapRange(seedranges[1][0], seedranges[1][0], seedranges[1][1])]))"
   ]
  },
  {
   "cell_type": "code",
   "execution_count": 18,
   "metadata": {},
   "outputs": [
    {
     "data": {
      "text/plain": [
       "{'water': (MapRange(y_start=79, x_start=79, count=14),),\n",
       " 'light': (MapRange(y_start=50, x_start=50, count=2),\n",
       "  MapRange(y_start=52, x_start=52, count=27),\n",
       "  MapRange(y_start=79, x_start=79, count=14),\n",
       "  MapRange(y_start=93, x_start=93, count=7)),\n",
       " 'humidity': (MapRange(y_start=0, x_start=0, count=37),\n",
       "  MapRange(y_start=37, x_start=37, count=2),\n",
       "  MapRange(y_start=39, x_start=39, count=11),\n",
       "  MapRange(y_start=50, x_start=50, count=2),\n",
       "  MapRange(y_start=52, x_start=52, count=2)),\n",
       " 'temperature': (MapRange(y_start=0, x_start=0, count=37),\n",
       "  MapRange(y_start=37, x_start=37, count=2),\n",
       "  MapRange(y_start=39, x_start=39, count=3),\n",
       "  MapRange(y_start=42, x_start=42, count=7),\n",
       "  MapRange(y_start=49, x_start=49, count=1),\n",
       "  MapRange(y_start=50, x_start=50, count=2),\n",
       "  MapRange(y_start=52, x_start=52, count=2),\n",
       "  MapRange(y_start=54, x_start=54, count=3),\n",
       "  MapRange(y_start=57, x_start=57, count=4)),\n",
       " 'location': (MapRange(y_start=18, x_start=18, count=19),\n",
       "  MapRange(y_start=37, x_start=37, count=2),\n",
       "  MapRange(y_start=39, x_start=39, count=3),\n",
       "  MapRange(y_start=42, x_start=42, count=7),\n",
       "  MapRange(y_start=49, x_start=49, count=1),\n",
       "  MapRange(y_start=50, x_start=50, count=2),\n",
       "  MapRange(y_start=52, x_start=52, count=2),\n",
       "  MapRange(y_start=54, x_start=54, count=3),\n",
       "  MapRange(y_start=57, x_start=57, count=4),\n",
       "  MapRange(y_start=61, x_start=61, count=27),\n",
       "  MapRange(y_start=88, x_start=88, count=7)),\n",
       " 'fertilizer': (MapRange(y_start=45, x_start=45, count=4),\n",
       "  MapRange(y_start=49, x_start=49, count=1),\n",
       "  MapRange(y_start=50, x_start=50, count=2),\n",
       "  MapRange(y_start=52, x_start=52, count=2),\n",
       "  MapRange(y_start=54, x_start=54, count=3),\n",
       "  MapRange(y_start=57, x_start=57, count=4),\n",
       "  MapRange(y_start=61, x_start=61, count=7),\n",
       "  MapRange(y_start=68, x_start=68, count=13),\n",
       "  MapRange(y_start=81, x_start=81, count=7),\n",
       "  MapRange(y_start=88, x_start=88, count=7),\n",
       "  MapRange(y_start=95, x_start=95, count=5)),\n",
       " 'seed': (MapRange(y_start=0, x_start=0, count=1),\n",
       "  MapRange(y_start=1, x_start=1, count=44),\n",
       "  MapRange(y_start=45, x_start=45, count=4),\n",
       "  MapRange(y_start=49, x_start=49, count=1),\n",
       "  MapRange(y_start=50, x_start=50, count=2),\n",
       "  MapRange(y_start=52, x_start=52, count=2),\n",
       "  MapRange(y_start=54, x_start=54, count=3),\n",
       "  MapRange(y_start=57, x_start=57, count=4),\n",
       "  MapRange(y_start=61, x_start=61, count=7),\n",
       "  MapRange(y_start=68, x_start=68, count=2)),\n",
       " 'soil': (MapRange(y_start=56, x_start=56, count=1),\n",
       "  MapRange(y_start=57, x_start=57, count=3),\n",
       "  MapRange(y_start=60, x_start=60, count=1),\n",
       "  MapRange(y_start=61, x_start=61, count=7),\n",
       "  MapRange(y_start=68, x_start=68, count=2),\n",
       "  MapRange(y_start=70, x_start=70, count=27))}"
      ]
     },
     "execution_count": 18,
     "metadata": {},
     "output_type": "execute_result"
    }
   ],
   "source": [
    "def apply_maps_to_range(\n",
    "        categories: Tuple[str, ...],\n",
    "        maps: Tuple[MapRange, ...],\n",
    "        x_start: int,\n",
    "        x_count: int\n",
    "        ):\n",
    "    return {\n",
    "        category: y\n",
    "        for category, y\n",
    "        in zip(\n",
    "            categories,\n",
    "            accumulate(maps, func=apply_map_to_map, initial=(MapRange(x_start, x_start, x_count),))\n",
    "            )\n",
    "        }\n",
    "\n",
    "apply_maps_to_range(categories, maps, seedranges[0][0], seedranges[0][1])"
   ]
  }
 ],
 "metadata": {
  "kernelspec": {
   "display_name": "Python 3 (ipykernel)",
   "language": "python",
   "name": "python3"
  },
  "language_info": {
   "codemirror_mode": {
    "name": "ipython",
    "version": 3
   },
   "file_extension": ".py",
   "mimetype": "text/x-python",
   "name": "python",
   "nbconvert_exporter": "python",
   "pygments_lexer": "ipython3",
   "version": "3.12.1"
  },
  "vscode": {
   "interpreter": {
    "hash": "e7370f93d1d0cde622a1f8e1c04877d8463912d04d973331ad4851f04de6915a"
   }
  }
 },
 "nbformat": 4,
 "nbformat_minor": 2
}

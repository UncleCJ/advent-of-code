{
 "cells": [
  {
   "cell_type": "markdown",
   "metadata": {},
   "source": [
    "# Day 7: Camel Cards\n",
    "\n",
    "[*Advent of Code 2023 day 7*](https://adventofcode.com/2023/day/7) and [*solution megathread*](https://redd.it/18cnzbm)\n",
    "\n",
    "[![nbviewer](https://raw.githubusercontent.com/jupyter/design/master/logos/Badges/nbviewer_badge.svg)](https://nbviewer.jupyter.org/github/UncleCJ/advent-of-code/blob/cj/2023/07/code.ipynb) [![Binder](https://mybinder.org/badge_logo.svg)](https://mybinder.org/v2/gh/UncleCJ/advent-of-code/cj?filepath=2023%2F07%2Fcode.ipynb)"
   ]
  },
  {
   "cell_type": "code",
   "execution_count": 1,
   "metadata": {},
   "outputs": [],
   "source": [
    "from IPython.display import HTML\n",
    "import sys\n",
    "sys.path.append('../../')\n",
    "\n",
    "\n",
    "# %load_ext nb_mypy\n",
    "# %nb_mypy On"
   ]
  },
  {
   "cell_type": "code",
   "execution_count": 2,
   "metadata": {},
   "outputs": [
    {
     "name": "stdout",
     "output_type": "stream",
     "text": [
      "Writing 'downloaded' (dict) to file 'downloaded'.\n"
     ]
    }
   ],
   "source": [
    "import common\n",
    "\n",
    "\n",
    "downloaded = common.refresh()\n",
    "%store downloaded >downloaded\n",
    "\n",
    "# %load_ext pycodestyle_magic\n",
    "# %pycodestyle_on"
   ]
  },
  {
   "cell_type": "code",
   "execution_count": 3,
   "metadata": {},
   "outputs": [
    {
     "data": {
      "text/html": [
       "<h2>--- Day 7: Camel Cards ---</h2><p>Your all-expenses-paid trip turns out to be a one-way, five-minute ride in an <a href=\"https://en.wikipedia.org/wiki/Airship\" target=\"_blank\">airship</a>. (At least it's a <span title=\"Please only read this sentence while listening to 'The Airship Blackjack' from the Final Fantasy 6 soundtrack.\"><em>cool</em> airship</span>!) It drops you off at the edge of a vast desert and descends back to Island Island.</p>\n",
       "<p>\"Did you bring the parts?\"</p>\n",
       "<p>You turn around to see an Elf completely covered in white clothing, wearing goggles, and riding a large <a href=\"https://en.wikipedia.org/wiki/Dromedary\" target=\"_blank\">camel</a>.</p>\n",
       "<p>\"Did you bring the parts?\" she asks again, louder this time. You aren't sure what parts she's looking for; you're here to figure out why the sand stopped.</p>\n",
       "<p>\"The parts! For the sand, yes! Come with me; I will show you.\" She beckons you onto the camel.</p>\n",
       "<p>After riding a bit across the sands of Desert Island, you can see what look like very large rocks covering half of the horizon. The Elf explains that the rocks are all along the part of Desert Island that is directly above Island Island, making it hard to even get there. Normally, they use big machines to move the rocks and filter the sand, but the machines have broken down because Desert Island recently stopped receiving the <em>parts</em> they need to fix the machines.</p>\n",
       "<p>You've already assumed it'll be your job to figure out why the parts stopped when she asks if you can help. You agree automatically.</p>\n",
       "<p>Because the journey will take a few days, she offers to teach you the game of <em>Camel Cards</em>. Camel Cards is sort of similar to <a href=\"https://en.wikipedia.org/wiki/List_of_poker_hands\" target=\"_blank\">poker</a> except it's designed to be easier to play while riding a camel.</p>\n",
       "<p>In Camel Cards, you get a list of <em>hands</em>, and your goal is to order them based on the <em>strength</em> of each hand. A hand consists of <em>five cards</em> labeled one of <code>A</code>, <code>K</code>, <code>Q</code>, <code>J</code>, <code>T</code>, <code>9</code>, <code>8</code>, <code>7</code>, <code>6</code>, <code>5</code>, <code>4</code>, <code>3</code>, or <code>2</code>. The relative strength of each card follows this order, where <code>A</code> is the highest and <code>2</code> is the lowest.</p>\n",
       "<p>Every hand is exactly one <em>type</em>. From strongest to weakest, they are:</p>\n",
       "<ul>\n",
       "<li><em>Five of a kind</em>, where all five cards have the same label: <code>AAAAA</code></li>\n",
       "<li><em>Four of a kind</em>, where four cards have the same label and one card has a different label: <code>AA8AA</code></li>\n",
       "<li><em>Full house</em>, where three cards have the same label, and the remaining two cards share a different label: <code>23332</code></li>\n",
       "<li><em>Three of a kind</em>, where three cards have the same label, and the remaining two cards are each different from any other card in the hand: <code>TTT98</code></li>\n",
       "<li><em>Two pair</em>, where two cards share one label, two other cards share a second label, and the remaining card has a third label: <code>23432</code></li>\n",
       "<li><em>One pair</em>, where two cards share one label, and the other three cards have a different label from the pair and each other: <code>A23A4</code></li>\n",
       "<li><em>High card</em>, where all cards' labels are distinct: <code>23456</code></li>\n",
       "</ul>\n",
       "<p>Hands are primarily ordered based on type; for example, every <em>full house</em> is stronger than any <em>three of a kind</em>.</p>\n",
       "<p>If two hands have the same type, a second ordering rule takes effect. Start by comparing the <em>first card in each hand</em>. If these cards are different, the hand with the stronger first card is considered stronger. If the first card in each hand have the <em>same label</em>, however, then move on to considering the <em>second card in each hand</em>. If they differ, the hand with the higher second card wins; otherwise, continue with the third card in each hand, then the fourth, then the fifth.</p>\n",
       "<p>So, <code>33332</code> and <code>2AAAA</code> are both <em>four of a kind</em> hands, but <code>33332</code> is stronger because its first card is stronger. Similarly, <code>77888</code> and <code>77788</code> are both a <em>full house</em>, but <code>77888</code> is stronger because its third card is stronger (and both hands have the same first and second card).</p>\n",
       "<p>To play Camel Cards, you are given a list of hands and their corresponding <em>bid</em> (your puzzle input). For example:</p>\n",
       "<pre><code>32T3K 765\n",
       "T55J5 684\n",
       "KK677 28\n",
       "KTJJT 220\n",
       "QQQJA 483\n",
       "</code></pre>\n",
       "<p>This example shows five hands; each hand is followed by its <em>bid</em> amount. Each hand wins an amount equal to its bid multiplied by its <em>rank</em>, where the weakest hand gets rank 1, the second-weakest hand gets rank 2, and so on up to the strongest hand. Because there are five hands in this example, the strongest hand will have rank 5 and its bid will be multiplied by 5.</p>\n",
       "<p>So, the first step is to put the hands in order of strength:</p>\n",
       "<ul>\n",
       "<li><code>32T3K</code> is the only <em>one pair</em> and the other hands are all a stronger type, so it gets rank <em>1</em>.</li>\n",
       "<li><code>KK677</code> and <code>KTJJT</code> are both <em>two pair</em>. Their first cards both have the same label, but the second card of <code>KK677</code> is stronger (<code>K</code> vs <code>T</code>), so <code>KTJJT</code> gets rank <em>2</em> and <code>KK677</code> gets rank <em>3</em>.</li>\n",
       "<li><code>T55J5</code> and <code>QQQJA</code> are both <em>three of a kind</em>. <code>QQQJA</code> has a stronger first card, so it gets rank <em>5</em> and <code>T55J5</code> gets rank <em>4</em>.</li>\n",
       "</ul>\n",
       "<p>Now, you can determine the total winnings of this set of hands by adding up the result of multiplying each hand's bid with its rank (<code>765</code> * 1 + <code>220</code> * 2 + <code>28</code> * 3 + <code>684</code> * 4 + <code>483</code> * 5). So the <em>total winnings</em> in this example are <code><em>6440</em></code>.</p>\n",
       "<p>Find the rank of every hand in your set. <em>What are the total winnings?</em></p>\n"
      ],
      "text/plain": [
       "<IPython.core.display.HTML object>"
      ]
     },
     "execution_count": 3,
     "metadata": {},
     "output_type": "execute_result"
    }
   ],
   "source": [
    "from IPython.display import HTML\n",
    "\n",
    "HTML(downloaded['part1'])"
   ]
  },
  {
   "cell_type": "code",
   "execution_count": 4,
   "metadata": {},
   "outputs": [],
   "source": [
    "example_input = '''32T3K 765\n",
    "T55J5 684\n",
    "KK677 28\n",
    "KTJJT 220\n",
    "QQQJA 483'''"
   ]
  },
  {
   "cell_type": "code",
   "execution_count": 5,
   "metadata": {},
   "outputs": [],
   "source": [
    "from typing import List\n",
    "\n",
    "\n",
    "def str_list(ls: List) -> str:\n",
    "    return '[\\n\\t' + ',\\n\\t'.join(str(l) for l in ls) + '\\n]'"
   ]
  },
  {
   "cell_type": "code",
   "execution_count": 6,
   "metadata": {},
   "outputs": [
    {
     "name": "stdout",
     "output_type": "stream",
     "text": [
      "identify_hand('24Q5A')='High card'\n",
      "identify_hand('24QQA')='One pair'\n",
      "identify_hand('222QA')='Three of a kind'\n",
      "identify_hand('22QQA')='Two pair'\n",
      "identify_hand('AAQQA')='Full house'\n",
      "identify_hand('24444')='Four of a kind'\n",
      "identify_hand('22222')='Five of a kind'\n"
     ]
    }
   ],
   "source": [
    "from collections import Counter\n",
    "\n",
    "\n",
    "def identify_hand(hand):\n",
    "    counter = Counter(hand)\n",
    "    if 5 in counter.values():\n",
    "        return 'Five of a kind'\n",
    "    elif 4 in counter.values():\n",
    "        return 'Four of a kind'\n",
    "    elif 3 in counter.values() and 2 in counter.values():\n",
    "        return 'Full house'\n",
    "    elif 3 in counter.values():\n",
    "        return 'Three of a kind'\n",
    "    elif Counter(counter.values())[2] == 2:\n",
    "        return 'Two pair'\n",
    "    elif 2 in counter.values():\n",
    "        return 'One pair'\n",
    "    else:\n",
    "        return 'High card'\n",
    "\n",
    "print(f\"{identify_hand('24Q5A')=}\")\n",
    "print(f\"{identify_hand('24QQA')=}\")\n",
    "print(f\"{identify_hand('222QA')=}\")\n",
    "print(f\"{identify_hand('22QQA')=}\")\n",
    "print(f\"{identify_hand('AAQQA')=}\")\n",
    "print(f\"{identify_hand('24444')=}\")\n",
    "print(f\"{identify_hand('22222')=}\")"
   ]
  },
  {
   "cell_type": "code",
   "execution_count": 7,
   "metadata": {},
   "outputs": [
    {
     "name": "stdout",
     "output_type": "stream",
     "text": [
      "labels_compare_key(\"QAK\")=1857\n",
      "sorted(\"QAK\", key=labels_compare_key)=['Q', 'K', 'A']\n",
      "sorted([\"QAK\",\"KAK\"], key=labels_compare_key)=['QAK', 'KAK']\n",
      "[\n",
      "\t{'cards': 'QQQJA', 'hand': 'Three of a kind'},\n",
      "\t{'cards': 'T55J5', 'hand': 'Three of a kind'},\n",
      "\t{'cards': 'KK677', 'hand': 'Two pair'},\n",
      "\t{'cards': 'KTJJT', 'hand': 'Two pair'},\n",
      "\t{'cards': '32T3K', 'hand': 'One pair'}\n",
      "]\n"
     ]
    }
   ],
   "source": [
    "LABEL_VALUES = dict(zip(['A', 'K', 'Q', 'J', 'T', '9', '8', '7', '6', '5', '4', '3', '2'], range(13 - 1, -1, -1)))\n",
    "TYPE_VALUES = dict(zip(['Five of a kind', 'Four of a kind', 'Full house', 'Three of a kind', 'Two pair', 'One pair', 'High card'], range(7 - 1, -1, -1)))\n",
    "\n",
    "def labels_compare_key(labels):\n",
    "    return sum((len(LABEL_VALUES)**pos) * LABEL_VALUES[l]\n",
    "               for pos, l in zip(\n",
    "                   range(len(labels) - 1, -1, -1),\n",
    "                   labels\n",
    "                   )\n",
    "               )\n",
    "\n",
    "print(f'{labels_compare_key(\"QAK\")=}')\n",
    "\n",
    "print(f'{sorted(\"QAK\", key=labels_compare_key)=}')\n",
    "print(f'{sorted([\"QAK\",\"KAK\"], key=labels_compare_key)=}')\n",
    "\n",
    "def sort_hands_cards(hs):\n",
    "    return sorted(\n",
    "        sorted(\n",
    "            hs,\n",
    "            key=lambda h: labels_compare_key(h['cards'])\n",
    "            ),\n",
    "        key=lambda h: TYPE_VALUES[h['hand']]\n",
    "        )\n",
    "\n",
    "identified = [\n",
    "\t{'cards': '32T3K', 'hand': 'One pair'},\n",
    "\t{'cards': 'T55J5', 'hand': 'Three of a kind'},\n",
    "\t{'cards': 'KK677', 'hand': 'Two pair'},\n",
    "\t{'cards': 'KTJJT', 'hand': 'Two pair'},\n",
    "\t{'cards': 'QQQJA', 'hand': 'Three of a kind'}\n",
    "]\n",
    "print(str_list(reversed(sort_hands_cards(identified))))"
   ]
  },
  {
   "cell_type": "code",
   "execution_count": 8,
   "metadata": {},
   "outputs": [],
   "source": [
    "def dict_keys_with_value(d, v):\n",
    "    return [dk for dk, dv in d.items() if dv == v]"
   ]
  },
  {
   "cell_type": "code",
   "execution_count": 9,
   "metadata": {},
   "outputs": [
    {
     "data": {
      "text/plain": [
       "[{'cards': '32T3K', 'bid': 765},\n",
       " {'cards': 'T55J5', 'bid': 684},\n",
       " {'cards': 'KK677', 'bid': 28},\n",
       " {'cards': 'KTJJT', 'bid': 220},\n",
       " {'cards': 'QQQJA', 'bid': 483}]"
      ]
     },
     "execution_count": 9,
     "metadata": {},
     "output_type": "execute_result"
    }
   ],
   "source": [
    "def parse_input(lines):\n",
    "    return [\n",
    "        {'cards': (cards_bid := line.split())[0], 'bid': int(cards_bid[1])}\n",
    "        for line in lines\n",
    "    ]\n",
    "\n",
    "parse_input(example_input.splitlines())"
   ]
  },
  {
   "cell_type": "code",
   "execution_count": 10,
   "metadata": {},
   "outputs": [
    {
     "name": "stdout",
     "output_type": "stream",
     "text": [
      "[\n",
      "\t{'cards': '32T3K', 'bid': 765, 'hand': 'One pair'},\n",
      "\t{'cards': 'T55J5', 'bid': 684, 'hand': 'Three of a kind'},\n",
      "\t{'cards': 'KK677', 'bid': 28, 'hand': 'Two pair'},\n",
      "\t{'cards': 'KTJJT', 'bid': 220, 'hand': 'Two pair'},\n",
      "\t{'cards': 'QQQJA', 'bid': 483, 'hand': 'Three of a kind'}\n",
      "]\n"
     ]
    }
   ],
   "source": [
    "def augment_parsed_identify(p):\n",
    "    p['hand'] = identify_hand(p['cards'])\n",
    "    return p\n",
    "\n",
    "identified = list(map(augment_parsed_identify, parse_input(example_input.splitlines())))\n",
    "print(str_list(identified))"
   ]
  },
  {
   "cell_type": "code",
   "execution_count": 11,
   "metadata": {},
   "outputs": [
    {
     "name": "stdout",
     "output_type": "stream",
     "text": [
      "[{'cards': '32T3K', 'bid': 765, 'hand': 'One pair', 'rank': 1}, {'cards': 'KTJJT', 'bid': 220, 'hand': 'Two pair', 'rank': 2}, {'cards': 'KK677', 'bid': 28, 'hand': 'Two pair', 'rank': 3}, {'cards': 'T55J5', 'bid': 684, 'hand': 'Three of a kind', 'rank': 4}, {'cards': 'QQQJA', 'bid': 483, 'hand': 'Three of a kind', 'rank': 5}]\n"
     ]
    }
   ],
   "source": [
    "from itertools import count\n",
    "\n",
    "def augment_list_rank(ds):\n",
    "    ranked = []\n",
    "    for rank, d in zip(\n",
    "            count(start=1),\n",
    "            sort_hands_cards(list(ds))\n",
    "            ):\n",
    "        d['rank'] = rank\n",
    "        ranked.append(d)\n",
    "    return ranked\n",
    "\n",
    "ranked = augment_list_rank(identified)\n",
    "print(ranked)"
   ]
  },
  {
   "cell_type": "code",
   "execution_count": 12,
   "metadata": {},
   "outputs": [],
   "source": [
    "def augment_ranked_score(r):\n",
    "    r['score'] = r['rank'] * r['bid']\n",
    "    return r"
   ]
  },
  {
   "cell_type": "code",
   "execution_count": 13,
   "metadata": {},
   "outputs": [
    {
     "name": "stdout",
     "output_type": "stream",
     "text": [
      "[\n",
      "\t('32T3K', 'One pair', 1, 765),\n",
      "\t('KTJJT', 'Two pair', 2, 440),\n",
      "\t('KK677', 'Two pair', 3, 84),\n",
      "\t('T55J5', 'Three of a kind', 4, 2736),\n",
      "\t('QQQJA', 'Three of a kind', 5, 2415)\n",
      "]\n"
     ]
    }
   ],
   "source": [
    "scored = list(map(\n",
    "    augment_ranked_score,\n",
    "    augment_list_rank(\n",
    "        map(\n",
    "            augment_parsed_identify,\n",
    "            parse_input(example_input.splitlines())\n",
    "            # parse_input(downloaded['input'].splitlines())\n",
    "            )\n",
    "        )\n",
    "    ))\n",
    "print(str_list(list((score['cards'], score['hand'], score['rank'], score['score']) for score in scored))) # [::10]))"
   ]
  },
  {
   "cell_type": "code",
   "execution_count": 14,
   "metadata": {},
   "outputs": [
    {
     "name": "stdout",
     "output_type": "stream",
     "text": [
      "6440\n"
     ]
    }
   ],
   "source": [
    "print(sum(s['score'] for s in scored))"
   ]
  },
  {
   "cell_type": "code",
   "execution_count": 15,
   "metadata": {
    "scrolled": true
   },
   "outputs": [
    {
     "data": {
      "text/html": [
       "<h2 id=\"part2\">--- Part Two ---</h2><p>To make things a little more interesting, the Elf introduces one additional rule. Now, <code>J</code> cards are <a href=\"https://en.wikipedia.org/wiki/Joker_(playing_card)\" target=\"_blank\">jokers</a> - wildcards that can act like whatever card would make the hand the strongest type possible.</p>\n",
       "<p>To balance this, <em><code>J</code> cards are now the weakest</em> individual cards, weaker even than <code>2</code>. The other cards stay in the same order: <code>A</code>, <code>K</code>, <code>Q</code>, <code>T</code>, <code>9</code>, <code>8</code>, <code>7</code>, <code>6</code>, <code>5</code>, <code>4</code>, <code>3</code>, <code>2</code>, <code>J</code>.</p>\n",
       "<p><code>J</code> cards can pretend to be whatever card is best for the purpose of determining hand type; for example, <code>QJJQ2</code> is now considered <em>four of a kind</em>. However, for the purpose of breaking ties between two hands of the same type, <code>J</code> is always treated as <code>J</code>, not the card it's pretending to be: <code>JKKK2</code> is weaker than <code>QQQQ2</code> because <code>J</code> is weaker than <code>Q</code>.</p>\n",
       "<p>Now, the above example goes very differently:</p>\n",
       "<pre><code>32T3K 765\n",
       "T55J5 684\n",
       "KK677 28\n",
       "KTJJT 220\n",
       "QQQJA 483\n",
       "</code></pre>\n",
       "<ul>\n",
       "<li><code>32T3K</code> is still the only <em>one pair</em>; it doesn't contain any jokers, so its strength doesn't increase.</li>\n",
       "<li><code>KK677</code> is now the only <em>two pair</em>, making it the second-weakest hand.</li>\n",
       "<li><code>T55J5</code>, <code>KTJJT</code>, and <code>QQQJA</code> are now all <em>four of a kind</em>! <code>T55J5</code> gets rank 3, <code>QQQJA</code> gets rank 4, and <code>KTJJT</code> gets rank 5.</li>\n",
       "</ul>\n",
       "<p>With the new joker rule, the total winnings in this example are <code><em>5905</em></code>.</p>\n",
       "<p>Using the new joker rule, find the rank of every hand in your set. <em>What are the new total winnings?</em></p>\n"
      ],
      "text/plain": [
       "<IPython.core.display.HTML object>"
      ]
     },
     "execution_count": 15,
     "metadata": {},
     "output_type": "execute_result"
    }
   ],
   "source": [
    "HTML(downloaded['part2'])"
   ]
  }
 ],
 "metadata": {
  "kernelspec": {
   "display_name": "Python 3 (ipykernel)",
   "language": "python",
   "name": "python3"
  },
  "language_info": {
   "codemirror_mode": {
    "name": "ipython",
    "version": 3
   },
   "file_extension": ".py",
   "mimetype": "text/x-python",
   "name": "python",
   "nbconvert_exporter": "python",
   "pygments_lexer": "ipython3",
   "version": "3.11.6"
  },
  "vscode": {
   "interpreter": {
    "hash": "e7370f93d1d0cde622a1f8e1c04877d8463912d04d973331ad4851f04de6915a"
   }
  }
 },
 "nbformat": 4,
 "nbformat_minor": 2
}

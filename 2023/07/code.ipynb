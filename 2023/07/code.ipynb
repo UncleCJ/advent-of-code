{
 "cells": [
  {
   "cell_type": "markdown",
   "metadata": {},
   "source": [
    "# Day 7: Camel Cards\n",
    "\n",
    "[*Advent of Code 2023 day 7*](https://adventofcode.com/2023/day/7) and [*solution megathread*](https://redd.it/18cnzbm)\n",
    "\n",
    "[![nbviewer](https://raw.githubusercontent.com/jupyter/design/master/logos/Badges/nbviewer_badge.svg)](https://nbviewer.jupyter.org/github/UncleCJ/advent-of-code/blob/cj/2023/07/code.ipynb) [![Binder](https://mybinder.org/badge_logo.svg)](https://mybinder.org/v2/gh/UncleCJ/advent-of-code/cj?filepath=2023%2F07%2Fcode.ipynb)"
   ]
  },
  {
   "cell_type": "code",
   "execution_count": 1,
   "metadata": {},
   "outputs": [
    {
     "name": "stderr",
     "output_type": "stream",
     "text": [
      "Version 1.0.5\n"
     ]
    }
   ],
   "source": [
    "from IPython.display import HTML\n",
    "import sys\n",
    "\n",
    "sys.path.append(\"../../\")\n",
    "\n",
    "\n",
    "%load_ext nb_mypy\n",
    "%nb_mypy On\n"
   ]
  },
  {
   "cell_type": "code",
   "execution_count": 2,
   "metadata": {},
   "outputs": [
    {
     "name": "stdout",
     "output_type": "stream",
     "text": [
      "Writing 'downloaded' (dict) to file 'downloaded'.\n"
     ]
    }
   ],
   "source": [
    "import common\n",
    "\n",
    "\n",
    "downloaded = common.refresh()\n",
    "%store downloaded >downloaded\n",
    "\n",
    "# %load_ext pycodestyle_magic\n",
    "# %pycodestyle_on\n"
   ]
  },
  {
   "cell_type": "code",
   "execution_count": 3,
   "metadata": {},
   "outputs": [
    {
     "data": {
      "text/html": [
       "<h2>--- Day 7: Camel Cards ---</h2><p>Your all-expenses-paid trip turns out to be a one-way, five-minute ride in an <a href=\"https://en.wikipedia.org/wiki/Airship\" target=\"_blank\">airship</a>. (At least it's a <span title=\"Please only read this sentence while listening to 'The Airship Blackjack' from the Final Fantasy 6 soundtrack.\"><em>cool</em> airship</span>!) It drops you off at the edge of a vast desert and descends back to Island Island.</p>\n",
       "<p>\"Did you bring the parts?\"</p>\n",
       "<p>You turn around to see an Elf completely covered in white clothing, wearing goggles, and riding a large <a href=\"https://en.wikipedia.org/wiki/Dromedary\" target=\"_blank\">camel</a>.</p>\n",
       "<p>\"Did you bring the parts?\" she asks again, louder this time. You aren't sure what parts she's looking for; you're here to figure out why the sand stopped.</p>\n",
       "<p>\"The parts! For the sand, yes! Come with me; I will show you.\" She beckons you onto the camel.</p>\n",
       "<p>After riding a bit across the sands of Desert Island, you can see what look like very large rocks covering half of the horizon. The Elf explains that the rocks are all along the part of Desert Island that is directly above Island Island, making it hard to even get there. Normally, they use big machines to move the rocks and filter the sand, but the machines have broken down because Desert Island recently stopped receiving the <em>parts</em> they need to fix the machines.</p>\n",
       "<p>You've already assumed it'll be your job to figure out why the parts stopped when she asks if you can help. You agree automatically.</p>\n",
       "<p>Because the journey will take a few days, she offers to teach you the game of <em>Camel Cards</em>. Camel Cards is sort of similar to <a href=\"https://en.wikipedia.org/wiki/List_of_poker_hands\" target=\"_blank\">poker</a> except it's designed to be easier to play while riding a camel.</p>\n",
       "<p>In Camel Cards, you get a list of <em>hands</em>, and your goal is to order them based on the <em>strength</em> of each hand. A hand consists of <em>five cards</em> labeled one of <code>A</code>, <code>K</code>, <code>Q</code>, <code>J</code>, <code>T</code>, <code>9</code>, <code>8</code>, <code>7</code>, <code>6</code>, <code>5</code>, <code>4</code>, <code>3</code>, or <code>2</code>. The relative strength of each card follows this order, where <code>A</code> is the highest and <code>2</code> is the lowest.</p>\n",
       "<p>Every hand is exactly one <em>type</em>. From strongest to weakest, they are:</p>\n",
       "<ul>\n",
       "<li><em>Five of a kind</em>, where all five cards have the same label: <code>AAAAA</code></li>\n",
       "<li><em>Four of a kind</em>, where four cards have the same label and one card has a different label: <code>AA8AA</code></li>\n",
       "<li><em>Full house</em>, where three cards have the same label, and the remaining two cards share a different label: <code>23332</code></li>\n",
       "<li><em>Three of a kind</em>, where three cards have the same label, and the remaining two cards are each different from any other card in the hand: <code>TTT98</code></li>\n",
       "<li><em>Two pair</em>, where two cards share one label, two other cards share a second label, and the remaining card has a third label: <code>23432</code></li>\n",
       "<li><em>One pair</em>, where two cards share one label, and the other three cards have a different label from the pair and each other: <code>A23A4</code></li>\n",
       "<li><em>High card</em>, where all cards' labels are distinct: <code>23456</code></li>\n",
       "</ul>\n",
       "<p>Hands are primarily ordered based on type; for example, every <em>full house</em> is stronger than any <em>three of a kind</em>.</p>\n",
       "<p>If two hands have the same type, a second ordering rule takes effect. Start by comparing the <em>first card in each hand</em>. If these cards are different, the hand with the stronger first card is considered stronger. If the first card in each hand have the <em>same label</em>, however, then move on to considering the <em>second card in each hand</em>. If they differ, the hand with the higher second card wins; otherwise, continue with the third card in each hand, then the fourth, then the fifth.</p>\n",
       "<p>So, <code>33332</code> and <code>2AAAA</code> are both <em>four of a kind</em> hands, but <code>33332</code> is stronger because its first card is stronger. Similarly, <code>77888</code> and <code>77788</code> are both a <em>full house</em>, but <code>77888</code> is stronger because its third card is stronger (and both hands have the same first and second card).</p>\n",
       "<p>To play Camel Cards, you are given a list of hands and their corresponding <em>bid</em> (your puzzle input). For example:</p>\n",
       "<pre><code>32T3K 765\n",
       "T55J5 684\n",
       "KK677 28\n",
       "KTJJT 220\n",
       "QQQJA 483\n",
       "</code></pre>\n",
       "<p>This example shows five hands; each hand is followed by its <em>bid</em> amount. Each hand wins an amount equal to its bid multiplied by its <em>rank</em>, where the weakest hand gets rank 1, the second-weakest hand gets rank 2, and so on up to the strongest hand. Because there are five hands in this example, the strongest hand will have rank 5 and its bid will be multiplied by 5.</p>\n",
       "<p>So, the first step is to put the hands in order of strength:</p>\n",
       "<ul>\n",
       "<li><code>32T3K</code> is the only <em>one pair</em> and the other hands are all a stronger type, so it gets rank <em>1</em>.</li>\n",
       "<li><code>KK677</code> and <code>KTJJT</code> are both <em>two pair</em>. Their first cards both have the same label, but the second card of <code>KK677</code> is stronger (<code>K</code> vs <code>T</code>), so <code>KTJJT</code> gets rank <em>2</em> and <code>KK677</code> gets rank <em>3</em>.</li>\n",
       "<li><code>T55J5</code> and <code>QQQJA</code> are both <em>three of a kind</em>. <code>QQQJA</code> has a stronger first card, so it gets rank <em>5</em> and <code>T55J5</code> gets rank <em>4</em>.</li>\n",
       "</ul>\n",
       "<p>Now, you can determine the total winnings of this set of hands by adding up the result of multiplying each hand's bid with its rank (<code>765</code> * 1 + <code>220</code> * 2 + <code>28</code> * 3 + <code>684</code> * 4 + <code>483</code> * 5). So the <em>total winnings</em> in this example are <code><em>6440</em></code>.</p>\n",
       "<p>Find the rank of every hand in your set. <em>What are the total winnings?</em></p>\n"
      ],
      "text/plain": [
       "<IPython.core.display.HTML object>"
      ]
     },
     "execution_count": 3,
     "metadata": {},
     "output_type": "execute_result"
    }
   ],
   "source": [
    "from IPython.display import HTML\n",
    "\n",
    "HTML(downloaded[\"part1\"])"
   ]
  },
  {
   "cell_type": "code",
   "execution_count": 4,
   "metadata": {},
   "outputs": [],
   "source": [
    "example_input = \"\"\"32T3K 765\n",
    "T55J5 684\n",
    "KK677 28\n",
    "KTJJT 220\n",
    "QQQJA 483\"\"\""
   ]
  },
  {
   "cell_type": "code",
   "execution_count": 5,
   "metadata": {},
   "outputs": [],
   "source": [
    "from typing import Iterable\n",
    "\n",
    "\n",
    "def str_list(ls: Iterable) -> str:\n",
    "    return \"[\\n\\t\" + \",\\n\\t\".join(str(l) for l in ls) + \"\\n]\"\n"
   ]
  },
  {
   "cell_type": "code",
   "execution_count": 31,
   "metadata": {},
   "outputs": [
    {
     "data": {
      "text/plain": [
       "[{'cards': '32T3K', 'bid': 765},\n",
       " {'cards': 'T55J5', 'bid': 684},\n",
       " {'cards': 'KK677', 'bid': 28},\n",
       " {'cards': 'KTJJT', 'bid': 220},\n",
       " {'cards': 'QQQJA', 'bid': 483}]"
      ]
     },
     "execution_count": 31,
     "metadata": {},
     "output_type": "execute_result"
    }
   ],
   "source": [
    "from typing import Dict, Union, List\n",
    "\n",
    "Parsed = Dict[str, Union[str, int]]\n",
    "\n",
    "def parse_input(lines: Iterable[str]) -> List[Parsed]:\n",
    "    return [\n",
    "        {\"cards\": (cards_bid := line.split())[0], \"bid\": int(cards_bid[1])}\n",
    "        for line in lines\n",
    "    ]\n",
    "\n",
    "\n",
    "parse_input(example_input.splitlines())"
   ]
  },
  {
   "cell_type": "code",
   "execution_count": 32,
   "metadata": {},
   "outputs": [
    {
     "data": {
      "text/plain": [
       "<LABEL_VALUES.Value_2: 1>"
      ]
     },
     "execution_count": 32,
     "metadata": {},
     "output_type": "execute_result"
    }
   ],
   "source": [
    "from enum import IntEnum, auto\n",
    "\n",
    "\n",
    "class LABEL_VALUES(IntEnum):\n",
    "    Value_2 = auto()\n",
    "    Value_3 = auto()\n",
    "    Value_4 = auto()\n",
    "    Value_5 = auto()\n",
    "    Value_6 = auto()\n",
    "    Value_7 = auto()\n",
    "    Value_8 = auto()\n",
    "    Value_9 = auto()\n",
    "    Value_T = auto()\n",
    "    Value_J = auto()\n",
    "    Value_Q = auto()\n",
    "    Value_K = auto()\n",
    "    Value_A = auto()\n",
    "\n",
    "    def __str__(self) -> str:\n",
    "        return self.name.replace(\"Value_\", \"\")\n",
    "\n",
    "    @staticmethod\n",
    "    def from_str(value: str) -> 'LABEL_VALUES':\n",
    "        return LABEL_VALUES.__getitem__(\"Value_\" + value)\n",
    "\n",
    "\n",
    "LABEL_VALUES.from_str(\"5\")\n",
    "\n",
    "LABEL_VALUES[\"Value_\" + \"2\"]"
   ]
  },
  {
   "cell_type": "code",
   "execution_count": 33,
   "metadata": {},
   "outputs": [],
   "source": [
    "class TYPE_VALUES(IntEnum):\n",
    "    High_card = auto()\n",
    "    One_pair = auto()\n",
    "    Two_pair = auto()\n",
    "    Full_house = auto()\n",
    "    Three_of_a_kind = auto()\n",
    "    Four_of_a_kind = auto()\n",
    "    Five_of_a_kind = auto()\n",
    "\n",
    "    def __str__(self) -> str:\n",
    "        return self.name.replace(\"_\", \" \")\n"
   ]
  },
  {
   "cell_type": "code",
   "execution_count": 34,
   "metadata": {},
   "outputs": [
    {
     "name": "stdout",
     "output_type": "stream",
     "text": [
      "identify_hand('24Q5A')=<TYPE_VALUES.High_card: 1>\n",
      "identify_hand('24QQA')=<TYPE_VALUES.One_pair: 2>\n",
      "identify_hand('222QA')=<TYPE_VALUES.Three_of_a_kind: 5>\n",
      "identify_hand('22QQA')=<TYPE_VALUES.Two_pair: 3>\n",
      "identify_hand('AAQQA')=<TYPE_VALUES.Full_house: 4>\n",
      "identify_hand('24444')=<TYPE_VALUES.Four_of_a_kind: 6>\n",
      "identify_hand('22222')=<TYPE_VALUES.Five_of_a_kind: 7>\n"
     ]
    }
   ],
   "source": [
    "from collections import Counter\n",
    "\n",
    "\n",
    "def identify_hand(hand: str) -> TYPE_VALUES:\n",
    "    counter = Counter(hand)\n",
    "    if 5 in counter.values():\n",
    "        return TYPE_VALUES.Five_of_a_kind\n",
    "    elif 4 in counter.values():\n",
    "        return TYPE_VALUES.Four_of_a_kind\n",
    "    elif 3 in counter.values() and 2 in counter.values():\n",
    "        return TYPE_VALUES.Full_house\n",
    "    elif 3 in counter.values():\n",
    "        return TYPE_VALUES.Three_of_a_kind\n",
    "    elif Counter(counter.values())[2] == 2:\n",
    "        return TYPE_VALUES.Two_pair\n",
    "    elif 2 in counter.values():\n",
    "        return TYPE_VALUES.One_pair\n",
    "    else:\n",
    "        return TYPE_VALUES.High_card\n",
    "\n",
    "\n",
    "print(f\"{identify_hand('24Q5A')=}\")\n",
    "print(f\"{identify_hand('24QQA')=}\")\n",
    "print(f\"{identify_hand('222QA')=}\")\n",
    "print(f\"{identify_hand('22QQA')=}\")\n",
    "print(f\"{identify_hand('AAQQA')=}\")\n",
    "print(f\"{identify_hand('24444')=}\")\n",
    "print(f\"{identify_hand('22222')=}\")\n"
   ]
  },
  {
   "cell_type": "code",
   "execution_count": 35,
   "metadata": {},
   "outputs": [
    {
     "name": "stdout",
     "output_type": "stream",
     "text": [
      "labels_compare_key(\"QAK\")=2040\n",
      "sorted(\"QAK\", key=labels_compare_key)=['Q', 'K', 'A']\n",
      "sorted([\"QAK\",\"KAK\"], key=labels_compare_key)=['QAK', 'KAK']\n"
     ]
    }
   ],
   "source": [
    "def labels_compare_key(labels: str) -> int:\n",
    "    return sum(\n",
    "        (len(LABEL_VALUES) ** pos) * LABEL_VALUES.from_str(l).value\n",
    "        for pos, l in zip(reversed(range(len(labels))), labels)\n",
    "    )\n",
    "\n",
    "\n",
    "print(f'{labels_compare_key(\"QAK\")=}')\n",
    "\n",
    "print(f'{sorted(\"QAK\", key=labels_compare_key)=}')\n",
    "print(f'{sorted([\"QAK\",\"KAK\"], key=labels_compare_key)=}')"
   ]
  },
  {
   "cell_type": "code",
   "execution_count": 36,
   "metadata": {},
   "outputs": [
    {
     "name": "stderr",
     "output_type": "stream",
     "text": [
      "<cell>2: \u001b[1m\u001b[91merror:\u001b[0m Argument 1 to \u001b[0m\u001b[1m\"identify_hand\"\u001b[0m has incompatible type \u001b[0m\u001b[1m\"str | int\"\u001b[0m; expected \u001b[0m\u001b[1m\"str\"\u001b[0m  \u001b[0m\u001b[93m[arg-type]\u001b[0m\n",
      "<cell>3: \u001b[1m\u001b[91merror:\u001b[0m Incompatible return value type (got \u001b[0m\u001b[1m\"dict[str, str | int]\"\u001b[0m, expected \u001b[0m\u001b[1m\"dict[str, str] | dict[str, TYPE_VALUES]\"\u001b[0m)  \u001b[0m\u001b[93m[return-value]\u001b[0m\n",
      "<cell>6: \u001b[1m\u001b[91merror:\u001b[0m Incompatible types in assignment (expression has type \u001b[0m\u001b[1m\"list[dict[str, str] | dict[str, TYPE_VALUES]]\"\u001b[0m, variable has type \u001b[0m\u001b[1m\"dict[str, str] | dict[str, TYPE_VALUES]\"\u001b[0m)  \u001b[0m\u001b[93m[assignment]\u001b[0m\n"
     ]
    },
    {
     "name": "stdout",
     "output_type": "stream",
     "text": [
      "[\n",
      "\t{'cards': '32T3K', 'bid': 765, 'hand': <TYPE_VALUES.One_pair: 2>},\n",
      "\t{'cards': 'T55J5', 'bid': 684, 'hand': <TYPE_VALUES.Three_of_a_kind: 5>},\n",
      "\t{'cards': 'KK677', 'bid': 28, 'hand': <TYPE_VALUES.Two_pair: 3>},\n",
      "\t{'cards': 'KTJJT', 'bid': 220, 'hand': <TYPE_VALUES.Two_pair: 3>},\n",
      "\t{'cards': 'QQQJA', 'bid': 483, 'hand': <TYPE_VALUES.Three_of_a_kind: 5>}\n",
      "]\n"
     ]
    }
   ],
   "source": [
    "def augment_parsed_identify(p: Parsed) -> Identified:\n",
    "    p[\"hand\"] = identify_hand(p[\"cards\"])\n",
    "    return p\n",
    "\n",
    "\n",
    "identified = list(map(augment_parsed_identify, parse_input(example_input.splitlines())))\n",
    "print(str_list(identified))"
   ]
  },
  {
   "cell_type": "code",
   "execution_count": 27,
   "metadata": {},
   "outputs": [
    {
     "name": "stderr",
     "output_type": "stream",
     "text": [
      "<cell>7: \u001b[1m\u001b[91merror:\u001b[0m Argument 1 to \u001b[0m\u001b[1m\"labels_compare_key\"\u001b[0m has incompatible type \u001b[0m\u001b[1m\"str | TYPE_VALUES\"\u001b[0m; expected \u001b[0m\u001b[1m\"str\"\u001b[0m  \u001b[0m\u001b[93m[arg-type]\u001b[0m\n",
      "<cell>12: \u001b[1m\u001b[91merror:\u001b[0m Incompatible types in assignment (expression has type \u001b[0m\u001b[1m\"list[dict[str, object]]\"\u001b[0m, variable has type \u001b[0m\u001b[1m\"dict[str, str] | dict[str, TYPE_VALUES]\"\u001b[0m)  \u001b[0m\u001b[93m[assignment]\u001b[0m\n",
      "<cell>20: \u001b[1m\u001b[91merror:\u001b[0m Argument 1 to \u001b[0m\u001b[1m\"sort_hands_cards\"\u001b[0m has incompatible type \u001b[0m\u001b[1m\"dict[str, str] | dict[str, TYPE_VALUES]\"\u001b[0m; expected \u001b[0m\u001b[1m\"Iterable[dict[str, str] | dict[str, TYPE_VALUES]]\"\u001b[0m  \u001b[0m\u001b[93m[arg-type]\u001b[0m\n"
     ]
    },
    {
     "name": "stdout",
     "output_type": "stream",
     "text": [
      "[\n",
      "\t{'cards': 'QQQJA', 'hand': <TYPE_VALUES.Three_of_a_kind: 5>},\n",
      "\t{'cards': 'T55J5', 'hand': <TYPE_VALUES.Three_of_a_kind: 5>},\n",
      "\t{'cards': 'KK677', 'hand': <TYPE_VALUES.Two_pair: 3>},\n",
      "\t{'cards': 'KTJJT', 'hand': <TYPE_VALUES.Two_pair: 3>},\n",
      "\t{'cards': '32T3K', 'hand': <TYPE_VALUES.One_pair: 2>}\n",
      "]\n"
     ]
    }
   ],
   "source": [
    "Identified = Union[Dict[str, str], Dict[str, TYPE_VALUES]]\n",
    "\n",
    "def sort_hands_cards(hs: Iterable[Identified]) -> List[Identified]:\n",
    "    return sorted(\n",
    "        sorted(hs, key=lambda h: labels_compare_key(h[\"cards\"])),\n",
    "        key=lambda h: h[\"hand\"],\n",
    "    )\n",
    "\n",
    "\n",
    "identified: Identified = [\n",
    "    {\"cards\": \"32T3K\", \"hand\": TYPE_VALUES.One_pair},\n",
    "    {\"cards\": \"T55J5\", \"hand\": TYPE_VALUES.Three_of_a_kind},\n",
    "    {\"cards\": \"KK677\", \"hand\": TYPE_VALUES.Two_pair},\n",
    "    {\"cards\": \"KTJJT\", \"hand\": TYPE_VALUES.Two_pair},\n",
    "    {\"cards\": \"QQQJA\", \"hand\": TYPE_VALUES.Three_of_a_kind},\n",
    "]\n",
    "\n",
    "print(str_list(reversed(sort_hands_cards(identified))))"
   ]
  },
  {
   "cell_type": "code",
   "execution_count": 11,
   "metadata": {},
   "outputs": [],
   "source": [
    "from typing import TypeVar, List\n",
    "\n",
    "\n",
    "T = TypeVar('T')\n",
    "U = TypeVar('U')\n",
    "\n",
    "def dict_keys_with_value(d: Dict[T, U], v: U) -> List[T]:\n",
    "    return [dk for dk, dv in d.items() if dv == v]"
   ]
  },
  {
   "cell_type": "code",
   "execution_count": 25,
   "metadata": {},
   "outputs": [
    {
     "name": "stderr",
     "output_type": "stream",
     "text": [
      "<cell>7: \u001b[1m\u001b[91merror:\u001b[0m Incompatible types in assignment (expression has type \u001b[0m\u001b[1m\"int\"\u001b[0m, target has type \u001b[0m\u001b[1m\"str | TYPE_VALUES\"\u001b[0m)  \u001b[0m\u001b[93m[assignment]\u001b[0m\n"
     ]
    },
    {
     "name": "stdout",
     "output_type": "stream",
     "text": [
      "[\n",
      "\t{'cards': '32T3K', 'bid': 765, 'hand': <TYPE_VALUES.One_pair: 2>, 'rank': 1},\n",
      "\t{'cards': 'KTJJT', 'bid': 220, 'hand': <TYPE_VALUES.Two_pair: 3>, 'rank': 2},\n",
      "\t{'cards': 'KK677', 'bid': 28, 'hand': <TYPE_VALUES.Two_pair: 3>, 'rank': 3},\n",
      "\t{'cards': 'T55J5', 'bid': 684, 'hand': <TYPE_VALUES.Three_of_a_kind: 5>, 'rank': 4},\n",
      "\t{'cards': 'QQQJA', 'bid': 483, 'hand': <TYPE_VALUES.Three_of_a_kind: 5>, 'rank': 5}\n",
      "]\n"
     ]
    }
   ],
   "source": [
    "from typing import Iterator\n",
    "from itertools import count\n",
    "\n",
    "\n",
    "def list_augment_rank(ds: Iterable[Dict]) -> Iterator[Dict]:\n",
    "    for rank, d in zip(count(start=1), sort_hands_cards(ds)):\n",
    "        d[\"rank\"] = rank\n",
    "        yield d\n",
    "\n",
    "\n",
    "ranked = list(list_augment_rank(identified))\n",
    "print(str_list(ranked))\n"
   ]
  },
  {
   "cell_type": "code",
   "execution_count": 15,
   "metadata": {},
   "outputs": [],
   "source": [
    "def augment_ranked_score(r: Ranked) -> Union[Ranked, Scored]:\n",
    "    r[\"score\"] = r[\"rank\"] * r[\"bid\"]\n",
    "    return r\n"
   ]
  },
  {
   "cell_type": "code",
   "execution_count": 16,
   "metadata": {},
   "outputs": [
    {
     "name": "stdout",
     "output_type": "stream",
     "text": [
      "[\n",
      "\t('32T3K', <TYPE_VALUES.One_pair: 2>, 1, 765),\n",
      "\t('KTJJT', <TYPE_VALUES.Two_pair: 3>, 2, 440),\n",
      "\t('KK677', <TYPE_VALUES.Two_pair: 3>, 3, 84),\n",
      "\t('T55J5', <TYPE_VALUES.Three_of_a_kind: 5>, 4, 2736),\n",
      "\t('QQQJA', <TYPE_VALUES.Three_of_a_kind: 5>, 5, 2415)\n",
      "]\n"
     ]
    }
   ],
   "source": [
    "scored = list(\n",
    "    map(\n",
    "        augment_ranked_score,\n",
    "        list_augment_rank(\n",
    "            map(\n",
    "                augment_parsed_identify,\n",
    "                parse_input(example_input.splitlines()),\n",
    "                # parse_input(downloaded['input'].splitlines())\n",
    "            )\n",
    "        ),\n",
    "    )\n",
    ")\n",
    "print(\n",
    "    str_list(\n",
    "        list(\n",
    "            (score[\"cards\"], score[\"hand\"], score[\"rank\"], score[\"score\"])\n",
    "            for score in scored\n",
    "        )\n",
    "    )\n",
    ")  # [::10]))\n"
   ]
  },
  {
   "cell_type": "code",
   "execution_count": 17,
   "metadata": {},
   "outputs": [
    {
     "name": "stdout",
     "output_type": "stream",
     "text": [
      "6440\n"
     ]
    }
   ],
   "source": [
    "print(sum(s[\"score\"] for s in scored))\n"
   ]
  },
  {
   "cell_type": "code",
   "execution_count": 18,
   "metadata": {
    "scrolled": true
   },
   "outputs": [
    {
     "data": {
      "text/plain": [
       "<IPython.core.display.HTML object>"
      ]
     },
     "execution_count": 18,
     "metadata": {},
     "output_type": "execute_result"
    }
   ],
   "source": [
    "HTML(downloaded[\"part2\"])\n"
   ]
  },
  {
   "cell_type": "code",
   "execution_count": 19,
   "metadata": {},
   "outputs": [],
   "source": [
    "LABEL_VALUES2 = dict(\n",
    "    zip(\n",
    "        [\"A\", \"K\", \"Q\", \"T\", \"9\", \"8\", \"7\", \"6\", \"5\", \"4\", \"3\", \"2\", \"J\"],\n",
    "        range(13 - 1, -1, -1),\n",
    "    )\n",
    ")\n"
   ]
  }
 ],
 "metadata": {
  "kernelspec": {
   "display_name": "Python 3 (ipykernel)",
   "language": "python",
   "name": "python3"
  },
  "language_info": {
   "codemirror_mode": {
    "name": "ipython",
    "version": 3
   },
   "file_extension": ".py",
   "mimetype": "text/x-python",
   "name": "python",
   "nbconvert_exporter": "python",
   "pygments_lexer": "ipython3",
   "version": "3.12.1"
  },
  "vscode": {
   "interpreter": {
    "hash": "e7370f93d1d0cde622a1f8e1c04877d8463912d04d973331ad4851f04de6915a"
   }
  }
 },
 "nbformat": 4,
 "nbformat_minor": 2
}

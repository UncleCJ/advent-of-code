{
 "cells": [
  {
   "cell_type": "markdown",
   "metadata": {},
   "source": [
    "# Day 6: Wait For It\n",
    "\n",
    "[*Advent of Code 2023 day 6*](https://adventofcode.com/2023/day/6) and [*solution megathread*](https://redd.it/18bwe6t)\n",
    "\n",
    "[![nbviewer](https://raw.githubusercontent.com/jupyter/design/master/logos/Badges/nbviewer_badge.svg)](https://nbviewer.jupyter.org/github/UncleCJ/advent-of-code/blob/cj/2023/06/code.ipynb) [![Binder](https://mybinder.org/badge_logo.svg)](https://mybinder.org/v2/gh/UncleCJ/advent-of-code/cj?filepath=2023%2F06%2Fcode.ipynb)"
   ]
  },
  {
   "cell_type": "code",
   "execution_count": 1,
   "metadata": {},
   "outputs": [],
   "source": [
    "from IPython.display import HTML\n",
    "import sys\n",
    "sys.path.append('../../')\n",
    "\n",
    "\n",
    "# %load_ext nb_mypy\n",
    "# %nb_mypy On"
   ]
  },
  {
   "cell_type": "code",
   "execution_count": 2,
   "metadata": {},
   "outputs": [
    {
     "name": "stdout",
     "output_type": "stream",
     "text": [
      "Writing 'downloaded' (dict) to file 'downloaded'.\n"
     ]
    }
   ],
   "source": [
    "import common\n",
    "\n",
    "\n",
    "downloaded = common.refresh()\n",
    "%store downloaded >downloaded\n",
    "\n",
    "# %load_ext pycodestyle_magic\n",
    "# %pycodestyle_on"
   ]
  },
  {
   "cell_type": "code",
   "execution_count": 3,
   "metadata": {},
   "outputs": [
    {
     "data": {
      "text/html": [
       "<h2>--- Day 6: Wait For It ---</h2><p>The ferry quickly brings you across Island Island. After asking around, you discover that there is indeed normally a large pile of sand somewhere near here, but you don't see anything besides lots of water and the small island where the ferry has docked.</p>\n",
       "<p>As you try to figure out what to do next, you notice a poster on a wall near the ferry dock. \"Boat races! Open to the public! Grand prize is an all-expenses-paid trip to <em>Desert Island</em>!\" That must be where the sand comes from! Best of all, the boat races are starting in just a few minutes.</p>\n",
       "<p>You manage to sign up as a competitor in the boat races just in time. The organizer explains that it's not really a traditional race - instead, you will get a fixed amount of time during which your boat has to travel as far as it can, and you win if your boat goes the farthest.</p>\n",
       "<p>As part of signing up, you get a sheet of paper (your puzzle input) that lists the <em>time</em> allowed for each race and also the best <em>distance</em> ever recorded in that race. To guarantee you win the grand prize, you need to make sure you <em>go farther in each race</em> than the current record holder.</p>\n",
       "<p>The organizer brings you over to the area where the boat races are held. The boats are much smaller than you expected - they're actually <em>toy boats</em>, each with a big button on top. Holding down the button <em>charges the boat</em>, and releasing the button <em>allows the boat to move</em>. Boats move faster if their button was held longer, but time spent holding the button counts against the total race time. You can only hold the button at the start of the race, and boats don't move until the button is released.</p>\n",
       "<p>For example:</p>\n",
       "<pre><code>Time:      7  15   30\n",
       "Distance:  9  40  200\n",
       "</code></pre>\n",
       "<p>This document describes three races:</p>\n",
       "<ul>\n",
       "<li>The first race lasts 7 milliseconds. The record distance in this race is 9 millimeters.</li>\n",
       "<li>The second race lasts 15 milliseconds. The record distance in this race is 40 millimeters.</li>\n",
       "<li>The third race lasts 30 milliseconds. The record distance in this race is 200 millimeters.</li>\n",
       "</ul>\n",
       "<p>Your toy boat has a starting speed of <em>zero millimeters per millisecond</em>. For each whole millisecond you spend at the beginning of the race holding down the button, the boat's speed increases by <em>one millimeter per millisecond</em>.</p>\n",
       "<p>So, because the first race lasts 7 milliseconds, you only have a few options:</p>\n",
       "<ul>\n",
       "<li>Don't hold the button at all (that is, hold it for <em><code>0</code> milliseconds</em>) at the start of the race. The boat won't move; it will have traveled <em><code>0</code> millimeters</em> by the end of the race.</li>\n",
       "<li>Hold the button for <em><code>1</code> millisecond</em> at the start of the race. Then, the boat will travel at a speed of <code>1</code> millimeter per millisecond for 6 milliseconds, reaching a total distance traveled of <em><code>6</code> millimeters</em>.</li>\n",
       "<li>Hold the button for <em><code>2</code> milliseconds</em>, giving the boat a speed of <code>2</code> millimeters per millisecond. It will then get 5 milliseconds to move, reaching a total distance of <em><code>10</code> millimeters</em>.</li>\n",
       "<li>Hold the button for <em><code>3</code> milliseconds</em>. After its remaining 4 milliseconds of travel time, the boat will have gone <em><code>12</code> millimeters</em>.</li>\n",
       "<li>Hold the button for <em><code>4</code> milliseconds</em>. After its remaining 3 milliseconds of travel time, the boat will have gone <em><code>12</code> millimeters</em>.</li>\n",
       "<li>Hold the button for <em><code>5</code> milliseconds</em>, causing the boat to travel a total of <em><code>10</code> millimeters</em>.</li>\n",
       "<li>Hold the button for <em><code>6</code> milliseconds</em>, causing the boat to travel a total of <em><code>6</code> millimeters</em>.</li>\n",
       "<li>Hold the button for <em><code>7</code> milliseconds</em>. That's the entire duration of the race. You never let go of the button. The boat can't move until you let go of the button. Please make sure you let go of the button so the boat gets to move. <em><code>0</code> millimeters</em>.</li>\n",
       "</ul>\n",
       "<p>Since the current record for this race is <code>9</code> millimeters, there are actually <code><em>4</em></code> different ways you could win: you could hold the button for <code>2</code>, <code>3</code>, <code>4</code>, or <code>5</code> milliseconds at the start of the race.</p>\n",
       "<p>In the second race, you could hold the button for at least <code>4</code> milliseconds and at most <code>11</code> milliseconds and beat the record, a total of <code><em>8</em></code> different ways to win.</p>\n",
       "<p>In the third race, you could hold the button for at least <code>11</code> milliseconds and no more than <code>19</code> milliseconds and still beat the record, a total of <code><em>9</em></code> ways you could win.</p>\n",
       "<p>To see how much margin of error you have, determine the <em>number of ways you can beat the record</em> in each race; in this example, if you multiply these values together, you get <code><em>288</em></code> (<code>4</code> * <code>8</code> * <code>9</code>).</p>\n",
       "<p>Determine the number of ways you could beat the record in each race. <em>What do you get if you multiply these numbers together?</em></p>\n"
      ],
      "text/plain": [
       "<IPython.core.display.HTML object>"
      ]
     },
     "execution_count": 3,
     "metadata": {},
     "output_type": "execute_result"
    }
   ],
   "source": [
    "from IPython.display import HTML\n",
    "\n",
    "HTML(downloaded['part1'])"
   ]
  },
  {
   "cell_type": "code",
   "execution_count": 4,
   "metadata": {},
   "outputs": [],
   "source": [
    "example_input = '''Time:      7  15   30\n",
    "Distance:  9  40  200'''"
   ]
  },
  {
   "cell_type": "code",
   "execution_count": 5,
   "metadata": {},
   "outputs": [
    {
     "data": {
      "text/plain": [
       "[{'time': 7, 'distance': 9},\n",
       " {'time': 15, 'distance': 40},\n",
       " {'time': 30, 'distance': 200}]"
      ]
     },
     "execution_count": 5,
     "metadata": {},
     "output_type": "execute_result"
    }
   ],
   "source": [
    "from functools import reduce\n",
    "\n",
    "def parse_input(lines):\n",
    "    def merge(dicts_tuple):\n",
    "        return reduce(lambda x, y: x.update(y) or x, dicts_tuple, {})\n",
    "    fields = {}\n",
    "    for line in lines:\n",
    "        key, values = line.split(':')\n",
    "        fields[key.lower()] = list(map(int, values.split()))\n",
    "    return map(\n",
    "            merge,\n",
    "            zip(\n",
    "                *(\n",
    "                    [{key: value} for value in values]\n",
    "                    for key, values in fields.items()\n",
    "                    )\n",
    "                )\n",
    "            )\n",
    "\n",
    "list(parse_input(example_input.splitlines()))"
   ]
  },
  {
   "cell_type": "code",
   "execution_count": 6,
   "metadata": {},
   "outputs": [],
   "source": [
    "#0 = 7*speed - speed*speed - 9\n",
    "# ax^2 + bx + c = 0\n",
    "# x = (-b +- sqrt(b^2 - 4ac))/2a\n",
    "# x = (-time +- sqrt(time^2 - 4*distance))/-2"
   ]
  },
  {
   "cell_type": "code",
   "execution_count": 7,
   "metadata": {},
   "outputs": [
    {
     "data": {
      "text/plain": [
       "(11, 19)"
      ]
     },
     "execution_count": 7,
     "metadata": {},
     "output_type": "execute_result"
    }
   ],
   "source": [
    "from math import sqrt, floor, ceil\n",
    "\n",
    "def speed_interval(time, distance):\n",
    "    roots = tuple(\n",
    "        (time + sign*sqrt(time**2 - 4*distance))/2\n",
    "        for sign in [-1.0, 1.0]\n",
    "        )\n",
    "    return ceil(roots[0] + 0.001), floor(roots[1] - 0.001)\n",
    "\n",
    "speed_interval(30, 200)"
   ]
  },
  {
   "cell_type": "code",
   "execution_count": 8,
   "metadata": {},
   "outputs": [
    {
     "name": "stdout",
     "output_type": "stream",
     "text": [
      "288\n"
     ]
    }
   ],
   "source": [
    "from operator import mul\n",
    "\n",
    "print(\n",
    "    reduce(\n",
    "        mul,\n",
    "        map(\n",
    "            lambda ss: ss[1]-ss[0]+1,\n",
    "            [\n",
    "                speed_interval(race['time'], race['distance'])\n",
    "                for race in parse_input(example_input.splitlines())\n",
    "                # for race in parse_input(downloaded['input'].splitlines())\n",
    "                ]\n",
    "            ),\n",
    "        1\n",
    "        )\n",
    "    )"
   ]
  },
  {
   "cell_type": "code",
   "execution_count": 9,
   "metadata": {
    "scrolled": true
   },
   "outputs": [
    {
     "data": {
      "text/html": [
       "<h2 id=\"part2\">--- Part Two ---</h2><p>As the race is about to start, you realize the piece of paper with race times and record distances you got earlier actually just has <span title=\"Keming!\">very bad</span> <a href=\"https://en.wikipedia.org/wiki/Kerning\" target=\"_blank\">kerning</a>. There's really <em>only one race</em> - ignore the spaces between the numbers on each line.</p>\n",
       "<p>So, the example from before:</p>\n",
       "<pre><code>Time:      7  15   30\n",
       "Distance:  9  40  200\n",
       "</code></pre>\n",
       "<p>...now instead means this:</p>\n",
       "<pre><code>Time:      71530\n",
       "Distance:  940200\n",
       "</code></pre>\n",
       "<p>Now, you have to figure out how many ways there are to win this single race. In this example, the race lasts for <em><code>71530</code> milliseconds</em> and the record distance you need to beat is <em><code>940200</code> millimeters</em>. You could hold the button anywhere from <code>14</code> to <code>71516</code> milliseconds and beat the record, a total of <code><em>71503</em></code> ways!</p>\n",
       "<p><em>How many ways can you beat the record in this one much longer race?</em></p>\n"
      ],
      "text/plain": [
       "<IPython.core.display.HTML object>"
      ]
     },
     "execution_count": 9,
     "metadata": {},
     "output_type": "execute_result"
    }
   ],
   "source": [
    "HTML(downloaded['part2'])"
   ]
  },
  {
   "cell_type": "code",
   "execution_count": 10,
   "metadata": {},
   "outputs": [
    {
     "data": {
      "text/plain": [
       "{'time': 71530, 'distance': 940200}"
      ]
     },
     "execution_count": 10,
     "metadata": {},
     "output_type": "execute_result"
    }
   ],
   "source": [
    "def parse_input2(lines):\n",
    "    fields = {}\n",
    "    for line in lines:\n",
    "        key, values = line.split(':')\n",
    "        fields[key.lower()] = int(values.replace(' ',''))\n",
    "    return fields\n",
    "\n",
    "parse_input2(example_input.splitlines())"
   ]
  },
  {
   "cell_type": "code",
   "execution_count": 11,
   "metadata": {},
   "outputs": [
    {
     "name": "stdout",
     "output_type": "stream",
     "text": [
      "71503\n"
     ]
    }
   ],
   "source": [
    "race = parse_input2(example_input.splitlines())\n",
    "# race = parse_input2(downloaded['input'].splitlines())\n",
    "s_low, s_high = speed_interval(race['time'], race['distance'])\n",
    "print(s_high-s_low+1)"
   ]
  }
 ],
 "metadata": {
  "kernelspec": {
   "display_name": "Python 3 (ipykernel)",
   "language": "python",
   "name": "python3"
  },
  "language_info": {
   "codemirror_mode": {
    "name": "ipython",
    "version": 3
   },
   "file_extension": ".py",
   "mimetype": "text/x-python",
   "name": "python",
   "nbconvert_exporter": "python",
   "pygments_lexer": "ipython3",
   "version": "3.12.0"
  },
  "vscode": {
   "interpreter": {
    "hash": "e7370f93d1d0cde622a1f8e1c04877d8463912d04d973331ad4851f04de6915a"
   }
  }
 },
 "nbformat": 4,
 "nbformat_minor": 2
}

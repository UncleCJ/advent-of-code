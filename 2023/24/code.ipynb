{
 "cells": [
  {
   "cell_type": "markdown",
   "metadata": {},
   "source": [
    "# Day 24: Never Tell Me The Odds\n",
    "\n",
    "[*Advent of Code 2023 day 24*](https://adventofcode.com/2023/day/24) and [*solution megathread*](https://redd.it/18pnycy)\n",
    "\n",
    "[![nbviewer](https://raw.githubusercontent.com/jupyter/design/master/logos/Badges/nbviewer_badge.svg)](https://nbviewer.jupyter.org/github/UncleCJ/advent-of-code/blob/cj/2023/24/code.ipynb) [![Binder](https://mybinder.org/badge_logo.svg)](https://mybinder.org/v2/gh/UncleCJ/advent-of-code/cj?filepath=2023%2F24%2Fcode.ipynb)"
   ]
  },
  {
   "cell_type": "code",
   "execution_count": 1,
   "metadata": {},
   "outputs": [],
   "source": [
    "from IPython.display import HTML\n",
    "import sys\n",
    "sys.path.append('../../')\n",
    "\n",
    "\n",
    "# %load_ext nb_mypy\n",
    "# %nb_mypy On"
   ]
  },
  {
   "cell_type": "code",
   "execution_count": 2,
   "metadata": {},
   "outputs": [
    {
     "name": "stdout",
     "output_type": "stream",
     "text": [
      "Writing 'downloaded' (dict) to file 'downloaded'.\n"
     ]
    }
   ],
   "source": [
    "import common\n",
    "\n",
    "\n",
    "downloaded = common.refresh()\n",
    "%store downloaded >downloaded\n",
    "\n",
    "# %load_ext pycodestyle_magic\n",
    "# %pycodestyle_on"
   ]
  },
  {
   "cell_type": "code",
   "execution_count": 3,
   "metadata": {},
   "outputs": [
    {
     "data": {
      "text/html": [
       "<h2>--- Day 24: Never Tell Me The Odds ---</h2><p>It seems like something is going wrong with the snow-making process. Instead of forming snow, the water that's been absorbed into the air seems to be forming <a href=\"https://en.wikipedia.org/wiki/Hail\" target=\"_blank\">hail</a>!</p>\n",
       "<p>Maybe there's something you can do to break up the hailstones?</p>\n",
       "<p>Due to strong, probably-magical winds, the hailstones are all flying through the air in perfectly linear trajectories. You make a note of each hailstone's <em>position</em> and <em>velocity</em> (your puzzle input). For example:</p>\n",
       "<pre><code>19, 13, 30 @ -2,  1, -2\n",
       "18, 19, 22 @ -1, -1, -2\n",
       "20, 25, 34 @ -2, -2, -4\n",
       "12, 31, 28 @ -1, -2, -1\n",
       "20, 19, 15 @  1, -5, -3\n",
       "</code></pre>\n",
       "<p>Each line of text corresponds to the position and velocity of a single hailstone. The positions indicate where the hailstones are <em>right now</em> (at time <code>0</code>). The velocities are constant and indicate exactly how far each hailstone will move in <em>one nanosecond</em>.</p>\n",
       "<p>Each line of text uses the format <code>px py pz @ vx vy vz</code>. For instance, the hailstone specified by <code>20, 19, 15 @  1, -5, -3</code> has initial X position <code>20</code>, Y position <code>19</code>, Z position <code>15</code>, X velocity <code>1</code>, Y velocity <code>-5</code>, and Z velocity <code>-3</code>. After one nanosecond, the hailstone would be at <code>21, 14, 12</code>.</p>\n",
       "<p>Perhaps you won't have to do anything. How likely are the hailstones to collide with each other and smash into tiny ice crystals?</p>\n",
       "<p>To estimate this, consider only the X and Y axes; <em>ignore the Z axis</em>. Looking <em>forward in time</em>, how many of the hailstones' <em>paths</em> will intersect within a test area? (The hailstones themselves don't have to collide, just test for intersections between the paths they will trace.)</p>\n",
       "<p>In this example, look for intersections that happen with an X and Y position each at least <code>7</code> and at most <code>27</code>; in your actual data, you'll need to check a much larger test area. Comparing all pairs of hailstones' future paths produces the following results:</p>\n",
       "<pre><code>Hailstone A: 19, 13, 30 @ -2, 1, -2\n",
       "Hailstone B: 18, 19, 22 @ -1, -1, -2\n",
       "Hailstones' paths will cross <em>inside</em> the test area (at x=14.333, y=15.333).\n",
       "\n",
       "Hailstone A: 19, 13, 30 @ -2, 1, -2\n",
       "Hailstone B: 20, 25, 34 @ -2, -2, -4\n",
       "Hailstones' paths will cross <em>inside</em> the test area (at x=11.667, y=16.667).\n",
       "\n",
       "Hailstone A: 19, 13, 30 @ -2, 1, -2\n",
       "Hailstone B: 12, 31, 28 @ -1, -2, -1\n",
       "Hailstones' paths will cross outside the test area (at x=6.2, y=19.4).\n",
       "\n",
       "Hailstone A: 19, 13, 30 @ -2, 1, -2\n",
       "Hailstone B: 20, 19, 15 @ 1, -5, -3\n",
       "Hailstones' paths crossed in the past for hailstone A.\n",
       "\n",
       "Hailstone A: 18, 19, 22 @ -1, -1, -2\n",
       "Hailstone B: 20, 25, 34 @ -2, -2, -4\n",
       "Hailstones' paths are parallel; they never intersect.\n",
       "\n",
       "Hailstone A: 18, 19, 22 @ -1, -1, -2\n",
       "Hailstone B: 12, 31, 28 @ -1, -2, -1\n",
       "Hailstones' paths will cross outside the test area (at x=-6, y=-5).\n",
       "\n",
       "Hailstone A: 18, 19, 22 @ -1, -1, -2\n",
       "Hailstone B: 20, 19, 15 @ 1, -5, -3\n",
       "Hailstones' paths crossed in the past for both hailstones.\n",
       "\n",
       "Hailstone A: 20, 25, 34 @ -2, -2, -4\n",
       "Hailstone B: 12, 31, 28 @ -1, -2, -1\n",
       "Hailstones' paths will cross outside the test area (at x=-2, y=3).\n",
       "\n",
       "Hailstone A: 20, 25, 34 @ -2, -2, -4\n",
       "Hailstone B: 20, 19, 15 @ 1, -5, -3\n",
       "Hailstones' paths crossed in the past for hailstone B.\n",
       "\n",
       "Hailstone A: 12, 31, 28 @ -1, -2, -1\n",
       "Hailstone B: 20, 19, 15 @ 1, -5, -3\n",
       "Hailstones' paths crossed in the past for both hailstones.\n",
       "</code></pre>\n",
       "<p>So, in this example, <code><em>2</em></code> hailstones' future paths cross inside the boundaries of the test area.</p>\n",
       "<p>However, you'll need to search a much larger test area if you want to see if any hailstones might collide. Look for intersections that happen with an X and Y position each at least <code>200000000000000</code> and at most <code>400000000000000</code>. Disregard the Z axis entirely.</p>\n",
       "<p>Considering only the X and Y axes, check all pairs of hailstones' future paths for intersections. <em>How many of these intersections occur within the test area?</em></p>\n"
      ],
      "text/plain": [
       "<IPython.core.display.HTML object>"
      ]
     },
     "execution_count": 3,
     "metadata": {},
     "output_type": "execute_result"
    }
   ],
   "source": [
    "from IPython.display import HTML\n",
    "\n",
    "HTML(downloaded['part1'])"
   ]
  },
  {
   "cell_type": "code",
   "execution_count": 4,
   "metadata": {},
   "outputs": [],
   "source": [
    "example_input = '''19, 13, 30 @ -2,  1, -2\n",
    "18, 19, 22 @ -1, -1, -2\n",
    "20, 25, 34 @ -2, -2, -4\n",
    "12, 31, 28 @ -1, -2, -1\n",
    "20, 19, 15 @  1, -5, -3'''"
   ]
  },
  {
   "cell_type": "code",
   "execution_count": 5,
   "metadata": {},
   "outputs": [
    {
     "name": "stdout",
     "output_type": "stream",
     "text": [
      "(array([19, 13]), array([-2,  1]))\n",
      "(array([18, 19]), array([-1, -1]))\n",
      "(array([20, 25]), array([-2, -2]))\n",
      "(array([12, 31]), array([-1, -2]))\n",
      "(array([20, 19]), array([ 1, -5]))\n"
     ]
    }
   ],
   "source": [
    "from typing import Iterator, Tuple\n",
    "import numpy as np \n",
    "\n",
    "type Coord = np.ndarray\n",
    "type Vector = np.ndarray\n",
    "type Hailstone = Tuple[Coord, Vector]\n",
    "\n",
    "def parse_input(input: Iterator[str], ignore_z: bool=True) -> Iterator[Hailstone]:\n",
    "    for line in input:\n",
    "        coord_str, velocity_str = line.split(' @ ')\n",
    "        coord_x, coord_y, coord_z = map(int, coord_str.split(', '))\n",
    "        velocity_x, velocity_y, velocity_z = map(int, velocity_str.split(', '))\n",
    "        if ignore_z:\n",
    "            yield np.array([coord_x, coord_y]), np.array([velocity_x, velocity_y])\n",
    "        else:\n",
    "            yield np.array([coord_x, coord_y, coord_z]), np.array([velocity_x, velocity_y, velocity_z])\n",
    "\n",
    "for line in parse_input(example_input.splitlines()):\n",
    "    print(line)"
   ]
  },
  {
   "cell_type": "markdown",
   "metadata": {},
   "source": [
    "$$\n",
    "C_t = H(C_0, V, t) = C_0 + t*V\n",
    "$$\n",
    "\n",
    "So, at $t_A$ and $t_B$ respectively, the paths of hail $A$ and $B$ will cross:\n",
    "\n",
    "$$\n",
    "C_{tA} - C_{tB} = 0\n",
    "$$\n",
    "\n",
    "$$\n",
    "C_{0A} + t_A*V_A - C_{0B} - t_B*V_B = 0\n",
    "$$\n",
    "\n",
    "$$\n",
    "t_A*V_A - t_B*V_B = C_{0B} - C_{0A} \n",
    "$$\n",
    "\n",
    "... i.e. determine scalars $t_A$ and $t_B$ to create a linear combination of $V_A$ and $V_B$ to equal $C_{0B} - C_{0A}$ (which one could have figured out intuitively...)\n"
   ]
  },
  {
   "cell_type": "code",
   "execution_count": 6,
   "metadata": {},
   "outputs": [
    {
     "data": {
      "text/plain": [
       "[((array([19, 13]), array([-2,  1])),\n",
       "  (array([18, 19]), array([-1, -1])),\n",
       "  array([14.33333333, 15.33333333])),\n",
       " ((array([19, 13]), array([-2,  1])),\n",
       "  (array([20, 25]), array([-2, -2])),\n",
       "  array([11.66666667, 16.66666667]))]"
      ]
     },
     "execution_count": 6,
     "metadata": {},
     "output_type": "execute_result"
    }
   ],
   "source": [
    "from typing import Iterable\n",
    "from itertools import combinations\n",
    "\n",
    "def find_crossings(hailstones: Iterable[Hailstone]) \\\n",
    "        -> Iterator[Tuple[Hailstone, float, Hailstone, float]]:\n",
    "    for (C_0A, V_A), (C_0B, V_B) in combinations(hailstones, 2):\n",
    "        V = np.array([V_A, -V_B]).transpose()\n",
    "        C = C_0B - C_0A\n",
    "        try:\n",
    "            T = np.linalg.solve(V, C)\n",
    "        except np.linalg.LinAlgError:\n",
    "            continue\n",
    "        yield (C_0A, V_A), T[0], (C_0B, V_B), T[1]\n",
    "\n",
    "def find_future_crossings_in_bounds(hailstones: Iterable[Hailstone], b_min: int, b_max: int):\n",
    "    def is_future(t: float) -> bool:\n",
    "        return t > 0\n",
    "    def calculate_position(C0: Coord, V: Vector, t: float) -> Coord:\n",
    "        return C0 + t*V\n",
    "    def in_bounds(b_min: int, b_max: int, hailstone: Hailstone, t: float) -> bool:\n",
    "        Ct = calculate_position(*hailstone, t)\n",
    "        return (b_min < Ct).all() and (Ct < b_max).all()\n",
    "    \n",
    "    for HA, TA, HB, TB in find_crossings(hailstones):\n",
    "        if all(map(is_future, [TA, TB])) \\\n",
    "                and all(in_bounds(b_min, b_max, H, t) for H, t in [(HA, TA), (HB, TB)]):\n",
    "            yield HA, HB, calculate_position(*HA, TA)\n",
    "\n",
    "hailstones = parse_input(example_input.splitlines())\n",
    "list(find_future_crossings_in_bounds(hailstones, 7, 27))\n",
    "# hailstones = parse_input(downloaded['input'].splitlines())\n",
    "# results = list(find_future_crossings_in_bounds(hailstones, 2e14, 4e14))"
   ]
  },
  {
   "cell_type": "code",
   "execution_count": 7,
   "metadata": {
    "scrolled": true
   },
   "outputs": [
    {
     "data": {
      "text/html": [
       "<h2 id=\"part2\">--- Part Two ---</h2><p>Upon further analysis, it doesn't seem like <em>any</em> hailstones will naturally collide. It's up to you to fix that!</p>\n",
       "<p>You find a rock on the ground nearby. While it seems extremely unlikely, if you throw it just right, you should be able to <em>hit every hailstone in a single throw</em>!</p>\n",
       "<p>You can use the probably-magical winds to reach <em>any integer position</em> you like and to propel the rock at <em>any integer velocity</em>. Now <em>including the Z axis</em> in your calculations, if you throw the rock at time <code>0</code>, where do you need to be so that the rock <em>perfectly collides with every hailstone</em>? Due to <span title=\"What, you've never studied probably-magical physics?\">probably-magical inertia</span>, the rock won't slow down or change direction when it collides with a hailstone.</p>\n",
       "<p>In the example above, you can achieve this by moving to position <code>24, 13, 10</code> and throwing the rock at velocity <code>-3, 1, 2</code>. If you do this, you will hit every hailstone as follows:</p>\n",
       "<pre><code>Hailstone: 19, 13, 30 @ -2, 1, -2\n",
       "Collision time: 5\n",
       "Collision position: 9, 18, 20\n",
       "\n",
       "Hailstone: 18, 19, 22 @ -1, -1, -2\n",
       "Collision time: 3\n",
       "Collision position: 15, 16, 16\n",
       "\n",
       "Hailstone: 20, 25, 34 @ -2, -2, -4\n",
       "Collision time: 4\n",
       "Collision position: 12, 17, 18\n",
       "\n",
       "Hailstone: 12, 31, 28 @ -1, -2, -1\n",
       "Collision time: 6\n",
       "Collision position: 6, 19, 22\n",
       "\n",
       "Hailstone: 20, 19, 15 @ 1, -5, -3\n",
       "Collision time: 1\n",
       "Collision position: 21, 14, 12\n",
       "</code></pre>\n",
       "<p>Above, each hailstone is identified by its initial position and its velocity. Then, the time and position of that hailstone's collision with your rock are given.</p>\n",
       "<p>After 1 nanosecond, the rock has <em>exactly the same position</em> as one of the hailstones, obliterating it into ice dust! Another hailstone is smashed to bits two nanoseconds after that. After a total of 6 nanoseconds, all of the hailstones have been destroyed.</p>\n",
       "<p>So, at time <code>0</code>, the rock needs to be at X position <code>24</code>, Y position <code>13</code>, and Z position <code>10</code>. Adding these three coordinates together produces <code><em>47</em></code>. (Don't add any coordinates from the rock's velocity.)</p>\n",
       "<p>Determine the exact position and velocity the rock needs to have at time <code>0</code> so that it perfectly collides with every hailstone. <em>What do you get if you add up the X, Y, and Z coordinates of that initial position?</em></p>\n"
      ],
      "text/plain": [
       "<IPython.core.display.HTML object>"
      ]
     },
     "execution_count": 7,
     "metadata": {},
     "output_type": "execute_result"
    }
   ],
   "source": [
    "HTML(downloaded['part2'])"
   ]
  }
 ],
 "metadata": {
  "kernelspec": {
   "display_name": "Python 3 (ipykernel)",
   "language": "python",
   "name": "python3"
  },
  "language_info": {
   "codemirror_mode": {
    "name": "ipython",
    "version": 3
   },
   "file_extension": ".py",
   "mimetype": "text/x-python",
   "name": "python",
   "nbconvert_exporter": "python",
   "pygments_lexer": "ipython3",
   "version": "3.12.0"
  },
  "vscode": {
   "interpreter": {
    "hash": "e7370f93d1d0cde622a1f8e1c04877d8463912d04d973331ad4851f04de6915a"
   }
  }
 },
 "nbformat": 4,
 "nbformat_minor": 2
}

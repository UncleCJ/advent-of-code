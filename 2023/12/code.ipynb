{
 "cells": [
  {
   "cell_type": "markdown",
   "metadata": {},
   "source": [
    "# Day 12: Hot Springs\n",
    "\n",
    "[*Advent of Code 2023 day 12*](https://adventofcode.com/2023/day/12) and [*solution megathread*](https://redd.it/...)\n",
    "\n",
    "[![nbviewer](https://raw.githubusercontent.com/jupyter/design/master/logos/Badges/nbviewer_badge.svg)](https://nbviewer.jupyter.org/github/UncleCJ/advent-of-code/blob/cj/2023/12/code.ipynb) [![Binder](https://mybinder.org/badge_logo.svg)](https://mybinder.org/v2/gh/UncleCJ/advent-of-code/cj?filepath=2023%2F12%2Fcode.ipynb)"
   ]
  },
  {
   "cell_type": "code",
   "execution_count": 1,
   "metadata": {},
   "outputs": [],
   "source": [
    "from IPython.display import HTML\n",
    "import sys\n",
    "sys.path.append('../../')\n",
    "\n",
    "\n",
    "# %load_ext nb_mypy\n",
    "# %nb_mypy On"
   ]
  },
  {
   "cell_type": "code",
   "execution_count": 2,
   "metadata": {},
   "outputs": [
    {
     "name": "stdout",
     "output_type": "stream",
     "text": [
      "Writing 'downloaded' (dict) to file 'downloaded'.\n"
     ]
    }
   ],
   "source": [
    "import common\n",
    "\n",
    "\n",
    "downloaded = common.refresh()\n",
    "%store downloaded >downloaded\n",
    "\n",
    "# %load_ext pycodestyle_magic\n",
    "# %pycodestyle_on"
   ]
  },
  {
   "cell_type": "code",
   "execution_count": 3,
   "metadata": {},
   "outputs": [
    {
     "data": {
      "text/html": [
       "<h2>--- Day 12: Hot Springs ---</h2><p>You finally reach the hot springs! You can see steam rising from secluded areas attached to the primary, ornate building.</p>\n",
       "<p>As you turn to enter, the <a href=\"11\">researcher</a> stops you. \"Wait - I thought you were looking for the hot springs, weren't you?\" You indicate that this definitely looks like hot springs to you.</p>\n",
       "<p>\"Oh, sorry, common mistake! This is actually the <a href=\"https://en.wikipedia.org/wiki/Onsen\" target=\"_blank\">onsen</a>! The hot springs are next door.\"</p>\n",
       "<p>You look in the direction the researcher is pointing and suddenly notice the <span title=\"I love this joke. I'm not sorry.\">massive metal helixes</span> towering overhead. \"This way!\"</p>\n",
       "<p>It only takes you a few more steps to reach the main gate of the massive fenced-off area containing the springs. You go through the gate and into a small administrative building.</p>\n",
       "<p>\"Hello! What brings you to the hot springs today? Sorry they're not very hot right now; we're having a <em>lava shortage</em> at the moment.\" You ask about the missing machine parts for Desert Island.</p>\n",
       "<p>\"Oh, all of Gear Island is currently offline! Nothing is being manufactured at the moment, not until we get more lava to heat our forges. And our springs. The springs aren't very springy unless they're hot!\"</p>\n",
       "<p>\"Say, could you go up and see why the lava stopped flowing? The springs are too cold for normal operation, but we should be able to find one springy enough to launch <em>you</em> up there!\"</p>\n",
       "<p>There's just one problem - many of the springs have fallen into disrepair, so they're not actually sure which springs would even be <em>safe</em> to use! Worse yet, their <em>condition records of which springs are damaged</em> (your puzzle input) are also damaged! You'll need to help them repair the damaged records.</p>\n",
       "<p>In the giant field just outside, the springs are arranged into <em>rows</em>. For each row, the condition records show every spring and whether it is <em>operational</em> (<code>.</code>) or <em>damaged</em> (<code>#</code>). This is the part of the condition records that is itself damaged; for some springs, it is simply <em>unknown</em> (<code>?</code>) whether the spring is operational or damaged.</p>\n",
       "<p>However, the engineer that produced the condition records also duplicated some of this information in a different format! After the list of springs for a given row, the size of each <em>contiguous group of damaged springs</em> is listed in the order those groups appear in the row. This list always accounts for every damaged spring, and each number is the entire size of its contiguous group (that is, groups are always separated by at least one operational spring: <code>####</code> would always be <code>4</code>, never <code>2,2</code>).</p>\n",
       "<p>So, condition records with no unknown spring conditions might look like this:</p>\n",
       "<pre><code>#.#.### 1,1,3\n",
       ".#...#....###. 1,1,3\n",
       ".#.###.#.###### 1,3,1,6\n",
       "####.#...#... 4,1,1\n",
       "#....######..#####. 1,6,5\n",
       ".###.##....# 3,2,1\n",
       "</code></pre>\n",
       "<p>However, the condition records are partially damaged; some of the springs' conditions are actually <em>unknown</em> (<code>?</code>). For example:</p>\n",
       "<pre><code>???.### 1,1,3\n",
       ".??..??...?##. 1,1,3\n",
       "?#?#?#?#?#?#?#? 1,3,1,6\n",
       "????.#...#... 4,1,1\n",
       "????.######..#####. 1,6,5\n",
       "?###???????? 3,2,1\n",
       "</code></pre>\n",
       "<p>Equipped with this information, it is your job to figure out <em>how many different arrangements</em> of operational and broken springs fit the given criteria in each row.</p>\n",
       "<p>In the first line (<code>???.### 1,1,3</code>), there is exactly <em>one</em> way separate groups of one, one, and three broken springs (in that order) can appear in that row: the first three unknown springs must be broken, then operational, then broken (<code>#.#</code>), making the whole row <code>#.#.###</code>.</p>\n",
       "<p>The second line is more interesting: <code>.??..??...?##. 1,1,3</code> could be a total of <em>four</em> different arrangements. The last <code>?</code> must always be broken (to satisfy the final contiguous group of three broken springs), and each <code>??</code> must hide exactly one of the two broken springs. (Neither <code>??</code> could be both broken springs or they would form a single contiguous group of two; if that were true, the numbers afterward would have been <code>2,3</code> instead.) Since each <code>??</code> can either be <code>#.</code> or <code>.#</code>, there are four possible arrangements of springs.</p>\n",
       "<p>The last line is actually consistent with <em>ten</em> different arrangements! Because the first number is <code>3</code>, the first and second <code>?</code> must both be <code>.</code> (if either were <code>#</code>, the first number would have to be <code>4</code> or higher). However, the remaining run of unknown spring conditions have many different ways they could hold groups of two and one broken springs:</p>\n",
       "<pre><code>?###???????? 3,2,1\n",
       ".###.##.#...\n",
       ".###.##..#..\n",
       ".###.##...#.\n",
       ".###.##....#\n",
       ".###..##.#..\n",
       ".###..##..#.\n",
       ".###..##...#\n",
       ".###...##.#.\n",
       ".###...##..#\n",
       ".###....##.#\n",
       "</code></pre>\n",
       "<p>In this example, the number of possible arrangements for each row is:</p>\n",
       "<ul>\n",
       "<li><code>???.### 1,1,3</code> - <code><em>1</em></code> arrangement</li>\n",
       "<li><code>.??..??...?##. 1,1,3</code> - <code><em>4</em></code> arrangements</li>\n",
       "<li><code>?#?#?#?#?#?#?#? 1,3,1,6</code> - <code><em>1</em></code> arrangement</li>\n",
       "<li><code>????.#...#... 4,1,1</code> - <code><em>1</em></code> arrangement</li>\n",
       "<li><code>????.######..#####. 1,6,5</code> - <code><em>4</em></code> arrangements</li>\n",
       "<li><code>?###???????? 3,2,1</code> - <code><em>10</em></code> arrangements</li>\n",
       "</ul>\n",
       "<p>Adding all of the possible arrangement counts together produces a total of <code><em>21</em></code> arrangements.</p>\n",
       "<p>For each row, count all of the different arrangements of operational and broken springs that meet the given criteria. <em>What is the sum of those counts?</em></p>\n"
      ],
      "text/plain": [
       "<IPython.core.display.HTML object>"
      ]
     },
     "execution_count": 3,
     "metadata": {},
     "output_type": "execute_result"
    }
   ],
   "source": [
    "from IPython.display import HTML\n",
    "\n",
    "HTML(downloaded['part1'])"
   ]
  },
  {
   "cell_type": "code",
   "execution_count": 4,
   "metadata": {},
   "outputs": [],
   "source": [
    "part1_example_input = '''???.### 1,1,3\n",
    ".??..??...?##. 1,1,3\n",
    "?#?#?#?#?#?#?#? 1,3,1,6\n",
    "????.#...#... 4,1,1\n",
    "????.######..#####. 1,6,5\n",
    "?###???????? 3,2,1'''"
   ]
  },
  {
   "cell_type": "code",
   "execution_count": 8,
   "metadata": {},
   "outputs": [
    {
     "data": {
      "text/plain": [
       "[('???.###', [1, 1, 3]),\n",
       " ('.??..??...?##.', [1, 1, 3]),\n",
       " ('?#?#?#?#?#?#?#?', [1, 3, 1, 6]),\n",
       " ('????.#...#...', [4, 1, 1]),\n",
       " ('????.######..#####.', [1, 6, 5]),\n",
       " ('?###????????', [3, 2, 1])]"
      ]
     },
     "execution_count": 8,
     "metadata": {},
     "output_type": "execute_result"
    }
   ],
   "source": [
    "def parse_input(lines):\n",
    "    results = []\n",
    "    for line in lines:\n",
    "        pattern, counters = line.split()\n",
    "        results.append((pattern, list(map(int, counters.split(',')))))\n",
    "    return results\n",
    "\n",
    "parse_input(part1_example_input.splitlines())"
   ]
  },
  {
   "cell_type": "code",
   "execution_count": 14,
   "metadata": {},
   "outputs": [
    {
     "data": {
      "text/plain": [
       "[([('?', 3), ('.', 1), ('#', 3)], '???.###', [1, 1, 3]),\n",
       " ([('.', 1),\n",
       "   ('?', 2),\n",
       "   ('.', 2),\n",
       "   ('?', 2),\n",
       "   ('.', 3),\n",
       "   ('?', 1),\n",
       "   ('#', 2),\n",
       "   ('.', 1)],\n",
       "  '.??..??...?##.',\n",
       "  [1, 1, 3]),\n",
       " ([('?', 1),\n",
       "   ('#', 1),\n",
       "   ('?', 1),\n",
       "   ('#', 1),\n",
       "   ('?', 1),\n",
       "   ('#', 1),\n",
       "   ('?', 1),\n",
       "   ('#', 1),\n",
       "   ('?', 1),\n",
       "   ('#', 1),\n",
       "   ('?', 1),\n",
       "   ('#', 1),\n",
       "   ('?', 1),\n",
       "   ('#', 1),\n",
       "   ('?', 1)],\n",
       "  '?#?#?#?#?#?#?#?',\n",
       "  [1, 3, 1, 6]),\n",
       " ([('?', 4), ('.', 1), ('#', 1), ('.', 3), ('#', 1), ('.', 3)],\n",
       "  '????.#...#...',\n",
       "  [4, 1, 1]),\n",
       " ([('?', 4), ('.', 1), ('#', 6), ('.', 2), ('#', 5), ('.', 1)],\n",
       "  '????.######..#####.',\n",
       "  [1, 6, 5]),\n",
       " ([('?', 1), ('#', 3), ('?', 8)], '?###????????', [3, 2, 1])]"
      ]
     },
     "execution_count": 14,
     "metadata": {},
     "output_type": "execute_result"
    }
   ],
   "source": [
    "def count_pattern(pattern):\n",
    "    results = []\n",
    "    current = pattern[0]\n",
    "    current_count = 0\n",
    "    for p in pattern:\n",
    "        if p == current:\n",
    "            current_count += 1\n",
    "        else:\n",
    "            results.append((current, current_count))\n",
    "            current = p\n",
    "            current_count = 1\n",
    "    results.append((current, current_count))\n",
    "    return results\n",
    "\n",
    "[(count_pattern(parsed[0]), *parsed) for parsed in parse_input(part1_example_input.splitlines())]"
   ]
  },
  {
   "cell_type": "code",
   "execution_count": 15,
   "metadata": {
    "scrolled": true
   },
   "outputs": [],
   "source": [
    "# HTML(downloaded['part2'])"
   ]
  }
 ],
 "metadata": {
  "kernelspec": {
   "display_name": "Python 3 (ipykernel)",
   "language": "python",
   "name": "python3"
  },
  "language_info": {
   "codemirror_mode": {
    "name": "ipython",
    "version": 3
   },
   "file_extension": ".py",
   "mimetype": "text/x-python",
   "name": "python",
   "nbconvert_exporter": "python",
   "pygments_lexer": "ipython3",
   "version": "3.11.6"
  },
  "vscode": {
   "interpreter": {
    "hash": "e7370f93d1d0cde622a1f8e1c04877d8463912d04d973331ad4851f04de6915a"
   }
  }
 },
 "nbformat": 4,
 "nbformat_minor": 2
}

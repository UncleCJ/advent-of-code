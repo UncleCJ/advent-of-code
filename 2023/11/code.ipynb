{
 "cells": [
  {
   "cell_type": "markdown",
   "metadata": {},
   "source": [
    "# Day 11: Cosmic Expansion\n",
    "\n",
    "[*Advent of Code 2023 day 11*](https://adventofcode.com/2023/day/11) and [*solution megathread*](https://redd.it/...)\n",
    "\n",
    "[![nbviewer](https://raw.githubusercontent.com/jupyter/design/master/logos/Badges/nbviewer_badge.svg)](https://nbviewer.jupyter.org/github/UncleCJ/advent-of-code/blob/cj/2023/11/code.ipynb) [![Binder](https://mybinder.org/badge_logo.svg)](https://mybinder.org/v2/gh/UncleCJ/advent-of-code/cj?filepath=2023%2F11%2Fcode.ipynb)"
   ]
  },
  {
   "cell_type": "code",
   "execution_count": 1,
   "metadata": {},
   "outputs": [],
   "source": [
    "from IPython.display import HTML\n",
    "import sys\n",
    "sys.path.append('../../')\n",
    "\n",
    "\n",
    "# %load_ext nb_mypy\n",
    "# %nb_mypy On"
   ]
  },
  {
   "cell_type": "code",
   "execution_count": 2,
   "metadata": {},
   "outputs": [
    {
     "name": "stdout",
     "output_type": "stream",
     "text": [
      "Writing 'downloaded' (dict) to file 'downloaded'.\n"
     ]
    }
   ],
   "source": [
    "import common\n",
    "\n",
    "\n",
    "downloaded = common.refresh()\n",
    "%store downloaded >downloaded\n",
    "\n",
    "# %load_ext pycodestyle_magic\n",
    "# %pycodestyle_on"
   ]
  },
  {
   "cell_type": "code",
   "execution_count": 3,
   "metadata": {},
   "outputs": [
    {
     "data": {
      "text/html": [
       "<h2>--- Day 11: Cosmic Expansion ---</h2><p>You continue following signs for \"Hot Springs\" and eventually come across an <a href=\"https://en.wikipedia.org/wiki/Observatory\" target=\"_blank\">observatory</a>. The Elf within turns out to be a researcher studying cosmic expansion using the giant telescope here.</p>\n",
       "<p>He doesn't know anything about the missing machine parts; he's only visiting for this research project. However, he confirms that the hot springs are the next-closest area likely to have people; he'll even take you straight there once he's done with today's observation analysis.</p>\n",
       "<p>Maybe you can help him with the analysis to speed things up?</p>\n",
       "<p>The researcher has collected a bunch of data and compiled the data into a single giant <em>image</em> (your puzzle input). The image includes <em>empty space</em> (<code>.</code>) and <em>galaxies</em> (<code>#</code>). For example:</p>\n",
       "<pre><code>...#......\n",
       ".......#..\n",
       "#.........\n",
       "..........\n",
       "......#...\n",
       ".#........\n",
       ".........#\n",
       "..........\n",
       ".......#..\n",
       "#...#.....\n",
       "</code></pre>\n",
       "<p>The researcher is trying to figure out the sum of the lengths of the <em>shortest path between every pair of galaxies</em>. However, there's a catch: the universe expanded in the time it took the light from those galaxies to reach the observatory.</p>\n",
       "<p>Due to something involving gravitational effects, <em>only some space expands</em>. In fact, the result is that <em>any rows or columns that contain no galaxies</em> should all actually be twice as big.</p>\n",
       "<p>In the above example, three columns and two rows contain no galaxies:</p>\n",
       "<pre><code>   v  v  v\n",
       " ...#......\n",
       " .......#..\n",
       " #.........\n",
       "&gt;..........&lt;\n",
       " ......#...\n",
       " .#........\n",
       " .........#\n",
       "&gt;..........&lt;\n",
       " .......#..\n",
       " #...#.....\n",
       "   ^  ^  ^\n",
       "</code></pre>\n",
       "<p>These rows and columns need to be <em>twice as big</em>; the result of cosmic expansion therefore looks like this:</p>\n",
       "<pre><code>....#........\n",
       ".........#...\n",
       "#............\n",
       ".............\n",
       ".............\n",
       "........#....\n",
       ".#...........\n",
       "............#\n",
       ".............\n",
       ".............\n",
       ".........#...\n",
       "#....#.......\n",
       "</code></pre>\n",
       "<p>Equipped with this expanded universe, the shortest path between every pair of galaxies can be found. It can help to assign every galaxy a unique number:</p>\n",
       "<pre><code>....1........\n",
       ".........2...\n",
       "3............\n",
       ".............\n",
       ".............\n",
       "........4....\n",
       ".5...........\n",
       "............6\n",
       ".............\n",
       ".............\n",
       ".........7...\n",
       "8....9.......\n",
       "</code></pre>\n",
       "<p>In these 9 galaxies, there are <em>36 pairs</em>. Only count each pair once; order within the pair doesn't matter. For each pair, find any shortest path between the two galaxies using only steps that move up, down, left, or right exactly one <code>.</code> or <code>#</code> at a time. (The shortest path between two galaxies is allowed to pass through another galaxy.)</p>\n",
       "<p>For example, here is one of the shortest paths between galaxies <code>5</code> and <code>9</code>:</p>\n",
       "<pre><code>....1........\n",
       ".........2...\n",
       "3............\n",
       ".............\n",
       ".............\n",
       "........4....\n",
       ".5...........\n",
       ".##.........6\n",
       "..##.........\n",
       "...##........\n",
       "....##...7...\n",
       "8....9.......\n",
       "</code></pre>\n",
       "<p>This path has length <code><em>9</em></code> because it takes a minimum of <em>nine steps</em> to get from galaxy <code>5</code> to galaxy <code>9</code> (the eight locations marked <code>#</code> plus the step onto galaxy <code>9</code> itself). Here are some other example shortest path lengths:</p>\n",
       "<ul>\n",
       "<li>Between galaxy <code>1</code> and galaxy <code>7</code>: 15</li>\n",
       "<li>Between galaxy <code>3</code> and galaxy <code>6</code>: 17</li>\n",
       "<li>Between galaxy <code>8</code> and galaxy <code>9</code>: 5</li>\n",
       "</ul>\n",
       "<p>In this example, after expanding the universe, the sum of the shortest path between all 36 pairs of galaxies is <code><em>374</em></code>.</p>\n",
       "<p>Expand the universe, then find the length of the shortest path between every pair of galaxies. <em>What is the sum of these lengths?</em></p>\n"
      ],
      "text/plain": [
       "<IPython.core.display.HTML object>"
      ]
     },
     "execution_count": 3,
     "metadata": {},
     "output_type": "execute_result"
    }
   ],
   "source": [
    "from IPython.display import HTML\n",
    "\n",
    "HTML(downloaded['part1'])"
   ]
  },
  {
   "cell_type": "code",
   "execution_count": 4,
   "metadata": {},
   "outputs": [],
   "source": [
    "part1_example_input = '''...#......\n",
    ".......#..\n",
    "#.........\n",
    "..........\n",
    "......#...\n",
    ".#........\n",
    ".........#\n",
    "..........\n",
    ".......#..\n",
    "#...#.....'''"
   ]
  },
  {
   "cell_type": "code",
   "execution_count": 5,
   "metadata": {},
   "outputs": [
    {
     "data": {
      "text/plain": [
       "([(0, 3), (1, 7), (2, 0), (4, 6), (5, 1), (6, 9), (8, 7), (9, 0), (9, 4)],\n",
       " [0, 1, 2, 4, 5, 6, 8, 9],\n",
       " [0, 1, 3, 4, 6, 7, 9])"
      ]
     },
     "execution_count": 5,
     "metadata": {},
     "output_type": "execute_result"
    }
   ],
   "source": [
    "def parse_input(lines):\n",
    "    nonempty_rows = set()\n",
    "    nonempty_cols = set()\n",
    "    galaxies = []\n",
    "    for row, line in zip(range(len(lines)), lines):\n",
    "        for col in range(len(line)):\n",
    "            if line[col] == '#':\n",
    "                nonempty_rows.add(row)\n",
    "                nonempty_cols.add(col)\n",
    "                galaxies.append((row, col))\n",
    "    return galaxies, list(nonempty_rows), list(nonempty_cols)\n",
    "\n",
    "parse_input(part1_example_input.splitlines())"
   ]
  },
  {
   "cell_type": "code",
   "execution_count": 6,
   "metadata": {},
   "outputs": [
    {
     "data": {
      "text/plain": [
       "[(0, 3), (1, 7), (2, 0), (4, 6), (5, 1), (6, 9), (8, 7), (9, 0), (9, 4)]"
      ]
     },
     "execution_count": 6,
     "metadata": {},
     "output_type": "execute_result"
    }
   ],
   "source": [
    "def expand_universe(galaxies, nonempty_rows, nonempty_cols, expansion_factor=1):\n",
    "    def find_empty(nonempty_sorted):\n",
    "        previous = -1\n",
    "        found_empty = []\n",
    "        for i in nonempty_sorted:\n",
    "            if i - previous > 1:\n",
    "                found_empty += range(previous+1, i)\n",
    "            previous = i\n",
    "        return found_empty\n",
    "    \n",
    "    def expand_vector(nonempty_sorted, empty_sorted):\n",
    "        # Here I'm not entirely happy with iterating through the entire `empty_sorted`\n",
    "        # to see which are smaller, but as we only do it for rows and columns rather\n",
    "        # than each galaxy, it is fine\n",
    "        return [i + (expansion_factor-1)*sum(i > j for j in empty_sorted) for i in nonempty_sorted]\n",
    "    \n",
    "    def expand_galaxy(old_row, old_col, rowmapping, colmapping):\n",
    "        return rowmapping[old_row], colmapping[old_col]\n",
    "        \n",
    "    empty_rows = find_empty(nonempty_rows)\n",
    "    empty_cols = find_empty(nonempty_cols)\n",
    "    rowmapping = dict(zip(nonempty_rows, expand_vector(nonempty_rows, empty_rows)))\n",
    "    colmapping = dict(zip(nonempty_cols, expand_vector(nonempty_cols, empty_cols)))\n",
    "    return [expand_galaxy(*galaxy, rowmapping, colmapping) for galaxy in galaxies]\n",
    "\n",
    "expand_universe(*parse_input(part1_example_input.splitlines()))"
   ]
  },
  {
   "cell_type": "code",
   "execution_count": 7,
   "metadata": {},
   "outputs": [
    {
     "data": {
      "text/plain": [
       "292"
      ]
     },
     "execution_count": 7,
     "metadata": {},
     "output_type": "execute_result"
    }
   ],
   "source": [
    "def galaxies_distances(galaxy, galaxies):\n",
    "    # print(f\"{galaxy=}, {galaxies=}\")\n",
    "    if not galaxy:\n",
    "        return galaxies_distances(galaxies[0], galaxies[1:])\n",
    "    head = {f\"{galaxy} - {row, col}\": abs(row - galaxy[0]) + abs(col - galaxy[1]) for row, col in galaxies}\n",
    "    if galaxies:\n",
    "        head.update(galaxies_distances(galaxies[0], galaxies[1:]))\n",
    "    return head\n",
    "\n",
    "sum(galaxies_distances(None, expand_universe(*parse_input(part1_example_input.splitlines()))).values())\n",
    "# sum(galaxies_distances(None, expand_universe(*parse_input(downloaded['input'].splitlines()))).values())"
   ]
  },
  {
   "cell_type": "code",
   "execution_count": 8,
   "metadata": {
    "scrolled": true
   },
   "outputs": [
    {
     "data": {
      "text/html": [
       "<h2 id=\"part2\">--- Part Two ---</h2><p>The galaxies are much <em>older</em> (and thus much <em>farther apart</em>) than the researcher initially estimated.</p>\n",
       "<p>Now, instead of the expansion you did before, make each empty row or column <em><span title=\"And you have to have your pinky near your mouth when you do it.\">one million</span> times</em> larger. That is, each empty row should be replaced with <code>1000000</code> empty rows, and each empty column should be replaced with <code>1000000</code> empty columns.</p>\n",
       "<p>(In the example above, if each empty row or column were merely <code>10</code> times larger, the sum of the shortest paths between every pair of galaxies would be <code><em>1030</em></code>. If each empty row or column were merely <code>100</code> times larger, the sum of the shortest paths between every pair of galaxies would be <code><em>8410</em></code>. However, your universe will need to expand far beyond these values.)</p>\n",
       "<p>Starting with the same initial image, expand the universe according to these new rules, then find the length of the shortest path between every pair of galaxies. <em>What is the sum of these lengths?</em></p>\n"
      ],
      "text/plain": [
       "<IPython.core.display.HTML object>"
      ]
     },
     "execution_count": 8,
     "metadata": {},
     "output_type": "execute_result"
    }
   ],
   "source": [
    "HTML(downloaded['part2'])"
   ]
  },
  {
   "cell_type": "code",
   "execution_count": 9,
   "metadata": {},
   "outputs": [
    {
     "name": "stdout",
     "output_type": "stream",
     "text": [
      "1030\n",
      "8410\n"
     ]
    }
   ],
   "source": [
    "print(sum(galaxies_distances(None, expand_universe(*parse_input(part1_example_input.splitlines()), expansion_factor=10)).values()))\n",
    "print(sum(galaxies_distances(None, expand_universe(*parse_input(part1_example_input.splitlines()), expansion_factor=100)).values()))\n",
    "# sum(galaxies_distances(None, expand_universe(*parse_input(downloaded['input'].splitlines()), expansion_factor=1000000)).values())"
   ]
  }
 ],
 "metadata": {
  "kernelspec": {
   "display_name": "Python 3 (ipykernel)",
   "language": "python",
   "name": "python3"
  },
  "language_info": {
   "codemirror_mode": {
    "name": "ipython",
    "version": 3
   },
   "file_extension": ".py",
   "mimetype": "text/x-python",
   "name": "python",
   "nbconvert_exporter": "python",
   "pygments_lexer": "ipython3",
   "version": "3.11.6"
  },
  "vscode": {
   "interpreter": {
    "hash": "e7370f93d1d0cde622a1f8e1c04877d8463912d04d973331ad4851f04de6915a"
   }
  }
 },
 "nbformat": 4,
 "nbformat_minor": 2
}

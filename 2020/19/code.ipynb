{
 "metadata": {
  "language_info": {
   "codemirror_mode": {
    "name": "ipython",
    "version": 3
   },
   "file_extension": ".py",
   "mimetype": "text/x-python",
   "name": "python",
   "nbconvert_exporter": "python",
   "pygments_lexer": "ipython3",
   "version": "3.6.9-final"
  },
  "orig_nbformat": 2,
  "kernelspec": {
   "name": "python3",
   "display_name": "Python 3",
   "language": "python"
  }
 },
 "nbformat": 4,
 "nbformat_minor": 2,
 "cells": [
  {
   "cell_type": "code",
   "execution_count": 1,
   "metadata": {},
   "outputs": [],
   "source": [
    "%load_ext pycodestyle_magic"
   ]
  },
  {
   "cell_type": "code",
   "execution_count": 2,
   "metadata": {},
   "outputs": [],
   "source": [
    "%flake8_on"
   ]
  },
  {
   "cell_type": "code",
   "execution_count": 3,
   "metadata": {},
   "outputs": [],
   "source": [
    "testdata = \"\"\"0: 4 1 5\n",
    "1: 2 3 | 3 2\n",
    "2: 4 4 | 5 5\n",
    "3: 4 5 | 5 4\n",
    "4: \"a\"\n",
    "5: \"b\"\n",
    "\n",
    "ababbb\n",
    "bababa\n",
    "abbbab\n",
    "aaabbb\n",
    "aaaabbb\"\"\".splitlines()\n",
    "\n",
    "with open('input', 'r') as inp:\n",
    "    inputdata = [line.strip() for line in inp.readlines()]"
   ]
  },
  {
   "cell_type": "code",
   "execution_count": 4,
   "metadata": {},
   "outputs": [],
   "source": [
    "class Rule(object):\n",
    "    def __init__(self, rule):\n",
    "        self.literal = None\n",
    "        self.children = None\n",
    "        if '\"' in rule:\n",
    "            self.literal = rule[1]\n",
    "        else:\n",
    "            if '|' in rule:\n",
    "                rules = rule.split(' | ', 1)\n",
    "            else:\n",
    "                rules = [rule]\n",
    "            self.children = [[int(r) for r in rule.split()] for rule in rules]\n",
    "\n",
    "    def __repr__(self):\n",
    "        if self.literal:\n",
    "            return self.literal\n",
    "        else:\n",
    "            return str(self.children)\n",
    "\n",
    "\n",
    "def parse2(lines):\n",
    "    blank_idx = lines.index('')\n",
    "    rules = parse_rules(lines[:blank_idx])\n",
    "    messages = lines[blank_idx + 1:]\n",
    "    return rules, messages\n",
    "\n",
    "\n",
    "def parse_rules(lines):\n",
    "    rules = dict()\n",
    "    for line in lines:\n",
    "        nr, rule = line.split(': ', )\n",
    "        rules[int(nr)] = Rule(rule)\n",
    "    return rules"
   ]
  },
  {
   "cell_type": "code",
   "execution_count": 5,
   "metadata": {},
   "outputs": [],
   "source": [
    "def match_rule_seq(message, rule_seq, rules):\n",
    "    if len(message) == 0 and len(rule_seq) == 0:\n",
    "        return True\n",
    "    elif len(message) == 0 or len(rule_seq) == 0:\n",
    "        return False\n",
    "\n",
    "    if rule_seq[0] not in rules.keys():\n",
    "        return False\n",
    "    target = rules[rule_seq[0]]\n",
    "\n",
    "    if target.literal:\n",
    "        if message[0] == target.literal:\n",
    "            return match_rule_seq(message[1:], rule_seq[1:], rules)\n",
    "        else:\n",
    "            return False\n",
    "    elif target.children:\n",
    "        return any([match_rule_seq(message, seq + rule_seq[1:], rules)\n",
    "                    for seq in target.children])\n",
    "    else:\n",
    "        return False"
   ]
  },
  {
   "cell_type": "code",
   "execution_count": 6,
   "metadata": {
    "tags": []
   },
   "outputs": [
    {
     "output_type": "stream",
     "name": "stdout",
     "text": [
      "222\n",
      "339\n"
     ]
    }
   ],
   "source": [
    "rules, messages = parse2(inputdata)\n",
    "# print(rules)\n",
    "\n",
    "print(sum([match_rule_seq(message, [0], rules) for message in messages]))\n",
    "\n",
    "rules[8] = Rule('42 | 42 8')\n",
    "rules[11] = Rule('42 31 | 42 11 31')\n",
    "\n",
    "print(sum([match_rule_seq(message, [0], rules) for message in messages]))"
   ]
  },
  {
   "source": [
    "## I must have done something right!\n",
    "\n",
    "-- You may read my desperation beneath --"
   ],
   "cell_type": "markdown",
   "metadata": {}
  },
  {
   "cell_type": "code",
   "execution_count": 7,
   "metadata": {},
   "outputs": [],
   "source": [
    "def parse(data):\n",
    "    rules = dict()\n",
    "    messages = []\n",
    "    section = 1\n",
    "    for line in data:\n",
    "        if line == \"\":\n",
    "            section += 1\n",
    "        elif section == 1:\n",
    "            nr, patterns = [a.strip() for a in line.split(':')]\n",
    "            if '\"' in patterns:\n",
    "                rules[patterns[-2]] = nr\n",
    "            elif '|' in patterns:\n",
    "                p1, p2 = [p.strip() for p in patterns.split('|', 1)]\n",
    "                rules[p1] = nr\n",
    "                rules[p2] = nr\n",
    "            else:\n",
    "                rules[patterns] = nr\n",
    "        elif section == 2:\n",
    "            messages.append(line)\n",
    "    return rules, messages"
   ]
  },
  {
   "cell_type": "code",
   "execution_count": 8,
   "metadata": {},
   "outputs": [
    {
     "output_type": "execute_result",
     "data": {
      "text/plain": [
       "{'4 1 5': '0',\n",
       " '2 3': '1',\n",
       " '3 2': '1',\n",
       " '4 4': '2',\n",
       " '5 5': '2',\n",
       " '4 5': '3',\n",
       " '5 4': '3',\n",
       " 'a': '4',\n",
       " 'b': '5'}"
      ]
     },
     "metadata": {},
     "execution_count": 8
    }
   ],
   "source": [
    "rules, messages = parse(testdata)\n",
    "rules"
   ]
  },
  {
   "cell_type": "code",
   "execution_count": 9,
   "metadata": {},
   "outputs": [
    {
     "output_type": "stream",
     "name": "stderr",
     "text": [
      "11:80: E501 line too long (98 > 79 characters)\n",
      "13:71: W291 trailing whitespace\n",
      "15:80: E501 line too long (97 > 79 characters)\n",
      "31:80: E501 line too long (88 > 79 characters)\n",
      "35:80: E501 line too long (94 > 79 characters)\n"
     ]
    }
   ],
   "source": [
    "def match(previous_matches, remainder, rules):\n",
    "    print(f'match({previous_matches}; {remainder})')\n",
    "    if len(remainder) == 0 and previous_matches == '0':\n",
    "        return previous_matches  # We are done\n",
    "\n",
    "    if len(remainder) > 1:\n",
    "        current, remainder_new = (remainder[0], remainder[1:])\n",
    "    else:\n",
    "        current, remainder_new = (remainder, '')  # Soon done\n",
    "\n",
    "    if current in rules.keys():  # If the currently considered item itself matches, consider those\n",
    "        if len(previous_matches) == 0:\n",
    "            matches = match(set(rules[current]), remainder_new, rules)            \n",
    "        else:\n",
    "            matches = match([p + rules[current] for p in previous_matches], remainder_new, rules)\n",
    "            print(f'returning: {matches}')\n",
    "            return matches\n",
    "\n",
    "    matches = set()\n",
    "\n",
    "    if len(previous_matches) == 0:  # If we have no history\n",
    "        matches |= match(set(current), remainder_new, rules)\n",
    "    else:\n",
    "        for p in previous_matches:\n",
    "            for i in range(1, len(p)+1):\n",
    "                option = p[-i:] + current\n",
    "                print(f'option: {option}')\n",
    "                if option in rules.keys():\n",
    "                    if len(remainder_new) > 0:\n",
    "                        if i == len(p):\n",
    "                            matches = match(set(), rules[option] + remainder_new, rules)\n",
    "                            print(f'returning: {matches}')\n",
    "                            return matches\n",
    "                        else:\n",
    "                            matches = match(set(p[:-i]), rules[option] + remainder_new, rules)\n",
    "                            print(f'returning: {matches}')\n",
    "                            return matches\n",
    "                    else:\n",
    "                        if i == len(p):\n",
    "                            matches = match(set(), rules[option], rules)\n",
    "                            print(f'returning: {matches}')\n",
    "                            return matches\n",
    "                        else:\n",
    "                            matches = match(set(p[:-i]), rules[option], rules)\n",
    "                            print(f'returning: {matches}')\n",
    "                            return matches\n",
    "\n",
    "    # matches |= set([p + current for p in previous_matches])\n",
    "    print(f'returning: {matches}')\n",
    "    return matches"
   ]
  },
  {
   "source": [
    "```\n",
    "abab:\n",
    "    {a -> 4} 'bab': # assuming existing are empty?\n",
    "    {4} '5ab'\n",
    "    {'4 5' -> 3} 'ab'\n",
    "    {3} '4b'\n",
    "\n",
    "abab:\n",
    "    {a -> 4} 'bab': # assuming existing are empty?\n",
    "    {'4 5'} 'ab'\n",
    "    {4, 5 -> 3} 'ab'\n",
    "    {3} '4b'\n",
    "\n",
    "\n",
    "abbbab:\n",
    "    a -> 4 'bbbab'\n",
    "    '4 b -> 5' 'bbab'\n",
    "    ...\n",
    "    '4 5 5 5 4 5' ''\n",
    "    '4 5 5 5' '3'\n",
    "    '4 5' '2 3'\n",
    "    '' '3 2 3'\n",
    "    '1' '1'... #bad\n",
    "\n",
    "'4 1 5': '0'\n",
    "    'a {2 3, 3 2} b'\n",
    "\n",
    "    a bbba b\n",
    "\n",
    "    \n",
    "```\n",
    "        \n",
    "    "
   ],
   "cell_type": "markdown",
   "metadata": {}
  },
  {
   "cell_type": "code",
   "execution_count": 10,
   "metadata": {},
   "outputs": [
    {
     "output_type": "stream",
     "name": "stderr",
     "text": [
      "4:1: E265 block comment should start with '# '\n",
      "4:80: E501 line too long (108 > 79 characters)\n",
      "5:1: E265 block comment should start with '# '\n",
      "match(set(); ab)\n",
      "match({'4'}; b)\n",
      "match(['45']; )\n",
      "option: 5\n",
      "option: 45\n",
      "returning: set()\n",
      "returning: set()\n",
      "match({'a'}; b)\n",
      "match(['a5']; )\n",
      "option: 5\n",
      "option: a5\n",
      "returning: set()\n",
      "returning: set()\n",
      "returning: set()\n",
      "ab: set()\n",
      "match(set(); abab)\n",
      "match({'4'}; bab)\n",
      "match(['45']; ab)\n",
      "match(['454']; b)\n",
      "match(['4545']; )\n",
      "option: 5\n",
      "option: 45\n",
      "option: 545\n",
      "option: 4545\n",
      "returning: set()\n",
      "returning: set()\n",
      "returning: set()\n",
      "returning: set()\n",
      "match({'a'}; bab)\n",
      "match(['a5']; ab)\n",
      "match(['a54']; b)\n",
      "match(['a545']; )\n",
      "option: 5\n",
      "option: 45\n",
      "option: 545\n",
      "option: a545\n",
      "returning: set()\n",
      "returning: set()\n",
      "returning: set()\n",
      "returning: set()\n",
      "returning: set()\n",
      "abab: set()\n"
     ]
    }
   ],
   "source": [
    "print(f\"ab: {match(set(), 'ab', rules)}\")\n",
    "print(f\"abab: {match(set(), 'abab', rules)}\")\n",
    "# print(f\"{messages[0][0:2]}: {match({'4', 'a'}, messages[0][1], rules)}\")\n",
    "#print(f\"{messages[0]} {messages[0][0:3]} {messages[0][3:]}: {match({'34', '3a'}, messages[0][3:], rules)}\")\n",
    "#print(f\"{messages[0]}: {match({}, messages[0], rules)}\")"
   ]
  }
 ]
}
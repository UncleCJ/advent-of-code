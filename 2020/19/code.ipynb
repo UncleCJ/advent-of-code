{
 "cells": [
  {
   "cell_type": "markdown",
   "metadata": {},
   "source": [
    "# Day 19: Monster Messages\n",
    "\n",
    "[*Advent of Code 2020 day 19*](https://adventofcode.com/2020/day/19) and [*solution megathread*](https://redd.it/kg1mro)\n",
    "\n",
    "[![nbviewer](https://raw.githubusercontent.com/jupyter/design/master/logos/Badges/nbviewer_badge.svg)](https://nbviewer.jupyter.org/github/UncleCJ/advent-of-code/blob/cj/2020/19/code.ipynb) [![Binder](https://mybinder.org/badge_logo.svg)](https://mybinder.org/v2/gh/UncleCJ/advent-of-code/cj?filepath=2020%2F19%2Fcode.ipynb)"
   ]
  },
  {
   "cell_type": "code",
   "execution_count": 1,
   "metadata": {},
   "outputs": [
    {
     "name": "stdout",
     "output_type": "stream",
     "text": [
      "Writing 'downloaded' (dict) to file 'downloaded'.\n"
     ]
    }
   ],
   "source": [
    "from IPython.display import HTML\n",
    "import sys\n",
    "sys.path.append('../../')\n",
    "import common\n",
    "\n",
    "downloaded = common.refresh()\n",
    "%store downloaded >downloaded"
   ]
  },
  {
   "cell_type": "markdown",
   "metadata": {},
   "source": [
    "## Part One"
   ]
  },
  {
   "cell_type": "code",
   "execution_count": 2,
   "metadata": {},
   "outputs": [
    {
     "data": {
      "text/html": [
       "<h2>--- Day 19: Monster Messages ---</h2><p>You land in an airport surrounded by dense forest. As you walk to your high-speed train, the Elves at the <span title=\"This is a purely fictional organization. Any resemblance to actual organizations, past or present, is purely coincidental.\">Mythical Information Bureau</span> contact you again. They think their satellite has collected an image of a <em>sea monster</em>! Unfortunately, the connection to the satellite is having problems, and many of the messages sent back from the satellite have been corrupted.</p>\n",
       "<p>They sent you a list of <em>the rules valid messages should obey</em> and a list of <em>received messages</em> they've collected so far (your puzzle input).</p>\n",
       "<p>The <em>rules for valid messages</em> (the top part of your puzzle input) are numbered and build upon each other. For example:</p>\n",
       "<pre><code>0: 1 2\n",
       "1: \"a\"\n",
       "2: 1 3 | 3 1\n",
       "3: \"b\"\n",
       "</code></pre>\n",
       "<p>Some rules, like <code>3: \"b\"</code>, simply match a single character (in this case, <code>b</code>).</p>\n",
       "<p>The remaining rules list the sub-rules that must be followed; for example, the rule <code>0: 1 2</code> means that to match rule <code>0</code>, the text being checked must match rule <code>1</code>, and the text after the part that matched rule <code>1</code> must then match rule <code>2</code>.</p>\n",
       "<p>Some of the rules have multiple lists of sub-rules separated by a pipe (<code>|</code>). This means that <em>at least one</em> list of sub-rules must match. (The ones that match might be different each time the rule is encountered.) For example, the rule <code>2: 1 3 | 3 1</code> means that to match rule <code>2</code>, the text being checked must match rule <code>1</code> followed by rule <code>3</code> <em>or</em> it must match rule <code>3</code> followed by rule <code>1</code>.</p>\n",
       "<p>Fortunately, there are no loops in the rules, so the list of possible matches will be finite. Since rule <code>1</code> matches <code>a</code> and rule <code>3</code> matches <code>b</code>, rule <code>2</code> matches either <code>ab</code> or <code>ba</code>. Therefore, rule <code>0</code> matches <code>aab</code> or <code>aba</code>.</p>\n",
       "<p>Here's a more interesting example:</p>\n",
       "<pre><code>0: 4 1 5\n",
       "1: 2 3 | 3 2\n",
       "2: 4 4 | 5 5\n",
       "3: 4 5 | 5 4\n",
       "4: \"a\"\n",
       "5: \"b\"\n",
       "</code></pre>\n",
       "<p>Here, because rule <code>4</code> matches <code>a</code> and rule <code>5</code> matches <code>b</code>, rule <code>2</code> matches two letters that are the same (<code>aa</code> or <code>bb</code>), and rule <code>3</code> matches two letters that are different (<code>ab</code> or <code>ba</code>).</p>\n",
       "<p>Since rule <code>1</code> matches rules <code>2</code> and <code>3</code> once each in either order, it must match two pairs of letters, one pair with matching letters and one pair with different letters. This leaves eight possibilities: <code>aaab</code>, <code>aaba</code>, <code>bbab</code>, <code>bbba</code>, <code>abaa</code>, <code>abbb</code>, <code>baaa</code>, or <code>babb</code>.</p>\n",
       "<p>Rule <code>0</code>, therefore, matches <code>a</code> (rule <code>4</code>), then any of the eight options from rule <code>1</code>, then <code>b</code> (rule <code>5</code>): <code>aaaabb</code>, <code>aaabab</code>, <code>abbabb</code>, <code>abbbab</code>, <code>aabaab</code>, <code>aabbbb</code>, <code>abaaab</code>, or <code>ababbb</code>.</p>\n",
       "<p>The <em>received messages</em> (the bottom part of your puzzle input) need to be checked against the rules so you can determine which are valid and which are corrupted. Including the rules and the messages together, this might look like:</p>\n",
       "<pre><code>0: 4 1 5\n",
       "1: 2 3 | 3 2\n",
       "2: 4 4 | 5 5\n",
       "3: 4 5 | 5 4\n",
       "4: \"a\"\n",
       "5: \"b\"\n",
       "\n",
       "ababbb\n",
       "bababa\n",
       "abbbab\n",
       "aaabbb\n",
       "aaaabbb\n",
       "</code></pre>\n",
       "<p>Your goal is to determine <em>the number of messages that completely match rule <code>0</code></em>. In the above example, <code>ababbb</code> and <code>abbbab</code> match, but <code>bababa</code>, <code>aaabbb</code>, and <code>aaaabbb</code> do not, producing the answer <em><code>2</code></em>. The whole message must match all of rule <code>0</code>; there can't be extra unmatched characters in the message. (For example, <code>aaaabbb</code> might appear to match rule <code>0</code> above, but it has an extra unmatched <code>b</code> on the end.)</p>\n",
       "<p><em>How many messages completely match rule <code>0</code>?</em></p>\n"
      ],
      "text/plain": [
       "<IPython.core.display.HTML object>"
      ]
     },
     "execution_count": 2,
     "metadata": {},
     "output_type": "execute_result"
    }
   ],
   "source": [
    "HTML(downloaded['part1'])"
   ]
  },
  {
   "cell_type": "markdown",
   "metadata": {},
   "source": [
    "## Boilerplate\n",
    "\n",
    "Let's try using [pycodestyle_magic](https://github.com/mattijn/pycodestyle_magic) with pycodestyle (flake8 stopped working for me in VS Code Jupyter). Now how does type checking work?"
   ]
  },
  {
   "cell_type": "code",
   "execution_count": 3,
   "metadata": {},
   "outputs": [],
   "source": [
    "%load_ext pycodestyle_magic"
   ]
  },
  {
   "cell_type": "code",
   "execution_count": 4,
   "metadata": {},
   "outputs": [],
   "source": [
    "%pycodestyle_on"
   ]
  },
  {
   "cell_type": "code",
   "execution_count": 5,
   "metadata": {},
   "outputs": [],
   "source": [
    "testdata = \"\"\"0: 4 1 5\n",
    "1: 2 3 | 3 2\n",
    "2: 4 4 | 5 5\n",
    "3: 4 5 | 5 4\n",
    "4: \"a\"\n",
    "5: \"b\"\n",
    "\n",
    "ababbb\n",
    "bababa\n",
    "abbbab\n",
    "aaabbb\n",
    "aaaabbb\"\"\".splitlines()\n",
    "\n",
    "inputdata = downloaded['input'].splitlines()"
   ]
  },
  {
   "cell_type": "code",
   "execution_count": 6,
   "metadata": {},
   "outputs": [],
   "source": [
    "class Rule(object):\n",
    "    def __init__(self, rule):\n",
    "        self.literal = None\n",
    "        self.children = None\n",
    "        if '\"' in rule:\n",
    "            self.literal = rule[1]\n",
    "        else:\n",
    "            if '|' in rule:\n",
    "                rules = rule.split(' | ', 1)\n",
    "            else:\n",
    "                rules = [rule]\n",
    "            self.children = [[int(r) for r in rule.split()] for rule in rules]\n",
    "\n",
    "    def __repr__(self):\n",
    "        if self.literal:\n",
    "            return self.literal\n",
    "        else:\n",
    "            return str(self.children)\n",
    "\n",
    "\n",
    "def parse_rules(lines):\n",
    "    rules = dict()\n",
    "    for line in lines:\n",
    "        nr, rule = line.split(': ', )\n",
    "        rules[int(nr)] = Rule(rule)\n",
    "    return rules\n",
    "\n",
    "\n",
    "def parse2(lines):\n",
    "    blank_idx = lines.index('')\n",
    "    rules = parse_rules(lines[:blank_idx])\n",
    "    messages = lines[blank_idx + 1:]\n",
    "    return rules, messages\n",
    "\n",
    "\n",
    "def match_rule_seq(message, rule_seq, rules):\n",
    "    if len(message) == 0 and len(rule_seq) == 0:\n",
    "        return True\n",
    "    elif len(message) == 0 or len(rule_seq) == 0:\n",
    "        return False\n",
    "\n",
    "    if rule_seq[0] not in rules.keys():\n",
    "        return False\n",
    "    target = rules[rule_seq[0]]\n",
    "\n",
    "    if target.literal:\n",
    "        if message[0] == target.literal:\n",
    "            return match_rule_seq(message[1:], rule_seq[1:], rules)\n",
    "        else:\n",
    "            return False\n",
    "    elif target.children:\n",
    "        return any([match_rule_seq(message, seq + rule_seq[1:], rules)\n",
    "                    for seq in target.children])\n",
    "    else:\n",
    "        return False"
   ]
  },
  {
   "cell_type": "code",
   "execution_count": 7,
   "metadata": {},
   "outputs": [
    {
     "name": "stdout",
     "output_type": "stream",
     "text": [
      "{0: [[4, 1, 5]], 1: [[2, 3], [3, 2]], 2: [[4, 4], [5, 5]], 3: [[4, 5], [5, 4]], 4: a, 5: b}\n",
      "2\n"
     ]
    }
   ],
   "source": [
    "rules, messages = parse2(testdata)\n",
    "print(rules)\n",
    "print(sum([match_rule_seq(message, [0], rules) for message in messages]))"
   ]
  },
  {
   "cell_type": "code",
   "execution_count": 8,
   "metadata": {
    "tags": []
   },
   "outputs": [
    {
     "name": "stdout",
     "output_type": "stream",
     "text": [
      "222\n"
     ]
    }
   ],
   "source": [
    "rules, messages = parse2(inputdata)\n",
    "print(sum([match_rule_seq(message, [0], rules) for message in messages]))"
   ]
  },
  {
   "cell_type": "markdown",
   "metadata": {},
   "source": [
    "## I must have done something right!\n",
    "\n",
    "-- You may read my desperation beneath --"
   ]
  },
  {
   "cell_type": "code",
   "execution_count": 9,
   "metadata": {},
   "outputs": [
    {
     "data": {
      "text/html": [
       "\n",
       "<p>Your puzzle answer was <code>222</code>.</p>"
      ],
      "text/plain": [
       "<IPython.core.display.HTML object>"
      ]
     },
     "execution_count": 9,
     "metadata": {},
     "output_type": "execute_result"
    }
   ],
   "source": [
    "HTML(downloaded['part1_footer'])"
   ]
  },
  {
   "cell_type": "markdown",
   "metadata": {},
   "source": [
    "## Part Two"
   ]
  },
  {
   "cell_type": "code",
   "execution_count": 10,
   "metadata": {},
   "outputs": [
    {
     "data": {
      "text/html": [
       "<h2 id=\"part2\">--- Part Two ---</h2><p>As you look over the list of messages, you realize your matching rules aren't quite right. To fix them, completely replace rules <code>8: 42</code> and <code>11: 42 31</code> with the following:</p>\n",
       "<pre><code>8: 42 | 42 8\n",
       "11: 42 31 | 42 11 31\n",
       "</code></pre>\n",
       "<p>This small change has a big impact: now, the rules <em>do</em> contain loops, and the list of messages they could hypothetically match is infinite. You'll need to determine how these changes affect which messages are valid.</p>\n",
       "<p>Fortunately, many of the rules are unaffected by this change; it might help to start by looking at which rules always match the same set of values and how <em>those</em> rules (especially rules <code>42</code> and <code>31</code>) are used by the new versions of rules <code>8</code> and <code>11</code>.</p>\n",
       "<p>(Remember, <em>you only need to handle the rules you have</em>; building a solution that could handle any hypothetical combination of rules would be <a href=\"https://en.wikipedia.org/wiki/Formal_grammar\" target=\"_blank\">significantly more difficult</a>.)</p>\n",
       "<p>For example:</p>\n",
       "<pre><code>42: 9 14 | 10 1\n",
       "9: 14 27 | 1 26\n",
       "10: 23 14 | 28 1\n",
       "1: \"a\"\n",
       "11: 42 31\n",
       "5: 1 14 | 15 1\n",
       "19: 14 1 | 14 14\n",
       "12: 24 14 | 19 1\n",
       "16: 15 1 | 14 14\n",
       "31: 14 17 | 1 13\n",
       "6: 14 14 | 1 14\n",
       "2: 1 24 | 14 4\n",
       "0: 8 11\n",
       "13: 14 3 | 1 12\n",
       "15: 1 | 14\n",
       "17: 14 2 | 1 7\n",
       "23: 25 1 | 22 14\n",
       "28: 16 1\n",
       "4: 1 1\n",
       "20: 14 14 | 1 15\n",
       "3: 5 14 | 16 1\n",
       "27: 1 6 | 14 18\n",
       "14: \"b\"\n",
       "21: 14 1 | 1 14\n",
       "25: 1 1 | 1 14\n",
       "22: 14 14\n",
       "8: 42\n",
       "26: 14 22 | 1 20\n",
       "18: 15 15\n",
       "7: 14 5 | 1 21\n",
       "24: 14 1\n",
       "\n",
       "abbbbbabbbaaaababbaabbbbabababbbabbbbbbabaaaa\n",
       "bbabbbbaabaabba\n",
       "babbbbaabbbbbabbbbbbaabaaabaaa\n",
       "aaabbbbbbaaaabaababaabababbabaaabbababababaaa\n",
       "bbbbbbbaaaabbbbaaabbabaaa\n",
       "bbbababbbbaaaaaaaabbababaaababaabab\n",
       "ababaaaaaabaaab\n",
       "ababaaaaabbbaba\n",
       "baabbaaaabbaaaababbaababb\n",
       "abbbbabbbbaaaababbbbbbaaaababb\n",
       "aaaaabbaabaaaaababaa\n",
       "aaaabbaaaabbaaa\n",
       "aaaabbaabbaaaaaaabbbabbbaaabbaabaaa\n",
       "babaaabbbaaabaababbaabababaaab\n",
       "aabbbbbaabbbaaaaaabbbbbababaaaaabbaaabba\n",
       "</code></pre>\n",
       "<p>Without updating rules <code>8</code> and <code>11</code>, these rules only match three messages: <code>bbabbbbaabaabba</code>, <code>ababaaaaaabaaab</code>, and <code>ababaaaaabbbaba</code>.</p>\n",
       "<p>However, after updating rules <code>8</code> and <code>11</code>, a total of <em><code>12</code></em> messages match:</p>\n",
       "<ul>\n",
       "<li><code>bbabbbbaabaabba</code></li>\n",
       "<li><code>babbbbaabbbbbabbbbbbaabaaabaaa</code></li>\n",
       "<li><code>aaabbbbbbaaaabaababaabababbabaaabbababababaaa</code></li>\n",
       "<li><code>bbbbbbbaaaabbbbaaabbabaaa</code></li>\n",
       "<li><code>bbbababbbbaaaaaaaabbababaaababaabab</code></li>\n",
       "<li><code>ababaaaaaabaaab</code></li>\n",
       "<li><code>ababaaaaabbbaba</code></li>\n",
       "<li><code>baabbaaaabbaaaababbaababb</code></li>\n",
       "<li><code>abbbbabbbbaaaababbbbbbaaaababb</code></li>\n",
       "<li><code>aaaaabbaabaaaaababaa</code></li>\n",
       "<li><code>aaaabbaabbaaaaaaabbbabbbaaabbaabaaa</code></li>\n",
       "<li><code>aabbbbbaabbbaaaaaabbbbbababaaaaabbaaabba</code></li>\n",
       "</ul>\n",
       "<p><em>After updating rules <code>8</code> and <code>11</code>, how many messages completely match rule <code>0</code>?</em></p>\n"
      ],
      "text/plain": [
       "<IPython.core.display.HTML object>"
      ]
     },
     "execution_count": 10,
     "metadata": {},
     "output_type": "execute_result"
    }
   ],
   "source": [
    "HTML(downloaded['part2'])"
   ]
  },
  {
   "cell_type": "code",
   "execution_count": 11,
   "metadata": {},
   "outputs": [
    {
     "name": "stdout",
     "output_type": "stream",
     "text": [
      "2\n"
     ]
    }
   ],
   "source": [
    "rules, messages = parse2(testdata)\n",
    "rules[8] = Rule('42 | 42 8')\n",
    "rules[11] = Rule('42 31 | 42 11 31')\n",
    "print(sum([match_rule_seq(message, [0], rules) for message in messages]))"
   ]
  },
  {
   "cell_type": "code",
   "execution_count": 12,
   "metadata": {},
   "outputs": [
    {
     "name": "stdout",
     "output_type": "stream",
     "text": [
      "339\n"
     ]
    }
   ],
   "source": [
    "rules, messages = parse2(inputdata)\n",
    "rules[8] = Rule('42 | 42 8')\n",
    "rules[11] = Rule('42 31 | 42 11 31')\n",
    "print(sum([match_rule_seq(message, [0], rules) for message in messages]))"
   ]
  },
  {
   "cell_type": "code",
   "execution_count": 13,
   "metadata": {},
   "outputs": [
    {
     "data": {
      "text/html": [
       "\n",
       "<p>Your puzzle answer was <code>339</code>.</p><p class=\"day-success\">Both parts of this puzzle are complete! They provide two gold stars: **</p>\n",
       "<p>At this point, all that is left is for you to <a href=\"/2020\">admire your Advent calendar</a>.</p>\n",
       "<p>If you still want to see it, you can <a href=\"19/input\" target=\"_blank\">get your puzzle input</a>.</p>\n",
       "<p>You can also <span class=\"share\">[Share<span class=\"share-content\">on\n",
       "  <a href=\"https://twitter.com/intent/tweet?text=I%27ve+completed+%22Monster+Messages%22+%2D+Day+19+%2D+Advent+of+Code+2020&amp;url=https%3A%2F%2Fadventofcode%2Ecom%2F2020%2Fday%2F19&amp;related=ericwastl&amp;hashtags=AdventOfCode\" target=\"_blank\">Twitter</a>\n",
       "  <a href=\"javascript:void(0);\" onclick=\"var mastodon_instance=prompt('Mastodon Instance / Server Name?'); if(typeof mastodon_instance==='string' && mastodon_instance.length){this.href='https://'+mastodon_instance+'/share?text=I%27ve+completed+%22Monster+Messages%22+%2D+Day+19+%2D+Advent+of+Code+2020+%23AdventOfCode+https%3A%2F%2Fadventofcode%2Ecom%2F2020%2Fday%2F19'}else{return false;}\" target=\"_blank\">Mastodon</a\n",
       "></span>]</span> this puzzle.</p>\n"
      ],
      "text/plain": [
       "<IPython.core.display.HTML object>"
      ]
     },
     "execution_count": 13,
     "metadata": {},
     "output_type": "execute_result"
    }
   ],
   "source": [
    "HTML(downloaded['part2_footer'])"
   ]
  },
  {
   "cell_type": "markdown",
   "metadata": {},
   "source": [
    "## Failed attempts..."
   ]
  },
  {
   "cell_type": "code",
   "execution_count": 14,
   "metadata": {},
   "outputs": [],
   "source": [
    "def parse(data):\n",
    "    rules = dict()\n",
    "    messages = []\n",
    "    section = 1\n",
    "    for line in data:\n",
    "        if line == \"\":\n",
    "            section += 1\n",
    "        elif section == 1:\n",
    "            nr, patterns = [a.strip() for a in line.split(':')]\n",
    "            if '\"' in patterns:\n",
    "                rules[patterns[-2]] = nr\n",
    "            elif '|' in patterns:\n",
    "                p1, p2 = [p.strip() for p in patterns.split('|', 1)]\n",
    "                rules[p1] = nr\n",
    "                rules[p2] = nr\n",
    "            else:\n",
    "                rules[patterns] = nr\n",
    "        elif section == 2:\n",
    "            messages.append(line)\n",
    "    return rules, messages"
   ]
  },
  {
   "cell_type": "code",
   "execution_count": 15,
   "metadata": {},
   "outputs": [
    {
     "data": {
      "text/plain": [
       "{'4 1 5': '0',\n",
       " '2 3': '1',\n",
       " '3 2': '1',\n",
       " '4 4': '2',\n",
       " '5 5': '2',\n",
       " '4 5': '3',\n",
       " '5 4': '3',\n",
       " 'a': '4',\n",
       " 'b': '5'}"
      ]
     },
     "execution_count": 15,
     "metadata": {},
     "output_type": "execute_result"
    }
   ],
   "source": [
    "rules, messages = parse(testdata)\n",
    "rules"
   ]
  },
  {
   "cell_type": "code",
   "execution_count": 16,
   "metadata": {},
   "outputs": [],
   "source": [
    "def match(previous_matches, remainder, rules):\n",
    "    print(f'match({previous_matches}; {remainder})')\n",
    "    if len(remainder) == 0 and previous_matches == '0':\n",
    "        return previous_matches  # We are done\n",
    "\n",
    "    if len(remainder) > 1:\n",
    "        current, remainder_new = (remainder[0], remainder[1:])\n",
    "    else:\n",
    "        current, remainder_new = (remainder, '')  # Soon done\n",
    "\n",
    "    # If the currently considered item itself matches, consider those\n",
    "    if current in rules.keys():\n",
    "        if len(previous_matches) == 0:\n",
    "            matches = match(set(rules[current]), remainder_new, rules)\n",
    "        else:\n",
    "            matches = match([p + rules[current]\n",
    "                             for p in previous_matches],\n",
    "                            remainder_new,\n",
    "                            rules)\n",
    "            print(f'returning: {matches}')\n",
    "            return matches\n",
    "\n",
    "    matches = set()\n",
    "\n",
    "    if len(previous_matches) == 0:  # If we have no history\n",
    "        matches |= match(set(current), remainder_new, rules)\n",
    "    else:\n",
    "        for p in previous_matches:\n",
    "            for i in range(1, len(p)+1):\n",
    "                option = p[-i:] + current\n",
    "                print(f'option: {option}')\n",
    "                if option in rules.keys():\n",
    "                    if len(remainder_new) > 0:\n",
    "                        if i == len(p):\n",
    "                            matches = match(set(),\n",
    "                                            rules[option] + remainder_new,\n",
    "                                            rules)\n",
    "                            print(f'returning: {matches}')\n",
    "                            return matches\n",
    "                        else:\n",
    "                            matches = match(set(p[:-i]),\n",
    "                                            rules[option] + remainder_new,\n",
    "                                            rules)\n",
    "                            print(f'returning: {matches}')\n",
    "                            return matches\n",
    "                    else:\n",
    "                        if i == len(p):\n",
    "                            matches = match(set(),\n",
    "                                            rules[option],\n",
    "                                            rules)\n",
    "                            print(f'returning: {matches}')\n",
    "                            return matches\n",
    "                        else:\n",
    "                            matches = match(set(p[:-i]),\n",
    "                                            rules[option],\n",
    "                                            rules)\n",
    "                            print(f'returning: {matches}')\n",
    "                            return matches\n",
    "\n",
    "    # matches |= set([p + current for p in previous_matches])\n",
    "    print(f'returning: {matches}')\n",
    "    return matches"
   ]
  },
  {
   "cell_type": "markdown",
   "metadata": {},
   "source": [
    "```\n",
    "abab:\n",
    "    {a -> 4} 'bab': # assuming existing are empty?\n",
    "    {4} '5ab'\n",
    "    {'4 5' -> 3} 'ab'\n",
    "    {3} '4b'\n",
    "\n",
    "abab:\n",
    "    {a -> 4} 'bab': # assuming existing are empty?\n",
    "    {'4 5'} 'ab'\n",
    "    {4, 5 -> 3} 'ab'\n",
    "    {3} '4b'\n",
    "\n",
    "\n",
    "abbbab:\n",
    "    a -> 4 'bbbab'\n",
    "    '4 b -> 5' 'bbab'\n",
    "    ...\n",
    "    '4 5 5 5 4 5' ''\n",
    "    '4 5 5 5' '3'\n",
    "    '4 5' '2 3'\n",
    "    '' '3 2 3'\n",
    "    '1' '1'... #bad\n",
    "\n",
    "'4 1 5': '0'\n",
    "    'a {2 3, 3 2} b'\n",
    "\n",
    "    a bbba b\n",
    "\n",
    "    \n",
    "```\n",
    "        \n",
    "    "
   ]
  },
  {
   "cell_type": "code",
   "execution_count": 17,
   "metadata": {},
   "outputs": [
    {
     "name": "stdout",
     "output_type": "stream",
     "text": [
      "match(set(); ab)\n",
      "match({'4'}; b)\n",
      "match(['45']; )\n",
      "option: 5\n",
      "option: 45\n",
      "returning: set()\n",
      "returning: set()\n",
      "match({'a'}; b)\n",
      "match(['a5']; )\n",
      "option: 5\n",
      "option: a5\n",
      "returning: set()\n",
      "returning: set()\n",
      "returning: set()\n",
      "ab: set()\n",
      "match(set(); abab)\n",
      "match({'4'}; bab)\n",
      "match(['45']; ab)\n",
      "match(['454']; b)\n",
      "match(['4545']; )\n",
      "option: 5\n",
      "option: 45\n",
      "option: 545\n",
      "option: 4545\n",
      "returning: set()\n",
      "returning: set()\n",
      "returning: set()\n",
      "returning: set()\n",
      "match({'a'}; bab)\n",
      "match(['a5']; ab)\n",
      "match(['a54']; b)\n",
      "match(['a545']; )\n",
      "option: 5\n",
      "option: 45\n",
      "option: 545\n",
      "option: a545\n",
      "returning: set()\n",
      "returning: set()\n",
      "returning: set()\n",
      "returning: set()\n",
      "returning: set()\n",
      "abab: set()\n"
     ]
    }
   ],
   "source": [
    "print(f\"ab: {match(set(), 'ab', rules)}\")\n",
    "print(f\"abab: {match(set(), 'abab', rules)}\")\n",
    "# print(f\"{messages[0][0:2]}: {match({'4', 'a'}, messages[0][1], rules)}\")\n",
    "# print(f\"{messages[0]} {messages[0][0:3]}\"\n",
    "#       f\" {messages[0][3:]}: {match({'34', '3a'},\"\n",
    "#       f\" messages[0][3:], rules)}\")\n",
    "# print(f\"{messages[0]}: {match({}, messages[0], rules)}\")"
   ]
  }
 ],
 "metadata": {
  "kernelspec": {
   "display_name": "Python 3",
   "language": "python",
   "name": "python3"
  },
  "language_info": {
   "codemirror_mode": {
    "name": "ipython",
    "version": 3
   },
   "file_extension": ".py",
   "mimetype": "text/x-python",
   "name": "python",
   "nbconvert_exporter": "python",
   "pygments_lexer": "ipython3",
   "version": "3.10.0"
  },
  "orig_nbformat": 2
 },
 "nbformat": 4,
 "nbformat_minor": 2
}

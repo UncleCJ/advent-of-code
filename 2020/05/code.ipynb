{
 "cells": [
  {
   "cell_type": "markdown",
   "metadata": {},
   "source": [
    "# Day 5: Binary Boarding\n",
    "\n",
    "[*Advent of Code 2020 day 5*](https://adventofcode.com/2020/day/5) and [*solution megathread*](https://redd.it/k71h6r)\n",
    "\n",
    "[![nbviewer](https://raw.githubusercontent.com/jupyter/design/master/logos/Badges/nbviewer_badge.svg)](https://nbviewer.jupyter.org/github/UncleCJ/advent-of-code/blob/cj/2020/05/code.ipynb) [![Binder](https://mybinder.org/badge_logo.svg)](https://mybinder.org/v2/gh/UncleCJ/advent-of-code/cj?filepath=2020%2F05%2Fcode.ipynb)"
   ]
  },
  {
   "cell_type": "code",
   "execution_count": 1,
   "metadata": {},
   "outputs": [
    {
     "name": "stdout",
     "output_type": "stream",
     "text": [
      "Writing 'downloaded' (dict) to file 'downloaded'.\n"
     ]
    }
   ],
   "source": [
    "from IPython.display import HTML\n",
    "import sys\n",
    "sys.path.append('../../')\n",
    "import common\n",
    "\n",
    "downloaded = common.refresh()\n",
    "%store downloaded >downloaded"
   ]
  },
  {
   "cell_type": "markdown",
   "metadata": {},
   "source": [
    "## Part One"
   ]
  },
  {
   "cell_type": "code",
   "execution_count": 2,
   "metadata": {},
   "outputs": [
    {
     "data": {
      "text/html": [
       "<h2>--- Day 5: Binary Boarding ---</h2><p>You board your plane only to discover a new problem: you dropped your boarding pass! You aren't sure which seat is yours, and all of the flight attendants are busy with the flood of people that suddenly made it through passport control.</p>\n",
       "<p>You write a <span title=\"No problem!\">quick program</span> to use your phone's camera to scan all of the nearby boarding passes (your puzzle input); perhaps you can find your seat through process of elimination.</p>\n",
       "<p>Instead of <a target=\"_blank\" href=\"https://www.youtube.com/watch?v=oAHbLRjF0vo\">zones or groups</a>, this airline uses <em>binary space partitioning</em> to seat people. A seat might be specified like <code>FBFBBFFRLR</code>, where <code>F</code> means \"front\", <code>B</code> means \"back\", <code>L</code> means \"left\", and <code>R</code> means \"right\".</p>\n",
       "<p>The first 7 characters will either be <code>F</code> or <code>B</code>; these specify exactly one of the <em>128 rows</em> on the plane (numbered <code>0</code> through <code>127</code>). Each letter tells you which half of a region the given seat is in. Start with the whole list of rows; the first letter indicates whether the seat is in the <em>front</em> (<code>0</code> through <code>63</code>) or the <em>back</em> (<code>64</code> through <code>127</code>). The next letter indicates which half of that region the seat is in, and so on until you're left with exactly one row.</p>\n",
       "<p>For example, consider just the first seven characters of <code>FBFBBFFRLR</code>:</p>\n",
       "<ul>\n",
       "<li>Start by considering the whole range, rows <code>0</code> through <code>127</code>.</li>\n",
       "<li><code>F</code> means to take the <em>lower half</em>, keeping rows <code>0</code> through <code>63</code>.</li>\n",
       "<li><code>B</code> means to take the <em>upper half</em>, keeping rows <code>32</code> through <code>63</code>.</li>\n",
       "<li><code>F</code> means to take the <em>lower half</em>, keeping rows <code>32</code> through <code>47</code>.</li>\n",
       "<li><code>B</code> means to take the <em>upper half</em>, keeping rows <code>40</code> through <code>47</code>.</li>\n",
       "<li><code>B</code> keeps rows <code>44</code> through <code>47</code>.</li>\n",
       "<li><code>F</code> keeps rows <code>44</code> through <code>45</code>.</li>\n",
       "<li>The final <code>F</code> keeps the lower of the two, <em>row <code>44</code></em>.</li>\n",
       "</ul>\n",
       "<p>The last three characters will be either <code>L</code> or <code>R</code>; these specify exactly one of the <em>8 columns</em> of seats on the plane (numbered <code>0</code> through <code>7</code>). The same process as above proceeds again, this time with only three steps.  <code>L</code> means to keep the <em>lower half</em>, while <code>R</code> means to keep the <em>upper half</em>.</p>\n",
       "<p>For example, consider just the last 3 characters of <code>FBFBBFFRLR</code>:</p>\n",
       "<ul>\n",
       "<li>Start by considering the whole range, columns <code>0</code> through <code>7</code>.</li>\n",
       "<li><code>R</code> means to take the <em>upper half</em>, keeping columns <code>4</code> through <code>7</code>.</li>\n",
       "<li><code>L</code> means to take the <em>lower half</em>, keeping columns <code>4</code> through <code>5</code>.</li>\n",
       "<li>The final <code>R</code> keeps the upper of the two, <em>column <code>5</code></em>.</li>\n",
       "</ul>\n",
       "<p>So, decoding <code>FBFBBFFRLR</code> reveals that it is the seat at <em>row <code>44</code>, column <code>5</code></em>.</p>\n",
       "<p>Every seat also has a unique <em>seat ID</em>: multiply the row by 8, then add the column. In this example, the seat has ID <code>44 * 8 + 5 = <em>357</em></code>.</p>\n",
       "<p>Here are some other boarding passes:</p>\n",
       "<ul>\n",
       "<li><code>BFFFBBFRRR</code>: row <code>70</code>, column <code>7</code>, seat ID <code>567</code>.</li>\n",
       "<li><code>FFFBBBFRRR</code>: row <code>14</code>, column <code>7</code>, seat ID <code>119</code>.</li>\n",
       "<li><code>BBFFBBFRLL</code>: row <code>102</code>, column <code>4</code>, seat ID <code>820</code>.</li>\n",
       "</ul>\n",
       "<p>As a sanity check, look through your list of boarding passes. <em>What is the highest seat ID on a boarding pass?</em></p>\n"
      ],
      "text/plain": [
       "<IPython.core.display.HTML object>"
      ]
     },
     "execution_count": 2,
     "metadata": {},
     "output_type": "execute_result"
    }
   ],
   "source": [
    "HTML(downloaded['part1'])"
   ]
  },
  {
   "cell_type": "markdown",
   "metadata": {},
   "source": [
    "## Boilerplate\n",
    "\n",
    "Let's try using [pycodestyle_magic](https://github.com/mattijn/pycodestyle_magic) with pycodestyle (flake8 stopped working for me in VS Code Jupyter). Now how does type checking work?"
   ]
  },
  {
   "cell_type": "code",
   "execution_count": 3,
   "metadata": {},
   "outputs": [],
   "source": [
    "%load_ext pycodestyle_magic"
   ]
  },
  {
   "cell_type": "code",
   "execution_count": 4,
   "metadata": {},
   "outputs": [],
   "source": [
    "%pycodestyle_on"
   ]
  },
  {
   "cell_type": "code",
   "execution_count": 5,
   "metadata": {},
   "outputs": [],
   "source": [
    "# testdata = '''ecl:gry pid:860033327 eyr:2020 hcl:#fffffd\n",
    "# iyr:2011 ecl:brn hgt:59in'''.splitlines()\n",
    "\n",
    "inputdata = downloaded['input'].splitlines()"
   ]
  },
  {
   "cell_type": "code",
   "execution_count": 6,
   "metadata": {},
   "outputs": [],
   "source": [
    "def bsp(low, high, pickLow):\n",
    "    if pickLow:\n",
    "        return (low, (low+int((high-low-1)/2)))\n",
    "    else:\n",
    "        return (low+int((high-low+1)/2), high)\n",
    "\n",
    "\n",
    "def recBsp(low, high, picks):\n",
    "    if low == high:\n",
    "        return low\n",
    "    else:\n",
    "        # print(low, high, picks)\n",
    "        low, high = bsp(low, high, picks[0])\n",
    "        return recBsp(low, high, picks[1:])\n",
    "\n",
    "\n",
    "def findRow(seat):\n",
    "    return recBsp(0, 127, [x == 'F' for x in seat[0:7]])\n",
    "\n",
    "\n",
    "def findColumn(seat):\n",
    "    return recBsp(0, 7, [x == 'L' for x in seat[7:10]])\n",
    "\n",
    "\n",
    "def analyzeSeat(seat):\n",
    "    row = findRow(seat)\n",
    "    column = findColumn(seat)\n",
    "    return (row, column, row*8 + column)"
   ]
  },
  {
   "cell_type": "code",
   "execution_count": 7,
   "metadata": {},
   "outputs": [
    {
     "name": "stdout",
     "output_type": "stream",
     "text": [
      "FBFBBFFRLR (44, 5, 357)\n",
      "BFFFBBFRRR (70, 7, 567)\n",
      "FFFBBBFRRR (14, 7, 119)\n",
      "BBFFBBFRLL (102, 4, 820)\n"
     ]
    }
   ],
   "source": [
    "# Test\n",
    "for seat in ['FBFBBFFRLR', 'BFFFBBFRRR', 'FFFBBBFRRR', 'BBFFBBFRLL']:\n",
    "    print(seat, analyzeSeat(seat))"
   ]
  },
  {
   "cell_type": "code",
   "execution_count": 8,
   "metadata": {},
   "outputs": [
    {
     "name": "stdout",
     "output_type": "stream",
     "text": [
      "974\n"
     ]
    }
   ],
   "source": [
    "seatIds = [analyzeSeat(seat)[2] for seat in inputdata]\n",
    "highest = max(seatIds)\n",
    "\n",
    "print(highest)"
   ]
  },
  {
   "cell_type": "code",
   "execution_count": 9,
   "metadata": {},
   "outputs": [
    {
     "data": {
      "text/html": [
       "\n",
       "<p>Your puzzle answer was <code>974</code>.</p>"
      ],
      "text/plain": [
       "<IPython.core.display.HTML object>"
      ]
     },
     "execution_count": 9,
     "metadata": {},
     "output_type": "execute_result"
    }
   ],
   "source": [
    "HTML(downloaded['part1_footer'])"
   ]
  },
  {
   "cell_type": "markdown",
   "metadata": {},
   "source": [
    "## Part Two"
   ]
  },
  {
   "cell_type": "code",
   "execution_count": 10,
   "metadata": {},
   "outputs": [
    {
     "data": {
      "text/html": [
       "<h2 id=\"part2\">--- Part Two ---</h2><p><em>Ding!</em> The \"fasten seat belt\" signs have turned on. Time to find your seat.</p>\n",
       "<p>It's a completely full flight, so your seat should be the only missing boarding pass in your list.  However, there's a catch: some of the seats at the very front and back of the plane don't exist on this aircraft, so they'll be missing from your list as well.</p>\n",
       "<p>Your seat wasn't at the very front or back, though; the seats with IDs +1 and -1 from yours will be in your list.</p>\n",
       "<p><em>What is the ID of your seat?</em></p>\n"
      ],
      "text/plain": [
       "<IPython.core.display.HTML object>"
      ]
     },
     "execution_count": 10,
     "metadata": {},
     "output_type": "execute_result"
    }
   ],
   "source": [
    "HTML(downloaded['part2'])"
   ]
  },
  {
   "cell_type": "code",
   "execution_count": 11,
   "metadata": {},
   "outputs": [
    {
     "name": "stdout",
     "output_type": "stream",
     "text": [
      "646\n"
     ]
    }
   ],
   "source": [
    "lowest = min(seatIds)\n",
    "for answer in range(lowest, highest):\n",
    "    if answer not in seatIds:\n",
    "        print(answer)"
   ]
  },
  {
   "cell_type": "code",
   "execution_count": 12,
   "metadata": {},
   "outputs": [
    {
     "data": {
      "text/html": [
       "\n",
       "<p>Your puzzle answer was <code>646</code>.</p><p class=\"day-success\">Both parts of this puzzle are complete! They provide two gold stars: **</p>\n",
       "<p>At this point, all that is left is for you to <a href=\"/2020\">admire your Advent calendar</a>.</p>\n",
       "<p>If you still want to see it, you can <a href=\"5/input\" target=\"_blank\">get your puzzle input</a>.</p>\n",
       "<p>You can also <span class=\"share\">[Share<span class=\"share-content\">on\n",
       "  <a href=\"https://twitter.com/intent/tweet?text=I%27ve+completed+%22Binary+Boarding%22+%2D+Day+5+%2D+Advent+of+Code+2020&amp;url=https%3A%2F%2Fadventofcode%2Ecom%2F2020%2Fday%2F5&amp;related=ericwastl&amp;hashtags=AdventOfCode\" target=\"_blank\">Twitter</a>\n",
       "  <a href=\"javascript:void(0);\" onclick=\"var mastodon_instance=prompt('Mastodon Instance / Server Name?'); if(typeof mastodon_instance==='string' && mastodon_instance.length){this.href='https://'+mastodon_instance+'/share?text=I%27ve+completed+%22Binary+Boarding%22+%2D+Day+5+%2D+Advent+of+Code+2020+%23AdventOfCode+https%3A%2F%2Fadventofcode%2Ecom%2F2020%2Fday%2F5'}else{return false;}\" target=\"_blank\">Mastodon</a\n",
       "></span>]</span> this puzzle.</p>\n"
      ],
      "text/plain": [
       "<IPython.core.display.HTML object>"
      ]
     },
     "execution_count": 12,
     "metadata": {},
     "output_type": "execute_result"
    }
   ],
   "source": [
    "HTML(downloaded['part2_footer'])"
   ]
  }
 ],
 "metadata": {
  "kernelspec": {
   "display_name": "Python 3.8.2 64-bit",
   "metadata": {
    "interpreter": {
     "hash": "31f2aee4e71d21fbe5cf8b01ff0e069b9275f58929596ceb00d14d90e3e16cd6"
    }
   },
   "name": "python3"
  },
  "language_info": {
   "codemirror_mode": {
    "name": "ipython",
    "version": 3
   },
   "file_extension": ".py",
   "mimetype": "text/x-python",
   "name": "python",
   "nbconvert_exporter": "python",
   "pygments_lexer": "ipython3",
   "version": "3.9.7"
  }
 },
 "nbformat": 4,
 "nbformat_minor": 4
}

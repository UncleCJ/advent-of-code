{
 "cells": [
  {
   "cell_type": "markdown",
   "metadata": {},
   "source": [
    "# Day 5: Binary Boarding\n",
    "\n",
    "[*Advent of Code day 5 - 2020-12-05*](https://adventofcode.com/2020/day/5) and [*solutions megathread*](https://www.reddit.com/r/adventofcode/comments/k71h6r/2020_day_05_solutions/)\n",
    "\n",
    "[![Binder](https://mybinder.org/badge_logo.svg)](https://mybinder.org/v2/gh/UncleCJ/advent-of-code/cj?filepath=day-05%2Fday-05.ipynb)\n",
    "\n",
    "You board your plane only to discover a new problem: you dropped your boarding pass! You aren't sure which seat is yours, and all of the flight attendants are busy with the flood of people that suddenly made it through passport control."
   ]
  },
  {
   "cell_type": "markdown",
   "metadata": {},
   "source": [
    "## Part 1\n",
    "\n",
    "You write a quick program to use your phone's camera to scan all of the nearby boarding passes (your puzzle input); perhaps you can find your seat through process of elimination.\n",
    "\n",
    "Instead of [zones or groups](https://www.youtube.com/watch?v=oAHbLRjF0vo), this airline uses *binary space partitioning* to seat people. A seat might be specified like `FBFBBFFRLR`, where `F` means \"front\", `B` means \"back\", `L` means \"left\", and `R` means \"right\".\n",
    "\n",
    "The first 7 characters will either be `F` or `B`; these specify exactly one of the *128 rows* on the plane (numbered `0` through `127`). Each letter tells you which half of a region the given seat is in. Start with the whole list of rows; the first letter indicates whether the seat is in the *front* (`0` through `63`) or the *back* (`64` through `127`). The next letter indicates which half of that region the seat is in, and so on until you're left with exactly one row.\n",
    "\n",
    "For example, consider just the first seven characters of `FBFBBFFRLR`:\n",
    "\n",
    "- Start by considering the whole range, rows `0` through `127`.\n",
    "- `F` means to take the *lower half*, keeping rows `0` through `63`.\n",
    "- `B` means to take the *upper half*, keeping rows `32` through `63`.\n",
    "- `F` means to take the *lower half*, keeping rows `32` through `47`.\n",
    "- `B` means to take the *upper half*, keeping rows `40` through `47`.\n",
    "- `B` keeps rows `44` through `47`.\n",
    "- `F` keeps rows `44` through `45`.\n",
    "- The final `F` keeps the lower of the two, *row `44`*.\n",
    "\n",
    "The last three characters will be either `L` or `R`; these specify exactly one of the *8 columns* of seats on the plane (numbered `0` through `7`). The same process as above proceeds again, this time with only three steps. `L` means to keep the *lower half*, while `R` means to keep the *upper half*.\n",
    "\n",
    "For example, consider just the last 3 characters of `FBFBBFFRLR`:\n",
    "\n",
    "- Start by considering the whole range, columns `0` through `7`.\n",
    "- `R` means to take the *upper half*, keeping columns `4` through `7`.\n",
    "- `L` means to take the *lower half*, keeping columns `4` through `5`.\n",
    "- The final `R` keeps the upper of the two, *column `5`*.\n",
    "\n",
    "So, decoding `FBFBBFFRLR` reveals that it is the seat at *row `44`, column `5`.*\n",
    "\n",
    "Every seat also has a unique *seat ID:* multiply the row by 8, then add the column. In this example, the seat has ID `44 * 8 + 5 =` *`357`.*\n",
    "\n",
    "Here are some other boarding passes:\n",
    "\n",
    "- `BFFFBBFRRR`: row `70`, column `7`, seat ID `567`.\n",
    "- `FFFBBBFRRR`: row `14`, column `7`, seat ID `119`.\n",
    "- `BBFFBBFRLL`: row `102`, column `4`, seat ID `820`.\n",
    "\n",
    "As a sanity check, look through your list of boarding passes. *What is the highest seat ID on a boarding pass?*\n",
    "\n",
    "To begin, [get your puzzle input](https://adventofcode.com/2020/day/5/input)."
   ]
  },
  {
   "cell_type": "code",
   "execution_count": 1,
   "metadata": {},
   "outputs": [
    {
     "name": "stdout",
     "output_type": "stream",
     "text": [
      "-- Already have input, skipping download...\n"
     ]
    }
   ],
   "source": [
    "# Initialize - from https://www.techcoil.com/blog/how-to-download-a-file-via-http-post-and-http-get-with-python-3-requests-library/\n",
    "import os\n",
    "import requests\n",
    "\n",
    "if os.path.isfile('./input.txt'):\n",
    "    print(\"-- Already have input, skipping download...\")\n",
    "else:\n",
    "    print(\"-- No input.txt, attempting to download\")\n",
    "    response = requests.get('https://adventofcode.com/2020/day/5/input')\n",
    "    if response.status_code == 200:\n",
    "        with open('input.txt', 'a') as local_file:\n",
    "            print(\"writing input.txt\")\n",
    "            local_file.write(response.content)\n",
    "\n",
    "with open('input.txt', 'r') as inp:\n",
    "    inputdata = [line.strip() for line in inp.readlines()]"
   ]
  },
  {
   "cell_type": "code",
   "execution_count": 2,
   "metadata": {},
   "outputs": [],
   "source": [
    "answer = 0\n",
    "\n",
    "# write your solution here - 'inputdata' is a list of the lines"
   ]
  },
  {
   "cell_type": "markdown",
   "metadata": {},
   "source": [
    "## Part 2\n",
    "\n",
    "*Ding!* The \"fasten seat belt\" signs have turned on. Time to find your seat.\n",
    "\n",
    "It's a completely full flight, so your seat should be the only missing boarding pass in your list. However, there's a catch: some of the seats at the very front and back of the plane don't exist on this aircraft, so they'll be missing from your list as well.\n",
    "\n",
    "Your seat wasn't at the very front or back, though; the seats with IDs +1 and -1 from yours will be in your list.\n",
    "\n",
    "*What is the ID of your seat?*"
   ]
  },
  {
   "cell_type": "code",
   "execution_count": 3,
   "metadata": {},
   "outputs": [],
   "source": [
    "answer = 0\n",
    "\n",
    "# write your solution here - 'inputdata' is a list of the lines"
   ]
  }
 ],
 "metadata": {
  "kernelspec": {
   "display_name": "Python 3.6.9 64-bit",
   "metadata": {
    "interpreter": {
     "hash": "31f2aee4e71d21fbe5cf8b01ff0e069b9275f58929596ceb00d14d90e3e16cd6"
    }
   },
   "name": "python3"
  },
  "language_info": {
   "codemirror_mode": {
    "name": "ipython",
    "version": 3
   },
   "file_extension": ".py",
   "mimetype": "text/x-python",
   "name": "python",
   "nbconvert_exporter": "python",
   "pygments_lexer": "ipython3",
   "version": "3.6.9-final"
  }
 },
 "nbformat": 4,
 "nbformat_minor": 4
}

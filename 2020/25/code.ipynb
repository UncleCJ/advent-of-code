{
 "metadata": {
  "language_info": {
   "codemirror_mode": {
    "name": "ipython",
    "version": 3
   },
   "file_extension": ".py",
   "mimetype": "text/x-python",
   "name": "python",
   "nbconvert_exporter": "python",
   "pygments_lexer": "ipython3",
   "version": "3.6.9-final"
  },
  "orig_nbformat": 2,
  "kernelspec": {
   "name": "python3",
   "display_name": "Python 3",
   "language": "python"
  }
 },
 "nbformat": 4,
 "nbformat_minor": 2,
 "cells": [
  {
   "source": [
    "# Day 25: Combo Breaker\n",
    "\n",
    "You finally reach the check-in desk. Unfortunately, their registration systems are currently offline, and they cannot check you in. Noticing the look on your face, they quickly add that tech support is already on the way! They even created all the room keys this morning; you can take yours now and give them your room deposit once the registration system comes back online.\n",
    "\n",
    "The room key is a small RFID card. Your room is on the 25th floor and the elevators are also temporarily out of service, so it takes what little energy you have left to even climb the stairs and navigate the halls. You finally reach the door to your room, swipe your card, and - beep - the light turns red.\n",
    "\n",
    "Examining the card more closely, you discover a phone number for tech support.\n",
    "\n",
    "\"Hello! How can we help you today?\" You explain the situation.\n",
    "\n",
    "\"Well, it sounds like the card isn't sending the right command to unlock the door. If you go back to the check-in desk, surely someone there can reset it for you.\" Still catching your breath, you describe the status of the elevator and the exact number of stairs you just had to climb.\n",
    "\n",
    "\"I see! Well, your only other option would be to reverse-engineer the cryptographic handshake the card does with the door and then inject your own commands into the data stream, but that's definitely impossible.\" You thank them for their time.\n",
    "\n",
    "Unfortunately for the door, you know a thing or two about cryptographic handshakes.\n",
    "\n",
    "The handshake used by the card and the door involves an operation that transforms a subject number. To transform a subject number, start with the value 1. Then, a number of times called the loop size, perform the following steps:\n",
    "\n",
    "* Set the value to itself multiplied by the subject number.\n",
    "* Set the value to the remainder after dividing the value by 20201227.\n",
    "\n",
    "The card always uses a specific, secret loop size when it transforms a subject number. The door always uses a different, secret loop size.\n",
    "\n",
    "The cryptographic handshake works like this:\n",
    "\n",
    "* The card transforms the subject number of 7 according to the card's secret loop size. The result is called the card's public key.\n",
    "* The door transforms the subject number of 7 according to the door's secret loop size. The result is called the door's public key.\n",
    "* The card and door use the wireless RFID signal to transmit the two public keys (your puzzle input) to the other device. Now, the card has the door's public key, and the door has the card's public key. Because you can eavesdrop on the signal, you have both public keys, but neither device's loop size.\n",
    "* The card transforms the subject number of the door's public key according to the card's loop size. The result is the encryption key.\n",
    "* The door transforms the subject number of the card's public key according to the door's loop size. The result is the same encryption key as the card calculated.\n",
    "\n",
    "If you can use the two public keys to determine each device's loop size, you will have enough information to calculate the secret encryption key that the card and door use to communicate; this would let you send the unlock command directly to the door!\n",
    "\n",
    "For example, suppose you know that the card's public key is 5764801. With a little trial and error, you can work out that the card's loop size must be 8, because transforming the initial subject number of 7 with a loop size of 8 produces 5764801.\n",
    "\n",
    "Then, suppose you know that the door's public key is 17807724. By the same process, you can determine that the door's loop size is 11, because transforming the initial subject number of 7 with a loop size of 11 produces 17807724.\n",
    "\n",
    "At this point, you can use either device's loop size with the other device's public key to calculate the encryption key. Transforming the subject number of 17807724 (the door's public key) with a loop size of 8 (the card's loop size) produces the encryption key, 14897079. (Transforming the subject number of 5764801 (the card's public key) with a loop size of 11 (the door's loop size) produces the same encryption key: 14897079.)\n",
    "\n",
    "What encryption key is the handshake trying to establish?"
   ],
   "cell_type": "markdown",
   "metadata": {}
  },
  {
   "cell_type": "code",
   "execution_count": 1,
   "metadata": {},
   "outputs": [],
   "source": [
    "test_card_pub = 5764801\n",
    "test_door_pub = 17807724\n",
    "\n",
    "input_card_pub = 17607508\n",
    "input_door_pub = 15065270"
   ]
  },
  {
   "cell_type": "code",
   "execution_count": 2,
   "metadata": {},
   "outputs": [],
   "source": [
    "def transform_once(value=1, subject_number=7):\n",
    "    return (value * subject_number) % 20201227"
   ]
  },
  {
   "cell_type": "code",
   "execution_count": 3,
   "metadata": {},
   "outputs": [],
   "source": [
    "def transform(loop_size, subject_number=7):\n",
    "    value = 1\n",
    "    for i in range(1, loop_size + 1):\n",
    "        value = transform_once(value, subject_number)\n",
    "    return value"
   ]
  },
  {
   "cell_type": "code",
   "execution_count": 4,
   "metadata": {},
   "outputs": [],
   "source": [
    "def find_loop_size(public_key):\n",
    "    loop_size = 0\n",
    "    value = 1\n",
    "    while value != public_key:\n",
    "        loop_size += 1\n",
    "        value = transform_once(value)\n",
    "    return loop_size"
   ]
  },
  {
   "cell_type": "code",
   "execution_count": 5,
   "metadata": {},
   "outputs": [
    {
     "output_type": "stream",
     "name": "stdout",
     "text": [
      "5764801\n17807724\n14897079\n14897079\n"
     ]
    }
   ],
   "source": [
    "test_card_ls = find_loop_size(test_card_pub)\n",
    "test_door_ls = find_loop_size(test_door_pub)\n",
    "print(transform(test_card_ls))\n",
    "print(transform(test_door_ls))\n",
    "print(transform(test_door_ls, test_card_pub))\n",
    "print(transform(test_card_ls, test_door_pub))"
   ]
  },
  {
   "cell_type": "code",
   "execution_count": 6,
   "metadata": {},
   "outputs": [],
   "source": [
    "input_card_ls = find_loop_size(input_card_pub)\n",
    "input_door_ls = find_loop_size(input_door_pub)"
   ]
  },
  {
   "cell_type": "code",
   "execution_count": 7,
   "metadata": {},
   "outputs": [
    {
     "output_type": "stream",
     "name": "stdout",
     "text": [
      "12285001\n",
      "12285001\n"
     ]
    }
   ],
   "source": [
    "print(transform(input_door_ls, input_card_pub))\n",
    "print(transform(input_card_ls, input_door_pub))"
   ]
  }
 ]
}
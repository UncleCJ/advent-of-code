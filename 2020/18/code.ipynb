{
 "cells": [
  {
   "cell_type": "markdown",
   "metadata": {},
   "source": [
    "# Day 18: Operation Order\n",
    "\n",
    "[*Advent of Code 2020 day 18*](https://adventofcode.com/2020/day/18) and [*solution megathread*](https://redd.it/kfeldk)\n",
    "\n",
    "[![nbviewer](https://raw.githubusercontent.com/jupyter/design/master/logos/Badges/nbviewer_badge.svg)](https://nbviewer.jupyter.org/github/UncleCJ/advent-of-code/blob/cj/2020/18/code.ipynb) [![Binder](https://mybinder.org/badge_logo.svg)](https://mybinder.org/v2/gh/UncleCJ/advent-of-code/cj?filepath=2020%2F18%2Fcode.ipynb)"
   ]
  },
  {
   "cell_type": "code",
   "execution_count": 1,
   "metadata": {},
   "outputs": [
    {
     "name": "stdout",
     "output_type": "stream",
     "text": [
      "Writing 'downloaded' (dict) to file 'downloaded'.\n"
     ]
    }
   ],
   "source": [
    "from IPython.display import HTML\n",
    "import sys\n",
    "sys.path.append('../../')\n",
    "import common\n",
    "\n",
    "downloaded = common.refresh()\n",
    "%store downloaded >downloaded"
   ]
  },
  {
   "cell_type": "markdown",
   "metadata": {},
   "source": [
    "## Part One"
   ]
  },
  {
   "cell_type": "code",
   "execution_count": 2,
   "metadata": {},
   "outputs": [
    {
     "data": {
      "text/html": [
       "<h2>--- Day 18: Operation Order ---</h2><p>As you look out the window and notice a heavily-forested continent slowly appear over the horizon, you are interrupted by the child sitting next to you. They're curious if you could help them with their <span title=\"Or &quot;maths&quot;, if you have more than one.\">math</span> homework.</p>\n",
       "<p>Unfortunately, it seems like this \"math\" <a href=\"https://www.youtube.com/watch?v=3QtRK7Y2pPU&t=15\" target=\"_blank\">follows different rules</a> than you remember.</p>\n",
       "<p>The homework (your puzzle input) consists of a series of expressions that consist of addition (<code>+</code>), multiplication (<code>*</code>), and parentheses (<code>(...)</code>). Just like normal math, parentheses indicate that the expression inside must be evaluated before it can be used by the surrounding expression. Addition still finds the sum of the numbers on both sides of the operator, and multiplication still finds the product.</p>\n",
       "<p>However, the rules of <em>operator precedence</em> have changed. Rather than evaluating multiplication before addition, the operators have the <em>same precedence</em>, and are evaluated left-to-right regardless of the order in which they appear.</p>\n",
       "<p>For example, the steps to evaluate the expression <code>1 + 2 * 3 + 4 * 5 + 6</code> are as follows:</p>\n",
       "<pre><code><em>1 + 2</em> * 3 + 4 * 5 + 6\n",
       "  <em>3   * 3</em> + 4 * 5 + 6\n",
       "      <em>9   + 4</em> * 5 + 6\n",
       "         <em>13   * 5</em> + 6\n",
       "             <em>65   + 6</em>\n",
       "                 <em>71</em>\n",
       "</code></pre>\n",
       "<p>Parentheses can override this order; for example, here is what happens if parentheses are added to form <code>1 + (2 * 3) + (4 * (5 + 6))</code>:</p>\n",
       "<pre><code>1 + <em>(2 * 3)</em> + (4 * (5 + 6))\n",
       "<em>1 +    6</em>    + (4 * (5 + 6))\n",
       "     7      + (4 * <em>(5 + 6)</em>)\n",
       "     7      + <em>(4 *   11   )</em>\n",
       "     <em>7      +     44</em>\n",
       "            <em>51</em>\n",
       "</code></pre>\n",
       "<p>Here are a few more examples:</p>\n",
       "<ul>\n",
       "<li><code>2 * 3 + (4 * 5)</code> becomes <em><code>26</code></em>.</li>\n",
       "<li><code>5 + (8 * 3 + 9 + 3 * 4 * 3)</code> becomes <em><code>437</code></em>.</li>\n",
       "<li><code>5 * 9 * (7 * 3 * 3 + 9 * 3 + (8 + 6 * 4))</code> becomes <em><code>12240</code></em>.</li>\n",
       "<li><code>((2 + 4 * 9) * (6 + 9 * 8 + 6) + 6) + 2 + 4 * 2</code> becomes <em><code>13632</code></em>.</li>\n",
       "</ul>\n",
       "<p>Before you can help with the homework, you need to understand it yourself. <em>Evaluate the expression on each line of the homework; what is the sum of the resulting values?</em></p>\n"
      ],
      "text/plain": [
       "<IPython.core.display.HTML object>"
      ]
     },
     "execution_count": 2,
     "metadata": {},
     "output_type": "execute_result"
    }
   ],
   "source": [
    "HTML(downloaded['part1'])"
   ]
  },
  {
   "cell_type": "markdown",
   "metadata": {},
   "source": [
    "## Boilerplate\n",
    "\n",
    "Let's try using [pycodestyle_magic](https://github.com/mattijn/pycodestyle_magic) with pycodestyle (flake8 stopped working for me in VS Code Jupyter). Now how does type checking work?"
   ]
  },
  {
   "cell_type": "code",
   "execution_count": 3,
   "metadata": {},
   "outputs": [],
   "source": [
    "%load_ext pycodestyle_magic"
   ]
  },
  {
   "cell_type": "code",
   "execution_count": 4,
   "metadata": {},
   "outputs": [],
   "source": [
    "%pycodestyle_on"
   ]
  },
  {
   "cell_type": "code",
   "execution_count": 5,
   "metadata": {},
   "outputs": [],
   "source": [
    "testdata = \"\"\"1 + 2 * 3 + 4 * 5 + 6\n",
    "2 * 3 + (4 * 5)\n",
    "5 + (8 * 3 + 9 + 3 * 4 * 3)\n",
    "5 * 9 * (7 * 3 * 3 + 9 * 3 + (8 + 6 * 4))\n",
    "((2 + 4 * 9) * (6 + 9 * 8 + 6) + 6) + 2 + 4 * 2\"\"\".splitlines()\n",
    "\n",
    "inputdata = downloaded['input'].splitlines()"
   ]
  },
  {
   "cell_type": "code",
   "execution_count": 6,
   "metadata": {},
   "outputs": [],
   "source": [
    "def shunting_yard(expr_str, debug=False, part2=False):\n",
    "    output = []\n",
    "    operators = []\n",
    "    # while there are tokens to be read:\n",
    "    for token in expr_str.split():\n",
    "        if debug:\n",
    "            print(f'read a token: {token}')\n",
    "        if token in {'+', '*'}:\n",
    "            if debug:\n",
    "                print(f'if token is an operator then: {token}')\n",
    "            while (len(operators) > 0 and operators[-1] != '('\n",
    "                   and (not part2 or\n",
    "                        (not token == '+' and not operators[-1] == '*'))\n",
    "                   ):\n",
    "                if debug:\n",
    "                    print('while there is an operator at the top of the'\n",
    "                          + ' operator stack (not a left parenthesis): '\n",
    "                          + operators[-1])\n",
    "                    # and ((the operator at the top of the operator stack has\n",
    "                    #  greater precedence) or (the operator at the top of the\n",
    "                    #  operator stack has equal precedence and the token is\n",
    "                    #  left associative))\n",
    "                if debug:\n",
    "                    print('pop operators from the operator stack onto the'\n",
    "                          + f' output queue: {operators[-1]}')\n",
    "                output.append(operators.pop())\n",
    "            if debug:\n",
    "                print(f'push it onto the operator stack: {token}')\n",
    "            operators.append(token)\n",
    "        elif token[0] == '(':\n",
    "            if debug:\n",
    "                print('else if the token is a left parenthesis then: '\n",
    "                      + token[0])\n",
    "            while token[0] == '(':\n",
    "                if debug:\n",
    "                    print(f'push it onto the operator stack: {token[0]}')\n",
    "                operators.append(token[0])\n",
    "                token = token[1:]\n",
    "            if debug:\n",
    "                print(f'push it to the output queue: {int(token)}')\n",
    "            output.append(int(token))\n",
    "        elif token[-1] == ')':\n",
    "            rp_count = 0\n",
    "            while token[-1] == ')':\n",
    "                if debug:\n",
    "                    print('else if the token is a right parenthesis: '\n",
    "                          + token[-1])\n",
    "                rp_count += 1\n",
    "                token = token[:-1]\n",
    "            if debug:\n",
    "                print(f'push it to the output queue: {int(token)}')\n",
    "            output.append(int(token))\n",
    "            while rp_count > 0:\n",
    "                rp_count -= 1\n",
    "                # while the operator at the top of the operator stack is not\n",
    "                # a left parenthesis:\n",
    "                while operators[-1] != '(':\n",
    "                    if debug:\n",
    "                        print('pop operators from the operator stack onto'\n",
    "                              + ' the output queue: {operators[-1]}')\n",
    "                    output.append(operators.pop())\n",
    "                    # /* If the stack runs out without finding a left\n",
    "                    # parenthesis, then there are mismatched parentheses. */\n",
    "                if debug:\n",
    "                    print('if there is a left parenthesis at the top of the'\n",
    "                          + 'operator stack, then: pop the operator from the'\n",
    "                          + f'operator stack and discard it: {operators[-1]}')\n",
    "                operators.pop()\n",
    "        # else if the token is a number, then:\n",
    "        else:\n",
    "            if debug:\n",
    "                print(f'push it to the output queue: {int(token)}')\n",
    "            output.append(int(token))\n",
    "    # /* After while loop, if operator stack not null,\n",
    "    # pop everything to output queue */\n",
    "    # if there are no more tokens to read then:\n",
    "    #     while there are still operator tokens on the stack:\n",
    "    while len(operators) > 0:\n",
    "        # /* If the operator token on the top of the stack is a parenthesis,\n",
    "        # then there are mismatched parentheses. */\n",
    "        if debug:\n",
    "            print('pop the operator from the operator stack onto the'\n",
    "                  + f' output queue: {operators[-1]}')\n",
    "        output.append(operators.pop())\n",
    "    # exit.\n",
    "    return output\n",
    "\n",
    "\n",
    "def evaluate(expr_rpn):\n",
    "    stack = []\n",
    "    for token in expr_rpn:\n",
    "        if token == '+':\n",
    "            stack.append(stack.pop() + stack.pop())\n",
    "        elif token == '*':\n",
    "            stack.append(stack.pop() * stack.pop())\n",
    "        else:\n",
    "            stack.append(token)\n",
    "    return stack.pop()"
   ]
  },
  {
   "cell_type": "code",
   "execution_count": 7,
   "metadata": {},
   "outputs": [
    {
     "name": "stdout",
     "output_type": "stream",
     "text": [
      "1 + 2 * 3 + 4 * 5 + 6\n",
      "read a token: 1\n",
      "push it to the output queue: 1\n",
      "read a token: +\n",
      "if token is an operator then: +\n",
      "push it onto the operator stack: +\n",
      "read a token: 2\n",
      "push it to the output queue: 2\n",
      "read a token: *\n",
      "if token is an operator then: *\n",
      "while there is an operator at the top of the operator stack (not a left parenthesis): +\n",
      "pop operators from the operator stack onto the output queue: +\n",
      "push it onto the operator stack: *\n",
      "read a token: 3\n",
      "push it to the output queue: 3\n",
      "read a token: +\n",
      "if token is an operator then: +\n",
      "while there is an operator at the top of the operator stack (not a left parenthesis): *\n",
      "pop operators from the operator stack onto the output queue: *\n",
      "push it onto the operator stack: +\n",
      "read a token: 4\n",
      "push it to the output queue: 4\n",
      "read a token: *\n",
      "if token is an operator then: *\n",
      "while there is an operator at the top of the operator stack (not a left parenthesis): +\n",
      "pop operators from the operator stack onto the output queue: +\n",
      "push it onto the operator stack: *\n",
      "read a token: 5\n",
      "push it to the output queue: 5\n",
      "read a token: +\n",
      "if token is an operator then: +\n",
      "while there is an operator at the top of the operator stack (not a left parenthesis): *\n",
      "pop operators from the operator stack onto the output queue: *\n",
      "push it onto the operator stack: +\n",
      "read a token: 6\n",
      "push it to the output queue: 6\n",
      "pop the operator from the operator stack onto the output queue: +\n",
      "[1, 2, '+', 3, '*', 4, '+', 5, '*', 6, '+']\n"
     ]
    },
    {
     "data": {
      "text/plain": [
       "71"
      ]
     },
     "execution_count": 7,
     "metadata": {},
     "output_type": "execute_result"
    }
   ],
   "source": [
    "print(testdata[0])\n",
    "expr_rpn = shunting_yard(testdata[0], debug=True)\n",
    "print(expr_rpn)\n",
    "evaluate(expr_rpn)"
   ]
  },
  {
   "cell_type": "code",
   "execution_count": 8,
   "metadata": {},
   "outputs": [
    {
     "name": "stdout",
     "output_type": "stream",
     "text": [
      "1 + 2 * 3 + 4 * 5 + 6 [1, 2, '+', 3, '*', 4, '+', 5, '*', 6, '+'] 71\n",
      "2 * 3 + (4 * 5) [2, 3, '*', 4, 5, '*', '+'] 26\n",
      "5 + (8 * 3 + 9 + 3 * 4 * 3) [5, 8, 3, '*', 9, '+', 3, '+', 4, '*', 3, '*', '+'] 437\n",
      "5 * 9 * (7 * 3 * 3 + 9 * 3 + (8 + 6 * 4)) [5, 9, '*', 7, 3, '*', 3, '*', 9, '+', 3, '*', 8, 6, '+', 4, '*', '+', '*'] 12240\n",
      "((2 + 4 * 9) * (6 + 9 * 8 + 6) + 6) + 2 + 4 * 2 [2, 4, '+', 9, '*', 6, 9, '+', 8, '*', 6, '+', '*', 6, '+', 2, '+', 4, '+', 2, '*'] 13632\n"
     ]
    }
   ],
   "source": [
    "for expr_str in testdata:\n",
    "    expr_rpn = shunting_yard(expr_str)\n",
    "    result = evaluate(expr_rpn)\n",
    "    print(expr_str, expr_rpn, result)"
   ]
  },
  {
   "cell_type": "code",
   "execution_count": 9,
   "metadata": {
    "tags": [
     "outputPrepend"
    ]
   },
   "outputs": [
    {
     "name": "stdout",
     "output_type": "stream",
     "text": [
      "464478013511\n"
     ]
    }
   ],
   "source": [
    "cumsum = 0\n",
    "for expr_str in inputdata:\n",
    "    expr_rpn = shunting_yard(expr_str)\n",
    "    result = evaluate(expr_rpn)\n",
    "    # print(expr_str, expr_rpn, result)\n",
    "    cumsum += result\n",
    "print(cumsum)"
   ]
  },
  {
   "cell_type": "code",
   "execution_count": 10,
   "metadata": {},
   "outputs": [
    {
     "data": {
      "text/html": [
       "\n",
       "<p>Your puzzle answer was <code>464478013511</code>.</p>"
      ],
      "text/plain": [
       "<IPython.core.display.HTML object>"
      ]
     },
     "execution_count": 10,
     "metadata": {},
     "output_type": "execute_result"
    }
   ],
   "source": [
    "HTML(downloaded['part1_footer'])"
   ]
  },
  {
   "cell_type": "markdown",
   "metadata": {},
   "source": [
    "## Part Two"
   ]
  },
  {
   "cell_type": "code",
   "execution_count": 11,
   "metadata": {},
   "outputs": [
    {
     "data": {
      "text/html": [
       "<h2 id=\"part2\">--- Part Two ---</h2><p>You manage to answer the child's questions and they finish part 1 of their homework, but get stuck when they reach the next section: <em>advanced</em> math.</p>\n",
       "<p>Now, addition and multiplication have <em>different</em> precedence levels, but they're not the ones you're familiar with. Instead, addition is evaluated <em>before</em> multiplication.</p>\n",
       "<p>For example, the steps to evaluate the expression <code>1 + 2 * 3 + 4 * 5 + 6</code> are now as follows:</p>\n",
       "<pre><code><em>1 + 2</em> * 3 + 4 * 5 + 6\n",
       "  3   * <em>3 + 4</em> * 5 + 6\n",
       "  3   *   7   * <em>5 + 6</em>\n",
       "  <em>3   *   7</em>   *  11\n",
       "     <em>21       *  11</em>\n",
       "         <em>231</em>\n",
       "</code></pre>\n",
       "<p>Here are the other examples from above:</p>\n",
       "<ul>\n",
       "<li><code>1 + (2 * 3) + (4 * (5 + 6))</code> still becomes <em><code>51</code></em>.</li>\n",
       "<li><code>2 * 3 + (4 * 5)</code> becomes <em><code>46</code></em>.</li>\n",
       "<li><code>5 + (8 * 3 + 9 + 3 * 4 * 3)</code> becomes <em><code>1445</code></em>.</li>\n",
       "<li><code>5 * 9 * (7 * 3 * 3 + 9 * 3 + (8 + 6 * 4))</code> becomes <em><code>669060</code></em>.</li>\n",
       "<li><code>((2 + 4 * 9) * (6 + 9 * 8 + 6) + 6) + 2 + 4 * 2</code> becomes <em><code>23340</code></em>.</li>\n",
       "</ul>\n",
       "<p><em>What do you get if you add up the results of evaluating the homework problems using these new rules?</em></p>\n"
      ],
      "text/plain": [
       "<IPython.core.display.HTML object>"
      ]
     },
     "execution_count": 11,
     "metadata": {},
     "output_type": "execute_result"
    }
   ],
   "source": [
    "HTML(downloaded['part2'])"
   ]
  },
  {
   "cell_type": "code",
   "execution_count": 12,
   "metadata": {
    "tags": []
   },
   "outputs": [
    {
     "name": "stdout",
     "output_type": "stream",
     "text": [
      "1 + 2 * 3 + 4 * 5 + 6\n",
      "read a token: 1\n",
      "push it to the output queue: 1\n",
      "read a token: +\n",
      "if token is an operator then: +\n",
      "push it onto the operator stack: +\n",
      "read a token: 2\n",
      "push it to the output queue: 2\n",
      "read a token: *\n",
      "if token is an operator then: *\n",
      "while there is an operator at the top of the operator stack (not a left parenthesis): +\n",
      "pop operators from the operator stack onto the output queue: +\n",
      "push it onto the operator stack: *\n",
      "read a token: 3\n",
      "push it to the output queue: 3\n",
      "read a token: +\n",
      "if token is an operator then: +\n",
      "push it onto the operator stack: +\n",
      "read a token: 4\n",
      "push it to the output queue: 4\n",
      "read a token: *\n",
      "if token is an operator then: *\n",
      "while there is an operator at the top of the operator stack (not a left parenthesis): +\n",
      "pop operators from the operator stack onto the output queue: +\n",
      "push it onto the operator stack: *\n",
      "read a token: 5\n",
      "push it to the output queue: 5\n",
      "read a token: +\n",
      "if token is an operator then: +\n",
      "push it onto the operator stack: +\n",
      "read a token: 6\n",
      "push it to the output queue: 6\n",
      "pop the operator from the operator stack onto the output queue: +\n",
      "pop the operator from the operator stack onto the output queue: *\n",
      "pop the operator from the operator stack onto the output queue: *\n",
      "[1, 2, '+', 3, 4, '+', 5, 6, '+', '*', '*']\n"
     ]
    },
    {
     "data": {
      "text/plain": [
       "231"
      ]
     },
     "execution_count": 12,
     "metadata": {},
     "output_type": "execute_result"
    }
   ],
   "source": [
    "print(testdata[0])\n",
    "expr_rpn = shunting_yard(testdata[0], part2=True, debug=True)\n",
    "print(expr_rpn)\n",
    "evaluate(expr_rpn)"
   ]
  },
  {
   "cell_type": "code",
   "execution_count": 13,
   "metadata": {
    "tags": []
   },
   "outputs": [
    {
     "name": "stdout",
     "output_type": "stream",
     "text": [
      "1 + 2 * 3 + 4 * 5 + 6 [1, 2, '+', 3, 4, '+', 5, 6, '+', '*', '*'] 231\n",
      "2 * 3 + (4 * 5) [2, 3, 4, 5, '*', '+', '*'] 46\n",
      "5 + (8 * 3 + 9 + 3 * 4 * 3) [5, 8, 3, 9, 3, '+', '+', 4, 3, '*', '*', '*', '+'] 1445\n",
      "5 * 9 * (7 * 3 * 3 + 9 * 3 + (8 + 6 * 4)) [5, 9, 7, 3, 3, 9, '+', 3, 8, 6, '+', 4, '*', '+', '*', '*', '*', '*', '*'] 669060\n",
      "((2 + 4 * 9) * (6 + 9 * 8 + 6) + 6) + 2 + 4 * 2 [2, 4, '+', 9, '*', 6, 9, '+', 8, 6, '+', '*', 6, '+', '*', 2, 4, '+', '+', 2, '*'] 23340\n"
     ]
    }
   ],
   "source": [
    "for expr_str in testdata:\n",
    "    expr_rpn = shunting_yard(expr_str, part2=True)\n",
    "    result = evaluate(expr_rpn)\n",
    "    print(expr_str, expr_rpn, result)"
   ]
  },
  {
   "cell_type": "code",
   "execution_count": 14,
   "metadata": {
    "tags": [
     "outputPrepend"
    ]
   },
   "outputs": [
    {
     "name": "stdout",
     "output_type": "stream",
     "text": [
      "85660197232452\n"
     ]
    }
   ],
   "source": [
    "cumsum = 0\n",
    "for expr_str in inputdata:\n",
    "    expr_rpn = shunting_yard(expr_str, part2=True)\n",
    "    result = evaluate(expr_rpn)\n",
    "    # print(expr_str, expr_rpn, result)\n",
    "    cumsum += result\n",
    "print(cumsum)"
   ]
  },
  {
   "cell_type": "code",
   "execution_count": 15,
   "metadata": {},
   "outputs": [
    {
     "data": {
      "text/html": [
       "\n",
       "<p>Your puzzle answer was <code>85660197232452</code>.</p><p class=\"day-success\">Both parts of this puzzle are complete! They provide two gold stars: **</p>\n",
       "<p>At this point, all that is left is for you to <a href=\"/2020\">admire your Advent calendar</a>.</p>\n",
       "<p>If you still want to see it, you can <a href=\"18/input\" target=\"_blank\">get your puzzle input</a>.</p>\n",
       "<p>You can also <span class=\"share\">[Share<span class=\"share-content\">on\n",
       "  <a href=\"https://twitter.com/intent/tweet?text=I%27ve+completed+%22Operation+Order%22+%2D+Day+18+%2D+Advent+of+Code+2020&amp;url=https%3A%2F%2Fadventofcode%2Ecom%2F2020%2Fday%2F18&amp;related=ericwastl&amp;hashtags=AdventOfCode\" target=\"_blank\">Twitter</a>\n",
       "  <a href=\"javascript:void(0);\" onclick=\"var mastodon_instance=prompt('Mastodon Instance / Server Name?'); if(typeof mastodon_instance==='string' && mastodon_instance.length){this.href='https://'+mastodon_instance+'/share?text=I%27ve+completed+%22Operation+Order%22+%2D+Day+18+%2D+Advent+of+Code+2020+%23AdventOfCode+https%3A%2F%2Fadventofcode%2Ecom%2F2020%2Fday%2F18'}else{return false;}\" target=\"_blank\">Mastodon</a\n",
       "></span>]</span> this puzzle.</p>\n"
      ],
      "text/plain": [
       "<IPython.core.display.HTML object>"
      ]
     },
     "execution_count": 15,
     "metadata": {},
     "output_type": "execute_result"
    }
   ],
   "source": [
    "HTML(downloaded['part2_footer'])"
   ]
  }
 ],
 "metadata": {
  "kernelspec": {
   "display_name": "Python 3",
   "language": "python",
   "name": "python3"
  },
  "language_info": {
   "codemirror_mode": {
    "name": "ipython",
    "version": 3
   },
   "file_extension": ".py",
   "mimetype": "text/x-python",
   "name": "python",
   "nbconvert_exporter": "python",
   "pygments_lexer": "ipython3",
   "version": "3.10.0"
  },
  "orig_nbformat": 2
 },
 "nbformat": 4,
 "nbformat_minor": 2
}

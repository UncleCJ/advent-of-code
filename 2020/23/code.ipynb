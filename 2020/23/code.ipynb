{
 "metadata": {
  "language_info": {
   "codemirror_mode": {
    "name": "ipython",
    "version": 3
   },
   "file_extension": ".py",
   "mimetype": "text/x-python",
   "name": "python",
   "nbconvert_exporter": "python",
   "pygments_lexer": "ipython3",
   "version": "3.6.9-final"
  },
  "orig_nbformat": 2,
  "kernelspec": {
   "name": "python3",
   "display_name": "Python 3",
   "language": "python"
  }
 },
 "nbformat": 4,
 "nbformat_minor": 2,
 "cells": [
  {
   "cell_type": "code",
   "execution_count": 1,
   "metadata": {},
   "outputs": [],
   "source": [
    "%load_ext pycodestyle_magic"
   ]
  },
  {
   "cell_type": "code",
   "execution_count": 2,
   "metadata": {},
   "outputs": [],
   "source": [
    "%flake8_on"
   ]
  },
  {
   "cell_type": "code",
   "execution_count": 3,
   "metadata": {},
   "outputs": [],
   "source": [
    "testdata = '389125467'\n",
    "\n",
    "inputdata = '962713854'"
   ]
  },
  {
   "cell_type": "code",
   "execution_count": 4,
   "metadata": {},
   "outputs": [],
   "source": [
    "class Cupcircle2(object):\n",
    "    def __init__(self, data):\n",
    "        self.circle = [0] * (len(data) + 1)\n",
    "        numbers = [int(d) for d in data]\n",
    "        self.current = numbers[0]\n",
    "        for c, n in zip([0] + numbers, numbers + [numbers[0]]):\n",
    "            self.circle[c] = n\n",
    "\n",
    "    def ordered_representation(self, pivot):\n",
    "        cups = [0] * (len(self.circle) - 1)\n",
    "        cups[0] = pivot\n",
    "        for i in range(1, len(self.circle) - 1):\n",
    "            cups[i] = self.circle[cups[i - 1]]\n",
    "        return [str(c) for c in cups]\n",
    "\n",
    "    def __repr__(self):\n",
    "        return ', '.join(\n",
    "            [f'{c}' if int(c) != self.current else f'({c})'\n",
    "             for c in self.ordered_representation(self.circle[0])]\n",
    "            )\n",
    "\n",
    "    def result(self):\n",
    "        return ''.join(self.ordered_representation(1)[1:])\n",
    "\n",
    "    def result2(self):\n",
    "        after_one = self.circle[1]\n",
    "        two_after_one = self.circle[after_one]\n",
    "        return after_one * two_after_one\n",
    "\n",
    "    def play_round(self):\n",
    "        picked_up = [0] * 4\n",
    "        picked_up[0] = self.current\n",
    "        for i in range(3):\n",
    "            picked_up[i + 1] = self.circle[picked_up[i]]\n",
    "\n",
    "        # Skip those picked up\n",
    "        self.circle[self.current] = self.circle[picked_up[3]]\n",
    "\n",
    "        destination = self.current - 1\n",
    "        while destination in picked_up or destination < 1:\n",
    "            destination -= 1\n",
    "            if destination < 1:\n",
    "                destination = len(self.circle) - 1\n",
    "\n",
    "        # Insert those picked up before the next of the destination\n",
    "        self.circle[picked_up[3]] = self.circle[destination]\n",
    "        # Set next of destination to the first picked up\n",
    "        self.circle[destination] = picked_up[1]\n",
    "\n",
    "        # Go to next cup\n",
    "        self.current = self.circle[self.current]\n",
    "\n",
    "        return picked_up[1:], destination\n",
    "\n",
    "    def play(self, moves, silent=False):\n",
    "        record = []\n",
    "        for m in range(1, moves + 1):\n",
    "            if not silent:\n",
    "                print(f'-- move {m} --')\n",
    "                print(f'cups: {self}')\n",
    "            picked_up, destination = self.play_round()\n",
    "            if not silent:\n",
    "                print(f'pick up: {\", \".join(map(str, picked_up))}')\n",
    "                print(f'destination: {destination}')\n",
    "                print()\n",
    "            record.append((m, self.current, destination))\n",
    "        return record\n",
    "\n",
    "    def translate(self, correction):\n",
    "        old_last = self.circle.index(self.circle[0], 1)\n",
    "        self.circle[old_last] = len(self.circle)\n",
    "        self.circle = (self.circle\n",
    "                       + list(range(len(self.circle) + 1, correction + 2)))\n",
    "        self.circle[-1] = self.circle[0]"
   ]
  },
  {
   "cell_type": "code",
   "execution_count": 5,
   "metadata": {},
   "outputs": [
    {
     "output_type": "stream",
     "name": "stdout",
     "text": [
      "-- move 1 --\ncups: (3), 8, 9, 1, 2, 5, 4, 6, 7\npick up: 8, 9, 1\ndestination: 2\n\n-- move 2 --\ncups: 3, (2), 8, 9, 1, 5, 4, 6, 7\npick up: 8, 9, 1\ndestination: 7\n\n-- move 3 --\ncups: 3, 2, (5), 4, 6, 7, 8, 9, 1\npick up: 4, 6, 7\ndestination: 3\n\n-- move 4 --\ncups: 3, 4, 6, 7, 2, 5, (8), 9, 1\npick up: 9, 1, 3\ndestination: 7\n\n-- move 5 --\ncups: 3, 2, 5, 8, (4), 6, 7, 9, 1\npick up: 6, 7, 9\ndestination: 3\n\n-- move 6 --\ncups: 3, 6, 7, 9, 2, 5, 8, 4, (1)\npick up: 3, 6, 7\ndestination: 9\n\n-- move 7 --\ncups: 3, 6, 7, 2, 5, 8, 4, 1, (9)\npick up: 3, 6, 7\ndestination: 8\n\n-- move 8 --\ncups: 3, 6, 7, 4, 1, 9, (2), 5, 8\npick up: 5, 8, 3\ndestination: 1\n\n-- move 9 --\ncups: 3, 9, 2, (6), 7, 4, 1, 5, 8\npick up: 7, 4, 1\ndestination: 5\n\n-- move 10 --\ncups: 3, 9, 2, 6, (5), 7, 4, 1, 8\npick up: 7, 4, 1\ndestination: 3\n\n92658374\n"
     ]
    }
   ],
   "source": [
    "cc = Cupcircle2(testdata)\n",
    "cc.play(10)\n",
    "print(cc.result())"
   ]
  },
  {
   "cell_type": "code",
   "execution_count": 6,
   "metadata": {},
   "outputs": [
    {
     "output_type": "stream",
     "name": "stdout",
     "text": [
      "67384529\n"
     ]
    }
   ],
   "source": [
    "cc.play(90, silent=True)\n",
    "print(cc.result())"
   ]
  },
  {
   "cell_type": "code",
   "execution_count": 7,
   "metadata": {},
   "outputs": [
    {
     "output_type": "stream",
     "name": "stdout",
     "text": [
      "65432978\n"
     ]
    }
   ],
   "source": [
    "cc = Cupcircle2(inputdata)\n",
    "cc.play(100, silent=True)\n",
    "print(cc.result())"
   ]
  },
  {
   "cell_type": "code",
   "execution_count": 8,
   "metadata": {
    "tags": []
   },
   "outputs": [
    {
     "output_type": "stream",
     "name": "stdout",
     "text": [
      "287230227046\n"
     ]
    }
   ],
   "source": [
    "cc = Cupcircle2(inputdata)\n",
    "cc.translate(1000000)\n",
    "record = cc.play(10000000, silent=True)\n",
    "print(cc.result2())"
   ]
  }
 ]
}
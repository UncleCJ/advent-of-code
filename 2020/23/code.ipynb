{
 "cells": [
  {
   "cell_type": "markdown",
   "metadata": {},
   "source": [
    "# Day 23: Crab Cups\n",
    "\n",
    "[*Advent of Code 2020 day 23*](https://adventofcode.com/2020/day/23) and [*solution megathread*](https://redd.it/kimluc)\n",
    "\n",
    "[![nbviewer](https://raw.githubusercontent.com/jupyter/design/master/logos/Badges/nbviewer_badge.svg)](https://nbviewer.jupyter.org/github/UncleCJ/advent-of-code/blob/cj/2020/23/code.ipynb) [![Binder](https://mybinder.org/badge_logo.svg)](https://mybinder.org/v2/gh/UncleCJ/advent-of-code/cj?filepath=2020%2F23%2Fcode.ipynb)"
   ]
  },
  {
   "cell_type": "code",
   "execution_count": 1,
   "metadata": {},
   "outputs": [
    {
     "name": "stdout",
     "output_type": "stream",
     "text": [
      "Writing 'downloaded' (dict) to file 'downloaded'.\n"
     ]
    }
   ],
   "source": [
    "from IPython.display import HTML\n",
    "import sys\n",
    "sys.path.append('../../')\n",
    "import common\n",
    "\n",
    "downloaded = common.refresh()\n",
    "%store downloaded >downloaded"
   ]
  },
  {
   "cell_type": "markdown",
   "metadata": {},
   "source": [
    "## Part One"
   ]
  },
  {
   "cell_type": "code",
   "execution_count": 2,
   "metadata": {},
   "outputs": [
    {
     "data": {
      "text/html": [
       "<h2>--- Day 23: Crab Cups ---</h2><p>The small crab challenges <em>you</em> to a game! The crab is going to mix up some cups, and you have to predict where they'll end up.</p>\n",
       "<p>The cups will be arranged in a circle and labeled <em>clockwise</em> (your puzzle input). For example, if your labeling were <code>32415</code>, there would be five cups in the circle; going clockwise around the circle from the first cup, the cups would be labeled <code>3</code>, <code>2</code>, <code>4</code>, <code>1</code>, <code>5</code>, and then back to <code>3</code> again.</p>\n",
       "<p>Before the crab starts, it will designate the first cup in your list as the <em>current cup</em>. The crab is then going to do <em>100 moves</em>.</p>\n",
       "<p>Each <em>move</em>, the crab does the following actions:</p>\n",
       "<ul>\n",
       "<li>The crab picks up the <em>three cups</em> that are immediately <em>clockwise</em> of the <em>current cup</em>. They are removed from the circle; cup spacing is adjusted as necessary to maintain the circle.</li>\n",
       "<li>The crab selects a <em>destination cup</em>: the cup with a <em>label</em> equal to the <em>current cup's</em> label minus one. If this would select one of the cups that was just picked up, the crab will keep subtracting one until it finds a cup that wasn't just picked up. If at any point in this process the value goes below the lowest value on any cup's label, it <em>wraps around</em> to the highest value on any cup's label instead.</li>\n",
       "<li>The crab places the cups it just picked up so that they are <em>immediately clockwise</em> of the destination cup. They keep the same order as when they were picked up.</li>\n",
       "<li>The crab selects a new <em>current cup</em>: the cup which is immediately clockwise of the current cup.</li>\n",
       "</ul>\n",
       "<p>For example, suppose your cup labeling were <code>389125467</code>. If the crab were to do merely 10 moves, the following changes would occur:</p>\n",
       "<pre><code>-- move 1 --\n",
       "cups: (3) 8  9  1  2  5  4  6  7 \n",
       "pick up: 8, 9, 1\n",
       "destination: 2\n",
       "\n",
       "-- move 2 --\n",
       "cups:  3 (2) 8  9  1  5  4  6  7 \n",
       "pick up: 8, 9, 1\n",
       "destination: 7\n",
       "\n",
       "-- move 3 --\n",
       "cups:  3  2 (5) 4  6  7  8  9  1 \n",
       "pick up: 4, 6, 7\n",
       "destination: 3\n",
       "\n",
       "-- move 4 --\n",
       "cups:  7  2  5 (8) 9  1  3  4  6 \n",
       "pick up: 9, 1, 3\n",
       "destination: 7\n",
       "\n",
       "-- move 5 --\n",
       "cups:  3  2  5  8 (4) 6  7  9  1 \n",
       "pick up: 6, 7, 9\n",
       "destination: 3\n",
       "\n",
       "-- move 6 --\n",
       "cups:  9  2  5  8  4 (1) 3  6  7 \n",
       "pick up: 3, 6, 7\n",
       "destination: 9\n",
       "\n",
       "-- move 7 --\n",
       "cups:  7  2  5  8  4  1 (9) 3  6 \n",
       "pick up: 3, 6, 7\n",
       "destination: 8\n",
       "\n",
       "-- move 8 --\n",
       "cups:  8  3  6  7  4  1  9 (2) 5 \n",
       "pick up: 5, 8, 3\n",
       "destination: 1\n",
       "\n",
       "-- move 9 --\n",
       "cups:  7  4  1  5  8  3  9  2 (6)\n",
       "pick up: 7, 4, 1\n",
       "destination: 5\n",
       "\n",
       "-- move 10 --\n",
       "cups: (5) 7  4  1  8  3  9  2  6 \n",
       "pick up: 7, 4, 1\n",
       "destination: 3\n",
       "\n",
       "-- final --\n",
       "cups:  5 (8) 3  7  4  1  9  2  6 \n",
       "</code></pre>\n",
       "<p>In the above example, the cups' values are the labels as they appear moving clockwise around the circle; the <em>current cup</em> is marked with <code>( )</code>.</p>\n",
       "<p>After the crab is done, what order will the cups be in? Starting <em>after the cup labeled <code>1</code></em>, collect the other cups' labels clockwise into a single string with no extra characters; each number except <code>1</code> should appear exactly once. In the above example, after 10 moves, the cups clockwise from <code>1</code> are labeled <code>9</code>, <code>2</code>, <code>6</code>, <code>5</code>, and so on, producing <em><code>92658374</code></em>. If the crab were to complete all 100 moves, the order after cup <code>1</code> would be <em><code>67384529</code></em>.</p>\n",
       "<p>Using your labeling, simulate 100 moves. <em>What are the labels on the cups after cup <code>1</code>?</em></p>\n"
      ],
      "text/plain": [
       "<IPython.core.display.HTML object>"
      ]
     },
     "execution_count": 2,
     "metadata": {},
     "output_type": "execute_result"
    }
   ],
   "source": [
    "HTML(downloaded['part1'])"
   ]
  },
  {
   "cell_type": "markdown",
   "metadata": {},
   "source": [
    "## Boilerplate\n",
    "\n",
    "Let's try using [pycodestyle_magic](https://github.com/mattijn/pycodestyle_magic) with pycodestyle (flake8 stopped working for me in VS Code Jupyter). Now how does type checking work?"
   ]
  },
  {
   "cell_type": "code",
   "execution_count": 3,
   "metadata": {},
   "outputs": [],
   "source": [
    "%load_ext pycodestyle_magic"
   ]
  },
  {
   "cell_type": "code",
   "execution_count": 4,
   "metadata": {},
   "outputs": [],
   "source": [
    "%pycodestyle_on"
   ]
  },
  {
   "cell_type": "code",
   "execution_count": 5,
   "metadata": {},
   "outputs": [],
   "source": [
    "testdata = '389125467'\n",
    "\n",
    "inputdata = '962713854'"
   ]
  },
  {
   "cell_type": "code",
   "execution_count": 6,
   "metadata": {},
   "outputs": [],
   "source": [
    "class Cupcircle2(object):\n",
    "    def __init__(self, data):\n",
    "        self.circle = [0] * (len(data) + 1)\n",
    "        numbers = [int(d) for d in data]\n",
    "        self.current = numbers[0]\n",
    "        for c, n in zip([0] + numbers, numbers + [numbers[0]]):\n",
    "            self.circle[c] = n\n",
    "\n",
    "    def ordered_representation(self, pivot):\n",
    "        cups = [0] * (len(self.circle) - 1)\n",
    "        cups[0] = pivot\n",
    "        for i in range(1, len(self.circle) - 1):\n",
    "            cups[i] = self.circle[cups[i - 1]]\n",
    "        return [str(c) for c in cups]\n",
    "\n",
    "    def __repr__(self):\n",
    "        return ', '.join(\n",
    "            [f'{c}' if int(c) != self.current else f'({c})'\n",
    "             for c in self.ordered_representation(self.circle[0])]\n",
    "            )\n",
    "\n",
    "    def result(self):\n",
    "        return ''.join(self.ordered_representation(1)[1:])\n",
    "\n",
    "    def result2(self):\n",
    "        after_one = self.circle[1]\n",
    "        two_after_one = self.circle[after_one]\n",
    "        return after_one * two_after_one\n",
    "\n",
    "    def play_round(self):\n",
    "        picked_up = [0] * 4\n",
    "        picked_up[0] = self.current\n",
    "        for i in range(3):\n",
    "            picked_up[i + 1] = self.circle[picked_up[i]]\n",
    "\n",
    "        # Skip those picked up\n",
    "        self.circle[self.current] = self.circle[picked_up[3]]\n",
    "\n",
    "        destination = self.current - 1\n",
    "        while destination in picked_up or destination < 1:\n",
    "            destination -= 1\n",
    "            if destination < 1:\n",
    "                destination = len(self.circle) - 1\n",
    "\n",
    "        # Insert those picked up before the next of the destination\n",
    "        self.circle[picked_up[3]] = self.circle[destination]\n",
    "        # Set next of destination to the first picked up\n",
    "        self.circle[destination] = picked_up[1]\n",
    "\n",
    "        # Go to next cup\n",
    "        self.current = self.circle[self.current]\n",
    "\n",
    "        return picked_up[1:], destination\n",
    "\n",
    "    def play(self, moves, debug=False):\n",
    "        record = []\n",
    "        for m in range(1, moves + 1):\n",
    "            if debug:\n",
    "                print(f'-- move {m} --')\n",
    "                print(f'cups: {self}')\n",
    "            picked_up, destination = self.play_round()\n",
    "            if debug:\n",
    "                print(f'pick up: {\", \".join(map(str, picked_up))}')\n",
    "                print(f'destination: {destination}')\n",
    "                print()\n",
    "            record.append((m, self.current, destination))\n",
    "        return record\n",
    "\n",
    "    def translate(self, correction):\n",
    "        old_last = self.circle.index(self.circle[0], 1)\n",
    "        self.circle[old_last] = len(self.circle)\n",
    "        self.circle = (self.circle\n",
    "                       + list(range(len(self.circle) + 1, correction + 2)))\n",
    "        self.circle[-1] = self.circle[0]"
   ]
  },
  {
   "cell_type": "code",
   "execution_count": 7,
   "metadata": {},
   "outputs": [
    {
     "name": "stdout",
     "output_type": "stream",
     "text": [
      "-- move 1 --\n",
      "cups: (3), 8, 9, 1, 2, 5, 4, 6, 7\n",
      "pick up: 8, 9, 1\n",
      "destination: 2\n",
      "\n",
      "-- move 2 --\n",
      "cups: 3, (2), 8, 9, 1, 5, 4, 6, 7\n",
      "pick up: 8, 9, 1\n",
      "destination: 7\n",
      "\n",
      "-- move 3 --\n",
      "cups: 3, 2, (5), 4, 6, 7, 8, 9, 1\n",
      "pick up: 4, 6, 7\n",
      "destination: 3\n",
      "\n",
      "-- move 4 --\n",
      "cups: 3, 4, 6, 7, 2, 5, (8), 9, 1\n",
      "pick up: 9, 1, 3\n",
      "destination: 7\n",
      "\n",
      "-- move 5 --\n",
      "cups: 3, 2, 5, 8, (4), 6, 7, 9, 1\n",
      "pick up: 6, 7, 9\n",
      "destination: 3\n",
      "\n",
      "-- move 6 --\n",
      "cups: 3, 6, 7, 9, 2, 5, 8, 4, (1)\n",
      "pick up: 3, 6, 7\n",
      "destination: 9\n",
      "\n",
      "-- move 7 --\n",
      "cups: 3, 6, 7, 2, 5, 8, 4, 1, (9)\n",
      "pick up: 3, 6, 7\n",
      "destination: 8\n",
      "\n",
      "-- move 8 --\n",
      "cups: 3, 6, 7, 4, 1, 9, (2), 5, 8\n",
      "pick up: 5, 8, 3\n",
      "destination: 1\n",
      "\n",
      "-- move 9 --\n",
      "cups: 3, 9, 2, (6), 7, 4, 1, 5, 8\n",
      "pick up: 7, 4, 1\n",
      "destination: 5\n",
      "\n",
      "-- move 10 --\n",
      "cups: 3, 9, 2, 6, (5), 7, 4, 1, 8\n",
      "pick up: 7, 4, 1\n",
      "destination: 3\n",
      "\n",
      "92658374\n"
     ]
    }
   ],
   "source": [
    "cc = Cupcircle2(testdata)\n",
    "cc.play(10, debug=True)\n",
    "print(cc.result())"
   ]
  },
  {
   "cell_type": "code",
   "execution_count": 8,
   "metadata": {},
   "outputs": [
    {
     "name": "stdout",
     "output_type": "stream",
     "text": [
      "65432978\n"
     ]
    }
   ],
   "source": [
    "cc = Cupcircle2(inputdata)\n",
    "cc.play(100)\n",
    "print(cc.result())"
   ]
  },
  {
   "cell_type": "code",
   "execution_count": 9,
   "metadata": {},
   "outputs": [
    {
     "data": {
      "text/html": [
       "\n",
       "<p>Your puzzle answer was <code>65432978</code>.</p>"
      ],
      "text/plain": [
       "<IPython.core.display.HTML object>"
      ]
     },
     "execution_count": 9,
     "metadata": {},
     "output_type": "execute_result"
    }
   ],
   "source": [
    "HTML(downloaded['part1_footer'])"
   ]
  },
  {
   "cell_type": "markdown",
   "metadata": {},
   "source": [
    "## Part Two"
   ]
  },
  {
   "cell_type": "code",
   "execution_count": 10,
   "metadata": {},
   "outputs": [
    {
     "data": {
      "text/html": [
       "<h2 id=\"part2\">--- Part Two ---</h2><p>Due to what you can only assume is a mistranslation (you're <span title=\"If I were going for a programming language pun here, I'd say you were a little... RUSTy.\">not exactly fluent in Crab</span>), you are quite surprised when the crab starts arranging <em>many</em> cups in a circle on your raft - <em>one million</em> (<code>1000000</code>) in total.</p>\n",
       "<p>Your labeling is still correct for the first few cups; after that, the remaining cups are just numbered in an increasing fashion starting from the number after the highest number in your list and proceeding one by one until one million is reached. (For example, if your labeling were <code>54321</code>, the cups would be numbered <code>5</code>, <code>4</code>, <code>3</code>, <code>2</code>, <code>1</code>, and then start counting up from <code>6</code> until one million is reached.) In this way, every number from one through one million is used exactly once.</p>\n",
       "<p>After discovering where you made the mistake in translating Crab Numbers, you realize the small crab isn't going to do merely 100 moves; the crab is going to do <em>ten million</em> (<code>10000000</code>) moves!</p>\n",
       "<p>The crab is going to hide your <em class=\"star\">stars</em> - one each - under the <em>two cups that will end up immediately clockwise of cup <code>1</code></em>. You can have them if you predict what the labels on those cups will be when the crab is finished.</p>\n",
       "<p>In the above example (<code>389125467</code>), this would be <code>934001</code> and then <code>159792</code>; multiplying these together produces <em><code>149245887792</code></em>.</p>\n",
       "<p>Determine which two cups will end up immediately clockwise of cup <code>1</code>. <em>What do you get if you multiply their labels together?</em></p>\n"
      ],
      "text/plain": [
       "<IPython.core.display.HTML object>"
      ]
     },
     "execution_count": 10,
     "metadata": {},
     "output_type": "execute_result"
    }
   ],
   "source": [
    "HTML(downloaded['part2'])"
   ]
  },
  {
   "cell_type": "code",
   "execution_count": 11,
   "metadata": {},
   "outputs": [
    {
     "name": "stdout",
     "output_type": "stream",
     "text": [
      "149245887792\n"
     ]
    }
   ],
   "source": [
    "cc = Cupcircle2(testdata)\n",
    "cc.translate(1000000)\n",
    "record = cc.play(10000000)\n",
    "print(cc.result2())"
   ]
  },
  {
   "cell_type": "code",
   "execution_count": 12,
   "metadata": {
    "tags": []
   },
   "outputs": [
    {
     "name": "stdout",
     "output_type": "stream",
     "text": [
      "287230227046\n"
     ]
    }
   ],
   "source": [
    "cc = Cupcircle2(inputdata)\n",
    "cc.translate(1000000)\n",
    "record = cc.play(10000000)\n",
    "print(cc.result2())"
   ]
  },
  {
   "cell_type": "code",
   "execution_count": 13,
   "metadata": {},
   "outputs": [
    {
     "data": {
      "text/html": [
       "\n",
       "<p>Your puzzle answer was <code>287230227046</code>.</p><p class=\"day-success\">Both parts of this puzzle are complete! They provide two gold stars: **</p>\n",
       "<p>At this point, all that is left is for you to <a href=\"/2020\">admire your Advent calendar</a>.</p>\n",
       "<p>Your puzzle input was <code class=\"puzzle-input\">962713854</code>.</p>\n",
       "<p>You can also <span class=\"share\">[Share<span class=\"share-content\">on\n",
       "  <a href=\"https://twitter.com/intent/tweet?text=I%27ve+completed+%22Crab+Cups%22+%2D+Day+23+%2D+Advent+of+Code+2020&amp;url=https%3A%2F%2Fadventofcode%2Ecom%2F2020%2Fday%2F23&amp;related=ericwastl&amp;hashtags=AdventOfCode\" target=\"_blank\">Twitter</a>\n",
       "  <a href=\"javascript:void(0);\" onclick=\"var mastodon_instance=prompt('Mastodon Instance / Server Name?'); if(typeof mastodon_instance==='string' && mastodon_instance.length){this.href='https://'+mastodon_instance+'/share?text=I%27ve+completed+%22Crab+Cups%22+%2D+Day+23+%2D+Advent+of+Code+2020+%23AdventOfCode+https%3A%2F%2Fadventofcode%2Ecom%2F2020%2Fday%2F23'}else{return false;}\" target=\"_blank\">Mastodon</a\n",
       "></span>]</span> this puzzle.</p>\n"
      ],
      "text/plain": [
       "<IPython.core.display.HTML object>"
      ]
     },
     "execution_count": 13,
     "metadata": {},
     "output_type": "execute_result"
    }
   ],
   "source": [
    "HTML(downloaded['part2_footer'])"
   ]
  }
 ],
 "metadata": {
  "kernelspec": {
   "display_name": "Python 3",
   "language": "python",
   "name": "python3"
  },
  "language_info": {
   "codemirror_mode": {
    "name": "ipython",
    "version": 3
   },
   "file_extension": ".py",
   "mimetype": "text/x-python",
   "name": "python",
   "nbconvert_exporter": "python",
   "pygments_lexer": "ipython3",
   "version": "3.10.0"
  },
  "orig_nbformat": 2
 },
 "nbformat": 4,
 "nbformat_minor": 2
}

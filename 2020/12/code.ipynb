{
 "cells": [
  {
   "cell_type": "markdown",
   "metadata": {},
   "source": [
    "# Day 12: Rain Risk\n",
    "\n",
    "[*Advent of Code 2020 day 12*](https://adventofcode.com/2020/day/12) and [*solution megathread*](https://redd.it/kbj5me)\n",
    "\n",
    "[![nbviewer](https://raw.githubusercontent.com/jupyter/design/master/logos/Badges/nbviewer_badge.svg)](https://nbviewer.jupyter.org/github/UncleCJ/advent-of-code/blob/cj/2020/12/code.ipynb) [![Binder](https://mybinder.org/badge_logo.svg)](https://mybinder.org/v2/gh/UncleCJ/advent-of-code/cj?filepath=2020%2F12%2Fcode.ipynb)"
   ]
  },
  {
   "cell_type": "code",
   "execution_count": 1,
   "metadata": {},
   "outputs": [
    {
     "name": "stdout",
     "output_type": "stream",
     "text": [
      "Writing 'downloaded' (dict) to file 'downloaded'.\n"
     ]
    }
   ],
   "source": [
    "from IPython.display import HTML\n",
    "import sys\n",
    "sys.path.append('../../')\n",
    "import common\n",
    "\n",
    "downloaded = common.refresh()\n",
    "%store downloaded >downloaded"
   ]
  },
  {
   "cell_type": "markdown",
   "metadata": {},
   "source": [
    "## Part One"
   ]
  },
  {
   "cell_type": "code",
   "execution_count": 2,
   "metadata": {},
   "outputs": [
    {
     "data": {
      "text/html": [
       "<h2>--- Day 12: Rain Risk ---</h2><p>Your ferry made decent progress toward the island, but the storm came in <span title=\"At least it wasn't a Category Six!\">faster than anyone expected</span>. The ferry needs to take <em>evasive actions</em>!</p>\n",
       "<p>Unfortunately, the ship's navigation computer seems to be malfunctioning; rather than giving a route directly to safety, it produced extremely circuitous instructions. When the captain uses the <a href=\"https://en.wikipedia.org/wiki/Public_address_system\" target=\"_blank\">PA system</a> to ask if anyone can help, you quickly volunteer.</p>\n",
       "<p>The navigation instructions (your puzzle input) consists of a sequence of single-character <em>actions</em> paired with integer input <em>values</em>. After staring at them for a few minutes, you work out what they probably mean:</p>\n",
       "<ul>\n",
       "<li>Action <em><code>N</code></em> means to move <em>north</em> by the given value.</li>\n",
       "<li>Action <em><code>S</code></em> means to move <em>south</em> by the given value.</li>\n",
       "<li>Action <em><code>E</code></em> means to move <em>east</em> by the given value.</li>\n",
       "<li>Action <em><code>W</code></em> means to move <em>west</em> by the given value.</li>\n",
       "<li>Action <em><code>L</code></em> means to turn <em>left</em> the given number of degrees.</li>\n",
       "<li>Action <em><code>R</code></em> means to turn <em>right</em> the given number of degrees.</li>\n",
       "<li>Action <em><code>F</code></em> means to move <em>forward</em> by the given value in the direction the ship is currently facing.</li>\n",
       "</ul>\n",
       "<p>The ship starts by facing <em>east</em>. Only the <code>L</code> and <code>R</code> actions change the direction the ship is facing. (That is, if the ship is facing east and the next instruction is <code>N10</code>, the ship would move north 10 units, but would still move east if the following action were <code>F</code>.)</p>\n",
       "<p>For example:</p>\n",
       "<pre><code>F10\n",
       "N3\n",
       "F7\n",
       "R90\n",
       "F11\n",
       "</code></pre>\n",
       "<p>These instructions would be handled as follows:</p>\n",
       "<ul>\n",
       "<li><code>F10</code> would move the ship 10 units east (because the ship starts by facing east) to <em>east 10, north 0</em>.</li>\n",
       "<li><code>N3</code> would move the ship 3 units north to <em>east 10, north 3</em>.</li>\n",
       "<li><code>F7</code> would move the ship another 7 units east (because the ship is still facing east) to <em>east 17, north 3</em>.</li>\n",
       "<li><code>R90</code> would cause the ship to turn right by 90 degrees and face <em>south</em>; it remains at <em>east 17, north 3</em>.</li>\n",
       "<li><code>F11</code> would move the ship 11 units south to <em>east 17, south 8</em>.</li>\n",
       "</ul>\n",
       "<p>At the end of these instructions, the ship's <a href=\"https://en.wikipedia.org/wiki/Manhattan_distance\" target=\"_blank\">Manhattan distance</a> (sum of the absolute values of its east/west position and its north/south position) from its starting position is <code>17 + 8</code> = <em><code>25</code></em>.</p>\n",
       "<p>Figure out where the navigation instructions lead. <em>What is the Manhattan distance between that location and the ship's starting position?</em></p>\n"
      ],
      "text/plain": [
       "<IPython.core.display.HTML object>"
      ]
     },
     "execution_count": 2,
     "metadata": {},
     "output_type": "execute_result"
    }
   ],
   "source": [
    "HTML(downloaded['part1'])"
   ]
  },
  {
   "cell_type": "markdown",
   "metadata": {},
   "source": [
    "## Boilerplate\n",
    "\n",
    "Let's try using [pycodestyle_magic](https://github.com/mattijn/pycodestyle_magic) with pycodestyle (flake8 stopped working for me in VS Code Jupyter). Now how does type checking work?"
   ]
  },
  {
   "cell_type": "code",
   "execution_count": 3,
   "metadata": {},
   "outputs": [],
   "source": [
    "%load_ext pycodestyle_magic"
   ]
  },
  {
   "cell_type": "code",
   "execution_count": 4,
   "metadata": {},
   "outputs": [],
   "source": [
    "%pycodestyle_on"
   ]
  },
  {
   "cell_type": "code",
   "execution_count": 5,
   "metadata": {},
   "outputs": [],
   "source": [
    "testdata = \"\"\"F10\n",
    "N3\n",
    "F7\n",
    "R90\n",
    "F11\"\"\".splitlines()\n",
    "\n",
    "inputdata = downloaded['input'].splitlines()"
   ]
  },
  {
   "cell_type": "markdown",
   "metadata": {},
   "source": [
    "It's a bit curious I chose to use a `numpy` rotation matrix, but perhaps it was a sensible choice for the application"
   ]
  },
  {
   "cell_type": "code",
   "execution_count": 6,
   "metadata": {},
   "outputs": [],
   "source": [
    "import numpy as np\n",
    "\n",
    "\n",
    "opcode = {\n",
    "    'N': lambda arg, location, heading:\n",
    "        ([location[0], location[1] - arg], heading),\n",
    "    'S': lambda arg, location, heading:\n",
    "        ([location[0], location[1] + arg], heading),\n",
    "    'E': lambda arg, location, heading:\n",
    "        ([location[0] + arg, location[1]], heading),\n",
    "    'W': lambda arg, location, heading:\n",
    "        ([location[0] - arg, location[1]], heading),\n",
    "    'L': lambda arg, location, heading:\n",
    "        (location, turn(-arg, heading)),\n",
    "    'R': lambda arg, location, heading:\n",
    "        (location, turn(arg, heading)),\n",
    "    'F': lambda arg, location, heading:\n",
    "        (np.add(location, np.array(heading).dot(arg)), heading),\n",
    "}\n",
    "\n",
    "\n",
    "def turn(arg, heading):\n",
    "    theta = np.radians(arg)\n",
    "    r = np.array(((np.cos(theta), -np.sin(theta)),\n",
    "                 (np.sin(theta), np.cos(theta))))\n",
    "    return [int(round(i)) for i in r.dot(heading)]\n",
    "\n",
    "\n",
    "def perform(data, location, heading, debug: bool = False):\n",
    "    for line in data:\n",
    "        op, arg = (line[0], int(line[1:]))\n",
    "        if debug:\n",
    "            print(f'location: {location}, heading: {heading}'\n",
    "                  f' - op: {op}, arg: {arg}')\n",
    "        location, heading = opcode[op](arg, location, heading)\n",
    "    return location, heading"
   ]
  },
  {
   "cell_type": "code",
   "execution_count": 7,
   "metadata": {},
   "outputs": [
    {
     "name": "stdout",
     "output_type": "stream",
     "text": [
      "location: [0, 0], heading: [1, 0] - op: F, arg: 10\n",
      "location: [10  0], heading: [1, 0] - op: N, arg: 3\n",
      "location: [10, -3], heading: [1, 0] - op: F, arg: 7\n",
      "location: [17 -3], heading: [1, 0] - op: R, arg: 90\n",
      "location: [17 -3], heading: [0, 1] - op: F, arg: 11\n",
      "location: [17  8], heading: [0, 1]\n",
      "Distance moved: 25\n"
     ]
    }
   ],
   "source": [
    "location, heading = ([0, 0], [1, 0])\n",
    "location, heading = perform(testdata, location, heading, debug=True)\n",
    "print(f'location: {location}, heading: {heading}')\n",
    "print(f'Distance moved: {sum([abs(i) for i in location])}')"
   ]
  },
  {
   "cell_type": "code",
   "execution_count": 8,
   "metadata": {},
   "outputs": [
    {
     "name": "stdout",
     "output_type": "stream",
     "text": [
      "Distance moved: 1441\n"
     ]
    }
   ],
   "source": [
    "location, heading = ([0, 0], [1, 0])\n",
    "location, heading = perform(inputdata, location, heading)\n",
    "print(f'Distance moved: {sum([abs(i) for i in location])}')"
   ]
  },
  {
   "cell_type": "code",
   "execution_count": 9,
   "metadata": {},
   "outputs": [
    {
     "data": {
      "text/html": [
       "\n",
       "<p>Your puzzle answer was <code>1441</code>.</p>"
      ],
      "text/plain": [
       "<IPython.core.display.HTML object>"
      ]
     },
     "execution_count": 9,
     "metadata": {},
     "output_type": "execute_result"
    }
   ],
   "source": [
    "HTML(downloaded['part1_footer'])"
   ]
  },
  {
   "cell_type": "markdown",
   "metadata": {},
   "source": [
    "## Part Two"
   ]
  },
  {
   "cell_type": "code",
   "execution_count": 10,
   "metadata": {},
   "outputs": [
    {
     "data": {
      "text/html": [
       "<h2 id=\"part2\">--- Part Two ---</h2><p>Before you can give the destination to the captain, you realize that the actual action meanings were printed on the back of the instructions the whole time.</p>\n",
       "<p>Almost all of the actions indicate how to move a <em>waypoint</em> which is relative to the ship's position:</p>\n",
       "<ul>\n",
       "<li>Action <em><code>N</code></em> means to move the waypoint <em>north</em> by the given value.</li>\n",
       "<li>Action <em><code>S</code></em> means to move the waypoint <em>south</em> by the given value.</li>\n",
       "<li>Action <em><code>E</code></em> means to move the waypoint <em>east</em> by the given value.</li>\n",
       "<li>Action <em><code>W</code></em> means to move the waypoint <em>west</em> by the given value.</li>\n",
       "<li>Action <em><code>L</code></em> means to rotate the waypoint around the ship <em>left</em> (<em>counter-clockwise</em>) the given number of degrees.</li>\n",
       "<li>Action <em><code>R</code></em> means to rotate the waypoint around the ship <em>right</em> (<em>clockwise</em>) the given number of degrees.</li>\n",
       "<li>Action <em><code>F</code></em> means to move <em>forward</em> to the waypoint a number of times equal to the given value.</li>\n",
       "</ul>\n",
       "<p>The waypoint starts <em>10 units east and 1 unit north</em> relative to the ship. The waypoint is relative to the ship; that is, if the ship moves, the waypoint moves with it.</p>\n",
       "<p>For example, using the same instructions as above:</p>\n",
       "<ul>\n",
       "<li><code>F10</code> moves the ship to the waypoint 10 times (a total of <em>100 units east and 10 units north</em>), leaving the ship at <em>east 100, north 10</em>. The waypoint stays 10 units east and 1 unit north of the ship.</li>\n",
       "<li><code>N3</code> moves the waypoint 3 units north to <em>10 units east and 4 units north of the ship</em>. The ship remains at <em>east 100, north 10</em>.</li>\n",
       "<li><code>F7</code> moves the ship to the waypoint 7 times (a total of <em>70 units east and 28 units north</em>), leaving the ship at <em>east 170, north 38</em>. The waypoint stays 10 units east and 4 units north of the ship.</li>\n",
       "<li><code>R90</code> rotates the waypoint around the ship clockwise 90 degrees, moving it to <em>4 units east and 10 units south of the ship</em>. The ship remains at <em>east 170, north 38</em>.</li>\n",
       "<li><code>F11</code> moves the ship to the waypoint 11 times (a total of <em>44 units east and 110 units south</em>), leaving the ship at <em>east 214, south 72</em>. The waypoint stays 4 units east and 10 units south of the ship.</li>\n",
       "</ul>\n",
       "<p>After these operations, the ship's Manhattan distance from its starting position is <code>214 + 72</code> = <em><code>286</code></em>.</p>\n",
       "<p>Figure out where the navigation instructions actually lead. <em>What is the Manhattan distance between that location and the ship's starting position?</em></p>\n"
      ],
      "text/plain": [
       "<IPython.core.display.HTML object>"
      ]
     },
     "execution_count": 10,
     "metadata": {},
     "output_type": "execute_result"
    }
   ],
   "source": [
    "HTML(downloaded['part2'])"
   ]
  },
  {
   "cell_type": "code",
   "execution_count": 11,
   "metadata": {},
   "outputs": [],
   "source": [
    "opcode2 = {\n",
    "    'N': lambda arg, location, waypoint:\n",
    "        (location, [waypoint[0], waypoint[1] - arg]),\n",
    "    'S': lambda arg, location, waypoint:\n",
    "        (location, [waypoint[0], waypoint[1] + arg]),\n",
    "    'E': lambda arg, location, waypoint:\n",
    "        (location, [waypoint[0] + arg, waypoint[1]]),\n",
    "    'W': lambda arg, location, waypoint:\n",
    "        (location, [waypoint[0] - arg, waypoint[1]]),\n",
    "    'L': lambda arg, location, waypoint:\n",
    "        (location, turn(-arg, waypoint)),\n",
    "    'R': lambda arg, location, waypoint:\n",
    "        (location, turn(arg, waypoint)),\n",
    "    'F': lambda arg, location, waypoint:\n",
    "        (np.add(location, np.array(waypoint).dot(arg)), waypoint),\n",
    "}\n",
    "\n",
    "\n",
    "def perform2(data, location, waypoint, debug: bool = False):\n",
    "    for line in data:\n",
    "        op, arg = (line[0], int(line[1:]))\n",
    "        if debug:\n",
    "            print(f'location: {location}, waypoint: {waypoint}'\n",
    "                  f' - op: {op}, arg: {arg}')\n",
    "        location, waypoint = opcode2[op](arg, location, waypoint)\n",
    "    return location, waypoint"
   ]
  },
  {
   "cell_type": "code",
   "execution_count": 12,
   "metadata": {
    "tags": []
   },
   "outputs": [
    {
     "name": "stdout",
     "output_type": "stream",
     "text": [
      "location: [0, 0], waypoint: [10, -1] - op: F, arg: 10\n",
      "location: [100 -10], waypoint: [10, -1] - op: N, arg: 3\n",
      "location: [100 -10], waypoint: [10, -4] - op: F, arg: 7\n",
      "location: [170 -38], waypoint: [10, -4] - op: R, arg: 90\n",
      "location: [170 -38], waypoint: [4, 10] - op: F, arg: 11\n",
      "location: [214  72], waypoint: [4, 10]\n",
      "Distance moved: 286\n"
     ]
    }
   ],
   "source": [
    "location, waypoint = ([0, 0], [10, -1])\n",
    "location, waypoint = perform2(testdata, location, waypoint, debug=True)\n",
    "print(f'location: {location}, waypoint: {waypoint}')\n",
    "print(f'Distance moved: {sum([abs(i) for i in location])}')"
   ]
  },
  {
   "cell_type": "code",
   "execution_count": 13,
   "metadata": {},
   "outputs": [
    {
     "name": "stdout",
     "output_type": "stream",
     "text": [
      "Distance moved: 61616\n"
     ]
    }
   ],
   "source": [
    "location, waypoint = ([0, 0], [10, -1])\n",
    "location, waypoint = perform2(inputdata, location, waypoint)\n",
    "print(f'Distance moved: {sum([abs(i) for i in location])}')"
   ]
  },
  {
   "cell_type": "code",
   "execution_count": 14,
   "metadata": {},
   "outputs": [
    {
     "data": {
      "text/html": [
       "\n",
       "<p>Your puzzle answer was <code>61616</code>.</p><p class=\"day-success\">Both parts of this puzzle are complete! They provide two gold stars: **</p>\n",
       "<p>At this point, all that is left is for you to <a href=\"/2020\">admire your Advent calendar</a>.</p>\n",
       "<p>If you still want to see it, you can <a href=\"12/input\" target=\"_blank\">get your puzzle input</a>.</p>\n",
       "<p>You can also <span class=\"share\">[Share<span class=\"share-content\">on\n",
       "  <a href=\"https://twitter.com/intent/tweet?text=I%27ve+completed+%22Rain+Risk%22+%2D+Day+12+%2D+Advent+of+Code+2020&amp;url=https%3A%2F%2Fadventofcode%2Ecom%2F2020%2Fday%2F12&amp;related=ericwastl&amp;hashtags=AdventOfCode\" target=\"_blank\">Twitter</a>\n",
       "  <a href=\"javascript:void(0);\" onclick=\"var mastodon_instance=prompt('Mastodon Instance / Server Name?'); if(typeof mastodon_instance==='string' && mastodon_instance.length){this.href='https://'+mastodon_instance+'/share?text=I%27ve+completed+%22Rain+Risk%22+%2D+Day+12+%2D+Advent+of+Code+2020+%23AdventOfCode+https%3A%2F%2Fadventofcode%2Ecom%2F2020%2Fday%2F12'}else{return false;}\" target=\"_blank\">Mastodon</a\n",
       "></span>]</span> this puzzle.</p>\n"
      ],
      "text/plain": [
       "<IPython.core.display.HTML object>"
      ]
     },
     "execution_count": 14,
     "metadata": {},
     "output_type": "execute_result"
    }
   ],
   "source": [
    "HTML(downloaded['part2_footer'])"
   ]
  }
 ],
 "metadata": {
  "interpreter": {
   "hash": "1bc2c3908c007cf9ce21a098f93b8bf6135208cc693d7eb2db76831745e909df"
  },
  "kernelspec": {
   "display_name": "Python 3.8.10 64-bit ('venv': venv)",
   "name": "python3"
  },
  "language_info": {
   "codemirror_mode": {
    "name": "ipython",
    "version": 3
   },
   "file_extension": ".py",
   "mimetype": "text/x-python",
   "name": "python",
   "nbconvert_exporter": "python",
   "pygments_lexer": "ipython3",
   "version": "3.8.10"
  },
  "orig_nbformat": 2
 },
 "nbformat": 4,
 "nbformat_minor": 2
}

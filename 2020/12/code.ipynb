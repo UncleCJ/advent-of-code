{
 "metadata": {
  "language_info": {
   "codemirror_mode": {
    "name": "ipython",
    "version": 3
   },
   "file_extension": ".py",
   "mimetype": "text/x-python",
   "name": "python",
   "nbconvert_exporter": "python",
   "pygments_lexer": "ipython3",
   "version": "3.6.9-final"
  },
  "orig_nbformat": 2,
  "kernelspec": {
   "name": "python3",
   "display_name": "Python 3",
   "language": "python"
  }
 },
 "nbformat": 4,
 "nbformat_minor": 2,
 "cells": [
  {
   "cell_type": "code",
   "execution_count": 1,
   "metadata": {},
   "outputs": [],
   "source": [
    "%load_ext pycodestyle_magic"
   ]
  },
  {
   "cell_type": "code",
   "execution_count": 2,
   "metadata": {},
   "outputs": [],
   "source": [
    "%flake8_on"
   ]
  },
  {
   "cell_type": "code",
   "execution_count": 3,
   "metadata": {},
   "outputs": [],
   "source": [
    "import numpy as np"
   ]
  },
  {
   "cell_type": "code",
   "execution_count": 4,
   "metadata": {},
   "outputs": [],
   "source": [
    "testdata = \"\"\"F10\n",
    "N3\n",
    "F7\n",
    "R90\n",
    "F11\"\"\".splitlines()\n",
    "\n",
    "# with open('input', 'r') as inp:\n",
    "#     inputdata = [line.strip() for line in inp.readlines()]"
   ]
  },
  {
   "cell_type": "code",
   "execution_count": 5,
   "metadata": {},
   "outputs": [],
   "source": [
    "def turn(arg, heading):\n",
    "    theta = np.radians(arg)\n",
    "    r = np.array(((np.cos(theta), -np.sin(theta)),\n",
    "                 (np.sin(theta), np.cos(theta))))\n",
    "    return [int(round(i)) for i in r.dot(heading)]"
   ]
  },
  {
   "source": [
    "## Part 1\n",
    "\n",
    "- Action N means to move north by the given value.\n",
    "- Action S means to move south by the given value.\n",
    "- Action E means to move east by the given value.\n",
    "- Action W means to move west by the given value.\n",
    "- Action L means to turn left the given number of degrees.\n",
    "- Action R means to turn right the given number of degrees.\n",
    "- Action F means to move forward by the given value in the direction the ship is currently facing."
   ],
   "cell_type": "markdown",
   "metadata": {}
  },
  {
   "cell_type": "code",
   "execution_count": 6,
   "metadata": {},
   "outputs": [],
   "source": [
    "opcode = {\n",
    "    'N': lambda arg, location, heading:\n",
    "        ([location[0], location[1] - arg], heading),\n",
    "    'S': lambda arg, location, heading:\n",
    "        ([location[0], location[1] + arg], heading),\n",
    "    'E': lambda arg, location, heading:\n",
    "        ([location[0] + arg, location[1]], heading),\n",
    "    'W': lambda arg, location, heading:\n",
    "        ([location[0] - arg, location[1]], heading),\n",
    "    'L': lambda arg, location, heading:\n",
    "        (location, turn(-arg, heading)),\n",
    "    'R': lambda arg, location, heading:\n",
    "        (location, turn(arg, heading)),\n",
    "    'F': lambda arg, location, heading:\n",
    "        (np.add(location, np.array(heading).dot(arg)), heading),\n",
    "}"
   ]
  },
  {
   "source": [
    "## Part 2\n",
    "\n",
    "- Action N means to move the waypoint north by the given value.\n",
    "- Action S means to move the waypoint south by the given value.\n",
    "- Action E means to move the waypoint east by the given value.\n",
    "- Action W means to move the waypoint west by the given value.\n",
    "- Action L means to rotate the waypoint around the ship left (counter-clockwise) the given number of degrees.\n",
    "- Action R means to rotate the waypoint around the ship right (clockwise) the given number of degrees.\n",
    "- Action F means to move forward to the waypoint a number of times equal to the given value."
   ],
   "cell_type": "markdown",
   "metadata": {}
  },
  {
   "cell_type": "code",
   "execution_count": 7,
   "metadata": {},
   "outputs": [],
   "source": [
    "opcode2 = {\n",
    "    'N': lambda arg, location, waypoint:\n",
    "        (location, [waypoint[0], waypoint[1] - arg]),\n",
    "    'S': lambda arg, location, waypoint:\n",
    "        (location, [waypoint[0], waypoint[1] + arg]),\n",
    "    'E': lambda arg, location, waypoint:\n",
    "        (location, [waypoint[0] + arg, waypoint[1]]),\n",
    "    'W': lambda arg, location, waypoint:\n",
    "        (location, [waypoint[0] - arg, waypoint[1]]),\n",
    "    'L': lambda arg, location, waypoint:\n",
    "        (location, turn(-arg, waypoint)),\n",
    "    'R': lambda arg, location, waypoint:\n",
    "        (location, turn(arg, waypoint)),\n",
    "    'F': lambda arg, location, waypoint:\n",
    "        (np.add(location, np.array(waypoint).dot(arg)), waypoint),\n",
    "}"
   ]
  },
  {
   "cell_type": "code",
   "execution_count": 8,
   "metadata": {},
   "outputs": [],
   "source": [
    "def perform(data, location, heading):\n",
    "    for line in data:\n",
    "        op, arg = (line[0], int(line[1:]))\n",
    "        print(f'location: {location}, heading: {heading}' +\n",
    "              f' - op: {op}, arg: {arg}')\n",
    "        location, heading = opcode[op](arg, location, heading)\n",
    "    return location, heading"
   ]
  },
  {
   "cell_type": "code",
   "execution_count": 9,
   "metadata": {},
   "outputs": [],
   "source": [
    "def perform2(data, location, waypoint):\n",
    "    for line in data:\n",
    "        op, arg = (line[0], int(line[1:]))\n",
    "        print(f'location: {location}, waypoint: {waypoint}' +\n",
    "              f' - op: {op}, arg: {arg}')\n",
    "        location, waypoint = opcode2[op](arg, location, waypoint)\n",
    "    return location, waypoint"
   ]
  },
  {
   "cell_type": "code",
   "execution_count": 10,
   "metadata": {
    "tags": []
   },
   "outputs": [
    {
     "output_type": "stream",
     "name": "stdout",
     "text": [
      "location: [0, 0], heading: [1, 0] - op: F, arg: 10\nlocation: [10  0], heading: [1, 0] - op: N, arg: 3\nlocation: [10, -3], heading: [1, 0] - op: F, arg: 7\nlocation: [17 -3], heading: [1, 0] - op: R, arg: 90\nlocation: [17 -3], heading: [0, 1] - op: F, arg: 11\nlocation: [17  8], heading: [0, 1]\nDistance moved: 25\nlocation: [0, 0], waypoint: [10, -1] - op: F, arg: 10\nlocation: [100 -10], waypoint: [10, -1] - op: N, arg: 3\nlocation: [100 -10], waypoint: [10, -4] - op: F, arg: 7\nlocation: [170 -38], waypoint: [10, -4] - op: R, arg: 90\nlocation: [170 -38], waypoint: [4, 10] - op: F, arg: 11\nlocation: [214  72], waypoint: [4, 10]\nDistance moved: 286\n"
     ]
    }
   ],
   "source": [
    "location, heading = ([0, 0], [1, 0])\n",
    "location, heading = perform(testdata, location, heading)\n",
    "print(f'location: {location}, heading: {heading}')\n",
    "print(f'Distance moved: {sum([abs(i) for i in location])}')\n",
    "\n",
    "location, waypoint = ([0, 0], [10, -1])\n",
    "location, waypoint = perform2(testdata, location, waypoint)\n",
    "print(f'location: {location}, waypoint: {waypoint}')\n",
    "print(f'Distance moved: {sum([abs(i) for i in location])}')"
   ]
  }
 ]
}
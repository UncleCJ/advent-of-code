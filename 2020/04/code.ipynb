{
 "cells": [
  {
   "cell_type": "markdown",
   "metadata": {},
   "source": [
    "# Day 4: Passport Processing\n",
    "\n",
    "[*Advent of Code 2020 day 4*](https://adventofcode.com/2020/day/4) and [*solution megathread*](https://redd.it/k6e8sw)\n",
    "\n",
    "[![nbviewer](https://raw.githubusercontent.com/jupyter/design/master/logos/Badges/nbviewer_badge.svg)](https://nbviewer.jupyter.org/github/UncleCJ/advent-of-code/blob/cj/2020/04/code.ipynb) [![Binder](https://mybinder.org/badge_logo.svg)](https://mybinder.org/v2/gh/UncleCJ/advent-of-code/cj?filepath=2020%2F04%2Fcode.ipynb)"
   ]
  },
  {
   "cell_type": "code",
   "execution_count": 1,
   "metadata": {},
   "outputs": [
    {
     "name": "stdout",
     "output_type": "stream",
     "text": [
      "Writing 'downloaded' (dict) to file 'downloaded'.\n"
     ]
    }
   ],
   "source": [
    "from IPython.display import HTML\n",
    "import sys\n",
    "sys.path.append('../../')\n",
    "import common\n",
    "\n",
    "downloaded = common.refresh()\n",
    "%store downloaded >downloaded"
   ]
  },
  {
   "cell_type": "markdown",
   "metadata": {},
   "source": [
    "## Part One"
   ]
  },
  {
   "cell_type": "code",
   "execution_count": 2,
   "metadata": {},
   "outputs": [
    {
     "data": {
      "text/html": [
       "<h2>--- Day 4: Passport Processing ---</h2><p>You arrive at the airport only to realize that you grabbed your North Pole Credentials instead of your passport. While these documents are extremely similar, North Pole Credentials aren't issued by a country and therefore aren't actually valid documentation for travel in most of the world.</p>\n",
       "<p>It seems like you're not the only one having problems, though; a very long line has formed for the automatic passport scanners, and the delay could upset your travel itinerary.</p>\n",
       "<p>Due to some questionable network security, you realize you might be able to solve both of these problems at the same time.</p>\n",
       "<p>The automatic passport scanners are slow because they're having trouble <em>detecting which passports have all required fields</em>. The expected fields are as follows:</p>\n",
       "<ul>\n",
       "<li><code>byr</code> (Birth Year)</li>\n",
       "<li><code>iyr</code> (Issue Year)</li>\n",
       "<li><code>eyr</code> (Expiration Year)</li>\n",
       "<li><code>hgt</code> (Height)</li>\n",
       "<li><code>hcl</code> (Hair Color)</li>\n",
       "<li><code>ecl</code> (Eye Color)</li>\n",
       "<li><code>pid</code> (Passport ID)</li>\n",
       "<li><code>cid</code> (Country ID)</li>\n",
       "</ul>\n",
       "<p>Passport data is validated in batch files (your puzzle input). Each passport is represented as a sequence of <code>key:value</code> pairs separated by spaces or newlines. Passports are separated by blank lines.</p>\n",
       "<p>Here is an example batch file containing four passports:</p>\n",
       "<pre><code>ecl:gry pid:860033327 eyr:2020 hcl:#fffffd\n",
       "byr:1937 iyr:2017 cid:147 hgt:183cm\n",
       "\n",
       "iyr:2013 ecl:amb cid:350 eyr:2023 pid:028048884\n",
       "hcl:#cfa07d byr:1929\n",
       "\n",
       "hcl:#ae17e1 iyr:2013\n",
       "eyr:2024\n",
       "ecl:brn pid:760753108 byr:1931\n",
       "hgt:179cm\n",
       "\n",
       "hcl:#cfa07d eyr:2025 pid:166559648\n",
       "iyr:2011 ecl:brn hgt:59in\n",
       "</code></pre>\n",
       "<p>The first passport is <em>valid</em> - all eight fields are present. The second passport is <em>invalid</em> - it is missing <code>hgt</code> (the Height field).</p>\n",
       "<p>The third passport is interesting; the <em>only missing field</em> is <code>cid</code>, so it looks like data from North Pole Credentials, not a passport at all! Surely, nobody would mind if you made the system temporarily ignore missing <code>cid</code> fields.  Treat this \"passport\" as <em>valid</em>.</p>\n",
       "<p>The fourth passport is missing two fields, <code>cid</code> and <code>byr</code>. Missing <code>cid</code> is fine, but missing any other field is not, so this passport is <em>invalid</em>.</p>\n",
       "<p>According to the above rules, your improved system would report <code><em>2</em></code> valid passports.</p>\n",
       "<p>Count the number of <em>valid</em> passports - those that have all required fields. Treat <code>cid</code> as optional. <em>In your batch file, how many passports are valid?</em></p>\n"
      ],
      "text/plain": [
       "<IPython.core.display.HTML object>"
      ]
     },
     "execution_count": 2,
     "metadata": {},
     "output_type": "execute_result"
    }
   ],
   "source": [
    "HTML(downloaded['part1'])"
   ]
  },
  {
   "cell_type": "markdown",
   "metadata": {},
   "source": [
    "## Boilerplate\n",
    "\n",
    "Let's try using [pycodestyle_magic](https://github.com/mattijn/pycodestyle_magic) with pycodestyle (flake8 stopped working for me in VS Code Jupyter). Now how does type checking work?"
   ]
  },
  {
   "cell_type": "code",
   "execution_count": 3,
   "metadata": {},
   "outputs": [],
   "source": [
    "%load_ext pycodestyle_magic"
   ]
  },
  {
   "cell_type": "code",
   "execution_count": 4,
   "metadata": {},
   "outputs": [],
   "source": [
    "%pycodestyle_on"
   ]
  },
  {
   "cell_type": "code",
   "execution_count": 5,
   "metadata": {},
   "outputs": [],
   "source": [
    "testdata = '''ecl:gry pid:860033327 eyr:2020 hcl:#fffffd\n",
    "byr:1937 iyr:2017 cid:147 hgt:183cm\n",
    "\n",
    "iyr:2013 ecl:amb cid:350 eyr:2023 pid:028048884\n",
    "hcl:#cfa07d byr:1929\n",
    "\n",
    "hcl:#ae17e1 iyr:2013\n",
    "eyr:2024\n",
    "ecl:brn pid:760753108 byr:1931\n",
    "hgt:179cm\n",
    "\n",
    "hcl:#cfa07d eyr:2025 pid:166559648\n",
    "iyr:2011 ecl:brn hgt:59in'''.splitlines()\n",
    "\n",
    "inputdata = downloaded['input'].splitlines()"
   ]
  },
  {
   "cell_type": "code",
   "execution_count": 6,
   "metadata": {},
   "outputs": [],
   "source": [
    "import functools\n",
    "\n",
    "requiredFields = {'byr': 'Birth Year',\n",
    "                  'iyr': 'Issue Year',\n",
    "                  'eyr': 'Expiration Year',\n",
    "                  'hgt': 'Height',\n",
    "                  'hcl': 'Hair Color',\n",
    "                  'ecl': 'Eye Color',\n",
    "                  'pid': 'Passport ID'}\n",
    "# 'cid': 'Country ID' is not actually a required field\n",
    "\n",
    "\n",
    "def parseItems(data):\n",
    "    items, i = ([dict()], 0)\n",
    "    for line in data:\n",
    "        if len(line) == 0:\n",
    "            i += 1\n",
    "            items.append(dict())\n",
    "        else:\n",
    "            for token in line.split():\n",
    "                key, value = token.split(':', 1)\n",
    "                items[i][key] = value\n",
    "    return items"
   ]
  },
  {
   "cell_type": "code",
   "execution_count": 7,
   "metadata": {},
   "outputs": [
    {
     "name": "stdout",
     "output_type": "stream",
     "text": [
      "[{'ecl': 'gry', 'pid': '860033327', 'eyr': '2020', 'hcl': '#fffffd', 'byr': '1937', 'iyr': '2017', 'cid': '147', 'hgt': '183cm'}, {'iyr': '2013', 'ecl': 'amb', 'cid': '350', 'eyr': '2023', 'pid': '028048884', 'hcl': '#cfa07d', 'byr': '1929'}, {'hcl': '#ae17e1', 'iyr': '2013', 'eyr': '2024', 'ecl': 'brn', 'pid': '760753108', 'byr': '1931', 'hgt': '179cm'}, {'hcl': '#cfa07d', 'eyr': '2025', 'pid': '166559648', 'iyr': '2011', 'ecl': 'brn', 'hgt': '59in'}]\n",
      "{'ecl': 'gry', 'pid': '860033327', 'eyr': '2020', 'hcl': '#fffffd', 'byr': '1937', 'iyr': '2017', 'cid': '147', 'hgt': '183cm'} is a True item\n",
      "{'iyr': '2013', 'ecl': 'amb', 'cid': '350', 'eyr': '2023', 'pid': '028048884', 'hcl': '#cfa07d', 'byr': '1929'} is a False item\n",
      "{'hcl': '#ae17e1', 'iyr': '2013', 'eyr': '2024', 'ecl': 'brn', 'pid': '760753108', 'byr': '1931', 'hgt': '179cm'} is a True item\n",
      "{'hcl': '#cfa07d', 'eyr': '2025', 'pid': '166559648', 'iyr': '2011', 'ecl': 'brn', 'hgt': '59in'} is a False item\n"
     ]
    }
   ],
   "source": [
    "passports = parseItems(testdata)\n",
    "print(passports)\n",
    "\n",
    "for passport in passports:\n",
    "    validity = functools.reduce(lambda a, b: a & b,\n",
    "                                [field in passport for\n",
    "                                 field in requiredFields.keys()])\n",
    "    print(f\"{passport} is a {validity} item\")"
   ]
  },
  {
   "cell_type": "code",
   "execution_count": 8,
   "metadata": {},
   "outputs": [
    {
     "name": "stdout",
     "output_type": "stream",
     "text": [
      "206\n"
     ]
    }
   ],
   "source": [
    "passports = parseItems(inputdata)\n",
    "answer = sum([functools.reduce(lambda a, b: a & b,\n",
    "                               [field in passport for\n",
    "                                field in requiredFields.keys()])\n",
    "              for passport in passports])\n",
    "print(answer)"
   ]
  },
  {
   "cell_type": "code",
   "execution_count": 9,
   "metadata": {},
   "outputs": [
    {
     "data": {
      "text/html": [
       "\n",
       "<p>Your puzzle answer was <code>206</code>.</p>"
      ],
      "text/plain": [
       "<IPython.core.display.HTML object>"
      ]
     },
     "execution_count": 9,
     "metadata": {},
     "output_type": "execute_result"
    }
   ],
   "source": [
    "HTML(downloaded['part1_footer'])"
   ]
  },
  {
   "cell_type": "markdown",
   "metadata": {},
   "source": [
    "## Part Two"
   ]
  },
  {
   "cell_type": "code",
   "execution_count": 10,
   "metadata": {},
   "outputs": [
    {
     "data": {
      "text/html": [
       "<h2 id=\"part2\">--- Part Two ---</h2><p>The line is moving more quickly now, but you overhear airport security talking about how passports with invalid data are getting through. Better add some data validation, quick!</p>\n",
       "<p>You can continue to ignore the <code>cid</code> field, but each other field has <span title=\"GLORY TO ARSTOTZKA\">strict rules</span> about what values are valid for automatic validation:</p>\n",
       "<ul>\n",
       "<li><code>byr</code> (Birth Year) - four digits; at least <code>1920</code> and at most <code>2002</code>.</li>\n",
       "<li><code>iyr</code> (Issue Year) - four digits; at least <code>2010</code> and at most <code>2020</code>.</li>\n",
       "<li><code>eyr</code> (Expiration Year) - four digits; at least <code>2020</code> and at most <code>2030</code>.</li>\n",
       "<li><code>hgt</code> (Height) - a number followed by either <code>cm</code> or <code>in</code>:\n",
       "  <ul>\n",
       "  <li>If <code>cm</code>, the number must be at least <code>150</code> and at most <code>193</code>.</li>\n",
       "  <li>If <code>in</code>, the number must be at least <code>59</code> and at most <code>76</code>.</li>\n",
       "  </ul>\n",
       "</li>\n",
       "<li><code>hcl</code> (Hair Color) - a <code>#</code> followed by exactly six characters <code>0</code>-<code>9</code> or <code>a</code>-<code>f</code>.</li>\n",
       "<li><code>ecl</code> (Eye Color) - exactly one of: <code>amb</code> <code>blu</code> <code>brn</code> <code>gry</code> <code>grn</code> <code>hzl</code> <code>oth</code>.</li>\n",
       "<li><code>pid</code> (Passport ID) - a nine-digit number, including leading zeroes.</li>\n",
       "<li><code>cid</code> (Country ID) - ignored, missing or not.</li>\n",
       "</ul>\n",
       "<p>Your job is to count the passports where all required fields are both <em>present</em> and <em>valid</em> according to the above rules. Here are some example values:</p>\n",
       "<pre><code>byr valid:   2002\n",
       "byr invalid: 2003\n",
       "\n",
       "hgt valid:   60in\n",
       "hgt valid:   190cm\n",
       "hgt invalid: 190in\n",
       "hgt invalid: 190\n",
       "\n",
       "hcl valid:   #123abc\n",
       "hcl invalid: #123abz\n",
       "hcl invalid: 123abc\n",
       "\n",
       "ecl valid:   brn\n",
       "ecl invalid: wat\n",
       "\n",
       "pid valid:   000000001\n",
       "pid invalid: 0123456789\n",
       "</code></pre>\n",
       "<p>Here are some invalid passports:</p>\n",
       "<pre><code>eyr:1972 cid:100\n",
       "hcl:#18171d ecl:amb hgt:170 pid:186cm iyr:2018 byr:1926\n",
       "\n",
       "iyr:2019\n",
       "hcl:#602927 eyr:1967 hgt:170cm\n",
       "ecl:grn pid:012533040 byr:1946\n",
       "\n",
       "hcl:dab227 iyr:2012\n",
       "ecl:brn hgt:182cm pid:021572410 eyr:2020 byr:1992 cid:277\n",
       "\n",
       "hgt:59cm ecl:zzz\n",
       "eyr:2038 hcl:74454a iyr:2023\n",
       "pid:3556412378 byr:2007\n",
       "</code></pre>\n",
       "<p>Here are some valid passports:</p>\n",
       "<pre><code>pid:087499704 hgt:74in ecl:grn iyr:2012 eyr:2030 byr:1980\n",
       "hcl:#623a2f\n",
       "\n",
       "eyr:2029 ecl:blu cid:129 byr:1989\n",
       "iyr:2014 pid:896056539 hcl:#a97842 hgt:165cm\n",
       "\n",
       "hcl:#888785\n",
       "hgt:164cm byr:2001 iyr:2015 cid:88\n",
       "pid:545766238 ecl:hzl\n",
       "eyr:2022\n",
       "\n",
       "iyr:2010 hgt:158cm hcl:#b6652a ecl:blu byr:1944 eyr:2021 pid:093154719\n",
       "</code></pre>\n",
       "<p>Count the number of <em>valid</em> passports - those that have all required fields <em>and valid values</em>. Continue to treat <code>cid</code> as optional. <em>In your batch file, how many passports are valid?</em></p>\n"
      ],
      "text/plain": [
       "<IPython.core.display.HTML object>"
      ]
     },
     "execution_count": 10,
     "metadata": {},
     "output_type": "execute_result"
    }
   ],
   "source": [
    "HTML(downloaded['part2'])"
   ]
  },
  {
   "cell_type": "code",
   "execution_count": 11,
   "metadata": {},
   "outputs": [
    {
     "name": "stderr",
     "output_type": "stream",
     "text": [
      "38:5: E731 do not assign a lambda expression, use a def\n"
     ]
    }
   ],
   "source": [
    "def validate(key, value):\n",
    "    def switch(option, cases, default):\n",
    "        if option in cases:\n",
    "            return cases[option]\n",
    "        else:\n",
    "            return default\n",
    "\n",
    "    cases = {\n",
    "        'byr': lambda byr:\n",
    "            len(byr) == 4 and 1920 <= int(byr) and int(byr) <= 2002,\n",
    "        'iyr': lambda iyr:\n",
    "            len(iyr) == 4 and 2010 <= int(iyr) and int(iyr) <= 2020,\n",
    "        'eyr': lambda eyr:\n",
    "            len(eyr) == 4 and 2020 <= int(eyr) and int(eyr) <= 2030,\n",
    "        'hgt': lambda hgt:\n",
    "            (hgt[-2:] == 'cm'\n",
    "             and 150 <= int(hgt[:-2])\n",
    "             and int(hgt[:-2]) <= 193)\n",
    "            or (hgt[-2:] == 'in'\n",
    "                and 59 <= int(hgt[:-2])\n",
    "                and int(hgt[:-2]) <= 76),\n",
    "        'hcl': lambda hcl:\n",
    "            len(hcl) == 7\n",
    "            and hcl[0] == '#'\n",
    "            and functools.reduce(lambda a, b: a & b,\n",
    "                                 [c in '0123456789abcdef'\n",
    "                                  for c in hcl[1:]]),\n",
    "        'ecl': lambda ecl:\n",
    "            ecl in {'amb', 'blu', 'brn', 'gry', 'grn', 'hzl', 'oth'},\n",
    "        'pid': lambda pid:\n",
    "            len(pid) == 9\n",
    "            and functools.reduce(lambda a, b: a & b,\n",
    "                                 [c in '0123456789'\n",
    "                                  for c in pid[1:]]),\n",
    "        'cid': lambda ignored: True\n",
    "    }\n",
    "\n",
    "    default = lambda ignored: False\n",
    "\n",
    "    return(switch(key, cases, default)(value))"
   ]
  },
  {
   "cell_type": "code",
   "execution_count": 12,
   "metadata": {},
   "outputs": [
    {
     "name": "stdout",
     "output_type": "stream",
     "text": [
      "Tests passing: True\n"
     ]
    }
   ],
   "source": [
    "print(\"Tests passing:\",\n",
    "      functools.reduce(lambda a, b: a & b,\n",
    "                       [not validate('iyr', '2009'),\n",
    "                        validate('iyr', '2012'),\n",
    "                        not validate('iyr', '2021'),\n",
    "                        validate('byr', '1930'),\n",
    "                        not validate('acv', '2021'),\n",
    "                        validate('hgt', '180cm'),\n",
    "                        not validate('hgt', '210cm'),\n",
    "                        not validate('hgt', '210sd'),\n",
    "                        not validate('hgt', '12in'),\n",
    "                        validate('hgt', '60in'),\n",
    "                        validate('hcl', '#ffffff'),\n",
    "                        not validate('hcl', '#fffffff'),\n",
    "                        validate('ecl', 'blu'),\n",
    "                        not validate('ecl', 'asd'),\n",
    "                        validate('pid', '123456789'),\n",
    "                        not validate('pid', '1234567a9')]))"
   ]
  },
  {
   "cell_type": "code",
   "execution_count": 13,
   "metadata": {},
   "outputs": [
    {
     "name": "stdout",
     "output_type": "stream",
     "text": [
      "123\n"
     ]
    }
   ],
   "source": [
    "\n",
    "answer = sum([\n",
    "    functools.reduce(lambda a, b: a & b,\n",
    "                     [field in passport\n",
    "                      and validate(field, passport[field])\n",
    "                      for field in requiredFields.keys()])\n",
    "    for passport in passports])\n",
    "print(answer)"
   ]
  },
  {
   "cell_type": "code",
   "execution_count": 14,
   "metadata": {},
   "outputs": [
    {
     "data": {
      "text/html": [
       "\n",
       "<p>Your puzzle answer was <code>123</code>.</p><p class=\"day-success\">Both parts of this puzzle are complete! They provide two gold stars: **</p>\n",
       "<p>At this point, all that is left is for you to <a href=\"/2020\">admire your Advent calendar</a>.</p>\n",
       "<p>If you still want to see it, you can <a href=\"4/input\" target=\"_blank\">get your puzzle input</a>.</p>\n",
       "<p>You can also <span class=\"share\">[Share<span class=\"share-content\">on\n",
       "  <a href=\"https://twitter.com/intent/tweet?text=I%27ve+completed+%22Passport+Processing%22+%2D+Day+4+%2D+Advent+of+Code+2020&amp;url=https%3A%2F%2Fadventofcode%2Ecom%2F2020%2Fday%2F4&amp;related=ericwastl&amp;hashtags=AdventOfCode\" target=\"_blank\">Twitter</a>\n",
       "  <a href=\"javascript:void(0);\" onclick=\"var mastodon_instance=prompt('Mastodon Instance / Server Name?'); if(typeof mastodon_instance==='string' && mastodon_instance.length){this.href='https://'+mastodon_instance+'/share?text=I%27ve+completed+%22Passport+Processing%22+%2D+Day+4+%2D+Advent+of+Code+2020+%23AdventOfCode+https%3A%2F%2Fadventofcode%2Ecom%2F2020%2Fday%2F4'}else{return false;}\" target=\"_blank\">Mastodon</a\n",
       "></span>]</span> this puzzle.</p>\n"
      ],
      "text/plain": [
       "<IPython.core.display.HTML object>"
      ]
     },
     "execution_count": 14,
     "metadata": {},
     "output_type": "execute_result"
    }
   ],
   "source": [
    "HTML(downloaded['part2_footer'])"
   ]
  }
 ],
 "metadata": {
  "interpreter": {
   "hash": "aee8b7b246df8f9039afb4144a1f6fd8d2ca17a180786b69acc140d282b71a49"
  },
  "kernelspec": {
   "display_name": "Python 3.9.7 64-bit",
   "name": "python3"
  },
  "language_info": {
   "codemirror_mode": {
    "name": "ipython",
    "version": 3
   },
   "file_extension": ".py",
   "mimetype": "text/x-python",
   "name": "python",
   "nbconvert_exporter": "python",
   "pygments_lexer": "ipython3",
   "version": "3.9.7"
  }
 },
 "nbformat": 4,
 "nbformat_minor": 4
}

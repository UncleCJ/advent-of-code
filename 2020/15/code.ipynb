{
 "metadata": {
  "language_info": {
   "codemirror_mode": {
    "name": "ipython",
    "version": 3
   },
   "file_extension": ".py",
   "mimetype": "text/x-python",
   "name": "python",
   "nbconvert_exporter": "python",
   "pygments_lexer": "ipython3",
   "version": "3.6.9-final"
  },
  "orig_nbformat": 2,
  "kernelspec": {
   "name": "python3",
   "display_name": "Python 3",
   "language": "python"
  }
 },
 "nbformat": 4,
 "nbformat_minor": 2,
 "cells": [
  {
   "cell_type": "code",
   "execution_count": 1,
   "metadata": {},
   "outputs": [],
   "source": [
    "testdata1 = \"0,3,6\"\n",
    "testdata2 = '1,3,2'\n",
    "testdata3 = '2,1,3'\n",
    "testdata4 = '1,2,3'\n",
    "testdata5 = '2,3,1'\n",
    "testdata6 = '3,2,1'\n",
    "testdata7 = '3,1,2'\n",
    "inputdata = \"2,20,0,4,1,17\""
   ]
  },
  {
   "cell_type": "code",
   "execution_count": 2,
   "metadata": {},
   "outputs": [],
   "source": [
    "def iterate(data, target):\n",
    "    trace, latest = preamble(data)\n",
    "    for t in range(len(trace)+1, target+1):\n",
    "        latest_ts = trace[latest]\n",
    "        if len(latest_ts) == 1:\n",
    "            latest = 0\n",
    "        else:\n",
    "            latest = latest_ts[-1] - latest_ts[-2]\n",
    "        \n",
    "        if latest in trace.keys():\n",
    "            trace[latest] += [t]\n",
    "        else:\n",
    "            trace[latest] = [t]\n",
    "\n",
    "        # print(f'Turn {t}, element {latest}')\n",
    "    return trace, latest"
   ]
  },
  {
   "cell_type": "code",
   "execution_count": 3,
   "metadata": {},
   "outputs": [],
   "source": [
    "def preamble(arg):\n",
    "    preamble = [(int(e), [t+1]) for t, e in enumerate(arg.split(','))]\n",
    "    latest, ignored = preamble[-1]\n",
    "    return dict(preamble), latest"
   ]
  },
  {
   "cell_type": "code",
   "execution_count": 4,
   "metadata": {
    "tags": []
   },
   "outputs": [
    {
     "output_type": "stream",
     "name": "stdout",
     "text": [
      "0,3,6 2020th is 436\n1,3,2 2020th is 1\n2,1,3 2020th is 10\n1,2,3 2020th is 27\n2,3,1 2020th is 78\n3,2,1 2020th is 438\n3,1,2 2020th is 1836\n2,20,0,4,1,17 2020th is 758\n"
     ]
    }
   ],
   "source": [
    "for data in [testdata1, testdata2, testdata3, testdata4, testdata5, testdata6, testdata7, inputdata]:\n",
    "    trace, latest = iterate(data, 2020)\n",
    "    print(f'{data} 2020th is {latest}')"
   ]
  }
 ]
}
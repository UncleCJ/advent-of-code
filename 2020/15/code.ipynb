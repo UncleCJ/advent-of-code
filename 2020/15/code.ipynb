{
 "metadata": {
  "language_info": {
   "codemirror_mode": {
    "name": "ipython",
    "version": 3
   },
   "file_extension": ".py",
   "mimetype": "text/x-python",
   "name": "python",
   "nbconvert_exporter": "python",
   "pygments_lexer": "ipython3",
   "version": "3.6.9-final"
  },
  "orig_nbformat": 2,
  "kernelspec": {
   "name": "python3",
   "display_name": "Python 3",
   "language": "python"
  }
 },
 "nbformat": 4,
 "nbformat_minor": 2,
 "cells": [
  {
   "cell_type": "code",
   "execution_count": 1,
   "metadata": {},
   "outputs": [],
   "source": [
    "%load_ext pycodestyle_magic"
   ]
  },
  {
   "cell_type": "code",
   "execution_count": 2,
   "metadata": {},
   "outputs": [],
   "source": [
    "%flake8_on"
   ]
  },
  {
   "cell_type": "code",
   "execution_count": 3,
   "metadata": {},
   "outputs": [],
   "source": [
    "testdata1 = \"0,3,6\"\n",
    "testdata2 = '1,3,2'\n",
    "testdata3 = '2,1,3'\n",
    "testdata4 = '1,2,3'\n",
    "testdata5 = '2,3,1'\n",
    "testdata6 = '3,2,1'\n",
    "testdata7 = '3,1,2'\n",
    "inputdata = \"2,20,0,4,1,17\""
   ]
  },
  {
   "cell_type": "code",
   "execution_count": 4,
   "metadata": {},
   "outputs": [],
   "source": [
    "def iterate(data, target):\n",
    "    trace, latest = preamble(data)\n",
    "    for t in range(len(trace) + 1, target + 1):\n",
    "        # Obviously the latest element is in the dictionary\n",
    "        latest_t, difference = trace[latest]\n",
    "        # If the latest element was in the list for the first time\n",
    "        if difference == 0:\n",
    "            # Next element ought to be 0\n",
    "            latest = 0\n",
    "        else:\n",
    "            # Otherwise, should be the difference between the recent two times\n",
    "            latest = difference\n",
    "\n",
    "        # Now, if the selected number was already mentioned\n",
    "        if latest in trace.keys():\n",
    "            latest_t, ignored = trace[latest]\n",
    "            trace[latest] = (t, t - latest_t)\n",
    "        else:\n",
    "            trace[latest] = (t, 0)\n",
    "\n",
    "        # print(f'Turn {t}, element {latest}')\n",
    "        # print(trace)\n",
    "    return trace, latest"
   ]
  },
  {
   "cell_type": "code",
   "execution_count": 5,
   "metadata": {},
   "outputs": [],
   "source": [
    "def preamble(arg):\n",
    "    elements = arg.split(',')\n",
    "    preamble = [(int(e), (t + 1, 0)) for t, e in enumerate(elements)]\n",
    "    latest, ignored = preamble[-1]\n",
    "    return dict(preamble), latest"
   ]
  },
  {
   "cell_type": "code",
   "execution_count": 6,
   "metadata": {
    "tags": []
   },
   "outputs": [
    {
     "output_type": "stream",
     "name": "stdout",
     "text": [
      "0,3,6 2020th is 436\n1,3,2 2020th is 1\n2,1,3 2020th is 10\n1,2,3 2020th is 27\n2,3,1 2020th is 78\n3,2,1 2020th is 438\n3,1,2 2020th is 1836\n2,20,0,4,1,17 2020th is 758\n"
     ]
    }
   ],
   "source": [
    "for data in [testdata1, testdata2, testdata3, testdata4,\n",
    "             testdata5, testdata6, testdata7,\n",
    "             inputdata]:\n",
    "    trace, latest = iterate(data, 2020)\n",
    "    print(f'{data} 2020th is {latest}')"
   ]
  },
  {
   "cell_type": "code",
   "execution_count": 7,
   "metadata": {},
   "outputs": [
    {
     "output_type": "stream",
     "name": "stdout",
     "text": [
      "0,3,6 30000000th is 175594\n",
      "1,3,2 30000000th is 2578\n",
      "2,1,3 30000000th is 3544142\n",
      "1,2,3 30000000th is 261214\n",
      "2,3,1 30000000th is 6895259\n",
      "3,2,1 30000000th is 18\n",
      "3,1,2 30000000th is 362\n",
      "2,20,0,4,1,17 30000000th is 814\n"
     ]
    }
   ],
   "source": [
    "for data in [testdata1, testdata2, testdata3, testdata4,\n",
    "             testdata5, testdata6, testdata7,\n",
    "             inputdata]:\n",
    "    trace, latest = iterate(data, 30000000)\n",
    "    print(f'{data} 30000000th is {latest}')"
   ]
  }
 ]
}
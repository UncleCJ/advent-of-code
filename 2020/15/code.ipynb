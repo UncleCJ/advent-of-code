{
 "cells": [
  {
   "cell_type": "markdown",
   "metadata": {},
   "source": [
    "# Day 15: Rambunctious Recitation\n",
    "\n",
    "[*Advent of Code 2020 day 15*](https://adventofcode.com/2020/day/15) and [*solution megathread*](https://redd.it/kdf85p)\n",
    "\n",
    "[![nbviewer](https://raw.githubusercontent.com/jupyter/design/master/logos/Badges/nbviewer_badge.svg)](https://nbviewer.jupyter.org/github/UncleCJ/advent-of-code/blob/cj/2020/15/code.ipynb) [![Binder](https://mybinder.org/badge_logo.svg)](https://mybinder.org/v2/gh/UncleCJ/advent-of-code/cj?filepath=2020%2F15%2Fcode.ipynb)"
   ]
  },
  {
   "cell_type": "code",
   "execution_count": 1,
   "metadata": {},
   "outputs": [
    {
     "name": "stdout",
     "output_type": "stream",
     "text": [
      "Writing 'downloaded' (dict) to file 'downloaded'.\n"
     ]
    }
   ],
   "source": [
    "from IPython.display import HTML\n",
    "import sys\n",
    "sys.path.append('../../')\n",
    "import common\n",
    "\n",
    "downloaded = common.refresh()\n",
    "%store downloaded >downloaded"
   ]
  },
  {
   "cell_type": "markdown",
   "metadata": {},
   "source": [
    "# Part One"
   ]
  },
  {
   "cell_type": "code",
   "execution_count": 2,
   "metadata": {},
   "outputs": [
    {
     "data": {
      "text/html": [
       "<h2>--- Day 15: Rambunctious Recitation ---</h2><p>You catch the airport shuttle and try to book a new flight to your vacation island. Due to the storm, all direct flights have been cancelled, but a route is available to get around the storm. You take it.</p>\n",
       "<p>While you wait for your flight, you decide to check in with the Elves back at the North Pole. They're playing a <em>memory game</em> and are <span title=\"Of course they are.\">ever so excited</span> to explain the rules!</p>\n",
       "<p>In this game, the players take turns saying <em>numbers</em>. They begin by taking turns reading from a list of <em>starting numbers</em> (your puzzle input). Then, each turn consists of considering the <em>most recently spoken number</em>:</p>\n",
       "<ul>\n",
       "<li>If that was the <em>first</em> time the number has been spoken, the current player says <em><code>0</code></em>.</li>\n",
       "<li>Otherwise, the number had been spoken before; the current player announces <em>how many turns apart</em> the number is from when it was previously spoken.</li>\n",
       "</ul>\n",
       "<p>So, after the starting numbers, each turn results in that player speaking aloud either <em><code>0</code></em> (if the last number is new) or an <em>age</em> (if the last number is a repeat).</p>\n",
       "<p>For example, suppose the starting numbers are <code>0,3,6</code>:</p>\n",
       "<ul>\n",
       "<li><em>Turn 1</em>: The <code>1</code>st number spoken is a starting number, <em><code>0</code></em>.</li>\n",
       "<li><em>Turn 2</em>: The <code>2</code>nd number spoken is a starting number, <em><code>3</code></em>.</li>\n",
       "<li><em>Turn 3</em>: The <code>3</code>rd number spoken is a starting number, <em><code>6</code></em>.</li>\n",
       "<li><em>Turn 4</em>: Now, consider the last number spoken, <code>6</code>. Since that was the first time the number had been spoken, the <code>4</code>th number spoken is <em><code>0</code></em>.</li>\n",
       "<li><em>Turn 5</em>: Next, again consider the last number spoken, <code>0</code>. Since it <em>had</em> been spoken before, the next number to speak is the difference between the turn number when it was last spoken (the previous turn, <code>4</code>) and the turn number of the time it was most recently spoken before then (turn <code>1</code>). Thus, the <code>5</code>th number spoken is <code>4 - 1</code>, <em><code>3</code></em>.</li>\n",
       "<li><em>Turn 6</em>: The last number spoken, <code>3</code> had also been spoken before, most recently on turns <code>5</code> and <code>2</code>. So, the <code>6</code>th number spoken is <code>5 - 2</code>, <em><code>3</code></em>.</li>\n",
       "<li><em>Turn 7</em>: Since <code>3</code> was just spoken twice in a row, and the last two turns are <code>1</code> turn apart, the <code>7</code>th number spoken is <em><code>1</code></em>.</li>\n",
       "<li><em>Turn 8</em>: Since <code>1</code> is new, the <code>8</code>th number spoken is <em><code>0</code></em>.</li>\n",
       "<li><em>Turn 9</em>: <code>0</code> was last spoken on turns <code>8</code> and <code>4</code>, so the <code>9</code>th number spoken is the difference between them, <em><code>4</code></em>.</li>\n",
       "<li><em>Turn 10</em>: <code>4</code> is new, so the <code>10</code>th number spoken is <em><code>0</code></em>.</li>\n",
       "</ul>\n",
       "<p>(The game ends when the Elves get sick of playing or dinner is ready, whichever comes first.)</p>\n",
       "<p>Their question for you is: what will be the <em><code>2020</code>th</em> number spoken? In the example above, the <code>2020</code>th number spoken will be <code>436</code>.</p>\n",
       "<p>Here are a few more examples:</p>\n",
       "<ul>\n",
       "<li>Given the starting numbers <code>1,3,2</code>, the <code>2020</code>th number spoken is <code>1</code>.</li>\n",
       "<li>Given the starting numbers <code>2,1,3</code>, the <code>2020</code>th number spoken is <code>10</code>.</li>\n",
       "<li>Given the starting numbers <code>1,2,3</code>, the <code>2020</code>th number spoken is <code>27</code>.</li>\n",
       "<li>Given the starting numbers <code>2,3,1</code>, the <code>2020</code>th number spoken is <code>78</code>.</li>\n",
       "<li>Given the starting numbers <code>3,2,1</code>, the <code>2020</code>th number spoken is <code>438</code>.</li>\n",
       "<li>Given the starting numbers <code>3,1,2</code>, the <code>2020</code>th number spoken is <code>1836</code>.</li>\n",
       "</ul>\n",
       "<p>Given your starting numbers, <em>what will be the <code>2020</code>th number spoken?</em></p>\n"
      ],
      "text/plain": [
       "<IPython.core.display.HTML object>"
      ]
     },
     "execution_count": 2,
     "metadata": {},
     "output_type": "execute_result"
    }
   ],
   "source": [
    "HTML(downloaded['part1'])"
   ]
  },
  {
   "cell_type": "markdown",
   "metadata": {},
   "source": [
    "## Boilerplate\n",
    "\n",
    "Let's try using [pycodestyle_magic](https://github.com/mattijn/pycodestyle_magic) with pycodestyle (flake8 stopped working for me in VS Code Jupyter). Now how does type checking work?"
   ]
  },
  {
   "cell_type": "code",
   "execution_count": 3,
   "metadata": {},
   "outputs": [],
   "source": [
    "%load_ext pycodestyle_magic"
   ]
  },
  {
   "cell_type": "code",
   "execution_count": 4,
   "metadata": {},
   "outputs": [],
   "source": [
    "%pycodestyle_on"
   ]
  },
  {
   "cell_type": "code",
   "execution_count": 5,
   "metadata": {},
   "outputs": [],
   "source": [
    "testdata1 = \"0,3,6\"\n",
    "testdata2 = '1,3,2'\n",
    "testdata3 = '2,1,3'\n",
    "testdata4 = '1,2,3'\n",
    "testdata5 = '2,3,1'\n",
    "testdata6 = '3,2,1'\n",
    "testdata7 = '3,1,2'\n",
    "inputdata = \"2,20,0,4,1,17\""
   ]
  },
  {
   "cell_type": "code",
   "execution_count": 6,
   "metadata": {},
   "outputs": [],
   "source": [
    "def iterate(data, target):\n",
    "    trace, latest = preamble(data)\n",
    "    for t in range(len(trace) + 1, target + 1):\n",
    "        # Obviously the latest element is in the dictionary\n",
    "        latest_t, difference = trace[latest]\n",
    "        # If the latest element was in the list for the first time\n",
    "        if difference == 0:\n",
    "            # Next element ought to be 0\n",
    "            latest = 0\n",
    "        else:\n",
    "            # Otherwise, should be the difference between the recent two times\n",
    "            latest = difference\n",
    "\n",
    "        # Now, if the selected number was already mentioned\n",
    "        if latest in trace.keys():\n",
    "            latest_t, ignored = trace[latest]\n",
    "            trace[latest] = (t, t - latest_t)\n",
    "        else:\n",
    "            trace[latest] = (t, 0)\n",
    "\n",
    "        # print(f'Turn {t}, element {latest}')\n",
    "        # print(trace)\n",
    "    return trace, latest\n",
    "\n",
    "\n",
    "def preamble(arg):\n",
    "    elements = arg.split(',')\n",
    "    preamble = [(int(e), (t + 1, 0)) for t, e in enumerate(elements)]\n",
    "    latest, ignored = preamble[-1]\n",
    "    return dict(preamble), latest"
   ]
  },
  {
   "cell_type": "code",
   "execution_count": 7,
   "metadata": {
    "tags": []
   },
   "outputs": [
    {
     "name": "stdout",
     "output_type": "stream",
     "text": [
      "0,3,6 2020th is 436\n",
      "1,3,2 2020th is 1\n",
      "2,1,3 2020th is 10\n",
      "1,2,3 2020th is 27\n",
      "2,3,1 2020th is 78\n",
      "3,2,1 2020th is 438\n",
      "3,1,2 2020th is 1836\n",
      "2,20,0,4,1,17 2020th is 758\n"
     ]
    }
   ],
   "source": [
    "# %%timeit -n1 -r1\n",
    "for data in [testdata1,\n",
    "             testdata2,\n",
    "             testdata3,\n",
    "             testdata4,\n",
    "             testdata5,\n",
    "             testdata6,\n",
    "             testdata7,\n",
    "             inputdata]:\n",
    "    trace, latest = iterate(data, 2020)\n",
    "    print(f'{data} 2020th is {latest}')"
   ]
  },
  {
   "cell_type": "code",
   "execution_count": 8,
   "metadata": {},
   "outputs": [
    {
     "data": {
      "text/html": [
       "\n",
       "<p>Your puzzle answer was <code>758</code>.</p>"
      ],
      "text/plain": [
       "<IPython.core.display.HTML object>"
      ]
     },
     "execution_count": 8,
     "metadata": {},
     "output_type": "execute_result"
    }
   ],
   "source": [
    "HTML(downloaded['part1_footer'])"
   ]
  },
  {
   "cell_type": "markdown",
   "metadata": {},
   "source": [
    "## Part Two"
   ]
  },
  {
   "cell_type": "code",
   "execution_count": 9,
   "metadata": {},
   "outputs": [
    {
     "data": {
      "text/html": [
       "<h2 id=\"part2\">--- Part Two ---</h2><p>Impressed, the Elves issue you a challenge: determine the <code>30000000</code>th number spoken. For example, given the same starting numbers as above:</p>\n",
       "<ul>\n",
       "<li>Given <code>0,3,6</code>, the <code>30000000</code>th number spoken is <code>175594</code>.</li>\n",
       "<li>Given <code>1,3,2</code>, the <code>30000000</code>th number spoken is <code>2578</code>.</li>\n",
       "<li>Given <code>2,1,3</code>, the <code>30000000</code>th number spoken is <code>3544142</code>.</li>\n",
       "<li>Given <code>1,2,3</code>, the <code>30000000</code>th number spoken is <code>261214</code>.</li>\n",
       "<li>Given <code>2,3,1</code>, the <code>30000000</code>th number spoken is <code>6895259</code>.</li>\n",
       "<li>Given <code>3,2,1</code>, the <code>30000000</code>th number spoken is <code>18</code>.</li>\n",
       "<li>Given <code>3,1,2</code>, the <code>30000000</code>th number spoken is <code>362</code>.</li>\n",
       "</ul>\n",
       "<p>Given your starting numbers, <em>what will be the <code>30000000</code>th number spoken?</em></p>\n"
      ],
      "text/plain": [
       "<IPython.core.display.HTML object>"
      ]
     },
     "execution_count": 9,
     "metadata": {},
     "output_type": "execute_result"
    }
   ],
   "source": [
    "HTML(downloaded['part2'])"
   ]
  },
  {
   "cell_type": "code",
   "execution_count": 10,
   "metadata": {},
   "outputs": [
    {
     "name": "stdout",
     "output_type": "stream",
     "text": [
      "0,3,6 30000000th is 175594\n",
      "1,3,2 30000000th is 2578\n",
      "2,1,3 30000000th is 3544142\n",
      "1,2,3 30000000th is 261214\n",
      "2,3,1 30000000th is 6895259\n",
      "3,2,1 30000000th is 18\n",
      "3,1,2 30000000th is 362\n",
      "2,20,0,4,1,17 30000000th is 814\n"
     ]
    }
   ],
   "source": [
    "# %%timeit -n1 -r1\n",
    "for data in [testdata1,\n",
    "             testdata2,\n",
    "             testdata3,\n",
    "             testdata4,\n",
    "             testdata5,\n",
    "             testdata6,\n",
    "             testdata7,\n",
    "             inputdata]:\n",
    "    trace, latest = iterate(data, 30000000)\n",
    "    print(f'{data} 30000000th is {latest}')"
   ]
  },
  {
   "cell_type": "code",
   "execution_count": 11,
   "metadata": {},
   "outputs": [
    {
     "data": {
      "text/html": [
       "\n",
       "<p>Your puzzle answer was <code>814</code>.</p><p class=\"day-success\">Both parts of this puzzle are complete! They provide two gold stars: **</p>\n",
       "<p>At this point, all that is left is for you to <a href=\"/2020\">admire your Advent calendar</a>.</p>\n",
       "<p>Your puzzle input was <code class=\"puzzle-input\">2,20,0,4,1,17</code>.</p>\n",
       "<p>You can also <span class=\"share\">[Share<span class=\"share-content\">on\n",
       "  <a href=\"https://twitter.com/intent/tweet?text=I%27ve+completed+%22Rambunctious+Recitation%22+%2D+Day+15+%2D+Advent+of+Code+2020&amp;url=https%3A%2F%2Fadventofcode%2Ecom%2F2020%2Fday%2F15&amp;related=ericwastl&amp;hashtags=AdventOfCode\" target=\"_blank\">Twitter</a>\n",
       "  <a href=\"javascript:void(0);\" onclick=\"var mastodon_instance=prompt('Mastodon Instance / Server Name?'); if(typeof mastodon_instance==='string' && mastodon_instance.length){this.href='https://'+mastodon_instance+'/share?text=I%27ve+completed+%22Rambunctious+Recitation%22+%2D+Day+15+%2D+Advent+of+Code+2020+%23AdventOfCode+https%3A%2F%2Fadventofcode%2Ecom%2F2020%2Fday%2F15'}else{return false;}\" target=\"_blank\">Mastodon</a\n",
       "></span>]</span> this puzzle.</p>\n"
      ],
      "text/plain": [
       "<IPython.core.display.HTML object>"
      ]
     },
     "execution_count": 11,
     "metadata": {},
     "output_type": "execute_result"
    }
   ],
   "source": [
    "HTML(downloaded['part2_footer'])"
   ]
  }
 ],
 "metadata": {
  "kernelspec": {
   "display_name": "Python 3",
   "language": "python",
   "name": "python3"
  },
  "language_info": {
   "codemirror_mode": {
    "name": "ipython",
    "version": 3
   },
   "file_extension": ".py",
   "mimetype": "text/x-python",
   "name": "python",
   "nbconvert_exporter": "python",
   "pygments_lexer": "ipython3",
   "version": "3.9.7"
  },
  "orig_nbformat": 2
 },
 "nbformat": 4,
 "nbformat_minor": 2
}

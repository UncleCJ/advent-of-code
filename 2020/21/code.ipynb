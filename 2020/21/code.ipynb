{
 "cells": [
  {
   "cell_type": "markdown",
   "metadata": {},
   "source": [
    "# Day 21: Allergen Assessment\n",
    "\n",
    "[*Advent of Code 2020 day 21*](https://adventofcode.com/2020/day/21) and [*solution megathread*](https://redd.it/khaiyk)\n",
    "\n",
    "[![nbviewer](https://raw.githubusercontent.com/jupyter/design/master/logos/Badges/nbviewer_badge.svg)](https://nbviewer.jupyter.org/github/UncleCJ/advent-of-code/blob/cj/2020/21/code.ipynb) [![Binder](https://mybinder.org/badge_logo.svg)](https://mybinder.org/v2/gh/UncleCJ/advent-of-code/cj?filepath=2020%2F21%2Fcode.ipynb)"
   ]
  },
  {
   "cell_type": "code",
   "execution_count": 1,
   "metadata": {},
   "outputs": [
    {
     "name": "stdout",
     "output_type": "stream",
     "text": [
      "Writing 'downloaded' (dict) to file 'downloaded'.\n"
     ]
    }
   ],
   "source": [
    "from IPython.display import HTML\n",
    "import sys\n",
    "sys.path.append('../../')\n",
    "import common\n",
    "\n",
    "downloaded = common.refresh()\n",
    "%store downloaded >downloaded"
   ]
  },
  {
   "cell_type": "markdown",
   "metadata": {},
   "source": [
    "## Part One"
   ]
  },
  {
   "cell_type": "code",
   "execution_count": 2,
   "metadata": {},
   "outputs": [
    {
     "data": {
      "text/html": [
       "<h2>--- Day 21: Allergen Assessment ---</h2><p>You reach the train's last stop and the closest you can get to your vacation island without getting wet. There aren't even any boats here, but nothing can stop you now: you build a raft. You just need a few days' worth of food for your journey.</p>\n",
       "<p>You don't speak the local language, so you can't read any ingredients lists. However, sometimes, allergens are listed in a language you <em>do</em> understand. You should be able to use this information to determine which ingredient contains which allergen and <span title=\"I actually considered doing this once. I do not recommend it.\">work out which foods are safe</span> to take with you on your trip.</p>\n",
       "<p>You start by compiling a list of foods (your puzzle input), one food per line. Each line includes that food's <em>ingredients list</em> followed by some or all of the allergens the food contains.</p>\n",
       "<p>Each allergen is found in exactly one ingredient. Each ingredient contains zero or one allergen. <em>Allergens aren't always marked</em>; when they're listed (as in <code>(contains nuts, shellfish)</code> after an ingredients list), the ingredient that contains each listed allergen will be <em>somewhere in the corresponding ingredients list</em>. However, even if an allergen isn't listed, the ingredient that contains that allergen could still be present: maybe they forgot to label it, or maybe it was labeled in a language you don't know.</p>\n",
       "<p>For example, consider the following list of foods:</p>\n",
       "<pre><code>mxmxvkd kfcds sqjhc nhms (contains dairy, fish)\n",
       "trh fvjkl sbzzf mxmxvkd (contains dairy)\n",
       "sqjhc fvjkl (contains soy)\n",
       "sqjhc mxmxvkd sbzzf (contains fish)\n",
       "</code></pre>\n",
       "<p>The first food in the list has four ingredients (written in a language you don't understand): <code>mxmxvkd</code>, <code>kfcds</code>, <code>sqjhc</code>, and <code>nhms</code>. While the food might contain other allergens, a few allergens the food definitely contains are listed afterward: <code>dairy</code> and <code>fish</code>.</p>\n",
       "<p>The first step is to determine which ingredients <em>can't possibly</em> contain any of the allergens in any food in your list. In the above example, none of the ingredients <code>kfcds</code>, <code>nhms</code>, <code>sbzzf</code>, or <code>trh</code> can contain an allergen. Counting the number of times any of these ingredients appear in any ingredients list produces <em><code>5</code></em>: they all appear once each except <code>sbzzf</code>, which appears twice.</p>\n",
       "<p>Determine which ingredients cannot possibly contain any of the allergens in your list. <em>How many times do any of those ingredients appear?</em></p>\n"
      ],
      "text/plain": [
       "<IPython.core.display.HTML object>"
      ]
     },
     "execution_count": 2,
     "metadata": {},
     "output_type": "execute_result"
    }
   ],
   "source": [
    "HTML(downloaded['part1'])"
   ]
  },
  {
   "cell_type": "markdown",
   "metadata": {},
   "source": [
    "## Boilerplate\n",
    "\n",
    "Let's try using [pycodestyle_magic](https://github.com/mattijn/pycodestyle_magic) with pycodestyle (flake8 stopped working for me in VS Code Jupyter). Now how does type checking work?"
   ]
  },
  {
   "cell_type": "code",
   "execution_count": 3,
   "metadata": {},
   "outputs": [],
   "source": [
    "%load_ext pycodestyle_magic"
   ]
  },
  {
   "cell_type": "code",
   "execution_count": 4,
   "metadata": {},
   "outputs": [],
   "source": [
    "%pycodestyle_on"
   ]
  },
  {
   "cell_type": "code",
   "execution_count": 5,
   "metadata": {},
   "outputs": [],
   "source": [
    "testdata = \"\"\"mxmxvkd kfcds sqjhc nhms (contains dairy, fish)\n",
    "trh fvjkl sbzzf mxmxvkd (contains dairy)\n",
    "sqjhc fvjkl (contains soy)\n",
    "sqjhc mxmxvkd sbzzf (contains fish)\"\"\".splitlines()\n",
    "\n",
    "inputdata = downloaded['input'].splitlines()"
   ]
  },
  {
   "cell_type": "code",
   "execution_count": 6,
   "metadata": {},
   "outputs": [],
   "source": [
    "from functools import reduce\n",
    "\n",
    "\n",
    "def parse(lines):\n",
    "    contents = []\n",
    "    for line in lines:\n",
    "        ingredients, allergens = line[:-1].split(' (contains ')\n",
    "        contents.append((set(ingredients.split()), set(allergens.split(', '))))\n",
    "    return contents\n",
    "\n",
    "\n",
    "def munge(contents):\n",
    "    allergen_candidates = dict()\n",
    "    for ingredients, allergens in contents:\n",
    "        for allergen in allergens:\n",
    "            if allergen not in allergen_candidates:\n",
    "                allergen_candidates[allergen] = [ingredients]\n",
    "            else:\n",
    "                allergen_candidates[allergen].append(ingredients)\n",
    "    return allergen_candidates\n",
    "\n",
    "\n",
    "def reduce_candidates(allergen_present_ins, debug=False):\n",
    "    allergen_present_in = dict()\n",
    "    for allergen, candidatess in allergen_present_ins.items():\n",
    "        allergen_present_in[allergen] = reduce(lambda a, b: a & b, candidatess)\n",
    "        if debug:\n",
    "            print(f'allergen: {allergen}, '\n",
    "                  f'candidates: {allergen_present_in[allergen]}')\n",
    "    return allergen_present_in\n",
    "\n",
    "\n",
    "def eliminate_candidate(allergen_present_in, eliminated):\n",
    "    for allergen, candidates in allergen_present_in.items():\n",
    "        if eliminated in candidates:\n",
    "            allergen_present_in[allergen].remove(eliminated)\n",
    "\n",
    "\n",
    "def deduce_candidates(allergen_present_in, debug=False):\n",
    "    eliminated = dict()\n",
    "    for allergen, candidates in allergen_present_in.copy().items():\n",
    "        if len(candidates) == 1:\n",
    "            eliminated[allergen] = candidates.pop()\n",
    "            eliminate_candidate(allergen_present_in, eliminated[allergen])\n",
    "            allergen_present_in.pop(allergen)\n",
    "            if debug:\n",
    "                print(f'Deduced that {eliminated[allergen]} '\n",
    "                      f'must be {allergen}!')\n",
    "    return eliminated\n",
    "\n",
    "\n",
    "def count_unknown(contents, known):\n",
    "    counter = 0\n",
    "    known_ingredients = set(known.values())\n",
    "    for ingredients, _ in contents:\n",
    "        counter += len(ingredients - known_ingredients)\n",
    "    return counter"
   ]
  },
  {
   "cell_type": "code",
   "execution_count": 7,
   "metadata": {},
   "outputs": [
    {
     "name": "stdout",
     "output_type": "stream",
     "text": [
      "allergen: dairy, candidates: {'mxmxvkd'}\n",
      "allergen: fish, candidates: {'mxmxvkd', 'sqjhc'}\n",
      "allergen: soy, candidates: {'fvjkl', 'sqjhc'}\n",
      "Deduced that mxmxvkd must be dairy!\n",
      "Deduced that sqjhc must be fish!\n",
      "Deduced that fvjkl must be soy!\n",
      "5\n"
     ]
    }
   ],
   "source": [
    "contents = parse(testdata)\n",
    "allergen_present_ins = munge(contents)\n",
    "allergen_present_in = reduce_candidates(allergen_present_ins, debug=True)\n",
    "ingredients = dict()\n",
    "finished = False\n",
    "while not finished:\n",
    "    eliminated = deduce_candidates(allergen_present_in, debug=True)\n",
    "    if len(eliminated) == 0:\n",
    "        finished = True\n",
    "    else:\n",
    "        ingredients.update(eliminated)\n",
    "unknown_occurences = count_unknown(contents, ingredients)\n",
    "print(unknown_occurences)"
   ]
  },
  {
   "cell_type": "code",
   "execution_count": 8,
   "metadata": {},
   "outputs": [
    {
     "name": "stdout",
     "output_type": "stream",
     "text": [
      "1958\n"
     ]
    }
   ],
   "source": [
    "contents = parse(inputdata)\n",
    "allergen_present_ins = munge(contents)\n",
    "allergen_present_in = reduce_candidates(allergen_present_ins)\n",
    "ingredients = dict()\n",
    "finished = False\n",
    "while not finished:\n",
    "    eliminated = deduce_candidates(allergen_present_in)\n",
    "    if len(eliminated) == 0:\n",
    "        finished = True\n",
    "    else:\n",
    "        ingredients.update(eliminated)\n",
    "unknown_occurences = count_unknown(contents, ingredients)\n",
    "print(unknown_occurences)"
   ]
  },
  {
   "cell_type": "code",
   "execution_count": 9,
   "metadata": {},
   "outputs": [
    {
     "data": {
      "text/html": [
       "\n",
       "<p>Your puzzle answer was <code>1958</code>.</p>"
      ],
      "text/plain": [
       "<IPython.core.display.HTML object>"
      ]
     },
     "execution_count": 9,
     "metadata": {},
     "output_type": "execute_result"
    }
   ],
   "source": [
    "HTML(downloaded['part1_footer'])"
   ]
  },
  {
   "cell_type": "markdown",
   "metadata": {},
   "source": [
    "## Part Two"
   ]
  },
  {
   "cell_type": "code",
   "execution_count": 10,
   "metadata": {},
   "outputs": [
    {
     "data": {
      "text/html": [
       "<h2 id=\"part2\">--- Part Two ---</h2><p>Now that you've isolated the inert ingredients, you should have enough information to figure out which ingredient contains which allergen.</p>\n",
       "<p>In the above example:</p>\n",
       "<ul>\n",
       "<li><code>mxmxvkd</code> contains <code>dairy</code>.</li>\n",
       "<li><code>sqjhc</code> contains <code>fish</code>.</li>\n",
       "<li><code>fvjkl</code> contains <code>soy</code>.</li>\n",
       "</ul>\n",
       "<p>Arrange the ingredients <em>alphabetically by their allergen</em> and separate them by commas to produce your <em>canonical dangerous ingredient list</em>. (There should <em>not be any spaces</em> in your canonical dangerous ingredient list.) In the above example, this would be <em><code>mxmxvkd,sqjhc,fvjkl</code></em>.</p>\n",
       "<p>Time to stock your raft with supplies. <em>What is your canonical dangerous ingredient list?</em></p>\n"
      ],
      "text/plain": [
       "<IPython.core.display.HTML object>"
      ]
     },
     "execution_count": 10,
     "metadata": {},
     "output_type": "execute_result"
    }
   ],
   "source": [
    "HTML(downloaded['part2'])"
   ]
  },
  {
   "cell_type": "code",
   "execution_count": 11,
   "metadata": {},
   "outputs": [
    {
     "data": {
      "text/plain": [
       "'xxscc,mjmqst,gzxnc,vvqj,trnnvn,gbcjqbm,dllbjr,nckqzsg'"
      ]
     },
     "execution_count": 11,
     "metadata": {},
     "output_type": "execute_result"
    }
   ],
   "source": [
    "','.join([ingrendient\n",
    "          for allergen, ingrendient\n",
    "          in sorted(ingredients.items(),\n",
    "                    key=lambda item: item[0])])"
   ]
  },
  {
   "cell_type": "code",
   "execution_count": 12,
   "metadata": {},
   "outputs": [
    {
     "data": {
      "text/html": [
       "\n",
       "<p>Your puzzle answer was <code>xxscc,mjmqst,gzxnc,vvqj,trnnvn,gbcjqbm,dllbjr,nckqzsg</code>.</p><p class=\"day-success\">Both parts of this puzzle are complete! They provide two gold stars: **</p>\n",
       "<p>At this point, all that is left is for you to <a href=\"/2020\">admire your Advent calendar</a>.</p>\n",
       "<p>If you still want to see it, you can <a href=\"21/input\" target=\"_blank\">get your puzzle input</a>.</p>\n",
       "<p>You can also <span class=\"share\">[Share<span class=\"share-content\">on\n",
       "  <a href=\"https://twitter.com/intent/tweet?text=I%27ve+completed+%22Allergen+Assessment%22+%2D+Day+21+%2D+Advent+of+Code+2020&amp;url=https%3A%2F%2Fadventofcode%2Ecom%2F2020%2Fday%2F21&amp;related=ericwastl&amp;hashtags=AdventOfCode\" target=\"_blank\">Twitter</a>\n",
       "  <a href=\"javascript:void(0);\" onclick=\"var mastodon_instance=prompt('Mastodon Instance / Server Name?'); if(typeof mastodon_instance==='string' && mastodon_instance.length){this.href='https://'+mastodon_instance+'/share?text=I%27ve+completed+%22Allergen+Assessment%22+%2D+Day+21+%2D+Advent+of+Code+2020+%23AdventOfCode+https%3A%2F%2Fadventofcode%2Ecom%2F2020%2Fday%2F21'}else{return false;}\" target=\"_blank\">Mastodon</a\n",
       "></span>]</span> this puzzle.</p>\n"
      ],
      "text/plain": [
       "<IPython.core.display.HTML object>"
      ]
     },
     "execution_count": 12,
     "metadata": {},
     "output_type": "execute_result"
    }
   ],
   "source": [
    "HTML(downloaded['part2_footer'])"
   ]
  }
 ],
 "metadata": {
  "kernelspec": {
   "display_name": "Python 3",
   "language": "python",
   "name": "python3"
  },
  "language_info": {
   "codemirror_mode": {
    "name": "ipython",
    "version": 3
   },
   "file_extension": ".py",
   "mimetype": "text/x-python",
   "name": "python",
   "nbconvert_exporter": "python",
   "pygments_lexer": "ipython3",
   "version": "3.10.0"
  },
  "orig_nbformat": 2
 },
 "nbformat": 4,
 "nbformat_minor": 2
}

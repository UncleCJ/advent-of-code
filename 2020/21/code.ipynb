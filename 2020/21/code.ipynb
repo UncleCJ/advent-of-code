{
 "metadata": {
  "language_info": {
   "codemirror_mode": {
    "name": "ipython",
    "version": 3
   },
   "file_extension": ".py",
   "mimetype": "text/x-python",
   "name": "python",
   "nbconvert_exporter": "python",
   "pygments_lexer": "ipython3",
   "version": "3.6.9-final"
  },
  "orig_nbformat": 2,
  "kernelspec": {
   "name": "python3",
   "display_name": "Python 3",
   "language": "python"
  }
 },
 "nbformat": 4,
 "nbformat_minor": 2,
 "cells": [
  {
   "cell_type": "code",
   "execution_count": 1,
   "metadata": {},
   "outputs": [],
   "source": [
    "from functools import reduce"
   ]
  },
  {
   "cell_type": "code",
   "execution_count": 2,
   "metadata": {},
   "outputs": [],
   "source": [
    "testdata = \"\"\"mxmxvkd kfcds sqjhc nhms (contains dairy, fish)\n",
    "trh fvjkl sbzzf mxmxvkd (contains dairy)\n",
    "sqjhc fvjkl (contains soy)\n",
    "sqjhc mxmxvkd sbzzf (contains fish)\"\"\".splitlines()\n",
    "\n",
    "with open('input', 'r') as inp:\n",
    "    inputdata = [line.strip() for line in inp.readlines()]"
   ]
  },
  {
   "cell_type": "code",
   "execution_count": 3,
   "metadata": {},
   "outputs": [],
   "source": [
    "def parse(lines):\n",
    "    contents = []\n",
    "    for line in lines:\n",
    "        ingredients, allergens = line[:-1].split(' (contains ')\n",
    "        contents.append((set(ingredients.split()), set(allergens.split(', '))))\n",
    "    return contents"
   ]
  },
  {
   "cell_type": "code",
   "execution_count": 4,
   "metadata": {},
   "outputs": [],
   "source": [
    "def munge(contents):\n",
    "    allergen_candidates = dict()\n",
    "    for ingredients, allergens in contents:\n",
    "        for allergen in allergens:\n",
    "            if allergen not in allergen_candidates:\n",
    "                allergen_candidates[allergen] = [ingredients]\n",
    "            else:\n",
    "                allergen_candidates[allergen].append(ingredients)\n",
    "    return allergen_candidates"
   ]
  },
  {
   "cell_type": "code",
   "execution_count": 5,
   "metadata": {},
   "outputs": [],
   "source": [
    "def reduce_candidates(allergen_present_ins):\n",
    "    allergen_present_in = dict()\n",
    "    for allergen, candidatess in allergen_present_ins.items():\n",
    "        allergen_present_in[allergen] = reduce(lambda a, b: a & b, candidatess)\n",
    "        print(f'allergen: {allergen}, candidates: {allergen_present_in[allergen]}')\n",
    "    return allergen_present_in"
   ]
  },
  {
   "cell_type": "code",
   "execution_count": 6,
   "metadata": {},
   "outputs": [],
   "source": [
    "def eliminate_candidate(allergen_present_in, eliminated):\n",
    "    for allergen, candidates in allergen_present_in.items():\n",
    "        if eliminated in candidates:\n",
    "            allergen_present_in[allergen].remove(eliminated)"
   ]
  },
  {
   "cell_type": "code",
   "execution_count": 7,
   "metadata": {},
   "outputs": [],
   "source": [
    "def deduce_candidates(allergen_present_in):\n",
    "    eliminated = dict()\n",
    "    for allergen, candidates in allergen_present_in.copy().items():\n",
    "        if len(candidates) == 1:\n",
    "            eliminated[allergen] = candidates.pop()\n",
    "            eliminate_candidate(allergen_present_in, eliminated[allergen])\n",
    "            allergen_present_in.pop(allergen)\n",
    "            print(f'Deduced that {eliminated[allergen]} must be {allergen}!')\n",
    "    return eliminated"
   ]
  },
  {
   "cell_type": "code",
   "execution_count": 8,
   "metadata": {},
   "outputs": [],
   "source": [
    "def count_unknown(contents, known):\n",
    "    counter = 0\n",
    "    known_ingredients = set(known.values())\n",
    "    for ingredients, _ in contents:\n",
    "        counter += len(ingredients - known_ingredients)\n",
    "    return counter"
   ]
  },
  {
   "cell_type": "code",
   "execution_count": 9,
   "metadata": {},
   "outputs": [
    {
     "output_type": "stream",
     "name": "stdout",
     "text": [
      "allergen: shellfish, candidates: {'xxscc', 'gzxnc', 'gbcjqbm'}\nallergen: peanuts, candidates: {'vvqj', 'trnnvn', 'gbcjqbm'}\nallergen: wheat, candidates: {'nckqzsg'}\nallergen: nuts, candidates: {'xxscc', 'gzxnc', 'nckqzsg'}\nallergen: fish, candidates: {'xxscc', 'mjmqst', 'nckqzsg'}\nallergen: eggs, candidates: {'xxscc', 'nckqzsg'}\nallergen: soy, candidates: {'gzxnc', 'dllbjr', 'nckqzsg'}\nallergen: sesame, candidates: {'gzxnc', 'trnnvn', 'nckqzsg', 'gbcjqbm'}\nDeduced that nckqzsg must be wheat!\nDeduced that xxscc must be eggs!\nDeduced that gzxnc must be nuts!\nDeduced that mjmqst must be fish!\nDeduced that dllbjr must be soy!\nDeduced that gbcjqbm must be shellfish!\nDeduced that trnnvn must be sesame!\nDeduced that vvqj must be peanuts!\n1958\n"
     ]
    },
    {
     "output_type": "execute_result",
     "data": {
      "text/plain": [
       "'xxscc,mjmqst,gzxnc,vvqj,trnnvn,gbcjqbm,dllbjr,nckqzsg'"
      ]
     },
     "metadata": {},
     "execution_count": 9
    }
   ],
   "source": [
    "contents = parse(inputdata)\n",
    "allergen_present_ins = munge(contents)\n",
    "allergen_present_in = reduce_candidates(allergen_present_ins)\n",
    "ingredients = dict()\n",
    "finished = False\n",
    "while not finished:\n",
    "    eliminated = deduce_candidates(allergen_present_in)\n",
    "    if len(eliminated) == 0:\n",
    "        finished = True\n",
    "    else:\n",
    "        ingredients.update(eliminated)\n",
    "unnkown_occurences = count_unknown(contents, ingredients)\n",
    "print(unnkown_occurences)\n",
    "','.join([ingrendient for allergen, ingrendient in sorted(ingredients.items(), key = lambda item: item[0])])"
   ]
  }
 ]
}
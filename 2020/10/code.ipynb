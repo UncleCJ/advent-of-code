{
 "metadata": {
  "language_info": {
   "codemirror_mode": {
    "name": "ipython",
    "version": 3
   },
   "file_extension": ".py",
   "mimetype": "text/x-python",
   "name": "python",
   "nbconvert_exporter": "python",
   "pygments_lexer": "ipython3",
   "version": "3.6.9-final"
  },
  "orig_nbformat": 2,
  "kernelspec": {
   "name": "python3",
   "display_name": "Python 3.6.9 64-bit",
   "metadata": {
    "interpreter": {
     "hash": "31f2aee4e71d21fbe5cf8b01ff0e069b9275f58929596ceb00d14d90e3e16cd6"
    }
   }
  }
 },
 "nbformat": 4,
 "nbformat_minor": 2,
 "cells": [
  {
   "cell_type": "code",
   "execution_count": 1,
   "metadata": {},
   "outputs": [],
   "source": [
    "%load_ext pycodestyle_magic"
   ]
  },
  {
   "cell_type": "code",
   "execution_count": 2,
   "metadata": {},
   "outputs": [],
   "source": [
    "%flake8_on"
   ]
  },
  {
   "cell_type": "code",
   "execution_count": 3,
   "metadata": {},
   "outputs": [],
   "source": [
    "testdata1 = \"\"\"16\n",
    "10\n",
    "15\n",
    "5\n",
    "1\n",
    "11\n",
    "7\n",
    "19\n",
    "6\n",
    "12\n",
    "4\"\"\".splitlines()\n",
    "\n",
    "testdata2 = \"\"\"28\n",
    "33\n",
    "18\n",
    "42\n",
    "31\n",
    "14\n",
    "46\n",
    "20\n",
    "48\n",
    "47\n",
    "24\n",
    "23\n",
    "49\n",
    "45\n",
    "19\n",
    "38\n",
    "39\n",
    "11\n",
    "1\n",
    "32\n",
    "25\n",
    "35\n",
    "8\n",
    "17\n",
    "7\n",
    "9\n",
    "4\n",
    "2\n",
    "34\n",
    "10\n",
    "3\"\"\".splitlines()\n",
    "\n",
    "# with open('input', 'r') as inp:\n",
    "#     inputdata = [line.strip() for line in inp.readlines()]"
   ]
  },
  {
   "cell_type": "code",
   "execution_count": 4,
   "metadata": {},
   "outputs": [],
   "source": [
    "def find_the_ways(low, adapters_sorted):\n",
    "    if low in WAYS.keys():\n",
    "        # print(f'hit: {low}, {WAYS[low]}')\n",
    "        return WAYS[low]\n",
    "\n",
    "    if len(adapters_sorted) == 1:\n",
    "        # print([adapters_sorted])\n",
    "        return [adapters_sorted]\n",
    "\n",
    "    ways_including = find_the_ways(adapters_sorted[0],\n",
    "                                   adapters_sorted[1:])\n",
    "\n",
    "    ways_excluding = []\n",
    "    # If we can exclude adapters_sorted[0] and still progress\n",
    "    if adapters_sorted[1] - low <= 3:\n",
    "        if len(adapters_sorted) == 2:\n",
    "            ways_excluding = [[adapters_sorted[1]]]\n",
    "        else:\n",
    "            ways_excluding = find_the_ways(low, adapters_sorted[1:])\n",
    "    WAYS[low] = list(map(\n",
    "            lambda w: [adapters_sorted[0]] + w, ways_including)) \\\n",
    "        + ways_excluding\n",
    "    # print(low, WAYS[low])\n",
    "    return WAYS[low]"
   ]
  },
  {
   "cell_type": "code",
   "execution_count": 5,
   "metadata": {},
   "outputs": [],
   "source": [
    "def count_the_ways(low, adapters_sorted):\n",
    "    if low in WAYS.keys():\n",
    "        return WAYS[low]\n",
    "    if len(adapters_sorted) == 1:\n",
    "        return 1\n",
    "    ways_including = count_the_ways(adapters_sorted[0],\n",
    "                                    adapters_sorted[1:])\n",
    "    ways_excluding = 0\n",
    "    # If we can exclude adapters_sorted[0] and still progress\n",
    "    if adapters_sorted[1] - low <= 3:\n",
    "        if len(adapters_sorted) == 2:\n",
    "            ways_excluding = 1\n",
    "        else:\n",
    "            ways_excluding = count_the_ways(low, adapters_sorted[1:])\n",
    "    WAYS[low] = ways_including + ways_excluding\n",
    "    return WAYS[low]"
   ]
  },
  {
   "cell_type": "code",
   "execution_count": 6,
   "metadata": {},
   "outputs": [],
   "source": [
    "def analyze1(adapters_sorted):\n",
    "    differences = list(map(lambda t: t[1] - t[0],\n",
    "                           zip([0] + adapters_sorted[:-1],\n",
    "                               adapters_sorted + [adapters_sorted[-1] + 3])))\n",
    "    distributions = dict()\n",
    "    for d in range(1, 3 + 1):\n",
    "        distributions[d] = differences.count(d)\n",
    "    return(differences, distributions)"
   ]
  },
  {
   "cell_type": "code",
   "execution_count": 7,
   "metadata": {},
   "outputs": [],
   "source": [
    "def print_adapters(adapters_sorted):\n",
    "    print(f'(0), {\", \".join([str(a) for a in adapters_sorted])}'\n",
    "          f', ({adapters_sorted[-1] + 3})')"
   ]
  },
  {
   "cell_type": "code",
   "execution_count": 8,
   "metadata": {
    "tags": []
   },
   "outputs": [
    {
     "output_type": "stream",
     "name": "stdout",
     "text": [
      "(0), 1, 4, 5, 6, 7, 10, 11, 12, 15, 16, 19, (22)\n([1, 3, 1, 1, 1, 3, 1, 1, 3, 1, 3], {1: 7, 2: 0, 3: 4})\n(0), 1, 4, 5, 6, 7, 10, 11, 12, 15, 16, 19, (22)\n(0), 1, 4, 5, 6, 7, 10, 12, 15, 16, 19, (22)\n(0), 1, 4, 5, 7, 10, 11, 12, 15, 16, 19, (22)\n(0), 1, 4, 5, 7, 10, 12, 15, 16, 19, (22)\n(0), 1, 4, 6, 7, 10, 11, 12, 15, 16, 19, (22)\n(0), 1, 4, 6, 7, 10, 12, 15, 16, 19, (22)\n(0), 1, 4, 7, 10, 11, 12, 15, 16, 19, (22)\n(0), 1, 4, 7, 10, 12, 15, 16, 19, (22)\nThere are 8 ways\n(0), 1, 2, 3, 4, 7, 8, 9, 10, 11, 14, 17, 18, 19, 20, 23, 24, 25, 28, 31, 32, 33, 34, 35, 38, 39, 42, 45, 46, 47, 48, 49, (52)\n([1, 1, 1, 1, 3, 1, 1, 1, 1, 3, 3, 1, 1, 1, 3, 1, 1, 3, 3, 1, 1, 1, 1, 3, 1, 3, 3, 1, 1, 1, 1], {1: 22, 2: 0, 3: 9})\nThere are 19208 ways\n"
     ]
    }
   ],
   "source": [
    "adapters = sorted(set([int(x) for x in testdata1]))\n",
    "WAYS = dict()\n",
    "print_adapters(adapters)\n",
    "print(analyze1(adapters))\n",
    "ways = find_the_ways(0, adapters)\n",
    "for w in ways:\n",
    "    print_adapters(w)\n",
    "print(f'There are {len(ways)} ways')\n",
    "\n",
    "adapters = sorted(set([int(x) for x in testdata2]))\n",
    "WAYS = dict()\n",
    "print_adapters(adapters)\n",
    "print(analyze1(adapters))\n",
    "ways = count_the_ways(0, adapters)\n",
    "# for w in ways:\n",
    "#    print_adapters(w)\n",
    "print(f'There are {ways} ways')\n",
    "\n",
    "# data = sorted(set([int(x) for x in inputdata]))\n",
    "# WAYS = dict()\n",
    "# ways = count_the_ways(0, data)\n",
    "# print(f'There are {ways} ways')"
   ]
  }
 ]
}
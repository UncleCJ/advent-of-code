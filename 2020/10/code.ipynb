{
 "cells": [
  {
   "cell_type": "markdown",
   "metadata": {},
   "source": [
    "# Day 10: Adapter Array\n",
    "\n",
    "[*Advent of Code 2020 day 10*](https://adventofcode.com/2020/day/10) and [*solution megathread*](https://redd.it/ka8z8x)\n",
    "\n",
    "[![nbviewer](https://raw.githubusercontent.com/jupyter/design/master/logos/Badges/nbviewer_badge.svg)](https://nbviewer.jupyter.org/github/UncleCJ/advent-of-code/blob/cj/2020/10/code.ipynb) [![Binder](https://mybinder.org/badge_logo.svg)](https://mybinder.org/v2/gh/UncleCJ/advent-of-code/cj?filepath=2020%2F10%2Fcode.ipynb)"
   ]
  },
  {
   "cell_type": "code",
   "execution_count": 1,
   "metadata": {},
   "outputs": [
    {
     "name": "stdout",
     "output_type": "stream",
     "text": [
      "Writing 'downloaded' (dict) to file 'downloaded'.\n"
     ]
    }
   ],
   "source": [
    "from IPython.display import HTML\n",
    "import sys\n",
    "sys.path.append('../../')\n",
    "import common\n",
    "\n",
    "downloaded = common.refresh()\n",
    "%store downloaded >downloaded"
   ]
  },
  {
   "cell_type": "markdown",
   "metadata": {},
   "source": [
    "## Part One"
   ]
  },
  {
   "cell_type": "code",
   "execution_count": 2,
   "metadata": {},
   "outputs": [
    {
     "data": {
      "text/html": [
       "<h2>--- Day 10: Adapter Array ---</h2><p>Patched into the aircraft's data port, you discover weather forecasts of a massive tropical storm. Before you can figure out whether it will impact your vacation plans, however, your device suddenly turns off!</p>\n",
       "<p>Its battery is dead.</p>\n",
       "<p>You'll need to plug it in. There's only one problem: the charging outlet near your seat produces the wrong number of <em>jolts</em>. Always prepared, you make a list of all of the joltage adapters in your bag.</p>\n",
       "<p>Each of your joltage adapters is rated for a specific <em>output joltage</em> (your puzzle input). Any given adapter can take an input <code>1</code>, <code>2</code>, or <code>3</code> jolts <em>lower</em> than its rating and still produce its rated output joltage.</p>\n",
       "<p>In addition, your device has a built-in joltage adapter rated for <em><code>3</code> jolts higher</em> than the highest-rated adapter in your bag. (If your adapter list were <code>3</code>, <code>9</code>, and <code>6</code>, your device's built-in adapter would be rated for <code>12</code> jolts.)</p>\n",
       "<p>Treat the charging outlet near your seat as having an effective joltage rating of <code>0</code>.</p>\n",
       "<p>Since you have some time to kill, you might as well test all of your adapters. Wouldn't want to get to your resort and realize you can't even charge your device!</p>\n",
       "<p>If you <em>use every adapter in your bag</em> at once, what is the distribution of joltage differences between the charging outlet, the adapters, and your device?</p>\n",
       "<p>For example, suppose that in your bag, you have adapters with the following joltage ratings:</p>\n",
       "<pre><code>16\n",
       "10\n",
       "15\n",
       "5\n",
       "1\n",
       "11\n",
       "7\n",
       "19\n",
       "6\n",
       "12\n",
       "4\n",
       "</code></pre>\n",
       "<p>With these adapters, your device's built-in joltage adapter would be rated for <code>19 + 3 = <em>22</em></code> jolts, 3 higher than the highest-rated adapter.</p>\n",
       "<p>Because adapters can only connect to a source 1-3 jolts lower than its rating, in order to use every adapter, you'd need to choose them like this:</p>\n",
       "<ul>\n",
       "<li>The charging outlet has an effective rating of <code>0</code> jolts, so the only adapters that could connect to it directly would need to have a joltage rating of <code>1</code>, <code>2</code>, or <code>3</code> jolts. Of these, only one you have is an adapter rated <code>1</code> jolt (difference of <em><code>1</code></em>).</li>\n",
       "<li>From your <code>1</code>-jolt rated adapter, the only choice is your <code>4</code>-jolt rated adapter (difference of <em><code>3</code></em>).</li>\n",
       "<li>From the <code>4</code>-jolt rated adapter, the adapters rated <code>5</code>, <code>6</code>, or <code>7</code> are valid choices. However, in order to not skip any adapters, you have to pick the adapter rated <code>5</code> jolts (difference of <em><code>1</code></em>).</li>\n",
       "<li>Similarly, the next choices would need to be the adapter rated <code>6</code> and then the adapter rated <code>7</code> (with difference of <em><code>1</code></em> and <em><code>1</code></em>).</li>\n",
       "<li>The only adapter that works with the <code>7</code>-jolt rated adapter is the one rated <code>10</code> jolts (difference of <em><code>3</code></em>).</li>\n",
       "<li>From <code>10</code>, the choices are <code>11</code> or <code>12</code>; choose <code>11</code> (difference of <em><code>1</code></em>) and then <code>12</code> (difference of <em><code>1</code></em>).</li>\n",
       "<li>After <code>12</code>, only valid adapter has a rating of <code>15</code> (difference of <em><code>3</code></em>), then <code>16</code> (difference of <em><code>1</code></em>), then <code>19</code> (difference of <em><code>3</code></em>).</li>\n",
       "<li>Finally, your device's built-in adapter is always 3 higher than the highest adapter, so its rating is <code>22</code> jolts (always a difference of <em><code>3</code></em>).</li>\n",
       "</ul>\n",
       "<p>In this example, when using every adapter, there are <em><code>7</code></em> differences of 1 jolt and <em><code>5</code></em> differences of 3 jolts.</p>\n",
       "<p>Here is a larger example:</p>\n",
       "<pre><code>28\n",
       "33\n",
       "18\n",
       "42\n",
       "31\n",
       "14\n",
       "46\n",
       "20\n",
       "48\n",
       "47\n",
       "24\n",
       "23\n",
       "49\n",
       "45\n",
       "19\n",
       "38\n",
       "39\n",
       "11\n",
       "1\n",
       "32\n",
       "25\n",
       "35\n",
       "8\n",
       "17\n",
       "7\n",
       "9\n",
       "4\n",
       "2\n",
       "34\n",
       "10\n",
       "3\n",
       "</code></pre>\n",
       "<p>In this larger example, in a chain that uses all of the adapters, there are <em><code>22</code></em> differences of 1 jolt and <em><code>10</code></em> differences of 3 jolts.</p>\n",
       "<p>Find a chain that uses all of your adapters to connect the charging outlet to your device's built-in adapter and count the joltage differences between the charging outlet, the adapters, and your device. <em>What is the number of 1-jolt differences multiplied by the number of 3-jolt differences?</em></p>\n"
      ],
      "text/plain": [
       "<IPython.core.display.HTML object>"
      ]
     },
     "execution_count": 2,
     "metadata": {},
     "output_type": "execute_result"
    }
   ],
   "source": [
    "HTML(downloaded['part1'])"
   ]
  },
  {
   "cell_type": "markdown",
   "metadata": {},
   "source": [
    "## Boilerplate\n",
    "\n",
    "Let's try using [pycodestyle_magic](https://github.com/mattijn/pycodestyle_magic) with pycodestyle (flake8 stopped working for me in VS Code Jupyter). Now how does type checking work?"
   ]
  },
  {
   "cell_type": "code",
   "execution_count": 3,
   "metadata": {},
   "outputs": [],
   "source": [
    "%load_ext pycodestyle_magic"
   ]
  },
  {
   "cell_type": "code",
   "execution_count": 4,
   "metadata": {},
   "outputs": [],
   "source": [
    "%pycodestyle_on"
   ]
  },
  {
   "cell_type": "code",
   "execution_count": 5,
   "metadata": {},
   "outputs": [],
   "source": [
    "testdata1 = \"\"\"16\n",
    "10\n",
    "15\n",
    "5\n",
    "1\n",
    "11\n",
    "7\n",
    "19\n",
    "6\n",
    "12\n",
    "4\"\"\".splitlines()\n",
    "\n",
    "testdata2 = \"\"\"28\n",
    "33\n",
    "18\n",
    "42\n",
    "31\n",
    "14\n",
    "46\n",
    "20\n",
    "48\n",
    "47\n",
    "24\n",
    "23\n",
    "49\n",
    "45\n",
    "19\n",
    "38\n",
    "39\n",
    "11\n",
    "1\n",
    "32\n",
    "25\n",
    "35\n",
    "8\n",
    "17\n",
    "7\n",
    "9\n",
    "4\n",
    "2\n",
    "34\n",
    "10\n",
    "3\"\"\".splitlines()\n",
    "\n",
    "inputdata = downloaded['input'].splitlines()"
   ]
  },
  {
   "cell_type": "markdown",
   "metadata": {},
   "source": [
    "No idea why I would choose the function name `analyze1`, but so it was..."
   ]
  },
  {
   "cell_type": "code",
   "execution_count": 6,
   "metadata": {},
   "outputs": [],
   "source": [
    "def analyze1(adapters_sorted):\n",
    "    differences = list(map(lambda t: t[1] - t[0],\n",
    "                           zip([0] + adapters_sorted[:-1],\n",
    "                               adapters_sorted + [adapters_sorted[-1] + 3])))\n",
    "    # There's a hard-coded difference of 3 to the output joltage\n",
    "    differences.append(3)\n",
    "    distributions = dict()\n",
    "    for d in range(1, 3 + 1):\n",
    "        distributions[d] = differences.count(d)\n",
    "    return(differences, distributions)"
   ]
  },
  {
   "cell_type": "code",
   "execution_count": 7,
   "metadata": {},
   "outputs": [],
   "source": [
    "def print_adapters(adapters_sorted):\n",
    "    print(f'(0), {\", \".join([str(a) for a in adapters_sorted])}'\n",
    "          f', ({adapters_sorted[-1] + 3})')"
   ]
  },
  {
   "cell_type": "code",
   "execution_count": 8,
   "metadata": {},
   "outputs": [
    {
     "name": "stdout",
     "output_type": "stream",
     "text": [
      "(0), 1, 4, 5, 6, 7, 10, 11, 12, 15, 16, 19, (22)\n",
      "([1, 3, 1, 1, 1, 3, 1, 1, 3, 1, 3, 3], {1: 7, 2: 0, 3: 5})\n"
     ]
    }
   ],
   "source": [
    "adapters_test1 = sorted(set([int(x) for x in testdata1]))\n",
    "print_adapters(adapters_test1)\n",
    "print(analyze1(adapters_test1))"
   ]
  },
  {
   "cell_type": "code",
   "execution_count": 9,
   "metadata": {},
   "outputs": [
    {
     "name": "stdout",
     "output_type": "stream",
     "text": [
      "(0), 1, 2, 3, 4, 7, 8, 9, 10, 11, 14, 17, 18, 19, 20, 23, 24, 25, 28, 31, 32, 33, 34, 35, 38, 39, 42, 45, 46, 47, 48, 49, (52)\n",
      "([1, 1, 1, 1, 3, 1, 1, 1, 1, 3, 3, 1, 1, 1, 3, 1, 1, 3, 3, 1, 1, 1, 1, 3, 1, 3, 3, 1, 1, 1, 1, 3], {1: 22, 2: 0, 3: 10})\n"
     ]
    }
   ],
   "source": [
    "adapters_test2 = sorted(set([int(x) for x in testdata2]))\n",
    "print_adapters(adapters_test2)\n",
    "print(analyze1(adapters_test2))"
   ]
  },
  {
   "cell_type": "code",
   "execution_count": 10,
   "metadata": {},
   "outputs": [
    {
     "name": "stdout",
     "output_type": "stream",
     "text": [
      "70*30 = 2100\n"
     ]
    }
   ],
   "source": [
    "adapters = sorted(set([int(x) for x in inputdata]))\n",
    "_, distributions = analyze1(adapters)\n",
    "print(f'{distributions[1]}*{distributions[3]} = ' +\n",
    "      f'{distributions[1]*distributions[3]}')"
   ]
  },
  {
   "cell_type": "code",
   "execution_count": 11,
   "metadata": {},
   "outputs": [
    {
     "data": {
      "text/html": [
       "\n",
       "<p>Your puzzle answer was <code>2100</code>.</p>"
      ],
      "text/plain": [
       "<IPython.core.display.HTML object>"
      ]
     },
     "execution_count": 11,
     "metadata": {},
     "output_type": "execute_result"
    }
   ],
   "source": [
    "HTML(downloaded['part1_footer'])"
   ]
  },
  {
   "cell_type": "markdown",
   "metadata": {},
   "source": [
    "## Part Two"
   ]
  },
  {
   "cell_type": "code",
   "execution_count": 12,
   "metadata": {},
   "outputs": [
    {
     "data": {
      "text/html": [
       "<h2 id=\"part2\">--- Part Two ---</h2><p>To completely determine whether you have enough adapters, you'll need to figure out how many different ways they can be arranged. Every arrangement needs to connect the charging outlet to your device. The previous rules about when adapters can successfully connect still apply.</p>\n",
       "<p>The first example above (the one that starts with <code>16</code>, <code>10</code>, <code>15</code>) supports the following arrangements:</p>\n",
       "<pre><code>(0), 1, 4, 5, 6, 7, 10, 11, 12, 15, 16, 19, (22)\n",
       "(0), 1, 4, 5, 6, 7, 10, 12, 15, 16, 19, (22)\n",
       "(0), 1, 4, 5, 7, 10, 11, 12, 15, 16, 19, (22)\n",
       "(0), 1, 4, 5, 7, 10, 12, 15, 16, 19, (22)\n",
       "(0), 1, 4, 6, 7, 10, 11, 12, 15, 16, 19, (22)\n",
       "(0), 1, 4, 6, 7, 10, 12, 15, 16, 19, (22)\n",
       "(0), 1, 4, 7, 10, 11, 12, 15, 16, 19, (22)\n",
       "(0), 1, 4, 7, 10, 12, 15, 16, 19, (22)\n",
       "</code></pre>\n",
       "<p>(The charging outlet and your device's built-in adapter are shown in parentheses.) Given the adapters from the first example, the total number of arrangements that connect the charging outlet to your device is <em><code>8</code></em>.</p>\n",
       "<p>The second example above (the one that starts with <code>28</code>, <code>33</code>, <code>18</code>) has many arrangements. Here are a few:</p>\n",
       "<pre><code>(0), 1, 2, 3, 4, 7, 8, 9, 10, 11, 14, 17, 18, 19, 20, 23, 24, 25, 28, 31,\n",
       "32, 33, 34, 35, 38, 39, 42, 45, 46, 47, 48, 49, (52)\n",
       "\n",
       "(0), 1, 2, 3, 4, 7, 8, 9, 10, 11, 14, 17, 18, 19, 20, 23, 24, 25, 28, 31,\n",
       "32, 33, 34, 35, 38, 39, 42, 45, 46, 47, 49, (52)\n",
       "\n",
       "(0), 1, 2, 3, 4, 7, 8, 9, 10, 11, 14, 17, 18, 19, 20, 23, 24, 25, 28, 31,\n",
       "32, 33, 34, 35, 38, 39, 42, 45, 46, 48, 49, (52)\n",
       "\n",
       "(0), 1, 2, 3, 4, 7, 8, 9, 10, 11, 14, 17, 18, 19, 20, 23, 24, 25, 28, 31,\n",
       "32, 33, 34, 35, 38, 39, 42, 45, 46, 49, (52)\n",
       "\n",
       "(0), 1, 2, 3, 4, 7, 8, 9, 10, 11, 14, 17, 18, 19, 20, 23, 24, 25, 28, 31,\n",
       "32, 33, 34, 35, 38, 39, 42, 45, 47, 48, 49, (52)\n",
       "\n",
       "(0), 3, 4, 7, 10, 11, 14, 17, 20, 23, 25, 28, 31, 34, 35, 38, 39, 42, 45,\n",
       "46, 48, 49, (52)\n",
       "\n",
       "(0), 3, 4, 7, 10, 11, 14, 17, 20, 23, 25, 28, 31, 34, 35, 38, 39, 42, 45,\n",
       "46, 49, (52)\n",
       "\n",
       "(0), 3, 4, 7, 10, 11, 14, 17, 20, 23, 25, 28, 31, 34, 35, 38, 39, 42, 45,\n",
       "47, 48, 49, (52)\n",
       "\n",
       "(0), 3, 4, 7, 10, 11, 14, 17, 20, 23, 25, 28, 31, 34, 35, 38, 39, 42, 45,\n",
       "47, 49, (52)\n",
       "\n",
       "(0), 3, 4, 7, 10, 11, 14, 17, 20, 23, 25, 28, 31, 34, 35, 38, 39, 42, 45,\n",
       "48, 49, (52)\n",
       "</code></pre>\n",
       "<p>In total, this set of adapters can connect the charging outlet to your device in <em><code>19208</code></em> distinct arrangements.</p>\n",
       "<p>You glance back down at your bag and try to remember why you brought so many adapters; there must be <em>more than a trillion</em> valid ways to arrange them! Surely, there must be <span title=\"Definitely itertools.\">an efficient way</span> to count the arrangements.</p>\n",
       "<p><em>What is the total number of distinct ways you can arrange the adapters to connect the charging outlet to your device?</em></p>\n"
      ],
      "text/plain": [
       "<IPython.core.display.HTML object>"
      ]
     },
     "execution_count": 12,
     "metadata": {},
     "output_type": "execute_result"
    }
   ],
   "source": [
    "HTML(downloaded['part2'])"
   ]
  },
  {
   "cell_type": "markdown",
   "metadata": {},
   "source": [
    "In the smaller example, it was possible to enumerate the various ways to combine adapters - though in the larger example and particularly the real input, that becomes unfeasible and one will have to settle to `count_the_ways`.\n",
    "Apologies for using a global dict WAYS, I'd hopefully know better now..."
   ]
  },
  {
   "cell_type": "code",
   "execution_count": 13,
   "metadata": {},
   "outputs": [],
   "source": [
    "def find_the_ways(low, adapters_sorted):\n",
    "    if low in WAYS.keys():\n",
    "        return WAYS[low]\n",
    "\n",
    "    if len(adapters_sorted) == 1:\n",
    "        return [adapters_sorted]\n",
    "\n",
    "    ways_including = find_the_ways(adapters_sorted[0],\n",
    "                                   adapters_sorted[1:])\n",
    "\n",
    "    ways_excluding = []\n",
    "    # If we can exclude adapters_sorted[0] and still progress\n",
    "    if adapters_sorted[1] - low <= 3:\n",
    "        if len(adapters_sorted) == 2:\n",
    "            ways_excluding = [[adapters_sorted[1]]]\n",
    "        else:\n",
    "            ways_excluding = find_the_ways(low, adapters_sorted[1:])\n",
    "    WAYS[low] = list(map(\n",
    "            lambda w: [adapters_sorted[0]] + w, ways_including)) \\\n",
    "        + ways_excluding\n",
    "    return WAYS[low]"
   ]
  },
  {
   "cell_type": "code",
   "execution_count": 14,
   "metadata": {},
   "outputs": [
    {
     "name": "stdout",
     "output_type": "stream",
     "text": [
      "(0), 1, 4, 5, 6, 7, 10, 11, 12, 15, 16, 19, (22)\n",
      "(0), 1, 4, 5, 6, 7, 10, 12, 15, 16, 19, (22)\n",
      "(0), 1, 4, 5, 7, 10, 11, 12, 15, 16, 19, (22)\n",
      "(0), 1, 4, 5, 7, 10, 12, 15, 16, 19, (22)\n",
      "(0), 1, 4, 6, 7, 10, 11, 12, 15, 16, 19, (22)\n",
      "(0), 1, 4, 6, 7, 10, 12, 15, 16, 19, (22)\n",
      "(0), 1, 4, 7, 10, 11, 12, 15, 16, 19, (22)\n",
      "(0), 1, 4, 7, 10, 12, 15, 16, 19, (22)\n",
      "There are 8 ways\n"
     ]
    }
   ],
   "source": [
    "WAYS = dict()\n",
    "ways_test1 = find_the_ways(0, adapters_test1)\n",
    "for w in ways_test1:\n",
    "    print_adapters(w)\n",
    "print(f'There are {len(ways_test1)} ways')"
   ]
  },
  {
   "cell_type": "code",
   "execution_count": 15,
   "metadata": {},
   "outputs": [],
   "source": [
    "def count_the_ways(low, adapters_sorted):\n",
    "    if low in WAYS.keys():\n",
    "        return WAYS[low]\n",
    "    if len(adapters_sorted) == 1:\n",
    "        return 1\n",
    "    ways_including = count_the_ways(adapters_sorted[0],\n",
    "                                    adapters_sorted[1:])\n",
    "    ways_excluding = 0\n",
    "    # If we can exclude adapters_sorted[0] and still progress\n",
    "    if adapters_sorted[1] - low <= 3:\n",
    "        if len(adapters_sorted) == 2:\n",
    "            ways_excluding = 1\n",
    "        else:\n",
    "            ways_excluding = count_the_ways(low, adapters_sorted[1:])\n",
    "    WAYS[low] = ways_including + ways_excluding\n",
    "    return WAYS[low]"
   ]
  },
  {
   "cell_type": "code",
   "execution_count": 16,
   "metadata": {},
   "outputs": [
    {
     "name": "stdout",
     "output_type": "stream",
     "text": [
      "There are 19208 ways\n"
     ]
    }
   ],
   "source": [
    "WAYS = dict()\n",
    "ways_count_test2 = count_the_ways(0, adapters_test2)\n",
    "print(f'There are {ways_count_test2} ways')"
   ]
  },
  {
   "cell_type": "code",
   "execution_count": 17,
   "metadata": {},
   "outputs": [
    {
     "name": "stdout",
     "output_type": "stream",
     "text": [
      "There are 16198260678656 ways\n"
     ]
    }
   ],
   "source": [
    "WAYS = dict()\n",
    "ways_count = count_the_ways(0, adapters)\n",
    "print(f'There are {ways_count} ways')"
   ]
  },
  {
   "cell_type": "code",
   "execution_count": 18,
   "metadata": {},
   "outputs": [
    {
     "data": {
      "text/html": [
       "\n",
       "<p>Your puzzle answer was <code>16198260678656</code>.</p><p class=\"day-success\">Both parts of this puzzle are complete! They provide two gold stars: **</p>\n",
       "<p>At this point, all that is left is for you to <a href=\"/2020\">admire your Advent calendar</a>.</p>\n",
       "<p>If you still want to see it, you can <a href=\"10/input\" target=\"_blank\">get your puzzle input</a>.</p>\n",
       "<p>You can also <span class=\"share\">[Share<span class=\"share-content\">on\n",
       "  <a href=\"https://twitter.com/intent/tweet?text=I%27ve+completed+%22Adapter+Array%22+%2D+Day+10+%2D+Advent+of+Code+2020&amp;url=https%3A%2F%2Fadventofcode%2Ecom%2F2020%2Fday%2F10&amp;related=ericwastl&amp;hashtags=AdventOfCode\" target=\"_blank\">Twitter</a>\n",
       "  <a href=\"javascript:void(0);\" onclick=\"var mastodon_instance=prompt('Mastodon Instance / Server Name?'); if(typeof mastodon_instance==='string' && mastodon_instance.length){this.href='https://'+mastodon_instance+'/share?text=I%27ve+completed+%22Adapter+Array%22+%2D+Day+10+%2D+Advent+of+Code+2020+%23AdventOfCode+https%3A%2F%2Fadventofcode%2Ecom%2F2020%2Fday%2F10'}else{return false;}\" target=\"_blank\">Mastodon</a\n",
       "></span>]</span> this puzzle.</p>\n"
      ],
      "text/plain": [
       "<IPython.core.display.HTML object>"
      ]
     },
     "execution_count": 18,
     "metadata": {},
     "output_type": "execute_result"
    }
   ],
   "source": [
    "HTML(downloaded['part2_footer'])"
   ]
  }
 ],
 "metadata": {
  "interpreter": {
   "hash": "1bc2c3908c007cf9ce21a098f93b8bf6135208cc693d7eb2db76831745e909df"
  },
  "kernelspec": {
   "display_name": "Python 3.8.10 64-bit ('venv': venv)",
   "name": "python3"
  },
  "language_info": {
   "codemirror_mode": {
    "name": "ipython",
    "version": 3
   },
   "file_extension": ".py",
   "mimetype": "text/x-python",
   "name": "python",
   "nbconvert_exporter": "python",
   "pygments_lexer": "ipython3",
   "version": "3.8.10"
  },
  "orig_nbformat": 2
 },
 "nbformat": 4,
 "nbformat_minor": 2
}

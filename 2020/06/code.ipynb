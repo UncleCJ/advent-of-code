{
 "cells": [
  {
   "cell_type": "markdown",
   "metadata": {},
   "source": [
    "# Day 6: Custom Customs\n",
    "\n",
    "[*Advent of Code 2020 day 6*](https://adventofcode.com/2020/day/6) and [*solution megathread*](https://redd.it/k7ndux)\n",
    "\n",
    "[![nbviewer](https://raw.githubusercontent.com/jupyter/design/master/logos/Badges/nbviewer_badge.svg)](https://nbviewer.jupyter.org/github/UncleCJ/advent-of-code/blob/cj/2020/06/code.ipynb) [![Binder](https://mybinder.org/badge_logo.svg)](https://mybinder.org/v2/gh/UncleCJ/advent-of-code/cj?filepath=2020%2F06%2Fcode.ipynb)"
   ]
  },
  {
   "cell_type": "code",
   "execution_count": 1,
   "metadata": {},
   "outputs": [
    {
     "name": "stdout",
     "output_type": "stream",
     "text": [
      "Writing 'downloaded' (dict) to file 'downloaded'.\n"
     ]
    }
   ],
   "source": [
    "from IPython.display import HTML\n",
    "import sys\n",
    "sys.path.append('../../')\n",
    "import common\n",
    "\n",
    "downloaded = common.refresh()\n",
    "%store downloaded >downloaded"
   ]
  },
  {
   "cell_type": "markdown",
   "metadata": {},
   "source": [
    "## Part One"
   ]
  },
  {
   "cell_type": "code",
   "execution_count": 2,
   "metadata": {},
   "outputs": [
    {
     "data": {
      "text/html": [
       "<h2>--- Day 6: Custom Customs ---</h2><p>As your flight approaches the regional airport where you'll switch to a much larger plane, <a href=\"https://en.wikipedia.org/wiki/Customs_declaration\" target=\"_blank\">customs declaration forms</a> are distributed to the passengers.</p>\n",
       "<p>The form asks a series of 26 yes-or-no questions marked <code>a</code> through <code>z</code>. All you need to do is identify the questions for which <em>anyone in your group</em> answers \"yes\". Since your group is just you, this doesn't take very long.</p>\n",
       "<p>However, the person sitting next to you seems to be experiencing a language barrier and asks if you can help. For each of the people in their group, you write down the questions for which they answer \"yes\", one per line.  For example:</p>\n",
       "<pre><code>abcx\n",
       "abcy\n",
       "abcz\n",
       "</code></pre>\n",
       "<p>In this group, there are <em><code>6</code></em> questions to which anyone answered \"yes\": <code>a</code>, <code>b</code>, <code>c</code>, <code>x</code>, <code>y</code>, and <code>z</code>. (Duplicate answers to the same question don't count extra; each question counts at most once.)</p>\n",
       "<p>Another group asks for your help, then another, and eventually you've collected answers from every group on the plane (your puzzle input). Each group's answers are separated by a blank line, and within each group, each person's answers are on a single line. For example:</p>\n",
       "<pre><code>abc\n",
       "\n",
       "a\n",
       "b\n",
       "c\n",
       "\n",
       "ab\n",
       "ac\n",
       "\n",
       "a\n",
       "a\n",
       "a\n",
       "a\n",
       "\n",
       "b\n",
       "</code></pre>\n",
       "<p>This list represents answers from five groups:</p>\n",
       "<ul>\n",
       "<li>The first group contains one person who answered \"yes\" to <em><code>3</code></em> questions: <code>a</code>, <code>b</code>, and <code>c</code>.</li>\n",
       "<li>The second group contains three people; combined, they answered \"yes\" to <em><code>3</code></em> questions: <code>a</code>, <code>b</code>, and <code>c</code>.</li>\n",
       "<li>The third group contains two people; combined, they answered \"yes\" to <em><code>3</code></em> questions: <code>a</code>, <code>b</code>, and <code>c</code>.</li>\n",
       "<li>The fourth group contains four people; combined, they answered \"yes\" to only <em><code>1</code></em> question, <code>a</code>.</li>\n",
       "<li>The last group contains one person who answered \"yes\" to only <em><code>1</code></em> question, <code>b</code>.</li>\n",
       "</ul>\n",
       "<p>In this example, the sum of these counts is <code>3 + 3 + 3 + 1 + 1</code> = <em><code>11</code></em>.</p>\n",
       "<p>For each group, count the number of questions to which anyone answered \"yes\". <em>What is the sum of those counts?</em></p>\n"
      ],
      "text/plain": [
       "<IPython.core.display.HTML object>"
      ]
     },
     "execution_count": 2,
     "metadata": {},
     "output_type": "execute_result"
    }
   ],
   "source": [
    "HTML(downloaded['part1'])"
   ]
  },
  {
   "cell_type": "markdown",
   "metadata": {},
   "source": [
    "## Boilerplate\n",
    "\n",
    "Let's try using [pycodestyle_magic](https://github.com/mattijn/pycodestyle_magic) with pycodestyle (flake8 stopped working for me in VS Code Jupyter). Now how does type checking work?"
   ]
  },
  {
   "cell_type": "code",
   "execution_count": 3,
   "metadata": {},
   "outputs": [],
   "source": [
    "%load_ext pycodestyle_magic"
   ]
  },
  {
   "cell_type": "code",
   "execution_count": 4,
   "metadata": {},
   "outputs": [],
   "source": [
    "%pycodestyle_on"
   ]
  },
  {
   "cell_type": "code",
   "execution_count": 5,
   "metadata": {},
   "outputs": [],
   "source": [
    "# testdata = '''ecl:gry pid:860033327 eyr:2020 hcl:#fffffd\n",
    "# iyr:2011 ecl:brn hgt:59in'''.splitlines()\n",
    "\n",
    "inputdata = downloaded['input'].splitlines()"
   ]
  },
  {
   "cell_type": "code",
   "execution_count": 6,
   "metadata": {
    "tags": []
   },
   "outputs": [],
   "source": [
    "import functools\n",
    "\n",
    "\n",
    "def parseDeclarations(data):\n",
    "    declarations = []\n",
    "    group = 0\n",
    "    declarations.append([])\n",
    "    for line in data:\n",
    "        if len(line) == 0:\n",
    "            group += 1\n",
    "            declarations.append([])\n",
    "        else:\n",
    "            # Note that we treat each declaration form as a set\n",
    "            declarations[group].append({c for c in line})\n",
    "    return declarations"
   ]
  },
  {
   "cell_type": "code",
   "execution_count": 7,
   "metadata": {},
   "outputs": [
    {
     "name": "stdout",
     "output_type": "stream",
     "text": [
      "[[{'b', 'c', 'a'}], [{'a'}, {'b'}, {'c'}], [{'b', 'a'}, {'c', 'a'}], [{'a'}, {'a'}, {'a'}, {'a'}], [{'b'}]]\n",
      "11\n"
     ]
    }
   ],
   "source": [
    "# Test\n",
    "declarations = parseDeclarations(['abc',\n",
    "                                  '',\n",
    "                                  'a',\n",
    "                                  'b',\n",
    "                                  'c',\n",
    "                                  '',\n",
    "                                  'ab',\n",
    "                                  'ac',\n",
    "                                  '',\n",
    "                                  'a',\n",
    "                                  'a',\n",
    "                                  'a',\n",
    "                                  'a',\n",
    "                                  '',\n",
    "                                  'b'])\n",
    "print(declarations)\n",
    "anyyes = [functools.reduce(lambda a, b: a | b, group)\n",
    "          for group in declarations]\n",
    "print(sum([len(x) for x in anyyes]))"
   ]
  },
  {
   "cell_type": "code",
   "execution_count": 8,
   "metadata": {},
   "outputs": [
    {
     "name": "stdout",
     "output_type": "stream",
     "text": [
      "6662\n"
     ]
    }
   ],
   "source": [
    "declarations = parseDeclarations(inputdata)\n",
    "anyyes = [functools.reduce(lambda a, b: a | b, group)\n",
    "          for group in declarations]\n",
    "answer = sum([len(x) for x in anyyes])\n",
    "print(answer)"
   ]
  },
  {
   "cell_type": "code",
   "execution_count": 9,
   "metadata": {},
   "outputs": [
    {
     "data": {
      "text/html": [
       "\n",
       "<p>Your puzzle answer was <code>6662</code>.</p>"
      ],
      "text/plain": [
       "<IPython.core.display.HTML object>"
      ]
     },
     "execution_count": 9,
     "metadata": {},
     "output_type": "execute_result"
    }
   ],
   "source": [
    "HTML(downloaded['part1_footer'])"
   ]
  },
  {
   "cell_type": "markdown",
   "metadata": {},
   "source": [
    "## Part Two"
   ]
  },
  {
   "cell_type": "code",
   "execution_count": 10,
   "metadata": {},
   "outputs": [
    {
     "data": {
      "text/html": [
       "<h2 id=\"part2\">--- Part Two ---</h2><p>As you finish the last group's customs declaration, you notice that <span title=\"Don't worry, nobody ever misreads just one word in real life.\">you misread one word</span> in the instructions:</p>\n",
       "<p>You don't need to identify the questions to which <em>anyone</em> answered \"yes\"; you need to identify the questions to which <em>everyone</em> answered \"yes\"!</p>\n",
       "<p>Using the same  example as above:</p>\n",
       "<pre><code>abc\n",
       "\n",
       "a\n",
       "b\n",
       "c\n",
       "\n",
       "ab\n",
       "ac\n",
       "\n",
       "a\n",
       "a\n",
       "a\n",
       "a\n",
       "\n",
       "b\n",
       "</code></pre>\n",
       "<p>This list represents answers from five groups:</p>\n",
       "<ul>\n",
       "<li>In the first group, everyone (all 1 person) answered \"yes\" to <em><code>3</code></em> questions: <code>a</code>, <code>b</code>, and <code>c</code>.</li>\n",
       "<li>In the second group, there is <em>no</em> question to which everyone answered \"yes\".</li>\n",
       "<li>In the third group, everyone answered yes to only <em><code>1</code></em> question, <code>a</code>. Since some people did not answer \"yes\" to <code>b</code> or <code>c</code>, they don't count.</li>\n",
       "<li>In the fourth group, everyone answered yes to only <em><code>1</code></em> question, <code>a</code>.</li>\n",
       "<li>In the fifth group, everyone (all 1 person) answered \"yes\" to <em><code>1</code></em> question, <code>b</code>.</li>\n",
       "</ul>\n",
       "<p>In this example, the sum of these counts is <code>3 + 0 + 1 + 1 + 1</code> = <em><code>6</code></em>.</p>\n",
       "<p>For each group, count the number of questions to which <em>everyone</em> answered \"yes\". <em>What is the sum of those counts?</em></p>\n"
      ],
      "text/plain": [
       "<IPython.core.display.HTML object>"
      ]
     },
     "execution_count": 10,
     "metadata": {},
     "output_type": "execute_result"
    }
   ],
   "source": [
    "HTML(downloaded['part2'])"
   ]
  },
  {
   "cell_type": "code",
   "execution_count": 11,
   "metadata": {},
   "outputs": [
    {
     "name": "stderr",
     "output_type": "stream",
     "text": [
      "18:80: E501 line too long (108 > 79 characters)\n"
     ]
    },
    {
     "name": "stdout",
     "output_type": "stream",
     "text": [
      "[{'b', 'c', 'a'}, set(), {'a'}, {'a'}, {'b'}]\n",
      "6\n"
     ]
    }
   ],
   "source": [
    "# Test\n",
    "declarations = parseDeclarations(['abc',\n",
    "                                  '',\n",
    "                                  'a',\n",
    "                                  'b',\n",
    "                                  'c',\n",
    "                                  '',\n",
    "                                  'ab',\n",
    "                                  'ac',\n",
    "                                  '',\n",
    "                                  'a',\n",
    "                                  'a',\n",
    "                                  'a',\n",
    "                                  'a',\n",
    "                                  '',\n",
    "                                  'b'])\n",
    "# & is the python intersection operator which we apply recursively on the list\n",
    "# see https://www.geeksforgeeks.org/python-set-operations-union-intersection-difference-symmetric-difference\n",
    "allyes = [functools.reduce(lambda a, b: a & b, group)\n",
    "          for group in declarations]\n",
    "print(allyes)\n",
    "print(sum([len(x) for x in allyes]))"
   ]
  },
  {
   "cell_type": "code",
   "execution_count": 12,
   "metadata": {},
   "outputs": [
    {
     "name": "stdout",
     "output_type": "stream",
     "text": [
      "3382\n"
     ]
    }
   ],
   "source": [
    "declarations = parseDeclarations(inputdata)\n",
    "allyes = [functools.reduce(lambda a, b: a & b, group)\n",
    "          for group in declarations]\n",
    "answer = sum([len(x) for x in allyes])\n",
    "print(answer)"
   ]
  },
  {
   "cell_type": "code",
   "execution_count": 13,
   "metadata": {},
   "outputs": [
    {
     "data": {
      "text/html": [
       "\n",
       "<p>Your puzzle answer was <code>3382</code>.</p><p class=\"day-success\">Both parts of this puzzle are complete! They provide two gold stars: **</p>\n",
       "<p>At this point, all that is left is for you to <a href=\"/2020\">admire your Advent calendar</a>.</p>\n",
       "<p>If you still want to see it, you can <a href=\"6/input\" target=\"_blank\">get your puzzle input</a>.</p>\n",
       "<p>You can also <span class=\"share\">[Share<span class=\"share-content\">on\n",
       "  <a href=\"https://twitter.com/intent/tweet?text=I%27ve+completed+%22Custom+Customs%22+%2D+Day+6+%2D+Advent+of+Code+2020&amp;url=https%3A%2F%2Fadventofcode%2Ecom%2F2020%2Fday%2F6&amp;related=ericwastl&amp;hashtags=AdventOfCode\" target=\"_blank\">Twitter</a>\n",
       "  <a href=\"javascript:void(0);\" onclick=\"var mastodon_instance=prompt('Mastodon Instance / Server Name?'); if(typeof mastodon_instance==='string' && mastodon_instance.length){this.href='https://'+mastodon_instance+'/share?text=I%27ve+completed+%22Custom+Customs%22+%2D+Day+6+%2D+Advent+of+Code+2020+%23AdventOfCode+https%3A%2F%2Fadventofcode%2Ecom%2F2020%2Fday%2F6'}else{return false;}\" target=\"_blank\">Mastodon</a\n",
       "></span>]</span> this puzzle.</p>\n"
      ],
      "text/plain": [
       "<IPython.core.display.HTML object>"
      ]
     },
     "execution_count": 13,
     "metadata": {},
     "output_type": "execute_result"
    }
   ],
   "source": [
    "HTML(downloaded['part2_footer'])"
   ]
  }
 ],
 "metadata": {
  "kernelspec": {
   "display_name": "Python 3.8.2 64-bit",
   "metadata": {
    "interpreter": {
     "hash": "31f2aee4e71d21fbe5cf8b01ff0e069b9275f58929596ceb00d14d90e3e16cd6"
    }
   },
   "name": "python3"
  },
  "language_info": {
   "codemirror_mode": {
    "name": "ipython",
    "version": 3
   },
   "file_extension": ".py",
   "mimetype": "text/x-python",
   "name": "python",
   "nbconvert_exporter": "python",
   "pygments_lexer": "ipython3",
   "version": "3.9.7"
  }
 },
 "nbformat": 4,
 "nbformat_minor": 4
}

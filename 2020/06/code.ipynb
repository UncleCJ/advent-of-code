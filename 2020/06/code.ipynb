{
 "cells": [
  {
   "cell_type": "markdown",
   "metadata": {},
   "source": [
    "# Day 6: Custom Customs\n",
    "\n",
    "[*Advent of Code day 6 - 2020-12-06*](https://adventofcode.com/2020/day/6) and [*solution megathread*](https://www.reddit.com/r/adventofcode/comments/k7ndux/2020_day_06_solutions/)\n",
    "\n",
    "[![Binder](https://mybinder.org/badge_logo.svg)](https://mybinder.org/v2/gh/UncleCJ/advent-of-code/cj?filepath=day-06%2Fday-06.ipynb)\n",
    "\n",
    "As your flight approaches the regional airport where you'll switch to a much larger plane, [customs declaration forms](https://en.wikipedia.org/wiki/Customs_declaration) are distributed to the passengers."
   ]
  },
  {
   "cell_type": "markdown",
   "metadata": {},
   "source": [
    "## Part 1\n",
    "\n",
    "\n",
    "The form asks a series of 26 yes-or-no questions marked `a` through `z`. All you need to do is identify the questions for which *anyone in your group* answers \"yes\". Since your group is just you, this doesn't take very long.\n",
    "\n",
    "However, the person sitting next to you seems to be experiencing a language barrier and asks if you can help. For each of the people in their group, you write down the questions for which they answer \"yes\", one per line. For example:\n",
    "\n",
    "```\n",
    "abcx\n",
    "abcy\n",
    "abcz\n",
    "```\n",
    "\n",
    "In this group, there are *`6`* questions to which anyone answered \"yes\": `a`, `b`, `c`, `x`, `y`, and `z`. (Duplicate answers to the same question don't count extra; each question counts at most once.)\n",
    "\n",
    "Another group asks for your help, then another, and eventually you've collected answers from every group on the plane (your puzzle input). Each group's answers are separated by a blank line, and within each group, each person's answers are on a single line. For example:\n",
    "\n",
    "```\n",
    "abc\n",
    "\n",
    "a\n",
    "b\n",
    "c\n",
    "\n",
    "ab\n",
    "ac\n",
    "\n",
    "a\n",
    "a\n",
    "a\n",
    "a\n",
    "\n",
    "b\n",
    "```\n",
    "\n",
    "This list represents answers from five groups:\n",
    "\n",
    "- The first group contains one person who answered \"yes\" to *`3`* questions: `a`, `b`, and `c`.\n",
    "- The second group contains three people; combined, they answered \"yes\" to *`3`* questions: `a`, `b`, and `c`.\n",
    "- The third group contains two people; combined, they answered \"yes\" to *`3`* questions: `a`, `b`, and `c`.\n",
    "- The fourth group contains four people; combined, they answered \"yes\" to only *`1`* question, `a`.\n",
    "- The last group contains one person who answered \"yes\" to only *`1`* question, `b`.\n",
    "\n",
    "In this example, the sum of these counts is `3 + 3 + 3 + 1 + 1` = *`11`*.\n",
    "\n",
    "For each group, count the number of questions to which anyone answered \"yes\". *What is the sum of those counts?*\n",
    "\n",
    "To begin, [get your puzzle input](https://adventofcode.com/2020/day/6/input)."
   ]
  },
  {
   "cell_type": "code",
   "execution_count": 1,
   "metadata": {},
   "outputs": [
    {
     "output_type": "stream",
     "name": "stdout",
     "text": [
      "-- Already have input, skipping download...\n"
     ]
    }
   ],
   "source": [
    "# Initialize - from https://www.techcoil.com/blog/how-to-download-a-file-via-http-post-and-http-get-with-python-3-requests-library/\n",
    "import os\n",
    "import requests\n",
    "\n",
    "if os.path.isfile('./input.txt'):\n",
    "    print(\"-- Already have input, skipping download...\")\n",
    "else:\n",
    "    print(\"-- No input.txt, attempting to download\")\n",
    "    response = requests.get('https://adventofcode.com/2020/day/6/input')\n",
    "    if response.status_code == 200:\n",
    "        with open('input.txt', 'a') as local_file:\n",
    "            print(\"writing input.txt\")\n",
    "            local_file.write(response.content)\n",
    "\n",
    "with open('input.txt', 'r') as inp:\n",
    "    inputdata = [line.strip() for line in inp.readlines()]"
   ]
  },
  {
   "cell_type": "code",
   "execution_count": 2,
   "metadata": {
    "tags": []
   },
   "outputs": [
    {
     "output_type": "stream",
     "name": "stdout",
     "text": [
      "[{'b', 'c', 'a'}, {'b', 'c', 'a'}, {'b', 'c', 'a'}, {'a'}, {'b'}]\n11\n6662\n"
     ]
    }
   ],
   "source": [
    "answer = 0\n",
    "\n",
    "def parseDeclarations(data):\n",
    "    declarations = []\n",
    "    group = 0\n",
    "    declarations.append(set())\n",
    "    for line in data:\n",
    "        if len(line) == 0:\n",
    "            group += 1\n",
    "            declarations.append(set())\n",
    "        else:\n",
    "            declarations[group].update([c for c in line])\n",
    "    return declarations\n",
    "\n",
    "# Test\n",
    "declarations = parseDeclarations(['abc', '', 'a', 'b', 'c', '', 'ab', 'ac', '', 'a', 'a', 'a', 'a', '', 'b'])\n",
    "print(declarations)\n",
    "print(sum([len(x) for x in declarations]))\n",
    "\n",
    "declarations = parseDeclarations(inputdata)\n",
    "answer = sum([len(x) for x in declarations])\n",
    "print(answer)"
   ]
  },
  {
   "cell_type": "markdown",
   "metadata": {},
   "source": [
    "## Part 2\n",
    "\n",
    "As you finish the last group's customs declaration, you notice that you misread one word in the instructions:\n",
    "\n",
    "You don't need to identify the questions to which *anyone* answered \"yes\"; you need to identify the questions to which *everyone* answered \"yes\"!\n",
    "\n",
    "Using the same example as above:\n",
    "\n",
    "```\n",
    "abc\n",
    "\n",
    "a\n",
    "b\n",
    "c\n",
    "\n",
    "ab\n",
    "ac\n",
    "\n",
    "a\n",
    "a\n",
    "a\n",
    "a\n",
    "\n",
    "b\n",
    "```\n",
    "\n",
    "This list represents answers from five groups:\n",
    "\n",
    "- In the first group, everyone (all 1 person) answered \"yes\" to *`3`* questions: `a`, `b`, and `c`.\n",
    "- In the second group, there is *no* question to which everyone answered \"yes\".\n",
    "- In the third group, everyone answered yes to only *`1`* question, `a`. Since some people did not answer \"yes\" to `b` or `c`, they don't count.\n",
    "- In the fourth group, everyone answered yes to only *`1`* question, `a`.\n",
    "- In the fifth group, everyone (all 1 person) answered \"yes\" to *`1`* question, `b`.\n",
    "\n",
    "In this example, the sum of these counts is `3 + 0 + 1 + 1 + 1` = *`6`*.\n",
    "\n",
    "For each group, count the number of questions to which *everyone* answered \"yes\". *What is the sum of those counts?*"
   ]
  },
  {
   "cell_type": "code",
   "execution_count": 3,
   "metadata": {},
   "outputs": [],
   "source": [
    "answer = 0\n",
    "\n",
    "# write your solution here - 'inputdata' is a list of the lines"
   ]
  }
 ],
 "metadata": {
  "kernelspec": {
   "name": "python3",
   "display_name": "Python 3.6.9 64-bit",
   "metadata": {
    "interpreter": {
     "hash": "31f2aee4e71d21fbe5cf8b01ff0e069b9275f58929596ceb00d14d90e3e16cd6"
    }
   }
  },
  "language_info": {
   "codemirror_mode": {
    "name": "ipython",
    "version": 3
   },
   "file_extension": ".py",
   "mimetype": "text/x-python",
   "name": "python",
   "nbconvert_exporter": "python",
   "pygments_lexer": "ipython3",
   "version": "3.6.9-final"
  }
 },
 "nbformat": 4,
 "nbformat_minor": 4
}
{
 "metadata": {
  "language_info": {
   "codemirror_mode": {
    "name": "ipython",
    "version": 3
   },
   "file_extension": ".py",
   "mimetype": "text/x-python",
   "name": "python",
   "nbconvert_exporter": "python",
   "pygments_lexer": "ipython3",
   "version": "3.6.9-final"
  },
  "orig_nbformat": 2,
  "kernelspec": {
   "name": "python3",
   "display_name": "Python 3",
   "language": "python"
  }
 },
 "nbformat": 4,
 "nbformat_minor": 2,
 "cells": [
  {
   "cell_type": "code",
   "execution_count": 1,
   "metadata": {},
   "outputs": [],
   "source": [
    "%load_ext pycodestyle_magic"
   ]
  },
  {
   "cell_type": "code",
   "execution_count": 2,
   "metadata": {},
   "outputs": [],
   "source": [
    "%flake8_on"
   ]
  },
  {
   "cell_type": "code",
   "execution_count": 3,
   "metadata": {},
   "outputs": [],
   "source": [
    "from itertools import count\n",
    "from functools import reduce\n",
    "import numpy as np"
   ]
  },
  {
   "cell_type": "code",
   "execution_count": 4,
   "metadata": {},
   "outputs": [],
   "source": [
    "testdata = \"\"\"939\n",
    "7,13,x,x,59,x,31,19\"\"\".splitlines()\n",
    "\n",
    "with open('input', 'r') as inp:\n",
    "    inputdata = [line.strip() for line in inp.readlines()]"
   ]
  },
  {
   "cell_type": "code",
   "execution_count": 5,
   "metadata": {},
   "outputs": [],
   "source": [
    "def process_data(data):\n",
    "    return (int(data[0]),\n",
    "            [(int(id), o) for o, id in\n",
    "                enumerate(data[1].split(','))\n",
    "                if id != 'x'])"
   ]
  },
  {
   "cell_type": "code",
   "execution_count": 6,
   "metadata": {},
   "outputs": [],
   "source": [
    "def waiting_times(earliest, ids):\n",
    "    return [(0, id) if (earliest % id == 0)\n",
    "            else (id - (earliest % id), id)\n",
    "            for id, o in ids]"
   ]
  },
  {
   "cell_type": "code",
   "execution_count": 7,
   "metadata": {},
   "outputs": [],
   "source": [
    "def offset_errors(time, ids):\n",
    "    return [(0, id) if (time % id) == o\n",
    "            else (((time % id) + o) % id, id)\n",
    "            for id, o in ids]"
   ]
  },
  {
   "cell_type": "code",
   "execution_count": 8,
   "metadata": {},
   "outputs": [],
   "source": [
    "def print_schedule(earliest, ids):\n",
    "    wtimes_ids = waiting_times(earliest, ids)\n",
    "    wtimes = [wtime for wtime, id in wtimes_ids]\n",
    "    # os = [o for id, o in ids]\n",
    "    ids = [id for id, o in ids]\n",
    "    # print(f'waiting times: {wtimes}')\n",
    "    # print(f'offsets: {os}')\n",
    "    # print(f'bus ids: {ids}')\n",
    "    print(f'time    {\"  \".join([\"bus \" + str(id) for id in ids])}')\n",
    "    for t in range(0, max(wtimes) + 1):\n",
    "        print('{}    {}'.format(\n",
    "            t + earliest,\n",
    "            \"     \".join([\n",
    "                \" D \" if (t + earliest) % id == 0\n",
    "                else \" . \"\n",
    "                for id in ids\n",
    "            ])\n",
    "        ))"
   ]
  },
  {
   "source": [
    "For $B_a$ and $B_b$ as two bus ids in this context (also their period), where $B_a$ is assumed to have $o_a$ offset (or \"phase\") and $B_b$ offset $o_b$, let $d_{a,b} = gcd(B_a, B_b)$\n",
    "\n",
    "By [Euclid's lemma](https://en.wikipedia.org/wiki/Euclid%27s_lemma), there exist integers $N_a, N_b$ such that $N_a ⋅ B_a - N_b ⋅ B_b = c$\n",
    "\n",
    "We are looking for $m, n$ so that $m⋅B_a − o_a = n⋅B_b − o_b => m⋅B_a − n⋅B_b = o_a − o_b$ $(1)$. Using Euclid's extended algorithm, we can find $s, t$ so that $s⋅B_a + t⋅B_b = gcd(B_a, B_b)$ $(2)$. Assuming $mod(o_a - o_b, g_{a,b}) = 0$ (there exists a solution), let $z = \\frac{o_a - o_b}{g_{a,b}}$, multiply $(2)$ with it to get $(1)$ as $m = z⋅s$ and $n = −z⋅t$"
   ],
   "cell_type": "markdown",
   "metadata": {}
  },
  {
   "cell_type": "code",
   "execution_count": 9,
   "metadata": {},
   "outputs": [],
   "source": [
    "def extended_gcd(a, b):\n",
    "    \"\"\"Extended Greatest Common Divisor Algorithm\n",
    "\n",
    "    Returns:\n",
    "        gcd: The greatest common divisor of a and b.\n",
    "        s, t: Coefficients such that s*a + t*b = gcd\n",
    "\n",
    "    Reference:\n",
    "        https://en.wikipedia.org/wiki/Extended_Euclidean_algorithm#Pseudocode\n",
    "    \"\"\"\n",
    "    old_r, r = a, b\n",
    "    old_s, s = 1, 0\n",
    "    old_t, t = 0, 1\n",
    "    while r:\n",
    "        quotient, remainder = divmod(old_r, r)\n",
    "        old_r, r = r, remainder\n",
    "        old_s, s = s, old_s - quotient * s\n",
    "        old_t, t = t, old_t - quotient * t\n",
    "\n",
    "    return old_r, old_s, old_t"
   ]
  },
  {
   "cell_type": "code",
   "execution_count": 10,
   "metadata": {},
   "outputs": [],
   "source": [
    "def combine_phased_schedules(a_period, a_phase, b_period, b_phase):\n",
    "    gcd, s, t = extended_gcd(a_period, b_period)\n",
    "    phase_difference = a_phase - b_phase\n",
    "    pd_mult, pd_remainder = divmod(phase_difference, gcd)\n",
    "    if pd_remainder:\n",
    "        raise ValueError(\"Schedules never synchronize\")\n",
    "    combined_period = a_period // gcd * b_period\n",
    "    combined_phase = (a_phase - s * pd_mult * a_period) % combined_period\n",
    "    return combined_period, combined_phase"
   ]
  },
  {
   "cell_type": "code",
   "execution_count": 11,
   "metadata": {},
   "outputs": [],
   "source": [
    "def schedule_alignment(id_a, id_b):\n",
    "    a_period, a_offset = id_a\n",
    "    b_period, b_offset = id_b\n",
    "    \"\"\"Where the arrows first align, where green starts shifted by advantage\"\"\"\n",
    "    period, phase = combine_phased_schedules(a_period, a_offset % a_period,\n",
    "                                             b_period, b_offset % b_period)\n",
    "    print(period, -phase % period)\n",
    "    return (period, -phase % period)"
   ]
  },
  {
   "cell_type": "code",
   "execution_count": 12,
   "metadata": {},
   "outputs": [],
   "source": [
    "def chinese_remainder(n, a):\n",
    "    sum = 0\n",
    "    prod = reduce(lambda a, b: a*b, n)\n",
    "    for n_i, a_i in zip(n, a):\n",
    "        p = prod // n_i\n",
    "        sum += a_i * mul_inv(p, n_i) * p\n",
    "    return sum % prod\n",
    "\n",
    "\n",
    "def mul_inv(a, b):\n",
    "    b0 = b\n",
    "    x0, x1 = 0, 1\n",
    "    if b == 1:\n",
    "        return 1\n",
    "    while a > 1:\n",
    "        q = a // b\n",
    "        a, b = b, a % b\n",
    "        x0, x1 = x1 - q * x0, x0\n",
    "    if x1 < 0:\n",
    "        x1 += b0\n",
    "    return x1"
   ]
  },
  {
   "cell_type": "code",
   "execution_count": 13,
   "metadata": {
    "tags": []
   },
   "outputs": [
    {
     "output_type": "stream",
     "name": "stderr",
     "text": [
      "23:80: E501 line too long (256 > 79 characters)\n",
      "29:1: E265 block comment should start with '# '\n",
      "939 [(7, 0), (13, 1), (59, 4), (31, 6), (19, 7)]\n",
      "times: [(6, 7), (10, 13), (5, 59), (22, 31), (11, 19)]\n",
      "shortest waiting time * that bus Id: 295\n",
      "time    bus 7  bus 13  bus 59  bus 31  bus 19\n",
      "4231122     D       .       .       .       . \n",
      "4231123     .       D       .       .       . \n",
      "4231124     .       .       .       .       . \n",
      "4231125     .       .       .       .       . \n",
      "4231126     .       .       D       .       . \n",
      "4231127     .       .       .       .       . \n",
      "4231128     .       .       .       D       . \n",
      "4231129     D       .       .       .       D \n",
      "[(29, 0), (41, 19), (661, 29), (13, 42), (17, 43), (23, 52), (521, 60), (37, 66), (19, 79)]\n",
      "1189 145\n",
      "8593 8564\n",
      "10217077 2491999\n",
      "391 178\n",
      "19277 18175\n",
      "7537307 5668540\n",
      "77009245991639 59872140247540\n",
      "1463175673841141 864238811652128\n",
      "(1463175673841141, 864238811652128)\n",
      "[(0, 29), (0, 41), (0, 661), (6, 13), (1, 17), (12, 23), (0, 521), (21, 37), (0, 19)]\n",
      "1249285041610323\n"
     ]
    }
   ],
   "source": [
    "earliest, ids = process_data(testdata)\n",
    "print(earliest, ids)\n",
    "times = waiting_times(earliest, ids)\n",
    "print(f'times: {times}')\n",
    "shortest = min(times)\n",
    "print(f'shortest waiting time * that bus Id: {shortest[0]*shortest[1]}')\n",
    "\n",
    "# print(schedule_alignment(ids[0], ids[1]))\n",
    "# print(schedule_alignment(ids[2], ids[3]))\n",
    "# print(schedule_alignment((91, 77), (1829, 645)))\n",
    "# print(schedule_alignment((166439, 96292), ids[4]))\n",
    "\n",
    "# print(reduce(lambda a, b: schedule_alignment(a, b), ids))\n",
    "# print_schedule(1068781, ids)\n",
    "\n",
    "# print(schedule_alignment(166439, 98357, 19, 7))\n",
    "idx = [0, 1, 2, 3, 4]\n",
    "print_schedule(3162341+1068781, np.array(ids)[idx])\n",
    "2093560\n",
    "earliest, ids = process_data(inputdata)\n",
    "print(ids)\n",
    "\n",
    "print(schedule_alignment(schedule_alignment(schedule_alignment(schedule_alignment((29, 0), (41, 19)), schedule_alignment((661, 29), (13, 42))), schedule_alignment(schedule_alignment((17, 43), (23, 52)), schedule_alignment((521, 60), (37, 66)))), (19, 79)))\n",
    "\n",
    "print(offset_errors(864238811652128, ids))\n",
    "\n",
    "print(chinese_remainder([id for id, o in ids], [o for id, o in ids]))\n",
    "\n",
    "#print_schedule(864238811652128, ids)\n",
    "# for t in count(0, max(ids)[0]):\n",
    "#     #print_schedule(t, ids)\n",
    "#     wtimes_ids = waiting_times(t, ids)\n",
    "#     errors = [o - t for t, o in zip([wtime for wtime, id in wtimes_ids],\n",
    "#                                     [o for id, o in ids])]\n",
    "#     if sum([abs(e) for e in errors]) == 0:\n",
    "#         print(errors)\n",
    "#         print_schedule(t, ids)\n",
    "#         break\n",
    "\n"
   ]
  },
  {
   "cell_type": "code",
   "execution_count": 14,
   "metadata": {},
   "outputs": [
    {
     "output_type": "stream",
     "name": "stdout",
     "text": [
      "45486253244848 16 0\n"
     ]
    }
   ],
   "source": [
    "print(864238811652128 // 19, 864238811652128 % 19, (79 + 16) % 19)"
   ]
  },
  {
   "cell_type": "code",
   "execution_count": 15,
   "metadata": {},
   "outputs": [
    {
     "output_type": "stream",
     "name": "stdout",
     "text": [
      "21078995406149 19\n"
     ]
    }
   ],
   "source": [
    "print(864238811652128 // 41, 864238811652128 % 41)"
   ]
  },
  {
   "cell_type": "code",
   "execution_count": 16,
   "metadata": {},
   "outputs": [
    {
     "output_type": "stream",
     "name": "stdout",
     "text": [
      "658 10 0\n"
     ]
    }
   ],
   "source": [
    "print(8564 // 13, 8564 % 13, (42 + 10) % 13)"
   ]
  },
  {
   "cell_type": "code",
   "execution_count": 17,
   "metadata": {},
   "outputs": [
    {
     "output_type": "execute_result",
     "data": {
      "text/plain": [
       "1046780"
      ]
     },
     "metadata": {},
     "execution_count": 17
    },
    {
     "output_type": "stream",
     "name": "stderr",
     "text": [
      "1:13: E261 at least two spaces before inline comment\n"
     ]
    }
   ],
   "source": [
    "2093560 // 2 # 1068781?"
   ]
  },
  {
   "cell_type": "code",
   "execution_count": 18,
   "metadata": {},
   "outputs": [
    {
     "output_type": "stream",
     "name": "stderr",
     "text": [
      "6:80: E501 line too long (94 > 79 characters)\n",
      "[(7, 0), (13, 1), (59, 4), (31, 6), (19, 7)]\n",
      "chinese remainder: 1068781\n",
      "25\n"
     ]
    }
   ],
   "source": [
    "earliest, ids = process_data(testdata)\n",
    "print(ids)\n",
    "# print_schedule(2093560, ids)\n",
    "\n",
    "# 1068781\n",
    "print(f'chinese remainder: {chinese_remainder([id for id, o in ids], [-o for id, o in ids])}')\n",
    "\n",
    "print(1068781 % ids[3][0])"
   ]
  },
  {
   "cell_type": "code",
   "execution_count": 19,
   "metadata": {},
   "outputs": [
    {
     "output_type": "stream",
     "name": "stdout",
     "text": [
      "chinese remainder: 213890632230818\n",
      "[(0, 29), (0, 41), (0, 661), (0, 13), (0, 17), (0, 23), (0, 521), (0, 37), (0, 19)]\n",
      "2:80: E501 line too long (94 > 79 characters)\n"
     ]
    }
   ],
   "source": [
    "earliest, ids = process_data(inputdata)\n",
    "print(f'chinese remainder: {chinese_remainder([id for id, o in ids], [-o for id, o in ids])}')\n",
    "print(offset_errors(213890632230818, ids))"
   ]
  }
 ]
}
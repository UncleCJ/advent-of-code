{
 "cells": [
  {
   "cell_type": "markdown",
   "metadata": {},
   "source": [
    "# Day 13: Shuttle Search\n",
    "\n",
    "[*Advent of Code 2020 day 13*](https://adventofcode.com/2020/day/13) and [*solution megathread*](https://redd.it/kc4njx)\n",
    "\n",
    "[![nbviewer](https://raw.githubusercontent.com/jupyter/design/master/logos/Badges/nbviewer_badge.svg)](https://nbviewer.jupyter.org/github/UncleCJ/advent-of-code/blob/cj/2020/13/code.ipynb) [![Binder](https://mybinder.org/badge_logo.svg)](https://mybinder.org/v2/gh/UncleCJ/advent-of-code/cj?filepath=2020%2F13%2Fcode.ipynb)"
   ]
  },
  {
   "cell_type": "code",
   "execution_count": 1,
   "metadata": {},
   "outputs": [
    {
     "name": "stdout",
     "output_type": "stream",
     "text": [
      "Writing 'downloaded' (dict) to file 'downloaded'.\n"
     ]
    }
   ],
   "source": [
    "from IPython.display import HTML\n",
    "import sys\n",
    "sys.path.append('../../')\n",
    "import common\n",
    "\n",
    "downloaded = common.refresh()\n",
    "%store downloaded >downloaded"
   ]
  },
  {
   "cell_type": "markdown",
   "metadata": {},
   "source": [
    "## Part One"
   ]
  },
  {
   "cell_type": "code",
   "execution_count": 2,
   "metadata": {},
   "outputs": [
    {
     "data": {
      "text/html": [
       "<h2>--- Day 13: Shuttle Search ---</h2><p>Your ferry can make it safely to a nearby port, but it won't get much further. When you call to book another ship, you discover that no ships embark from that port to your vacation island. You'll need to get from the port to the nearest airport.</p>\n",
       "<p>Fortunately, a shuttle bus service is available to bring you from the sea port to the airport!  Each bus has an ID number that also indicates <em>how often the bus leaves for the airport</em>.</p>\n",
       "<p>Bus schedules are defined based on a <em>timestamp</em> that measures the <em>number of minutes</em> since some fixed reference point in the past. At timestamp <code>0</code>, every bus simultaneously departed from the sea port. After that, each bus travels to the airport, then various other locations, and finally returns to the sea port to repeat its journey forever.</p>\n",
       "<p>The time this loop takes a particular bus is also its ID number: the bus with ID <code>5</code> departs from the sea port at timestamps <code>0</code>, <code>5</code>, <code>10</code>, <code>15</code>, and so on. The bus with ID <code>11</code> departs at <code>0</code>, <code>11</code>, <code>22</code>, <code>33</code>, and so on. If you are there when the bus departs, you can ride that bus to the airport!</p>\n",
       "<p>Your notes (your puzzle input) consist of two lines.  The first line is your estimate of the <em>earliest timestamp you could depart on a bus</em>. The second line lists the bus IDs that are in service according to the shuttle company; entries that show <code>x</code> must be out of service, so you decide to ignore them.</p>\n",
       "<p>To save time once you arrive, your goal is to figure out <em>the earliest bus you can take to the airport</em>. (There will be exactly one such bus.)</p>\n",
       "<p>For example, suppose you have the following notes:</p>\n",
       "<pre><code>939\n",
       "7,13,x,x,59,x,31,19\n",
       "</code></pre>\n",
       "<p>Here, the earliest timestamp you could depart is <code>939</code>, and the bus IDs in service are <code>7</code>, <code>13</code>, <code>59</code>, <code>31</code>, and <code>19</code>. Near timestamp <code>939</code>, these bus IDs depart at the times marked <code>D</code>:</p>\n",
       "<pre><code>time   bus 7   bus 13  bus 59  bus 31  bus 19\n",
       "929      .       .       .       .       .\n",
       "930      .       .       .       D       .\n",
       "931      D       .       .       .       D\n",
       "932      .       .       .       .       .\n",
       "933      .       .       .       .       .\n",
       "934      .       .       .       .       .\n",
       "935      .       .       .       .       .\n",
       "936      .       D       .       .       .\n",
       "937      .       .       .       .       .\n",
       "938      D       .       .       .       .\n",
       "<em>939      .       .       .       .       .</em>\n",
       "940      .       .       .       .       .\n",
       "941      .       .       .       .       .\n",
       "942      .       .       .       .       .\n",
       "943      .       .       .       .       .\n",
       "<em>944      .       .       D       .       .</em>\n",
       "945      D       .       .       .       .\n",
       "946      .       .       .       .       .\n",
       "947      .       .       .       .       .\n",
       "948      .       .       .       .       .\n",
       "949      .       D       .       .       .\n",
       "</code></pre>\n",
       "<p>The earliest bus you could take is bus ID <code>59</code>. It doesn't depart until timestamp <code>944</code>, so you would need to wait <code>944 - 939 = 5</code> minutes before it departs. Multiplying the bus ID by the number of minutes you'd need to wait gives <em><code>295</code></em>.</p>\n",
       "<p><em>What is the ID of the earliest bus you can take to the airport multiplied by the number of minutes you'll need to wait for that bus?</em></p>\n"
      ],
      "text/plain": [
       "<IPython.core.display.HTML object>"
      ]
     },
     "execution_count": 2,
     "metadata": {},
     "output_type": "execute_result"
    }
   ],
   "source": [
    "HTML(downloaded['part1'])"
   ]
  },
  {
   "cell_type": "markdown",
   "metadata": {},
   "source": [
    "## Boilerplate\n",
    "\n",
    "Let's try using [pycodestyle_magic](https://github.com/mattijn/pycodestyle_magic) with pycodestyle (flake8 stopped working for me in VS Code Jupyter). Now how does type checking work?"
   ]
  },
  {
   "cell_type": "code",
   "execution_count": 3,
   "metadata": {},
   "outputs": [],
   "source": [
    "%load_ext pycodestyle_magic"
   ]
  },
  {
   "cell_type": "code",
   "execution_count": 4,
   "metadata": {},
   "outputs": [],
   "source": [
    "%pycodestyle_on"
   ]
  },
  {
   "cell_type": "code",
   "execution_count": 5,
   "metadata": {},
   "outputs": [],
   "source": [
    "testdata = \"\"\"939\n",
    "7,13,x,x,59,x,31,19\"\"\".splitlines()\n",
    "\n",
    "inputdata = downloaded['input'].splitlines()"
   ]
  },
  {
   "cell_type": "code",
   "execution_count": 6,
   "metadata": {},
   "outputs": [],
   "source": [
    "from itertools import count\n",
    "from functools import reduce\n",
    "import numpy as np\n",
    "\n",
    "\n",
    "def process_data(data):\n",
    "    return (int(data[0]),\n",
    "            [(int(id), o) for o, id in\n",
    "                enumerate(data[1].split(','))\n",
    "                if id != 'x'])\n",
    "\n",
    "\n",
    "def waiting_times(earliest, ids):\n",
    "    return [(0, id) if (earliest % id == 0)\n",
    "            else (id - (earliest % id), id)\n",
    "            for id, o in ids]"
   ]
  },
  {
   "cell_type": "code",
   "execution_count": 7,
   "metadata": {
    "tags": []
   },
   "outputs": [
    {
     "name": "stdout",
     "output_type": "stream",
     "text": [
      "939 [(7, 0), (13, 1), (59, 4), (31, 6), (19, 7)]\n",
      "times: [(6, 7), (10, 13), (5, 59), (22, 31), (11, 19)]\n",
      "shortest waiting time * that bus Id: 5*59 = 295\n"
     ]
    }
   ],
   "source": [
    "earliest, ids = process_data(testdata)\n",
    "print(earliest, ids)\n",
    "times = waiting_times(earliest, ids)\n",
    "print(f'times: {times}')\n",
    "shortest = min(times)\n",
    "print(f'shortest waiting time * that bus Id: '\n",
    "      f'{shortest[0]}*{shortest[1]} = {shortest[0]*shortest[1]}')"
   ]
  },
  {
   "cell_type": "code",
   "execution_count": 8,
   "metadata": {},
   "outputs": [
    {
     "name": "stdout",
     "output_type": "stream",
     "text": [
      "1000677 [(29, 0), (41, 19), (661, 29), (13, 42), (17, 43), (23, 52), (521, 60), (37, 66), (19, 79)]\n",
      "times: [(26, 29), (10, 41), (77, 661), (11, 13), (11, 17), (7, 23), (164, 521), (25, 37), (15, 19)]\n",
      "shortest waiting time * that bus Id: 7*23 = 161\n"
     ]
    }
   ],
   "source": [
    "earliest, ids = process_data(inputdata)\n",
    "print(earliest, ids)\n",
    "times = waiting_times(earliest, ids)\n",
    "print(f'times: {times}')\n",
    "shortest = min(times)\n",
    "print(f'shortest waiting time * that bus Id: '\n",
    "      f'{shortest[0]}*{shortest[1]} = {shortest[0]*shortest[1]}')"
   ]
  },
  {
   "cell_type": "code",
   "execution_count": 9,
   "metadata": {},
   "outputs": [
    {
     "data": {
      "text/html": [
       "\n",
       "<p>Your puzzle answer was <code>161</code>.</p>"
      ],
      "text/plain": [
       "<IPython.core.display.HTML object>"
      ]
     },
     "execution_count": 9,
     "metadata": {},
     "output_type": "execute_result"
    }
   ],
   "source": [
    "HTML(downloaded['part1_footer'])"
   ]
  },
  {
   "cell_type": "markdown",
   "metadata": {},
   "source": [
    "## Part Two"
   ]
  },
  {
   "cell_type": "code",
   "execution_count": 10,
   "metadata": {},
   "outputs": [
    {
     "data": {
      "text/html": [
       "<h2 id=\"part2\">--- Part Two ---</h2><p>The shuttle company is running a <span title=\"This is why you should never let me design a contest for a shuttle company.\">contest</span>: one gold coin for anyone that can find the earliest timestamp such that the first bus ID departs at that time and each subsequent listed bus ID departs at that subsequent minute. (The first line in your input is no longer relevant.)</p>\n",
       "<p>For example, suppose you have the same list of bus IDs as above:</p>\n",
       "<pre><code>7,13,x,x,59,x,31,19</code></pre>\n",
       "<p>An <code>x</code> in the schedule means there are no constraints on what bus IDs must depart at that time.</p>\n",
       "<p>This means you are looking for the earliest timestamp (called <code>t</code>) such that:</p>\n",
       "<ul>\n",
       "<li>Bus ID <code>7</code> departs at timestamp <code>t</code>.\n",
       "<li>Bus ID <code>13</code> departs one minute after timestamp <code>t</code>.</li>\n",
       "<li>There are no requirements or restrictions on departures at two or three minutes after timestamp <code>t</code>.</li>\n",
       "<li>Bus ID <code>59</code> departs four minutes after timestamp <code>t</code>.</li>\n",
       "<li>There are no requirements or restrictions on departures at five minutes after timestamp <code>t</code>.</li>\n",
       "<li>Bus ID <code>31</code> departs six minutes after timestamp <code>t</code>.</li>\n",
       "<li>Bus ID <code>19</code> departs seven minutes after timestamp <code>t</code>.</li>\n",
       "</ul>\n",
       "<p>The only bus departures that matter are the listed bus IDs at their specific offsets from <code>t</code>. Those bus IDs can depart at other times, and other bus IDs can depart at those times.  For example, in the list above, because bus ID <code>19</code> must depart seven minutes after the timestamp at which bus ID <code>7</code> departs, bus ID <code>7</code> will always <em>also</em> be departing with bus ID <code>19</code> at seven minutes after timestamp <code>t</code>.</p>\n",
       "<p>In this example, the earliest timestamp at which this occurs is <em><code>1068781</code></em>:</p>\n",
       "<pre><code>time     bus 7   bus 13  bus 59  bus 31  bus 19\n",
       "1068773    .       .       .       .       .\n",
       "1068774    D       .       .       .       .\n",
       "1068775    .       .       .       .       .\n",
       "1068776    .       .       .       .       .\n",
       "1068777    .       .       .       .       .\n",
       "1068778    .       .       .       .       .\n",
       "1068779    .       .       .       .       .\n",
       "1068780    .       .       .       .       .\n",
       "<em>1068781</em>    <em>D</em>       .       .       .       .\n",
       "<em>1068782</em>    .       <em>D</em>       .       .       .\n",
       "<em>1068783</em>    .       .       .       .       .\n",
       "<em>1068784</em>    .       .       .       .       .\n",
       "<em>1068785</em>    .       .       <em>D</em>       .       .\n",
       "<em>1068786</em>    .       .       .       .       .\n",
       "<em>1068787</em>    .       .       .       <em>D</em>       .\n",
       "<em>1068788</em>    D       .       .       .       <em>D</em>\n",
       "1068789    .       .       .       .       .\n",
       "1068790    .       .       .       .       .\n",
       "1068791    .       .       .       .       .\n",
       "1068792    .       .       .       .       .\n",
       "1068793    .       .       .       .       .\n",
       "1068794    .       .       .       .       .\n",
       "1068795    D       D       .       .       .\n",
       "1068796    .       .       .       .       .\n",
       "1068797    .       .       .       .       .\n",
       "</code></pre>\n",
       "<p>In the above example, bus ID <code>7</code> departs at timestamp <code>1068788</code> (seven minutes after <code>t</code>). This is fine; the only requirement on that minute is that bus ID <code>19</code> departs then, and it does.</p>\n",
       "<p>Here are some other examples:</p>\n",
       "<ul>\n",
       "<li>The earliest timestamp that matches the list <code>17,x,13,19</code> is <em><code>3417</code></em>.</li>\n",
       "<li><code>67,7,59,61</code> first occurs at timestamp <em><code>754018</code></em>.</li>\n",
       "<li><code>67,x,7,59,61</code> first occurs at timestamp <em><code>779210</code></em>.</li>\n",
       "<li><code>67,7,x,59,61</code> first occurs at timestamp <em><code>1261476</code></em>.</li>\n",
       "<li><code>1789,37,47,1889</code> first occurs at timestamp <em><code>1202161486</code></em>.</li>\n",
       "</ul>\n",
       "<p>However, with so many bus IDs in your list, surely the actual earliest timestamp will be larger than <code>100000000000000</code>!</p>\n",
       "<p><em>What is the earliest timestamp such that all of the listed bus IDs depart at offsets matching their positions in the list?</em></p>\n"
      ],
      "text/plain": [
       "<IPython.core.display.HTML object>"
      ]
     },
     "execution_count": 10,
     "metadata": {},
     "output_type": "execute_result"
    }
   ],
   "source": [
    "HTML(downloaded['part2'])"
   ]
  },
  {
   "cell_type": "code",
   "execution_count": 11,
   "metadata": {},
   "outputs": [],
   "source": [
    "def print_schedule(earliest, ids):\n",
    "    wtimes_ids = waiting_times(earliest, ids)\n",
    "    wtimes = [wtime for wtime, id in wtimes_ids]\n",
    "    ids = [id for id, o in ids]\n",
    "    print(f'time    {\"  \".join([\"bus \" + str(id) for id in ids])}')\n",
    "    for t in range(0, max(wtimes) + 1):\n",
    "        lines = [\" D \" if (t + earliest) % id == 0\n",
    "                 else \" . \"\n",
    "                 for id in ids]\n",
    "        print(f'{t + earliest}    {\"     \".join(lines)}')"
   ]
  },
  {
   "cell_type": "markdown",
   "metadata": {},
   "source": [
    "Here first I went down the wrong rabbit hole, Euclid's lemma and the Extended Greatest Common Divisor algorithm. See below for what actually worked out.\n",
    "\n",
    "For $B_a$ and $B_b$ as two bus ids in this context (also their period), where $B_a$ is assumed to have $o_a$ offset (or \"phase\") and $B_b$ offset $o_b$, let $d_{a,b} = gcd(B_a, B_b)$\n",
    "\n",
    "By [Euclid's lemma](https://en.wikipedia.org/wiki/Euclid%27s_lemma), there exist integers $N_a, N_b$ such that $N_a ⋅ B_a - N_b ⋅ B_b = c$\n",
    "\n",
    "We are looking for $m, n$ so that $m⋅B_a − o_a = n⋅B_b − o_b => m⋅B_a − n⋅B_b = o_a − o_b$ $(1)$. Using Euclid's extended algorithm, we can find $s, t$ so that $s⋅B_a + t⋅B_b = gcd(B_a, B_b)$ $(2)$. Assuming $mod(o_a - o_b, g_{a,b}) = 0$ (there exists a solution), let $z = \\frac{o_a - o_b}{g_{a,b}}$, multiply $(2)$ with it to get $(1)$ as $m = z⋅s$ and $n = −z⋅t$"
   ]
  },
  {
   "cell_type": "code",
   "execution_count": 12,
   "metadata": {},
   "outputs": [],
   "source": [
    "def extended_gcd(a, b):\n",
    "    \"\"\"Extended Greatest Common Divisor Algorithm\n",
    "\n",
    "    Returns:\n",
    "        gcd: The greatest common divisor of a and b.\n",
    "        s, t: Coefficients such that s*a + t*b = gcd\n",
    "\n",
    "    Reference:\n",
    "        https://en.wikipedia.org/wiki/Extended_Euclidean_algorithm#Pseudocode\n",
    "    \"\"\"\n",
    "    old_r, r = a, b\n",
    "    old_s, s = 1, 0\n",
    "    old_t, t = 0, 1\n",
    "    while r:\n",
    "        quotient, remainder = divmod(old_r, r)\n",
    "        old_r, r = r, remainder\n",
    "        old_s, s = s, old_s - quotient * s\n",
    "        old_t, t = t, old_t - quotient * t\n",
    "\n",
    "    return old_r, old_s, old_t\n",
    "\n",
    "\n",
    "def combine_phased_schedules(a_period, a_phase, b_period, b_phase):\n",
    "    gcd, s, t = extended_gcd(a_period, b_period)\n",
    "    phase_difference = a_phase - b_phase\n",
    "    pd_mult, pd_remainder = divmod(phase_difference, gcd)\n",
    "    if pd_remainder:\n",
    "        raise ValueError(\"Schedules never synchronize\")\n",
    "    combined_period = a_period // gcd * b_period\n",
    "    combined_phase = (a_phase - s * pd_mult * a_period) % combined_period\n",
    "    return combined_period, combined_phase\n",
    "\n",
    "\n",
    "def schedule_alignment(id_a, id_b):\n",
    "    a_period, a_offset = id_a\n",
    "    b_period, b_offset = id_b\n",
    "    \"\"\"Where the arrows first align, where green starts shifted by advantage\"\"\"\n",
    "    period, phase = combine_phased_schedules(a_period, a_offset % a_period,\n",
    "                                             b_period, b_offset % b_period)\n",
    "    print(period, -phase % period)\n",
    "    return (period, -phase % period)"
   ]
  },
  {
   "cell_type": "markdown",
   "metadata": {},
   "source": [
    "Even I can't decipher this frenetic debugging:"
   ]
  },
  {
   "cell_type": "code",
   "execution_count": 13,
   "metadata": {},
   "outputs": [
    {
     "name": "stdout",
     "output_type": "stream",
     "text": [
      "[(29, 0), (41, 19), (661, 29), (13, 42), (17, 43), (23, 52), (521, 60), (37, 66), (19, 79)]\n",
      "1189 145\n",
      "8593 8564\n",
      "10217077 2491999\n",
      "391 178\n",
      "19277 18175\n",
      "7537307 5668540\n",
      "77009245991639 59872140247540\n",
      "1463175673841141 864238811652128\n",
      "(1463175673841141, 864238811652128)\n"
     ]
    }
   ],
   "source": [
    "# print(schedule_alignment(ids[0], ids[1]))\n",
    "# print(schedule_alignment(ids[2], ids[3]))\n",
    "# print(schedule_alignment((91, 77), (1829, 645)))\n",
    "# print(schedule_alignment((166439, 96292), ids[4]))\n",
    "\n",
    "# print(reduce(lambda a, b: schedule_alignment(a, b), ids))\n",
    "# print_schedule(1068781, ids)\n",
    "\n",
    "# print(schedule_alignment(166439, 98357, 19, 7))\n",
    "# idx = [0, 1, 2, 3, 4]\n",
    "# print_schedule(3162341+1068781, np.array(ids)[idx])\n",
    "# 2093560\n",
    "\n",
    "earliest, ids = process_data(inputdata)\n",
    "print(ids)\n",
    "\n",
    "print(\n",
    "    schedule_alignment(\n",
    "        schedule_alignment(\n",
    "            schedule_alignment(\n",
    "                schedule_alignment(\n",
    "                    (29, 0), (41, 19)),\n",
    "                schedule_alignment(\n",
    "                    (661, 29), (13, 42))),\n",
    "            schedule_alignment(\n",
    "                schedule_alignment(\n",
    "                    (17, 43), (23, 52)),\n",
    "                schedule_alignment(\n",
    "                    (521, 60), (37, 66)))),\n",
    "        (19, 79)))"
   ]
  },
  {
   "cell_type": "markdown",
   "metadata": {},
   "source": [
    "Admittedly, in the [solution megathread](https://redd.it/kc4njx), and there's no denying the impact of the appropriate mathematical hint. The above attempts were thrown aside and the solution worked fairly quickly."
   ]
  },
  {
   "cell_type": "code",
   "execution_count": 14,
   "metadata": {},
   "outputs": [],
   "source": [
    "def chinese_remainder(n, a):\n",
    "    sum = 0\n",
    "    prod = reduce(lambda a, b: a*b, n)\n",
    "    for n_i, a_i in zip(n, a):\n",
    "        p = prod // n_i\n",
    "        sum += a_i * mul_inv(p, n_i) * p\n",
    "    return sum % prod\n",
    "\n",
    "\n",
    "def mul_inv(a, b):\n",
    "    b0 = b\n",
    "    x0, x1 = 0, 1\n",
    "    if b == 1:\n",
    "        return 1\n",
    "    while a > 1:\n",
    "        q = a // b\n",
    "        a, b = b, a % b\n",
    "        x0, x1 = x1 - q * x0, x0\n",
    "    if x1 < 0:\n",
    "        x1 += b0\n",
    "    return x1\n",
    "\n",
    "\n",
    "def offset_errors(time, ids):\n",
    "    return [(0, id) if (time % id) == o\n",
    "            else (((time % id) + o) % id, id)\n",
    "            for id, o in ids]"
   ]
  },
  {
   "cell_type": "markdown",
   "metadata": {},
   "source": [
    "Here things are starting to look more sensible:"
   ]
  },
  {
   "cell_type": "code",
   "execution_count": 15,
   "metadata": {},
   "outputs": [
    {
     "name": "stdout",
     "output_type": "stream",
     "text": [
      "[(0, 29), (0, 41), (0, 661), (6, 13), (1, 17), (12, 23), (0, 521), (21, 37), (0, 19)]\n",
      "1249285041610323\n"
     ]
    }
   ],
   "source": [
    "print(offset_errors(864238811652128, ids))\n",
    "\n",
    "print(chinese_remainder([id for id, o in ids], [o for id, o in ids]))\n",
    "\n",
    "# print_schedule(864238811652128, ids)\n",
    "# for t in count(0, max(ids)[0]):\n",
    "#     #print_schedule(t, ids)\n",
    "#     wtimes_ids = waiting_times(t, ids)\n",
    "#     errors = [o - t for t, o in zip([wtime for wtime, id in wtimes_ids],\n",
    "#                                     [o for id, o in ids])]\n",
    "#     if sum([abs(e) for e in errors]) == 0:\n",
    "#         print(errors)\n",
    "#         print_schedule(t, ids)\n",
    "#         break"
   ]
  },
  {
   "cell_type": "code",
   "execution_count": 16,
   "metadata": {},
   "outputs": [
    {
     "name": "stdout",
     "output_type": "stream",
     "text": [
      "chinese remainder: 1068781\n",
      "[(0, 7), (0, 13), (0, 59), (0, 31), (0, 19)]\n"
     ]
    }
   ],
   "source": [
    "earliest, ids_os = process_data(testdata)\n",
    "# print(ids_os)\n",
    "ids = [id for id, _ in ids_os]\n",
    "os_neg = [-o for _, o in ids_os]\n",
    "print(f'chinese remainder: {chinese_remainder(ids, os_neg)}')\n",
    "# print(1068781 % ids_os[3][0])\n",
    "print(offset_errors(1068781, ids_os))"
   ]
  },
  {
   "cell_type": "code",
   "execution_count": 17,
   "metadata": {},
   "outputs": [
    {
     "name": "stdout",
     "output_type": "stream",
     "text": [
      "chinese remainder: 213890632230818\n",
      "[(0, 29), (0, 41), (0, 661), (0, 13), (0, 17), (0, 23), (0, 521), (0, 37), (0, 19)]\n"
     ]
    }
   ],
   "source": [
    "earliest, ids_os = process_data(inputdata)\n",
    "ids = [id for id, _ in ids_os]\n",
    "os_neg = [-o for _, o in ids_os]\n",
    "print(f'chinese remainder: {chinese_remainder(ids, os_neg)}')\n",
    "print(offset_errors(213890632230818, ids_os))"
   ]
  },
  {
   "cell_type": "code",
   "execution_count": 18,
   "metadata": {},
   "outputs": [
    {
     "data": {
      "text/html": [
       "\n",
       "<p>Your puzzle answer was <code>213890632230818</code>.</p><p class=\"day-success\">Both parts of this puzzle are complete! They provide two gold stars: **</p>\n",
       "<p>At this point, all that is left is for you to <a href=\"/2020\">admire your Advent calendar</a>.</p>\n",
       "<p>If you still want to see it, you can <a href=\"13/input\" target=\"_blank\">get your puzzle input</a>.</p>\n",
       "<p>You can also <span class=\"share\">[Share<span class=\"share-content\">on\n",
       "  <a href=\"https://twitter.com/intent/tweet?text=I%27ve+completed+%22Shuttle+Search%22+%2D+Day+13+%2D+Advent+of+Code+2020&amp;url=https%3A%2F%2Fadventofcode%2Ecom%2F2020%2Fday%2F13&amp;related=ericwastl&amp;hashtags=AdventOfCode\" target=\"_blank\">Twitter</a>\n",
       "  <a href=\"javascript:void(0);\" onclick=\"var mastodon_instance=prompt('Mastodon Instance / Server Name?'); if(typeof mastodon_instance==='string' && mastodon_instance.length){this.href='https://'+mastodon_instance+'/share?text=I%27ve+completed+%22Shuttle+Search%22+%2D+Day+13+%2D+Advent+of+Code+2020+%23AdventOfCode+https%3A%2F%2Fadventofcode%2Ecom%2F2020%2Fday%2F13'}else{return false;}\" target=\"_blank\">Mastodon</a\n",
       "></span>]</span> this puzzle.</p>\n"
      ],
      "text/plain": [
       "<IPython.core.display.HTML object>"
      ]
     },
     "execution_count": 18,
     "metadata": {},
     "output_type": "execute_result"
    }
   ],
   "source": [
    "HTML(downloaded['part2_footer'])"
   ]
  }
 ],
 "metadata": {
  "interpreter": {
   "hash": "1bc2c3908c007cf9ce21a098f93b8bf6135208cc693d7eb2db76831745e909df"
  },
  "kernelspec": {
   "display_name": "Python 3.8.10 64-bit ('venv': venv)",
   "name": "python3"
  },
  "language_info": {
   "codemirror_mode": {
    "name": "ipython",
    "version": 3
   },
   "file_extension": ".py",
   "mimetype": "text/x-python",
   "name": "python",
   "nbconvert_exporter": "python",
   "pygments_lexer": "ipython3",
   "version": "3.8.10"
  },
  "orig_nbformat": 2
 },
 "nbformat": 4,
 "nbformat_minor": 2
}

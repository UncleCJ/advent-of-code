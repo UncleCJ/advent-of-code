{
 "cells": [
  {
   "cell_type": "markdown",
   "metadata": {},
   "source": [
    "# Day 24: Lobby Layout\n",
    "\n",
    "[*Advent of Code 2020 day 24*](https://adventofcode.com/2020/day/24) and [*solution megathread*](https://redd.it/kj96iw)\n",
    "\n",
    "[![nbviewer](https://raw.githubusercontent.com/jupyter/design/master/logos/Badges/nbviewer_badge.svg)](https://nbviewer.jupyter.org/github/UncleCJ/advent-of-code/blob/cj/2020/24/code.ipynb) [![Binder](https://mybinder.org/badge_logo.svg)](https://mybinder.org/v2/gh/UncleCJ/advent-of-code/cj?filepath=2020%2F24%2Fcode.ipynb)"
   ]
  },
  {
   "cell_type": "code",
   "execution_count": 1,
   "metadata": {},
   "outputs": [
    {
     "name": "stdout",
     "output_type": "stream",
     "text": [
      "Writing 'downloaded' (dict) to file 'downloaded'.\n"
     ]
    }
   ],
   "source": [
    "from IPython.display import HTML\n",
    "import sys\n",
    "sys.path.append('../../')\n",
    "import common\n",
    "\n",
    "downloaded = common.refresh()\n",
    "%store downloaded >downloaded"
   ]
  },
  {
   "cell_type": "markdown",
   "metadata": {},
   "source": [
    "## Part One"
   ]
  },
  {
   "cell_type": "code",
   "execution_count": 2,
   "metadata": {},
   "outputs": [
    {
     "data": {
      "text/html": [
       "<h2>--- Day 24: Lobby Layout ---</h2><p>Your raft makes it to the tropical island; it turns out that the small crab was an excellent navigator. You make your way to the resort.</p>\n",
       "<p>As you enter the lobby, you discover a small problem: the floor is being renovated. You can't even reach the check-in desk until they've finished installing the <em>new tile floor</em>.</p>\n",
       "<p>The tiles are all <em>hexagonal</em>; they need to be arranged in a <a href=\"https://en.wikipedia.org/wiki/Hexagonal_tiling\">hex grid</a> with a very specific color pattern. Not in the mood to wait, you offer to help figure out the pattern.</p>\n",
       "<p>The tiles are all <em>white</em> on one side and <em>black</em> on the other. They start with the white side facing up. The lobby is large enough to fit whatever pattern might need to appear there.</p>\n",
       "<p>A member of the renovation crew gives you a <em>list of the tiles that need to be flipped over</em> (your puzzle input). Each line in the list identifies a single tile that needs to be flipped by giving a series of steps starting from a <em>reference tile</em> in the very center of the room. (Every line starts from the same reference tile.)</p>\n",
       "<p>Because the tiles are hexagonal, every tile has <em>six neighbors</em>: east, southeast, southwest, west, northwest, and northeast. These directions are given in your list, respectively, as <code>e</code>, <code>se</code>, <code>sw</code>, <code>w</code>, <code>nw</code>, and <code>ne</code>. A tile is identified by a series of these directions with <em>no delimiters</em>; for example, <code>esenee</code> identifies the tile you land on if you start at the reference tile and then move one tile east, one tile southeast, one tile northeast, and one tile east.</p>\n",
       "<p>Each time a tile is identified, it flips from white to black or from black to white. Tiles might be flipped more than once. For example, a line like <code>esew</code> flips a tile immediately adjacent to the reference tile, and a line like <code>nwwswee</code> flips the reference tile itself.</p>\n",
       "<p>Here is a larger example:</p>\n",
       "<pre><code>sesenwnenenewseeswwswswwnenewsewsw\n",
       "neeenesenwnwwswnenewnwwsewnenwseswesw\n",
       "seswneswswsenwwnwse\n",
       "nwnwneseeswswnenewneswwnewseswneseene\n",
       "swweswneswnenwsewnwneneseenw\n",
       "eesenwseswswnenwswnwnwsewwnwsene\n",
       "sewnenenenesenwsewnenwwwse\n",
       "wenwwweseeeweswwwnwwe\n",
       "wsweesenenewnwwnwsenewsenwwsesesenwne\n",
       "neeswseenwwswnwswswnw\n",
       "nenwswwsewswnenenewsenwsenwnesesenew\n",
       "enewnwewneswsewnwswenweswnenwsenwsw\n",
       "sweneswneswneneenwnewenewwneswswnese\n",
       "swwesenesewenwneswnwwneseswwne\n",
       "enesenwswwswneneswsenwnewswseenwsese\n",
       "wnwnesenesenenwwnenwsewesewsesesew\n",
       "nenewswnwewswnenesenwnesewesw\n",
       "eneswnwswnwsenenwnwnwwseeswneewsenese\n",
       "neswnwewnwnwseenwseesewsenwsweewe\n",
       "wseweeenwnesenwwwswnew\n",
       "</code></pre>\n",
       "<p>In the above example, 10 tiles are flipped once (to black), and 5 more are flipped twice (to black, then back to white). After all of these instructions have been followed, a total of <em><code>10</code></em> tiles are <em>black</em>.</p>\n",
       "<p>Go through the renovation crew's list and determine which tiles they need to flip. After all of the instructions have been followed, <em>how many tiles are left with the black side up?</em></p>\n"
      ],
      "text/plain": [
       "<IPython.core.display.HTML object>"
      ]
     },
     "execution_count": 2,
     "metadata": {},
     "output_type": "execute_result"
    }
   ],
   "source": [
    "HTML(downloaded['part1'])"
   ]
  },
  {
   "cell_type": "markdown",
   "metadata": {},
   "source": [
    "## Boilerplate\n",
    "\n",
    "Let's try using [pycodestyle_magic](https://github.com/mattijn/pycodestyle_magic) with pycodestyle (flake8 stopped working for me in VS Code Jupyter). Now how does type checking work?"
   ]
  },
  {
   "cell_type": "code",
   "execution_count": 3,
   "metadata": {},
   "outputs": [],
   "source": [
    "%load_ext pycodestyle_magic"
   ]
  },
  {
   "cell_type": "code",
   "execution_count": 4,
   "metadata": {},
   "outputs": [],
   "source": [
    "%pycodestyle_on"
   ]
  },
  {
   "cell_type": "code",
   "execution_count": 5,
   "metadata": {},
   "outputs": [],
   "source": [
    "testdata = \"\"\"sesenwnenenewseeswwswswwnenewsewsw\n",
    "neeenesenwnwwswnenewnwwsewnenwseswesw\n",
    "seswneswswsenwwnwse\n",
    "nwnwneseeswswnenewneswwnewseswneseene\n",
    "swweswneswnenwsewnwneneseenw\n",
    "eesenwseswswnenwswnwnwsewwnwsene\n",
    "sewnenenenesenwsewnenwwwse\n",
    "wenwwweseeeweswwwnwwe\n",
    "wsweesenenewnwwnwsenewsenwwsesesenwne\n",
    "neeswseenwwswnwswswnw\n",
    "nenwswwsewswnenenewsenwsenwnesesenew\n",
    "enewnwewneswsewnwswenweswnenwsenwsw\n",
    "sweneswneswneneenwnewenewwneswswnese\n",
    "swwesenesewenwneswnwwneseswwne\n",
    "enesenwswwswneneswsenwnewswseenwsese\n",
    "wnwnesenesenenwwnenwsewesewsesesew\n",
    "nenewswnwewswnenesenwnesewesw\n",
    "eneswnwswnwsenenwnwnwwseeswneewsenese\n",
    "neswnwewnwnwseenwseesewsenwsweewe\n",
    "wseweeenwnesenwwwswnew\"\"\".splitlines()\n",
    "\n",
    "inputdata = downloaded['input'].splitlines()"
   ]
  },
  {
   "cell_type": "code",
   "execution_count": 6,
   "metadata": {},
   "outputs": [],
   "source": [
    "from enum import Enum\n",
    "\n",
    "\n",
    "class Direction(Enum):\n",
    "    def __repr__(self):\n",
    "        return self.name\n",
    "\n",
    "    E = (+1, -1, 0)\n",
    "    NE = (+1, 0, -1)\n",
    "    NW = (0, +1, -1)\n",
    "    W = (-1, +1, 0)\n",
    "    SW = (-1, 0, +1)\n",
    "    SE = (0, -1, +1)\n",
    "\n",
    "\n",
    "def parse(steps):\n",
    "    if len(steps) == 0:\n",
    "        return\n",
    "    if steps[0] in {'s', 'n'} and len(steps) > 2:\n",
    "        return [Direction[steps[0:2].upper()]] + parse(steps[2:])\n",
    "    elif steps[0] in {'e', 'w'} and len(steps) > 1:\n",
    "        return [Direction[steps[0].upper()]] + parse(steps[1:])\n",
    "    else:\n",
    "        return [Direction[steps.upper()]]\n",
    "\n",
    "\n",
    "class CubeCoordinate(object):\n",
    "    def __init__(self, cube):\n",
    "        (self.x, self.y, self.z) = cube\n",
    "\n",
    "    def __repr__(self):\n",
    "        return f'({self.x}, {self.y}, {self.z})'\n",
    "\n",
    "    def value(self):\n",
    "        return (self.x, self.y, self.z)\n",
    "\n",
    "    def to_oddr(self):\n",
    "        col = self.x + (self.z - (self.z & 1)) // 2\n",
    "        row = self.z\n",
    "        return (col, row)\n",
    "\n",
    "    def from_oddr(hex):\n",
    "        (hex_col, hex_row) = hex\n",
    "        cube_x = hex_col - (hex_row - (hex_row & 1)) // 2\n",
    "        cube_z = hex_row\n",
    "        cube_y = -cube_x - cube_z\n",
    "        return CubeCoordinate((cube_x, cube_y, cube_z))\n",
    "\n",
    "    def add(self, cube):\n",
    "        (cube_x, cube_y, cube_z) = cube\n",
    "        cube_sum = (self.x + cube_x, self.y + cube_y, self.z + cube_z)\n",
    "        return CubeCoordinate(cube_sum)\n",
    "\n",
    "    def from_directions(self, dirs):\n",
    "        next_coord = self.add(dirs[0].value)\n",
    "        if len(dirs) > 1:\n",
    "            return next_coord.from_directions(dirs[1:])\n",
    "        else:\n",
    "            return next_coord\n",
    "\n",
    "\n",
    "class HexMatrix(object):\n",
    "    def __init__(self):\n",
    "        self.tiles = [[True]]\n",
    "        self.radius = 0\n",
    "        self.origin = CubeCoordinate.from_oddr((0, 0))\n",
    "        self.black_adjacent = [[0, 0, 0], [0, 0, 0], [0, 0, 0]]\n",
    "\n",
    "    def __repr__(self):\n",
    "        output = []\n",
    "        for i, line in enumerate(self.tiles):\n",
    "            line_str = ['O' if t else 'X' for t in line]\n",
    "            if i & 1:\n",
    "                output.append(' ' + ' '.join(line_str))\n",
    "            else:\n",
    "                output.append(' '.join(line_str))\n",
    "        return '\\n'.join(output)\n",
    "\n",
    "    def repr_black_adjacent(self):\n",
    "        output = []\n",
    "        for i, line in enumerate(self.black_adjacent):\n",
    "            line_str = ['-' if not t else str(t) for t in line]\n",
    "            if not i & 1:\n",
    "                output.append(' ' + ' '.join(line_str))\n",
    "            else:\n",
    "                output.append(' '.join(line_str))\n",
    "        return '\\n'.join(output)\n",
    "\n",
    "    def double(self):\n",
    "        # print(f'doubling: {self.radius}')\n",
    "        if self.radius == 0:\n",
    "            new_radius = 1\n",
    "        else:\n",
    "            new_radius = self.radius * 2\n",
    "\n",
    "        self.origin = CubeCoordinate.from_oddr((new_radius, new_radius))\n",
    "\n",
    "        new_tiles = [[True\n",
    "                      for x in range(new_radius * 2 + 1)]\n",
    "                     for y in range(new_radius * 2 + 1)]\n",
    "\n",
    "        for row in range(len(self.tiles)):\n",
    "            new_tiles[\n",
    "                self.radius + row][\n",
    "                self.radius:(self.radius * 3 + 1)\n",
    "                ] = self.tiles[row]\n",
    "\n",
    "        self.radius = new_radius\n",
    "        self.tiles = new_tiles\n",
    "\n",
    "    def flip(self, cube):\n",
    "        # print(f'flipping: {cube}')\n",
    "        cube_radius = max(map(abs, (cube.x, cube.y, cube.z)))\n",
    "        while cube_radius >= self.radius:\n",
    "            self.double()\n",
    "\n",
    "        (col, row) = self.origin.add(cube.value()).to_oddr()\n",
    "\n",
    "        self.tiles[row][col] ^= True\n",
    "        # print(f'flipped: {cube}\\n{self}')\n",
    "\n",
    "    def flip_hex(self, hex):\n",
    "        (col, row) = hex\n",
    "        # (o_col, o_row) = self.origin.to_oddr()\n",
    "        # self.flip(CubeCoordinate.from_oddr((col - o_col, row - o_row)))\n",
    "        self.flip(CubeCoordinate.from_oddr((col, row)))\n",
    "\n",
    "    def update_black_adjacent(self):\n",
    "        adjacent_oddr = [(0, -1), (+1, -1),\n",
    "                         (-1, 0), (+1, 0),\n",
    "                         (0, +1), (+1, +1)]\n",
    "        adjacent_evenr = [(-1, -1), (0, -1),\n",
    "                          (-1, 0), (+1, 0),\n",
    "                          (-1, +1), (0, +1)]\n",
    "\n",
    "        self.black_adjacent = [[0\n",
    "                                for x in range(len(self.tiles) + 2)]\n",
    "                               for y in range(len(self.tiles) + 2)]\n",
    "        for row in range(len(self.tiles)):\n",
    "            for col in range(len(self.tiles[0])):\n",
    "                if not self.tiles[row][col]:\n",
    "                    if row & 1:\n",
    "                        adjacent = adjacent_oddr\n",
    "                    else:\n",
    "                        adjacent = adjacent_evenr\n",
    "\n",
    "                    for adj_col, adj_row in adjacent:\n",
    "                        self.black_adjacent[\n",
    "                            row + adj_row + 1][\n",
    "                            col + adj_col + 1] += 1\n",
    "\n",
    "    def next_day(self):\n",
    "        self.update_black_adjacent()\n",
    "        # print(self.repr_black_adjacent())\n",
    "        previous_tiles = [line[:] for line in self.tiles]\n",
    "        (previous_o_col, previous_o_row) = self.origin.to_oddr()\n",
    "        for col in range(len(self.black_adjacent[0])):\n",
    "            if self.black_adjacent[0][col] == 2:\n",
    "                self.flip_hex((col - 1 - previous_o_col, -1 - previous_o_row))\n",
    "            if self.black_adjacent[-1][col] == 2:\n",
    "                self.flip_hex((col - 1 - previous_o_col,\n",
    "                               len(self.black_adjacent) - previous_o_row))\n",
    "        for row in range(1, len(self.black_adjacent) - 1):\n",
    "            if self.black_adjacent[row][0] == 2:\n",
    "                self.flip_hex((-1 - previous_o_col,\n",
    "                               row - 1 - previous_o_row))\n",
    "            if self.black_adjacent[row][-1] == 2:\n",
    "                self.flip_hex((len(self.black_adjacent[0]) - previous_o_col,\n",
    "                               row - 1 - previous_o_row))\n",
    "\n",
    "        for row in range(1, len(self.black_adjacent) - 1):\n",
    "            for col in range(1, len(self.black_adjacent[0]) - 1):\n",
    "                if not previous_tiles[row - 1][col - 1]:\n",
    "                    b_adjacent = self.black_adjacent[row][col]\n",
    "                    if b_adjacent == 0 or b_adjacent > 2:\n",
    "                        # print(f'flipping black row {row - 1}'\n",
    "                        #       f'column {col - 1}')\n",
    "                        self.flip_hex((col - 1 - previous_o_col,\n",
    "                                       row - 1 - previous_o_row))\n",
    "                else:\n",
    "                    if self.black_adjacent[row][col] == 2:\n",
    "                        # print(f'flipping white row {row - 1}'\n",
    "                        #       f'column {col - 1}')\n",
    "                        self.flip_hex((col - 1 - previous_o_col,\n",
    "                                       row - 1 - previous_o_row))"
   ]
  },
  {
   "cell_type": "markdown",
   "metadata": {},
   "source": [
    "### Debugging..."
   ]
  },
  {
   "cell_type": "code",
   "execution_count": 7,
   "metadata": {},
   "outputs": [
    {
     "name": "stdout",
     "output_type": "stream",
     "text": [
      "X\n",
      "\n",
      "X X X\n",
      " X O X\n",
      "X X X\n",
      "\n",
      "O O O O O\n",
      " O X X X O\n",
      "O X O X O\n",
      " O X X X O\n",
      "O O O O O\n",
      "\n",
      "O O O O O O O O O\n",
      " O O O O O O O O O\n",
      "O O O O O O O O O\n",
      " O O O X X X O O O\n",
      "O O O X O X O O O\n",
      " O O O X X X O O O\n",
      "O O O O O O O O O\n",
      " O O O O O O O O O\n",
      "O O O O O O O O O\n",
      "\n",
      "O O O O O O O O O O O O O O O O O\n",
      " O O O O O O O O O O O O O O O O O\n",
      "O O O O O O O O O O O O O O O O O\n",
      " O O O O O O O O O O O O O O O O O\n",
      "O O O O O O O O O O O O O O O O O\n",
      " O O O O O O O O O O O O O O O O O\n",
      "O O O O O O O O O O O O O O O O O\n",
      " O O O O O O O X X X O O O O O O O\n",
      "O O O O O O O X O X O O O O O O O\n",
      " O O O O O O O X X X O O O O O O O\n",
      "O O O O O O O O O O O O O O O O O\n",
      " O O O O O O O O O O O O O O O O O\n",
      "O O O O O O O O O O O O O O O O O\n",
      " O O O O O O O O O O O O O O O O O\n",
      "O O O O O O O O O O O O O O O O O\n",
      " O O O O O O O O O O O O O O O O O\n",
      "O O O O O O O O O O O O O O O O O\n"
     ]
    }
   ],
   "source": [
    "a = HexMatrix()\n",
    "a.tiles[0][0] = False\n",
    "print(a)\n",
    "a.double()\n",
    "print()\n",
    "a.tiles = [[False, False, False], [False, True, False], [False, False, False]]\n",
    "print(a)\n",
    "a.double()\n",
    "print()\n",
    "print(a)\n",
    "a.double()\n",
    "print()\n",
    "print(a)\n",
    "a.double()\n",
    "print()\n",
    "print(a)"
   ]
  },
  {
   "cell_type": "code",
   "execution_count": 8,
   "metadata": {},
   "outputs": [
    {
     "name": "stdout",
     "output_type": "stream",
     "text": [
      "(1, -1, 0)\n"
     ]
    }
   ],
   "source": [
    "print(CubeCoordinate(Direction['NE'].value).add(Direction['SE'].value))"
   ]
  },
  {
   "cell_type": "code",
   "execution_count": 9,
   "metadata": {},
   "outputs": [
    {
     "name": "stdout",
     "output_type": "stream",
     "text": [
      "sesenwnenenewseeswwswswwnenewsewsw\n",
      "(0, 0, 0)\n"
     ]
    }
   ],
   "source": [
    "print(testdata[0])\n",
    "directions = parse('nwwswee')\n",
    "origin = CubeCoordinate((0, 0, 0))\n",
    "print(origin.from_directions(directions))"
   ]
  },
  {
   "cell_type": "code",
   "execution_count": 10,
   "metadata": {},
   "outputs": [
    {
     "name": "stdout",
     "output_type": "stream",
     "text": [
      "10\n"
     ]
    }
   ],
   "source": [
    "origin = CubeCoordinate((0, 0, 0))\n",
    "tile_floor = HexMatrix()\n",
    "for direction_str in testdata:\n",
    "    directions = parse(direction_str)\n",
    "    cube = origin.from_directions(directions)\n",
    "    tile_floor.flip(cube)\n",
    "\n",
    "print(len(tile_floor.tiles)**2 - sum(map(sum, tile_floor.tiles)))"
   ]
  },
  {
   "cell_type": "code",
   "execution_count": 11,
   "metadata": {
    "tags": []
   },
   "outputs": [
    {
     "name": "stdout",
     "output_type": "stream",
     "text": [
      "269\n"
     ]
    }
   ],
   "source": [
    "origin = CubeCoordinate((0, 0, 0))\n",
    "tile_floor = HexMatrix()\n",
    "for direction_str in inputdata:\n",
    "    directions = parse(direction_str)\n",
    "    cube = origin.from_directions(directions)\n",
    "    tile_floor.flip(cube)\n",
    "\n",
    "print(len(tile_floor.tiles)**2\n",
    "      - sum(map(sum, tile_floor.tiles)))"
   ]
  },
  {
   "cell_type": "code",
   "execution_count": 12,
   "metadata": {},
   "outputs": [
    {
     "data": {
      "text/html": [
       "\n",
       "<p>Your puzzle answer was <code>269</code>.</p>"
      ],
      "text/plain": [
       "<IPython.core.display.HTML object>"
      ]
     },
     "execution_count": 12,
     "metadata": {},
     "output_type": "execute_result"
    }
   ],
   "source": [
    "HTML(downloaded['part1_footer'])"
   ]
  },
  {
   "cell_type": "markdown",
   "metadata": {},
   "source": [
    "## Part Two"
   ]
  },
  {
   "cell_type": "code",
   "execution_count": 13,
   "metadata": {},
   "outputs": [
    {
     "data": {
      "text/html": [
       "<h2 id=\"part2\">--- Part Two ---</h2><p>The tile floor in the lobby is meant to be a <span title=\"I need one of these!\">living art exhibit</span>. Every day, the tiles are all flipped according to the following rules:</p>\n",
       "<ul>\n",
       "<li>Any <em>black</em> tile with <em>zero</em> or <em>more than 2</em> black tiles immediately adjacent to it is flipped to <em>white</em>.</li>\n",
       "<li>Any <em>white</em> tile with <em>exactly 2</em> black tiles immediately adjacent to it is flipped to <em>black</em>.</li>\n",
       "</ul>\n",
       "<p>Here, <em>tiles immediately adjacent</em> means the six tiles directly touching the tile in question.</p>\n",
       "<p>The rules are applied <em>simultaneously</em> to every tile; put another way, it is first determined which tiles need to be flipped, then they are all flipped at the same time.</p>\n",
       "<p>In the above example, the number of black tiles that are facing up after the given number of days has passed is as follows:</p>\n",
       "<pre><code>Day 1: 15\n",
       "Day 2: 12\n",
       "Day 3: 25\n",
       "Day 4: 14\n",
       "Day 5: 23\n",
       "Day 6: 28\n",
       "Day 7: 41\n",
       "Day 8: 37\n",
       "Day 9: 49\n",
       "Day 10: 37\n",
       "\n",
       "Day 20: 132\n",
       "Day 30: 259\n",
       "Day 40: 406\n",
       "Day 50: 566\n",
       "Day 60: 788\n",
       "Day 70: 1106\n",
       "Day 80: 1373\n",
       "Day 90: 1844\n",
       "Day 100: 2208\n",
       "</code></pre>\n",
       "<p>After executing this process a total of 100 times, there would be <em><code>2208</code></em> black tiles facing up.</p>\n",
       "<p><em>How many tiles will be black after 100 days?</em></p>\n"
      ],
      "text/plain": [
       "<IPython.core.display.HTML object>"
      ]
     },
     "execution_count": 13,
     "metadata": {},
     "output_type": "execute_result"
    }
   ],
   "source": [
    "HTML(downloaded['part2'])"
   ]
  },
  {
   "cell_type": "code",
   "execution_count": 14,
   "metadata": {},
   "outputs": [
    {
     "name": "stdout",
     "output_type": "stream",
     "text": [
      "Day 1: 15\n",
      "Day 2: 12\n",
      "Day 3: 25\n",
      "Day 4: 14\n",
      "Day 5: 23\n",
      "Day 6: 28\n",
      "Day 7: 41\n",
      "Day 8: 37\n",
      "Day 9: 49\n",
      "Day 10: 37\n",
      "Day 11: 55\n",
      "Day 12: 54\n",
      "Day 13: 69\n",
      "Day 14: 73\n",
      "Day 15: 84\n",
      "Day 16: 92\n",
      "Day 17: 88\n",
      "Day 18: 107\n",
      "Day 19: 113\n",
      "Day 20: 132\n",
      "Day 21: 133\n",
      "Day 22: 147\n",
      "Day 23: 134\n",
      "Day 24: 177\n",
      "Day 25: 170\n",
      "Day 26: 176\n",
      "Day 27: 221\n",
      "Day 28: 208\n",
      "Day 29: 207\n",
      "Day 30: 259\n",
      "Day 31: 277\n",
      "Day 32: 283\n",
      "Day 33: 270\n",
      "Day 34: 324\n",
      "Day 35: 326\n",
      "Day 36: 333\n",
      "Day 37: 345\n",
      "Day 38: 371\n",
      "Day 39: 380\n",
      "Day 40: 406\n",
      "Day 41: 439\n",
      "Day 42: 466\n",
      "Day 43: 449\n",
      "Day 44: 478\n",
      "Day 45: 529\n",
      "Day 46: 525\n",
      "Day 47: 570\n",
      "Day 48: 588\n",
      "Day 49: 576\n",
      "Day 50: 566\n",
      "Day 51: 636\n",
      "Day 52: 601\n",
      "Day 53: 667\n",
      "Day 54: 672\n",
      "Day 55: 735\n",
      "Day 56: 766\n",
      "Day 57: 723\n",
      "Day 58: 755\n",
      "Day 59: 805\n",
      "Day 60: 788\n",
      "Day 61: 844\n",
      "Day 62: 875\n",
      "Day 63: 908\n",
      "Day 64: 936\n",
      "Day 65: 994\n",
      "Day 66: 943\n",
      "Day 67: 1015\n",
      "Day 68: 1029\n",
      "Day 69: 1058\n",
      "Day 70: 1106\n",
      "Day 71: 1158\n",
      "Day 72: 1146\n",
      "Day 73: 1125\n",
      "Day 74: 1159\n",
      "Day 75: 1202\n",
      "Day 76: 1344\n",
      "Day 77: 1277\n",
      "Day 78: 1345\n",
      "Day 79: 1320\n",
      "Day 80: 1373\n",
      "Day 81: 1420\n",
      "Day 82: 1431\n",
      "Day 83: 1469\n",
      "Day 84: 1561\n",
      "Day 85: 1590\n",
      "Day 86: 1596\n",
      "Day 87: 1699\n",
      "Day 88: 1662\n",
      "Day 89: 1788\n",
      "Day 90: 1844\n",
      "Day 91: 1797\n",
      "Day 92: 1800\n",
      "Day 93: 1866\n",
      "Day 94: 1887\n",
      "Day 95: 1878\n",
      "Day 96: 2070\n",
      "Day 97: 1930\n",
      "Day 98: 2031\n",
      "Day 99: 2088\n",
      "Day 100: 2208\n"
     ]
    }
   ],
   "source": [
    "origin = CubeCoordinate((0, 0, 0))\n",
    "tile_floor = HexMatrix()\n",
    "for direction_str in testdata:\n",
    "    directions = parse(direction_str)\n",
    "    cube = origin.from_directions(directions)\n",
    "    tile_floor.flip(cube)\n",
    "\n",
    "for day in range(1, 101):\n",
    "    tile_floor.next_day()\n",
    "    count = (len(tile_floor.tiles)**2\n",
    "             - sum(map(sum, tile_floor.tiles)))\n",
    "    print(f'Day {day}: {count}')\n",
    "    # print(tile_floor)"
   ]
  },
  {
   "cell_type": "code",
   "execution_count": 15,
   "metadata": {
    "tags": []
   },
   "outputs": [
    {
     "name": "stdout",
     "output_type": "stream",
     "text": [
      "Day 1: 258\n",
      "Day 2: 254\n",
      "Day 3: 269\n",
      "Day 4: 301\n",
      "Day 5: 329\n",
      "Day 6: 315\n",
      "Day 7: 336\n",
      "Day 8: 314\n",
      "Day 9: 391\n",
      "Day 10: 347\n",
      "Day 11: 409\n",
      "Day 12: 417\n",
      "Day 13: 460\n",
      "Day 14: 427\n",
      "Day 15: 496\n",
      "Day 16: 479\n",
      "Day 17: 465\n",
      "Day 18: 552\n",
      "Day 19: 543\n",
      "Day 20: 553\n",
      "Day 21: 599\n",
      "Day 22: 623\n",
      "Day 23: 617\n",
      "Day 24: 696\n",
      "Day 25: 711\n",
      "Day 26: 698\n",
      "Day 27: 734\n",
      "Day 28: 725\n",
      "Day 29: 786\n",
      "Day 30: 819\n",
      "Day 31: 854\n",
      "Day 32: 844\n",
      "Day 33: 924\n",
      "Day 34: 896\n",
      "Day 35: 928\n",
      "Day 36: 970\n",
      "Day 37: 1050\n",
      "Day 38: 1035\n",
      "Day 39: 1114\n",
      "Day 40: 1108\n",
      "Day 41: 1126\n",
      "Day 42: 1187\n",
      "Day 43: 1147\n",
      "Day 44: 1230\n",
      "Day 45: 1247\n",
      "Day 46: 1265\n",
      "Day 47: 1353\n",
      "Day 48: 1369\n",
      "Day 49: 1350\n",
      "Day 50: 1413\n",
      "Day 51: 1437\n",
      "Day 52: 1460\n",
      "Day 53: 1575\n",
      "Day 54: 1528\n",
      "Day 55: 1624\n",
      "Day 56: 1633\n",
      "Day 57: 1679\n",
      "Day 58: 1739\n",
      "Day 59: 1802\n",
      "Day 60: 1730\n",
      "Day 61: 1848\n",
      "Day 62: 1818\n",
      "Day 63: 1925\n",
      "Day 64: 1849\n",
      "Day 65: 1915\n",
      "Day 66: 2007\n",
      "Day 67: 2098\n",
      "Day 68: 2045\n",
      "Day 69: 2160\n",
      "Day 70: 2201\n",
      "Day 71: 2344\n",
      "Day 72: 2304\n",
      "Day 73: 2413\n",
      "Day 74: 2355\n",
      "Day 75: 2524\n",
      "Day 76: 2389\n",
      "Day 77: 2486\n",
      "Day 78: 2637\n",
      "Day 79: 2612\n",
      "Day 80: 2646\n",
      "Day 81: 2797\n",
      "Day 82: 2717\n",
      "Day 83: 2818\n",
      "Day 84: 2878\n",
      "Day 85: 2815\n",
      "Day 86: 2942\n",
      "Day 87: 2967\n",
      "Day 88: 3102\n",
      "Day 89: 2973\n",
      "Day 90: 3156\n",
      "Day 91: 3206\n",
      "Day 92: 3282\n",
      "Day 93: 3339\n",
      "Day 94: 3376\n",
      "Day 95: 3433\n",
      "Day 96: 3446\n",
      "Day 97: 3512\n",
      "Day 98: 3586\n",
      "Day 99: 3589\n",
      "Day 100: 3667\n"
     ]
    }
   ],
   "source": [
    "origin = CubeCoordinate((0, 0, 0))\n",
    "tile_floor = HexMatrix()\n",
    "for direction_str in inputdata:\n",
    "    directions = parse(direction_str)\n",
    "    cube = origin.from_directions(directions)\n",
    "    tile_floor.flip(cube)\n",
    "\n",
    "for day in range(1, 101):\n",
    "    tile_floor.next_day()\n",
    "    count = (len(tile_floor.tiles)**2\n",
    "             - sum(map(sum, tile_floor.tiles)))\n",
    "    print(f'Day {day}: {count}')\n",
    "    # print(tile_floor)"
   ]
  },
  {
   "cell_type": "code",
   "execution_count": 16,
   "metadata": {},
   "outputs": [
    {
     "data": {
      "text/html": [
       "\n",
       "<p>Your puzzle answer was <code>3667</code>.</p><p class=\"day-success\">Both parts of this puzzle are complete! They provide two gold stars: **</p>\n",
       "<p>At this point, all that is left is for you to <a href=\"/2020\">admire your Advent calendar</a>.</p>\n",
       "<p>If you still want to see it, you can <a href=\"24/input\" target=\"_blank\">get your puzzle input</a>.</p>\n",
       "<p>You can also <span class=\"share\">[Share<span class=\"share-content\">on\n",
       "  <a href=\"https://twitter.com/intent/tweet?text=I%27ve+completed+%22Lobby+Layout%22+%2D+Day+24+%2D+Advent+of+Code+2020&amp;url=https%3A%2F%2Fadventofcode%2Ecom%2F2020%2Fday%2F24&amp;related=ericwastl&amp;hashtags=AdventOfCode\" target=\"_blank\">Twitter</a>\n",
       "  <a href=\"javascript:void(0);\" onclick=\"var mastodon_instance=prompt('Mastodon Instance / Server Name?'); if(typeof mastodon_instance==='string' && mastodon_instance.length){this.href='https://'+mastodon_instance+'/share?text=I%27ve+completed+%22Lobby+Layout%22+%2D+Day+24+%2D+Advent+of+Code+2020+%23AdventOfCode+https%3A%2F%2Fadventofcode%2Ecom%2F2020%2Fday%2F24'}else{return false;}\" target=\"_blank\">Mastodon</a\n",
       "></span>]</span> this puzzle.</p>\n"
      ],
      "text/plain": [
       "<IPython.core.display.HTML object>"
      ]
     },
     "execution_count": 16,
     "metadata": {},
     "output_type": "execute_result"
    }
   ],
   "source": [
    "HTML(downloaded['part2_footer'])"
   ]
  }
 ],
 "metadata": {
  "kernelspec": {
   "display_name": "Python 3",
   "language": "python",
   "name": "python3"
  },
  "language_info": {
   "codemirror_mode": {
    "name": "ipython",
    "version": 3
   },
   "file_extension": ".py",
   "mimetype": "text/x-python",
   "name": "python",
   "nbconvert_exporter": "python",
   "pygments_lexer": "ipython3",
   "version": "3.10.0"
  },
  "orig_nbformat": 2
 },
 "nbformat": 4,
 "nbformat_minor": 2
}

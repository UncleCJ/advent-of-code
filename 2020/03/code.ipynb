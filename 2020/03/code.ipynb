{
 "cells": [
  {
   "cell_type": "markdown",
   "metadata": {},
   "source": [
    "# Day 3: Toboggan Trajectory\n",
    "\n",
    "[*Advent of Code 2020 day 3*](https://adventofcode.com/2020/day/3) and [*solution megathread*](https://redd.it/k5qsrk)\n",
    "\n",
    "[![nbviewer](https://raw.githubusercontent.com/jupyter/design/master/logos/Badges/nbviewer_badge.svg)](https://nbviewer.jupyter.org/github/UncleCJ/advent-of-code/blob/cj/2020/03/code.ipynb) [![Binder](https://mybinder.org/badge_logo.svg)](https://mybinder.org/v2/gh/UncleCJ/advent-of-code/cj?filepath=2020%2F03%2Fcode.ipynb)"
   ]
  },
  {
   "cell_type": "code",
   "execution_count": 1,
   "metadata": {},
   "outputs": [
    {
     "name": "stdout",
     "output_type": "stream",
     "text": [
      "Writing 'downloaded' (dict) to file 'downloaded'.\n"
     ]
    }
   ],
   "source": [
    "from IPython.display import HTML\n",
    "import sys\n",
    "sys.path.append('../../')\n",
    "import common\n",
    "\n",
    "downloaded = common.refresh()\n",
    "%store downloaded >downloaded"
   ]
  },
  {
   "cell_type": "markdown",
   "metadata": {},
   "source": [
    "## Part One"
   ]
  },
  {
   "cell_type": "code",
   "execution_count": 2,
   "metadata": {},
   "outputs": [
    {
     "data": {
      "text/html": [
       "<h2>--- Day 3: Toboggan Trajectory ---</h2><p>With the toboggan login problems resolved, you set off toward the airport. While travel by toboggan might be easy, it's certainly not safe: there's <span title=\"It looks like the toboggan steering system even runs on Intcode! Good thing you don't have to modify it.\">very minimal steering</span> and the area is covered in trees. You'll need to see which angles will take you near the fewest trees.</p>\n",
       "<p>Due to the local geology, trees in this area only grow on exact integer coordinates in a grid. You make a map (your puzzle input) of the open squares (<code>.</code>) and trees (<code>#</code>) you can see. For example:</p>\n",
       "<pre><code>..##.......\n",
       "#...#...#..\n",
       ".#....#..#.\n",
       "..#.#...#.#\n",
       ".#...##..#.\n",
       "..#.##.....\n",
       ".#.#.#....#\n",
       ".#........#\n",
       "#.##...#...\n",
       "#...##....#\n",
       ".#..#...#.#\n",
       "</code></pre>\n",
       "<p>These aren't the only trees, though; due to something you read about once involving arboreal genetics and biome stability, the same pattern repeats to the right many times:</p>\n",
       "<pre><code><em>..##.......</em>..##.........##.........##.........##.........##.......  ---&gt;\n",
       "<em>#...#...#..</em>#...#...#..#...#...#..#...#...#..#...#...#..#...#...#..\n",
       "<em>.#....#..#.</em>.#....#..#..#....#..#..#....#..#..#....#..#..#....#..#.\n",
       "<em>..#.#...#.#</em>..#.#...#.#..#.#...#.#..#.#...#.#..#.#...#.#..#.#...#.#\n",
       "<em>.#...##..#.</em>.#...##..#..#...##..#..#...##..#..#...##..#..#...##..#.\n",
       "<em>..#.##.....</em>..#.##.......#.##.......#.##.......#.##.......#.##.....  ---&gt;\n",
       "<em>.#.#.#....#</em>.#.#.#....#.#.#.#....#.#.#.#....#.#.#.#....#.#.#.#....#\n",
       "<em>.#........#</em>.#........#.#........#.#........#.#........#.#........#\n",
       "<em>#.##...#...</em>#.##...#...#.##...#...#.##...#...#.##...#...#.##...#...\n",
       "<em>#...##....#</em>#...##....##...##....##...##....##...##....##...##....#\n",
       "<em>.#..#...#.#</em>.#..#...#.#.#..#...#.#.#..#...#.#.#..#...#.#.#..#...#.#  ---&gt;\n",
       "</code></pre>\n",
       "<p>You start on the open square (<code>.</code>) in the top-left corner and need to reach the bottom (below the bottom-most row on your map).</p>\n",
       "<p>The toboggan can only follow a few specific slopes (you opted for a cheaper model that prefers rational numbers); start by <em>counting all the trees</em> you would encounter for the slope <em>right 3, down 1</em>:</p>\n",
       "<p>From your starting position at the top-left, check the position that is right 3 and down 1. Then, check the position that is right 3 and down 1 from there, and so on until you go past the bottom of the map.</p>\n",
       "<p>The locations you'd check in the above example are marked here with <code><em>O</em></code> where there was an open square and <code><em>X</em></code> where there was a tree:</p>\n",
       "<pre><code>..##.........##.........##.........##.........##.........##.......  ---&gt;\n",
       "#..<em>O</em>#...#..#...#...#..#...#...#..#...#...#..#...#...#..#...#...#..\n",
       ".#....<em>X</em>..#..#....#..#..#....#..#..#....#..#..#....#..#..#....#..#.\n",
       "..#.#...#<em>O</em>#..#.#...#.#..#.#...#.#..#.#...#.#..#.#...#.#..#.#...#.#\n",
       ".#...##..#..<em>X</em>...##..#..#...##..#..#...##..#..#...##..#..#...##..#.\n",
       "..#.##.......#.<em>X</em>#.......#.##.......#.##.......#.##.......#.##.....  ---&gt;\n",
       ".#.#.#....#.#.#.#.<em>O</em>..#.#.#.#....#.#.#.#....#.#.#.#....#.#.#.#....#\n",
       ".#........#.#........<em>X</em>.#........#.#........#.#........#.#........#\n",
       "#.##...#...#.##...#...#.<em>X</em>#...#...#.##...#...#.##...#...#.##...#...\n",
       "#...##....##...##....##...#<em>X</em>....##...##....##...##....##...##....#\n",
       ".#..#...#.#.#..#...#.#.#..#...<em>X</em>.#.#..#...#.#.#..#...#.#.#..#...#.#  ---&gt;\n",
       "</code></pre>\n",
       "<p>In this example, traversing the map using this slope would cause you to encounter <code><em>7</em></code> trees.</p>\n",
       "<p>Starting at the top-left corner of your map and following a slope of right 3 and down 1, <em>how many trees would you encounter?</em></p>\n"
      ],
      "text/plain": [
       "<IPython.core.display.HTML object>"
      ]
     },
     "execution_count": 2,
     "metadata": {},
     "output_type": "execute_result"
    }
   ],
   "source": [
    "HTML(downloaded['part1'])"
   ]
  },
  {
   "cell_type": "markdown",
   "metadata": {},
   "source": [
    "## Boilerplate\n",
    "\n",
    "Let's try using [pycodestyle_magic](https://github.com/mattijn/pycodestyle_magic) with pycodestyle (flake8 stopped working for me in VS Code Jupyter). Now how does type checking work?"
   ]
  },
  {
   "cell_type": "code",
   "execution_count": 3,
   "metadata": {},
   "outputs": [],
   "source": [
    "%load_ext pycodestyle_magic"
   ]
  },
  {
   "cell_type": "code",
   "execution_count": 4,
   "metadata": {},
   "outputs": [],
   "source": [
    "%pycodestyle_on"
   ]
  },
  {
   "cell_type": "code",
   "execution_count": 5,
   "metadata": {},
   "outputs": [
    {
     "name": "stderr",
     "output_type": "stream",
     "text": [
      "1:13: W291 trailing whitespace\n"
     ]
    }
   ],
   "source": [
    "# testdata = \n",
    "\n",
    "inputdata = downloaded['input'].splitlines()"
   ]
  },
  {
   "cell_type": "code",
   "execution_count": 6,
   "metadata": {},
   "outputs": [
    {
     "name": "stdout",
     "output_type": "stream",
     "text": [
      "We have a 31 by 323 map, consisting of lines like this: ............#....#.............\n"
     ]
    }
   ],
   "source": [
    "width = len(inputdata[0])\n",
    "height = len(inputdata)\n",
    "print(f\"We have a {width} by {height} map, \" +\n",
    "      f\"consisting of lines like this: {inputdata[0]}\")\n",
    "\n",
    "\n",
    "def isTree(x: int, y: int) -> bool:\n",
    "    return inputdata[y][x % width] == '#'\n",
    "\n",
    "\n",
    "def evaluateTrajectory(xd: int, yd: int) -> int:\n",
    "    xloc, yloc, collisions = (0, 0, 0)\n",
    "    while yloc < height-1:\n",
    "        if isTree(xloc, yloc):\n",
    "            collisions += 1\n",
    "            # print(\"Hit a tree at {},{}!\".format(xloc, yloc))\n",
    "        xloc, yloc = (xloc + xd, yloc + yd)\n",
    "    return collisions"
   ]
  },
  {
   "cell_type": "code",
   "execution_count": 7,
   "metadata": {},
   "outputs": [
    {
     "name": "stdout",
     "output_type": "stream",
     "text": [
      "With the trajectory (3,1), we hit 171 trees!\n"
     ]
    }
   ],
   "source": [
    "xd, yd = (3, 1)\n",
    "\n",
    "answer = evaluateTrajectory(xd, yd)\n",
    "\n",
    "print(f\"With the trajectory ({xd},{yd}), we hit {answer} trees!\")"
   ]
  },
  {
   "cell_type": "code",
   "execution_count": 8,
   "metadata": {},
   "outputs": [
    {
     "data": {
      "text/html": [
       "\n",
       "<p>Your puzzle answer was <code>171</code>.</p>"
      ],
      "text/plain": [
       "<IPython.core.display.HTML object>"
      ]
     },
     "execution_count": 8,
     "metadata": {},
     "output_type": "execute_result"
    }
   ],
   "source": [
    "HTML(downloaded['part1_footer'])"
   ]
  },
  {
   "cell_type": "markdown",
   "metadata": {},
   "source": [
    "## Part Two"
   ]
  },
  {
   "cell_type": "code",
   "execution_count": 9,
   "metadata": {},
   "outputs": [
    {
     "data": {
      "text/html": [
       "<h2 id=\"part2\">--- Part Two ---</h2><p>Time to check the rest of the slopes - you need to minimize the probability of a sudden arboreal stop, after all.</p>\n",
       "<p>Determine the number of trees you would encounter if, for each of the following slopes, you start at the top-left corner and traverse the map all the way to the bottom:</p>\n",
       "<ul>\n",
       "<li>Right 1, down 1.</li>\n",
       "<li>Right 3, down 1. (This is the slope you already checked.)</li>\n",
       "<li>Right 5, down 1.</li>\n",
       "<li>Right 7, down 1.</li>\n",
       "<li>Right 1, down 2.</li>\n",
       "</ul>\n",
       "<p>In the above example, these slopes would find <code>2</code>, <code>7</code>, <code>3</code>, <code>4</code>, and <code>2</code> tree(s) respectively; multiplied together, these produce the answer <code><em>336</em></code>.</p>\n",
       "<p><em>What do you get if you multiply together the number of trees encountered on each of the listed slopes?</em></p>\n"
      ],
      "text/plain": [
       "<IPython.core.display.HTML object>"
      ]
     },
     "execution_count": 9,
     "metadata": {},
     "output_type": "execute_result"
    }
   ],
   "source": [
    "HTML(downloaded['part2'])"
   ]
  },
  {
   "cell_type": "code",
   "execution_count": 10,
   "metadata": {},
   "outputs": [],
   "source": [
    "# %%timeit -n1 -r1\n",
    "import functools\n",
    "\n",
    "trajectories = [(1, 1),\n",
    "                (3, 1),\n",
    "                (5, 1),\n",
    "                (7, 1),\n",
    "                (1, 2)]\n",
    "\n",
    "results = [evaluateTrajectory(xd, yd) for xd, yd in trajectories]\n",
    "\n",
    "answer = functools.reduce(lambda a, b: a * b, results)"
   ]
  },
  {
   "cell_type": "code",
   "execution_count": 11,
   "metadata": {},
   "outputs": [
    {
     "name": "stdout",
     "output_type": "stream",
     "text": [
      "[70, 171, 48, 60, 35]\n",
      "1206576000\n"
     ]
    }
   ],
   "source": [
    "print(results)\n",
    "print(answer)"
   ]
  },
  {
   "cell_type": "code",
   "execution_count": 12,
   "metadata": {},
   "outputs": [
    {
     "data": {
      "text/html": [
       "\n",
       "<p>Your puzzle answer was <code>1206576000</code>.</p><p class=\"day-success\">Both parts of this puzzle are complete! They provide two gold stars: **</p>\n",
       "<p>At this point, all that is left is for you to <a href=\"/2020\">admire your Advent calendar</a>.</p>\n",
       "<p>If you still want to see it, you can <a href=\"3/input\" target=\"_blank\">get your puzzle input</a>.</p>\n",
       "<p>You can also <span class=\"share\">[Share<span class=\"share-content\">on\n",
       "  <a href=\"https://twitter.com/intent/tweet?text=I%27ve+completed+%22Toboggan+Trajectory%22+%2D+Day+3+%2D+Advent+of+Code+2020&amp;url=https%3A%2F%2Fadventofcode%2Ecom%2F2020%2Fday%2F3&amp;related=ericwastl&amp;hashtags=AdventOfCode\" target=\"_blank\">Twitter</a>\n",
       "  <a href=\"javascript:void(0);\" onclick=\"var mastodon_instance=prompt('Mastodon Instance / Server Name?'); if(typeof mastodon_instance==='string' && mastodon_instance.length){this.href='https://'+mastodon_instance+'/share?text=I%27ve+completed+%22Toboggan+Trajectory%22+%2D+Day+3+%2D+Advent+of+Code+2020+%23AdventOfCode+https%3A%2F%2Fadventofcode%2Ecom%2F2020%2Fday%2F3'}else{return false;}\" target=\"_blank\">Mastodon</a\n",
       "></span>]</span> this puzzle.</p>\n"
      ],
      "text/plain": [
       "<IPython.core.display.HTML object>"
      ]
     },
     "execution_count": 12,
     "metadata": {},
     "output_type": "execute_result"
    }
   ],
   "source": [
    "HTML(downloaded['part2_footer'])"
   ]
  }
 ],
 "metadata": {
  "interpreter": {
   "hash": "aee8b7b246df8f9039afb4144a1f6fd8d2ca17a180786b69acc140d282b71a49"
  },
  "kernelspec": {
   "display_name": "Python 3.9.7 64-bit",
   "name": "python3"
  },
  "language_info": {
   "codemirror_mode": {
    "name": "ipython",
    "version": 3
   },
   "file_extension": ".py",
   "mimetype": "text/x-python",
   "name": "python",
   "nbconvert_exporter": "python",
   "pygments_lexer": "ipython3",
   "version": "3.9.7"
  }
 },
 "nbformat": 4,
 "nbformat_minor": 4
}

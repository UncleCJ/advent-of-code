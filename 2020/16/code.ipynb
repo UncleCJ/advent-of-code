{
 "metadata": {
  "language_info": {
   "codemirror_mode": {
    "name": "ipython",
    "version": 3
   },
   "file_extension": ".py",
   "mimetype": "text/x-python",
   "name": "python",
   "nbconvert_exporter": "python",
   "pygments_lexer": "ipython3",
   "version": "3.6.9-final"
  },
  "orig_nbformat": 2,
  "kernelspec": {
   "name": "python3",
   "display_name": "Python 3",
   "language": "python"
  }
 },
 "nbformat": 4,
 "nbformat_minor": 2,
 "cells": [
  {
   "cell_type": "code",
   "execution_count": 2,
   "metadata": {},
   "outputs": [],
   "source": [
    "testdata = \"\"\"class: 1-3 or 5-7\n",
    "row: 6-11 or 33-44\n",
    "seat: 13-40 or 45-50\n",
    "\n",
    "your ticket:\n",
    "7,1,14\n",
    "\n",
    "nearby tickets:\n",
    "7,3,47\n",
    "40,4,50\n",
    "55,2,20\n",
    "38,6,12\"\"\".splitlines()"
   ]
  },
  {
   "cell_type": "code",
   "execution_count": 3,
   "metadata": {},
   "outputs": [],
   "source": [
    "def parse_data(data):\n",
    "    fields = dict()\n",
    "    my_ticket = []\n",
    "    nearby_tickets = []\n",
    "\n",
    "    section = 1\n",
    "    for line in data:\n",
    "        if line == '':\n",
    "            section += 1\n",
    "            continue\n",
    "\n",
    "        if line[-1] == ':':\n",
    "            continue\n",
    "\n",
    "        if section == 1:\n",
    "            field, ranges = line.split(':')\n",
    "            range1, range2 = ranges.split(' or ')\n",
    "            range1_low, range1_high = range1.split('-')\n",
    "            range2_low, range2_high = range2.split('-')\n",
    "\n",
    "            fields[field] = [(int(range1_low), int(range1_high)), (int(range2_low), int(range2_high))]\n",
    "        elif section == 2:\n",
    "            my_ticket = [int(p) for p in line.split(',')]\n",
    "        elif section == 3:\n",
    "            nearby_tickets.append([int(p) for p in line.split(',')])\n",
    "\n",
    "    return fields, my_ticket, nearby_tickets"
   ]
  },
  {
   "cell_type": "code",
   "execution_count": 4,
   "metadata": {},
   "outputs": [
    {
     "output_type": "execute_result",
     "data": {
      "text/plain": [
       "({'class': [(1, 3), (5, 7)],\n",
       "  'row': [(6, 11), (33, 44)],\n",
       "  'seat': [(13, 40), (45, 50)]},\n",
       " [7, 1, 14],\n",
       " [[7, 3, 47], [40, 4, 50], [55, 2, 20], [38, 6, 12]])"
      ]
     },
     "metadata": {},
     "execution_count": 4
    }
   ],
   "source": [
    "parse_data(testdata)"
   ]
  },
  {
   "cell_type": "code",
   "execution_count": 9,
   "metadata": {},
   "outputs": [],
   "source": [
    "def validate(ticket, fields):\n",
    "    error = 0\n",
    "    for parameter in ticket:\n",
    "        if not validate_parameter(parameter, fields):\n",
    "            error += parameter\n",
    "    return error\n",
    "\n",
    "def validate_parameter(parameter, fields):\n",
    "    for field, ranges in fields.items():    \n",
    "        if (ranges[0][0] <= parameter <= ranges[0][1] or ranges[1][0] <= parameter <= ranges[1][1]):\n",
    "            # print(f'parameter {parameter} match field {field} range {ranges}')\n",
    "            return True\n",
    "    print(f'no field matched parameter {parameter}')\n",
    "    return False"
   ]
  },
  {
   "cell_type": "code",
   "execution_count": 10,
   "metadata": {},
   "outputs": [
    {
     "output_type": "stream",
     "name": "stdout",
     "text": [
      "{'class': [(1, 3), (5, 7)], 'row': [(6, 11), (33, 44)], 'seat': [(13, 40), (45, 50)]} [7, 1, 14] [[7, 3, 47], [40, 4, 50], [55, 2, 20], [38, 6, 12]]\nno field matched parameter 4\nno field matched parameter 55\nno field matched parameter 12\n71\n"
     ]
    }
   ],
   "source": [
    "fields, my_ticket, nearby_tickets = parse_data(testdata)\n",
    "print(fields, my_ticket, nearby_tickets)\n",
    "print(sum([validate(ticket, fields) for ticket in nearby_tickets]))"
   ]
  },
  {
   "cell_type": "code",
   "execution_count": 11,
   "metadata": {
    "tags": []
   },
   "outputs": [
    {
     "output_type": "stream",
     "name": "stdout",
     "text": [
      "no field matched parameter 994\nno field matched parameter 14\nno field matched parameter 982\nno field matched parameter 998\nno field matched parameter 3\nno field matched parameter 4\nno field matched parameter 981\nno field matched parameter 977\nno field matched parameter 23\nno field matched parameter 995\nno field matched parameter 3\nno field matched parameter 8\nno field matched parameter 11\nno field matched parameter 2\nno field matched parameter 997\nno field matched parameter 998\nno field matched parameter 997\nno field matched parameter 985\nno field matched parameter 985\nno field matched parameter 983\nno field matched parameter 3\nno field matched parameter 975\nno field matched parameter 20\nno field matched parameter 12\nno field matched parameter 978\nno field matched parameter 979\nno field matched parameter 2\nno field matched parameter 975\nno field matched parameter 983\nno field matched parameter 982\nno field matched parameter 986\nno field matched parameter 975\nno field matched parameter 979\nno field matched parameter 24\nno field matched parameter 14\nno field matched parameter 18\nno field matched parameter 18\nno field matched parameter 985\nno field matched parameter 991\nno field matched parameter 21\nno field matched parameter 18\nno field matched parameter 23\nno field matched parameter 24\nno field matched parameter 977\nno field matched parameter 20\nno field matched parameter 1\nno field matched parameter 23\nno field matched parameter 995\nno field matched parameter 16\nno field matched parameter 23\n24980\n"
     ]
    }
   ],
   "source": [
    "with open('input', 'r') as inp:\n",
    "   inputdata = [line.strip() for line in inp.readlines()]\n",
    "\n",
    "fields, my_ticket, nearby_tickets = parse_data(inputdata)\n",
    "#print(fields, my_ticket, nearby_tickets)\n",
    "print(sum([validate(ticket, fields) for ticket in nearby_tickets]))"
   ]
  }
 ]
}
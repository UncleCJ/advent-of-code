{
 "metadata": {
  "language_info": {
   "codemirror_mode": {
    "name": "ipython",
    "version": 3
   },
   "file_extension": ".py",
   "mimetype": "text/x-python",
   "name": "python",
   "nbconvert_exporter": "python",
   "pygments_lexer": "ipython3",
   "version": "3.6.9-final"
  },
  "orig_nbformat": 2,
  "kernelspec": {
   "name": "python3",
   "display_name": "Python 3",
   "language": "python"
  }
 },
 "nbformat": 4,
 "nbformat_minor": 2,
 "cells": [
  {
   "cell_type": "code",
   "execution_count": 1,
   "metadata": {},
   "outputs": [],
   "source": [
    "%load_ext pycodestyle_magic"
   ]
  },
  {
   "cell_type": "code",
   "execution_count": 2,
   "metadata": {},
   "outputs": [],
   "source": [
    "%flake8_on"
   ]
  },
  {
   "cell_type": "code",
   "execution_count": 3,
   "metadata": {},
   "outputs": [],
   "source": [
    "import numpy as np\n",
    "from functools import reduce"
   ]
  },
  {
   "cell_type": "code",
   "execution_count": 4,
   "metadata": {},
   "outputs": [],
   "source": [
    "testdata = \"\"\"class: 1-3 or 5-7\n",
    "row: 6-11 or 33-44\n",
    "seat: 13-40 or 45-50\n",
    "\n",
    "your ticket:\n",
    "7,1,14\n",
    "\n",
    "nearby tickets:\n",
    "7,3,47\n",
    "40,4,50\n",
    "55,2,20\n",
    "38,6,12\"\"\".splitlines()\n",
    "\n",
    "testdata2 = \"\"\"class: 0-1 or 4-19\n",
    "row: 0-5 or 8-19\n",
    "seat: 0-13 or 16-19\n",
    "\n",
    "your ticket:\n",
    "11,12,13\n",
    "\n",
    "nearby tickets:\n",
    "3,9,18\n",
    "15,1,5\n",
    "5,14,9\"\"\".splitlines()"
   ]
  },
  {
   "cell_type": "code",
   "execution_count": 5,
   "metadata": {},
   "outputs": [],
   "source": [
    "def parse_data(data):\n",
    "    fields = dict()\n",
    "    my_ticket = []\n",
    "    nearby_tickets = []\n",
    "\n",
    "    section = 1\n",
    "    for line in data:\n",
    "        if line == '':\n",
    "            section += 1\n",
    "            continue\n",
    "\n",
    "        if line[-1] == ':':\n",
    "            continue\n",
    "\n",
    "        if section == 1:\n",
    "            field, ranges = line.split(':')\n",
    "            range1, range2 = ranges.split(' or ')\n",
    "            range1_low, range1_high = range1.split('-')\n",
    "            range2_low, range2_high = range2.split('-')\n",
    "\n",
    "            fields[field] = [(int(range1_low), int(range1_high)),\n",
    "                             (int(range2_low), int(range2_high))]\n",
    "        elif section == 2:\n",
    "            my_ticket = [int(p) for p in line.split(',')]\n",
    "        elif section == 3:\n",
    "            nearby_tickets.append([int(p) for p in line.split(',')])\n",
    "\n",
    "    return fields, my_ticket, nearby_tickets"
   ]
  },
  {
   "cell_type": "code",
   "execution_count": 6,
   "metadata": {},
   "outputs": [
    {
     "output_type": "execute_result",
     "data": {
      "text/plain": [
       "({'class': [(1, 3), (5, 7)],\n",
       "  'row': [(6, 11), (33, 44)],\n",
       "  'seat': [(13, 40), (45, 50)]},\n",
       " [7, 1, 14],\n",
       " [[7, 3, 47], [40, 4, 50], [55, 2, 20], [38, 6, 12]])"
      ]
     },
     "metadata": {},
     "execution_count": 6
    }
   ],
   "source": [
    "parse_data(testdata)"
   ]
  },
  {
   "cell_type": "code",
   "execution_count": 7,
   "metadata": {},
   "outputs": [],
   "source": [
    "def validate(ticket, fields):\n",
    "    error = 0\n",
    "    valids = []\n",
    "    for parameter in ticket:\n",
    "        valid = validate_parameter(parameter, fields)\n",
    "        if len(valid) == 0:\n",
    "            error += parameter\n",
    "        valids.append(valid)\n",
    "    return error, valids, ticket\n",
    "\n",
    "\n",
    "def validate_parameter(parameter, fields):\n",
    "    valid = set()\n",
    "    for field, ranges in fields.items():\n",
    "        if (ranges[0][0] <= parameter <= ranges[0][1]\n",
    "                or ranges[1][0] <= parameter <= ranges[1][1]):\n",
    "            valid.add(field)\n",
    "    return valid"
   ]
  },
  {
   "cell_type": "code",
   "execution_count": 8,
   "metadata": {},
   "outputs": [
    {
     "output_type": "stream",
     "name": "stdout",
     "text": [
      "{'class': [(1, 3), (5, 7)], 'row': [(6, 11), (33, 44)], 'seat': [(13, 40), (45, 50)]} [7, 1, 14] [[7, 3, 47], [40, 4, 50], [55, 2, 20], [38, 6, 12]]\n71\n"
     ]
    }
   ],
   "source": [
    "fields, my_ticket, nearby_tickets = parse_data(testdata)\n",
    "print(fields, my_ticket, nearby_tickets)\n",
    "print(sum([validate(ticket, fields)[0] for ticket in nearby_tickets]))"
   ]
  },
  {
   "cell_type": "code",
   "execution_count": 9,
   "metadata": {
    "tags": []
   },
   "outputs": [
    {
     "output_type": "stream",
     "name": "stdout",
     "text": [
      "24980\nThus my ticket reads:\n  arrival track: 79\n  duration: 149\n  departure time: 97\n  departure station: 163\n  class: 59\n  type: 151\n  departure date: 101\n  wagon: 89\n  arrival platform: 173\n  price: 139\n  arrival location: 167\n  row: 61\n  departure platform: 73\n  zone: 71\n  arrival station: 137\n  departure location: 53\n  train: 83\n  route: 157\n  departure track: 131\n  seat: 67\n809376774329\n"
     ]
    }
   ],
   "source": [
    "with open('input', 'r') as inp:\n",
    "    inputdata = [line.strip() for line in inp.readlines()]\n",
    "\n",
    "fields, my_ticket, nearby_tickets = parse_data(inputdata)\n",
    "# print(fields, my_ticket, nearby_tickets)\n",
    "validations = [validate(ticket, fields) for ticket in nearby_tickets]\n",
    "\n",
    "print(sum([error for error, _, _ in validations]))\n",
    "\n",
    "valid = [(fields, ticket)\n",
    "         for error, fields, ticket in validations\n",
    "         if error == 0]\n",
    "\n",
    "solutions = [(0, set())] * len(my_ticket)\n",
    "for p in range(len(my_ticket)):\n",
    "    fieldss_p = [fields[p] for fields, _ in valid]\n",
    "    fieldss_p_possible = reduce(lambda a, b: a & b, fieldss_p)\n",
    "    solutions[p] = (len(fieldss_p_possible), fieldss_p_possible)\n",
    "# print(f'solutions: {solutions}')\n",
    "\n",
    "solutions_ordered = [(0, set())] * len(my_ticket)\n",
    "for p, (options, fs) in enumerate(solutions):\n",
    "    solutions_ordered[options - 1] = (p, fs)\n",
    "# print(f'solutions ordered: {solutions_ordered}')\n",
    "\n",
    "eliminated = set()\n",
    "results = [''] * len(my_ticket)\n",
    "for p, fields in solutions_ordered:\n",
    "    fields -= eliminated\n",
    "    if len(fields) > 1:\n",
    "        print('I can not do this!')\n",
    "        break\n",
    "    eliminated = eliminated | fields\n",
    "    results[p] = fields.pop()\n",
    "    # print(f'Field {p} must be {results[p]}')\n",
    "\n",
    "print('Thus my ticket reads:')\n",
    "for i, value in enumerate(my_ticket):\n",
    "    print(f'  {results[i]}: {value}')\n",
    "\n",
    "sought_idx = [i for i, field\n",
    "              in enumerate(results) if field.startswith('departure')]\n",
    "print(np.prod(np.array(my_ticket)[sought_idx]))"
   ]
  }
 ]
}
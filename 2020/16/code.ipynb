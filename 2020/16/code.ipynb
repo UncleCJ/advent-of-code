{
 "cells": [
  {
   "cell_type": "markdown",
   "metadata": {},
   "source": [
    "# Day 16: Ticket Translation\n",
    "\n",
    "[*Advent of Code 2020 day 16*](https://adventofcode.com/2020/day/16) and [*solution megathread*](https://redd.it/ke2qp6)\n",
    "\n",
    "[![nbviewer](https://raw.githubusercontent.com/jupyter/design/master/logos/Badges/nbviewer_badge.svg)](https://nbviewer.jupyter.org/github/UncleCJ/advent-of-code/blob/cj/2020/16/code.ipynb) [![Binder](https://mybinder.org/badge_logo.svg)](https://mybinder.org/v2/gh/UncleCJ/advent-of-code/cj?filepath=2020%2F16%2Fcode.ipynb)"
   ]
  },
  {
   "cell_type": "code",
   "execution_count": 1,
   "metadata": {},
   "outputs": [
    {
     "name": "stdout",
     "output_type": "stream",
     "text": [
      "Writing 'downloaded' (dict) to file 'downloaded'.\n"
     ]
    }
   ],
   "source": [
    "from IPython.display import HTML\n",
    "import sys\n",
    "sys.path.append('../../')\n",
    "import common\n",
    "\n",
    "downloaded = common.refresh()\n",
    "%store downloaded >downloaded"
   ]
  },
  {
   "cell_type": "markdown",
   "metadata": {},
   "source": [
    "## Part One"
   ]
  },
  {
   "cell_type": "code",
   "execution_count": 2,
   "metadata": {},
   "outputs": [
    {
     "data": {
      "text/html": [
       "<h2>--- Day 16: Ticket Translation ---</h2><p>As you're walking to yet another connecting flight, you realize that one of the legs of your re-routed trip coming up is on a high-speed train. However, the train ticket you were given is in a language you don't understand. You should probably figure out what it says before you get to the train station after the next flight.</p>\n",
       "<p>Unfortunately, you <span title=\"This actually happened to me once, but I solved it by just asking someone.\">can't actually <em>read</em> the words on the ticket</span>. You can, however, read the numbers, and so you figure out <em>the fields these tickets must have</em> and <em>the valid ranges</em> for values in those fields.</p>\n",
       "<p>You collect the <em>rules for ticket fields</em>, the <em>numbers on your ticket</em>, and the <em>numbers on other nearby tickets</em> for the same train service (via the airport security cameras) together into a single document you can reference (your puzzle input).</p>\n",
       "<p>The <em>rules for ticket fields</em> specify a list of fields that exist <em>somewhere</em> on the ticket and the <em>valid ranges of values</em> for each field. For example, a rule like <code>class: 1-3 or 5-7</code> means that one of the fields in every ticket is named <code>class</code> and can be any value in the ranges <code>1-3</code> or <code>5-7</code> (inclusive, such that <code>3</code> and <code>5</code> are both valid in this field, but <code>4</code> is not).</p>\n",
       "<p>Each ticket is represented by a single line of comma-separated values. The values are the numbers on the ticket in the order they appear; every ticket has the same format. For example, consider this ticket:</p>\n",
       "<pre><code>.--------------------------------------------------------.\n",
       "| ????: 101    ?????: 102   ??????????: 103     ???: 104 |\n",
       "|                                                        |\n",
       "| ??: 301  ??: 302             ???????: 303      ??????? |\n",
       "| ??: 401  ??: 402           ???? ????: 403    ????????? |\n",
       "'--------------------------------------------------------'\n",
       "</code></pre>\n",
       "<p>Here, <code>?</code> represents text in a language you don't understand. This ticket might be represented as <code>101,102,103,104,301,302,303,401,402,403</code>; of course, the actual train tickets you're looking at are <em>much</em> more complicated. In any case, you've extracted just the numbers in such a way that the first number is always the same specific field, the second number is always a different specific field, and so on - you just don't know what each position actually means!</p>\n",
       "<p>Start by determining which tickets are <em>completely invalid</em>; these are tickets that contain values which <em>aren't valid for any field</em>. Ignore <em>your ticket</em> for now.</p>\n",
       "<p>For example, suppose you have the following notes:</p>\n",
       "<pre><code>class: 1-3 or 5-7\n",
       "row: 6-11 or 33-44\n",
       "seat: 13-40 or 45-50\n",
       "\n",
       "your ticket:\n",
       "7,1,14\n",
       "\n",
       "nearby tickets:\n",
       "7,3,47\n",
       "40,<em>4</em>,50\n",
       "<em>55</em>,2,20\n",
       "38,6,<em>12</em>\n",
       "</code></pre>\n",
       "<p>It doesn't matter which position corresponds to which field; you can identify invalid <em>nearby tickets</em> by considering only whether tickets contain <em>values that are not valid for any field</em>. In this example, the values on the first <em>nearby ticket</em> are all valid for at least one field. This is not true of the other three <em>nearby tickets</em>: the values <code>4</code>, <code>55</code>, and <code>12</code> are are not valid for any field. Adding together all of the invalid values produces your <em>ticket scanning error rate</em>: <code>4 + 55 + 12</code> = <em><code>71</code></em>.</p>\n",
       "<p>Consider the validity of the <em>nearby tickets</em> you scanned. <em>What is your ticket scanning error rate?</em></p>\n"
      ],
      "text/plain": [
       "<IPython.core.display.HTML object>"
      ]
     },
     "execution_count": 2,
     "metadata": {},
     "output_type": "execute_result"
    }
   ],
   "source": [
    "HTML(downloaded['part1'])"
   ]
  },
  {
   "cell_type": "markdown",
   "metadata": {},
   "source": [
    "## Boilerplate\n",
    "\n",
    "Let's try using [pycodestyle_magic](https://github.com/mattijn/pycodestyle_magic) with pycodestyle (flake8 stopped working for me in VS Code Jupyter). Now how does type checking work?"
   ]
  },
  {
   "cell_type": "code",
   "execution_count": 3,
   "metadata": {},
   "outputs": [],
   "source": [
    "%load_ext pycodestyle_magic"
   ]
  },
  {
   "cell_type": "code",
   "execution_count": 4,
   "metadata": {},
   "outputs": [],
   "source": [
    "%pycodestyle_on"
   ]
  },
  {
   "cell_type": "code",
   "execution_count": 5,
   "metadata": {},
   "outputs": [],
   "source": [
    "testdata = \"\"\"class: 1-3 or 5-7\n",
    "row: 6-11 or 33-44\n",
    "seat: 13-40 or 45-50\n",
    "\n",
    "your ticket:\n",
    "7,1,14\n",
    "\n",
    "nearby tickets:\n",
    "7,3,47\n",
    "40,4,50\n",
    "55,2,20\n",
    "38,6,12\"\"\".splitlines()\n",
    "\n",
    "testdata2 = \"\"\"class: 0-1 or 4-19\n",
    "row: 0-5 or 8-19\n",
    "seat: 0-13 or 16-19\n",
    "\n",
    "your ticket:\n",
    "11,12,13\n",
    "\n",
    "nearby tickets:\n",
    "3,9,18\n",
    "15,1,5\n",
    "5,14,9\"\"\".splitlines()\n",
    "\n",
    "inputdata = downloaded['input'].splitlines()"
   ]
  },
  {
   "cell_type": "code",
   "execution_count": 6,
   "metadata": {},
   "outputs": [],
   "source": [
    "import numpy as np\n",
    "from functools import reduce\n",
    "\n",
    "\n",
    "def parse_data(data):\n",
    "    fields = dict()\n",
    "    my_ticket = []\n",
    "    nearby_tickets = []\n",
    "\n",
    "    section = 1\n",
    "    for line in data:\n",
    "        if line == '':\n",
    "            section += 1\n",
    "            continue\n",
    "\n",
    "        if line[-1] == ':':\n",
    "            continue\n",
    "\n",
    "        if section == 1:\n",
    "            field, ranges = line.split(':')\n",
    "            range1, range2 = ranges.split(' or ')\n",
    "            range1_low, range1_high = range1.split('-')\n",
    "            range2_low, range2_high = range2.split('-')\n",
    "\n",
    "            fields[field] = [(int(range1_low), int(range1_high)),\n",
    "                             (int(range2_low), int(range2_high))]\n",
    "        elif section == 2:\n",
    "            my_ticket = [int(p) for p in line.split(',')]\n",
    "        elif section == 3:\n",
    "            nearby_tickets.append([int(p) for p in line.split(',')])\n",
    "\n",
    "    return fields, my_ticket, nearby_tickets\n",
    "\n",
    "\n",
    "def validate(ticket, fields):\n",
    "    error = 0\n",
    "    valids = []\n",
    "    for parameter in ticket:\n",
    "        valid = validate_parameter(parameter, fields)\n",
    "        if len(valid) == 0:\n",
    "            error += parameter\n",
    "        valids.append(valid)\n",
    "    return error, valids, ticket\n",
    "\n",
    "\n",
    "def validate_parameter(parameter, fields):\n",
    "    valid = set()\n",
    "    for field, ranges in fields.items():\n",
    "        if (ranges[0][0] <= parameter <= ranges[0][1]\n",
    "                or ranges[1][0] <= parameter <= ranges[1][1]):\n",
    "            valid.add(field)\n",
    "    return valid"
   ]
  },
  {
   "cell_type": "code",
   "execution_count": 7,
   "metadata": {},
   "outputs": [
    {
     "data": {
      "text/plain": [
       "({'class': [(1, 3), (5, 7)],\n",
       "  'row': [(6, 11), (33, 44)],\n",
       "  'seat': [(13, 40), (45, 50)]},\n",
       " [7, 1, 14],\n",
       " [[7, 3, 47], [40, 4, 50], [55, 2, 20], [38, 6, 12]])"
      ]
     },
     "execution_count": 7,
     "metadata": {},
     "output_type": "execute_result"
    }
   ],
   "source": [
    "parse_data(testdata)"
   ]
  },
  {
   "cell_type": "code",
   "execution_count": 8,
   "metadata": {},
   "outputs": [
    {
     "name": "stdout",
     "output_type": "stream",
     "text": [
      "{'class': [(1, 3), (5, 7)], 'row': [(6, 11), (33, 44)], 'seat': [(13, 40), (45, 50)]} [7, 1, 14] [[7, 3, 47], [40, 4, 50], [55, 2, 20], [38, 6, 12]]\n",
      "71\n"
     ]
    }
   ],
   "source": [
    "fields, my_ticket, nearby_tickets = parse_data(testdata)\n",
    "print(fields, my_ticket, nearby_tickets)\n",
    "print(sum([validate(ticket, fields)[0] for ticket in nearby_tickets]))"
   ]
  },
  {
   "cell_type": "code",
   "execution_count": 9,
   "metadata": {
    "tags": []
   },
   "outputs": [
    {
     "name": "stdout",
     "output_type": "stream",
     "text": [
      "24980\n"
     ]
    }
   ],
   "source": [
    "fields, my_ticket, nearby_tickets = parse_data(inputdata)\n",
    "# print(fields, my_ticket, nearby_tickets)\n",
    "validations = [validate(ticket, fields) for ticket in nearby_tickets]\n",
    "\n",
    "print(sum([error for error, _, _ in validations]))\n",
    "\n",
    "valid = [(fields, ticket)\n",
    "         for error, fields, ticket in validations\n",
    "         if error == 0]\n",
    "\n",
    "solutions = [(0, set())] * len(my_ticket)\n",
    "for p in range(len(my_ticket)):\n",
    "    fieldss_p = [fields[p] for fields, _ in valid]\n",
    "    fieldss_p_possible = reduce(lambda a, b: a & b, fieldss_p)\n",
    "    solutions[p] = (len(fieldss_p_possible), fieldss_p_possible)\n",
    "# print(f'solutions: {solutions}')\n",
    "\n",
    "solutions_ordered = [(0, set())] * len(my_ticket)\n",
    "for p, (options, fs) in enumerate(solutions):\n",
    "    solutions_ordered[options - 1] = (p, fs)\n",
    "# print(f'solutions ordered: {solutions_ordered}')\n",
    "\n",
    "eliminated = set()\n",
    "results = [''] * len(my_ticket)\n",
    "for p, fields in solutions_ordered:\n",
    "    fields -= eliminated\n",
    "    if len(fields) > 1:\n",
    "        print('I can not do this!')\n",
    "        break\n",
    "    eliminated = eliminated | fields\n",
    "    results[p] = fields.pop()\n",
    "    # print(f'Field {p} must be {results[p]}')"
   ]
  },
  {
   "cell_type": "code",
   "execution_count": 10,
   "metadata": {},
   "outputs": [
    {
     "data": {
      "text/html": [
       "\n",
       "<p>Your puzzle answer was <code>24980</code>.</p>"
      ],
      "text/plain": [
       "<IPython.core.display.HTML object>"
      ]
     },
     "execution_count": 10,
     "metadata": {},
     "output_type": "execute_result"
    }
   ],
   "source": [
    "HTML(downloaded['part1_footer'])"
   ]
  },
  {
   "cell_type": "markdown",
   "metadata": {},
   "source": [
    "## Part Two"
   ]
  },
  {
   "cell_type": "code",
   "execution_count": 11,
   "metadata": {},
   "outputs": [
    {
     "data": {
      "text/html": [
       "<h2 id=\"part2\">--- Part Two ---</h2><p>Now that you've identified which tickets contain invalid values, <em>discard those tickets entirely</em>. Use the remaining valid tickets to determine which field is which.</p>\n",
       "<p>Using the valid ranges for each field, determine what order the fields appear on the tickets. The order is consistent between all tickets: if <code>seat</code> is the third field, it is the third field on every ticket, including <em>your ticket</em>.</p>\n",
       "<p>For example, suppose you have the following notes:</p>\n",
       "<pre><code>class: 0-1 or 4-19\n",
       "row: 0-5 or 8-19\n",
       "seat: 0-13 or 16-19\n",
       "\n",
       "your ticket:\n",
       "11,12,13\n",
       "\n",
       "nearby tickets:\n",
       "3,9,18\n",
       "15,1,5\n",
       "5,14,9\n",
       "</code></pre>\n",
       "<p>Based on the <em>nearby tickets</em> in the above example, the first position must be <code>row</code>, the second position must be <code>class</code>, and the third position must be <code>seat</code>; you can conclude that in <em>your ticket</em>, <code>class</code> is <code>12</code>, <code>row</code> is <code>11</code>, and <code>seat</code> is <code>13</code>.</p>\n",
       "<p>Once you work out which field is which, look for the six fields on <em>your ticket</em> that start with the word <code>departure</code>. <em>What do you get if you multiply those six values together?</em></p>\n"
      ],
      "text/plain": [
       "<IPython.core.display.HTML object>"
      ]
     },
     "execution_count": 11,
     "metadata": {},
     "output_type": "execute_result"
    }
   ],
   "source": [
    "HTML(downloaded['part2'])"
   ]
  },
  {
   "cell_type": "code",
   "execution_count": 12,
   "metadata": {},
   "outputs": [
    {
     "name": "stdout",
     "output_type": "stream",
     "text": [
      "Thus my ticket reads:\n",
      "  arrival track: 79\n",
      "  duration: 149\n",
      "  departure time: 97\n",
      "  departure station: 163\n",
      "  class: 59\n",
      "  type: 151\n",
      "  departure date: 101\n",
      "  wagon: 89\n",
      "  arrival platform: 173\n",
      "  price: 139\n",
      "  arrival location: 167\n",
      "  row: 61\n",
      "  departure platform: 73\n",
      "  zone: 71\n",
      "  arrival station: 137\n",
      "  departure location: 53\n",
      "  train: 83\n",
      "  route: 157\n",
      "  departure track: 131\n",
      "  seat: 67\n",
      "809376774329\n"
     ]
    }
   ],
   "source": [
    "print('Thus my ticket reads:')\n",
    "for i, value in enumerate(my_ticket):\n",
    "    print(f'  {results[i]}: {value}')\n",
    "\n",
    "sought_idx = [i for i, field\n",
    "              in enumerate(results) if field.startswith('departure')]\n",
    "print(np.prod(np.array(my_ticket)[sought_idx]))"
   ]
  },
  {
   "cell_type": "code",
   "execution_count": 13,
   "metadata": {},
   "outputs": [
    {
     "data": {
      "text/html": [
       "\n",
       "<p>Your puzzle answer was <code>809376774329</code>.</p><p class=\"day-success\">Both parts of this puzzle are complete! They provide two gold stars: **</p>\n",
       "<p>At this point, all that is left is for you to <a href=\"/2020\">admire your Advent calendar</a>.</p>\n",
       "<p>If you still want to see it, you can <a href=\"16/input\" target=\"_blank\">get your puzzle input</a>.</p>\n",
       "<p>You can also <span class=\"share\">[Share<span class=\"share-content\">on\n",
       "  <a href=\"https://twitter.com/intent/tweet?text=I%27ve+completed+%22Ticket+Translation%22+%2D+Day+16+%2D+Advent+of+Code+2020&amp;url=https%3A%2F%2Fadventofcode%2Ecom%2F2020%2Fday%2F16&amp;related=ericwastl&amp;hashtags=AdventOfCode\" target=\"_blank\">Twitter</a>\n",
       "  <a href=\"javascript:void(0);\" onclick=\"var mastodon_instance=prompt('Mastodon Instance / Server Name?'); if(typeof mastodon_instance==='string' && mastodon_instance.length){this.href='https://'+mastodon_instance+'/share?text=I%27ve+completed+%22Ticket+Translation%22+%2D+Day+16+%2D+Advent+of+Code+2020+%23AdventOfCode+https%3A%2F%2Fadventofcode%2Ecom%2F2020%2Fday%2F16'}else{return false;}\" target=\"_blank\">Mastodon</a\n",
       "></span>]</span> this puzzle.</p>\n"
      ],
      "text/plain": [
       "<IPython.core.display.HTML object>"
      ]
     },
     "execution_count": 13,
     "metadata": {},
     "output_type": "execute_result"
    }
   ],
   "source": [
    "HTML(downloaded['part2_footer'])"
   ]
  }
 ],
 "metadata": {
  "kernelspec": {
   "display_name": "Python 3",
   "language": "python",
   "name": "python3"
  },
  "language_info": {
   "codemirror_mode": {
    "name": "ipython",
    "version": 3
   },
   "file_extension": ".py",
   "mimetype": "text/x-python",
   "name": "python",
   "nbconvert_exporter": "python",
   "pygments_lexer": "ipython3",
   "version": "3.9.7"
  },
  "orig_nbformat": 2
 },
 "nbformat": 4,
 "nbformat_minor": 2
}

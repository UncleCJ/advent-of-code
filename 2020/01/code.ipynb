{
 "cells": [
  {
   "cell_type": "markdown",
   "metadata": {},
   "source": [
    "# Day 1: Report Repair\n",
    "\n",
    "[*Advent of Code day 1 - 2020-12-01*](https://adventofcode.com/2020/day/1) and [*solution megathread*](https://www.reddit.com/r/adventofcode/comments/k4e4lm/2020_day_1_solutions/)\n",
    "\n",
    "[![Binder](https://mybinder.org/badge_logo.svg)](https://mybinder.org/v2/gh/UncleCJ/advent-of-code/cj?filepath=day-01%2Fday-01.ipynb)\n",
    "\n",
    "After saving Christmas [five years in a row](https://adventofcode.com/events), you've decided to take a vacation at a nice resort on a tropical island. Surely, Christmas will go on without you.\n",
    "\n",
    "The tropical island has its own currency and is entirely cash-only. The gold coins used there have a little picture of a starfish; the locals just call them *stars*. None of the currency exchanges seem to have heard of them, but somehow, you'll need to find fifty of these coins by the time you arrive so you can pay the deposit on your room.\n",
    "\n",
    "To save your vacation, you need to get all *fifty stars* by December 25th.\n",
    "\n",
    "Collect stars by solving puzzles. Two puzzles will be made available on each day in the Advent calendar; the second puzzle is unlocked when you complete the first. Each puzzle grants *one star*. Good luck!"
   ]
  },
  {
   "cell_type": "markdown",
   "metadata": {},
   "source": [
    "## Part 1\n",
    "\n",
    "Before you leave, the Elves in accounting just need you to fix your *expense report* (your puzzle input); apparently, something isn't quite adding up.\n",
    "\n",
    "Specifically, they need you to *find the two entries that sum to 2020* and then multiply those two numbers together.\n",
    "\n",
    "For example, suppose your expense report contained the following:\n",
    "\n",
    "```\n",
    "1721\n",
    "979\n",
    "366\n",
    "299\n",
    "675\n",
    "1456\n",
    "```\n",
    "\n",
    "In this list, the two entries that sum to `2020` are `1721` and `299`. Multiplying them together produces `1721 * 299 = 514579`, so the correct answer is *`514579`*.\n",
    "\n",
    "Of course, your expense report is much larger. *Find the two entries that sum to `2020`; what do you get if you multiply them together?*\n",
    "\n",
    "To begin, [get your puzzle input](https://adventofcode.com/2020/day/1/input)"
   ]
  },
  {
   "cell_type": "code",
   "execution_count": 18,
   "metadata": {},
   "outputs": [
    {
     "name": "stdout",
     "output_type": "stream",
     "text": [
      "-- Already have input, skipping download...\n"
     ]
    }
   ],
   "source": [
    "# Initialize - from https://www.techcoil.com/blog/how-to-download-a-file-via-http-post-and-http-get-with-python-3-requests-library/\n",
    "# I'm fairly sure there is some error here, but leaving it until I need to or can fix it\n",
    "import os\n",
    "import requests\n",
    "\n",
    "if os.path.isfile('./input.txt'):\n",
    "    print(\"-- Already have input, skipping download...\")\n",
    "else:\n",
    "    print(\"-- No input.txt, attempting to download\")\n",
    "    response = requests.get('https://adventofcode.com/2020/day/1/input')\n",
    "    if response.status_code == 200:\n",
    "        with open('input.txt', 'a') as local_file:\n",
    "            print(\"writing input.txt\")\n",
    "            local_file.write(response.content)\n",
    "\n",
    "with open('input.txt', 'r') as inp:\n",
    "    inputdata = [line.strip() for line in inp.readlines()]inputdata = open('input.txt', 'r').readlines()"
   ]
  },
  {
   "cell_type": "code",
   "execution_count": 19,
   "metadata": {},
   "outputs": [
    {
     "name": "stdout",
     "output_type": "stream",
     "text": [
      "492 + 1528 = 2020\n",
      "492 * 1528 = 751776\n"
     ]
    }
   ],
   "source": [
    "# My first, ugly solution to part 1\n",
    "result = 0\n",
    "for i in range(len(inputdata)-1):\n",
    "    for j in range(i+1, len(inputdata)):\n",
    "        a, b = (inputdata[i], inputdata[j])\n",
    "        result = a+b\n",
    "        if result == 2020:\n",
    "            print(\"{} + {} = {}\".format(a,b,result))\n",
    "            print(\"{} * {} = {}\".format(a,b,a*b))\n",
    "            break\n",
    "    if result == 2020:\n",
    "        break"
   ]
  },
  {
   "cell_type": "markdown",
   "metadata": {},
   "source": [
    "The reason I don't love this solution is that I iterate *explicitly* over the indexes (always vectorize if possible!) rather than the data, and it's also error prone. Because I wasn't familiar with how `range()` works, I was not surprisingly [off by one](https://en.wikipedia.org/wiki/Off-by-one_error)."
   ]
  },
  {
   "cell_type": "code",
   "execution_count": 20,
   "metadata": {},
   "outputs": [
    {
     "name": "stdout",
     "output_type": "stream",
     "text": [
      "0\n",
      "1\n",
      "2\n",
      "3\n",
      "4\n"
     ]
    }
   ],
   "source": [
    "for i in range(5): print(i)"
   ]
  },
  {
   "cell_type": "code",
   "execution_count": 21,
   "metadata": {},
   "outputs": [
    {
     "name": "stdout",
     "output_type": "stream",
     "text": [
      "492 + 1528 = 2020 and thus the answer is 492 * 1528 = 751776\n"
     ]
    }
   ],
   "source": [
    "# A more elegant solution, see comments at the end of part 2\n",
    "sought = [ (a, b) for a in inputdata for b in inputdata if a+b == 2020 and a < b]\n",
    "if len(sought) > 0:\n",
    "    a, b = sought[0]\n",
    "    answer = a*b\n",
    "    print(\"{} + {} = {} and thus the answer is {} * {} = {}\".format(a, b, a+b, a, b, a*b))"
   ]
  },
  {
   "cell_type": "markdown",
   "metadata": {},
   "source": [
    "## Part 2\n",
    "\n",
    "The Elves in accounting are thankful for your help; one of them even offers you a starfish coin they had left over from a past vacation. They offer you a second one if you can find *three* numbers in your expense report that meet the same criteria.\n",
    "\n",
    "Using the above example again, the three entries that sum to `2020` are `979`, `366`, and `675`. Multiplying them together produces the answer, *`241861950`*.\n",
    "\n",
    "In your expense report, *what is the product of the three entries that sum to `2020`?*"
   ]
  },
  {
   "cell_type": "code",
   "execution_count": 22,
   "metadata": {},
   "outputs": [
    {
     "name": "stdout",
     "output_type": "stream",
     "text": [
      "1258 + 715 + 47 = 2020\n",
      "1258 * 715 * 47 = 42275090\n"
     ]
    }
   ],
   "source": [
    "# My first, ugly solution to part 2\n",
    "for i in range(len(inputdata)-2):\n",
    "    for j in range(i+1, len(inputdata)-1):\n",
    "        for k in range(j+1, len(inputdata)):\n",
    "            a, b, c = (inputdata[i], inputdata[j], inputdata[k])\n",
    "            result = a+b+c\n",
    "            if result == 2020:\n",
    "                print(\"{} + {} + {} = {}\".format(a,b,c,result))\n",
    "                print(\"{} * {} * {} = {}\".format(a,b,c,a*b*c))\n",
    "                break\n",
    "        if result == 2020:\n",
    "            break\n",
    "    if result == 2020:\n",
    "        break"
   ]
  },
  {
   "cell_type": "code",
   "execution_count": 23,
   "metadata": {},
   "outputs": [
    {
     "name": "stdout",
     "output_type": "stream",
     "text": [
      "47 + 715 + 1258 = 2020 and thus the answer is 47 * 715 * 1258 = 42275090\n"
     ]
    }
   ],
   "source": [
    "# The more elegant solution as applied to Part 2\n",
    "sought = [ (a, b, c) for a in inputdata for b in inputdata for c in inputdata if a+b+c == 2020 and a < b and b < c]\n",
    "if len(sought) > 0:\n",
    "    a, b, c = sought[0]\n",
    "    answer = a*b*c\n",
    "    print(\"{} + {} + {} = {} and thus the answer is {} * {} * {} = {}\".format(a, b, c, a+b+c, a, b, c, a*b*c))"
   ]
  },
  {
   "cell_type": "markdown",
   "metadata": {},
   "source": [
    "In this solution, I resort to nested list comprehensions and tuples (see sections [5.1.3](https://docs.python.org/3/tutorial/datastructures.html#tut-listcomps) and [5.3](https://docs.python.org/3/tutorial/datastructures.html#tuples-and-sequences) of the [Python tutorial chapter 5 - Data structures](https://docs.python.org/3/tutorial/index.html). I don't love that this goes through all combinations (even worse in part 2), but I don't know how to address that solutions are commutative (and thus I exclude all but the ordered ones)."
   ]
  }
 ],
 "metadata": {
  "kernelspec": {
   "display_name": "Python 3.6.9 64-bit",
   "metadata": {
    "interpreter": {
     "hash": "31f2aee4e71d21fbe5cf8b01ff0e069b9275f58929596ceb00d14d90e3e16cd6"
    }
   },
   "name": "python3"
  },
  "language_info": {
   "codemirror_mode": {
    "name": "ipython",
    "version": 3
   },
   "file_extension": ".py",
   "mimetype": "text/x-python",
   "name": "python",
   "nbconvert_exporter": "python",
   "pygments_lexer": "ipython3",
   "version": "3.6.9-final"
  }
 },
 "nbformat": 4,
 "nbformat_minor": 2
}

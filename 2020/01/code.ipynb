{
 "cells": [
  {
   "cell_type": "markdown",
   "metadata": {},
   "source": [
    "# Day 1: Report Repair\n",
    "\n",
    "[*Advent of Code 2020 day 1*](https://adventofcode.com/2020/day/1) and [*solution megathread*](https://redd.it/k4e4lm)\n",
    "\n",
    "[![nbviewer](https://raw.githubusercontent.com/jupyter/design/master/logos/Badges/nbviewer_badge.svg)](https://nbviewer.jupyter.org/github/UncleCJ/advent-of-code/blob/cj/2020/01/code.ipynb) [![Binder](https://mybinder.org/badge_logo.svg)](https://mybinder.org/v2/gh/UncleCJ/advent-of-code/cj?filepath=2020%2F01%2Fcode.ipynb)"
   ]
  },
  {
   "cell_type": "code",
   "execution_count": 1,
   "metadata": {},
   "outputs": [
    {
     "name": "stdout",
     "output_type": "stream",
     "text": [
      "Writing 'downloaded' (dict) to file 'downloaded'.\n"
     ]
    }
   ],
   "source": [
    "from IPython.display import HTML\n",
    "import sys\n",
    "sys.path.append('../../')\n",
    "import common\n",
    "\n",
    "downloaded = common.refresh()\n",
    "%store downloaded >downloaded"
   ]
  },
  {
   "cell_type": "markdown",
   "metadata": {},
   "source": [
    "## Part One"
   ]
  },
  {
   "cell_type": "code",
   "execution_count": 2,
   "metadata": {},
   "outputs": [
    {
     "data": {
      "text/html": [
       "<h2>--- Day 1: Report Repair ---</h2><p>After saving Christmas <a href=\"/events\">five years in a row</a>, you've decided to take a vacation at a nice resort on a tropical island. <span title=\"WHAT COULD GO WRONG\">Surely</span>, Christmas will go on without you.</p>\n",
       "<p>The tropical island has its own currency and is entirely cash-only.  The gold coins used there have a little picture of a starfish; the locals just call them <em class=\"star\">stars</em>. None of the currency exchanges seem to have heard of them, but somehow, you'll need to find fifty of these coins by the time you arrive so you can pay the deposit on your room.</p>\n",
       "<p>To save your vacation, you need to get all <em class=\"star\">fifty stars</em> by December 25th.</p>\n",
       "<p>Collect stars by solving puzzles.  Two puzzles will be made available on each day in the Advent calendar; the second puzzle is unlocked when you complete the first.  Each puzzle grants <em class=\"star\">one star</em>. Good luck!</p>\n",
       "<p>Before you leave, the Elves in accounting just need you to fix your <em>expense report</em> (your puzzle input); apparently, something isn't quite adding up.</p>\n",
       "<p>Specifically, they need you to <em>find the two entries that sum to <code>2020</code></em> and then multiply those two numbers together.</p>\n",
       "<p>For example, suppose your expense report contained the following:</p>\n",
       "<pre><code>1721\n",
       "979\n",
       "366\n",
       "299\n",
       "675\n",
       "1456\n",
       "</code></pre>\n",
       "<p>In this list, the two entries that sum to <code>2020</code> are <code>1721</code> and <code>299</code>. Multiplying them together produces <code>1721 * 299 = 514579</code>, so the correct answer is <code><em>514579</em></code>.</p>\n",
       "<p>Of course, your expense report is much larger. <em>Find the two entries that sum to <code>2020</code>; what do you get if you multiply them together?</em></p>\n"
      ],
      "text/plain": [
       "<IPython.core.display.HTML object>"
      ]
     },
     "execution_count": 2,
     "metadata": {},
     "output_type": "execute_result"
    }
   ],
   "source": [
    "HTML(downloaded['part1'])"
   ]
  },
  {
   "cell_type": "markdown",
   "metadata": {},
   "source": [
    "## Boilerplate\n",
    "\n",
    "Let's try using [pycodestyle_magic](https://github.com/mattijn/pycodestyle_magic) with pycodestyle (flake8 stopped working for me in VS Code Jupyter). Now how does type checking work?"
   ]
  },
  {
   "cell_type": "code",
   "execution_count": 3,
   "metadata": {},
   "outputs": [],
   "source": [
    "%load_ext pycodestyle_magic"
   ]
  },
  {
   "cell_type": "code",
   "execution_count": 4,
   "metadata": {},
   "outputs": [],
   "source": [
    "%pycodestyle_on"
   ]
  },
  {
   "cell_type": "code",
   "execution_count": 5,
   "metadata": {},
   "outputs": [],
   "source": [
    "testdata = (list(map(int, [1721,\n",
    "                           979,\n",
    "                           366,\n",
    "                           299,\n",
    "                           675,\n",
    "                           1456])),\n",
    "            (1721, 299, 514579))\n",
    "\n",
    "inputdata = list(map(int, downloaded['input'].splitlines()))"
   ]
  },
  {
   "cell_type": "code",
   "execution_count": 6,
   "metadata": {},
   "outputs": [
    {
     "data": {
      "text/plain": [
       "[1078, 1109, 1702, 1293, 1541]"
      ]
     },
     "execution_count": 6,
     "metadata": {},
     "output_type": "execute_result"
    }
   ],
   "source": [
    "inputdata[:5]"
   ]
  },
  {
   "cell_type": "code",
   "execution_count": 7,
   "metadata": {
    "tags": []
   },
   "outputs": [],
   "source": [
    "# My first, ugly solution to part 1\n",
    "def my_part1_ugly_solution(data):\n",
    "    output = (None, None, None)\n",
    "    for i in range(len(data)-1):\n",
    "        for j in range(i+1, len(data)):\n",
    "            a, b = (data[i], data[j])\n",
    "            result = a+b\n",
    "            if result == 2020:\n",
    "                print(f'{a} + {b} = {a + b}')\n",
    "                print(f'{a} * {b} = {a * b}')\n",
    "                return a, b, a*b"
   ]
  },
  {
   "cell_type": "code",
   "execution_count": 8,
   "metadata": {},
   "outputs": [
    {
     "name": "stdout",
     "output_type": "stream",
     "text": [
      "1721 + 299 = 2020\n",
      "1721 * 299 = 514579\n"
     ]
    }
   ],
   "source": [
    "answer = my_part1_ugly_solution(testdata[0])\n",
    "assert(set(answer[0:1]) ==\n",
    "       set(testdata[1][0:1]) and answer[2] == testdata[1][2])"
   ]
  },
  {
   "cell_type": "code",
   "execution_count": 9,
   "metadata": {},
   "outputs": [],
   "source": [
    "%%timeit -n1 -r1\n",
    "my_part1_ugly_solution(inputdata)"
   ]
  },
  {
   "cell_type": "markdown",
   "metadata": {},
   "source": [
    "The reason I don't love this solution is that I iterate *explicitly* over the indexes (always vectorize if possible!) rather than the data, and it's also error prone. Because I wasn't familiar with how `range()` works, I was not surprisingly [off by one](https://en.wikipedia.org/wiki/Off-by-one_error)."
   ]
  },
  {
   "cell_type": "code",
   "execution_count": 10,
   "metadata": {},
   "outputs": [],
   "source": [
    "for i in range(5):\n",
    "    print(i)"
   ]
  },
  {
   "cell_type": "code",
   "execution_count": 11,
   "metadata": {},
   "outputs": [],
   "source": [
    "# A more elegant solution, see comments at the end of part 2\n",
    "def my_part1_improved_solution(data):\n",
    "    sought = [(a, b) for a in data\n",
    "              for b in data\n",
    "              if a + b == 2020 and a < b]\n",
    "    if len(sought) > 0:\n",
    "        a, b = sought[0]\n",
    "        answer = a*b\n",
    "        print(f\"{a} + {b} = {a+b} and thus the answer is {a} * {b} = {a*b}\")\n",
    "        return a, b, answer"
   ]
  },
  {
   "cell_type": "code",
   "execution_count": 12,
   "metadata": {},
   "outputs": [],
   "source": [
    "answer = my_part1_improved_solution(testdata[0])\n",
    "assert(set(answer[0:2]) ==\n",
    "       set(testdata[1][0:2]) and answer[2] == testdata[1][2])"
   ]
  },
  {
   "cell_type": "code",
   "execution_count": 13,
   "metadata": {},
   "outputs": [
    {
     "name": "stdout",
     "output_type": "stream",
     "text": [
      "492 + 1528 = 2020\n",
      "492 * 1528 = 751776\n",
      "5.56 ms ± 0 ns per loop (mean ± std. dev. of 1 run, 1 loop each)\n"
     ]
    }
   ],
   "source": [
    "%%timeit -n1 -r1\n",
    "my_part1_improved_solution(inputdata)"
   ]
  },
  {
   "cell_type": "code",
   "execution_count": 14,
   "metadata": {},
   "outputs": [
    {
     "data": {
      "text/html": [
       "\n",
       "<p>Your puzzle answer was <code>751776</code>.</p>"
      ],
      "text/plain": [
       "<IPython.core.display.HTML object>"
      ]
     },
     "execution_count": 14,
     "metadata": {},
     "output_type": "execute_result"
    }
   ],
   "source": [
    "HTML(downloaded['part1_footer'])"
   ]
  },
  {
   "cell_type": "markdown",
   "metadata": {},
   "source": [
    "## Part Two"
   ]
  },
  {
   "cell_type": "code",
   "execution_count": 15,
   "metadata": {},
   "outputs": [
    {
     "data": {
      "text/html": [
       "<h2 id=\"part2\">--- Part Two ---</h2><p>The Elves in accounting are thankful for your help; one of them even offers you a starfish coin they had left over from a past vacation. They offer you a second one if you can find <em>three</em> numbers in your expense report that meet the same criteria.</p>\n",
       "<p>Using the above example again, the three entries that sum to <code>2020</code> are <code>979</code>, <code>366</code>, and <code>675</code>. Multiplying them together produces the answer, <code><em>241861950</em></code>.</p>\n",
       "<p>In your expense report, <em>what is the product of the three entries that sum to <code>2020</code>?</em></p>\n"
      ],
      "text/plain": [
       "<IPython.core.display.HTML object>"
      ]
     },
     "execution_count": 15,
     "metadata": {},
     "output_type": "execute_result"
    }
   ],
   "source": [
    "HTML(downloaded['part2'])"
   ]
  },
  {
   "cell_type": "code",
   "execution_count": 16,
   "metadata": {},
   "outputs": [],
   "source": [
    "testdata2 = (list(map(int, [1721,\n",
    "                            979,\n",
    "                            366,\n",
    "                            299,\n",
    "                            675,\n",
    "                            1456])),\n",
    "             (979, 366, 675, 241861950))"
   ]
  },
  {
   "cell_type": "code",
   "execution_count": 17,
   "metadata": {},
   "outputs": [],
   "source": [
    "# My first, ugly solution to part 2\n",
    "def my_part2_ugly_solution(data):\n",
    "    for i in range(len(data)-2):\n",
    "        for j in range(i+1, len(data)-1):\n",
    "            for k in range(j+1, len(data)):\n",
    "                a, b, c = (data[i], data[j], data[k])\n",
    "                result = a+b+c\n",
    "                if result == 2020:\n",
    "                    print(f'{a} + {b} + {c} = {result}')\n",
    "                    print(f'{a} * {b} * {c} = {a * b * c}')\n",
    "                    return a, b, c, a * b * c"
   ]
  },
  {
   "cell_type": "code",
   "execution_count": 18,
   "metadata": {},
   "outputs": [],
   "source": [
    "answer = my_part2_ugly_solution(testdata2[0])\n",
    "assert(set(answer[0:2]) ==\n",
    "       set(testdata2[1][0:2])\n",
    "       and answer[3] ==\n",
    "       testdata2[1][3])"
   ]
  },
  {
   "cell_type": "code",
   "execution_count": 19,
   "metadata": {},
   "outputs": [],
   "source": [
    "%%timeit -n1 -r1\n",
    "my_part2_ugly_solution(inputdata)"
   ]
  },
  {
   "cell_type": "code",
   "execution_count": 20,
   "metadata": {},
   "outputs": [],
   "source": [
    "# The more elegant solution as applied to Part 2\n",
    "def my_part2_improved_solution(data):\n",
    "    sought = [(a, b, c) for a in data\n",
    "              for b in data\n",
    "              for c in data\n",
    "              if a + b + c == 2020 and a < b and b < c]\n",
    "    if len(sought) > 0:\n",
    "        a, b, c = sought[0]\n",
    "        print(f'{a} + {b} + {c} = {a + b + c} ' +\n",
    "              f'and thus the answer is {a} * {b} * {c} = {a * b * c}')\n",
    "        return a, b, c, a * b * c"
   ]
  },
  {
   "cell_type": "code",
   "execution_count": 21,
   "metadata": {},
   "outputs": [],
   "source": [
    "answer = my_part2_improved_solution(testdata2[0])\n",
    "assert(set(answer[0:3]) ==\n",
    "       set(testdata2[1][0:3])\n",
    "       and answer[3] == testdata2[1][3])"
   ]
  },
  {
   "cell_type": "code",
   "execution_count": 22,
   "metadata": {},
   "outputs": [],
   "source": [
    "%%timeit -n1 -r1\n",
    "answer = my_part2_improved_solution(inputdata)"
   ]
  },
  {
   "cell_type": "markdown",
   "metadata": {},
   "source": [
    "In this solution, I resort to nested list comprehensions and tuples (see sections [5.1.3](https://docs.python.org/3/tutorial/datastructures.html#tut-listcomps) and [5.3](https://docs.python.org/3/tutorial/datastructures.html#tuples-and-sequences) of the [Python tutorial chapter 5 - Data structures](https://docs.python.org/3/tutorial/index.html). I don't love that this goes through all combinations (even worse in part 2), but I don't know how to address that solutions are commutative (and thus I exclude all but the ordered ones)."
   ]
  }
 ],
 "metadata": {
  "kernelspec": {
   "display_name": "Python 3.8.2 64-bit",
   "name": "python382jvsc74a57bd031f2aee4e71d21fbe5cf8b01ff0e069b9275f58929596ceb00d14d90e3e16cd6"
  },
  "language_info": {
   "codemirror_mode": {
    "name": "ipython",
    "version": 3
   },
   "file_extension": ".py",
   "mimetype": "text/x-python",
   "name": "python",
   "nbconvert_exporter": "python",
   "pygments_lexer": "ipython3",
   "version": "3.8.2-final"
  },
  "metadata": {
   "interpreter": {
    "hash": "31f2aee4e71d21fbe5cf8b01ff0e069b9275f58929596ceb00d14d90e3e16cd6"
   }
  }
 },
 "nbformat": 4,
 "nbformat_minor": 2
}

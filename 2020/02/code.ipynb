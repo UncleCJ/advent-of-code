{
 "cells": [
  {
   "cell_type": "markdown",
   "metadata": {},
   "source": [
    "# Day 2: Password Philosophy\n",
    "\n",
    "[*Advent of Code day 2 - 2020-12-02*](https://adventofcode.com/2020/day/2) and [*solution megathread*](https://www.reddit.com/r/adventofcode/comments/k52psu/2020_day_02_solutions/)\n",
    "\n",
    "[![Binder](https://mybinder.org/badge_logo.svg)](https://mybinder.org/v2/gh/UncleCJ/advent-of-code/cj?filepath=day-02%2Fday-02.ipynb)\n",
    "\n",
    "Your flight departs in a few days from the coastal airport; the easiest way down to the coast from here is via [toboggan](https://en.wikipedia.org/wiki/Toboggan).\n",
    "\n",
    "The shopkeeper at the North Pole Toboggan Rental Shop is having a bad day. \"Something's wrong with our computers; we can't log in!\" You ask if you can take a look."
   ]
  },
  {
   "cell_type": "markdown",
   "metadata": {},
   "source": [
    "## Part 1\n",
    "\n",
    "Their password database seems to be a little corrupted: some of the passwords wouldn't have been allowed by the Official Toboggan Corporate Policy that was in effect when they were chosen.\n",
    "\n",
    "To try to debug the problem, they have created a list (your puzzle input) of *passwords* (according to the corrupted database) and *the corporate policy when that password was set.*\n",
    "\n",
    "For example, suppose you have the following list:\n",
    "\n",
    "```\n",
    "1-3 a: abcde\n",
    "1-3 b: cdefg\n",
    "2-9 c: ccccccccc\n",
    "```\n",
    "\n",
    "Each line gives the password policy and then the password. The password policy indicates the lowest and highest number of times a given letter must appear for the password to be valid. For example, `1-3 a` means that the password must contain `a` at least `1` time and at most `3` times.\n",
    "\n",
    "In the above example, *`2`* passwords are valid. The middle password, `cdefg`, is not; it contains no instances of b, but needs at least `1`. The first and third passwords are valid: they contain one `a` or nine `c`, both within the limits of their respective policies.\n",
    "\n",
    "*How many passwords are valid* according to their policies?\n",
    "\n",
    "To begin, [get your puzzle input](https://adventofcode.com/2020/day/2/input)"
   ]
  },
  {
   "cell_type": "code",
   "execution_count": 1,
   "metadata": {},
   "outputs": [
    {
     "output_type": "stream",
     "name": "stdout",
     "text": [
      "-- Already have input, skipping download...\n"
     ]
    }
   ],
   "source": [
    "# Initialize - from https://www.techcoil.com/blog/how-to-download-a-file-via-http-post-and-http-get-with-python-3-requests-library/\n",
    "import os\n",
    "import requests\n",
    "\n",
    "if os.path.isfile('./input.txt'):\n",
    "    print(\"-- Already have input, skipping download...\")\n",
    "else:\n",
    "    print(\"-- No input.txt, attempting to download\")\n",
    "    response = requests.get('https://adventofcode.com/2020/day/2/input')\n",
    "    if response.status_code == 200:\n",
    "        with open('input.txt', 'a') as local_file:\n",
    "            print(\"writing input.txt\")\n",
    "            local_file.write(response.content)\n",
    "\n",
    "with open('input.txt', 'r') as inp:\n",
    "    inputdata = [line.strip() for line in inp.readlines()]"
   ]
  },
  {
   "cell_type": "code",
   "execution_count": 2,
   "metadata": {
    "tags": []
   },
   "outputs": [
    {
     "output_type": "stream",
     "name": "stdout",
     "text": [
      "answer: there are 636 valid passwords\n"
     ]
    }
   ],
   "source": [
    "import re\n",
    "\n",
    "def parseData(data):\n",
    "    output = []\n",
    "    pattern = re.compile(r\"\"\"(?P<lowlimit>\\d+)-(?P<highlimit>\\d+)\\s\n",
    "        (?P<requiredchar>[a-z]):\\s\n",
    "        (?P<password>[a-z]+)\"\"\", re.VERBOSE)\n",
    "\n",
    "    for line in data:\n",
    "        match = pattern.match(line)\n",
    "        fields = { 'lowlimit': int(match.group(\"lowlimit\")),\n",
    "            'highlimit': int(match.group(\"highlimit\")),\n",
    "            'requiredchar': chr(ord(match.group(\"requiredchar\"))),\n",
    "            'password': match.group(\"password\") }\n",
    "        output.append(fields)\n",
    "        \n",
    "    return output\n",
    "\n",
    "items = parseData(inputdata)\n",
    "\n",
    "answer = 0\n",
    "for item in items:\n",
    "    occurences = item['password'].count(item['requiredchar'])\n",
    "    if (occurences >= item['lowlimit'] and occurences <= item['highlimit']):\n",
    "        #print(f\"password {item['password']} is valid for the rule {item['lowlimit']}-{item['highlimit']} {item['requiredchar']}\")\n",
    "        answer += 1\n",
    "    #else:\n",
    "    #    print(f\"password {item['password']} is invalid for the rule {item['lowlimit']}-{item['highlimit']} {item['requiredchar']}\")\n",
    "        \n",
    "print(f\"answer: there are {answer} valid passwords\")"
   ]
  },
  {
   "cell_type": "markdown",
   "metadata": {},
   "source": [
    "## Part 2\n",
    "\n",
    "While it appears you validated the passwords correctly, they don't seem to be what the Official Toboggan Corporate Authentication System is expecting.\n",
    "\n",
    "The shopkeeper suddenly realizes that he just accidentally explained the password policy rules from his old job at the sled rental place down the street! The Official Toboggan Corporate Policy actually works a little differently.\n",
    "\n",
    "Each policy actually describes *two positions in the password*, where `1` means the first character, `2` means the second character, and so on. (Be careful; Toboggan Corporate Policies have no concept of \"index zero\"!) *Exactly one of these positions* must contain the given letter. Other occurrences of the letter are irrelevant for the purposes of policy enforcement.\n",
    "\n",
    "Given the same example list from above:\n",
    "\n",
    "- `1-3 a: abcde` is *valid:* position `1` contains `a` and position `3` does not.\n",
    "- `1-3 b: cdefg` is *invalid:* neither position `1` nor position `3` contains `b`.\n",
    "- `2-9 c: ccccccccc` is *invalid:* both position `2` and position `9` contain `c`.\n",
    "\n",
    "How many passwords are valid according to the new interpretation of the policies?"
   ]
  },
  {
   "cell_type": "code",
   "execution_count": 3,
   "metadata": {
    "tags": []
   },
   "outputs": [
    {
     "output_type": "stream",
     "name": "stdout",
     "text": [
      "588\n"
     ]
    }
   ],
   "source": [
    "answer = 0\n",
    "for item in items:\n",
    "    #print(item)\n",
    "    if ((len(item['password']) >= item['lowlimit'] and item['requiredchar'] == item['password'][item['lowlimit']-1])\n",
    "        ^ (len(item['password']) >= item['highlimit'] and item['requiredchar'] == item['password'][item['highlimit']-1])):\n",
    "        answer += 1\n",
    "\n",
    "print(answer)"
   ]
  }
 ],
 "metadata": {
  "kernelspec": {
   "name": "python3",
   "display_name": "Python 3.6.9 64-bit",
   "metadata": {
    "interpreter": {
     "hash": "31f2aee4e71d21fbe5cf8b01ff0e069b9275f58929596ceb00d14d90e3e16cd6"
    }
   }
  },
  "language_info": {
   "codemirror_mode": {
    "name": "ipython",
    "version": 3
   },
   "file_extension": ".py",
   "mimetype": "text/x-python",
   "name": "python",
   "nbconvert_exporter": "python",
   "pygments_lexer": "ipython3",
   "version": "3.6.9-final"
  }
 },
 "nbformat": 4,
 "nbformat_minor": 4
}
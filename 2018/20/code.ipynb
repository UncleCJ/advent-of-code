{
 "cells": [
  {
   "attachments": {},
   "cell_type": "markdown",
   "metadata": {},
   "source": [
    "# Day 20: A Regular Map\n",
    "\n",
    "[*Advent of Code 2018 day 20*](https://adventofcode.com/2018/day/20) and [*solution megathread*](https://redd.it/a7uk3f)\n",
    "\n",
    "[![nbviewer](https://raw.githubusercontent.com/jupyter/design/master/logos/Badges/nbviewer_badge.svg)](https://nbviewer.jupyter.org/github/UncleCJ/advent-of-code/blob/cj/2018/20/code.ipynb) [![Binder](https://mybinder.org/badge_logo.svg)](https://mybinder.org/v2/gh/UncleCJ/advent-of-code/cj?filepath=2018%2F20%2Fcode.ipynb)"
   ]
  },
  {
   "cell_type": "code",
   "execution_count": 1,
   "metadata": {},
   "outputs": [
    {
     "name": "stderr",
     "output_type": "stream",
     "text": [
      "Version 1.0.4\n"
     ]
    }
   ],
   "source": [
    "import sys\n",
    "sys.path.append('../../')\n",
    "\n",
    "\n",
    "%load_ext nb_mypy\n",
    "%nb_mypy On"
   ]
  },
  {
   "cell_type": "code",
   "execution_count": 3,
   "metadata": {},
   "outputs": [
    {
     "name": "stdout",
     "output_type": "stream",
     "text": [
      "Writing 'downloaded' (dict) to file 'downloaded'.\n"
     ]
    }
   ],
   "source": [
    "import common\n",
    "\n",
    "\n",
    "downloaded = common.refresh()\n",
    "%store downloaded >downloaded\n",
    "\n",
    "%load_ext pycodestyle_magic\n",
    "%pycodestyle_on"
   ]
  },
  {
   "cell_type": "markdown",
   "metadata": {},
   "source": [
    "## Part One"
   ]
  },
  {
   "cell_type": "code",
   "execution_count": 4,
   "metadata": {},
   "outputs": [
    {
     "data": {
      "text/html": [
       "<h2>--- Day 20: A Regular Map ---</h2><p>While you were learning about instruction pointers, the Elves made considerable progress. When you look up, you discover that the North Pole base construction project has completely surrounded you.</p>\n",
       "<p>The area you are in is made up entirely of <em>rooms</em> and <em>doors</em>. The rooms are arranged in a grid, and rooms only connect to adjacent rooms when a door is present between them.</p>\n",
       "<p>For example, drawing rooms as <code>.</code>, walls as <code>#</code>, doors as <code>|</code> or <code>-</code>, your current position as <code>X</code>, and where north is up, the area you're in might look like this:</p>\n",
       "<pre><code>#####\n",
       "#.|.#\n",
       "#-###\n",
       "#.|X#\n",
       "#####\n",
       "</code></pre>\n",
       "<p>You get the attention of a passing construction Elf and ask for a map. \"I don't have time to draw out a map of this place - it's <em>huge</em>. Instead, I can give you directions to <em>every room in the facility</em>!\" He writes down some directions on a piece of parchment and runs off. In the example above, the instructions might have been <code>^WNE$</code>, a <a href=\"https://en.wikipedia.org/wiki/Regular_expression\">regular expression</a> or \"<em>regex</em>\" (your puzzle input).</p>\n",
       "<p>The regex matches routes (like <code>WNE</code> for \"west, north, east\") that will take you from your current room through various doors in the facility. In aggregate, the routes will take you through <em>every door in the facility at least once</em>; mapping out all of these routes will let you build a proper map and find your way around.</p>\n",
       "<p><code>^</code> and <code>$</code> are at the beginning and end of your regex; these just mean that the regex doesn't match anything outside the routes it describes. (Specifically, <code>^</code> matches the start of the route, and <code>$</code> matches the end of it.) These characters will not appear elsewhere in the regex.</p>\n",
       "<p>The rest of the regex matches various sequences of the characters <code>N</code> (north), <code>S</code> (south), <code>E</code> (east), and <code>W</code> (west). In the example above, <code>^WNE$</code> matches only one route, <code>WNE</code>, which means you can move <em>west, then north, then east</em> from your current position. Sequences of letters like this always match that exact route in the same order.</p>\n",
       "<p>Sometimes, the route can <em>branch</em>. A branch is given by a <em>list of options</em> separated by pipes (<code>|</code>) and wrapped in parentheses. So, <code>^N(E|W)N$</code> contains a branch: after going north, you must choose to go <em>either east or west</em> before finishing your route by going north again. By tracing out the possible routes after branching, you can determine where the doors are and, therefore, where the rooms are in the facility.</p>\n",
       "<p>For example, consider this regex: <code>^ENWWW(NEEE|SSE(EE|N))$</code></p>\n",
       "<p>This regex begins with <code>ENWWW</code>, which means that from your current position, all routes must begin by moving east, north, and then west three times, in that order. After this, there is a branch.  Before you consider the branch, this is what you know about the map so far, with doors you aren't sure about marked with a <code>?</code>:</p>\n",
       "<pre><code>#?#?#?#?#\n",
       "?.|.|.|.?\n",
       "#?#?#?#-#\n",
       "    ?X|.?\n",
       "    #?#?#\n",
       "</code></pre>\n",
       "<p>After this point, there is <code>(NEEE|SSE(EE|N))</code>. This gives you exactly two options: <code>NEEE</code> and <code>SSE(EE|N)</code>. By following <code>NEEE</code>, the map now looks like this:</p>\n",
       "<pre><code>#?#?#?#?#\n",
       "?.|.|.|.?\n",
       "#-#?#?#?#\n",
       "?.|.|.|.?\n",
       "#?#?#?#-#\n",
       "    ?X|.?\n",
       "    #?#?#\n",
       "</code></pre>\n",
       "<p>Now, only <code>SSE(EE|N)</code> remains. Because it is in the same parenthesized group as <code>NEEE</code>, it starts from the same room <code>NEEE</code> started in. It states that starting from that point, there exist doors which will allow you to move south twice, then east; this ends up at another branch. After that, you can either move east twice or north once. This information fills in the rest of the doors:</p>\n",
       "<pre><code>#?#?#?#?#\n",
       "?.|.|.|.?\n",
       "#-#?#?#?#\n",
       "?.|.|.|.?\n",
       "#-#?#?#-#\n",
       "?.?.?X|.?\n",
       "#-#-#?#?#\n",
       "?.|.|.|.?\n",
       "#?#?#?#?#\n",
       "</code></pre>\n",
       "<p>Once you've followed all possible routes, you know the remaining unknown parts are all walls, producing a finished map of the facility:</p>\n",
       "<pre><code>#########\n",
       "#.|.|.|.#\n",
       "#-#######\n",
       "#.|.|.|.#\n",
       "#-#####-#\n",
       "#.#.#X|.#\n",
       "#-#-#####\n",
       "#.|.|.|.#\n",
       "#########\n",
       "</code></pre>\n",
       "<p>Sometimes, a list of options can have an <em>empty option</em>, like <code>(NEWS|WNSE|)</code>. This means that routes at this point could effectively skip the options in parentheses and move on immediately.  For example, consider this regex and the corresponding map:</p>\n",
       "<pre><code>^ENNWSWW(NEWS|)SSSEEN(WNSE|)EE(SWEN|)NNN$\n",
       "\n",
       "###########\n",
       "#.|.#.|.#.#\n",
       "#-###-#-#-#\n",
       "#.|.|.#.#.#\n",
       "#-#####-#-#\n",
       "#.#.#X|.#.#\n",
       "#-#-#####-#\n",
       "#.#.|.|.|.#\n",
       "#-###-###-#\n",
       "#.|.|.#.|.#\n",
       "###########\n",
       "</code></pre>\n",
       "<p>This regex has one main route which, at three locations, can optionally include additional detours and be valid: <code>(NEWS|)</code>, <code>(WNSE|)</code>, and <code>(SWEN|)</code>. Regardless of which option is taken, the route continues from the position it is left at after taking those steps. So, for example, this regex matches all of the following routes (and more that aren't listed here):</p>\n",
       "<ul>\n",
       "<li><code>ENNWSWWSSSEENEENNN</code></li>\n",
       "<li><code>ENNWSWW<em>NEWS</em>SSSEENEENNN</code></li>\n",
       "<li><code>ENNWSWW<em>NEWS</em>SSSEENEE<em>SWEN</em>NNN</code></li>\n",
       "<li><code>ENNWSWWSSSEEN<em>WNSE</em>EENNN</code></li>\n",
       "</ul>\n",
       "<p>By following the various routes the regex matches, a full map of all of the doors and rooms in the facility can be assembled.</p>\n",
       "<p>To get a sense for the size of this facility, you'd like to determine which room is <em>furthest</em> from you: specifically, you would like to find the room for which the <em>shortest path to that room would require passing through the most doors</em>.</p>\n",
       "<ul>\n",
       "<li>In the first example (<code>^WNE$</code>), this would be the north-east corner <code><em>3</em></code> doors away.</li>\n",
       "<li>In the second example (<code>^ENWWW(NEEE|SSE(EE|N))$</code>), this would be the south-east corner <code><em>10</em></code> doors away.</li>\n",
       "<li>In the third example (<code>^ENNWSWW(NEWS|)SSSEEN(WNSE|)EE(SWEN|)NNN$</code>), this would be the north-east corner <code><em>18</em></code> doors away.</li>\n",
       "</ul>\n",
       "<p>Here are a few more examples:</p>\n",
       "<pre><code>Regex: ^ESSWWN(E|NNENN(EESS(WNSE|)SSS|WWWSSSSE(SW|NNNE)))$\n",
       "Furthest room requires passing 23 doors\n",
       "\n",
       "#############\n",
       "#.|.|.|.|.|.#\n",
       "#-#####-###-#\n",
       "#.#.|.#.#.#.#\n",
       "#-#-###-#-#-#\n",
       "#.#.#.|.#.|.#\n",
       "#-#-#-#####-#\n",
       "#.#.#.#X|.#.#\n",
       "#-#-#-###-#-#\n",
       "#.|.#.|.#.#.#\n",
       "###-#-###-#-#\n",
       "#.|.#.|.|.#.#\n",
       "#############\n",
       "</code></pre>\n",
       "<pre><code>Regex: ^WSSEESWWWNW(S|NENNEEEENN(ESSSSW(NWSW|SSEN)|WSWWN(E|WWS(E|SS))))$\n",
       "Furthest room requires passing 31 doors\n",
       "\n",
       "###############\n",
       "#.|.|.|.#.|.|.#\n",
       "#-###-###-#-#-#\n",
       "#.|.#.|.|.#.#.#\n",
       "#-#########-#-#\n",
       "#.#.|.|.|.|.#.#\n",
       "#-#-#########-#\n",
       "#.#.#.|X#.|.#.#\n",
       "###-#-###-#-#-#\n",
       "#.|.#.#.|.#.|.#\n",
       "#-###-#####-###\n",
       "#.|.#.|.|.#.#.#\n",
       "#-#-#####-#-#-#\n",
       "#.#.|.|.|.#.|.#\n",
       "###############\n",
       "</code></pre>\n",
       "<p><em>What is the largest number of doors you would be required to pass through to reach a room?</em> That is, find the room for which the shortest path from your starting location to that room would require passing through the most doors; what is the fewest doors you can pass through to reach it?</p>\n"
      ],
      "text/plain": [
       "<IPython.core.display.HTML object>"
      ]
     },
     "execution_count": 4,
     "metadata": {},
     "output_type": "execute_result"
    }
   ],
   "source": [
    "from IPython.display import HTML\n",
    "\n",
    "HTML(downloaded['part1'])"
   ]
  },
  {
   "cell_type": "markdown",
   "metadata": {},
   "source": [
    "## Comments\n",
    "\n",
    "..."
   ]
  },
  {
   "cell_type": "code",
   "execution_count": 5,
   "metadata": {},
   "outputs": [],
   "source": [
    "testdata = \"\"\"^ENWWW(NEEE|SSE(EE|N))$\"\"\".splitlines()\n",
    "\n",
    "testdata2 = \"\"\"^ENNWSWW(NEWS|)SSSEEN(WNSE|)EE(SWEN|)NNN$\"\"\".splitlines()\n",
    "\n",
    "inputdata = downloaded['input'].splitlines()\n",
    "# inputdata = open('input.txt', 'r').read().splitlines()"
   ]
  },
  {
   "cell_type": "code",
   "execution_count": 6,
   "metadata": {},
   "outputs": [
    {
     "name": "stdout",
     "output_type": "stream",
     "text": [
      "^WNWWWWNENENNNNNENESSSENNENNESSSWSEENESSSWWSEEENNEESWSEESSEEESSSWSSSSWWNWSSWNWSSSWWWSSESENN(ESSSEENWNEESESEEEEESESEENEEESSWNWSSSWSWNNENWWSSSSSWSSWWNNNWWWSEESWWWWSESWSWNNNWWWWNEENNNWNENWNNE(NWWNWWNNE(S|NWNENESEENNW(S|NWWNNNWWN(EENNWNE(EEESWSSSEEENNW(WSEWNE|)NNESE(N|SEEESWWWSESWWWSE(SWWNWWN(NNNN|EE)|EEE(S|NN)))|NWNEN(EE|WWW(SESSW(W|N)|NN)))|WSSSENESSWSS(ENEEWWSW|)SSWWWNENWWSWWWWWSESWWWSWWWSESEESESENNENN(EENN(WSNE|)ESSESEEESSESEESE(NNWWN(WNNWWN(EE|W(WNSE|)S)|E)|SWWWSSWWNNNWSSWWWWNNNN(NEN(W|ESESWSSE(NEE(NWNEWSES|)ES(EE|SS)|SWWNNN))|WSSSSSESWWNNNNWWWSWWNWWNNEN(ESS(W|E(E(NWES|)E|S))|WNWWNWNNNNNWWSSWNNWWSESWSWWNNE(S|NNENNESSENEEEEEENENWWNENNNWNNWWNNWNENWNNWNEEEENENWWWS(WNWSWNNENWWSWWSEESWWWSSESWWSESESWWSWNWNE(NNWWS(WSESWSWSWNWSWSWNWWNEEENEENE(S|NWNWSWNWWWNEENNWWWNNNWWNENEES(SENNENWNENNWNEENNNNNNNNNNNNNWNEESEEEENNNWSSWWNWWWWSWNWWNNENWWSSWNNNWSWWSESWSSWSSESWSSEEEENEESWSWWSSWNNWWSWNNWSSSESSW(SEENESSESEEENWWNWNEN(WWN(WSNE|)N|EEESEESENNNE(NNNNWSSWNNW(NWNWNN(NWW(WSESE(SWS(W(NNWESS|)S(E|W)|EE)|N)|NN)|ESE(ES(E(N|S(ENSW|)W)|W)|N))|SSWSS(WWNEWSEE|)ENE(SSWENN|)E)|SSSSSWWN(E|WSW(NN(WNWSNESE|)E|SSSSS(ENNE(NNWSNESS|)(E|SS)|WWNNNWN(EESSSNNNWW|)WWSESESWWWN(NWW(SSSE(NN|SWSSSEENESSSSWNWSW(NNEEWWSS|)SEEEENEENWNEESE(NNWWWW(NNEN(WN(WWSESWWS(NEENWNSESWWS|)|E)|E(SSWENN|)E)|SS)|SWSESE(NNEEWWSS|)SSS(WWNENWWWN(WSWWSSSEENESE(NNWWWS|ESENESSWSWSESEEEESESSESSSWWNN(ESNW|)WNN(ESNW|)NWSSWWWWSESWSWSWNWSSEEENESEEENNE(NWWN(E|WSS(SENSWN|)W)|SSENESENEENWNENWNEENNWSWWNENWNENW(WWWNWSS(WN|EEES)|NEEEEN(W|E(NWES|)SENEEESWSESSWWSEES(WSS(ENSW|)SWS(WNNENNWNNWSSW(NNNN(WWSSEN|ESENE(SEWN|)N)|SE(E|SSWSSW(NNNEWSSS|)SSEEN(W|N(N|ESSE(NN|SWWSESESESEESWWWWN(WWNN(ESEWNW|)NWN(WSWNN(ENWESW|)WSWWSWWNWSWWNEN(EEE(EE|S)|WWSWSESSSWSWNNENWNWWSSWNW(NNNNNENNE(SSSWSEES(WWS|ENE)|NENWNNWW(NENWNENEN(EEEES(E|SSSESS(ENESNWSW|)WWSW(SS(ENSW|)W|NWNNNESE(S(W|E)|NNWW(WSS|NEE))))|WW(S|NENWNNNE(SS|EE)))|SSS(ENNSSW|)SS))|SSEESE(SWWNWSSEESENESESWWSEESSSSWWWSSWNNNENEE(SWEN|)NWWWW(S(SSSSSSSEEEESSSWWWNN(ESENSWNW|)WSSSEEESSENEENW(W|NENESESEESEENWNWWNWNENWNWSWS(W(NNNWSWN(WSWNSENE|)NNESEEN(NEESSW(N|S(WSNE|)EESESSES(W|ENNWNENWNNENNNENNEESEEESSENENNW(WNNNWSSSWNWNENNEN(WNENNWWWSSSSWWWSEEE(SWS(E|WNWSSS(ENSW|)WNNWSSSS(SSSE(NNNNESS(NNWSSSNNNESS|)|S)|WNWNW(SSEWNN|)NNNNN(W(W|S)|EEEE(SSWNWSSS(WNNNSSSE|)S|NEENNWWWN(WSW(SES(ENEEWWSW|)WW|N)|EEEE(NEWS|)SSS)))))|ENNNNE)|EES(W|EEESENEENENEENWNE(ESSSENNESSSSWSEENESSWSSSWSEESSWNWWNWSWSWWNWSWNWNEENNENWNNEES(SSES(ENE(NE(S|NWWSWNNNE(N(WW(NEWS|)SW(N|WWSWWSEESWSWW(N(E|NWWNNEESW(ENWWSSNNEESW|))|SSWSSSWSESENESSENEESENESSESEESWWSEESESESWSSESENESEESWWSSEEEENW(NNNNESEEESSEENENNNESESWSEEENNNESSEESENNNNENENEESWSSESENN(W|EEEENESSESWSWNWSSSSSEEENWWNNEES(W|ENEENENNWWNENNWSWW(SESSS(ENEWSW|)W|NENWNWSWWNNNNWSWWSSESE(NNWESS|)SS(ENEEWWSW|)WWN(E|NWWWWSWSWWNWNWWSWWWWSS(WNWWWSWS(WNNNE(S|ENWWWNNWSSWSESE(SWWSW(S(EESENNW(ESSWNWESENNW|)|W)|NN(NNWS(S|WNNNWWNWNENN(WSWNWSWWN(W(S|NWSWNNENNEEN(SWWSSWENNEEN|))|E)|EN(W|ESSESS(ESE(SWWNSEEN|)NNNENNEEESWWSSWSEESSEENWNEESENNNNWW(SWWSEEEN(SWWWNEWSEEEN|)|NENEENWWWWWS(EE|WWW(SSW(SS|W)|NENE(NNESE(S(W|EEEN(WW|EEEEN(WWN(WSNE|)EE|EEEEE(SSSSENESENESSSSESWWNNWWSWWNN(E(S|EEE)|NNNNWWWSESSSWSWWNENENWWN(E|W(W|SS(E|SSW(NWES|)SESWSEEENESESWWSE(EEEENNESSS(S|ENNEN(WN(WWWW(SSENSWNN|)NW(WWWSNEEE|)(S|NENNNN)|N)|EEE(SWS(W(W|N)|E)|NEENNW(W(SEWN|)W|NENEN(ESEEESWSESSENNENENNWW(NENEN(ESESENEENNWWNEN(WWSS(SEEWWN|)W|ESESSESSSENESESWSSWNNWWSSE(SEEEESSSSESENNNW(NEESSSEESSEENNEENWWNNEEENNNNWWNWNEESENNNEENWNWWS(SSWWWNENWWNWWNNNWWSWSWSESSESSENESENE(NWNWSWNNW(NENSWS|)S|SSWSEE(NN|ESWWSWWN(E|WSS(WNWN(WSNE|)ENN(EESWENWW|)W(NNW(NNWW(SSENSWNN|)NENNWNWSS(E|SS|WNWWNEENNENWWNNENENWNWSSWNNWSSSESSS(SENSWN|)WNWN(WWWWNNNESSEENE(S|NWW(NNWSWNWNNWWSESSWNW(SSEEE(N|SSSWWWNEENWWWNNWSSWS(WNW(NEENSWWS|)S|EES(SEEEEEES(ENESEWNWSW|)(W|S)|W)))|NNNEEENWNNW(SS|NNENNENNESSSESEENWNNNW(NEESSENEEEESSWSESWSSEEN(NNESSSEEENNENWNWNENNENENWNNNNWSWWWWNWNNENNNENESEESSWNWSSSW(SEENNEENENEEENWWNNENNNNWNWNEENWNWSWNNNNESEES(WW|SESSENESSENNNWNENWWNW(SSESNWNN|)WWNNWWNEEESES(ENNWNWNWWWWS(SSWWNNNNNEES(WSSSNNNE|)EEEEENWNNWNENWNENNNESSENENWNWWNWNN(ESENESENESSEEENWN(WSNE|)EEEEEEEEESWWSSWSSWWSWWWSWWWSEEEEEEN(WW|ESESENENWN(W(W|S)|ENN(WSNE|)EESWSESSESWW(WSSSSESSWSESESSEE(NWNENNWSWNNNESENNWWWNEN(EE(SWEN|)NNNNNW(SS|NENWWWWNEEEENWWNEE(WWSEESNWWNEE|))|W)|SSSSSWNWWNENN(ESSNNW|)WWWWSSSSSWWSSEEN(W|EEESEESWWWW(NEWS|)WWWWNWSWNWWSWNWSSSEEESWWSWW(N(E|NNNNW(SSSSWENNNN|)NN(ESEEENESENNNWSWNNEEEENESE(SWS(WW(NE|SSEN)|E)|NNWWNENWNENNNESSESE(SE(S(ENSW|)WWNW(S|N)|N)|NNWNE(NNNNWSSWNWSWNNEENWWWSSSSSSWWNNE(S|NNNNWSWNWSWNNN(NENNN(WNWWEESE|)EEEESS(WWN(WSSEWNNE|)E|ENNNEN(WWSNEE|)EESWSSWN(SENNENSWSSWN|))|WWSSE(N|SS(WNSE|)SESESWW(W|N|SESSSSENNNNE(NNNN(ESNW|)W(S|W)|SSSESSS(WNNSSE|)ENE(S|NNNN(WS(WNSE|)SS|ENNNEEE(WWWSSSNNNEEE|))))))))|E)))|W))|SSSEENN(WSNE|)EESSSSESWWWWWSWSSWNNWW(SESSEEENNEEEEN(EESWSSSWNWWSSE(N|SSSENENN(WSNE|)ESENENNNNNNNENWWSW(NNW(NNN(WW|ESSEEES(WW|ESSSWSSENENENNW(NNEES(SEEE(NWWNNESENNWWNENE(N(WWSWNWSSSWWS(EEENNSSWWW|)(S|WWNENNWN(EEESSWN(SENNWWEESSWN|)|WWW(SES(W|E(E|SS|N))|W(WW|N))))|NNNNWW(SEWN|)NWSWWNNNNE(SSS|E))|S)|SWWSW(N|SWSWSSEESESESE(NNNNWNENW(NEWS|)WSS(SESNWN|)W(N|W)|SWSWSWNNENWNWWSESSSWNNWWSESSSSSESWSSSSESEEEENWWWNNW(NEEENESSWWSEEE(SSSSWNWSWNWSWSWWSSSWNNWSSWNWSSSENEEESWWSESENESSSEEENESSSESSE(SWSSSE(NN|SWWWWSESSWSESSWSSWSESSWSWWNEN(NNNNNWWNNNWSWWNNW(N(EENNNEESESSWW(N(N|E)|S(WSNE|)EESSSENE(SS(E|SS)|N(WNENWNNESENEE(SWEN|)NWWNENN(ESSNNW|)NWN(E|WSWNWWW(NN(EESWENWW|)NWNWWNNWSSWS(SS|WNW(NWSWNNNNWWNENWWNENNESENNWNEEEENNWWWNNESENEEESW(SEESEENNNENNWSWSS(S|WNNNENN(WSWNWNNWSWSESSS(EN(ESNW|)N|WWNWNNNE(SSESNWNN|)NWWNWS(SESSW(N|SES(E|SSSWS(EEEE|SWNWNNE(S|ENNW(SWWWWSEESSWSESSWW(SEEE(ENN(W(S|N)|E)|SSWNWWWS(EESSENEESWS(EEE|WW(SE(S|E)|W(NN|W)))|W))|N(WNNE(N(WNWNN(E(S|EEEE)|WSWSESSE(N|SWWNWWS(E|W(SEWN|)NWWWNENNEEESS(WNWSNESE|)E(NNNWNN(WSWWWS(WNN(N(ESEEWWNW|)N|W)|SS|EEE)|NNN(W|ENE(E|SSSW(N|SSE(S|N)))))|E))))|E)|S)|E))|NN)))))|WNNEEN(W|EESWSEE(NNE(NNEEE|SSE)|S))))|NENEE(NEENWNE(NNWSNESS|)EE|SWSEESW(WWNSEE|)SESSW(N|SESWW(N|SEESWSESWSS(WWNNE(NNWSWSSSSE(SWWSWWWSWS(WNNNE(EENNWNEENE(NN(WNWSS(WS(E|WNWSSESWW(W|S(EEE|S)))|E)|E)|SSSW(S|N))|S)|EE(SW|NEE))|EE)|S)|EEN(N|E|W)))))))|W)|S))|WSW(N|SSES(WSSSNNNE|)ENENW(NEESSS(SEENNW(NEESNWWS|)S|W)|W))))|E)))|WW)|SSSWW(NEWS|)SSENEENEESWSSEESSS(ENNNNWW(EESSSSNNNNWW|)|SWWNWSSEEESESWWNWWSESEEEEESWWSEESEEEEE(NNNWNNE(NWNNE(S|NNWNENWNNE(NNNWSSW(NN|SSSSWSES(E|WSSE(SSSWNW(NEWS|)S(WWNEWSEE|)SESWSEEN(ESNW|)N|N)))|S))|S)|SSWNWWS(E|WWN(E|WNWSWWNNWWSESS(WWN(NWNWWNEENE(S(S|E(EEESSNNWWW|)N)|NNNWWNWNWSSESES(ENSW|)SWWSWNWSWSWWWNWNNNNESESS(WNSE|)SENENNNW(SS|WNNNESENNNESES(SW(N|S(WW|SE(SES(WWNSEE|)E|N)))|ENNWNWN(EESE(N|SEESSS(WNWNEWSESE|)SENNEN(WNENWESWSE|)EES(W|S))|WWS(E|SSWNNNWSWWSESWWSWWWNNNNNEENNNNN(WWN(NNNNN(WSSWNWSSW(NNNWESSS|)SESESWSEE(ESE(N|SWS(E|WNWSSESSWSW(SSSWSWWSWSESWSEESWSWWSESWS(WNWNWWWSS(ENESEWNWSW|)WWNNWWWNEEENENESES(WWSSNNEE|)EEE(S|NWWNN(ESEE(SE|NW)|W(S|WWWSWSWWNNWNNWWSWSWSWSWWNENENNWWW(NEEEES(ENE(NWES|)EEEEEESWS(EEEENWNENNNW(NEEEWWWS|)SWS(E|WNWWS(WNNE(N(N|W)|E)|E)|SS)|SW(NWNEWSES|)S)|S)|WWWWSW(SWWSSWWWSESENESSWWS(WWWWNNWSWWNWNWSSWS(EE(N|EEE)|WWNENWWWWWNNWSWWNWNWSWSSSENNESSENESE(N|S(EEEENWWW(EEESWWEENWWW|)|WWWWWWWWWNWNNEEENNNNEENESEENESEEESEESEEES(WS(ESNW|)WNWSWWNN(ESNW|)WNWWW(WWWWS(E|SSSSWWN(E|W))|SE(S|E))|ENESENEEENESE(SWS(WNWSW(W|S|N)|SSEENWN(SESWWNSEENWN|))|EN(ESENSWNW|)WNWWWSWNNNESEN(EESWENWW|)NWWNWSSSSWS(E|WNWSWWNNNNNESSENNNWWNEENENWWWNWWWNWNWSSSWNWNNWNWNW(NENWN(W|NNNEESWSEESENN(EESWSSSSS(EN(N|ESE(S(W|SENEN(E(N|EESSWS(EE(NN|SSEE(NWES|)ESWS(ESNW|)WNWWSSE(N|SWSESWWWS(NEEENWESWWWS|)))|WN(NEWS|)W))|W))|N))|W(NNWW(SESNWN|)N(NWES|)EE|SS))|NNW(WWNSEE|)SS))|SSS(W|SEN(ESSSSEN(ESSESSS(WWNENWWSWWS(EESNWW|)WNNEEN(NWWWN(EEENWESWWW|)WSWWNW(SSEESSENE(SSWWWWSSWNNWWWNENNWSWSSWNNNW(SSSSEEEESSE(NN|SWWWSWW(NENEN(WWS|ES)|SSEEN(ENESSSS(ENNEE(NWN(WSNE|)ENN(WSNE|)ESSENE(NNW(S|N(WSNE|)EEE)|S)|SS(WNSE|)E)|WWWWNEEEN(SWWWSEWNEEEN|))|W)))|NNNESE(N|S(W|S|EEESE(NNWESS|)SEESWWWN(SEEENWESWWWN|))))|N(W|EE))|N(EESNWW|)N)|EE)|SEENWNENNW(NENW(WSNE|)N(EESSE(N(EE|N)|SWSSSSSENNNN(SSSSWNSENNNN|))|N)|S))|N)|N)))))))))|EEENENESS(EEEENWNEEN(WWNWWS(WNWN(WSS(S|E)|EEENW(NEEEE(SWWSES|E)|W))|SE(SWEN|)N)|ESSS(WNSE|)ENESENESEEEEENWWWWNENNWWS(E|SWWWNENE(S|NENE(SEWN|)N)))|W))|NNWNEES(NWWSESNWNEES|))))))|EEENESEEENNENEESWSES(WWNSEE|)ENENN(NW(WWNEEENNWNNWSWNWN(EEEENEE(SSW(WSNE|)N|NN)|WNW(NENSWS|)SSSW(N|SSSW(SEEE(SWSW(SEWN|)WW(NEE|WS)|NWNNEE(NWNSES|)S(ENESEWNWSW|)(W|SS))|NWNENW)))|SS)|ESSEEN(ESENEEN(W|ESEESWS(EENSWW|)WWW(NEEWWS|)WWWWWW)|W)))|NN(W(NNE(NWN(EEE|NWW(NNE(SENSWN|)N|WS(WNWSW(NNENWWWNEN(ESNW|)W|S)|SENESSW(ENNWSWENESSW|))))|S)|S)|E))))|NNNNWS)|E(N|S))|E)|EESE(N|SSSES(WSWNNW(NENWNSESWS|)SSSWW(NE|SSENE)|EEENES))))))))|E)|EEEE))))))|E))|NNNNNW(NWNWSWNNENWNWSS(SSSEWNNN|)WNNNNEENEEEESSWSW(WN(NE(E|S)|WW)|SES(W|SE(NNN|S)))|SS))|NNNNWWWNNWS(SSEWNN|)WNNEEEEE(N(W|N)|SSWWNE))|S))))|W)|S)))|S)|SESSSWSESW(ENWNENSWSESW|)))|WWW)|NEEENEEEEN(NN|WWWWWNN(ESNW|)WSSW(SEEWWN|)(WW|N))))))|NN)))|WSWWN(E|WSSWWSSSWSSWNWWNWNNNENEN(WWSWSWWWSSENEESWSSWSEEN(ESSSSSESWWWNNWSWNNN(ESEE(NWES|)SS|WNWNEE(S|N(E|WWWNEENWWNNWSSWWSSWNWWSESWWSWSWWNNWWWWSWWNENENWNEEENWNEN(ESSSESEES(ENNEEENEENWN(EEEEEES(WSWNSENE|)ENE(S|E)|WWWWSWNWWSES(W|E(SWEN|)EENE(S|E)))|W(WWWWNEE(WWSEEEWWWNEE|)|S(S|E)))|WWSSWWSWSS(ENSW|)WWNNNNWSSWNNN(EEEEEESWWWS(E|SS)|WSWNWSWSWWWNWSSWSWWNNE(NN(WSWWWWWWN(WSWWSWNWWN(EEEE|WSSWSWNNN(ESNW|)WWWSWWWSEEEENESSSSWWNN(ESNW|)WWWWWWWNWNN(WWWWSESEE(NWES|)SESWWWN(E|W(SSEEESWWSSW(SSSSSSSE(NNENWNENWNENEN(ENNEEEN(WW|ESSESEESSSW(SS(EEN(EES(W|EE(S|NENEENNNWWSWNWWSWSS(ENE(N|S(ENEENSWWSW|)S)|WNNNEN(WWNW(WNEEWWSE|)S|EEENN(WSNE|)EEN(NESESENEESWSEENENWN(WW|EESEEN(ESSWWSSWSWWWN(EENENSWSWW|)WWSSE(N|SWSSSSWSEEESENENNNEESENENWWWNWN(WWSSSSE(NN(E|N)|SWWNNN)|EEEN(NNESENEESSEESWWWN(WSW(S(ESSENNESSEENWNEENNNESSENNNEEEN(WNN(ESNW|)WSWWWWSES(ENEEWWSW|)WW(SEWN|)N|EESWSSSWSESEENEEN(NNWWSS(ENSW|)W(S|NN)|EESSESSENNENE(NWN(WSSWNSENNE|)E|EEEEEN(W|NESSSWSSWSSENEESSW(N|WWSEEEENEESWSSSEESENNEEESEENWNNESENNNESENN(WWWWSS(ENSW|)WWWNENE(S|NWWWNENWN(E|WN(E|NWWN(WWSSSSEENWN(EESSESWWSESE(S(WWNW(S|NWN(WSNE|)E)|SE(NNEWSS|)SES(ENESNWSW|)WW(WSEWNE|)N)|N)|N)|NNESSE))))|ESENNNNES(SSSSSSSSENEE(EE|SWSESSSSSSE(SSWSSS(EE(SWSNEN|)NN(WSNE|)ENNW(S|N)|WNWNNNE(NNNNWSWWSSSSWSSS(ENEN(W|NNNENW)|SWWWSSENES(ENSW|)SWSESSESSENEEEESSWNWSSWSSSE(S(SSE(SWEN|)N|WWNNNNWN(EENSWW|)WSWS(EE|WNNENN(ESNW|)NNWSSWWWWWNNNNWWNNNESEEEENNNWWSS(ENSW|)WNNNNENNWWNNWSSWSSSWWWNENNE(NWWNENWNNWNNEE(S(W|EESESS(ENNENE(NWES|)SEEN(EEEENNESSE(NNNNNWSWS(W(SSWNSENN|)N|E)|SEE(NWES|)S(ENSW|)WWS(WNNWWSSE(N|SSE(N|SSWSSSSWWW(NNESENNWWWSW(NNNESEENNN(ESS(S|E)|NNW(NEWS|)SSWNWSWS(EEESNWWW|)WNNNE(EE|S))|W)|SSSWSES(ENSW|)SSWWWNNNE(NWWW|SSEN))))|E))|W)|WNW(NWS|SSES)))|NWN(E|WSWNWSSESSSSWWSEESSE(ESWSSWWSSWNNNEENWNNWWSESWSSWSSSE(NN|ESENEENN(WSNE|)EEEEES(ENNNN(WSSNNE|)E|WWWWSSWSEESENE(SSEESWSESSEEESENE(E|SS(S|WWWNWWSS(ENSW|)WWWSES(ENSW|)SWNWSW(SEE(SWWEEN|)E|WNENENWWNWWW(SSENESE(WNWSWNSENESE|)|WWNNNNEENEENWWWNWSS(E|WWNENWNEN(EES(W|EES(E(EESSENESSWWSWN(NN|WWSWSES(WWNNSSEE|)EN(N|ESESENESENNWN(WSWENE|)E(ESSSNNNW|)NN))|NN)|W))|NNNWNWNENWWWSESSSSEE(NWNSES|)SWSWSSWSEE(SWSE(ENESNWSW|)S(S|WWNWWWWNNNENWWWSSSE(NN|SWSSSWNWSWWWNNESENNNNWWSESWWSSSWWWWSSW(SEEEEENN(ESENESSEENEESEENE(SSWSWWWSWSESWSSSWSSWSWNNWNNWNNWS(WNNEENNESSSES(W|SSE(NENNNW(NNW(N(W(NEWS|)WWWWSESEN(SWNWNEWSESEN|)|EES(S|ENE(EE|N)))|SS)|SS)|S))|SSESSSE(N|SWWNWN(NESNWS|)WWSW(NWWWEEES|)SESSESS(WNWNNSSESE|)E(NNN(NW(N|S)|ESES(W|ENEENW(WW|NEEEN(W|NNESSES(ENENWNNNNEEN(WWNNWSSSWSSE(SS|N)|E(E|SSWSS(WNNSSE|)SSEE(NWNNSSES|)SS))|W)))))|S)))|NNWNN(ESENSWNW|)WSW(SS(WWWSNEEE|)E(E|N|S)|N))|WWS(WNSE|)E)|NNNEN(WWSNEE|)EEN(E(SSWWEENN|)NWNENWNEES(SS|ENENEEE(NWNNNENEEEEESSSSWWNWSW(SEEEEES(ENN(E|WNENWNN(ESNW|)NWWWNENNNWSWWNWNENWWNENWWNNWNWNWNENENENWWNW(SS(E|SWNWSSESSWNWSWSSSWNNWSSWNNNNNWSSWSESSWWSEEEESSSWSWNWWSSWNNWWNNNNWWNEENWNNN(WW(SWSES(ENNSSW|)WWWNN(ESNW|)WWSSSSEN(NN|ESSWSSEEEENESE(SSESWSEE(NN|SEEN(EESWSSSSSS(WWNWWSWNNWWWSSWSWWWSWS(SSSENEES(SENNNWNW(SWNSEN|)NEEES(W|EENWN(W|NE(NWES|)SESE(SWSSWS(WNN(WSSNNE|)E|E)|NE(N|E))))|W)|WN(WSWNSENE|)NEN(W|EEENNWWNENNW(SW(SSSEEWWNNN|)N|NNNNEEN(WWNNNSSSEE|)EEEESWWSW(N|SEENESSESWWNWSWNW(WNENWESWSE|)SSSE(SS|NESENEEEN(N|EESE(N|SS(WWWN(WW|E(E|N))|S))))))))|EENNW(S|NNESEEESESENEESS(W(N|WWSSWWNW(SWNSEN|)NNE(NWES|)ES(W|S))|ENENNW(S|NNWNNNNWNNEENNWWS(E|WWWW(NEENE(NWNEEE(ESS(WNWSNESE|)E(N|SESSW(N|SEE(SESEE(SSWWWSWNW(SSESSS|NEN(ESEEWWNW|)NWSW(NNWESS|)SS)|E)|N)))|N)|S)|SSENESE(N|SWWWWSSSW(NNWWNSEESS|)S(W|ESENNNEEEE(NWWWWEEEES|)SSWWN(E|WSSEEEESWWW(EEENWWEESWWW|))))))))))|W))|NNWWNNWWSESWS(W|E)))|NNNN(E(NNNNNN(E|W(WS(WNSE|)E|N))|S)|W))|ESEESE(SS(E|WW(N(NWES|)E|SESWSSENEES(EENWESWW|)W))|NNE(S|NEEEESWSE(SWEN|)ENENNN(EE|WWWS(WWWN|EES))))))|NENEENNNEESWSSSS(WWNEWSEE|)E(ESSSWNNWSSSEESEENNESENEEESWSW(SWNWSSESSSSENENENNENESESWSW(SESESSSS(E(NNENWNENWN(WSNE|)NEE(S(SE(SWEN|)N|W)|NNNNWSSW(SEWN|)WNWW(NENWN(EESSE(S|NNNEE(SSWNSENN|)NENWWSWW(NE|SWN))|WWWWNWWW(NEEEE(SENSWN|)N(N|WW)|S(SS|EE)))|WSWSWS(S|E)))|SWS(S|E))|WWNENNWWW(SWNW(SSSE(SWEN|)NEE(SW|NE)|WWNW(NNW(S|NEE(SE(N|S(W|S))|NWWN(EE|WW(SSENSWNN|)WN(N(WSNE|)N|EE))))|SS))|NE(N|E)))|N)|N)|N)))|SW(N|SES(WWNSEE|)E))|NN(WSNE|)NESEE(NWES|)S)|SSSW(NW(NEWS|)W|SESWSE)))|W))))|NN)))))))|NNWWSE)))|NNNN)))|SS)))|NEN(NEWS|)W))|E|SS))|NN))|EEENWNNNENWNW(SSW(N|SES(WWNWWW(NEWS|)SEESSSWNNW(ESSENNSSWNNW|)|S))|NNESESENEE(SSW(N|SSSSSESWWNNNN(WSNE|)NN)|NWNWSWN(SENESEWNWSWN|))))))))))|WW)|N)|N)|W)))|W))|W)))))|W)|W)|NWN(E|WW(SEWN|)WW(WSWENE|)NEE(NWWEES|)E)))|W)|SWSESW)|NN)|N))|ESESEENN(W(W|S)|EEE)))|EEEEE)|E(EEESENE(WSWNWWEESENE|)|SS))|S))))))|N)|ESE(SSSWNNWSWSESE(WNWNENSWSESE|)|EN(ESNW|)W))))|EEE)|W))|W|NNN)|W)|SS)))|S))|E))|S)|S)|EESSEE(NWNENESEENNWS(NESSWWEENNWS|)|S(WW|SS))))))|E)|S)|N))|W)|S(E|S))|W))))|W)|SWWWWN(EENWWEESWW|)WSW(SEEWWN|)N)))))|EN(ES|NWWSE)))))|NNWN(ENWESW|)WWWSSWSE(SW|ENNE))|S))))|WNW(N|S)))))|E))|N))|EENESS(ES(ENNWESSW|)S|WW))|ENEES(W|E(EN(ESESSENN(SSWNNWESSENN|)|N|W)|S(W|SS))))))))|WW)))|E)|S))|S)|SW(WNEWSE|)S)|W)|NWWNN(EE(SWEN|)NN|WSWWWS(SENESS(W|E(ENWNSESW|)S)|W)))))|S)))|W)|S)|E))|E)|NEENWWNE(WSEESWENWWNE|))|NNN)))|E)|E))))))|E)|ENENNW(NEENWNNNW(S(WW|SS)|NN(W|EEN(NWN(E|W(SSEWNN|)W)|ESSSSW(NNWESS|)SESE(SSESE(SSWWS(WNNW(S(S|W)|NE(ESEWNW|)N(W|N))|EEE)|N(ES|NWNE))|NN))))|S))))))|E(NWES|)E)|ENNEES(WSEWNE|)EE)))|NNESEN(NWWEES|)E)|E))))))|N)|W))|E)|E)|E)))))|WSW(S|N|WW)))))|EESENE(ESENESSEESWSWS(EEE(SWSSNNEN|)N(W|NNNWWNE(WSEESSNNWWNE|))|WNWNN(ESEWNW|)W(SSS(E|SSWNWNENWW(SSSEWNNN|)NEN(ES|WNW))|N))|N))|W)$\n"
     ]
    }
   ],
   "source": [
    "from IPython.display import display\n",
    "\n",
    "# display(f'{inputdata[:10]} ... {len(inputdata)=}')\n",
    "print('\\n'.join(inputdata))"
   ]
  },
  {
   "cell_type": "code",
   "execution_count": 7,
   "metadata": {},
   "outputs": [
    {
     "data": {
      "text/plain": [
       "14158"
      ]
     },
     "execution_count": 7,
     "metadata": {},
     "output_type": "execute_result"
    }
   ],
   "source": [
    "len(inputdata[0])"
   ]
  },
  {
   "cell_type": "code",
   "execution_count": 8,
   "metadata": {},
   "outputs": [
    {
     "data": {
      "text/html": [
       "\n",
       "<p>To begin, <a href=\"20/input\" target=\"_blank\">get your puzzle input</a>.</p>\n",
       "<form method=\"post\" action=\"20/answer\"><input type=\"hidden\" name=\"level\" value=\"1\"/><p>Answer: <input type=\"text\" name=\"answer\" autocomplete=\"off\"/> <input type=\"submit\" value=\"[Submit]\"/></p></form>\n",
       "<p>You can also <span class=\"share\">[Share<span class=\"share-content\">on\n",
       "  <a href=\"https://twitter.com/intent/tweet?text=%22A+Regular+Map%22+%2D+Day+20+%2D+Advent+of+Code+2018&amp;url=https%3A%2F%2Fadventofcode%2Ecom%2F2018%2Fday%2F20&amp;related=ericwastl&amp;hashtags=AdventOfCode\" target=\"_blank\">Twitter</a>\n",
       "  <a href=\"javascript:void(0);\" onclick=\"var mastodon_instance=prompt('Mastodon Instance / Server Name?'); if(typeof mastodon_instance==='string' && mastodon_instance.length){this.href='https://'+mastodon_instance+'/share?text=%22A+Regular+Map%22+%2D+Day+20+%2D+Advent+of+Code+2018+%23AdventOfCode+https%3A%2F%2Fadventofcode%2Ecom%2F2018%2Fday%2F20'}else{return false;}\" target=\"_blank\">Mastodon</a\n",
       "></span>]</span> this puzzle.</p>\n"
      ],
      "text/plain": [
       "<IPython.core.display.HTML object>"
      ]
     },
     "execution_count": 8,
     "metadata": {},
     "output_type": "execute_result"
    }
   ],
   "source": [
    "HTML(downloaded['part1_footer'])"
   ]
  },
  {
   "cell_type": "markdown",
   "metadata": {},
   "source": [
    "## Part Two"
   ]
  },
  {
   "cell_type": "code",
   "execution_count": 11,
   "metadata": {},
   "outputs": [],
   "source": [
    "# HTML(downloaded['part2'])"
   ]
  },
  {
   "cell_type": "code",
   "execution_count": 12,
   "metadata": {},
   "outputs": [],
   "source": [
    "# HTML(downloaded['part2_footer'])"
   ]
  }
 ],
 "metadata": {
  "kernelspec": {
   "display_name": "venv",
   "language": "python",
   "name": "python3"
  },
  "language_info": {
   "codemirror_mode": {
    "name": "ipython",
    "version": 3
   },
   "file_extension": ".py",
   "mimetype": "text/x-python",
   "name": "python",
   "nbconvert_exporter": "python",
   "pygments_lexer": "ipython3",
   "version": "3.11.2"
  },
  "vscode": {
   "interpreter": {
    "hash": "953efd6badefc8bd539414deffff5d1ee9e359bc7a1650a157b4fbde293a1337"
   }
  }
 },
 "nbformat": 4,
 "nbformat_minor": 4
}

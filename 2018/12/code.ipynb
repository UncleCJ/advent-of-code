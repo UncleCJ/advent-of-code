{
 "cells": [
  {
   "attachments": {},
   "cell_type": "markdown",
   "metadata": {},
   "source": [
    "# Day 12: Subterranean Sustainability\n",
    "\n",
    "[*Advent of Code 2018 day 12*](https://adventofcode.com/2018/day/12) and [*solution megathread*](https://redd.it/a5eztl)\n",
    "\n",
    "[![nbviewer](https://raw.githubusercontent.com/jupyter/design/master/logos/Badges/nbviewer_badge.svg)](https://nbviewer.jupyter.org/github/UncleCJ/advent-of-code/blob/cj/2018/12/code.ipynb) [![Binder](https://mybinder.org/badge_logo.svg)](https://mybinder.org/v2/gh/UncleCJ/advent-of-code/cj?filepath=2018%2F12%2Fcode.ipynb)"
   ]
  },
  {
   "cell_type": "code",
   "execution_count": 1,
   "metadata": {},
   "outputs": [
    {
     "name": "stderr",
     "output_type": "stream",
     "text": [
      "Version 1.0.4\n"
     ]
    }
   ],
   "source": [
    "from IPython.display import HTML\n",
    "import sys\n",
    "sys.path.append('../../')\n",
    "\n",
    "\n",
    "%load_ext nb_mypy\n",
    "%nb_mypy On"
   ]
  },
  {
   "cell_type": "code",
   "execution_count": 2,
   "metadata": {},
   "outputs": [
    {
     "name": "stdout",
     "output_type": "stream",
     "text": [
      "Writing 'downloaded' (dict) to file 'downloaded'.\n"
     ]
    }
   ],
   "source": [
    "import common\n",
    "\n",
    "\n",
    "downloaded = common.refresh()\n",
    "%store downloaded >downloaded\n",
    "\n",
    "%load_ext pycodestyle_magic\n",
    "%pycodestyle_on"
   ]
  },
  {
   "cell_type": "markdown",
   "metadata": {},
   "source": [
    "## Part One"
   ]
  },
  {
   "cell_type": "code",
   "execution_count": 3,
   "metadata": {},
   "outputs": [
    {
     "data": {
      "text/html": [
       "<h2>--- Day 12: Subterranean Sustainability ---</h2><p>The year 518 is significantly more underground than your history books implied.  Either that, or you've arrived in a <span title=\"It's probably this one. Can never be too sure, though.\">vast cavern network</span> under the North Pole.</p>\n",
       "<p>After exploring a little, you discover a long tunnel that contains a row of small pots as far as you can see to your left and right.  A few of them contain plants - someone is trying to grow things in these geothermally-heated caves.</p>\n",
       "<p>The pots are numbered, with <code>0</code> in front of you.  To the left, the pots are numbered <code>-1</code>, <code>-2</code>, <code>-3</code>, and so on; to the right, <code>1</code>, <code>2</code>, <code>3</code>.... Your puzzle input contains a list of pots from <code>0</code> to the right and whether they do (<code>#</code>) or do not (<code>.</code>) currently contain a plant, the <em>initial state</em>. (No other pots currently contain plants.) For example, an initial state of <code>#..##....</code> indicates that pots <code>0</code>, <code>3</code>, and <code>4</code> currently contain plants.</p>\n",
       "<p>Your puzzle input also contains some notes you find on a nearby table: someone has been trying to figure out how these plants <em>spread</em> to nearby pots.  Based on the notes, for each generation of plants, a given pot has or does not have a plant based on whether that pot (and the two pots on either side of it) had a plant in the last generation. These are written as <code>LLCRR =&gt; N</code>, where <code>L</code> are pots to the left, <code>C</code> is the current pot being considered, <code>R</code> are the pots to the right, and <code>N</code> is whether the current pot will have a plant in the next generation. For example:</p>\n",
       "<ul>\n",
       "<li>A note like <code>..#.. =&gt; .</code> means that a pot that contains a plant but with no plants within two pots of it will not have a plant in it during the next generation.</li>\n",
       "<li>A note like <code>##.## =&gt; .</code> means that an empty pot with two plants on each side of it will remain empty in the next generation.</li>\n",
       "<li>A note like <code>.##.# =&gt; #</code> means that a pot has a plant in a given generation if, in the previous generation, there were plants in that pot, the one immediately to the left, and the one two pots to the right, but not in the ones immediately to the right and two to the left.</li>\n",
       "</ul>\n",
       "<p>It's not clear what these plants are for, but you're sure it's important, so you'd like to make sure the current configuration of plants is sustainable by determining what will happen after <em><code>20</code> generations</em>.</p>\n",
       "<p>For example, given the following input:</p>\n",
       "<pre><code>initial state: #..#.#..##......###...###\n",
       "\n",
       "...## => #\n",
       "..#.. => #\n",
       ".#... => #\n",
       ".#.#. => #\n",
       ".#.## => #\n",
       ".##.. => #\n",
       ".#### => #\n",
       "#.#.# => #\n",
       "#.### => #\n",
       "##.#. => #\n",
       "##.## => #\n",
       "###.. => #\n",
       "###.# => #\n",
       "####. => #\n",
       "</code></pre>\n",
       "<p>For brevity, in this example, only the combinations which do produce a plant are listed. (Your input includes all possible combinations.) Then, the next 20 generations will look like this:</p>\n",
       "<pre><code>                 1         2         3     \n",
       "       0         0         0         0     \n",
       " 0: ...#..#.#..##......###...###...........\n",
       " 1: ...#...#....#.....#..#..#..#...........\n",
       " 2: ...##..##...##....#..#..#..##..........\n",
       " 3: ..#.#...#..#.#....#..#..#...#..........\n",
       " 4: ...#.#..#...#.#...#..#..##..##.........\n",
       " 5: ....#...##...#.#..#..#...#...#.........\n",
       " 6: ....##.#.#....#...#..##..##..##........\n",
       " 7: ...#..###.#...##..#...#...#...#........\n",
       " 8: ...#....##.#.#.#..##..##..##..##.......\n",
       " 9: ...##..#..#####....#...#...#...#.......\n",
       "10: ..#.#..#...#.##....##..##..##..##......\n",
       "11: ...#...##...#.#...#.#...#...#...#......\n",
       "12: ...##.#.#....#.#...#.#..##..##..##.....\n",
       "13: ..#..###.#....#.#...#....#...#...#.....\n",
       "14: ..#....##.#....#.#..##...##..##..##....\n",
       "15: ..##..#..#.#....#....#..#.#...#...#....\n",
       "16: .#.#..#...#.#...##...#...#.#..##..##...\n",
       "17: ..#...##...#.#.#.#...##...#....#...#...\n",
       "18: ..##.#.#....#####.#.#.#...##...##..##..\n",
       "19: .#..###.#..#.#.#######.#.#.#..#.#...#..\n",
       "20: .#....##....#####...#######....#.#..##.\n",
       "</code></pre>\n",
       "<p>The generation is shown along the left, where <code>0</code> is the initial state.  The pot numbers are shown along the top, where <code>0</code> labels the center pot, negative-numbered pots extend to the left, and positive pots extend toward the right. Remember, the initial state begins at pot <code>0</code>, which is not the leftmost pot used in this example.</p>\n",
       "<p>After one generation, only seven plants remain.  The one in pot <code>0</code> matched the rule looking for <code>..#..</code>, the one in pot <code>4</code> matched the rule looking for <code>.#.#.</code>, pot <code>9</code> matched <code>.##..</code>, and so on.</p>\n",
       "<p>In this example, after 20 generations, the pots shown as <code>#</code> contain plants, the furthest left of which is pot <code>-2</code>, and the furthest right of which is pot <code>34</code>. Adding up all the numbers of plant-containing pots after the 20th generation produces <code><em>325</em></code>.</p>\n",
       "<p><em>After <code>20</code> generations, what is the sum of the numbers of all pots which contain a plant?</em></p>\n"
      ],
      "text/plain": [
       "<IPython.core.display.HTML object>"
      ]
     },
     "execution_count": 3,
     "metadata": {},
     "output_type": "execute_result"
    }
   ],
   "source": [
    "from IPython.display import HTML\n",
    "\n",
    "HTML(downloaded['part1'])"
   ]
  },
  {
   "attachments": {},
   "cell_type": "markdown",
   "metadata": {},
   "source": [
    "## Comments\n",
    "\n",
    "I saw this expertly solved by Arno (f00ale), and wanted to see how I best could reproduce his solution"
   ]
  },
  {
   "cell_type": "code",
   "execution_count": 4,
   "metadata": {},
   "outputs": [],
   "source": [
    "testdata = \"\"\"initial state: #..#.#..##......###...###\n",
    "\n",
    "...## => #\n",
    "..#.. => #\n",
    ".#... => #\n",
    ".#.#. => #\n",
    ".#.## => #\n",
    ".##.. => #\n",
    ".#### => #\n",
    "#.#.# => #\n",
    "#.### => #\n",
    "##.#. => #\n",
    "##.## => #\n",
    "###.. => #\n",
    "###.# => #\n",
    "####. => #\"\"\".splitlines()\n",
    "\n",
    "inputdata = downloaded['input'].splitlines()\n",
    "# inputdata = open('input.txt', 'r').read().splitlines()"
   ]
  },
  {
   "cell_type": "code",
   "execution_count": 5,
   "metadata": {},
   "outputs": [
    {
     "name": "stdout",
     "output_type": "stream",
     "text": [
      "initial state: #.......##.###.#.#..##..##..#.#.###..###..##.#.#..##....#####..##.#.....########....#....##.#..##...\n",
      "\n",
      "..... => .\n",
      "#.... => .\n",
      "..### => .\n",
      "##..# => #\n",
      ".###. => #\n",
      "...## => .\n",
      "#.#.. => .\n",
      "..##. => .\n",
      "##.#. => #\n",
      "..#.. => .\n",
      ".#... => #\n",
      "##.## => .\n",
      "....# => .\n",
      ".#.#. => .\n",
      "#..#. => #\n",
      "#.### => .\n",
      ".##.# => #\n",
      ".#### => .\n",
      ".#..# => .\n",
      "####. => #\n",
      "#...# => #\n",
      ".#.## => #\n",
      "#..## => .\n",
      "..#.# => #\n",
      "#.##. => .\n",
      "###.. => .\n",
      "##### => #\n",
      "###.# => #\n",
      "...#. => #\n",
      "#.#.# => #\n",
      ".##.. => .\n",
      "##... => #\n"
     ]
    }
   ],
   "source": [
    "from IPython.display import display\n",
    "\n",
    "# display(f'{inputdata[:10]} ... {len(inputdata)=}')\n",
    "print('\\n'.join(inputdata))"
   ]
  },
  {
   "cell_type": "code",
   "execution_count": 6,
   "metadata": {},
   "outputs": [],
   "source": [
    "from typing import List, Dict\n",
    "\n",
    "\n",
    "def parse_rules(data: List[str]) -> Dict[str, str]:\n",
    "    return {line[:5]: line[-1] for line in data}\n",
    "\n",
    "\n",
    "def parse_initial_state(data: str) -> str:\n",
    "    return data[len('initial state: '):]"
   ]
  },
  {
   "cell_type": "code",
   "execution_count": 7,
   "metadata": {},
   "outputs": [
    {
     "data": {
      "text/plain": [
       "{'...##': '#',\n",
       " '..#..': '#',\n",
       " '.#...': '#',\n",
       " '.#.#.': '#',\n",
       " '.#.##': '#',\n",
       " '.##..': '#',\n",
       " '.####': '#',\n",
       " '#.#.#': '#',\n",
       " '#.###': '#',\n",
       " '##.#.': '#',\n",
       " '##.##': '#',\n",
       " '###..': '#',\n",
       " '###.#': '#',\n",
       " '####.': '#'}"
      ]
     },
     "execution_count": 7,
     "metadata": {},
     "output_type": "execute_result"
    }
   ],
   "source": [
    "parse_rules(testdata[2:])"
   ]
  },
  {
   "cell_type": "code",
   "execution_count": 8,
   "metadata": {},
   "outputs": [
    {
     "data": {
      "text/plain": [
       "'#..#.#..##......###...###'"
      ]
     },
     "execution_count": 8,
     "metadata": {},
     "output_type": "execute_result"
    }
   ],
   "source": [
    "parse_initial_state(testdata[0])"
   ]
  },
  {
   "cell_type": "code",
   "execution_count": 9,
   "metadata": {},
   "outputs": [],
   "source": [
    "from typing import Tuple\n",
    "\n",
    "\n",
    "def do_generation(g: str, rules: Dict[str, str], idx: int = 0) \\\n",
    "        -> Tuple[str, int]:\n",
    "    g = '...' + g + '...'\n",
    "    idx -= 3\n",
    "    ng = list('.' * len(g))\n",
    "    for ri, ro in rules.items():\n",
    "        found = -1\n",
    "        while (found := g.find(ri, found + 1)) >= 0:\n",
    "            ng[found + 2] = ro\n",
    "    ngl = ''.join(ng).lstrip('.')\n",
    "    idx += len(ng) - len(ngl)\n",
    "    return (ngl.rstrip('.'), idx)"
   ]
  },
  {
   "cell_type": "code",
   "execution_count": 10,
   "metadata": {},
   "outputs": [
    {
     "name": "stdout",
     "output_type": "stream",
     "text": [
      "generation 0: #..#.#..##......###...### (idx=0)\n",
      "generation 1: #...#....#.....#..#..#..# (idx=0)\n",
      "generation 2: ##..##...##....#..#..#..## (idx=0)\n",
      "generation 3: #.#...#..#.#....#..#..#...# (idx=-1)\n",
      "generation 4: #.#..#...#.#...#..#..##..## (idx=0)\n",
      "generation 5: #...##...#.#..#..#...#...# (idx=1)\n",
      "generation 6: ##.#.#....#...#..##..##..## (idx=1)\n",
      "generation 7: #..###.#...##..#...#...#...# (idx=0)\n",
      "generation 8: #....##.#.#.#..##..##..##..## (idx=0)\n",
      "generation 9: ##..#..#####....#...#...#...# (idx=0)\n",
      "generation 10: #.#..#...#.##....##..##..##..## (idx=-1)\n",
      "generation 11: #...##...#.#...#.#...#...#...# (idx=0)\n",
      "generation 12: ##.#.#....#.#...#.#..##..##..## (idx=0)\n",
      "generation 13: #..###.#....#.#...#....#...#...# (idx=-1)\n",
      "generation 14: #....##.#....#.#..##...##..##..## (idx=-1)\n",
      "generation 15: ##..#..#.#....#....#..#.#...#...# (idx=-1)\n",
      "generation 16: #.#..#...#.#...##...#...#.#..##..## (idx=-2)\n",
      "generation 17: #...##...#.#.#.#...##...#....#...# (idx=-1)\n",
      "generation 18: ##.#.#....#####.#.#.#...##...##..## (idx=-1)\n",
      "generation 19: #..###.#..#.#.#######.#.#.#..#.#...# (idx=-2)\n",
      "generation 20: #....##....#####...#######....#.#..## (idx=-2)\n"
     ]
    }
   ],
   "source": [
    "g = parse_initial_state(testdata[0])\n",
    "rules = parse_rules(testdata[2:])\n",
    "idx = 0\n",
    "print(f'generation 0: {g} ({idx=})')\n",
    "for i in range(20):\n",
    "    g, idx = do_generation(g, rules, idx)\n",
    "    print(f'generation {i+1}: {g} ({idx=})')"
   ]
  },
  {
   "cell_type": "code",
   "execution_count": 11,
   "metadata": {},
   "outputs": [],
   "source": [
    "from itertools import count\n",
    "\n",
    "\n",
    "def calculate_answer(g: str, idx: int) -> int:\n",
    "    answer = 0\n",
    "    for gp, i in zip(g, count(idx)):\n",
    "        if gp == '#':\n",
    "            answer += i\n",
    "    return answer"
   ]
  },
  {
   "cell_type": "code",
   "execution_count": 12,
   "metadata": {},
   "outputs": [
    {
     "data": {
      "text/plain": [
       "325"
      ]
     },
     "execution_count": 12,
     "metadata": {},
     "output_type": "execute_result"
    }
   ],
   "source": [
    "calculate_answer(g, idx)"
   ]
  },
  {
   "cell_type": "code",
   "execution_count": 13,
   "metadata": {},
   "outputs": [
    {
     "name": "stdout",
     "output_type": "stream",
     "text": [
      "generation 0: #.......##.###.#.#..##..##..#.#.###..###..##.#.#..##....#####..##.#.....########....#....##.#..##... (idx=0)\n",
      "generation 1: #.#.......#..####......#...###.##.#.#..#.#..###......#.....##.#..##.#......#####.#..#.#....##.....# (idx=-1)\n",
      "generation 2: ##..#.....#.....#.#....#.##..##..###...##.....#.#....#.#.....##....##.#.......####..##..#.....#...#.# (idx=-2)\n",
      "generation 3: ##.#...#.#...##..#..###..#...#..#.##...#...##..#..##..#......#....##.#........#.#...##.#...#.####..# (idx=0)\n",
      "generation 4: ##.####..##...##....#.##.###..###..###.##...##.....##.#....#.#....##.#......##..##..##.#####..#.##.# (idx=1)\n",
      "generation 5: #...#.#...##...#..###.#..#.#..#.#..##...##...#.....##.#..##..#....##.#.......#...#..#...##.####.##.# (idx=2)\n",
      "generation 6: #.####..##...###....###..##...##......##...###.#.....##.....##.#....##.#.....#.###..#.##..#...##..##.# (idx=1)\n",
      "generation 7: ###..#.#...##..#.#....#.#...##...#.......##..###.#......#.....##.#....##.#...###.#.####..##.##...#..##.# (idx=0)\n",
      "generation 8: #.###..##...###..#..##..##...###.#........#..###.#....#.#.....##.#....##.##..#####..#.#..#...###....##.# (idx=1)\n",
      "generation 9: ###.#.#...##..#.##.....#...##..###.#......#....###.#..##..#.....##.#....#...#...##.###...#.##..#.#....##.# (idx=0)\n",
      "generation 10: ####..##...####..#...#.##...#..###.#....#.#....###.....##.#.....##.#..#.###.##..#..#.#####..###..#....##.# (idx=1)\n",
      "generation 11: #.#...##...#.##.#####..###....###.#..##..#....#.#.....##.#.....##..###.##...##..###..##.#..#.##.#....##.# (idx=3)\n",
      "generation 12: ##..##...#####.#...##.#..#.#....###.....##.#..##..#.....##.#......#..##...##...#..#.#..##..###.##.#....##.# (idx=2)\n",
      "generation 13: #...##...####.##..##..##..#....#.#.....##.....##.#.....##.#....#.....##...###..##......#..##..##.#....##.# (idx=4)\n",
      "generation 14: #.##...##...##...#...#...##.#..##..#......#.....##.#.....##.#..#.#......##..#.#...#....#.....#..##.#....##.# (idx=3)\n",
      "generation 15: ###..##...##...###.###.##..##.....##.#....#.#.....##.#.....##..##..#.......###..###.#..#.#...#....##.#....##.# (idx=2)\n",
      "generation 16: #.#...##...##..##..##...#...#.....##.#..##..#.....##.#......#...##.#.......#.#..###..##..###.#....##.#....##.# (idx=3)\n",
      "generation 17: ##..##...##...#...#...###.###.#.....##.....##.#.....##.#....#.##..##.#.....##.....#.#...#..###.#....##.#....##.# (idx=2)\n",
      "generation 18: #...##...###.###.##..##..###.#......#.....##.#.....##.#..###..#..##.#......#...##..###....###.#....##.#....##.# (idx=4)\n",
      "generation 19: #.##...##..##..##...#...#..###.#....#.#.....##.#.....##....#.##....##.#....#.##...#..#.#....###.#....##.#....##.# (idx=3)\n",
      "generation 20: ###..##...#...#...###.###....###.#..##..#.....##.#......#..###..#....##.#..###..###..##..#....###.#....##.#....##.# (idx=2)\n"
     ]
    },
    {
     "data": {
      "text/plain": [
       "2917"
      ]
     },
     "execution_count": 13,
     "metadata": {},
     "output_type": "execute_result"
    }
   ],
   "source": [
    "g = parse_initial_state(inputdata[0])\n",
    "rules = parse_rules(inputdata[2:])\n",
    "idx = 0\n",
    "print(f'generation 0: {g} ({idx=})')\n",
    "for i in range(20):\n",
    "    g, idx = do_generation(g, rules, idx)\n",
    "    print(f'generation {i+1}: {g} ({idx=})')\n",
    "calculate_answer(g, idx)"
   ]
  },
  {
   "cell_type": "code",
   "execution_count": 14,
   "metadata": {},
   "outputs": [
    {
     "data": {
      "text/html": [
       "\n",
       "<p>Your puzzle answer was <code>2917</code>.</p><p class=\"day-success\">The first half of this puzzle is complete! It provides one gold star: *</p>\n"
      ],
      "text/plain": [
       "<IPython.core.display.HTML object>"
      ]
     },
     "execution_count": 14,
     "metadata": {},
     "output_type": "execute_result"
    }
   ],
   "source": [
    "HTML(downloaded['part1_footer'])"
   ]
  },
  {
   "cell_type": "markdown",
   "metadata": {},
   "source": [
    "## Part Two"
   ]
  },
  {
   "cell_type": "code",
   "execution_count": 15,
   "metadata": {},
   "outputs": [
    {
     "data": {
      "text/html": [
       "<h2 id=\"part2\">--- Part Two ---</h2><p>You realize that 20 generations aren't enough.  After all, these plants will need to last another 1500 years to even reach your timeline, not to mention your future.</p>\n",
       "<p><em>After fifty billion (<code>50000000000</code>) generations, what is the sum of the numbers of all pots which contain a plant?</em></p>\n"
      ],
      "text/plain": [
       "<IPython.core.display.HTML object>"
      ]
     },
     "execution_count": 15,
     "metadata": {},
     "output_type": "execute_result"
    }
   ],
   "source": [
    "HTML(downloaded['part2'])"
   ]
  },
  {
   "cell_type": "code",
   "execution_count": 16,
   "metadata": {},
   "outputs": [],
   "source": [
    "# HTML(downloaded['part2_footer'])"
   ]
  }
 ],
 "metadata": {
  "kernelspec": {
   "display_name": "venv",
   "language": "python",
   "name": "python3"
  },
  "language_info": {
   "codemirror_mode": {
    "name": "ipython",
    "version": 3
   },
   "file_extension": ".py",
   "mimetype": "text/x-python",
   "name": "python",
   "nbconvert_exporter": "python",
   "pygments_lexer": "ipython3",
   "version": "3.10.8"
  },
  "vscode": {
   "interpreter": {
    "hash": "953efd6badefc8bd539414deffff5d1ee9e359bc7a1650a157b4fbde293a1337"
   }
  }
 },
 "nbformat": 4,
 "nbformat_minor": 4
}

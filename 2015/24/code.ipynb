{
 "cells": [
  {
   "cell_type": "markdown",
   "metadata": {},
   "source": [
    "# Day 24: It Hangs in the Balance\n",
    "\n",
    "[*Advent of Code 2015 day 24*](https://adventofcode.com/2015/day/24) and [*solution megathread*](https://www.reddit.com/3y1s7f)\n",
    "\n",
    "[![nbviewer](https://raw.githubusercontent.com/jupyter/design/master/logos/Badges/nbviewer_badge.svg)](https://nbviewer.jupyter.org/github/UncleCJ/advent-of-code/blob/cj/2015/24/code.ipynb) [![Binder](https://mybinder.org/badge_logo.svg)](https://mybinder.org/v2/gh/UncleCJ/advent-of-code/cj?filepath=2015%2F24%2Fcode.ipynb)"
   ]
  },
  {
   "cell_type": "code",
   "execution_count": 1,
   "metadata": {
    "ExecuteTime": {
     "end_time": "2022-11-27T08:36:07.927431Z",
     "start_time": "2022-11-27T08:36:07.909092Z"
    }
   },
   "outputs": [
    {
     "name": "stderr",
     "output_type": "stream",
     "text": [
      "Version 1.0.4\n"
     ]
    }
   ],
   "source": [
    "from IPython.display import HTML\n",
    "import sys\n",
    "sys.path.append('../../')\n",
    "\n",
    "\n",
    "%load_ext nb_mypy\n",
    "%nb_mypy On"
   ]
  },
  {
   "cell_type": "code",
   "execution_count": 2,
   "metadata": {
    "ExecuteTime": {
     "end_time": "2022-11-27T08:36:17.944914Z",
     "start_time": "2022-11-27T08:36:16.683261Z"
    }
   },
   "outputs": [
    {
     "name": "stdout",
     "output_type": "stream",
     "text": [
      "Writing 'downloaded' (dict) to file 'downloaded'.\n"
     ]
    }
   ],
   "source": [
    "import common\n",
    "\n",
    "\n",
    "downloaded = common.refresh()\n",
    "%store downloaded >downloaded\n",
    "\n",
    "%load_ext pycodestyle_magic\n",
    "%pycodestyle_on"
   ]
  },
  {
   "cell_type": "markdown",
   "metadata": {},
   "source": [
    "## Part One"
   ]
  },
  {
   "cell_type": "code",
   "execution_count": 3,
   "metadata": {
    "ExecuteTime": {
     "end_time": "2022-11-27T08:36:41.633281Z",
     "start_time": "2022-11-27T08:36:41.548015Z"
    }
   },
   "outputs": [
    {
     "data": {
      "text/html": [
       "<h2>--- Day 24: It Hangs in the Balance ---</h2><p>It's Christmas Eve, and Santa is loading up the sleigh for this year's deliveries.  However, there's one small problem: he can't get the sleigh to balance.  If it isn't balanced, he can't defy physics, and nobody gets presents this year.</p>\n",
       "<p>No pressure.</p>\n",
       "<p>Santa has provided you a list of the weights of every package he needs to fit on the sleigh.  The packages need to be split into <em>three groups of exactly the same weight</em>, and every package has to fit.  The first group goes in the passenger compartment of the sleigh, and the second and third go in containers on either side.  Only when all three groups weigh exactly the same amount will the sleigh be able to fly.  Defying physics has rules, you know!</p>\n",
       "<p>Of course, that's not the only problem.  The first group - the one going in the passenger compartment - needs <em>as few packages as possible</em> so that Santa has some legroom left over.  It doesn't matter how many packages are in either of the other two groups, so long as all of the groups weigh the same.</p>\n",
       "<p>Furthermore, Santa tells you, if there are multiple ways to arrange the packages such that the fewest possible are in the first group, you need to choose the way where the first group has <em>the smallest quantum entanglement</em> to reduce the chance of any <span title=\"Santa does not elaborate on what he means by this, but the cringe he makes indicates that it wouldn't be pretty.\">\"complications\"</span>.  The quantum entanglement of a group of packages is the <a href=\"https://en.wikipedia.org/wiki/Product_%28mathematics%29\">product</a> of their weights, that is, the value you get when you multiply their weights together.  Only consider quantum entanglement if the first group has the fewest possible number of packages in it and all groups weigh the same amount.</p>\n",
       "<p>For example, suppose you have ten packages with weights <code>1</code> through <code>5</code> and <code>7</code> through <code>11</code>.  For this situation, some of the unique first groups, their quantum entanglements, and a way to divide the remaining packages are as follows:</p>\n",
       "<pre><code>Group 1;             Group 2; Group 3\n",
       "11 9       (QE= 99); 10 8 2;  7 5 4 3 1\n",
       "10 9 1     (QE= 90); 11 7 2;  8 5 4 3\n",
       "10 8 2     (QE=160); 11 9;    7 5 4 3 1\n",
       "10 7 3     (QE=210); 11 9;    8 5 4 2 1\n",
       "10 5 4 1   (QE=200); 11 9;    8 7 3 2\n",
       "10 5 3 2   (QE=300); 11 9;    8 7 4 1\n",
       "10 4 3 2 1 (QE=240); 11 9;    8 7 5\n",
       "9 8 3      (QE=216); 11 7 2;  10 5 4 1\n",
       "9 7 4      (QE=252); 11 8 1;  10 5 3 2\n",
       "9 5 4 2    (QE=360); 11 8 1;  10 7 3\n",
       "8 7 5      (QE=280); 11 9;    10 4 3 2 1\n",
       "8 5 4 3    (QE=480); 11 9;    10 7 2 1\n",
       "7 5 4 3 1  (QE=420); 11 9;    10 8 2\n",
       "</code></pre>\n",
       "<p>Of these, although <code>10 9 1</code> has the smallest quantum entanglement (<code>90</code>), the configuration with only two packages, <code>11 9</code>, in the passenger compartment gives Santa the most legroom and wins.  In this situation, the quantum entanglement for the ideal configuration is therefore <code>99</code>.  Had there been two configurations with only two packages in the first group, the one with the smaller quantum entanglement would be chosen.</p>\n",
       "<p>What is the <em>quantum entanglement</em> of the first group of packages in the ideal configuration?</p>\n"
      ],
      "text/plain": [
       "<IPython.core.display.HTML object>"
      ]
     },
     "execution_count": 3,
     "metadata": {},
     "output_type": "execute_result"
    }
   ],
   "source": [
    "from IPython.display import HTML\n",
    "\n",
    "\n",
    "HTML(downloaded['part1'])"
   ]
  },
  {
   "cell_type": "markdown",
   "metadata": {},
   "source": [
    "## Comments\n",
    "\n",
    "Cleaning this up now (purging all cruft from previous commit) - a `FrozenSet` is immutable and thus hashable, important for how we'll use it"
   ]
  },
  {
   "cell_type": "code",
   "execution_count": 4,
   "metadata": {
    "ExecuteTime": {
     "end_time": "2022-11-27T10:07:04.350117Z",
     "start_time": "2022-11-27T10:07:04.228791Z"
    }
   },
   "outputs": [],
   "source": [
    "from typing import FrozenSet, Tuple\n",
    "\n",
    "PackageGroup = FrozenSet[int]\n",
    "PackageConfiguration = Tuple[PackageGroup, ...]"
   ]
  },
  {
   "cell_type": "code",
   "execution_count": 5,
   "metadata": {
    "ExecuteTime": {
     "end_time": "2022-11-27T09:21:27.685850Z",
     "start_time": "2022-11-27T09:21:27.584294Z"
    }
   },
   "outputs": [],
   "source": [
    "testdata_packages = frozenset([1, 2, 3, 4, 5, 7, 8, 9, 10, 11])\n",
    "inputdata = frozenset(int(p) for p in downloaded['input'].splitlines())"
   ]
  },
  {
   "cell_type": "code",
   "execution_count": 6,
   "metadata": {
    "ExecuteTime": {
     "end_time": "2022-11-27T08:57:20.985867Z",
     "start_time": "2022-11-27T08:57:20.892370Z"
    }
   },
   "outputs": [],
   "source": [
    "from typing import Iterable\n",
    "from functools import reduce\n",
    "import operator\n",
    "\n",
    "\n",
    "def target_weight(packages: Iterable[int],\n",
    "                  compartments: int = 3) -> int:\n",
    "    total_weight = sum(packages)\n",
    "    if not total_weight % compartments == 0:\n",
    "        raise ValueError(f'weight of packages is not divisible by ' +\n",
    "                         f'{compartments}: {total_weight} ({packages})')\n",
    "    return total_weight // compartments\n",
    "\n",
    "\n",
    "def calculate_QE(packages: Iterable[int]) -> int:\n",
    "    return reduce(operator.mul, packages)\n",
    "\n",
    "\n",
    "def group_str(group: PackageGroup) -> str:\n",
    "    return str(set(group))\n",
    "\n",
    "\n",
    "def configuration_str(configuration: PackageConfiguration) -> str:\n",
    "    return '; '.join(group_str(group) for group in configuration)"
   ]
  },
  {
   "cell_type": "code",
   "execution_count": 7,
   "metadata": {},
   "outputs": [],
   "source": [
    "from itertools import combinations\n",
    "\n",
    "\n",
    "def minimal_combinations(packages: PackageGroup,\n",
    "                         compartments: int = 3) -> \\\n",
    "        FrozenSet[PackageGroup]:\n",
    "    # Might as well output a set rather than Iterable\n",
    "    # here, because when we find a valid minimum length\n",
    "    # we output all valid combinations\n",
    "    group_weight = target_weight(packages, compartments)\n",
    "    for length in range(\n",
    "            1, len(packages) - (compartments - 2)):\n",
    "        output: FrozenSet[PackageGroup] = \\\n",
    "            frozenset(\n",
    "                frozenset(pg)\n",
    "                for pg in combinations(packages, length)\n",
    "                if sum(pg) == group_weight)\n",
    "        if output:\n",
    "            return output\n",
    "    raise ValueError('could not locate any combination for ' +\n",
    "                     f'{group_weight} in {packages}')"
   ]
  },
  {
   "cell_type": "code",
   "execution_count": 8,
   "metadata": {},
   "outputs": [],
   "source": [
    "def best_minimal_combination(packages: PackageGroup,\n",
    "                             compartments: int = 3) -> \\\n",
    "        PackageGroup:\n",
    "    return min(minimal_combinations(packages, compartments),\n",
    "               key=lambda pc: calculate_QE(pc))"
   ]
  },
  {
   "cell_type": "code",
   "execution_count": 9,
   "metadata": {},
   "outputs": [],
   "source": [
    "from typing import Set\n",
    "\n",
    "\n",
    "def remaining_configurations(\n",
    "        packages: PackageGroup,\n",
    "        previous_configurations: PackageConfiguration,\n",
    "        compartments: int = 3) -> \\\n",
    "        Iterable[PackageConfiguration]:\n",
    "    cache: Set[PackageGroup] = set()\n",
    "    group_weight = sum(previous_configurations[0])\n",
    "    remaining_groups = compartments - len(previous_configurations)\n",
    "    remaining_packages = reduce(operator.sub,\n",
    "                                previous_configurations,\n",
    "                                packages)\n",
    "    if remaining_groups == 1:\n",
    "        assert sum(remaining_packages) == group_weight\n",
    "        yield *previous_configurations, remaining_packages\n",
    "    else:\n",
    "        for length in range(\n",
    "                1,\n",
    "                len(remaining_packages) - remaining_groups + 2):\n",
    "            for group in combinations(remaining_packages, length):\n",
    "                if sum(group) != group_weight:\n",
    "                    continue\n",
    "                group_fs = frozenset(group)\n",
    "                if group_fs in cache:\n",
    "                    continue\n",
    "                cache.add(group_fs)\n",
    "                for configuration in remaining_configurations(\n",
    "                        packages,\n",
    "                        (*previous_configurations, group_fs),\n",
    "                        compartments):\n",
    "                    yield configuration"
   ]
  },
  {
   "cell_type": "code",
   "execution_count": 10,
   "metadata": {},
   "outputs": [],
   "source": [
    "def all_best_configurations(packages: PackageGroup,\n",
    "                            compartments: int = 3) -> \\\n",
    "        Iterable[PackageConfiguration]:\n",
    "    passenger = best_minimal_combination(packages, compartments)\n",
    "    for configuration in remaining_configurations(packages,\n",
    "                                                  (passenger, ),\n",
    "                                                  compartments):\n",
    "        yield configuration"
   ]
  },
  {
   "cell_type": "code",
   "execution_count": 11,
   "metadata": {},
   "outputs": [
    {
     "data": {
      "text/plain": [
       "'{9, 11}; {8, 2, 10}; {1, 3, 4, 5, 7}'"
      ]
     },
     "metadata": {},
     "output_type": "display_data"
    }
   ],
   "source": [
    "from IPython.display import display\n",
    "\n",
    "\n",
    "for configuration in all_best_configurations(testdata_packages, 3):\n",
    "    display(configuration_str(configuration))\n",
    "    assert calculate_QE(configuration[0]) == 99\n",
    "    break"
   ]
  },
  {
   "cell_type": "code",
   "execution_count": 12,
   "metadata": {},
   "outputs": [
    {
     "data": {
      "text/plain": [
       "'{1, 113, 103, 107, 109, 79}; {89, 97, 2, 67, 83, 101, 73}; {3, 5, 71, 7, 13, 17, 19, 23, 29, 31, 37, 41, 43, 53, 59, 61} 10723906903'"
      ]
     },
     "metadata": {},
     "output_type": "display_data"
    }
   ],
   "source": [
    "for configuration in all_best_configurations(inputdata, 3):\n",
    "    display(configuration_str(configuration) +\n",
    "            f' {calculate_QE(configuration[0])}')\n",
    "    # This one actually do yield too many combinations\n",
    "    # to manage - better to break here rather than crash\n",
    "    break"
   ]
  },
  {
   "cell_type": "code",
   "execution_count": 13,
   "metadata": {},
   "outputs": [
    {
     "data": {
      "text/html": [
       "\n",
       "<p>Your puzzle answer was <code>10723906903</code>.</p>"
      ],
      "text/plain": [
       "<IPython.core.display.HTML object>"
      ]
     },
     "execution_count": 13,
     "metadata": {},
     "output_type": "execute_result"
    }
   ],
   "source": [
    "HTML(downloaded['part1_footer'])"
   ]
  },
  {
   "cell_type": "markdown",
   "metadata": {},
   "source": [
    "## Part Two"
   ]
  },
  {
   "cell_type": "code",
   "execution_count": 14,
   "metadata": {},
   "outputs": [
    {
     "data": {
      "text/html": [
       "<h2 id=\"part2\">--- Part Two ---</h2><p>That's weird... the sleigh still isn't balancing.</p>\n",
       "<p>\"Ho ho ho\", Santa muses to himself. \"I forgot the trunk\".</p>\n",
       "<p>Balance the sleigh again, but this time, separate the packages into <em>four groups</em> instead of three.  The other constraints still apply.</p>\n",
       "<p>Given the example packages above, this would be some of the new unique first groups, their quantum entanglements, and one way to divide the remaining packages:</p>\n",
       "<pre><code>\n",
       "11 4    (QE=44); 10 5;   9 3 2 1; 8 7\n",
       "10 5    (QE=50); 11 4;   9 3 2 1; 8 7\n",
       "9 5 1   (QE=45); 11 4;   10 3 2;  8 7\n",
       "9 4 2   (QE=72); 11 3 1; 10 5;    8 7\n",
       "9 3 2 1 (QE=54); 11 4;   10 5;    8 7\n",
       "8 7     (QE=56); 11 4;   10 5;    9 3 2 1\n",
       "</code></pre>\n",
       "<p>Of these, there are three arrangements that put the minimum (two) number of packages in the first group: <code>11 4</code>, <code>10 5</code>, and <code>8 7</code>.  Of these, <code>11 4</code> has the lowest quantum entanglement, and so it is selected.</p>\n",
       "<p>Now, what is the <em>quantum entanglement</em> of the first group of packages in the ideal configuration?</p>\n"
      ],
      "text/plain": [
       "<IPython.core.display.HTML object>"
      ]
     },
     "execution_count": 14,
     "metadata": {},
     "output_type": "execute_result"
    }
   ],
   "source": [
    "HTML(downloaded['part2'])"
   ]
  },
  {
   "cell_type": "code",
   "execution_count": 15,
   "metadata": {},
   "outputs": [
    {
     "data": {
      "text/plain": [
       "'{11, 4}; {10, 5}; {8, 7}; {1, 2, 3, 9}'"
      ]
     },
     "metadata": {},
     "output_type": "display_data"
    }
   ],
   "source": [
    "for configuration in all_best_configurations(testdata_packages, 4):\n",
    "    display(configuration_str(configuration))\n",
    "    assert calculate_QE(configuration[0]) == 44\n",
    "    break"
   ]
  },
  {
   "cell_type": "code",
   "execution_count": 16,
   "metadata": {},
   "outputs": [
    {
     "data": {
      "text/plain": [
       "'{113, 59, 109, 103}; {97, 107, 101, 79}; {89, 1, 67, 83, 71, 73}; {2, 3, 5, 37, 7, 41, 43, 13, 17, 19, 61, 53, 23, 29, 31} 74850409'"
      ]
     },
     "metadata": {},
     "output_type": "display_data"
    }
   ],
   "source": [
    "for configuration in all_best_configurations(inputdata, 4):\n",
    "    display(configuration_str(configuration) +\n",
    "            f' {calculate_QE(configuration[0])}')\n",
    "    # This one actually do yield too many combinations\n",
    "    # to manage - better to break here rather than crash\n",
    "    break"
   ]
  },
  {
   "cell_type": "code",
   "execution_count": 17,
   "metadata": {},
   "outputs": [
    {
     "data": {
      "text/html": [
       "\n",
       "<p>Your puzzle answer was <code>74850409</code>.</p><p class=\"day-success\">Both parts of this puzzle are complete! They provide two gold stars: **</p>\n",
       "<p>At this point, you should <a href=\"/2015\">return to your Advent calendar</a> and try another puzzle.</p>\n",
       "<p>If you still want to see it, you can <a href=\"24/input\" target=\"_blank\">get your puzzle input</a>.</p>\n",
       "<p>You can also <span class=\"share\">[Share<span class=\"share-content\">on\n",
       "  <a href=\"https://twitter.com/intent/tweet?text=I%27ve+completed+%22It+Hangs+in+the+Balance%22+%2D+Day+24+%2D+Advent+of+Code+2015&amp;url=https%3A%2F%2Fadventofcode%2Ecom%2F2015%2Fday%2F24&amp;related=ericwastl&amp;hashtags=AdventOfCode\" target=\"_blank\">Twitter</a>\n",
       "  <a href=\"javascript:void(0);\" onclick=\"var mastodon_instance=prompt('Mastodon Instance / Server Name?'); if(typeof mastodon_instance==='string' && mastodon_instance.length){this.href='https://'+mastodon_instance+'/share?text=I%27ve+completed+%22It+Hangs+in+the+Balance%22+%2D+Day+24+%2D+Advent+of+Code+2015+%23AdventOfCode+https%3A%2F%2Fadventofcode%2Ecom%2F2015%2Fday%2F24'}else{return false;}\" target=\"_blank\">Mastodon</a\n",
       "></span>]</span> this puzzle.</p>\n"
      ],
      "text/plain": [
       "<IPython.core.display.HTML object>"
      ]
     },
     "execution_count": 17,
     "metadata": {},
     "output_type": "execute_result"
    }
   ],
   "source": [
    "HTML(downloaded['part2_footer'])"
   ]
  }
 ],
 "metadata": {
  "kernelspec": {
   "display_name": "Python 3.10.6 ('venv': venv)",
   "language": "python",
   "name": "python3"
  },
  "language_info": {
   "codemirror_mode": {
    "name": "ipython",
    "version": 3
   },
   "file_extension": ".py",
   "mimetype": "text/x-python",
   "name": "python",
   "nbconvert_exporter": "python",
   "pygments_lexer": "ipython3",
   "version": "3.10.6"
  },
  "metadata": {
   "interpreter": {
    "hash": "31f2aee4e71d21fbe5cf8b01ff0e069b9275f58929596ceb00d14d90e3e16cd6"
   }
  },
  "varInspector": {
   "cols": {
    "lenName": 16,
    "lenType": 16,
    "lenVar": 40
   },
   "kernels_config": {
    "python": {
     "delete_cmd_postfix": "",
     "delete_cmd_prefix": "del ",
     "library": "var_list.py",
     "varRefreshCmd": "print(var_dic_list())"
    },
    "r": {
     "delete_cmd_postfix": ") ",
     "delete_cmd_prefix": "rm(",
     "library": "var_list.r",
     "varRefreshCmd": "cat(var_dic_list()) "
    }
   },
   "types_to_exclude": [
    "module",
    "function",
    "builtin_function_or_method",
    "instance",
    "_Feature"
   ],
   "window_display": false
  },
  "vscode": {
   "interpreter": {
    "hash": "1bc2c3908c007cf9ce21a098f93b8bf6135208cc693d7eb2db76831745e909df"
   }
  }
 },
 "nbformat": 4,
 "nbformat_minor": 2
}

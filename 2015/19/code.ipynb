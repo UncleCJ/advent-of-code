{
 "cells": [
  {
   "cell_type": "markdown",
   "metadata": {},
   "source": [
    "# Day 19: Medicine for Rudolph\n",
    "\n",
    "[*Advent of Code 2015 day 19*](https://adventofcode.com/2015/day/19) and [*solution megathread*](https://www.reddit.com/3xflz8)\n",
    "\n",
    "[![nbviewer](https://raw.githubusercontent.com/jupyter/design/master/logos/Badges/nbviewer_badge.svg)](https://nbviewer.jupyter.org/github/UncleCJ/advent-of-code/blob/master/2015/19/code.ipynb) [![Binder](https://mybinder.org/badge_logo.svg)](https://mybinder.org/v2/gh/UncleCJ/advent-of-code/master?filepath=2015%2F19%2Fcode.ipynb)"
   ]
  },
  {
   "cell_type": "code",
   "execution_count": 1,
   "metadata": {},
   "outputs": [
    {
     "name": "stdout",
     "output_type": "stream",
     "text": [
      "Writing 'downloaded' (dict) to file 'downloaded'.\n"
     ]
    }
   ],
   "source": [
    "from IPython.display import HTML\n",
    "import sys\n",
    "sys.path.append('../../')\n",
    "import common\n",
    "\n",
    "downloaded = common.refresh()\n",
    "%store downloaded >downloaded"
   ]
  },
  {
   "cell_type": "markdown",
   "metadata": {},
   "source": [
    "## Part One"
   ]
  },
  {
   "cell_type": "code",
   "execution_count": 2,
   "metadata": {},
   "outputs": [
    {
     "data": {
      "text/html": [
       "<h2>--- Day 19: Medicine for Rudolph ---</h2><p>Rudolph the Red-Nosed Reindeer is sick!  His nose isn't shining very brightly, and he needs medicine.</p>\n",
       "<p>Red-Nosed Reindeer biology isn't similar to regular reindeer biology; Rudolph is going to need custom-made medicine.  Unfortunately, Red-Nosed Reindeer chemistry isn't similar to regular reindeer chemistry, either.</p>\n",
       "<p>The North Pole is equipped with a Red-Nosed Reindeer nuclear fusion/fission plant, capable of constructing any Red-Nosed Reindeer molecule you need.  It works by starting with some input molecule and then doing a series of <em>replacements</em>, one per step, until it has the right molecule.</p>\n",
       "<p>However, the machine has to be calibrated before it can be used.  Calibration involves determining the number of molecules that can be generated in one step from a given starting point.</p>\n",
       "<p>For example, imagine a simpler machine that supports only the following replacements:</p>\n",
       "<pre><code>H => HO\n",
       "H => OH\n",
       "O => HH\n",
       "</code></pre>\n",
       "<p>Given the replacements above and starting with <code>HOH</code>, the following molecules could be generated:</p>\n",
       "<ul>\n",
       "<li><code>HOOH</code> (via <code>H => HO</code> on the first <code>H</code>).</li>\n",
       "<li><code>HOHO</code> (via <code>H => HO</code> on the second <code>H</code>).</li>\n",
       "<li><code>OHOH</code> (via <code>H => OH</code> on the first <code>H</code>).</li>\n",
       "<li><code>HOOH</code> (via <code>H => OH</code> on the second <code>H</code>).</li>\n",
       "<li><code>HHHH</code> (via <code>O => HH</code>).</li>\n",
       "</ul>\n",
       "<p>So, in the example above, there are <code>4</code> <em>distinct</em> molecules (not five, because <code>HOOH</code> appears twice) after one replacement from <code>HOH</code>. Santa's favorite molecule, <code>HOHOHO</code>, can become <code>7</code> <em>distinct</em> molecules (over nine replacements: six from <code>H</code>, and three from <code>O</code>).</p>\n",
       "<p>The machine replaces without regard for the surrounding characters.  For example, given the string <code>H2O</code>, the transition <code>H => OO</code> would result in <code>OO2O</code>.</p>\n",
       "<p>Your puzzle input describes all of the possible replacements and, at the bottom, the medicine molecule for which you need to calibrate the machine.  <em>How many distinct molecules can be created</em> after all the different ways you can do one replacement on the medicine molecule?</p>\n"
      ],
      "text/plain": [
       "<IPython.core.display.HTML object>"
      ]
     },
     "execution_count": 2,
     "metadata": {},
     "output_type": "execute_result"
    }
   ],
   "source": [
    "HTML(downloaded['part1'])"
   ]
  },
  {
   "cell_type": "markdown",
   "metadata": {},
   "source": [
    "## Boilerplate\n",
    "\n",
    "Let's try using [pycodestyle_magic](https://github.com/mattijn/pycodestyle_magic) with pycodestyle (flake8 stopped working for me in VS Code Jupyter). Now how does type checking work?"
   ]
  },
  {
   "cell_type": "code",
   "execution_count": 3,
   "metadata": {},
   "outputs": [],
   "source": [
    "%load_ext pycodestyle_magic"
   ]
  },
  {
   "cell_type": "code",
   "execution_count": 4,
   "metadata": {},
   "outputs": [],
   "source": [
    "%pycodestyle_on"
   ]
  },
  {
   "cell_type": "markdown",
   "metadata": {},
   "source": [
    "## Comments\n",
    "\n",
    "..."
   ]
  },
  {
   "cell_type": "code",
   "execution_count": 3,
   "metadata": {},
   "outputs": [],
   "source": [
    "testdata = \"\"\"H => HO\n",
    "H => OH\n",
    "O => HH\"\"\".splitlines()\n",
    "\n",
    "# inputdata = downloaded['input']"
   ]
  },
  {
   "cell_type": "code",
   "execution_count": null,
   "metadata": {},
   "outputs": [],
   "source": [
    "# assert(my_part1_solution(testdata) == ...)"
   ]
  },
  {
   "cell_type": "code",
   "execution_count": null,
   "metadata": {},
   "outputs": [],
   "source": [
    "# my_part1_solution(inputdata)"
   ]
  },
  {
   "cell_type": "code",
   "execution_count": 7,
   "metadata": {},
   "outputs": [
    {
     "data": {
      "text/html": [
       "\n",
       "<p>To play, please identify yourself via one of these services:</p>\n",
       "<p><a href=\"/auth/github\">[GitHub]</a> <a href=\"/auth/google\">[Google]</a> <a href=\"/auth/twitter\">[Twitter]</a> <a href=\"/auth/reddit\">[Reddit]</a> <span class=\"quiet\">- <a href=\"/about#faq_auth\">[How Does Auth Work?]</a></span></p>\n"
      ],
      "text/plain": [
       "<IPython.core.display.HTML object>"
      ]
     },
     "execution_count": 7,
     "metadata": {},
     "output_type": "execute_result"
    }
   ],
   "source": [
    "HTML(downloaded['part1_footer'])"
   ]
  },
  {
   "cell_type": "markdown",
   "metadata": {},
   "source": [
    "## Part Two"
   ]
  },
  {
   "cell_type": "code",
   "execution_count": null,
   "metadata": {},
   "outputs": [],
   "source": [
    "# HTML(downloaded['part2'])"
   ]
  },
  {
   "cell_type": "code",
   "execution_count": null,
   "metadata": {},
   "outputs": [],
   "source": [
    "# HTML(downloaded['part2_footer'])"
   ]
  },
  {
   "cell_type": "code",
   "execution_count": null,
   "metadata": {},
   "outputs": [],
   "source": [
    "# assert(my_part2_solution(testdata) == ...)"
   ]
  },
  {
   "cell_type": "code",
   "execution_count": null,
   "metadata": {},
   "outputs": [],
   "source": [
    "# my_part2_solution(inputdata)"
   ]
  }
 ],
 "metadata": {
  "interpreter": {
   "hash": "a810c47e9f862a52cb82220367a790c918f0c4e70fa43ccbcf1a78b131f3592d"
  },
  "kernelspec": {
   "display_name": "Python 3.8.2 64-bit",
   "language": "python",
   "name": "python3"
  },
  "language_info": {
   "codemirror_mode": {
    "name": "ipython",
    "version": 3
   },
   "file_extension": ".py",
   "mimetype": "text/x-python",
   "name": "python",
   "nbconvert_exporter": "python",
   "pygments_lexer": "ipython3",
   "version": "3.10.0"
  },
  "metadata": {
   "interpreter": {
    "hash": "31f2aee4e71d21fbe5cf8b01ff0e069b9275f58929596ceb00d14d90e3e16cd6"
   }
  }
 },
 "nbformat": 4,
 "nbformat_minor": 2
}

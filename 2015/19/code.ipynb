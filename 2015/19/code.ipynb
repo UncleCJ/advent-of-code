{
 "cells": [
  {
   "cell_type": "markdown",
   "metadata": {},
   "source": [
    "# Day 19: Medicine for Rudolph\n",
    "\n",
    "[*Advent of Code 2015 day 19*](https://adventofcode.com/2015/day/19) and [*solution megathread*](https://www.reddit.com/3xflz8)\n",
    "\n",
    "[![nbviewer](https://raw.githubusercontent.com/jupyter/design/master/logos/Badges/nbviewer_badge.svg)](https://nbviewer.jupyter.org/github/UncleCJ/advent-of-code/blob/cj/2015/19/code.ipynb) [![Binder](https://mybinder.org/badge_logo.svg)](https://mybinder.org/v2/gh/UncleCJ/advent-of-code/cj?filepath=2015%2F19%2Fcode.ipynb)"
   ]
  },
  {
   "cell_type": "code",
   "execution_count": 1,
   "metadata": {},
   "outputs": [
    {
     "name": "stderr",
     "output_type": "stream",
     "text": [
      "Version 1.0.4\n"
     ]
    }
   ],
   "source": [
    "import sys\n",
    "sys.path.append('../../')\n",
    "\n",
    "\n",
    "%load_ext nb_mypy\n",
    "%nb_mypy On"
   ]
  },
  {
   "cell_type": "code",
   "execution_count": 2,
   "metadata": {},
   "outputs": [
    {
     "name": "stdout",
     "output_type": "stream",
     "text": [
      "Writing 'downloaded' (dict) to file 'downloaded'.\n"
     ]
    }
   ],
   "source": [
    "import common\n",
    "\n",
    "\n",
    "downloaded = common.refresh()\n",
    "%store downloaded >downloaded\n",
    "\n",
    "%load_ext pycodestyle_magic\n",
    "%pycodestyle_on"
   ]
  },
  {
   "cell_type": "markdown",
   "metadata": {},
   "source": [
    "## Part One"
   ]
  },
  {
   "cell_type": "code",
   "execution_count": 3,
   "metadata": {},
   "outputs": [
    {
     "data": {
      "text/html": [
       "<h2>--- Day 19: Medicine for Rudolph ---</h2><p>Rudolph the Red-Nosed Reindeer is sick!  His nose isn't shining very brightly, and he needs medicine.</p>\n",
       "<p>Red-Nosed Reindeer biology isn't similar to regular reindeer biology; Rudolph is going to need custom-made medicine.  Unfortunately, Red-Nosed Reindeer chemistry isn't similar to regular reindeer chemistry, either.</p>\n",
       "<p>The North Pole is equipped with a Red-Nosed Reindeer nuclear fusion/fission plant, capable of constructing any Red-Nosed Reindeer molecule you need.  It works by starting with some input molecule and then doing a series of <em>replacements</em>, one per step, until it has the right molecule.</p>\n",
       "<p>However, the machine has to be calibrated before it can be used.  Calibration involves determining the number of molecules that can be generated in one step from a given starting point.</p>\n",
       "<p>For example, imagine a simpler machine that supports only the following replacements:</p>\n",
       "<pre><code>H => HO\n",
       "H => OH\n",
       "O => HH\n",
       "</code></pre>\n",
       "<p>Given the replacements above and starting with <code>HOH</code>, the following molecules could be generated:</p>\n",
       "<ul>\n",
       "<li><code>HOOH</code> (via <code>H => HO</code> on the first <code>H</code>).</li>\n",
       "<li><code>HOHO</code> (via <code>H => HO</code> on the second <code>H</code>).</li>\n",
       "<li><code>OHOH</code> (via <code>H => OH</code> on the first <code>H</code>).</li>\n",
       "<li><code>HOOH</code> (via <code>H => OH</code> on the second <code>H</code>).</li>\n",
       "<li><code>HHHH</code> (via <code>O => HH</code>).</li>\n",
       "</ul>\n",
       "<p>So, in the example above, there are <code>4</code> <em>distinct</em> molecules (not five, because <code>HOOH</code> appears twice) after one replacement from <code>HOH</code>. Santa's favorite molecule, <code>HOHOHO</code>, can become <code>7</code> <em>distinct</em> molecules (over nine replacements: six from <code>H</code>, and three from <code>O</code>).</p>\n",
       "<p>The machine replaces without regard for the surrounding characters.  For example, given the string <code>H2O</code>, the transition <code>H => OO</code> would result in <code>OO2O</code>.</p>\n",
       "<p>Your puzzle input describes all of the possible replacements and, at the bottom, the medicine molecule for which you need to calibrate the machine.  <em>How many distinct molecules can be created</em> after all the different ways you can do one replacement on the medicine molecule?</p>\n"
      ],
      "text/plain": [
       "<IPython.core.display.HTML object>"
      ]
     },
     "execution_count": 3,
     "metadata": {},
     "output_type": "execute_result"
    }
   ],
   "source": [
    "from IPython.display import HTML\n",
    "\n",
    "\n",
    "HTML(downloaded['part1'])"
   ]
  },
  {
   "cell_type": "markdown",
   "metadata": {},
   "source": [
    "## Comments\n",
    "\n",
    "..."
   ]
  },
  {
   "cell_type": "code",
   "execution_count": 4,
   "metadata": {},
   "outputs": [],
   "source": [
    "testdata = {\n",
    "    \"replacements\": [\"H => HO\", \"H => OH\", \"O => HH\"],\n",
    "    \"start_molecules\": [\"HOH\", \"HOHOHO\"]}\n",
    "\n",
    "inputdata = downloaded['input'].splitlines()"
   ]
  },
  {
   "cell_type": "code",
   "execution_count": 5,
   "metadata": {},
   "outputs": [],
   "source": [
    "from typing import List, Dict, DefaultDict\n",
    "from collections import defaultdict\n",
    "\n",
    "\n",
    "def parse_replacements(data: List[str]) -> Dict[str, List[str]]:\n",
    "    output: DefaultDict[str, List[str]] = defaultdict(list)\n",
    "    for line in data:\n",
    "        start, result = line.split(' => ', 1)\n",
    "        output[start].append(result)\n",
    "    return dict(output)"
   ]
  },
  {
   "cell_type": "code",
   "execution_count": 6,
   "metadata": {},
   "outputs": [],
   "source": [
    "from typing import Iterable\n",
    "\n",
    "\n",
    "def replace_specific_loc(molecule: str,\n",
    "                         element: str,\n",
    "                         e_replacement: str,\n",
    "                         loc: int) -> str:\n",
    "    return molecule[:loc] + \\\n",
    "        e_replacement + \\\n",
    "        molecule[loc + len(element):]\n",
    "\n",
    "\n",
    "def replace_element_loc(molecule: str,\n",
    "                        element: str,\n",
    "                        e_replacements: List[str],\n",
    "                        loc: int) -> Iterable[str]:\n",
    "    for e_replacement in e_replacements:\n",
    "        yield replace_specific_loc(molecule,\n",
    "                                   element,\n",
    "                                   e_replacement,\n",
    "                                   loc)\n",
    "\n",
    "\n",
    "def replace_element(molecule: str,\n",
    "                    element: str,\n",
    "                    e_replacements: List[str]) -> Iterable[str]:\n",
    "    loc = 0\n",
    "    while True:\n",
    "        loc = molecule.find(element, loc)\n",
    "        if loc == -1:\n",
    "            break\n",
    "        for result in replace_element_loc(molecule,\n",
    "                                          element,\n",
    "                                          e_replacements,\n",
    "                                          loc):\n",
    "            yield result\n",
    "        loc += 1\n",
    "\n",
    "\n",
    "def replace(molecule: str,\n",
    "            replacements: Dict[str, List[str]]) -> Iterable[str]:\n",
    "    for element, e_replacements in replacements.items():\n",
    "        for result in replace_element(molecule,\n",
    "                                      element,\n",
    "                                      e_replacements):\n",
    "            yield result"
   ]
  },
  {
   "cell_type": "code",
   "execution_count": 7,
   "metadata": {},
   "outputs": [],
   "source": [
    "def my_part1_solution(start_molecule: str,\n",
    "                      replacements: Dict[str, List[str]]) -> int:\n",
    "    return len(set(replace(start_molecule, replacements)))"
   ]
  },
  {
   "cell_type": "code",
   "execution_count": 8,
   "metadata": {},
   "outputs": [],
   "source": [
    "test_replacements = parse_replacements(testdata[\"replacements\"])\n",
    "assert my_part1_solution(testdata[\"start_molecules\"][0],\n",
    "                         test_replacements) == 4\n",
    "assert my_part1_solution(testdata[\"start_molecules\"][1],\n",
    "                         test_replacements) == 7"
   ]
  },
  {
   "cell_type": "code",
   "execution_count": 9,
   "metadata": {},
   "outputs": [
    {
     "name": "stderr",
     "output_type": "stream",
     "text": [
      "<cell>1: error: Name \"display\" is not defined  [name-defined]\n"
     ]
    },
    {
     "data": {
      "text/plain": [
       "576"
      ]
     },
     "metadata": {},
     "output_type": "display_data"
    }
   ],
   "source": [
    "display(my_part1_solution(inputdata[-1], parse_replacements(inputdata[:-2])))"
   ]
  },
  {
   "cell_type": "code",
   "execution_count": 10,
   "metadata": {},
   "outputs": [
    {
     "data": {
      "text/html": [
       "\n",
       "<p>Your puzzle answer was <code>576</code>.</p><p class=\"day-success\">The first half of this puzzle is complete! It provides one gold star: *</p>\n"
      ],
      "text/plain": [
       "<IPython.core.display.HTML object>"
      ]
     },
     "execution_count": 10,
     "metadata": {},
     "output_type": "execute_result"
    }
   ],
   "source": [
    "HTML(downloaded['part1_footer'])"
   ]
  },
  {
   "cell_type": "markdown",
   "metadata": {},
   "source": [
    "## Part Two"
   ]
  },
  {
   "cell_type": "code",
   "execution_count": 11,
   "metadata": {},
   "outputs": [
    {
     "data": {
      "text/html": [
       "<h2 id=\"part2\">--- Part Two ---</h2><p>Now that the machine is calibrated, you're ready to begin molecule fabrication.</p>\n",
       "<p>Molecule fabrication always begins with just a single <span title=\"It's a Red-Nosed Reindeer electron.\">electron</span>, <code>e</code>, and applying replacements one at a time, just like the ones during calibration.</p>\n",
       "<p>For example, suppose you have the following replacements:</p>\n",
       "<pre><code>e => H\n",
       "e => O\n",
       "H => HO\n",
       "H => OH\n",
       "O => HH\n",
       "</code></pre>\n",
       "<p>If you'd like to make <code>HOH</code>, you start with <code>e</code>, and then make the following replacements:</p>\n",
       "<ul>\n",
       "<li><code>e => O</code> to get <code>O</code></li>\n",
       "<li><code>O => HH</code> to get <code>HH</code></li>\n",
       "<li><code>H => OH</code> (on the second <code>H</code>) to get <code>HOH</code></li>\n",
       "</ul>\n",
       "<p>So, you could make <code>HOH</code> after <em><code>3</code> steps</em>.  Santa's favorite molecule, <code>HOHOHO</code>, can be made in <em><code>6</code> steps</em>.</p>\n",
       "<p>How long will it take to make the medicine?  Given the available <em>replacements</em> and the <em>medicine molecule</em> in your puzzle input, what is the <em>fewest number of steps</em> to go from <code>e</code> to the medicine molecule?</p>\n"
      ],
      "text/plain": [
       "<IPython.core.display.HTML object>"
      ]
     },
     "execution_count": 11,
     "metadata": {},
     "output_type": "execute_result"
    }
   ],
   "source": [
    "HTML(downloaded['part2'])"
   ]
  },
  {
   "cell_type": "code",
   "execution_count": 12,
   "metadata": {},
   "outputs": [],
   "source": [
    "replacements = parse_replacements(inputdata[:-2])"
   ]
  },
  {
   "cell_type": "code",
   "execution_count": 13,
   "metadata": {},
   "outputs": [],
   "source": [
    "from functools import lru_cache\n",
    "\n",
    "\n",
    "def precursor(product: str,\n",
    "              element: str,\n",
    "              e_replacement: str,\n",
    "              loc: int) -> str:\n",
    "    return product[:loc] + element + product[loc + len(e_replacement):]\n",
    "\n",
    "\n",
    "def precursors(product: str,\n",
    "               replacements: Dict[str, List[str]]) -> Iterable[str]:\n",
    "    for element, e_replacements in replacements.items():\n",
    "        for e_replacement in e_replacements:\n",
    "            loc = 0\n",
    "            while True:\n",
    "                loc = product.find(e_replacement, loc)\n",
    "                if loc == -1:\n",
    "                    break\n",
    "                yield precursor(product, element, e_replacement, loc)\n",
    "                loc += 1\n",
    "\n",
    "\n",
    "@lru_cache(maxsize=None)\n",
    "def shortest_synthesis(product: str) -> int:\n",
    "    if product == 'e':\n",
    "        return 0\n",
    "    distance = 0\n",
    "    for precursor in precursors(product, replacements):\n",
    "        this_distance = shortest_synthesis(precursor)\n",
    "        if distance == 0:\n",
    "            distance = this_distance\n",
    "        else:\n",
    "            distance = min(distance, this_distance)\n",
    "    return 1 + distance"
   ]
  },
  {
   "cell_type": "code",
   "execution_count": 14,
   "metadata": {},
   "outputs": [],
   "source": [
    "def my_part2_solution(medicine: str,\n",
    "                      replacements: Dict[str, List[str]]) -> int:\n",
    "    return shortest_synthesis(medicine)"
   ]
  },
  {
   "cell_type": "code",
   "execution_count": 15,
   "metadata": {},
   "outputs": [
    {
     "ename": "AssertionError",
     "evalue": "",
     "output_type": "error",
     "traceback": [
      "\u001b[0;31m---------------------------------------------------------------------------\u001b[0m",
      "\u001b[0;31mAssertionError\u001b[0m                            Traceback (most recent call last)",
      "Cell \u001b[0;32mIn [15], line 1\u001b[0m\n\u001b[0;32m----> 1\u001b[0m \u001b[39massert\u001b[39;00m my_part2_solution(testdata[\u001b[39m\"\u001b[39m\u001b[39mstart_molecules\u001b[39m\u001b[39m\"\u001b[39m][\u001b[39m0\u001b[39m],\n\u001b[1;32m      2\u001b[0m                          test_replacements) \u001b[39m==\u001b[39m \u001b[39m3\u001b[39m\n\u001b[1;32m      3\u001b[0m \u001b[39massert\u001b[39;00m my_part2_solution(testdata[\u001b[39m\"\u001b[39m\u001b[39mstart_molecules\u001b[39m\u001b[39m\"\u001b[39m][\u001b[39m1\u001b[39m],\n\u001b[1;32m      4\u001b[0m                          test_replacements) \u001b[39m==\u001b[39m \u001b[39m6\u001b[39m\n",
      "\u001b[0;31mAssertionError\u001b[0m: "
     ]
    }
   ],
   "source": [
    "assert my_part2_solution(testdata[\"start_molecules\"][0],\n",
    "                         test_replacements) == 3\n",
    "assert my_part2_solution(testdata[\"start_molecules\"][1],\n",
    "                         test_replacements) == 6"
   ]
  },
  {
   "cell_type": "code",
   "execution_count": null,
   "metadata": {},
   "outputs": [
    {
     "ename": "KeyboardInterrupt",
     "evalue": "",
     "output_type": "error",
     "traceback": [
      "\u001b[0;31m---------------------------------------------------------------------------\u001b[0m",
      "\u001b[0;31mKeyboardInterrupt\u001b[0m                         Traceback (most recent call last)",
      "Cell \u001b[0;32mIn [32], line 1\u001b[0m\n\u001b[0;32m----> 1\u001b[0m display(my_part2_solution(inputdata[\u001b[39m-\u001b[39;49m\u001b[39m1\u001b[39;49m],\n\u001b[1;32m      2\u001b[0m                           parse_replacements(inputdata[:\u001b[39m-\u001b[39;49m\u001b[39m2\u001b[39;49m])))\n",
      "Cell \u001b[0;32mIn [26], line 3\u001b[0m, in \u001b[0;36mmy_part2_solution\u001b[0;34m(medicine, replacements)\u001b[0m\n\u001b[1;32m      1\u001b[0m \u001b[39mdef\u001b[39;00m \u001b[39mmy_part2_solution\u001b[39m(medicine: \u001b[39mstr\u001b[39m,\n\u001b[1;32m      2\u001b[0m                       replacements: Dict[\u001b[39mstr\u001b[39m, List[\u001b[39mstr\u001b[39m]]) \u001b[39m-\u001b[39m\u001b[39m>\u001b[39m \u001b[39mint\u001b[39m:\n\u001b[0;32m----> 3\u001b[0m     \u001b[39mreturn\u001b[39;00m shortest_synthesis(medicine)\n",
      "Cell \u001b[0;32mIn [31], line 30\u001b[0m, in \u001b[0;36mshortest_synthesis\u001b[0;34m(product)\u001b[0m\n\u001b[1;32m     28\u001b[0m distance \u001b[39m=\u001b[39m \u001b[39m0\u001b[39m\n\u001b[1;32m     29\u001b[0m \u001b[39mfor\u001b[39;00m precursor \u001b[39min\u001b[39;00m precursors(product, replacements):\n\u001b[0;32m---> 30\u001b[0m     this_distance \u001b[39m=\u001b[39m shortest_synthesis(precursor)\n\u001b[1;32m     31\u001b[0m     \u001b[39mif\u001b[39;00m distance \u001b[39m==\u001b[39m \u001b[39m0\u001b[39m:\n\u001b[1;32m     32\u001b[0m         distance \u001b[39m=\u001b[39m this_distance\n",
      "Cell \u001b[0;32mIn [31], line 30\u001b[0m, in \u001b[0;36mshortest_synthesis\u001b[0;34m(product)\u001b[0m\n\u001b[1;32m     28\u001b[0m distance \u001b[39m=\u001b[39m \u001b[39m0\u001b[39m\n\u001b[1;32m     29\u001b[0m \u001b[39mfor\u001b[39;00m precursor \u001b[39min\u001b[39;00m precursors(product, replacements):\n\u001b[0;32m---> 30\u001b[0m     this_distance \u001b[39m=\u001b[39m shortest_synthesis(precursor)\n\u001b[1;32m     31\u001b[0m     \u001b[39mif\u001b[39;00m distance \u001b[39m==\u001b[39m \u001b[39m0\u001b[39m:\n\u001b[1;32m     32\u001b[0m         distance \u001b[39m=\u001b[39m this_distance\n",
      "    \u001b[0;31m[... skipping similar frames: shortest_synthesis at line 30 (178 times)]\u001b[0m\n",
      "Cell \u001b[0;32mIn [31], line 30\u001b[0m, in \u001b[0;36mshortest_synthesis\u001b[0;34m(product)\u001b[0m\n\u001b[1;32m     28\u001b[0m distance \u001b[39m=\u001b[39m \u001b[39m0\u001b[39m\n\u001b[1;32m     29\u001b[0m \u001b[39mfor\u001b[39;00m precursor \u001b[39min\u001b[39;00m precursors(product, replacements):\n\u001b[0;32m---> 30\u001b[0m     this_distance \u001b[39m=\u001b[39m shortest_synthesis(precursor)\n\u001b[1;32m     31\u001b[0m     \u001b[39mif\u001b[39;00m distance \u001b[39m==\u001b[39m \u001b[39m0\u001b[39m:\n\u001b[1;32m     32\u001b[0m         distance \u001b[39m=\u001b[39m this_distance\n",
      "Cell \u001b[0;32mIn [31], line 29\u001b[0m, in \u001b[0;36mshortest_synthesis\u001b[0;34m(product)\u001b[0m\n\u001b[1;32m     27\u001b[0m     \u001b[39mreturn\u001b[39;00m \u001b[39m0\u001b[39m\n\u001b[1;32m     28\u001b[0m distance \u001b[39m=\u001b[39m \u001b[39m0\u001b[39m\n\u001b[0;32m---> 29\u001b[0m \u001b[39mfor\u001b[39;00m precursor \u001b[39min\u001b[39;00m precursors(product, replacements):\n\u001b[1;32m     30\u001b[0m     this_distance \u001b[39m=\u001b[39m shortest_synthesis(precursor)\n\u001b[1;32m     31\u001b[0m     \u001b[39mif\u001b[39;00m distance \u001b[39m==\u001b[39m \u001b[39m0\u001b[39m:\n",
      "Cell \u001b[0;32mIn [31], line 20\u001b[0m, in \u001b[0;36mprecursors\u001b[0;34m(product, replacements)\u001b[0m\n\u001b[1;32m     18\u001b[0m \u001b[39mif\u001b[39;00m loc \u001b[39m==\u001b[39m \u001b[39m-\u001b[39m\u001b[39m1\u001b[39m:\n\u001b[1;32m     19\u001b[0m     \u001b[39mbreak\u001b[39;00m\n\u001b[0;32m---> 20\u001b[0m \u001b[39myield\u001b[39;00m precursor(product, element, e_replacement, loc)\n\u001b[1;32m     21\u001b[0m loc \u001b[39m+\u001b[39m\u001b[39m=\u001b[39m \u001b[39m1\u001b[39m\n",
      "\u001b[0;31mKeyboardInterrupt\u001b[0m: "
     ]
    }
   ],
   "source": [
    "display(my_part2_solution(inputdata[-1],\n",
    "                          parse_replacements(inputdata[:-2])))"
   ]
  },
  {
   "cell_type": "code",
   "execution_count": null,
   "metadata": {},
   "outputs": [],
   "source": [
    "# my_part2_solution(inputdata)"
   ]
  },
  {
   "cell_type": "code",
   "execution_count": null,
   "metadata": {},
   "outputs": [],
   "source": [
    "HTML(downloaded['part2_footer'])"
   ]
  }
 ],
 "metadata": {
  "kernelspec": {
   "display_name": "Python 3.10.6 ('venv': venv)",
   "language": "python",
   "name": "python3"
  },
  "language_info": {
   "codemirror_mode": {
    "name": "ipython",
    "version": 3
   },
   "file_extension": ".py",
   "mimetype": "text/x-python",
   "name": "python",
   "nbconvert_exporter": "python",
   "pygments_lexer": "ipython3",
   "version": "3.10.6"
  },
  "metadata": {
   "interpreter": {
    "hash": "31f2aee4e71d21fbe5cf8b01ff0e069b9275f58929596ceb00d14d90e3e16cd6"
   }
  },
  "vscode": {
   "interpreter": {
    "hash": "1bc2c3908c007cf9ce21a098f93b8bf6135208cc693d7eb2db76831745e909df"
   }
  }
 },
 "nbformat": 4,
 "nbformat_minor": 2
}

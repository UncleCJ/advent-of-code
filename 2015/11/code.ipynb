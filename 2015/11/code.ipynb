{
 "cells": [
  {
   "cell_type": "markdown",
   "metadata": {},
   "source": [
    "# Day 11: Corporate Policy\n",
    "\n",
    "[*Advent of Code 2015 day 11*](https://adventofcode.com/2015/day/11) and [*solution megathread*](https://redd.it/3wbzyv)\n",
    "\n",
    "[![nbviewer](https://raw.githubusercontent.com/jupyter/design/master/logos/Badges/nbviewer_badge.svg)](https://nbviewer.jupyter.org/github/UncleCJ/advent-of-code/blob/cj/2015/11/code.ipynb) [![Binder](https://mybinder.org/badge_logo.svg)](https://mybinder.org/v2/gh/UncleCJ/advent-of-code/cj?filepath=2015%2F11%2Fcode.ipynb)"
   ]
  },
  {
   "cell_type": "code",
   "execution_count": 1,
   "metadata": {},
   "outputs": [
    {
     "name": "stderr",
     "output_type": "stream",
     "text": [
      "Version 1.0.4\n"
     ]
    }
   ],
   "source": [
    "%load_ext nb_mypy"
   ]
  },
  {
   "cell_type": "code",
   "execution_count": 2,
   "metadata": {},
   "outputs": [],
   "source": [
    "%nb_mypy On"
   ]
  },
  {
   "cell_type": "code",
   "execution_count": 3,
   "metadata": {},
   "outputs": [],
   "source": [
    "%load_ext pycodestyle_magic"
   ]
  },
  {
   "cell_type": "code",
   "execution_count": 4,
   "metadata": {},
   "outputs": [],
   "source": [
    "%pycodestyle_on"
   ]
  },
  {
   "cell_type": "code",
   "execution_count": 5,
   "metadata": {},
   "outputs": [
    {
     "name": "stderr",
     "output_type": "stream",
     "text": [
      "3:1: E402 module level import not at top of file\n",
      "6:20: E225 missing whitespace around operator\n"
     ]
    },
    {
     "name": "stdout",
     "output_type": "stream",
     "text": [
      "Writing 'downloaded' (dict) to file 'downloaded'.\n"
     ]
    }
   ],
   "source": [
    "import sys\n",
    "sys.path.append('../../')\n",
    "import common\n",
    "\n",
    "downloaded = common.refresh()\n",
    "%store downloaded >downloaded"
   ]
  },
  {
   "cell_type": "markdown",
   "metadata": {},
   "source": [
    "## Part One"
   ]
  },
  {
   "cell_type": "code",
   "execution_count": 6,
   "metadata": {},
   "outputs": [
    {
     "data": {
      "text/html": [
       "<h2>--- Day 11: Corporate Policy ---</h2><p>Santa's previous password expired, and he needs help choosing a new one.</p>\n",
       "<p>To help him remember his new password after the old one expires, Santa has devised a method of coming up with a password based on the previous one.  Corporate policy dictates that passwords must be exactly eight lowercase letters (for security reasons), so he finds his new password by <em>incrementing</em> his old password string repeatedly until it is valid.</p>\n",
       "<p>Incrementing is just like counting with numbers: <code>xx</code>, <code>xy</code>, <code>xz</code>, <code>ya</code>, <code>yb</code>, and so on. Increase the rightmost letter one step; if it was <code>z</code>, it wraps around to <code>a</code>, and repeat with the next letter to the left until one doesn't wrap around.</p>\n",
       "<p>Unfortunately for Santa, a new Security-Elf recently started, and he has imposed some additional password requirements:</p>\n",
       "<ul>\n",
       "<li>Passwords must include one increasing straight of at least three letters, like <code>abc</code>, <code>bcd</code>, <code>cde</code>, and so on, up to <code>xyz</code>. They cannot skip letters; <code>abd</code> doesn't count.</li>\n",
       "<li>Passwords may not contain the letters <code>i</code>, <code>o</code>, or <code>l</code>, as these letters can be mistaken for other characters and are therefore confusing.</li>\n",
       "<li>Passwords must contain at least two different, non-overlapping pairs of letters, like <code>aa</code>, <code>bb</code>, or <code>zz</code>.</li>\n",
       "</ul>\n",
       "<p>For example:</p>\n",
       "<ul>\n",
       "<li><code>hijklmmn</code> meets the first requirement (because it contains the straight <code>hij</code>) but fails the second requirement requirement (because it contains <code>i</code> and <code>l</code>).</li>\n",
       "<li><code>abbceffg</code> meets the third requirement (because it repeats <code>bb</code> and <code>ff</code>) but fails the first requirement.</li>\n",
       "<li><code>abbcegjk</code> fails the third requirement, because it only has one double letter (<code>bb</code>).</li>\n",
       "<li>The next password after <code>abcdefgh</code> is <code>abcdffaa</code>.</li>\n",
       "<li>The next password after <code>ghijklmn</code> is <code>ghjaabcc</code>, because you eventually skip all the passwords that start with <code>ghi...</code>, since <code>i</code> is not allowed.</li>\n",
       "</ul>\n",
       "<p>Given Santa's current password (your puzzle input), what should his <em>next password</em> be?</p>\n"
      ],
      "text/plain": [
       "<IPython.core.display.HTML object>"
      ]
     },
     "execution_count": 6,
     "metadata": {},
     "output_type": "execute_result"
    }
   ],
   "source": [
    "from IPython.display import HTML\n",
    "\n",
    "\n",
    "HTML(downloaded['part1'])"
   ]
  },
  {
   "cell_type": "markdown",
   "metadata": {},
   "source": [
    "## Comments\n",
    "\n",
    "It's 2021-12-05, and for some reason I put off solving this one and those after - prefering to fill the repository with more problems. Now it is time though.\n",
    "\n",
    "_Update 2022-11-19:_ Funny how some problems just feel too tough (and boring?), so I didn't solve this until now... Anyway, the classes (to simplify operations) may be introducing unreasonable costs, so the _test_ problems take frustratingly long to verify."
   ]
  },
  {
   "cell_type": "code",
   "execution_count": 7,
   "metadata": {},
   "outputs": [
    {
     "data": {
      "text/plain": [
       "\"inputdata ='vzbxkghb'\""
      ]
     },
     "metadata": {},
     "output_type": "display_data"
    }
   ],
   "source": [
    "from IPython.display import display\n",
    "\n",
    "inputdata = downloaded['input']\n",
    "display(f'{inputdata =}')"
   ]
  },
  {
   "cell_type": "code",
   "execution_count": 8,
   "metadata": {},
   "outputs": [],
   "source": [
    "from typing import List\n",
    "from itertools import chain\n",
    "\n",
    "\n",
    "class Password:\n",
    "    def __init__(self, os: List[int]):\n",
    "        # Note that internally, characters are stored in a list\n",
    "        # least significant position first\n",
    "        self.os = os\n",
    "\n",
    "    def __str__(self) -> str:\n",
    "        return ''.join([chr(o) for o in self.os][::-1])\n",
    "\n",
    "    def __repr__(self) -> str:\n",
    "        return f\"'{str(self)}'\"\n",
    "\n",
    "    @staticmethod\n",
    "    def from_string(cs_be: str):\n",
    "        return Password([ord(c) for c in cs_be[::-1]])\n",
    "\n",
    "    # Passwords must include one increasing straight of at least three letters,\n",
    "    #   like abc, bcd, cde, and so on, up to xyz. They cannot skip letters; abd\n",
    "    #   doesn't count.\n",
    "    def rule_3straight(self) -> bool:\n",
    "        # Note that we go through characters least significant position\n",
    "        # first\n",
    "        for trigram in zip(self.os[:-2], self.os[1:-1], self.os[2:]):\n",
    "            incremented = (trigram[0], trigram[1] + 1, trigram[2] + 2)\n",
    "            if (\n",
    "                    not any(o > ord('z') for o in incremented)\n",
    "                    and len(set(incremented)) <= 1):\n",
    "                return True\n",
    "        return False\n",
    "\n",
    "    # Passwords may not contain the letters i, o, or l, as these letters can\n",
    "    #   be mistaken for other characters and are therefore confusing.\n",
    "    # Instantiate static objects, since I suspect this comparison otherwise\n",
    "    # is unreasonably costly\n",
    "    def rule_noconfusing(self) -> bool:\n",
    "        return not any(ord(confusing) in self.os for confusing in 'iol')\n",
    "\n",
    "    # Passwords must contain at least two different, non-overlapping pairs of\n",
    "    #   letters, like aa, bb, or zz.\n",
    "    def rule_twopairs(self) -> bool:\n",
    "        bigrams = zip(self.os[:-1], self.os[1:])\n",
    "        bg_pairs = list(chain([False],\n",
    "                              map(lambda bg: bg[0] == bg[1], bigrams),\n",
    "                              [False]))\n",
    "        overlapping = zip(bg_pairs[:-1], bg_pairs[1:])\n",
    "        non_overlapping = map(lambda ol: any(ol), overlapping)\n",
    "        return sum(non_overlapping) >= 4\n",
    "\n",
    "    def is_valid(self) -> bool:\n",
    "        # Evaluate these lazily in the order of fastest to most complex\n",
    "        return all(f() for f in\n",
    "                   (self.rule_noconfusing,\n",
    "                    self.rule_twopairs,\n",
    "                    self.rule_3straight))\n",
    "\n",
    "    def next(self):\n",
    "        next_os = self.os.copy()\n",
    "        # Increment starting from least significant until we don't carry\n",
    "        for i in range(len(next_os)):\n",
    "            next_os[i] += 1\n",
    "            if next_os[i] > ord('z'):\n",
    "                next_os[i] = ord('a')\n",
    "            else:\n",
    "                break\n",
    "        return Password(next_os)\n",
    "\n",
    "    def next_valid(self):\n",
    "        next_pass = self.next()\n",
    "        while not next_pass.is_valid():\n",
    "            next_pass = next_pass.next()\n",
    "        return next_pass"
   ]
  },
  {
   "cell_type": "code",
   "execution_count": 9,
   "metadata": {},
   "outputs": [],
   "source": [
    "if False:\n",
    "    from cProfile import run\n",
    "    from pstats import SortKey, Stats\n",
    "    abcdefgh = Password.from_string(\"abcdefgh\")\n",
    "    run('abcdefgh.next_valid()', sort=SortKey.CUMULATIVE)"
   ]
  },
  {
   "cell_type": "markdown",
   "metadata": {},
   "source": [
    "It was kind of interesting, as mentioned the class for each character cost a lot, but with some more effort I could do all from the `Password` class, as well as switched to just keeping a list of integers rather than a string. Perhaps converting between them still cost some, but now I do think the `zip(os[:-1], os[1:])` ruins the flow most. Plus I finally got to check out the profiler:\n",
    "\n",
    "```\n",
    ">>> run('abcdefgh.next_valid()', sort=SortKey.CUMULATIVE)\n",
    "         598669 function calls in 0.160 seconds\n",
    "\n",
    "   Ordered by: cumulative time\n",
    "\n",
    "   ncalls  tottime  percall  cumtime  percall filename:lineno(function)\n",
    "        1    0.000    0.000    0.180    0.180 {built-in method builtins.exec}\n",
    "        1    0.000    0.000    0.180    0.180 <string>:1(<module>)\n",
    "        1    0.009    0.009    0.180    0.180 <stdin>:58(next_valid)\n",
    "    17413    0.014    0.000    0.143    0.000 <stdin>:42(is_valid)\n",
    "    17413    0.005    0.000    0.127    0.000 {built-in method builtins.all}\n",
    "    46849    0.013    0.000    0.124    0.000 <stdin>:44(<genexpr>)\n",
    "    12022    0.029    0.000    0.077    0.000 <stdin>:34(rule_twopairs)\n",
    "    12022    0.014    0.000    0.038    0.000 {built-in method builtins.sum}\n",
    "   113594    0.016    0.000    0.034    0.000 {built-in method builtins.any}\n",
    "    17413    0.009    0.000    0.034    0.000 <stdin>:30(rule_noconfusing)\n",
    "    96176    0.015    0.000    0.024    0.000 <stdin>:40(<lambda>)\n",
    "    63967    0.015    0.000    0.018    0.000 <stdin>:31(<genexpr>)\n",
    "    84154    0.010    0.000    0.010    0.000 <stdin>:37(<lambda>)\n",
    "    65376    0.005    0.000    0.005    0.000 {built-in method builtins.ord}\n",
    "    17413    0.003    0.000    0.003    0.000 <stdin>:2(__init__)\n",
    "    17418    0.002    0.000    0.002    0.000 {built-in method builtins.len}\n",
    "    17413    0.002    0.000    0.002    0.000 {method 'copy' of 'list' objects}\n",
    "        1    0.000    0.000    0.000    0.000 <stdin>:48(next)\n",
    "        1    0.000    0.000    0.000    0.000 <stdin>:16(rule_3straight)\n",
    "       20    0.000    0.000    0.000    0.000 <stdin>:22(<genexpr>)\n",
    "        1    0.000    0.000    0.000    0.000 {method 'disable' of '_lsprof.Profiler' objects}\n",
    "```"
   ]
  },
  {
   "cell_type": "code",
   "execution_count": 10,
   "metadata": {},
   "outputs": [],
   "source": [
    "%pycodestyle_off\n",
    "hijklmmn = Password.from_string(\"hijklmmn\")\n",
    "assert hijklmmn.rule_3straight() == True, \"hijklmmn meets the first requirement \" + \\\n",
    "    \"(because it contains the straight hij)\"\n",
    "assert hijklmmn.rule_noconfusing() == False, \"...but fails the second requirement \" + \\\n",
    "    \"requirement (because it contains i and l)\"\n",
    "abbceffg = Password.from_string(\"abbceffg\")\n",
    "assert abbceffg.rule_twopairs() == True, \"abbceffg meets the third requirement \" + \\\n",
    "    \"(because it repeats bb and ff)\"\n",
    "assert abbceffg.rule_3straight() == False, \"...but fails the first requirement\"\n",
    "abbcegjk = Password.from_string(\"abbcegjk\")\n",
    "assert abbcegjk.rule_twopairs() == False, \"abbcegjk fails the third requirement, \" + \\\n",
    "    \"because it only has one double letter (bb)\"\n",
    "abcdefgh = Password.from_string(\"abcdefgh\")\n",
    "assert str(abcdefgh.next_valid()) == \"abcdffaa\", \"The next password after \" + \\\n",
    "    \"abcdefgh is abcdffaa\"\n",
    "ghijklmn = Password.from_string(\"ghijklmn\")\n",
    "next = ghijklmn.next_valid() \n",
    "assert str(next) == \"ghjaabcc\", \"The next password after \" + \\\n",
    "    \"ghijklmn is ghjaabcc, because you eventually skip all the passwords that \" + \\\n",
    "    \"start with ghi..., since i is not allowed\"\n",
    "%pycodestyle_on"
   ]
  },
  {
   "cell_type": "code",
   "execution_count": 11,
   "metadata": {},
   "outputs": [],
   "source": [
    "def my_part1_solution(data: str) -> str:\n",
    "    return str(Password.from_string(data).next_valid())"
   ]
  },
  {
   "cell_type": "code",
   "execution_count": 12,
   "metadata": {},
   "outputs": [
    {
     "data": {
      "text/plain": [
       "'vzbxxyzz'"
      ]
     },
     "metadata": {},
     "output_type": "display_data"
    }
   ],
   "source": [
    "display(my_part1_solution(inputdata))"
   ]
  },
  {
   "cell_type": "code",
   "execution_count": 13,
   "metadata": {},
   "outputs": [
    {
     "data": {
      "text/html": [
       "\n",
       "<p>Your puzzle answer was <code>vzbxxyzz</code>.</p>"
      ],
      "text/plain": [
       "<IPython.core.display.HTML object>"
      ]
     },
     "execution_count": 13,
     "metadata": {},
     "output_type": "execute_result"
    }
   ],
   "source": [
    "HTML(downloaded['part1_footer'])"
   ]
  },
  {
   "cell_type": "markdown",
   "metadata": {},
   "source": [
    "## Part Two"
   ]
  },
  {
   "cell_type": "code",
   "execution_count": 14,
   "metadata": {},
   "outputs": [
    {
     "data": {
      "text/html": [
       "<h2 id=\"part2\">--- Part Two ---</h2><p>Santa's password <span title=\"The corporate policy says your password expires after 12 seconds.  For security.\">expired again</span>.  What's the next one?</p>\n"
      ],
      "text/plain": [
       "<IPython.core.display.HTML object>"
      ]
     },
     "execution_count": 14,
     "metadata": {},
     "output_type": "execute_result"
    }
   ],
   "source": [
    "HTML(downloaded['part2'])"
   ]
  },
  {
   "cell_type": "code",
   "execution_count": 15,
   "metadata": {},
   "outputs": [],
   "source": [
    "def my_part2_solution(data: str) -> str:\n",
    "    return str(Password.from_string(data).next_valid().next_valid())"
   ]
  },
  {
   "cell_type": "code",
   "execution_count": 16,
   "metadata": {},
   "outputs": [
    {
     "data": {
      "text/plain": [
       "'vzcaabcc'"
      ]
     },
     "metadata": {},
     "output_type": "display_data"
    }
   ],
   "source": [
    "display(my_part2_solution(inputdata))"
   ]
  },
  {
   "cell_type": "code",
   "execution_count": 17,
   "metadata": {},
   "outputs": [
    {
     "data": {
      "text/html": [
       "\n",
       "<p>Your puzzle answer was <code>vzcaabcc</code>.</p><p class=\"day-success\">Both parts of this puzzle are complete! They provide two gold stars: **</p>\n",
       "<p>At this point, you should <a href=\"/2015\">return to your Advent calendar</a> and try another puzzle.</p>\n",
       "<p>Your puzzle input was <code class=\"puzzle-input\">vzbxkghb</code>.</p>\n",
       "<p>You can also <span class=\"share\">[Share<span class=\"share-content\">on\n",
       "  <a href=\"https://twitter.com/intent/tweet?text=I%27ve+completed+%22Corporate+Policy%22+%2D+Day+11+%2D+Advent+of+Code+2015&amp;url=https%3A%2F%2Fadventofcode%2Ecom%2F2015%2Fday%2F11&amp;related=ericwastl&amp;hashtags=AdventOfCode\" target=\"_blank\">Twitter</a>\n",
       "  <a href=\"javascript:void(0);\" onclick=\"var mastodon_instance=prompt('Mastodon Instance / Server Name?'); if(typeof mastodon_instance==='string' && mastodon_instance.length){this.href='https://'+mastodon_instance+'/share?text=I%27ve+completed+%22Corporate+Policy%22+%2D+Day+11+%2D+Advent+of+Code+2015+%23AdventOfCode+https%3A%2F%2Fadventofcode%2Ecom%2F2015%2Fday%2F11'}else{return false;}\" target=\"_blank\">Mastodon</a\n",
       "></span>]</span> this puzzle.</p>\n"
      ],
      "text/plain": [
       "<IPython.core.display.HTML object>"
      ]
     },
     "execution_count": 17,
     "metadata": {},
     "output_type": "execute_result"
    }
   ],
   "source": [
    "HTML(downloaded['part2_footer'])"
   ]
  }
 ],
 "metadata": {
  "kernelspec": {
   "display_name": "Python 3.10.6 ('venv': venv)",
   "language": "python",
   "name": "python3"
  },
  "language_info": {
   "codemirror_mode": {
    "name": "ipython",
    "version": 3
   },
   "file_extension": ".py",
   "mimetype": "text/x-python",
   "name": "python",
   "nbconvert_exporter": "python",
   "pygments_lexer": "ipython3",
   "version": "3.10.6"
  },
  "metadata": {
   "interpreter": {
    "hash": "31f2aee4e71d21fbe5cf8b01ff0e069b9275f58929596ceb00d14d90e3e16cd6"
   }
  },
  "vscode": {
   "interpreter": {
    "hash": "1bc2c3908c007cf9ce21a098f93b8bf6135208cc693d7eb2db76831745e909df"
   }
  }
 },
 "nbformat": 4,
 "nbformat_minor": 2
}

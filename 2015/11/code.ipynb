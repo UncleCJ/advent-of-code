{
 "cells": [
  {
   "cell_type": "markdown",
   "metadata": {},
   "source": [
    "# Day 11: Corporate Policy\n",
    "\n",
    "[*Advent of Code 2015 day 11*](https://adventofcode.com/2015/day/11) and [*solution megathread*](https://redd.it/3wbzyv)\n",
    "\n",
    "[![nbviewer](https://raw.githubusercontent.com/jupyter/design/master/logos/Badges/nbviewer_badge.svg)](https://nbviewer.jupyter.org/github/UncleCJ/advent-of-code/blob/cj/2015/11/code.ipynb) [![Binder](https://mybinder.org/badge_logo.svg)](https://mybinder.org/v2/gh/UncleCJ/advent-of-code/cj?filepath=2015%2F11%2Fcode.ipynb)"
   ]
  },
  {
   "cell_type": "code",
   "execution_count": 1,
   "metadata": {},
   "outputs": [
    {
     "name": "stdout",
     "output_type": "stream",
     "text": [
      "Writing 'downloaded' (dict) to file 'downloaded'.\n"
     ]
    }
   ],
   "source": [
    "from IPython.display import HTML\n",
    "import sys\n",
    "sys.path.append('../../')\n",
    "import common\n",
    "\n",
    "downloaded = common.refresh()\n",
    "%store downloaded >downloaded"
   ]
  },
  {
   "cell_type": "markdown",
   "metadata": {},
   "source": [
    "## Part One"
   ]
  },
  {
   "cell_type": "code",
   "execution_count": 2,
   "metadata": {},
   "outputs": [
    {
     "data": {
      "text/html": [
       "<h2>--- Day 11: Corporate Policy ---</h2><p>Santa's previous password expired, and he needs help choosing a new one.</p>\n",
       "<p>To help him remember his new password after the old one expires, Santa has devised a method of coming up with a password based on the previous one.  Corporate policy dictates that passwords must be exactly eight lowercase letters (for security reasons), so he finds his new password by <em>incrementing</em> his old password string repeatedly until it is valid.</p>\n",
       "<p>Incrementing is just like counting with numbers: <code>xx</code>, <code>xy</code>, <code>xz</code>, <code>ya</code>, <code>yb</code>, and so on. Increase the rightmost letter one step; if it was <code>z</code>, it wraps around to <code>a</code>, and repeat with the next letter to the left until one doesn't wrap around.</p>\n",
       "<p>Unfortunately for Santa, a new Security-Elf recently started, and he has imposed some additional password requirements:</p>\n",
       "<ul>\n",
       "<li>Passwords must include one increasing straight of at least three letters, like <code>abc</code>, <code>bcd</code>, <code>cde</code>, and so on, up to <code>xyz</code>. They cannot skip letters; <code>abd</code> doesn't count.</li>\n",
       "<li>Passwords may not contain the letters <code>i</code>, <code>o</code>, or <code>l</code>, as these letters can be mistaken for other characters and are therefore confusing.</li>\n",
       "<li>Passwords must contain at least two different, non-overlapping pairs of letters, like <code>aa</code>, <code>bb</code>, or <code>zz</code>.</li>\n",
       "</ul>\n",
       "<p>For example:</p>\n",
       "<ul>\n",
       "<li><code>hijklmmn</code> meets the first requirement (because it contains the straight <code>hij</code>) but fails the second requirement requirement (because it contains <code>i</code> and <code>l</code>).</li>\n",
       "<li><code>abbceffg</code> meets the third requirement (because it repeats <code>bb</code> and <code>ff</code>) but fails the first requirement.</li>\n",
       "<li><code>abbcegjk</code> fails the third requirement, because it only has one double letter (<code>bb</code>).</li>\n",
       "<li>The next password after <code>abcdefgh</code> is <code>abcdffaa</code>.</li>\n",
       "<li>The next password after <code>ghijklmn</code> is <code>ghjaabcc</code>, because you eventually skip all the passwords that start with <code>ghi...</code>, since <code>i</code> is not allowed.</li>\n",
       "</ul>\n",
       "<p>Given Santa's current password (your puzzle input), what should his <em>next password</em> be?</p>\n"
      ],
      "text/plain": [
       "<IPython.core.display.HTML object>"
      ]
     },
     "execution_count": 2,
     "metadata": {},
     "output_type": "execute_result"
    }
   ],
   "source": [
    "HTML(downloaded['part1'])"
   ]
  },
  {
   "cell_type": "markdown",
   "metadata": {},
   "source": [
    "## Boilerplate\n",
    "\n",
    "Let's try using [pycodestyle_magic](https://github.com/mattijn/pycodestyle_magic) with pycodestyle (flake8 stopped working for me in VS Code Jupyter). Now how does type checking work?"
   ]
  },
  {
   "cell_type": "code",
   "execution_count": 3,
   "metadata": {},
   "outputs": [],
   "source": [
    "%load_ext pycodestyle_magic"
   ]
  },
  {
   "cell_type": "code",
   "execution_count": 4,
   "metadata": {},
   "outputs": [],
   "source": [
    "%pycodestyle_on"
   ]
  },
  {
   "cell_type": "markdown",
   "metadata": {},
   "source": [
    "## Comments\n",
    "\n",
    "It's 2021-12-05, and for some reason I put off solving this one and those after - prefering to fill the repository with more problems. Now it is time though."
   ]
  },
  {
   "cell_type": "code",
   "execution_count": 5,
   "metadata": {},
   "outputs": [],
   "source": [
    "testdata = []\n",
    "\n",
    "inputdata = downloaded['input']"
   ]
  },
  {
   "cell_type": "code",
   "execution_count": 6,
   "metadata": {},
   "outputs": [],
   "source": [
    "from collections.abc import Iterable\n",
    "\n",
    "\n",
    "class LowerCaseChar:\n",
    "    def __init__(self, o: int):\n",
    "        self.o = o\n",
    "\n",
    "    def from_char(c: str):\n",
    "        return LowerCaseChar(ord(c))\n",
    "\n",
    "    def __str__(self) -> str:\n",
    "        return chr(self.o)\n",
    "\n",
    "    def __eq__(self, other) -> bool:\n",
    "        if isinstance(other, LowerCaseChar):\n",
    "            return self.o == other.o\n",
    "        elif isinstance(other, str) and len(other) == 1:\n",
    "            return str(self) == other\n",
    "        else:\n",
    "            return NotImplemented\n",
    "\n",
    "    def increment(self) -> bool:\n",
    "        self.o += 1\n",
    "        if self.o > ord('z'):\n",
    "            self.o = ord('a')\n",
    "            return True\n",
    "        else:\n",
    "            return False\n",
    "\n",
    "\n",
    "class Password:\n",
    "    def __init__(self, cs: Iterable[LowerCaseChar]):\n",
    "        self.cs = list(cs)[::-1]\n",
    "\n",
    "    def __str__(self) -> str:\n",
    "        return ''.join([str(c) for c in self.cs][::-1])\n",
    "\n",
    "    def from_string(cs: str):\n",
    "        return Password(LowerCaseChar.from_char(c)\n",
    "                        for c in cs)\n",
    "\n",
    "    # Passwords may not contain the letters i, o, or l, as these letters can\n",
    "    #   be mistaken for other characters and are therefore confusing.\n",
    "    def rule_noconfusing(self) -> bool:\n",
    "        for confusing in 'iol':\n",
    "            if confusing in self.cs:\n",
    "                return False\n",
    "        return True\n",
    "\n",
    "    # Passwords must contain at least two different, non-overlapping pairs of\n",
    "    #   letters, like aa, bb, or zz.\n",
    "    def rule_twopairs(self) -> bool:\n",
    "        pairs = zip(self.cs[:-1], self.cs[1:])\n",
    "        count = 0\n",
    "        for pair in pairs:\n",
    "            if pair[0] == pair[1]:\n",
    "                count += 1\n",
    "                if count >= 2:\n",
    "                    return True\n",
    "        return False\n",
    "\n",
    "    # Passwords must include one increasing straight of at least three letters,\n",
    "    #   like abc, bcd, cde, and so on, up to xyz. They cannot skip letters; abd\n",
    "    #   doesn't count.\n",
    "    def rule_3straight(self) -> bool:\n",
    "        triples = zip(self.cs[:-2], self.cs[1:-1], self.cs[2:])\n",
    "        for triple in triples:\n",
    "            if ((not any([triple[0].increment(),\n",
    "                         triple[0].increment(),\n",
    "                         triple[1].increment()]))\n",
    "                    and triple[0] == triple[1]\n",
    "                    and triple[1] == triple[2]):\n",
    "                return True\n",
    "        return False\n",
    "\n",
    "    def next(self):\n",
    "        for c in self.cs:\n",
    "            if not c.increment():\n",
    "                break\n",
    "\n",
    "\n",
    "def my_part1_solution(data: str) -> str:\n",
    "    return ''"
   ]
  },
  {
   "cell_type": "code",
   "execution_count": 7,
   "metadata": {},
   "outputs": [
    {
     "name": "stdout",
     "output_type": "stream",
     "text": [
      "abicsfa\n",
      "mypass.rule_noconfusing()=False\n",
      "mypass.rule_twopairs()=False\n",
      "mypass.rule_3straight()=False\n"
     ]
    }
   ],
   "source": [
    "a = LowerCaseChar.from_char('a')\n",
    "mypass = Password.from_string('abicsez')\n",
    "mypass.next()\n",
    "print(str(mypass))\n",
    "print(f'{mypass.rule_noconfusing()=}')\n",
    "mypass = Password.from_string('abcbcsez')\n",
    "print(f'{mypass.rule_twopairs()=}')\n",
    "print(f'{mypass.rule_3straight()=}')"
   ]
  },
  {
   "cell_type": "code",
   "execution_count": 8,
   "metadata": {},
   "outputs": [],
   "source": [
    "# assert(my_part1_solution(testdata) == ...)"
   ]
  },
  {
   "cell_type": "code",
   "execution_count": 9,
   "metadata": {},
   "outputs": [],
   "source": [
    "# my_part1_solution(inputdata)"
   ]
  },
  {
   "cell_type": "code",
   "execution_count": 10,
   "metadata": {},
   "outputs": [
    {
     "data": {
      "text/html": [
       "\n",
       "<p>Your puzzle input is <code class=\"puzzle-input\">vzbxkghb</code>.</p>\n",
       "<form method=\"post\" action=\"11/answer\"><input type=\"hidden\" name=\"level\" value=\"1\"/><p>Answer: <input type=\"text\" name=\"answer\" autocomplete=\"off\"/> <input type=\"submit\" value=\"[Submit]\"/></p></form>\n",
       "<p>You can also <span class=\"share\">[Share<span class=\"share-content\">on\n",
       "  <a href=\"https://twitter.com/intent/tweet?text=%22Corporate+Policy%22+%2D+Day+11+%2D+Advent+of+Code+2015&amp;url=https%3A%2F%2Fadventofcode%2Ecom%2F2015%2Fday%2F11&amp;related=ericwastl&amp;hashtags=AdventOfCode\" target=\"_blank\">Twitter</a>\n",
       "  <a href=\"javascript:void(0);\" onclick=\"var mastodon_instance=prompt('Mastodon Instance / Server Name?'); if(typeof mastodon_instance==='string' && mastodon_instance.length){this.href='https://'+mastodon_instance+'/share?text=%22Corporate+Policy%22+%2D+Day+11+%2D+Advent+of+Code+2015+%23AdventOfCode+https%3A%2F%2Fadventofcode%2Ecom%2F2015%2Fday%2F11'}else{return false;}\" target=\"_blank\">Mastodon</a\n",
       "></span>]</span> this puzzle.</p>\n"
      ],
      "text/plain": [
       "<IPython.core.display.HTML object>"
      ]
     },
     "execution_count": 10,
     "metadata": {},
     "output_type": "execute_result"
    }
   ],
   "source": [
    "HTML(downloaded['part1_footer'])"
   ]
  },
  {
   "cell_type": "markdown",
   "metadata": {},
   "source": [
    "## Part Two"
   ]
  },
  {
   "cell_type": "code",
   "execution_count": 11,
   "metadata": {},
   "outputs": [],
   "source": [
    "# HTML(downloaded['part2'])"
   ]
  },
  {
   "cell_type": "code",
   "execution_count": 12,
   "metadata": {},
   "outputs": [],
   "source": [
    "# HTML(downloaded['part2_footer'])"
   ]
  },
  {
   "cell_type": "code",
   "execution_count": 13,
   "metadata": {},
   "outputs": [],
   "source": [
    "# assert(my_part2_solution(testdata) == ...)"
   ]
  },
  {
   "cell_type": "code",
   "execution_count": 14,
   "metadata": {},
   "outputs": [],
   "source": [
    "# my_part2_solution(inputdata)"
   ]
  }
 ],
 "metadata": {
  "kernelspec": {
   "display_name": "Python 3.9.15 ('venv': venv)",
   "language": "python",
   "name": "python3"
  },
  "language_info": {
   "codemirror_mode": {
    "name": "ipython",
    "version": 3
   },
   "file_extension": ".py",
   "mimetype": "text/x-python",
   "name": "python",
   "nbconvert_exporter": "python",
   "pygments_lexer": "ipython3",
   "version": "3.9.15"
  },
  "metadata": {
   "interpreter": {
    "hash": "31f2aee4e71d21fbe5cf8b01ff0e069b9275f58929596ceb00d14d90e3e16cd6"
   }
  },
  "vscode": {
   "interpreter": {
    "hash": "953efd6badefc8bd539414deffff5d1ee9e359bc7a1650a157b4fbde293a1337"
   }
  }
 },
 "nbformat": 4,
 "nbformat_minor": 2
}

{
 "cells": [
  {
   "cell_type": "markdown",
   "metadata": {},
   "source": [
    "# Day 4: The Ideal Stocking Stuffer\n",
    "\n",
    "[*Advent of Code 2015 day 4*](https://adventofcode.com/2015/day/4) and [*solution megathread*](https://www.reddit.com/3vdn8a)\n",
    "\n",
    "[![nbviewer](https://raw.githubusercontent.com/jupyter/design/master/logos/Badges/nbviewer_badge.svg)](https://nbviewer.jupyter.org/github/UncleCJ/advent-of-code/blob/cj/2015/04/code.ipynb) [![Binder](https://mybinder.org/badge_logo.svg)](https://mybinder.org/v2/gh/UncleCJ/advent-of-code/cj?filepath=2015%2F04%2Fcode.ipynb)"
   ]
  },
  {
   "cell_type": "code",
   "execution_count": 1,
   "metadata": {},
   "outputs": [
    {
     "name": "stdout",
     "output_type": "stream",
     "text": [
      "Writing 'downloaded' (dict) to file 'downloaded'.\n"
     ]
    }
   ],
   "source": [
    "from IPython.display import HTML\n",
    "import sys\n",
    "\n",
    "sys.path.append('../../')\n",
    "import common\n",
    "\n",
    "downloaded = common.refresh()\n",
    "%store downloaded >downloaded"
   ]
  },
  {
   "cell_type": "markdown",
   "metadata": {},
   "source": [
    "## Part One"
   ]
  },
  {
   "cell_type": "code",
   "execution_count": 2,
   "metadata": {},
   "outputs": [
    {
     "data": {
      "text/html": [
       "<h2>--- Day 4: The Ideal Stocking Stuffer ---</h2><p>Santa needs help <a href=\"https://en.wikipedia.org/wiki/Bitcoin#Mining\">mining</a> some <span title=\"Hey, mined your own business!\">AdventCoins</span> (very similar to <a href=\"https://en.wikipedia.org/wiki/Bitcoin\">bitcoins</a>) to use as gifts for all the economically forward-thinking little girls and boys.</p>\n",
       "<p>To do this, he needs to find <a href=\"https://en.wikipedia.org/wiki/MD5\">MD5</a> hashes which, in <a href=\"https://en.wikipedia.org/wiki/Hexadecimal\">hexadecimal</a>, start with at least <em>five zeroes</em>.  The input to the MD5 hash is some secret key (your puzzle input, given below) followed by a number in decimal. To mine AdventCoins, you must find Santa the lowest positive number (no leading zeroes: <code>1</code>, <code>2</code>, <code>3</code>, ...) that produces such a hash.</p>\n",
       "<p>For example:</p>\n",
       "<ul>\n",
       "<li>If your secret key is <code>abcdef</code>, the answer is <code>609043</code>, because the MD5 hash of <code>abcdef609043</code> starts with five zeroes (<code>000001dbbfa...</code>), and it is the lowest such number to do so.</li>\n",
       "<li>If your secret key is <code>pqrstuv</code>, the lowest number it combines with to make an MD5 hash starting with five zeroes is <code>1048970</code>; that is, the MD5 hash of <code>pqrstuv1048970</code> looks like <code>000006136ef...</code>.</li>\n",
       "</ul>\n"
      ],
      "text/plain": [
       "<IPython.core.display.HTML object>"
      ]
     },
     "execution_count": 2,
     "metadata": {},
     "output_type": "execute_result"
    }
   ],
   "source": [
    "HTML(downloaded['part1'])"
   ]
  },
  {
   "cell_type": "markdown",
   "metadata": {},
   "source": [
    "## Boilerplate\n",
    "\n",
    "Let's try using [pycodestyle_magic](https://github.com/mattijn/pycodestyle_magic) with pycodestyle (flake8 stopped working for me in VS Code Jupyter). Now how does type checking work?"
   ]
  },
  {
   "cell_type": "code",
   "execution_count": 3,
   "metadata": {},
   "outputs": [],
   "source": [
    "%load_ext pycodestyle_magic"
   ]
  },
  {
   "cell_type": "code",
   "execution_count": 4,
   "metadata": {},
   "outputs": [],
   "source": [
    "%pycodestyle_on"
   ]
  },
  {
   "cell_type": "markdown",
   "metadata": {},
   "source": [
    "## Comments\n",
    "\n",
    "..."
   ]
  },
  {
   "cell_type": "code",
   "execution_count": 5,
   "metadata": {},
   "outputs": [
    {
     "name": "stdout",
     "output_type": "stream",
     "text": [
      "yzbqklnj\n"
     ]
    }
   ],
   "source": [
    "testdata = [('abcdef', 609043),\n",
    "            ('pqrstuv', 1048970)]\n",
    "\n",
    "inputdata = downloaded['input']\n",
    "print(inputdata)"
   ]
  },
  {
   "cell_type": "code",
   "execution_count": 6,
   "metadata": {},
   "outputs": [],
   "source": [
    "import hashlib\n",
    "\n",
    "\n",
    "def is_coin(key: str, candidate: int) -> bool:\n",
    "    m = hashlib.md5()\n",
    "    m.update(bytearray(key + str(candidate), 'ASCII'))\n",
    "    return m.hexdigest()[0:5] == '00000'"
   ]
  },
  {
   "cell_type": "code",
   "execution_count": 7,
   "metadata": {},
   "outputs": [
    {
     "name": "stdout",
     "output_type": "stream",
     "text": [
      "abcdef609043 asserted to be a valid coin\n",
      "pqrstuv1048970 asserted to be a valid coin\n"
     ]
    }
   ],
   "source": [
    "for key, candidate in testdata:\n",
    "    assert (is_coin(key, candidate))\n",
    "    print(f'{key+str(candidate)} asserted to be a valid coin')"
   ]
  },
  {
   "cell_type": "code",
   "execution_count": 8,
   "metadata": {},
   "outputs": [],
   "source": [
    "import itertools\n",
    "\n",
    "\n",
    "def my_part1_solution(key):\n",
    "    for candidate in itertools.count():\n",
    "        if candidate % 50000 == 0:\n",
    "            print(f'candidate: {candidate}')\n",
    "        if is_coin(key, candidate):\n",
    "            return candidate"
   ]
  },
  {
   "cell_type": "code",
   "execution_count": 9,
   "metadata": {
    "tags": []
   },
   "outputs": [
    {
     "name": "stdout",
     "output_type": "stream",
     "text": [
      "candidate: 0\n",
      "candidate: 50000\n",
      "candidate: 100000\n",
      "candidate: 150000\n",
      "candidate: 200000\n",
      "candidate: 250000\n",
      "282749\n"
     ]
    }
   ],
   "source": [
    "print(my_part1_solution(inputdata))"
   ]
  },
  {
   "cell_type": "code",
   "execution_count": 10,
   "metadata": {},
   "outputs": [
    {
     "data": {
      "text/html": [
       "\n",
       "<p>Your puzzle answer was <code>282749</code>.</p>"
      ],
      "text/plain": [
       "<IPython.core.display.HTML object>"
      ]
     },
     "execution_count": 10,
     "metadata": {},
     "output_type": "execute_result"
    }
   ],
   "source": [
    "HTML(downloaded['part1_footer'])"
   ]
  },
  {
   "cell_type": "markdown",
   "metadata": {},
   "source": [
    "## Part Two"
   ]
  },
  {
   "cell_type": "code",
   "execution_count": 11,
   "metadata": {},
   "outputs": [
    {
     "data": {
      "text/html": [
       "<h2 id=\"part2\">--- Part Two ---</h2><p>Now find one that starts with <em>six zeroes</em>.</p>\n"
      ],
      "text/plain": [
       "<IPython.core.display.HTML object>"
      ]
     },
     "execution_count": 11,
     "metadata": {},
     "output_type": "execute_result"
    }
   ],
   "source": [
    "HTML(downloaded['part2'])"
   ]
  },
  {
   "cell_type": "code",
   "execution_count": 12,
   "metadata": {},
   "outputs": [],
   "source": [
    "def is_coin6(key: str, candidate: int) -> bool:\n",
    "    m = hashlib.md5()\n",
    "    m.update(bytearray(key + str(candidate), 'ASCII'))\n",
    "    return m.hexdigest()[0:6] == '000000'\n",
    "\n",
    "\n",
    "def my_part2_solution(key):\n",
    "    for candidate in itertools.count():\n",
    "        if candidate % 1000000 == 0:\n",
    "            print(f'candidate: {candidate}')\n",
    "        if is_coin6(key, candidate):\n",
    "            return candidate"
   ]
  },
  {
   "cell_type": "code",
   "execution_count": 13,
   "metadata": {},
   "outputs": [
    {
     "name": "stdout",
     "output_type": "stream",
     "text": [
      "candidate: 0\n",
      "candidate: 1000000\n",
      "candidate: 2000000\n",
      "candidate: 3000000\n",
      "candidate: 4000000\n",
      "candidate: 5000000\n",
      "candidate: 6000000\n",
      "candidate: 7000000\n",
      "candidate: 8000000\n",
      "candidate: 9000000\n",
      "9962624\n"
     ]
    }
   ],
   "source": [
    "print(my_part2_solution(inputdata))"
   ]
  },
  {
   "cell_type": "code",
   "execution_count": 14,
   "metadata": {},
   "outputs": [
    {
     "data": {
      "text/html": [
       "\n",
       "<p>Your puzzle answer was <code>9962624</code>.</p><p class=\"day-success\">Both parts of this puzzle are complete! They provide two gold stars: **</p>\n",
       "<p>At this point, you should <a href=\"/2015\">return to your Advent calendar</a> and try another puzzle.</p>\n",
       "<p>Your puzzle input was <code class=\"puzzle-input\">yzbqklnj</code>.</p>\n",
       "<p>You can also <span class=\"share\">[Share<span class=\"share-content\">on\n",
       "  <a href=\"https://twitter.com/intent/tweet?text=I%27ve+completed+%22The+Ideal+Stocking+Stuffer%22+%2D+Day+4+%2D+Advent+of+Code+2015&amp;url=https%3A%2F%2Fadventofcode%2Ecom%2F2015%2Fday%2F4&amp;related=ericwastl&amp;hashtags=AdventOfCode\" target=\"_blank\">Twitter</a>\n",
       "  <a href=\"javascript:void(0);\" onclick=\"var mastodon_instance=prompt('Mastodon Instance / Server Name?'); if(typeof mastodon_instance==='string' && mastodon_instance.length){this.href='https://'+mastodon_instance+'/share?text=I%27ve+completed+%22The+Ideal+Stocking+Stuffer%22+%2D+Day+4+%2D+Advent+of+Code+2015+%23AdventOfCode+https%3A%2F%2Fadventofcode%2Ecom%2F2015%2Fday%2F4'}else{return false;}\" target=\"_blank\">Mastodon</a\n",
       "></span>]</span> this puzzle.</p>\n"
      ],
      "text/plain": [
       "<IPython.core.display.HTML object>"
      ]
     },
     "execution_count": 14,
     "metadata": {},
     "output_type": "execute_result"
    }
   ],
   "source": [
    "HTML(downloaded['part2_footer'])"
   ]
  }
 ],
 "metadata": {
  "kernelspec": {
   "display_name": "Python 3.10.8 64-bit",
   "language": "python",
   "name": "python3"
  },
  "language_info": {
   "codemirror_mode": {
    "name": "ipython",
    "version": 3
   },
   "file_extension": ".py",
   "mimetype": "text/x-python",
   "name": "python",
   "nbconvert_exporter": "python",
   "pygments_lexer": "ipython3",
   "version": "3.10.8"
  },
  "vscode": {
   "interpreter": {
    "hash": "aee8b7b246df8f9039afb4144a1f6fd8d2ca17a180786b69acc140d282b71a49"
   }
  }
 },
 "nbformat": 4,
 "nbformat_minor": 4
}

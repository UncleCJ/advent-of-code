{
 "cells": [
  {
   "cell_type": "markdown",
   "metadata": {},
   "source": [
    "# Day 15: Science for Hungry People\n",
    "\n",
    "[*Advent of Code 2015 day 15*](https://adventofcode.com/2015/day/15) and [*solution megathread*](https://www.reddit.com/3wwj84)\n",
    "\n",
    "[![nbviewer](https://raw.githubusercontent.com/jupyter/design/master/logos/Badges/nbviewer_badge.svg)](https://nbviewer.jupyter.org/github/UncleCJ/advent-of-code/blob/cj/2015/15/code.ipynb) [![Binder](https://mybinder.org/badge_logo.svg)](https://mybinder.org/v2/gh/UncleCJ/advent-of-code/cj?filepath=2015%2F15%2Fcode.ipynb)"
   ]
  },
  {
   "cell_type": "code",
   "execution_count": 1,
   "metadata": {},
   "outputs": [
    {
     "name": "stdout",
     "output_type": "stream",
     "text": [
      "Writing 'downloaded' (dict) to file 'downloaded'.\n"
     ]
    }
   ],
   "source": [
    "from IPython.display import HTML\n",
    "import sys\n",
    "sys.path.append('../../')\n",
    "import common\n",
    "\n",
    "downloaded = common.refresh()\n",
    "%store downloaded >downloaded"
   ]
  },
  {
   "cell_type": "markdown",
   "metadata": {},
   "source": [
    "## Part One"
   ]
  },
  {
   "cell_type": "code",
   "execution_count": 2,
   "metadata": {},
   "outputs": [
    {
     "data": {
      "text/html": [
       "<h2>--- Day 15: Science for Hungry People ---</h2><p>Today, you set out on the task of perfecting your milk-dunking cookie recipe.  All you have to do is find the right balance of ingredients.</p>\n",
       "<p>Your recipe leaves room for exactly <code>100</code> teaspoons of ingredients.  You make a list of the <em>remaining ingredients you could use to finish the recipe</em> (your puzzle input) and their <em>properties per teaspoon</em>:</p>\n",
       "<ul>\n",
       "<li><code>capacity</code> (how well it helps the cookie absorb milk)</li>\n",
       "<li><code>durability</code> (how well it keeps the cookie intact when full of milk)</li>\n",
       "<li><code>flavor</code> (how tasty it makes the cookie)</li>\n",
       "<li><code>texture</code> (how it improves the feel of the cookie)</li>\n",
       "<li><code>calories</code> (how many calories it adds to the cookie)</li>\n",
       "</ul>\n",
       "<p>You can only measure ingredients in whole-teaspoon amounts accurately, and you have to be accurate so you can reproduce your results in the future.  The <em>total score</em> of a cookie can be found by adding up each of the properties (negative totals become <code>0</code>) and then multiplying together everything except calories.</p>\n",
       "<p>For instance, suppose you have <span title=\"* I know what your preference is, but...\">these two ingredients</span>:</p>\n",
       "<pre><code>Butterscotch: capacity -1, durability -2, flavor 6, texture 3, calories 8\n",
       "Cinnamon: capacity 2, durability 3, flavor -2, texture -1, calories 3\n",
       "</code></pre>\n",
       "<p>Then, choosing to use <code>44</code> teaspoons of butterscotch and <code>56</code> teaspoons of cinnamon (because the amounts of each ingredient must add up to <code>100</code>) would result in a cookie with the following properties:</p>\n",
       "<ul>\n",
       "<li>A <code>capacity</code> of <code>44*-1 + 56*2 = 68</code></li>\n",
       "<li>A <code>durability</code> of <code>44*-2 + 56*3 = 80</code></li>\n",
       "<li>A <code>flavor</code> of <code>44*6 + 56*-2 = 152</code></li>\n",
       "<li>A <code>texture</code> of <code>44*3 + 56*-1 = 76</code></li>\n",
       "</ul>\n",
       "<p>Multiplying these together (<code>68 * 80 * 152 * 76</code>, ignoring <code>calories</code> for now) results in a total score of  <code>62842880</code>, which happens to be the best score possible given these ingredients.  If any properties had produced a negative total, it would have instead become zero, causing the whole score to multiply to zero.</p>\n",
       "<p>Given the ingredients in your kitchen and their properties, what is the <em>total score</em> of the highest-scoring cookie you can make?</p>\n"
      ],
      "text/plain": [
       "<IPython.core.display.HTML object>"
      ]
     },
     "execution_count": 2,
     "metadata": {},
     "output_type": "execute_result"
    }
   ],
   "source": [
    "HTML(downloaded['part1'])"
   ]
  },
  {
   "cell_type": "markdown",
   "metadata": {},
   "source": [
    "## Boilerplate\n",
    "\n",
    "Let's try using [pycodestyle_magic](https://github.com/mattijn/pycodestyle_magic) with pycodestyle (flake8 stopped working for me in VS Code Jupyter). Now how does type checking work?"
   ]
  },
  {
   "cell_type": "code",
   "execution_count": 3,
   "metadata": {},
   "outputs": [],
   "source": [
    "%load_ext pycodestyle_magic"
   ]
  },
  {
   "cell_type": "code",
   "execution_count": 4,
   "metadata": {},
   "outputs": [],
   "source": [
    "%pycodestyle_on"
   ]
  },
  {
   "cell_type": "markdown",
   "metadata": {},
   "source": [
    "## Comments\n",
    "\n",
    "I hear there is no good solution for this except just repeated attempts (more or less smart...). So, if I'm to succeed at this, I expect I _must_ use numpy... so let's get to it?"
   ]
  },
  {
   "cell_type": "code",
   "execution_count": 5,
   "metadata": {},
   "outputs": [
    {
     "name": "stderr",
     "output_type": "stream",
     "text": [
      "1:80: E501 line too long (87 > 79 characters)\n"
     ]
    }
   ],
   "source": [
    "testdata = \"\"\"Butterscotch: capacity -1, durability -2, flavor 6, texture 3, calories 8\n",
    "Cinnamon: capacity 2, durability 3, flavor -2, texture -1, calories 3\"\"\"\n",
    "\n",
    "inputdata = downloaded['input']"
   ]
  },
  {
   "cell_type": "code",
   "execution_count": 6,
   "metadata": {},
   "outputs": [
    {
     "name": "stdout",
     "output_type": "stream",
     "text": [
      "Sugar: capacity 3, durability 0, flavor 0, texture -3, calories 2\n",
      "Sprinkles: capacity -3, durability 3, flavor 0, texture 0, calories 9\n",
      "Candy: capacity -1, durability 0, flavor 4, texture 0, calories ...\n"
     ]
    }
   ],
   "source": [
    "print(f'{inputdata[:200]}...')"
   ]
  },
  {
   "cell_type": "code",
   "execution_count": 7,
   "metadata": {},
   "outputs": [],
   "source": [
    "import re\n",
    "import numpy as np\n",
    "import pandas as pd\n",
    "\n",
    "\n",
    "def parse_data(data: str):\n",
    "    output = pd.DataFrame()\n",
    "    pattern = re.compile(\n",
    "        r'^(?P<ingredient>\\w+): capacity (?P<capacity>-?\\d+), ' +\n",
    "        r'durability (?P<durability>-?\\d+), flavor (?P<flavor>-?\\d+), ' +\n",
    "        r'texture (?P<texture>-?\\d+), calories (?P<calories>-?\\d+)$')\n",
    "    for line in data.splitlines():\n",
    "        ingredient = pattern.match(line).groupdict()\n",
    "        ingredient_name = ingredient[\"ingredient\"]\n",
    "        del ingredient[\"ingredient\"]\n",
    "        for key in ingredient.keys():\n",
    "            ingredient[key] = int(ingredient[key])\n",
    "        output = pd.concat(\n",
    "            [output,\n",
    "             pd.Series(ingredient,\n",
    "                       name=ingredient_name).to_frame().T],\n",
    "            )\n",
    "    return output"
   ]
  },
  {
   "cell_type": "code",
   "execution_count": 8,
   "metadata": {},
   "outputs": [],
   "source": [
    "def values_by_ingredient(\n",
    "        composition: pd.Series,\n",
    "        nutrition: pd.DataFrame) -> pd.DataFrame:\n",
    "    return nutrition.mul(composition, axis='index')\n",
    "\n",
    "\n",
    "def nutritional_value(\n",
    "        composition: pd.Series,\n",
    "        nutrition: pd.DataFrame) -> int:\n",
    "    values = values_by_ingredient(\n",
    "        composition,\n",
    "        nutrition)\n",
    "    values_by_property = values.loc[\n",
    "        :, values.columns != 'calories'].sum()\n",
    "    if any(values_by_property <= 0):\n",
    "        return 0\n",
    "    else:\n",
    "        return values_by_property.prod()"
   ]
  },
  {
   "cell_type": "code",
   "execution_count": 9,
   "metadata": {},
   "outputs": [
    {
     "data": {
      "text/html": [
       "<div>\n",
       "<style scoped>\n",
       "    .dataframe tbody tr th:only-of-type {\n",
       "        vertical-align: middle;\n",
       "    }\n",
       "\n",
       "    .dataframe tbody tr th {\n",
       "        vertical-align: top;\n",
       "    }\n",
       "\n",
       "    .dataframe thead th {\n",
       "        text-align: right;\n",
       "    }\n",
       "</style>\n",
       "<table border=\"1\" class=\"dataframe\">\n",
       "  <thead>\n",
       "    <tr style=\"text-align: right;\">\n",
       "      <th></th>\n",
       "      <th>capacity</th>\n",
       "      <th>durability</th>\n",
       "      <th>flavor</th>\n",
       "      <th>texture</th>\n",
       "      <th>calories</th>\n",
       "    </tr>\n",
       "  </thead>\n",
       "  <tbody>\n",
       "    <tr>\n",
       "      <th>Butterscotch</th>\n",
       "      <td>-1</td>\n",
       "      <td>-2</td>\n",
       "      <td>6</td>\n",
       "      <td>3</td>\n",
       "      <td>8</td>\n",
       "    </tr>\n",
       "    <tr>\n",
       "      <th>Cinnamon</th>\n",
       "      <td>2</td>\n",
       "      <td>3</td>\n",
       "      <td>-2</td>\n",
       "      <td>-1</td>\n",
       "      <td>3</td>\n",
       "    </tr>\n",
       "  </tbody>\n",
       "</table>\n",
       "</div>"
      ],
      "text/plain": [
       "              capacity  durability  flavor  texture  calories\n",
       "Butterscotch        -1          -2       6        3         8\n",
       "Cinnamon             2           3      -2       -1         3"
      ]
     },
     "metadata": {},
     "output_type": "display_data"
    },
    {
     "data": {
      "text/plain": [
       "62842880"
      ]
     },
     "execution_count": 9,
     "metadata": {},
     "output_type": "execute_result"
    }
   ],
   "source": [
    "from IPython.display import display\n",
    "\n",
    "\n",
    "nutrition = parse_data(testdata)\n",
    "display(nutrition)\n",
    "composition = pd.Series([44, 56], name=\"amount\", index=nutrition.index)\n",
    "nutritional_value(composition, nutrition)"
   ]
  },
  {
   "cell_type": "code",
   "execution_count": 10,
   "metadata": {},
   "outputs": [],
   "source": [
    "from math import floor\n",
    "\n",
    "\n",
    "# This solution unfortunately did not terminate,\n",
    "# since I don't check whether any ingredient went\n",
    "# below zero...\n",
    "def improve_composition(\n",
    "        composition: pd.Series,\n",
    "        nutrition: pd.DataFrame,\n",
    "        debug: bool = False) -> (pd.Series, int):\n",
    "    best_value = nutritional_value(composition, nutrition)\n",
    "    best_composition = composition\n",
    "    number_of_ingredients = len(composition)\n",
    "    for ingredient in composition.index:\n",
    "        test_composition = composition.copy()\n",
    "        test_composition[ingredient] += number_of_ingredients - 1\n",
    "        test_composition[test_composition.index != ingredient] -= 1\n",
    "        test_value = nutritional_value(test_composition, nutrition)\n",
    "        if test_value > best_value:\n",
    "            best_value = test_value\n",
    "            best_composition = test_composition\n",
    "    if debug:\n",
    "        print(f'improved: {best_value} - {best_composition}')\n",
    "    return best_composition, best_value"
   ]
  },
  {
   "cell_type": "code",
   "execution_count": 11,
   "metadata": {},
   "outputs": [],
   "source": [
    "# This starting position is not guaranteed to be\n",
    "# even positive, so difficult to improve\n",
    "def starting_composition(\n",
    "        nutrition: pd.DataFrame) -> pd.Series:\n",
    "    number_of_ingredients = len(nutrition.index)\n",
    "    fraction = floor(100 / number_of_ingredients)\n",
    "    startlist = [fraction] * number_of_ingredients\n",
    "    startlist[0] += 100 % number_of_ingredients\n",
    "    return pd.Series(startlist, name=\"amount\", index=nutrition.index)"
   ]
  },
  {
   "cell_type": "code",
   "execution_count": 12,
   "metadata": {},
   "outputs": [],
   "source": [
    "from random import randint, random\n",
    "\n",
    "\n",
    "def randomly_change_composition(\n",
    "        composition: pd.Series,\n",
    "        nutrition: pd.DataFrame) -> (pd.Series, int):\n",
    "    take_from = composition.loc[\n",
    "        composition > 0].sample()\n",
    "    give_to = composition.drop(\n",
    "        index=take_from.index).sample()\n",
    "    new_composition = composition.copy()\n",
    "    amount = floor(0.2 * random() * take_from)\n",
    "    new_composition[take_from.index] -= amount\n",
    "    new_composition[give_to.index] += amount\n",
    "    return (\n",
    "        new_composition,\n",
    "        nutritional_value(new_composition, nutrition))\n",
    "\n",
    "\n",
    "def randomly_improve_composition(\n",
    "        composition: pd.Series,\n",
    "        nutrition: pd.DataFrame,\n",
    "        attempts: int = 400,\n",
    "        debug: bool = False) -> (pd.Series, int):\n",
    "    best_value = nutritional_value(composition, nutrition)\n",
    "    best_composition = composition\n",
    "    failed_attempts = 0\n",
    "    while failed_attempts < attempts:\n",
    "        test_composition, test_value = \\\n",
    "            randomly_change_composition(\n",
    "                best_composition,\n",
    "                nutrition)\n",
    "        if test_value <= best_value:\n",
    "            failed_attempts += 1\n",
    "        else:\n",
    "            best_value = test_value\n",
    "            best_composition = test_composition\n",
    "            failed_attempts = 0\n",
    "    if debug:\n",
    "        print(f'improved: {best_value} - {best_composition}')\n",
    "    return best_composition, best_value\n",
    "\n",
    "\n",
    "def random_starting_composition(\n",
    "        nutrition: pd.DataFrame) -> pd.Series:\n",
    "    fractions = [\n",
    "        floor(random() * 100)\n",
    "        for _ in range(len(nutrition.index))]\n",
    "    fractions[0] += 100 - sum(fractions)\n",
    "    composition = pd.Series(\n",
    "        fractions,\n",
    "        name=\"amount\",\n",
    "        index=nutrition.index)\n",
    "    return composition, nutritional_value(\n",
    "        composition, nutrition)\n",
    "\n",
    "\n",
    "def good_starting_composition(\n",
    "        nutrition: pd.DataFrame) -> pd.Series:\n",
    "    while True:\n",
    "        composition, value = \\\n",
    "            random_starting_composition(\n",
    "                nutrition)\n",
    "        if value > 0:\n",
    "            return composition\n",
    "\n",
    "\n",
    "def my_part1_solution(\n",
    "        data: str,\n",
    "        debug: bool = False) -> (pd.Series, int):\n",
    "    nutrition = parse_data(data)\n",
    "    composition = good_starting_composition(nutrition)\n",
    "    return randomly_improve_composition(\n",
    "        composition,\n",
    "        nutrition)"
   ]
  },
  {
   "cell_type": "code",
   "execution_count": 13,
   "metadata": {},
   "outputs": [
    {
     "data": {
      "text/plain": [
       "(Sugar        21\n",
       " Sprinkles     5\n",
       " Candy        31\n",
       " Chocolate    43\n",
       " Name: amount, dtype: int64,\n",
       " 222870)"
      ]
     },
     "execution_count": 13,
     "metadata": {},
     "output_type": "execute_result"
    }
   ],
   "source": [
    "my_part1_solution(inputdata, True)"
   ]
  },
  {
   "cell_type": "code",
   "execution_count": 14,
   "metadata": {},
   "outputs": [
    {
     "data": {
      "text/html": [
       "\n",
       "<p>Your puzzle answer was <code>222870</code>.</p><p class=\"day-success\">The first half of this puzzle is complete! It provides one gold star: *</p>\n"
      ],
      "text/plain": [
       "<IPython.core.display.HTML object>"
      ]
     },
     "execution_count": 14,
     "metadata": {},
     "output_type": "execute_result"
    }
   ],
   "source": [
    "HTML(downloaded['part1_footer'])"
   ]
  },
  {
   "cell_type": "markdown",
   "metadata": {},
   "source": [
    "## Part Two"
   ]
  },
  {
   "cell_type": "code",
   "execution_count": 15,
   "metadata": {},
   "outputs": [
    {
     "data": {
      "text/html": [
       "<h2 id=\"part2\">--- Part Two ---</h2><p>Your cookie recipe becomes wildly popular!  Someone asks if you can make another recipe that has exactly <code>500</code> calories per cookie (so they can use it as a meal replacement).  Keep the rest of your award-winning process the same (100 teaspoons, same ingredients, same scoring system).</p>\n",
       "<p>For example, given the ingredients above, if you had instead selected <code>40</code> teaspoons of butterscotch and <code>60</code> teaspoons of cinnamon (which still adds to <code>100</code>), the total calorie count would be <code>40*8 + 60*3 = 500</code>.  The total score would go down, though: only <code>57600000</code>, the best you can do in such trying circumstances.</p>\n",
       "<p>Given the ingredients in your kitchen and their properties, what is the <em>total score</em> of the highest-scoring cookie you can make with a calorie total of <code>500</code>?</p>\n"
      ],
      "text/plain": [
       "<IPython.core.display.HTML object>"
      ]
     },
     "execution_count": 15,
     "metadata": {},
     "output_type": "execute_result"
    }
   ],
   "source": [
    "HTML(downloaded['part2'])"
   ]
  },
  {
   "cell_type": "code",
   "execution_count": 16,
   "metadata": {},
   "outputs": [],
   "source": [
    "# HTML(downloaded['part2_footer'])"
   ]
  },
  {
   "cell_type": "code",
   "execution_count": 17,
   "metadata": {},
   "outputs": [],
   "source": [
    "# assert(my_part2_solution(testdata) == ...)"
   ]
  },
  {
   "cell_type": "code",
   "execution_count": 18,
   "metadata": {},
   "outputs": [],
   "source": [
    "# my_part2_solution(inputdata)"
   ]
  }
 ],
 "metadata": {
  "kernelspec": {
   "display_name": "Python 3.10.8 ('venv': venv)",
   "language": "python",
   "name": "python3"
  },
  "language_info": {
   "codemirror_mode": {
    "name": "ipython",
    "version": 3
   },
   "file_extension": ".py",
   "mimetype": "text/x-python",
   "name": "python",
   "nbconvert_exporter": "python",
   "pygments_lexer": "ipython3",
   "version": "3.10.8"
  },
  "metadata": {
   "interpreter": {
    "hash": "31f2aee4e71d21fbe5cf8b01ff0e069b9275f58929596ceb00d14d90e3e16cd6"
   }
  },
  "vscode": {
   "interpreter": {
    "hash": "953efd6badefc8bd539414deffff5d1ee9e359bc7a1650a157b4fbde293a1337"
   }
  }
 },
 "nbformat": 4,
 "nbformat_minor": 2
}

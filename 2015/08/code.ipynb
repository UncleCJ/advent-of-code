{
 "cells": [
  {
   "cell_type": "markdown",
   "metadata": {},
   "source": [
    "# Day 8: Matchsticks\n",
    "\n",
    "[*Advent of Code 2015 day 8*](https://adventofcode.com/2015/day/8) and [*solution megathread*](https://redd.it/3vw32y)\n",
    "\n",
    "[![nbviewer](https://raw.githubusercontent.com/jupyter/design/master/logos/Badges/nbviewer_badge.svg)](https://nbviewer.jupyter.org/github/UncleCJ/advent-of-code/blob/cj/2015/08/code.ipynb) [![Binder](https://mybinder.org/badge_logo.svg)](https://mybinder.org/v2/gh/UncleCJ/advent-of-code/cj?filepath=2015%2F08%2Fcode.ipynb)"
   ]
  },
  {
   "cell_type": "code",
   "execution_count": 1,
   "metadata": {},
   "outputs": [
    {
     "output_type": "stream",
     "name": "stdout",
     "text": [
      "Writing 'downloaded' (dict) to file 'downloaded'.\n"
     ]
    }
   ],
   "source": [
    "from IPython.display import HTML\n",
    "import sys\n",
    "sys.path.append('../../')\n",
    "import common\n",
    "\n",
    "downloaded = common.refresh()\n",
    "%store downloaded >downloaded"
   ]
  },
  {
   "cell_type": "code",
   "execution_count": 2,
   "metadata": {},
   "outputs": [
    {
     "output_type": "execute_result",
     "data": {
      "text/plain": [
       "<IPython.core.display.HTML object>"
      ],
      "text/html": "<article class=\"day-desc\"><h2>--- Day 8: Matchsticks ---</h2><p>Space on the sleigh is limited this year, and so Santa will be bringing his list as a digital copy. He needs to know how much space it will take up when stored.</p>\n<p>It is common in many programming languages to provide a way to <span title=\"It is common for many programmers to try to escape from string escaping.  No such luck here.\">escape</span> special characters in strings.  For example, <a href=\"https://en.wikipedia.org/wiki/Escape_sequences_in_C\">C</a>, <a href=\"https://developer.mozilla.org/en-US/docs/Web/JavaScript/Reference/Global_Objects/String\">JavaScript</a>, <a href=\"http://perldoc.perl.org/perlop.html#Quote-and-Quote-like-Operators\">Perl</a>, <a href=\"https://docs.python.org/2.0/ref/strings.html\">Python</a>, and even <a href=\"http://php.net/manual/en/language.types.string.php#language.types.string.syntax.double\">PHP</a> handle special characters in very similar ways.</p>\n<p>However, it is important to realize the difference between the number of characters <em>in the code representation of the string literal</em> and the number of characters <em>in the in-memory string itself</em>.</p>\n<p>For example:</p>\n<ul>\n<li><code>\"\"</code> is <code>2</code> characters of code (the two double quotes), but the string contains zero characters.</li>\n<li><code>\"abc\"</code> is <code>5</code> characters of code, but <code>3</code> characters in the string data.</li>\n<li><code>\"aaa\\\"aaa\"</code> is <code>10</code> characters of code, but the string itself contains six \"a\" characters and a single, escaped quote character, for a total of <code>7</code> characters in the string data.</li>\n<li><code>\"\\x27\"</code> is <code>6</code> characters of code, but the string itself contains just one - an apostrophe (<code>'</code>), escaped using hexadecimal notation.</li>\n</ul>\n<p>Santa's list is a file that contains many double-quoted string literals, one on each line.  The only escape sequences used are <code>\\\\</code> (which represents a single backslash), <code>\\\"</code> (which represents a lone double-quote character), and <code>\\x</code> plus two hexadecimal characters (which represents a single character with that ASCII code).</p>\n<p>Disregarding the whitespace in the file, what is <em>the number of characters of code for string literals</em> minus <em>the number of characters in memory for the values of the strings</em> in total for the entire file?</p>\n<p>For example, given the four strings above, the total number of characters of string code (<code>2 + 5 + 10 + 6 = 23</code>) minus the total number of characters in memory for string values (<code>0 + 3 + 7 + 1 = 11</code>) is <code>23 - 11 = 12</code>.</p>\n</article>"
     },
     "metadata": {},
     "execution_count": 2
    }
   ],
   "source": [
    "HTML(downloaded['part1'])"
   ]
  },
  {
   "cell_type": "code",
   "execution_count": 3,
   "metadata": {},
   "outputs": [],
   "source": [
    "testdata = [(r'\"\"', (2, 0)),  # is 2 characters of code (the two double quotes), but the string contains zero characters.\n",
    "             (r'\"abc\"', (5, 3)),  # is 5 characters of code, but 3 characters in the string data.\n",
    "             (r'\"aaa\\\"aaa\"', (10, 7)),  # is 10 characters of code, but the string itself contains six \"a\" characters and a single, escaped quote character, for a total of 7 characters in the string data.\n",
    "             (r'\"\\x27\"', (6, 1))]  # is 6 characters of code, but the string itself contains just one - an apostrophe ('), escaped using hexadecimal notation.\n",
    "\n",
    "inputdata = downloaded['input'].splitlines()"
   ]
  },
  {
   "cell_type": "code",
   "execution_count": 4,
   "metadata": {},
   "outputs": [
    {
     "output_type": "stream",
     "name": "stdout",
     "text": [
      "['\"\"', '\"abc\"', '\"aaa\\\\\"aaa\"', '\"\\\\x27\"']\n"
     ]
    }
   ],
   "source": [
    "print([string for string, assertion in testdata])"
   ]
  },
  {
   "cell_type": "code",
   "execution_count": 5,
   "metadata": {},
   "outputs": [
    {
     "output_type": "stream",
     "name": "stdout",
     "text": [
      "['\"v\\\\xfb\\\\\"lgs\\\\\"kvjfywmut\\\\x9cr\"', '\"merxdhj\"', '\"dwz\"', '\"d\\\\\\\\gkbqo\\\\\\\\fwukyxab\\\\\"u\"']\n"
     ]
    }
   ],
   "source": [
    "print(inputdata[1:5])"
   ]
  },
  {
   "cell_type": "code",
   "execution_count": 6,
   "metadata": {},
   "outputs": [
    {
     "output_type": "execute_result",
     "data": {
      "text/plain": [
       "<IPython.core.display.HTML object>"
      ],
      "text/html": "<p>To begin, <a href=\"8/input\" target=\"_blank\">get your puzzle input</a>.</p>\n<form method=\"post\" action=\"8/answer\"><input type=\"hidden\" name=\"level\" value=\"1\"/><p>Answer: <input type=\"text\" name=\"answer\" autocomplete=\"off\"/> <input type=\"submit\" value=\"[Submit]\"/></p></form>\n<p>You can also <span class=\"share\">[Share<span class=\"share-content\">on\n  <a href=\"https://twitter.com/intent/tweet?text=%22Matchsticks%22+%2D+Day+8+%2D+Advent+of+Code+2015&amp;url=https%3A%2F%2Fadventofcode%2Ecom%2F2015%2Fday%2F8&amp;related=ericwastl&amp;hashtags=AdventOfCode\" target=\"_blank\">Twitter</a>\n  <a href=\"javascript:void(0);\" onclick=\"var mastodon_instance=prompt('Mastodon Instance / Server Name?'); if(typeof mastodon_instance==='string' && mastodon_instance.length){this.href='https://'+mastodon_instance+'/share?text=%22Matchsticks%22+%2D+Day+8+%2D+Advent+of+Code+2015+%23AdventOfCode+https%3A%2F%2Fadventofcode%2Ecom%2F2015%2Fday%2F8'}else{return false;}\" target=\"_blank\">Mastodon</a\n></span>]</span> this puzzle.</p>\n</main>\n\n<!-- ga -->\n<script>\n(function(i,s,o,g,r,a,m){i['GoogleAnalyticsObject']=r;i[r]=i[r]||function(){\n(i[r].q=i[r].q||[]).push(arguments)},i[r].l=1*new Date();a=s.createElement(o),\nm=s.getElementsByTagName(o)[0];a.async=1;a.src=g;m.parentNode.insertBefore(a,m)\n})(window,document,'script','//www.google-analytics.com/analytics.js','ga');\nga('create', 'UA-69522494-1', 'auto');\nga('set', 'anonymizeIp', true);\nga('send', 'pageview');\n</script>\n<!-- /ga -->\n</body>\n</htm"
     },
     "metadata": {},
     "execution_count": 6
    }
   ],
   "source": [
    "HTML(downloaded['part1_footer'])"
   ]
  },
  {
   "cell_type": "code",
   "execution_count": 7,
   "metadata": {},
   "outputs": [],
   "source": [
    "# HTML(downloaded['part2'])"
   ]
  },
  {
   "cell_type": "code",
   "execution_count": 12,
   "metadata": {
    "tags": []
   },
   "outputs": [
    {
     "output_type": "stream",
     "name": "stdout",
     "text": [
      "14710\n"
     ]
    }
   ],
   "source": []
  },
  {
   "cell_type": "code",
   "execution_count": 8,
   "metadata": {},
   "outputs": [],
   "source": [
    "# HTML(downloaded['part2_footer'])"
   ]
  }
 ],
 "metadata": {
  "kernelspec": {
   "display_name": "Python 3",
   "language": "python",
   "name": "python3"
  },
  "language_info": {
   "codemirror_mode": {
    "name": "ipython",
    "version": 3
   },
   "file_extension": ".py",
   "mimetype": "text/x-python",
   "name": "python",
   "nbconvert_exporter": "python",
   "pygments_lexer": "ipython3",
   "version": "3.8.5"
  }
 },
 "nbformat": 4,
 "nbformat_minor": 2
}
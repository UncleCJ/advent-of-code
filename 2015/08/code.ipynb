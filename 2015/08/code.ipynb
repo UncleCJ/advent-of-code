{
 "cells": [
  {
   "cell_type": "markdown",
   "metadata": {},
   "source": [
    "# Day 8: Matchsticks\n",
    "\n",
    "[*Advent of Code 2015 day 8*](https://adventofcode.com/2015/day/8) and [*solution megathread*](https://redd.it/3vw32y)\n",
    "\n",
    "[![nbviewer](https://raw.githubusercontent.com/jupyter/design/master/logos/Badges/nbviewer_badge.svg)](https://nbviewer.jupyter.org/github/UncleCJ/advent-of-code/blob/cj/2015/08/code.ipynb) [![Binder](https://mybinder.org/badge_logo.svg)](https://mybinder.org/v2/gh/UncleCJ/advent-of-code/cj?filepath=2015%2F08%2Fcode.ipynb)"
   ]
  },
  {
   "cell_type": "code",
   "execution_count": 1,
   "metadata": {},
   "outputs": [
    {
     "name": "stdout",
     "output_type": "stream",
     "text": [
      "Writing 'downloaded' (dict) to file 'downloaded'.\n"
     ]
    }
   ],
   "source": [
    "from IPython.display import HTML\n",
    "import sys\n",
    "sys.path.append('../../')\n",
    "import common\n",
    "\n",
    "downloaded = common.refresh()\n",
    "%store downloaded >downloaded"
   ]
  },
  {
   "cell_type": "code",
   "execution_count": 2,
   "metadata": {},
   "outputs": [
    {
     "data": {
      "text/html": [
       "<h2>--- Day 8: Matchsticks ---</h2><p>Space on the sleigh is limited this year, and so Santa will be bringing his list as a digital copy. He needs to know how much space it will take up when stored.</p>\n",
       "<p>It is common in many programming languages to provide a way to <span title=\"It is common for many programmers to try to escape from string escaping.  No such luck here.\">escape</span> special characters in strings.  For example, <a href=\"https://en.wikipedia.org/wiki/Escape_sequences_in_C\">C</a>, <a href=\"https://developer.mozilla.org/en-US/docs/Web/JavaScript/Reference/Global_Objects/String\">JavaScript</a>, <a href=\"http://perldoc.perl.org/perlop.html#Quote-and-Quote-like-Operators\">Perl</a>, <a href=\"https://docs.python.org/2.0/ref/strings.html\">Python</a>, and even <a href=\"http://php.net/manual/en/language.types.string.php#language.types.string.syntax.double\">PHP</a> handle special characters in very similar ways.</p>\n",
       "<p>However, it is important to realize the difference between the number of characters <em>in the code representation of the string literal</em> and the number of characters <em>in the in-memory string itself</em>.</p>\n",
       "<p>For example:</p>\n",
       "<ul>\n",
       "<li><code>\"\"</code> is <code>2</code> characters of code (the two double quotes), but the string contains zero characters.</li>\n",
       "<li><code>\"abc\"</code> is <code>5</code> characters of code, but <code>3</code> characters in the string data.</li>\n",
       "<li><code>\"aaa\\\"aaa\"</code> is <code>10</code> characters of code, but the string itself contains six \"a\" characters and a single, escaped quote character, for a total of <code>7</code> characters in the string data.</li>\n",
       "<li><code>\"\\x27\"</code> is <code>6</code> characters of code, but the string itself contains just one - an apostrophe (<code>'</code>), escaped using hexadecimal notation.</li>\n",
       "</ul>\n",
       "<p>Santa's list is a file that contains many double-quoted string literals, one on each line.  The only escape sequences used are <code>\\\\</code> (which represents a single backslash), <code>\\\"</code> (which represents a lone double-quote character), and <code>\\x</code> plus two hexadecimal characters (which represents a single character with that ASCII code).</p>\n",
       "<p>Disregarding the whitespace in the file, what is <em>the number of characters of code for string literals</em> minus <em>the number of characters in memory for the values of the strings</em> in total for the entire file?</p>\n",
       "<p>For example, given the four strings above, the total number of characters of string code (<code>2 + 5 + 10 + 6 = 23</code>) minus the total number of characters in memory for string values (<code>0 + 3 + 7 + 1 = 11</code>) is <code>23 - 11 = 12</code>.</p>\n"
      ],
      "text/plain": [
       "<IPython.core.display.HTML object>"
      ]
     },
     "execution_count": 2,
     "metadata": {},
     "output_type": "execute_result"
    }
   ],
   "source": [
    "HTML(downloaded['part1'])"
   ]
  },
  {
   "cell_type": "markdown",
   "metadata": {},
   "source": [
    "## Boilerplate\n",
    "\n",
    "Let's try using [pycodestyle_magic](https://github.com/mattijn/pycodestyle_magic) with pycodestyle (flake8 stopped working for me in VS Code Jupyter). Now how does type checking work?"
   ]
  },
  {
   "cell_type": "code",
   "execution_count": 3,
   "metadata": {},
   "outputs": [],
   "source": [
    "%load_ext pycodestyle_magic"
   ]
  },
  {
   "cell_type": "code",
   "execution_count": 4,
   "metadata": {},
   "outputs": [],
   "source": [
    "%pycodestyle_on"
   ]
  },
  {
   "cell_type": "markdown",
   "metadata": {},
   "source": [
    "## Comments\n",
    "\n",
    "..."
   ]
  },
  {
   "cell_type": "code",
   "execution_count": 5,
   "metadata": {},
   "outputs": [],
   "source": [
    "testdata = [\n",
    "    # is 2 characters of code (the two double quotes),\n",
    "    # but the string contains zero characters\n",
    "    (r'\"\"', (2, 0)),\n",
    "    # is 5 characters of code, but 3 characters in the string data\n",
    "    (r'\"abc\"', (5, 3)),\n",
    "    # is 10 characters of code, but the string itself contains six\n",
    "    # \"a\" characters and a single, escaped quote character,\n",
    "    # for a total of 7 characters in the string data\n",
    "    (r'\"aaa\\\"aaa\"', (10, 7)),\n",
    "    # is 6 characters of code, but the string itself contains just one\n",
    "    # - an apostrophe ('), escaped using hexadecimal notation\n",
    "    (r'\"\\x27\"', (6, 1))]\n",
    "\n",
    "inputdata = downloaded['input'].splitlines()"
   ]
  },
  {
   "cell_type": "code",
   "execution_count": 6,
   "metadata": {},
   "outputs": [
    {
     "name": "stdout",
     "output_type": "stream",
     "text": [
      "['\"v\\\\xfb\\\\\"lgs\\\\\"kvjfywmut\\\\x9cr\"', '\"merxdhj\"', '\"dwz\"', '\"d\\\\\\\\gkbqo\\\\\\\\fwukyxab\\\\\"u\"']\n"
     ]
    }
   ],
   "source": [
    "print(inputdata[1:5])"
   ]
  },
  {
   "cell_type": "code",
   "execution_count": 7,
   "metadata": {},
   "outputs": [
    {
     "name": "stdout",
     "output_type": "stream",
     "text": [
      "UTF-8\n"
     ]
    }
   ],
   "source": [
    "import locale\n",
    "print(locale.getpreferredencoding())"
   ]
  },
  {
   "cell_type": "code",
   "execution_count": 8,
   "metadata": {},
   "outputs": [],
   "source": [
    "import codecs\n",
    "quote = '\"'\n",
    "\n",
    "\n",
    "def count_literals_characters(s: str) -> (int, int):\n",
    "    literals = len(bytearray(s, \"UTF-8\"))\n",
    "    if s[0] == \"\\\\\":\n",
    "        stripped = s[2:-2]\n",
    "    else:\n",
    "        stripped = s[1:-1]\n",
    "    characters = len(codecs.decode(stripped, \"unicode_escape\"))\n",
    "    # print(f'There are {literals} literals ' +\n",
    "    #   f'encoding {characters} characters in {s}')\n",
    "    return(literals, characters)"
   ]
  },
  {
   "cell_type": "code",
   "execution_count": 9,
   "metadata": {},
   "outputs": [
    {
     "name": "stdout",
     "output_type": "stream",
     "text": [
      "\"\" asserted to be 2 literals encoding 0 characters\n",
      "\"abc\" asserted to be 5 literals encoding 3 characters\n",
      "\"aaa\\\"aaa\" asserted to be 10 literals encoding 7 characters\n",
      "\"\\x27\" asserted to be 6 literals encoding 1 characters\n",
      "12\n"
     ]
    }
   ],
   "source": [
    "junkcounter = 0\n",
    "for s, count in testdata:\n",
    "    assert(count_literals_characters(s) == count)\n",
    "    print(f'{s} asserted to be {count[0]} ' +\n",
    "          f'literals encoding {count[1]} characters')\n",
    "    junkcounter += count[0] - count[1]\n",
    "print(junkcounter)"
   ]
  },
  {
   "cell_type": "code",
   "execution_count": 10,
   "metadata": {
    "tags": []
   },
   "outputs": [
    {
     "name": "stdout",
     "output_type": "stream",
     "text": [
      "1342\n"
     ]
    }
   ],
   "source": [
    "junkcounter = 0\n",
    "for s in inputdata:\n",
    "    count = count_literals_characters(s)\n",
    "    junkcounter += count[0] - count[1]\n",
    "print(junkcounter)"
   ]
  },
  {
   "cell_type": "code",
   "execution_count": 11,
   "metadata": {},
   "outputs": [
    {
     "data": {
      "text/html": [
       "\n",
       "<p>Your puzzle answer was <code>1342</code>.</p>"
      ],
      "text/plain": [
       "<IPython.core.display.HTML object>"
      ]
     },
     "execution_count": 11,
     "metadata": {},
     "output_type": "execute_result"
    }
   ],
   "source": [
    "HTML(downloaded['part1_footer'])"
   ]
  },
  {
   "cell_type": "code",
   "execution_count": 12,
   "metadata": {},
   "outputs": [
    {
     "data": {
      "text/html": [
       "<h2 id=\"part2\">--- Part Two ---</h2><p>Now, let's go the other way.  In addition to finding the number of characters of code, you should now <em>encode each code representation as a new string</em> and find the number of characters of the new encoded representation, including the surrounding double quotes.</p>\n",
       "<p>For example:</p>\n",
       "<ul>\n",
       "<li><code>\"\"</code> encodes to <code>\"\\\"\\\"\"</code>, an increase from <code>2</code> characters to <code>6</code>.</li>\n",
       "<li><code>\"abc\"</code> encodes to <code>\"\\\"abc\\\"\"</code>, an increase from <code>5</code> characters to <code>9</code>.</li>\n",
       "<li><code>\"aaa\\\"aaa\"</code> encodes to <code>\"\\\"aaa\\\\\\\"aaa\\\"\"</code>, an increase from <code>10</code> characters to <code>16</code>.</li>\n",
       "<li><code>\"\\x27\"</code> encodes to <code>\"\\\"\\\\x27\\\"\"</code>, an increase from <code>6</code> characters to <code>11</code>.</li>\n",
       "</ul>\n",
       "<p>Your task is to find <em>the total number of characters to represent the newly encoded strings</em> minus <em>the number of characters of code in each original string literal</em>. For example, for the strings above, the total encoded length (<code>6 + 9 + 16 + 11 = 42</code>) minus the characters in the original code representation (<code>23</code>, just like in the first part of this puzzle) is <code>42 - 23 = 19</code>.</p>\n"
      ],
      "text/plain": [
       "<IPython.core.display.HTML object>"
      ]
     },
     "execution_count": 12,
     "metadata": {},
     "output_type": "execute_result"
    }
   ],
   "source": [
    "HTML(downloaded['part2'])"
   ]
  },
  {
   "cell_type": "code",
   "execution_count": 13,
   "metadata": {
    "tags": []
   },
   "outputs": [],
   "source": [
    "testdata2 = [\n",
    "    # encodes to \"\\\"\\\"\", an increase from 2 characters to 6\n",
    "    (\"\\\"\\\"\", (2, 6)),\n",
    "    # encodes to \"\\\"abc\\\"\", an increase from 5 characters to 9\n",
    "    (r'\"abc\"', (5, 9)),\n",
    "    # encodes to \"\\\"aaa\\\\\\\"aaa\\\"\", an increase from 10 characters to 16\n",
    "    (r'\"aaa\\\"aaa\"', (10, 16)),\n",
    "    # encodes to \"\\\"\\\\x27\\\"\", an increase from 6 characters to 11\n",
    "    (r'\"\\x27\"', (6, 11))]"
   ]
  },
  {
   "cell_type": "code",
   "execution_count": 14,
   "metadata": {},
   "outputs": [],
   "source": [
    "mydict = {\"\\\\\": \"\\\\\\\\\", \"\\\"\": \"\\\\\\\"\"}\n",
    "\n",
    "\n",
    "def my_translation(unescaped: str) -> str:\n",
    "    for fromstr, tostr in mydict.items():\n",
    "        unescaped = unescaped.replace(fromstr, tostr)\n",
    "    return(\"\\\"\" + unescaped + \"\\\"\")"
   ]
  },
  {
   "cell_type": "code",
   "execution_count": 15,
   "metadata": {},
   "outputs": [
    {
     "name": "stdout",
     "output_type": "stream",
     "text": [
      "\"\" asserted to be 2 literals encoding 6 characters\n",
      "\"abc\" asserted to be 5 literals encoding 9 characters\n",
      "\"aaa\\\"aaa\" asserted to be 10 literals encoding 16 characters\n",
      "\"\\x27\" asserted to be 6 literals encoding 11 characters\n",
      "19\n"
     ]
    }
   ],
   "source": [
    "junkcounter = 0\n",
    "for s, count in testdata2:\n",
    "    count1 = count_literals_characters(s)\n",
    "    se = my_translation(s)\n",
    "    count2 = count_literals_characters(se)\n",
    "    assert((count1[0], count2[0]) == count)\n",
    "    print(f'{s} asserted to be {count1[0]} ' +\n",
    "          f'literals encoding {count2[0]} characters')\n",
    "    junkcounter += count2[0] - count1[0]\n",
    "print(junkcounter)"
   ]
  },
  {
   "cell_type": "code",
   "execution_count": 16,
   "metadata": {},
   "outputs": [
    {
     "name": "stdout",
     "output_type": "stream",
     "text": [
      "2074\n"
     ]
    }
   ],
   "source": [
    "junkcounter = 0\n",
    "for s in inputdata:\n",
    "    count1 = count_literals_characters(s)\n",
    "    se = my_translation(s)\n",
    "    count2 = count_literals_characters(se)\n",
    "    junkcounter += count2[0] - count1[0]\n",
    "print(junkcounter)"
   ]
  },
  {
   "cell_type": "code",
   "execution_count": 17,
   "metadata": {},
   "outputs": [
    {
     "data": {
      "text/html": [
       "\n",
       "<p>Your puzzle answer was <code>2074</code>.</p><p class=\"day-success\">Both parts of this puzzle are complete! They provide two gold stars: **</p>\n",
       "<p>At this point, you should <a href=\"/2015\">return to your Advent calendar</a> and try another puzzle.</p>\n",
       "<p>If you still want to see it, you can <a href=\"8/input\" target=\"_blank\">get your puzzle input</a>.</p>\n",
       "<p>You can also <span class=\"share\">[Share<span class=\"share-content\">on\n",
       "  <a href=\"https://twitter.com/intent/tweet?text=I%27ve+completed+%22Matchsticks%22+%2D+Day+8+%2D+Advent+of+Code+2015&amp;url=https%3A%2F%2Fadventofcode%2Ecom%2F2015%2Fday%2F8&amp;related=ericwastl&amp;hashtags=AdventOfCode\" target=\"_blank\">Twitter</a>\n",
       "  <a href=\"javascript:void(0);\" onclick=\"var mastodon_instance=prompt('Mastodon Instance / Server Name?'); if(typeof mastodon_instance==='string' && mastodon_instance.length){this.href='https://'+mastodon_instance+'/share?text=I%27ve+completed+%22Matchsticks%22+%2D+Day+8+%2D+Advent+of+Code+2015+%23AdventOfCode+https%3A%2F%2Fadventofcode%2Ecom%2F2015%2Fday%2F8'}else{return false;}\" target=\"_blank\">Mastodon</a\n",
       "></span>]</span> this puzzle.</p>\n"
      ],
      "text/plain": [
       "<IPython.core.display.HTML object>"
      ]
     },
     "execution_count": 17,
     "metadata": {},
     "output_type": "execute_result"
    }
   ],
   "source": [
    "HTML(downloaded['part2_footer'])"
   ]
  }
 ],
 "metadata": {
  "kernelspec": {
   "display_name": "Python 3.9.15 ('venv': venv)",
   "language": "python",
   "name": "python3"
  },
  "language_info": {
   "codemirror_mode": {
    "name": "ipython",
    "version": 3
   },
   "file_extension": ".py",
   "mimetype": "text/x-python",
   "name": "python",
   "nbconvert_exporter": "python",
   "pygments_lexer": "ipython3",
   "version": "3.9.15"
  },
  "vscode": {
   "interpreter": {
    "hash": "953efd6badefc8bd539414deffff5d1ee9e359bc7a1650a157b4fbde293a1337"
   }
  }
 },
 "nbformat": 4,
 "nbformat_minor": 2
}

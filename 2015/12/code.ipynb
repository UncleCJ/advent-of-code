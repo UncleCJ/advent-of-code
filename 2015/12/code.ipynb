{
 "cells": [
  {
   "cell_type": "markdown",
   "metadata": {},
   "source": [
    "# Day 12: JSAbacusFramework.io\n",
    "\n",
    "[*Advent of Code 2015 day 12*](https://adventofcode.com/2015/day/12) and [*solution megathread*](https://www.reddit.com/3wh73d)\n",
    "\n",
    "[![nbviewer](https://raw.githubusercontent.com/jupyter/design/master/logos/Badges/nbviewer_badge.svg)](https://nbviewer.jupyter.org/github/UncleCJ/advent-of-code/blob/cj/2015/12/code.ipynb) [![Binder](https://mybinder.org/badge_logo.svg)](https://mybinder.org/v2/gh/UncleCJ/advent-of-code/cj?filepath=2015%2F12%2Fcode.ipynb)"
   ]
  },
  {
   "cell_type": "code",
   "execution_count": 1,
   "metadata": {},
   "outputs": [
    {
     "name": "stdout",
     "output_type": "stream",
     "text": [
      "Writing 'downloaded' (dict) to file 'downloaded'.\n"
     ]
    }
   ],
   "source": [
    "from IPython.display import HTML\n",
    "import sys\n",
    "sys.path.append('../../')\n",
    "import common\n",
    "\n",
    "downloaded = common.refresh()\n",
    "%store downloaded >downloaded"
   ]
  },
  {
   "cell_type": "markdown",
   "metadata": {},
   "source": [
    "## Part One"
   ]
  },
  {
   "cell_type": "code",
   "execution_count": 2,
   "metadata": {},
   "outputs": [
    {
     "data": {
      "text/html": [
       "<h2>--- Day 12: JSAbacusFramework.io ---</h2><p>Santa's Accounting-Elves need help balancing the books after a recent order.  Unfortunately, their accounting software uses a peculiar storage format.  That's where you come in.</p>\n",
       "<p>They have a <a href=\"http://json.org/\">JSON</a> document which contains a variety of things: arrays (<code>[1,2,3]</code>), objects (<code>{\"a\":1, \"b\":2}</code>), numbers, and strings.  Your first job is to simply find all of the <em>numbers</em> throughout the document and add them together.</p>\n",
       "<p>For example:</p>\n",
       "<ul>\n",
       "<li><code>[1,2,3]</code> and <code>{\"a\":2,\"b\":4}</code> both have a sum of <code>6</code>.</li>\n",
       "<li><code>[[[3]]]</code> and <code>{\"a\":{\"b\":4},\"c\":-1}</code> both have a sum of <code>3</code>.</li>\n",
       "<li><code>{\"a\":[-1,1]}</code> and <code>[-1,{\"a\":1}]</code> both have a sum of <code>0</code>.</li>\n",
       "<li><code>[]</code> and <code>{}</code> both have a sum of <code>0</code>.</li>\n",
       "</ul>\n",
       "<p>You will not <span title=\"Nor are you likely to be eaten by a grue... during *this* puzzle, anyway.\">encounter</span> any strings containing numbers.</p>\n",
       "<p>What is the <em>sum of all numbers</em> in the document?</p>\n"
      ],
      "text/plain": [
       "<IPython.core.display.HTML object>"
      ]
     },
     "execution_count": 2,
     "metadata": {},
     "output_type": "execute_result"
    }
   ],
   "source": [
    "HTML(downloaded['part1'])"
   ]
  },
  {
   "cell_type": "markdown",
   "metadata": {},
   "source": [
    "## Boilerplate\n",
    "\n",
    "Let's try using [pycodestyle_magic](https://github.com/mattijn/pycodestyle_magic) with pycodestyle (flake8 stopped working for me in VS Code Jupyter). Now how does type checking work?"
   ]
  },
  {
   "cell_type": "code",
   "execution_count": 3,
   "metadata": {},
   "outputs": [],
   "source": [
    "%load_ext pycodestyle_magic"
   ]
  },
  {
   "cell_type": "code",
   "execution_count": 4,
   "metadata": {},
   "outputs": [],
   "source": [
    "%pycodestyle_on"
   ]
  },
  {
   "cell_type": "markdown",
   "metadata": {},
   "source": [
    "## Comments\n",
    "\n",
    "It's 2022-11 and I felt like getting back into the game... all paperclips I could sort are so, and I'm feeling particularly rusty..."
   ]
  },
  {
   "cell_type": "code",
   "execution_count": 5,
   "metadata": {},
   "outputs": [],
   "source": [
    "testdata = [\n",
    "    ('[1,2,3]', 6),\n",
    "    ('{\"a\":2,\"b\":4}', 6),\n",
    "    ('[[[3]]]', 3),\n",
    "    ('{\"a\":{\"b\":4},\"c\":-1}', 3),\n",
    "    ('{\"a\":[-1,1]}', 0),\n",
    "    ('[-1,{\"a\":1}]', 0),\n",
    "    ('[]', 0),\n",
    "    ('{}', 0)\n",
    "]\n",
    "\n",
    "inputdata = downloaded['input']"
   ]
  },
  {
   "cell_type": "code",
   "execution_count": 6,
   "metadata": {},
   "outputs": [
    {
     "name": "stdout",
     "output_type": "stream",
     "text": [
      "{\"e\":[[{\"e\":86,\"c\":23,\"a\":{\"a\":[120,169,\"green\",\"red\",\"orange\"],\"b\":\"red\"},\"g\":\"yellow\",\"b\":[\"yellow...\n"
     ]
    }
   ],
   "source": [
    "print(inputdata[:100] + '...')"
   ]
  },
  {
   "cell_type": "code",
   "execution_count": 7,
   "metadata": {},
   "outputs": [],
   "source": [
    "import re\n",
    "\n",
    "\n",
    "def my_part1_solution(\n",
    "        accountingdb: str,\n",
    "        debug=False) -> int:\n",
    "    number_strings = re.findall('-?[0-9]+', accountingdb)\n",
    "    return sum(map(int, number_strings))"
   ]
  },
  {
   "cell_type": "code",
   "execution_count": 8,
   "metadata": {},
   "outputs": [
    {
     "name": "stdout",
     "output_type": "stream",
     "text": [
      "[1,2,3] asserted to evaluate to 6\n",
      "{\"a\":2,\"b\":4} asserted to evaluate to 6\n",
      "[[[3]]] asserted to evaluate to 3\n",
      "{\"a\":{\"b\":4},\"c\":-1} asserted to evaluate to 3\n",
      "{\"a\":[-1,1]} asserted to evaluate to 0\n",
      "[-1,{\"a\":1}] asserted to evaluate to 0\n",
      "[] asserted to evaluate to 0\n",
      "{} asserted to evaluate to 0\n"
     ]
    }
   ],
   "source": [
    "for d, r in testdata:\n",
    "    assert my_part1_solution(d) == r\n",
    "    print(f'{d} asserted to evaluate to {r}')"
   ]
  },
  {
   "cell_type": "code",
   "execution_count": 9,
   "metadata": {},
   "outputs": [
    {
     "data": {
      "text/plain": [
       "111754"
      ]
     },
     "execution_count": 9,
     "metadata": {},
     "output_type": "execute_result"
    }
   ],
   "source": [
    "my_part1_solution(inputdata)"
   ]
  },
  {
   "cell_type": "code",
   "execution_count": 10,
   "metadata": {},
   "outputs": [
    {
     "data": {
      "text/html": [
       "\n",
       "<p>Your puzzle answer was <code>111754</code>.</p>"
      ],
      "text/plain": [
       "<IPython.core.display.HTML object>"
      ]
     },
     "execution_count": 10,
     "metadata": {},
     "output_type": "execute_result"
    }
   ],
   "source": [
    "HTML(downloaded['part1_footer'])"
   ]
  },
  {
   "cell_type": "markdown",
   "metadata": {},
   "source": [
    "## Part Two"
   ]
  },
  {
   "cell_type": "code",
   "execution_count": 11,
   "metadata": {},
   "outputs": [
    {
     "data": {
      "text/html": [
       "<h2 id=\"part2\">--- Part Two ---</h2><p>Uh oh - the Accounting-Elves have realized that they double-counted everything <em>red</em>.</p>\n",
       "<p>Ignore any object (and all of its children) which has any property with the value <code>\"red\"</code>.  Do this only for objects (<code>{...}</code>), not arrays (<code>[...]</code>).</p>\n",
       "<ul>\n",
       "<li><code>[1,2,3]</code> still has a sum of <code>6</code>.</li>\n",
       "<li><code>[1,{\"c\":\"red\",\"b\":2},3]</code> now has a sum of <code>4</code>, because the middle object is ignored.</li>\n",
       "<li><code>{\"d\":\"red\",\"e\":[1,2,3,4],\"f\":5}</code> now has a sum of <code>0</code>, because the entire structure is ignored.</li>\n",
       "<li><code>[1,\"red\",5]</code> has a sum of <code>6</code>, because <code>\"red\"</code> in an array has no effect.</li>\n",
       "</ul>\n"
      ],
      "text/plain": [
       "<IPython.core.display.HTML object>"
      ]
     },
     "execution_count": 11,
     "metadata": {},
     "output_type": "execute_result"
    }
   ],
   "source": [
    "HTML(downloaded['part2'])"
   ]
  },
  {
   "cell_type": "code",
   "execution_count": 12,
   "metadata": {},
   "outputs": [],
   "source": [
    "testdata2 = [\n",
    "    ('[1,2,3]', 6),\n",
    "    ('[1,{\"c\":\"red\",\"b\":2},3]', 4),\n",
    "    ('{\"d\":\"red\",\"e\":[1,2,3,4],\"f\":5}', 0),\n",
    "    ('[1,\"red\",5]', 6)\n",
    "]"
   ]
  },
  {
   "cell_type": "markdown",
   "metadata": {},
   "source": [
    "To be honest, by now of course I checked the solution megathread... and think I managed a very tidy solution. I had various platform issues in the meantime, but now I'm trying out running in Jupyter in a browser for a bit.\n",
    "\n",
    "Also, my only error was in `evaluate_part2` failing to recurse on `j.values()`, reiterating the value if I could [type hint the JSON variable](https://stackoverflow.com/questions/51291722/define-a-jsonable-type-using-mypy-pep-526), but with everything (including pycodestyle still bugging out about argument defaults?), I didn't finish that..."
   ]
  },
  {
   "cell_type": "code",
   "execution_count": 13,
   "metadata": {},
   "outputs": [],
   "source": [
    "import json\n",
    "\n",
    "\n",
    "def evaluate_part2(\n",
    "        j,\n",
    "        debug=False) -> int:\n",
    "    t = type(j)\n",
    "    if debug:\n",
    "        print(f'evaluating ({t}): {j}')\n",
    "    if t == int:\n",
    "        return j\n",
    "    elif t == list:\n",
    "        return sum(evaluate_part2(e, debug) for e in j)\n",
    "    elif t != dict or 'red' in j.values():\n",
    "        return 0\n",
    "    else:\n",
    "        # This is confusingly similar to the line above:\n",
    "        return sum(evaluate_part2(e, debug) for e in j.values())\n",
    "\n",
    "\n",
    "def my_part2_solution(\n",
    "        accountingdb: str,\n",
    "        debug=False) -> int:\n",
    "    j = json.loads(accountingdb)\n",
    "    return evaluate_part2(j, debug)"
   ]
  },
  {
   "cell_type": "code",
   "execution_count": 14,
   "metadata": {},
   "outputs": [
    {
     "name": "stdout",
     "output_type": "stream",
     "text": [
      "evaluating (<class 'list'>): [1, 2, 3]\n",
      "evaluating (<class 'int'>): 1\n",
      "evaluating (<class 'int'>): 2\n",
      "evaluating (<class 'int'>): 3\n",
      "[1,2,3] asserted to evaluate to 6\n",
      "evaluating (<class 'list'>): [1, {'c': 'red', 'b': 2}, 3]\n",
      "evaluating (<class 'int'>): 1\n",
      "evaluating (<class 'dict'>): {'c': 'red', 'b': 2}\n",
      "evaluating (<class 'int'>): 3\n",
      "[1,{\"c\":\"red\",\"b\":2},3] asserted to evaluate to 4\n",
      "evaluating (<class 'dict'>): {'d': 'red', 'e': [1, 2, 3, 4], 'f': 5}\n",
      "{\"d\":\"red\",\"e\":[1,2,3,4],\"f\":5} asserted to evaluate to 0\n",
      "evaluating (<class 'list'>): [1, 'red', 5]\n",
      "evaluating (<class 'int'>): 1\n",
      "evaluating (<class 'str'>): red\n",
      "evaluating (<class 'int'>): 5\n",
      "[1,\"red\",5] asserted to evaluate to 6\n"
     ]
    }
   ],
   "source": [
    "for d, r in testdata2:\n",
    "    assert my_part2_solution(d, True) == r\n",
    "    print(f'{d} asserted to evaluate to {r}')"
   ]
  },
  {
   "cell_type": "code",
   "execution_count": 15,
   "metadata": {},
   "outputs": [
    {
     "data": {
      "text/plain": [
       "65402"
      ]
     },
     "execution_count": 15,
     "metadata": {},
     "output_type": "execute_result"
    }
   ],
   "source": [
    "my_part2_solution(inputdata, False)"
   ]
  },
  {
   "cell_type": "code",
   "execution_count": 16,
   "metadata": {
    "scrolled": true
   },
   "outputs": [
    {
     "data": {
      "text/html": [
       "\n",
       "<p>Your puzzle answer was <code>65402</code>.</p><p class=\"day-success\">Both parts of this puzzle are complete! They provide two gold stars: **</p>\n",
       "<p>At this point, you should <a href=\"/2015\">return to your Advent calendar</a> and try another puzzle.</p>\n",
       "<p>If you still want to see it, you can <a href=\"12/input\" target=\"_blank\">get your puzzle input</a>.</p>\n",
       "<p>You can also <span class=\"share\">[Share<span class=\"share-content\">on\n",
       "  <a href=\"https://twitter.com/intent/tweet?text=I%27ve+completed+%22JSAbacusFramework%2Eio%22+%2D+Day+12+%2D+Advent+of+Code+2015&amp;url=https%3A%2F%2Fadventofcode%2Ecom%2F2015%2Fday%2F12&amp;related=ericwastl&amp;hashtags=AdventOfCode\" target=\"_blank\">Twitter</a>\n",
       "  <a href=\"javascript:void(0);\" onclick=\"var mastodon_instance=prompt('Mastodon Instance / Server Name?'); if(typeof mastodon_instance==='string' && mastodon_instance.length){this.href='https://'+mastodon_instance+'/share?text=I%27ve+completed+%22JSAbacusFramework%2Eio%22+%2D+Day+12+%2D+Advent+of+Code+2015+%23AdventOfCode+https%3A%2F%2Fadventofcode%2Ecom%2F2015%2Fday%2F12'}else{return false;}\" target=\"_blank\">Mastodon</a\n",
       "></span>]</span> this puzzle.</p>\n"
      ],
      "text/plain": [
       "<IPython.core.display.HTML object>"
      ]
     },
     "execution_count": 16,
     "metadata": {},
     "output_type": "execute_result"
    }
   ],
   "source": [
    "HTML(downloaded['part2_footer'])"
   ]
  }
 ],
 "metadata": {
  "kernelspec": {
   "display_name": "Python 3 (ipykernel)",
   "language": "python",
   "name": "python3"
  },
  "language_info": {
   "codemirror_mode": {
    "name": "ipython",
    "version": 3
   },
   "file_extension": ".py",
   "mimetype": "text/x-python",
   "name": "python",
   "nbconvert_exporter": "python",
   "pygments_lexer": "ipython3",
   "version": "3.10.8"
  },
  "metadata": {
   "interpreter": {
    "hash": "31f2aee4e71d21fbe5cf8b01ff0e069b9275f58929596ceb00d14d90e3e16cd6"
   }
  },
  "vscode": {
   "interpreter": {
    "hash": "953efd6badefc8bd539414deffff5d1ee9e359bc7a1650a157b4fbde293a1337"
   }
  }
 },
 "nbformat": 4,
 "nbformat_minor": 2
}

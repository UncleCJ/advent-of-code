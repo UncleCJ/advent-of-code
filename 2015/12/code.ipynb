{
 "cells": [
  {
   "cell_type": "markdown",
   "metadata": {},
   "source": [
    "# Day 12: JSAbacusFramework.io\n",
    "\n",
    "[*Advent of Code 2015 day 12*](https://adventofcode.com/2015/day/12) and [*solution megathread*](https://www.reddit.com/3wh73d)\n",
    "\n",
    "[![nbviewer](https://raw.githubusercontent.com/jupyter/design/master/logos/Badges/nbviewer_badge.svg)](https://nbviewer.jupyter.org/github/UncleCJ/advent-of-code/blob/cj/2015/12/code.ipynb) [![Binder](https://mybinder.org/badge_logo.svg)](https://mybinder.org/v2/gh/UncleCJ/advent-of-code/cj?filepath=2015%2F12%2Fcode.ipynb)"
   ]
  },
  {
   "cell_type": "code",
   "execution_count": 1,
   "metadata": {},
   "outputs": [
    {
     "name": "stdout",
     "output_type": "stream",
     "text": [
      "Writing 'downloaded' (dict) to file 'downloaded'.\n"
     ]
    }
   ],
   "source": [
    "from IPython.display import HTML\n",
    "import sys\n",
    "sys.path.append('../../')\n",
    "import common\n",
    "\n",
    "downloaded = common.refresh()\n",
    "%store downloaded >downloaded"
   ]
  },
  {
   "cell_type": "markdown",
   "metadata": {},
   "source": [
    "## Part One"
   ]
  },
  {
   "cell_type": "code",
   "execution_count": 2,
   "metadata": {},
   "outputs": [
    {
     "data": {
      "text/html": [
       "<h2>--- Day 12: JSAbacusFramework.io ---</h2><p>Santa's Accounting-Elves need help balancing the books after a recent order.  Unfortunately, their accounting software uses a peculiar storage format.  That's where you come in.</p>\n",
       "<p>They have a <a href=\"http://json.org/\">JSON</a> document which contains a variety of things: arrays (<code>[1,2,3]</code>), objects (<code>{\"a\":1, \"b\":2}</code>), numbers, and strings.  Your first job is to simply find all of the <em>numbers</em> throughout the document and add them together.</p>\n",
       "<p>For example:</p>\n",
       "<ul>\n",
       "<li><code>[1,2,3]</code> and <code>{\"a\":2,\"b\":4}</code> both have a sum of <code>6</code>.</li>\n",
       "<li><code>[[[3]]]</code> and <code>{\"a\":{\"b\":4},\"c\":-1}</code> both have a sum of <code>3</code>.</li>\n",
       "<li><code>{\"a\":[-1,1]}</code> and <code>[-1,{\"a\":1}]</code> both have a sum of <code>0</code>.</li>\n",
       "<li><code>[]</code> and <code>{}</code> both have a sum of <code>0</code>.</li>\n",
       "</ul>\n",
       "<p>You will not <span title=\"Nor are you likely to be eaten by a grue... during *this* puzzle, anyway.\">encounter</span> any strings containing numbers.</p>\n",
       "<p>What is the <em>sum of all numbers</em> in the document?</p>\n"
      ],
      "text/plain": [
       "<IPython.core.display.HTML object>"
      ]
     },
     "execution_count": 2,
     "metadata": {},
     "output_type": "execute_result"
    }
   ],
   "source": [
    "HTML(downloaded['part1'])"
   ]
  },
  {
   "cell_type": "markdown",
   "metadata": {},
   "source": [
    "## Boilerplate\n",
    "\n",
    "Let's try using [pycodestyle_magic](https://github.com/mattijn/pycodestyle_magic) with pycodestyle (flake8 stopped working for me in VS Code Jupyter). Now how does type checking work?"
   ]
  },
  {
   "cell_type": "code",
   "execution_count": 3,
   "metadata": {},
   "outputs": [],
   "source": [
    "%load_ext pycodestyle_magic"
   ]
  },
  {
   "cell_type": "code",
   "execution_count": 4,
   "metadata": {},
   "outputs": [],
   "source": [
    "%pycodestyle_on"
   ]
  },
  {
   "cell_type": "markdown",
   "metadata": {},
   "source": [
    "## Comments\n",
    "\n",
    "It's 2022-11 and I felt like getting back into the game... all paperclips I could sort are so, and I'm feeling particularly rusty..."
   ]
  },
  {
   "cell_type": "code",
   "execution_count": 5,
   "metadata": {},
   "outputs": [],
   "source": [
    "# {\"a\":[-1,1]} and [-1,{\"a\":1}] both have a sum of 0\n",
    "# [] and {} both have a sum of 0\n",
    "\n",
    "testdata = [\n",
    "    ('[1,2,3]', 6),\n",
    "    ('{\"a\":2,\"b\":4}', 6),\n",
    "    ('[[[3]]]', 3),\n",
    "    ('{\"a\":{\"b\":4},\"c\":-1}', 3)\n",
    "]\n",
    "\n",
    "inputdata = downloaded['input']"
   ]
  },
  {
   "cell_type": "code",
   "execution_count": 6,
   "metadata": {},
   "outputs": [
    {
     "name": "stdout",
     "output_type": "stream",
     "text": [
      "{\"e\":[[{\"e\":86,\"c\":23,\"a\":{\"a\":[120,169,\"green\",\"red\",\"orange\"],\"b\":\"red\"},\"g\":\"yellow\",\"b\":[\"yellow...\n"
     ]
    }
   ],
   "source": [
    "print(inputdata[:100] + '...')"
   ]
  },
  {
   "cell_type": "code",
   "execution_count": 7,
   "metadata": {},
   "outputs": [
    {
     "name": "stdout",
     "output_type": "stream",
     "text": [
      "111754\n"
     ]
    }
   ],
   "source": [
    "import re\n",
    "\n",
    "number_strings = re.findall('-?[0-9]+', inputdata)\n",
    "cumsum = 0\n",
    "for number_string in number_strings:\n",
    "    if not number_string[0] == '-':\n",
    "        cumsum += int(number_string)\n",
    "    else:\n",
    "        cumsum -= int(number_string[1:])\n",
    "\n",
    "print(cumsum)"
   ]
  },
  {
   "cell_type": "code",
   "execution_count": 8,
   "metadata": {},
   "outputs": [],
   "source": [
    "# assert(my_part1_solution(testdata) == ...)"
   ]
  },
  {
   "cell_type": "code",
   "execution_count": 9,
   "metadata": {},
   "outputs": [],
   "source": [
    "# my_part1_solution(inputdata)"
   ]
  },
  {
   "cell_type": "code",
   "execution_count": 10,
   "metadata": {},
   "outputs": [
    {
     "data": {
      "text/html": [
       "\n",
       "<p>Your puzzle answer was <code>111754</code>.</p><p class=\"day-success\">The first half of this puzzle is complete! It provides one gold star: *</p>\n"
      ],
      "text/plain": [
       "<IPython.core.display.HTML object>"
      ]
     },
     "execution_count": 10,
     "metadata": {},
     "output_type": "execute_result"
    }
   ],
   "source": [
    "HTML(downloaded['part1_footer'])"
   ]
  },
  {
   "cell_type": "markdown",
   "metadata": {},
   "source": [
    "## Part Two"
   ]
  },
  {
   "cell_type": "code",
   "execution_count": 15,
   "metadata": {},
   "outputs": [
    {
     "data": {
      "text/html": [
       "<h2 id=\"part2\">--- Part Two ---</h2><p>Uh oh - the Accounting-Elves have realized that they double-counted everything <em>red</em>.</p>\n",
       "<p>Ignore any object (and all of its children) which has any property with the value <code>\"red\"</code>.  Do this only for objects (<code>{...}</code>), not arrays (<code>[...]</code>).</p>\n",
       "<ul>\n",
       "<li><code>[1,2,3]</code> still has a sum of <code>6</code>.</li>\n",
       "<li><code>[1,{\"c\":\"red\",\"b\":2},3]</code> now has a sum of <code>4</code>, because the middle object is ignored.</li>\n",
       "<li><code>{\"d\":\"red\",\"e\":[1,2,3,4],\"f\":5}</code> now has a sum of <code>0</code>, because the entire structure is ignored.</li>\n",
       "<li><code>[1,\"red\",5]</code> has a sum of <code>6</code>, because <code>\"red\"</code> in an array has no effect.</li>\n",
       "</ul>\n"
      ],
      "text/plain": [
       "<IPython.core.display.HTML object>"
      ]
     },
     "execution_count": 15,
     "metadata": {},
     "output_type": "execute_result"
    }
   ],
   "source": [
    "HTML(downloaded['part2'])"
   ]
  },
  {
   "cell_type": "code",
   "execution_count": 12,
   "metadata": {},
   "outputs": [],
   "source": [
    "# HTML(downloaded['part2_footer'])"
   ]
  },
  {
   "cell_type": "code",
   "execution_count": 13,
   "metadata": {},
   "outputs": [],
   "source": [
    "# assert(my_part2_solution(testdata) == ...)"
   ]
  },
  {
   "cell_type": "code",
   "execution_count": 14,
   "metadata": {},
   "outputs": [],
   "source": [
    "# my_part2_solution(inputdata)"
   ]
  }
 ],
 "metadata": {
  "kernelspec": {
   "display_name": "Python 3.9.15 ('venv': venv)",
   "language": "python",
   "name": "python3"
  },
  "language_info": {
   "codemirror_mode": {
    "name": "ipython",
    "version": 3
   },
   "file_extension": ".py",
   "mimetype": "text/x-python",
   "name": "python",
   "nbconvert_exporter": "python",
   "pygments_lexer": "ipython3",
   "version": "3.9.15"
  },
  "metadata": {
   "interpreter": {
    "hash": "31f2aee4e71d21fbe5cf8b01ff0e069b9275f58929596ceb00d14d90e3e16cd6"
   }
  },
  "vscode": {
   "interpreter": {
    "hash": "953efd6badefc8bd539414deffff5d1ee9e359bc7a1650a157b4fbde293a1337"
   }
  }
 },
 "nbformat": 4,
 "nbformat_minor": 2
}

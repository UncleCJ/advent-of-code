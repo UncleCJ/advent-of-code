{
 "cells": [
  {
   "cell_type": "markdown",
   "metadata": {},
   "source": [
    "# Day 9: All in a Single Night\n",
    "\n",
    "[*Advent of Code 2015 day 9*](https://adventofcode.com/2015/day/9) and [*solution megathread*](https://redd.it/3w192e)\n",
    "\n",
    "[![nbviewer](https://raw.githubusercontent.com/jupyter/design/master/logos/Badges/nbviewer_badge.svg)](https://nbviewer.jupyter.org/github/UncleCJ/advent-of-code/blob/cj/2015/09/code.ipynb) [![Binder](https://mybinder.org/badge_logo.svg)](https://mybinder.org/v2/gh/UncleCJ/advent-of-code/cj?filepath=2015%2F09%2Fcode.ipynb)"
   ]
  },
  {
   "cell_type": "code",
   "execution_count": 1,
   "metadata": {},
   "outputs": [
    {
     "output_type": "stream",
     "name": "stdout",
     "text": [
      "Writing 'downloaded' (dict) to file 'downloaded'.\n"
     ]
    }
   ],
   "source": [
    "from IPython.display import HTML\n",
    "import sys\n",
    "sys.path.append('../../')\n",
    "import common\n",
    "\n",
    "downloaded = common.refresh()\n",
    "%store downloaded >downloaded"
   ]
  },
  {
   "cell_type": "code",
   "execution_count": 2,
   "metadata": {},
   "outputs": [
    {
     "output_type": "execute_result",
     "data": {
      "text/plain": [
       "<IPython.core.display.HTML object>"
      ],
      "text/html": "<h2>--- Day 9: All in a Single Night ---</h2><p>Every year, Santa manages to deliver all of his presents in a single night.</p>\n<p>This year, however, he has some <span title=\"Bonus points if you recognize all of the locations.\">new locations</span> to visit; his elves have provided him the distances between every pair of locations.  He can start and end at any two (different) locations he wants, but he must visit each location exactly once.  What is the <em>shortest distance</em> he can travel to achieve this?</p>\n<p>For example, given the following distances:</p>\n<pre><code>London to Dublin = 464\nLondon to Belfast = 518\nDublin to Belfast = 141\n</code></pre>\n<p>The possible routes are therefore:</p>\n<pre><code>Dublin -> London -> Belfast = 982\nLondon -> Dublin -> Belfast = 605\nLondon -> Belfast -> Dublin = 659\nDublin -> Belfast -> London = 659\nBelfast -> Dublin -> London = 605\nBelfast -> London -> Dublin = 982\n</code></pre>\n<p>The shortest of these is <code>London -> Dublin -> Belfast = 605</code>, and so the answer is <code>605</code> in this example.</p>\n<p>What is the distance of the shortest route?</p>\n"
     },
     "metadata": {},
     "execution_count": 2
    }
   ],
   "source": [
    "HTML(downloaded['part1'])"
   ]
  },
  {
   "cell_type": "code",
   "execution_count": 3,
   "metadata": {},
   "outputs": [],
   "source": [
    "testdata = (['London to Dublin = 464',\n",
    "             'London to Belfast = 518',\n",
    "             'Dublin to Belfast = 141'],\n",
    "             (['London', 'Dublin', 'Belfast'],\n",
    "               605))\n",
    "\n",
    "inputdata = downloaded['input'].splitlines()"
   ]
  },
  {
   "cell_type": "code",
   "execution_count": 4,
   "metadata": {},
   "outputs": [
    {
     "output_type": "stream",
     "name": "stdout",
     "text": [
      "['Tristram to Snowdin = 100', 'Tristram to Tambi = 63', 'Tristram to Faerun = 108', 'Tristram to Norrath = 111']\n"
     ]
    }
   ],
   "source": [
    "print(inputdata[1:5])"
   ]
  },
  {
   "cell_type": "code",
   "execution_count": 5,
   "metadata": {},
   "outputs": [],
   "source": [
    "import re\n",
    "\n",
    "def parse_distance(data):\n",
    "    match = re.search('^(?P<origin>.*) to (?P<destination>.*) = (?P<distance>.*)$', data).groupdict()\n",
    "    return (match['origin'], match['destination'], int(match['distance']))"
   ]
  },
  {
   "cell_type": "code",
   "execution_count": 6,
   "metadata": {},
   "outputs": [
    {
     "output_type": "stream",
     "name": "stdout",
     "text": [
      "[('London', 'Dublin', 464), ('London', 'Belfast', 518), ('Dublin', 'Belfast', 141)]\n"
     ]
    }
   ],
   "source": [
    "distances = list(map(parse_distance, testdata[0]))\n",
    "print(distances)"
   ]
  },
  {
   "source": [
    "Ok, see [Travelling salesman problem](https://en.wikipedia.org/wiki/Travelling_salesman_problem), except we don't need to travel in a cycle - the start and end points may be quite far from each other. Actually - just the possible permutations of 8 places is 40320, small enough to evaluate them all and pick the smallest"
   ],
   "cell_type": "markdown",
   "metadata": {
    "tags": []
   }
  },
  {
   "cell_type": "code",
   "execution_count": 7,
   "metadata": {},
   "outputs": [],
   "source": [
    "from itertools import permutations\n",
    "\n",
    "def my_part1_solution(data):\n",
    "    places = set()\n",
    "    distances = dict()\n",
    "    for entry in data:\n",
    "        (origin, destination, distance) = parse_distance(entry)\n",
    "        places.add(origin)\n",
    "        places.add(destination)\n",
    "        distances.setdefault(origin, dict())[destination] = distance\n",
    "        distances.setdefault(destination, dict())[origin] = distance    \n",
    "\n",
    "    print(places, len(list(permutations(places))))\n",
    "    shortest_distance = sys.maxsize\n",
    "    shortest_route = []\n",
    "    longest_distance = 0\n",
    "    longest_route = []\n",
    "    get_distance = lambda origin, destination: distances[origin][destination]\n",
    "    for candidate_route in permutations(places):\n",
    "        distance = sum(map(get_distance, candidate_route[:-1], candidate_route[1:]))\n",
    "        if distance < shortest_distance:\n",
    "            shortest_distance = distance\n",
    "            shortest_route = candidate_route[:]\n",
    "        if distance > longest_distance:\n",
    "            longest_distance = distance\n",
    "            longest_route = candidate_route[:]\n",
    "\n",
    "    return(shortest_route, shortest_distance, longest_route, longest_distance)"
   ]
  },
  {
   "cell_type": "code",
   "execution_count": 8,
   "metadata": {},
   "outputs": [
    {
     "output_type": "stream",
     "name": "stdout",
     "text": [
      "{'Belfast', 'London', 'Dublin'} 6\n"
     ]
    }
   ],
   "source": [
    "shortest_route, shortest_distance, longest_route, longest_distance = my_part1_solution(testdata[0])\n",
    "lists_equal = lambda l1, l2: all([le1 == le2 for le1, le2 in zip(l1, l2)]) and len(l1) == len(l2)\n",
    "\n",
    "assert(lists_equal(testdata[1][0], shortest_route) or\n",
    "     lists_equal(testdata[1][0], shortest_route[::-1]))"
   ]
  },
  {
   "cell_type": "code",
   "execution_count": 9,
   "metadata": {},
   "outputs": [
    {
     "output_type": "stream",
     "name": "stdout",
     "text": [
      "{'Tristram', 'Tambi', 'Faerun', 'Arbre', 'Snowdin', 'Straylight', 'AlphaCentauri', 'Norrath'} 40320\n"
     ]
    }
   ],
   "source": [
    "shortest_route, shortest_distance, longest_route, longest_distance = my_part1_solution(inputdata)"
   ]
  },
  {
   "cell_type": "code",
   "execution_count": 10,
   "metadata": {},
   "outputs": [
    {
     "output_type": "stream",
     "name": "stdout",
     "text": [
      "('Tambi', 'Arbre', 'Snowdin', 'AlphaCentauri', 'Tristram', 'Straylight', 'Faerun', 'Norrath') 251\n('Tristram', 'Faerun', 'Arbre', 'Straylight', 'AlphaCentauri', 'Norrath', 'Tambi', 'Snowdin') 898\n"
     ]
    }
   ],
   "source": [
    "print(shortest_route, shortest_distance)\n",
    "print(longest_route, longest_distance)"
   ]
  },
  {
   "cell_type": "code",
   "execution_count": 11,
   "metadata": {},
   "outputs": [
    {
     "output_type": "execute_result",
     "data": {
      "text/plain": [
       "<IPython.core.display.HTML object>"
      ],
      "text/html": "\n<p>Your puzzle answer was <code>251</code>.</p>"
     },
     "metadata": {},
     "execution_count": 11
    }
   ],
   "source": [
    "HTML(downloaded['part1_footer'])"
   ]
  },
  {
   "cell_type": "code",
   "execution_count": 12,
   "metadata": {},
   "outputs": [
    {
     "output_type": "execute_result",
     "data": {
      "text/plain": [
       "<IPython.core.display.HTML object>"
      ],
      "text/html": "<h2 id=\"part2\">--- Part Two ---</h2><p>The next year, just to show off, Santa decides to take the route with the <em>longest distance</em> instead.</p>\n<p>He can still start and end at any two (different) locations he wants, and he still must visit each location exactly once.</p>\n<p>For example, given the distances above, the longest route would be <code>982</code> via (for example) <code>Dublin -> London -> Belfast</code>.</p>\n<p>What is the distance of the longest route?</p>\n"
     },
     "metadata": {},
     "execution_count": 12
    }
   ],
   "source": [
    "HTML(downloaded['part2'])"
   ]
  },
  {
   "cell_type": "code",
   "execution_count": 13,
   "metadata": {},
   "outputs": [
    {
     "output_type": "stream",
     "name": "stdout",
     "text": [
      "{'Belfast', 'London', 'Dublin'} 6\n"
     ]
    }
   ],
   "source": [
    "testdata2 = 982\n",
    "shortest_route, shortest_distance, longest_route, longest_distance = my_part1_solution(testdata[0])\n",
    "assert(testdata2 == longest_distance)"
   ]
  },
  {
   "cell_type": "code",
   "execution_count": 14,
   "metadata": {},
   "outputs": [
    {
     "output_type": "execute_result",
     "data": {
      "text/plain": [
       "<IPython.core.display.HTML object>"
      ],
      "text/html": "\n<p>Your puzzle answer was <code>898</code>.</p><p class=\"day-success\">Both parts of this puzzle are complete! They provide two gold stars: **</p>\n<p>At this point, you should <a href=\"/2015\">return to your Advent calendar</a> and try another puzzle.</p>\n<p>If you still want to see it, you can <a href=\"9/input\" target=\"_blank\">get your puzzle input</a>.</p>\n<p>You can also <span class=\"share\">[Share<span class=\"share-content\">on\n  <a href=\"https://twitter.com/intent/tweet?text=I%27ve+completed+%22All+in+a+Single+Night%22+%2D+Day+9+%2D+Advent+of+Code+2015&amp;url=https%3A%2F%2Fadventofcode%2Ecom%2F2015%2Fday%2F9&amp;related=ericwastl&amp;hashtags=AdventOfCode\" target=\"_blank\">Twitter</a>\n  <a href=\"javascript:void(0);\" onclick=\"var mastodon_instance=prompt('Mastodon Instance / Server Name?'); if(typeof mastodon_instance==='string' && mastodon_instance.length){this.href='https://'+mastodon_instance+'/share?text=I%27ve+completed+%22All+in+a+Single+Night%22+%2D+Day+9+%2D+Advent+of+Code+2015+%23AdventOfCode+https%3A%2F%2Fadventofcode%2Ecom%2F2015%2Fday%2F9'}else{return false;}\" target=\"_blank\">Mastodon</a\n></span>]</span> this puzzle.</p>\n"
     },
     "metadata": {},
     "execution_count": 14
    }
   ],
   "source": [
    "HTML(downloaded['part2_footer'])"
   ]
  }
 ],
 "metadata": {
  "kernelspec": {
   "name": "python382jvsc74a57bd031f2aee4e71d21fbe5cf8b01ff0e069b9275f58929596ceb00d14d90e3e16cd6",
   "display_name": "Python 3.8.2 64-bit"
  },
  "language_info": {
   "codemirror_mode": {
    "name": "ipython",
    "version": 3
   },
   "file_extension": ".py",
   "mimetype": "text/x-python",
   "name": "python",
   "nbconvert_exporter": "python",
   "pygments_lexer": "ipython3",
   "version": "3.8.2-final"
  },
  "metadata": {
   "interpreter": {
    "hash": "31f2aee4e71d21fbe5cf8b01ff0e069b9275f58929596ceb00d14d90e3e16cd6"
   }
  }
 },
 "nbformat": 4,
 "nbformat_minor": 2
}
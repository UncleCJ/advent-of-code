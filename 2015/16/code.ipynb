{
 "cells": [
  {
   "cell_type": "markdown",
   "metadata": {},
   "source": [
    "# Day 16: Aunt Sue\n",
    "\n",
    "[*Advent of Code 2015 day 16*](https://adventofcode.com/2015/day/16) and [*solution megathread*](https://www.reddit.com/3x1i26)\n",
    "\n",
    "[![nbviewer](https://raw.githubusercontent.com/jupyter/design/master/logos/Badges/nbviewer_badge.svg)](https://nbviewer.jupyter.org/github/UncleCJ/advent-of-code/blob/cj/2015/16/code.ipynb) [![Binder](https://mybinder.org/badge_logo.svg)](https://mybinder.org/v2/gh/UncleCJ/advent-of-code/cj?filepath=2015%2F16%2Fcode.ipynb)"
   ]
  },
  {
   "cell_type": "markdown",
   "metadata": {},
   "source": [
    "## Boilerplate\n",
    "\n",
    "Since I improved my ability to type hint (which is probably a good thing even for program correctness), I realized pycodestyle doesn't give a heck about types - we need nb_mypy for that."
   ]
  },
  {
   "cell_type": "code",
   "execution_count": 1,
   "metadata": {},
   "outputs": [],
   "source": [
    "%load_ext pycodestyle_magic"
   ]
  },
  {
   "cell_type": "code",
   "execution_count": 2,
   "metadata": {},
   "outputs": [],
   "source": [
    "%pycodestyle_on"
   ]
  },
  {
   "cell_type": "code",
   "execution_count": 3,
   "metadata": {},
   "outputs": [
    {
     "name": "stderr",
     "output_type": "stream",
     "text": [
      "Version 1.0.4\n"
     ]
    }
   ],
   "source": [
    "%load_ext nb_mypy"
   ]
  },
  {
   "cell_type": "code",
   "execution_count": 4,
   "metadata": {},
   "outputs": [],
   "source": [
    "%nb_mypy On"
   ]
  },
  {
   "cell_type": "code",
   "execution_count": 5,
   "metadata": {},
   "outputs": [
    {
     "name": "stderr",
     "output_type": "stream",
     "text": [
      "3:1: E402 module level import not at top of file\n",
      "4:1: E402 module level import not at top of file\n",
      "10:20: E225 missing whitespace around operator\n"
     ]
    }
   ],
   "source": [
    "import sys\n",
    "sys.path.append('../../')\n",
    "import common\n",
    "import logging\n",
    "\n",
    "\n",
    "logging.basicConfig(filename=\"debug.log\", level=logging.WARNING)\n",
    "\n",
    "downloaded = common.refresh()\n",
    "%store downloaded >downloaded"
   ]
  },
  {
   "cell_type": "markdown",
   "metadata": {},
   "source": [
    "## Part One"
   ]
  },
  {
   "cell_type": "code",
   "execution_count": 6,
   "metadata": {},
   "outputs": [
    {
     "data": {
      "text/html": [
       "<h2>--- Day 16: Aunt Sue ---</h2><p>Your Aunt Sue has given you a wonderful gift, and you'd like to send her a thank you card.  However, there's a small problem: she signed it \"From, Aunt Sue\".</p>\n",
       "<p>You have 500 Aunts named \"Sue\".</p>\n",
       "<p>So, to avoid sending the card to the wrong person, you need to figure out which Aunt Sue (which you conveniently number 1 to 500, for sanity) gave you the gift.  You open the present and, as luck would have it, good ol' Aunt Sue got you a My First Crime Scene Analysis Machine!  Just what you wanted.  Or needed, as the case may be.</p>\n",
       "<p>The My First Crime Scene Analysis Machine (MFCSAM for short) can detect a few specific compounds in a given sample, as well as how many distinct kinds of those compounds there are. According to the instructions, these are what the MFCSAM can detect:</p>\n",
       "<ul>\n",
       "<li><code>children</code>, by human DNA age analysis.</li>\n",
       "<li><code>cats</code>.  It doesn't differentiate individual breeds.</li>\n",
       "<li>Several <span title=\"It can tell them apart by their distinct Dog Residue.\">seemingly random breeds of dog</span>: <code><a href=\"https://en.wikipedia.org/wiki/Samoyed_%28dog%29\">samoyeds</a></code>, <code><a href=\"https://en.wikipedia.org/wiki/Pomeranian_%28dog%29\">pomeranians</a></code>, <code><a href=\"https://en.wikipedia.org/wiki/Akita_%28dog%29\">akitas</a></code>, and <code><a href=\"https://en.wikipedia.org/wiki/Vizsla\">vizslas</a></code>.</li>\n",
       "<li><code>goldfish</code>.  No other kinds of fish.</li>\n",
       "<li><code>trees</code>, all in one group.</li>\n",
       "<li><code>cars</code>, presumably by exhaust or gasoline or something.</li>\n",
       "<li><code>perfumes</code>, which is handy, since many of your Aunts Sue wear a few kinds.</li>\n",
       "</ul>\n",
       "<p>In fact, many of your Aunts Sue have many of these.  You put the wrapping from the gift into the MFCSAM.  It beeps inquisitively at you a few times and then prints out a message on <a href=\"https://en.wikipedia.org/wiki/Ticker_tape\">ticker tape</a>:</p>\n",
       "<pre><code>children: 3\n",
       "cats: 7\n",
       "samoyeds: 2\n",
       "pomeranians: 3\n",
       "akitas: 0\n",
       "vizslas: 0\n",
       "goldfish: 5\n",
       "trees: 3\n",
       "cars: 2\n",
       "perfumes: 1\n",
       "</code></pre>\n",
       "<p>You make a list of the things you can remember about each Aunt Sue.  Things missing from your list aren't zero - you simply don't remember the value.</p>\n",
       "<p>What is the <em>number</em> of the Sue that got you the gift?</p>\n"
      ],
      "text/plain": [
       "<IPython.core.display.HTML object>"
      ]
     },
     "execution_count": 6,
     "metadata": {},
     "output_type": "execute_result"
    }
   ],
   "source": [
    "from IPython.display import HTML\n",
    "\n",
    "\n",
    "HTML(downloaded['part1'])"
   ]
  },
  {
   "cell_type": "markdown",
   "metadata": {},
   "source": [
    "## Comments\n",
    "\n",
    "Funny we didn't get any test data this time - but this ought to be quite doable with a bit of Pandas?\n",
    "\n",
    "_Update:_ Actually, seems there were little point in using Pandas (though it was pleasant to parse the data into DataFrames), but I did do it using a decorator to decouple the code (including type hints), which took too much experimenting, but turned out much nicer than the naive attempt. Really, all these if/else criteria are really nasty to go at naively, I had so many little errors (the final one arrived at the right answer, though mistakingly included one \"aunt\" which ought to have been excluded)"
   ]
  },
  {
   "cell_type": "code",
   "execution_count": 7,
   "metadata": {},
   "outputs": [
    {
     "data": {
      "text/plain": [
       "'Sue 1: cars: 9, akitas: 3, goldfish: 0 ...'"
      ]
     },
     "metadata": {},
     "output_type": "display_data"
    }
   ],
   "source": [
    "from typing import Dict\n",
    "from IPython.display import display\n",
    "\n",
    "\n",
    "categories = \"\"\"children\n",
    "cats\n",
    "samoyeds\n",
    "pomeranians\n",
    "akitas\n",
    "vizslas\n",
    "goldfish\n",
    "trees\n",
    "cars\n",
    "perfumes\"\"\".splitlines()\n",
    "\n",
    "traces_str = \"\"\"children: 3\n",
    "cats: 7\n",
    "samoyeds: 2\n",
    "pomeranians: 3\n",
    "akitas: 0\n",
    "vizslas: 0\n",
    "goldfish: 5\n",
    "trees: 3\n",
    "cars: 2\n",
    "perfumes: 1\"\"\".splitlines()\n",
    "\n",
    "# This was created before we started nb_mypy\n",
    "downloaded: Dict[str, str]\n",
    "inputdata = downloaded['input'].splitlines()\n",
    "display(f'{inputdata[0]} ...')"
   ]
  },
  {
   "cell_type": "code",
   "execution_count": 8,
   "metadata": {},
   "outputs": [],
   "source": [
    "from typing import TypeVar, ParamSpec, Iterable, Tuple, List, Dict, DefaultDict\n",
    "from collections.abc import Callable\n",
    "from functools import wraps\n",
    "\n",
    "\n",
    "Substances = Dict[str, int]\n",
    "AuntsPosessions = Dict[int, Substances]\n",
    "\n",
    "\n",
    "def parse_data(\n",
    "        data: List[str],\n",
    "        traces_str: List[str],\n",
    "        categories: List[str]) -> Tuple[AuntsPosessions, Substances]:\n",
    "    def value_to_int(k_v: Tuple[str, ...]) -> Tuple[str, int]:\n",
    "        return k_v[0], int(k_v[1])\n",
    "\n",
    "    def colon_value_tuple(item_s: str) -> Tuple[str, ...]:\n",
    "        return tuple(item_s.split(': ', 1))\n",
    "\n",
    "    P = ParamSpec(\"P\")\n",
    "\n",
    "    def assert_substances(fun: Callable[P, Substances]) -> \\\n",
    "            Callable[P, Substances]:\n",
    "        @wraps(fun)\n",
    "        def decorator(*args: P.args, **kwargs: P.kwargs) -> Substances:\n",
    "            output = fun(*args, **kwargs)\n",
    "            for key in output:\n",
    "                assert key in categories, f'{key=} not in {categories=}'\n",
    "            return output\n",
    "        return decorator\n",
    "\n",
    "    @assert_substances\n",
    "    def colon_intvalues_dict(items_s: Iterable[str]) -> Substances:\n",
    "        return dict(map(value_to_int,\n",
    "                        map(colon_value_tuple,\n",
    "                            items_s)))\n",
    "\n",
    "    def colon_substr_dict_dict(prefix: str,\n",
    "                               data: Iterable[str]) -> AuntsPosessions:\n",
    "        output = dict()\n",
    "        for line in data:\n",
    "            auntid_s, items_s, *_ = colon_value_tuple(line)\n",
    "            auntid = int(auntid_s[len('Sue '):])\n",
    "            output[auntid] = colon_intvalues_dict(items_s.split(', '))\n",
    "        return output\n",
    "\n",
    "    return (colon_substr_dict_dict('Sue ', data),\n",
    "            colon_intvalues_dict(traces_str))"
   ]
  },
  {
   "cell_type": "code",
   "execution_count": 9,
   "metadata": {},
   "outputs": [],
   "source": [
    "aunts_posessions, traces = parse_data(inputdata, traces_str, categories)"
   ]
  },
  {
   "cell_type": "code",
   "execution_count": 10,
   "metadata": {},
   "outputs": [
    {
     "data": {
      "text/plain": [
       "\"remaining_aunts={373: {'pomeranians': 3, 'perfumes': 1, 'vizslas': 0}}\""
      ]
     },
     "metadata": {},
     "output_type": "display_data"
    }
   ],
   "source": [
    "eliminated_aunts = []\n",
    "for substance, amount in traces.items():\n",
    "    for aunt_id, known_posessions in aunts_posessions.items():\n",
    "        if (\n",
    "                substance in known_posessions and\n",
    "                amount != known_posessions[substance]):\n",
    "            eliminated_aunts.append(aunt_id)\n",
    "            break\n",
    "remaining_aunts = {aunt_id: known_posessions\n",
    "                   for aunt_id, known_posessions in aunts_posessions.items()\n",
    "                   if aunt_id not in eliminated_aunts}\n",
    "for aunt_id, known_posessions in remaining_aunts.items():\n",
    "    for substance, amount in known_posessions.items():\n",
    "        if (\n",
    "                substance not in traces or\n",
    "                amount != traces[substance]):\n",
    "            eliminated_aunts.append(aunt_id)\n",
    "            break\n",
    "remaining_aunts = {aunt_id: known_posessions\n",
    "                   for aunt_id, known_posessions in aunts_posessions.items()\n",
    "                   if aunt_id not in eliminated_aunts}\n",
    "display(f'{remaining_aunts=}')"
   ]
  },
  {
   "cell_type": "code",
   "execution_count": 11,
   "metadata": {},
   "outputs": [],
   "source": [
    "from typing import Optional\n",
    "\n",
    "\n",
    "# In particular, the cats and trees readings indicates that there are greater\n",
    "# than that many (due to the unpredictable nuclear decay of cat dander and tree\n",
    "# pollen), while the pomeranians and goldfish readings indicate that there are\n",
    "# fewer than that many (due to the modial interaction of magnetoreluctance).\n",
    "READING_IS_LOWER_BOUND = ['cats', 'trees']\n",
    "READING_IS_UPPER_BOUND = ['pomeranians', 'goldfish']\n",
    "\n",
    "\n",
    "def process_of_elimination(\n",
    "        fun: Callable[..., List[int]]) -> \\\n",
    "        Callable[..., AuntsPosessions]:\n",
    "    @wraps(fun)\n",
    "    def decoration(\n",
    "            traces: Substances,\n",
    "            aunts_posessions: AuntsPosessions,\n",
    "            modified: Optional[bool] = False) -> \\\n",
    "            AuntsPosessions:\n",
    "        eliminated = fun(\n",
    "            traces=traces,\n",
    "            aunts_posessions=aunts_posessions,\n",
    "            modified=modified)\n",
    "        output = {\n",
    "            aunt_id: posessions\n",
    "            for aunt_id, posessions in aunts_posessions.items()\n",
    "            if aunt_id not in eliminated}\n",
    "        logging.debug(f'from {len(aunts_posessions)}, eliminated ' +\n",
    "                      f'{len(eliminated)}, resulting in {len(output)}')\n",
    "        return output\n",
    "    return decoration\n",
    "\n",
    "\n",
    "def trace_contradicts_possessed(substance: str,\n",
    "                                amount_trace: int,\n",
    "                                amount_posession: int,\n",
    "                                modified: Optional[bool]) -> bool:\n",
    "    output: bool\n",
    "    if modified and substance in READING_IS_LOWER_BOUND:\n",
    "        output = amount_trace >= amount_posession\n",
    "    elif modified and substance in READING_IS_UPPER_BOUND:\n",
    "        output = amount_trace <= amount_posession\n",
    "    else:\n",
    "        output = amount_trace != amount_posession\n",
    "    logging.debug(f\"trace {substance} ({amount_trace}) contradicts \" +\n",
    "                  f\"{amount_posession} ({modified=}): {output}\")\n",
    "    return output\n",
    "\n",
    "\n",
    "def trace_contradicts_aunt(name_trace: str,\n",
    "                           amount_trace: int,\n",
    "                           posessions: Substances,\n",
    "                           modified: Optional[bool] = False) -> bool:\n",
    "    try:\n",
    "        return trace_contradicts_possessed(\n",
    "            substance=name_trace,\n",
    "            amount_trace=amount_trace,\n",
    "            amount_posession=posessions[name_trace],\n",
    "            modified=modified)\n",
    "    # If there existed a trace which we do not know\n",
    "    # aunt posessed, we cannot eliminate her\n",
    "    except KeyError:\n",
    "        logging.debug(f\"We don't know aunt had any {name_trace}\")\n",
    "        return False\n",
    "\n",
    "\n",
    "@process_of_elimination\n",
    "def eliminate_per_trace(\n",
    "        traces: Substances,\n",
    "        aunts_posessions: AuntsPosessions,\n",
    "        modified: Optional[bool] = False) -> List[int]:\n",
    "    eliminated = []\n",
    "    for name_trace, amount_trace in traces.items():\n",
    "        for auntid, posessions in aunts_posessions.items():\n",
    "            if auntid in eliminated:\n",
    "                break\n",
    "\n",
    "            if trace_contradicts_aunt(\n",
    "                    name_trace=name_trace,\n",
    "                    amount_trace=amount_trace,\n",
    "                    posessions=posessions,\n",
    "                    modified=modified):\n",
    "                logging.debug(f\"eliminated {auntid} due to {name_trace}\")\n",
    "                eliminated.append(auntid)\n",
    "    return eliminated\n",
    "\n",
    "\n",
    "def posession_contradict_traces(\n",
    "        name_posession: str,\n",
    "        amount_posession: int,\n",
    "        traces: Substances,\n",
    "        modified: Optional[bool] = False) -> bool:\n",
    "    try:\n",
    "        return trace_contradicts_possessed(\n",
    "            substance=name_posession,\n",
    "            amount_trace=traces[name_posession],\n",
    "            amount_posession=amount_posession,\n",
    "            modified=modified)\n",
    "    # If aunt posessed anything which was not traced, eliminate her\n",
    "    except KeyError:\n",
    "        logging.debug(f\"Aunt had {name_posession} which there \" +\n",
    "                      \"was no trace of\")\n",
    "        return True\n",
    "\n",
    "\n",
    "@process_of_elimination\n",
    "def eliminate_per_posession(\n",
    "        traces: Substances,\n",
    "        aunts_posessions: AuntsPosessions,\n",
    "        modified: Optional[bool] = False) -> List[int]:\n",
    "    eliminated = []\n",
    "    for auntid, posessions in aunts_posessions.items():\n",
    "        for name_posession, amount_posession in posessions.items():\n",
    "            if posession_contradict_traces(\n",
    "                    name_posession=name_posession,\n",
    "                    amount_posession=amount_posession,\n",
    "                    traces=traces,\n",
    "                    modified=modified):\n",
    "                logging.debug(f\"eliminated {auntid} due to {name_posession}\")\n",
    "                eliminated.append(auntid)\n",
    "                break\n",
    "    return eliminated"
   ]
  },
  {
   "cell_type": "code",
   "execution_count": 12,
   "metadata": {},
   "outputs": [],
   "source": [
    "def my_part1_solution(\n",
    "        traces: Substances,\n",
    "        aunts_posessions: AuntsPosessions) -> int:\n",
    "    remaining_aunts = eliminate_per_trace(\n",
    "        traces=traces,\n",
    "        aunts_posessions=aunts_posessions,\n",
    "        modified=False)\n",
    "    remaining_aunts = eliminate_per_posession(\n",
    "        traces=traces,\n",
    "        aunts_posessions=remaining_aunts,\n",
    "        modified=False)\n",
    "    if len(remaining_aunts) != 1:\n",
    "        raise ValueError(f'Failed to find a single aunt: {remaining_aunts=}')\n",
    "    return list(remaining_aunts)[0]"
   ]
  },
  {
   "cell_type": "code",
   "execution_count": 13,
   "metadata": {},
   "outputs": [
    {
     "data": {
      "text/plain": [
       "373"
      ]
     },
     "metadata": {},
     "output_type": "display_data"
    }
   ],
   "source": [
    "display(my_part1_solution(traces, aunts_posessions))"
   ]
  },
  {
   "cell_type": "code",
   "execution_count": 14,
   "metadata": {},
   "outputs": [
    {
     "data": {
      "text/html": [
       "\n",
       "<p>Your puzzle answer was <code>373</code>.</p>"
      ],
      "text/plain": [
       "<IPython.core.display.HTML object>"
      ]
     },
     "execution_count": 14,
     "metadata": {},
     "output_type": "execute_result"
    }
   ],
   "source": [
    "HTML(downloaded['part1_footer'])"
   ]
  },
  {
   "cell_type": "markdown",
   "metadata": {},
   "source": [
    "## Part Two"
   ]
  },
  {
   "cell_type": "code",
   "execution_count": 15,
   "metadata": {},
   "outputs": [
    {
     "data": {
      "text/html": [
       "<h2 id=\"part2\">--- Part Two ---</h2><p>As you're about to send the thank you note, something in the MFCSAM's instructions catches your eye.  Apparently, it has an outdated <a href=\"https://www.youtube.com/watch?v=RXJKdh1KZ0w\">retroencabulator</a>, and so the output from the machine isn't exact values - some of them indicate ranges.</p>\n",
       "<p>In particular, the <code>cats</code> and <code>trees</code> readings indicates that there are <em>greater than</em> that many (due to the unpredictable nuclear decay of cat dander and tree pollen), while the <code>pomeranians</code> and <code>goldfish</code> readings indicate that there are <em>fewer than</em> that many (due to the modial interaction of magnetoreluctance).</p>\n",
       "<p>What is the <em>number</em> of the real Aunt Sue?</p>\n"
      ],
      "text/plain": [
       "<IPython.core.display.HTML object>"
      ]
     },
     "execution_count": 15,
     "metadata": {},
     "output_type": "execute_result"
    }
   ],
   "source": [
    "HTML(downloaded['part2'])"
   ]
  },
  {
   "cell_type": "code",
   "execution_count": 16,
   "metadata": {},
   "outputs": [
    {
     "data": {
      "text/plain": [
       "'eliminated_aunts=[3, 13, 2, 7, 1, 4, 1, 3, 1, 7]'"
      ]
     },
     "metadata": {},
     "output_type": "display_data"
    },
    {
     "data": {
      "text/plain": [
       "'eliminated_aunts=[5, 6, 8, 9, 10, 11, 12, 14, 15, 16, 17, 18, 19, 20, 21, 22, 23, 24, 25, 26, 27, 28, 29, 30, 31, 32, 33, 34, 35, 36, 37, 38, 39, 40, 41, 42, 43, 44, 45, 46, 47, 48, 49, 50, 51, 52, 53, 54, 55, 56, 57, 58, 59, 60, 61, 62, 63, 64, 65, 66, 67, 68, 69, 70, 71, 72, 73, 74, 75, 76, 77, 78, 79, 80, 81, 82, 83, 84, 85, 86, 87, 88, 89, 90, 91, 92, 93, 94, 95, 96, 97, 98, 99, 100, 101, 102, 103, 104, 105, 106, 107, 108, 109, 110, 111, 112, 113, 114, 115, 116, 117, 118, 119, 120, 121, 122, 123, 124, 125, 126, 127, 128, 129, 130, 131, 132, 133, 134, 135, 136, 137, 138, 139, 140, 141, 142, 143, 144, 145, 146, 147, 148, 149, 150, 151, 152, 153, 154, 155, 156, 157, 158, 159, 160, 161, 162, 163, 164, 165, 166, 167, 168, 169, 170, 171, 172, 173, 174, 175, 176, 177, 178, 179, 180, 181, 182, 183, 184, 185, 186, 187, 188, 189, 190, 191, 192, 193, 194, 195, 196, 197, 198, 199, 200, 201, 202, 203, 204, 205, 206, 207, 208, 209, 210, 211, 212, 213, 214, 215, 216, 217, 218, 219, 220, 221, 222, 223, 224, 225, 226, 227, 228, 229, 230, 231, 232, 233, 234, 235, 236, 237, 238, 239, 240, 241, 242, 243, 244, 245, 246, 247, 248, 249, 250, 251, 252, 253, 254, 255, 256, 257, 258, 259, 261, 262, 263, 264, 265, 266, 267, 268, 269, 270, 271, 272, 273, 274, 275, 276, 277, 278, 279, 280, 281, 282, 283, 284, 285, 286, 287, 288, 289, 290, 291, 292, 293, 294, 295, 296, 297, 298, 299, 300, 301, 302, 303, 304, 305, 306, 307, 308, 309, 310, 311, 312, 313, 314, 315, 316, 317, 318, 319, 320, 321, 322, 323, 324, 325, 326, 327, 328, 329, 330, 331, 332, 333, 334, 335, 336, 337, 338, 339, 340, 341, 342, 343, 344, 345, 346, 347, 348, 349, 350, 351, 352, 353, 354, 355, 356, 357, 358, 359, 360, 361, 362, 363, 364, 365, 366, 367, 368, 369, 370, 371, 372, 373, 374, 375, 376, 377, 378, 379, 380, 381, 382, 383, 384, 385, 386, 387, 388, 389, 390, 391, 392, 393, 394, 395, 396, 397, 398, 399, 400, 401, 402, 403, 404, 405, 406, 407, 408, 409, 410, 411, 412, 413, 414, 415, 416, 417, 418, 419, 420, 421, 422, 423, 424, 425, 426, 427, 428, 429, 430, 431, 432, 433, 434, 435, 436, 437, 438, 439, 440, 441, 442, 443, 444, 445, 446, 447, 448, 449, 450, 451, 452, 453, 454, 455, 456, 457, 458, 459, 460, 461, 462, 463, 464, 465, 466, 467, 468, 469, 470, 471, 472, 473, 474, 475, 476, 477, 478, 479, 480, 481, 482, 483, 484, 485, 486, 487, 488, 489, 490, 491, 492, 493, 494, 495, 496, 497, 498, 499, 500]'"
      ]
     },
     "metadata": {},
     "output_type": "display_data"
    },
    {
     "data": {
      "text/plain": [
       "\"remaining_aunts={260: {'goldfish': 0, 'vizslas': 0, 'samoyeds': 2}}\""
      ]
     },
     "metadata": {},
     "output_type": "display_data"
    }
   ],
   "source": [
    "debug = True\n",
    "eliminated_aunts = []\n",
    "for substance, amount in traces.items():\n",
    "    for auntid, known_posessions in aunts_posessions.items():\n",
    "        if (substance in known_posessions and (\n",
    "                (substance in READING_IS_LOWER_BOUND and\n",
    "                 amount >= known_posessions[substance]) or\n",
    "                (substance in READING_IS_UPPER_BOUND and\n",
    "                 amount <= known_posessions[substance]) or\n",
    "                amount != known_posessions[substance])):\n",
    "            eliminated_aunts.append(auntid)\n",
    "            logging.debug(\n",
    "                f\"Eliminated aunt {auntid} due to having wrong amount \" +\n",
    "                f\"{known_posessions[substance]} of {substance} \" +\n",
    "                f\"(expected {amount})\")\n",
    "            break\n",
    "if debug:\n",
    "    display(f'{eliminated_aunts=}')\n",
    "remaining_aunts = {auntid: known_posessions\n",
    "                   for auntid, known_posessions in aunts_posessions.items()\n",
    "                   if auntid not in eliminated_aunts}\n",
    "eliminated_aunts = []\n",
    "for auntid, known_posessions in remaining_aunts.items():\n",
    "    for substance, amount in known_posessions.items():\n",
    "        if (\n",
    "                substance not in traces or\n",
    "                (substance not in READING_IS_LOWER_BOUND and\n",
    "                 amount > traces[substance]) or\n",
    "                (substance not in READING_IS_UPPER_BOUND and\n",
    "                 amount < traces[substance]) or\n",
    "                ((substance in READING_IS_LOWER_BOUND or\n",
    "                  substance in READING_IS_UPPER_BOUND) and\n",
    "                 amount == traces[substance])):\n",
    "            if substance not in traces:\n",
    "                logging.debug(\n",
    "                    f\"Eliminated {auntid} due to not finding any trace\" +\n",
    "                    f\"of {substance} (expected {amount})\")\n",
    "            else:\n",
    "                logging.debug(\n",
    "                    f\"Eliminated aunt {auntid} due to not finding right \" +\n",
    "                    f\"amount of {substance} ({traces[substance]}) \" +\n",
    "                    f\"(expected {amount})\")\n",
    "            eliminated_aunts.append(auntid)\n",
    "            break\n",
    "if debug:\n",
    "    display(f'{eliminated_aunts=}')\n",
    "remaining_aunts = {auntid: known_posessions\n",
    "                   for auntid, known_posessions in remaining_aunts.items()\n",
    "                   if auntid not in eliminated_aunts}\n",
    "display(f'{remaining_aunts=}')"
   ]
  },
  {
   "cell_type": "code",
   "execution_count": 17,
   "metadata": {},
   "outputs": [],
   "source": [
    "def my_part2_solution(\n",
    "        traces: Substances,\n",
    "        aunts_posessions: AuntsPosessions,\n",
    "        debug: Optional[bool] = False) -> int:\n",
    "    remaining_aunts = eliminate_per_trace(\n",
    "        traces=traces,\n",
    "        aunts_posessions=aunts_posessions,\n",
    "        modified=True)\n",
    "    remaining_aunts = eliminate_per_posession(\n",
    "        traces=traces,\n",
    "        aunts_posessions=remaining_aunts,\n",
    "        modified=True)\n",
    "    if len(remaining_aunts) != 1:\n",
    "        raise ValueError(f'Failed to find a single aunt: {remaining_aunts=}')\n",
    "    return list(remaining_aunts)[0]"
   ]
  },
  {
   "cell_type": "code",
   "execution_count": 18,
   "metadata": {},
   "outputs": [
    {
     "data": {
      "text/plain": [
       "260"
      ]
     },
     "metadata": {},
     "output_type": "display_data"
    }
   ],
   "source": [
    "display(my_part2_solution(traces, aunts_posessions, True))"
   ]
  },
  {
   "cell_type": "code",
   "execution_count": 19,
   "metadata": {},
   "outputs": [
    {
     "data": {
      "text/html": [
       "\n",
       "<p>Your puzzle answer was <code>260</code>.</p><p class=\"day-success\">Both parts of this puzzle are complete! They provide two gold stars: **</p>\n",
       "<p>At this point, you should <a href=\"/2015\">return to your Advent calendar</a> and try another puzzle.</p>\n",
       "<p>If you still want to see it, you can <a href=\"16/input\" target=\"_blank\">get your puzzle input</a>.</p>\n",
       "<p>You can also <span class=\"share\">[Share<span class=\"share-content\">on\n",
       "  <a href=\"https://twitter.com/intent/tweet?text=I%27ve+completed+%22Aunt+Sue%22+%2D+Day+16+%2D+Advent+of+Code+2015&amp;url=https%3A%2F%2Fadventofcode%2Ecom%2F2015%2Fday%2F16&amp;related=ericwastl&amp;hashtags=AdventOfCode\" target=\"_blank\">Twitter</a>\n",
       "  <a href=\"javascript:void(0);\" onclick=\"var mastodon_instance=prompt('Mastodon Instance / Server Name?'); if(typeof mastodon_instance==='string' && mastodon_instance.length){this.href='https://'+mastodon_instance+'/share?text=I%27ve+completed+%22Aunt+Sue%22+%2D+Day+16+%2D+Advent+of+Code+2015+%23AdventOfCode+https%3A%2F%2Fadventofcode%2Ecom%2F2015%2Fday%2F16'}else{return false;}\" target=\"_blank\">Mastodon</a\n",
       "></span>]</span> this puzzle.</p>\n"
      ],
      "text/plain": [
       "<IPython.core.display.HTML object>"
      ]
     },
     "execution_count": 19,
     "metadata": {},
     "output_type": "execute_result"
    }
   ],
   "source": [
    "HTML(downloaded['part2_footer'])"
   ]
  }
 ],
 "metadata": {
  "kernelspec": {
   "display_name": "Python 3.10.6 ('venv': venv)",
   "language": "python",
   "name": "python3"
  },
  "language_info": {
   "codemirror_mode": {
    "name": "ipython",
    "version": 3
   },
   "file_extension": ".py",
   "mimetype": "text/x-python",
   "name": "python",
   "nbconvert_exporter": "python",
   "pygments_lexer": "ipython3",
   "version": "3.10.6"
  },
  "metadata": {
   "interpreter": {
    "hash": "31f2aee4e71d21fbe5cf8b01ff0e069b9275f58929596ceb00d14d90e3e16cd6"
   }
  },
  "vscode": {
   "interpreter": {
    "hash": "1bc2c3908c007cf9ce21a098f93b8bf6135208cc693d7eb2db76831745e909df"
   }
  }
 },
 "nbformat": 4,
 "nbformat_minor": 2
}

{
 "cells": [
  {
   "cell_type": "markdown",
   "metadata": {},
   "source": [
    "# Day 16: Aunt Sue\n",
    "\n",
    "[*Advent of Code 2015 day 16*](https://adventofcode.com/2015/day/16) and [*solution megathread*](https://www.reddit.com/3x1i26)\n",
    "\n",
    "[![nbviewer](https://raw.githubusercontent.com/jupyter/design/master/logos/Badges/nbviewer_badge.svg)](https://nbviewer.jupyter.org/github/UncleCJ/advent-of-code/blob/cj/2015/16/code.ipynb) [![Binder](https://mybinder.org/badge_logo.svg)](https://mybinder.org/v2/gh/UncleCJ/advent-of-code/cj?filepath=2015%2F16%2Fcode.ipynb)"
   ]
  },
  {
   "cell_type": "code",
   "execution_count": 1,
   "metadata": {},
   "outputs": [
    {
     "name": "stdout",
     "output_type": "stream",
     "text": [
      "Writing 'downloaded' (dict) to file 'downloaded'.\n"
     ]
    }
   ],
   "source": [
    "from IPython.display import HTML\n",
    "import sys\n",
    "sys.path.append('../../')\n",
    "import common\n",
    "\n",
    "downloaded = common.refresh()\n",
    "%store downloaded >downloaded"
   ]
  },
  {
   "cell_type": "markdown",
   "metadata": {},
   "source": [
    "## Part One"
   ]
  },
  {
   "cell_type": "code",
   "execution_count": 2,
   "metadata": {},
   "outputs": [
    {
     "data": {
      "text/html": [
       "<h2>--- Day 16: Aunt Sue ---</h2><p>Your Aunt Sue has given you a wonderful gift, and you'd like to send her a thank you card.  However, there's a small problem: she signed it \"From, Aunt Sue\".</p>\n",
       "<p>You have 500 Aunts named \"Sue\".</p>\n",
       "<p>So, to avoid sending the card to the wrong person, you need to figure out which Aunt Sue (which you conveniently number 1 to 500, for sanity) gave you the gift.  You open the present and, as luck would have it, good ol' Aunt Sue got you a My First Crime Scene Analysis Machine!  Just what you wanted.  Or needed, as the case may be.</p>\n",
       "<p>The My First Crime Scene Analysis Machine (MFCSAM for short) can detect a few specific compounds in a given sample, as well as how many distinct kinds of those compounds there are. According to the instructions, these are what the MFCSAM can detect:</p>\n",
       "<ul>\n",
       "<li><code>children</code>, by human DNA age analysis.</li>\n",
       "<li><code>cats</code>.  It doesn't differentiate individual breeds.</li>\n",
       "<li>Several <span title=\"It can tell them apart by their distinct Dog Residue.\">seemingly random breeds of dog</span>: <code><a href=\"https://en.wikipedia.org/wiki/Samoyed_%28dog%29\">samoyeds</a></code>, <code><a href=\"https://en.wikipedia.org/wiki/Pomeranian_%28dog%29\">pomeranians</a></code>, <code><a href=\"https://en.wikipedia.org/wiki/Akita_%28dog%29\">akitas</a></code>, and <code><a href=\"https://en.wikipedia.org/wiki/Vizsla\">vizslas</a></code>.</li>\n",
       "<li><code>goldfish</code>.  No other kinds of fish.</li>\n",
       "<li><code>trees</code>, all in one group.</li>\n",
       "<li><code>cars</code>, presumably by exhaust or gasoline or something.</li>\n",
       "<li><code>perfumes</code>, which is handy, since many of your Aunts Sue wear a few kinds.</li>\n",
       "</ul>\n",
       "<p>In fact, many of your Aunts Sue have many of these.  You put the wrapping from the gift into the MFCSAM.  It beeps inquisitively at you a few times and then prints out a message on <a href=\"https://en.wikipedia.org/wiki/Ticker_tape\">ticker tape</a>:</p>\n",
       "<pre><code>children: 3\n",
       "cats: 7\n",
       "samoyeds: 2\n",
       "pomeranians: 3\n",
       "akitas: 0\n",
       "vizslas: 0\n",
       "goldfish: 5\n",
       "trees: 3\n",
       "cars: 2\n",
       "perfumes: 1\n",
       "</code></pre>\n",
       "<p>You make a list of the things you can remember about each Aunt Sue.  Things missing from your list aren't zero - you simply don't remember the value.</p>\n",
       "<p>What is the <em>number</em> of the Sue that got you the gift?</p>\n"
      ],
      "text/plain": [
       "<IPython.core.display.HTML object>"
      ]
     },
     "execution_count": 2,
     "metadata": {},
     "output_type": "execute_result"
    }
   ],
   "source": [
    "HTML(downloaded['part1'])"
   ]
  },
  {
   "cell_type": "markdown",
   "metadata": {},
   "source": [
    "## Boilerplate\n",
    "\n",
    "Let's try using [pycodestyle_magic](https://github.com/mattijn/pycodestyle_magic) with pycodestyle (flake8 stopped working for me in VS Code Jupyter). Now how does type checking work?"
   ]
  },
  {
   "cell_type": "code",
   "execution_count": 3,
   "metadata": {},
   "outputs": [],
   "source": [
    "%load_ext pycodestyle_magic"
   ]
  },
  {
   "cell_type": "code",
   "execution_count": 4,
   "metadata": {},
   "outputs": [],
   "source": [
    "%pycodestyle_on"
   ]
  },
  {
   "cell_type": "code",
   "execution_count": 5,
   "metadata": {},
   "outputs": [
    {
     "name": "stderr",
     "output_type": "stream",
     "text": [
      "Version 1.0.4\n"
     ]
    }
   ],
   "source": [
    "%load_ext nb_mypy"
   ]
  },
  {
   "cell_type": "code",
   "execution_count": 6,
   "metadata": {},
   "outputs": [],
   "source": [
    "%nb_mypy On"
   ]
  },
  {
   "cell_type": "markdown",
   "metadata": {},
   "source": [
    "## Comments\n",
    "\n",
    "Funny we didn't get any test data this time - but this ought to be quite doable with a bit of Pandas?"
   ]
  },
  {
   "cell_type": "code",
   "execution_count": 7,
   "metadata": {},
   "outputs": [
    {
     "data": {
      "text/plain": [
       "'Sue 1: cars: 9, akitas: 3, goldfish: 0 ...'"
      ]
     },
     "metadata": {},
     "output_type": "display_data"
    }
   ],
   "source": [
    "from typing import Dict\n",
    "from IPython.display import display\n",
    "\n",
    "\n",
    "categories_str = \"\"\"children\n",
    "cats\n",
    "samoyeds\n",
    "pomeranians\n",
    "akitas\n",
    "vizslas\n",
    "goldfish\n",
    "trees\n",
    "cars\n",
    "perfumes\"\"\".splitlines()\n",
    "\n",
    "traces_str = \"\"\"children: 3\n",
    "cats: 7\n",
    "samoyeds: 2\n",
    "pomeranians: 3\n",
    "akitas: 0\n",
    "vizslas: 0\n",
    "goldfish: 5\n",
    "trees: 3\n",
    "cars: 2\n",
    "perfumes: 1\"\"\".splitlines()\n",
    "\n",
    "# This was created before we started nb_mypy\n",
    "downloaded: Dict[str, str]\n",
    "inputdata = downloaded['input'].splitlines()\n",
    "display(f'{inputdata[0]} ...')"
   ]
  },
  {
   "cell_type": "code",
   "execution_count": 8,
   "metadata": {},
   "outputs": [],
   "source": [
    "from typing import TypeVar, Any, Tuple, List\n",
    "\n",
    "\n",
    "def parse_data(\n",
    "        data: List[str],\n",
    "        traces: List[str],\n",
    "        categories: List[str]) -> Tuple[Dict[int, Dict[str, int]],\n",
    "                                        Dict[str, int]]:\n",
    "    K = TypeVar('K')\n",
    "\n",
    "    def value_to_int(k: K, v: str) -> Tuple[K, int]:\n",
    "        return k, int(v)\n",
    "    output_data = dict()\n",
    "    for line in data:\n",
    "        label_s, items_s = line.split(': ', 1)\n",
    "        label = int(label_s[len('Sue '):])\n",
    "        output_data[label] = dict(value_to_int(*item_s.split(': ', 1))\n",
    "                                  for item_s in items_s.split(', '))\n",
    "        for key in output_data[label].keys():\n",
    "            assert key in categories_str, f'{key=} not in {categories_str=}'\n",
    "    output_traces = dict(value_to_int(*item_s.split(': ', 1))\n",
    "                         for item_s in traces)\n",
    "    for key in output_traces.keys():\n",
    "        assert key in categories_str, f'{key=} not in {categories_str=}'\n",
    "    return output_data, output_traces"
   ]
  },
  {
   "cell_type": "code",
   "execution_count": 9,
   "metadata": {},
   "outputs": [],
   "source": [
    "data_dict, traces_dict = parse_data(inputdata, traces_str, categories_str)"
   ]
  },
  {
   "cell_type": "code",
   "execution_count": 10,
   "metadata": {},
   "outputs": [
    {
     "data": {
      "text/plain": [
       "\"remaining_aunts={373: {'pomeranians': 3, 'perfumes': 1, 'vizslas': 0}}\""
      ]
     },
     "metadata": {},
     "output_type": "display_data"
    }
   ],
   "source": [
    "eliminated_aunts = []\n",
    "for substance, amount in traces_dict.items():\n",
    "    for aunt_id, known_posessions in data_dict.items():\n",
    "        if (\n",
    "                substance in known_posessions.keys() and\n",
    "                amount != known_posessions[substance]):\n",
    "            eliminated_aunts.append(aunt_id)\n",
    "            break\n",
    "remaining_aunts = {aunt_id: known_posessions\n",
    "                   for aunt_id, known_posessions in data_dict.items()\n",
    "                   if aunt_id not in eliminated_aunts}\n",
    "for aunt_id, known_posessions in remaining_aunts.items():\n",
    "    for substance, amount in known_posessions.items():\n",
    "        if (\n",
    "                substance not in traces_dict.keys() or\n",
    "                amount != traces_dict[substance]):\n",
    "            eliminated_aunts.append(aunt_id)\n",
    "            break\n",
    "remaining_aunts = {aunt_id: known_posessions\n",
    "                   for aunt_id, known_posessions in data_dict.items()\n",
    "                   if aunt_id not in eliminated_aunts}\n",
    "display(f'{remaining_aunts=}')"
   ]
  },
  {
   "cell_type": "code",
   "execution_count": 11,
   "metadata": {},
   "outputs": [],
   "source": [
    "# my_part1_solution(inputdata)"
   ]
  },
  {
   "cell_type": "code",
   "execution_count": 12,
   "metadata": {},
   "outputs": [
    {
     "name": "stderr",
     "output_type": "stream",
     "text": [
      "<cell>1: error: Name \"HTML\" is not defined  [name-defined]\n"
     ]
    },
    {
     "data": {
      "text/html": [
       "\n",
       "<p>Your puzzle answer was <code>373</code>.</p>"
      ],
      "text/plain": [
       "<IPython.core.display.HTML object>"
      ]
     },
     "execution_count": 12,
     "metadata": {},
     "output_type": "execute_result"
    }
   ],
   "source": [
    "HTML(downloaded['part1_footer'])"
   ]
  },
  {
   "cell_type": "markdown",
   "metadata": {},
   "source": [
    "## Part Two"
   ]
  },
  {
   "cell_type": "code",
   "execution_count": 13,
   "metadata": {},
   "outputs": [
    {
     "name": "stderr",
     "output_type": "stream",
     "text": [
      "<cell>1: error: Name \"HTML\" is not defined  [name-defined]\n"
     ]
    },
    {
     "data": {
      "text/html": [
       "<h2 id=\"part2\">--- Part Two ---</h2><p>As you're about to send the thank you note, something in the MFCSAM's instructions catches your eye.  Apparently, it has an outdated <a href=\"https://www.youtube.com/watch?v=RXJKdh1KZ0w\">retroencabulator</a>, and so the output from the machine isn't exact values - some of them indicate ranges.</p>\n",
       "<p>In particular, the <code>cats</code> and <code>trees</code> readings indicates that there are <em>greater than</em> that many (due to the unpredictable nuclear decay of cat dander and tree pollen), while the <code>pomeranians</code> and <code>goldfish</code> readings indicate that there are <em>fewer than</em> that many (due to the modial interaction of magnetoreluctance).</p>\n",
       "<p>What is the <em>number</em> of the real Aunt Sue?</p>\n"
      ],
      "text/plain": [
       "<IPython.core.display.HTML object>"
      ]
     },
     "execution_count": 13,
     "metadata": {},
     "output_type": "execute_result"
    }
   ],
   "source": [
    "HTML(downloaded['part2'])"
   ]
  },
  {
   "cell_type": "code",
   "execution_count": 14,
   "metadata": {},
   "outputs": [],
   "source": [
    "# In particular, the cats and trees readings indicates that there are greater\n",
    "# than that many (due to the unpredictable nuclear decay of cat dander and tree\n",
    "# pollen), while the pomeranians and goldfish readings indicate that there are\n",
    "# fewer than that many (due to the modial interaction of magnetoreluctance).\n",
    "limits_greater = ['cats', 'trees']\n",
    "limits_fewer = ['pomeranians', 'goldfish']"
   ]
  },
  {
   "cell_type": "code",
   "execution_count": 15,
   "metadata": {},
   "outputs": [
    {
     "data": {
      "text/plain": [
       "\"remaining_aunts={260: {'goldfish': 0, 'vizslas': 0, 'samoyeds': 2}, 373: {'pomeranians': 3, 'perfumes': 1, 'vizslas': 0}}\""
      ]
     },
     "metadata": {},
     "output_type": "display_data"
    },
    {
     "name": "stderr",
     "output_type": "stream",
     "text": [
      "11:80: E501 line too long (143 > 79 characters)\n",
      "25:80: E501 line too long (139 > 79 characters)\n"
     ]
    }
   ],
   "source": [
    "eliminated_aunts = []\n",
    "for substance, amount in traces_dict.items():\n",
    "    for aunt_id, known_posessions in data_dict.items():\n",
    "        if (substance in known_posessions.keys() and (\n",
    "                (substance in limits_greater and\n",
    "                 amount > known_posessions[substance]) or\n",
    "                (substance in limits_fewer and\n",
    "                 amount < known_posessions[substance]) or\n",
    "                amount != known_posessions[substance])):\n",
    "            eliminated_aunts.append(aunt_id)\n",
    "            # display(f'Eliminated aunt {aunt_id} due to having wrong amount {known_posessions[substance]} of {substance} (expected {amount})')\n",
    "            break\n",
    "remaining_aunts = {aunt_id: known_posessions\n",
    "                   for aunt_id, known_posessions in data_dict.items()\n",
    "                   if aunt_id not in eliminated_aunts}\n",
    "for aunt_id, known_posessions in remaining_aunts.items():\n",
    "    for substance, amount in known_posessions.items():\n",
    "        if (\n",
    "                substance not in traces_dict.keys() or\n",
    "                (substance not in limits_greater and\n",
    "                 amount > traces_dict[substance]) or\n",
    "                (substance not in limits_fewer and\n",
    "                 amount < traces_dict[substance])):\n",
    "            eliminated_aunts.append(aunt_id)\n",
    "            # display(f'Eliminated aunt {aunt_id} due to not finding traces of {substance} ({traces_dict[substance]}) (expected {amount})')\n",
    "            break\n",
    "remaining_aunts = {aunt_id: known_posessions\n",
    "                   for aunt_id, known_posessions in data_dict.items()\n",
    "                   if aunt_id not in eliminated_aunts}\n",
    "display(f'{remaining_aunts=}')"
   ]
  },
  {
   "cell_type": "code",
   "execution_count": 16,
   "metadata": {},
   "outputs": [],
   "source": [
    "# assert(my_part2_solution(testdata) == ...)"
   ]
  },
  {
   "cell_type": "code",
   "execution_count": 17,
   "metadata": {},
   "outputs": [],
   "source": [
    "# my_part2_solution(inputdata)"
   ]
  },
  {
   "cell_type": "code",
   "execution_count": 18,
   "metadata": {},
   "outputs": [
    {
     "name": "stderr",
     "output_type": "stream",
     "text": [
      "<cell>1: error: Name \"HTML\" is not defined  [name-defined]\n"
     ]
    },
    {
     "data": {
      "text/html": [
       "\n",
       "<p>Your puzzle answer was <code>260</code>.</p><p class=\"day-success\">Both parts of this puzzle are complete! They provide two gold stars: **</p>\n",
       "<p>At this point, you should <a href=\"/2015\">return to your Advent calendar</a> and try another puzzle.</p>\n",
       "<p>If you still want to see it, you can <a href=\"16/input\" target=\"_blank\">get your puzzle input</a>.</p>\n",
       "<p>You can also <span class=\"share\">[Share<span class=\"share-content\">on\n",
       "  <a href=\"https://twitter.com/intent/tweet?text=I%27ve+completed+%22Aunt+Sue%22+%2D+Day+16+%2D+Advent+of+Code+2015&amp;url=https%3A%2F%2Fadventofcode%2Ecom%2F2015%2Fday%2F16&amp;related=ericwastl&amp;hashtags=AdventOfCode\" target=\"_blank\">Twitter</a>\n",
       "  <a href=\"javascript:void(0);\" onclick=\"var mastodon_instance=prompt('Mastodon Instance / Server Name?'); if(typeof mastodon_instance==='string' && mastodon_instance.length){this.href='https://'+mastodon_instance+'/share?text=I%27ve+completed+%22Aunt+Sue%22+%2D+Day+16+%2D+Advent+of+Code+2015+%23AdventOfCode+https%3A%2F%2Fadventofcode%2Ecom%2F2015%2Fday%2F16'}else{return false;}\" target=\"_blank\">Mastodon</a\n",
       "></span>]</span> this puzzle.</p>\n"
      ],
      "text/plain": [
       "<IPython.core.display.HTML object>"
      ]
     },
     "execution_count": 18,
     "metadata": {},
     "output_type": "execute_result"
    }
   ],
   "source": [
    "HTML(downloaded['part2_footer'])"
   ]
  }
 ],
 "metadata": {
  "kernelspec": {
   "display_name": "Python 3.10.8 ('venv': venv)",
   "language": "python",
   "name": "python3"
  },
  "language_info": {
   "codemirror_mode": {
    "name": "ipython",
    "version": 3
   },
   "file_extension": ".py",
   "mimetype": "text/x-python",
   "name": "python",
   "nbconvert_exporter": "python",
   "pygments_lexer": "ipython3",
   "version": "3.10.8"
  },
  "metadata": {
   "interpreter": {
    "hash": "31f2aee4e71d21fbe5cf8b01ff0e069b9275f58929596ceb00d14d90e3e16cd6"
   }
  },
  "vscode": {
   "interpreter": {
    "hash": "953efd6badefc8bd539414deffff5d1ee9e359bc7a1650a157b4fbde293a1337"
   }
  }
 },
 "nbformat": 4,
 "nbformat_minor": 2
}

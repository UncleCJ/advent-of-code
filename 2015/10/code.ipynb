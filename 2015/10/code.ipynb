{
 "cells": [
  {
   "cell_type": "markdown",
   "metadata": {},
   "source": [
    "# Day 10: Elves Look, Elves Say\n",
    "\n",
    "[*Advent of Code 2015 day 10*](https://adventofcode.com/2015/day/10) and [*solution megathread*](https://redd.it/3w6h3m)\n",
    "\n",
    "[![nbviewer](https://raw.githubusercontent.com/jupyter/design/master/logos/Badges/nbviewer_badge.svg)](https://nbviewer.jupyter.org/github/UncleCJ/advent-of-code/blob/cj/2015/10/code.ipynb) [![Binder](https://mybinder.org/badge_logo.svg)](https://mybinder.org/v2/gh/UncleCJ/advent-of-code/cj?filepath=2015%2F10%2Fcode.ipynb)"
   ]
  },
  {
   "cell_type": "code",
   "execution_count": 1,
   "metadata": {},
   "outputs": [
    {
     "output_type": "stream",
     "name": "stdout",
     "text": [
      "Writing 'downloaded' (dict) to file 'downloaded'.\n"
     ]
    }
   ],
   "source": [
    "from IPython.display import HTML\n",
    "import sys\n",
    "sys.path.append('../../')\n",
    "import common\n",
    "\n",
    "downloaded = common.refresh()\n",
    "%store downloaded >downloaded"
   ]
  },
  {
   "cell_type": "code",
   "execution_count": 2,
   "metadata": {},
   "outputs": [
    {
     "output_type": "execute_result",
     "data": {
      "text/plain": [
       "<IPython.core.display.HTML object>"
      ],
      "text/html": "<h2>--- Day 10: Elves Look, Elves Say ---</h2><p>Today, the Elves are playing a game called <a href=\"https://en.wikipedia.org/wiki/Look-and-say_sequence\">look-and-say</a>.  They take turns making sequences by reading aloud the previous sequence and using that reading as the next sequence.  For example, <code>211</code> is read as \"one two, two ones\", which becomes <code>1221</code> (<code>1</code> <code>2</code>, <code>2</code> <code>1</code>s).</p>\n<p>Look-and-say sequences are generated iteratively, using the previous value as input for the next step.  For each step, take the previous value, and replace each run of digits (like <code>111</code>) with the number of digits (<code>3</code>) followed by the digit itself (<code>1</code>).</p>\n<p>For example:</p>\n<ul>\n<li><code>1</code> becomes <code>11</code> (<code>1</code> copy of digit <code>1</code>).</li>\n<li><code>11</code> becomes <code>21</code> (<code>2</code> copies of digit <code>1</code>).</li>\n<li><code>21</code> becomes <code>1211</code> (one <code>2</code> followed by one <code>1</code>).</li>\n<li><code>1211</code> becomes <code>111221</code> (one <code>1</code>, one <code>2</code>, and two <code>1</code>s).</li>\n<li><code>111221</code> becomes <code>312211</code> (three <code>1</code>s, two <code>2</code>s, and one <code>1</code>).</li>\n</ul>\n<p>Starting with the digits in your puzzle input, apply this process 40 times.  What is <em>the length of the result</em>?</p>\n"
     },
     "metadata": {},
     "execution_count": 2
    }
   ],
   "source": [
    "HTML(downloaded['part1'])"
   ]
  },
  {
   "cell_type": "code",
   "execution_count": 3,
   "metadata": {},
   "outputs": [],
   "source": [
    "testdata = [('1', '11'),  # 1 copy of digit 1\n",
    "            ('11', '21'),  # 2 copies of digit 1\n",
    "            ('21', '1211'),  # (one 2 followed by one 1).\n",
    "            ('1211', '111221'),  # (one 1, one 2, and two 1s).\n",
    "            ('111221', '312211')]  # (three 1s, two 2s, and one 1).\n",
    "\n",
    "inputdata = downloaded['input']"
   ]
  },
  {
   "cell_type": "code",
   "execution_count": 4,
   "metadata": {},
   "outputs": [],
   "source": [
    "def look_say(data: str) -> str:\n",
    "    result = ''\n",
    "    i = 0\n",
    "    while i < len(data):\n",
    "        count = 1\n",
    "        j = i+1\n",
    "        while j < len(data) and data[j] == data[i]:\n",
    "            count += 1\n",
    "            j += 1\n",
    "\n",
    "        result += str(count) + data[i]\n",
    "        i = j\n",
    "    return result"
   ]
  },
  {
   "cell_type": "code",
   "execution_count": 5,
   "metadata": {},
   "outputs": [],
   "source": [
    "for source, result in testdata:\n",
    "    assert(look_say(source) == result)"
   ]
  },
  {
   "cell_type": "code",
   "execution_count": 6,
   "metadata": {
    "tags": []
   },
   "outputs": [
    {
     "output_type": "stream",
     "name": "stdout",
     "text": [
      "Round 1 result length: 12\n",
      "Round 2 result length: 14\n",
      "Round 3 result length: 22\n",
      "Round 4 result length: 26\n",
      "Round 5 result length: 30\n",
      "Round 6 result length: 44\n",
      "Round 7 result length: 56\n",
      "Round 8 result length: 70\n",
      "Round 9 result length: 98\n",
      "Round 10 result length: 130\n",
      "Round 11 result length: 162\n",
      "Round 12 result length: 216\n",
      "Round 13 result length: 292\n",
      "Round 14 result length: 358\n",
      "Round 15 result length: 470\n",
      "Round 16 result length: 628\n",
      "Round 17 result length: 792\n",
      "Round 18 result length: 1050\n",
      "Round 19 result length: 1384\n",
      "Round 20 result length: 1788\n",
      "Round 21 result length: 2334\n",
      "Round 22 result length: 3072\n",
      "Round 23 result length: 3974\n",
      "Round 24 result length: 5162\n",
      "Round 25 result length: 6784\n",
      "Round 26 result length: 8786\n",
      "Round 27 result length: 11420\n",
      "Round 28 result length: 14992\n",
      "Round 29 result length: 19484\n",
      "Round 30 result length: 25388\n",
      "Round 31 result length: 33160\n",
      "Round 32 result length: 43262\n",
      "Round 33 result length: 56252\n",
      "Round 34 result length: 73392\n",
      "Round 35 result length: 95798\n",
      "Round 36 result length: 124496\n",
      "Round 37 result length: 162556\n",
      "Round 38 result length: 212048\n",
      "Round 39 result length: 275976\n",
      "Round 40 result length: 360154\n",
      "CPU times: user 711 ms, sys: 16.3 ms, total: 727 ms\n",
      "Wall time: 762 ms\n"
     ]
    }
   ],
   "source": [
    "%%time\n",
    "result = inputdata\n",
    "for i in range(1, 40+1):\n",
    "    result = look_say(result)\n",
    "    print(f'Round {i} result length: {len(result)}')"
   ]
  },
  {
   "cell_type": "code",
   "execution_count": 7,
   "metadata": {},
   "outputs": [
    {
     "output_type": "execute_result",
     "data": {
      "text/plain": [
       "<IPython.core.display.HTML object>"
      ],
      "text/html": "\n<p>Your puzzle answer was <code>360154</code>.</p>"
     },
     "metadata": {},
     "execution_count": 7
    }
   ],
   "source": [
    "HTML(downloaded['part1_footer'])"
   ]
  },
  {
   "cell_type": "code",
   "execution_count": 8,
   "metadata": {},
   "outputs": [
    {
     "output_type": "execute_result",
     "data": {
      "text/plain": [
       "<IPython.core.display.HTML object>"
      ],
      "text/html": "<h2 id=\"part2\">--- Part Two ---</h2><p>Neat, right? You might also enjoy hearing <a href=\"https://www.youtube.com/watch?v=ea7lJkEhytA\">John Conway talking about this sequence</a> (that's Conway of <em>Conway's Game of Life</em> fame).</p>\n<p>Now, starting again with the digits in your puzzle input, apply this process <em title=\"Only because any longer started taking alarmingly long on my test hardware, and I wanted to avoid excluding people.\">50</em> times.  What is <em>the length of the new result</em>?</p>\n"
     },
     "metadata": {},
     "execution_count": 8
    }
   ],
   "source": [
    "HTML(downloaded['part2'])"
   ]
  },
  {
   "cell_type": "code",
   "execution_count": 9,
   "metadata": {},
   "outputs": [
    {
     "output_type": "stream",
     "name": "stdout",
     "text": [
      "Round 1 result length: 12\n",
      "Round 2 result length: 14\n",
      "Round 3 result length: 22\n",
      "Round 4 result length: 26\n",
      "Round 5 result length: 30\n",
      "Round 6 result length: 44\n",
      "Round 7 result length: 56\n",
      "Round 8 result length: 70\n",
      "Round 9 result length: 98\n",
      "Round 10 result length: 130\n",
      "Round 11 result length: 162\n",
      "Round 12 result length: 216\n",
      "Round 13 result length: 292\n",
      "Round 14 result length: 358\n",
      "Round 15 result length: 470\n",
      "Round 16 result length: 628\n",
      "Round 17 result length: 792\n",
      "Round 18 result length: 1050\n",
      "Round 19 result length: 1384\n",
      "Round 20 result length: 1788\n",
      "Round 21 result length: 2334\n",
      "Round 22 result length: 3072\n",
      "Round 23 result length: 3974\n",
      "Round 24 result length: 5162\n",
      "Round 25 result length: 6784\n",
      "Round 26 result length: 8786\n",
      "Round 27 result length: 11420\n",
      "Round 28 result length: 14992\n",
      "Round 29 result length: 19484\n",
      "Round 30 result length: 25388\n",
      "Round 31 result length: 33160\n",
      "Round 32 result length: 43262\n",
      "Round 33 result length: 56252\n",
      "Round 34 result length: 73392\n",
      "Round 35 result length: 95798\n",
      "Round 36 result length: 124496\n",
      "Round 37 result length: 162556\n",
      "Round 38 result length: 212048\n",
      "Round 39 result length: 275976\n",
      "Round 40 result length: 360154\n",
      "Round 41 result length: 469694\n",
      "Round 42 result length: 611844\n",
      "Round 43 result length: 797628\n",
      "Round 44 result length: 1040344\n",
      "Round 45 result length: 1355550\n",
      "Round 46 result length: 1766402\n",
      "Round 47 result length: 2304368\n",
      "Round 48 result length: 3002354\n",
      "Round 49 result length: 3913802\n",
      "Round 50 result length: 5103798\n",
      "CPU times: user 9.87 s, sys: 89 ms, total: 9.96 s\n",
      "Wall time: 10.1 s\n"
     ]
    }
   ],
   "source": [
    "%%time\n",
    "result = inputdata\n",
    "for i in range(1,50+1):\n",
    "    result = look_say(result)\n",
    "    print(f'Round {i} result length: {len(result)}')"
   ]
  },
  {
   "cell_type": "code",
   "execution_count": 10,
   "metadata": {},
   "outputs": [
    {
     "output_type": "execute_result",
     "data": {
      "text/plain": [
       "<IPython.core.display.HTML object>"
      ],
      "text/html": "\n<p>Your puzzle answer was <code>5103798</code>.</p><p class=\"day-success\">Both parts of this puzzle are complete! They provide two gold stars: **</p>\n<p>At this point, you should <a href=\"/2015\">return to your Advent calendar</a> and try another puzzle.</p>\n<p>Your puzzle input was <code class=\"puzzle-input\">1113122113</code>.</p>\n<p>You can also <span class=\"share\">[Share<span class=\"share-content\">on\n  <a href=\"https://twitter.com/intent/tweet?text=I%27ve+completed+%22Elves+Look%2C+Elves+Say%22+%2D+Day+10+%2D+Advent+of+Code+2015&amp;url=https%3A%2F%2Fadventofcode%2Ecom%2F2015%2Fday%2F10&amp;related=ericwastl&amp;hashtags=AdventOfCode\" target=\"_blank\">Twitter</a>\n  <a href=\"javascript:void(0);\" onclick=\"var mastodon_instance=prompt('Mastodon Instance / Server Name?'); if(typeof mastodon_instance==='string' && mastodon_instance.length){this.href='https://'+mastodon_instance+'/share?text=I%27ve+completed+%22Elves+Look%2C+Elves+Say%22+%2D+Day+10+%2D+Advent+of+Code+2015+%23AdventOfCode+https%3A%2F%2Fadventofcode%2Ecom%2F2015%2Fday%2F10'}else{return false;}\" target=\"_blank\">Mastodon</a\n></span>]</span> this puzzle.</p>\n"
     },
     "metadata": {},
     "execution_count": 10
    }
   ],
   "source": [
    "HTML(downloaded['part2_footer'])"
   ]
  }
 ],
 "metadata": {
  "kernelspec": {
   "name": "python382jvsc74a57bd031f2aee4e71d21fbe5cf8b01ff0e069b9275f58929596ceb00d14d90e3e16cd6",
   "display_name": "Python 3.8.2 64-bit"
  },
  "language_info": {
   "codemirror_mode": {
    "name": "ipython",
    "version": 3
   },
   "file_extension": ".py",
   "mimetype": "text/x-python",
   "name": "python",
   "nbconvert_exporter": "python",
   "pygments_lexer": "ipython3",
   "version": "3.8.2-final"
  },
  "metadata": {
   "interpreter": {
    "hash": "31f2aee4e71d21fbe5cf8b01ff0e069b9275f58929596ceb00d14d90e3e16cd6"
   }
  }
 },
 "nbformat": 4,
 "nbformat_minor": 2
}
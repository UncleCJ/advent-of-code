{
 "cells": [
  {
   "cell_type": "markdown",
   "metadata": {},
   "source": [
    "# Day 22: Wizard Simulator 20XX\n",
    "\n",
    "[*Advent of Code 2015 day 22*](https://adventofcode.com/2015/day/22) and [*solution megathread*](https://www.reddit.com/3xspyl)\n",
    "\n",
    "[![nbviewer](https://raw.githubusercontent.com/jupyter/design/master/logos/Badges/nbviewer_badge.svg)](https://nbviewer.jupyter.org/github/UncleCJ/advent-of-code/blob/master/2015/22/code.ipynb) [![Binder](https://mybinder.org/badge_logo.svg)](https://mybinder.org/v2/gh/UncleCJ/advent-of-code/master?filepath=2015%2F22%2Fcode.ipynb)"
   ]
  },
  {
   "cell_type": "code",
   "execution_count": 1,
   "metadata": {},
   "outputs": [
    {
     "name": "stdout",
     "output_type": "stream",
     "text": [
      "Writing 'downloaded' (dict) to file 'downloaded'.\n"
     ]
    }
   ],
   "source": [
    "from IPython.display import HTML\n",
    "import sys\n",
    "sys.path.append('../../')\n",
    "import common\n",
    "\n",
    "downloaded = common.refresh()\n",
    "%store downloaded >downloaded"
   ]
  },
  {
   "cell_type": "markdown",
   "metadata": {},
   "source": [
    "## Part One"
   ]
  },
  {
   "cell_type": "code",
   "execution_count": 2,
   "metadata": {},
   "outputs": [
    {
     "data": {
      "text/html": [
       "<h2>--- Day 22: Wizard Simulator 20XX ---</h2><p>Little Henry Case decides that defeating bosses with <a href=\"21\">swords and stuff</a> is boring.  Now he's playing the game with a <span title=\"Being a !@#$% Sorcerer.\">wizard</span>.  Of course, he gets stuck on another boss and needs your help again.</p>\n",
       "<p>In this version, combat still proceeds with the player and the boss taking alternating turns.  The player still goes first.  Now, however, you don't get any equipment; instead, you must choose one of your spells to cast.  The first character at or below <code>0</code> hit points loses.</p>\n",
       "<p>Since you're a wizard, you don't get to wear armor, and you can't attack normally.  However, since you do <em>magic damage</em>, your opponent's armor is ignored, and so the boss effectively has zero armor as well.  As before, if armor (from a spell, in this case) would reduce damage below <code>1</code>, it becomes <code>1</code> instead - that is, the boss' attacks always deal at least <code>1</code> damage.</p>\n",
       "<p>On each of your turns, you must select one of your spells to cast.  If you cannot afford to cast any spell, you lose.  Spells cost <em>mana</em>; you start with <em>500</em> mana, but have no maximum limit.  You must have enough mana to cast a spell, and its cost is immediately deducted when you cast it.  Your spells are Magic Missile, Drain, Shield, Poison, and Recharge.</p>\n",
       "<ul>\n",
       "<li><em>Magic Missile</em> costs <code>53</code> mana.  It instantly does <code>4</code> damage.</li>\n",
       "<li><em>Drain</em> costs <code>73</code> mana.  It instantly does <code>2</code> damage and heals you for <code>2</code> hit points.</li>\n",
       "<li><em>Shield</em> costs <code>113</code> mana.  It starts an <em>effect</em> that lasts for <code>6</code> turns.  While it is active, your armor is increased by <code>7</code>.</li>\n",
       "<li><em>Poison</em> costs <code>173</code> mana.  It starts an <em>effect</em> that lasts for <code>6</code> turns.  At the start of each turn while it is active, it deals the boss <code>3</code> damage.</li>\n",
       "<li><em>Recharge</em> costs <code>229</code> mana.  It starts an <em>effect</em> that lasts for <code>5</code> turns.  At the start of each turn while it is active, it gives you <code>101</code> new mana.</li>\n",
       "</ul>\n",
       "<p><em>Effects</em> all work the same way.  Effects apply at the start of both the player's turns and the boss' turns.  Effects are created with a timer (the number of turns they last); at the start of each turn, after they apply any effect they have, their timer is decreased by one.  If this decreases the timer to zero, the effect ends.  You cannot cast a spell that would start an effect which is already active.  However, effects can be started on the same turn they end.</p>\n",
       "<p>For example, suppose the player has <code>10</code> hit points and <code>250</code> mana, and that the boss has <code>13</code> hit points and <code>8</code> damage:</p>\n",
       "<pre><code>-- Player turn --\n",
       "- Player has 10 hit points, 0 armor, 250 mana\n",
       "- Boss has 13 hit points\n",
       "Player casts Poison.\n",
       "\n",
       "-- Boss turn --\n",
       "- Player has 10 hit points, 0 armor, 77 mana\n",
       "- Boss has 13 hit points\n",
       "Poison deals 3 damage; its timer is now 5.\n",
       "Boss attacks for 8 damage.\n",
       "\n",
       "-- Player turn --\n",
       "- Player has 2 hit points, 0 armor, 77 mana\n",
       "- Boss has 10 hit points\n",
       "Poison deals 3 damage; its timer is now 4.\n",
       "Player casts Magic Missile, dealing 4 damage.\n",
       "\n",
       "-- Boss turn --\n",
       "- Player has 2 hit points, 0 armor, 24 mana\n",
       "- Boss has 3 hit points\n",
       "Poison deals 3 damage. This kills the boss, and the player wins.\n",
       "</code></pre>\n",
       "<p>Now, suppose the same initial conditions, except that the boss has <code>14</code> hit points instead:</p>\n",
       "<pre><code>-- Player turn --\n",
       "- Player has 10 hit points, 0 armor, 250 mana\n",
       "- Boss has 14 hit points\n",
       "Player casts Recharge.\n",
       "\n",
       "-- Boss turn --\n",
       "- Player has 10 hit points, 0 armor, 21 mana\n",
       "- Boss has 14 hit points\n",
       "Recharge provides 101 mana; its timer is now 4.\n",
       "Boss attacks for 8 damage!\n",
       "\n",
       "-- Player turn --\n",
       "- Player has 2 hit points, 0 armor, 122 mana\n",
       "- Boss has 14 hit points\n",
       "Recharge provides 101 mana; its timer is now 3.\n",
       "Player casts Shield, increasing armor by 7.\n",
       "\n",
       "-- Boss turn --\n",
       "- Player has 2 hit points, 7 armor, 110 mana\n",
       "- Boss has 14 hit points\n",
       "Shield's timer is now 5.\n",
       "Recharge provides 101 mana; its timer is now 2.\n",
       "Boss attacks for 8 - 7 = 1 damage!\n",
       "\n",
       "-- Player turn --\n",
       "- Player has 1 hit point, 7 armor, 211 mana\n",
       "- Boss has 14 hit points\n",
       "Shield's timer is now 4.\n",
       "Recharge provides 101 mana; its timer is now 1.\n",
       "Player casts Drain, dealing 2 damage, and healing 2 hit points.\n",
       "\n",
       "-- Boss turn --\n",
       "- Player has 3 hit points, 7 armor, 239 mana\n",
       "- Boss has 12 hit points\n",
       "Shield's timer is now 3.\n",
       "Recharge provides 101 mana; its timer is now 0.\n",
       "Recharge wears off.\n",
       "Boss attacks for 8 - 7 = 1 damage!\n",
       "\n",
       "-- Player turn --\n",
       "- Player has 2 hit points, 7 armor, 340 mana\n",
       "- Boss has 12 hit points\n",
       "Shield's timer is now 2.\n",
       "Player casts Poison.\n",
       "\n",
       "-- Boss turn --\n",
       "- Player has 2 hit points, 7 armor, 167 mana\n",
       "- Boss has 12 hit points\n",
       "Shield's timer is now 1.\n",
       "Poison deals 3 damage; its timer is now 5.\n",
       "Boss attacks for 8 - 7 = 1 damage!\n",
       "\n",
       "-- Player turn --\n",
       "- Player has 1 hit point, 7 armor, 167 mana\n",
       "- Boss has 9 hit points\n",
       "Shield's timer is now 0.\n",
       "Shield wears off, decreasing armor by 7.\n",
       "Poison deals 3 damage; its timer is now 4.\n",
       "Player casts Magic Missile, dealing 4 damage.\n",
       "\n",
       "-- Boss turn --\n",
       "- Player has 1 hit point, 0 armor, 114 mana\n",
       "- Boss has 2 hit points\n",
       "Poison deals 3 damage. This kills the boss, and the player wins.\n",
       "</code></pre>\n",
       "<p>You start with <em>50 hit points</em> and <em>500 mana points</em>. The boss's actual stats are in your puzzle input. What is the <em>least amount of mana</em> you can spend and still win the fight?  (Do not include mana recharge effects as \"spending\" negative mana.)</p>\n"
      ],
      "text/plain": [
       "<IPython.core.display.HTML object>"
      ]
     },
     "execution_count": 2,
     "metadata": {},
     "output_type": "execute_result"
    }
   ],
   "source": [
    "HTML(downloaded['part1'])"
   ]
  },
  {
   "cell_type": "markdown",
   "metadata": {},
   "source": [
    "## Boilerplate\n",
    "\n",
    "Let's try using [pycodestyle_magic](https://github.com/mattijn/pycodestyle_magic) with pycodestyle (flake8 stopped working for me in VS Code Jupyter). Now how does type checking work?"
   ]
  },
  {
   "cell_type": "code",
   "execution_count": 3,
   "metadata": {},
   "outputs": [],
   "source": [
    "%load_ext pycodestyle_magic"
   ]
  },
  {
   "cell_type": "code",
   "execution_count": 4,
   "metadata": {},
   "outputs": [],
   "source": [
    "%pycodestyle_on"
   ]
  },
  {
   "cell_type": "markdown",
   "metadata": {},
   "source": [
    "## Comments\n",
    "\n",
    "..."
   ]
  },
  {
   "cell_type": "code",
   "execution_count": 6,
   "metadata": {},
   "outputs": [],
   "source": [
    "testdata = []\n",
    "\n",
    "# inputdata = downloaded['input']"
   ]
  },
  {
   "cell_type": "code",
   "execution_count": null,
   "metadata": {},
   "outputs": [],
   "source": [
    "# assert(my_part1_solution(testdata) == ...)"
   ]
  },
  {
   "cell_type": "code",
   "execution_count": null,
   "metadata": {},
   "outputs": [],
   "source": [
    "# my_part1_solution(inputdata)"
   ]
  },
  {
   "cell_type": "code",
   "execution_count": 7,
   "metadata": {},
   "outputs": [
    {
     "data": {
      "text/html": [
       "\n",
       "<p>To play, please identify yourself via one of these services:</p>\n",
       "<p><a href=\"/auth/github\">[GitHub]</a> <a href=\"/auth/google\">[Google]</a> <a href=\"/auth/twitter\">[Twitter]</a> <a href=\"/auth/reddit\">[Reddit]</a> <span class=\"quiet\">- <a href=\"/about#faq_auth\">[How Does Auth Work?]</a></span></p>\n"
      ],
      "text/plain": [
       "<IPython.core.display.HTML object>"
      ]
     },
     "execution_count": 7,
     "metadata": {},
     "output_type": "execute_result"
    }
   ],
   "source": [
    "HTML(downloaded['part1_footer'])"
   ]
  },
  {
   "cell_type": "markdown",
   "metadata": {},
   "source": [
    "## Part Two"
   ]
  },
  {
   "cell_type": "code",
   "execution_count": null,
   "metadata": {},
   "outputs": [],
   "source": [
    "# HTML(downloaded['part2'])"
   ]
  },
  {
   "cell_type": "code",
   "execution_count": null,
   "metadata": {},
   "outputs": [],
   "source": [
    "# HTML(downloaded['part2_footer'])"
   ]
  },
  {
   "cell_type": "code",
   "execution_count": null,
   "metadata": {},
   "outputs": [],
   "source": [
    "# assert(my_part2_solution(testdata) == ...)"
   ]
  },
  {
   "cell_type": "code",
   "execution_count": null,
   "metadata": {},
   "outputs": [],
   "source": [
    "# my_part2_solution(inputdata)"
   ]
  }
 ],
 "metadata": {
  "interpreter": {
   "hash": "a810c47e9f862a52cb82220367a790c918f0c4e70fa43ccbcf1a78b131f3592d"
  },
  "kernelspec": {
   "display_name": "Python 3.8.2 64-bit",
   "language": "python",
   "name": "python3"
  },
  "language_info": {
   "codemirror_mode": {
    "name": "ipython",
    "version": 3
   },
   "file_extension": ".py",
   "mimetype": "text/x-python",
   "name": "python",
   "nbconvert_exporter": "python",
   "pygments_lexer": "ipython3",
   "version": "3.10.0"
  },
  "metadata": {
   "interpreter": {
    "hash": "31f2aee4e71d21fbe5cf8b01ff0e069b9275f58929596ceb00d14d90e3e16cd6"
   }
  }
 },
 "nbformat": 4,
 "nbformat_minor": 2
}

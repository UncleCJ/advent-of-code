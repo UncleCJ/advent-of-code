{
 "cells": [
  {
   "cell_type": "markdown",
   "metadata": {},
   "source": [
    "# Day 14: Reindeer Olympics\n",
    "\n",
    "[*Advent of Code 2015 day 14*](https://adventofcode.com/2015/day/14) and [*solution megathread*](https://www.reddit.com/3wqtx2)\n",
    "\n",
    "[![nbviewer](https://raw.githubusercontent.com/jupyter/design/master/logos/Badges/nbviewer_badge.svg)](https://nbviewer.jupyter.org/github/UncleCJ/advent-of-code/blob/cj/2015/14/code.ipynb) [![Binder](https://mybinder.org/badge_logo.svg)](https://mybinder.org/v2/gh/UncleCJ/advent-of-code/cj?filepath=2015%2F14%2Fcode.ipynb)"
   ]
  },
  {
   "cell_type": "code",
   "execution_count": 1,
   "metadata": {},
   "outputs": [
    {
     "name": "stdout",
     "output_type": "stream",
     "text": [
      "Writing 'downloaded' (dict) to file 'downloaded'.\n"
     ]
    }
   ],
   "source": [
    "from IPython.display import HTML\n",
    "import sys\n",
    "sys.path.append('../../')\n",
    "import common\n",
    "\n",
    "downloaded = common.refresh()\n",
    "%store downloaded >downloaded"
   ]
  },
  {
   "cell_type": "markdown",
   "metadata": {},
   "source": [
    "## Part One"
   ]
  },
  {
   "cell_type": "code",
   "execution_count": 2,
   "metadata": {},
   "outputs": [
    {
     "data": {
      "text/html": [
       "<h2>--- Day 14: Reindeer Olympics ---</h2><p>This year is the Reindeer Olympics!  Reindeer can fly at high speeds, but must rest occasionally to recover their energy.  Santa would like to know which of his reindeer is fastest, and so he has them race.</p>\n",
       "<p>Reindeer can only either be <em>flying</em> (always at their top speed) or <em>resting</em> (not moving at all), and always spend whole seconds in either state.</p>\n",
       "<p>For example, suppose you have the following Reindeer:</p>\n",
       "<ul>\n",
       "<li>Comet can fly <em>14 km/s for 10 seconds</em>, but then must rest for <em>127 seconds</em>.</li>\n",
       "<li>Dancer can fly <em>16 km/s for 11 seconds</em>, but then must rest for <em>162 seconds</em>.</li>\n",
       "</ul>\n",
       "<p>After one second, Comet has gone 14 km, while Dancer has gone 16 km.  After ten seconds, Comet has gone 140 km, while Dancer has gone 160 km.  On the eleventh second, Comet begins resting (staying at 140 km), and Dancer continues on for a total distance of 176 km.  On the 12th second, both reindeer are resting.  They continue to rest until the 138th second, when Comet flies for another ten seconds.  On the 174th second, Dancer flies for another 11 seconds.</p>\n",
       "<p>In this example, after the 1000th second, both reindeer are resting, and Comet is in the lead at <em><code>1120</code></em> km (poor Dancer has only gotten <code>1056</code> km by that point).  So, in this situation, Comet would win (if the race ended at 1000 seconds).</p>\n",
       "<p>Given the descriptions of each reindeer (in your puzzle input), after exactly <code>2503</code> seconds, <em>what distance has the winning reindeer traveled</em>?</p>\n"
      ],
      "text/plain": [
       "<IPython.core.display.HTML object>"
      ]
     },
     "execution_count": 2,
     "metadata": {},
     "output_type": "execute_result"
    }
   ],
   "source": [
    "HTML(downloaded['part1'])"
   ]
  },
  {
   "cell_type": "markdown",
   "metadata": {},
   "source": [
    "## Boilerplate\n",
    "\n",
    "Let's try using [pycodestyle_magic](https://github.com/mattijn/pycodestyle_magic) with pycodestyle (flake8 stopped working for me in VS Code Jupyter). Now how does type checking work?"
   ]
  },
  {
   "cell_type": "code",
   "execution_count": 3,
   "metadata": {},
   "outputs": [],
   "source": [
    "%load_ext pycodestyle_magic"
   ]
  },
  {
   "cell_type": "code",
   "execution_count": 4,
   "metadata": {},
   "outputs": [],
   "source": [
    "%pycodestyle_on"
   ]
  },
  {
   "cell_type": "markdown",
   "metadata": {},
   "source": [
    "## Comments\n",
    "\n",
    "..."
   ]
  },
  {
   "cell_type": "code",
   "execution_count": 5,
   "metadata": {},
   "outputs": [
    {
     "name": "stderr",
     "output_type": "stream",
     "text": [
      "1:80: E501 line too long (87 > 79 characters)\n"
     ]
    }
   ],
   "source": [
    "testdata = \"\"\"Comet can fly 14 km/s for 10 seconds, but then must rest for 127 seconds.\n",
    "Dancer can fly 16 km/s for 11 seconds, but then must rest for 162 seconds.\"\"\"\n",
    "\n",
    "inputdata = downloaded['input']"
   ]
  },
  {
   "cell_type": "code",
   "execution_count": 6,
   "metadata": {},
   "outputs": [
    {
     "data": {
      "text/plain": [
       "'Rudolph can fly 22 km/s for 8 seconds, but then must rest for 165 seconds.\\nCupid can fly 8 km/s for '"
      ]
     },
     "execution_count": 6,
     "metadata": {},
     "output_type": "execute_result"
    }
   ],
   "source": [
    "inputdata[:100]"
   ]
  },
  {
   "cell_type": "code",
   "execution_count": 7,
   "metadata": {},
   "outputs": [],
   "source": [
    "import re\n",
    "\n",
    "\n",
    "def parse_data(data: str):\n",
    "    output = []\n",
    "    pattern = re.compile(\n",
    "        r'^(?P<deer>\\w+) can fly (?P<speed>\\d+) km/s for (?P<endurance>\\d+) ' +\n",
    "        r'seconds, but then must rest for (?P<holdoff>\\d+) seconds\\.$')\n",
    "    for line in data.splitlines():\n",
    "        matches = pattern.match(line)\n",
    "        output.append(matches.groupdict())\n",
    "    return output\n",
    "\n",
    "\n",
    "def performance_to_state(perf, debug=False):\n",
    "    for intfield in ['speed', 'endurance', 'holdoff']:\n",
    "        perf[intfield] = int(perf[intfield])\n",
    "    if debug:\n",
    "        print(perf)\n",
    "    return perf | {\n",
    "        'location': 0,\n",
    "        'holdoff_r': 0,\n",
    "        'endurance_r': perf['endurance']}\n",
    "\n",
    "\n",
    "def update_state(state, delta=1, debug=False):\n",
    "    if state['holdoff_r'] > 0:\n",
    "        if state['holdoff_r'] <= delta:\n",
    "            delta_r = delta - state['holdoff_r']\n",
    "            if debug:\n",
    "                print(f'case 1: {state[\"deer\"]} has rested ' +\n",
    "                      f'{state[\"holdoff_r\"]} seconds, now racing ' +\n",
    "                      f'another {delta_r} seconds')\n",
    "            state['holdoff_r'] = 0\n",
    "            state['endurance_r'] = state['endurance']\n",
    "            if delta_r > 0:\n",
    "                update_state(state, delta_r, debug)\n",
    "            return\n",
    "        state['holdoff_r'] -= delta\n",
    "        if debug:\n",
    "            print(f'case 2: {state[\"deer\"]} is resting another {delta} ' +\n",
    "                  f'seconds, {state[\"holdoff_r\"]} seconds rest remaining')\n",
    "        return\n",
    "    elif state['endurance_r'] > delta:\n",
    "        state['location'] += delta * state['speed']\n",
    "        state['endurance_r'] -= delta\n",
    "        if debug:\n",
    "            print(f'case 3: {state[\"deer\"]} raced {delta} seconds, now in ' +\n",
    "                  f'location {state[\"location\"]} with a remaining endurance ' +\n",
    "                  f'of {state[\"endurance_r\"]}')\n",
    "        return\n",
    "    else:\n",
    "        delta_t = state['endurance_r']\n",
    "        delta_n = delta - delta_t\n",
    "        state['endurance_r'] = 0\n",
    "        state['location'] += delta_t * state['speed']\n",
    "        state['holdoff_r'] = state['holdoff']\n",
    "        if debug:\n",
    "            print(f'case 4: {state[\"deer\"]} raced {delta_t} seconds, now in ' +\n",
    "                  f'location {state[\"location\"]}, will rest for ' +\n",
    "                  f'{state[\"holdoff_r\"]} with a remaining {delta_n} ' +\n",
    "                  'seconds to race')\n",
    "        update_state(state, delta_n, debug)\n",
    "        return\n",
    "\n",
    "\n",
    "def race_deer(states, duration=1000, debug=False):\n",
    "    for state in states:\n",
    "        update_state(state, delta=duration, debug=debug)\n",
    "    return [{\"deer\": state[\"deer\"],\n",
    "            \"location\": state[\"location\"]} for state in states]\n",
    "\n",
    "\n",
    "def my_part1_solution(data, duration=1000, debug=False):\n",
    "    states = [performance_to_state(p, debug) for p in parse_data(data)]\n",
    "    return race_deer(states, duration=duration, debug=debug)"
   ]
  },
  {
   "cell_type": "code",
   "execution_count": 8,
   "metadata": {},
   "outputs": [
    {
     "name": "stdout",
     "output_type": "stream",
     "text": [
      "{'deer': 'Comet', 'speed': 14, 'endurance': 10, 'holdoff': 127}\n",
      "{'deer': 'Dancer', 'speed': 16, 'endurance': 11, 'holdoff': 162}\n",
      "case 4: Comet raced 10 seconds, now in location 140, will rest for 127 with a remaining 990 seconds to race\n",
      "case 1: Comet has rested 127 seconds, now racing another 863 seconds\n",
      "case 4: Comet raced 10 seconds, now in location 280, will rest for 127 with a remaining 853 seconds to race\n",
      "case 1: Comet has rested 127 seconds, now racing another 726 seconds\n",
      "case 4: Comet raced 10 seconds, now in location 420, will rest for 127 with a remaining 716 seconds to race\n",
      "case 1: Comet has rested 127 seconds, now racing another 589 seconds\n",
      "case 4: Comet raced 10 seconds, now in location 560, will rest for 127 with a remaining 579 seconds to race\n",
      "case 1: Comet has rested 127 seconds, now racing another 452 seconds\n",
      "case 4: Comet raced 10 seconds, now in location 700, will rest for 127 with a remaining 442 seconds to race\n",
      "case 1: Comet has rested 127 seconds, now racing another 315 seconds\n",
      "case 4: Comet raced 10 seconds, now in location 840, will rest for 127 with a remaining 305 seconds to race\n",
      "case 1: Comet has rested 127 seconds, now racing another 178 seconds\n",
      "case 4: Comet raced 10 seconds, now in location 980, will rest for 127 with a remaining 168 seconds to race\n",
      "case 1: Comet has rested 127 seconds, now racing another 41 seconds\n",
      "case 4: Comet raced 10 seconds, now in location 1120, will rest for 127 with a remaining 31 seconds to race\n",
      "case 2: Comet is resting another 31 seconds, 96 seconds rest remaining\n",
      "case 4: Dancer raced 11 seconds, now in location 176, will rest for 162 with a remaining 989 seconds to race\n",
      "case 1: Dancer has rested 162 seconds, now racing another 827 seconds\n",
      "case 4: Dancer raced 11 seconds, now in location 352, will rest for 162 with a remaining 816 seconds to race\n",
      "case 1: Dancer has rested 162 seconds, now racing another 654 seconds\n",
      "case 4: Dancer raced 11 seconds, now in location 528, will rest for 162 with a remaining 643 seconds to race\n",
      "case 1: Dancer has rested 162 seconds, now racing another 481 seconds\n",
      "case 4: Dancer raced 11 seconds, now in location 704, will rest for 162 with a remaining 470 seconds to race\n",
      "case 1: Dancer has rested 162 seconds, now racing another 308 seconds\n",
      "case 4: Dancer raced 11 seconds, now in location 880, will rest for 162 with a remaining 297 seconds to race\n",
      "case 1: Dancer has rested 162 seconds, now racing another 135 seconds\n",
      "case 4: Dancer raced 11 seconds, now in location 1056, will rest for 162 with a remaining 124 seconds to race\n",
      "case 2: Dancer is resting another 124 seconds, 38 seconds rest remaining\n"
     ]
    },
    {
     "data": {
      "text/plain": [
       "[{'deer': 'Comet', 'location': 1120}, {'deer': 'Dancer', 'location': 1056}]"
      ]
     },
     "execution_count": 8,
     "metadata": {},
     "output_type": "execute_result"
    }
   ],
   "source": [
    "my_part1_solution(testdata, duration=1000, debug=True)"
   ]
  },
  {
   "cell_type": "code",
   "execution_count": 9,
   "metadata": {},
   "outputs": [
    {
     "name": "stdout",
     "output_type": "stream",
     "text": [
      "[{'deer': 'Rudolph', 'location': 2640}, {'deer': 'Cupid', 'location': 2696}, {'deer': 'Prancer', 'location': 2484}, {'deer': 'Donner', 'location': 2550}, {'deer': 'Dasher', 'location': 2508}, {'deer': 'Comet', 'location': 2520}, {'deer': 'Blitzen', 'location': 2592}, {'deer': 'Vixen', 'location': 2560}, {'deer': 'Dancer', 'location': 2527}]\n",
      "2696\n"
     ]
    }
   ],
   "source": [
    "results = my_part1_solution(inputdata, duration=2503, debug=False)\n",
    "print(results)\n",
    "print(max(result[\"location\"] for result in results))"
   ]
  },
  {
   "cell_type": "code",
   "execution_count": 10,
   "metadata": {},
   "outputs": [
    {
     "data": {
      "text/html": [
       "\n",
       "<p>Your puzzle answer was <code>2696</code>.</p>"
      ],
      "text/plain": [
       "<IPython.core.display.HTML object>"
      ]
     },
     "execution_count": 10,
     "metadata": {},
     "output_type": "execute_result"
    }
   ],
   "source": [
    "HTML(downloaded['part1_footer'])"
   ]
  },
  {
   "cell_type": "markdown",
   "metadata": {},
   "source": [
    "## Part Two"
   ]
  },
  {
   "cell_type": "code",
   "execution_count": 11,
   "metadata": {
    "scrolled": true
   },
   "outputs": [
    {
     "data": {
      "text/html": [
       "<h2 id=\"part2\">--- Part Two ---</h2><p>Seeing how reindeer move in bursts, Santa decides he's not pleased with the old scoring system.</p>\n",
       "<p>Instead, at the end of each second, he awards one point to the reindeer currently in the lead.  (If there are multiple reindeer tied for the lead, they each get one point.)  He keeps the traditional 2503 second time limit, of course, as doing otherwise would be <span title=\"It also risks choosing a duration that isn't coprime with the cycle times of each reindeer.\">entirely ridiculous</span>.</p>\n",
       "<p>Given the example reindeer from above, after the first second, Dancer is in the lead and gets one point.  He stays in the lead until several seconds into Comet's second burst: after the 140th second, Comet pulls into the lead and gets his first point.  Of course, since Dancer had been in the lead for the 139 seconds before that, he has accumulated 139 points by the 140th second.</p>\n",
       "<p>After the 1000th second, Dancer has accumulated <em><code>689</code></em> points, while poor Comet, our old champion, only has <code>312</code>.  So, with the new scoring system, Dancer would win (if the race ended at 1000 seconds).</p>\n",
       "<p>Again given the descriptions of each reindeer (in your puzzle input), after exactly <code>2503</code> seconds, <em>how many points does the winning reindeer have</em>?</p>\n"
      ],
      "text/plain": [
       "<IPython.core.display.HTML object>"
      ]
     },
     "execution_count": 11,
     "metadata": {},
     "output_type": "execute_result"
    }
   ],
   "source": [
    "HTML(downloaded['part2'])"
   ]
  },
  {
   "cell_type": "code",
   "execution_count": 12,
   "metadata": {},
   "outputs": [],
   "source": [
    "def score_states(states, debug=False):\n",
    "    lead_location = max(state[\"location\"] for state in states)\n",
    "    for state in states:\n",
    "        if state[\"location\"] == lead_location:\n",
    "            state[\"score\"] += 1\n",
    "            if debug:\n",
    "                print(f'{state[\"deer\"]} scored this second for ' +\n",
    "                      f'a score of {state[\"score\"]}')\n",
    "\n",
    "\n",
    "def my_part2_solution(data, duration=1000, debug=False):\n",
    "    states = [performance_to_state(p, debug) for p in parse_data(data)]\n",
    "    for state in states:\n",
    "        state[\"score\"] = 0\n",
    "    for _ in range(duration):\n",
    "        _ = race_deer(states, duration=1, debug=debug)\n",
    "        score_states(states, debug)\n",
    "    if debug:\n",
    "        print(states)\n",
    "    return max(state[\"score\"] for state in states)"
   ]
  },
  {
   "cell_type": "code",
   "execution_count": 13,
   "metadata": {},
   "outputs": [
    {
     "data": {
      "text/plain": [
       "689"
      ]
     },
     "execution_count": 13,
     "metadata": {},
     "output_type": "execute_result"
    }
   ],
   "source": [
    "my_part2_solution(testdata, duration=1000, debug=False)"
   ]
  },
  {
   "cell_type": "code",
   "execution_count": 14,
   "metadata": {},
   "outputs": [
    {
     "data": {
      "text/plain": [
       "1084"
      ]
     },
     "execution_count": 14,
     "metadata": {},
     "output_type": "execute_result"
    }
   ],
   "source": [
    "my_part2_solution(inputdata, duration=2503, debug=False)"
   ]
  },
  {
   "cell_type": "code",
   "execution_count": 15,
   "metadata": {},
   "outputs": [
    {
     "data": {
      "text/html": [
       "\n",
       "<p>Your puzzle answer was <code>1084</code>.</p><p class=\"day-success\">Both parts of this puzzle are complete! They provide two gold stars: **</p>\n",
       "<p>At this point, you should <a href=\"/2015\">return to your Advent calendar</a> and try another puzzle.</p>\n",
       "<p>If you still want to see it, you can <a href=\"14/input\" target=\"_blank\">get your puzzle input</a>.</p>\n",
       "<p>You can also <span class=\"share\">[Share<span class=\"share-content\">on\n",
       "  <a href=\"https://twitter.com/intent/tweet?text=I%27ve+completed+%22Reindeer+Olympics%22+%2D+Day+14+%2D+Advent+of+Code+2015&amp;url=https%3A%2F%2Fadventofcode%2Ecom%2F2015%2Fday%2F14&amp;related=ericwastl&amp;hashtags=AdventOfCode\" target=\"_blank\">Twitter</a>\n",
       "  <a href=\"javascript:void(0);\" onclick=\"var mastodon_instance=prompt('Mastodon Instance / Server Name?'); if(typeof mastodon_instance==='string' && mastodon_instance.length){this.href='https://'+mastodon_instance+'/share?text=I%27ve+completed+%22Reindeer+Olympics%22+%2D+Day+14+%2D+Advent+of+Code+2015+%23AdventOfCode+https%3A%2F%2Fadventofcode%2Ecom%2F2015%2Fday%2F14'}else{return false;}\" target=\"_blank\">Mastodon</a\n",
       "></span>]</span> this puzzle.</p>\n"
      ],
      "text/plain": [
       "<IPython.core.display.HTML object>"
      ]
     },
     "execution_count": 15,
     "metadata": {},
     "output_type": "execute_result"
    }
   ],
   "source": [
    "HTML(downloaded['part2_footer'])"
   ]
  }
 ],
 "metadata": {
  "interpreter": {
   "hash": "a810c47e9f862a52cb82220367a790c918f0c4e70fa43ccbcf1a78b131f3592d"
  },
  "kernelspec": {
   "display_name": "Python 3 (ipykernel)",
   "language": "python",
   "name": "python3"
  },
  "language_info": {
   "codemirror_mode": {
    "name": "ipython",
    "version": 3
   },
   "file_extension": ".py",
   "mimetype": "text/x-python",
   "name": "python",
   "nbconvert_exporter": "python",
   "pygments_lexer": "ipython3",
   "version": "3.10.8"
  },
  "metadata": {
   "interpreter": {
    "hash": "31f2aee4e71d21fbe5cf8b01ff0e069b9275f58929596ceb00d14d90e3e16cd6"
   }
  }
 },
 "nbformat": 4,
 "nbformat_minor": 2
}

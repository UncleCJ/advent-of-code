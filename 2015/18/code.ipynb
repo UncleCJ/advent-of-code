{
 "cells": [
  {
   "cell_type": "markdown",
   "metadata": {},
   "source": [
    "# Day 18: Like a GIF For Your Yard\n",
    "\n",
    "[*Advent of Code 2015 day 18*](https://adventofcode.com/2015/day/18) and [*solution megathread*](https://www.reddit.com/3xb3cj)\n",
    "\n",
    "[![nbviewer](https://raw.githubusercontent.com/jupyter/design/master/logos/Badges/nbviewer_badge.svg)](https://nbviewer.jupyter.org/github/UncleCJ/advent-of-code/blob/master/2015/18/code.ipynb) [![Binder](https://mybinder.org/badge_logo.svg)](https://mybinder.org/v2/gh/UncleCJ/advent-of-code/master?filepath=2015%2F18%2Fcode.ipynb)"
   ]
  },
  {
   "cell_type": "code",
   "execution_count": 1,
   "metadata": {},
   "outputs": [
    {
     "name": "stdout",
     "output_type": "stream",
     "text": [
      "Writing 'downloaded' (dict) to file 'downloaded'.\n"
     ]
    }
   ],
   "source": [
    "from IPython.display import HTML\n",
    "import sys\n",
    "sys.path.append('../../')\n",
    "import common\n",
    "\n",
    "downloaded = common.refresh()\n",
    "%store downloaded >downloaded"
   ]
  },
  {
   "cell_type": "markdown",
   "metadata": {},
   "source": [
    "## Part One"
   ]
  },
  {
   "cell_type": "code",
   "execution_count": 2,
   "metadata": {},
   "outputs": [
    {
     "data": {
      "text/html": [
       "<h2>--- Day 18: Like a GIF For Your Yard ---</h2><p>After the <a href=\"6\">million lights incident</a>, the fire code has gotten stricter: now, at most <span title=\"This is an outrage!  We're going to the next town hall meeting.\">ten thousand lights</span> are allowed.  You arrange them in a 100x100 grid.</p>\n",
       "<p>Never one to let you down, Santa again mails you instructions on the ideal lighting configuration.  With so few lights, he says, you'll have to resort to <em>animation</em>.</p>\n",
       "<p>Start by setting your lights to the included initial configuration (your puzzle input).  A <code>#</code> means \"on\", and a <code>.</code> means \"off\".</p>\n",
       "<p>Then, animate your grid in steps, where each step decides the next configuration based on the current one.  Each light's next state (either on or off) depends on its current state and the current states of the eight lights adjacent to it (including diagonals).  Lights on the edge of the grid might have fewer than eight neighbors; the missing ones always count as \"off\".</p>\n",
       "<p>For example, in a simplified 6x6 grid, the light marked <code>A</code> has the neighbors numbered <code>1</code> through <code>8</code>, and the light marked <code>B</code>, which is on an edge, only has the neighbors marked <code>1</code> through <code>5</code>:</p>\n",
       "<pre><code>1B5...\n",
       "234...\n",
       "......\n",
       "..123.\n",
       "..8A4.\n",
       "..765.\n",
       "</code></pre>\n",
       "<p>The state a light should have next is based on its current state (on or off) plus the <em>number of neighbors that are on</em>:</p>\n",
       "<ul>\n",
       "<li>A light which is <em>on</em> stays on when <code>2</code> or <code>3</code> neighbors are on, and turns off otherwise.</li>\n",
       "<li>A light which is <em>off</em> turns on if exactly <code>3</code> neighbors are on, and stays off otherwise.</li>\n",
       "</ul>\n",
       "<p>All of the lights update simultaneously; they all consider the same current state before moving to the next.</p>\n",
       "<p>Here's a few steps from an example configuration of another 6x6 grid:</p>\n",
       "<pre><code>Initial state:\n",
       ".#.#.#\n",
       "...##.\n",
       "#....#\n",
       "..#...\n",
       "#.#..#\n",
       "####..\n",
       "\n",
       "After 1 step:\n",
       "..##..\n",
       "..##.#\n",
       "...##.\n",
       "......\n",
       "#.....\n",
       "#.##..\n",
       "\n",
       "After 2 steps:\n",
       "..###.\n",
       "......\n",
       "..###.\n",
       "......\n",
       ".#....\n",
       ".#....\n",
       "\n",
       "After 3 steps:\n",
       "...#..\n",
       "......\n",
       "...#..\n",
       "..##..\n",
       "......\n",
       "......\n",
       "\n",
       "After 4 steps:\n",
       "......\n",
       "......\n",
       "..##..\n",
       "..##..\n",
       "......\n",
       "......\n",
       "</code></pre>\n",
       "<p>After <code>4</code> steps, this example has four lights on.</p>\n",
       "<p>In your grid of 100x100 lights, given your initial configuration, <em>how many lights are on after 100 steps</em>?</p>\n"
      ],
      "text/plain": [
       "<IPython.core.display.HTML object>"
      ]
     },
     "execution_count": 2,
     "metadata": {},
     "output_type": "execute_result"
    }
   ],
   "source": [
    "HTML(downloaded['part1'])"
   ]
  },
  {
   "cell_type": "markdown",
   "metadata": {},
   "source": [
    "## Boilerplate\n",
    "\n",
    "Let's try using [pycodestyle_magic](https://github.com/mattijn/pycodestyle_magic) with pycodestyle (flake8 stopped working for me in VS Code Jupyter). Now how does type checking work?"
   ]
  },
  {
   "cell_type": "code",
   "execution_count": 3,
   "metadata": {},
   "outputs": [],
   "source": [
    "%load_ext pycodestyle_magic"
   ]
  },
  {
   "cell_type": "code",
   "execution_count": 4,
   "metadata": {},
   "outputs": [],
   "source": [
    "%pycodestyle_on"
   ]
  },
  {
   "cell_type": "markdown",
   "metadata": {},
   "source": [
    "## Comments\n",
    "\n",
    "..."
   ]
  },
  {
   "cell_type": "code",
   "execution_count": 6,
   "metadata": {},
   "outputs": [],
   "source": [
    "testdata = []\n",
    "\n",
    "# inputdata = downloaded['input']"
   ]
  },
  {
   "cell_type": "code",
   "execution_count": null,
   "metadata": {},
   "outputs": [],
   "source": [
    "# assert(my_part1_solution(testdata) == ...)"
   ]
  },
  {
   "cell_type": "code",
   "execution_count": null,
   "metadata": {},
   "outputs": [],
   "source": [
    "# my_part1_solution(inputdata)"
   ]
  },
  {
   "cell_type": "code",
   "execution_count": 7,
   "metadata": {},
   "outputs": [
    {
     "data": {
      "text/html": [
       "\n",
       "<p>To play, please identify yourself via one of these services:</p>\n",
       "<p><a href=\"/auth/github\">[GitHub]</a> <a href=\"/auth/google\">[Google]</a> <a href=\"/auth/twitter\">[Twitter]</a> <a href=\"/auth/reddit\">[Reddit]</a> <span class=\"quiet\">- <a href=\"/about#faq_auth\">[How Does Auth Work?]</a></span></p>\n"
      ],
      "text/plain": [
       "<IPython.core.display.HTML object>"
      ]
     },
     "execution_count": 7,
     "metadata": {},
     "output_type": "execute_result"
    }
   ],
   "source": [
    "HTML(downloaded['part1_footer'])"
   ]
  },
  {
   "cell_type": "markdown",
   "metadata": {},
   "source": [
    "## Part Two"
   ]
  },
  {
   "cell_type": "code",
   "execution_count": null,
   "metadata": {},
   "outputs": [],
   "source": [
    "# HTML(downloaded['part2'])"
   ]
  },
  {
   "cell_type": "code",
   "execution_count": null,
   "metadata": {},
   "outputs": [],
   "source": [
    "# HTML(downloaded['part2_footer'])"
   ]
  },
  {
   "cell_type": "code",
   "execution_count": null,
   "metadata": {},
   "outputs": [],
   "source": [
    "# assert(my_part2_solution(testdata) == ...)"
   ]
  },
  {
   "cell_type": "code",
   "execution_count": null,
   "metadata": {},
   "outputs": [],
   "source": [
    "# my_part2_solution(inputdata)"
   ]
  }
 ],
 "metadata": {
  "interpreter": {
   "hash": "a810c47e9f862a52cb82220367a790c918f0c4e70fa43ccbcf1a78b131f3592d"
  },
  "kernelspec": {
   "display_name": "Python 3.8.2 64-bit",
   "language": "python",
   "name": "python3"
  },
  "language_info": {
   "codemirror_mode": {
    "name": "ipython",
    "version": 3
   },
   "file_extension": ".py",
   "mimetype": "text/x-python",
   "name": "python",
   "nbconvert_exporter": "python",
   "pygments_lexer": "ipython3",
   "version": "3.10.0"
  },
  "metadata": {
   "interpreter": {
    "hash": "31f2aee4e71d21fbe5cf8b01ff0e069b9275f58929596ceb00d14d90e3e16cd6"
   }
  }
 },
 "nbformat": 4,
 "nbformat_minor": 2
}

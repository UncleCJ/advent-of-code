{
 "cells": [
  {
   "cell_type": "markdown",
   "metadata": {},
   "source": [
    "# Day 18: Like a GIF For Your Yard\n",
    "\n",
    "[*Advent of Code 2015 day 18*](https://adventofcode.com/2015/day/18) and [*solution megathread*](https://www.reddit.com/3xb3cj)\n",
    "\n",
    "[![nbviewer](https://raw.githubusercontent.com/jupyter/design/master/logos/Badges/nbviewer_badge.svg)](https://nbviewer.jupyter.org/github/UncleCJ/advent-of-code/blob/cj/2015/18/code.ipynb) [![Binder](https://mybinder.org/badge_logo.svg)](https://mybinder.org/v2/gh/UncleCJ/advent-of-code/cj?filepath=2015%2F18%2Fcode.ipynb)"
   ]
  },
  {
   "cell_type": "code",
   "execution_count": 1,
   "metadata": {},
   "outputs": [
    {
     "name": "stderr",
     "output_type": "stream",
     "text": [
      "Version 1.0.4\n"
     ]
    }
   ],
   "source": [
    "import sys\n",
    "sys.path.append('../../')\n",
    "\n",
    "\n",
    "%load_ext nb_mypy\n",
    "%nb_mypy On"
   ]
  },
  {
   "cell_type": "code",
   "execution_count": 2,
   "metadata": {},
   "outputs": [
    {
     "name": "stdout",
     "output_type": "stream",
     "text": [
      "Writing 'downloaded' (dict) to file 'downloaded'.\n"
     ]
    }
   ],
   "source": [
    "import common\n",
    "\n",
    "\n",
    "downloaded = common.refresh()\n",
    "%store downloaded >downloaded\n",
    "\n",
    "%load_ext pycodestyle_magic\n",
    "%pycodestyle_on"
   ]
  },
  {
   "cell_type": "markdown",
   "metadata": {},
   "source": [
    "## Part One"
   ]
  },
  {
   "cell_type": "code",
   "execution_count": 3,
   "metadata": {},
   "outputs": [
    {
     "data": {
      "text/html": [
       "<h2>--- Day 18: Like a GIF For Your Yard ---</h2><p>After the <a href=\"6\">million lights incident</a>, the fire code has gotten stricter: now, at most <span title=\"This is an outrage!  We're going to the next town hall meeting.\">ten thousand lights</span> are allowed.  You arrange them in a 100x100 grid.</p>\n",
       "<p>Never one to let you down, Santa again mails you instructions on the ideal lighting configuration.  With so few lights, he says, you'll have to resort to <em>animation</em>.</p>\n",
       "<p>Start by setting your lights to the included initial configuration (your puzzle input).  A <code>#</code> means \"on\", and a <code>.</code> means \"off\".</p>\n",
       "<p>Then, animate your grid in steps, where each step decides the next configuration based on the current one.  Each light's next state (either on or off) depends on its current state and the current states of the eight lights adjacent to it (including diagonals).  Lights on the edge of the grid might have fewer than eight neighbors; the missing ones always count as \"off\".</p>\n",
       "<p>For example, in a simplified 6x6 grid, the light marked <code>A</code> has the neighbors numbered <code>1</code> through <code>8</code>, and the light marked <code>B</code>, which is on an edge, only has the neighbors marked <code>1</code> through <code>5</code>:</p>\n",
       "<pre><code>1B5...\n",
       "234...\n",
       "......\n",
       "..123.\n",
       "..8A4.\n",
       "..765.\n",
       "</code></pre>\n",
       "<p>The state a light should have next is based on its current state (on or off) plus the <em>number of neighbors that are on</em>:</p>\n",
       "<ul>\n",
       "<li>A light which is <em>on</em> stays on when <code>2</code> or <code>3</code> neighbors are on, and turns off otherwise.</li>\n",
       "<li>A light which is <em>off</em> turns on if exactly <code>3</code> neighbors are on, and stays off otherwise.</li>\n",
       "</ul>\n",
       "<p>All of the lights update simultaneously; they all consider the same current state before moving to the next.</p>\n",
       "<p>Here's a few steps from an example configuration of another 6x6 grid:</p>\n",
       "<pre><code>Initial state:\n",
       ".#.#.#\n",
       "...##.\n",
       "#....#\n",
       "..#...\n",
       "#.#..#\n",
       "####..\n",
       "\n",
       "After 1 step:\n",
       "..##..\n",
       "..##.#\n",
       "...##.\n",
       "......\n",
       "#.....\n",
       "#.##..\n",
       "\n",
       "After 2 steps:\n",
       "..###.\n",
       "......\n",
       "..###.\n",
       "......\n",
       ".#....\n",
       ".#....\n",
       "\n",
       "After 3 steps:\n",
       "...#..\n",
       "......\n",
       "...#..\n",
       "..##..\n",
       "......\n",
       "......\n",
       "\n",
       "After 4 steps:\n",
       "......\n",
       "......\n",
       "..##..\n",
       "..##..\n",
       "......\n",
       "......\n",
       "</code></pre>\n",
       "<p>After <code>4</code> steps, this example has four lights on.</p>\n",
       "<p>In your grid of 100x100 lights, given your initial configuration, <em>how many lights are on after 100 steps</em>?</p>\n"
      ],
      "text/plain": [
       "<IPython.core.display.HTML object>"
      ]
     },
     "execution_count": 3,
     "metadata": {},
     "output_type": "execute_result"
    }
   ],
   "source": [
    "from IPython.display import HTML\n",
    "\n",
    "\n",
    "HTML(downloaded['part1'])"
   ]
  },
  {
   "cell_type": "markdown",
   "metadata": {},
   "source": [
    "## Comments\n",
    "\n",
    "Ho hum... another game of life? Let's do it!\n",
    "\n",
    "Yup, could solve it, wasn't too painful, a bit of index fiddling of course - the neighbour generator and early break criteria probably sped things up a bit. Not sure about the `#` and `.` rather than lists of bools - in a couple of statements immutable strings are of course slower, but in general it simplifies a lot to assume that much about the context of the problem."
   ]
  },
  {
   "cell_type": "code",
   "execution_count": 4,
   "metadata": {},
   "outputs": [],
   "source": [
    "testdata = \"\"\"Initial state:\n",
    ".#.#.#\n",
    "...##.\n",
    "#....#\n",
    "..#...\n",
    "#.#..#\n",
    "####..\n",
    "\n",
    "After 1 step:\n",
    "..##..\n",
    "..##.#\n",
    "...##.\n",
    "......\n",
    "#.....\n",
    "#.##..\n",
    "\n",
    "After 2 steps:\n",
    "..###.\n",
    "......\n",
    "..###.\n",
    "......\n",
    ".#....\n",
    ".#....\n",
    "\n",
    "After 3 steps:\n",
    "...#..\n",
    "......\n",
    "...#..\n",
    "..##..\n",
    "......\n",
    "......\n",
    "\n",
    "After 4 steps:\n",
    "......\n",
    "......\n",
    "..##..\n",
    "..##..\n",
    "......\n",
    "......\"\"\".splitlines()\n",
    "\n",
    "inputdata = downloaded['input'].splitlines()"
   ]
  },
  {
   "cell_type": "code",
   "execution_count": 5,
   "metadata": {},
   "outputs": [
    {
     "data": {
      "text/plain": [
       "'#...##......#......##.##..#...... (100x100)'"
      ]
     },
     "metadata": {},
     "output_type": "display_data"
    }
   ],
   "source": [
    "from IPython.display import display\n",
    "\n",
    "\n",
    "display(f'{inputdata[0][:30]}... ({len(inputdata[0])}x{len(inputdata)})')"
   ]
  },
  {
   "cell_type": "code",
   "execution_count": 6,
   "metadata": {},
   "outputs": [],
   "source": [
    "from typing import Tuple, List\n",
    "\n",
    "\n",
    "def parse_data(testdata: List[str]) -> \\\n",
    "        List[List[str]]:\n",
    "    test_output: List[List] = []\n",
    "    new_block = True\n",
    "    for line in testdata:\n",
    "        if new_block:\n",
    "            test_output.append(list())\n",
    "            new_block = False\n",
    "            continue\n",
    "        elif line == \"\":\n",
    "            new_block = True\n",
    "            continue\n",
    "\n",
    "        test_output[-1].append(line)\n",
    "    return test_output\n",
    "\n",
    "\n",
    "testgrids = parse_data(testdata)"
   ]
  },
  {
   "cell_type": "code",
   "execution_count": 7,
   "metadata": {},
   "outputs": [],
   "source": [
    "def pad_grid(grid: List[str]) -> List[str]:\n",
    "    size = len(grid)\n",
    "    return ['.' * (size + 2),\n",
    "            *[f'.{line}.' for line in grid],\n",
    "            '.' * (size + 2)]\n",
    "\n",
    "\n",
    "def display_grid(either_grid: List[str]) -> None:\n",
    "    display(*either_grid)"
   ]
  },
  {
   "cell_type": "code",
   "execution_count": 8,
   "metadata": {},
   "outputs": [
    {
     "data": {
      "text/plain": [
       "'........'"
      ]
     },
     "metadata": {},
     "output_type": "display_data"
    },
    {
     "data": {
      "text/plain": [
       "'..#.#.#.'"
      ]
     },
     "metadata": {},
     "output_type": "display_data"
    },
    {
     "data": {
      "text/plain": [
       "'....##..'"
      ]
     },
     "metadata": {},
     "output_type": "display_data"
    },
    {
     "data": {
      "text/plain": [
       "'.#....#.'"
      ]
     },
     "metadata": {},
     "output_type": "display_data"
    },
    {
     "data": {
      "text/plain": [
       "'...#....'"
      ]
     },
     "metadata": {},
     "output_type": "display_data"
    },
    {
     "data": {
      "text/plain": [
       "'.#.#..#.'"
      ]
     },
     "metadata": {},
     "output_type": "display_data"
    },
    {
     "data": {
      "text/plain": [
       "'.####...'"
      ]
     },
     "metadata": {},
     "output_type": "display_data"
    },
    {
     "data": {
      "text/plain": [
       "'........'"
      ]
     },
     "metadata": {},
     "output_type": "display_data"
    }
   ],
   "source": [
    "display_grid(pad_grid(testgrids[0]))"
   ]
  },
  {
   "cell_type": "code",
   "execution_count": 9,
   "metadata": {},
   "outputs": [],
   "source": [
    "from typing import Iterable\n",
    "\n",
    "\n",
    "def iter_neighbours(padded_grid: List[str],\n",
    "                    row: int,\n",
    "                    col: int,\n",
    "                    part2: bool = False) -> \\\n",
    "        Iterable[str]:\n",
    "    size = len(padded_grid) - 2\n",
    "    # note the \"deltas\" range from 0 to 2 to index in the padded grid\n",
    "    for row_delta in range(3):\n",
    "        for col_delta in range(3):\n",
    "            if row_delta != 1 or col_delta != 1:\n",
    "                n_row = row + row_delta\n",
    "                n_col = col + col_delta\n",
    "                if part2 and n_row in (1, size) and n_col in (1, size):\n",
    "                    yield '#'\n",
    "                else:\n",
    "                    yield padded_grid[n_row][n_col]"
   ]
  },
  {
   "cell_type": "code",
   "execution_count": 10,
   "metadata": {},
   "outputs": [
    {
     "data": {
      "text/plain": [
       "'.'"
      ]
     },
     "metadata": {},
     "output_type": "display_data"
    },
    {
     "data": {
      "text/plain": [
       "'.'"
      ]
     },
     "metadata": {},
     "output_type": "display_data"
    },
    {
     "data": {
      "text/plain": [
       "'.'"
      ]
     },
     "metadata": {},
     "output_type": "display_data"
    },
    {
     "data": {
      "text/plain": [
       "'.'"
      ]
     },
     "metadata": {},
     "output_type": "display_data"
    },
    {
     "data": {
      "text/plain": [
       "'#'"
      ]
     },
     "metadata": {},
     "output_type": "display_data"
    },
    {
     "data": {
      "text/plain": [
       "'.'"
      ]
     },
     "metadata": {},
     "output_type": "display_data"
    },
    {
     "data": {
      "text/plain": [
       "'.'"
      ]
     },
     "metadata": {},
     "output_type": "display_data"
    },
    {
     "data": {
      "text/plain": [
       "'.'"
      ]
     },
     "metadata": {},
     "output_type": "display_data"
    }
   ],
   "source": [
    "display(*iter_neighbours(pad_grid(testgrids[0]), 0, 0))"
   ]
  },
  {
   "cell_type": "code",
   "execution_count": 11,
   "metadata": {},
   "outputs": [],
   "source": [
    "def next_light(current: str, neighbours: Iterable) -> str:\n",
    "    neighbours_on = 0\n",
    "    for neighbour in neighbours:\n",
    "        if neighbour == '#':\n",
    "            neighbours_on += 1\n",
    "\n",
    "        if neighbours_on > 3:\n",
    "            return '.'\n",
    "    if neighbours_on == 3:\n",
    "        return '#'\n",
    "    elif neighbours_on == 2 and current == '#':\n",
    "        return '#'\n",
    "    else:\n",
    "        return '.'\n",
    "\n",
    "\n",
    "def next_grid(grid: List[str], part2: bool = False) -> List[str]:\n",
    "    output: List[str] = list()\n",
    "    size = len(grid)\n",
    "    padded_grid = pad_grid(grid)\n",
    "    for row in range(size):\n",
    "        line = [next_light(grid[row][col],\n",
    "                           iter_neighbours(padded_grid, row, col, part2))\n",
    "                for col in range(size)]\n",
    "        if part2 and row in (0, size - 1):\n",
    "            line = ['#', *line[1:-1], '#']\n",
    "        output.append(''.join(line))\n",
    "    return output"
   ]
  },
  {
   "cell_type": "code",
   "execution_count": 12,
   "metadata": {},
   "outputs": [
    {
     "data": {
      "text/plain": [
       "'#.##.#'"
      ]
     },
     "metadata": {},
     "output_type": "display_data"
    },
    {
     "data": {
      "text/plain": [
       "'####.#'"
      ]
     },
     "metadata": {},
     "output_type": "display_data"
    },
    {
     "data": {
      "text/plain": [
       "'...##.'"
      ]
     },
     "metadata": {},
     "output_type": "display_data"
    },
    {
     "data": {
      "text/plain": [
       "'......'"
      ]
     },
     "metadata": {},
     "output_type": "display_data"
    },
    {
     "data": {
      "text/plain": [
       "'#...#.'"
      ]
     },
     "metadata": {},
     "output_type": "display_data"
    },
    {
     "data": {
      "text/plain": [
       "'#.####'"
      ]
     },
     "metadata": {},
     "output_type": "display_data"
    }
   ],
   "source": [
    "display_grid(next_grid(testgrids[0], part2=True))"
   ]
  },
  {
   "cell_type": "code",
   "execution_count": 13,
   "metadata": {},
   "outputs": [],
   "source": [
    "def my_part1_solution(inputdata: List[str]) -> int:\n",
    "    grid = inputdata\n",
    "    for iteration in range(100):\n",
    "        grid = next_grid(grid)\n",
    "    return sum(sum(c == '#' for c in line) for line in grid)"
   ]
  },
  {
   "cell_type": "code",
   "execution_count": 14,
   "metadata": {},
   "outputs": [
    {
     "data": {
      "text/plain": [
       "814"
      ]
     },
     "execution_count": 14,
     "metadata": {},
     "output_type": "execute_result"
    }
   ],
   "source": [
    "my_part1_solution(inputdata)"
   ]
  },
  {
   "cell_type": "code",
   "execution_count": 15,
   "metadata": {},
   "outputs": [
    {
     "data": {
      "text/html": [
       "\n",
       "<p>Your puzzle answer was <code>814</code>.</p>"
      ],
      "text/plain": [
       "<IPython.core.display.HTML object>"
      ]
     },
     "execution_count": 15,
     "metadata": {},
     "output_type": "execute_result"
    }
   ],
   "source": [
    "HTML(downloaded['part1_footer'])"
   ]
  },
  {
   "cell_type": "markdown",
   "metadata": {},
   "source": [
    "## Part Two"
   ]
  },
  {
   "cell_type": "code",
   "execution_count": 16,
   "metadata": {},
   "outputs": [
    {
     "data": {
      "text/html": [
       "<h2 id=\"part2\">--- Part Two ---</h2><p>You flip the instructions over; Santa goes on to point out that this is all just an implementation of <a href=\"https://en.wikipedia.org/wiki/Conway's_Game_of_Life\">Conway's Game of Life</a>.  At least, it was, until you notice that something's wrong with the grid of lights you bought: four lights, one in each corner, are <em>stuck on</em> and can't be turned off.  The example above will actually run like this:</p>\n",
       "<pre><code>Initial state:\n",
       "##.#.#\n",
       "...##.\n",
       "#....#\n",
       "..#...\n",
       "#.#..#\n",
       "####.#\n",
       "\n",
       "After 1 step:\n",
       "#.##.#\n",
       "####.#\n",
       "...##.\n",
       "......\n",
       "#...#.\n",
       "#.####\n",
       "\n",
       "After 2 steps:\n",
       "#..#.#\n",
       "#....#\n",
       ".#.##.\n",
       "...##.\n",
       ".#..##\n",
       "##.###\n",
       "\n",
       "After 3 steps:\n",
       "#...##\n",
       "####.#\n",
       "..##.#\n",
       "......\n",
       "##....\n",
       "####.#\n",
       "\n",
       "After 4 steps:\n",
       "#.####\n",
       "#....#\n",
       "...#..\n",
       ".##...\n",
       "#.....\n",
       "#.#..#\n",
       "\n",
       "After 5 steps:\n",
       "##.###\n",
       ".##..#\n",
       ".##...\n",
       ".##...\n",
       "#.#...\n",
       "##...#\n",
       "</code></pre>\n",
       "<p>After <code>5</code> steps, this example now has <code>17</code> lights on.</p>\n",
       "<p>In your grid of 100x100 lights, given your initial configuration, but with the four corners always in the <em>on</em> state, <em>how many lights are on after 100 steps</em>?</p>\n"
      ],
      "text/plain": [
       "<IPython.core.display.HTML object>"
      ]
     },
     "execution_count": 16,
     "metadata": {},
     "output_type": "execute_result"
    }
   ],
   "source": [
    "HTML(downloaded['part2'])"
   ]
  },
  {
   "cell_type": "code",
   "execution_count": 17,
   "metadata": {},
   "outputs": [],
   "source": [
    "def my_part2_solution(inputdata: List[str]) -> int:\n",
    "    grid = inputdata\n",
    "    for iteration in range(100):\n",
    "        grid = next_grid(grid, part2=True)\n",
    "    return sum(sum(c == '#' for c in line) for line in grid)"
   ]
  },
  {
   "cell_type": "code",
   "execution_count": 18,
   "metadata": {},
   "outputs": [
    {
     "data": {
      "text/plain": [
       "924"
      ]
     },
     "execution_count": 18,
     "metadata": {},
     "output_type": "execute_result"
    }
   ],
   "source": [
    "my_part2_solution(inputdata)"
   ]
  },
  {
   "cell_type": "code",
   "execution_count": 19,
   "metadata": {},
   "outputs": [
    {
     "data": {
      "text/html": [
       "\n",
       "<p>Your puzzle answer was <code>924</code>.</p><p class=\"day-success\">Both parts of this puzzle are complete! They provide two gold stars: **</p>\n",
       "<p>At this point, you should <a href=\"/2015\">return to your Advent calendar</a> and try another puzzle.</p>\n",
       "<p>If you still want to see it, you can <a href=\"18/input\" target=\"_blank\">get your puzzle input</a>.</p>\n",
       "<p>You can also <span class=\"share\">[Share<span class=\"share-content\">on\n",
       "  <a href=\"https://twitter.com/intent/tweet?text=I%27ve+completed+%22Like+a+GIF+For+Your+Yard%22+%2D+Day+18+%2D+Advent+of+Code+2015&amp;url=https%3A%2F%2Fadventofcode%2Ecom%2F2015%2Fday%2F18&amp;related=ericwastl&amp;hashtags=AdventOfCode\" target=\"_blank\">Twitter</a>\n",
       "  <a href=\"javascript:void(0);\" onclick=\"var mastodon_instance=prompt('Mastodon Instance / Server Name?'); if(typeof mastodon_instance==='string' && mastodon_instance.length){this.href='https://'+mastodon_instance+'/share?text=I%27ve+completed+%22Like+a+GIF+For+Your+Yard%22+%2D+Day+18+%2D+Advent+of+Code+2015+%23AdventOfCode+https%3A%2F%2Fadventofcode%2Ecom%2F2015%2Fday%2F18'}else{return false;}\" target=\"_blank\">Mastodon</a\n",
       "></span>]</span> this puzzle.</p>\n"
      ],
      "text/plain": [
       "<IPython.core.display.HTML object>"
      ]
     },
     "execution_count": 19,
     "metadata": {},
     "output_type": "execute_result"
    }
   ],
   "source": [
    "HTML(downloaded['part2_footer'])"
   ]
  }
 ],
 "metadata": {
  "kernelspec": {
   "display_name": "Python 3.10.6 ('venv': venv)",
   "language": "python",
   "name": "python3"
  },
  "language_info": {
   "codemirror_mode": {
    "name": "ipython",
    "version": 3
   },
   "file_extension": ".py",
   "mimetype": "text/x-python",
   "name": "python",
   "nbconvert_exporter": "python",
   "pygments_lexer": "ipython3",
   "version": "3.10.6"
  },
  "metadata": {
   "interpreter": {
    "hash": "31f2aee4e71d21fbe5cf8b01ff0e069b9275f58929596ceb00d14d90e3e16cd6"
   }
  },
  "vscode": {
   "interpreter": {
    "hash": "1bc2c3908c007cf9ce21a098f93b8bf6135208cc693d7eb2db76831745e909df"
   }
  }
 },
 "nbformat": 4,
 "nbformat_minor": 2
}

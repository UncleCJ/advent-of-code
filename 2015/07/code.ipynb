{
 "cells": [
  {
   "cell_type": "markdown",
   "metadata": {},
   "source": [
    "# Day 7: Some Assembly Required\n",
    "\n",
    "[*Advent of Code 2015 day 7*](https://adventofcode.com/2015/day/7) and [*solution megathread*](https://redd.it/3vr4m4)\n",
    "\n",
    "[![nbviewer](https://raw.githubusercontent.com/jupyter/design/master/logos/Badges/nbviewer_badge.svg)](https://nbviewer.jupyter.org/github/UncleCJ/advent-of-code/blob/cj/2015/07/code.ipynb) [![Binder](https://mybinder.org/badge_logo.svg)](https://mybinder.org/v2/gh/UncleCJ/advent-of-code/cj?filepath=2015%2F07%2Fcode.ipynb)"
   ]
  },
  {
   "cell_type": "code",
   "execution_count": 53,
   "metadata": {},
   "outputs": [
    {
     "name": "stderr",
     "output_type": "stream",
     "text": [
      "4:1: E402 module level import not at top of file\n",
      "7:20: E225 missing whitespace around operator\n"
     ]
    }
   ],
   "source": [
    "from IPython.display import HTML\n",
    "import sys\n",
    "sys.path.append('../../')\n",
    "import common\n",
    "\n",
    "downloaded = common.refresh()\n",
    "%store downloaded >downloaded"
   ]
  },
  {
   "cell_type": "code",
   "execution_count": 54,
   "metadata": {},
   "outputs": [
    {
     "data": {
      "text/html": [
       "<h2>--- Day 7: Some Assembly Required ---</h2><p>This year, Santa brought little Bobby Tables a set of wires and <a href=\"https://en.wikipedia.org/wiki/Bitwise_operation\">bitwise logic gates</a>!  Unfortunately, little Bobby is a little under the recommended age range, and he needs help <span title=\"You had one of these as a kid, right?\">assembling the circuit</span>.</p>\n",
       "<p>Each wire has an identifier (some lowercase letters) and can carry a <a href=\"https://en.wikipedia.org/wiki/16-bit\">16-bit</a> signal (a number from <code>0</code> to <code>65535</code>).  A signal is provided to each wire by a gate, another wire, or some specific value. Each wire can only get a signal from one source, but can provide its signal to multiple destinations.  A gate provides no signal until all of its inputs have a signal.</p>\n",
       "<p>The included instructions booklet describes how to connect the parts together: <code>x AND y -> z</code> means to connect wires <code>x</code> and <code>y</code> to an AND gate, and then connect its output to wire <code>z</code>.</p>\n",
       "<p>For example:</p>\n",
       "<ul>\n",
       "<li><code>123 -> x</code> means that the signal <code>123</code> is provided to wire <code>x</code>.</li>\n",
       "<li><code>x AND y -> z</code> means that the <a href=\"https://en.wikipedia.org/wiki/Bitwise_operation#AND\">bitwise AND</a> of wire <code>x</code> and wire <code>y</code> is provided to wire <code>z</code>.</li>\n",
       "<li><code>p LSHIFT 2 -> q</code> means that the value from wire <code>p</code> is <a href=\"https://en.wikipedia.org/wiki/Logical_shift\">left-shifted</a> by <code>2</code> and then provided to wire <code>q</code>.</li>\n",
       "<li><code>NOT e -> f</code> means that the <a href=\"https://en.wikipedia.org/wiki/Bitwise_operation#NOT\">bitwise complement</a> of the value from wire <code>e</code> is provided to wire <code>f</code>.</li>\n",
       "</ul>\n",
       "<p>Other possible gates include <code>OR</code> (<a href=\"https://en.wikipedia.org/wiki/Bitwise_operation#OR\">bitwise OR</a>) and <code>RSHIFT</code> (<a href=\"https://en.wikipedia.org/wiki/Logical_shift\">right-shift</a>).  If, for some reason, you'd like to <em>emulate</em> the circuit instead, almost all programming languages (for example, <a href=\"https://en.wikipedia.org/wiki/Bitwise_operations_in_C\">C</a>, <a href=\"https://developer.mozilla.org/en-US/docs/Web/JavaScript/Reference/Operators/Bitwise_Operators\">JavaScript</a>, or <a href=\"https://wiki.python.org/moin/BitwiseOperators\">Python</a>) provide operators for these gates.</p>\n",
       "<p>For example, here is a simple circuit:</p>\n",
       "<pre><code>123 -> x\n",
       "456 -> y\n",
       "x AND y -> d\n",
       "x OR y -> e\n",
       "x LSHIFT 2 -> f\n",
       "y RSHIFT 2 -> g\n",
       "NOT x -> h\n",
       "NOT y -> i\n",
       "</code></pre>\n",
       "<p>After it is run, these are the signals on the wires:</p>\n",
       "<pre><code>d: 72\n",
       "e: 507\n",
       "f: 492\n",
       "g: 114\n",
       "h: 65412\n",
       "i: 65079\n",
       "x: 123\n",
       "y: 456\n",
       "</code></pre>\n",
       "<p>In little Bobby's kit's instructions booklet (provided as your puzzle input), what signal is ultimately provided to <em>wire <code>a</code></em>?</p>\n"
      ],
      "text/plain": [
       "<IPython.core.display.HTML object>"
      ]
     },
     "execution_count": 54,
     "metadata": {},
     "output_type": "execute_result"
    }
   ],
   "source": [
    "HTML(downloaded['part1'])"
   ]
  },
  {
   "cell_type": "markdown",
   "metadata": {},
   "source": [
    "## Boilerplate\n",
    "\n",
    "Let's try using [pycodestyle_magic](https://github.com/mattijn/pycodestyle_magic) with pycodestyle (flake8 stopped working for me in VS Code Jupyter). Now how does type checking work?"
   ]
  },
  {
   "cell_type": "code",
   "execution_count": 55,
   "metadata": {},
   "outputs": [],
   "source": [
    "%load_ext pycodestyle_magic"
   ]
  },
  {
   "cell_type": "code",
   "execution_count": 56,
   "metadata": {},
   "outputs": [],
   "source": [
    "%pycodestyle_on"
   ]
  },
  {
   "cell_type": "markdown",
   "metadata": {},
   "source": [
    "## Comments\n",
    "\n",
    "..."
   ]
  },
  {
   "cell_type": "code",
   "execution_count": 57,
   "metadata": {},
   "outputs": [],
   "source": [
    "testdata = (['123 -> x',\n",
    "             '456 -> y',\n",
    "             'x AND y -> d',\n",
    "             'x OR y -> e',\n",
    "             'x LSHIFT 2 -> f',\n",
    "             'y RSHIFT 2 -> g',\n",
    "             'NOT x -> h',\n",
    "             'NOT y -> i'],\n",
    "            {'d': 72,\n",
    "             'e': 507,\n",
    "             'f': 492,\n",
    "             'g': 114,\n",
    "             'h': 65412,\n",
    "             'i': 65079,\n",
    "             'x': 123,\n",
    "             'y': 456})\n",
    "\n",
    "inputdata = downloaded['input'].splitlines()"
   ]
  },
  {
   "cell_type": "code",
   "execution_count": 58,
   "metadata": {},
   "outputs": [],
   "source": [
    "for data in inputdata:\n",
    "    print(data)"
   ]
  },
  {
   "cell_type": "code",
   "execution_count": 59,
   "metadata": {},
   "outputs": [],
   "source": [
    "from enum import Enum, auto\n",
    "\n",
    "\n",
    "class Gate(Enum):\n",
    "    INPUTVALUE = 'INPUTVALUE'\n",
    "    NOT = 'NOT'\n",
    "    LSHIFT = 'LSHIFT'\n",
    "    RSHIFT = 'RSHIFT'\n",
    "    AND = 'AND'\n",
    "    OR = 'OR'\n",
    "\n",
    "    def __str__(self):\n",
    "        return self.value\n",
    "\n",
    "\n",
    "class CircuitPart:\n",
    "    outwire = \"\"\n",
    "    p1 = p2 = \"\"\n",
    "    gate = None\n",
    "\n",
    "    def __init__(self, circuitstr: str):\n",
    "        split = circuitstr.split()\n",
    "        self.outwire = split[-1]\n",
    "        if len(split) == 3:\n",
    "            self.gate = Gate.INPUTVALUE\n",
    "            self.p1 = split[0]\n",
    "        elif len(split) == 4:\n",
    "            self.gate = Gate.NOT\n",
    "            self.p1 = split[1]\n",
    "        elif len(split) == 5:\n",
    "            self.gate = Gate[split[1]]\n",
    "            self.p1 = split[0]\n",
    "            self.p2 = split[2]\n",
    "\n",
    "    def __str__(self):\n",
    "        left = \"\"\n",
    "        if self.gate == Gate.INPUTVALUE:\n",
    "            left = self.p1\n",
    "        elif self.gate == Gate.NOT:\n",
    "            left = f'NOT {self.p1}'\n",
    "        else:\n",
    "            left = f'{self.p1} {self.gate} {self.p2}'\n",
    "        return f'{left} -> {self.outwire}'\n",
    "\n",
    "    def __repr__(self):\n",
    "        return self.__str__()"
   ]
  },
  {
   "cell_type": "code",
   "execution_count": 60,
   "metadata": {},
   "outputs": [],
   "source": [
    "for circuitstr in testdata[0]:\n",
    "    print(CircuitPart(circuitstr))"
   ]
  },
  {
   "cell_type": "code",
   "execution_count": 61,
   "metadata": {},
   "outputs": [],
   "source": [
    "import numpy as np\n",
    "\n",
    "\n",
    "wires = {}\n",
    "\n",
    "\n",
    "def evaluate_part(part: CircuitPart, wire_b_to_a=None) -> bool:\n",
    "    if part.p1 in wires.keys():\n",
    "        p1 = wires[part.p1]\n",
    "    else:\n",
    "        try:\n",
    "            p1 = np.uint16(part.p1)\n",
    "        # The argument was not a known wire but also not an integer\n",
    "        except ValueError:\n",
    "            return False\n",
    "\n",
    "    if part.gate == Gate.INPUTVALUE:\n",
    "        if wire_b_to_a and part.outwire == 'b':\n",
    "            wires['b'] = wire_b_to_a\n",
    "            return True\n",
    "\n",
    "        wires[part.outwire] = p1\n",
    "        return True\n",
    "    elif part.gate == Gate.NOT:\n",
    "        wires[part.outwire] = np.invert(p1)\n",
    "        return True\n",
    "\n",
    "    if part.p2 in wires.keys():\n",
    "        p2 = wires[part.p2]\n",
    "    else:\n",
    "        try:\n",
    "            p2 = np.uint16(part.p2)\n",
    "        except ValueError:\n",
    "            return False\n",
    "\n",
    "    if part.gate == Gate.LSHIFT:\n",
    "        wires[part.outwire] = np.left_shift(p1, p2)\n",
    "        return True\n",
    "    elif part.gate == Gate.RSHIFT:\n",
    "        wires[part.outwire] = np.right_shift(p1, p2)\n",
    "        return True\n",
    "    elif part.gate == Gate.OR:\n",
    "        wires[part.outwire] = np.bitwise_or(p1, p2)\n",
    "        return True\n",
    "    elif part.gate == Gate.AND:\n",
    "        wires[part.outwire] = np.bitwise_and(p1, p2)\n",
    "        return True\n",
    "    else:\n",
    "        raise ValueError(f'Could not apply {part} on {wires}')\n",
    "\n",
    "\n",
    "def evaluate_circuit(circuitparts, wire_b_to_a=None):\n",
    "    remainingparts = list(circuitparts)[:]\n",
    "    while len(remainingparts) > 0:\n",
    "        still_remaining = []\n",
    "        for part in remainingparts:\n",
    "            if not evaluate_part(part, wire_b_to_a=wire_b_to_a):\n",
    "                still_remaining.append(part)\n",
    "            # else:\n",
    "            #     print(f'Successfully evaluated {part} for {wires}')\n",
    "\n",
    "        if len(still_remaining) == len(remainingparts):\n",
    "            print('Failed to evaluate any remaining circuit parts: ' +\n",
    "                  f'{still_remaining} for {wires}')\n",
    "            return\n",
    "\n",
    "        remainingparts = still_remaining"
   ]
  },
  {
   "cell_type": "code",
   "execution_count": 62,
   "metadata": {
    "tags": []
   },
   "outputs": [],
   "source": [
    "wires = {}\n",
    "evaluate_circuit(map(CircuitPart, testdata[0]))\n",
    "print(wires)"
   ]
  },
  {
   "cell_type": "code",
   "execution_count": 63,
   "metadata": {
    "tags": []
   },
   "outputs": [],
   "source": [
    "wires = {}\n",
    "circuitparts = list(map(CircuitPart, inputdata))\n",
    "evaluate_circuit(circuitparts)\n",
    "print(wires['a'])"
   ]
  },
  {
   "cell_type": "code",
   "execution_count": 64,
   "metadata": {},
   "outputs": [
    {
     "data": {
      "text/html": [
       "\n",
       "<p>Your puzzle answer was <code>3176</code>.</p>"
      ],
      "text/plain": [
       "<IPython.core.display.HTML object>"
      ]
     },
     "execution_count": 64,
     "metadata": {},
     "output_type": "execute_result"
    }
   ],
   "source": [
    "HTML(downloaded['part1_footer'])"
   ]
  },
  {
   "cell_type": "code",
   "execution_count": 65,
   "metadata": {},
   "outputs": [
    {
     "data": {
      "text/html": [
       "<h2 id=\"part2\">--- Part Two ---</h2><p>Now, take the signal you got on wire <code>a</code>, override wire <code>b</code> to that signal, and reset the other wires (including wire <code>a</code>).  What new signal is ultimately provided to wire <code>a</code>?</p>\n"
      ],
      "text/plain": [
       "<IPython.core.display.HTML object>"
      ]
     },
     "execution_count": 65,
     "metadata": {},
     "output_type": "execute_result"
    }
   ],
   "source": [
    "HTML(downloaded['part2'])"
   ]
  },
  {
   "cell_type": "code",
   "execution_count": 66,
   "metadata": {
    "tags": []
   },
   "outputs": [],
   "source": [
    "b = wires['a']\n",
    "wires = {}\n",
    "evaluate_circuit(circuitparts, wire_b_to_a=b)\n",
    "print(wires['a'])"
   ]
  },
  {
   "cell_type": "code",
   "execution_count": 67,
   "metadata": {},
   "outputs": [
    {
     "data": {
      "text/html": [
       "\n",
       "<p>Your puzzle answer was <code>14710</code>.</p><p class=\"day-success\">Both parts of this puzzle are complete! They provide two gold stars: **</p>\n",
       "<p>At this point, you should <a href=\"/2015\">return to your Advent calendar</a> and try another puzzle.</p>\n",
       "<p>If you still want to see it, you can <a href=\"7/input\" target=\"_blank\">get your puzzle input</a>.</p>\n",
       "<p>You can also <span class=\"share\">[Share<span class=\"share-content\">on\n",
       "  <a href=\"https://twitter.com/intent/tweet?text=I%27ve+completed+%22Some+Assembly+Required%22+%2D+Day+7+%2D+Advent+of+Code+2015&amp;url=https%3A%2F%2Fadventofcode%2Ecom%2F2015%2Fday%2F7&amp;related=ericwastl&amp;hashtags=AdventOfCode\" target=\"_blank\">Twitter</a>\n",
       "  <a href=\"javascript:void(0);\" onclick=\"var mastodon_instance=prompt('Mastodon Instance / Server Name?'); if(typeof mastodon_instance==='string' && mastodon_instance.length){this.href='https://'+mastodon_instance+'/share?text=I%27ve+completed+%22Some+Assembly+Required%22+%2D+Day+7+%2D+Advent+of+Code+2015+%23AdventOfCode+https%3A%2F%2Fadventofcode%2Ecom%2F2015%2Fday%2F7'}else{return false;}\" target=\"_blank\">Mastodon</a\n",
       "></span>]</span> this puzzle.</p>\n"
      ],
      "text/plain": [
       "<IPython.core.display.HTML object>"
      ]
     },
     "execution_count": 67,
     "metadata": {},
     "output_type": "execute_result"
    }
   ],
   "source": [
    "HTML(downloaded['part2_footer'])"
   ]
  }
 ],
 "metadata": {
  "kernelspec": {
   "display_name": "Python 3.9.15 ('venv': venv)",
   "language": "python",
   "name": "python3"
  },
  "language_info": {
   "codemirror_mode": {
    "name": "ipython",
    "version": 3
   },
   "file_extension": ".py",
   "mimetype": "text/x-python",
   "name": "python",
   "nbconvert_exporter": "python",
   "pygments_lexer": "ipython3",
   "version": "3.9.15"
  },
  "vscode": {
   "interpreter": {
    "hash": "953efd6badefc8bd539414deffff5d1ee9e359bc7a1650a157b4fbde293a1337"
   }
  }
 },
 "nbformat": 4,
 "nbformat_minor": 4
}

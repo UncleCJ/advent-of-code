{
 "cells": [
  {
   "cell_type": "markdown",
   "metadata": {},
   "source": [
    "# Day 7: Some Assembly Required\n",
    "\n",
    "[*Advent of Code 2015 day 7*](https://adventofcode.com/2015/day/7) and [*solution megathread*](https://redd.it/3vr4m4)\n",
    "\n",
    "[![nbviewer](https://raw.githubusercontent.com/jupyter/design/master/logos/Badges/nbviewer_badge.svg)](https://nbviewer.jupyter.org/github/UncleCJ/advent-of-code/blob/cj/2015/07/code.ipynb) [![Binder](https://mybinder.org/badge_logo.svg)](https://mybinder.org/v2/gh/UncleCJ/advent-of-code/cj?filepath=2015%2F07%2Fcode.ipynb)"
   ]
  },
  {
   "cell_type": "code",
   "execution_count": 1,
   "metadata": {},
   "outputs": [
    {
     "name": "stdout",
     "output_type": "stream",
     "text": [
      "Writing 'downloaded' (dict) to file 'downloaded'.\n"
     ]
    }
   ],
   "source": [
    "from IPython.display import HTML\n",
    "import sys\n",
    "sys.path.append('../../')\n",
    "import common\n",
    "\n",
    "downloaded = common.refresh()\n",
    "%store downloaded >downloaded"
   ]
  },
  {
   "cell_type": "code",
   "execution_count": 2,
   "metadata": {},
   "outputs": [
    {
     "data": {
      "text/html": [
       "<article class=\"day-desc\"><h2>--- Day 7: Some Assembly Required ---</h2><p>This year, Santa brought little Bobby Tables a set of wires and <a href=\"https://en.wikipedia.org/wiki/Bitwise_operation\">bitwise logic gates</a>!  Unfortunately, little Bobby is a little under the recommended age range, and he needs help <span title=\"You had one of these as a kid, right?\">assembling the circuit</span>.</p>\n",
       "<p>Each wire has an identifier (some lowercase letters) and can carry a <a href=\"https://en.wikipedia.org/wiki/16-bit\">16-bit</a> signal (a number from <code>0</code> to <code>65535</code>).  A signal is provided to each wire by a gate, another wire, or some specific value. Each wire can only get a signal from one source, but can provide its signal to multiple destinations.  A gate provides no signal until all of its inputs have a signal.</p>\n",
       "<p>The included instructions booklet describes how to connect the parts together: <code>x AND y -> z</code> means to connect wires <code>x</code> and <code>y</code> to an AND gate, and then connect its output to wire <code>z</code>.</p>\n",
       "<p>For example:</p>\n",
       "<ul>\n",
       "<li><code>123 -> x</code> means that the signal <code>123</code> is provided to wire <code>x</code>.</li>\n",
       "<li><code>x AND y -> z</code> means that the <a href=\"https://en.wikipedia.org/wiki/Bitwise_operation#AND\">bitwise AND</a> of wire <code>x</code> and wire <code>y</code> is provided to wire <code>z</code>.</li>\n",
       "<li><code>p LSHIFT 2 -> q</code> means that the value from wire <code>p</code> is <a href=\"https://en.wikipedia.org/wiki/Logical_shift\">left-shifted</a> by <code>2</code> and then provided to wire <code>q</code>.</li>\n",
       "<li><code>NOT e -> f</code> means that the <a href=\"https://en.wikipedia.org/wiki/Bitwise_operation#NOT\">bitwise complement</a> of the value from wire <code>e</code> is provided to wire <code>f</code>.</li>\n",
       "</ul>\n",
       "<p>Other possible gates include <code>OR</code> (<a href=\"https://en.wikipedia.org/wiki/Bitwise_operation#OR\">bitwise OR</a>) and <code>RSHIFT</code> (<a href=\"https://en.wikipedia.org/wiki/Logical_shift\">right-shift</a>).  If, for some reason, you'd like to <em>emulate</em> the circuit instead, almost all programming languages (for example, <a href=\"https://en.wikipedia.org/wiki/Bitwise_operations_in_C\">C</a>, <a href=\"https://developer.mozilla.org/en-US/docs/Web/JavaScript/Reference/Operators/Bitwise_Operators\">JavaScript</a>, or <a href=\"https://wiki.python.org/moin/BitwiseOperators\">Python</a>) provide operators for these gates.</p>\n",
       "<p>For example, here is a simple circuit:</p>\n",
       "<pre><code>123 -> x\n",
       "456 -> y\n",
       "x AND y -> d\n",
       "x OR y -> e\n",
       "x LSHIFT 2 -> f\n",
       "y RSHIFT 2 -> g\n",
       "NOT x -> h\n",
       "NOT y -> i\n",
       "</code></pre>\n",
       "<p>After it is run, these are the signals on the wires:</p>\n",
       "<pre><code>d: 72\n",
       "e: 507\n",
       "f: 492\n",
       "g: 114\n",
       "h: 65412\n",
       "i: 65079\n",
       "x: 123\n",
       "y: 456\n",
       "</code></pre>\n",
       "<p>In little Bobby's kit's instructions booklet (provided as your puzzle input), what signal is ultimately provided to <em>wire <code>a</code></em>?</p>\n",
       "</article>"
      ],
      "text/plain": [
       "<IPython.core.display.HTML object>"
      ]
     },
     "execution_count": 2,
     "metadata": {},
     "output_type": "execute_result"
    }
   ],
   "source": [
    "HTML(downloaded['part1'])"
   ]
  },
  {
   "cell_type": "code",
   "execution_count": 3,
   "metadata": {},
   "outputs": [],
   "source": [
    "testdata = (['123 -> x',\n",
    "             '456 -> y',\n",
    "             'x AND y -> d',\n",
    "             'x OR y -> e',\n",
    "             'x LSHIFT 2 -> f',\n",
    "             'y RSHIFT 2 -> g',\n",
    "             'NOT x -> h',\n",
    "             'NOT y -> i'],\n",
    "            {'d': 72,\n",
    "             'e': 507,\n",
    "             'f': 492,\n",
    "             'g': 114,\n",
    "             'h': 65412,\n",
    "             'i': 65079,\n",
    "             'x': 123,\n",
    "             'y': 456})\n",
    "\n",
    "inputdata = downloaded['input'].splitlines()"
   ]
  },
  {
   "cell_type": "code",
   "execution_count": 4,
   "metadata": {},
   "outputs": [
    {
     "data": {
      "text/plain": [
       "['kg OR kf -> kh', 'ep OR eo -> eq', '44430 -> b', 'NOT gs -> gt']"
      ]
     },
     "execution_count": 4,
     "metadata": {},
     "output_type": "execute_result"
    }
   ],
   "source": [
    "inputdata[1:5]"
   ]
  },
  {
   "cell_type": "code",
   "execution_count": 5,
   "metadata": {},
   "outputs": [],
   "source": [
    "# def my_part1_solution(data):\n",
    "#     ml = MillionLights()\n",
    "#     return(ml.execute_instructions(list(map(LightInstruction, data))))"
   ]
  },
  {
   "cell_type": "code",
   "execution_count": 6,
   "metadata": {},
   "outputs": [
    {
     "data": {
      "text/html": [
       "<p>To begin, <a href=\"7/input\" target=\"_blank\">get your puzzle input</a>.</p>\n",
       "<form method=\"post\" action=\"7/answer\"><input type=\"hidden\" name=\"level\" value=\"1\"/><p>Answer: <input type=\"text\" name=\"answer\" autocomplete=\"off\"/> <input type=\"submit\" value=\"[Submit]\"/></p></form>\n",
       "<p>You can also <span class=\"share\">[Share<span class=\"share-content\">on\n",
       "  <a href=\"https://twitter.com/intent/tweet?text=%22Some+Assembly+Required%22+%2D+Day+7+%2D+Advent+of+Code+2015&amp;url=https%3A%2F%2Fadventofcode%2Ecom%2F2015%2Fday%2F7&amp;related=ericwastl&amp;hashtags=AdventOfCode\" target=\"_blank\">Twitter</a>\n",
       "  <a href=\"javascript:void(0);\" onclick=\"var mastodon_instance=prompt('Mastodon Instance / Server Name?'); if(typeof mastodon_instance==='string' && mastodon_instance.length){this.href='https://'+mastodon_instance+'/share?text=%22Some+Assembly+Required%22+%2D+Day+7+%2D+Advent+of+Code+2015+%23AdventOfCode+https%3A%2F%2Fadventofcode%2Ecom%2F2015%2Fday%2F7'}else{return false;}\" target=\"_blank\">Mastodon</a\n",
       "></span>]</span> this puzzle.</p>\n",
       "</main>\n",
       "\n",
       "<!-- ga -->\n",
       "<script>\n",
       "(function(i,s,o,g,r,a,m){i['GoogleAnalyticsObject']=r;i[r]=i[r]||function(){\n",
       "(i[r].q=i[r].q||[]).push(arguments)},i[r].l=1*new Date();a=s.createElement(o),\n",
       "m=s.getElementsByTagName(o)[0];a.async=1;a.src=g;m.parentNode.insertBefore(a,m)\n",
       "})(window,document,'script','//www.google-analytics.com/analytics.js','ga');\n",
       "ga('create', 'UA-69522494-1', 'auto');\n",
       "ga('set', 'anonymizeIp', true);\n",
       "ga('send', 'pageview');\n",
       "</script>\n",
       "<!-- /ga -->\n",
       "</body>\n",
       "</htm"
      ],
      "text/plain": [
       "<IPython.core.display.HTML object>"
      ]
     },
     "execution_count": 6,
     "metadata": {},
     "output_type": "execute_result"
    }
   ],
   "source": [
    "HTML(downloaded['part1_footer'])"
   ]
  },
  {
   "cell_type": "code",
   "execution_count": 7,
   "metadata": {},
   "outputs": [],
   "source": [
    "# HTML(downloaded['part2'])"
   ]
  },
  {
   "cell_type": "code",
   "execution_count": 8,
   "metadata": {},
   "outputs": [],
   "source": [
    "# starttime = timeit.default_timer()\n",
    "# ml = MillionLights2()\n",
    "# for instruction in inputdata:\n",
    "#    ml.execute_instruction(LightInstruction2(instruction))\n",
    "# print(ml.count_lit())\n",
    "# print(\"The time difference is :\", timeit.default_timer() - starttime)"
   ]
  },
  {
   "cell_type": "code",
   "execution_count": 9,
   "metadata": {},
   "outputs": [],
   "source": [
    "# HTML(downloaded['part2_footer'])"
   ]
  }
 ],
 "metadata": {
  "kernelspec": {
   "display_name": "Python 3",
   "language": "python",
   "name": "python3"
  },
  "language_info": {
   "codemirror_mode": {
    "name": "ipython",
    "version": 3
   },
   "file_extension": ".py",
   "mimetype": "text/x-python",
   "name": "python",
   "nbconvert_exporter": "python",
   "pygments_lexer": "ipython3",
   "version": "3.8.5"
  }
 },
 "nbformat": 4,
 "nbformat_minor": 2
}

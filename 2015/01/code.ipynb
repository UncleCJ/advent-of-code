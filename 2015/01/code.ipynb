{
 "metadata": {
  "language_info": {
   "codemirror_mode": {
    "name": "ipython",
    "version": 3
   },
   "file_extension": ".py",
   "mimetype": "text/x-python",
   "name": "python",
   "nbconvert_exporter": "python",
   "pygments_lexer": "ipython3",
   "version": "3.6.9"
  },
  "orig_nbformat": 2,
  "kernelspec": {
   "name": "python3",
   "display_name": "Python 3",
   "language": "python"
  }
 },
 "nbformat": 4,
 "nbformat_minor": 2,
 "cells": [
  {
   "source": [
    "# Day 1: Not Quite Lisp\n",
    "\n",
    "[*Advent of Code day 1 - 2015-12-01*](https://adventofcode.com/2015/day/1) and [*solution megathread*](https://www.reddit.com/3uyl7s)\n",
    "\n",
    "[![Binder](https://mybinder.org/badge_logo.svg)](https://mybinder.org/v2/gh/UncleCJ/advent-of-code/rework?filepath=2015%2F01%2Fcode.ipynb)"
   ],
   "cell_type": "markdown",
   "metadata": {}
  },
  {
   "cell_type": "code",
   "execution_count": 1,
   "metadata": {},
   "outputs": [],
   "source": [
    "from IPython.display import HTML\n",
    "import sys\n",
    "\n",
    "sys.path.append('../../')\n",
    "import common"
   ]
  },
  {
   "cell_type": "code",
   "execution_count": 2,
   "metadata": {},
   "outputs": [
    {
     "output_type": "stream",
     "name": "stdout",
     "text": [
      "Writing 'downloaded' (dict) to file 'downloaded'.\n"
     ]
    }
   ],
   "source": [
    "downloaded = common.refresh()\n",
    "%store downloaded >downloaded"
   ]
  },
  {
   "cell_type": "code",
   "execution_count": 3,
   "metadata": {},
   "outputs": [
    {
     "output_type": "execute_result",
     "data": {
      "text/plain": [
       "<IPython.core.display.HTML object>"
      ],
      "text/html": "<article class=\"day-desc\"><h2>--- Day 1: Not Quite Lisp ---</h2><p>Santa was hoping for a white Christmas, but his weather machine's \"snow\" function is powered by stars, and he's fresh out!  To save Christmas, he needs you to collect <em class=\"star\">fifty stars</em> by December 25th.</p>\n<p>Collect stars by helping Santa solve puzzles.  Two puzzles will be made available on each day in the Advent calendar; the second puzzle is unlocked when you complete the first.  Each puzzle grants <em class=\"star\">one star</em>. <span title=\"Also, some puzzles contain Easter eggs like this one. Yes, I know it's not traditional to do Advent calendars for Easter.\">Good luck!</span></p>\n<p>Here's an easy puzzle to warm you up.</p>\n<p>Santa is trying to deliver presents in a large apartment building, but he can't find the right floor - the directions he got are a little confusing. He starts on the ground floor (floor <code>0</code>) and then follows the instructions one character at a time.</p>\n<p>An opening parenthesis, <code>(</code>, means he should go up one floor, and a closing parenthesis, <code>)</code>, means he should go down one floor.</p>\n<p>The apartment building is very tall, and the basement is very deep; he will never find the top or bottom floors.</p>\n<p>For example:</p>\n<ul>\n<li><code>(())</code> and <code>()()</code> both result in floor <code>0</code>.</li>\n<li><code>(((</code> and <code>(()(()(</code> both result in floor <code>3</code>.</li>\n<li><code>))(((((</code> also results in floor <code>3</code>.</li>\n<li><code>())</code> and <code>))(</code> both result in floor <code>-1</code> (the first basement level).</li>\n<li><code>)))</code> and <code>)())())</code> both result in floor <code>-3</code>.</li>\n</ul>\n<p>To <em>what floor</em> do the instructions take Santa?</p>\n</article>"
     },
     "metadata": {},
     "execution_count": 3
    }
   ],
   "source": [
    "HTML(downloaded['part1'])"
   ]
  },
  {
   "cell_type": "code",
   "execution_count": 4,
   "metadata": {},
   "outputs": [],
   "source": [
    "testdata = [(list(d), r) for d, r in\n",
    "                [('(())', 0),\n",
    "                ('()()', 0),\n",
    "                ('(((', 3),\n",
    "                ('(()(()(', 3),\n",
    "                ('))(((((', 3),\n",
    "                ('())', -1),\n",
    "                ('))(', -1),\n",
    "                (')))', -3),\n",
    "                (')())())', -3)]]\n",
    "\n",
    "inputdata = list(downloaded['input'].strip())"
   ]
  },
  {
   "cell_type": "code",
   "execution_count": 5,
   "metadata": {},
   "outputs": [],
   "source": [
    "def evaluate_instruction_recurse(currfloor: int, instruction: list):\n",
    "    if not instruction:\n",
    "        return currfloor\n",
    "    i, *i_s = instruction  \n",
    "    currfloor += 1 if i == '(' else -1\n",
    "    if not i_s:\n",
    "        return currfloor\n",
    "    return evaluate_instruction_recurse(currfloor, i_s)"
   ]
  },
  {
   "cell_type": "code",
   "execution_count": 6,
   "metadata": {
    "tags": []
   },
   "outputs": [
    {
     "output_type": "stream",
     "name": "stdout",
     "text": [
      "(()) asserted to evaluate to 0\n()() asserted to evaluate to 0\n((( asserted to evaluate to 3\n(()(()( asserted to evaluate to 3\n))((((( asserted to evaluate to 3\n()) asserted to evaluate to -1\n))( asserted to evaluate to -1\n))) asserted to evaluate to -3\n)())()) asserted to evaluate to -3\n"
     ]
    }
   ],
   "source": [
    "for d, r in testdata:\n",
    "    assert(evaluate_instruction_recurse(0, d) == r)\n",
    "    print('{} asserted to evaluate to {}'.format(''.join(d), r))"
   ]
  },
  {
   "cell_type": "code",
   "execution_count": 7,
   "metadata": {},
   "outputs": [],
   "source": [
    "from collections import deque\n",
    "\n",
    "def evaluate_instruction_iter(currfloor: int, instructions: list):\n",
    "    instructions = deque(instructions)\n",
    "    while(instructions):\n",
    "        currfloor += 1 if instructions.popleft() == '(' else -1\n",
    "    return currfloor"
   ]
  },
  {
   "cell_type": "code",
   "execution_count": 8,
   "metadata": {},
   "outputs": [
    {
     "output_type": "stream",
     "name": "stdout",
     "text": [
      "(()) asserted to evaluate to 0\n()() asserted to evaluate to 0\n((( asserted to evaluate to 3\n(()(()( asserted to evaluate to 3\n))((((( asserted to evaluate to 3\n()) asserted to evaluate to -1\n))( asserted to evaluate to -1\n))) asserted to evaluate to -3\n)())()) asserted to evaluate to -3\n"
     ]
    }
   ],
   "source": [
    "for d, r in testdata:\n",
    "    assert(evaluate_instruction_iter(0, d) == r)\n",
    "    print('{} asserted to evaluate to {}'.format(''.join(d), r))"
   ]
  },
  {
   "cell_type": "code",
   "execution_count": 9,
   "metadata": {
    "tags": []
   },
   "outputs": [
    {
     "output_type": "stream",
     "name": "stdout",
     "text": [
      "74\n"
     ]
    }
   ],
   "source": [
    "print(evaluate_instruction_iter(0, inputdata))"
   ]
  },
  {
   "cell_type": "code",
   "execution_count": 10,
   "metadata": {},
   "outputs": [
    {
     "output_type": "execute_result",
     "data": {
      "text/plain": [
       "<IPython.core.display.HTML object>"
      ],
      "text/html": "<p>Your puzzle answer was <code>74</code>.</p"
     },
     "metadata": {},
     "execution_count": 10
    }
   ],
   "source": [
    "HTML(downloaded['part1_footer'])"
   ]
  },
  {
   "cell_type": "code",
   "execution_count": 11,
   "metadata": {},
   "outputs": [
    {
     "output_type": "execute_result",
     "data": {
      "text/plain": [
       "<IPython.core.display.HTML object>"
      ],
      "text/html": "<article class=\"day-desc\"><h2 id=\"part2\">--- Part Two ---</h2><p>Now, given the same instructions, find the <em>position</em> of the first character that causes him to enter the basement (floor <code>-1</code>).  The first character in the instructions has position <code>1</code>, the second character has position <code>2</code>, and so on.</p>\n<p>For example:</p>\n<ul>\n<li><code>)</code> causes him to enter the basement at character position <code>1</code>.</li>\n<li><code>()())</code> causes him to enter the basement at character position <code>5</code>.</li>\n</ul>\n<p>What is the <em>position</em> of the character that causes Santa to first enter the basement?</p>\n</article>"
     },
     "metadata": {},
     "execution_count": 11
    }
   ],
   "source": [
    "HTML(downloaded['part2'])"
   ]
  },
  {
   "cell_type": "code",
   "execution_count": 12,
   "metadata": {},
   "outputs": [],
   "source": [
    "def evaluate_and_stop_at_basement(currfloor: int, instructions: list):\n",
    "    instructions = deque(instructions)\n",
    "    counter = 0\n",
    "    while(instructions):\n",
    "        currfloor += 1 if instructions.popleft() == '(' else -1\n",
    "        counter += 1\n",
    "        if currfloor < 0:\n",
    "            return counter\n",
    "\n",
    "    return None"
   ]
  },
  {
   "cell_type": "code",
   "execution_count": 13,
   "metadata": {},
   "outputs": [],
   "source": [
    "assert(evaluate_and_stop_at_basement(0, list(')')) == 1)\n",
    "assert(evaluate_and_stop_at_basement(0, list('()())')) == 5)"
   ]
  },
  {
   "cell_type": "code",
   "execution_count": 14,
   "metadata": {},
   "outputs": [
    {
     "output_type": "stream",
     "name": "stdout",
     "text": [
      "1795\n"
     ]
    }
   ],
   "source": [
    "print(evaluate_and_stop_at_basement(0, inputdata))"
   ]
  },
  {
   "cell_type": "code",
   "execution_count": 15,
   "metadata": {},
   "outputs": [
    {
     "output_type": "execute_result",
     "data": {
      "text/plain": [
       "<IPython.core.display.HTML object>"
      ],
      "text/html": "<p>Your puzzle answer was <code>1795</code>.</p><p class=\"day-success\">Both parts of this puzzle are complete! They provide two gold stars: **</p>\n<p>At this point, you should <a href=\"/2015\">return to your Advent calendar</a> and try another puzzle.</p>\n<p>If you still want to see it, you can <a href=\"1/input\" target=\"_blank\">get your puzzle input</a>.</p>\n<p>You can also <span class=\"share\">[Share<span class=\"share-content\">on\n  <a href=\"https://twitter.com/intent/tweet?text=I%27ve+completed+%22Not+Quite+Lisp%22+%2D+Day+1+%2D+Advent+of+Code+2015&amp;url=https%3A%2F%2Fadventofcode%2Ecom%2F2015%2Fday%2F1&amp;related=ericwastl&amp;hashtags=AdventOfCode\" target=\"_blank\">Twitter</a>\n  <a href=\"javascript:void(0);\" onclick=\"var mastodon_instance=prompt('Mastodon Instance / Server Name?'); if(typeof mastodon_instance==='string' && mastodon_instance.length){this.href='https://'+mastodon_instance+'/share?text=I%27ve+completed+%22Not+Quite+Lisp%22+%2D+Day+1+%2D+Advent+of+Code+2015+%23AdventOfCode+https%3A%2F%2Fadventofcode%2Ecom%2F2015%2Fday%2F1'}else{return false;}\" target=\"_blank\">Mastodon</a\n></span>]</span> this puzzle.</p>"
     },
     "metadata": {},
     "execution_count": 15
    }
   ],
   "source": [
    "HTML(downloaded['part2_footer'])"
   ]
  }
 ]
}
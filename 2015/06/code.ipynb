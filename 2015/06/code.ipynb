{
 "cells": [
  {
   "cell_type": "markdown",
   "metadata": {},
   "source": [
    "# Day 6: Probably a Fire Hazard\n",
    "\n",
    "[*Advent of Code 2015 day 6*](https://adventofcode.com/2015/day/6) and [*solution megathread*](https://redd.it/3vmltn)\n",
    "\n",
    "[![nbviewer](https://raw.githubusercontent.com/jupyter/design/master/logos/Badges/nbviewer_badge.svg)](https://nbviewer.jupyter.org/github/UncleCJ/advent-of-code/blob/cj/2015/06/code.ipynb) [![Binder](https://mybinder.org/badge_logo.svg)](https://mybinder.org/v2/gh/UncleCJ/advent-of-code/cj?filepath=2015%2F06%2Fcode.ipynb)"
   ]
  },
  {
   "cell_type": "code",
   "execution_count": 1,
   "metadata": {},
   "outputs": [
    {
     "name": "stdout",
     "output_type": "stream",
     "text": [
      "Writing 'downloaded' (dict) to file 'downloaded'.\n"
     ]
    }
   ],
   "source": [
    "from IPython.display import HTML\n",
    "import sys\n",
    "sys.path.append('../../')\n",
    "import common\n",
    "\n",
    "downloaded = common.refresh()\n",
    "%store downloaded >downloaded"
   ]
  },
  {
   "cell_type": "code",
   "execution_count": 2,
   "metadata": {},
   "outputs": [
    {
     "data": {
      "text/html": [
       "<h2>--- Day 6: Probably a Fire Hazard ---</h2><p>Because your neighbors keep defeating you in the holiday house decorating contest year after year, you've decided to deploy one million lights in a <span title=\"Hey, be glad I'm not asking for the resistance between two points!\">1000x1000 grid</span>.</p>\n",
       "<p>Furthermore, because you've been especially nice this year, Santa has mailed you instructions on how to display the ideal lighting configuration.</p>\n",
       "<p>Lights in your grid are numbered from 0 to 999 in each direction; the lights at each corner are at <code>0,0</code>, <code>0,999</code>, <code>999,999</code>, and <code>999,0</code>. The instructions include whether to <code>turn on</code>, <code>turn off</code>, or <code>toggle</code> various inclusive ranges given as coordinate pairs.  Each coordinate pair represents opposite corners of a rectangle, inclusive; a coordinate pair like <code>0,0 through 2,2</code> therefore refers to 9 lights in a 3x3 square.  The lights all start turned off.</code>\n",
       "<p>To defeat your neighbors this year, all you have to do is set up your lights by doing the instructions Santa sent you in order.</p>\n",
       "<p>For example:</p>\n",
       "<ul>\n",
       "<li><code>turn on 0,0 through 999,999</code> would turn on (or leave on) every light.</li>\n",
       "<li><code>toggle 0,0 through 999,0</code> would toggle the first line of 1000 lights, turning off the ones that were on, and turning on the ones that were off.</li>\n",
       "<li><code>turn off 499,499 through 500,500</code> would turn off (or leave off) the middle four lights.</li>\n",
       "</ul>\n",
       "<p>After following the instructions, <em>how many lights are lit</em>?</p>\n"
      ],
      "text/plain": [
       "<IPython.core.display.HTML object>"
      ]
     },
     "execution_count": 2,
     "metadata": {},
     "output_type": "execute_result"
    }
   ],
   "source": [
    "HTML(downloaded['part1'])"
   ]
  },
  {
   "cell_type": "markdown",
   "metadata": {},
   "source": [
    "## Boilerplate\n",
    "\n",
    "Let's try using [pycodestyle_magic](https://github.com/mattijn/pycodestyle_magic) with pycodestyle (flake8 stopped working for me in VS Code Jupyter). Now how does type checking work?"
   ]
  },
  {
   "cell_type": "code",
   "execution_count": 3,
   "metadata": {},
   "outputs": [],
   "source": [
    "%load_ext pycodestyle_magic"
   ]
  },
  {
   "cell_type": "code",
   "execution_count": 4,
   "metadata": {},
   "outputs": [],
   "source": [
    "%pycodestyle_on"
   ]
  },
  {
   "cell_type": "markdown",
   "metadata": {},
   "source": [
    "## Comments\n",
    "\n",
    "..."
   ]
  },
  {
   "cell_type": "code",
   "execution_count": 5,
   "metadata": {},
   "outputs": [],
   "source": [
    "testdata = [\n",
    "            # would turn on (or leave on) every light\n",
    "            'toggle 0,0 through 999,999',\n",
    "            # would toggle the first line of 1000 lights,\n",
    "            # turning off the ones that were on,\n",
    "            # and turning on the ones that were off\n",
    "            'turn on 0,0 through 999,0',\n",
    "            # would turn off (or leave off) the middle four lights\n",
    "            'toggle 0,0 through 500,500']\n",
    "\n",
    "inputdata = downloaded['input'].splitlines()"
   ]
  },
  {
   "cell_type": "code",
   "execution_count": 6,
   "metadata": {},
   "outputs": [
    {
     "data": {
      "text/plain": [
       "['turn off 341,304 through 638,850',\n",
       " 'turn off 199,133 through 461,193',\n",
       " 'toggle 322,558 through 977,958',\n",
       " 'toggle 537,781 through 687,941']"
      ]
     },
     "execution_count": 6,
     "metadata": {},
     "output_type": "execute_result"
    }
   ],
   "source": [
    "inputdata[1:5]"
   ]
  },
  {
   "cell_type": "code",
   "execution_count": 7,
   "metadata": {},
   "outputs": [],
   "source": [
    "from enum import Enum\n",
    "\n",
    "\n",
    "class LightOperation(Enum):\n",
    "    turn_on = 'turn on'\n",
    "    turn_off = 'turn off'\n",
    "    toggle = 'toggle'\n",
    "\n",
    "    def __str__(self):\n",
    "        return self.value\n",
    "\n",
    "\n",
    "class LightInstruction:\n",
    "    x1 = y1 = x2 = y2 = 0\n",
    "    operation = LightOperation('toggle')\n",
    "\n",
    "    def __init__(self, instruction_string: str):\n",
    "        tokens = instruction_string.split(' ')\n",
    "        self.x1, self.y1 = map(int, tokens[-3].split(','))\n",
    "        self.x2, self.y2 = map(int, tokens[-1].split(','))\n",
    "        self.operation = LightOperation(' '.join(tokens[:-3]))\n",
    "\n",
    "    def __str__(self):\n",
    "        return (f'{str(self.operation)} {str(self.x1)},' +\n",
    "                f'{str(self.y1)} through {str(self.x2)},' +\n",
    "                f'{str(self.y2)}')\n",
    "\n",
    "    def __repr__(self):\n",
    "        return self.__str__()"
   ]
  },
  {
   "cell_type": "code",
   "execution_count": 8,
   "metadata": {},
   "outputs": [],
   "source": [
    "from itertools import product\n",
    "\n",
    "\n",
    "class MillionLights:\n",
    "    matrix = [[]]\n",
    "\n",
    "    def __init__(self):\n",
    "        self.matrix = [[False for _ in range(1000)] for _ in range(1000)]\n",
    "\n",
    "    def execute_operation(self, x: int, y: int, operation: LightOperation):\n",
    "        if operation == LightOperation.turn_off:\n",
    "            self.matrix[y][x] = False\n",
    "        elif operation == LightOperation.turn_on:\n",
    "            self.matrix[y][x] = True\n",
    "        else:  # operation == LightOperation.toggle:\n",
    "            self.matrix[y][x] ^= True\n",
    "\n",
    "    def execute_instruction(self, instruction: LightInstruction) -> int:\n",
    "        for x, y in product(range(instruction.x1, instruction.x2 + 1),\n",
    "                            range(instruction.y1, instruction.y2 + 1)):\n",
    "            self.execute_operation(x, y, instruction.operation)\n",
    "        return self.count_lit()\n",
    "\n",
    "    def execute_instructions(self, instructions) -> int:\n",
    "        # for x, y in product(range(5), range(5)):\n",
    "        for x, y in product(range(1000), range(1000)):\n",
    "            applicable = [instruction for instruction in instructions\n",
    "                          if instruction.x1 <= x and instruction.y1 <= y\n",
    "                          and instruction.x2 >= x and instruction.y2 >= y]\n",
    "            try:\n",
    "                relevant_i = max(\n",
    "                    [i for i, instruction in enumerate(applicable)\n",
    "                        if instruction.operation == LightOperation.turn_on] +\n",
    "                    [i for i, instruction in enumerate(applicable)\n",
    "                        if instruction.operation == LightOperation.turn_off])\n",
    "                self.execute_operation(x, y, applicable[relevant_i].operation)\n",
    "            except ValueError:\n",
    "                relevant_i = -1\n",
    "\n",
    "            toggles = len(applicable) - relevant_i + 1\n",
    "            if toggles % 2 == 1:\n",
    "                self.execute_operation(x, y, LightOperation.toggle)\n",
    "\n",
    "        return self.count_lit()\n",
    "\n",
    "    def count_lit(self) -> int:\n",
    "        return sum(sum(row) for row in self.matrix)"
   ]
  },
  {
   "cell_type": "code",
   "execution_count": 9,
   "metadata": {},
   "outputs": [
    {
     "name": "stdout",
     "output_type": "stream",
     "text": [
      "1000000\n",
      "1000\n",
      "251001\n"
     ]
    }
   ],
   "source": [
    "for instruction_string in testdata:\n",
    "    # print(instruction_string)\n",
    "    ml = MillionLights()\n",
    "    print(ml.execute_instruction(LightInstruction(instruction_string)))"
   ]
  },
  {
   "cell_type": "code",
   "execution_count": 10,
   "metadata": {
    "tags": []
   },
   "outputs": [
    {
     "name": "stdout",
     "output_type": "stream",
     "text": [
      "748999\n"
     ]
    }
   ],
   "source": [
    "ml = MillionLights()\n",
    "print(ml.execute_instructions(list(map(LightInstruction, testdata))))"
   ]
  },
  {
   "cell_type": "code",
   "execution_count": 11,
   "metadata": {},
   "outputs": [],
   "source": [
    "def my_part1_solution(data):\n",
    "    ml = MillionLights()\n",
    "    return ml.execute_instructions(list(map(LightInstruction, data)))"
   ]
  },
  {
   "cell_type": "code",
   "execution_count": 12,
   "metadata": {
    "tags": []
   },
   "outputs": [
    {
     "name": "stdout",
     "output_type": "stream",
     "text": [
      "400410\n",
      "The time difference is : 150.46569500600162\n"
     ]
    }
   ],
   "source": [
    "import timeit\n",
    "starttime = timeit.default_timer()\n",
    "print(my_part1_solution(inputdata))\n",
    "print(\"The time difference is :\", timeit.default_timer() - starttime)"
   ]
  },
  {
   "cell_type": "code",
   "execution_count": 13,
   "metadata": {},
   "outputs": [
    {
     "name": "stdout",
     "output_type": "stream",
     "text": [
      "400410\n",
      "The time difference is : 36.95626860600896\n"
     ]
    }
   ],
   "source": [
    "import timeit\n",
    "starttime = timeit.default_timer()\n",
    "ml = MillionLights()\n",
    "for instruction in inputdata:\n",
    "    ml.execute_instruction(LightInstruction(instruction))\n",
    "print(ml.count_lit())\n",
    "print(\"The time difference is :\", timeit.default_timer() - starttime)"
   ]
  },
  {
   "cell_type": "code",
   "execution_count": 14,
   "metadata": {},
   "outputs": [
    {
     "data": {
      "text/html": [
       "\n",
       "<p>Your puzzle answer was <code>400410</code>.</p>"
      ],
      "text/plain": [
       "<IPython.core.display.HTML object>"
      ]
     },
     "execution_count": 14,
     "metadata": {},
     "output_type": "execute_result"
    }
   ],
   "source": [
    "HTML(downloaded['part1_footer'])"
   ]
  },
  {
   "cell_type": "code",
   "execution_count": 15,
   "metadata": {},
   "outputs": [
    {
     "data": {
      "text/html": [
       "<h2 id=\"part2\">--- Part Two ---</h2><p>You just finish implementing your winning light pattern when you realize you mistranslated Santa's message from Ancient Nordic Elvish.</p>\n",
       "<p>The light grid you bought actually has individual brightness controls; each light can have a brightness of zero or more.  The lights all start at zero.</p>\n",
       "<p>The phrase <code>turn on</code> actually means that you should increase the brightness of those lights by <code>1</code>.</p>\n",
       "<p>The phrase <code>turn off</code> actually means that you should decrease the brightness of those lights by <code>1</code>, to a minimum of zero.</p>\n",
       "<p>The phrase <code>toggle</code> actually means that you should increase the brightness of those lights by <code>2</code>.</p>\n",
       "<p>What is the <em>total brightness</em> of all lights combined after following Santa's instructions?</p>\n",
       "<p>For example:</p>\n",
       "<ul>\n",
       "<li><code>turn on 0,0 through 0,0</code> would increase the total brightness by <code>1</code>.</li>\n",
       "<li><code>toggle 0,0 through 999,999</code> would increase the total brightness by <code>2000000</code>.</li>\n",
       "</ul>\n"
      ],
      "text/plain": [
       "<IPython.core.display.HTML object>"
      ]
     },
     "execution_count": 15,
     "metadata": {},
     "output_type": "execute_result"
    }
   ],
   "source": [
    "HTML(downloaded['part2'])"
   ]
  },
  {
   "cell_type": "code",
   "execution_count": 16,
   "metadata": {},
   "outputs": [],
   "source": [
    "class LightOperation2(Enum):\n",
    "    turn_on = 'turn on'\n",
    "    turn_off = 'turn off'\n",
    "    toggle = 'toggle'\n",
    "\n",
    "    def __str__(self):\n",
    "        return self.value\n",
    "\n",
    "    def op(self):\n",
    "        if self == LightOperation2.turn_on:\n",
    "            return lambda l: l + 1\n",
    "        elif self == LightOperation2.turn_off:\n",
    "            return lambda l: l - 1 if l > 0 else 0\n",
    "        else:  # self == LightOperation2.toggle\n",
    "            return lambda l: l + 2\n",
    "\n",
    "\n",
    "class LightInstruction2:\n",
    "    x1 = y1 = x2 = y2 = 0\n",
    "    operation = LightOperation('toggle')\n",
    "\n",
    "    def __init__(self, instruction_string: str):\n",
    "        tokens = instruction_string.split(' ')\n",
    "        self.x1, self.y1 = map(int, tokens[-3].split(','))\n",
    "        self.x2, self.y2 = map(int, tokens[-1].split(','))\n",
    "        self.operation = LightOperation2(' '.join(tokens[:-3]))\n",
    "\n",
    "    def __str__(self):\n",
    "        return (f'{str(self.operation)} {str(self.x1)},' +\n",
    "                f'{str(self.y1)} through {str(self.x2)},{str(self.y2)}')\n",
    "\n",
    "    def __repr__(self):\n",
    "        return self.__str__()"
   ]
  },
  {
   "cell_type": "code",
   "execution_count": 17,
   "metadata": {},
   "outputs": [],
   "source": [
    "class MillionLights2:\n",
    "    matrix = [[]]\n",
    "\n",
    "    def __init__(self):\n",
    "        self.matrix = [[0 for _ in range(1000)] for _ in range(1000)]\n",
    "\n",
    "    def execute_operation(self, x: int, y: int, operation: LightOperation2):\n",
    "        self.matrix[y][x] = operation.op()(self.matrix[y][x])\n",
    "\n",
    "    def execute_instruction(self, instruction: LightInstruction2) -> int:\n",
    "        for x, y in product(\n",
    "                range(instruction.x1, instruction.x2 + 1),\n",
    "                range(instruction.y1, instruction.y2 + 1)):\n",
    "            self.execute_operation(x, y, instruction.operation)\n",
    "        return self.count_lit()\n",
    "\n",
    "    def execute_instructions(self, instructions) -> int:\n",
    "        # for x, y in product(range(5), range(5)):\n",
    "        for x, y in product(range(1000), range(1000)):\n",
    "            applicable = [instruction for instruction in instructions\n",
    "                          if instruction.x1 <= x and instruction.y1 <= y\n",
    "                          and instruction.x2 >= x and instruction.y2 >= y]\n",
    "            for instruction in applicable:\n",
    "                self.execute_operation(x, y, instruction.operation)\n",
    "        return self.count_lit()\n",
    "\n",
    "    def count_lit(self) -> int:\n",
    "        return sum(sum(row) for row in self.matrix)"
   ]
  },
  {
   "cell_type": "code",
   "execution_count": 18,
   "metadata": {},
   "outputs": [
    {
     "name": "stdout",
     "output_type": "stream",
     "text": [
      "15343601\n",
      "The time difference is : 59.77181707600539\n"
     ]
    }
   ],
   "source": [
    "starttime = timeit.default_timer()\n",
    "ml = MillionLights2()\n",
    "for instruction in inputdata:\n",
    "    ml.execute_instruction(LightInstruction2(instruction))\n",
    "print(ml.count_lit())\n",
    "print(\"The time difference is :\", timeit.default_timer() - starttime)"
   ]
  },
  {
   "cell_type": "code",
   "execution_count": 19,
   "metadata": {},
   "outputs": [
    {
     "data": {
      "text/html": [
       "\n",
       "<p>Your puzzle answer was <code>15343601</code>.</p><p class=\"day-success\">Both parts of this puzzle are complete! They provide two gold stars: **</p>\n",
       "<p>At this point, you should <a href=\"/2015\">return to your Advent calendar</a> and try another puzzle.</p>\n",
       "<p>If you still want to see it, you can <a href=\"6/input\" target=\"_blank\">get your puzzle input</a>.</p>\n",
       "<p>You can also <span class=\"share\">[Share<span class=\"share-content\">on\n",
       "  <a href=\"https://twitter.com/intent/tweet?text=I%27ve+completed+%22Probably+a+Fire+Hazard%22+%2D+Day+6+%2D+Advent+of+Code+2015&amp;url=https%3A%2F%2Fadventofcode%2Ecom%2F2015%2Fday%2F6&amp;related=ericwastl&amp;hashtags=AdventOfCode\" target=\"_blank\">Twitter</a>\n",
       "  <a href=\"javascript:void(0);\" onclick=\"var mastodon_instance=prompt('Mastodon Instance / Server Name?'); if(typeof mastodon_instance==='string' && mastodon_instance.length){this.href='https://'+mastodon_instance+'/share?text=I%27ve+completed+%22Probably+a+Fire+Hazard%22+%2D+Day+6+%2D+Advent+of+Code+2015+%23AdventOfCode+https%3A%2F%2Fadventofcode%2Ecom%2F2015%2Fday%2F6'}else{return false;}\" target=\"_blank\">Mastodon</a\n",
       "></span>]</span> this puzzle.</p>\n"
      ],
      "text/plain": [
       "<IPython.core.display.HTML object>"
      ]
     },
     "execution_count": 19,
     "metadata": {},
     "output_type": "execute_result"
    }
   ],
   "source": [
    "HTML(downloaded['part2_footer'])"
   ]
  }
 ],
 "metadata": {
  "kernelspec": {
   "display_name": "Python 3.10.8 64-bit ('3.10.8')",
   "language": "python",
   "name": "python3"
  },
  "language_info": {
   "codemirror_mode": {
    "name": "ipython",
    "version": 3
   },
   "file_extension": ".py",
   "mimetype": "text/x-python",
   "name": "python",
   "nbconvert_exporter": "python",
   "pygments_lexer": "ipython3",
   "version": "3.10.8"
  },
  "vscode": {
   "interpreter": {
    "hash": "76bf2cc7a4a05f25ae072387ae1493b9e0b06fd50ed278712ff229cb8fd29e6c"
   }
  }
 },
 "nbformat": 4,
 "nbformat_minor": 4
}

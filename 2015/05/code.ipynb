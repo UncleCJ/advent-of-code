{
 "cells": [
  {
   "cell_type": "markdown",
   "metadata": {},
   "source": [
    "# Day 5: Doesn't He Have Intern-Elves For This?\n",
    "\n",
    "[*Advent of Code 2015 day 5*](https://adventofcode.com/2015/day/5) and [*solution megathread*](https://www.reddit.com/3viazx)\n",
    "\n",
    "[![nbviewer](https://raw.githubusercontent.com/jupyter/design/master/logos/Badges/nbviewer_badge.svg)](https://nbviewer.jupyter.org/github/UncleCJ/advent-of-code/blob/cj/2015/05/code.ipynb) [![Binder](https://mybinder.org/badge_logo.svg)](https://mybinder.org/v2/gh/UncleCJ/advent-of-code/cj?filepath=2015%2F05%2Fcode.ipynb)"
   ]
  },
  {
   "cell_type": "code",
   "execution_count": 1,
   "metadata": {},
   "outputs": [
    {
     "name": "stdout",
     "output_type": "stream",
     "text": [
      "Writing 'downloaded' (dict) to file 'downloaded'.\n"
     ]
    }
   ],
   "source": [
    "from IPython.display import HTML\n",
    "import sys\n",
    "sys.path.append('../../')\n",
    "import common\n",
    "\n",
    "downloaded = common.refresh()\n",
    "%store downloaded >downloaded"
   ]
  },
  {
   "cell_type": "code",
   "execution_count": 2,
   "metadata": {},
   "outputs": [
    {
     "data": {
      "text/html": [
       "<h2>--- Day 5: Doesn&apos;t He Have Intern-Elves For This? ---</h2><p>Santa needs help figuring out which strings in his text file are naughty or nice.</p>\n",
       "<p>A <em>nice string</em> is one with all of the following properties:</p>\n",
       "<ul>\n",
       "<li>It contains at least three vowels (<code>aeiou</code> only), like <code>aei</code>, <code>xazegov</code>, or <code title=\"John Madden John Madden John Madden\">aeiouaeiouaeiou</code>.</li>\n",
       "<li>It contains at least one letter that appears twice in a row, like <code>xx</code>, <code>abcdde</code> (<code>dd</code>), or <code>aabbccdd</code> (<code>aa</code>, <code>bb</code>, <code>cc</code>, or <code>dd</code>).</li>\n",
       "<li>It does <em>not</em> contain the strings <code>ab</code>, <code>cd</code>, <code>pq</code>, or <code>xy</code>, even if they are part of one of the other requirements.</li>\n",
       "</ul>\n",
       "<p>For example:</p>\n",
       "<ul>\n",
       "<li><code>ugknbfddgicrmopn</code> is nice because it has at least three vowels (<code>u...i...o...</code>), a double letter (<code>...dd...</code>), and none of the disallowed substrings.</li>\n",
       "<li><code>aaa</code> is nice because it has at least three vowels and a double letter, even though the letters used by different rules overlap.</li>\n",
       "<li><code>jchzalrnumimnmhp</code> is naughty because it has no double letter.</li>\n",
       "<li><code>haegwjzuvuyypxyu</code> is naughty because it contains the string <code>xy</code>.</li>\n",
       "<li><code>dvszwmarrgswjxmb</code> is naughty because it contains only one vowel.</li>\n",
       "</ul>\n",
       "<p>How many strings are nice?</p>\n"
      ],
      "text/plain": [
       "<IPython.core.display.HTML object>"
      ]
     },
     "execution_count": 2,
     "metadata": {},
     "output_type": "execute_result"
    }
   ],
   "source": [
    "HTML(downloaded['part1'])"
   ]
  },
  {
   "cell_type": "markdown",
   "metadata": {},
   "source": [
    "## Boilerplate\n",
    "\n",
    "Let's try using [pycodestyle_magic](https://github.com/mattijn/pycodestyle_magic) with pycodestyle (flake8 stopped working for me in VS Code Jupyter). Now how does type checking work?"
   ]
  },
  {
   "cell_type": "code",
   "execution_count": 3,
   "metadata": {},
   "outputs": [],
   "source": [
    "%load_ext pycodestyle_magic"
   ]
  },
  {
   "cell_type": "code",
   "execution_count": 4,
   "metadata": {},
   "outputs": [],
   "source": [
    "%pycodestyle_on"
   ]
  },
  {
   "cell_type": "markdown",
   "metadata": {},
   "source": [
    "## Comments\n",
    "\n",
    "..."
   ]
  },
  {
   "cell_type": "code",
   "execution_count": 5,
   "metadata": {},
   "outputs": [],
   "source": [
    "testdata = [\n",
    "    # is nice because it has at least three vowels (u...i...o...),\n",
    "    # a double letter (...dd...), and none of the disallowed substrings\n",
    "    ('ugknbfddgicrmopn', True),\n",
    "    # is nice because it has at least three vowels and a double letter,\n",
    "    # even though the letters used by different rules overlap\n",
    "    ('aaa', True),\n",
    "    # is naughty because it has no double letter\n",
    "    ('jchzalrnumimnmhp', False),\n",
    "    # is naughty because it contains the string xy\n",
    "    ('haegwjzuvuyypxyu', False),\n",
    "    # is naughty because it contains only one vowel\n",
    "    ('dvszwmarrgswjxmb', False)]\n",
    "\n",
    "inputdata = downloaded['input'].splitlines()"
   ]
  },
  {
   "cell_type": "code",
   "execution_count": 6,
   "metadata": {},
   "outputs": [
    {
     "data": {
      "text/plain": [
       "['isaljhemltsdzlum',\n",
       " 'fujcyucsrxgatisb',\n",
       " 'qiqqlmcgnhzparyg',\n",
       " 'oijbmduquhfactbc']"
      ]
     },
     "execution_count": 6,
     "metadata": {},
     "output_type": "execute_result"
    }
   ],
   "source": [
    "inputdata[1:5]"
   ]
  },
  {
   "cell_type": "code",
   "execution_count": 7,
   "metadata": {},
   "outputs": [],
   "source": [
    "from collections import Counter\n",
    "\n",
    "\n",
    "def get_bigrams(candidate: str):\n",
    "    return list(zip(candidate[:-1], candidate[1:]))\n",
    "\n",
    "\n",
    "# It contains at least three vowels (aeiou only),\n",
    "# like aei, xazegov, or aeiouaeiouaeiou\n",
    "# It contains at least one letter that appears twice in a row,\n",
    "# like xx, abcdde (dd), or aabbccdd (aa, bb, cc, or dd)\n",
    "# It does not contain the strings ab, cd, pq, or xy,\n",
    "# even if they are part of one of the other requirements\n",
    "def is_nice(candidate: str) -> bool:\n",
    "    counter = Counter(candidate)\n",
    "    if sum(count for letter, count in counter.items()\n",
    "           if letter in 'aeiou') < 3:\n",
    "        return False\n",
    "    bigrams = get_bigrams(candidate)\n",
    "    if not any([a == b for a, b in bigrams]):\n",
    "        return False\n",
    "    prohibited_bigrams = [('a', 'b'), ('c', 'd'), ('p', 'q'), ('x', 'y')]\n",
    "    for p in prohibited_bigrams:\n",
    "        if p in bigrams:\n",
    "            return False\n",
    "    return True"
   ]
  },
  {
   "cell_type": "code",
   "execution_count": 8,
   "metadata": {},
   "outputs": [],
   "source": [
    "def my_part1_solution(data):\n",
    "    return sum(is_nice(candidate) for candidate in data)"
   ]
  },
  {
   "cell_type": "code",
   "execution_count": 9,
   "metadata": {
    "tags": []
   },
   "outputs": [
    {
     "name": "stdout",
     "output_type": "stream",
     "text": [
      "ugknbfddgicrmopn asserted to evaluate to True\n",
      "aaa asserted to evaluate to True\n",
      "jchzalrnumimnmhp asserted to evaluate to False\n",
      "haegwjzuvuyypxyu asserted to evaluate to False\n",
      "dvszwmarrgswjxmb asserted to evaluate to False\n"
     ]
    }
   ],
   "source": [
    "for d, r in testdata:\n",
    "    assert is_nice(d) == r\n",
    "    print('{} asserted to evaluate to {}'.format(d, r))"
   ]
  },
  {
   "cell_type": "code",
   "execution_count": 10,
   "metadata": {
    "tags": []
   },
   "outputs": [
    {
     "name": "stdout",
     "output_type": "stream",
     "text": [
      "255\n"
     ]
    }
   ],
   "source": [
    "print(my_part1_solution(inputdata))"
   ]
  },
  {
   "cell_type": "code",
   "execution_count": 11,
   "metadata": {},
   "outputs": [
    {
     "data": {
      "text/html": [
       "\n",
       "<p>Your puzzle answer was <code>255</code>.</p>"
      ],
      "text/plain": [
       "<IPython.core.display.HTML object>"
      ]
     },
     "execution_count": 11,
     "metadata": {},
     "output_type": "execute_result"
    }
   ],
   "source": [
    "HTML(downloaded['part1_footer'])"
   ]
  },
  {
   "cell_type": "code",
   "execution_count": 12,
   "metadata": {},
   "outputs": [
    {
     "data": {
      "text/html": [
       "<h2 id=\"part2\">--- Part Two ---</h2><p>Realizing the error of his ways, Santa has switched to a better model of determining whether a string is naughty or nice.  None of the old rules apply, as they are all clearly ridiculous.</p>\n",
       "<p>Now, a nice string is one with all of the following properties:</p>\n",
       "<ul>\n",
       "<li>It contains a pair of any two letters that appears at least twice in the string without overlapping, like <code>xyxy</code> (<code>xy</code>) or <code>aabcdefgaa</code> (<code>aa</code>), but not like <code>aaa</code> (<code>aa</code>, but it overlaps).</li>\n",
       "<li>It contains at least one letter which repeats with exactly one letter between them, like <code>xyx</code>, <code>abcdefeghi</code> (<code>efe</code>), or even <code>aaa</code>.</li>\n",
       "</ul>\n",
       "<p>For example:</p>\n",
       "<ul>\n",
       "<li><code>qjhvhtzxzqqjkmpb</code> is nice because is has a pair that appears twice (<code>qj</code>) and a letter that repeats with exactly one letter between them (<code>zxz</code>).</li>\n",
       "<li><code>xxyxx</code> is nice because it has a pair that appears twice and a letter that repeats with one between, even though the letters used by each rule overlap.</li>\n",
       "<li><code>uurcxstgmygtbstg</code> is naughty because it has a pair (<code>tg</code>) but no repeat with a single letter between them.</li>\n",
       "<li><code>ieodomkazucvgmuy</code> is naughty because it has a repeating letter with one between (<code>odo</code>), but no pair that appears twice.</li>\n",
       "</ul>\n",
       "<p>How many strings are nice under these new rules?</p>\n"
      ],
      "text/plain": [
       "<IPython.core.display.HTML object>"
      ]
     },
     "execution_count": 12,
     "metadata": {},
     "output_type": "execute_result"
    }
   ],
   "source": [
    "HTML(downloaded['part2'])"
   ]
  },
  {
   "cell_type": "code",
   "execution_count": 13,
   "metadata": {},
   "outputs": [],
   "source": [
    "testdata2 = [\n",
    "    # is nice because is has a pair that appears twice (qj)\n",
    "    # and a letter that repeats with exactly one letter between them (zxz)\n",
    "    ('qjhvhtzxzqqjkmpb', True),\n",
    "    # is nice because it has a pair that appears twice and a letter that\n",
    "    # repeats with one between, even though the letters\n",
    "    # used by each rule overlap\n",
    "    ('xxyxx', True),\n",
    "    # is naughty because it has a pair (tg) but no repeat\n",
    "    # with a single letter between them\n",
    "    ('uurcxstgmygtbstg', False),\n",
    "    # is naughty because it has a repeating letter with one between (odo),\n",
    "    # but no pair that appears twice\n",
    "    ('ieodomkazucvgmuy', False)]"
   ]
  },
  {
   "cell_type": "code",
   "execution_count": 14,
   "metadata": {},
   "outputs": [],
   "source": [
    "import operator\n",
    "\n",
    "\n",
    "def get_trigrams(candidate: str):\n",
    "    return list(zip(candidate[:-2], candidate[1:-1], candidate[2:]))\n",
    "\n",
    "\n",
    "def is_disjunct_bigram(candidate_bg: str, bigrams) -> bool:\n",
    "    occurs_at = [i for i, bg in enumerate(bigrams) if bg == candidate_bg]\n",
    "    return occurs_at[-1] - occurs_at[0] >= 2\n",
    "\n",
    "\n",
    "# It contains a pair of any two letters that appears\n",
    "# at least twice in the string without overlapping,\n",
    "# like xyxy (xy) or aabcdefgaa (aa), but not like aaa (aa, but it overlaps)\n",
    "# It contains at least one letter which repeats\n",
    "# with exactly one letter between them, like xyx,\n",
    "# abcdefeghi (efe), or even aaa\n",
    "def is_nice2(candidate: str) -> bool:\n",
    "    bigrams = get_bigrams(candidate)\n",
    "    candidate_bgs = (candidate_bg for candidate_bg, c\n",
    "                     in Counter(bigrams).items() if c >= 2)\n",
    "    if not any(is_disjunct_bigram(candidate_bg, bigrams)\n",
    "               for candidate_bg in candidate_bgs):\n",
    "        return False\n",
    "\n",
    "    return any(a == c for a, _, c in get_trigrams(candidate))"
   ]
  },
  {
   "cell_type": "code",
   "execution_count": 15,
   "metadata": {},
   "outputs": [
    {
     "name": "stdout",
     "output_type": "stream",
     "text": [
      "qjhvhtzxzqqjkmpb asserted to evaluate to True\n",
      "xxyxx asserted to evaluate to True\n",
      "uurcxstgmygtbstg asserted to evaluate to False\n",
      "ieodomkazucvgmuy asserted to evaluate to False\n"
     ]
    }
   ],
   "source": [
    "for d, r in testdata2:\n",
    "    assert is_nice2(d) == r\n",
    "    print('{} asserted to evaluate to {}'.format(d, r))"
   ]
  },
  {
   "cell_type": "code",
   "execution_count": 16,
   "metadata": {},
   "outputs": [],
   "source": [
    "def my_part2_solution(data):\n",
    "    return sum(is_nice2(candidate) for candidate in data)"
   ]
  },
  {
   "cell_type": "code",
   "execution_count": 17,
   "metadata": {},
   "outputs": [
    {
     "name": "stdout",
     "output_type": "stream",
     "text": [
      "55\n"
     ]
    }
   ],
   "source": [
    "print(my_part2_solution(inputdata))"
   ]
  },
  {
   "cell_type": "code",
   "execution_count": 18,
   "metadata": {},
   "outputs": [
    {
     "data": {
      "text/html": [
       "\n",
       "<p>Your puzzle answer was <code>55</code>.</p><p class=\"day-success\">Both parts of this puzzle are complete! They provide two gold stars: **</p>\n",
       "<p>At this point, you should <a href=\"/2015\">return to your Advent calendar</a> and try another puzzle.</p>\n",
       "<p>If you still want to see it, you can <a href=\"5/input\" target=\"_blank\">get your puzzle input</a>.</p>\n",
       "<p>You can also <span class=\"share\">[Share<span class=\"share-content\">on\n",
       "  <a href=\"https://twitter.com/intent/tweet?text=I%27ve+completed+%22Doesn%27t+He+Have+Intern%2DElves+For+This%3F%22+%2D+Day+5+%2D+Advent+of+Code+2015&amp;url=https%3A%2F%2Fadventofcode%2Ecom%2F2015%2Fday%2F5&amp;related=ericwastl&amp;hashtags=AdventOfCode\" target=\"_blank\">Twitter</a>\n",
       "  <a href=\"javascript:void(0);\" onclick=\"var mastodon_instance=prompt('Mastodon Instance / Server Name?'); if(typeof mastodon_instance==='string' && mastodon_instance.length){this.href='https://'+mastodon_instance+'/share?text=I%27ve+completed+%22Doesn%27t+He+Have+Intern%2DElves+For+This%3F%22+%2D+Day+5+%2D+Advent+of+Code+2015+%23AdventOfCode+https%3A%2F%2Fadventofcode%2Ecom%2F2015%2Fday%2F5'}else{return false;}\" target=\"_blank\">Mastodon</a\n",
       "></span>]</span> this puzzle.</p>\n"
      ],
      "text/plain": [
       "<IPython.core.display.HTML object>"
      ]
     },
     "execution_count": 18,
     "metadata": {},
     "output_type": "execute_result"
    }
   ],
   "source": [
    "HTML(downloaded['part2_footer'])"
   ]
  }
 ],
 "metadata": {
  "kernelspec": {
   "display_name": "Python 3.10.8 64-bit",
   "language": "python",
   "name": "python3"
  },
  "language_info": {
   "codemirror_mode": {
    "name": "ipython",
    "version": 3
   },
   "file_extension": ".py",
   "mimetype": "text/x-python",
   "name": "python",
   "nbconvert_exporter": "python",
   "pygments_lexer": "ipython3",
   "version": "3.10.8"
  },
  "vscode": {
   "interpreter": {
    "hash": "aee8b7b246df8f9039afb4144a1f6fd8d2ca17a180786b69acc140d282b71a49"
   }
  }
 },
 "nbformat": 4,
 "nbformat_minor": 4
}

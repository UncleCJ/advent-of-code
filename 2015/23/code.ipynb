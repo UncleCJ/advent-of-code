{
 "cells": [
  {
   "cell_type": "markdown",
   "metadata": {},
   "source": [
    "# Day 23: Opening the Turing Lock\n",
    "\n",
    "[*Advent of Code 2015 day 23*](https://adventofcode.com/2015/day/23) and [*solution megathread*](https://www.reddit.com/3xxdxt)\n",
    "\n",
    "[![nbviewer](https://raw.githubusercontent.com/jupyter/design/master/logos/Badges/nbviewer_badge.svg)](https://nbviewer.jupyter.org/github/UncleCJ/advent-of-code/blob/cj/2015/23/code.ipynb) [![Binder](https://mybinder.org/badge_logo.svg)](https://mybinder.org/v2/gh/UncleCJ/advent-of-code/cj?filepath=2015%2F23%2Fcode.ipynb)"
   ]
  },
  {
   "cell_type": "code",
   "execution_count": 1,
   "metadata": {
    "ExecuteTime": {
     "end_time": "2022-11-26T10:27:10.012612Z",
     "start_time": "2022-11-26T10:27:09.953658Z"
    }
   },
   "outputs": [
    {
     "name": "stderr",
     "output_type": "stream",
     "text": [
      "Version 1.0.4\n"
     ]
    }
   ],
   "source": [
    "from IPython.display import HTML\n",
    "import sys\n",
    "sys.path.append('../../')\n",
    "\n",
    "\n",
    "%load_ext nb_mypy\n",
    "%nb_mypy On"
   ]
  },
  {
   "cell_type": "code",
   "execution_count": 2,
   "metadata": {
    "ExecuteTime": {
     "end_time": "2022-11-26T10:27:11.227632Z",
     "start_time": "2022-11-26T10:27:10.014824Z"
    }
   },
   "outputs": [
    {
     "name": "stdout",
     "output_type": "stream",
     "text": [
      "Writing 'downloaded' (dict) to file 'downloaded'.\n"
     ]
    }
   ],
   "source": [
    "import common\n",
    "\n",
    "\n",
    "downloaded = common.refresh()\n",
    "%store downloaded >downloaded\n",
    "\n",
    "%load_ext pycodestyle_magic\n",
    "%pycodestyle_on"
   ]
  },
  {
   "cell_type": "markdown",
   "metadata": {},
   "source": [
    "## Part One"
   ]
  },
  {
   "cell_type": "code",
   "execution_count": 3,
   "metadata": {
    "ExecuteTime": {
     "end_time": "2022-11-26T10:27:11.376658Z",
     "start_time": "2022-11-26T10:27:11.229584Z"
    }
   },
   "outputs": [
    {
     "name": "stderr",
     "output_type": "stream",
     "text": [
      "<cell>1: error: Name \"HTML\" is not defined\n"
     ]
    },
    {
     "data": {
      "text/html": [
       "<h2>--- Day 23: Opening the Turing Lock ---</h2><p>Little Jane Marie just got her very first computer for Christmas from some <span title=\"Definitely not Wintermute.\">unknown benefactor</span>.  It comes with instructions and an example program, but the computer itself seems to be malfunctioning.  She's curious what the program does, and would like you to help her run it.</p>\n",
       "<p>The manual explains that the computer supports two <a href=\"https://en.wikipedia.org/wiki/Processor_register\">registers</a> and six <a href=\"https://en.wikipedia.org/wiki/Instruction_set\">instructions</a> (truly, it goes on to remind the reader, a state-of-the-art technology). The registers are named <code>a</code> and <code>b</code>, can hold any <a href=\"https://en.wikipedia.org/wiki/Natural_number\">non-negative integer</a>, and begin with a value of <code>0</code>.  The instructions are as follows:</p>\n",
       "<ul>\n",
       "<li><code>hlf r</code> sets register <code>r</code> to <em>half</em> its current value, then continues with the next instruction.</li>\n",
       "<li><code>tpl r</code> sets register <code>r</code> to <em>triple</em> its current value, then continues with the next instruction.</li>\n",
       "<li><code>inc r</code> <em>increments</em> register <code>r</code>, adding <code>1</code> to it, then continues with the next instruction.</li>\n",
       "<li><code>jmp offset</code> is a <em>jump</em>; it continues with the instruction <code>offset</code> away <em>relative to itself</em>.</li>\n",
       "<li><code>jie r, offset</code> is like <code>jmp</code>, but only jumps if register <code>r</code> is <em>even</em> (\"jump if even\").</li>\n",
       "<li><code>jio r, offset</code> is like <code>jmp</code>, but only jumps if register <code>r</code> is <code>1</code> (\"jump if <em>one</em>\", not odd).</li>\n",
       "</ul>\n",
       "<p>All three jump instructions work with an <em>offset</em> relative to that instruction.  The offset is always written with a prefix <code>+</code> or <code>-</code> to indicate the direction of the jump (forward or backward, respectively).  For example, <code>jmp +1</code> would simply continue with the next instruction, while <code>jmp +0</code> would continuously jump back to itself forever.</p>\n",
       "<p>The program exits when it tries to run an instruction beyond the ones defined.</p>\n",
       "<p>For example, this program sets <code>a</code> to <code>2</code>, because the <code>jio</code> instruction causes it to skip the <code>tpl</code> instruction:</p>\n",
       "<pre><code>inc a\n",
       "jio a, +2\n",
       "tpl a\n",
       "inc a\n",
       "</code></pre>\n",
       "<p>What is <em>the value in register <code>b</code></em> when the program in your puzzle input is finished executing?</p>\n"
      ],
      "text/plain": [
       "<IPython.core.display.HTML object>"
      ]
     },
     "execution_count": 3,
     "metadata": {},
     "output_type": "execute_result"
    }
   ],
   "source": [
    "HTML(downloaded['part1'])"
   ]
  },
  {
   "cell_type": "markdown",
   "metadata": {},
   "source": [
    "## Comments\n",
    "\n",
    "It's 2022-11-26, soon time for this year's AoC, and I'm fiddling around with Jupyter and visualization methods to achieve the best experience... Currently in Notebook with vim bindings and a theme - it's not perfect but at least interesting.\n",
    "For this problem, I'll attempt an immutable approach, posting the state (possibly `partial`) and an instruction to a function to perform operations. Let's see!"
   ]
  },
  {
   "cell_type": "code",
   "execution_count": 4,
   "metadata": {
    "ExecuteTime": {
     "end_time": "2022-11-26T10:27:11.521331Z",
     "start_time": "2022-11-26T10:27:11.378887Z"
    }
   },
   "outputs": [],
   "source": [
    "testdata = \"\"\"inc a\n",
    "jio a, +2\n",
    "tpl a\n",
    "inc a\"\"\".splitlines()\n",
    "\n",
    "inputdata = downloaded['input'].splitlines()"
   ]
  },
  {
   "cell_type": "code",
   "execution_count": 5,
   "metadata": {
    "ExecuteTime": {
     "end_time": "2022-11-26T10:27:11.662983Z",
     "start_time": "2022-11-26T10:27:11.522870Z"
    }
   },
   "outputs": [],
   "source": [
    "from typing import Dict\n",
    "from functools import partial\n",
    "\n",
    "\n",
    "State = Dict[str, int]\n",
    "\n",
    "\n",
    "# hlf r sets register r to half its current value, then continues with\n",
    "# the next instruction.\n",
    "def instruction_hlf(state: State, operator: str) -> State:\n",
    "    state[operator] //= 2\n",
    "    return state\n",
    "\n",
    "\n",
    "# tpl r sets register r to triple its current value, then continues\n",
    "# with the next instruction.\n",
    "def instruction_tpl(state: State, operator: str) -> State:\n",
    "    state[operator] *= 3\n",
    "    return state\n",
    "\n",
    "\n",
    "# inc r increments register r, adding 1 to it, then continues with the\n",
    "# next instruction.\n",
    "def instruction_inc(state: State, operator: str) -> State:\n",
    "    state[operator] += 1\n",
    "    return state\n",
    "\n",
    "\n",
    "# jmp offset is a jump; it continues with the instruction offset away\n",
    "# relative to itself.\n",
    "def instruction_jmp(state: State, operator: str) -> State:\n",
    "    state[\"PC\"] += int(operator) - 1\n",
    "    return state\n",
    "\n",
    "\n",
    "# jie r, offset is like jmp, but only jumps if register r is even\n",
    "# (\"jump if even\").\n",
    "def instruction_jie(state: State, operator: str) -> State:\n",
    "    register, offset = operator.split(', ', 1)\n",
    "    if state[register] % 2 == 0:\n",
    "        state[\"PC\"] += int(offset) - 1\n",
    "    return state\n",
    "\n",
    "\n",
    "# jio r, offset is like jmp, but only jumps if register r is 1\n",
    "# (\"jump if one\", not odd).\n",
    "def instruction_jio(state: State, operator: str) -> State:\n",
    "    register, offset = operator.split(', ', 1)\n",
    "    if state[register] == 1:\n",
    "        state[\"PC\"] += int(offset) - 1\n",
    "    return state\n",
    "\n",
    "\n",
    "# All three jump instructions work with an offset relative to that\n",
    "# instruction. The offset is always written with a prefix + or - to\n",
    "# indicate the direction of the jump (forward or backward, respectively).\n",
    "# For example, jmp +1 would simply continue with the next instruction, while\n",
    "# jmp +0 would continuously jump back to itself forever.\n",
    "\n",
    "\n",
    "def instruction(state: State, data: str) -> State:\n",
    "    next_state = state.copy()\n",
    "    next_state[\"PC\"] += 1\n",
    "    instructions = {\"hlf\": instruction_hlf,\n",
    "                    \"tpl\": instruction_tpl,\n",
    "                    \"inc\": instruction_inc,\n",
    "                    \"jmp\": instruction_jmp,\n",
    "                    \"jie\": instruction_jie,\n",
    "                    \"jio\": instruction_jio}\n",
    "    inst, op = data.split(' ', 1)\n",
    "    return instructions[inst](next_state, op)"
   ]
  },
  {
   "cell_type": "code",
   "execution_count": 6,
   "metadata": {
    "ExecuteTime": {
     "end_time": "2022-11-26T10:27:11.842881Z",
     "start_time": "2022-11-26T10:27:11.665563Z"
    }
   },
   "outputs": [
    {
     "data": {
      "text/plain": [
       "{'PC': 10, 'a': 0, 'b': 0}"
      ]
     },
     "execution_count": 6,
     "metadata": {},
     "output_type": "execute_result"
    }
   ],
   "source": [
    "instruction({\"PC\": 0, \"a\": 0, \"b\": 0}, \"jie a, +10\")"
   ]
  },
  {
   "cell_type": "code",
   "execution_count": 7,
   "metadata": {
    "ExecuteTime": {
     "end_time": "2022-11-26T10:27:12.014766Z",
     "start_time": "2022-11-26T10:27:11.845412Z"
    }
   },
   "outputs": [],
   "source": [
    "from typing import List\n",
    "\n",
    "\n",
    "def run_program(program: List[str],\n",
    "                state: State = {\"PC\": 0, \"a\": 0, \"b\": 0}) -> State:\n",
    "    while state[\"PC\"] < len(program):\n",
    "        state = instruction(state, program[state[\"PC\"]])\n",
    "    return state"
   ]
  },
  {
   "cell_type": "code",
   "execution_count": 14,
   "metadata": {
    "ExecuteTime": {
     "end_time": "2022-11-26T10:27:44.562272Z",
     "start_time": "2022-11-26T10:27:44.053822Z"
    }
   },
   "outputs": [
    {
     "data": {
      "text/plain": [
       "2"
      ]
     },
     "execution_count": 14,
     "metadata": {},
     "output_type": "execute_result"
    }
   ],
   "source": [
    "run_program(testdata)[\"a\"]"
   ]
  },
  {
   "cell_type": "code",
   "execution_count": 9,
   "metadata": {
    "ExecuteTime": {
     "end_time": "2022-11-26T10:27:12.365510Z",
     "start_time": "2022-11-26T10:27:12.181801Z"
    }
   },
   "outputs": [
    {
     "data": {
      "text/plain": [
       "170"
      ]
     },
     "execution_count": 9,
     "metadata": {},
     "output_type": "execute_result"
    }
   ],
   "source": [
    "run_program(inputdata)[\"b\"]"
   ]
  },
  {
   "cell_type": "code",
   "execution_count": 10,
   "metadata": {
    "ExecuteTime": {
     "end_time": "2022-11-26T10:27:12.580312Z",
     "start_time": "2022-11-26T10:27:12.367886Z"
    }
   },
   "outputs": [
    {
     "name": "stderr",
     "output_type": "stream",
     "text": [
      "<cell>1: error: Name \"HTML\" is not defined\n"
     ]
    },
    {
     "data": {
      "text/html": [
       "\n",
       "<p>Your puzzle answer was <code>170</code>.</p>"
      ],
      "text/plain": [
       "<IPython.core.display.HTML object>"
      ]
     },
     "execution_count": 10,
     "metadata": {},
     "output_type": "execute_result"
    }
   ],
   "source": [
    "HTML(downloaded['part1_footer'])"
   ]
  },
  {
   "cell_type": "markdown",
   "metadata": {},
   "source": [
    "## Part Two"
   ]
  },
  {
   "cell_type": "code",
   "execution_count": 11,
   "metadata": {
    "ExecuteTime": {
     "end_time": "2022-11-26T10:27:12.740809Z",
     "start_time": "2022-11-26T10:27:12.582693Z"
    }
   },
   "outputs": [
    {
     "name": "stderr",
     "output_type": "stream",
     "text": [
      "<cell>1: error: Name \"HTML\" is not defined\n"
     ]
    },
    {
     "data": {
      "text/html": [
       "<h2 id=\"part2\">--- Part Two ---</h2><p>The unknown benefactor is <em>very</em> thankful for releasi-- er, helping little Jane Marie with her computer.  Definitely not to distract you, what is the value in register <code>b</code> after the program is finished executing if register <code>a</code> starts as <code>1</code> instead?</p>\n"
      ],
      "text/plain": [
       "<IPython.core.display.HTML object>"
      ]
     },
     "execution_count": 11,
     "metadata": {},
     "output_type": "execute_result"
    }
   ],
   "source": [
    "HTML(downloaded['part2'])"
   ]
  },
  {
   "cell_type": "code",
   "execution_count": 15,
   "metadata": {
    "ExecuteTime": {
     "end_time": "2022-11-26T10:28:01.675711Z",
     "start_time": "2022-11-26T10:28:01.213200Z"
    }
   },
   "outputs": [
    {
     "data": {
      "text/plain": [
       "247"
      ]
     },
     "execution_count": 15,
     "metadata": {},
     "output_type": "execute_result"
    }
   ],
   "source": [
    "run_program(inputdata, state={\"PC\": 0, \"a\": 1, \"b\": 0})[\"b\"]"
   ]
  },
  {
   "cell_type": "code",
   "execution_count": 13,
   "metadata": {
    "ExecuteTime": {
     "end_time": "2022-11-26T10:27:13.059905Z",
     "start_time": "2022-11-26T10:27:12.892406Z"
    }
   },
   "outputs": [
    {
     "name": "stderr",
     "output_type": "stream",
     "text": [
      "<cell>1: error: Name \"HTML\" is not defined\n"
     ]
    },
    {
     "data": {
      "text/html": [
       "\n",
       "<p>Your puzzle answer was <code>247</code>.</p><p class=\"day-success\">Both parts of this puzzle are complete! They provide two gold stars: **</p>\n",
       "<p>At this point, you should <a href=\"/2015\">return to your Advent calendar</a> and try another puzzle.</p>\n",
       "<p>If you still want to see it, you can <a href=\"23/input\" target=\"_blank\">get your puzzle input</a>.</p>\n",
       "<p>You can also <span class=\"share\">[Share<span class=\"share-content\">on\n",
       "  <a href=\"https://twitter.com/intent/tweet?text=I%27ve+completed+%22Opening+the+Turing+Lock%22+%2D+Day+23+%2D+Advent+of+Code+2015&amp;url=https%3A%2F%2Fadventofcode%2Ecom%2F2015%2Fday%2F23&amp;related=ericwastl&amp;hashtags=AdventOfCode\" target=\"_blank\">Twitter</a>\n",
       "  <a href=\"javascript:void(0);\" onclick=\"var mastodon_instance=prompt('Mastodon Instance / Server Name?'); if(typeof mastodon_instance==='string' && mastodon_instance.length){this.href='https://'+mastodon_instance+'/share?text=I%27ve+completed+%22Opening+the+Turing+Lock%22+%2D+Day+23+%2D+Advent+of+Code+2015+%23AdventOfCode+https%3A%2F%2Fadventofcode%2Ecom%2F2015%2Fday%2F23'}else{return false;}\" target=\"_blank\">Mastodon</a\n",
       "></span>]</span> this puzzle.</p>\n"
      ],
      "text/plain": [
       "<IPython.core.display.HTML object>"
      ]
     },
     "execution_count": 13,
     "metadata": {},
     "output_type": "execute_result"
    }
   ],
   "source": [
    "HTML(downloaded['part2_footer'])"
   ]
  }
 ],
 "metadata": {
  "interpreter": {
   "hash": "a810c47e9f862a52cb82220367a790c918f0c4e70fa43ccbcf1a78b131f3592d"
  },
  "kernelspec": {
   "display_name": "Python 3 (ipykernel)",
   "language": "python",
   "name": "python3"
  },
  "language_info": {
   "codemirror_mode": {
    "name": "ipython",
    "version": 3
   },
   "file_extension": ".py",
   "mimetype": "text/x-python",
   "name": "python",
   "nbconvert_exporter": "python",
   "pygments_lexer": "ipython3",
   "version": "3.10.6"
  },
  "metadata": {
   "interpreter": {
    "hash": "31f2aee4e71d21fbe5cf8b01ff0e069b9275f58929596ceb00d14d90e3e16cd6"
   }
  },
  "varInspector": {
   "cols": {
    "lenName": 16,
    "lenType": 16,
    "lenVar": 40
   },
   "kernels_config": {
    "python": {
     "delete_cmd_postfix": "",
     "delete_cmd_prefix": "del ",
     "library": "var_list.py",
     "varRefreshCmd": "print(var_dic_list())"
    },
    "r": {
     "delete_cmd_postfix": ") ",
     "delete_cmd_prefix": "rm(",
     "library": "var_list.r",
     "varRefreshCmd": "cat(var_dic_list()) "
    }
   },
   "types_to_exclude": [
    "module",
    "function",
    "builtin_function_or_method",
    "instance",
    "_Feature"
   ],
   "window_display": false
  }
 },
 "nbformat": 4,
 "nbformat_minor": 2
}

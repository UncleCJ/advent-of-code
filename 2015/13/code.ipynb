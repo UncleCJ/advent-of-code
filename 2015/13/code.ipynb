{
 "cells": [
  {
   "cell_type": "markdown",
   "metadata": {},
   "source": [
    "# Day 13: Knights of the Dinner Table\n",
    "\n",
    "[*Advent of Code 2015 day 13*](https://adventofcode.com/2015/day/13) and [*solution megathread*](https://www.reddit.com/3wm0oy)\n",
    "\n",
    "[![nbviewer](https://raw.githubusercontent.com/jupyter/design/master/logos/Badges/nbviewer_badge.svg)](https://nbviewer.jupyter.org/github/UncleCJ/advent-of-code/blob/cj/2015/13/code.ipynb) [![Binder](https://mybinder.org/badge_logo.svg)](https://mybinder.org/v2/gh/UncleCJ/advent-of-code/cj?filepath=2015%2F13%2Fcode.ipynb)"
   ]
  },
  {
   "cell_type": "code",
   "execution_count": 1,
   "metadata": {},
   "outputs": [
    {
     "name": "stdout",
     "output_type": "stream",
     "text": [
      "Writing 'downloaded' (dict) to file 'downloaded'.\n"
     ]
    }
   ],
   "source": [
    "from IPython.display import HTML\n",
    "import sys\n",
    "sys.path.append('../../')\n",
    "import common\n",
    "\n",
    "downloaded = common.refresh()\n",
    "%store downloaded >downloaded"
   ]
  },
  {
   "cell_type": "markdown",
   "metadata": {},
   "source": [
    "## Part One"
   ]
  },
  {
   "cell_type": "code",
   "execution_count": 2,
   "metadata": {},
   "outputs": [
    {
     "data": {
      "text/html": [
       "<h2>--- Day 13: Knights of the Dinner Table ---</h2><p>In years past, the holiday feast with your family hasn't gone so well.  Not everyone gets along!  This year, you resolve, will be different.  You're going to find the <em>optimal seating arrangement</em> and avoid all those awkward conversations.</p>\n",
       "<p>You start by writing up a list of everyone invited and the amount their happiness would increase or decrease if they were to find themselves sitting next to each other person.  You have a circular table that will be just big enough to fit everyone comfortably, and so each person will have exactly two neighbors.</p>\n",
       "<p>For example, suppose you have only four attendees planned, and you <span title=\"Finding a method to calculate happiness units is left as an exercise for the reader.\">calculate</span> their potential happiness as follows:</p>\n",
       "<pre><code>Alice would gain 54 happiness units by sitting next to Bob.\n",
       "Alice would lose 79 happiness units by sitting next to Carol.\n",
       "Alice would lose 2 happiness units by sitting next to David.\n",
       "Bob would gain 83 happiness units by sitting next to Alice.\n",
       "Bob would lose 7 happiness units by sitting next to Carol.\n",
       "Bob would lose 63 happiness units by sitting next to David.\n",
       "Carol would lose 62 happiness units by sitting next to Alice.\n",
       "Carol would gain 60 happiness units by sitting next to Bob.\n",
       "Carol would gain 55 happiness units by sitting next to David.\n",
       "David would gain 46 happiness units by sitting next to Alice.\n",
       "David would lose 7 happiness units by sitting next to Bob.\n",
       "David would gain 41 happiness units by sitting next to Carol.\n",
       "</code></pre>\n",
       "<p>Then, if you seat Alice next to David, Alice would lose <code>2</code> happiness units (because David talks so much), but David would gain <code>46</code> happiness units (because Alice is such a good listener), for a total change of <code>44</code>.</p>\n",
       "<p>If you continue around the table, you could then seat Bob next to Alice (Bob gains <code>83</code>, Alice gains <code>54</code>).  Finally, seat Carol, who sits next to Bob (Carol gains <code>60</code>, Bob loses <code>7</code>) and David (Carol gains <code>55</code>, David gains <code>41</code>).  The arrangement looks like this:</p>\n",
       "<pre><code>     +41 +46\n",
       "+55   David    -2\n",
       "Carol       Alice\n",
       "+60    Bob    +54\n",
       "     -7  +83\n",
       "</code></pre>\n",
       "<p>After trying every other seating arrangement in this hypothetical scenario, you find that this one is the most optimal, with a total change in happiness of <code>330</code>.</p>\n",
       "<p>What is the <em>total change in happiness</em> for the optimal seating arrangement of the actual guest list?</p>\n"
      ],
      "text/plain": [
       "<IPython.core.display.HTML object>"
      ]
     },
     "execution_count": 2,
     "metadata": {},
     "output_type": "execute_result"
    }
   ],
   "source": [
    "HTML(downloaded['part1'])"
   ]
  },
  {
   "cell_type": "markdown",
   "metadata": {},
   "source": [
    "## Boilerplate\n",
    "\n",
    "Let's try using [pycodestyle_magic](https://github.com/mattijn/pycodestyle_magic) with pycodestyle (flake8 stopped working for me in VS Code Jupyter). Now how does type checking work?"
   ]
  },
  {
   "cell_type": "code",
   "execution_count": 3,
   "metadata": {},
   "outputs": [],
   "source": [
    "%load_ext pycodestyle_magic"
   ]
  },
  {
   "cell_type": "code",
   "execution_count": 4,
   "metadata": {},
   "outputs": [],
   "source": [
    "%pycodestyle_on"
   ]
  },
  {
   "cell_type": "markdown",
   "metadata": {},
   "source": [
    "## Comments\n",
    "\n",
    "I didn't entirely feel like going at this - but considering I saw in the solution megathread that brute force pretty much was the only option, perhaps I can do it as well as anyone?"
   ]
  },
  {
   "cell_type": "code",
   "execution_count": 5,
   "metadata": {},
   "outputs": [],
   "source": [
    "testdata = \"\"\"Alice would gain 54 happiness units by sitting next to Bob.\n",
    "Alice would lose 79 happiness units by sitting next to Carol.\n",
    "Alice would lose 2 happiness units by sitting next to David.\n",
    "Bob would gain 83 happiness units by sitting next to Alice.\n",
    "Bob would lose 7 happiness units by sitting next to Carol.\n",
    "Bob would lose 63 happiness units by sitting next to David.\n",
    "Carol would lose 62 happiness units by sitting next to Alice.\n",
    "Carol would gain 60 happiness units by sitting next to Bob.\n",
    "Carol would gain 55 happiness units by sitting next to David.\n",
    "David would gain 46 happiness units by sitting next to Alice.\n",
    "David would lose 7 happiness units by sitting next to Bob.\n",
    "David would gain 41 happiness units by sitting next to Carol.\"\"\"\n",
    "\n",
    "inputdata = downloaded['input']"
   ]
  },
  {
   "cell_type": "code",
   "execution_count": 6,
   "metadata": {
    "scrolled": true
   },
   "outputs": [
    {
     "name": "stdout",
     "output_type": "stream",
     "text": [
      "Alice would gain 2 happiness units by sitting next to Bob.\n",
      "Alice would gain 26 happiness units by sitting next to Carol.\n",
      "Alice would lose 82 happiness units by sitting next to David.\n",
      "Alice would lose ...\n"
     ]
    }
   ],
   "source": [
    "print(f'{inputdata[:200]}...')"
   ]
  },
  {
   "cell_type": "code",
   "execution_count": 7,
   "metadata": {},
   "outputs": [],
   "source": [
    "import re\n",
    "\n",
    "\n",
    "def mangle_preference(pref):\n",
    "    return (pref['from'],\n",
    "            pref['to'],\n",
    "            int(pref['value']) * (-1 if pref['sign'] == 'lose' else 1))\n",
    "\n",
    "\n",
    "def parse_data(data: str):\n",
    "    output = []\n",
    "    pattern = re.compile(\n",
    "        r'^(?P<from>\\w+) would (?P<sign>gain|lose) (?P<value>\\d+) ' +\n",
    "        r'happiness units by sitting next to (?P<to>\\w+)\\.$')\n",
    "    for line in data.splitlines():\n",
    "        matches = pattern.match(line)\n",
    "        output.append(\n",
    "            mangle_preference(\n",
    "                matches.groupdict()))\n",
    "    return output"
   ]
  },
  {
   "cell_type": "code",
   "execution_count": 8,
   "metadata": {
    "scrolled": true
   },
   "outputs": [
    {
     "data": {
      "text/plain": [
       "[('Alice', 'Bob', 54),\n",
       " ('Alice', 'Carol', -79),\n",
       " ('Alice', 'David', -2),\n",
       " ('Bob', 'Alice', 83),\n",
       " ('Bob', 'Carol', -7),\n",
       " ('Bob', 'David', -63),\n",
       " ('Carol', 'Alice', -62),\n",
       " ('Carol', 'Bob', 60),\n",
       " ('Carol', 'David', 55),\n",
       " ('David', 'Alice', 46),\n",
       " ('David', 'Bob', -7),\n",
       " ('David', 'Carol', 41)]"
      ]
     },
     "execution_count": 8,
     "metadata": {},
     "output_type": "execute_result"
    }
   ],
   "source": [
    "parse_data(testdata)"
   ]
  },
  {
   "cell_type": "code",
   "execution_count": 9,
   "metadata": {},
   "outputs": [],
   "source": [
    "def pivot_preferences(prefs):\n",
    "    output = {}\n",
    "    for f, t, v in prefs:\n",
    "        if f in output.keys():\n",
    "            output[f][t] = v\n",
    "        else:\n",
    "            output[f] = {t: v}\n",
    "    return output"
   ]
  },
  {
   "cell_type": "code",
   "execution_count": 10,
   "metadata": {
    "scrolled": true
   },
   "outputs": [
    {
     "name": "stdout",
     "output_type": "stream",
     "text": [
      "{'Alice': {'Bob': 54, 'Carol': -79, 'David': -2}, 'Bob': {'Alice': 83, 'Carol': -7, 'David': -63}, 'Carol': {'Alice': -62, 'Bob': 60, 'David': 55}, 'David': {'Alice': 46, 'Bob': -7, 'Carol': 41}}\n"
     ]
    }
   ],
   "source": [
    "prefs = pivot_preferences(parse_data(testdata))\n",
    "print(prefs)"
   ]
  },
  {
   "cell_type": "markdown",
   "metadata": {},
   "source": [
    "Around here, I'm reminded both numpy and itertools probably are great to learn, but I'll be fine...? _(No, I wasn't...)_"
   ]
  },
  {
   "cell_type": "code",
   "execution_count": 11,
   "metadata": {},
   "outputs": [],
   "source": [
    "def evaluate_seating(seating, prefs):\n",
    "    happiness = 0\n",
    "    for i, s in enumerate(seating):\n",
    "        if i == 0:\n",
    "            right = seating[-1]\n",
    "        else:\n",
    "            right = seating[i - 1]\n",
    "\n",
    "        if i == len(seating) - 1:\n",
    "            left = seating[0]\n",
    "        else:\n",
    "            left = seating[i + 1]\n",
    "\n",
    "        for n in left, right:\n",
    "            happiness += prefs[s][n]\n",
    "    return happiness"
   ]
  },
  {
   "cell_type": "code",
   "execution_count": 12,
   "metadata": {},
   "outputs": [
    {
     "data": {
      "text/plain": [
       "330"
      ]
     },
     "execution_count": 12,
     "metadata": {},
     "output_type": "execute_result"
    }
   ],
   "source": [
    "evaluate_seating(list(prefs.keys()), prefs)"
   ]
  },
  {
   "cell_type": "code",
   "execution_count": 13,
   "metadata": {},
   "outputs": [],
   "source": [
    "from typing import Tuple\n",
    "\n",
    "\n",
    "def optimal_seating(\n",
    "        assigned_seats,\n",
    "        remaining_seats,\n",
    "        prefs,\n",
    "        debug=False) -> Tuple[list, int]:\n",
    "    if debug:\n",
    "        print(f'{assigned_seats=}, {remaining_seats=}')\n",
    "    if len(remaining_seats) == 1:\n",
    "        assigned_seats_n = assigned_seats + [remaining_seats[0]]\n",
    "        happiness = evaluate_seating(assigned_seats_n, prefs)\n",
    "        if debug:\n",
    "            print(f'{assigned_seats_n=} evaluate to {happiness=}')\n",
    "        return (\n",
    "            assigned_seats_n,\n",
    "            happiness)\n",
    "    elif len(remaining_seats) == 2:\n",
    "        pick_next = optimal_seating(\n",
    "            assigned_seats + [remaining_seats[1]],\n",
    "            [remaining_seats[0]],\n",
    "            prefs,\n",
    "            debug)\n",
    "        pick_this = optimal_seating(\n",
    "            assigned_seats + [remaining_seats[0]],\n",
    "            [remaining_seats[1]],\n",
    "            prefs,\n",
    "            debug)\n",
    "    else:\n",
    "        pick_next = optimal_seating(\n",
    "            assigned_seats + [remaining_seats[1]],\n",
    "            [remaining_seats[0]] + remaining_seats[2:],\n",
    "            prefs,\n",
    "            debug)\n",
    "        pick_this = optimal_seating(\n",
    "            assigned_seats + [remaining_seats[0]],\n",
    "            remaining_seats[1:],\n",
    "            prefs,\n",
    "            debug)\n",
    "\n",
    "    if pick_next[1] > pick_this[1]:\n",
    "        return pick_next\n",
    "    else:\n",
    "        return pick_this"
   ]
  },
  {
   "cell_type": "code",
   "execution_count": 14,
   "metadata": {
    "scrolled": true
   },
   "outputs": [
    {
     "name": "stdout",
     "output_type": "stream",
     "text": [
      "assigned_seats=[], remaining_seats=['Alice', 'Bob', 'Carol', 'David']\n",
      "assigned_seats=['Bob'], remaining_seats=['Alice', 'Carol', 'David']\n",
      "assigned_seats=['Bob', 'Carol'], remaining_seats=['Alice', 'David']\n",
      "assigned_seats=['Bob', 'Carol', 'David'], remaining_seats=['Alice']\n",
      "assigned_seats_n=['Bob', 'Carol', 'David', 'Alice'] evaluate to happiness=330\n",
      "assigned_seats=['Bob', 'Carol', 'Alice'], remaining_seats=['David']\n",
      "assigned_seats_n=['Bob', 'Carol', 'Alice', 'David'] evaluate to happiness=-114\n",
      "assigned_seats=['Bob', 'Alice'], remaining_seats=['Carol', 'David']\n",
      "assigned_seats=['Bob', 'Alice', 'David'], remaining_seats=['Carol']\n",
      "assigned_seats_n=['Bob', 'Alice', 'David', 'Carol'] evaluate to happiness=330\n",
      "assigned_seats=['Bob', 'Alice', 'Carol'], remaining_seats=['David']\n",
      "assigned_seats_n=['Bob', 'Alice', 'Carol', 'David'] evaluate to happiness=22\n",
      "assigned_seats=['Alice'], remaining_seats=['Bob', 'Carol', 'David']\n",
      "assigned_seats=['Alice', 'Carol'], remaining_seats=['Bob', 'David']\n",
      "assigned_seats=['Alice', 'Carol', 'David'], remaining_seats=['Bob']\n",
      "assigned_seats_n=['Alice', 'Carol', 'David', 'Bob'] evaluate to happiness=22\n",
      "assigned_seats=['Alice', 'Carol', 'Bob'], remaining_seats=['David']\n",
      "assigned_seats_n=['Alice', 'Carol', 'Bob', 'David'] evaluate to happiness=-114\n",
      "assigned_seats=['Alice', 'Bob'], remaining_seats=['Carol', 'David']\n",
      "assigned_seats=['Alice', 'Bob', 'David'], remaining_seats=['Carol']\n",
      "assigned_seats_n=['Alice', 'Bob', 'David', 'Carol'] evaluate to happiness=22\n",
      "assigned_seats=['Alice', 'Bob', 'Carol'], remaining_seats=['David']\n",
      "assigned_seats_n=['Alice', 'Bob', 'Carol', 'David'] evaluate to happiness=330\n"
     ]
    },
    {
     "data": {
      "text/plain": [
       "(['Alice', 'Bob', 'Carol', 'David'], 330)"
      ]
     },
     "execution_count": 14,
     "metadata": {},
     "output_type": "execute_result"
    }
   ],
   "source": [
    "optimal_seating([], list(prefs.keys()), prefs, True)"
   ]
  },
  {
   "cell_type": "code",
   "execution_count": 15,
   "metadata": {},
   "outputs": [],
   "source": [
    "def my_part1_solution(data, debug=False):\n",
    "    prefs = pivot_preferences(\n",
    "        parse_data(\n",
    "            data))\n",
    "    return optimal_seating(\n",
    "        [],\n",
    "        list(prefs.keys()),\n",
    "        prefs,\n",
    "        debug)"
   ]
  },
  {
   "cell_type": "code",
   "execution_count": 16,
   "metadata": {},
   "outputs": [
    {
     "name": "stdout",
     "output_type": "stream",
     "text": [
      "assigned_seats=[], remaining_seats=['Alice', 'Bob', 'Carol', 'David']\n",
      "assigned_seats=['Bob'], remaining_seats=['Alice', 'Carol', 'David']\n",
      "assigned_seats=['Bob', 'Carol'], remaining_seats=['Alice', 'David']\n",
      "assigned_seats=['Bob', 'Carol', 'David'], remaining_seats=['Alice']\n",
      "assigned_seats_n=['Bob', 'Carol', 'David', 'Alice'] evaluate to happiness=330\n",
      "assigned_seats=['Bob', 'Carol', 'Alice'], remaining_seats=['David']\n",
      "assigned_seats_n=['Bob', 'Carol', 'Alice', 'David'] evaluate to happiness=-114\n",
      "assigned_seats=['Bob', 'Alice'], remaining_seats=['Carol', 'David']\n",
      "assigned_seats=['Bob', 'Alice', 'David'], remaining_seats=['Carol']\n",
      "assigned_seats_n=['Bob', 'Alice', 'David', 'Carol'] evaluate to happiness=330\n",
      "assigned_seats=['Bob', 'Alice', 'Carol'], remaining_seats=['David']\n",
      "assigned_seats_n=['Bob', 'Alice', 'Carol', 'David'] evaluate to happiness=22\n",
      "assigned_seats=['Alice'], remaining_seats=['Bob', 'Carol', 'David']\n",
      "assigned_seats=['Alice', 'Carol'], remaining_seats=['Bob', 'David']\n",
      "assigned_seats=['Alice', 'Carol', 'David'], remaining_seats=['Bob']\n",
      "assigned_seats_n=['Alice', 'Carol', 'David', 'Bob'] evaluate to happiness=22\n",
      "assigned_seats=['Alice', 'Carol', 'Bob'], remaining_seats=['David']\n",
      "assigned_seats_n=['Alice', 'Carol', 'Bob', 'David'] evaluate to happiness=-114\n",
      "assigned_seats=['Alice', 'Bob'], remaining_seats=['Carol', 'David']\n",
      "assigned_seats=['Alice', 'Bob', 'David'], remaining_seats=['Carol']\n",
      "assigned_seats_n=['Alice', 'Bob', 'David', 'Carol'] evaluate to happiness=22\n",
      "assigned_seats=['Alice', 'Bob', 'Carol'], remaining_seats=['David']\n",
      "assigned_seats_n=['Alice', 'Bob', 'Carol', 'David'] evaluate to happiness=330\n",
      "['Alice', 'Bob', 'Carol', 'David']\n"
     ]
    }
   ],
   "source": [
    "seating, happiness = my_part1_solution(testdata, True)\n",
    "assert happiness == 330\n",
    "print(seating)"
   ]
  },
  {
   "cell_type": "code",
   "execution_count": 17,
   "metadata": {},
   "outputs": [
    {
     "data": {
      "text/plain": [
       "(['Alice', 'Bob', 'David', 'Eric', 'Carol', 'Frank', 'George', 'Mallory'], 483)"
      ]
     },
     "execution_count": 17,
     "metadata": {},
     "output_type": "execute_result"
    }
   ],
   "source": [
    "my_part1_solution(inputdata, False)"
   ]
  },
  {
   "cell_type": "markdown",
   "metadata": {},
   "source": [
    "Ok... `483` is indeed the highest happiness I find, but there supposedly exist a better solution."
   ]
  },
  {
   "cell_type": "code",
   "execution_count": 18,
   "metadata": {},
   "outputs": [],
   "source": [
    "from itertools import permutations\n",
    "from math import inf\n",
    "\n",
    "\n",
    "def my_part1_solution_itertools(data, debug=False):\n",
    "    prefs = pivot_preferences(\n",
    "        parse_data(\n",
    "            data))\n",
    "    seating_best = []\n",
    "    happiness_best = -inf\n",
    "    for seating in permutations(list(prefs.keys())):\n",
    "        happiness_this = evaluate_seating(seating, prefs)\n",
    "        if happiness_this > happiness_best:\n",
    "            seating_best = seating\n",
    "            happiness_best = happiness_this\n",
    "    return seating_best, happiness_best"
   ]
  },
  {
   "cell_type": "code",
   "execution_count": 19,
   "metadata": {
    "scrolled": true
   },
   "outputs": [
    {
     "name": "stdout",
     "output_type": "stream",
     "text": [
      "('Alice', 'Bob', 'Carol', 'David')\n"
     ]
    }
   ],
   "source": [
    "seating, happiness = my_part1_solution_itertools(testdata, True)\n",
    "assert happiness == 330\n",
    "print(seating)"
   ]
  },
  {
   "cell_type": "code",
   "execution_count": 20,
   "metadata": {},
   "outputs": [
    {
     "name": "stdout",
     "output_type": "stream",
     "text": [
      "seating=('Alice', 'Bob', 'Frank', 'Carol', 'Eric', 'David', 'George', 'Mallory'), happiness=733\n"
     ]
    }
   ],
   "source": [
    "seating, happiness = my_part1_solution_itertools(inputdata, True)\n",
    "print(f'{seating=}, {happiness=}')"
   ]
  },
  {
   "cell_type": "code",
   "execution_count": 21,
   "metadata": {
    "scrolled": true
   },
   "outputs": [
    {
     "data": {
      "text/html": [
       "\n",
       "<p>Your puzzle answer was <code>733</code>.</p>"
      ],
      "text/plain": [
       "<IPython.core.display.HTML object>"
      ]
     },
     "execution_count": 21,
     "metadata": {},
     "output_type": "execute_result"
    }
   ],
   "source": [
    "HTML(downloaded['part1_footer'])"
   ]
  },
  {
   "cell_type": "markdown",
   "metadata": {},
   "source": [
    "## Part Two"
   ]
  },
  {
   "cell_type": "code",
   "execution_count": 22,
   "metadata": {},
   "outputs": [
    {
     "data": {
      "text/html": [
       "<h2 id=\"part2\">--- Part Two ---</h2><p>In all the commotion, you realize that you forgot to seat yourself.  At this point, you're pretty apathetic toward the whole thing, and your happiness wouldn't really go up or down regardless of who you sit next to.  You assume everyone else would be just as ambivalent about sitting next to you, too.</p>\n",
       "<p>So, add yourself to the list, and give all happiness relationships that involve you a score of <code>0</code>.</p>\n",
       "<p>What is the <em>total change in happiness</em> for the optimal seating arrangement that actually includes yourself?</p>\n"
      ],
      "text/plain": [
       "<IPython.core.display.HTML object>"
      ]
     },
     "execution_count": 22,
     "metadata": {},
     "output_type": "execute_result"
    }
   ],
   "source": [
    "HTML(downloaded['part2'])"
   ]
  },
  {
   "cell_type": "code",
   "execution_count": 23,
   "metadata": {},
   "outputs": [],
   "source": [
    "def evaluate_seating_including_me(seating, prefs):\n",
    "    happiness = 0\n",
    "    for i, s in enumerate(seating):\n",
    "        if s == 'Me':\n",
    "            continue\n",
    "\n",
    "        if i == 0:\n",
    "            right = seating[-1]\n",
    "        else:\n",
    "            right = seating[i - 1]\n",
    "\n",
    "        if i == len(seating) - 1:\n",
    "            left = seating[0]\n",
    "        else:\n",
    "            left = seating[i + 1]\n",
    "\n",
    "        for n in left, right:\n",
    "            if n != 'Me':\n",
    "                happiness += prefs[s][n]\n",
    "    return happiness\n",
    "\n",
    "\n",
    "def my_part2_solution(data, debug=False):\n",
    "    prefs = pivot_preferences(\n",
    "        parse_data(\n",
    "            data))\n",
    "    seating_best = []\n",
    "    happiness_best = -inf\n",
    "    for seating in permutations(['Me'] + list(prefs.keys())):\n",
    "        happiness_this = evaluate_seating_including_me(seating, prefs)\n",
    "        if happiness_this > happiness_best:\n",
    "            if debug:\n",
    "                print(f'{happiness_this=}')\n",
    "            seating_best = seating\n",
    "            happiness_best = happiness_this\n",
    "    return seating_best, happiness_best"
   ]
  },
  {
   "cell_type": "code",
   "execution_count": 24,
   "metadata": {
    "scrolled": true
   },
   "outputs": [
    {
     "name": "stdout",
     "output_type": "stream",
     "text": [
      "seating_w_me=('Me', 'George', 'David', 'Eric', 'Carol', 'Frank', 'Bob', 'Alice', 'Mallory'), happiness_w_me=725\n",
      "8\n"
     ]
    }
   ],
   "source": [
    "seating_w_me, happiness_w_me = my_part2_solution(inputdata, False)\n",
    "print(f'{seating_w_me=}, {happiness_w_me=}')\n",
    "print(f'{abs(happiness_w_me - happiness)}')"
   ]
  },
  {
   "cell_type": "code",
   "execution_count": 25,
   "metadata": {},
   "outputs": [
    {
     "data": {
      "text/html": [
       "\n",
       "<p>Your puzzle answer was <code>725</code>.</p><p class=\"day-success\">Both parts of this puzzle are complete! They provide two gold stars: **</p>\n",
       "<p>At this point, you should <a href=\"/2015\">return to your Advent calendar</a> and try another puzzle.</p>\n",
       "<p>If you still want to see it, you can <a href=\"13/input\" target=\"_blank\">get your puzzle input</a>.</p>\n",
       "<p>You can also <span class=\"share\">[Share<span class=\"share-content\">on\n",
       "  <a href=\"https://twitter.com/intent/tweet?text=I%27ve+completed+%22Knights+of+the+Dinner+Table%22+%2D+Day+13+%2D+Advent+of+Code+2015&amp;url=https%3A%2F%2Fadventofcode%2Ecom%2F2015%2Fday%2F13&amp;related=ericwastl&amp;hashtags=AdventOfCode\" target=\"_blank\">Twitter</a>\n",
       "  <a href=\"javascript:void(0);\" onclick=\"var mastodon_instance=prompt('Mastodon Instance / Server Name?'); if(typeof mastodon_instance==='string' && mastodon_instance.length){this.href='https://'+mastodon_instance+'/share?text=I%27ve+completed+%22Knights+of+the+Dinner+Table%22+%2D+Day+13+%2D+Advent+of+Code+2015+%23AdventOfCode+https%3A%2F%2Fadventofcode%2Ecom%2F2015%2Fday%2F13'}else{return false;}\" target=\"_blank\">Mastodon</a\n",
       "></span>]</span> this puzzle.</p>\n"
      ],
      "text/plain": [
       "<IPython.core.display.HTML object>"
      ]
     },
     "execution_count": 25,
     "metadata": {},
     "output_type": "execute_result"
    }
   ],
   "source": [
    "HTML(downloaded['part2_footer'])"
   ]
  },
  {
   "cell_type": "markdown",
   "metadata": {},
   "source": [
    "Meh, that's so frustrating, a poorly phrased question?!"
   ]
  }
 ],
 "metadata": {
  "interpreter": {
   "hash": "a810c47e9f862a52cb82220367a790c918f0c4e70fa43ccbcf1a78b131f3592d"
  },
  "kernelspec": {
   "display_name": "Python 3 (ipykernel)",
   "language": "python",
   "name": "python3"
  },
  "language_info": {
   "codemirror_mode": {
    "name": "ipython",
    "version": 3
   },
   "file_extension": ".py",
   "mimetype": "text/x-python",
   "name": "python",
   "nbconvert_exporter": "python",
   "pygments_lexer": "ipython3",
   "version": "3.10.8"
  },
  "metadata": {
   "interpreter": {
    "hash": "31f2aee4e71d21fbe5cf8b01ff0e069b9275f58929596ceb00d14d90e3e16cd6"
   }
  }
 },
 "nbformat": 4,
 "nbformat_minor": 2
}
